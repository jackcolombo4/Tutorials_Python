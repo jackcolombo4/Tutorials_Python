{
 "cells": [
  {
   "cell_type": "markdown",
   "metadata": {},
   "source": [
    "<h1 style=\"color:#0B7C2F\"> Hash Tables </h1>"
   ]
  },
  {
   "cell_type": "code",
   "execution_count": 2,
   "metadata": {},
   "outputs": [],
   "source": [
    "class HashTable:\n",
    "    def __init__(self, size=100):\n",
    "        \"\"\" Constructor for HashTable class, with an optional 'size' parameter. \"\"\"\n",
    "        self.size = size                  \n",
    "        # Create a list of empty lists as the hash table data structure\n",
    "        self.table = [[] for _ in range(size)]  \n",
    "\n",
    "    def _hash(self, key):\n",
    "        \"\"\" Calculate the hash value of a 'key' (value modulo table size). \"\"\"\n",
    "        return hash(key) % self.size     \n",
    "\n",
    "    def insert(self, key, value):\n",
    "        \"\"\" Insert a key-value pair into the hash table. \"\"\"\n",
    "        # Calculate the index where the pair should be inserted\n",
    "        index = self._hash(key)           \n",
    "        # Iterate through pairs in the same index (potential collisions)\n",
    "        for pair in self.table[index]:    \n",
    "            # Update the value associated with the existing key, if the key already exists\n",
    "            if pair[0] == key:            \n",
    "                pair[1] = value           \n",
    "                return\n",
    "        # If the key does not exist, append a new pair to the index\n",
    "        self.table[index].append([key, value])  \n",
    "\n",
    "    def get(self, key):\n",
    "        \"\"\" Get the value associated with a 'key' from the hash table. \"\"\"\n",
    "        # Calculate the index where the key should be found\n",
    "        index = self._hash(key)           \n",
    "        # Iterate through pairs in the same index (potential collisions)\n",
    "        for pair in self.table[index]:    \n",
    "            # Return the associated value, if the key is found\n",
    "            if pair[0] == key:            \n",
    "                return pair[1]            \n",
    "        # If the key is not found, raise a KeyError\n",
    "        raise KeyError(f\"Key '{key}' not found\")  \n",
    "\n",
    "    def delete(self, key):\n",
    "        \"\"\" Delete a key-value pair from the hash table. \"\"\"\n",
    "        # Calculate the index where the key should be found\n",
    "        index = self._hash(key)           \n",
    "        # Iterate through pairs in the same index (potential collisions)\n",
    "        for pair in self.table[index]:    \n",
    "            # Remove the pair from the index, if the key is found\n",
    "            if pair[0] == key:            \n",
    "                self.table[index].remove(pair)  \n",
    "                return\n",
    "        # If the key is not found, raise a KeyError\n",
    "        raise KeyError(f\"Key '{key}' not found\")  \n"
   ]
  },
  {
   "cell_type": "code",
   "execution_count": 3,
   "metadata": {},
   "outputs": [
    {
     "name": "stdout",
     "output_type": "stream",
     "text": [
      "Name: John\n",
      "Age: 30\n"
     ]
    }
   ],
   "source": [
    "hash_table = HashTable()\n",
    "hash_table.insert(\"name\", \"John\")\n",
    "hash_table.insert(\"age\", 30)\n",
    "\n",
    "print(\"Name:\", hash_table.get(\"name\"))  \n",
    "print(\"Age:\", hash_table.get(\"age\"))"
   ]
  },
  {
   "cell_type": "code",
   "execution_count": 4,
   "metadata": {},
   "outputs": [
    {
     "name": "stdout",
     "output_type": "stream",
     "text": [
      "\"Key 'age' not found\"\n"
     ]
    }
   ],
   "source": [
    "\"\"\" Raise KeyError! \"\"\"\n",
    "try:\n",
    "    hash_table.delete(\"age\")\n",
    "    print(\"Age (after deletion):\", hash_table.get(\"age\"))  \n",
    "except Exception as ke:\n",
    "    print(ke)"
   ]
  }
 ],
 "metadata": {
  "kernelspec": {
   "display_name": "base",
   "language": "python",
   "name": "python3"
  },
  "language_info": {
   "codemirror_mode": {
    "name": "ipython",
    "version": 3
   },
   "file_extension": ".py",
   "mimetype": "text/x-python",
   "name": "python",
   "nbconvert_exporter": "python",
   "pygments_lexer": "ipython3",
   "version": "3.10.9"
  },
  "orig_nbformat": 4
 },
 "nbformat": 4,
 "nbformat_minor": 2
}
