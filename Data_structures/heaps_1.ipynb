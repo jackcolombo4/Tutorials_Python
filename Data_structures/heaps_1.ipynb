{
 "cells": [
  {
   "cell_type": "markdown",
   "metadata": {},
   "source": [
    "<div style=\"line-height:0.5\">\n",
    "<h1 style=\"color:#709594\"> Heaps usage </h1>\n",
    "<span style=\"display: inline-block;\">\n",
    "    <h3 style=\"color: lightblue; display: inline;\">Keywords:</h3> heapq methods: nlargest + merge + heappush + heappop + heappushpop + heapify\n",
    "</span>\n",
    "</div>"
   ]
  },
  {
   "cell_type": "code",
   "execution_count": 8,
   "metadata": {},
   "outputs": [],
   "source": [
    "from copy import copy\n",
    "import heapq\n",
    "from collections import Counter"
   ]
  },
  {
   "cell_type": "markdown",
   "metadata": {},
   "source": [
    "<h3 style=\"color:#709594\"> Example #1: Finding the K Largest Elements in a List </h3>"
   ]
  },
  {
   "cell_type": "code",
   "execution_count": 4,
   "metadata": {},
   "outputs": [
    {
     "data": {
      "text/plain": [
       "[9, 6, 5]"
      ]
     },
     "execution_count": 4,
     "metadata": {},
     "output_type": "execute_result"
    }
   ],
   "source": [
    "def k_largest_elements(nums, k):\n",
    "    return heapq.nlargest(k, nums)\n",
    "\n",
    "nums = [3, 1, 4, 1, 5, 9, 2, 6, 5, 3, 5]\n",
    "k_largest_elements(nums, 3)"
   ]
  },
  {
   "cell_type": "markdown",
   "metadata": {},
   "source": [
    "<h3 style=\"color:#709594\"> Example #2: Merging Sorted Iterables </h3>"
   ]
  },
  {
   "cell_type": "code",
   "execution_count": 5,
   "metadata": {},
   "outputs": [
    {
     "data": {
      "text/plain": [
       "[1, 2, 3, 4, 5, 6, 7, 8]"
      ]
     },
     "execution_count": 5,
     "metadata": {},
     "output_type": "execute_result"
    }
   ],
   "source": [
    "list1 = [1, 3, 5, 7]\n",
    "list2 = [2, 4, 6, 8]\n",
    "merged_list = list(heapq.merge(list1, list2))\n",
    "merged_list"
   ]
  },
  {
   "cell_type": "markdown",
   "metadata": {},
   "source": [
    "<h3 style=\"color:#709594\"> Example #3: Heap Sort Implementation </h3>"
   ]
  },
  {
   "cell_type": "code",
   "execution_count": 6,
   "metadata": {},
   "outputs": [
    {
     "data": {
      "text/plain": [
       "[1, 1, 2, 3, 3, 4, 5, 5, 6, 9]"
      ]
     },
     "execution_count": 6,
     "metadata": {},
     "output_type": "execute_result"
    }
   ],
   "source": [
    "def heapsort(iterable):\n",
    "    h = []\n",
    "    for value in iterable:\n",
    "        heapq.heappush(h, value)\n",
    "    return [heapq.heappop(h) for i in range(len(h))]\n",
    "\n",
    "heapsort([3, 1, 4, 1, 5, 9, 2, 6, 5, 3])"
   ]
  },
  {
   "cell_type": "markdown",
   "metadata": {},
   "source": [
    "<h4 style=\"color:#709594\"> Note: </h4>\n",
    "<div style=\"margin-top: -9px;\">\n",
    "The heapq module in Python only provides a min-heap implementation, where the smallest element is at the root of the heap.<br> \n",
    "However, there are situations where a max-heap (where the largest element is at the root) is required. <br> \n",
    "By negating the values (using -), we effectively invert the order, turning the min-heap into a max-heap.\n",
    "</div>"
   ]
  },
  {
   "cell_type": "markdown",
   "metadata": {},
   "source": [
    "<h3 style=\"color:#709594\"> Example #4: Implementing a Priority Queue </h3>"
   ]
  },
  {
   "cell_type": "code",
   "execution_count": 11,
   "metadata": {},
   "outputs": [
    {
     "name": "stdout",
     "output_type": "stream",
     "text": [
      "task2\n"
     ]
    }
   ],
   "source": [
    "class PriorityQueue:\n",
    "    \"\"\" \n",
    "    Since heapq creates a min-heap, the NEGATIVE -priority is used to ensure that an item with a higher priority (a larger number)\\\\ \n",
    "    is treated as smaller in the heap's ordering, and thus comes out first.\\\\ \n",
    "    It's a way to implement a priority queue where items with higher priorities are processed before those with lower priorities.\n",
    "    \"\"\"\n",
    "    def __init__(self):\n",
    "        self._queue = []\n",
    "        self._index = 0\n",
    "\n",
    "    def push(self, item, priority):\n",
    "        heapq.heappush(self._queue, (-priority, self._index, item))\n",
    "        self._index += 1\n",
    "\n",
    "    def pop(self):\n",
    "        return heapq.heappop(self._queue)[-1]\n",
    "\n",
    "pq = PriorityQueue()\n",
    "pq.push('task1', 1)\n",
    "pq.push('task2', 3)\n",
    "pq.push('task3', 2)\n",
    "\n",
    "print(pq.pop())"
   ]
  },
  {
   "cell_type": "markdown",
   "metadata": {},
   "source": [
    "<h3 style=\"color:#709594\"> Example #5: Finding the K Smallest Sum Combinations </h3>\n",
    "<div style=\"margin-top: -9px;\">\n",
    "\n",
    "=> heappushpop() is the fast version of a heappush followed by a heappop.\n",
    "</div>"
   ]
  },
  {
   "cell_type": "code",
   "execution_count": 19,
   "metadata": {},
   "outputs": [
    {
     "name": "stdout",
     "output_type": "stream",
     "text": [
      "[(1, 6), (1, 2), (1, 4)]\n"
     ]
    }
   ],
   "source": [
    "def k_smallest_pairs(nums1, nums2, k):\n",
    "    \"\"\"\n",
    "    When using heappush() and heappushpop() with a list of tuples, the heap operations consider the tuples as a whole...\n",
    "    but the ordering is determined based on the first element of each tuple!!\n",
    "    \"\"\"\n",
    "    if not nums1 or not nums2:\n",
    "        # If either one of the input lists is empty, return an empty list\n",
    "        return []  \n",
    "\n",
    "    heap = []\n",
    "    for i in nums1:\n",
    "        for j in nums2:\n",
    "            if len(heap) < k: # N.B. the elements are 3 but the node is one after first j iteration!\n",
    "                # If the heap has fewer than k elements, push the negative sum (to create a max heap), along with the pair (i, j) onto the heap\n",
    "                heapq.heappush(heap, (-(i + j), i, j)) # ...pushing more than one item!\n",
    "            else:\n",
    "                # If the heap already has k elements... it is like a list of tuples!\n",
    "                if heap and -heap[0][0] > i + j:\n",
    "                    # To keep track of the pairs with the smallest sums, replace the largest sum in the heap with the current pair's sum\n",
    "                    # If the heap is not empty and the current pair's sum is smaller than the largest sum in the heap \n",
    "                    # (so, negative sign to transform it to positive!), \n",
    "                    heapq.heappushpop(heap, (-(i + j), i, j))\n",
    "                else:\n",
    "                    # If the current pair's sum is not smaller, no need to proceed further for this iteration of i, as all subsequent j's will only increase the sum\n",
    "                    break\n",
    "    # Return the extracted pairs\n",
    "    #return [x for x in heap]  \n",
    "    return [(x[1], x[2]) for x in heap]  \n",
    "\n",
    "\n",
    "nums1 = [1, 7, 11]\n",
    "nums2 = [2, 6, 4]\n",
    "print(k_smallest_pairs(nums1, nums2, 3))"
   ]
  },
  {
   "cell_type": "markdown",
   "metadata": {},
   "source": [
    "<h3 style=\"color:#709594\"> Example #6: Computing the Running Median </h3>"
   ]
  },
  {
   "cell_type": "code",
   "execution_count": 12,
   "metadata": {},
   "outputs": [
    {
     "data": {
      "text/plain": [
       "[2, 1.5, 2, 3.5, 2, 2.0, 2]"
      ]
     },
     "execution_count": 12,
     "metadata": {},
     "output_type": "execute_result"
    }
   ],
   "source": [
    "def get_running_median(stream):\n",
    "    # Initialize two heaps: min_heap for larger half, max_heap for smaller half\n",
    "    min_heap, max_heap = [], []  \n",
    "    medians = []\n",
    "    for number in stream:\n",
    "        # Push number to min_heap, then pop smallest from min_heap to max_heap\n",
    "        heapq.heappush(max_heap, -heapq.heappushpop(min_heap, number))  \n",
    "        # Ensure that min_heap always has more or equal elements than max_heap\n",
    "        if len(max_heap) > len(min_heap):  \n",
    "            heapq.heappush(min_heap, -heapq.heappop(max_heap))\n",
    "        # Calculate and append the current median\n",
    "        medians.append((min_heap[0] - max_heap[0]) / 2.0 if len(min_heap) == len(max_heap) else min_heap[0])\n",
    "    return medians\n",
    "\n",
    "stream = [2, 1, 5, 7, 2, 0, 5]\n",
    "get_running_median(stream)"
   ]
  },
  {
   "cell_type": "markdown",
   "metadata": {},
   "source": [
    "<h3 style=\"color:#709594\"> Example #7: Finding the Closest Points to the Origin </h3>"
   ]
  },
  {
   "cell_type": "code",
   "execution_count": null,
   "metadata": {},
   "outputs": [],
   "source": [
    "def k_closest_points(points, k):\n",
    "    heap = []  \n",
    "    for (x, y) in points: \n",
    "        # Calculate the negative square of the distance to make a max heap\n",
    "        dist = -(x**2 + y**2)  \n",
    "        # If the heap is at capacity (k items)\n",
    "        if len(heap) == k:  \n",
    "            # Replace the farthest point if the current point is closer\n",
    "            heapq.heappushpop(heap, (dist, x, y))  \n",
    "        else:\n",
    "            # Add the current point to the heap\n",
    "            heapq.heappush(heap, (dist, x, y))  \n",
    "    # Extract points from the heap and return them\n",
    "    return [(x,y) for (_, x, y) in heap]  "
   ]
  },
  {
   "cell_type": "markdown",
   "metadata": {},
   "source": [
    "<h3 style=\"color:#709594\"> Example #8: Finding Frequent Elements </h3>"
   ]
  },
  {
   "cell_type": "code",
   "execution_count": null,
   "metadata": {},
   "outputs": [],
   "source": [
    "def top_k_frequent(nums, k):\n",
    "    if k == len(nums):\n",
    "        # If k equals the length of nums, return nums as all elements are frequent\n",
    "        return nums  \n",
    "    # Count the frequency of each element in nums\n",
    "    count = Counter(nums)  \n",
    "    # Find the k most frequent elements based on their frequency\n",
    "    return heapq.nlargest(k, count.keys(), key=count.get)"
   ]
  },
  {
   "cell_type": "markdown",
   "metadata": {},
   "source": [
    "<h3 style=\"color:#709594\"> Example #9: Reorganizing String to Avoid Adjacent Duplicates </h3>"
   ]
  },
  {
   "cell_type": "code",
   "execution_count": 20,
   "metadata": {},
   "outputs": [
    {
     "name": "stdout",
     "output_type": "stream",
     "text": [
      "adabadas\n"
     ]
    }
   ],
   "source": [
    "def reorganize_string(s):\n",
    "    # Count the frequency of each character in the string\n",
    "    count = Counter(s)  \n",
    "    # Create a max heap (using negative counts) of characters and their frequencies\n",
    "    max_heap = [(-cnt, char) for char, cnt in count.items()]\n",
    "    # Convert the list into a heap\n",
    "    heapq.heapify(max_heap)  \n",
    "    prev_cnt, prev_char = 0, ''  \n",
    "    result = ''\n",
    "    while max_heap:\n",
    "        # Pop the most frequent character\n",
    "        cnt, char = heapq.heappop(max_heap)  \n",
    "        # Add the most frequent character to the result string\n",
    "        result += char  \n",
    "        if prev_cnt < 0:\n",
    "            # Push the previous character back onto the heap if it still has a count\n",
    "            heapq.heappush(max_heap, (prev_cnt, prev_char))  \n",
    "        # Update previous character and count\n",
    "        prev_cnt, prev_char = cnt + 1, char\n",
    "    # Return the result if it's valid. Otherwise, return an empty string\n",
    "    return result if len(result) == len(s) else \"\"\n",
    "\n",
    "s = \"aabdasda\"\n",
    "print(reorganize_string(s))"
   ]
  },
  {
   "cell_type": "markdown",
   "metadata": {},
   "source": [
    "<h3 style=\"color:#709594\"> Example #10: Given an integer array nums and an integer k, return the kth largest element in the array.\n",
    "\n",
    "Note that it is the kth largest element in the sorted order, not the kth distinct element.\n",
    "Can you solve it without sorting? </h3>"
   ]
  },
  {
   "cell_type": "code",
   "execution_count": 10,
   "metadata": {},
   "outputs": [
    {
     "data": {
      "text/plain": [
       "5"
      ]
     },
     "execution_count": 10,
     "metadata": {},
     "output_type": "execute_result"
    }
   ],
   "source": [
    "def findKthLargest(nums, k):\n",
    "    ############### solution 1: with sorting \n",
    "    # nums.sort(reverse=True)\n",
    "    # return nums[k-1]\n",
    "    ############### solution 2: with max => ~ quadratic complexity O(k * n)\n",
    "    '''\n",
    "    temp = copy(nums)\n",
    "    for _ in range(k):\n",
    "        max_el = max(temp)\n",
    "        temp.remove(max_el)\n",
    "    return max_el\n",
    "    '''\n",
    "    ############### solution 3: with heap structure =>  complexity  O(n * log(k))\n",
    "    # FIll the min_heap \n",
    "    # If heap size is greater than k, remove the smallest element\n",
    "    # The top element in the min heap is the kth largest\n",
    "    min_heap = []\n",
    "    for x in nums:\n",
    "        heapq.heappush(min_heap, x)\n",
    "        if len(min_heap) > k:\n",
    "            heapq.heappop(min_heap)\n",
    "    \n",
    "    return min_heap[0]\n",
    "\n",
    "nums = [2,3,4,5,1,6,5]\n",
    "k = 2\n",
    "res = findKthLargest(nums, k)\n",
    "res"
   ]
  }
 ],
 "metadata": {
  "kernelspec": {
   "display_name": "MLearning",
   "language": "python",
   "name": "python3"
  },
  "language_info": {
   "codemirror_mode": {
    "name": "ipython",
    "version": 3
   },
   "file_extension": ".py",
   "mimetype": "text/x-python",
   "name": "python",
   "nbconvert_exporter": "python",
   "pygments_lexer": "ipython3",
   "version": "3.10.9"
  },
  "orig_nbformat": 4
 },
 "nbformat": 4,
 "nbformat_minor": 2
}
