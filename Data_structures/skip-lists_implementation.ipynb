{
 "cells": [
  {
   "cell_type": "markdown",
   "metadata": {},
   "source": [
    "<h1 style=\"color:#3df22F\"> Skip Lists </h1>"
   ]
  },
  {
   "cell_type": "markdown",
   "metadata": {},
   "source": [
    "<h3 style=\"color:#3df22F\"> Recap: </h3>\n",
    "<div style=\"margin-top: -10px;\">\n",
    "\n",
    "Skip List is a hierarchical structure efficient search and insertion operations. (O(log n) average complexity). <br>\n",
    "Based on multiple linked lists where each element is linked to a cell of a previous list, but not necessarily the adjacent previous list. <br>\n",
    "For each list, each successive subsequence skipping over fewer elements than the previous one. <br>\n",
    "</div>"
   ]
  },
  {
   "cell_type": "code",
   "execution_count": 3,
   "metadata": {},
   "outputs": [],
   "source": [
    "import random"
   ]
  },
  {
   "cell_type": "code",
   "execution_count": 4,
   "metadata": {},
   "outputs": [],
   "source": [
    "class SkipNode:\n",
    "    def __init__(self, key, value, level):\n",
    "        self.key = key           \n",
    "        self.value = value       \n",
    "        # List to store references to next nodes at different levels\n",
    "        self.forward = [None] * (level + 1)  \n",
    "\n",
    "class SkipList:\n",
    "    def __init__(self, max_level=16, p=0.5):\n",
    "        self.max_level = max_level  \n",
    "        # Set the probability for generating random levels\n",
    "        self.p = p                 \n",
    "        # Initialize head node with dummy values\n",
    "        self.head = self._create_node(None, None, max_level) \n",
    "        # Set the current maximum level in the skip list\n",
    "        self.level = 0            \n",
    "\n",
    "    def _create_node(self, key, value, level):\n",
    "        \"\"\" Create a new SkipNode.\"\"\"\n",
    "        return SkipNode(key, value, level)\n",
    "\n",
    "    def _random_level(self):\n",
    "        \"\"\" Generate a random level for a new node. \"\"\"\n",
    "        level = 0\n",
    "        while random.random() < self.p and level < self.max_level:\n",
    "            level += 1\n",
    "        return level\n",
    "\n",
    "    def insert(self, key, value):\n",
    "        \"\"\" Insert a key-value pair into the skip list. \"\"\"\n",
    "        update = [None] * (self.max_level + 1)\n",
    "        current = self.head\n",
    "\n",
    "        #### Traverse the skip list to find the appropriate location for insertion\n",
    "        for level in range(self.level, -1, -1):\n",
    "            while current.forward[level] and current.forward[level].key < key:\n",
    "                current = current.forward[level]\n",
    "            update[level] = current\n",
    "        \n",
    "        ##### Generate a random level for the new node\n",
    "        level = self._random_level()  \n",
    "        if level > self.level:\n",
    "            for i in range(self.level + 1, level + 1):\n",
    "                update[i] = self.head\n",
    "            self.level = level\n",
    "\n",
    "        new_node = self._create_node(key, value, level) \n",
    "        for i in range(level + 1):\n",
    "            new_node.forward[i] = update[i].forward[i]\n",
    "            # Update forward references\n",
    "            update[i].forward[i] = new_node  \n",
    "\n",
    "    def search(self, key):\n",
    "        \"\"\"  Search for a value associated with a key in the skip list. \"\"\"\n",
    "        current = self.head\n",
    "        for level in range(self.level, -1, -1):\n",
    "            while current.forward[level] and current.forward[level].key < key:\n",
    "                current = current.forward[level]\n",
    "\n",
    "        if current.forward[0] and current.forward[0].key == key:\n",
    "            # Key found, return the associated value\n",
    "            return current.forward[0].value  \n",
    "        else:\n",
    "            # Key not found\n",
    "            return None  \n",
    "\n",
    "    def delete(self, key):\n",
    "        \"\"\" Delete a key-value pair from the skip list \"\"\"\n",
    "        update = [None] * (self.max_level + 1)  \n",
    "        current = self.head\n",
    "\n",
    "        #### Traverse the skip list to find the node to be deleted\n",
    "        for level in range(self.level, -1, -1):\n",
    "            while current.forward[level] and current.forward[level].key < key:\n",
    "                current = current.forward[level]\n",
    "            update[level] = current\n",
    "\n",
    "        if current.forward[0] and current.forward[0].key == key:\n",
    "            deleted_node = current.forward[0]\n",
    "            ##### Update forward references to remove the node\n",
    "            for level in range(self.level + 1):\n",
    "                if update[level].forward[level] != deleted_node:\n",
    "                    break\n",
    "                update[level].forward[level] = deleted_node.forward[level]\n",
    "\n",
    "            ## Decrease the maximum level if needed\n",
    "            while self.level > 0 and self.head.forward[self.level] is None:\n",
    "                self.level -= 1\n",
    "\n",
    "            return deleted_node.value\n",
    "        else:\n",
    "            # Key not found\n",
    "            return None  \n",
    "\n",
    "    def display(self):\n",
    "        \"\"\" Display the elements in the skip list. \"\"\"\n",
    "        for level in range(self.level + 1):\n",
    "            node = self.head.forward[level]\n",
    "            elements = []\n",
    "            while node:\n",
    "                elements.append((node.key, node.value))\n",
    "                node = node.forward[level]\n",
    "            print(f\"Level {level}: {elements}\")"
   ]
  },
  {
   "cell_type": "code",
   "execution_count": 5,
   "metadata": {},
   "outputs": [
    {
     "name": "stdout",
     "output_type": "stream",
     "text": [
      "Search 15: C\n",
      "Delete 20: B\n",
      "Level 0: [(5, 'D'), (10, 'A'), (15, 'C'), (25, 'E')]\n",
      "Level 1: [(5, 'D'), (10, 'A')]\n",
      "Level 2: [(10, 'A')]\n"
     ]
    }
   ],
   "source": [
    "skip_list = SkipList()\n",
    "skip_list.insert(10, \"A\")\n",
    "skip_list.insert(20, \"B\")\n",
    "skip_list.insert(15, \"C\")\n",
    "skip_list.insert(5, \"D\")\n",
    "skip_list.insert(25, \"E\")\n",
    "\n",
    "print(\"Search 15:\", skip_list.search(15))  \n",
    "print(\"Delete 20:\", skip_list.delete(20))  \n",
    "\n",
    "skip_list.display()"
   ]
  }
 ],
 "metadata": {
  "kernelspec": {
   "display_name": "base",
   "language": "python",
   "name": "python3"
  },
  "language_info": {
   "codemirror_mode": {
    "name": "ipython",
    "version": 3
   },
   "file_extension": ".py",
   "mimetype": "text/x-python",
   "name": "python",
   "nbconvert_exporter": "python",
   "pygments_lexer": "ipython3",
   "version": "3.10.9"
  },
  "orig_nbformat": 4
 },
 "nbformat": 4,
 "nbformat_minor": 2
}
