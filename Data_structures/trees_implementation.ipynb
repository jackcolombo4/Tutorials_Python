{
 "cells": [
  {
   "cell_type": "markdown",
   "metadata": {},
   "source": [
    "<h1 style=\"color:#0FCBC6\"> Trees </h1>"
   ]
  },
  {
   "cell_type": "markdown",
   "metadata": {},
   "source": [
    "<h3 style=\"color:#0FCBC6 \"> Recap: </h3>\n",
    "<div style=\"margin-top: -17px;\">\n",
    "\n",
    "- AVL Tree: <br> Self-balancing binary search tree where the difference in heights between the left and right subtrees (balance factor) of every node is ensured to be at most 1. <br> AVL trees automatically ensure that the tree remains balanced during insertions and deletions.\n",
    "- Red-Black Tree: <br> A type of self-balancing binary search tree where each node contains an extra bit for denoting the color of the node, either red or black. <br> A set of rules are followed during insert and delete operations to ensure the tree remains balanced.\n",
    "- B-Tree: <br> Often used in the implementation of database indexes and file systems, B-Trees are balanced search trees designed to store data in a sorted order and allow searches, <br> sequential access, insertions, and deletions in logarithmic time. Each node in a B-Tree can have more than two children.\n",
    "- Trie (Prefix Tree): <br> A tree-like data structure that proves to be quite efficient in solving problems related to strings, where each node represents a single character of a string. <br> Tries are used in implementing associative arrays, among other applications like IP routing table lookups."
   ]
  },
  {
   "cell_type": "markdown",
   "metadata": {},
   "source": [
    "<h2 style=\"color:#0FCBC6\"><u> Example 1</u></h2>"
   ]
  },
  {
   "cell_type": "code",
   "execution_count": 2,
   "metadata": {},
   "outputs": [],
   "source": [
    "class Node:\n",
    "    def __init__(self, key):\n",
    "        self.key = key\n",
    "        self.left = None\n",
    "        self.right = None\n",
    "\n",
    "def createTree(string):\n",
    "    if string is None or string == \"\":\n",
    "        return None\n",
    "\n",
    "    ######## Parse the key (can be more than one digit)\n",
    "    key, i = 0, 0\n",
    "    while i < len(string) and string[i] != \"(\":\n",
    "        if string[i].isdigit():\n",
    "            key = key * 10 + int(string[i])\n",
    "        i += 1\n",
    "\n",
    "    # Create a new node\n",
    "    node = Node(key)\n",
    "    ## Check if leaf node\n",
    "    if i == len(string):\n",
    "        return node\n",
    "\n",
    "    ########## Find  the index of the comma that separates the left and right subtree\n",
    "    leftStart = i\n",
    "    leftParenthesesCount = 0\n",
    "    for j in range(i, len(string)):\n",
    "        if string[j] == \"(\":\n",
    "            leftParenthesesCount += 1\n",
    "        elif string[j] == \")\":\n",
    "            leftParenthesesCount -= 1\n",
    "        elif string[j] == \",\" and leftParenthesesCount == 1:\n",
    "            break\n",
    "\n",
    "    ######### Left subtree\n",
    "    leftEnd = j\n",
    "    leftParenthesesCount = 1\n",
    "    for j in range(j + 1, len(string)):\n",
    "        if string[j] == \"(\":\n",
    "            leftParenthesesCount += 1\n",
    "        elif string[j] == \")\":\n",
    "            leftParenthesesCount -= 1\n",
    "            if leftParenthesesCount == 0:\n",
    "                break\n",
    "\n",
    "    ######### Right subtree\n",
    "    rightEnd = len(string) - 1\n",
    "    rightParenthesesCount = 1\n",
    "    for j in range(len(string) - 2, -1, -1):\n",
    "        if string[j] == \")\":\n",
    "            rightParenthesesCount += 1\n",
    "        elif string[j] == \"(\":\n",
    "            rightParenthesesCount -= 1\n",
    "            if rightParenthesesCount == 0:\n",
    "                break\n",
    "\n",
    "    #### Construct the left and right subtrees\n",
    "    if leftStart + 1 < leftEnd:\n",
    "        node.left = createTree(string[leftStart + 1:leftEnd])\n",
    "    if j + 1 < rightEnd and string[leftEnd + 1:].strip():\n",
    "        node.right = createTree(string[leftEnd + 1:])\n",
    "    \n",
    "    return node\n",
    "\n",
    "def preorder(node, depth=0):\n",
    "    if node is None:\n",
    "        return\n",
    "\n",
    "    print(f\"{' ' * depth}{node.key}\")\n",
    "    preorder(node.left, depth + 1)\n",
    "    preorder(node.right, depth + 1)"
   ]
  },
  {
   "cell_type": "code",
   "execution_count": 3,
   "metadata": {},
   "outputs": [],
   "source": [
    "def preorder(node, depth=0):\n",
    "    if node is None:\n",
    "        return\n",
    "\n",
    "    print(f\"{' ' * depth}{node.key}\")\n",
    "    preorder(node.left, depth + 1)\n",
    "    preorder(node.right, depth + 1)"
   ]
  },
  {
   "cell_type": "code",
   "execution_count": 4,
   "metadata": {},
   "outputs": [
    {
     "name": "stdout",
     "output_type": "stream",
     "text": [
      "<__main__.Node object at 0x7f40f86ffa30>\n",
      "35\n",
      " 22\n",
      "  7\n",
      "  2\n",
      " 5\n",
      "  4\n",
      "  0\n",
      "\n",
      "<__main__.Node object at 0x7f40f86ff880>\n",
      "27\n",
      " 3\n",
      "  4\n",
      "  5\n",
      " 2\n",
      "  0\n",
      "\n",
      "<__main__.Node object at 0x7f40f86ff880>\n",
      "567\n",
      " 35\n",
      "  16\n",
      "   89\n",
      "    22\n",
      "     55\n",
      "      55\n",
      "       92\n",
      "       12\n",
      "      12\n",
      "       1\n",
      "        12\n",
      "         14\n",
      "         15\n",
      "          16\n",
      "          17\n",
      "           92\n",
      "            92\n",
      "       92\n",
      "        92\n",
      "        0\n",
      "     16\n",
      "      1\n",
      "       1\n",
      "        13\n",
      "         77\n",
      "       0\n",
      "   0\n",
      "  35\n",
      "   35\n",
      "   0\n"
     ]
    }
   ],
   "source": [
    "str1 = \"35(22(7,2),5(4,))\"\n",
    "str2 = \"27(3(4,5),2())\"\n",
    "str3 = \"567(,35(16(89(,22(55(55(92,12),12(1(,12(14,15(16,17(,92(,92))))),92(92,))),16(,1(1(,13(,77)),)))),),35(35,)))\"\n",
    "\n",
    "tree1 = createTree(str1)\n",
    "tree2 = createTree(str2)\n",
    "tree3 = createTree(str3)\n",
    "print(tree1)\n",
    "preorder(tree1)\n",
    "print()\n",
    "print(tree2)\n",
    "preorder(tree2)\n",
    "print()\n",
    "print(tree2)\n",
    "preorder(tree3)"
   ]
  },
  {
   "cell_type": "markdown",
   "metadata": {},
   "source": [
    "<h2 style=\"color:#0FCBC6\"><u>Example 2</u></h2>\n",
    "with Tree class"
   ]
  },
  {
   "cell_type": "code",
   "execution_count": 5,
   "metadata": {},
   "outputs": [],
   "source": [
    "# Define a class representing a node in the binary tree\n",
    "class Node:\n",
    "    \"\"\" Node in a binary tree.\n",
    "\n",
    "    Attributes:\n",
    "        - key: The value stored in the node\n",
    "        - left: A reference to the left child node\n",
    "        - right: A reference to the right child node\n",
    "\n",
    "    Details: \n",
    "        - Initialize the node with a key\n",
    "        - Initialize left child pointer\n",
    "        - Initialize right child pointer\n",
    "    \n",
    "    \"\"\"    \n",
    "    def __init__(self, key):\n",
    "        self.key = key       \n",
    "        self.left = None      \n",
    "        self.right = None     \n",
    "\n",
    "class Tree:\n",
    "    \"\"\" Binary Tree class.\n",
    "\n",
    "    Methods:\n",
    "        - insert(key): Insert a new key into the binary tree\n",
    "        - _insert(node, key): Recursively insert a key into the binary tree\n",
    "        - preorder(): Perform a preorder traversal of the binary tree\n",
    "        - _preorder(node, depth=0): Recursively perform a preorder traversal of the binary tree\n",
    "    \n",
    "    Attributes:\n",
    "        root: Reference to the root of the tree\n",
    "    \"\"\"    \n",
    "    def __init__(self):\n",
    "        self.root = None      \n",
    "\n",
    "    def insert(self, key):\n",
    "        \"\"\" Insert a new key into the binary tree.\n",
    "\n",
    "        Parameters:\n",
    "            key: The value to be inserted into the tree.\n",
    "        \"\"\"        \n",
    "        self.root = self._insert(self.root, key)\n",
    "\n",
    "    def _insert(self, node, key):\n",
    "        \"\"\" Insert a key into the binary tree (recursion).\n",
    "\n",
    "        Parameters:\n",
    "            - node: The current node being processed\n",
    "            - key: The value to be inserted into the tree\n",
    "\n",
    "        Returns:\n",
    "            Updated node.\n",
    "        \"\"\"        \n",
    "        if node is None:\n",
    "            # Create a new node if the current node is None\n",
    "            return Node(key)   \n",
    "        if key < node.key:\n",
    "            # Insert into the left subtree\n",
    "            node.left = self._insert(node.left, key)    \n",
    "        elif key > node.key:\n",
    "            # Insert into the right subtree\n",
    "            node.right = self._insert(node.right, key)  \n",
    "        return node\n",
    "\n",
    "    def preorder(self):\n",
    "        \"\"\" Perform a preorder traversal of the binary tree. \"\"\"        \n",
    "        self._preorder(self.root)\n",
    "\n",
    "    def _preorder(self, node, depth=0):\n",
    "        \"\"\" Perform a preorder traversal of the binary tree (helper function).\\\\\n",
    "        Prints the keys in preorder traversal order.\n",
    "\n",
    "        Parameters:\n",
    "            - Current node being processed\n",
    "            - Current depth of the node in the tree (used for indentation)\n",
    "        \"\"\"        \n",
    "        if node is None:\n",
    "            return\n",
    "        # Print the current node's key with indentation\n",
    "        print(f\"{' ' * depth}{node.key}\")  \n",
    "        # Recursively traverse the left subtree\n",
    "        self._preorder(node.left, depth + 1)  \n",
    "        # Recursively traverse the right subtree\n",
    "        self._preorder(node.right, depth + 1)  "
   ]
  },
  {
   "cell_type": "code",
   "execution_count": 6,
   "metadata": {},
   "outputs": [
    {
     "name": "stdout",
     "output_type": "stream",
     "text": [
      "10\n",
      " 5\n",
      "  2\n",
      "  7\n",
      " 15\n",
      "  12\n",
      "  20\n"
     ]
    }
   ],
   "source": [
    "tree = Tree()   \n",
    "# Insert keys into the binary tree\n",
    "tree.insert(10)  \n",
    "tree.insert(5)\n",
    "tree.insert(15)\n",
    "tree.insert(2)\n",
    "tree.insert(7)\n",
    "tree.insert(12)\n",
    "tree.insert(20)\n",
    "# Perform a preorder traversal and print the nodes\n",
    "tree.preorder()  \n"
   ]
  },
  {
   "cell_type": "markdown",
   "metadata": {},
   "source": [
    "<h2 style=\"color:#0FCBC6\"><u> Example 3.1 </u></h2> Binary Trees"
   ]
  },
  {
   "cell_type": "code",
   "execution_count": 7,
   "metadata": {},
   "outputs": [],
   "source": [
    "\"\"\" Invert the tree, and return its root (Depth-first traversal, given the root of a binary tree. \"\"\"\n",
    "\n",
    "class TreeNode:\n",
    "    \"\"\" Definition for a simple binary tree node \"\"\"\n",
    "    def __init__(self, val=0, left=None, right=None):\n",
    "        self.val = val\n",
    "        self.left = left\n",
    "        self.right = right\n",
    "\n",
    "def createTree_3(list_nodes, index=0):\n",
    "    if index < len(list_nodes) and list_nodes[index] is not None:\n",
    "        node = TreeNode(list_nodes[index])\n",
    "        node.left = createTree_3(list_nodes, 2 * index + 1)\n",
    "        node.right = createTree_3(list_nodes, 2 * index + 2)\n",
    "        return node\n",
    "    return None\n",
    "\n",
    "def invertTree_3(root):\n",
    "    \"\"\" The time complexity is linear => O(n), since the algorithm must visit each node exactly once to swap its left and right children. \"\"\"\n",
    "    if root is None: \n",
    "        return None\n",
    "    \n",
    "    root.left, root.right = root.right, root.left\n",
    "    invertTree_3(root.left)\n",
    "    invertTree_3(root.right)\n",
    "    \n",
    "    return root"
   ]
  },
  {
   "cell_type": "code",
   "execution_count": 8,
   "metadata": {},
   "outputs": [],
   "source": [
    "\"\"\" Create a function to print the tree in level order traversal. \"\"\"\n",
    "from collections import deque\n",
    "\n",
    "def printTree(root):\n",
    "    if not root:\n",
    "        return \"Empty Tree\"\n",
    "\n",
    "    output = []\n",
    "    queue = deque([root])\n",
    "\n",
    "    while queue:\n",
    "        level_length = len(queue)\n",
    "        level_nodes = []\n",
    "\n",
    "        for _ in range(level_length):\n",
    "            node = queue.popleft()\n",
    "            if node:\n",
    "                level_nodes.append(str(node.val))\n",
    "                queue.append(node.left)\n",
    "                queue.append(node.right)\n",
    "            else:\n",
    "                level_nodes.append(\"null\")\n",
    "\n",
    "        output.append(\" \".join(level_nodes))\n",
    "\n",
    "    return \"\\n\".join(output)"
   ]
  },
  {
   "cell_type": "code",
   "execution_count": 9,
   "metadata": {},
   "outputs": [
    {
     "name": "stdout",
     "output_type": "stream",
     "text": [
      "4\n",
      "2 7\n",
      "1 3 6 9\n",
      "null null null null null null null null\n",
      "4\n",
      "7 2\n",
      "9 6 3 1\n",
      "null null null null null null null null\n"
     ]
    }
   ],
   "source": [
    "root_list = [4, 2, 7, 1, 3, 6, 9]\n",
    "root = createTree_3(root_list)\n",
    "print(printTree(root))\n",
    "inverted_root = invertTree_3(root)\n",
    "print(printTree(inverted_root))"
   ]
  },
  {
   "cell_type": "code",
   "execution_count": 10,
   "metadata": {},
   "outputs": [],
   "source": [
    "\"\"\" Solution with breadth-first traversal, with deque\"\"\"\n",
    "\n",
    "def invertTree_32(root):\n",
    "    if not root:\n",
    "        return None\n",
    "\n",
    "    queue = deque([root])\n",
    "\n",
    "    while queue:\n",
    "        current_node = queue.popleft()\n",
    "\n",
    "        # Swap the left and right children\n",
    "        current_node.left, current_node.right = current_node.right, current_node.left\n",
    "\n",
    "        # Enqueue children to process them in the next iterations\n",
    "        if current_node.left:\n",
    "            queue.append(current_node.left)\n",
    "        if current_node.right:\n",
    "            queue.append(current_node.right)\n",
    "\n",
    "    return root"
   ]
  },
  {
   "cell_type": "code",
   "execution_count": 11,
   "metadata": {},
   "outputs": [
    {
     "name": "stdout",
     "output_type": "stream",
     "text": [
      "4\n",
      "2 7\n",
      "1 3 6 9\n",
      "null null null null null null null null\n",
      "4\n",
      "7 2\n",
      "9 6 3 1\n",
      "null null null null null null null null\n"
     ]
    }
   ],
   "source": [
    "root_list2 = [4, 2, 7, 1, 3, 6, 9]\n",
    "root2 = createTree_3(root_list2)\n",
    "print(printTree(root2))\n",
    "inverted_root2 = invertTree_32(root2)\n",
    "print(printTree(inverted_root2))"
   ]
  },
  {
   "cell_type": "markdown",
   "metadata": {},
   "source": [
    "<h2 style=\"color:#0FCBC6\"><u> Example 3.2 </u></h2> \n",
    "Given an integer array nums where the elements are sorted in ascending order, convert it to a height-balanced binary search tree"
   ]
  },
  {
   "cell_type": "code",
   "execution_count": 12,
   "metadata": {},
   "outputs": [],
   "source": [
    "class TreeNode:\n",
    "    def __init__(self, val=0, left=None, right=None):\n",
    "        self.val = val\n",
    "        self.left = left\n",
    "        self.right = right\n",
    "\n",
    "def sortedArrayToBST(nums):\n",
    "    if not nums:\n",
    "        return None\n",
    "\n",
    "    mid = len(nums) // 2\n",
    "    root = TreeNode(nums[mid])\n",
    "    root.left = sortedArrayToBST(nums[:mid])  \n",
    "    root.right = sortedArrayToBST(nums[mid + 1:])\n",
    "\n",
    "    return root\n",
    "\n",
    "def inorder_traversal(root):\n",
    "    if root is None:\n",
    "        return []\n",
    "    return inorder_traversal(root.left) + [root.val] + inorder_traversal(root.right)\n",
    "\n",
    "def level_order_traversal(root):\n",
    "    if not root:\n",
    "        return []\n",
    "\n",
    "    # copy the content in a queue => in a level-order traversal (or breadth-first search) way ! => content would be [0, -3, 5, -10, 9]\n",
    "    #        0\n",
    "    #       / \\\n",
    "    #     -3   5\n",
    "    #     /     \\\n",
    "    #   -10      9\n",
    "    queue = deque([root])\n",
    "    result = []\n",
    "\n",
    "    while queue:\n",
    "        # Get the first element \n",
    "        node = queue.popleft() \n",
    "        if node:\n",
    "            result.append(node.val)\n",
    "            queue.append(node.left)\n",
    "            queue.append(node.right)\n",
    "        else:\n",
    "            result.append(None)\n",
    "\n",
    "    # Remove trailing None values at the end\n",
    "    while result and result[-1] is None:\n",
    "        result.pop()\n",
    "\n",
    "    return result"
   ]
  },
  {
   "cell_type": "code",
   "execution_count": 13,
   "metadata": {},
   "outputs": [
    {
     "data": {
      "text/plain": [
       "<__main__.TreeNode at 0x7f40f870eb60>"
      ]
     },
     "execution_count": 13,
     "metadata": {},
     "output_type": "execute_result"
    }
   ],
   "source": [
    "nums = [-10,-3,0,5,9]\n",
    "r2 = sortedArrayToBST(nums)\n",
    "r2"
   ]
  },
  {
   "cell_type": "code",
   "execution_count": 14,
   "metadata": {},
   "outputs": [
    {
     "data": {
      "text/plain": [
       "[-10, -3, 0, 5, 9]"
      ]
     },
     "execution_count": 14,
     "metadata": {},
     "output_type": "execute_result"
    }
   ],
   "source": [
    "inorder_traversal(r2)"
   ]
  },
  {
   "cell_type": "code",
   "execution_count": 15,
   "metadata": {},
   "outputs": [
    {
     "data": {
      "text/plain": [
       "[0, -3, 9, -10, None, 5]"
      ]
     },
     "execution_count": 15,
     "metadata": {},
     "output_type": "execute_result"
    }
   ],
   "source": [
    "level_order_traversal(r2)"
   ]
  },
  {
   "cell_type": "code",
   "execution_count": 16,
   "metadata": {},
   "outputs": [
    {
     "name": "stdout",
     "output_type": "stream",
     "text": [
      "0\n",
      "-3 9\n",
      "-10 null 5 null\n",
      "null null null null\n"
     ]
    }
   ],
   "source": [
    "print(printTree(r2))"
   ]
  },
  {
   "cell_type": "markdown",
   "metadata": {},
   "source": [
    "<h2 style=\"color:#0FCBC6\"><u> Example 3.3 </u></h2> \n",
    "Given a binary tree, determine if it is height-balanced"
   ]
  },
  {
   "cell_type": "code",
   "execution_count": 17,
   "metadata": {},
   "outputs": [],
   "source": [
    "def isBalanced(root):\n",
    "    def check(node):\n",
    "        if node is None:\n",
    "            return 0, True\n",
    "\n",
    "        left_height, left_balanced = check(node.left)\n",
    "        right_height, right_balanced = check(node.right)\n",
    "\n",
    "        # Check if the current subtree is balanced and return its height\n",
    "        is_balanced = left_balanced and right_balanced and abs(left_height - right_height) <= 1\n",
    "        height = 1 + max(left_height, right_height)\n",
    "        return height, is_balanced\n",
    "\n",
    "    _, balanced = check(root)\n",
    "    return balanced"
   ]
  },
  {
   "cell_type": "code",
   "execution_count": 18,
   "metadata": {},
   "outputs": [
    {
     "data": {
      "text/plain": [
       "True"
      ]
     },
     "execution_count": 18,
     "metadata": {},
     "output_type": "execute_result"
    }
   ],
   "source": [
    "root = TreeNode(1)\n",
    "root.left = TreeNode(2)\n",
    "root.left.left = TreeNode(3)\n",
    "root.right = TreeNode(4)\n",
    "root.right = TreeNode(4)\n",
    "\n",
    "isBalanced(root)"
   ]
  },
  {
   "cell_type": "code",
   "execution_count": 19,
   "metadata": {},
   "outputs": [
    {
     "data": {
      "text/plain": [
       "False"
      ]
     },
     "execution_count": 19,
     "metadata": {},
     "output_type": "execute_result"
    }
   ],
   "source": [
    "root = TreeNode(1)\n",
    "root.left = TreeNode(2)\n",
    "root.left.left = TreeNode(3)\n",
    "root.left.left.left = TreeNode(4)\n",
    "root.right = TreeNode(5)\n",
    "isBalanced(root)"
   ]
  },
  {
   "cell_type": "markdown",
   "metadata": {},
   "source": [
    "<h2 style=\"color:#0FCBC6\"><u> Example 3.4 </u></h2>\n",
    "Given a binary tree, find its minimum depth. <br>\n",
    "The minimum depth is the number of nodes along the shortest path from the root node down to the nearest leaf node."
   ]
  },
  {
   "cell_type": "code",
   "execution_count": 20,
   "metadata": {},
   "outputs": [],
   "source": [
    "def minDepth(root):\n",
    "    if not root:\n",
    "        return 0\n",
    "\n",
    "    # The queue holds nodes along with their depth\n",
    "    queue = deque([(root, 1)])  \n",
    "\n",
    "    while queue:\n",
    "        node, depth = queue.popleft()\n",
    "\n",
    "        # If this is a leaf node, return its depth\n",
    "        if not node.left and not node.right:\n",
    "            return depth\n",
    "\n",
    "        # Add child nodes to the queue\n",
    "        if node.left:\n",
    "            queue.append((node.left, depth + 1))\n",
    "        if node.right:\n",
    "            queue.append((node.right, depth + 1))"
   ]
  },
  {
   "cell_type": "code",
   "execution_count": 21,
   "metadata": {},
   "outputs": [],
   "source": [
    "def minDepth_recursive(root):\n",
    "    if not root:  # Base case: if the node is None, return 0\n",
    "        return 0\n",
    "\n",
    "    # Recursive calls for left and right subtrees\n",
    "    left_depth = minDepth(root.left)\n",
    "    right_depth = minDepth(root.right)\n",
    "\n",
    "    # Handle the case where one of the subtrees is missing\n",
    "    if not root.left or not root.right:\n",
    "        return max(left_depth, right_depth) + 1\n",
    "\n",
    "    return min(left_depth, right_depth) + 1"
   ]
  },
  {
   "cell_type": "code",
   "execution_count": 22,
   "metadata": {},
   "outputs": [
    {
     "data": {
      "text/plain": [
       "'1\\n2 3\\n4 null null null\\nnull null'"
      ]
     },
     "execution_count": 22,
     "metadata": {},
     "output_type": "execute_result"
    }
   ],
   "source": [
    "root = TreeNode(1)\n",
    "root.left = TreeNode(2)\n",
    "root.left.left = TreeNode(4)\n",
    "root.right = TreeNode(3)\n",
    "\n",
    "printTree(root)"
   ]
  },
  {
   "cell_type": "code",
   "execution_count": 23,
   "metadata": {},
   "outputs": [
    {
     "data": {
      "text/plain": [
       "[1, 2, 3, 4]"
      ]
     },
     "execution_count": 23,
     "metadata": {},
     "output_type": "execute_result"
    }
   ],
   "source": [
    "level_order_traversal(root)"
   ]
  },
  {
   "cell_type": "code",
   "execution_count": 24,
   "metadata": {},
   "outputs": [
    {
     "data": {
      "text/plain": [
       "2"
      ]
     },
     "execution_count": 24,
     "metadata": {},
     "output_type": "execute_result"
    }
   ],
   "source": [
    "minDepth(root)"
   ]
  },
  {
   "cell_type": "code",
   "execution_count": 25,
   "metadata": {},
   "outputs": [
    {
     "data": {
      "text/plain": [
       "2"
      ]
     },
     "execution_count": 25,
     "metadata": {},
     "output_type": "execute_result"
    }
   ],
   "source": [
    "minDepth_recursive(root)"
   ]
  },
  {
   "cell_type": "markdown",
   "metadata": {},
   "source": [
    "<h2 style=\"color:#0FCBC6\"><u> Example 3.5 </u></h2> Merge Two Binary Trees BSTs, where all elements in the first are smaller than those in the second"
   ]
  },
  {
   "cell_type": "code",
   "execution_count": 26,
   "metadata": {},
   "outputs": [],
   "source": [
    "\"\"\"\n",
    "class TreeNode:\n",
    "    def __init__(self, val=0, left=None, right=None):\n",
    "        self.val = val\n",
    "        self.left = left\n",
    "        self.right = right\n",
    "\"\"\"\n",
    "def insert_into_BST(root, val): \n",
    "    \"\"\" O(h) complexity ! \"\"\"\n",
    "    if root is None:\n",
    "        return TreeNode(val)\n",
    "    if val < root.val:\n",
    "        root.left = insert_into_BST(root.left, val)\n",
    "    else:\n",
    "        root.right = insert_into_BST(root.right, val)\n",
    "    return root\n",
    "\n",
    "root1 = None\n",
    "for val in [1, 2, 3]:\n",
    "    root1 = insert_into_BST(root1, val)\n",
    "\n",
    "# B2: Albero con nodi [4, 5, 6]\n",
    "root2 = None\n",
    "for val in [4, 5, 6]:\n",
    "    root2 = insert_into_BST(root2, val)"
   ]
  },
  {
   "cell_type": "code",
   "execution_count": 27,
   "metadata": {},
   "outputs": [
    {
     "name": "stdout",
     "output_type": "stream",
     "text": [
      "1\n",
      "null 2\n",
      "null 3\n",
      "null null\n"
     ]
    }
   ],
   "source": [
    "print(printTree(root1))"
   ]
  },
  {
   "cell_type": "code",
   "execution_count": 28,
   "metadata": {},
   "outputs": [
    {
     "name": "stdout",
     "output_type": "stream",
     "text": [
      "4\n",
      "null 5\n",
      "null 6\n",
      "null null\n"
     ]
    }
   ],
   "source": [
    "print(printTree(root2))"
   ]
  },
  {
   "cell_type": "code",
   "execution_count": 29,
   "metadata": {},
   "outputs": [
    {
     "name": "stdout",
     "output_type": "stream",
     "text": [
      "0\n",
      "1 4\n",
      "null 2 null 5\n",
      "null 3 null 6\n",
      "null null null null\n"
     ]
    }
   ],
   "source": [
    "############################## 1) iterative solution => Complexity => t and s: O(1) just assign the reference to a new root\n",
    "def merge_BSTs(root1, root2):\n",
    "    \"\"\" Merge two BSTs \n",
    "    # Create a new root node. The value doesn't matter as long as it's between the max of root1 and min of root2\n",
    "    \"\"\"\n",
    "    new_root = TreeNode()\n",
    "    new_root.left = root1\n",
    "    new_root.right = root2\n",
    "    return new_root\n",
    "\n",
    "new_root1 = merge_BSTs(root1, root2)\n",
    "print(printTree(new_root1))"
   ]
  },
  {
   "cell_type": "code",
   "execution_count": 30,
   "metadata": {},
   "outputs": [
    {
     "name": "stdout",
     "output_type": "stream",
     "text": [
      "1\n",
      "null 2\n",
      "null 3\n",
      "null 4\n",
      "null 5\n",
      "null 6\n",
      "null null\n"
     ]
    }
   ],
   "source": [
    "############################## 2) recursive solution => Complexity => O(n2 * h1)\n",
    "def merge_BSTs_recursive(root1, root2):\n",
    "    if root2 is None:\n",
    "        return root1\n",
    "    root1 = insert_into_BST(root1, root2.val)\n",
    "    root1 = merge_BSTs_recursive(root1, root2.left)\n",
    "    root1 = merge_BSTs_recursive(root1, root2.right)\n",
    "    return root1\n",
    "\n",
    "new_root2 = merge_BSTs_recursive(root1, root2)\n",
    "print(printTree(new_root2))"
   ]
  },
  {
   "cell_type": "code",
   "execution_count": 31,
   "metadata": {},
   "outputs": [
    {
     "name": "stdout",
     "output_type": "stream",
     "text": [
      "Tree together 1\n",
      "1 2 3 4 5 6 0 4 5 6 \n",
      "Tree together 2\n",
      "1 2 3 4 5 6 "
     ]
    }
   ],
   "source": [
    "def print_in_order(root):\n",
    "    if root:\n",
    "        print_in_order(root.left)\n",
    "        print(root.val, end=\" \")\n",
    "        print_in_order(root.right)\n",
    "\n",
    "print(\"Tree together 1\")\n",
    "print_in_order(new_root1)\n",
    "print(\"\\nTree together 2\")\n",
    "print_in_order(new_root2)"
   ]
  },
  {
   "cell_type": "markdown",
   "metadata": {},
   "source": [
    "<h2 style=\"color:#0FCBC6\"><u> Example 3.6 </u></h2> Binary Search Tree implementation"
   ]
  },
  {
   "cell_type": "code",
   "execution_count": 32,
   "metadata": {},
   "outputs": [],
   "source": [
    "class BinarySearchTreeNode(Node):\n",
    "    def __init__(self, key):\n",
    "        super().__init__(key)\n",
    "\n",
    "    def insert(self, key):\n",
    "        \"\"\" Insert a key into the BST. \"\"\"\n",
    "        if key < self.key:\n",
    "            if self.left is None:\n",
    "                self.left = BinarySearchTreeNode(key)\n",
    "            else:\n",
    "                self.left.insert(key)\n",
    "        elif key > self.key:\n",
    "            if self.right is None:\n",
    "                self.right = BinarySearchTreeNode(key)\n",
    "            else:\n",
    "                self.right.insert(key)\n",
    "\n",
    "    def search(self, key):\n",
    "        \"\"\" Search for a key in the BST. \"\"\"\n",
    "        if key == self.key:\n",
    "            return True\n",
    "        elif key < self.key:\n",
    "            if self.left is not None:\n",
    "                return self.left.search(key)\n",
    "            else:\n",
    "                return False\n",
    "        else:\n",
    "            if self.right is not None:\n",
    "                return self.right.search(key)\n",
    "            else:\n",
    "                return False\n",
    "\n",
    "    def inorder_traversal(self):\n",
    "        \"\"\" Perform an inorder traversal of the BST. \"\"\"\n",
    "        result = []\n",
    "        if self.left is not None:\n",
    "            result.extend(self.left.inorder_traversal())\n",
    "        result.append(self.key)\n",
    "        if self.right is not None:\n",
    "            result.extend(self.right.inorder_traversal())\n",
    "        return result"
   ]
  },
  {
   "cell_type": "code",
   "execution_count": 33,
   "metadata": {},
   "outputs": [
    {
     "name": "stdout",
     "output_type": "stream",
     "text": [
      "True\n",
      "False\n",
      "[2, 5, 7, 10, 12, 15, 20]\n"
     ]
    }
   ],
   "source": [
    "root = BinarySearchTreeNode(10)\n",
    "root.insert(5)\n",
    "root.insert(15)\n",
    "root.insert(2)\n",
    "root.insert(7)\n",
    "root.insert(12)\n",
    "root.insert(20)\n",
    "\n",
    "print(root.search(5))\n",
    "print(root.search(8))\n",
    "\n",
    "print(root.inorder_traversal())"
   ]
  },
  {
   "cell_type": "code",
   "execution_count": 34,
   "metadata": {},
   "outputs": [],
   "source": [
    "class BinarySearchTreeNode2(Tree):\n",
    "    \"\"\" Represent a node in a Binary Search Tree (BST).\n",
    "\n",
    "    Attributes:\n",
    "        key value stored in the node\n",
    "    \"\"\"\n",
    "    def __init__(self, key):\n",
    "        \"\"\" Initialize a BST node with a given key (the value to be stored in the node). \"\"\"\n",
    "        super().__init__()\n",
    "        # Set the key as an attribute, without creating a root node with it\n",
    "        self.key = key\n",
    "        self.root = BinarySearchTreeNode(key)\n",
    "    \n",
    "    def insert(self, key):\n",
    "        \"\"\" Insert a new key into the BST rooted at this node. \"\"\"\n",
    "        self.root = self._insert(self.root, key)\n",
    "\n",
    "    def _insert(self, node, key):\n",
    "        \"\"\" Recursively insert a key into the BST rooted at this node.\n",
    "\n",
    "        Parameters:\n",
    "            - Current node being processed.\n",
    "            - Value to be inserted into the BST.\n",
    "\n",
    "        Returns:\n",
    "            Node: The updated node.\n",
    "        \"\"\"\n",
    "        if node is None:\n",
    "            return BinarySearchTreeNode(key)\n",
    "        if key < node.key:\n",
    "            node.left = self._insert(node.left, key)\n",
    "        elif key > node.key:\n",
    "            node.right = self._insert(node.right, key)\n",
    "        return node\n",
    "\n",
    "    def preorder(self):\n",
    "        \"\"\" Perform a preorder traversal of the BST rooted at this node.\\\\\n",
    "        Prints the keys in preorder traversal order.\n",
    "        \"\"\"\n",
    "        self._preorder(self.root)\n",
    "    \n",
    "    def _preorder(self, node, depth=0, label=\"\"):\n",
    "        if node is None:\n",
    "            return\n",
    "        # Print the label and the node's key with indentation\n",
    "        print(f\"{' ' * depth}{label}{node.key}\")  \n",
    "        # Recursively traverse the left subtree, label it as L\n",
    "        self._preorder(node.left, depth + 4, \"L--- \")  \n",
    "        # Recursively traverse the right subtree, label it as R\n",
    "        self._preorder(node.right, depth + 4, \"R--- \")\n"
   ]
  },
  {
   "cell_type": "markdown",
   "metadata": {},
   "source": [
    "# Main (3.6)"
   ]
  },
  {
   "cell_type": "code",
   "execution_count": 35,
   "metadata": {},
   "outputs": [
    {
     "name": "stdout",
     "output_type": "stream",
     "text": [
      "10\n",
      "    L--- 9\n",
      "    R--- 145\n",
      "        L--- 23\n",
      "            L--- 20\n",
      "            R--- 37\n",
      "                R--- 112\n"
     ]
    }
   ],
   "source": [
    "# Create a BST node\n",
    "bst_node = BinarySearchTreeNode2(10)  \n",
    "###### Insert keys into the BST\n",
    "bst_node.insert(9)                  \n",
    "bst_node.insert(145)\n",
    "bst_node.insert(23)\n",
    "bst_node.insert(20)\n",
    "bst_node.insert(37)\n",
    "bst_node.insert(112)\n",
    "# Perform a preorder traversal and print the nodes\n",
    "bst_node.preorder()"
   ]
  },
  {
   "cell_type": "code",
   "execution_count": 36,
   "metadata": {},
   "outputs": [
    {
     "name": "stdout",
     "output_type": "stream",
     "text": [
      "10\n",
      "    L--- 9\n",
      "    R--- 23\n",
      "        L--- 20\n",
      "        R--- 145\n",
      "            L--- 112\n",
      "                L--- 37\n"
     ]
    }
   ],
   "source": [
    "\"\"\" Change insertion order \"\"\"\n",
    "bst_node = BinarySearchTreeNode2(10)  \n",
    "###### Insert keys into the BST\n",
    "bst_node.insert(23)\n",
    "bst_node.insert(20)\n",
    "bst_node.insert(145)\n",
    "bst_node.insert(112)\n",
    "bst_node.insert(37)\n",
    "bst_node.insert(9)                  \n",
    "# Perform a preorder traversal and print the nodes\n",
    "bst_node.preorder()\n",
    "\n",
    "\"\"\"\n",
    "      10\n",
    "    /    \\\n",
    "   9     23\n",
    "        /  \\\n",
    "      20    145\n",
    "           /   \n",
    "         112  \n",
    "        /\n",
    "      37\n",
    "\"\"\";     "
   ]
  },
  {
   "cell_type": "markdown",
   "metadata": {},
   "source": [
    "<h2 style=\"color:#0FCBC6\"><u> Example 3.7 </u></h2> \n",
    "Return the sum of values of all nodes of a binary tree with a value in the inclusive range [low, high], given the root node of a binary search tree and (two integers low and high)."
   ]
  },
  {
   "cell_type": "code",
   "execution_count": 37,
   "metadata": {},
   "outputs": [],
   "source": [
    "def rangeSumBST(root, low, high):\n",
    "    if not root:\n",
    "        return 0\n",
    "    sum = 0\n",
    "    ## Base Case\n",
    "    if low <= root.val <= high:\n",
    "        sum += root.val\n",
    "    #### Recursive case\n",
    "    if root.val > low:\n",
    "        sum += rangeSumBST(root.left, low, high)\n",
    "    if root.val < high:\n",
    "        sum += rangeSumBST(root.right, low, high)\n",
    "\n",
    "    return sum"
   ]
  },
  {
   "cell_type": "code",
   "execution_count": 57,
   "metadata": {},
   "outputs": [
    {
     "name": "stdout",
     "output_type": "stream",
     "text": [
      "Sum of values in range [10, 25]: 67\n"
     ]
    }
   ],
   "source": [
    "def main():\n",
    "    \"\"\" Create a sample BST and run! \"\"\" \n",
    "    root = TreeNode(15)\n",
    "    root.left = TreeNode(4)\n",
    "    root.right = TreeNode(21)\n",
    "    root.left.left = TreeNode(2)\n",
    "    root.left.right = TreeNode(9)\n",
    "    root.right.left = TreeNode(18)\n",
    "    root.right.right = TreeNode(26)\n",
    "    root.left.right.left = TreeNode(6)   \n",
    "    root.right.left.right = TreeNode(13) \n",
    "    root.left.left.left = TreeNode(1)    \n",
    "    root.left.left.right = TreeNode(3)   \n",
    "    root.right.right.right = TreeNode(24) \n",
    "\n",
    "    # Structure of the BST:\n",
    "    #           15\n",
    "    #          /  \\\n",
    "    #         4    21\n",
    "    #        / \\   / \\\n",
    "    #       2   9 18  26\n",
    "    #      / \\  /      \\\n",
    "    #     1   3 6      24\n",
    "    #               \\\n",
    "    #                13\n",
    "\n",
    "    low, high = 10, 25\n",
    "    result = rangeSumBST(root, low, high)\n",
    "    print(f\"Sum of values in range [{low}, {high}]: {result}\")\n",
    "\n",
    "\n",
    "main()"
   ]
  },
  {
   "cell_type": "markdown",
   "metadata": {},
   "source": [
    "<h2 style=\"color:#0FCBC6\"><u> Example 3.8 </u></h2> \n",
    "Given the root of a binary tree, construct a string consisting of parenthesis and integers from a binary tree with the preorder traversal way, and return it."
   ]
  },
  {
   "cell_type": "code",
   "execution_count": 59,
   "metadata": {},
   "outputs": [
    {
     "name": "stdout",
     "output_type": "stream",
     "text": [
      "1(2(4))(3)\n"
     ]
    }
   ],
   "source": [
    "def tree2str(root):\n",
    "    ## Base case\n",
    "    if not root:\n",
    "        return \"\"\n",
    "    \n",
    "    string_to_ret = str(root.val)\n",
    "\n",
    "    #### Recursive case\n",
    "    # When the left child is absent but the right child exists, an empty pair () is still added\n",
    "    if root.left or root.right:\n",
    "        string_to_ret += '(' + tree2str(root.left) + ')'\n",
    "    \n",
    "    if root.right:\n",
    "        string_to_ret += '(' + tree2str(root.right) + ')'\n",
    "    \n",
    "    return string_to_ret\n",
    "\n",
    "\n",
    "root = TreeNode(1)\n",
    "root.left = TreeNode(2)\n",
    "root.right = TreeNode(3)\n",
    "root.left.left = TreeNode(4)\n",
    "\n",
    "print(tree2str(root))  "
   ]
  },
  {
   "cell_type": "markdown",
   "metadata": {},
   "source": [
    "<h2 style=\"color:#0FCBC6\"><u> Example 4</u></h2>"
   ]
  },
  {
   "cell_type": "markdown",
   "metadata": {},
   "source": [
    "<h3 style=\"color:#0FCBC6 \"> Recap: </h3>\n",
    "<div style=\"margin-top: -17px;\">\n",
    "\n",
    "- Preorder Traversal: Visit the root node, traverse the left subtree, then traverse the right subtree.\n",
    "- Inorder Traversal: Traverse the left subtree, visit the root node, then traverse the right subtree.\n",
    "- Postorder Traversal: Traverse the left subtree, traverse the right subtree, then visit the root node.\n",
    "- Level-order Traversal (or Breadth-First Search): Visit every node on a level before going to a lower level."
   ]
  },
  {
   "cell_type": "code",
   "execution_count": 39,
   "metadata": {},
   "outputs": [],
   "source": [
    "class Node:\n",
    "    def __init__(self, key):\n",
    "        self.key = key\n",
    "        self.left = None\n",
    "        self.right = None\n",
    "\n",
    "class Tree:\n",
    "    def __init__(self, root=None):\n",
    "        self.root = root\n",
    "\n",
    "    def insert(self, key):\n",
    "        self.root = self._insert(self.root, key)\n",
    "\n",
    "    def _insert(self, node, key):\n",
    "        if node is None:\n",
    "            return Node(key)\n",
    "        else:\n",
    "            pass\n",
    "\n",
    "    # Tree Traversals\n",
    "    def preorder(self):\n",
    "        def _preorder(node):\n",
    "            if node:\n",
    "                print(node.key, end=\" \")\n",
    "                _preorder(node.left)\n",
    "                _preorder(node.right)\n",
    "\n",
    "        _preorder(self.root)\n",
    "        print()\n",
    "\n",
    "    def inorder(self):\n",
    "        def _inorder(node):\n",
    "            if node:\n",
    "                _inorder(node.left)\n",
    "                print(node.key, end=\" \")\n",
    "                _inorder(node.right)\n",
    "\n",
    "        _inorder(self.root)\n",
    "        print()\n",
    "\n",
    "    def postorder(self):\n",
    "        def _postorder(node):\n",
    "            if node:\n",
    "                _postorder(node.left)\n",
    "                _postorder(node.right)\n",
    "                print(node.key, end=\" \")\n",
    "\n",
    "        _postorder(self.root)\n",
    "        print()\n",
    "\n",
    "    def level_order(self):\n",
    "        def _level_order(nodes):\n",
    "            next_nodes = []\n",
    "            for node in nodes:\n",
    "                print(node.key, end=\" \")\n",
    "                if node.left:\n",
    "                    next_nodes.append(node.left)\n",
    "                if node.right:\n",
    "                    next_nodes.append(node.right)\n",
    "            if next_nodes:\n",
    "                _level_order(next_nodes)\n",
    "\n",
    "        if self.root:\n",
    "            _level_order([self.root])\n",
    "        print()\n",
    "\n",
    "    def print_tree(self, node, level=0, prefix=\"Root: \"):\n",
    "        if node is not None:\n",
    "            print(\" \" * (level * 4) + prefix + str(node.key))\n",
    "            if node.left is not None or node.right is not None:\n",
    "                self.print_tree(node.left, level + 1, \"L--- \")\n",
    "                self.print_tree(node.right, level + 1, \"R--- \")        "
   ]
  },
  {
   "cell_type": "code",
   "execution_count": 40,
   "metadata": {},
   "outputs": [
    {
     "name": "stdout",
     "output_type": "stream",
     "text": [
      "Preorder Traversal:\n",
      "1 2 4 5 3 \n",
      "Inorder Traversal:\n",
      "4 2 5 1 3 \n",
      "Postorder Traversal:\n",
      "4 5 2 3 1 \n",
      "Level-order Traversal:\n",
      "1 2 3 4 5 \n"
     ]
    }
   ],
   "source": [
    "my_tree = Tree(Node(1))\n",
    "my_tree.root.left = Node(2)\n",
    "my_tree.root.right = Node(3)\n",
    "my_tree.root.left.left = Node(4)\n",
    "my_tree.root.left.right = Node(5)\n",
    "\n",
    "print(\"Preorder Traversal:\")\n",
    "my_tree.preorder() \n",
    "print(\"Inorder Traversal:\")\n",
    "my_tree.inorder()  \n",
    "print(\"Postorder Traversal:\")\n",
    "my_tree.postorder()  \n",
    "print(\"Level-order Traversal:\")\n",
    "my_tree.level_order()  "
   ]
  },
  {
   "cell_type": "markdown",
   "metadata": {},
   "source": [
    "<h2 style=\"color:#0FCBC6\"><u> Example 5</u></h2> Adelson-Velsky and Landis Tree"
   ]
  },
  {
   "cell_type": "code",
   "execution_count": 41,
   "metadata": {},
   "outputs": [],
   "source": [
    "class AVLNode(Node):\n",
    "    def __init__(self, key, height=1):\n",
    "        super().__init__(key)\n",
    "        self.height = height\n",
    "\n",
    "class AVLTree(Tree):\n",
    "    def __init__(self, root=None):\n",
    "        super().__init__(root)\n",
    "\n",
    "    def _height(self, node):\n",
    "        return node.height if node else 0\n",
    "\n",
    "    def _update_height(self, node):\n",
    "        node.height = max(self._height(node.left), self._height(node.right)) + 1\n",
    "\n",
    "    def _balance_factor(self, node):\n",
    "        return self._height(node.left) - self._height(node.right)\n",
    "\n",
    "    def _rotate_right(self, node):\n",
    "        new_root = node.left\n",
    "        node.left = new_root.right\n",
    "        new_root.right = node\n",
    "        self._update_height(node)\n",
    "        self._update_height(new_root)\n",
    "        return new_root\n",
    "\n",
    "    def _rotate_left(self, node):\n",
    "        new_root = node.right\n",
    "        node.right = new_root.left\n",
    "        new_root.left = node\n",
    "        self._update_height(node)\n",
    "        self._update_height(new_root)\n",
    "        return new_root\n",
    "\n",
    "    def insert(self, key):\n",
    "        if not self.root:\n",
    "            self.root = AVLNode(key)\n",
    "        else:\n",
    "            self.root = self._insert(self.root, key)\n",
    "\n",
    "    def _insert(self, node, key):\n",
    "        if not node:\n",
    "            return AVLNode(key)\n",
    "\n",
    "        if key < node.key:\n",
    "            node.left = self._insert(node.left, key)\n",
    "        elif key > node.key:\n",
    "            node.right = self._insert(node.right, key)\n",
    "        else:\n",
    "            return node  # Equal keys are not allowed in BST\n",
    "\n",
    "        # Update the height of the ancestor node\n",
    "        self._update_height(node)\n",
    "\n",
    "        # Get the balance factor\n",
    "        balance = self._balance_factor(node)\n",
    "\n",
    "        # Unbalanced\n",
    "        # Left Left Case\n",
    "        if balance > 1 and key < node.left.key:\n",
    "            return self._rotate_right(node)\n",
    "        # Right Right Case\n",
    "        if balance < -1 and key > node.right.key:\n",
    "            return self._rotate_left(node)\n",
    "        # Left Right Case\n",
    "        if balance > 1 and key > node.left.key:\n",
    "            node.left = self._rotate_left(node.left)\n",
    "            return self._rotate_right(node)\n",
    "        # Right Left Case\n",
    "        if balance < -1 and key < node.right.key:\n",
    "            node.right = self._rotate_right(node.right)\n",
    "            return self._rotate_left(node)\n",
    "\n",
    "        return node\n"
   ]
  },
  {
   "cell_type": "code",
   "execution_count": 42,
   "metadata": {},
   "outputs": [
    {
     "name": "stdout",
     "output_type": "stream",
     "text": [
      "Inserting keys:\n",
      "30 20 40 10 25 35 50 \n",
      "\n",
      "Print AVL tree structure:\n",
      "Root: 30\n",
      "    L--- 20\n",
      "        L--- 10\n",
      "        R--- 25\n",
      "    R--- 40\n",
      "        L--- 35\n",
      "        R--- 50\n"
     ]
    }
   ],
   "source": [
    "avl_tree = AVLTree()\n",
    "keys_to_insert = [30, 20, 40, 10, 25, 35, 50]\n",
    "\n",
    "print(\"Inserting keys:\")\n",
    "for key in keys_to_insert:\n",
    "    print(key, end=\" \")\n",
    "    avl_tree.insert(key)\n",
    "print(\"\\n\")\n",
    "\n",
    "print(\"Print AVL tree structure:\")\n",
    "avl_tree.print_tree(avl_tree.root)\n"
   ]
  },
  {
   "cell_type": "markdown",
   "metadata": {},
   "source": [
    "<h2 style=\"color:#0FCBC6\"><u> Example 6 </u></h2> Red and Black Tree"
   ]
  },
  {
   "cell_type": "code",
   "execution_count": 43,
   "metadata": {},
   "outputs": [],
   "source": [
    "class RBNode(Node):\n",
    "    def __init__(self, key, color='R'):\n",
    "        super().__init__(key)\n",
    "        self.color = color  # 'R' for red, 'B' for black\n",
    "\n",
    "class RBTree(Tree):\n",
    "    def __init__(self, root=None):\n",
    "        super().__init__(root)\n",
    "    \n",
    "    def insert(self, key):\n",
    "        self.root = self._insert(self.root, key)\n",
    "        self.root.color = 'B'\n",
    "        \n",
    "    def _insert(self, node, key):\n",
    "        if node is None:\n",
    "            return RBNode(key)\n",
    "        \n",
    "        if key < node.key:\n",
    "            node.left = self._insert(node.left, key)\n",
    "        elif key > node.key:\n",
    "            node.right = self._insert(node.right, key)\n",
    "        else:\n",
    "            return node  # Equal keys are not allowed in BST\n",
    "        \n",
    "        # Simple case handling for red-black violations\n",
    "        if self._is_red(node.right) and not self._is_red(node.left):\n",
    "            node = self._rotate_left(node)\n",
    "        if self._is_red(node.left) and self._is_red(node.left.left):\n",
    "            node = self._rotate_right(node)\n",
    "        if self._is_red(node.left) and self._is_red(node.right):\n",
    "            self._flip_colors(node)\n",
    "        \n",
    "        return node\n",
    "    \n",
    "    def _is_red(self, node):\n",
    "        if node is None:\n",
    "            return False\n",
    "        return node.color == 'R'\n",
    "    \n",
    "    def _rotate_left(self, node):\n",
    "        new_root = node.right\n",
    "        node.right = new_root.left\n",
    "        new_root.left = node\n",
    "        new_root.color = node.color\n",
    "        node.color = 'R'\n",
    "        return new_root\n",
    "    \n",
    "    def _rotate_right(self, node):\n",
    "        new_root = node.left\n",
    "        node.left = new_root.right\n",
    "        new_root.right = node\n",
    "        new_root.color = node.color\n",
    "        node.color = 'R'\n",
    "        return new_root\n",
    "    \n",
    "    def _flip_colors(self, node):\n",
    "        node.color = 'R'\n",
    "        node.left.color = 'B'\n",
    "        node.right.color = 'B'\n"
   ]
  },
  {
   "cell_type": "code",
   "execution_count": 44,
   "metadata": {},
   "outputs": [
    {
     "name": "stdout",
     "output_type": "stream",
     "text": [
      "Root: 20\n",
      "    L--- 10\n",
      "        L--- 5\n",
      "            L--- 1\n",
      "        R--- 15\n",
      "    R--- 25\n"
     ]
    }
   ],
   "source": [
    "my_tree = RBTree()\n",
    "nodes_to_insert = [20, 15, 25, 10, 5, 1]\n",
    "\n",
    "for node in nodes_to_insert:\n",
    "    my_tree.insert(node)\n",
    "\n",
    "my_tree.print_tree(my_tree.root)"
   ]
  },
  {
   "cell_type": "markdown",
   "metadata": {},
   "source": [
    "<h2 style=\"color:#0FCBC6\"><u> Example 7 </u></h2> Trie Tree"
   ]
  },
  {
   "cell_type": "code",
   "execution_count": 45,
   "metadata": {},
   "outputs": [],
   "source": [
    "class TrieNode:\n",
    "    def __init__(self, char):\n",
    "        self.char = char\n",
    "        self.children = {}\n",
    "        self.is_end_of_word = False\n",
    "\n",
    "class TrieTree:\n",
    "    def __init__(self):\n",
    "        self.root = TrieNode(\"\")\n",
    "\n",
    "    def insert(self, word):\n",
    "        \"\"\" Insert a new word in the tree. \"\"\"\n",
    "        node = self.root\n",
    "        for char in word:\n",
    "            if char in node.children:\n",
    "                node = node.children[char]\n",
    "            else:\n",
    "                new_node = TrieNode(char)\n",
    "                node.children[char] = new_node\n",
    "                node = new_node\n",
    "        node.is_end_of_word = True\n",
    "\n",
    "    def search(self, word):\n",
    "        \"\"\" Search for a word in the tree.\"\"\"\n",
    "        node = self.root\n",
    "        for char in word:\n",
    "            if char in node.children:\n",
    "                node = node.children[char]\n",
    "            else:\n",
    "                # Character not found, word not in trie\n",
    "                return False  \n",
    "        \n",
    "        # Return whether this word is a full word in the trie\n",
    "        return node.is_end_of_word  \n",
    "\n",
    "    def start_with_prefix(self, prefix):\n",
    "        node = self.root\n",
    "        for char in prefix:\n",
    "            if char in node.children:\n",
    "                node = node.children[char]\n",
    "            else:\n",
    "                return False    #prefix not found!\n",
    "        return True             #prefix found!\n"
   ]
  },
  {
   "cell_type": "code",
   "execution_count": 46,
   "metadata": {},
   "outputs": [
    {
     "name": "stdout",
     "output_type": "stream",
     "text": [
      "app exists in the trie\n",
      "apple exists in the trie\n",
      "appl does NOT exist in the trie\n",
      "batman exists in the trie\n",
      "batwoman does NOT exist in the trie\n",
      "baller does NOT exist in the trie\n",
      "There are words that start with ap\n",
      "There are words that start with bat\n",
      "There are NO words that start with baller\n",
      "There are NO words that start with balloon\n"
     ]
    }
   ],
   "source": [
    "trie = TrieTree()\n",
    "\n",
    "words_to_insert = [\"apple\", \"app\", \"april\", \"ant\", \"bat\", \"ball\", \"batman\"]\n",
    "for word in words_to_insert:\n",
    "    trie.insert(word)\n",
    "\n",
    "words_to_search = [\"app\", \"apple\", \"appl\", \"batman\", \"batwoman\", \"baller\"]\n",
    "for word in words_to_search:\n",
    "    if trie.search(word):\n",
    "        print(f\"{word} exists in the trie\")\n",
    "    else:\n",
    "        print(f\"{word} does NOT exist in the trie\")\n",
    "\n",
    "prefixes_to_search = [\"ap\", \"bat\", \"baller\", \"balloon\"]\n",
    "for prefix in prefixes_to_search:\n",
    "    if trie.start_with_prefix(prefix):\n",
    "        print(f\"There are words that start with {prefix}\")\n",
    "    else:\n",
    "        print(f\"There are NO words that start with {prefix}\")\n"
   ]
  },
  {
   "cell_type": "markdown",
   "metadata": {},
   "source": [
    "<h2 style=\"color:#0FCBC6\"><u> Example 8 </u></h2> B-Tree\n"
   ]
  },
  {
   "cell_type": "code",
   "execution_count": 47,
   "metadata": {},
   "outputs": [],
   "source": [
    "class BTreeNode:\n",
    "    def __init__(self, keys=None, children=None, leaf=True):\n",
    "        # Holds keys within node\n",
    "        self.keys = keys if keys else []  \n",
    "        # Child pointers\n",
    "        self.children = children if children else []  \n",
    "        # Whether the node is a leaf (True by default)\n",
    "        self.leaf = leaf  \n",
    "\n",
    "class BTree:\n",
    "    def __init__(self, t=2):\n",
    "        # Root node of the B-Tree\n",
    "        self.root = None  \n",
    "        # Define the minimum degree of the B-Tree\n",
    "        self.t = t  \n",
    "    \n",
    "    def insert(self, key):\n",
    "        # If tree is empty, create root\n",
    "        if self.root is None:\n",
    "            self.root = BTreeNode(keys=[key])\n",
    "            return\n",
    "\n",
    "        root = self.root\n",
    "        # If root is full, tree grows in height\n",
    "        if len(root.keys) == (2 * self.t) - 1:\n",
    "            temp = BTreeNode(children=[root], leaf=False)\n",
    "            self._split_child(temp, 0)\n",
    "            self.root = temp\n",
    "        \n",
    "        # Insert key to the root\n",
    "        self._insert_non_full(self.root, key)\n",
    "    \n",
    "    def _split_child(self, x, i):\n",
    "        # Split the child y of x\n",
    "        y = x.children[i]\n",
    "        z = BTreeNode(leaf=y.leaf)\n",
    "        \n",
    "        # Assign the second half of y.keys and y.children to z\n",
    "        x.children.insert(i + 1, z)\n",
    "        x.keys.insert(i, y.keys[self.t - 1])\n",
    "        \n",
    "        # y keeps first half of its keys and children\n",
    "        z.keys = y.keys[self.t:]\n",
    "        y.keys = y.keys[:self.t - 1]\n",
    "        \n",
    "        if not y.leaf:\n",
    "            z.children = y.children[self.t:]\n",
    "            y.children = y.children[:self.t]\n",
    "\n",
    "    def _insert_non_full(self, x, key):\n",
    "        # Inserts key into non-full node x\n",
    "        i = len(x.keys) - 1\n",
    "        if x.leaf:\n",
    "            # If x is a leaf, just insert key\n",
    "            x.keys.append(0)\n",
    "            while i >= 0 and key < x.keys[i]:\n",
    "                x.keys[i + 1] = x.keys[i]\n",
    "                i -= 1\n",
    "            x.keys[i + 1] = key\n",
    "        else:\n",
    "            # If x is an internal node\n",
    "            while i >= 0 and key < x.keys[i]:\n",
    "                i -= 1\n",
    "            i += 1\n",
    "            # If child is full, split it\n",
    "            if len(x.children[i].keys) == (2 * self.t) - 1:\n",
    "                self._split_child(x, i)\n",
    "                # Determine which of the two children to recur down to\n",
    "                if key > x.keys[i]:\n",
    "                    i += 1\n",
    "            self._insert_non_full(x.children[i], key)\n",
    "\n",
    "    def search(self, x, key):\n",
    "        \"\"\" Search key in tree rooted with x. \"\"\"\n",
    "        i = 0\n",
    "        # Find the first key greater than or equal to k\n",
    "        while i < len(x.keys) and key > x.keys[i]:  \n",
    "            i += 1\n",
    "        # If the found key is equal to k, return this node and i\n",
    "        if i < len(x.keys) and key == x.keys[i]:\n",
    "            return x, i\n",
    "        # If the key is not present in current root and this is a leaf node\n",
    "        elif x.leaf:\n",
    "            return None\n",
    "        # Go to the appropriate child\n",
    "        return self.search(x.children[i], key)\n",
    "\n",
    "    def print_tree(self, x, l=0):\n",
    "        #### Print keys at current level\n",
    "        print(\"Level \", l, \" \", len(x.keys), end=\":\")\n",
    "        for k in x.keys:\n",
    "            print(k, end=\" \")\n",
    "        print()\n",
    "        ##### Print keys in child nodes (if any)\n",
    "        l += 1\n",
    "        if len(x.children) > 0:\n",
    "            for child in x.children:\n",
    "                self.print_tree(child, l)\n",
    "    \n",
    "    def print_tree2(self, node, level=0):\n",
    "        assert isinstance(node, BTreeNode)\n",
    "        print(' ' * (level * 4) + '|--', node.keys)\n",
    "        \n",
    "        level += 1\n",
    "        for child in node.children:\n",
    "            self.print_tree2(child, level)"
   ]
  },
  {
   "cell_type": "markdown",
   "metadata": {},
   "source": [
    "<h3 style=\"color:#0FCBC6 \"> Recap: Balanced trees </h3>\n",
    "<div style=\"margin-top: -8px;\">\n",
    "\n",
    "A B-tree is a self-balancing tree data structure that is similar to binary trees, but with a more flexible structure to store more data in less space, <br>\n",
    "since Binary trees can be limiting for storing large amounts of data. <br>\n",
    "B-trees relax the strict hierarchical structure of binary trees by allowing for nodes with more than two children. <br>\n",
    "In general, each node has a large number of descendants (fan out), and therefore the majority of pages are leaf nodes​ <br>\n",
    "The lengths of the paths from the root node to the leaf nodes are all equal. \n",
    "\n",
    "B-trees are commonly used in file systems, database systems, and other applications that need to store and retrieve large amounts of data efficiently. <br>\n",
    "They maintains sorted data and allows searches, sequential access, insertions, and deletions in logarithmic time. <br>\n",
    "<div>"
   ]
  },
  {
   "cell_type": "code",
   "execution_count": 48,
   "metadata": {},
   "outputs": [
    {
     "name": "stdout",
     "output_type": "stream",
     "text": [
      "Level  0   1:17 \n",
      "Level  1   2:3 7 \n",
      "Level  2   1:2 \n",
      "Level  2   2:4 5 \n",
      "Level  2   1:11 \n",
      "Level  1   2:25 97 \n",
      "Level  2   1:23 \n",
      "Level  2   3:35 50 51 \n",
      "Level  2   1:100 \n",
      "\n",
      "|-- [17]\n",
      "    |-- [3, 7]\n",
      "        |-- [2]\n",
      "        |-- [4, 5]\n",
      "        |-- [11]\n",
      "    |-- [25, 97]\n",
      "        |-- [23]\n",
      "        |-- [35, 50, 51]\n",
      "        |-- [100]\n",
      "\n",
      "100 is found!! =) \n",
      "200 is not found =( \n"
     ]
    }
   ],
   "source": [
    "btree = BTree(t=2)\n",
    "keys = [17, 3, 25, 2, 11, 7, 5, 23, 97, 50, 100, 4, 35, 51]\n",
    "\n",
    "for key in keys:\n",
    "    btree.insert(key)\n",
    "\n",
    "btree.print_tree(btree.root)\n",
    "print()\n",
    "btree.print_tree2(btree.root)\n",
    "\n",
    "search_keys = [100, 200]\n",
    "for key in search_keys:\n",
    "    node, _ = btree.search(btree.root, key) if btree.search(btree.root, key) else (None, None)\n",
    "    if node:\n",
    "        print(f\"\\n{key} is found!! =) \")\n",
    "    else:\n",
    "        print(f\"{key} is not found =( \")\n"
   ]
  },
  {
   "cell_type": "markdown",
   "metadata": {},
   "source": [
    "<h2 style=\"color:#0FCBC6\"><u> Example 9 </u></h2> \n",
    "B + Trees => The leaf nodes are linked in a chain in the order imposed by the key.​"
   ]
  },
  {
   "cell_type": "code",
   "execution_count": 49,
   "metadata": {},
   "outputs": [],
   "source": [
    "class BPlusTreeNode:\n",
    "    def __init__(self, is_leaf=False):\n",
    "        self.is_leaf = is_leaf\n",
    "        self.keys = []\n",
    "        self.children = []\n",
    "\n",
    "class BPlusTree:\n",
    "    def __init__(self, t):\n",
    "        self.root = BPlusTreeNode(True)\n",
    "        self.t = t  # Min number of keys in a node (GRADO)\n",
    "\n",
    "    def insert(self, key):\n",
    "        root = self.root\n",
    "        if len(root.keys) == (2 * self.t) - 1:  # Full node\n",
    "            temp = BPlusTreeNode()\n",
    "            self.root = temp\n",
    "            temp.children.insert(0, root)\n",
    "            self.split_child(temp, 0)\n",
    "            self.insert_non_full(temp, key)\n",
    "        else:\n",
    "            self.insert_non_full(root, key)\n",
    "\n",
    "    def insert_non_full(self, node, key):\n",
    "        i = len(node.keys) - 1\n",
    "        if node.is_leaf:\n",
    "            node.keys.append(None)\n",
    "            while i >= 0 and key < node.keys[i]:\n",
    "                node.keys[i + 1] = node.keys[i]\n",
    "                i -= 1\n",
    "            node.keys[i + 1] = key\n",
    "        else:\n",
    "            while i >= 0 and key < node.keys[i]:\n",
    "                i -= 1\n",
    "            i += 1\n",
    "            if len(node.children[i].keys) == (2 * self.t) - 1:\n",
    "                self.split_child(node, i)\n",
    "                if key > node.keys[i]:\n",
    "                    i += 1\n",
    "            self.insert_non_full(node.children[i], key)\n",
    "\n",
    "    def split_child(self, parent, i):\n",
    "        t = self.t\n",
    "        child = parent.children[i]\n",
    "        new_child = BPlusTreeNode(child.is_leaf)\n",
    "        parent.children.insert(i + 1, new_child)\n",
    "        parent.keys.insert(i, child.keys[t - 1])\n",
    "\n",
    "        new_child.keys = child.keys[t:(2 * t) - 1]\n",
    "        child.keys = child.keys[0:t - 1]\n",
    "\n",
    "        if not child.is_leaf:\n",
    "            new_child.children = child.children[t:2 * t]\n",
    "            child.children = child.children[0:t]\n",
    "\n",
    "    # Metodo per la stampa (traversal)\n",
    "    def print_tree(self, node, lvl=0):\n",
    "        print(\"Level\", lvl, \" \", len(node.keys), end=\":\")\n",
    "        for k in node.keys:\n",
    "            print(k, end=\" \")\n",
    "        print()\n",
    "        if len(node.children) > 0:\n",
    "            for child in node.children:\n",
    "                self.print_tree(child, lvl + 1)"
   ]
  },
  {
   "cell_type": "code",
   "execution_count": 50,
   "metadata": {},
   "outputs": [
    {
     "name": "stdout",
     "output_type": "stream",
     "text": [
      "Level 0   1:10 \n",
      "Level 1   3:5 6 7 \n",
      "Level 1   4:12 17 20 30 \n"
     ]
    }
   ],
   "source": [
    "bpt = BPlusTree(3)\n",
    "for i in [10, 20, 5, 6, 12, 30, 7, 17]:\n",
    "    bpt.insert(i)\n",
    "\n",
    "bpt.print_tree(bpt.root)"
   ]
  }
 ],
 "metadata": {
  "kernelspec": {
   "display_name": "MLearning",
   "language": "python",
   "name": "python3"
  },
  "language_info": {
   "codemirror_mode": {
    "name": "ipython",
    "version": 3
   },
   "file_extension": ".py",
   "mimetype": "text/x-python",
   "name": "python",
   "nbconvert_exporter": "python",
   "pygments_lexer": "ipython3",
   "version": "3.10.9"
  },
  "orig_nbformat": 4
 },
 "nbformat": 4,
 "nbformat_minor": 2
}
