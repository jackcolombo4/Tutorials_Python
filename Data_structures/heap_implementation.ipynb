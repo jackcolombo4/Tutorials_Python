{
 "cells": [
  {
   "cell_type": "markdown",
   "metadata": {},
   "source": [
    "<h1 style=\"color:#709594\"> Heaps </h1>"
   ]
  },
  {
   "cell_type": "markdown",
   "metadata": {},
   "source": [
    "<h3 style=\"color:#709594\"> Recap: Min-Heap </h3>\n",
    "<div style=\"margin-top: -20px;\">\n",
    "\n",
    "- The smallest element is always at the root. <br>\n",
    "- All parent nodes have values smaller than or equal to the values of their children. <br>\n",
    "</div>"
   ]
  },
  {
   "cell_type": "code",
   "execution_count": 1,
   "metadata": {},
   "outputs": [],
   "source": [
    "class MinHeap:\n",
    "    def __init__(self):\n",
    "        self.heap = []\n",
    "\n",
    "    def insert(self, value):\n",
    "        self.heap.append(value)\n",
    "        self._heapify_up(len(self.heap) - 1)\n",
    "\n",
    "    def extract_min(self):\n",
    "        if not self.heap:\n",
    "            return None\n",
    "        if len(self.heap) == 1:\n",
    "            return self.heap.pop()\n",
    "\n",
    "        # Swap the root (min element) with the last element\n",
    "        min_val = self.heap[0]\n",
    "        self.heap[0] = self.heap.pop()\n",
    "        self._heapify_down(0)\n",
    "\n",
    "        return min_val\n",
    "\n",
    "    def _heapify_up(self, index):\n",
    "        parent_index = (index - 1) // 2\n",
    "        if index > 0 and self.heap[index] < self.heap[parent_index]:\n",
    "            # Swap the element with its parent if it's smaller\n",
    "            self.heap[index], self.heap[parent_index] = self.heap[parent_index], self.heap[index]\n",
    "            self._heapify_up(parent_index)\n",
    "\n",
    "    def _heapify_down(self, index):\n",
    "        left_child_index = 2 * index + 1\n",
    "        right_child_index = 2 * index + 2\n",
    "        smallest = index\n",
    "\n",
    "        if (left_child_index < len(self.heap)\n",
    "            and self.heap[left_child_index] < self.heap[smallest]):\n",
    "            smallest = left_child_index\n",
    "\n",
    "        if (right_child_index < len(self.heap)\n",
    "            and self.heap[right_child_index] < self.heap[smallest]):\n",
    "            smallest = right_child_index\n",
    "\n",
    "        if smallest != index:\n",
    "            # Swap the element with its smallest child if necessary\n",
    "            self.heap[index], self.heap[smallest] = self.heap[smallest], self.heap[index]\n",
    "            self._heapify_down(smallest)\n",
    "\n",
    "    def peek_min(self):\n",
    "        return self.heap[0] if self.heap else None\n",
    "\n",
    "    def is_empty(self):\n",
    "        return len(self.heap) == 0\n",
    "\n",
    "    def size(self):\n",
    "        return len(self.heap)"
   ]
  },
  {
   "cell_type": "code",
   "execution_count": 2,
   "metadata": {},
   "outputs": [
    {
     "name": "stdout",
     "output_type": "stream",
     "text": [
      "1\n",
      "2\n",
      "False\n",
      "4\n"
     ]
    }
   ],
   "source": [
    "heap = MinHeap()\n",
    "\n",
    "##### Insert elements\n",
    "heap.insert(4)\n",
    "heap.insert(8)\n",
    "heap.insert(2)\n",
    "heap.insert(7)\n",
    "heap.insert(1)\n",
    "\n",
    "# Extract the minimum element \n",
    "print(heap.extract_min())  \n",
    "# Peek at the minimum element\n",
    "print(heap.peek_min())  \n",
    "# Check if the heap is empty \n",
    "print(heap.is_empty())  \n",
    "# Get the size of the heap \n",
    "print(heap.size())  "
   ]
  },
  {
   "cell_type": "markdown",
   "metadata": {},
   "source": [
    "<div style=\"line-height:0.6\">\n",
    "<h3 style=\"color:#709594\">Max-Heap Recap:</h3>\n",
    "<div style=\"line-height:1.2\">\n",
    "\n",
    "- The largest element is always at the root.  <br>\n",
    "- All parent nodes have values larger than or equal to the values of their children.  <br>\n",
    "</div>\n",
    "</div>"
   ]
  },
  {
   "cell_type": "code",
   "execution_count": 3,
   "metadata": {},
   "outputs": [],
   "source": [
    "class MaxHeap:\n",
    "    def __init__(self):\n",
    "        self.heap = []\n",
    "\n",
    "    def insert(self, value):\n",
    "        self.heap.append(value)\n",
    "        self._heapify_up(len(self.heap) - 1)\n",
    "\n",
    "    def extract_max(self):\n",
    "        if not self.heap:\n",
    "            return None\n",
    "\n",
    "        if len(self.heap) == 1:\n",
    "            return self.heap.pop()\n",
    "\n",
    "        # Swap the root (max element) with the last element\n",
    "        max_val = self.heap[0]\n",
    "        self.heap[0] = self.heap.pop()\n",
    "        self._heapify_down(0)\n",
    "\n",
    "        return max_val\n",
    "\n",
    "    def _heapify_up(self, index):\n",
    "        parent_index = (index - 1) // 2\n",
    "        if index > 0 and self.heap[index] > self.heap[parent_index]:\n",
    "            # Swap the element with its parent if it's larger\n",
    "            self.heap[index], self.heap[parent_index] = self.heap[parent_index], self.heap[index]\n",
    "            self._heapify_up(parent_index)\n",
    "\n",
    "    def _heapify_down(self, index):\n",
    "        left_child_index = 2 * index + 1\n",
    "        right_child_index = 2 * index + 2\n",
    "        largest = index\n",
    "\n",
    "        if (left_child_index < len(self.heap)\n",
    "            and self.heap[left_child_index] > self.heap[largest]):\n",
    "            largest = left_child_index\n",
    "\n",
    "        if (right_child_index < len(self.heap)\n",
    "            and self.heap[right_child_index] > self.heap[largest]):\n",
    "            largest = right_child_index\n",
    "\n",
    "        if largest != index:\n",
    "            # Swap the element with its largest child if necessary\n",
    "            self.heap[index], self.heap[largest] = self.heap[largest], self.heap[index]\n",
    "            self._heapify_down(largest)\n",
    "\n",
    "    def peek_max(self):\n",
    "        return self.heap[0] if self.heap else None\n",
    "\n",
    "    def is_empty(self):\n",
    "        return len(self.heap) == 0\n",
    "\n",
    "    def size(self):\n",
    "        return len(self.heap)\n"
   ]
  },
  {
   "cell_type": "code",
   "execution_count": 4,
   "metadata": {},
   "outputs": [
    {
     "name": "stdout",
     "output_type": "stream",
     "text": [
      "8\n",
      "7\n",
      "False\n",
      "4\n"
     ]
    }
   ],
   "source": [
    "max_heap = MaxHeap()\n",
    "\n",
    "##### Insert elements\n",
    "max_heap.insert(4)\n",
    "max_heap.insert(8)\n",
    "max_heap.insert(2)\n",
    "max_heap.insert(7)\n",
    "max_heap.insert(1)\n",
    "\n",
    "# Extract the maximum element \n",
    "print(max_heap.extract_max()) \n",
    "# Peek at the maximum element \n",
    "print(max_heap.peek_max()) \n",
    "# Check if the heap is empty \n",
    "print(max_heap.is_empty())  \n",
    "# Get the size of the heap \n",
    "print(max_heap.size())  "
   ]
  }
 ],
 "metadata": {
  "kernelspec": {
   "display_name": "MLearning",
   "language": "python",
   "name": "python3"
  },
  "language_info": {
   "codemirror_mode": {
    "name": "ipython",
    "version": 3
   },
   "file_extension": ".py",
   "mimetype": "text/x-python",
   "name": "python",
   "nbconvert_exporter": "python",
   "pygments_lexer": "ipython3",
   "version": "3.10.9"
  },
  "orig_nbformat": 4
 },
 "nbformat": 4,
 "nbformat_minor": 2
}
