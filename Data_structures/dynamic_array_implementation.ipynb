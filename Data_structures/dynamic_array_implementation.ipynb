{
 "cells": [
  {
   "cell_type": "code",
   "execution_count": 32,
   "metadata": {},
   "outputs": [],
   "source": [
    "class DynamicArray:\n",
    "    \n",
    "    def __init__(self, capacity: int):\n",
    "        self.capacity = capacity\n",
    "        self.length = 0\n",
    "        self.dynarray = [0] * self.capacity\n",
    "\n",
    "    def __str__(self):\n",
    "        \"\"\" Return a human-readable string representation. It define what happens when a DynamicArray object is printed. \"\"\"\n",
    "        return f\"DynamicArray: capacity={self.capacity}, length={self.length}, dynarray={self.dynarray}\"\n",
    "    \n",
    "    def __repr__(self):\n",
    "        \"\"\"\" Return an unambiguous and detailed string representation of an object, primarily for developers and debugging. \"\"\"\n",
    "        return f\"DynamicArray(capacity={self.capacity}, length={self.length}, dynarray={self.dynarray})\"\n",
    "        \n",
    "    def __enter__(self):\n",
    "        \"\"\"Enter the runtime context related to this object. To use \"with\" \"\"\"\n",
    "        return self\n",
    "\n",
    "    def __exit__(self, exc_type, exc_val, exc_tb):\n",
    "        \"\"\" Exit the runtime context and perform any necessary cleanup.\n",
    "        exc_type, exc_val, exc_tb are for exception handling.\n",
    "        \"\"\"\n",
    "        self.clear()\n",
    "        return not exc_type\n",
    "\n",
    "    def get(self, i: int) -> int:\n",
    "        return self.dynarray[i]\n",
    "\n",
    "    def set(self, i: int, n: int) -> None:\n",
    "        self.dynarray[i] = n\n",
    "\n",
    "    def pushback(self, n: int) -> None:\n",
    "        if self.length == self.capacity:\n",
    "            self.resize()\n",
    "        \n",
    "        self.dynarray[self.length] = n\n",
    "        self.length += 1\n",
    "\n",
    "    def popback(self) -> int:\n",
    "        if self.length > 0:\n",
    "            self.length -= 1\n",
    "        return self.dynarray[self.length]        \n",
    "\n",
    "    def resize(self) -> None:\n",
    "        #new_arr = [0] * self.capacity\n",
    "        #self.dynarray.extend(new_arr)\n",
    "        self.capacity = 2 * self.capacity\n",
    "        new_arr = [0] * self.capacity \n",
    "        \n",
    "        # Copy elements to new_arr\n",
    "        for i in range(self.length):\n",
    "            new_arr[i] = self.dynarray[i]\n",
    "        self.dynarray = new_arr\n",
    "\n",
    "    def getSize(self) -> int:\n",
    "        return self.length\n",
    "    \n",
    "    def getCapacity(self) -> int:\n",
    "        return self.capacity\n",
    "\n",
    "    def insert(self, i: int, n: int) -> None:\n",
    "        if self.length == self.capacity:\n",
    "            self.resize()\n",
    "        for j in range(self.length, i, -1):\n",
    "            self.dynarray[j] = self.dynarray[j - 1]\n",
    "        self.dynarray[i] = n\n",
    "        self.length += 1\n",
    "\n",
    "    def remove(self, i: int) -> None:\n",
    "        for j in range(i, self.length - 1):\n",
    "            self.dynarray[j] = self.dynarray[j + 1]\n",
    "        self.length -= 1\n",
    "\n",
    "    def clear(self) -> None:\n",
    "        for i in range(self.length):\n",
    "            self.dynarray[i] = 0\n",
    "        self.length = 0\n",
    "\n",
    "    def contains(self, n: int) -> bool:\n",
    "        return n in self.dynarray[:self.length]\n",
    "\n",
    "    def extend(self, other) -> None:\n",
    "        for element in other:\n",
    "            self.pushback(element)\n",
    "\n",
    "    def __iter__(self):\n",
    "        \"\"\" Return an iterator object that iterates over the elements of the array. \"\"\"\n",
    "        self._iter_index = 0\n",
    "        return self\n",
    "\n",
    "    def __next__(self):\n",
    "        \"\"\" Return the next element in the array during iteration. \"\"\"\n",
    "        if self._iter_index < self.length:\n",
    "            result = self.dynarray[self._iter_index]\n",
    "            self._iter_index += 1\n",
    "            return result\n",
    "        else:\n",
    "            raise StopIteration  "
   ]
  },
  {
   "cell_type": "code",
   "execution_count": 19,
   "metadata": {},
   "outputs": [
    {
     "name": "stdout",
     "output_type": "stream",
     "text": [
      "DynamicArray: capacity=10, length=5, dynarray=[1, 2, 3, 4, 5, 0, 0, 0, 0, 0]\n",
      "DynamicArray(capacity=10, length=5, dynarray=[1, 2, 3, 4, 5, 0, 0, 0, 0, 0])\n"
     ]
    }
   ],
   "source": [
    "obj = DynamicArray(10)\n",
    "obj.pushback(1)\n",
    "obj.pushback(2)\n",
    "obj.pushback(3)\n",
    "obj.pushback(4)\n",
    "obj.pushback(5)\n",
    "\n",
    "print(obj)\n",
    "print(repr(obj))"
   ]
  },
  {
   "cell_type": "code",
   "execution_count": 20,
   "metadata": {},
   "outputs": [
    {
     "data": {
      "text/plain": [
       "DynamicArray(capacity=5, length=1, dynarray=[20, 20, 0, 0, 0])"
      ]
     },
     "execution_count": 20,
     "metadata": {},
     "output_type": "execute_result"
    }
   ],
   "source": [
    "dyn_arr = DynamicArray(5)\n",
    "\n",
    "dyn_arr.insert(0, 10)\n",
    "dyn_arr.insert(1, 20)\n",
    "dyn_arr.remove(0)\n",
    "\n",
    "dyn_arr"
   ]
  },
  {
   "cell_type": "code",
   "execution_count": 26,
   "metadata": {},
   "outputs": [
    {
     "data": {
      "text/plain": [
       "False"
      ]
     },
     "execution_count": 26,
     "metadata": {},
     "output_type": "execute_result"
    }
   ],
   "source": [
    "dyn_arr.contains(20)"
   ]
  },
  {
   "cell_type": "code",
   "execution_count": 27,
   "metadata": {},
   "outputs": [
    {
     "data": {
      "text/plain": [
       "DynamicArray(capacity=5, length=3, dynarray=[30, 40, 50, 0, 0])"
      ]
     },
     "execution_count": 27,
     "metadata": {},
     "output_type": "execute_result"
    }
   ],
   "source": [
    "dyn_arr.extend([30, 40, 50])\n",
    "dyn_arr"
   ]
  },
  {
   "cell_type": "code",
   "execution_count": 28,
   "metadata": {},
   "outputs": [
    {
     "data": {
      "text/plain": [
       "DynamicArray(capacity=5, length=0, dynarray=[0, 0, 0, 0, 0])"
      ]
     },
     "execution_count": 28,
     "metadata": {},
     "output_type": "execute_result"
    }
   ],
   "source": [
    "dyn_arr.clear()\n",
    "dyn_arr"
   ]
  },
  {
   "cell_type": "code",
   "execution_count": 30,
   "metadata": {},
   "outputs": [
    {
     "name": "stdout",
     "output_type": "stream",
     "text": [
      "DynamicArray: capacity=15, length=2, dynarray=[1, 2, 0, 0, 0, 0, 0, 0, 0, 0, 0, 0, 0, 0, 0]\n"
     ]
    }
   ],
   "source": [
    "with DynamicArray(15) as arr:\n",
    "    arr.pushback(1)\n",
    "    arr.pushback(2)\n",
    "    print(arr)"
   ]
  },
  {
   "cell_type": "code",
   "execution_count": 33,
   "metadata": {},
   "outputs": [
    {
     "name": "stdout",
     "output_type": "stream",
     "text": [
      "11\n",
      "22\n",
      "33\n"
     ]
    }
   ],
   "source": [
    "dyn_arr = DynamicArray(3)\n",
    "dyn_arr.pushback(11)\n",
    "dyn_arr.pushback(22)\n",
    "dyn_arr.pushback(33)\n",
    "\n",
    "# TypeError: 'DynamicArray' object is not iterable until __iter__ and __next__ are not defined!\n",
    "for item in dyn_arr:\n",
    "    print(item)"
   ]
  }
 ],
 "metadata": {
  "kernelspec": {
   "display_name": "MLearning",
   "language": "python",
   "name": "python3"
  },
  "language_info": {
   "codemirror_mode": {
    "name": "ipython",
    "version": 3
   },
   "file_extension": ".py",
   "mimetype": "text/x-python",
   "name": "python",
   "nbconvert_exporter": "python",
   "pygments_lexer": "ipython3",
   "version": "3.10.9"
  },
  "orig_nbformat": 4
 },
 "nbformat": 4,
 "nbformat_minor": 2
}
