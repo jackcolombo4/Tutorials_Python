{
 "cells": [
  {
   "cell_type": "markdown",
   "metadata": {},
   "source": [
    "<h1 style=\"color:#E07D41\"> Stacks </h1>"
   ]
  },
  {
   "cell_type": "code",
   "execution_count": 7,
   "metadata": {},
   "outputs": [],
   "source": [
    "class Stack:\n",
    "\tdef __init__(self):\n",
    "\t\tself.items = []\n",
    "\tdef is_empty(self):\n",
    "\t\treturn self.items == []\n",
    "\tdef push(self, item):\n",
    "\t\tself.items.append(item)\n",
    "\tdef pop(self):\n",
    "\t\treturn self.items.pop()\n",
    "\tdef peek(self):\n",
    "\t\treturn self.items[-1]\n",
    "\tdef size(self):\n",
    "\t\treturn len(self.items)\n",
    "\tdef print_stack(self):\n",
    "\t\tprint(self.items)\n",
    "\tdef reverse(self):\n",
    "\t\tself.items.reverse()\n",
    "\tdef sort(self):\n",
    "\t\tself.items.sort()"
   ]
  },
  {
   "cell_type": "markdown",
   "metadata": {},
   "source": [
    "<h3 style=\"color:#E07D41\"> <u> Example 1 </u> </h3>"
   ]
  },
  {
   "cell_type": "code",
   "execution_count": 8,
   "metadata": {},
   "outputs": [
    {
     "name": "stdout",
     "output_type": "stream",
     "text": [
      "[5, 3, 7]\n"
     ]
    }
   ],
   "source": [
    "s = Stack()\n",
    "s.push(5)\n",
    "s.push(3)\n",
    "s.push(7)\n",
    "\n",
    "s.print_stack() "
   ]
  },
  {
   "cell_type": "code",
   "execution_count": 9,
   "metadata": {},
   "outputs": [
    {
     "name": "stdout",
     "output_type": "stream",
     "text": [
      "[3, 5, 7]\n"
     ]
    }
   ],
   "source": [
    "s.sort() \n",
    "s.print_stack()"
   ]
  },
  {
   "cell_type": "code",
   "execution_count": 10,
   "metadata": {},
   "outputs": [
    {
     "name": "stdout",
     "output_type": "stream",
     "text": [
      "[7, 5, 3]\n"
     ]
    }
   ],
   "source": [
    "s.reverse()\n",
    "s.print_stack() "
   ]
  },
  {
   "cell_type": "markdown",
   "metadata": {},
   "source": [
    "<h3 style=\"color:#E07D41\"> <u> Example 2 </u> </h3>"
   ]
  },
  {
   "cell_type": "code",
   "execution_count": 11,
   "metadata": {},
   "outputs": [],
   "source": [
    "class Multistack:\n",
    "    \"\"\" using 2 stacks \"\"\"\n",
    "    def __init__(self):\n",
    "        self.stack = []\n",
    "        self.minstack = []\n",
    "\n",
    "    def push(self, val:int) -> None:\n",
    "        self.stack.append(val)\n",
    "        # if not empty, otherwise the minimum is the current val\n",
    "        val = min(val, self.minstack[-1] if self.minstack else val) \n",
    "        self.minstack.append(val)\n",
    "    \n",
    "    def pop(self, ):\n",
    "        self.stack.pop()\n",
    "        self.minstack.pop()\n",
    "\n",
    "    def top(self, ):\n",
    "        return self.stack[-1]\n",
    "    \n",
    "    def getMin(self, ):\n",
    "        return self.minstack[-1]"
   ]
  },
  {
   "cell_type": "code",
   "execution_count": 12,
   "metadata": {},
   "outputs": [],
   "source": [
    "class Multistack2:\n",
    "    \"\"\" using 1 stack with a tuple \"\"\"\n",
    "    def __init__(self):\n",
    "        self.minstack = []\n",
    "\n",
    "    def push(self, val:int) -> None:\n",
    "        # If not empty, otherwise the minimum is the current val\n",
    "        min_val = min(val, self.minstack[-1][1] if self.minstack else val)\n",
    "        self.minstack.append((val, min_val))\n",
    "    \n",
    "    def pop(self, ) -> None:\n",
    "        self.minstack.pop()\n",
    "\n",
    "    def top(self, ) -> int:\n",
    "        return self.minstack[-1][0] if self.minstack else None\n",
    "    \n",
    "    def getMin(self, ) -> int:\n",
    "        return self.minstack[-1][1] if self.minstack else None"
   ]
  },
  {
   "cell_type": "code",
   "execution_count": 13,
   "metadata": {},
   "outputs": [
    {
     "name": "stdout",
     "output_type": "stream",
     "text": [
      "2\n",
      "-3\n"
     ]
    }
   ],
   "source": [
    "obj = Multistack()\n",
    "obj.push(3)\n",
    "obj.push(2)\n",
    "mini = obj.getMin()\n",
    "print(mini)\n",
    "obj.push(-1)\n",
    "obj.push(-3)\n",
    "mini = obj.getMin()\n",
    "print(mini)"
   ]
  },
  {
   "cell_type": "code",
   "execution_count": 14,
   "metadata": {},
   "outputs": [
    {
     "name": "stdout",
     "output_type": "stream",
     "text": [
      "2\n",
      "-3\n"
     ]
    }
   ],
   "source": [
    "obj = Multistack2()\n",
    "obj.push(3)\n",
    "obj.push(2)\n",
    "mini = obj.getMin()\n",
    "print(mini)\n",
    "obj.push(-1)\n",
    "obj.push(-3)\n",
    "mini = obj.getMin()\n",
    "print(mini)"
   ]
  }
 ],
 "metadata": {
  "kernelspec": {
   "display_name": "MLearning",
   "language": "python",
   "name": "python3"
  },
  "language_info": {
   "codemirror_mode": {
    "name": "ipython",
    "version": 3
   },
   "file_extension": ".py",
   "mimetype": "text/x-python",
   "name": "python",
   "nbconvert_exporter": "python",
   "pygments_lexer": "ipython3",
   "version": "3.10.9"
  },
  "orig_nbformat": 4
 },
 "nbformat": 4,
 "nbformat_minor": 2
}
