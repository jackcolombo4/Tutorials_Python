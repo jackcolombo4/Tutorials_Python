{
 "cells": [
  {
   "attachments": {},
   "cell_type": "markdown",
   "metadata": {},
   "source": [
    "<div style=\"line-height:0.5\">\n",
    "<h1 style=\"color:lightcoral\"> Pandas basics 3 </h1>\n",
    "</div>\n",
    "<div style=\"line-height:1.5\">\n",
    "<div style=\"margin-top: -8px;\">\n",
    "<span style=\"display: inline-block;\">\n",
    "    <h3 style=\"color: lightblue; display: inline;\">Keywords:</h3> Operations with Series + Missing values + pd.concat() + clip() \n",
    "</span>\n",
    "</div>\n",
    "</div>"
   ]
  },
  {
   "cell_type": "code",
   "execution_count": 34,
   "metadata": {},
   "outputs": [],
   "source": [
    "import math\n",
    "import numpy as np\n",
    "import pandas as pd\n",
    "from sklearn.impute import KNNImputer\n",
    "from scipy.spatial.distance import euclidean"
   ]
  },
  {
   "cell_type": "code",
   "execution_count": 35,
   "metadata": {},
   "outputs": [],
   "source": [
    "\"\"\" Create dataframes \"\"\"\n",
    "data = [\n",
    "    ('circle', 'first', 'S'),\n",
    "    ('oval', 'second', 'M'),\n",
    "    ('square', 'third', 'L'),\n",
    "    ('triangle', 'fourth', 'XL')]\n",
    "\n",
    "df = pd.DataFrame(data, columns=['Shape', 'Class', 'Size'])\n",
    "\n",
    "data = np.array([\n",
    "    ['circle', 'first', 'S'],\n",
    "    ['oval', 'second', 'M'],\n",
    "    ['square', 'third', 'L'],\n",
    "    ['triangle', 'fourth', 'XL']\n",
    "])\n",
    "\n",
    "df = pd.DataFrame(data, columns=['Shape', 'Class', 'Size'])\n",
    "\n",
    "shape = ['circle', 'oval', 'square', 'triangle']\n",
    "klass = ['first', 'second', 'third', 'fourth']\n",
    "size = ['S', 'M', 'L', 'XL']\n",
    "\n",
    "data = []\n",
    "\n",
    "for i in range(len(shape)):\n",
    "    data.append({'Shape': shape[i], 'Class': klass[i], 'Size': size[i]})\n",
    "\n",
    "df = pd.DataFrame(data)"
   ]
  },
  {
   "cell_type": "markdown",
   "metadata": {},
   "source": [
    "<h2 style=\"color:lightcoral\"> <u> #0 Series </u></h2>"
   ]
  },
  {
   "cell_type": "code",
   "execution_count": 5,
   "metadata": {},
   "outputs": [
    {
     "data": {
      "text/plain": [
       "(0    1\n",
       " 1    2\n",
       " 2    3\n",
       " 3    4\n",
       " 4    5\n",
       " 5    6\n",
       " 6    7\n",
       " 7    8\n",
       " dtype: int64,\n",
       " 0    4\n",
       " 1    5\n",
       " dtype: int64,\n",
       " 0    1\n",
       " 1    2\n",
       " 2    3\n",
       " 5    6\n",
       " 6    7\n",
       " 7    8\n",
       " dtype: int64)"
      ]
     },
     "execution_count": 5,
     "metadata": {},
     "output_type": "execute_result"
    }
   ],
   "source": [
    "\"\"\" Get all items not in common \"\"\"\n",
    "serie1 = pd.Series([1,2,3,4,5])\n",
    "serie2 = pd.Series([6,7,8,4,5])\n",
    "serie_union = pd.Series(np.union1d(serie1,serie2))\n",
    "serie_intersection = pd.Series(np.intersect1d(serie1, serie2))\n",
    "series_miss = serie_union[~serie_union.isin(serie_intersection)]\n",
    "serie_union, serie_intersection, series_miss"
   ]
  },
  {
   "cell_type": "code",
   "execution_count": 14,
   "metadata": {},
   "outputs": [
    {
     "name": "stdout",
     "output_type": "stream",
     "text": [
      "RandomState(MT19937)\n",
      "0     10\n",
      "1      6\n",
      "2      6\n",
      "3     12\n",
      "4      1\n",
      "5     12\n",
      "6      8\n",
      "7      5\n",
      "8     12\n",
      "9      2\n",
      "10     1\n",
      "11    12\n",
      "dtype: int64\n",
      "12    4\n",
      "6     2\n",
      "1     2\n",
      "10    1\n",
      "8     1\n",
      "5     1\n",
      "2     1\n",
      "Name: count, dtype: int64\n"
     ]
    }
   ],
   "source": [
    "\"\"\" Get frequency values (sorted in descending order). \"\"\"\n",
    "ra = np.random.RandomState(100)\n",
    "serie3 = pd.Series(np.random.randint(1,15,[12]))\n",
    "\n",
    "print(ra)\n",
    "print(serie3)\n",
    "print(serie3.value_counts())"
   ]
  },
  {
   "cell_type": "code",
   "execution_count": 27,
   "metadata": {},
   "outputs": [
    {
     "data": {
      "text/plain": [
       "1    1\n",
       "2    1\n",
       "dtype: object"
      ]
     },
     "execution_count": 27,
     "metadata": {},
     "output_type": "execute_result"
    }
   ],
   "source": [
    "\"\"\" Get a new Series containing only the values from serie3 that are not the two most common values in serie3. \"\"\"\n",
    "res = serie3[~serie3.isin(serie3.value_counts().index[:2])]\n",
    "res"
   ]
  },
  {
   "cell_type": "code",
   "execution_count": 26,
   "metadata": {},
   "outputs": [
    {
     "data": {
      "text/plain": [
       "(0    136\n",
       " 1    120\n",
       " 2    128\n",
       " 3    153\n",
       " 4    132\n",
       " 5    183\n",
       " 6    116\n",
       " dtype: int64,\n",
       " array([[1],\n",
       "        [3],\n",
       "        [4],\n",
       "        [5]]))"
      ]
     },
     "execution_count": 26,
     "metadata": {},
     "output_type": "execute_result"
    }
   ],
   "source": [
    "\"\"\" Find position of multiple of 3 \"\"\"\n",
    "serie4 = pd.Series(np.random.randint(100,200,7))\n",
    "pos = np.argwhere(serie4 % 3 == 0)\n",
    "\n",
    "serie4, pos"
   ]
  },
  {
   "cell_type": "markdown",
   "metadata": {},
   "source": [
    "Compute Euclidean Distance between Series values: => \n",
    "$ d(\\mathbf{a}, \\mathbf{b}) = \\sqrt{\\sum_{i=1}^{n} (a_{i} - b_{i})^2}$"
   ]
  },
  {
   "cell_type": "code",
   "execution_count": 35,
   "metadata": {},
   "outputs": [
    {
     "name": "stdout",
     "output_type": "stream",
     "text": [
      "18.16590212458495\n",
      "18.16590212458495\n",
      "18.16590212458495\n",
      "18.16590212458495\n"
     ]
    }
   ],
   "source": [
    "s1 = pd.Series([1,2,3,4,5,6,7,8,9,10])\n",
    "s2 = pd.Series([10,9,8,7,6,5,4,3,2,1])\n",
    "\n",
    "#1 \n",
    "print(np.linalg.norm(s1 -s2))\n",
    "#2 \n",
    "print(euclidean(s1, s2))\n",
    "#3 \n",
    "print(math.sqrt(sum((x - y) ** 2 for x, y in zip(s1, s2))))\n",
    "#4 \n",
    "print(np.sqrt(np.sum((s1 - s2) ** 2)))"
   ]
  },
  {
   "attachments": {},
   "cell_type": "markdown",
   "metadata": {},
   "source": [
    "<h2 style=\"color:lightcoral\"> <u> #1 Handling missing values </u></h2>"
   ]
  },
  {
   "cell_type": "code",
   "execution_count": 36,
   "metadata": {},
   "outputs": [
    {
     "name": "stdout",
     "output_type": "stream",
     "text": [
      "     A    B   C\n",
      "0  1.0  5.0   9\n",
      "3  4.0  8.0  12\n"
     ]
    }
   ],
   "source": [
    "data = {\n",
    "    'A': [1, 2, np.nan, 4],\n",
    "    'B': [5, np.nan, np.nan, 8],\n",
    "    'C': [9, 10, 11, 12]\n",
    "}\n",
    "df = pd.DataFrame(data)\n",
    "\n",
    "df_dropped = df.dropna()\n",
    "print(df_dropped)"
   ]
  },
  {
   "cell_type": "code",
   "execution_count": 37,
   "metadata": {},
   "outputs": [
    {
     "name": "stdout",
     "output_type": "stream",
     "text": [
      "     A    B   C\n",
      "0  1.0  5.0   9\n",
      "1  2.0  5.0  10\n",
      "2  2.0  5.0  11\n",
      "3  4.0  8.0  12\n"
     ]
    }
   ],
   "source": [
    "\"\"\" Forward fill missing values \"\"\"\n",
    "data = {\n",
    "    'A': [1, 2, np.nan, 4],\n",
    "    'B': [5, np.nan, np.nan, 8],\n",
    "    'C': [9, 10, 11, 12]\n",
    "}\n",
    "df = pd.DataFrame(data)\n",
    "\n",
    "df_ffill = df.ffill()\n",
    "print(df_ffill)"
   ]
  },
  {
   "cell_type": "code",
   "execution_count": 38,
   "metadata": {},
   "outputs": [
    {
     "name": "stdout",
     "output_type": "stream",
     "text": [
      "     A    B   C\n",
      "0  1.0  5.0   9\n",
      "1  2.0  6.0  10\n",
      "2  3.0  7.0  11\n",
      "3  4.0  8.0  12\n"
     ]
    }
   ],
   "source": [
    "\"\"\" Interpolate missing values \"\"\"\n",
    "data = {\n",
    "    'A': [1, 2, np.nan, 4],\n",
    "    'B': [5, np.nan, np.nan, 8],\n",
    "    'C': [9, 10, 11, 12]\n",
    "}\n",
    "df = pd.DataFrame(data)\n",
    "\n",
    "df_interpolated = df.interpolate()\n",
    "print(df_interpolated)"
   ]
  },
  {
   "cell_type": "code",
   "execution_count": 45,
   "metadata": {},
   "outputs": [
    {
     "name": "stdout",
     "output_type": "stream",
     "text": [
      "     A    B   C\n",
      "0  1.0  5.0   9\n",
      "1  2.0  NaN  10\n",
      "2  NaN  NaN  11\n",
      "3  4.0  8.0  12\n"
     ]
    }
   ],
   "source": [
    "\"\"\" Hot-deck imputation \"\"\"\n",
    "data = {\n",
    "    'A': [1, 2, np.nan, 4],\n",
    "    'B': [5, np.nan, np.nan, 8],\n",
    "    'C': [9, 10, 11, 12]\n",
    "}\n",
    "df = pd.DataFrame(data)\n",
    "\n",
    "for i in range(len(df)):\n",
    "    if pd.isnull(df.loc[i,'B']):\n",
    "        #df.loc[i,'B'] = df.loc[df['A'] == df.loc[i,'A'], 'B'].iloc[0]      #no! leads to IndexError: single positional indexer is out-of-bounds\n",
    "        b_values = df.loc[df['A'] == df.loc[i,'A'], 'B']\n",
    "        if b_values.notnull().any():\n",
    "            df.loc[i,'B'] = b_values.iloc[0]        \n",
    "print(df)"
   ]
  },
  {
   "cell_type": "code",
   "execution_count": 46,
   "metadata": {},
   "outputs": [
    {
     "name": "stdout",
     "output_type": "stream",
     "text": [
      "     A    B   C\n",
      "0  1.0  5.0   9\n",
      "1  2.0  5.0  10\n",
      "2  NaN  5.0  11\n",
      "3  4.0  8.0  12\n"
     ]
    }
   ],
   "source": [
    "\"\"\" Hot-deck imputation 2 \"\"\"\n",
    "data = {\n",
    "    'A': [1, 2, np.nan, 4],\n",
    "    'B': [5, np.nan, np.nan, 8],\n",
    "    'C': [9, 10, 11, 12]\n",
    "}\n",
    "df = pd.DataFrame(data)\n",
    "\n",
    "for i in range(len(df)):\n",
    "    if pd.isnull(df.loc[i,'B']):\n",
    "        matching_rows = df['A'] == df.loc[i,'A']\n",
    "        matching_non_missing_rows = df.loc[matching_rows, 'B'].dropna()\n",
    "        if len(matching_non_missing_rows) > 0:\n",
    "            df.loc[i,'B'] = matching_non_missing_rows.iloc[0]\n",
    "        else:\n",
    "            non_missing_values = df['B'].dropna()\n",
    "            if len(non_missing_values) > 0:\n",
    "                df.loc[i,'B'] = non_missing_values.iloc[0]\n",
    "\n",
    "\n",
    "print(df)"
   ]
  },
  {
   "cell_type": "code",
   "execution_count": 48,
   "metadata": {},
   "outputs": [
    {
     "name": "stdout",
     "output_type": "stream",
     "text": [
      "   A  B  C\n",
      "0  1  2  3\n",
      "1  4  5  6\n",
      "2  7  8  9\n",
      "   B  C\n",
      "0  2  3\n",
      "1  5  6\n",
      "----------------------------after\n",
      "   A  B  C\n",
      "0  1  2  3\n",
      "1  4  5  6\n",
      "2  7  8  9\n",
      "    B  C\n",
      "0  10  3\n",
      "1   5  6\n"
     ]
    }
   ],
   "source": [
    "\"\"\" Dataframe from numpy array \"\"\"\n",
    "data = np.array([[1, 2, 3], [4, 5, 6], [7, 8, 9]])\n",
    "df = pd.DataFrame(data, columns=['A', 'B', 'C'])                  \n",
    "# Select a subset of the DataFrame\n",
    "subset = df.loc[0:1, ['B', 'C']]                    \n",
    "print(df)\n",
    "print(subset)\n",
    "# Modify the subset \n",
    "subset.loc[0, 'B'] = 10                             \n",
    "\n",
    "print(\"----------------------------after\")\n",
    "print(df)\n",
    "print(subset)"
   ]
  },
  {
   "attachments": {},
   "cell_type": "markdown",
   "metadata": {},
   "source": [
    "<h3 style=\"color:lightcoral\"> <u> Example #2 </u></h3>"
   ]
  },
  {
   "cell_type": "code",
   "execution_count": 3,
   "metadata": {},
   "outputs": [
    {
     "data": {
      "text/html": [
       "<div>\n",
       "<style scoped>\n",
       "    .dataframe tbody tr th:only-of-type {\n",
       "        vertical-align: middle;\n",
       "    }\n",
       "\n",
       "    .dataframe tbody tr th {\n",
       "        vertical-align: top;\n",
       "    }\n",
       "\n",
       "    .dataframe thead th {\n",
       "        text-align: right;\n",
       "    }\n",
       "</style>\n",
       "<table border=\"1\" class=\"dataframe\">\n",
       "  <thead>\n",
       "    <tr style=\"text-align: right;\">\n",
       "      <th></th>\n",
       "      <th>time_passed</th>\n",
       "      <th>pressure</th>\n",
       "    </tr>\n",
       "  </thead>\n",
       "  <tbody>\n",
       "    <tr>\n",
       "      <th>0</th>\n",
       "      <td>0</td>\n",
       "      <td>0,076</td>\n",
       "    </tr>\n",
       "    <tr>\n",
       "      <th>1</th>\n",
       "      <td>12</td>\n",
       "      <td>0,086</td>\n",
       "    </tr>\n",
       "    <tr>\n",
       "      <th>2</th>\n",
       "      <td>21</td>\n",
       "      <td>0,088</td>\n",
       "    </tr>\n",
       "    <tr>\n",
       "      <th>3</th>\n",
       "      <td>33</td>\n",
       "      <td>0,099</td>\n",
       "    </tr>\n",
       "    <tr>\n",
       "      <th>4</th>\n",
       "      <td>42</td>\n",
       "      <td>0,054</td>\n",
       "    </tr>\n",
       "    <tr>\n",
       "      <th>5</th>\n",
       "      <td>59</td>\n",
       "      <td>0,077</td>\n",
       "    </tr>\n",
       "    <tr>\n",
       "      <th>6</th>\n",
       "      <td>66</td>\n",
       "      <td>0,078</td>\n",
       "    </tr>\n",
       "    <tr>\n",
       "      <th>7</th>\n",
       "      <td>73</td>\n",
       "      <td>0,076</td>\n",
       "    </tr>\n",
       "    <tr>\n",
       "      <th>8</th>\n",
       "      <td>82</td>\n",
       "      <td>0,12</td>\n",
       "    </tr>\n",
       "    <tr>\n",
       "      <th>9</th>\n",
       "      <td>99</td>\n",
       "      <td>0,13</td>\n",
       "    </tr>\n",
       "    <tr>\n",
       "      <th>10</th>\n",
       "      <td>120</td>\n",
       "      <td>0,17</td>\n",
       "    </tr>\n",
       "    <tr>\n",
       "      <th>11</th>\n",
       "      <td>130</td>\n",
       "      <td>0,18</td>\n",
       "    </tr>\n",
       "    <tr>\n",
       "      <th>12</th>\n",
       "      <td>145</td>\n",
       "      <td>0,077</td>\n",
       "    </tr>\n",
       "    <tr>\n",
       "      <th>13</th>\n",
       "      <td>177</td>\n",
       "      <td>0,076</td>\n",
       "    </tr>\n",
       "    <tr>\n",
       "      <th>14</th>\n",
       "      <td>188</td>\n",
       "      <td>0,095</td>\n",
       "    </tr>\n",
       "    <tr>\n",
       "      <th>15</th>\n",
       "      <td>200</td>\n",
       "      <td>0,15</td>\n",
       "    </tr>\n",
       "    <tr>\n",
       "      <th>16</th>\n",
       "      <td>42</td>\n",
       "      <td>0,22</td>\n",
       "    </tr>\n",
       "    <tr>\n",
       "      <th>17</th>\n",
       "      <td>49</td>\n",
       "      <td>0,27</td>\n",
       "    </tr>\n",
       "    <tr>\n",
       "      <th>18</th>\n",
       "      <td>21</td>\n",
       "      <td>0,24</td>\n",
       "    </tr>\n",
       "    <tr>\n",
       "      <th>19</th>\n",
       "      <td>33</td>\n",
       "      <td>0,076</td>\n",
       "    </tr>\n",
       "    <tr>\n",
       "      <th>20</th>\n",
       "      <td>42</td>\n",
       "      <td>0,095</td>\n",
       "    </tr>\n",
       "    <tr>\n",
       "      <th>21</th>\n",
       "      <td>49</td>\n",
       "      <td>0,247</td>\n",
       "    </tr>\n",
       "    <tr>\n",
       "      <th>22</th>\n",
       "      <td>33</td>\n",
       "      <td>0,245</td>\n",
       "    </tr>\n",
       "    <tr>\n",
       "      <th>23</th>\n",
       "      <td>42</td>\n",
       "      <td>0,455</td>\n",
       "    </tr>\n",
       "    <tr>\n",
       "      <th>24</th>\n",
       "      <td>49</td>\n",
       "      <td>0,077</td>\n",
       "    </tr>\n",
       "    <tr>\n",
       "      <th>25</th>\n",
       "      <td>33</td>\n",
       "      <td>0,295</td>\n",
       "    </tr>\n",
       "    <tr>\n",
       "      <th>26</th>\n",
       "      <td>42</td>\n",
       "      <td>0,222</td>\n",
       "    </tr>\n",
       "    <tr>\n",
       "      <th>27</th>\n",
       "      <td>49</td>\n",
       "      <td>0,244</td>\n",
       "    </tr>\n",
       "    <tr>\n",
       "      <th>28</th>\n",
       "      <td>33</td>\n",
       "      <td>0,234</td>\n",
       "    </tr>\n",
       "    <tr>\n",
       "      <th>29</th>\n",
       "      <td>42</td>\n",
       "      <td>0,266</td>\n",
       "    </tr>\n",
       "    <tr>\n",
       "      <th>30</th>\n",
       "      <td>49</td>\n",
       "      <td>0,276</td>\n",
       "    </tr>\n",
       "    <tr>\n",
       "      <th>31</th>\n",
       "      <td>100</td>\n",
       "      <td>0,243</td>\n",
       "    </tr>\n",
       "  </tbody>\n",
       "</table>\n",
       "</div>"
      ],
      "text/plain": [
       "    time_passed pressure\n",
       "0             0    0,076\n",
       "1            12    0,086\n",
       "2            21    0,088\n",
       "3            33    0,099\n",
       "4            42    0,054\n",
       "5            59    0,077\n",
       "6            66    0,078\n",
       "7            73    0,076\n",
       "8            82     0,12\n",
       "9            99     0,13\n",
       "10          120     0,17\n",
       "11          130     0,18\n",
       "12          145    0,077\n",
       "13          177    0,076\n",
       "14          188    0,095\n",
       "15          200     0,15\n",
       "16           42     0,22\n",
       "17           49     0,27\n",
       "18           21     0,24\n",
       "19           33    0,076\n",
       "20           42    0,095\n",
       "21           49    0,247\n",
       "22           33    0,245\n",
       "23           42    0,455\n",
       "24           49    0,077\n",
       "25           33    0,295\n",
       "26           42    0,222\n",
       "27           49    0,244\n",
       "28           33    0,234\n",
       "29           42    0,266\n",
       "30           49    0,276\n",
       "31          100    0,243"
      ]
     },
     "execution_count": 3,
     "metadata": {},
     "output_type": "execute_result"
    }
   ],
   "source": [
    "\"\"\" \n",
    "# Error in \"pressure \" column name with end space => change it!\n",
    "# using sep=', ' take Nan for pressions.\n",
    "# Lead to the ParserWarning: Falling back to the 'python' engine because the 'c' engine does not support regex separators\n",
    "#df = pd.read_csv(\"./data_pandas/dataset_to_try.csv\", sep=', ') \n",
    "\"\"\"\n",
    "\n",
    "df = pd.read_csv(\"./data_pandas/dataset_to_try.csv\")\n",
    "df"
   ]
  },
  {
   "cell_type": "code",
   "execution_count": 4,
   "metadata": {},
   "outputs": [
    {
     "name": "stdout",
     "output_type": "stream",
     "text": [
      "type(df[\"pressure\"]) is = <class 'pandas.core.series.Series'>\n",
      "type(df[\"time_passed\"]) is = <class 'pandas.core.series.Series'>\n"
     ]
    },
    {
     "data": {
      "text/plain": [
       "Index(['time_passed', 'pressure'], dtype='object')"
      ]
     },
     "execution_count": 4,
     "metadata": {},
     "output_type": "execute_result"
    }
   ],
   "source": [
    "print(f'type(df[\"pressure\"]) is = {type(df[\"pressure\"])}')\n",
    "print(f'type(df[\"time_passed\"]) is = {type(df[\"time_passed\"])}')\n",
    "df.columns"
   ]
  },
  {
   "cell_type": "code",
   "execution_count": 5,
   "metadata": {},
   "outputs": [
    {
     "name": "stdout",
     "output_type": "stream",
     "text": [
      "<bound method NDFrame.describe of     time_passed pressure\n",
      "0             0    0,076\n",
      "1            12    0,086\n",
      "2            21    0,088\n",
      "3            33    0,099\n",
      "4            42    0,054\n",
      "5            59    0,077\n",
      "6            66    0,078\n",
      "7            73    0,076\n",
      "8            82     0,12\n",
      "9            99     0,13\n",
      "10          120     0,17\n",
      "11          130     0,18\n",
      "12          145    0,077\n",
      "13          177    0,076\n",
      "14          188    0,095\n",
      "15          200     0,15\n",
      "16           42     0,22\n",
      "17           49     0,27\n",
      "18           21     0,24\n",
      "19           33    0,076\n",
      "20           42    0,095\n",
      "21           49    0,247\n",
      "22           33    0,245\n",
      "23           42    0,455\n",
      "24           49    0,077\n",
      "25           33    0,295\n",
      "26           42    0,222\n",
      "27           49    0,244\n",
      "28           33    0,234\n",
      "29           42    0,266\n",
      "30           49    0,276\n",
      "31          100    0,243>\n",
      "\n",
      "       time_passed\n",
      "count    32.000000\n",
      "mean     67.343750\n",
      "std      51.626206\n",
      "min       0.000000\n",
      "25%      33.000000\n",
      "50%      49.000000\n",
      "75%      86.250000\n",
      "max     200.000000\n"
     ]
    }
   ],
   "source": [
    "# Check difference!\n",
    "print(df.describe)\n",
    "print()\n",
    "print(df.describe())"
   ]
  },
  {
   "cell_type": "code",
   "execution_count": 6,
   "metadata": {},
   "outputs": [
    {
     "name": "stdout",
     "output_type": "stream",
     "text": [
      "<class 'str'>\n",
      "<class 'numpy.float64'>\n"
     ]
    },
    {
     "data": {
      "text/plain": [
       "0.16678125"
      ]
     },
     "execution_count": 6,
     "metadata": {},
     "output_type": "execute_result"
    }
   ],
   "source": [
    "\"\"\" How to face the situation in which I have strings elements instead of float numbers ? \n",
    "When I have the comma instead of the dot for floats \"\"\"\n",
    "type(df[\"pressure\"])\n",
    "type(df[\"time_passed\"])\n",
    "\n",
    "a = df[\"pressure\"][0]\n",
    "print(type(a))\n",
    "\n",
    "#df['pressure'] = df['pressure'].astype(float)                                      #ValueError: could not convert string to float: '0,076' since there are non-numeric values\n",
    "#df['pressure'] = pd.to_numeric(df['pressure'], errors='coerce').astype(float)      #transform all to NaN => useless!\n",
    "#df['pressure'] = df['pressure'].str.replace(',', '.').astype(float)                #AttributeError: Can only use .str accessor with string values!\n",
    "\n",
    "df['pressure'] = df['pressure'].astype(str).str.replace(',', '.').astype(float)     #OK!!\n",
    "\n",
    "\n",
    "a = df[\"pressure\"][0]\n",
    "print(type(a))\n",
    "\n",
    "df['pressure'].mean()"
   ]
  },
  {
   "cell_type": "code",
   "execution_count": 7,
   "metadata": {},
   "outputs": [
    {
     "data": {
      "text/html": [
       "<div>\n",
       "<style scoped>\n",
       "    .dataframe tbody tr th:only-of-type {\n",
       "        vertical-align: middle;\n",
       "    }\n",
       "\n",
       "    .dataframe tbody tr th {\n",
       "        vertical-align: top;\n",
       "    }\n",
       "\n",
       "    .dataframe thead th {\n",
       "        text-align: right;\n",
       "    }\n",
       "</style>\n",
       "<table border=\"1\" class=\"dataframe\">\n",
       "  <thead>\n",
       "    <tr style=\"text-align: right;\">\n",
       "      <th></th>\n",
       "      <th>time_passed</th>\n",
       "      <th>pressure</th>\n",
       "    </tr>\n",
       "  </thead>\n",
       "  <tbody>\n",
       "    <tr>\n",
       "      <th>0</th>\n",
       "      <td>0</td>\n",
       "      <td>0.076</td>\n",
       "    </tr>\n",
       "    <tr>\n",
       "      <th>1</th>\n",
       "      <td>12</td>\n",
       "      <td>0.086</td>\n",
       "    </tr>\n",
       "    <tr>\n",
       "      <th>2</th>\n",
       "      <td>21</td>\n",
       "      <td>0.088</td>\n",
       "    </tr>\n",
       "    <tr>\n",
       "      <th>3</th>\n",
       "      <td>33</td>\n",
       "      <td>0.099</td>\n",
       "    </tr>\n",
       "    <tr>\n",
       "      <th>4</th>\n",
       "      <td>42</td>\n",
       "      <td>0.054</td>\n",
       "    </tr>\n",
       "    <tr>\n",
       "      <th>5</th>\n",
       "      <td>59</td>\n",
       "      <td>0.077</td>\n",
       "    </tr>\n",
       "    <tr>\n",
       "      <th>6</th>\n",
       "      <td>66</td>\n",
       "      <td>0.078</td>\n",
       "    </tr>\n",
       "    <tr>\n",
       "      <th>7</th>\n",
       "      <td>73</td>\n",
       "      <td>0.076</td>\n",
       "    </tr>\n",
       "    <tr>\n",
       "      <th>8</th>\n",
       "      <td>82</td>\n",
       "      <td>0.120</td>\n",
       "    </tr>\n",
       "    <tr>\n",
       "      <th>9</th>\n",
       "      <td>99</td>\n",
       "      <td>0.130</td>\n",
       "    </tr>\n",
       "    <tr>\n",
       "      <th>10</th>\n",
       "      <td>120</td>\n",
       "      <td>0.170</td>\n",
       "    </tr>\n",
       "    <tr>\n",
       "      <th>11</th>\n",
       "      <td>130</td>\n",
       "      <td>0.180</td>\n",
       "    </tr>\n",
       "    <tr>\n",
       "      <th>12</th>\n",
       "      <td>145</td>\n",
       "      <td>0.077</td>\n",
       "    </tr>\n",
       "    <tr>\n",
       "      <th>13</th>\n",
       "      <td>177</td>\n",
       "      <td>0.076</td>\n",
       "    </tr>\n",
       "  </tbody>\n",
       "</table>\n",
       "</div>"
      ],
      "text/plain": [
       "    time_passed  pressure\n",
       "0             0     0.076\n",
       "1            12     0.086\n",
       "2            21     0.088\n",
       "3            33     0.099\n",
       "4            42     0.054\n",
       "5            59     0.077\n",
       "6            66     0.078\n",
       "7            73     0.076\n",
       "8            82     0.120\n",
       "9            99     0.130\n",
       "10          120     0.170\n",
       "11          130     0.180\n",
       "12          145     0.077\n",
       "13          177     0.076"
      ]
     },
     "execution_count": 7,
     "metadata": {},
     "output_type": "execute_result"
    }
   ],
   "source": [
    "df[:14]"
   ]
  },
  {
   "cell_type": "code",
   "execution_count": 12,
   "metadata": {},
   "outputs": [
    {
     "name": "stdout",
     "output_type": "stream",
     "text": [
      "0    0.076\n",
      "1    0.086\n",
      "Name: pressure, dtype: float64\n",
      "   time_passed\n",
      "0            0\n",
      "1           12\n"
     ]
    }
   ],
   "source": [
    "pressure = df[df.columns[len(df.columns)-1]]\n",
    "time_pass = df[df.columns[:len(df.columns)-1]]\n",
    "\n",
    "print(pressure[:5])\n",
    "print(time_pass[:5])"
   ]
  },
  {
   "cell_type": "markdown",
   "metadata": {},
   "source": [
    "<h3 style=\"color:lightcoral\"> <u> Example #3 </u></h3>"
   ]
  },
  {
   "cell_type": "markdown",
   "metadata": {},
   "source": [
    "<h3 style=\"color:#A4ED8E\"> Recap: </h3>\n",
    "<div style=\"margin-top: -20px;\">\n",
    "Interpolation technique can be used for filling in gaps caused by missing values by drawing a line or curve <br>\n",
    "between the known values bordering the gap and using that line or curve to predict reasonable values.  <br>\n",
    "Interpolation can be particularly useful when the time intervals between are constant, the data is not prone to noisy fluctuations <br>\n",
    "and the gaps caused by missing values are small. <br>\n",
    "</div>"
   ]
  },
  {
   "cell_type": "code",
   "execution_count": 2,
   "metadata": {},
   "outputs": [],
   "source": [
    "\"\"\" Interpolate the missing values using the 'linear' method\n",
    "By fitting a line starting at 2.0 and ending at 5.0, we can make reasonable guesses \\\n",
    "for the two missing values in between of 3.0 and 4.0.\n",
    "\"\"\"\n",
    "\n",
    "df = pd.DataFrame({\n",
    "    'A': [1, 2, np.nan, 4, np.nan],\n",
    "    'B': [5, np.nan, 7, np.nan, 9]\n",
    "})\n",
    "df1 = df.interpolate(method='linear')\n",
    "#or\n",
    "df.ffill(inplace = True)\n",
    "# Print the DataFrame\n",
    "df2 = df.ffill()"
   ]
  },
  {
   "cell_type": "code",
   "execution_count": 3,
   "metadata": {},
   "outputs": [
    {
     "name": "stdout",
     "output_type": "stream",
     "text": [
      "     A    B\n",
      "0  1.0  5.0\n",
      "1  2.0  5.0\n",
      "2  2.0  7.0\n",
      "3  4.0  7.0\n",
      "4  4.0  9.0\n",
      "\n",
      "     A    B\n",
      "0  1.0  5.0\n",
      "1  2.0  6.0\n",
      "2  3.0  7.0\n",
      "3  4.0  8.0\n",
      "4  4.0  9.0\n",
      "\n",
      "     A    B\n",
      "0  1.0  5.0\n",
      "1  2.0  5.0\n",
      "2  2.0  7.0\n",
      "3  4.0  7.0\n",
      "4  4.0  9.0\n",
      "\n",
      "     A    B\n",
      "0  1.0  5.0\n",
      "1  2.0  5.0\n",
      "2  2.0  7.0\n",
      "3  4.0  7.0\n",
      "4  4.0  9.0\n",
      "\n",
      "     A    B\n",
      "0  1.0  5.0\n",
      "1  2.0  5.0\n",
      "2  2.0  7.0\n",
      "3  4.0  7.0\n",
      "4  4.0  9.0\n"
     ]
    }
   ],
   "source": [
    "\"\"\"If we believe the line between the two known points is nonlinear, \n",
    "we can use interpo late’s method to specify the interpolation method\"\"\"\n",
    "df3 = df.interpolate(method='quadratic')\n",
    "df4 = df.interpolate(limit=1, limit_direction=\"forward\")\n",
    "print(df)\n",
    "print()\n",
    "print(df1)\n",
    "print()\n",
    "print(df2)\n",
    "print()\n",
    "print(df3)\n",
    "print()\n",
    "print(df4)"
   ]
  },
  {
   "cell_type": "markdown",
   "metadata": {},
   "source": [
    "<h2 style=\"color:lightcoral\"> <u> 2 Generate new rows from input rows </u></h2>"
   ]
  },
  {
   "cell_type": "code",
   "execution_count": 2,
   "metadata": {},
   "outputs": [],
   "source": [
    "range_dict =  {\n",
    "    'quiet': (0.13, 0.05), \n",
    "    'caress': (0.18, 0.01), \n",
    "    'pinch': (0.22, 0.23), \n",
    "    'pat': (1.27, 0.43), \n",
    "    'squeeze': (2.32, 0.50), \n",
    "    'hug': (3.23, 0.53), \n",
    "    'hit': (4.32, 0.82), \n",
    "    'touch': (0.13, 0.25)\n",
    "    }"
   ]
  },
  {
   "cell_type": "code",
   "execution_count": 4,
   "metadata": {},
   "outputs": [],
   "source": [
    "num_new_rows = 10\n",
    "\n",
    "# Load the CSV file into a Pandas DataFrame\n",
    "df = pd.read_csv('./data_pandas/data_for_third_notebook.csv')\n",
    "\n",
    "# Define a function to generate new rows from each input row\n",
    "def create_new_rows(row):\n",
    "    # Look up the range_mean and range_std values for this row\n",
    "    response = row[\"Response\"]\n",
    "    range_mean, range_std = range_dict[response]\n",
    "    \n",
    "    # Generate new rows with slightly different values\n",
    "    new_rows = []\n",
    "    for i in range(num_new_rows):\n",
    "        new_row = row.copy()\n",
    "        val_to_add_1 = np.random.uniform(low=-range_mean, high=range_mean, size=len(new_row.iloc[:-1]))\n",
    "        value_ok_1 = np.round(val_to_add_1 * 100) / 100    \n",
    "        new_row.iloc[:-1] += value_ok_1\n",
    "        val_to_add_2 = np.random.uniform(low=-range_std, high=range_std, size=len(new_row.iloc[15:-1]))\n",
    "        value_ok_2 = np.round(val_to_add_2 * 100) / 100    \n",
    "        new_row.iloc[15:-1] += value_ok_2 \n",
    "        new_rows.append(new_row)\n",
    "    # Return the new rows as a DataFrame\n",
    "    return pd.DataFrame(new_rows)"
   ]
  },
  {
   "cell_type": "code",
   "execution_count": 5,
   "metadata": {},
   "outputs": [],
   "source": [
    "# Apply the function to each row in the DataFrame and concatenate the results\n",
    "new_df = pd.concat([create_new_rows(row) for _, row in df.iterrows()], ignore_index=True)\n",
    "# Fix again the precision of the decimal part to 2f \n",
    "new_df = new_df.round(2)\n",
    "\n",
    "# Remove the \"Response\" column\n",
    "response_col = new_df.pop(\"Response\")\n",
    "\n",
    "# Apply the operation to the remaining columns\n",
    "new_df = new_df.clip(lower=0)\n",
    "#or \n",
    "#new_df = new_df.applymap(lambda x: -x if x < 0 else x)"
   ]
  },
  {
   "cell_type": "code",
   "execution_count": 6,
   "metadata": {},
   "outputs": [],
   "source": [
    "# Reattach the \"Response\" column\n",
    "new_df[\"Response\"] = response_col\n",
    "\n",
    "# Combine the original DataFrame and the new DataFrame\n",
    "final_df = pd.concat([df, new_df], ignore_index=True)\n",
    "\n",
    "# Write the final DataFrame to a new CSV file\n",
    "final_df.to_csv('./data_pandas/new_dataset.csv', index=False)"
   ]
  },
  {
   "cell_type": "code",
   "execution_count": 7,
   "metadata": {},
   "outputs": [
    {
     "data": {
      "text/html": [
       "<div>\n",
       "<style scoped>\n",
       "    .dataframe tbody tr th:only-of-type {\n",
       "        vertical-align: middle;\n",
       "    }\n",
       "\n",
       "    .dataframe tbody tr th {\n",
       "        vertical-align: top;\n",
       "    }\n",
       "\n",
       "    .dataframe thead th {\n",
       "        text-align: right;\n",
       "    }\n",
       "</style>\n",
       "<table border=\"1\" class=\"dataframe\">\n",
       "  <thead>\n",
       "    <tr style=\"text-align: right;\">\n",
       "      <th></th>\n",
       "      <th>Min0</th>\n",
       "      <th>Min1</th>\n",
       "      <th>Min2</th>\n",
       "      <th>Min3</th>\n",
       "      <th>Min4</th>\n",
       "      <th>Max0</th>\n",
       "      <th>Max1</th>\n",
       "      <th>Max2</th>\n",
       "      <th>Max3</th>\n",
       "      <th>Max4</th>\n",
       "      <th>...</th>\n",
       "      <th>NPlateau31</th>\n",
       "      <th>NPlateau32</th>\n",
       "      <th>NPlateau33</th>\n",
       "      <th>NPlateau34</th>\n",
       "      <th>NPlateau40</th>\n",
       "      <th>NPlateau41</th>\n",
       "      <th>NPlateau42</th>\n",
       "      <th>NPlateau43</th>\n",
       "      <th>NPlateau44</th>\n",
       "      <th>Response</th>\n",
       "    </tr>\n",
       "  </thead>\n",
       "  <tbody>\n",
       "    <tr>\n",
       "      <th>0</th>\n",
       "      <td>21.0</td>\n",
       "      <td>24.0</td>\n",
       "      <td>18.0</td>\n",
       "      <td>21.0</td>\n",
       "      <td>21.0</td>\n",
       "      <td>22.0</td>\n",
       "      <td>25.0</td>\n",
       "      <td>19.0</td>\n",
       "      <td>22.0</td>\n",
       "      <td>22.0</td>\n",
       "      <td>...</td>\n",
       "      <td>0.0</td>\n",
       "      <td>0.0</td>\n",
       "      <td>0.0</td>\n",
       "      <td>0.0</td>\n",
       "      <td>7.0</td>\n",
       "      <td>0.0</td>\n",
       "      <td>0.0</td>\n",
       "      <td>0.0</td>\n",
       "      <td>0.0</td>\n",
       "      <td>quiet</td>\n",
       "    </tr>\n",
       "    <tr>\n",
       "      <th>1</th>\n",
       "      <td>21.0</td>\n",
       "      <td>24.0</td>\n",
       "      <td>18.0</td>\n",
       "      <td>20.0</td>\n",
       "      <td>20.0</td>\n",
       "      <td>22.0</td>\n",
       "      <td>25.0</td>\n",
       "      <td>19.0</td>\n",
       "      <td>22.0</td>\n",
       "      <td>22.0</td>\n",
       "      <td>...</td>\n",
       "      <td>1.0</td>\n",
       "      <td>1.0</td>\n",
       "      <td>0.0</td>\n",
       "      <td>0.0</td>\n",
       "      <td>8.0</td>\n",
       "      <td>1.0</td>\n",
       "      <td>1.0</td>\n",
       "      <td>0.0</td>\n",
       "      <td>0.0</td>\n",
       "      <td>quiet</td>\n",
       "    </tr>\n",
       "    <tr>\n",
       "      <th>2</th>\n",
       "      <td>21.0</td>\n",
       "      <td>24.0</td>\n",
       "      <td>18.0</td>\n",
       "      <td>21.0</td>\n",
       "      <td>21.0</td>\n",
       "      <td>22.0</td>\n",
       "      <td>25.0</td>\n",
       "      <td>19.0</td>\n",
       "      <td>22.0</td>\n",
       "      <td>22.0</td>\n",
       "      <td>...</td>\n",
       "      <td>1.0</td>\n",
       "      <td>0.0</td>\n",
       "      <td>0.0</td>\n",
       "      <td>0.0</td>\n",
       "      <td>12.0</td>\n",
       "      <td>1.0</td>\n",
       "      <td>0.0</td>\n",
       "      <td>0.0</td>\n",
       "      <td>0.0</td>\n",
       "      <td>quiet</td>\n",
       "    </tr>\n",
       "    <tr>\n",
       "      <th>3</th>\n",
       "      <td>21.0</td>\n",
       "      <td>24.0</td>\n",
       "      <td>18.0</td>\n",
       "      <td>20.0</td>\n",
       "      <td>20.0</td>\n",
       "      <td>22.0</td>\n",
       "      <td>25.0</td>\n",
       "      <td>20.0</td>\n",
       "      <td>22.0</td>\n",
       "      <td>22.0</td>\n",
       "      <td>...</td>\n",
       "      <td>2.0</td>\n",
       "      <td>0.0</td>\n",
       "      <td>0.0</td>\n",
       "      <td>0.0</td>\n",
       "      <td>9.0</td>\n",
       "      <td>2.0</td>\n",
       "      <td>0.0</td>\n",
       "      <td>0.0</td>\n",
       "      <td>0.0</td>\n",
       "      <td>quiet</td>\n",
       "    </tr>\n",
       "    <tr>\n",
       "      <th>4</th>\n",
       "      <td>21.0</td>\n",
       "      <td>24.0</td>\n",
       "      <td>18.0</td>\n",
       "      <td>21.0</td>\n",
       "      <td>21.0</td>\n",
       "      <td>22.0</td>\n",
       "      <td>25.0</td>\n",
       "      <td>19.0</td>\n",
       "      <td>22.0</td>\n",
       "      <td>22.0</td>\n",
       "      <td>...</td>\n",
       "      <td>3.0</td>\n",
       "      <td>0.0</td>\n",
       "      <td>0.0</td>\n",
       "      <td>1.0</td>\n",
       "      <td>6.0</td>\n",
       "      <td>3.0</td>\n",
       "      <td>0.0</td>\n",
       "      <td>0.0</td>\n",
       "      <td>1.0</td>\n",
       "      <td>quiet</td>\n",
       "    </tr>\n",
       "  </tbody>\n",
       "</table>\n",
       "<p>5 rows × 51 columns</p>\n",
       "</div>"
      ],
      "text/plain": [
       "   Min0  Min1  Min2  Min3  Min4  Max0  Max1  Max2  Max3  Max4  ...  \\\n",
       "0  21.0  24.0  18.0  21.0  21.0  22.0  25.0  19.0  22.0  22.0  ...   \n",
       "1  21.0  24.0  18.0  20.0  20.0  22.0  25.0  19.0  22.0  22.0  ...   \n",
       "2  21.0  24.0  18.0  21.0  21.0  22.0  25.0  19.0  22.0  22.0  ...   \n",
       "3  21.0  24.0  18.0  20.0  20.0  22.0  25.0  20.0  22.0  22.0  ...   \n",
       "4  21.0  24.0  18.0  21.0  21.0  22.0  25.0  19.0  22.0  22.0  ...   \n",
       "\n",
       "   NPlateau31  NPlateau32  NPlateau33  NPlateau34  NPlateau40  NPlateau41  \\\n",
       "0         0.0         0.0         0.0         0.0         7.0         0.0   \n",
       "1         1.0         1.0         0.0         0.0         8.0         1.0   \n",
       "2         1.0         0.0         0.0         0.0        12.0         1.0   \n",
       "3         2.0         0.0         0.0         0.0         9.0         2.0   \n",
       "4         3.0         0.0         0.0         1.0         6.0         3.0   \n",
       "\n",
       "   NPlateau42  NPlateau43  NPlateau44  Response  \n",
       "0         0.0         0.0         0.0     quiet  \n",
       "1         1.0         0.0         0.0     quiet  \n",
       "2         0.0         0.0         0.0     quiet  \n",
       "3         0.0         0.0         0.0     quiet  \n",
       "4         0.0         0.0         1.0     quiet  \n",
       "\n",
       "[5 rows x 51 columns]"
      ]
     },
     "execution_count": 7,
     "metadata": {},
     "output_type": "execute_result"
    }
   ],
   "source": [
    "final_df.head()"
   ]
  }
 ],
 "metadata": {
  "kernelspec": {
   "display_name": "MLearning",
   "language": "python",
   "name": "python3"
  },
  "language_info": {
   "codemirror_mode": {
    "name": "ipython",
    "version": 3
   },
   "file_extension": ".py",
   "mimetype": "text/x-python",
   "name": "python",
   "nbconvert_exporter": "python",
   "pygments_lexer": "ipython3",
   "version": "3.10.9"
  },
  "orig_nbformat": 4
 },
 "nbformat": 4,
 "nbformat_minor": 2
}
