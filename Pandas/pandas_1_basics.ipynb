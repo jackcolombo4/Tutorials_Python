{
 "cells": [
  {
   "attachments": {},
   "cell_type": "markdown",
   "metadata": {},
   "source": [
    "<div style=\"line-height:0.5\">\n",
    "<h1 style=\"color:lightcoral\"> Pandas basics 1 </h1>\n",
    "</div>\n",
    "<div style=\"line-height:1.5\">\n",
    "<div style=\"margin-top: -10px;\">\n",
    "<span style=\"display: inline-block;\">\n",
    "    <h3 style=\"color: lightblue; display: inline;\">Keywords:</h3> pd.Timestamp() + urlopen + pd.Series() + pd.to_datetime() + json.loads + pd.interpolate()\n",
    "</span>\n",
    "</div>\n",
    "</div>"
   ]
  },
  {
   "cell_type": "code",
   "execution_count": 1,
   "metadata": {},
   "outputs": [],
   "source": [
    "import re\n",
    "import json\n",
    "import random\n",
    "import requests\n",
    "import numpy as np\n",
    "import pandas as pd\n",
    "import matplotlib as plt\n",
    "from urllib.request import urlopen"
   ]
  },
  {
   "attachments": {},
   "cell_type": "markdown",
   "metadata": {},
   "source": [
    "<h3 style=\"color:lightcoral\"> Example 0 </h3>"
   ]
  },
  {
   "cell_type": "code",
   "execution_count": 3,
   "metadata": {},
   "outputs": [
    {
     "data": {
      "text/html": [
       "<div>\n",
       "<style scoped>\n",
       "    .dataframe tbody tr th:only-of-type {\n",
       "        vertical-align: middle;\n",
       "    }\n",
       "\n",
       "    .dataframe tbody tr th {\n",
       "        vertical-align: top;\n",
       "    }\n",
       "\n",
       "    .dataframe thead th {\n",
       "        text-align: right;\n",
       "    }\n",
       "</style>\n",
       "<table border=\"1\" class=\"dataframe\">\n",
       "  <thead>\n",
       "    <tr style=\"text-align: right;\">\n",
       "      <th></th>\n",
       "      <th>Min0</th>\n",
       "      <th>Min1</th>\n",
       "      <th>Min2</th>\n",
       "      <th>Min3</th>\n",
       "      <th>Min4</th>\n",
       "      <th>Max0</th>\n",
       "      <th>Max1</th>\n",
       "      <th>Max2</th>\n",
       "      <th>Max3</th>\n",
       "      <th>Max4</th>\n",
       "      <th>...</th>\n",
       "      <th>Peak32</th>\n",
       "      <th>Peak33</th>\n",
       "      <th>Peak34</th>\n",
       "      <th>Peak35</th>\n",
       "      <th>Peak41</th>\n",
       "      <th>Peak42</th>\n",
       "      <th>Peak43</th>\n",
       "      <th>Peak44</th>\n",
       "      <th>Peak45</th>\n",
       "      <th>Response</th>\n",
       "    </tr>\n",
       "  </thead>\n",
       "  <tbody>\n",
       "    <tr>\n",
       "      <th>0</th>\n",
       "      <td>0.15</td>\n",
       "      <td>0.15</td>\n",
       "      <td>0.15</td>\n",
       "      <td>0.15</td>\n",
       "      <td>0.15</td>\n",
       "      <td>0.75</td>\n",
       "      <td>0.75</td>\n",
       "      <td>0.75</td>\n",
       "      <td>0.75</td>\n",
       "      <td>0.75</td>\n",
       "      <td>...</td>\n",
       "      <td>1</td>\n",
       "      <td>0</td>\n",
       "      <td>0</td>\n",
       "      <td>0</td>\n",
       "      <td>2</td>\n",
       "      <td>1</td>\n",
       "      <td>0</td>\n",
       "      <td>0</td>\n",
       "      <td>0</td>\n",
       "      <td>hug</td>\n",
       "    </tr>\n",
       "    <tr>\n",
       "      <th>1</th>\n",
       "      <td>0.15</td>\n",
       "      <td>0.15</td>\n",
       "      <td>0.15</td>\n",
       "      <td>0.15</td>\n",
       "      <td>0.15</td>\n",
       "      <td>0.75</td>\n",
       "      <td>0.75</td>\n",
       "      <td>0.75</td>\n",
       "      <td>0.75</td>\n",
       "      <td>0.75</td>\n",
       "      <td>...</td>\n",
       "      <td>1</td>\n",
       "      <td>0</td>\n",
       "      <td>0</td>\n",
       "      <td>0</td>\n",
       "      <td>2</td>\n",
       "      <td>1</td>\n",
       "      <td>0</td>\n",
       "      <td>0</td>\n",
       "      <td>0</td>\n",
       "      <td>hug</td>\n",
       "    </tr>\n",
       "    <tr>\n",
       "      <th>2</th>\n",
       "      <td>0.15</td>\n",
       "      <td>0.15</td>\n",
       "      <td>0.15</td>\n",
       "      <td>0.15</td>\n",
       "      <td>0.15</td>\n",
       "      <td>0.75</td>\n",
       "      <td>0.75</td>\n",
       "      <td>0.75</td>\n",
       "      <td>0.75</td>\n",
       "      <td>0.75</td>\n",
       "      <td>...</td>\n",
       "      <td>1</td>\n",
       "      <td>0</td>\n",
       "      <td>0</td>\n",
       "      <td>0</td>\n",
       "      <td>2</td>\n",
       "      <td>1</td>\n",
       "      <td>0</td>\n",
       "      <td>0</td>\n",
       "      <td>0</td>\n",
       "      <td>hug</td>\n",
       "    </tr>\n",
       "    <tr>\n",
       "      <th>3</th>\n",
       "      <td>0.15</td>\n",
       "      <td>0.15</td>\n",
       "      <td>0.15</td>\n",
       "      <td>0.15</td>\n",
       "      <td>0.15</td>\n",
       "      <td>0.75</td>\n",
       "      <td>0.75</td>\n",
       "      <td>0.75</td>\n",
       "      <td>0.75</td>\n",
       "      <td>0.75</td>\n",
       "      <td>...</td>\n",
       "      <td>1</td>\n",
       "      <td>0</td>\n",
       "      <td>0</td>\n",
       "      <td>0</td>\n",
       "      <td>2</td>\n",
       "      <td>1</td>\n",
       "      <td>0</td>\n",
       "      <td>0</td>\n",
       "      <td>0</td>\n",
       "      <td>hug</td>\n",
       "    </tr>\n",
       "    <tr>\n",
       "      <th>4</th>\n",
       "      <td>0.15</td>\n",
       "      <td>0.15</td>\n",
       "      <td>0.15</td>\n",
       "      <td>0.15</td>\n",
       "      <td>0.15</td>\n",
       "      <td>0.75</td>\n",
       "      <td>0.75</td>\n",
       "      <td>0.75</td>\n",
       "      <td>0.75</td>\n",
       "      <td>0.75</td>\n",
       "      <td>...</td>\n",
       "      <td>1</td>\n",
       "      <td>0</td>\n",
       "      <td>0</td>\n",
       "      <td>0</td>\n",
       "      <td>2</td>\n",
       "      <td>1</td>\n",
       "      <td>0</td>\n",
       "      <td>0</td>\n",
       "      <td>0</td>\n",
       "      <td>hug</td>\n",
       "    </tr>\n",
       "  </tbody>\n",
       "</table>\n",
       "<p>5 rows × 46 columns</p>\n",
       "</div>"
      ],
      "text/plain": [
       "   Min0  Min1  Min2  Min3  Min4  Max0  Max1  Max2  Max3  Max4  ...  Peak32  \\\n",
       "0  0.15  0.15  0.15  0.15  0.15  0.75  0.75  0.75  0.75  0.75  ...       1   \n",
       "1  0.15  0.15  0.15  0.15  0.15  0.75  0.75  0.75  0.75  0.75  ...       1   \n",
       "2  0.15  0.15  0.15  0.15  0.15  0.75  0.75  0.75  0.75  0.75  ...       1   \n",
       "3  0.15  0.15  0.15  0.15  0.15  0.75  0.75  0.75  0.75  0.75  ...       1   \n",
       "4  0.15  0.15  0.15  0.15  0.15  0.75  0.75  0.75  0.75  0.75  ...       1   \n",
       "\n",
       "   Peak33  Peak34  Peak35  Peak41  Peak42  Peak43  Peak44  Peak45  Response  \n",
       "0       0       0       0       2       1       0       0       0       hug  \n",
       "1       0       0       0       2       1       0       0       0       hug  \n",
       "2       0       0       0       2       1       0       0       0       hug  \n",
       "3       0       0       0       2       1       0       0       0       hug  \n",
       "4       0       0       0       2       1       0       0       0       hug  \n",
       "\n",
       "[5 rows x 46 columns]"
      ]
     },
     "execution_count": 3,
     "metadata": {},
     "output_type": "execute_result"
    }
   ],
   "source": [
    "\"\"\" Read from txt \"\"\"\n",
    "textuse = pd.read_csv (r'./data_pandas/starting_from_text.txt')\n",
    "textuse.to_csv (r'./data_pandas/transformed_in_csv.csv', index=None)\n",
    "textuse.head()"
   ]
  },
  {
   "attachments": {},
   "cell_type": "markdown",
   "metadata": {},
   "source": [
    "<h3 style=\"color:lightcoral\"> Example 1 </h3>"
   ]
  },
  {
   "cell_type": "code",
   "execution_count": 6,
   "metadata": {},
   "outputs": [
    {
     "name": "stdout",
     "output_type": "stream",
     "text": [
      "[[10  7  4]\n",
      " [ 3  2  1]]\n"
     ]
    },
    {
     "data": {
      "text/plain": [
       "3.5"
      ]
     },
     "execution_count": 6,
     "metadata": {},
     "output_type": "execute_result"
    }
   ],
   "source": [
    "a = np.array([[10, 7, 4], [3, 2, 1]])\n",
    "print(a)\n",
    "\n",
    "np.quantile(a, 0.5)"
   ]
  },
  {
   "cell_type": "code",
   "execution_count": 7,
   "metadata": {},
   "outputs": [
    {
     "data": {
      "text/html": [
       "<div>\n",
       "<style scoped>\n",
       "    .dataframe tbody tr th:only-of-type {\n",
       "        vertical-align: middle;\n",
       "    }\n",
       "\n",
       "    .dataframe tbody tr th {\n",
       "        vertical-align: top;\n",
       "    }\n",
       "\n",
       "    .dataframe thead th {\n",
       "        text-align: right;\n",
       "    }\n",
       "</style>\n",
       "<table border=\"1\" class=\"dataframe\">\n",
       "  <thead>\n",
       "    <tr style=\"text-align: right;\">\n",
       "      <th></th>\n",
       "      <th>day</th>\n",
       "    </tr>\n",
       "  </thead>\n",
       "  <tbody>\n",
       "    <tr>\n",
       "      <th>0</th>\n",
       "      <td>21/05/2021</td>\n",
       "    </tr>\n",
       "    <tr>\n",
       "      <th>1</th>\n",
       "      <td>7/03/2019</td>\n",
       "    </tr>\n",
       "    <tr>\n",
       "      <th>2</th>\n",
       "      <td>13/04/2005</td>\n",
       "    </tr>\n",
       "    <tr>\n",
       "      <th>3</th>\n",
       "      <td>22/11/1998</td>\n",
       "    </tr>\n",
       "    <tr>\n",
       "      <th>4</th>\n",
       "      <td>9/04/2003</td>\n",
       "    </tr>\n",
       "    <tr>\n",
       "      <th>5</th>\n",
       "      <td>27/02/2000</td>\n",
       "    </tr>\n",
       "  </tbody>\n",
       "</table>\n",
       "</div>"
      ],
      "text/plain": [
       "          day\n",
       "0  21/05/2021\n",
       "1   7/03/2019\n",
       "2  13/04/2005\n",
       "3  22/11/1998\n",
       "4   9/04/2003\n",
       "5  27/02/2000"
      ]
     },
     "execution_count": 7,
     "metadata": {},
     "output_type": "execute_result"
    }
   ],
   "source": [
    "data1 = {\n",
    "    'day':['21/05/2021','7/03/2019','13/04/2005','22/11/1998','9/04/2003','27/02/2000'],\n",
    "}\n",
    "df = pd.DataFrame(data1)\n",
    "df"
   ]
  },
  {
   "cell_type": "code",
   "execution_count": 8,
   "metadata": {},
   "outputs": [
    {
     "data": {
      "text/html": [
       "<div>\n",
       "<style scoped>\n",
       "    .dataframe tbody tr th:only-of-type {\n",
       "        vertical-align: middle;\n",
       "    }\n",
       "\n",
       "    .dataframe tbody tr th {\n",
       "        vertical-align: top;\n",
       "    }\n",
       "\n",
       "    .dataframe thead th {\n",
       "        text-align: right;\n",
       "    }\n",
       "</style>\n",
       "<table border=\"1\" class=\"dataframe\">\n",
       "  <thead>\n",
       "    <tr style=\"text-align: right;\">\n",
       "      <th></th>\n",
       "      <th>day</th>\n",
       "      <th>dad_agree</th>\n",
       "      <th>mom_agree</th>\n",
       "    </tr>\n",
       "  </thead>\n",
       "  <tbody>\n",
       "    <tr>\n",
       "      <th>0</th>\n",
       "      <td>21/05/2021</td>\n",
       "      <td>0.162626</td>\n",
       "      <td>0.285482</td>\n",
       "    </tr>\n",
       "    <tr>\n",
       "      <th>1</th>\n",
       "      <td>7/03/2019</td>\n",
       "      <td>0.619007</td>\n",
       "      <td>0.950440</td>\n",
       "    </tr>\n",
       "    <tr>\n",
       "      <th>2</th>\n",
       "      <td>13/04/2005</td>\n",
       "      <td>0.809531</td>\n",
       "      <td>0.920614</td>\n",
       "    </tr>\n",
       "    <tr>\n",
       "      <th>3</th>\n",
       "      <td>22/11/1998</td>\n",
       "      <td>0.282595</td>\n",
       "      <td>0.549264</td>\n",
       "    </tr>\n",
       "    <tr>\n",
       "      <th>4</th>\n",
       "      <td>9/04/2003</td>\n",
       "      <td>0.680333</td>\n",
       "      <td>0.716824</td>\n",
       "    </tr>\n",
       "    <tr>\n",
       "      <th>5</th>\n",
       "      <td>27/02/2000</td>\n",
       "      <td>0.953764</td>\n",
       "      <td>0.150341</td>\n",
       "    </tr>\n",
       "  </tbody>\n",
       "</table>\n",
       "</div>"
      ],
      "text/plain": [
       "          day  dad_agree  mom_agree\n",
       "0  21/05/2021   0.162626   0.285482\n",
       "1   7/03/2019   0.619007   0.950440\n",
       "2  13/04/2005   0.809531   0.920614\n",
       "3  22/11/1998   0.282595   0.549264\n",
       "4   9/04/2003   0.680333   0.716824\n",
       "5  27/02/2000   0.953764   0.150341"
      ]
     },
     "execution_count": 8,
     "metadata": {},
     "output_type": "execute_result"
    }
   ],
   "source": [
    "random_tuple1 = tuple(np.random.rand(6))\n",
    "random_tuple2 = tuple(np.random.rand(6))\n",
    "df['dad_agree'] = random_tuple1\n",
    "df['mom_agree'] = random_tuple2\n",
    "\n",
    "df"
   ]
  },
  {
   "cell_type": "code",
   "execution_count": 9,
   "metadata": {},
   "outputs": [
    {
     "data": {
      "text/plain": [
       "(0.28548173731019744, 0.950440048942045, 0.9206141456381279)"
      ]
     },
     "execution_count": 9,
     "metadata": {},
     "output_type": "execute_result"
    }
   ],
   "source": [
    "#viceversa\n",
    "tuple1 = tuple(df['mom_agree'].iloc[:3])\n",
    "tuple1"
   ]
  },
  {
   "cell_type": "code",
   "execution_count": 10,
   "metadata": {},
   "outputs": [
    {
     "data": {
      "text/html": [
       "<div>\n",
       "<style scoped>\n",
       "    .dataframe tbody tr th:only-of-type {\n",
       "        vertical-align: middle;\n",
       "    }\n",
       "\n",
       "    .dataframe tbody tr th {\n",
       "        vertical-align: top;\n",
       "    }\n",
       "\n",
       "    .dataframe thead th {\n",
       "        text-align: right;\n",
       "    }\n",
       "</style>\n",
       "<table border=\"1\" class=\"dataframe\">\n",
       "  <thead>\n",
       "    <tr style=\"text-align: right;\">\n",
       "      <th></th>\n",
       "      <th>day</th>\n",
       "      <th>dad_agree</th>\n",
       "      <th>mom_agree</th>\n",
       "    </tr>\n",
       "  </thead>\n",
       "  <tbody>\n",
       "    <tr>\n",
       "      <th>0</th>\n",
       "      <td>2021-05-21</td>\n",
       "      <td>0.162626</td>\n",
       "      <td>0.285482</td>\n",
       "    </tr>\n",
       "    <tr>\n",
       "      <th>1</th>\n",
       "      <td>2019-03-07</td>\n",
       "      <td>0.619007</td>\n",
       "      <td>0.950440</td>\n",
       "    </tr>\n",
       "    <tr>\n",
       "      <th>2</th>\n",
       "      <td>2005-04-13</td>\n",
       "      <td>0.809531</td>\n",
       "      <td>0.920614</td>\n",
       "    </tr>\n",
       "    <tr>\n",
       "      <th>3</th>\n",
       "      <td>1998-11-22</td>\n",
       "      <td>0.282595</td>\n",
       "      <td>0.549264</td>\n",
       "    </tr>\n",
       "    <tr>\n",
       "      <th>4</th>\n",
       "      <td>2003-04-09</td>\n",
       "      <td>0.680333</td>\n",
       "      <td>0.716824</td>\n",
       "    </tr>\n",
       "    <tr>\n",
       "      <th>5</th>\n",
       "      <td>2000-02-27</td>\n",
       "      <td>0.953764</td>\n",
       "      <td>0.150341</td>\n",
       "    </tr>\n",
       "  </tbody>\n",
       "</table>\n",
       "</div>"
      ],
      "text/plain": [
       "         day  dad_agree  mom_agree\n",
       "0 2021-05-21   0.162626   0.285482\n",
       "1 2019-03-07   0.619007   0.950440\n",
       "2 2005-04-13   0.809531   0.920614\n",
       "3 1998-11-22   0.282595   0.549264\n",
       "4 2003-04-09   0.680333   0.716824\n",
       "5 2000-02-27   0.953764   0.150341"
      ]
     },
     "execution_count": 10,
     "metadata": {},
     "output_type": "execute_result"
    }
   ],
   "source": [
    "df['day'] = pd.to_datetime(df['day'], format='%d/%m/%Y')\n",
    "df"
   ]
  },
  {
   "cell_type": "code",
   "execution_count": 11,
   "metadata": {},
   "outputs": [
    {
     "data": {
      "text/plain": [
       "dad_agree\n",
       "0.162626    0.285482\n",
       "0.282595    0.549264\n",
       "0.619007    0.950440\n",
       "0.680333    0.716824\n",
       "0.809531    0.920614\n",
       "0.953764    0.150341\n",
       "Name: mom_agree, dtype: float64"
      ]
     },
     "execution_count": 11,
     "metadata": {},
     "output_type": "execute_result"
    }
   ],
   "source": [
    "\"\"\" Group the data by a column and calculate summary statistics \"\"\"\n",
    "df.groupby('dad_agree')['mom_agree'].mean()"
   ]
  },
  {
   "cell_type": "code",
   "execution_count": 12,
   "metadata": {},
   "outputs": [
    {
     "data": {
      "text/html": [
       "<div>\n",
       "<style scoped>\n",
       "    .dataframe tbody tr th:only-of-type {\n",
       "        vertical-align: middle;\n",
       "    }\n",
       "\n",
       "    .dataframe tbody tr th {\n",
       "        vertical-align: top;\n",
       "    }\n",
       "\n",
       "    .dataframe thead th {\n",
       "        text-align: right;\n",
       "    }\n",
       "</style>\n",
       "<table border=\"1\" class=\"dataframe\">\n",
       "  <thead>\n",
       "    <tr style=\"text-align: right;\">\n",
       "      <th></th>\n",
       "      <th>day</th>\n",
       "      <th>dad_agree</th>\n",
       "      <th>mom_agree</th>\n",
       "    </tr>\n",
       "  </thead>\n",
       "  <tbody>\n",
       "    <tr>\n",
       "      <th>1</th>\n",
       "      <td>2019-03-07</td>\n",
       "      <td>0.619007</td>\n",
       "      <td>0.950440</td>\n",
       "    </tr>\n",
       "    <tr>\n",
       "      <th>2</th>\n",
       "      <td>2005-04-13</td>\n",
       "      <td>0.809531</td>\n",
       "      <td>0.920614</td>\n",
       "    </tr>\n",
       "    <tr>\n",
       "      <th>4</th>\n",
       "      <td>2003-04-09</td>\n",
       "      <td>0.680333</td>\n",
       "      <td>0.716824</td>\n",
       "    </tr>\n",
       "    <tr>\n",
       "      <th>5</th>\n",
       "      <td>2000-02-27</td>\n",
       "      <td>0.953764</td>\n",
       "      <td>0.150341</td>\n",
       "    </tr>\n",
       "  </tbody>\n",
       "</table>\n",
       "</div>"
      ],
      "text/plain": [
       "         day  dad_agree  mom_agree\n",
       "1 2019-03-07   0.619007   0.950440\n",
       "2 2005-04-13   0.809531   0.920614\n",
       "4 2003-04-09   0.680333   0.716824\n",
       "5 2000-02-27   0.953764   0.150341"
      ]
     },
     "execution_count": 12,
     "metadata": {},
     "output_type": "execute_result"
    }
   ],
   "source": [
    "\"\"\" Filter the data based on a condition \"\"\" \n",
    "new_df = df[df['dad_agree'] > 0.5]\n",
    "new_df"
   ]
  },
  {
   "cell_type": "code",
   "execution_count": 13,
   "metadata": {},
   "outputs": [
    {
     "data": {
      "text/html": [
       "<div>\n",
       "<style scoped>\n",
       "    .dataframe tbody tr th:only-of-type {\n",
       "        vertical-align: middle;\n",
       "    }\n",
       "\n",
       "    .dataframe tbody tr th {\n",
       "        vertical-align: top;\n",
       "    }\n",
       "\n",
       "    .dataframe thead th {\n",
       "        text-align: right;\n",
       "    }\n",
       "</style>\n",
       "<table border=\"1\" class=\"dataframe\">\n",
       "  <thead>\n",
       "    <tr style=\"text-align: right;\">\n",
       "      <th></th>\n",
       "      <th>day</th>\n",
       "      <th>dad_agree</th>\n",
       "      <th>mom_agree</th>\n",
       "      <th>value</th>\n",
       "    </tr>\n",
       "  </thead>\n",
       "  <tbody>\n",
       "    <tr>\n",
       "      <th>0</th>\n",
       "      <td>2021-05-21</td>\n",
       "      <td>0.162626</td>\n",
       "      <td>0.285482</td>\n",
       "      <td>300</td>\n",
       "    </tr>\n",
       "    <tr>\n",
       "      <th>1</th>\n",
       "      <td>1998-11-22</td>\n",
       "      <td>0.282595</td>\n",
       "      <td>0.549264</td>\n",
       "      <td>200</td>\n",
       "    </tr>\n",
       "  </tbody>\n",
       "</table>\n",
       "</div>"
      ],
      "text/plain": [
       "         day  dad_agree  mom_agree  value\n",
       "0 2021-05-21   0.162626   0.285482    300\n",
       "1 1998-11-22   0.282595   0.549264    200"
      ]
     },
     "execution_count": 13,
     "metadata": {},
     "output_type": "execute_result"
    }
   ],
   "source": [
    "\"\"\" Merge two DataFrames\"\"\"\n",
    "data2 = {\n",
    "    'day': pd.to_datetime(['2021-01-01', '1998-11-22', '2021-05-21']),\n",
    "    'value': [100, 200, 300]\n",
    "}\n",
    "df2 = pd.DataFrame(data2)\n",
    "\n",
    "## Try to merge the DataFrames\n",
    "merged_df = pd.merge(df, df2, on='day')\n",
    "merged_df"
   ]
  },
  {
   "cell_type": "code",
   "execution_count": 14,
   "metadata": {},
   "outputs": [
    {
     "data": {
      "text/html": [
       "<div>\n",
       "<style scoped>\n",
       "    .dataframe tbody tr th:only-of-type {\n",
       "        vertical-align: middle;\n",
       "    }\n",
       "\n",
       "    .dataframe tbody tr th {\n",
       "        vertical-align: top;\n",
       "    }\n",
       "\n",
       "    .dataframe thead th {\n",
       "        text-align: right;\n",
       "    }\n",
       "</style>\n",
       "<table border=\"1\" class=\"dataframe\">\n",
       "  <thead>\n",
       "    <tr style=\"text-align: right;\">\n",
       "      <th></th>\n",
       "      <th>day</th>\n",
       "      <th>dad_agree</th>\n",
       "      <th>mom_agree</th>\n",
       "    </tr>\n",
       "  </thead>\n",
       "  <tbody>\n",
       "    <tr>\n",
       "      <th>0</th>\n",
       "      <td>2021-05-21 00:00:00</td>\n",
       "      <td>0.162626</td>\n",
       "      <td>0.285482</td>\n",
       "    </tr>\n",
       "    <tr>\n",
       "      <th>1</th>\n",
       "      <td>2019-03-07 00:00:00</td>\n",
       "      <td>0.619007</td>\n",
       "      <td>0.950440</td>\n",
       "    </tr>\n",
       "    <tr>\n",
       "      <th>2</th>\n",
       "      <td>2005-04-13 00:00:00</td>\n",
       "      <td>0.809531</td>\n",
       "      <td>0.920614</td>\n",
       "    </tr>\n",
       "    <tr>\n",
       "      <th>3</th>\n",
       "      <td>1998-11-22 00:00:00</td>\n",
       "      <td>0.282595</td>\n",
       "      <td>0.549264</td>\n",
       "    </tr>\n",
       "    <tr>\n",
       "      <th>4</th>\n",
       "      <td>2003-04-09 00:00:00</td>\n",
       "      <td>0.680333</td>\n",
       "      <td>0.716824</td>\n",
       "    </tr>\n",
       "    <tr>\n",
       "      <th>5</th>\n",
       "      <td>2000-02-27 00:00:00</td>\n",
       "      <td>0.953764</td>\n",
       "      <td>0.150341</td>\n",
       "    </tr>\n",
       "    <tr>\n",
       "      <th>6</th>\n",
       "      <td>2019-01-02</td>\n",
       "      <td>0.200000</td>\n",
       "      <td>0.500000</td>\n",
       "    </tr>\n",
       "    <tr>\n",
       "      <th>7</th>\n",
       "      <td>2019-01-03</td>\n",
       "      <td>0.300000</td>\n",
       "      <td>0.600000</td>\n",
       "    </tr>\n",
       "  </tbody>\n",
       "</table>\n",
       "</div>"
      ],
      "text/plain": [
       "                   day  dad_agree  mom_agree\n",
       "0  2021-05-21 00:00:00   0.162626   0.285482\n",
       "1  2019-03-07 00:00:00   0.619007   0.950440\n",
       "2  2005-04-13 00:00:00   0.809531   0.920614\n",
       "3  1998-11-22 00:00:00   0.282595   0.549264\n",
       "4  2003-04-09 00:00:00   0.680333   0.716824\n",
       "5  2000-02-27 00:00:00   0.953764   0.150341\n",
       "6           2019-01-02   0.200000   0.500000\n",
       "7           2019-01-03   0.300000   0.600000"
      ]
     },
     "execution_count": 14,
     "metadata": {},
     "output_type": "execute_result"
    }
   ],
   "source": [
    "## Create a second dataset with the same columns and random values\n",
    "data2 = {\n",
    "    'day': ['2019-01-02', '2019-01-03'],\n",
    "    'dad_agree': [0.2, 0.3],\n",
    "    'mom_agree': [0.5, 0.6]\n",
    "}\n",
    "df2 = pd.DataFrame(data2)\n",
    "\n",
    "## Concatenate the two datasets along the rows\n",
    "concat_df = pd.concat([df, df2], ignore_index=True)\n",
    "concat_df"
   ]
  },
  {
   "attachments": {},
   "cell_type": "markdown",
   "metadata": {},
   "source": [
    "<h3 style=\"color:lightcoral\"> Example 2 </h3>"
   ]
  },
  {
   "cell_type": "code",
   "execution_count": 20,
   "metadata": {},
   "outputs": [],
   "source": [
    "%%script false --no-raise-error\n",
    "# Use invalid syntax with no errors!"
   ]
  },
  {
   "cell_type": "code",
   "execution_count": 16,
   "metadata": {},
   "outputs": [
    {
     "data": {
      "text/html": [
       "<div>\n",
       "<style scoped>\n",
       "    .dataframe tbody tr th:only-of-type {\n",
       "        vertical-align: middle;\n",
       "    }\n",
       "\n",
       "    .dataframe tbody tr th {\n",
       "        vertical-align: top;\n",
       "    }\n",
       "\n",
       "    .dataframe thead th {\n",
       "        text-align: right;\n",
       "    }\n",
       "</style>\n",
       "<table border=\"1\" class=\"dataframe\">\n",
       "  <thead>\n",
       "    <tr style=\"text-align: right;\">\n",
       "      <th></th>\n",
       "      <th>0</th>\n",
       "      <th>1</th>\n",
       "      <th>2</th>\n",
       "    </tr>\n",
       "  </thead>\n",
       "  <tbody>\n",
       "    <tr>\n",
       "      <th>0</th>\n",
       "      <td>0.463012</td>\n",
       "      <td>-2.313625</td>\n",
       "      <td>0.309381</td>\n",
       "    </tr>\n",
       "    <tr>\n",
       "      <th>1</th>\n",
       "      <td>-0.199621</td>\n",
       "      <td>-0.111286</td>\n",
       "      <td>-0.212817</td>\n",
       "    </tr>\n",
       "    <tr>\n",
       "      <th>2</th>\n",
       "      <td>-1.300604</td>\n",
       "      <td>0.766435</td>\n",
       "      <td>-1.134430</td>\n",
       "    </tr>\n",
       "    <tr>\n",
       "      <th>3</th>\n",
       "      <td>-0.184683</td>\n",
       "      <td>-0.134063</td>\n",
       "      <td>0.242976</td>\n",
       "    </tr>\n",
       "    <tr>\n",
       "      <th>4</th>\n",
       "      <td>-0.018938</td>\n",
       "      <td>0.189772</td>\n",
       "      <td>1.400881</td>\n",
       "    </tr>\n",
       "  </tbody>\n",
       "</table>\n",
       "</div>"
      ],
      "text/plain": [
       "          0         1         2\n",
       "0  0.463012 -2.313625  0.309381\n",
       "1 -0.199621 -0.111286 -0.212817\n",
       "2 -1.300604  0.766435 -1.134430\n",
       "3 -0.184683 -0.134063  0.242976\n",
       "4 -0.018938  0.189772  1.400881"
      ]
     },
     "execution_count": 16,
     "metadata": {},
     "output_type": "execute_result"
    }
   ],
   "source": [
    "df_ran = pd.DataFrame(np.random.randn(5, 3))\n",
    "df_ran"
   ]
  },
  {
   "cell_type": "code",
   "execution_count": 17,
   "metadata": {},
   "outputs": [
    {
     "name": "stdout",
     "output_type": "stream",
     "text": [
      "['b', 'aa', 'aa', 'a', 'a']\n"
     ]
    }
   ],
   "source": [
    "empty_dataframe = pd.DataFrame(columns=[0, 1, 2])\n",
    "cho = ['aa','a','b','c','d']\n",
    "oknow = random.choices(cho, k=5)\n",
    "print(oknow)"
   ]
  },
  {
   "cell_type": "code",
   "execution_count": 18,
   "metadata": {},
   "outputs": [
    {
     "data": {
      "text/plain": [
       "0     b\n",
       "1    aa\n",
       "2    aa\n",
       "3     a\n",
       "4     a\n",
       "Name: 0, dtype: object"
      ]
     },
     "execution_count": 18,
     "metadata": {},
     "output_type": "execute_result"
    }
   ],
   "source": [
    "#columns=[0, 1, 2]\n",
    "empty_dataframe[0] = oknow\n",
    "empty_dataframe[0]"
   ]
  },
  {
   "cell_type": "code",
   "execution_count": 21,
   "metadata": {},
   "outputs": [
    {
     "name": "stdout",
     "output_type": "stream",
     "text": [
      "[[-0.97691503  1.59093713]\n",
      " [-0.90187663  0.45280389]\n",
      " [-0.52982051  0.08883572]\n",
      " [ 0.63489514 -0.75972994]\n",
      " [ 0.02550457  0.82586279]\n",
      " [-1.07086805 -0.49000365]\n",
      " [ 0.38636741  1.91918633]\n",
      " [-2.12497039 -1.37769015]\n",
      " [ 1.30583545 -0.6249777 ]\n",
      " [-0.7515226   0.29501756]]\n",
      "\n",
      "   b                                           a\n",
      "0  0   [-0.9769150288541979, 1.5909371299951474]\n",
      "1  1  [-0.9018766299408039, 0.45280389359369466]\n",
      "2  2  [-0.5298205079132237, 0.08883571688350865]\n",
      "3  3    [0.634895144049964, -0.7597299400338455]\n",
      "4  4    [0.02550456560203022, 0.825862789394727]\n",
      "5  5  [-1.0708680487313527, -0.4900036539496635]\n",
      "6  6    [0.3863674100379442, 1.9191863322954077]\n",
      "7  7   [-2.1249703851215958, -1.377690145126683]\n",
      "8  8    [1.3058354494659883, -0.624977704825859]\n",
      "9  9    [-0.7515226011879247, 0.295017557555812]\n",
      "\n",
      "[[-0.97691503  1.59093713]\n",
      " [-0.90187663  0.45280389]\n",
      " [-0.52982051  0.08883572]\n",
      " [ 0.63489514 -0.75972994]\n",
      " [ 0.02550457  0.82586279]\n",
      " [-1.07086805 -0.49000365]\n",
      " [ 0.38636741  1.91918633]\n",
      " [-2.12497039 -1.37769015]\n",
      " [ 1.30583545 -0.6249777 ]\n",
      " [-0.7515226   0.29501756]]\n"
     ]
    }
   ],
   "source": [
    "df3 = pd.DataFrame({'b':range(10)}) \n",
    "a = np.random.normal(size=(10,2))   \n",
    "print(a)\n",
    "print()\n",
    "## Save \n",
    "df3['a'] = a.tolist()       \n",
    "## Retrieve\n",
    "c = np.array(df3['a'].tolist()) \n",
    "\n",
    "print(df3)\n",
    "print()\n",
    "print(c)\n"
   ]
  },
  {
   "attachments": {},
   "cell_type": "markdown",
   "metadata": {},
   "source": [
    "<h3 style=\"color:lightcoral\"> Example 3 </h3>"
   ]
  },
  {
   "cell_type": "code",
   "execution_count": 22,
   "metadata": {},
   "outputs": [
    {
     "name": "stdout",
     "output_type": "stream",
     "text": [
      "True\n",
      "   a  b  c\n",
      "0  1  2  3\n",
      "1  4  5  6\n",
      "2  7  8  9\n",
      "False\n",
      "True\n"
     ]
    }
   ],
   "source": [
    "df = pd.DataFrame(np.array([[1, 2, 3], [4, 5, 6], [7, 8, 9]]),columns=['a', 'b', 'c'])\n",
    "\n",
    "if len(df['c'].unique())==3: \n",
    "    print(True)\n",
    "print(df)\n",
    "res = df.c.eq(df.c.iloc[0]).all()\n",
    "print(res)\n",
    "if len(df['c'].unique())==3: \n",
    "    print(True)"
   ]
  },
  {
   "attachments": {},
   "cell_type": "markdown",
   "metadata": {},
   "source": [
    "<h3 style=\"color:lightcoral\"> Example 4 </h3>"
   ]
  },
  {
   "cell_type": "code",
   "execution_count": 23,
   "metadata": {},
   "outputs": [],
   "source": [
    "def removeDuplicates(lst):\n",
    "    \"\"\" Removes duplicates from a list of lists.\n",
    "    \n",
    "    Parameters:\n",
    "        List of lists, where each sublist contains two elements.\n",
    "    \n",
    "    Returns:\n",
    "        New list with duplicate elements removed, calculated directly in one instr.\n",
    "    \n",
    "    Details:\n",
    "        - Iterate over the input list and filter out duplicates, using list comprehension;\n",
    "        - Enumerate to retrieve both the index 'i' and the elements [a, b] from the lst;\n",
    "        - 'any' is True if any element in the given iterable ('lst[:i]') matches the condition;\n",
    "        - Check if (NOT!) any previous sublist in 'lst' has the same second element ('b') as the current sublist;\n",
    "        - The sublist [a, b] is included in the new list, effectively removing duplicates, if the 'any' condition is False;\n",
    "    \"\"\"\n",
    "\n",
    "    #return [[a, b] for i, [a, b] in enumerate(lst) \n",
    "    #        if not any(c == b for _, c in lst[:i])]\n",
    "\n",
    "    return [sublist for i, sublist in enumerate(lst) if not any(sublist == s for s in lst[:i])]"
   ]
  },
  {
   "cell_type": "code",
   "execution_count": 24,
   "metadata": {},
   "outputs": [],
   "source": [
    "# Read the data from CSV file into a DataFrame\n",
    "df = pd.read_csv('./data_pandas/ss_cancella.csv')\n",
    "#df = pd.read_csv('./data_pandas/simple_dataset_2col.csv')\n",
    "\n",
    "# Extract the required columns as a list of lists\n",
    "#lst = [[row['scenario_group'], row['type']] for _, row in df.iterrows()]\n",
    "lst = df.values.tolist()"
   ]
  },
  {
   "cell_type": "code",
   "execution_count": 25,
   "metadata": {},
   "outputs": [
    {
     "data": {
      "text/plain": [
       "['Scenario_1', '1FSUS']"
      ]
     },
     "execution_count": 25,
     "metadata": {},
     "output_type": "execute_result"
    }
   ],
   "source": [
    "lst[0]"
   ]
  },
  {
   "cell_type": "code",
   "execution_count": 26,
   "metadata": {},
   "outputs": [
    {
     "name": "stdout",
     "output_type": "stream",
     "text": [
      "table after:\n",
      "    scenario_group        type\n",
      "0      Scenario_1       1FSUS\n",
      "1      Scenario_1       1FSUD\n",
      "2      Scenario_1      1FSUDT\n",
      "3      Scenario_1       1FCOS\n",
      "4      Scenario_1       1FCOD\n",
      "5      Scenario_1      1FCODT\n",
      "6      Scenario_1     1FSUCOS\n",
      "7      Scenario_1     1FSUCOD\n",
      "8      Scenario_1       1FGCA\n",
      "9      Scenario_1      1FCACO\n",
      "10     Scenario_1     1FCACOA\n",
      "11     Scenario_1        2LST\n",
      "12     Scenario_1       2LTWO\n",
      "13     Scenario_1     2LDSUOC\n",
      "14     Scenario_1      2LDBOC\n",
      "15     Scenario_1     2LDSUOB\n",
      "16     Scenario_1      2LDSU2\n",
      "17     Scenario_1        3SSU\n",
      "18     Scenario_1        3SCO\n",
      "19     Scenario_1         5KS\n",
      "20     Scenario_1         5KD\n",
      "21     Scenario_1       7OSU2\n",
      "22     Scenario_1       7OCO2\n",
      "23     Scenario_1        7OL2\n",
      "24     Scenario_1    8QTSUSC1\n",
      "25     Scenario_1    8QTCOSC1\n",
      "26     Scenario_1    8QTCOSC2\n",
      "27     Scenario_1     8QTKNSC\n",
      "28     Scenario_1     8QTKNDC\n",
      "29     Scenario_1    8QTCODC1\n",
      "30     Scenario_1    8QTSUSB1\n",
      "31     Scenario_1    8QTSUSB2\n",
      "32     Scenario_1    8QTCOSB2\n",
      "33     Scenario_1     8QTKNSB\n",
      "34     Scenario_1     8QTPRSB\n",
      "35     Scenario_1    8QTSUDB1\n",
      "36     Scenario_1    8QTCODB1\n",
      "37     Scenario_1  8QTSUSCOC1\n",
      "38     Scenario_1      9CNSSU\n"
     ]
    }
   ],
   "source": [
    "# Pass the list of lists to the removeDuplicates function\n",
    "table = removeDuplicates(lst)\n",
    "\n",
    "# Convert the resulting list back to a DataFrame\n",
    "result_df = pd.DataFrame(table, columns=['scenario_group', 'type'])\n",
    "\n",
    "print(\"table after:\\n\", result_df)\n"
   ]
  },
  {
   "cell_type": "code",
   "execution_count": 27,
   "metadata": {},
   "outputs": [
    {
     "name": "stdout",
     "output_type": "stream",
     "text": [
      "table before:\n",
      "        scenario_group        type\n",
      "0          Scenario_1       1FSUS\n",
      "1          Scenario_1       1FSUD\n",
      "2          Scenario_1      1FSUDT\n",
      "3          Scenario_1       1FCOS\n",
      "4          Scenario_1       1FCOD\n",
      "...               ...         ...\n",
      "215210   Scenario_999    8QTSUDB1\n",
      "215211   Scenario_999    8QTCODB1\n",
      "215212   Scenario_999  8QTSUSCOC1\n",
      "215213   Scenario_999      9CNSSU\n",
      "215214   Scenario_999      9CNSPA\n",
      "\n",
      "[215215 rows x 2 columns]\n"
     ]
    }
   ],
   "source": [
    "tab = pd.read_csv('./data_pandas/simple_dataset_2col.csv', skiprows=None, engine='python', encoding=\"utf-8\")\n",
    "print(\"table before:\\n\" ,tab)"
   ]
  },
  {
   "attachments": {},
   "cell_type": "markdown",
   "metadata": {},
   "source": [
    "<h3 style=\"color:lightcoral\"> Example 5 </h3>\n",
    "Dataframe from json"
   ]
  },
  {
   "cell_type": "code",
   "execution_count": 28,
   "metadata": {},
   "outputs": [
    {
     "name": "stdout",
     "output_type": "stream",
     "text": [
      "{'users': [{'id': 1, 'name': 'John Doe', 'email': 'johndoe@example.com', 'phone': '555-1234', 'address': {'street': '123 Main St', 'city': 'Anytown', 'state': 'CA', 'zip': '12345'}, 'orders': [{'id': 1, 'items': [{'id': 1, 'name': 'Product 1', 'price': 10.0}, {'id': 2, 'name': 'Product 2', 'price': 20.0}], 'total': 30.0}, {'id': 2, 'items': [{'id': 3, 'name': 'Product 3', 'price': 15.0}, {'id': 4, 'name': 'Product 4', 'price': 25.0}], 'total': 40.0}]}, {'id': 2, 'name': 'Jane Smith', 'email': 'janesmith@example.com', 'phone': '555-5678', 'address': {'street': '456 Second St', 'city': 'Othertown', 'state': 'NY', 'zip': '67890'}, 'orders': [{'id': 3, 'items': [{'id': 5, 'name': 'Product 5', 'price': 12.0}, {'id': 6, 'name': 'Product 6', 'price': 18.0}], 'total': 30.0}]}]}\n"
     ]
    }
   ],
   "source": [
    "# import from folder\n",
    "# Open the JSON file for reading\n",
    "with open('./data_pandas/for_example_pandas.json', 'r') as f:\n",
    "    data_json = json.load(f)\n",
    "\n",
    "# Print the contents of the JSON file\n",
    "print(data_json)"
   ]
  },
  {
   "cell_type": "code",
   "execution_count": 60,
   "metadata": {},
   "outputs": [
    {
     "name": "stdout",
     "output_type": "stream",
     "text": [
      "[\n",
      "    [\n",
      "        {\n",
      "            \"userId\": 1,\n",
      "            \"id\": 1,\n",
      "            \"title\": \"sunt aut facere repellat provident occaecati excepturi optio reprehenderit\",\n",
      "            \"body\": \"quia et suscipit\\nsuscipit recusandae consequuntur expedita et cum\\nreprehenderit molestiae ut ut quas totam\\nnostrum rerum est autem sunt rem eveniet architecto\"\n",
      "        },\n",
      "        {\n",
      "            \"userId\": 1,\n",
      "            \"id\": 2,\n",
      "            \"title\": \"qui est esse\",\n",
      "            \"body\": \"est rerum tempore vitae\\nsequi sint nihil reprehenderit dolor beatae ea dolores neque\\nfugiat blanditiis voluptate porro vel nihil molestiae ut reiciendis\\nqui aperiam non debitis possimus qui neque nisi nulla\"\n",
      "        }\n",
      "    ]\n",
      "]\n"
     ]
    }
   ],
   "source": [
    "#print(json.dumps(data_json, indent=4))\n",
    "first_part = [data_json[:2]]\n",
    "print(json.dumps(first_part, indent=4))"
   ]
  },
  {
   "cell_type": "code",
   "execution_count": 29,
   "metadata": {},
   "outputs": [],
   "source": [
    "# URL of the JSON data\n",
    "url_j = 'https://jsonplaceholder.typicode.com/posts'\n",
    "\n",
    "# Send a GET request to retrieve the JSON data\n",
    "response = requests.get(url_j)\n",
    "# Get the JSON data from the response\n",
    "json_data = response.json()\n",
    "\n",
    "# Save the JSON data to a file\n",
    "with open('./data_pandas/toy_data.json', 'w') as file:\n",
    "    file.write(str(json_data))"
   ]
  },
  {
   "cell_type": "code",
   "execution_count": 30,
   "metadata": {},
   "outputs": [],
   "source": [
    "response = urlopen(url_j)\n",
    "data_json = json.loads(response.read())"
   ]
  },
  {
   "cell_type": "code",
   "execution_count": 31,
   "metadata": {},
   "outputs": [
    {
     "data": {
      "text/plain": [
       "{'userId': 1,\n",
       " 'id': 1,\n",
       " 'title': 'sunt aut facere repellat provident occaecati excepturi optio reprehenderit',\n",
       " 'body': 'quia et suscipit\\nsuscipit recusandae consequuntur expedita et cum\\nreprehenderit molestiae ut ut quas totam\\nnostrum rerum est autem sunt rem eveniet architecto'}"
      ]
     },
     "execution_count": 31,
     "metadata": {},
     "output_type": "execute_result"
    }
   ],
   "source": [
    "data_json[0]"
   ]
  },
  {
   "cell_type": "code",
   "execution_count": 32,
   "metadata": {},
   "outputs": [
    {
     "data": {
      "text/plain": [
       "[1, 1, 1, 1, 1, 1, 1, 1, 1, 1]"
      ]
     },
     "execution_count": 32,
     "metadata": {},
     "output_type": "execute_result"
    }
   ],
   "source": [
    "user_ids = [item['userId'] for item in data_json]\n",
    "type(user_ids)\n",
    "user_ids[:10]"
   ]
  },
  {
   "cell_type": "code",
   "execution_count": 33,
   "metadata": {},
   "outputs": [
    {
     "name": "stdout",
     "output_type": "stream",
     "text": [
      "<class 'list'>\n",
      "<class 'list'>\n"
     ]
    }
   ],
   "source": [
    "print(type(data_json))\n",
    "print(type(user_ids))"
   ]
  },
  {
   "cell_type": "code",
   "execution_count": 38,
   "metadata": {},
   "outputs": [
    {
     "name": "stdout",
     "output_type": "stream",
     "text": [
      "{\n",
      "    \"userId\": 1,\n",
      "    \"id\": 1,\n",
      "    \"title\": \"sunt aut facere repellat provident occaecati excepturi optio reprehenderit\",\n",
      "    \"body\": \"quia et suscipit\\nsuscipit recusandae consequuntur expedita et cum\\nreprehenderit molestiae ut ut quas totam\\nnostrum rerum est autem sunt rem eveniet architecto\"\n",
      "}\n"
     ]
    }
   ],
   "source": [
    "\"\"\" Pretty print with json. \n",
    "1- Get the first part of the dictionary\n",
    "2- Convert the dictionary to a JSON string with indentation\n",
    "3- Print necessary also in notebooks\n",
    "\"\"\"\n",
    "\n",
    "# Sample data in dictionary format\n",
    "data_js = [\n",
    "    {\n",
    "        'userId': 1,\n",
    "        'id': 1,\n",
    "        'title': 'sunt aut facere repellat provident occaecati excepturi optio reprehenderit',\n",
    "        'body': 'quia et suscipit\\nsuscipit recusandae consequuntur expedita et cum\\nreprehenderit molestiae ut ut quas totam\\nnostrum rerum est autem sunt rem eveniet architecto'\n",
    "    },\n",
    "    {\n",
    "        'userId': 1,\n",
    "        'id': 2,\n",
    "        'title': 'qui est esse',\n",
    "        'body': 'est rerum tempore vitae\\nsequi sint nihil reprehenderit dolor beatae ea dolores neque\\nfugiat blanditiis voluptate porro vel nihil molestiae ut reiciendis\\nqui aperiam non debitis possimus qui neque nisi nulla'\n",
    "    },\n",
    "    {\n",
    "        'userId': 1,\n",
    "        'id': 3,\n",
    "        'title': 'ea molestias quasi exercitationem repellat qui ipsa sit aut',\n",
    "        'body': 'et iusto sed quo iure\\nvoluptatem occaecati omnis eligendi aut ad\\nvoluptatem doloribus vel accusantium quis pariatur\\nmolestiae porro eius odio et labore et velit aut'\n",
    "    },\n",
    "    {\n",
    "        'userId': 1,\n",
    "        'id': 4,\n",
    "        'title': 'eum et est occaecati',\n",
    "        'body': 'ullam et saepe reiciendis voluptatem adipisci\\nsit amet autem assumenda provident rerum culpa\\nquis hic commodi nesciunt rem tenetur doloremque ipsam iure\\nquis sunt voluptatem rerum illo velit'\n",
    "    }\n",
    "]\n",
    "first_part = {k: v for k, v in data_js[0].items() if k != 'c'}\n",
    "# Convert the filtered dictionary to a JSON string\n",
    "json_str = json.dumps(first_part, indent=4)\n",
    "\n",
    "print(json_str)"
   ]
  },
  {
   "cell_type": "code",
   "execution_count": 40,
   "metadata": {},
   "outputs": [
    {
     "name": "stdout",
     "output_type": "stream",
     "text": [
      "{\n",
      "    \"userId\": 1,\n",
      "    \"id\": 1,\n",
      "    \"title\": \"sunt aut facere repellat provident occaecati excepturi optio reprehenderit\",\n",
      "    \"body\": \"quia et suscipit\\nsuscipit recusandae consequuntur expedita et cum\\nreprehenderit molestiae ut ut quas totam\\nnostrum rerum est autem sunt rem eveniet architecto\"\n",
      "}\n"
     ]
    }
   ],
   "source": [
    "json_str_whole = json.dumps(data_js, indent=4)\n",
    "json_str = json.dumps(first_part, indent=4)\n",
    "print(json_str)"
   ]
  },
  {
   "cell_type": "code",
   "execution_count": 41,
   "metadata": {},
   "outputs": [
    {
     "data": {
      "text/html": [
       "<div>\n",
       "<style scoped>\n",
       "    .dataframe tbody tr th:only-of-type {\n",
       "        vertical-align: middle;\n",
       "    }\n",
       "\n",
       "    .dataframe tbody tr th {\n",
       "        vertical-align: top;\n",
       "    }\n",
       "\n",
       "    .dataframe thead th {\n",
       "        text-align: right;\n",
       "    }\n",
       "</style>\n",
       "<table border=\"1\" class=\"dataframe\">\n",
       "  <thead>\n",
       "    <tr style=\"text-align: right;\">\n",
       "      <th></th>\n",
       "      <th>0</th>\n",
       "      <th>1</th>\n",
       "      <th>2</th>\n",
       "    </tr>\n",
       "  </thead>\n",
       "  <tbody>\n",
       "    <tr>\n",
       "      <th>Name</th>\n",
       "      <td>John</td>\n",
       "      <td>Alice</td>\n",
       "      <td>Bob</td>\n",
       "    </tr>\n",
       "    <tr>\n",
       "      <th>Age</th>\n",
       "      <td>25</td>\n",
       "      <td>30</td>\n",
       "      <td>35</td>\n",
       "    </tr>\n",
       "    <tr>\n",
       "      <th>City</th>\n",
       "      <td>New York</td>\n",
       "      <td>London</td>\n",
       "      <td>Paris</td>\n",
       "    </tr>\n",
       "  </tbody>\n",
       "</table>\n",
       "</div>"
      ],
      "text/plain": [
       "             0       1      2\n",
       "Name      John   Alice    Bob\n",
       "Age         25      30     35\n",
       "City  New York  London  Paris"
      ]
     },
     "execution_count": 41,
     "metadata": {},
     "output_type": "execute_result"
    }
   ],
   "source": [
    "\"\"\" From json to pandas df. \"\"\"\n",
    "data_dict = {\n",
    "    'Name': ['John', 'Alice', 'Bob'],\n",
    "    'Age': [25, 30, 35],\n",
    "    'City': ['New York', 'London', 'Paris']\n",
    "}\n",
    "df = pd.DataFrame.from_dict(data_dict, orient = 'index')\n",
    "df"
   ]
  },
  {
   "cell_type": "code",
   "execution_count": 42,
   "metadata": {},
   "outputs": [
    {
     "name": "stdout",
     "output_type": "stream",
     "text": [
      "             0       1      2\n",
      "Name      John   Alice    Bob\n",
      "Age         25      30     35\n",
      "City  New York  London  Paris\n"
     ]
    }
   ],
   "source": [
    "\"\"\" Print the whole df with modified display options. 2 ways. \"\"\"\n",
    "#pd.set_option(\"display.max_rows\", None, \"display.max_columns\", None)\n",
    "#print(df)\n",
    "# or ...\n",
    "with pd.option_context('display.max_rows', None, 'display.max_columns', None):\n",
    "    print(df)"
   ]
  },
  {
   "cell_type": "code",
   "execution_count": 43,
   "metadata": {},
   "outputs": [
    {
     "name": "stdout",
     "output_type": "stream",
     "text": [
      "    userId   id                                              title  \\\n",
      "0        1    1  sunt aut facere repellat provident occaecati e...   \n",
      "1        1    2                                       qui est esse   \n",
      "2        1    3  ea molestias quasi exercitationem repellat qui...   \n",
      "3        1    4                               eum et est occaecati   \n",
      "4        1    5                                 nesciunt quas odio   \n",
      "..     ...  ...                                                ...   \n",
      "95      10   96  quaerat velit veniam amet cupiditate aut numqu...   \n",
      "96      10   97         quas fugiat ut perspiciatis vero provident   \n",
      "97      10   98                        laboriosam dolor voluptates   \n",
      "98      10   99  temporibus sit alias delectus eligendi possimu...   \n",
      "99      10  100              at nam consequatur ea labore ea harum   \n",
      "\n",
      "                                                 body  \n",
      "0   quia et suscipit\\nsuscipit recusandae consequu...  \n",
      "1   est rerum tempore vitae\\nsequi sint nihil repr...  \n",
      "2   et iusto sed quo iure\\nvoluptatem occaecati om...  \n",
      "3   ullam et saepe reiciendis voluptatem adipisci\\...  \n",
      "4   repudiandae veniam quaerat sunt sed\\nalias aut...  \n",
      "..                                                ...  \n",
      "95  in non odio excepturi sint eum\\nlabore volupta...  \n",
      "96  eum non blanditiis soluta porro quibusdam volu...  \n",
      "97  doloremque ex facilis sit sint culpa\\nsoluta a...  \n",
      "98  quo deleniti praesentium dicta non quod\\naut e...  \n",
      "99  cupiditate quo est a modi nesciunt soluta\\nips...  \n",
      "\n",
      "[100 rows x 4 columns]\n"
     ]
    }
   ],
   "source": [
    "\"\"\" Convert the JSON data to a pandas dataframe. \"\"\"\n",
    "df2 = pd.read_json(json.dumps(data_json))\n",
    "print(df2)"
   ]
  },
  {
   "attachments": {},
   "cell_type": "markdown",
   "metadata": {},
   "source": [
    "<h3 style=\"color:lightcoral\"> Example 6</h3>"
   ]
  },
  {
   "cell_type": "code",
   "execution_count": 46,
   "metadata": {},
   "outputs": [
    {
     "data": {
      "text/html": [
       "<div>\n",
       "<style scoped>\n",
       "    .dataframe tbody tr th:only-of-type {\n",
       "        vertical-align: middle;\n",
       "    }\n",
       "\n",
       "    .dataframe tbody tr th {\n",
       "        vertical-align: top;\n",
       "    }\n",
       "\n",
       "    .dataframe thead th {\n",
       "        text-align: right;\n",
       "    }\n",
       "</style>\n",
       "<table border=\"1\" class=\"dataframe\">\n",
       "  <thead>\n",
       "    <tr style=\"text-align: right;\">\n",
       "      <th></th>\n",
       "      <th>string</th>\n",
       "    </tr>\n",
       "  </thead>\n",
       "  <tbody>\n",
       "    <tr>\n",
       "      <th>0</th>\n",
       "      <td>._config.test_dataset_config.train = False</td>\n",
       "    </tr>\n",
       "    <tr>\n",
       "      <th>1</th>\n",
       "      <td>}</td>\n",
       "    </tr>\n",
       "    <tr>\n",
       "      <th>2</th>\n",
       "      <td>- INFO - trainer - Iter #8000 - iteration: 0.7...</td>\n",
       "    </tr>\n",
       "  </tbody>\n",
       "</table>\n",
       "</div>"
      ],
      "text/plain": [
       "                                              string\n",
       "0         ._config.test_dataset_config.train = False\n",
       "1                                                  }\n",
       "2  - INFO - trainer - Iter #8000 - iteration: 0.7..."
      ]
     },
     "execution_count": 46,
     "metadata": {},
     "output_type": "execute_result"
    }
   ],
   "source": [
    "## Example string\n",
    "strings = ['._config.test_dataset_config.train = False',\n",
    "        '}',\n",
    "        '- INFO - trainer - Iter #8000 - iteration: 0.77s - forward: 0.43s - loss: 0.034s - loading_wait: 0.15s - backward: 0.16s - parallel_loading: 8.1s (0 Failed) - train_loss: 6.12e-03'\n",
    "        ]\n",
    "\n",
    "## Regular expressions to extract fields\n",
    "iter_regex = r'Iter #(\\d+)'\n",
    "forward_regex = r'forward: ([\\d\\.]+)s'\n",
    "loss_regex = r'loss: ([\\d\\.]+)s'\n",
    "loading_wait_regex = r'loading_wait: ([\\d\\.]+)s'\n",
    "\n",
    "## Create DataFrame from list of strings\n",
    "df6 = pd.DataFrame(strings, columns=['string'])\n",
    "df6"
   ]
  },
  {
   "cell_type": "code",
   "execution_count": 48,
   "metadata": {},
   "outputs": [
    {
     "data": {
      "text/html": [
       "<div>\n",
       "<style scoped>\n",
       "    .dataframe tbody tr th:only-of-type {\n",
       "        vertical-align: middle;\n",
       "    }\n",
       "\n",
       "    .dataframe tbody tr th {\n",
       "        vertical-align: top;\n",
       "    }\n",
       "\n",
       "    .dataframe thead th {\n",
       "        text-align: right;\n",
       "    }\n",
       "</style>\n",
       "<table border=\"1\" class=\"dataframe\">\n",
       "  <thead>\n",
       "    <tr style=\"text-align: right;\">\n",
       "      <th></th>\n",
       "      <th>iter</th>\n",
       "      <th>forward</th>\n",
       "      <th>loss</th>\n",
       "      <th>loading_wait</th>\n",
       "    </tr>\n",
       "  </thead>\n",
       "  <tbody>\n",
       "    <tr>\n",
       "      <th>0</th>\n",
       "      <td>Na</td>\n",
       "      <td>Na</td>\n",
       "      <td>Na</td>\n",
       "      <td>Na</td>\n",
       "    </tr>\n",
       "    <tr>\n",
       "      <th>1</th>\n",
       "      <td>Na</td>\n",
       "      <td>Na</td>\n",
       "      <td>Na</td>\n",
       "      <td>Na</td>\n",
       "    </tr>\n",
       "    <tr>\n",
       "      <th>2</th>\n",
       "      <td>8000</td>\n",
       "      <td>0.43</td>\n",
       "      <td>0.034</td>\n",
       "      <td>0.15</td>\n",
       "    </tr>\n",
       "  </tbody>\n",
       "</table>\n",
       "</div>"
      ],
      "text/plain": [
       "   iter forward   loss loading_wait\n",
       "0    Na      Na     Na           Na\n",
       "1    Na      Na     Na           Na\n",
       "2  8000    0.43  0.034         0.15"
      ]
     },
     "execution_count": 48,
     "metadata": {},
     "output_type": "execute_result"
    }
   ],
   "source": [
    "## Extract fields\n",
    "df6['iter'] = df6['string'].apply(lambda x: re.search(iter_regex, x).group(1) if re.search(iter_regex, x) else 'Na')\n",
    "df6['forward'] = df6['string'].apply(lambda x: re.search(forward_regex, x).group(1) if re.search(forward_regex, x) else 'Na')\n",
    "df6['loss'] = df6['string'].apply(lambda x: re.search(loss_regex, x).group(1) if re.search(loss_regex, x) else 'Na')\n",
    "df6['loading_wait'] = df6['string'].apply(lambda x: re.search(loading_wait_regex, x).group(1) if re.search(loading_wait_regex, x) else 'Na')\n",
    "\n",
    "# Drop the 'string' column\n",
    "df6.drop(columns=['string'], inplace=True)\n",
    "df6"
   ]
  },
  {
   "cell_type": "markdown",
   "metadata": {},
   "source": [
    "<h3 style=\"color:lightcoral\"> Example 7 </h3>\n",
    "Handling Dates and Times"
   ]
  },
  {
   "cell_type": "markdown",
   "metadata": {},
   "source": [
    "%Y Full year <br>\n",
    "%m Month w/ zero padding  <br>\n",
    "%d Day of the month (w/ zero padding)  <br>\n",
    "%I Hour (12hr clock) (w/ zero padding)  <br>\n",
    "%p AM or PM AM  <br>\n",
    "%M Minute (w/ zero padding)  <br>\n",
    "%S Second (w/ zero padding) <br>"
   ]
  },
  {
   "cell_type": "code",
   "execution_count": 49,
   "metadata": {},
   "outputs": [
    {
     "name": "stdout",
     "output_type": "stream",
     "text": [
      "[Timestamp('2005-04-03 23:35:00'), Timestamp('2010-05-23 00:01:00'), Timestamp('2009-09-04 21:09:00')]\n",
      "[Timestamp('2005-04-03 23:35:00'), Timestamp('2010-05-23 00:01:00'), Timestamp('2009-09-04 21:09:00')]\n"
     ]
    }
   ],
   "source": [
    "date_strings = np.array(['03-04-2005 11:35 PM', '23-05-2010 12:01 AM', '04-09-2009 09:09 PM'])\n",
    "dd = [pd.to_datetime(date, format='%d-%m-%Y %I:%M %p') for date in date_strings]\n",
    "datetim = [pd.to_datetime(date, format=\"%d-%m-%Y %I:%M %p\", errors=\"coerce\") for date in date_strings] # errors are not raide\n",
    "\n",
    "print(dd)\n",
    "print(datetim)"
   ]
  },
  {
   "cell_type": "markdown",
   "metadata": {},
   "source": [
    "<h3 style=\"color:lightcoral\"> Example 8 </h3>\n",
    "Frequency"
   ]
  },
  {
   "cell_type": "markdown",
   "metadata": {},
   "source": [
    "Available frequency strings include (freq param):\n",
    "<div style=\"margin-top: -14px;\">\n",
    "\n",
    "- 'B' for business days, \n",
    "- 'W' for weekly, \n",
    "- 'M' for monthly, \n",
    "- 'Y' for yearly \n",
    "</div>"
   ]
  },
  {
   "cell_type": "code",
   "execution_count": 50,
   "metadata": {},
   "outputs": [
    {
     "name": "stdout",
     "output_type": "stream",
     "text": [
      "                 date  new_column\n",
      "0 2001-01-01 00:00:00           1\n",
      "1 2001-01-01 01:00:00           1\n",
      "2 2001-01-01 02:00:00           1\n",
      "                     new_column\n",
      "date                           \n",
      "2001-01-01 00:00:00           1\n",
      "2001-01-01 01:00:00           1\n",
      "2001-01-01 02:00:00           1\n",
      "   new_column\n",
      "0           1\n",
      "1           1\n",
      "2           1\n",
      "                     new_column\n",
      "date                           \n",
      "2001-01-01 00:00:00           1\n",
      "2001-01-01 01:00:00           1\n",
      "2001-01-01 02:00:00           1\n",
      "                     new_column\n",
      "date                           \n",
      "2001-01-01 00:00:00           1\n",
      "2001-01-01 01:00:00           1\n",
      "2001-01-01 02:00:00           1\n",
      "                index  new_column\n",
      "0 2001-01-01 00:00:00           1\n",
      "1 2001-01-01 01:00:00           1\n",
      "2 2001-01-01 02:00:00           1\n"
     ]
    }
   ],
   "source": [
    "datafr = pd.DataFrame() \n",
    "datafr['date'] = pd.date_range('1/1/2001', periods=100000, freq='H') \n",
    "datafr[(datafr['date'] > '2002-1-1 01:00:00') & (datafr['date'] <= '2002-1-1 04:00:00')]\n",
    "datafr['new_column'] = 1\n",
    "\n",
    "datafr2 = datafr.set_index(datafr['date'].drop(columns=['date']))\n",
    "datafr2 = datafr.set_index('date')\n",
    "datafr3 = datafr2.reset_index(drop=True)\n",
    "\n",
    "# datafr4 = datafr.set_index('date').drop(columns=['date']) # not work!!\n",
    "# ok work but only when the columns are more than one! otherwise the unique column values will be copied \n",
    "# in the index of an empty dataframe!\n",
    "datafr5 = datafr.set_index('date', drop=True) \n",
    "datafr6 = datafr.set_index('date')\n",
    "datafr7 = datafr6.rename_axis(None).reset_index()\n",
    "\n",
    "print(datafr.head(3))\n",
    "print(datafr2.head(3))\n",
    "print(datafr3.head(3))\n",
    "print(datafr5.head(3))\n",
    "print(datafr6.head(3))\n",
    "print(datafr7.head(3))"
   ]
  },
  {
   "cell_type": "code",
   "execution_count": 51,
   "metadata": {},
   "outputs": [
    {
     "data": {
      "text/html": [
       "<div>\n",
       "<style scoped>\n",
       "    .dataframe tbody tr th:only-of-type {\n",
       "        vertical-align: middle;\n",
       "    }\n",
       "\n",
       "    .dataframe tbody tr th {\n",
       "        vertical-align: top;\n",
       "    }\n",
       "\n",
       "    .dataframe thead th {\n",
       "        text-align: right;\n",
       "    }\n",
       "</style>\n",
       "<table border=\"1\" class=\"dataframe\">\n",
       "  <thead>\n",
       "    <tr style=\"text-align: right;\">\n",
       "      <th></th>\n",
       "      <th>date</th>\n",
       "      <th>new_column</th>\n",
       "      <th>year</th>\n",
       "      <th>month</th>\n",
       "      <th>day</th>\n",
       "      <th>hour</th>\n",
       "      <th>minute</th>\n",
       "    </tr>\n",
       "  </thead>\n",
       "  <tbody>\n",
       "    <tr>\n",
       "      <th>0</th>\n",
       "      <td>2001-01-01 00:00:00</td>\n",
       "      <td>1</td>\n",
       "      <td>2001</td>\n",
       "      <td>1</td>\n",
       "      <td>1</td>\n",
       "      <td>0</td>\n",
       "      <td>0</td>\n",
       "    </tr>\n",
       "    <tr>\n",
       "      <th>1</th>\n",
       "      <td>2001-01-01 01:00:00</td>\n",
       "      <td>1</td>\n",
       "      <td>2001</td>\n",
       "      <td>1</td>\n",
       "      <td>1</td>\n",
       "      <td>1</td>\n",
       "      <td>0</td>\n",
       "    </tr>\n",
       "    <tr>\n",
       "      <th>2</th>\n",
       "      <td>2001-01-01 02:00:00</td>\n",
       "      <td>1</td>\n",
       "      <td>2001</td>\n",
       "      <td>1</td>\n",
       "      <td>1</td>\n",
       "      <td>2</td>\n",
       "      <td>0</td>\n",
       "    </tr>\n",
       "  </tbody>\n",
       "</table>\n",
       "</div>"
      ],
      "text/plain": [
       "                 date  new_column  year  month  day  hour  minute\n",
       "0 2001-01-01 00:00:00           1  2001      1    1     0       0\n",
       "1 2001-01-01 01:00:00           1  2001      1    1     1       0\n",
       "2 2001-01-01 02:00:00           1  2001      1    1     2       0"
      ]
     },
     "execution_count": 51,
     "metadata": {},
     "output_type": "execute_result"
    }
   ],
   "source": [
    "\"\"\"Breaking up date data into multiple feratures\"\"\"\n",
    "dataframmo = datafr.copy()\n",
    "dataframmo['year'] = dataframmo['date'].dt.year \n",
    "dataframmo['month'] = dataframmo['date'].dt.month \n",
    "dataframmo['day'] = dataframmo['date'].dt.day \n",
    "dataframmo['hour'] = dataframmo['date'].dt.hour \n",
    "dataframmo['minute'] = dataframmo['date'].dt.minute \n",
    "dataframmo.head(3)"
   ]
  },
  {
   "cell_type": "code",
   "execution_count": 52,
   "metadata": {},
   "outputs": [
    {
     "name": "stdout",
     "output_type": "stream",
     "text": [
      "     Arrived       Left\n",
      "0 2017-01-01 2017-01-01\n",
      "1 2017-01-04 2017-01-06\n",
      "<class 'pandas.core.series.Series'>\n"
     ]
    },
    {
     "data": {
      "text/plain": [
       "0    0\n",
       "1    2\n",
       "dtype: int64"
      ]
     },
     "execution_count": 52,
     "metadata": {},
     "output_type": "execute_result"
    }
   ],
   "source": [
    "data_frame = pd.DataFrame()\n",
    "data_frame['Arrived'] = [pd.Timestamp('01-01-2017'), pd.Timestamp('01-04-2017')]\n",
    "data_frame['Left'] = [pd.Timestamp('01-01-2017'), pd.Timestamp('01-06-2017')] \n",
    "data_frame['Left'] - data_frame['Arrived']\n",
    "print(data_frame.head())\n",
    "dat = pd.Series(delta.days for delta in (data_frame['Left'] - data_frame['Arrived']))\n",
    "print(type(dat))\n",
    "dat"
   ]
  },
  {
   "cell_type": "code",
   "execution_count": 53,
   "metadata": {},
   "outputs": [
    {
     "name": "stdout",
     "output_type": "stream",
     "text": [
      "0   2002-02-28\n",
      "1   2002-03-31\n",
      "2   2002-04-30\n",
      "dtype: datetime64[ns]\n",
      "0    Thursday\n",
      "1      Sunday\n",
      "2     Tuesday\n",
      "dtype: object\n",
      "0    3\n",
      "1    6\n",
      "2    1\n",
      "dtype: int64\n"
     ]
    }
   ],
   "source": [
    "\"\"\" With a vector of dates we want to know the day of the week for each date. \"\"\"\n",
    "dates = pd.Series(pd.date_range(\"2/2/2002\", periods=3, freq=\"M\"))\n",
    "print(dates)\n",
    "print(dates.dt.day_name())\n",
    "print(dates.dt.weekday)"
   ]
  },
  {
   "cell_type": "code",
   "execution_count": 54,
   "metadata": {},
   "outputs": [],
   "source": [
    "\"\"\" Shift \"\"\"\n",
    "dataframe = pd.DataFrame() \n",
    "dataframe[\"dates\"] = pd.date_range(\"1/1/2001\", periods=5, freq=\"D\") \n",
    "dataframe[\"stock_price\"] = [1.1,2.2,3.3,4.4,5.5] \n",
    "# Lagged values by one row \n",
    "dataframe[\"previous_days_stock_price\"] = dataframe[\"stock_price\"].shift(1) \n",
    "dataframe[\"stock_price_rolling_1\"] = dataframe[\"stock_price\"].rolling(window=1).mean()\n",
    "dataframe[\"stock_price_rolling_2\"] = dataframe[\"stock_price\"].rolling(window=2).mean()\n",
    "dataframe[\"stock_price_rolling_3\"] = dataframe[\"stock_price\"].rolling(window=3).mean()\n",
    "dataframe[\"stock_price_rolling_4\"] = dataframe[\"stock_price\"].rolling(window=4).mean()\n",
    "\n",
    "dataframe[\"Sales\"] = [1.3, np.nan, 2.5, np.nan, np.nan]"
   ]
  },
  {
   "cell_type": "code",
   "execution_count": 55,
   "metadata": {},
   "outputs": [
    {
     "data": {
      "text/html": [
       "<div>\n",
       "<style scoped>\n",
       "    .dataframe tbody tr th:only-of-type {\n",
       "        vertical-align: middle;\n",
       "    }\n",
       "\n",
       "    .dataframe tbody tr th {\n",
       "        vertical-align: top;\n",
       "    }\n",
       "\n",
       "    .dataframe thead th {\n",
       "        text-align: right;\n",
       "    }\n",
       "</style>\n",
       "<table border=\"1\" class=\"dataframe\">\n",
       "  <thead>\n",
       "    <tr style=\"text-align: right;\">\n",
       "      <th></th>\n",
       "      <th>dates</th>\n",
       "      <th>stock_price</th>\n",
       "      <th>previous_days_stock_price</th>\n",
       "      <th>stock_price_rolling_1</th>\n",
       "      <th>stock_price_rolling_2</th>\n",
       "      <th>stock_price_rolling_3</th>\n",
       "      <th>stock_price_rolling_4</th>\n",
       "      <th>Sales</th>\n",
       "    </tr>\n",
       "  </thead>\n",
       "  <tbody>\n",
       "    <tr>\n",
       "      <th>0</th>\n",
       "      <td>2001-01-01</td>\n",
       "      <td>1.1</td>\n",
       "      <td>NaN</td>\n",
       "      <td>1.1</td>\n",
       "      <td>NaN</td>\n",
       "      <td>NaN</td>\n",
       "      <td>NaN</td>\n",
       "      <td>1.3</td>\n",
       "    </tr>\n",
       "    <tr>\n",
       "      <th>1</th>\n",
       "      <td>2001-01-02</td>\n",
       "      <td>2.2</td>\n",
       "      <td>1.1</td>\n",
       "      <td>2.2</td>\n",
       "      <td>1.65</td>\n",
       "      <td>NaN</td>\n",
       "      <td>NaN</td>\n",
       "      <td>1.9</td>\n",
       "    </tr>\n",
       "    <tr>\n",
       "      <th>2</th>\n",
       "      <td>2001-01-03</td>\n",
       "      <td>3.3</td>\n",
       "      <td>2.2</td>\n",
       "      <td>3.3</td>\n",
       "      <td>2.75</td>\n",
       "      <td>2.2</td>\n",
       "      <td>NaN</td>\n",
       "      <td>2.5</td>\n",
       "    </tr>\n",
       "    <tr>\n",
       "      <th>3</th>\n",
       "      <td>2001-01-04</td>\n",
       "      <td>4.4</td>\n",
       "      <td>3.3</td>\n",
       "      <td>4.4</td>\n",
       "      <td>3.85</td>\n",
       "      <td>3.3</td>\n",
       "      <td>2.75</td>\n",
       "      <td>2.5</td>\n",
       "    </tr>\n",
       "    <tr>\n",
       "      <th>4</th>\n",
       "      <td>2001-01-05</td>\n",
       "      <td>5.5</td>\n",
       "      <td>4.4</td>\n",
       "      <td>5.5</td>\n",
       "      <td>4.95</td>\n",
       "      <td>4.4</td>\n",
       "      <td>3.85</td>\n",
       "      <td>2.5</td>\n",
       "    </tr>\n",
       "  </tbody>\n",
       "</table>\n",
       "</div>"
      ],
      "text/plain": [
       "       dates  stock_price  previous_days_stock_price  stock_price_rolling_1  \\\n",
       "0 2001-01-01          1.1                        NaN                    1.1   \n",
       "1 2001-01-02          2.2                        1.1                    2.2   \n",
       "2 2001-01-03          3.3                        2.2                    3.3   \n",
       "3 2001-01-04          4.4                        3.3                    4.4   \n",
       "4 2001-01-05          5.5                        4.4                    5.5   \n",
       "\n",
       "   stock_price_rolling_2  stock_price_rolling_3  stock_price_rolling_4  Sales  \n",
       "0                    NaN                    NaN                    NaN    1.3  \n",
       "1                   1.65                    NaN                    NaN    1.9  \n",
       "2                   2.75                    2.2                    NaN    2.5  \n",
       "3                   3.85                    3.3                   2.75    2.5  \n",
       "4                   4.95                    4.4                   3.85    2.5  "
      ]
     },
     "execution_count": 55,
     "metadata": {},
     "output_type": "execute_result"
    }
   ],
   "source": [
    "\"\"\" Interpolate. \n",
    "N.B.1\n",
    "#dataframe.interpolate() # error \n",
    "N.B.2\n",
    "#dataframe = dataframe.interpolate(method='linear', limit_direction='forward') #error!!\n",
    "\"\"\"\n",
    "dataframe[\"Sales\"] = dataframe[\"Sales\"].interpolate(method='linear', limit_direction='forward')\n",
    "dataframe"
   ]
  }
 ],
 "metadata": {
  "kernelspec": {
   "display_name": "MLearning",
   "language": "python",
   "name": "python3"
  },
  "language_info": {
   "codemirror_mode": {
    "name": "ipython",
    "version": 3
   },
   "file_extension": ".py",
   "mimetype": "text/x-python",
   "name": "python",
   "nbconvert_exporter": "python",
   "pygments_lexer": "ipython3",
   "version": "3.10.9"
  },
  "orig_nbformat": 4
 },
 "nbformat": 4,
 "nbformat_minor": 2
}
