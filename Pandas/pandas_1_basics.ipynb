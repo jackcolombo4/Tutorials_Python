{
 "cells": [
  {
   "attachments": {},
   "cell_type": "markdown",
   "metadata": {},
   "source": [
    "<div style=\"line-height:0.5\">\n",
    "<h1 style=\"color:lightcoral\"> Pandas basics 1 </h1>\n",
    "</div>\n",
    "<div style=\"line-height:1.5\">\n",
    "<div style=\"margin-top: -10px;\">\n",
    "<span style=\"display: inline-block;\">\n",
    "    <h3 style=\"color: lightblue; display: inline;\">Keywords:</h3> pd.Timestamp() + urlopen + pd.Series() + pd.to_datetime() + json.loads + pd.interpolate()\n",
    "</span>\n",
    "</div>\n",
    "</div>"
   ]
  },
  {
   "cell_type": "code",
   "execution_count": 1,
   "metadata": {},
   "outputs": [],
   "source": [
    "import re\n",
    "import json\n",
    "import random\n",
    "import requests\n",
    "import numpy as np\n",
    "import pandas as pd\n",
    "import matplotlib as plt\n",
    "from urllib.request import urlopen"
   ]
  },
  {
   "attachments": {},
   "cell_type": "markdown",
   "metadata": {},
   "source": [
    "<h3 style=\"color:lightcoral\"> Example 0 </h3>"
   ]
  },
  {
   "cell_type": "code",
   "execution_count": 2,
   "metadata": {},
   "outputs": [
    {
     "data": {
      "text/html": [
       "<div>\n",
       "<style scoped>\n",
       "    .dataframe tbody tr th:only-of-type {\n",
       "        vertical-align: middle;\n",
       "    }\n",
       "\n",
       "    .dataframe tbody tr th {\n",
       "        vertical-align: top;\n",
       "    }\n",
       "\n",
       "    .dataframe thead th {\n",
       "        text-align: right;\n",
       "    }\n",
       "</style>\n",
       "<table border=\"1\" class=\"dataframe\">\n",
       "  <thead>\n",
       "    <tr style=\"text-align: right;\">\n",
       "      <th></th>\n",
       "      <th>Min0</th>\n",
       "      <th>Min1</th>\n",
       "      <th>Min2</th>\n",
       "      <th>Min3</th>\n",
       "      <th>Min4</th>\n",
       "      <th>Max0</th>\n",
       "      <th>Max1</th>\n",
       "      <th>Max2</th>\n",
       "      <th>Max3</th>\n",
       "      <th>Max4</th>\n",
       "      <th>...</th>\n",
       "      <th>Peak32</th>\n",
       "      <th>Peak33</th>\n",
       "      <th>Peak34</th>\n",
       "      <th>Peak35</th>\n",
       "      <th>Peak41</th>\n",
       "      <th>Peak42</th>\n",
       "      <th>Peak43</th>\n",
       "      <th>Peak44</th>\n",
       "      <th>Peak45</th>\n",
       "      <th>Response</th>\n",
       "    </tr>\n",
       "  </thead>\n",
       "  <tbody>\n",
       "    <tr>\n",
       "      <th>0</th>\n",
       "      <td>0.15</td>\n",
       "      <td>0.15</td>\n",
       "      <td>0.15</td>\n",
       "      <td>0.15</td>\n",
       "      <td>0.15</td>\n",
       "      <td>0.75</td>\n",
       "      <td>0.75</td>\n",
       "      <td>0.75</td>\n",
       "      <td>0.75</td>\n",
       "      <td>0.75</td>\n",
       "      <td>...</td>\n",
       "      <td>1</td>\n",
       "      <td>0</td>\n",
       "      <td>0</td>\n",
       "      <td>0</td>\n",
       "      <td>2</td>\n",
       "      <td>1</td>\n",
       "      <td>0</td>\n",
       "      <td>0</td>\n",
       "      <td>0</td>\n",
       "      <td>hug</td>\n",
       "    </tr>\n",
       "    <tr>\n",
       "      <th>1</th>\n",
       "      <td>0.15</td>\n",
       "      <td>0.15</td>\n",
       "      <td>0.15</td>\n",
       "      <td>0.15</td>\n",
       "      <td>0.15</td>\n",
       "      <td>0.75</td>\n",
       "      <td>0.75</td>\n",
       "      <td>0.75</td>\n",
       "      <td>0.75</td>\n",
       "      <td>0.75</td>\n",
       "      <td>...</td>\n",
       "      <td>1</td>\n",
       "      <td>0</td>\n",
       "      <td>0</td>\n",
       "      <td>0</td>\n",
       "      <td>2</td>\n",
       "      <td>1</td>\n",
       "      <td>0</td>\n",
       "      <td>0</td>\n",
       "      <td>0</td>\n",
       "      <td>hug</td>\n",
       "    </tr>\n",
       "    <tr>\n",
       "      <th>2</th>\n",
       "      <td>0.15</td>\n",
       "      <td>0.15</td>\n",
       "      <td>0.15</td>\n",
       "      <td>0.15</td>\n",
       "      <td>0.15</td>\n",
       "      <td>0.75</td>\n",
       "      <td>0.75</td>\n",
       "      <td>0.75</td>\n",
       "      <td>0.75</td>\n",
       "      <td>0.75</td>\n",
       "      <td>...</td>\n",
       "      <td>1</td>\n",
       "      <td>0</td>\n",
       "      <td>0</td>\n",
       "      <td>0</td>\n",
       "      <td>2</td>\n",
       "      <td>1</td>\n",
       "      <td>0</td>\n",
       "      <td>0</td>\n",
       "      <td>0</td>\n",
       "      <td>hug</td>\n",
       "    </tr>\n",
       "    <tr>\n",
       "      <th>3</th>\n",
       "      <td>0.15</td>\n",
       "      <td>0.15</td>\n",
       "      <td>0.15</td>\n",
       "      <td>0.15</td>\n",
       "      <td>0.15</td>\n",
       "      <td>0.75</td>\n",
       "      <td>0.75</td>\n",
       "      <td>0.75</td>\n",
       "      <td>0.75</td>\n",
       "      <td>0.75</td>\n",
       "      <td>...</td>\n",
       "      <td>1</td>\n",
       "      <td>0</td>\n",
       "      <td>0</td>\n",
       "      <td>0</td>\n",
       "      <td>2</td>\n",
       "      <td>1</td>\n",
       "      <td>0</td>\n",
       "      <td>0</td>\n",
       "      <td>0</td>\n",
       "      <td>hug</td>\n",
       "    </tr>\n",
       "    <tr>\n",
       "      <th>4</th>\n",
       "      <td>0.15</td>\n",
       "      <td>0.15</td>\n",
       "      <td>0.15</td>\n",
       "      <td>0.15</td>\n",
       "      <td>0.15</td>\n",
       "      <td>0.75</td>\n",
       "      <td>0.75</td>\n",
       "      <td>0.75</td>\n",
       "      <td>0.75</td>\n",
       "      <td>0.75</td>\n",
       "      <td>...</td>\n",
       "      <td>1</td>\n",
       "      <td>0</td>\n",
       "      <td>0</td>\n",
       "      <td>0</td>\n",
       "      <td>2</td>\n",
       "      <td>1</td>\n",
       "      <td>0</td>\n",
       "      <td>0</td>\n",
       "      <td>0</td>\n",
       "      <td>hug</td>\n",
       "    </tr>\n",
       "  </tbody>\n",
       "</table>\n",
       "<p>5 rows × 46 columns</p>\n",
       "</div>"
      ],
      "text/plain": [
       "   Min0  Min1  Min2  Min3  Min4  Max0  Max1  Max2  Max3  Max4  ...  Peak32  \\\n",
       "0  0.15  0.15  0.15  0.15  0.15  0.75  0.75  0.75  0.75  0.75  ...       1   \n",
       "1  0.15  0.15  0.15  0.15  0.15  0.75  0.75  0.75  0.75  0.75  ...       1   \n",
       "2  0.15  0.15  0.15  0.15  0.15  0.75  0.75  0.75  0.75  0.75  ...       1   \n",
       "3  0.15  0.15  0.15  0.15  0.15  0.75  0.75  0.75  0.75  0.75  ...       1   \n",
       "4  0.15  0.15  0.15  0.15  0.15  0.75  0.75  0.75  0.75  0.75  ...       1   \n",
       "\n",
       "   Peak33  Peak34  Peak35  Peak41  Peak42  Peak43  Peak44  Peak45  Response  \n",
       "0       0       0       0       2       1       0       0       0       hug  \n",
       "1       0       0       0       2       1       0       0       0       hug  \n",
       "2       0       0       0       2       1       0       0       0       hug  \n",
       "3       0       0       0       2       1       0       0       0       hug  \n",
       "4       0       0       0       2       1       0       0       0       hug  \n",
       "\n",
       "[5 rows x 46 columns]"
      ]
     },
     "execution_count": 2,
     "metadata": {},
     "output_type": "execute_result"
    }
   ],
   "source": [
    "\"\"\" Read from txt \"\"\"\n",
    "textuse = pd.read_csv (r'./data_pandas/starting_from_text.txt')\n",
    "textuse.to_csv (r'./data_pandas/transformed_in_csv.csv', index=None)\n",
    "textuse.head()"
   ]
  },
  {
   "attachments": {},
   "cell_type": "markdown",
   "metadata": {},
   "source": [
    "<h3 style=\"color:lightcoral\"> Example 1 </h3>"
   ]
  },
  {
   "cell_type": "code",
   "execution_count": 3,
   "metadata": {},
   "outputs": [
    {
     "name": "stdout",
     "output_type": "stream",
     "text": [
      "[[10  7  4]\n",
      " [ 3  2  1]]\n"
     ]
    },
    {
     "data": {
      "text/plain": [
       "3.5"
      ]
     },
     "execution_count": 3,
     "metadata": {},
     "output_type": "execute_result"
    }
   ],
   "source": [
    "a = np.array([[10, 7, 4], [3, 2, 1]])\n",
    "print(a)\n",
    "\n",
    "np.quantile(a, 0.5)"
   ]
  },
  {
   "cell_type": "code",
   "execution_count": 4,
   "metadata": {},
   "outputs": [
    {
     "data": {
      "text/html": [
       "<div>\n",
       "<style scoped>\n",
       "    .dataframe tbody tr th:only-of-type {\n",
       "        vertical-align: middle;\n",
       "    }\n",
       "\n",
       "    .dataframe tbody tr th {\n",
       "        vertical-align: top;\n",
       "    }\n",
       "\n",
       "    .dataframe thead th {\n",
       "        text-align: right;\n",
       "    }\n",
       "</style>\n",
       "<table border=\"1\" class=\"dataframe\">\n",
       "  <thead>\n",
       "    <tr style=\"text-align: right;\">\n",
       "      <th></th>\n",
       "      <th>day</th>\n",
       "    </tr>\n",
       "  </thead>\n",
       "  <tbody>\n",
       "    <tr>\n",
       "      <th>0</th>\n",
       "      <td>21/05/2021</td>\n",
       "    </tr>\n",
       "    <tr>\n",
       "      <th>1</th>\n",
       "      <td>7/03/2019</td>\n",
       "    </tr>\n",
       "    <tr>\n",
       "      <th>2</th>\n",
       "      <td>13/04/2005</td>\n",
       "    </tr>\n",
       "    <tr>\n",
       "      <th>3</th>\n",
       "      <td>22/11/1998</td>\n",
       "    </tr>\n",
       "    <tr>\n",
       "      <th>4</th>\n",
       "      <td>9/04/2003</td>\n",
       "    </tr>\n",
       "    <tr>\n",
       "      <th>5</th>\n",
       "      <td>27/02/2000</td>\n",
       "    </tr>\n",
       "  </tbody>\n",
       "</table>\n",
       "</div>"
      ],
      "text/plain": [
       "          day\n",
       "0  21/05/2021\n",
       "1   7/03/2019\n",
       "2  13/04/2005\n",
       "3  22/11/1998\n",
       "4   9/04/2003\n",
       "5  27/02/2000"
      ]
     },
     "execution_count": 4,
     "metadata": {},
     "output_type": "execute_result"
    }
   ],
   "source": [
    "data1 = {\n",
    "    'day':['21/05/2021','7/03/2019','13/04/2005','22/11/1998','9/04/2003','27/02/2000'],\n",
    "}\n",
    "df = pd.DataFrame(data1)\n",
    "df"
   ]
  },
  {
   "cell_type": "code",
   "execution_count": 5,
   "metadata": {},
   "outputs": [
    {
     "data": {
      "text/html": [
       "<div>\n",
       "<style scoped>\n",
       "    .dataframe tbody tr th:only-of-type {\n",
       "        vertical-align: middle;\n",
       "    }\n",
       "\n",
       "    .dataframe tbody tr th {\n",
       "        vertical-align: top;\n",
       "    }\n",
       "\n",
       "    .dataframe thead th {\n",
       "        text-align: right;\n",
       "    }\n",
       "</style>\n",
       "<table border=\"1\" class=\"dataframe\">\n",
       "  <thead>\n",
       "    <tr style=\"text-align: right;\">\n",
       "      <th></th>\n",
       "      <th>day</th>\n",
       "      <th>dad_agree</th>\n",
       "      <th>mom_agree</th>\n",
       "    </tr>\n",
       "  </thead>\n",
       "  <tbody>\n",
       "    <tr>\n",
       "      <th>0</th>\n",
       "      <td>21/05/2021</td>\n",
       "      <td>0.944945</td>\n",
       "      <td>0.907020</td>\n",
       "    </tr>\n",
       "    <tr>\n",
       "      <th>1</th>\n",
       "      <td>7/03/2019</td>\n",
       "      <td>0.622807</td>\n",
       "      <td>0.552785</td>\n",
       "    </tr>\n",
       "    <tr>\n",
       "      <th>2</th>\n",
       "      <td>13/04/2005</td>\n",
       "      <td>0.157541</td>\n",
       "      <td>0.910728</td>\n",
       "    </tr>\n",
       "    <tr>\n",
       "      <th>3</th>\n",
       "      <td>22/11/1998</td>\n",
       "      <td>0.369376</td>\n",
       "      <td>0.759598</td>\n",
       "    </tr>\n",
       "    <tr>\n",
       "      <th>4</th>\n",
       "      <td>9/04/2003</td>\n",
       "      <td>0.074388</td>\n",
       "      <td>0.736764</td>\n",
       "    </tr>\n",
       "    <tr>\n",
       "      <th>5</th>\n",
       "      <td>27/02/2000</td>\n",
       "      <td>0.682551</td>\n",
       "      <td>0.667902</td>\n",
       "    </tr>\n",
       "  </tbody>\n",
       "</table>\n",
       "</div>"
      ],
      "text/plain": [
       "          day  dad_agree  mom_agree\n",
       "0  21/05/2021   0.944945   0.907020\n",
       "1   7/03/2019   0.622807   0.552785\n",
       "2  13/04/2005   0.157541   0.910728\n",
       "3  22/11/1998   0.369376   0.759598\n",
       "4   9/04/2003   0.074388   0.736764\n",
       "5  27/02/2000   0.682551   0.667902"
      ]
     },
     "execution_count": 5,
     "metadata": {},
     "output_type": "execute_result"
    }
   ],
   "source": [
    "random_tuple1 = tuple(np.random.rand(6))\n",
    "random_tuple2 = tuple(np.random.rand(6))\n",
    "df['dad_agree'] = random_tuple1\n",
    "df['mom_agree'] = random_tuple2\n",
    "\n",
    "df"
   ]
  },
  {
   "cell_type": "code",
   "execution_count": 6,
   "metadata": {},
   "outputs": [
    {
     "data": {
      "text/plain": [
       "(0.9070204987476667, 0.5527845627196356, 0.9107278042911614)"
      ]
     },
     "execution_count": 6,
     "metadata": {},
     "output_type": "execute_result"
    }
   ],
   "source": [
    "#viceversa\n",
    "tuple1 = tuple(df['mom_agree'].iloc[:3])\n",
    "tuple1"
   ]
  },
  {
   "cell_type": "code",
   "execution_count": 7,
   "metadata": {},
   "outputs": [
    {
     "data": {
      "text/html": [
       "<div>\n",
       "<style scoped>\n",
       "    .dataframe tbody tr th:only-of-type {\n",
       "        vertical-align: middle;\n",
       "    }\n",
       "\n",
       "    .dataframe tbody tr th {\n",
       "        vertical-align: top;\n",
       "    }\n",
       "\n",
       "    .dataframe thead th {\n",
       "        text-align: right;\n",
       "    }\n",
       "</style>\n",
       "<table border=\"1\" class=\"dataframe\">\n",
       "  <thead>\n",
       "    <tr style=\"text-align: right;\">\n",
       "      <th></th>\n",
       "      <th>day</th>\n",
       "      <th>dad_agree</th>\n",
       "      <th>mom_agree</th>\n",
       "    </tr>\n",
       "  </thead>\n",
       "  <tbody>\n",
       "    <tr>\n",
       "      <th>0</th>\n",
       "      <td>2021-05-21</td>\n",
       "      <td>0.944945</td>\n",
       "      <td>0.907020</td>\n",
       "    </tr>\n",
       "    <tr>\n",
       "      <th>1</th>\n",
       "      <td>2019-03-07</td>\n",
       "      <td>0.622807</td>\n",
       "      <td>0.552785</td>\n",
       "    </tr>\n",
       "    <tr>\n",
       "      <th>2</th>\n",
       "      <td>2005-04-13</td>\n",
       "      <td>0.157541</td>\n",
       "      <td>0.910728</td>\n",
       "    </tr>\n",
       "    <tr>\n",
       "      <th>3</th>\n",
       "      <td>1998-11-22</td>\n",
       "      <td>0.369376</td>\n",
       "      <td>0.759598</td>\n",
       "    </tr>\n",
       "    <tr>\n",
       "      <th>4</th>\n",
       "      <td>2003-04-09</td>\n",
       "      <td>0.074388</td>\n",
       "      <td>0.736764</td>\n",
       "    </tr>\n",
       "    <tr>\n",
       "      <th>5</th>\n",
       "      <td>2000-02-27</td>\n",
       "      <td>0.682551</td>\n",
       "      <td>0.667902</td>\n",
       "    </tr>\n",
       "  </tbody>\n",
       "</table>\n",
       "</div>"
      ],
      "text/plain": [
       "         day  dad_agree  mom_agree\n",
       "0 2021-05-21   0.944945   0.907020\n",
       "1 2019-03-07   0.622807   0.552785\n",
       "2 2005-04-13   0.157541   0.910728\n",
       "3 1998-11-22   0.369376   0.759598\n",
       "4 2003-04-09   0.074388   0.736764\n",
       "5 2000-02-27   0.682551   0.667902"
      ]
     },
     "execution_count": 7,
     "metadata": {},
     "output_type": "execute_result"
    }
   ],
   "source": [
    "df['day'] = pd.to_datetime(df['day'], format='%d/%m/%Y')\n",
    "df"
   ]
  },
  {
   "cell_type": "code",
   "execution_count": 8,
   "metadata": {},
   "outputs": [
    {
     "data": {
      "text/plain": [
       "False"
      ]
     },
     "execution_count": 8,
     "metadata": {},
     "output_type": "execute_result"
    }
   ],
   "source": [
    "df.empty"
   ]
  },
  {
   "cell_type": "code",
   "execution_count": 9,
   "metadata": {},
   "outputs": [
    {
     "data": {
      "text/plain": [
       "dad_agree\n",
       "0.074388    0.736764\n",
       "0.157541    0.910728\n",
       "0.369376    0.759598\n",
       "0.622807    0.552785\n",
       "0.682551    0.667902\n",
       "0.944945    0.907020\n",
       "Name: mom_agree, dtype: float64"
      ]
     },
     "execution_count": 9,
     "metadata": {},
     "output_type": "execute_result"
    }
   ],
   "source": [
    "\"\"\" Group the data by a column and calculate summary statistics \"\"\"\n",
    "df.groupby('dad_agree')['mom_agree'].mean()"
   ]
  },
  {
   "cell_type": "code",
   "execution_count": 10,
   "metadata": {},
   "outputs": [
    {
     "data": {
      "text/html": [
       "<div>\n",
       "<style scoped>\n",
       "    .dataframe tbody tr th:only-of-type {\n",
       "        vertical-align: middle;\n",
       "    }\n",
       "\n",
       "    .dataframe tbody tr th {\n",
       "        vertical-align: top;\n",
       "    }\n",
       "\n",
       "    .dataframe thead th {\n",
       "        text-align: right;\n",
       "    }\n",
       "</style>\n",
       "<table border=\"1\" class=\"dataframe\">\n",
       "  <thead>\n",
       "    <tr style=\"text-align: right;\">\n",
       "      <th></th>\n",
       "      <th>day</th>\n",
       "      <th>dad_agree</th>\n",
       "      <th>mom_agree</th>\n",
       "    </tr>\n",
       "  </thead>\n",
       "  <tbody>\n",
       "    <tr>\n",
       "      <th>0</th>\n",
       "      <td>2021-05-21</td>\n",
       "      <td>0.944945</td>\n",
       "      <td>0.907020</td>\n",
       "    </tr>\n",
       "    <tr>\n",
       "      <th>1</th>\n",
       "      <td>2019-03-07</td>\n",
       "      <td>0.622807</td>\n",
       "      <td>0.552785</td>\n",
       "    </tr>\n",
       "    <tr>\n",
       "      <th>5</th>\n",
       "      <td>2000-02-27</td>\n",
       "      <td>0.682551</td>\n",
       "      <td>0.667902</td>\n",
       "    </tr>\n",
       "  </tbody>\n",
       "</table>\n",
       "</div>"
      ],
      "text/plain": [
       "         day  dad_agree  mom_agree\n",
       "0 2021-05-21   0.944945   0.907020\n",
       "1 2019-03-07   0.622807   0.552785\n",
       "5 2000-02-27   0.682551   0.667902"
      ]
     },
     "execution_count": 10,
     "metadata": {},
     "output_type": "execute_result"
    }
   ],
   "source": [
    "\"\"\" Filter the data based on a condition \"\"\" \n",
    "new_df = df[df['dad_agree'] > 0.5]\n",
    "new_df"
   ]
  },
  {
   "cell_type": "code",
   "execution_count": 11,
   "metadata": {},
   "outputs": [
    {
     "data": {
      "text/html": [
       "<div>\n",
       "<style scoped>\n",
       "    .dataframe tbody tr th:only-of-type {\n",
       "        vertical-align: middle;\n",
       "    }\n",
       "\n",
       "    .dataframe tbody tr th {\n",
       "        vertical-align: top;\n",
       "    }\n",
       "\n",
       "    .dataframe thead th {\n",
       "        text-align: right;\n",
       "    }\n",
       "</style>\n",
       "<table border=\"1\" class=\"dataframe\">\n",
       "  <thead>\n",
       "    <tr style=\"text-align: right;\">\n",
       "      <th></th>\n",
       "      <th>day</th>\n",
       "      <th>dad_agree</th>\n",
       "      <th>mom_agree</th>\n",
       "      <th>value</th>\n",
       "    </tr>\n",
       "  </thead>\n",
       "  <tbody>\n",
       "    <tr>\n",
       "      <th>0</th>\n",
       "      <td>2021-05-21</td>\n",
       "      <td>0.944945</td>\n",
       "      <td>0.907020</td>\n",
       "      <td>300</td>\n",
       "    </tr>\n",
       "    <tr>\n",
       "      <th>1</th>\n",
       "      <td>1998-11-22</td>\n",
       "      <td>0.369376</td>\n",
       "      <td>0.759598</td>\n",
       "      <td>200</td>\n",
       "    </tr>\n",
       "  </tbody>\n",
       "</table>\n",
       "</div>"
      ],
      "text/plain": [
       "         day  dad_agree  mom_agree  value\n",
       "0 2021-05-21   0.944945   0.907020    300\n",
       "1 1998-11-22   0.369376   0.759598    200"
      ]
     },
     "execution_count": 11,
     "metadata": {},
     "output_type": "execute_result"
    }
   ],
   "source": [
    "\"\"\" Merge two DataFrames\"\"\"\n",
    "data2 = {\n",
    "    'day': pd.to_datetime(['2021-01-01', '1998-11-22', '2021-05-21']),\n",
    "    'value': [100, 200, 300]\n",
    "}\n",
    "df2 = pd.DataFrame(data2)\n",
    "\n",
    "## Try to merge the DataFrames\n",
    "merged_df = pd.merge(df, df2, on='day')\n",
    "merged_df"
   ]
  },
  {
   "cell_type": "code",
   "execution_count": 12,
   "metadata": {},
   "outputs": [
    {
     "data": {
      "text/html": [
       "<div>\n",
       "<style scoped>\n",
       "    .dataframe tbody tr th:only-of-type {\n",
       "        vertical-align: middle;\n",
       "    }\n",
       "\n",
       "    .dataframe tbody tr th {\n",
       "        vertical-align: top;\n",
       "    }\n",
       "\n",
       "    .dataframe thead th {\n",
       "        text-align: right;\n",
       "    }\n",
       "</style>\n",
       "<table border=\"1\" class=\"dataframe\">\n",
       "  <thead>\n",
       "    <tr style=\"text-align: right;\">\n",
       "      <th></th>\n",
       "      <th>day</th>\n",
       "      <th>dad_agree</th>\n",
       "      <th>mom_agree</th>\n",
       "    </tr>\n",
       "  </thead>\n",
       "  <tbody>\n",
       "    <tr>\n",
       "      <th>0</th>\n",
       "      <td>2021-05-21 00:00:00</td>\n",
       "      <td>0.944945</td>\n",
       "      <td>0.907020</td>\n",
       "    </tr>\n",
       "    <tr>\n",
       "      <th>1</th>\n",
       "      <td>2019-03-07 00:00:00</td>\n",
       "      <td>0.622807</td>\n",
       "      <td>0.552785</td>\n",
       "    </tr>\n",
       "    <tr>\n",
       "      <th>2</th>\n",
       "      <td>2005-04-13 00:00:00</td>\n",
       "      <td>0.157541</td>\n",
       "      <td>0.910728</td>\n",
       "    </tr>\n",
       "    <tr>\n",
       "      <th>3</th>\n",
       "      <td>1998-11-22 00:00:00</td>\n",
       "      <td>0.369376</td>\n",
       "      <td>0.759598</td>\n",
       "    </tr>\n",
       "    <tr>\n",
       "      <th>4</th>\n",
       "      <td>2003-04-09 00:00:00</td>\n",
       "      <td>0.074388</td>\n",
       "      <td>0.736764</td>\n",
       "    </tr>\n",
       "    <tr>\n",
       "      <th>5</th>\n",
       "      <td>2000-02-27 00:00:00</td>\n",
       "      <td>0.682551</td>\n",
       "      <td>0.667902</td>\n",
       "    </tr>\n",
       "    <tr>\n",
       "      <th>6</th>\n",
       "      <td>2019-01-02</td>\n",
       "      <td>0.200000</td>\n",
       "      <td>0.500000</td>\n",
       "    </tr>\n",
       "    <tr>\n",
       "      <th>7</th>\n",
       "      <td>2019-01-03</td>\n",
       "      <td>0.300000</td>\n",
       "      <td>0.600000</td>\n",
       "    </tr>\n",
       "  </tbody>\n",
       "</table>\n",
       "</div>"
      ],
      "text/plain": [
       "                   day  dad_agree  mom_agree\n",
       "0  2021-05-21 00:00:00   0.944945   0.907020\n",
       "1  2019-03-07 00:00:00   0.622807   0.552785\n",
       "2  2005-04-13 00:00:00   0.157541   0.910728\n",
       "3  1998-11-22 00:00:00   0.369376   0.759598\n",
       "4  2003-04-09 00:00:00   0.074388   0.736764\n",
       "5  2000-02-27 00:00:00   0.682551   0.667902\n",
       "6           2019-01-02   0.200000   0.500000\n",
       "7           2019-01-03   0.300000   0.600000"
      ]
     },
     "execution_count": 12,
     "metadata": {},
     "output_type": "execute_result"
    }
   ],
   "source": [
    "## Create a second dataset with the same columns and random values\n",
    "data2 = {\n",
    "    'day': ['2019-01-02', '2019-01-03'],\n",
    "    'dad_agree': [0.2, 0.3],\n",
    "    'mom_agree': [0.5, 0.6]\n",
    "}\n",
    "df2 = pd.DataFrame(data2)\n",
    "\n",
    "## Concatenate the two datasets along the rows\n",
    "concat_df = pd.concat([df, df2], ignore_index=True)\n",
    "concat_df"
   ]
  },
  {
   "attachments": {},
   "cell_type": "markdown",
   "metadata": {},
   "source": [
    "<h3 style=\"color:lightcoral\"> Example 2 </h3>"
   ]
  },
  {
   "cell_type": "code",
   "execution_count": 13,
   "metadata": {},
   "outputs": [],
   "source": [
    "%%script false --no-raise-error\n",
    "# Use invalid syntax with no errors!"
   ]
  },
  {
   "cell_type": "code",
   "execution_count": 14,
   "metadata": {},
   "outputs": [
    {
     "data": {
      "text/html": [
       "<div>\n",
       "<style scoped>\n",
       "    .dataframe tbody tr th:only-of-type {\n",
       "        vertical-align: middle;\n",
       "    }\n",
       "\n",
       "    .dataframe tbody tr th {\n",
       "        vertical-align: top;\n",
       "    }\n",
       "\n",
       "    .dataframe thead th {\n",
       "        text-align: right;\n",
       "    }\n",
       "</style>\n",
       "<table border=\"1\" class=\"dataframe\">\n",
       "  <thead>\n",
       "    <tr style=\"text-align: right;\">\n",
       "      <th></th>\n",
       "      <th>0</th>\n",
       "      <th>1</th>\n",
       "      <th>2</th>\n",
       "    </tr>\n",
       "  </thead>\n",
       "  <tbody>\n",
       "    <tr>\n",
       "      <th>0</th>\n",
       "      <td>1.647965</td>\n",
       "      <td>-0.362531</td>\n",
       "      <td>0.035427</td>\n",
       "    </tr>\n",
       "    <tr>\n",
       "      <th>1</th>\n",
       "      <td>-1.467700</td>\n",
       "      <td>-1.044162</td>\n",
       "      <td>-1.079310</td>\n",
       "    </tr>\n",
       "    <tr>\n",
       "      <th>2</th>\n",
       "      <td>-0.402335</td>\n",
       "      <td>-1.147214</td>\n",
       "      <td>-0.722737</td>\n",
       "    </tr>\n",
       "    <tr>\n",
       "      <th>3</th>\n",
       "      <td>-1.709006</td>\n",
       "      <td>-0.243340</td>\n",
       "      <td>0.328775</td>\n",
       "    </tr>\n",
       "    <tr>\n",
       "      <th>4</th>\n",
       "      <td>0.437085</td>\n",
       "      <td>-2.584666</td>\n",
       "      <td>0.495891</td>\n",
       "    </tr>\n",
       "  </tbody>\n",
       "</table>\n",
       "</div>"
      ],
      "text/plain": [
       "          0         1         2\n",
       "0  1.647965 -0.362531  0.035427\n",
       "1 -1.467700 -1.044162 -1.079310\n",
       "2 -0.402335 -1.147214 -0.722737\n",
       "3 -1.709006 -0.243340  0.328775\n",
       "4  0.437085 -2.584666  0.495891"
      ]
     },
     "execution_count": 14,
     "metadata": {},
     "output_type": "execute_result"
    }
   ],
   "source": [
    "df_ran = pd.DataFrame(np.random.randn(5, 3))\n",
    "df_ran"
   ]
  },
  {
   "cell_type": "code",
   "execution_count": 15,
   "metadata": {},
   "outputs": [
    {
     "name": "stdout",
     "output_type": "stream",
     "text": [
      "['b', 'a', 'b', 'c', 'd']\n"
     ]
    }
   ],
   "source": [
    "empty_dataframe = pd.DataFrame(columns=[0, 1, 2])\n",
    "cho = ['aa','a','b','c','d']\n",
    "oknow = random.choices(cho, k=5)\n",
    "print(oknow)"
   ]
  },
  {
   "cell_type": "code",
   "execution_count": 16,
   "metadata": {},
   "outputs": [
    {
     "data": {
      "text/plain": [
       "0    b\n",
       "1    a\n",
       "2    b\n",
       "3    c\n",
       "4    d\n",
       "Name: 0, dtype: object"
      ]
     },
     "execution_count": 16,
     "metadata": {},
     "output_type": "execute_result"
    }
   ],
   "source": [
    "#columns=[0, 1, 2]\n",
    "empty_dataframe[0] = oknow\n",
    "empty_dataframe[0]"
   ]
  },
  {
   "cell_type": "code",
   "execution_count": 17,
   "metadata": {},
   "outputs": [
    {
     "name": "stdout",
     "output_type": "stream",
     "text": [
      "[[ 1.83832816 -0.12326223]\n",
      " [-0.23938384 -1.41512796]\n",
      " [ 0.47985668  2.06329328]\n",
      " [ 1.58204214 -0.99460676]\n",
      " [-1.57969612 -0.06018853]\n",
      " [-0.06090497 -1.06742165]\n",
      " [ 0.04505146 -1.95186696]\n",
      " [-1.13496821 -1.08144442]\n",
      " [-0.31837596  1.28291649]\n",
      " [ 0.97917257  1.0421601 ]]\n",
      "\n",
      "   b                                            a\n",
      "0  0   [1.8383281597829533, -0.12326223168064014]\n",
      "1  1  [-0.23938384467149992, -1.4151279561244519]\n",
      "2  2    [0.47985668176293217, 2.0632932805656887]\n",
      "3  3     [1.5820421441480266, -0.994606756765611]\n",
      "4  4  [-1.5796961155221478, -0.06018853299726391]\n",
      "5  5  [-0.06090496982901841, -1.0674216452321468]\n",
      "6  6   [0.04505145956473421, -1.9518669646384879]\n",
      "7  7   [-1.1349682103315204, -1.0814444197737978]\n",
      "8  8   [-0.31837595782954226, 1.2829164911403115]\n",
      "9  9     [0.9791725708058026, 1.0421601029351464]\n",
      "\n",
      "[[ 1.83832816 -0.12326223]\n",
      " [-0.23938384 -1.41512796]\n",
      " [ 0.47985668  2.06329328]\n",
      " [ 1.58204214 -0.99460676]\n",
      " [-1.57969612 -0.06018853]\n",
      " [-0.06090497 -1.06742165]\n",
      " [ 0.04505146 -1.95186696]\n",
      " [-1.13496821 -1.08144442]\n",
      " [-0.31837596  1.28291649]\n",
      " [ 0.97917257  1.0421601 ]]\n"
     ]
    }
   ],
   "source": [
    "df3 = pd.DataFrame({'b':range(10)}) \n",
    "a = np.random.normal(size=(10,2))   \n",
    "print(a)\n",
    "print()\n",
    "## Save \n",
    "df3['a'] = a.tolist()       \n",
    "## Retrieve\n",
    "c = np.array(df3['a'].tolist()) \n",
    "\n",
    "print(df3)\n",
    "print()\n",
    "print(c)\n"
   ]
  },
  {
   "attachments": {},
   "cell_type": "markdown",
   "metadata": {},
   "source": [
    "<h3 style=\"color:lightcoral\"> Example 3 </h3>"
   ]
  },
  {
   "cell_type": "code",
   "execution_count": 18,
   "metadata": {},
   "outputs": [
    {
     "name": "stdout",
     "output_type": "stream",
     "text": [
      "True\n",
      "   a  b  c\n",
      "0  1  2  3\n",
      "1  4  5  6\n",
      "2  7  8  9\n",
      "False\n",
      "True\n"
     ]
    }
   ],
   "source": [
    "df = pd.DataFrame(np.array([[1, 2, 3], [4, 5, 6], [7, 8, 9]]),columns=['a', 'b', 'c'])\n",
    "\n",
    "if len(df['c'].unique())==3: \n",
    "    print(True)\n",
    "print(df)\n",
    "res = df.c.eq(df.c.iloc[0]).all()\n",
    "print(res)\n",
    "if len(df['c'].unique())==3: \n",
    "    print(True)"
   ]
  },
  {
   "attachments": {},
   "cell_type": "markdown",
   "metadata": {},
   "source": [
    "<h3 style=\"color:lightcoral\"> Example 4 </h3>"
   ]
  },
  {
   "cell_type": "code",
   "execution_count": 19,
   "metadata": {},
   "outputs": [],
   "source": [
    "def removeDuplicates(lst):\n",
    "    \"\"\" Removes duplicates from a list of lists.\n",
    "    \n",
    "    Parameters:\n",
    "        List of lists, where each sublist contains two elements.\n",
    "    \n",
    "    Returns:\n",
    "        New list with duplicate elements removed, calculated directly in one instr.\n",
    "    \n",
    "    Details:\n",
    "        - Iterate over the input list and filter out duplicates, using list comprehension;\n",
    "        - Enumerate to retrieve both the index 'i' and the elements [a, b] from the lst;\n",
    "        - 'any' is True if any element in the given iterable ('lst[:i]') matches the condition;\n",
    "        - Check if (NOT!) any previous sublist in 'lst' has the same second element ('b') as the current sublist;\n",
    "        - The sublist [a, b] is included in the new list, effectively removing duplicates, if the 'any' condition is False;\n",
    "    \"\"\"\n",
    "\n",
    "    #return [[a, b] for i, [a, b] in enumerate(lst) \n",
    "    #        if not any(c == b for _, c in lst[:i])]\n",
    "\n",
    "    return [sublist for i, sublist in enumerate(lst) if not any(sublist == s for s in lst[:i])]"
   ]
  },
  {
   "cell_type": "code",
   "execution_count": 21,
   "metadata": {},
   "outputs": [],
   "source": [
    "# Read the data from CSV file into a DataFrame\n",
    "df = pd.read_csv('./data_pandas/simple_dataset_2col.csv')\n",
    "\n",
    "# Extract the required columns as a list of lists\n",
    "#lst = [[row['scenario_group'], row['type']] for _, row in df.iterrows()]\n",
    "lst = df.values.tolist()"
   ]
  },
  {
   "cell_type": "code",
   "execution_count": 22,
   "metadata": {},
   "outputs": [
    {
     "data": {
      "text/plain": [
       "['Scenario_1', '1FSUS']"
      ]
     },
     "execution_count": 22,
     "metadata": {},
     "output_type": "execute_result"
    }
   ],
   "source": [
    "lst[0]"
   ]
  },
  {
   "cell_type": "code",
   "execution_count": 23,
   "metadata": {},
   "outputs": [
    {
     "name": "stdout",
     "output_type": "stream",
     "text": [
      "table after:\n",
      "        scenario_group        type\n",
      "0          Scenario_1       1FSUS\n",
      "1          Scenario_1       1FSUD\n",
      "2          Scenario_1      1FSUDT\n",
      "3          Scenario_1       1FCOS\n",
      "4          Scenario_1       1FCOD\n",
      "...               ...         ...\n",
      "215210   Scenario_999    8QTSUDB1\n",
      "215211   Scenario_999    8QTCODB1\n",
      "215212   Scenario_999  8QTSUSCOC1\n",
      "215213   Scenario_999      9CNSSU\n",
      "215214   Scenario_999      9CNSPA\n",
      "\n",
      "[215215 rows x 2 columns]\n"
     ]
    }
   ],
   "source": [
    "# Pass the list of lists to the removeDuplicates function\n",
    "table = removeDuplicates(lst)\n",
    "\n",
    "# Convert the resulting list back to a DataFrame\n",
    "result_df = pd.DataFrame(table, columns=['scenario_group', 'type'])\n",
    "\n",
    "print(\"table after:\\n\", result_df)\n"
   ]
  },
  {
   "cell_type": "code",
   "execution_count": 24,
   "metadata": {},
   "outputs": [
    {
     "name": "stdout",
     "output_type": "stream",
     "text": [
      "table before:\n",
      "        scenario_group        type\n",
      "0          Scenario_1       1FSUS\n",
      "1          Scenario_1       1FSUD\n",
      "2          Scenario_1      1FSUDT\n",
      "3          Scenario_1       1FCOS\n",
      "4          Scenario_1       1FCOD\n",
      "...               ...         ...\n",
      "215210   Scenario_999    8QTSUDB1\n",
      "215211   Scenario_999    8QTCODB1\n",
      "215212   Scenario_999  8QTSUSCOC1\n",
      "215213   Scenario_999      9CNSSU\n",
      "215214   Scenario_999      9CNSPA\n",
      "\n",
      "[215215 rows x 2 columns]\n"
     ]
    }
   ],
   "source": [
    "tab = pd.read_csv('./data_pandas/simple_dataset_2col.csv', skiprows=None, engine='python', encoding=\"utf-8\")\n",
    "print(\"table before:\\n\" ,tab)"
   ]
  },
  {
   "attachments": {},
   "cell_type": "markdown",
   "metadata": {},
   "source": [
    "<h3 style=\"color:lightcoral\"> Example 5 </h3>\n",
    "Dataframe from json"
   ]
  },
  {
   "cell_type": "code",
   "execution_count": null,
   "metadata": {},
   "outputs": [
    {
     "name": "stdout",
     "output_type": "stream",
     "text": [
      "{'users': [{'id': 1, 'name': 'John Doe', 'email': 'johndoe@example.com', 'phone': '555-1234', 'address': {'street': '123 Main St', 'city': 'Anytown', 'state': 'CA', 'zip': '12345'}, 'orders': [{'id': 1, 'items': [{'id': 1, 'name': 'Product 1', 'price': 10.0}, {'id': 2, 'name': 'Product 2', 'price': 20.0}], 'total': 30.0}, {'id': 2, 'items': [{'id': 3, 'name': 'Product 3', 'price': 15.0}, {'id': 4, 'name': 'Product 4', 'price': 25.0}], 'total': 40.0}]}, {'id': 2, 'name': 'Jane Smith', 'email': 'janesmith@example.com', 'phone': '555-5678', 'address': {'street': '456 Second St', 'city': 'Othertown', 'state': 'NY', 'zip': '67890'}, 'orders': [{'id': 3, 'items': [{'id': 5, 'name': 'Product 5', 'price': 12.0}, {'id': 6, 'name': 'Product 6', 'price': 18.0}], 'total': 30.0}]}]}\n"
     ]
    }
   ],
   "source": [
    "# import from folder\n",
    "# Open the JSON file for reading\n",
    "with open('./data_pandas/for_example_pandas.json', 'r') as f:\n",
    "    data_json = json.load(f)\n",
    "\n",
    "# Print the contents of the JSON file\n",
    "print(data_json)"
   ]
  },
  {
   "cell_type": "code",
   "execution_count": null,
   "metadata": {},
   "outputs": [
    {
     "name": "stdout",
     "output_type": "stream",
     "text": [
      "[\n",
      "    [\n",
      "        {\n",
      "            \"userId\": 1,\n",
      "            \"id\": 1,\n",
      "            \"title\": \"sunt aut facere repellat provident occaecati excepturi optio reprehenderit\",\n",
      "            \"body\": \"quia et suscipit\\nsuscipit recusandae consequuntur expedita et cum\\nreprehenderit molestiae ut ut quas totam\\nnostrum rerum est autem sunt rem eveniet architecto\"\n",
      "        },\n",
      "        {\n",
      "            \"userId\": 1,\n",
      "            \"id\": 2,\n",
      "            \"title\": \"qui est esse\",\n",
      "            \"body\": \"est rerum tempore vitae\\nsequi sint nihil reprehenderit dolor beatae ea dolores neque\\nfugiat blanditiis voluptate porro vel nihil molestiae ut reiciendis\\nqui aperiam non debitis possimus qui neque nisi nulla\"\n",
      "        }\n",
      "    ]\n",
      "]\n"
     ]
    }
   ],
   "source": [
    "#print(json.dumps(data_json, indent=4))\n",
    "first_part = [data_json[:2]]\n",
    "print(json.dumps(first_part, indent=4))"
   ]
  },
  {
   "cell_type": "code",
   "execution_count": null,
   "metadata": {},
   "outputs": [],
   "source": [
    "# URL of the JSON data\n",
    "url_j = 'https://jsonplaceholder.typicode.com/posts'\n",
    "\n",
    "# Send a GET request to retrieve the JSON data\n",
    "response = requests.get(url_j)\n",
    "# Get the JSON data from the response\n",
    "json_data = response.json()\n",
    "\n",
    "# Save the JSON data to a file\n",
    "with open('./data_pandas/toy_data.json', 'w') as file:\n",
    "    file.write(str(json_data))"
   ]
  },
  {
   "cell_type": "code",
   "execution_count": null,
   "metadata": {},
   "outputs": [],
   "source": [
    "response = urlopen(url_j)\n",
    "data_json = json.loads(response.read())"
   ]
  },
  {
   "cell_type": "code",
   "execution_count": null,
   "metadata": {},
   "outputs": [
    {
     "data": {
      "text/plain": [
       "{'userId': 1,\n",
       " 'id': 1,\n",
       " 'title': 'sunt aut facere repellat provident occaecati excepturi optio reprehenderit',\n",
       " 'body': 'quia et suscipit\\nsuscipit recusandae consequuntur expedita et cum\\nreprehenderit molestiae ut ut quas totam\\nnostrum rerum est autem sunt rem eveniet architecto'}"
      ]
     },
     "execution_count": 31,
     "metadata": {},
     "output_type": "execute_result"
    }
   ],
   "source": [
    "data_json[0]"
   ]
  },
  {
   "cell_type": "code",
   "execution_count": null,
   "metadata": {},
   "outputs": [
    {
     "data": {
      "text/plain": [
       "[1, 1, 1, 1, 1, 1, 1, 1, 1, 1]"
      ]
     },
     "execution_count": 32,
     "metadata": {},
     "output_type": "execute_result"
    }
   ],
   "source": [
    "user_ids = [item['userId'] for item in data_json]\n",
    "type(user_ids)\n",
    "user_ids[:10]"
   ]
  },
  {
   "cell_type": "code",
   "execution_count": null,
   "metadata": {},
   "outputs": [
    {
     "name": "stdout",
     "output_type": "stream",
     "text": [
      "<class 'list'>\n",
      "<class 'list'>\n"
     ]
    }
   ],
   "source": [
    "print(type(data_json))\n",
    "print(type(user_ids))"
   ]
  },
  {
   "cell_type": "code",
   "execution_count": null,
   "metadata": {},
   "outputs": [
    {
     "name": "stdout",
     "output_type": "stream",
     "text": [
      "{\n",
      "    \"userId\": 1,\n",
      "    \"id\": 1,\n",
      "    \"title\": \"sunt aut facere repellat provident occaecati excepturi optio reprehenderit\",\n",
      "    \"body\": \"quia et suscipit\\nsuscipit recusandae consequuntur expedita et cum\\nreprehenderit molestiae ut ut quas totam\\nnostrum rerum est autem sunt rem eveniet architecto\"\n",
      "}\n"
     ]
    }
   ],
   "source": [
    "\"\"\" Pretty print with json. \n",
    "1- Get the first part of the dictionary\n",
    "2- Convert the dictionary to a JSON string with indentation\n",
    "3- Print necessary also in notebooks\n",
    "\"\"\"\n",
    "\n",
    "# Sample data in dictionary format\n",
    "data_js = [\n",
    "    {\n",
    "        'userId': 1,\n",
    "        'id': 1,\n",
    "        'title': 'sunt aut facere repellat provident occaecati excepturi optio reprehenderit',\n",
    "        'body': 'quia et suscipit\\nsuscipit recusandae consequuntur expedita et cum\\nreprehenderit molestiae ut ut quas totam\\nnostrum rerum est autem sunt rem eveniet architecto'\n",
    "    },\n",
    "    {\n",
    "        'userId': 1,\n",
    "        'id': 2,\n",
    "        'title': 'qui est esse',\n",
    "        'body': 'est rerum tempore vitae\\nsequi sint nihil reprehenderit dolor beatae ea dolores neque\\nfugiat blanditiis voluptate porro vel nihil molestiae ut reiciendis\\nqui aperiam non debitis possimus qui neque nisi nulla'\n",
    "    },\n",
    "    {\n",
    "        'userId': 1,\n",
    "        'id': 3,\n",
    "        'title': 'ea molestias quasi exercitationem repellat qui ipsa sit aut',\n",
    "        'body': 'et iusto sed quo iure\\nvoluptatem occaecati omnis eligendi aut ad\\nvoluptatem doloribus vel accusantium quis pariatur\\nmolestiae porro eius odio et labore et velit aut'\n",
    "    },\n",
    "    {\n",
    "        'userId': 1,\n",
    "        'id': 4,\n",
    "        'title': 'eum et est occaecati',\n",
    "        'body': 'ullam et saepe reiciendis voluptatem adipisci\\nsit amet autem assumenda provident rerum culpa\\nquis hic commodi nesciunt rem tenetur doloremque ipsam iure\\nquis sunt voluptatem rerum illo velit'\n",
    "    }\n",
    "]\n",
    "first_part = {k: v for k, v in data_js[0].items() if k != 'c'}\n",
    "# Convert the filtered dictionary to a JSON string\n",
    "json_str = json.dumps(first_part, indent=4)\n",
    "\n",
    "print(json_str)"
   ]
  },
  {
   "cell_type": "code",
   "execution_count": null,
   "metadata": {},
   "outputs": [
    {
     "name": "stdout",
     "output_type": "stream",
     "text": [
      "{\n",
      "    \"userId\": 1,\n",
      "    \"id\": 1,\n",
      "    \"title\": \"sunt aut facere repellat provident occaecati excepturi optio reprehenderit\",\n",
      "    \"body\": \"quia et suscipit\\nsuscipit recusandae consequuntur expedita et cum\\nreprehenderit molestiae ut ut quas totam\\nnostrum rerum est autem sunt rem eveniet architecto\"\n",
      "}\n"
     ]
    }
   ],
   "source": [
    "json_str_whole = json.dumps(data_js, indent=4)\n",
    "json_str = json.dumps(first_part, indent=4)\n",
    "print(json_str)"
   ]
  },
  {
   "cell_type": "code",
   "execution_count": null,
   "metadata": {},
   "outputs": [
    {
     "data": {
      "text/html": [
       "<div>\n",
       "<style scoped>\n",
       "    .dataframe tbody tr th:only-of-type {\n",
       "        vertical-align: middle;\n",
       "    }\n",
       "\n",
       "    .dataframe tbody tr th {\n",
       "        vertical-align: top;\n",
       "    }\n",
       "\n",
       "    .dataframe thead th {\n",
       "        text-align: right;\n",
       "    }\n",
       "</style>\n",
       "<table border=\"1\" class=\"dataframe\">\n",
       "  <thead>\n",
       "    <tr style=\"text-align: right;\">\n",
       "      <th></th>\n",
       "      <th>0</th>\n",
       "      <th>1</th>\n",
       "      <th>2</th>\n",
       "    </tr>\n",
       "  </thead>\n",
       "  <tbody>\n",
       "    <tr>\n",
       "      <th>Name</th>\n",
       "      <td>John</td>\n",
       "      <td>Alice</td>\n",
       "      <td>Bob</td>\n",
       "    </tr>\n",
       "    <tr>\n",
       "      <th>Age</th>\n",
       "      <td>25</td>\n",
       "      <td>30</td>\n",
       "      <td>35</td>\n",
       "    </tr>\n",
       "    <tr>\n",
       "      <th>City</th>\n",
       "      <td>New York</td>\n",
       "      <td>London</td>\n",
       "      <td>Paris</td>\n",
       "    </tr>\n",
       "  </tbody>\n",
       "</table>\n",
       "</div>"
      ],
      "text/plain": [
       "             0       1      2\n",
       "Name      John   Alice    Bob\n",
       "Age         25      30     35\n",
       "City  New York  London  Paris"
      ]
     },
     "execution_count": 41,
     "metadata": {},
     "output_type": "execute_result"
    }
   ],
   "source": [
    "\"\"\" From json to pandas df. \"\"\"\n",
    "data_dict = {\n",
    "    'Name': ['John', 'Alice', 'Bob'],\n",
    "    'Age': [25, 30, 35],\n",
    "    'City': ['New York', 'London', 'Paris']\n",
    "}\n",
    "df = pd.DataFrame.from_dict(data_dict, orient = 'index')\n",
    "df"
   ]
  },
  {
   "cell_type": "code",
   "execution_count": null,
   "metadata": {},
   "outputs": [
    {
     "name": "stdout",
     "output_type": "stream",
     "text": [
      "             0       1      2\n",
      "Name      John   Alice    Bob\n",
      "Age         25      30     35\n",
      "City  New York  London  Paris\n"
     ]
    }
   ],
   "source": [
    "\"\"\" Print the whole df with modified display options. 2 ways. \"\"\"\n",
    "#pd.set_option(\"display.max_rows\", None, \"display.max_columns\", None)\n",
    "#print(df)\n",
    "# or ...\n",
    "with pd.option_context('display.max_rows', None, 'display.max_columns', None):\n",
    "    print(df)"
   ]
  },
  {
   "cell_type": "code",
   "execution_count": null,
   "metadata": {},
   "outputs": [
    {
     "name": "stdout",
     "output_type": "stream",
     "text": [
      "    userId   id                                              title  \\\n",
      "0        1    1  sunt aut facere repellat provident occaecati e...   \n",
      "1        1    2                                       qui est esse   \n",
      "2        1    3  ea molestias quasi exercitationem repellat qui...   \n",
      "3        1    4                               eum et est occaecati   \n",
      "4        1    5                                 nesciunt quas odio   \n",
      "..     ...  ...                                                ...   \n",
      "95      10   96  quaerat velit veniam amet cupiditate aut numqu...   \n",
      "96      10   97         quas fugiat ut perspiciatis vero provident   \n",
      "97      10   98                        laboriosam dolor voluptates   \n",
      "98      10   99  temporibus sit alias delectus eligendi possimu...   \n",
      "99      10  100              at nam consequatur ea labore ea harum   \n",
      "\n",
      "                                                 body  \n",
      "0   quia et suscipit\\nsuscipit recusandae consequu...  \n",
      "1   est rerum tempore vitae\\nsequi sint nihil repr...  \n",
      "2   et iusto sed quo iure\\nvoluptatem occaecati om...  \n",
      "3   ullam et saepe reiciendis voluptatem adipisci\\...  \n",
      "4   repudiandae veniam quaerat sunt sed\\nalias aut...  \n",
      "..                                                ...  \n",
      "95  in non odio excepturi sint eum\\nlabore volupta...  \n",
      "96  eum non blanditiis soluta porro quibusdam volu...  \n",
      "97  doloremque ex facilis sit sint culpa\\nsoluta a...  \n",
      "98  quo deleniti praesentium dicta non quod\\naut e...  \n",
      "99  cupiditate quo est a modi nesciunt soluta\\nips...  \n",
      "\n",
      "[100 rows x 4 columns]\n"
     ]
    }
   ],
   "source": [
    "\"\"\" Convert the JSON data to a pandas dataframe. \"\"\"\n",
    "df2 = pd.read_json(json.dumps(data_json))\n",
    "print(df2)"
   ]
  },
  {
   "attachments": {},
   "cell_type": "markdown",
   "metadata": {},
   "source": [
    "<h3 style=\"color:lightcoral\"> Example 6</h3>"
   ]
  },
  {
   "cell_type": "code",
   "execution_count": null,
   "metadata": {},
   "outputs": [
    {
     "data": {
      "text/html": [
       "<div>\n",
       "<style scoped>\n",
       "    .dataframe tbody tr th:only-of-type {\n",
       "        vertical-align: middle;\n",
       "    }\n",
       "\n",
       "    .dataframe tbody tr th {\n",
       "        vertical-align: top;\n",
       "    }\n",
       "\n",
       "    .dataframe thead th {\n",
       "        text-align: right;\n",
       "    }\n",
       "</style>\n",
       "<table border=\"1\" class=\"dataframe\">\n",
       "  <thead>\n",
       "    <tr style=\"text-align: right;\">\n",
       "      <th></th>\n",
       "      <th>string</th>\n",
       "    </tr>\n",
       "  </thead>\n",
       "  <tbody>\n",
       "    <tr>\n",
       "      <th>0</th>\n",
       "      <td>._config.test_dataset_config.train = False</td>\n",
       "    </tr>\n",
       "    <tr>\n",
       "      <th>1</th>\n",
       "      <td>}</td>\n",
       "    </tr>\n",
       "    <tr>\n",
       "      <th>2</th>\n",
       "      <td>- INFO - trainer - Iter #8000 - iteration: 0.7...</td>\n",
       "    </tr>\n",
       "  </tbody>\n",
       "</table>\n",
       "</div>"
      ],
      "text/plain": [
       "                                              string\n",
       "0         ._config.test_dataset_config.train = False\n",
       "1                                                  }\n",
       "2  - INFO - trainer - Iter #8000 - iteration: 0.7..."
      ]
     },
     "execution_count": 46,
     "metadata": {},
     "output_type": "execute_result"
    }
   ],
   "source": [
    "## Example string\n",
    "strings = ['._config.test_dataset_config.train = False',\n",
    "        '}',\n",
    "        '- INFO - trainer - Iter #8000 - iteration: 0.77s - forward: 0.43s - loss: 0.034s - loading_wait: 0.15s - backward: 0.16s - parallel_loading: 8.1s (0 Failed) - train_loss: 6.12e-03'\n",
    "        ]\n",
    "\n",
    "## Regular expressions to extract fields\n",
    "iter_regex = r'Iter #(\\d+)'\n",
    "forward_regex = r'forward: ([\\d\\.]+)s'\n",
    "loss_regex = r'loss: ([\\d\\.]+)s'\n",
    "loading_wait_regex = r'loading_wait: ([\\d\\.]+)s'\n",
    "\n",
    "## Create DataFrame from list of strings\n",
    "df6 = pd.DataFrame(strings, columns=['string'])\n",
    "df6"
   ]
  },
  {
   "cell_type": "code",
   "execution_count": null,
   "metadata": {},
   "outputs": [
    {
     "data": {
      "text/html": [
       "<div>\n",
       "<style scoped>\n",
       "    .dataframe tbody tr th:only-of-type {\n",
       "        vertical-align: middle;\n",
       "    }\n",
       "\n",
       "    .dataframe tbody tr th {\n",
       "        vertical-align: top;\n",
       "    }\n",
       "\n",
       "    .dataframe thead th {\n",
       "        text-align: right;\n",
       "    }\n",
       "</style>\n",
       "<table border=\"1\" class=\"dataframe\">\n",
       "  <thead>\n",
       "    <tr style=\"text-align: right;\">\n",
       "      <th></th>\n",
       "      <th>iter</th>\n",
       "      <th>forward</th>\n",
       "      <th>loss</th>\n",
       "      <th>loading_wait</th>\n",
       "    </tr>\n",
       "  </thead>\n",
       "  <tbody>\n",
       "    <tr>\n",
       "      <th>0</th>\n",
       "      <td>Na</td>\n",
       "      <td>Na</td>\n",
       "      <td>Na</td>\n",
       "      <td>Na</td>\n",
       "    </tr>\n",
       "    <tr>\n",
       "      <th>1</th>\n",
       "      <td>Na</td>\n",
       "      <td>Na</td>\n",
       "      <td>Na</td>\n",
       "      <td>Na</td>\n",
       "    </tr>\n",
       "    <tr>\n",
       "      <th>2</th>\n",
       "      <td>8000</td>\n",
       "      <td>0.43</td>\n",
       "      <td>0.034</td>\n",
       "      <td>0.15</td>\n",
       "    </tr>\n",
       "  </tbody>\n",
       "</table>\n",
       "</div>"
      ],
      "text/plain": [
       "   iter forward   loss loading_wait\n",
       "0    Na      Na     Na           Na\n",
       "1    Na      Na     Na           Na\n",
       "2  8000    0.43  0.034         0.15"
      ]
     },
     "execution_count": 48,
     "metadata": {},
     "output_type": "execute_result"
    }
   ],
   "source": [
    "## Extract fields\n",
    "df6['iter'] = df6['string'].apply(lambda x: re.search(iter_regex, x).group(1) if re.search(iter_regex, x) else 'Na')\n",
    "df6['forward'] = df6['string'].apply(lambda x: re.search(forward_regex, x).group(1) if re.search(forward_regex, x) else 'Na')\n",
    "df6['loss'] = df6['string'].apply(lambda x: re.search(loss_regex, x).group(1) if re.search(loss_regex, x) else 'Na')\n",
    "df6['loading_wait'] = df6['string'].apply(lambda x: re.search(loading_wait_regex, x).group(1) if re.search(loading_wait_regex, x) else 'Na')\n",
    "\n",
    "# Drop the 'string' column\n",
    "df6.drop(columns=['string'], inplace=True)\n",
    "df6"
   ]
  },
  {
   "cell_type": "markdown",
   "metadata": {},
   "source": [
    "<h3 style=\"color:lightcoral\"> Example 7 </h3>\n",
    "Handling Dates and Times"
   ]
  },
  {
   "cell_type": "markdown",
   "metadata": {},
   "source": [
    "%Y Full year <br>\n",
    "%m Month w/ zero padding  <br>\n",
    "%d Day of the month (w/ zero padding)  <br>\n",
    "%I Hour (12hr clock) (w/ zero padding)  <br>\n",
    "%p AM or PM AM  <br>\n",
    "%M Minute (w/ zero padding)  <br>\n",
    "%S Second (w/ zero padding) <br>"
   ]
  },
  {
   "cell_type": "code",
   "execution_count": null,
   "metadata": {},
   "outputs": [
    {
     "name": "stdout",
     "output_type": "stream",
     "text": [
      "[Timestamp('2005-04-03 23:35:00'), Timestamp('2010-05-23 00:01:00'), Timestamp('2009-09-04 21:09:00')]\n",
      "[Timestamp('2005-04-03 23:35:00'), Timestamp('2010-05-23 00:01:00'), Timestamp('2009-09-04 21:09:00')]\n"
     ]
    }
   ],
   "source": [
    "date_strings = np.array(['03-04-2005 11:35 PM', '23-05-2010 12:01 AM', '04-09-2009 09:09 PM'])\n",
    "dd = [pd.to_datetime(date, format='%d-%m-%Y %I:%M %p') for date in date_strings]\n",
    "datetim = [pd.to_datetime(date, format=\"%d-%m-%Y %I:%M %p\", errors=\"coerce\") for date in date_strings] # errors are not raide\n",
    "\n",
    "print(dd)\n",
    "print(datetim)"
   ]
  },
  {
   "cell_type": "markdown",
   "metadata": {},
   "source": [
    "<h3 style=\"color:lightcoral\"> Example 8 </h3>\n",
    "Frequency"
   ]
  },
  {
   "cell_type": "markdown",
   "metadata": {},
   "source": [
    "Available frequency strings include (freq param):\n",
    "<div style=\"margin-top: -14px;\">\n",
    "\n",
    "- 'B' for business days, \n",
    "- 'W' for weekly, \n",
    "- 'M' for monthly, \n",
    "- 'Y' for yearly \n",
    "</div>"
   ]
  },
  {
   "cell_type": "code",
   "execution_count": null,
   "metadata": {},
   "outputs": [
    {
     "name": "stdout",
     "output_type": "stream",
     "text": [
      "                 date  new_column\n",
      "0 2001-01-01 00:00:00           1\n",
      "1 2001-01-01 01:00:00           1\n",
      "2 2001-01-01 02:00:00           1\n",
      "                     new_column\n",
      "date                           \n",
      "2001-01-01 00:00:00           1\n",
      "2001-01-01 01:00:00           1\n",
      "2001-01-01 02:00:00           1\n",
      "   new_column\n",
      "0           1\n",
      "1           1\n",
      "2           1\n",
      "                     new_column\n",
      "date                           \n",
      "2001-01-01 00:00:00           1\n",
      "2001-01-01 01:00:00           1\n",
      "2001-01-01 02:00:00           1\n",
      "                     new_column\n",
      "date                           \n",
      "2001-01-01 00:00:00           1\n",
      "2001-01-01 01:00:00           1\n",
      "2001-01-01 02:00:00           1\n",
      "                index  new_column\n",
      "0 2001-01-01 00:00:00           1\n",
      "1 2001-01-01 01:00:00           1\n",
      "2 2001-01-01 02:00:00           1\n"
     ]
    }
   ],
   "source": [
    "datafr = pd.DataFrame() \n",
    "datafr['date'] = pd.date_range('1/1/2001', periods=100000, freq='H') \n",
    "datafr[(datafr['date'] > '2002-1-1 01:00:00') & (datafr['date'] <= '2002-1-1 04:00:00')]\n",
    "datafr['new_column'] = 1\n",
    "\n",
    "datafr2 = datafr.set_index(datafr['date'].drop(columns=['date']))\n",
    "datafr2 = datafr.set_index('date')\n",
    "datafr3 = datafr2.reset_index(drop=True)\n",
    "\n",
    "# datafr4 = datafr.set_index('date').drop(columns=['date']) # not work!!\n",
    "# ok work but only when the columns are more than one! otherwise the unique column values will be copied \n",
    "# in the index of an empty dataframe!\n",
    "datafr5 = datafr.set_index('date', drop=True) \n",
    "datafr6 = datafr.set_index('date')\n",
    "datafr7 = datafr6.rename_axis(None).reset_index()\n",
    "\n",
    "print(datafr.head(3))\n",
    "print(datafr2.head(3))\n",
    "print(datafr3.head(3))\n",
    "print(datafr5.head(3))\n",
    "print(datafr6.head(3))\n",
    "print(datafr7.head(3))"
   ]
  },
  {
   "cell_type": "code",
   "execution_count": null,
   "metadata": {},
   "outputs": [
    {
     "data": {
      "text/html": [
       "<div>\n",
       "<style scoped>\n",
       "    .dataframe tbody tr th:only-of-type {\n",
       "        vertical-align: middle;\n",
       "    }\n",
       "\n",
       "    .dataframe tbody tr th {\n",
       "        vertical-align: top;\n",
       "    }\n",
       "\n",
       "    .dataframe thead th {\n",
       "        text-align: right;\n",
       "    }\n",
       "</style>\n",
       "<table border=\"1\" class=\"dataframe\">\n",
       "  <thead>\n",
       "    <tr style=\"text-align: right;\">\n",
       "      <th></th>\n",
       "      <th>date</th>\n",
       "      <th>new_column</th>\n",
       "      <th>year</th>\n",
       "      <th>month</th>\n",
       "      <th>day</th>\n",
       "      <th>hour</th>\n",
       "      <th>minute</th>\n",
       "    </tr>\n",
       "  </thead>\n",
       "  <tbody>\n",
       "    <tr>\n",
       "      <th>0</th>\n",
       "      <td>2001-01-01 00:00:00</td>\n",
       "      <td>1</td>\n",
       "      <td>2001</td>\n",
       "      <td>1</td>\n",
       "      <td>1</td>\n",
       "      <td>0</td>\n",
       "      <td>0</td>\n",
       "    </tr>\n",
       "    <tr>\n",
       "      <th>1</th>\n",
       "      <td>2001-01-01 01:00:00</td>\n",
       "      <td>1</td>\n",
       "      <td>2001</td>\n",
       "      <td>1</td>\n",
       "      <td>1</td>\n",
       "      <td>1</td>\n",
       "      <td>0</td>\n",
       "    </tr>\n",
       "    <tr>\n",
       "      <th>2</th>\n",
       "      <td>2001-01-01 02:00:00</td>\n",
       "      <td>1</td>\n",
       "      <td>2001</td>\n",
       "      <td>1</td>\n",
       "      <td>1</td>\n",
       "      <td>2</td>\n",
       "      <td>0</td>\n",
       "    </tr>\n",
       "  </tbody>\n",
       "</table>\n",
       "</div>"
      ],
      "text/plain": [
       "                 date  new_column  year  month  day  hour  minute\n",
       "0 2001-01-01 00:00:00           1  2001      1    1     0       0\n",
       "1 2001-01-01 01:00:00           1  2001      1    1     1       0\n",
       "2 2001-01-01 02:00:00           1  2001      1    1     2       0"
      ]
     },
     "execution_count": 51,
     "metadata": {},
     "output_type": "execute_result"
    }
   ],
   "source": [
    "\"\"\"Breaking up date data into multiple feratures\"\"\"\n",
    "dataframmo = datafr.copy()\n",
    "dataframmo['year'] = dataframmo['date'].dt.year \n",
    "dataframmo['month'] = dataframmo['date'].dt.month \n",
    "dataframmo['day'] = dataframmo['date'].dt.day \n",
    "dataframmo['hour'] = dataframmo['date'].dt.hour \n",
    "dataframmo['minute'] = dataframmo['date'].dt.minute \n",
    "dataframmo.head(3)"
   ]
  },
  {
   "cell_type": "code",
   "execution_count": null,
   "metadata": {},
   "outputs": [
    {
     "name": "stdout",
     "output_type": "stream",
     "text": [
      "     Arrived       Left\n",
      "0 2017-01-01 2017-01-01\n",
      "1 2017-01-04 2017-01-06\n",
      "<class 'pandas.core.series.Series'>\n"
     ]
    },
    {
     "data": {
      "text/plain": [
       "0    0\n",
       "1    2\n",
       "dtype: int64"
      ]
     },
     "execution_count": 52,
     "metadata": {},
     "output_type": "execute_result"
    }
   ],
   "source": [
    "data_frame = pd.DataFrame()\n",
    "data_frame['Arrived'] = [pd.Timestamp('01-01-2017'), pd.Timestamp('01-04-2017')]\n",
    "data_frame['Left'] = [pd.Timestamp('01-01-2017'), pd.Timestamp('01-06-2017')] \n",
    "data_frame['Left'] - data_frame['Arrived']\n",
    "print(data_frame.head())\n",
    "dat = pd.Series(delta.days for delta in (data_frame['Left'] - data_frame['Arrived']))\n",
    "print(type(dat))\n",
    "dat"
   ]
  },
  {
   "cell_type": "code",
   "execution_count": null,
   "metadata": {},
   "outputs": [
    {
     "name": "stdout",
     "output_type": "stream",
     "text": [
      "0   2002-02-28\n",
      "1   2002-03-31\n",
      "2   2002-04-30\n",
      "dtype: datetime64[ns]\n",
      "0    Thursday\n",
      "1      Sunday\n",
      "2     Tuesday\n",
      "dtype: object\n",
      "0    3\n",
      "1    6\n",
      "2    1\n",
      "dtype: int64\n"
     ]
    }
   ],
   "source": [
    "\"\"\" With a vector of dates we want to know the day of the week for each date. \"\"\"\n",
    "dates = pd.Series(pd.date_range(\"2/2/2002\", periods=3, freq=\"M\"))\n",
    "print(dates)\n",
    "print(dates.dt.day_name())\n",
    "print(dates.dt.weekday)"
   ]
  },
  {
   "cell_type": "markdown",
   "metadata": {},
   "source": [
    "<h3 style=\"color:lightcoral\"> Example 9 </h3>\n",
    "Shift"
   ]
  },
  {
   "cell_type": "code",
   "execution_count": null,
   "metadata": {},
   "outputs": [],
   "source": [
    "\"\"\" Shift \"\"\"\n",
    "dataframe = pd.DataFrame() \n",
    "dataframe[\"dates\"] = pd.date_range(\"1/1/2001\", periods=5, freq=\"D\") \n",
    "dataframe[\"stock_price\"] = [1.1,2.2,3.3,4.4,5.5] \n",
    "# Lagged values by one row \n",
    "dataframe[\"previous_days_stock_price\"] = dataframe[\"stock_price\"].shift(1) \n",
    "dataframe[\"stock_price_rolling_1\"] = dataframe[\"stock_price\"].rolling(window=1).mean()\n",
    "dataframe[\"stock_price_rolling_2\"] = dataframe[\"stock_price\"].rolling(window=2).mean()\n",
    "dataframe[\"stock_price_rolling_3\"] = dataframe[\"stock_price\"].rolling(window=3).mean()\n",
    "dataframe[\"stock_price_rolling_4\"] = dataframe[\"stock_price\"].rolling(window=4).mean()\n",
    "\n",
    "dataframe[\"Sales\"] = [1.3, np.nan, 2.5, np.nan, np.nan]"
   ]
  },
  {
   "cell_type": "code",
   "execution_count": null,
   "metadata": {},
   "outputs": [
    {
     "data": {
      "text/html": [
       "<div>\n",
       "<style scoped>\n",
       "    .dataframe tbody tr th:only-of-type {\n",
       "        vertical-align: middle;\n",
       "    }\n",
       "\n",
       "    .dataframe tbody tr th {\n",
       "        vertical-align: top;\n",
       "    }\n",
       "\n",
       "    .dataframe thead th {\n",
       "        text-align: right;\n",
       "    }\n",
       "</style>\n",
       "<table border=\"1\" class=\"dataframe\">\n",
       "  <thead>\n",
       "    <tr style=\"text-align: right;\">\n",
       "      <th></th>\n",
       "      <th>dates</th>\n",
       "      <th>stock_price</th>\n",
       "      <th>previous_days_stock_price</th>\n",
       "      <th>stock_price_rolling_1</th>\n",
       "      <th>stock_price_rolling_2</th>\n",
       "      <th>stock_price_rolling_3</th>\n",
       "      <th>stock_price_rolling_4</th>\n",
       "      <th>Sales</th>\n",
       "    </tr>\n",
       "  </thead>\n",
       "  <tbody>\n",
       "    <tr>\n",
       "      <th>0</th>\n",
       "      <td>2001-01-01</td>\n",
       "      <td>1.1</td>\n",
       "      <td>NaN</td>\n",
       "      <td>1.1</td>\n",
       "      <td>NaN</td>\n",
       "      <td>NaN</td>\n",
       "      <td>NaN</td>\n",
       "      <td>1.3</td>\n",
       "    </tr>\n",
       "    <tr>\n",
       "      <th>1</th>\n",
       "      <td>2001-01-02</td>\n",
       "      <td>2.2</td>\n",
       "      <td>1.1</td>\n",
       "      <td>2.2</td>\n",
       "      <td>1.65</td>\n",
       "      <td>NaN</td>\n",
       "      <td>NaN</td>\n",
       "      <td>1.9</td>\n",
       "    </tr>\n",
       "    <tr>\n",
       "      <th>2</th>\n",
       "      <td>2001-01-03</td>\n",
       "      <td>3.3</td>\n",
       "      <td>2.2</td>\n",
       "      <td>3.3</td>\n",
       "      <td>2.75</td>\n",
       "      <td>2.2</td>\n",
       "      <td>NaN</td>\n",
       "      <td>2.5</td>\n",
       "    </tr>\n",
       "    <tr>\n",
       "      <th>3</th>\n",
       "      <td>2001-01-04</td>\n",
       "      <td>4.4</td>\n",
       "      <td>3.3</td>\n",
       "      <td>4.4</td>\n",
       "      <td>3.85</td>\n",
       "      <td>3.3</td>\n",
       "      <td>2.75</td>\n",
       "      <td>2.5</td>\n",
       "    </tr>\n",
       "    <tr>\n",
       "      <th>4</th>\n",
       "      <td>2001-01-05</td>\n",
       "      <td>5.5</td>\n",
       "      <td>4.4</td>\n",
       "      <td>5.5</td>\n",
       "      <td>4.95</td>\n",
       "      <td>4.4</td>\n",
       "      <td>3.85</td>\n",
       "      <td>2.5</td>\n",
       "    </tr>\n",
       "  </tbody>\n",
       "</table>\n",
       "</div>"
      ],
      "text/plain": [
       "       dates  stock_price  previous_days_stock_price  stock_price_rolling_1  \\\n",
       "0 2001-01-01          1.1                        NaN                    1.1   \n",
       "1 2001-01-02          2.2                        1.1                    2.2   \n",
       "2 2001-01-03          3.3                        2.2                    3.3   \n",
       "3 2001-01-04          4.4                        3.3                    4.4   \n",
       "4 2001-01-05          5.5                        4.4                    5.5   \n",
       "\n",
       "   stock_price_rolling_2  stock_price_rolling_3  stock_price_rolling_4  Sales  \n",
       "0                    NaN                    NaN                    NaN    1.3  \n",
       "1                   1.65                    NaN                    NaN    1.9  \n",
       "2                   2.75                    2.2                    NaN    2.5  \n",
       "3                   3.85                    3.3                   2.75    2.5  \n",
       "4                   4.95                    4.4                   3.85    2.5  "
      ]
     },
     "execution_count": 55,
     "metadata": {},
     "output_type": "execute_result"
    }
   ],
   "source": [
    "\"\"\" Interpolate. \n",
    "N.B.1\n",
    "#dataframe.interpolate() # error \n",
    "N.B.2\n",
    "#dataframe = dataframe.interpolate(method='linear', limit_direction='forward') #error!!\n",
    "\"\"\"\n",
    "dataframe[\"Sales\"] = dataframe[\"Sales\"].interpolate(method='linear', limit_direction='forward')\n",
    "dataframe"
   ]
  },
  {
   "cell_type": "markdown",
   "metadata": {},
   "source": [
    "<h3 style=\"color:lightcoral\"> Example 10 </h3>\n",
    "Reverse"
   ]
  },
  {
   "cell_type": "code",
   "execution_count": 29,
   "metadata": {},
   "outputs": [
    {
     "name": "stdout",
     "output_type": "stream",
     "text": [
      "     0\n",
      "0    0\n",
      "1    1\n",
      "2    2\n",
      "3    3\n",
      "4    4\n",
      "5    5\n",
      "6    6\n",
      "7    7\n",
      "8    8\n",
      "9    9\n",
      "10  10\n",
      "11  11\n",
      "12  12\n",
      "13  13\n",
      "14  14\n",
      "15  15\n",
      "16  16\n",
      "17  17\n",
      "18  18\n",
      "19  19\n",
      "20  20\n",
      "21  21\n",
      "22  22\n",
      "23  23\n",
      "24  24\n",
      "25  25\n",
      "26  26\n",
      "27  27\n",
      "28  28\n",
      "29  29 \n",
      "\n",
      "    0   1   2   3   4   5\n",
      "0   0   1   2   3   4   5\n",
      "1   6   7   8   9  10  11\n",
      "2  12  13  14  15  16  17\n",
      "3  18  19  20  21  22  23\n",
      "4  24  25  26  27  28  29 \n",
      "\n",
      "    A   B   C   D   E   F\n",
      "4  24  25  26  27  28  29\n",
      "3  18  19  20  21  22  23\n",
      "2  12  13  14  15  16  17\n",
      "1   6   7   8   9  10  11\n",
      "0   0   1   2   3   4   5\n"
     ]
    }
   ],
   "source": [
    "\"\"\" Reverse the order of a Dataframe rows.\n",
    "\n",
    "N.B.\n",
    "In the absence of explicit column names, pandas uses integers starting from 0 as default column names.\n",
    "N.B.1\n",
    "# Use iloc indexer to access a group of rows and columns by integer-location based indexing\n",
    "(data.iloc[<row selection>, <column selection>])\n",
    "data.iloc[::-1] slice operation that works with iloc to get elements from the last row towards the first step by -1.\n",
    "- The first part is the start index.\n",
    "- The second part is the stop index.\n",
    "- The third part is the step.\n",
    "\"\"\"\n",
    "df_8 = pd.DataFrame(np.arange(30))\n",
    "df_8_r = pd.DataFrame(np.arange(30).reshape(5, -1))\n",
    "\n",
    "# Show dataframes adding a blank line after it, to avoid printing empty line with \"print()\"\n",
    "print(df_8, end=' \\n\\n') \n",
    "print(df_8_r, end=' \\n\\n') \n",
    "# Add columns name\n",
    "df_8_r.columns = ['A', 'B', 'C', 'D', 'E', 'F']\n",
    "# Filter rows\n",
    "print(df_8_r.iloc[::-1, :])"
   ]
  },
  {
   "cell_type": "code",
   "execution_count": 30,
   "metadata": {},
   "outputs": [
    {
     "name": "stdout",
     "output_type": "stream",
     "text": [
      "    A   B   C   D   E\n",
      "0  26  48  74  41  35\n",
      "1  28  76  61  84   3\n",
      "2  83  42  88  35  39\n",
      "3   2  96  22  75  77\n",
      "4  80  62  62  89  26\n",
      "5  67  22  77  87   7\n",
      "6  71  88  11  28  79\n",
      "7  20  68  85  35  27\n",
      "8  45  80  88  82  97\n",
      "9   6  63   9  22  75 \n",
      "\n",
      "    A   C   E\n",
      "1  28  61   3\n",
      "3   2  22  77\n",
      "5  67  77   7\n",
      "7  20  85  27\n",
      "9   6   9  75\n"
     ]
    }
   ],
   "source": [
    "\"\"\" Filter with iloc \"\"\"\n",
    "# Create a random DataFrame with 10 rows and 5 columns\n",
    "x = pd.DataFrame(np.random.randint(0, 100, size=(10, 5)), columns=list('ABCDE'))\n",
    "# Select rows (1, 3, 5, 7, 9) and columns (0, 2, 4) from a DataFrame\n",
    "print(x, end=' \\n\\n') \n",
    "print(x.iloc[1:10:2, 0:5:2])"
   ]
  },
  {
   "cell_type": "markdown",
   "metadata": {},
   "source": [
    "<h3 style=\"color:lightcoral\"> Example 11 </h3>\n",
    "Combine dataframes"
   ]
  },
  {
   "cell_type": "code",
   "execution_count": 33,
   "metadata": {},
   "outputs": [
    {
     "name": "stdout",
     "output_type": "stream",
     "text": [
      "   A  B\n",
      "0  1  4\n",
      "1  2  5\n",
      "2  3  6 \n",
      "\n",
      "   A   B\n",
      "0  7  10\n",
      "1  8  11\n",
      "2  9  12 \n",
      "\n",
      "Concatenated vertically:\n",
      "   A   B\n",
      "0  1   4\n",
      "1  2   5\n",
      "2  3   6\n",
      "0  7  10\n",
      "1  8  11\n",
      "2  9  12\n",
      "\n",
      "Concatenated horizontally:\n",
      "   A  B  A   B\n",
      "0  1  4  7  10\n",
      "1  2  5  8  11\n",
      "2  3  6  9  12\n"
     ]
    }
   ],
   "source": [
    "\"\"\" Concatenate dataframes vertically and horizontally \"\"\"\n",
    "df1 = pd.DataFrame({'A': [1, 2, 3], 'B': [4, 5, 6]})\n",
    "df2 = pd.DataFrame({'A': [7, 8, 9], 'B': [10, 11, 12]})\n",
    "\n",
    "print(df1, end = ' \\n\\n')\n",
    "print(df2, end = ' \\n\\n')\n",
    "\n",
    "print(\"Concatenated vertically:\")\n",
    "print(pd.concat([df1, df2], axis=0))\n",
    "print(\"\\nConcatenated horizontally:\")\n",
    "print(pd.concat([df1, df2], axis=1))"
   ]
  },
  {
   "cell_type": "code",
   "execution_count": 39,
   "metadata": {},
   "outputs": [
    {
     "name": "stdout",
     "output_type": "stream",
     "text": [
      "   A  B\n",
      "0  1  4\n",
      "1  2  5\n",
      "2  3  6 \n",
      "\n",
      "   B  C\n",
      "0  4  7\n",
      "1  5  8\n",
      "2  6  9 \n",
      "\n",
      "Merged on column B:\n",
      "   A  B  C\n",
      "0  1  4  7\n",
      "1  2  5  8\n",
      "2  3  6  9\n"
     ]
    }
   ],
   "source": [
    "\"\"\" Merge \"\"\"\n",
    "df1 = pd.DataFrame({'A': [1, 2, 3], 'B': [4, 5, 6]})\n",
    "df2 = pd.DataFrame({'B': [4, 5, 6], 'C': [7, 8, 9]})\n",
    "print(df1, end = ' \\n\\n')\n",
    "print(df2, end = ' \\n\\n')\n",
    "print(\"Merged on column B:\")\n",
    "print(pd.merge(df1, df2, on='B'))"
   ]
  },
  {
   "cell_type": "code",
   "execution_count": 51,
   "metadata": {},
   "outputs": [
    {
     "name": "stdout",
     "output_type": "stream",
     "text": [
      "Skipping, since it will raise a MergeError\n"
     ]
    }
   ],
   "source": [
    "%%script echo Skipping, since it will raise a MergeError\n",
    "\"\"\" It is not possible to merge dataframes with no columns to merge on. \n",
    "MergeError: No common columns to perform merge on. Merge options: left_on=None, right_on=None, left_index=False, right_index=False\n",
    "\"\"\"\n",
    "df1 = pd.DataFrame({'A': [1, 2, 3], 'B': [4, 5, 6]})\n",
    "df2 = pd.DataFrame({'C': [7, 8, 9], 'D': [10, 11, 12]})\n",
    "print(pd.merge(df1, df2))"
   ]
  },
  {
   "cell_type": "code",
   "execution_count": 38,
   "metadata": {},
   "outputs": [
    {
     "name": "stdout",
     "output_type": "stream",
     "text": [
      "Joined on index:\n",
      "   A  B  C   D\n",
      "0  1  4  7  10\n",
      "1  2  5  8  11\n",
      "2  3  6  9  12\n"
     ]
    }
   ],
   "source": [
    "\"\"\" Join on index \"\"\"\n",
    "df1 = pd.DataFrame({'A': [1, 2, 3], 'B': [4, 5, 6]})\n",
    "df2 = pd.DataFrame({'C': [7, 8, 9], 'D': [10, 11, 12]})\n",
    "print(\"Joined on index:\")\n",
    "print(df1.join(df2))"
   ]
  },
  {
   "cell_type": "code",
   "execution_count": 44,
   "metadata": {},
   "outputs": [
    {
     "name": "stdout",
     "output_type": "stream",
     "text": [
      "  key  value1\n",
      "0   A       1\n",
      "1   B       2\n",
      "2   C       3 \n",
      "\n",
      "  key  value2\n",
      "0   A       4\n",
      "1   B       5\n",
      "2   D       6 \n",
      "\n",
      "  key  value1  value2\n",
      "0   A       1       4\n",
      "1   B       2       5\n"
     ]
    }
   ],
   "source": [
    "\"\"\" Return the rows where there is a match in both dataframes. \"\"\"\n",
    "df1 = pd.DataFrame({'key': ['A', 'B', 'C'], 'value1': [1, 2, 3]})\n",
    "df2 = pd.DataFrame({'key': ['A', 'B', 'D'], 'value2': [4, 5, 6]})\n",
    "print(df1, end = ' \\n\\n')\n",
    "print(df2, end = ' \\n\\n')\n",
    "print(pd.merge(df1, df2, on='key'))"
   ]
  },
  {
   "cell_type": "code",
   "execution_count": 46,
   "metadata": {},
   "outputs": [
    {
     "name": "stdout",
     "output_type": "stream",
     "text": [
      "  key  value1\n",
      "0   A       1\n",
      "1   B       2\n",
      "2   C       3 \n",
      "\n",
      "  key  value2\n",
      "0   A       4\n",
      "1   B       5\n",
      "2   D       6 \n",
      "\n",
      "  key  value1  value2\n",
      "0   A     1.0     4.0\n",
      "1   B     2.0     5.0\n",
      "2   C     3.0     NaN\n",
      "3   D     NaN     6.0\n"
     ]
    }
   ],
   "source": [
    "\"\"\" Outer Join: Return all rows from both dataframes, with NaN in places where the dataframe doesn't have a match. \"\"\"\n",
    "print(df1, end = ' \\n\\n')\n",
    "print(df2, end = ' \\n\\n')\n",
    "print(pd.merge(df1, df2, on='key', how='outer'))"
   ]
  },
  {
   "cell_type": "code",
   "execution_count": 48,
   "metadata": {},
   "outputs": [
    {
     "name": "stdout",
     "output_type": "stream",
     "text": [
      "  key  value1\n",
      "0   A       1\n",
      "1   B       2\n",
      "2   C       3 \n",
      "\n",
      "  key  value2\n",
      "0   A       4\n",
      "1   B       5\n",
      "2   D       6 \n",
      "\n",
      "  key  value1  value2\n",
      "0   A       1     4.0\n",
      "1   B       2     5.0\n",
      "2   C       3     NaN\n"
     ]
    }
   ],
   "source": [
    "\"\"\" Left Join: Return all rows from the left dataframe and the matched rows from the right dataframe.\"\"\"\n",
    "print(df1, end = ' \\n\\n')\n",
    "print(df2, end = ' \\n\\n')\n",
    "print(pd.merge(df1, df2, on='key', how='left'))"
   ]
  },
  {
   "cell_type": "code",
   "execution_count": null,
   "metadata": {},
   "outputs": [],
   "source": [
    "\"\"\" Right Join: Return all rows from the right dataframe and the matched rows from the right dataframe.\"\"\"\n",
    "print(df1, end = ' \\n\\n')\n",
    "print(df2, end = ' \\n\\n')\n",
    "result = pd.merge(df1, df2, on='key', how='right')"
   ]
  },
  {
   "cell_type": "code",
   "execution_count": 50,
   "metadata": {},
   "outputs": [
    {
     "name": "stdout",
     "output_type": "stream",
     "text": [
      "  key1  value1\n",
      "0    A       1\n",
      "1    B       2\n",
      "2    C       3 \n",
      "\n",
      "  key2  value2\n",
      "0    A       4\n",
      "1    B       5\n",
      "2    D       6 \n",
      "\n",
      "  key1  value1 key2  value2\n",
      "0    A       1    A       4\n",
      "1    B       2    B       5\n"
     ]
    }
   ],
   "source": [
    "\"\"\" Using columns with different names \"\"\"\n",
    "df1 = pd.DataFrame({'key1': ['A', 'B', 'C'], 'value1': [1, 2, 3]})\n",
    "df2 = pd.DataFrame({'key2': ['A', 'B', 'D'], 'value2': [4, 5, 6]})\n",
    "print(df1, end = ' \\n\\n')\n",
    "print(df2, end = ' \\n\\n')\n",
    "print(pd.merge(df1, df2, left_on='key1', right_on='key2'))"
   ]
  }
 ],
 "metadata": {
  "kernelspec": {
   "display_name": "MLearning",
   "language": "python",
   "name": "python3"
  },
  "language_info": {
   "codemirror_mode": {
    "name": "ipython",
    "version": 3
   },
   "file_extension": ".py",
   "mimetype": "text/x-python",
   "name": "python",
   "nbconvert_exporter": "python",
   "pygments_lexer": "ipython3",
   "version": "3.10.9"
  },
  "orig_nbformat": 4
 },
 "nbformat": 4,
 "nbformat_minor": 2
}
