{
 "cells": [
  {
   "attachments": {},
   "cell_type": "markdown",
   "metadata": {},
   "source": [
    "<div style=\"line-height:0.5\">\n",
    "<h1 style=\"color:darkkhaki\"> SQLite basics 3 </h1>\n",
    "<h4> Common queries and operations. Focus on joins </h4>\n",
    "<span style=\"display: inline-block;\">\n",
    "    <h3 style=\"color: lightblue; display: inline;\">Keywords:</h3> placeholders + rowid + save + limit 1\n",
    "</span>\n",
    "</div>\n",
    "<br>\n",
    "<div style=\"line-height:1.2\">\n",
    "<span style=\"display: inline-block;\">\n",
    "    <h3 style=\"color: red; display: inline;\">Notes:</h3> \n",
    "    The following examples are not reproducible. In fact, due to its large size, the database was not uploaded. <br>\n",
    "    &emsp;&emsp;&emsp;&emsp;&emsp;Look at sqlite_2_trials.ipynb for further info. <br>\n",
    "    &emsp;&emsp;&emsp;&emsp;&emsp;For same reasons the generated file \"resp_query6.csv\" was not uploaded.\n",
    "</span>\n",
    "</div>"
   ]
  },
  {
   "cell_type": "code",
   "execution_count": 2,
   "metadata": {},
   "outputs": [],
   "source": [
    "import csv\n",
    "import random\n",
    "import linecache \n",
    "import sqlite3 as lite\n",
    "import pandas as pd"
   ]
  },
  {
   "attachments": {},
   "cell_type": "markdown",
   "metadata": {},
   "source": [
    "<h2 style=\"color:darkkhaki\"> #1  Fetch data from db  </h2>"
   ]
  },
  {
   "cell_type": "code",
   "execution_count": 3,
   "metadata": {},
   "outputs": [],
   "source": [
    "conn = lite.connect('./databases_used_in_examples/oimi_robot_database.db')\n",
    "curs = conn.cursor()\n",
    "p1 = 'ask_quest_20'\n",
    "p2 = 'kind_game_9C'\n",
    "p3 = 'choose three_games'\n",
    "p3 = 'choose four_games'\n",
    "params = (p1,)"
   ]
  },
  {
   "cell_type": "code",
   "execution_count": 3,
   "metadata": {},
   "outputs": [
    {
     "name": "stdout",
     "output_type": "stream",
     "text": [
      "[20004]\n"
     ]
    }
   ],
   "source": [
    "curs.execute(\"SELECT Sessions.session_id FROM Sessions JOIN Sessions_Impositions USING (session_id) \\\n",
    "    WHERE (status ='default' OR status='to_do') \\\n",
    "    AND Sessions_Impositions.imposition_name = ?\\\n",
    "    ORDER BY random()\", params)\n",
    "\n",
    "result_sess = curs.fetchall()\n",
    "res = [item for sublist in result_sess for item in sublist]\n",
    "res = list(set(res))\n",
    "print(res)"
   ]
  },
  {
   "cell_type": "code",
   "execution_count": 4,
   "metadata": {},
   "outputs": [
    {
     "name": "stdout",
     "output_type": "stream",
     "text": [
      "[20011]\n"
     ]
    }
   ],
   "source": [
    "params = (p2,)\n",
    "curs.execute(\"SELECT Sessions.session_id FROM Sessions JOIN Sessions_Impositions USING (session_id) \\\n",
    "    WHERE (status ='default' OR status='to_do') \\\n",
    "    AND Sessions_Impositions.imposition_name = ?\\\n",
    "    ORDER BY random()\",params)\n",
    "result_sess1 = curs.fetchall()\n",
    "res1 = [item for sublist in result_sess1 for item in sublist]\n",
    "res1 = list(set(res1))\n",
    "print(res1)"
   ]
  },
  {
   "cell_type": "code",
   "execution_count": 5,
   "metadata": {},
   "outputs": [
    {
     "name": "stdout",
     "output_type": "stream",
     "text": [
      "[]\n",
      "[20011, 20004]\n"
     ]
    }
   ],
   "source": [
    "session_and = list(set(res) & (set(res1)))\n",
    "session_or = list(set(res) | (set(res1)))\n",
    "\n",
    "print(session_and)\n",
    "print(session_or)"
   ]
  },
  {
   "cell_type": "code",
   "execution_count": 6,
   "metadata": {},
   "outputs": [
    {
     "name": "stdout",
     "output_type": "stream",
     "text": [
      "[24, 4]\n"
     ]
    }
   ],
   "source": [
    "\"\"\" Check common values \"\"\"\n",
    "a = [84, 534 ,4, 24, 783]\n",
    "b = [4, 33 ,6, 534, 24, 98]\n",
    "c = [4, 77 ,56, 24]\n",
    "\n",
    "oo = list(set(a) & set(b) & set(c))\n",
    "print(oo)\n"
   ]
  },
  {
   "attachments": {},
   "cell_type": "markdown",
   "metadata": {},
   "source": [
    "<h2 style=\"color:darkkhaki\"> #2 Visualize output with Pandas  </h2>"
   ]
  },
  {
   "cell_type": "code",
   "execution_count": 7,
   "metadata": {},
   "outputs": [
    {
     "name": "stdout",
     "output_type": "stream",
     "text": [
      "       name  surname  age current_level\n",
      "0     Andre   Ampere    6    elementary\n",
      "1   Camillo    Golgi    7      beginner\n",
      "2  Giuseppe   Ponzio    9  intermediate\n",
      "3  Giovanni  Celoria    8    elementary\n",
      "4   Edoardo  Bassini   10      advanced\n"
     ]
    }
   ],
   "source": [
    "conn = lite.connect(\"./databases_used_in_examples/oimi_robot_database.db\")\n",
    "curs = conn.cursor()\n",
    "\n",
    "kid_id = 10000\n",
    "#query_take = \"SELECT name,surname,age,current_level FROM Kids WHERE kid_id={}\".format(kid_id)\n",
    "query_take = \"SELECT name,surname,age,current_level FROM Kids\".format(kid_id)\n",
    "df = pd.read_sql_query(query_take, conn)\n",
    "\n",
    "print(df.head())"
   ]
  },
  {
   "attachments": {},
   "cell_type": "markdown",
   "metadata": {},
   "source": [
    "<h2 style=\"color:darkkhaki\"> #3 Utilize placeholders </h2>"
   ]
  },
  {
   "cell_type": "code",
   "execution_count": 13,
   "metadata": {},
   "outputs": [
    {
     "name": "stdout",
     "output_type": "stream",
     "text": [
      "1 return_que return_que are [('1F', '1FSUS', 'audio_10', 1)]\n"
     ]
    }
   ],
   "source": [
    "# single selection\n",
    "selections = [10]\n",
    "place_holders = \",\".join(\"?\"*len(selections))\n",
    "ququ = \"select kind, type, audio, value from Questions where question_id in (?)\"\n",
    "curs.execute(ququ, selections)\n",
    "return_que = curs.fetchall() \n",
    "\n",
    "print(\"1 return_que return_que are {}\".format(return_que))"
   ]
  },
  {
   "cell_type": "code",
   "execution_count": 18,
   "metadata": {},
   "outputs": [
    {
     "name": "stdout",
     "output_type": "stream",
     "text": [
      "return_que:\n"
     ]
    },
    {
     "data": {
      "text/plain": [
       "[('1F', '1FSUS', 'audio_10', 1),\n",
       " ('1F', '1FSUS', 'audio_11', 1),\n",
       " ('1F', '1FSUS', 'audio_12', 1),\n",
       " ('1F', '1FSUS', 'audio_13', 1),\n",
       " ('1F', '1FSUS', 'audio_14', 1),\n",
       " ('1F', '1FSUD', 'audio_15', 1)]"
      ]
     },
     "execution_count": 18,
     "metadata": {},
     "output_type": "execute_result"
    }
   ],
   "source": [
    "# multi selection\n",
    "selections = [10, 11, 12, 13, 14, 15]\n",
    "place_holders = \",\".join(\"?\" * len(selections))\n",
    "ququ = f\"select kind, type, audio, value from Questions where question_id in ({place_holders})\"\n",
    "curs.execute(ququ, selections)\n",
    "return_que = curs.fetchall()\n",
    "\n",
    "print(\"return_que:\")\n",
    "return_que"
   ]
  },
  {
   "cell_type": "code",
   "execution_count": 21,
   "metadata": {},
   "outputs": [
    {
     "name": "stdout",
     "output_type": "stream",
     "text": [
      "1F\n",
      "1FSUS\n",
      "audio_10\n",
      "1\n",
      "0\n",
      "<class 'list'>\n"
     ]
    }
   ],
   "source": [
    "ki = return_que[0][0]\n",
    "ty = return_que[0][1]\n",
    "au = return_que[0][2]\n",
    "val = return_que[0][3]\n",
    "res = 0\n",
    "\n",
    "print(ki)\n",
    "print(ty)\n",
    "print(au)\n",
    "print(val)\n",
    "print(res)\n",
    "print(type(return_que))"
   ]
  },
  {
   "cell_type": "code",
   "execution_count": 29,
   "metadata": {},
   "outputs": [
    {
     "name": "stdout",
     "output_type": "stream",
     "text": [
      "1 return_que return_que are [('1F', '1FSUS', 'audio_10', 1)]\n",
      "('1F', '1FSUS', 'audio_10', 1)\n",
      "Found in tuple: ('1F', '1FSUS', 'audio_10', 1)\n",
      "Found at least once.\n"
     ]
    }
   ],
   "source": [
    "\"\"\" Search for data in query results.\n",
    "1) Convert to tuple before executing;\n",
    "2) Exit the inner loop once found;\n",
    "N.B.\n",
    "Data returned from the database has one or more integer values in the tuple.\n",
    "It may happens => \"TypeError: argument of type 'int' is not iterable\" error.\n",
    "To handle the error, check with \"isinstance\" whether the element in the tuple is an integer before attempting to iterate over it. \n",
    "If so =>  convert it to a string \n",
    "\"\"\"\n",
    "curs.execute(ququ, tuple(selections))\n",
    "return_que = curs.fetchall()\n",
    "print(\"1 return_que return_que are {}\".format(return_que))\n",
    "\n",
    "to_search = '1FSUS'\n",
    "res = 0 \n",
    "\n",
    "for i in return_que:\n",
    "    print(i)\n",
    "\n",
    "    for j in range(len(i)):\n",
    "        if isinstance(i[j], int):\n",
    "            i[j] = str(i[j])\n",
    "\n",
    "        if to_search in i[j]:\n",
    "            print(\"Found in tuple:\", i)\n",
    "            res = 1\n",
    "            break\n",
    "\n",
    "if res == 1:\n",
    "    print(\"Found at least once.\")\n",
    "else:\n",
    "    print(\"Not found.\")"
   ]
  },
  {
   "cell_type": "code",
   "execution_count": 8,
   "metadata": {},
   "outputs": [
    {
     "name": "stdout",
     "output_type": "stream",
     "text": [
      "name, Kids, current_level\n",
      "select & from ? where ! in ('elementary')\n",
      "\n",
      "select name from ? where ! in ('elementary')\n",
      "\n",
      "select name from Kids where ! in ('elementary')\n",
      "\n",
      "select name from Kids where current_level in ('elementary')\n",
      "\n"
     ]
    }
   ],
   "source": [
    "def get_line_selection():\n",
    "    read_line = linecache.getline('./queries_used_in_examples/text_to_get.py', 1)\n",
    "    return read_line\n",
    "\n",
    "query_string_3 = '''select & from ? where ! in ({})'''\n",
    "\n",
    "prima_col = 'name'\n",
    "sec_col = 'Kids'\n",
    "ter_col = 'current_level'\n",
    "\n",
    "fine = \"{}, {}, {}\".format(prima_col, sec_col, ter_col)\n",
    "\n",
    "leggiline = get_line_selection()\n",
    "\n",
    "res = leggiline.replace(\"&\", prima_col)\n",
    "res1 = res.replace(\"?\", sec_col)\n",
    "res2 = res1.replace(\"!\", ter_col)\n",
    "\n",
    "print(fine)\n",
    "print(leggiline)\n",
    "print(res)\n",
    "print(res1)\n",
    "print(res2)"
   ]
  },
  {
   "cell_type": "code",
   "execution_count": 9,
   "metadata": {},
   "outputs": [
    {
     "name": "stdout",
     "output_type": "stream",
     "text": [
      "Andre\n",
      "Giovanni\n"
     ]
    }
   ],
   "source": [
    "curs.execute(res2)\n",
    "rows = curs.fetchall()\n",
    "\n",
    "for row in rows:\n",
    "    print(row[0])"
   ]
  },
  {
   "cell_type": "code",
   "execution_count": 12,
   "metadata": {},
   "outputs": [
    {
     "name": "stdout",
     "output_type": "stream",
     "text": [
      "3054743\n",
      "6008601160066007\n"
     ]
    }
   ],
   "source": [
    "sql_joint = \"SELECT COUNT(rowid) FROM Scenarios_Questions\" \n",
    "\n",
    "curs.execute(sql_joint)\n",
    "#res = curs.fetchall()\n",
    "#res = curs.fetchone()\n",
    "res = curs.fetchone()[0]\n",
    "#risp = res[0]\n",
    "print(res)\n",
    "##print(risp)\n",
    "\n",
    "curs.execute('''SELECT scenario_id FROM Scenarios WHERE scenario_group IN ('Scenario_3045','Scenario_5175','Scenario_4721', 'Scenario_2003',\n",
    "'Scenario_379','Scenario_2739','Scenario_835') ORDER BY RANDOM() LIMIT 1''')\n",
    "\n",
    "scenarioo = curs.fetchone()[0]\n",
    "print(scenarioo)\n"
   ]
  },
  {
   "cell_type": "markdown",
   "metadata": {},
   "source": [
    "<h2 style=\"color:darkkhaki\"> #4 Count </h2>"
   ]
  },
  {
   "cell_type": "code",
   "execution_count": 13,
   "metadata": {},
   "outputs": [
    {
     "name": "stdout",
     "output_type": "stream",
     "text": [
      "sess last 20022\n",
      "1\n",
      "match last for generating audio_intro e audio_exit session is == 30053\n",
      "3\n",
      "0\n",
      "0\n",
      "0\n",
      "1\n",
      "0\n"
     ]
    }
   ],
   "source": [
    "# Get Session table's single last update\n",
    "curs.execute(\"SELECT session_id FROM Sessions ORDER BY session_id DESC LIMIT 1\")\n",
    "sess_last = curs.fetchone()[0]\n",
    "print(\"sess last {}\".format(sess_last))\n",
    "\n",
    "curs.execute(\"SELECT COUNT(session_id) FROM Kids_Sessions WHERE session_id = ?\",(sess_last,))\n",
    "num_session_of_current_kid =curs.fetchone()[0]\n",
    "print(num_session_of_current_kid)\n",
    "\n",
    "curs.execute(\"SELECT match_id FROM Matches ORDER BY match_id DESC LIMIT 1\")\n",
    "match_last = curs.fetchone()[0]\n",
    "print(\"match last for generating audio_intro e audio_exit session is == {}\".format(match_last))\n",
    "curs.execute('''SELECT COUNT(p.patch_id) FROM Patches p \n",
    "\t\t\tJOIN (Scenarios s JOIN Matches m ON s.scenario_id=m.scenario)\n",
    "\t\t\tON p.patch_id=s.patch1 OR p.patch_id=s.patch2 OR p.patch_id=s.patch3 OR p.patch_id=s.patch4\n",
    "\t\t\tWHERE genre=\"Animal\" AND match_id = ?''',(match_last,))\n",
    "pa_gen_ani = curs.fetchone()[0]\n",
    "print(pa_gen_ani)\n",
    "curs.execute('''SELECT COUNT(p.patch_id) FROM Patches p \n",
    "\t\t\tJOIN (Scenarios s JOIN Matches m ON s.scenario_id=m.scenario)\n",
    "\t\t\tON p.patch_id=s.patch1 OR p.patch_id=s.patch2 OR p.patch_id=s.patch3 OR p.patch_id=s.patch4\n",
    "\t\t\tWHERE genre=\"Solid Color\" AND match_id = ?''',(match_last,))\n",
    "pa_gen_color = curs.fetchone()[0]\n",
    "print(pa_gen_color)\n",
    "curs.execute('''SELECT COUNT(p.patch_id) FROM Patches p \n",
    "\t\t\tJOIN (Scenarios s JOIN Matches m ON s.scenario_id=m.scenario)\n",
    "\t\t\tON p.patch_id=s.patch1 OR p.patch_id=s.patch2 OR p.patch_id=s.patch3 OR p.patch_id=s.patch4\n",
    "\t\t\tWHERE genre=\"People\" AND match_id = ?''',(match_last,))\n",
    "pa_gen_peo = curs.fetchone()[0]\n",
    "print(pa_gen_peo)\n",
    "curs.execute('''SELECT COUNT(p.patch_id) FROM Patches p \n",
    "\t\t\tJOIN (Scenarios s JOIN Matches m ON s.scenario_id=m.scenario)\n",
    "\t\t\tON p.patch_id=s.patch1 OR p.patch_id=s.patch2 OR p.patch_id=s.patch3 OR p.patch_id=s.patch4\n",
    "\t\t\tWHERE genre=\"Dress\" AND match_id = ?''',(match_last,))\n",
    "pa_gen_dress = curs.fetchone()[0]\n",
    "print(pa_gen_dress)\n",
    "curs.execute('''SELECT COUNT(p.patch_id) FROM Patches p \n",
    "\t\t\tJOIN (Scenarios s JOIN Matches m ON s.scenario_id=m.scenario)\n",
    "\t\t\tON p.patch_id=s.patch1 OR p.patch_id=s.patch2 OR p.patch_id=s.patch3 OR p.patch_id=s.patch4\n",
    "\t\t\tWHERE genre=\"Thing\" AND match_id = ?''',(match_last,))\n",
    "pa_gen_thi = curs.fetchone()[0]\n",
    "print(pa_gen_thi)\n",
    "curs.execute('''SELECT COUNT(p.patch_id) FROM Patches p \n",
    "\t\t\tJOIN (Scenarios s JOIN Matches m ON s.scenario_id=m.scenario)\n",
    "\t\t\tON p.patch_id=s.patch1 OR p.patch_id=s.patch2 OR p.patch_id=s.patch3 OR p.patch_id=s.patch4\n",
    "\t\t\tWHERE genre=\"Food\" AND match_id = ?''',(match_last,))\n",
    "pa_gen_food = curs.fetchone()[0]\n",
    "print(pa_gen_food)"
   ]
  },
  {
   "cell_type": "code",
   "execution_count": 17,
   "metadata": {},
   "outputs": [
    {
     "name": "stdout",
     "output_type": "stream",
     "text": [
      "<class 'int'>\n",
      "\n",
      "Here is :  [30051, 30052, 30053]\n",
      "We are in round num 0, audio_intro e audio_exit session are == [30051, 30052, 30053]\n",
      "pa_gen_ani is {} 0\n",
      "We are in round num 1, audio_intro e audio_exit session are == [30051, 30052, 30053]\n",
      "pa_gen_ani is {} 3\n",
      "We are in round num 2, audio_intro e audio_exit session are == [30051, 30052, 30053]\n",
      "pa_gen_ani is {} 3\n",
      "lista [0, 3, 3]\n"
     ]
    }
   ],
   "source": [
    "print(type(sess_last))\n",
    "#curs.execute(\"SELECT match_id FROM Sessions_Matches WHERE session_id =2001\")\n",
    "curs.execute(\"SELECT match_id FROM Sessions_Matches WHERE session_id =?\", (sess_last,))\n",
    "mama = curs.fetchall()\n",
    "matches_last = [item for sublist in mama for item in sublist]\n",
    "print()\n",
    "print(\"Here is :  {}\".format(matches_last))\n",
    "lista_pa = []\n",
    "for i in range(len(matches_last)):\n",
    "    print(\"We are in round num {}, audio_intro e audio_exit session are == {}\".format(i, matches_last))\n",
    "    curs.execute('''SELECT COUNT(p.patch_id) FROM Patches p \n",
    "        JOIN (Scenarios s JOIN Matches m ON s.scenario_id=m.scenario)\n",
    "        ON p.patch_id=s.patch1 OR p.patch_id=s.patch2 OR p.patch_id=s.patch3 OR p.patch_id=s.patch4\n",
    "        WHERE genre=\"Animal\" AND match_id = ?''',(matches_last[i],))\n",
    "    pa_gen_ani = curs.fetchone()[0]\n",
    "    print(\"pa_gen_ani is {}\", format(pa_gen_ani))\n",
    "    lista_pa.append(pa_gen_ani)\n",
    "print(\"lista\",lista_pa)"
   ]
  },
  {
   "attachments": {},
   "cell_type": "markdown",
   "metadata": {},
   "source": [
    "<h2 style=\"color:darkkhaki\"> #5 Triple join </h2>"
   ]
  },
  {
   "cell_type": "code",
   "execution_count": 6,
   "metadata": {},
   "outputs": [
    {
     "data": {
      "text/plain": [
       "[(1763, 'audio_1763', '1F', '1FCACO', 'Tocca un animale rosso', 2),\n",
       " (1764, 'audio_1764', '1F', '1FCACO', 'Tocca un animale verde', 2),\n",
       " (1764, 'audio_1764', '1F', '1FCACO', 'Tocca un animale verde', 2)]"
      ]
     },
     "execution_count": 6,
     "metadata": {},
     "output_type": "execute_result"
    }
   ],
   "source": [
    "group = 'Scenario_4721'\n",
    "this_kind = '1F'\n",
    "this_type = '1FCACO'\n",
    "limit = 1\n",
    "\n",
    "params = (group, this_kind, this_type, limit)\n",
    "\n",
    "sql_q = \"SELECT question_id, audio, kind, type, description, value \\\n",
    "FROM Scenarios_Questions \\\n",
    "JOIN (Questions q \\\n",
    "JOIN Games_Questions using (question_id)) ON audio_id = audio \\\n",
    "WHERE scenario_group = 'Scenario_4721' AND kind = '1F' AND type = '1FCACO' \\\n",
    "GROUP BY RANDOM() \\\n",
    "LIMIT 3;\"\n",
    "\n",
    "sql_q_2 = \"SELECT question_id, audio, kind, type, description, value \\\n",
    "FROM Scenarios_Questions \\\n",
    "JOIN Questions q ON audio_id = audio \\\n",
    "WHERE scenario_group = 'Scenario_4721' AND kind = '1F' AND type = '1FCACO' \\\n",
    "GROUP BY RANDOM() \\\n",
    "LIMIT 1;\"\n",
    "\n",
    "curs.execute(sql_q)\n",
    "#curs.execute(sql_q, (params,))\n",
    "res = curs.fetchall()\n",
    "res"
   ]
  },
  {
   "attachments": {},
   "cell_type": "markdown",
   "metadata": {},
   "source": [
    "<h2 style=\"color:darkkhaki\"> #6 Copy query results in a file with csv format </h2>"
   ]
  },
  {
   "cell_type": "code",
   "execution_count": 7,
   "metadata": {},
   "outputs": [],
   "source": [
    "queque = \"SELECT scenario_group, type FROM Scenarios_Questions sq JOIN Questions q ON sq.audio_id=q.audio ORDER BY scenario_group\"\n",
    "db_df = pd.read_sql_query(queque, conn)\n",
    "db_df.to_csv('./datasets_used_in_examples/resp_query6.csv', index=False)"
   ]
  }
 ],
 "metadata": {
  "kernelspec": {
   "display_name": "MLearning",
   "language": "python",
   "name": "python3"
  },
  "language_info": {
   "codemirror_mode": {
    "name": "ipython",
    "version": 3
   },
   "file_extension": ".py",
   "mimetype": "text/x-python",
   "name": "python",
   "nbconvert_exporter": "python",
   "pygments_lexer": "ipython3",
   "version": "3.10.9"
  },
  "orig_nbformat": 4
 },
 "nbformat": 4,
 "nbformat_minor": 2
}
