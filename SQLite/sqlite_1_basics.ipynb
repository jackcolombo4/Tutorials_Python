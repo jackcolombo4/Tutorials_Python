{
 "cells": [
  {
   "attachments": {},
   "cell_type": "markdown",
   "metadata": {},
   "source": [
    "<div style=\"line-height:0.5\">\n",
    "<h1 style=\"color:darkkhaki\"> SQLite basics 1 </h1>\n",
    "</div>\n",
    "<h4> Create db and tables. Focus on joins </h4>"
   ]
  },
  {
   "cell_type": "code",
   "execution_count": 36,
   "metadata": {},
   "outputs": [],
   "source": [
    "import random\n",
    "import sqlite3\n",
    "import pandas as pd"
   ]
  },
  {
   "cell_type": "markdown",
   "metadata": {},
   "source": [
    "<h2 style=\"color:darkkhaki\"> <u>Example 1 </u></h2>"
   ]
  },
  {
   "cell_type": "code",
   "execution_count": 2,
   "metadata": {},
   "outputs": [],
   "source": [
    "a, b,c ,d, e = 1, 2, 3, 4, 5\n",
    "a1, b1,c1 ,d1, e1 = 11, 12, 13, 14, 15\n",
    "a2, b2,c2 ,d2, e2 = 21, 22, 23, 24, 25"
   ]
  },
  {
   "cell_type": "code",
   "execution_count": 3,
   "metadata": {},
   "outputs": [],
   "source": [
    "con = sqlite3.connect(\"./databases_used_in_examples/db_for_basic1.db\")      #db is created if does not exist yet\n",
    "cur = con.cursor()"
   ]
  },
  {
   "cell_type": "code",
   "execution_count": 4,
   "metadata": {},
   "outputs": [],
   "source": [
    "cur.execute(\"CREATE TABLE IF NOT EXISTS t (lev INTEGER, comple INTEGER, s1 INTEGER, s2 INTEGER, s3 INTEGER);\")\n",
    "cur.execute(\"CREATE TABLE IF NOT EXISTS t2 (lev INTEGER, comple INTEGER, s4 INTEGER, s5 INTEGER, s6 INTEGER);\")\n",
    "cur.execute(\"INSERT INTO t(lev, comple, s1,s2,s3) VALUES (?,?,?,?,?)\",(a,b,c,d,e))\n",
    "cur.execute(\"INSERT INTO t(lev, comple, s1,s2,s3) VALUES (?,?,?,?,?)\",(a1,b1,c1,d1,e1))\n",
    "cur.execute(\"INSERT INTO t(lev, comple, s1,s2,s3) VALUES (?,?,?,?,?)\",(a2,b2,c2,d2,e2))\n",
    "cur.execute(\"INSERT INTO t2(lev, comple, s4,s5,s6) VALUES (?,?,?,?,?)\",(a,b,c,d,e))\n",
    "cur.execute(\"INSERT INTO t2(lev, comple, s4,s5,s6) VALUES (?,?,?,?,?)\",(a1,b1,c1,d1,e1))\n",
    "cur.execute(\"INSERT INTO t2(lev, comple, s4,s5,s6) VALUES (?,?,?,?,?)\",(a2,b2,c2,d2,e2))\n",
    "\n",
    "con.commit()"
   ]
  },
  {
   "cell_type": "code",
   "execution_count": 5,
   "metadata": {},
   "outputs": [],
   "source": [
    "cur.execute(\"INSERT INTO t(lev,comple) SELECT lev,comple FROM t2 where lev = 21\")\n",
    "con.commit()"
   ]
  },
  {
   "cell_type": "code",
   "execution_count": 6,
   "metadata": {},
   "outputs": [],
   "source": [
    "sql_create_newtab='''\n",
    "\tCREATE TABLE Newtab(\n",
    "\tkid INTEGER,\n",
    "    achi TEXT,\n",
    "    achi_val\n",
    "\t)\n",
    "\t'''\n",
    "sql_create_kids='''\n",
    "\tCREATE TABLE Kids (\n",
    "\tkid_id INTEGER UNIQUE PRIMARY KEY AUTOINCREMENT NOT NULL\n",
    "\t)'''\n",
    "sql_create_achi='''\n",
    "\tCREATE TABLE Achievements (\n",
    "\tachievement_name TEXT PRIMARY KEY NOT NULL\n",
    "\tCHECK( achievement_name IN (\n",
    "\t\t'Num of easy session done',\n",
    "\t\t'Num of normal session done',\n",
    "\t\t'Num of medium session done',\n",
    "\t\t'Num of hard session done',\n",
    "\t\t'Num of easy_1 matches done',\n",
    "\t\t'Num of easy_2 matches done',\n",
    "\t\t'Num of normal_1 matches done',\n",
    "\t\t'Num of normal_2 matches done',\n",
    "\t\t'Num of medium_1 matches done',\n",
    "\t\t'Num of medium_2 matches done',\n",
    "\t\t'Num of hard_1 matches done',\n",
    "\t\t'Num of hard_2 matches done',\n",
    "\t\t'Num of easy_1 games done',\n",
    "\t\t'Num of easy_2 games done',\n",
    "\t\t'Num of normal_1 games done',\n",
    "\t\t'Num of normal_2 games done',\n",
    "\t\t'Num of medium_1 games done',\n",
    "\t\t'Num of medium_2 games done',\n",
    "\t\t'Num of hard_1 games done',\n",
    "\t\t'Num of hard_2 games done',\n",
    "\t\t'Num of sessions with matches in SAME order of difficulty',\n",
    "\t\t'Num of sessions with matches in ASC order of difficulty',\n",
    "\t\t'Num of sessions with matches in DESC order of difficulty',\n",
    "\t\t'Num of sessions with matches with SAME quantity of games',\n",
    "\t\t'Num of sessions with matches with ASC quantity of games',\n",
    "\t\t'Num of sessions with matches with DESC quantity of games',\n",
    "\t\t'Num of matches with games in SAME order of difficulty',\n",
    "\t\t'Num of matches with games in ASC order of difficulty',\n",
    "\t\t'Num of matches with games in DESC order of difficulty',\n",
    "\t\t'Num of matches with games with SAME quantity of questions',\n",
    "\t\t'Num of matches with games with ASC quantity of questions',\n",
    "\t\t'Num of matches with games with DESC quantity of questions',\n",
    "\t\t'Num of games with questions in SAME order of difficulty',\n",
    "\t\t'Num of games with questions in ASC order of difficulty',\n",
    "\t\t'Num of games with questions in DESC order of difficulty',\n",
    "\t\t'Total session completed',\n",
    "\t\t'Total game solved',\n",
    "\t\t'Total questions answered',\n",
    "\t\t'Max num of matches in a session',\n",
    "\t\t'Max num of games in a match',\n",
    "\t\t'Max num of questions in a game',\n",
    "\t\t'Num of Mixed match tried',\n",
    "\t\t'Max score reached ',\n",
    "\t\t'Good result obtained',\n",
    "\t\t'Pefect result obtained',\n",
    "\t\t'Kind 1F done',\n",
    "\t\t'Kind 2L done',\n",
    "\t\t'Kind 3S done',\n",
    "\t\t'Kind 4P done',\n",
    "\t\t'Kind 5K done',\n",
    "\t\t'Kind 6I done',\n",
    "\t\t'Kind 7O done',\n",
    "\t\t'Kind 8Q done',\n",
    "\t\t'Kind 9C done'\n",
    "\t))\n",
    "\tNOT NULL\n",
    "\t)'''\n",
    "\n",
    "all_achievements = [\n",
    "\t'Num of easy session done',\n",
    "\t'Num of normal session done',\n",
    "\t'Num of medium session done',\n",
    "\t'Num of hard session done',\n",
    "\t'Num of easy_1 matches done',\n",
    "\t'Num of easy_2 matches done',\n",
    "\t'Num of normal_1 matches done',\n",
    "\t'Num of normal_2 matches done',\n",
    "\t'Num of medium_1 matches done',\n",
    "\t'Num of medium_2 matches done',\n",
    "\t'Num of hard_1 matches done',\n",
    "\t'Num of hard_2 matches done',\n",
    "\t'Num of easy_1 games done',\n",
    "\t'Num of easy_2 games done',\n",
    "\t'Num of normal_1 games done',\n",
    "\t'Num of normal_2 games done',\n",
    "\t'Num of medium_1 games done',\n",
    "\t'Num of medium_2 games done',\n",
    "\t'Num of hard_1 games done',\n",
    "\t'Num of hard_2 games done',\n",
    "\t'Num of sessions with matches in SAME order of difficulty',\n",
    "\t'Num of sessions with matches in ASC order of difficulty',\n",
    "\t'Num of sessions with matches in DESC order of difficulty',\n",
    "\t'Num of sessions with matches with SAME quantity of games',\n",
    "\t'Num of sessions with matches with ASC quantity of games',\n",
    "\t'Num of sessions with matches with DESC quantity of games',\n",
    "\t'Num of matches with games in SAME order of difficulty',\n",
    "\t'Num of matches with games in ASC order of difficulty',\n",
    "\t'Num of matches with games in DESC order of difficulty',\n",
    "\t'Num of matches with games with SAME quantity of questions',\n",
    "\t'Num of matches with games with ASC quantity of questions',\n",
    "\t'Num of matches with games with DESC quantity of questions',\n",
    "\t'Num of games with questions in SAME order of difficulty',\n",
    "\t'Num of games with questions in ASC order of difficulty',\n",
    "\t'Num of games with questions in DESC order of difficulty',\n",
    "\t'Total session completed',\n",
    "\t'Total game solved',\n",
    "\t'Total questions answered',\n",
    "\t'Max num of matches in a session',\n",
    "\t'Max num of games in a match',\n",
    "\t'Max num of questions in a game',\n",
    "\t'Num of Mixed match tried',\n",
    "\t'Max score reached ',\n",
    "\t'Good result obtained',\n",
    "\t'Pefect result obtained',\n",
    "\t'Kind 1F done',\n",
    "\t'Kind 2L done',\n",
    "\t'Kind 3S done',\n",
    "\t'Kind 4P done',\n",
    "\t'Kind 5K done',\n",
    "\t'Kind 6I done',\n",
    "\t'Kind 7O done',\n",
    "\t'Kind 8Q done',\n",
    "\t'Kind 9C done',\n",
    "\t]\n"
   ]
  },
  {
   "cell_type": "code",
   "execution_count": 7,
   "metadata": {},
   "outputs": [],
   "source": [
    "cur.execute(\"DROP TABLE IF EXISTS Newtab\")\n",
    "cur.execute(\"DROP TABLE IF EXISTS Achievements\")\n",
    "cur.execute(\"DROP TABLE IF EXISTS Kids\")\n",
    "cur.execute(sql_create_newtab)\n",
    "cur.execute(sql_create_achi)\n",
    "cur.execute(sql_create_kids);"
   ]
  },
  {
   "cell_type": "code",
   "execution_count": 8,
   "metadata": {},
   "outputs": [],
   "source": [
    "cur.execute('INSERT INTO Kids (kid_id) VALUES (1)')\n",
    "cur.execute('INSERT INTO Kids (kid_id) VALUES (2)')\n",
    "cur.execute('INSERT INTO Kids (kid_id) VALUES (3)')\n",
    "cur.execute('INSERT INTO Kids (kid_id) VALUES (4)')\n",
    "con.commit()"
   ]
  },
  {
   "cell_type": "code",
   "execution_count": 9,
   "metadata": {},
   "outputs": [],
   "source": [
    "\"\"\" Instert from list \"\"\"\n",
    "for item in all_achievements:\n",
    "\tcur.execute(\"INSERT INTO Achievements VALUES (?)\", (item, ))\n",
    "con.commit()"
   ]
  },
  {
   "cell_type": "code",
   "execution_count": 10,
   "metadata": {},
   "outputs": [],
   "source": [
    "sql_insertion_achi = '''\n",
    "    UPDATE Newtab \n",
    "    SET achi = (SELECT achievement_name\n",
    "                FROM Achievements\n",
    "                WHERE rowid=?)\n",
    "    WHERE rowid = ?\n",
    "    '''\n",
    "\n",
    "# Insert last kid\n",
    "sql_insertion_achi_4 = \"INSERT INTO Newtab (kid) SELECT kid_id FROM Kids ORDER BY kid_id DESC LIMIT 1\" # WHERE kid isNull\" \n",
    "\n",
    "sql_insertion_achi_3 = \"INSERT INTO Newtab (kid) SELECT kid_id FROM Kids WHERE kid_id = 3\"\n",
    "sql_insertion_achi_2 = \"INSERT INTO Newtab (kid) SELECT kid_id FROM Kids WHERE kid_id = 2\"\n",
    "sql_insertion_achi_1 = \"INSERT INTO Newtab (kid) SELECT kid_id FROM Kids WHERE kid_id = 1\"\n"
   ]
  },
  {
   "cell_type": "code",
   "execution_count": 11,
   "metadata": {},
   "outputs": [
    {
     "name": "stdout",
     "output_type": "stream",
     "text": [
      "54\n",
      "4\n"
     ]
    }
   ],
   "source": [
    "cur.execute(\"SELECT COUNT(achievement_name) FROM Achievements\")\n",
    "num_achievements = cur.fetchone()[0]\n",
    "print(num_achievements)\n",
    "for i in range(num_achievements):\n",
    "    cur.execute(sql_insertion_achi_4)\n",
    "for i in range(num_achievements):\n",
    "    cur.execute(sql_insertion_achi_3)\n",
    "for i in range(num_achievements):\n",
    "    cur.execute(sql_insertion_achi_2)\n",
    "for i in range(num_achievements):\n",
    "    cur.execute(sql_insertion_achi_1)\n",
    "\n",
    "con.commit()\n",
    "\n",
    "cur.execute(\"SELECT COUNT(DISTINCT kid_id) FROM Kids\")\n",
    "num_users = cur.fetchone()[0]\n",
    "print(num_users)\n",
    "\n",
    "tot_achi, start_achi = 0, 0\n",
    "for user_id in range(1, num_users + 1):\n",
    "    tot_achi = (user_id-1) * num_achievements + start_achi\n",
    "    for achievement_id in range(num_achievements+1):\n",
    "        cur.execute(\"\"\"\n",
    "            UPDATE Newtab\n",
    "            SET achi = (SELECT achievement_name\n",
    "                        FROM Achievements\n",
    "                        WHERE rowid = ?)\n",
    "            WHERE rowid = ?\n",
    "            \"\"\", (achievement_id, achievement_id + tot_achi))                                                      \n",
    "\n",
    "con.commit()"
   ]
  },
  {
   "cell_type": "code",
   "execution_count": 12,
   "metadata": {},
   "outputs": [],
   "source": [
    "new_value = 'Kind 9C done'\n",
    "\n",
    "cur.execute(\"\"\"\n",
    "    UPDATE Newtab\n",
    "    SET achi = ?\n",
    "    WHERE achi IS NULL\n",
    "    \"\"\", (new_value, ))\n",
    "\n",
    "# Commit the changes to the database\n",
    "con.commit()"
   ]
  },
  {
   "cell_type": "code",
   "execution_count": 13,
   "metadata": {},
   "outputs": [],
   "source": [
    "# Set value \n",
    "sql_update_kids_achi = '''\n",
    "\tUPDATE Newtab\n",
    "\tSET achi_val = ?\n",
    "\tWHERE achi = ? AND kid = ?\n",
    "'''\n",
    "\n",
    "cur.execute(sql_update_kids_achi,(120,'Num of easy_2 games done',1,))\n",
    "cur.execute(sql_update_kids_achi,(114,'Good result obtained',1,))\n",
    "cur.execute(sql_update_kids_achi,(132,'Num of hard_2 games done',1,))\n",
    "cur.execute(sql_update_kids_achi,(112,'Num of games with questions in SAME order of difficulty',1,))\n",
    "cur.execute(sql_update_kids_achi,(100,'Num of sessions with matches in DESC order of difficulty',1,))\n",
    "cur.execute(sql_update_kids_achi,(131,'Num of Mixed match tried',1,))\n",
    "con.commit()\n",
    "cur.execute(sql_update_kids_achi,(97,'Num of normal_2 matches done',2,))\n",
    "cur.execute(sql_update_kids_achi,(87,'Good result obtained',2,))\n",
    "cur.execute(sql_update_kids_achi,(128,'Max num of matches in a session',2,))\n",
    "cur.execute(sql_update_kids_achi,(109,'Num of Mixed match tried',2,))\n",
    "cur.execute(sql_update_kids_achi,(103,'Total session completed',2,))\n",
    "cur.execute(sql_update_kids_achi,(100,'Num of Mixed match tried',2,))\n",
    "con.commit()\n",
    "cur.execute(sql_update_kids_achi,(130,'Kind 6I done',3,))\n",
    "cur.execute(sql_update_kids_achi,(119,'Max score reached',3,))\n",
    "cur.execute(sql_update_kids_achi,(108,'Num of hard_2 games done',3,))\n",
    "cur.execute(sql_update_kids_achi,(82,'Num of Mixed match tried',3,))\n",
    "cur.execute(sql_update_kids_achi,(94,'Kind 2L done',3,))\n",
    "cur.execute(sql_update_kids_achi,(111,'Num of Mixed match tried',3,))\n",
    "con.commit()\n",
    "cur.execute(sql_update_kids_achi,(120,'Num of normal_2 matches done',4,))\n",
    "cur.execute(sql_update_kids_achi,(113,'Good result obtained',4,))\n",
    "cur.execute(sql_update_kids_achi,(122,'Num of hard_2 games done',4,))\n",
    "cur.execute(sql_update_kids_achi,(99,'Num of Mixed match tried',4,))\n",
    "cur.execute(sql_update_kids_achi,(83,'Total session completed',4,))\n",
    "cur.execute(sql_update_kids_achi,(88,'Num of Mixed match tried',4,))"
   ]
  },
  {
   "cell_type": "code",
   "execution_count": null,
   "metadata": {},
   "outputs": [],
   "source": [
    "cur.execute('''CREATE TABLE IF NOT EXISTS ScoresTotalTypeOfGame AS \n",
    "\t\tSELECT kid, achi, SUM(achi_val) as tot_answers_type\n",
    "\t\tFROM Newtab\n",
    "        GROUP BY kid''')\n",
    "\n",
    "#cur.execute(\"DROP TABLE IF EXISTS Newtab\")\n",
    "\n",
    "con.commit()"
   ]
  },
  {
   "cell_type": "code",
   "execution_count": 14,
   "metadata": {},
   "outputs": [
    {
     "name": "stdout",
     "output_type": "stream",
     "text": [
      "   kid_id\n",
      "0       1\n",
      "1       2\n",
      "2       3\n",
      "3       4\n",
      "\n",
      "             achievement_name\n",
      "0    Num of easy session done\n",
      "1  Num of normal session done\n",
      "2  Num of medium session done\n",
      "3    Num of hard session done\n",
      "4  Num of easy_1 matches done\n",
      "\n",
      "   kid                      achi  tot_answers_type\n",
      "0    1  Num of easy session done               709\n",
      "1    2  Num of easy session done               515\n",
      "2    3  Num of easy session done               443\n",
      "3    4  Num of easy session done               526\n",
      "\n",
      "   kid                        achi  achi_val\n",
      "0    4    Num of easy session done       NaN\n",
      "1    4  Num of normal session done       NaN\n",
      "2    4  Num of medium session done       NaN\n",
      "3    4    Num of hard session done       NaN\n",
      "4    4  Num of easy_1 matches done       NaN\n"
     ]
    }
   ],
   "source": [
    "sql_get1 = 'SELECT * FROM Kids'\n",
    "sql_get2 = 'SELECT * FROM Achievements'\n",
    "sql_get3 = 'SELECT * FROM ScoresTotalTypeOfGame'\n",
    "sql_get4 = 'SELECT * FROM Newtab'\n",
    "\n",
    "# Use pandas to read the data from the database into a DataFrame\n",
    "df1 = pd.read_sql_query(sql_get1, con)\n",
    "df2 = pd.read_sql_query(sql_get2, con)\n",
    "df3 = pd.read_sql_query(sql_get3, con)\n",
    "df4 = pd.read_sql_query(sql_get4, con)\n",
    "\n",
    "print(df1.head())\n",
    "print()\n",
    "print(df2.head())\n",
    "print()\n",
    "print(df3.head())\n",
    "print()\n",
    "print(df4.head())"
   ]
  },
  {
   "attachments": {},
   "cell_type": "markdown",
   "metadata": {},
   "source": [
    "<h2 style=\"color:darkkhaki\"> <u>Example 2 </u></h2>"
   ]
  },
  {
   "cell_type": "code",
   "execution_count": 15,
   "metadata": {},
   "outputs": [
    {
     "data": {
      "text/plain": [
       "<sqlite3.Cursor at 0x7fe767ace840>"
      ]
     },
     "execution_count": 15,
     "metadata": {},
     "output_type": "execute_result"
    }
   ],
   "source": [
    "conn = sqlite3.connect('./databases_used_in_examples/anime_for_bacis1.db')\n",
    "cursor = conn.cursor()\n",
    "\n",
    "cursor.execute('''\n",
    "    CREATE TABLE IF NOT EXISTS characters (\n",
    "        id INTEGER PRIMARY KEY,\n",
    "        name TEXT,\n",
    "        anime TEXT\n",
    "    )\n",
    "''')\n",
    "cursor.execute('''\n",
    "    CREATE TABLE IF NOT EXISTS abilities (\n",
    "        id INTEGER PRIMARY KEY,\n",
    "        ability_name TEXT,\n",
    "        character_id INTEGER,\n",
    "        FOREIGN KEY (character_id) REFERENCES characters(id)\n",
    "    )\n",
    "''')\n"
   ]
  },
  {
   "cell_type": "code",
   "execution_count": 16,
   "metadata": {},
   "outputs": [],
   "source": [
    "############################### Insertions\n",
    "characters_data = [\n",
    "    ('Naruto Uzumaki', 'Naruto'),\n",
    "    ('Goku', 'Dragon Ball'),\n",
    "    ('Monkey D. Luffy', 'One Piece'),\n",
    "    ('Ichigo Kurosaki', 'Bleach')\n",
    "]\n",
    "abilities_data = [\n",
    "    ('Rasengan', 1),\n",
    "    ('Kamehameha', 2),\n",
    "    ('Gomu Gomu no Rocket', 3),\n",
    "    ('Getsuga Tensho', 4),\n",
    "    ('Bankai', 4)\n",
    "]\n",
    "\n",
    "cursor.executemany('INSERT INTO characters (name, anime) VALUES (?, ?)', characters_data)\n",
    "\n",
    "cursor.executemany('INSERT INTO abilities (ability_name, character_id) VALUES (?, ?)', abilities_data)\n",
    "\n",
    "conn.commit()"
   ]
  },
  {
   "cell_type": "markdown",
   "metadata": {},
   "source": [
    "### => Join"
   ]
  },
  {
   "cell_type": "code",
   "execution_count": 17,
   "metadata": {},
   "outputs": [
    {
     "name": "stdout",
     "output_type": "stream",
     "text": [
      "INNER JOIN:\n",
      "[('Naruto Uzumaki', 'Naruto', 'Rasengan'), ('Goku', 'Dragon Ball', 'Kamehameha'), ('Monkey D. Luffy', 'One Piece', 'Gomu Gomu no Rocket'), ('Ichigo Kurosaki', 'Bleach', 'Getsuga Tensho'), ('Ichigo Kurosaki', 'Bleach', 'Bankai')]\n",
      "\n",
      "LEFT JOIN:\n",
      "[('Naruto Uzumaki', 'Naruto', 'Rasengan'), ('Goku', 'Dragon Ball', 'Kamehameha'), ('Monkey D. Luffy', 'One Piece', 'Gomu Gomu no Rocket'), ('Ichigo Kurosaki', 'Bleach', 'Bankai'), ('Ichigo Kurosaki', 'Bleach', 'Getsuga Tensho')]\n",
      "\n",
      "RIGHT JOIN:\n",
      "[('Naruto Uzumaki', 'Naruto', 'Rasengan'), ('Goku', 'Dragon Ball', 'Kamehameha'), ('Monkey D. Luffy', 'One Piece', 'Gomu Gomu no Rocket'), ('Ichigo Kurosaki', 'Bleach', 'Getsuga Tensho'), ('Ichigo Kurosaki', 'Bleach', 'Bankai')]\n",
      "\n",
      "FULL JOIN:\n",
      "[('Naruto Uzumaki', 'Naruto', 'Rasengan'), ('Goku', 'Dragon Ball', 'Kamehameha'), ('Monkey D. Luffy', 'One Piece', 'Gomu Gomu no Rocket'), ('Ichigo Kurosaki', 'Bleach', 'Getsuga Tensho'), ('Ichigo Kurosaki', 'Bleach', 'Bankai')]\n"
     ]
    }
   ],
   "source": [
    "# INNER JOIN\n",
    "cursor.execute('''\n",
    "    SELECT characters.name, characters.anime, abilities.ability_name\n",
    "    FROM characters\n",
    "    INNER JOIN abilities ON characters.id = abilities.character_id\n",
    "''')\n",
    "inner_join_result = cursor.fetchall()\n",
    "\n",
    "# LEFT JOIN\n",
    "cursor.execute('''\n",
    "    SELECT characters.name, characters.anime, abilities.ability_name\n",
    "    FROM characters\n",
    "    LEFT JOIN abilities ON characters.id = abilities.character_id\n",
    "''')\n",
    "left_join_result = cursor.fetchall()\n",
    "\n",
    "# RIGHT JOIN\n",
    "cursor.execute('''\n",
    "    SELECT characters.name, characters.anime, abilities.ability_name\n",
    "    FROM characters\n",
    "    RIGHT JOIN abilities ON characters.id = abilities.character_id\n",
    "''')\n",
    "right_join_result = cursor.fetchall()\n",
    "\n",
    "# FULL JOIN\n",
    "cursor.execute('''\n",
    "    SELECT characters.name, characters.anime, abilities.ability_name\n",
    "    FROM characters\n",
    "    FULL JOIN abilities ON characters.id = abilities.character_id\n",
    "''')\n",
    "full_join_result = cursororor.fetchall()\n",
    "\n",
    "print(\"INNER JOIN:\")\n",
    "print(inner_join_result)\n",
    "print(\"\\nLEFT JOIN:\")\n",
    "print(left_join_result)\n",
    "print(\"\\nRIGHT JOIN:\")\n",
    "print(right_join_result)\n",
    "print(\"\\nFULL JOIN:\")\n",
    "print(full_join_result)\n",
    "\n"
   ]
  },
  {
   "cell_type": "code",
   "execution_count": 18,
   "metadata": {},
   "outputs": [
    {
     "data": {
      "text/plain": [
       "<sqlite3.Cursor at 0x7fe767ace1c0>"
      ]
     },
     "execution_count": 18,
     "metadata": {},
     "output_type": "execute_result"
    }
   ],
   "source": [
    "\"\"\" Triggers  \"\"\" \n",
    "\n",
    "conn.close()\n",
    "conn = sqlite3.connect('./anime_for_bacis1.db')\n",
    "cursor = conn.cursor()\n",
    "\n",
    "# character_stats table\n",
    "cursor.execute('''\n",
    "    CREATE TABLE IF NOT EXISTS character_stats (\n",
    "        id INTEGER PRIMARY KEY,\n",
    "        character_id INTEGER,\n",
    "        strength INTEGER,\n",
    "        speed INTEGER,\n",
    "        intelligence INTEGER,\n",
    "        FOREIGN KEY (character_id) REFERENCES characters(id)\n",
    "    )\n",
    "''')"
   ]
  },
  {
   "cell_type": "code",
   "execution_count": 19,
   "metadata": {},
   "outputs": [
    {
     "name": "stdout",
     "output_type": "stream",
     "text": [
      "skipping\n"
     ]
    }
   ],
   "source": [
    "%%script echo skipping\n",
    "######## Update character_stats after insertions OR updates in characters\n",
    "def update_character_stats(trigger_operation, character_id):\n",
    "    cursor.execute(''' SELECT SUM(strength), SUM(speed), SUM(intelligence)\n",
    "        FROM abilities\n",
    "        WHERE character_id = ?\n",
    "    ''', (character_id,))\n",
    "    total_abilities = cursor.fetchone()\n",
    "\n",
    "    cursor.execute('''\n",
    "        INSERT OR REPLACE INTO character_stats (character_id, strength, speed, intelligence)\n",
    "        VALUES (?, ?, ?, ?)\n",
    "    ''', (character_id, total_abilities[0], total_abilities[1], total_abilities[2]))\n",
    "################################### Update character_stats after insertions and after updates (cannot be done together with OR and does not work with method!!) \n",
    "cursor.execute('''\n",
    "    CREATE TRIGGER update_character_stats_insert_trigger\n",
    "    AFTER INSERT ON characters\n",
    "    FOR EACH ROW\n",
    "    BEGIN\n",
    "        SELECT CASE\n",
    "            WHEN NEW.id IS NOT NULL THEN update_character_stats('INSERT', NEW.id)\n",
    "            ELSE NULL\n",
    "        END;\n",
    "    END;\n",
    "''')\n",
    "\n",
    "cursor.execute('''\n",
    "    CREATE TRIGGER update_character_stats_update_trigger\n",
    "    AFTER UPDATE ON characters\n",
    "    FOR EACH ROW\n",
    "    BEGIN\n",
    "        SELECT CASE\n",
    "            WHEN NEW.id IS NOT NULL THEN update_character_stats('UPDATE', NEW.id)\n",
    "            ELSE NULL\n",
    "        END;\n",
    "    END;\n",
    "''')\n",
    "\n",
    "conn.commit()"
   ]
  },
  {
   "cell_type": "code",
   "execution_count": 20,
   "metadata": {},
   "outputs": [
    {
     "name": "stdout",
     "output_type": "stream",
     "text": [
      "skipping\n"
     ]
    }
   ],
   "source": [
    "%%script echo skipping\n",
    "\"\"\" SQLite doesn't support declaring variables inside triggers. Instead, we can directly use subqueries to fetch the required data. \"\"\"\n",
    "# Drop the previous trigger (if it exists) to avoid conflicts during testing\n",
    "cursor.execute(''' DROP TRIGGER IF EXISTS update_character_stats_insert_trigger ''')\n",
    "# -- Calculate total abilities\n",
    "# -- Update character_stats\n",
    "# Create the trigger without calling the function\n",
    "\n",
    "cursor.execute('''\n",
    "    CREATE TRIGGER update_character_stats_insert_trigger\n",
    "    AFTER INSERT ON characters\n",
    "    FOR EACH ROW\n",
    "    BEGIN\n",
    "        \n",
    "        DECLARE total_strength INTEGER;\n",
    "        DECLARE total_speed INTEGER;\n",
    "        DECLARE total_intelligence INTEGER;\n",
    "        \n",
    "        SELECT SUM(strength), SUM(speed), SUM(intelligence)\n",
    "        INTO total_strength, total_speed, total_intelligence\n",
    "        FROM abilities\n",
    "        WHERE character_id = NEW.id;\n",
    "\n",
    "        INSERT OR REPLACE INTO character_stats (character_id, strength, speed, intelligence)\n",
    "        VALUES (NEW.id, total_strength, total_speed, total_intelligence);\n",
    "    END;\n",
    "''')"
   ]
  },
  {
   "cell_type": "code",
   "execution_count": 21,
   "metadata": {},
   "outputs": [
    {
     "data": {
      "text/plain": [
       "<sqlite3.Cursor at 0x7fe767ace1c0>"
      ]
     },
     "execution_count": 21,
     "metadata": {},
     "output_type": "execute_result"
    }
   ],
   "source": [
    "# Drop the previous triggers (if they exist) to avoid conflicts during testing\n",
    "cursor.execute(''' DROP TRIGGER IF EXISTS update_character_stats_insert_trigger ''')\n",
    "cursor.execute(''' DROP TRIGGER IF EXISTS update_character_stats_update_trigger ''')\n",
    "\n",
    "# Create the triggers for INSERT and UPDATE operations\n",
    "cursor.execute('''\n",
    "    CREATE TRIGGER IF NOT EXISTS update_character_stats_insert_trigger\n",
    "    AFTER INSERT ON characters\n",
    "    FOR EACH ROW\n",
    "    BEGIN\n",
    "        INSERT INTO character_stats (character_id, strength, speed, intelligence)\n",
    "        SELECT NEW.id,\n",
    "            SUM(CASE WHEN ability_name = 'Rasengan' THEN 1 ELSE 0 END) as strength,\n",
    "            SUM(CASE WHEN ability_name = 'Kamehameha' THEN 1 ELSE 0 END) as speed,\n",
    "            SUM(CASE WHEN ability_name = 'Gomu Gomu no Rocket' THEN 1 ELSE 0 END) as intelligence\n",
    "        FROM abilities\n",
    "        WHERE character_id = NEW.id;\n",
    "    END;\n",
    "''')\n",
    "\n",
    "cursor.execute('''\n",
    "    CREATE TRIGGER IF NOT EXISTS update_character_stats_update_trigger\n",
    "    AFTER UPDATE ON characters\n",
    "    FOR EACH ROW\n",
    "    BEGIN\n",
    "        INSERT INTO character_stats (character_id, strength, speed, intelligence)\n",
    "        SELECT NEW.id,\n",
    "            SUM(CASE WHEN ability_name in ('Getsuga Tensho', 'Rasengan')  THEN 1 ELSE 0 END) as strength,\n",
    "            SUM(CASE WHEN ability_name = 'Kamehameha' THEN 1 ELSE 0 END) as speed,\n",
    "            SUM(CASE WHEN ability_name in ('Bankai', 'Gomu Gomu no Rocket') THEN 1 ELSE 0 END) as intelligence\n",
    "        FROM abilities\n",
    "        WHERE character_id = NEW.id;\n",
    "    END;\n",
    "''')"
   ]
  },
  {
   "cell_type": "code",
   "execution_count": 22,
   "metadata": {},
   "outputs": [],
   "source": [
    "cursor.execute('''\n",
    "    INSERT INTO characters (name) VALUES (?)\n",
    "''', ('Saitama',)) #remember the comma! \n",
    "\n",
    "conn.commit()\n",
    "\n",
    "cursor.execute('''\n",
    "    UPDATE characters\n",
    "    SET anime = ?\n",
    "    WHERE name = ?\n",
    "''', ('OnePuch Man', 'Saitama'))\n",
    "\n",
    "# Commit the update to trigger the second update\n",
    "conn.commit()"
   ]
  },
  {
   "cell_type": "code",
   "execution_count": 23,
   "metadata": {},
   "outputs": [
    {
     "name": "stdout",
     "output_type": "stream",
     "text": [
      "   id  character_id strength speed intelligence\n",
      "0   1             5     None  None         None\n",
      "1   2             5     None  None         None\n",
      "\n"
     ]
    }
   ],
   "source": [
    "sql_get = 'SELECT * FROM character_stats'\n",
    "\n",
    "# Use pandas to read the data from the database into a DataFrame\n",
    "df = pd.read_sql_query(sql_get, conn)\n",
    "\n",
    "print(df.head())\n",
    "print()"
   ]
  },
  {
   "cell_type": "code",
   "execution_count": 24,
   "metadata": {},
   "outputs": [
    {
     "data": {
      "text/plain": [
       "<sqlite3.Cursor at 0x7fe767ace1c0>"
      ]
     },
     "execution_count": 24,
     "metadata": {},
     "output_type": "execute_result"
    }
   ],
   "source": [
    "\"\"\" alter... in SQLite cannot do all together \"\"\"\n",
    "cursor.execute('''\n",
    "    ALTER TABLE character_stats\n",
    "    ADD COLUMN stamina INTEGER\n",
    "''')\n",
    "\n",
    "cursor.execute('''\n",
    "    ALTER TABLE character_stats\n",
    "    ADD COLUMN agility INTEGER\n",
    "''')\n",
    "\n",
    "cursor.execute('''\n",
    "    ALTER TABLE character_stats\n",
    "    ADD COLUMN wisdom INTEGER\n",
    "''')\n",
    "\n",
    "cursor.execute('''\n",
    "    ALTER TABLE character_stats\n",
    "    ADD COLUMN luck INTEGER\n",
    "''')\n"
   ]
  },
  {
   "cell_type": "code",
   "execution_count": 25,
   "metadata": {},
   "outputs": [
    {
     "data": {
      "text/plain": [
       "<sqlite3.Cursor at 0x7fe767ace1c0>"
      ]
     },
     "execution_count": 25,
     "metadata": {},
     "output_type": "execute_result"
    }
   ],
   "source": [
    "cursor.executemany('''\n",
    "    INSERT OR IGNORE INTO character_stats (character_id, strength, speed, intelligence, stamina, agility, wisdom, luck)\n",
    "    VALUES (?, ?, ?, ?, ?, ?, ?, ?)\n",
    "''', [\n",
    "    (1, 5, None, None, 8, 4, 2, 3),\n",
    "    (2, 5, None, None, 6, 7, 5, 4),\n",
    "    (3, None, None, None, 6, 9, 6, 5),\n",
    "    (4, None, None, None, 7, 5, 7, 6),\n",
    "    (5, None, None, None, 10, 10, 10, 10)  \n",
    "])"
   ]
  },
  {
   "cell_type": "code",
   "execution_count": 26,
   "metadata": {},
   "outputs": [
    {
     "name": "stdout",
     "output_type": "stream",
     "text": [
      "(0, 'id', 'INTEGER', 0, None, 1)\n",
      "(1, 'character_id', 'INTEGER', 0, None, 0)\n",
      "(2, 'strength', 'INTEGER', 0, None, 0)\n",
      "(3, 'speed', 'INTEGER', 0, None, 0)\n",
      "(4, 'intelligence', 'INTEGER', 0, None, 0)\n",
      "(5, 'stamina', 'INTEGER', 0, None, 0)\n",
      "(6, 'agility', 'INTEGER', 0, None, 0)\n",
      "(7, 'wisdom', 'INTEGER', 0, None, 0)\n",
      "(8, 'luck', 'INTEGER', 0, None, 0)\n"
     ]
    }
   ],
   "source": [
    "#PRAGMA table_info statement\n",
    "table_name = 'character_stats'\n",
    "cursor.execute(f\"PRAGMA table_info({table_name})\")\n",
    "\n",
    "# Fetch all rows from the result\n",
    "columns_info = cursor.fetchall()\n",
    "\n",
    "for column in columns_info:\n",
    "    print(column)"
   ]
  },
  {
   "cell_type": "code",
   "execution_count": 27,
   "metadata": {},
   "outputs": [],
   "source": [
    "# Update \n",
    "cursor.execute('''\n",
    "    UPDATE character_stats\n",
    "    SET stamina = 90, agility = 75, wisdom = 85, luck = 70\n",
    "    WHERE character_id = 1\n",
    "''')\n",
    "conn.commit()"
   ]
  },
  {
   "cell_type": "code",
   "execution_count": 28,
   "metadata": {},
   "outputs": [
    {
     "data": {
      "text/html": [
       "<div>\n",
       "<style scoped>\n",
       "    .dataframe tbody tr th:only-of-type {\n",
       "        vertical-align: middle;\n",
       "    }\n",
       "\n",
       "    .dataframe tbody tr th {\n",
       "        vertical-align: top;\n",
       "    }\n",
       "\n",
       "    .dataframe thead th {\n",
       "        text-align: right;\n",
       "    }\n",
       "</style>\n",
       "<table border=\"1\" class=\"dataframe\">\n",
       "  <thead>\n",
       "    <tr style=\"text-align: right;\">\n",
       "      <th></th>\n",
       "      <th>id</th>\n",
       "      <th>character_id</th>\n",
       "      <th>strength</th>\n",
       "      <th>speed</th>\n",
       "      <th>intelligence</th>\n",
       "      <th>stamina</th>\n",
       "      <th>agility</th>\n",
       "      <th>wisdom</th>\n",
       "      <th>luck</th>\n",
       "    </tr>\n",
       "  </thead>\n",
       "  <tbody>\n",
       "    <tr>\n",
       "      <th>0</th>\n",
       "      <td>1</td>\n",
       "      <td>5</td>\n",
       "      <td>NaN</td>\n",
       "      <td>None</td>\n",
       "      <td>None</td>\n",
       "      <td>NaN</td>\n",
       "      <td>NaN</td>\n",
       "      <td>NaN</td>\n",
       "      <td>NaN</td>\n",
       "    </tr>\n",
       "    <tr>\n",
       "      <th>1</th>\n",
       "      <td>2</td>\n",
       "      <td>5</td>\n",
       "      <td>NaN</td>\n",
       "      <td>None</td>\n",
       "      <td>None</td>\n",
       "      <td>NaN</td>\n",
       "      <td>NaN</td>\n",
       "      <td>NaN</td>\n",
       "      <td>NaN</td>\n",
       "    </tr>\n",
       "    <tr>\n",
       "      <th>2</th>\n",
       "      <td>3</td>\n",
       "      <td>1</td>\n",
       "      <td>5.0</td>\n",
       "      <td>None</td>\n",
       "      <td>None</td>\n",
       "      <td>90.0</td>\n",
       "      <td>75.0</td>\n",
       "      <td>85.0</td>\n",
       "      <td>70.0</td>\n",
       "    </tr>\n",
       "    <tr>\n",
       "      <th>3</th>\n",
       "      <td>4</td>\n",
       "      <td>2</td>\n",
       "      <td>5.0</td>\n",
       "      <td>None</td>\n",
       "      <td>None</td>\n",
       "      <td>6.0</td>\n",
       "      <td>7.0</td>\n",
       "      <td>5.0</td>\n",
       "      <td>4.0</td>\n",
       "    </tr>\n",
       "    <tr>\n",
       "      <th>4</th>\n",
       "      <td>5</td>\n",
       "      <td>3</td>\n",
       "      <td>NaN</td>\n",
       "      <td>None</td>\n",
       "      <td>None</td>\n",
       "      <td>6.0</td>\n",
       "      <td>9.0</td>\n",
       "      <td>6.0</td>\n",
       "      <td>5.0</td>\n",
       "    </tr>\n",
       "  </tbody>\n",
       "</table>\n",
       "</div>"
      ],
      "text/plain": [
       "   id  character_id  strength speed intelligence  stamina  agility  wisdom  \\\n",
       "0   1             5       NaN  None         None      NaN      NaN     NaN   \n",
       "1   2             5       NaN  None         None      NaN      NaN     NaN   \n",
       "2   3             1       5.0  None         None     90.0     75.0    85.0   \n",
       "3   4             2       5.0  None         None      6.0      7.0     5.0   \n",
       "4   5             3       NaN  None         None      6.0      9.0     6.0   \n",
       "\n",
       "   luck  \n",
       "0   NaN  \n",
       "1   NaN  \n",
       "2  70.0  \n",
       "3   4.0  \n",
       "4   5.0  "
      ]
     },
     "execution_count": 28,
     "metadata": {},
     "output_type": "execute_result"
    }
   ],
   "source": [
    "sql_get = 'SELECT * FROM character_stats'\n",
    "df = pd.read_sql_query(sql_get, conn)\n",
    "df.head()"
   ]
  },
  {
   "cell_type": "code",
   "execution_count": 29,
   "metadata": {},
   "outputs": [],
   "source": [
    "\"\"\" Delete data consistency \"\"\"\n",
    "\n",
    "# sql_tri_del_1 = \"CREATE TRIGGER IF NOT EXISTS delete_abilities_trigger \\\n",
    "#     AFTER DELETE ON characters \\\n",
    "#     FOR EACH ROW \\\n",
    "#     BEGIN \\\n",
    "#         DELETE FROM abilities WHERE id = OLD.id; \\\n",
    "#     END;\"\n",
    "\n",
    "sql_tri_del_1 = '''CREATE TRIGGER IF NOT EXISTS delete_abilities_trigger\n",
    "    AFTER DELETE ON characters \n",
    "    FOR EACH ROW \n",
    "    BEGIN \n",
    "        DELETE FROM abilities WHERE id = OLD.id;\n",
    "    END;''' \n",
    "\n",
    "\n",
    "\n",
    "\n",
    "sql_tri_del_2 = \"CREATE TRIGGER IF NOT EXISTS delete_character_stats_trigger \\\n",
    "    AFTER DELETE ON characters \\\n",
    "    FOR EACH ROW \\\n",
    "    BEGIN \\\n",
    "        DELETE FROM character_stats WHERE character_id = OLD.id; \\\n",
    "    END;\"\n",
    "\n",
    "cursor.execute(sql_tri_del_1)\n",
    "cursor.execute(sql_tri_del_2)\n",
    "\n",
    "cursor.execute('''\n",
    "    DELETE FROM characters\n",
    "    WHERE id = 3''')\n",
    "\n",
    "conn.commit()"
   ]
  },
  {
   "cell_type": "code",
   "execution_count": 37,
   "metadata": {},
   "outputs": [],
   "source": [
    "def generate_random_intelligence():\n",
    "    return random.randint(1, 100)\n",
    "\n",
    "### Update with random intelligence values\n",
    "cursor.execute('''\n",
    "    UPDATE character_stats\n",
    "    SET intelligence = ?''', (generate_random_intelligence(),))\n",
    "\n",
    "conn.commit()"
   ]
  },
  {
   "cell_type": "code",
   "execution_count": 39,
   "metadata": {},
   "outputs": [],
   "source": [
    "cursor.execute('''\n",
    "    UPDATE character_stats\n",
    "    SET speed = CASE\n",
    "        WHEN strength >= 10 THEN 50\n",
    "        WHEN strength >= 5 THEN 30\n",
    "        ELSE 10\n",
    "    END\n",
    "''')\n",
    "conn.commit()"
   ]
  },
  {
   "cell_type": "code",
   "execution_count": 40,
   "metadata": {},
   "outputs": [
    {
     "data": {
      "text/plain": [
       "[(1, 'Naruto Uzumaki', 'Naruto', 3, 1, 5, 30, 35, 90, 75, 85, 70),\n",
       " (2, 'Goku', 'Dragon Ball', 4, 2, 5, 30, 35, 6, 7, 5, 4)]"
      ]
     },
     "execution_count": 40,
     "metadata": {},
     "output_type": "execute_result"
    }
   ],
   "source": [
    "cursor.execute('''\n",
    "    SELECT *\n",
    "    FROM characters\n",
    "    LEFT JOIN character_stats ON characters.id = character_stats.character_id\n",
    "    WHERE character_stats.strength IS NOT NULL \n",
    "    AND character_stats.speed IS NOT NULL \n",
    "    AND character_stats.intelligence IS NOT NULL \n",
    "    AND character_stats.stamina IS NOT NULL \n",
    "    AND character_stats.agility IS NOT NULL \n",
    "    AND character_stats.wisdom IS NOT NULL \n",
    "    AND character_stats.luck IS NOT NULL \n",
    "''')\n",
    "chars = cursor.fetchall()\n",
    "chars"
   ]
  },
  {
   "cell_type": "code",
   "execution_count": 45,
   "metadata": {},
   "outputs": [],
   "source": [
    "new_character_id = 5\n",
    "ability_id = 5\n",
    "cursor.execute('''UPDATE abilities\n",
    "                SET character_id = ?\n",
    "                WHERE id = ?''', (new_character_id, ability_id))\n",
    "conn.commit()"
   ]
  },
  {
   "cell_type": "code",
   "execution_count": 48,
   "metadata": {},
   "outputs": [
    {
     "name": "stdout",
     "output_type": "stream",
     "text": [
      "[('Rasengan',), ('Kamehameha',), ('Getsuga Tensho',), ('Bankai',)]\n",
      "['R', 'K', 'G', 'B']\n"
     ]
    }
   ],
   "source": [
    "character_id = 5\n",
    "\n",
    "# Retrieve the list of ability_names for the given character_id from abilities table\n",
    "cursor.execute(\"SELECT ability_name FROM abilities\")\n",
    "abilities = cursor.fetchall()\n",
    "link = [item[0] for sublist in abilities for item in sublist]\n",
    "print(abilities)\n",
    "print(link)"
   ]
  },
  {
   "cell_type": "code",
   "execution_count": 49,
   "metadata": {},
   "outputs": [],
   "source": [
    "# Update character_stats\n",
    "curr_strength = 5\n",
    "curr_speed = 10  \n",
    "curr_intelligence = 8  \n",
    "curr_stamina = 15  \n",
    "curr_agility = 7  \n",
    "curr_wisdom = 9  \n",
    "curr_luck = 3  \n",
    "\n",
    "cursor.execute('''UPDATE character_stats \n",
    "                SET strength = ?, speed = ?, intelligence = ?, stamina = ?, agility = ?, wisdom = ?, luck = ?\n",
    "                WHERE character_id = ?''',\n",
    "            (curr_strength, curr_speed, curr_intelligence, curr_stamina, curr_agility, curr_wisdom, curr_luck, character_id))\n",
    "conn.commit()"
   ]
  },
  {
   "cell_type": "code",
   "execution_count": 53,
   "metadata": {},
   "outputs": [
    {
     "name": "stdout",
     "output_type": "stream",
     "text": [
      "ret_2 [('Bankai',)]\n",
      "result_2 ['Bankai']\n",
      "ret_1 [('Bankai',)]\n",
      "result_1 ['Bankai']\n",
      "there is not!\n"
     ]
    }
   ],
   "source": [
    "\"\"\" Find a random ability_name for the given character_id that is not in the character_stats table. \"\"\"\n",
    "\n",
    "redo = 0\n",
    "while redo == 0:\n",
    "    cursor.execute('''SELECT DISTINCT ability_name\n",
    "                    FROM abilities\n",
    "                    WHERE character_id = ?\n",
    "                    ORDER BY RANDOM()\n",
    "                    LIMIT 1''', (character_id,))\n",
    "    ret_2 = cursor.fetchall()\n",
    "    result_2 = [item for sublist in ret_2 for item in sublist]\n",
    "\n",
    "    print(\"ret_2\", ret_2)\n",
    "    print(\"result_2\", result_2)\n",
    "\n",
    "    cursor.execute('''SELECT ability_name\n",
    "                    FROM abilities \n",
    "                    WHERE character_id = ?''', (character_id,))\n",
    "    ret_1 = cursor.fetchall()\n",
    "    print(\"ret_1\", ret_1)\n",
    "    result_1 = [item for sublist in ret_1 for item in sublist]\n",
    "    print(\"result_1\", result_1)\n",
    "\n",
    "    if result_2 not in result_1:\n",
    "        redo = 1\n",
    "\n",
    "    ree = \"Rasengan\"  \n",
    "    if ree not in result_1:\n",
    "        print(\"there is not!\")\n",
    "    else:\n",
    "        print(\"here it is!\")\n",
    "\n",
    "conn.close()"
   ]
  }
 ],
 "metadata": {
  "kernelspec": {
   "display_name": "MLearning",
   "language": "python",
   "name": "python3"
  },
  "language_info": {
   "codemirror_mode": {
    "name": "ipython",
    "version": 3
   },
   "file_extension": ".py",
   "mimetype": "text/x-python",
   "name": "python",
   "nbconvert_exporter": "python",
   "pygments_lexer": "ipython3",
   "version": "3.10.9"
  },
  "orig_nbformat": 4
 },
 "nbformat": 4,
 "nbformat_minor": 2
}
