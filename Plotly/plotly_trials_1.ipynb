{
 "cells": [
  {
   "attachments": {},
   "cell_type": "markdown",
   "metadata": {},
   "source": [
    "<h1 style=\"color:darkolivegreen\"> Plotly examples 1  </h1>\n"
   ]
  },
  {
   "cell_type": "code",
   "execution_count": 64,
   "metadata": {},
   "outputs": [],
   "source": [
    "import math \n",
    "import scipy\n",
    "import peakutils\n",
    "import numpy as np\n",
    "import pandas as pd\n",
    "import numpy as np\n",
    "import matplotlib.pyplot as plt\n",
    "from copy import copy\n",
    "#import cufflinks as cf\n",
    "\n",
    "#import plotly.plotly as py   #deprecated! --> chartstudio\n",
    "import chart_studio\n",
    "#chart_studio.plotly.set_credentials_file(username='PlotGia', api_key='uZpccCDpCT6s8Vvp6KPD')\n",
    "\n",
    "import plotly\n",
    "import plotly.express as px\n",
    "import plotly.graph_objs as go\n",
    "from plotly.tools import FigureFactory as FF\n",
    "from plotly import __version__\n",
    "from plotly.offline import download_plotlyjs, init_notebook_mode, plot, iplot\n",
    "from plotly.offline import init_notebook_mode"
   ]
  },
  {
   "cell_type": "code",
   "execution_count": 34,
   "metadata": {},
   "outputs": [
    {
     "data": {
      "text/html": [
       "        <script type=\"text/javascript\">\n",
       "        window.PlotlyConfig = {MathJaxConfig: 'local'};\n",
       "        if (window.MathJax && window.MathJax.Hub && window.MathJax.Hub.Config) {window.MathJax.Hub.Config({SVG: {font: \"STIX-Web\"}});}\n",
       "        if (typeof require !== 'undefined') {\n",
       "        require.undef(\"plotly\");\n",
       "        requirejs.config({\n",
       "            paths: {\n",
       "                'plotly': ['https://cdn.plot.ly/plotly-2.12.1.min']\n",
       "            }\n",
       "        });\n",
       "        require(['plotly'], function(Plotly) {\n",
       "            window._Plotly = Plotly;\n",
       "        });\n",
       "        }\n",
       "        </script>\n",
       "        "
      ]
     },
     "metadata": {},
     "output_type": "display_data"
    },
    {
     "data": {
      "text/html": [
       "<div>\n",
       "<style scoped>\n",
       "    .dataframe tbody tr th:only-of-type {\n",
       "        vertical-align: middle;\n",
       "    }\n",
       "\n",
       "    .dataframe tbody tr th {\n",
       "        vertical-align: top;\n",
       "    }\n",
       "\n",
       "    .dataframe thead th {\n",
       "        text-align: right;\n",
       "    }\n",
       "</style>\n",
       "<table border=\"1\" class=\"dataframe\">\n",
       "  <thead>\n",
       "    <tr style=\"text-align: right;\">\n",
       "      <th></th>\n",
       "      <th>100</th>\n",
       "      <th>0.0348</th>\n",
       "    </tr>\n",
       "  </thead>\n",
       "  <tbody>\n",
       "    <tr>\n",
       "      <th>0</th>\n",
       "      <td>200</td>\n",
       "      <td>0.0299</td>\n",
       "    </tr>\n",
       "    <tr>\n",
       "      <th>1</th>\n",
       "      <td>500</td>\n",
       "      <td>0.0332</td>\n",
       "    </tr>\n",
       "    <tr>\n",
       "      <th>2</th>\n",
       "      <td>423</td>\n",
       "      <td>0.0666</td>\n",
       "    </tr>\n",
       "    <tr>\n",
       "      <th>3</th>\n",
       "      <td>652</td>\n",
       "      <td>0.0452</td>\n",
       "    </tr>\n",
       "  </tbody>\n",
       "</table>\n",
       "</div>"
      ],
      "text/plain": [
       "   100  0.0348\n",
       "0  200  0.0299\n",
       "1  500  0.0332\n",
       "2  423  0.0666\n",
       "3  652  0.0452"
      ]
     },
     "execution_count": 34,
     "metadata": {},
     "output_type": "execute_result"
    }
   ],
   "source": [
    "# Initialize Plotly offline mode in Jupyter notebook, connected=True parameter enables connecting chart studio for saving plots\n",
    "plotly.offline.init_notebook_mode(connected=True)\n",
    "# Sets the credentials for connecting to your Plotly chart studio account\n",
    "chart_studio.tools.set_credentials_file(username='Giac', api_key='lr1c37zw')\n",
    "df = pd.read_csv('./data/datas.csv')\n",
    "df[:4]"
   ]
  },
  {
   "cell_type": "code",
   "execution_count": 35,
   "metadata": {},
   "outputs": [
    {
     "name": "stdout",
     "output_type": "stream",
     "text": [
      "[[1.00e+02 3.48e-02]\n",
      " [2.00e+02 2.99e-02]\n",
      " [5.00e+02 3.32e-02]\n",
      " [4.23e+02 6.66e-02]\n",
      " [6.52e+02 4.52e-02]]\n",
      "[[1.00e+02 3.48e-02]\n",
      " [2.00e+02 2.99e-02]\n",
      " [5.00e+02 3.32e-02]\n",
      " [4.23e+02 6.66e-02]\n",
      " [6.52e+02 4.52e-02]]\n"
     ]
    }
   ],
   "source": [
    "my_data_get = np.genfromtxt('./data/datas.csv', delimiter=',')\n",
    "#or \n",
    "my_data_load = np.loadtxt('./data/datas.csv', delimiter=',')\n",
    "\n",
    "print(my_data_get[:5])\n",
    "print(my_data_load[:5])"
   ]
  },
  {
   "cell_type": "code",
   "execution_count": 36,
   "metadata": {},
   "outputs": [
    {
     "data": {
      "text/plain": [
       "(array([ 100.,  200.,  500.,  423.,  652.,  786.,  802.,  883.,  958.,\n",
       "        1073., 1245., 1352., 1658., 1763., 1824., 1932., 2004., 2421.,\n",
       "        2571.]),\n",
       " array([0.0348, 0.0299, 0.0332, 0.0666, 0.0452, 0.0578, 0.0182, 0.0265,\n",
       "        0.0265, 0.0247, 0.0452, 0.0265, 0.0265, 0.0247, 0.0452, 0.0685,\n",
       "        0.0852, 0.0856, 0.0885]),\n",
       " 19,\n",
       " 19)"
      ]
     },
     "execution_count": 36,
     "metadata": {},
     "output_type": "execute_result"
    }
   ],
   "source": [
    "x = my_data_get[:,0]\n",
    "y = my_data_get[:,1]\n",
    "z = my_data_get[0,:]\n",
    "\n",
    "x, y, len(x), len(y)"
   ]
  },
  {
   "cell_type": "code",
   "execution_count": 37,
   "metadata": {
    "collapsed": true
   },
   "outputs": [],
   "source": [
    "def SlidingWindow(y, winsize, threshold, influence,lag):\n",
    "    \"\"\" Detect outliers in a signal y using a sliding window approach.\n",
    "        1. Point exceeding threshold of window std dev\n",
    "        2. Increasing trend in lagging window  \n",
    "        3. Height above avg exceeds minimum  \n",
    "    \n",
    "    Parameters:\n",
    "        - Input signal y [ndarray]\n",
    "        - Size of sliding window [int]\n",
    "        - Threshold for outlier detection in std devs  [float]\n",
    "        - Influence parameter for EWMA filtering [float]\n",
    "        - Lag window size [int]\n",
    "\n",
    "    Returns: \n",
    "        - Dictionary with:\n",
    "            - signals: Binary array indicating outliers\n",
    "            - index: Indices of outliers\n",
    "            - height: Height above threshold\n",
    "    \"\"\"\n",
    "    ##### Initialations\n",
    "    signals = np.zeros(len(y))\n",
    "    runningAvg = [0]*len(y)\n",
    "    runningStd = [0]*len(y)\n",
    "    index = []\n",
    "    height = []\n",
    "    lagTemp = []\n",
    "    # Copy of input data\n",
    "    filteredY = np.array(y)\n",
    "    # Calculate initial running avg and std  \n",
    "    runningAvg[winsize - 1] = np.mean(y[0:winsize])\n",
    "    runningStd[winsize - 1] = np.std(y[0:winsize])\n",
    "    \n",
    "    for i in range(winsize, len(y)-lag):\n",
    "        # Check if point exceeds threshold\n",
    "        if (y[i] - runningAvg[i-1]) > threshold * runningStd[i-1]:\n",
    "            # Get lagging window\n",
    "            lagTemp = np.array(y[i-lag:i+lag+1])\n",
    "            # Calculate differences\n",
    "            trend = lagTemp[1:]-lagTemp[:-1]   \n",
    "            # Check increasing trend         \n",
    "            if np.array_equal(trend[:lag],trend[trend>0]) and (y[i]-runningAvg[i-1])>3:\n",
    "                ### Mark outlier \n",
    "                signals[i] = 1 \n",
    "                index.append(i)\n",
    "                height.append(y[i] - runningAvg[i-1])          \n",
    "            # Create filtered value  \n",
    "            filteredY[i] = influence * y[i] + (1 - influence) * filteredY[i-1]\n",
    "            # Update running avg and std\n",
    "            runningAvg[i] = np.mean(filteredY[(i-winsize):i])\n",
    "            runningStd[i] = np.std(filteredY[(i-winsize):i])\n",
    "        else:\n",
    "            filteredY[i] = y[i]\n",
    "            runningAvg[i] = np.mean(filteredY[(i-winsize):i])\n",
    "            runningStd[i] = np.std(filteredY[(i-winsize):i])\n",
    "    \n",
    "    return dict(signals = np.asarray(signals),index = index,height = height)"
   ]
  },
  {
   "cell_type": "code",
   "execution_count": 38,
   "metadata": {},
   "outputs": [
    {
     "data": {
      "image/png": "[encoded data removed]",
      "text/plain": [
       "<Figure size 800x800 with 4 Axes>"
      ]
     },
     "metadata": {},
     "output_type": "display_data"
    }
   ],
   "source": [
    "input = np.loadtxt('./data/dat_dummy_1.txt', skiprows = 2)\n",
    "x = input[:,0]\n",
    "y = input[:,1]\n",
    "\n",
    "inrange = range(6200,6700)\n",
    "winsize = len(y)//50\n",
    "\n",
    "lag = 20\n",
    "threshold = 3\n",
    "influence = 0\n",
    "\n",
    "result = SlidingWindow(y, winsize, threshold, influence, lag)\n",
    "output = np.column_stack((result['index'],result['height']))\n",
    "\n",
    "############## Visualize plots\n",
    "\n",
    "## Figure with four subplots in a 2x2 grid\n",
    "fig, ax = plt.subplots(nrows=2, ncols=2, figsize=(8, 8))\n",
    "\n",
    "ax[0, 0].plot(x, y, color='red')\n",
    "ax[0, 0].set_title('First subplot')\n",
    "ax[0, 1].plot(x, result['signals'], color='green')\n",
    "ax[0, 1].set_title('Second subplot')\n",
    "ax[1, 0].plot(x[inrange], y[inrange])\n",
    "ax[1, 0].set_title('Third subplot')\n",
    "ax[1, 1].plot(x[inrange],result['signals'][inrange], color='dimgrey')\n",
    "ax[1, 1].set_title('Fourth subplot')\n",
    "\n",
    "## Adjust spacing\n",
    "plt.tight_layout()\n",
    "plt.show()"
   ]
  },
  {
   "cell_type": "code",
   "execution_count": 39,
   "metadata": {},
   "outputs": [
    {
     "data": {
      "text/plain": [
       "{'signals': array([0., 0., 0., ..., 0., 0., 0.]),\n",
       " 'index': [995,\n",
       "  2995,\n",
       "  4992,\n",
       "  6499,\n",
       "  7994,\n",
       "  8297,\n",
       "  8396,\n",
       "  8495,\n",
       "  8775,\n",
       "  10997,\n",
       "  12995,\n",
       "  13095,\n",
       "  13295,\n",
       "  16492,\n",
       "  18496],\n",
       " 'height': [81.67294187969925,\n",
       "  84.25717669172931,\n",
       "  6.322821328320799,\n",
       "  3.2948683959899654,\n",
       "  6.098102907268164,\n",
       "  53.748255789473674,\n",
       "  82.5518935839599,\n",
       "  201.27490701754385,\n",
       "  5.434633208020053,\n",
       "  27.02464127819548,\n",
       "  123.37967358395989,\n",
       "  86.58633977443611,\n",
       "  178.35814000000002,\n",
       "  3.3156287468671692,\n",
       "  19.771703759398502]}"
      ]
     },
     "execution_count": 39,
     "metadata": {},
     "output_type": "execute_result"
    }
   ],
   "source": [
    "result"
   ]
  },
  {
   "cell_type": "code",
   "execution_count": 40,
   "metadata": {},
   "outputs": [],
   "source": [
    "df2 = pd.read_csv(\"./data/dataset_to_try.csv\")\n",
    "\n",
    "trace  = go.Scatter(\n",
    "    x = [i for i in range(len(df2['pressure']))],\n",
    "    y = [df2['time_passed']],\n",
    "    mode = 'lines'\n",
    ")"
   ]
  },
  {
   "cell_type": "code",
   "execution_count": 41,
   "metadata": {},
   "outputs": [
    {
     "data": {
      "text/html": [
       "        <script type=\"text/javascript\">\n",
       "        window.PlotlyConfig = {MathJaxConfig: 'local'};\n",
       "        if (window.MathJax && window.MathJax.Hub && window.MathJax.Hub.Config) {window.MathJax.Hub.Config({SVG: {font: \"STIX-Web\"}});}\n",
       "        if (typeof require !== 'undefined') {\n",
       "        require.undef(\"plotly\");\n",
       "        requirejs.config({\n",
       "            paths: {\n",
       "                'plotly': ['https://cdn.plot.ly/plotly-2.12.1.min']\n",
       "            }\n",
       "        });\n",
       "        require(['plotly'], function(Plotly) {\n",
       "            window._Plotly = Plotly;\n",
       "        });\n",
       "        }\n",
       "        </script>\n",
       "        "
      ]
     },
     "metadata": {},
     "output_type": "display_data"
    },
    {
     "data": {
      "text/plain": [
       "'temp-plot.html'"
      ]
     },
     "execution_count": 41,
     "metadata": {},
     "output_type": "execute_result"
    }
   ],
   "source": [
    "# %%script echo Skipping: Avoid to open browser and plot\n",
    "\"\"\" Plot online opening browser at temp-plot.html\"\"\"\n",
    "init_notebook_mode(connected=True)\n",
    "\n",
    "data = [trace]\n",
    "plotly.offline.plot(data)\n"
   ]
  },
  {
   "cell_type": "code",
   "execution_count": 42,
   "metadata": {},
   "outputs": [
    {
     "data": {
      "text/plain": [
       "(0     0\n",
       " 1    12\n",
       " 2    21\n",
       " 3    33\n",
       " Name: time_passed, dtype: int64,\n",
       " 0    0,076\n",
       " 1    0,086\n",
       " 2    0,088\n",
       " 3    0,099\n",
       " Name: pressure, dtype: object)"
      ]
     },
     "execution_count": 42,
     "metadata": {},
     "output_type": "execute_result"
    }
   ],
   "source": [
    "ics = df2['time_passed'] \n",
    "ips = df2['pressure']\n",
    "ics[:4], ips[:4]"
   ]
  },
  {
   "cell_type": "code",
   "execution_count": 43,
   "metadata": {},
   "outputs": [
    {
     "data": {
      "application/vnd.plotly.v1+json": {
       "config": {
        "linkText": "Export to plotly.com",
        "plotlyServerURL": "https://plotly.com",
        "showLink": false
       },
       "data": [
        {
         "mode": "lines",
         "name": "Original Plot",
         "type": "scatter",
         "x": [
          0,
          1,
          2,
          3,
          4,
          5,
          6,
          7,
          8,
          9,
          10,
          11,
          12,
          13,
          14,
          15,
          16,
          17,
          18,
          19,
          20,
          21,
          22,
          23,
          24,
          25,
          26,
          27,
          28,
          29,
          30,
          31
         ],
         "y": [
          0,
          12,
          21,
          33,
          42,
          59,
          66,
          73,
          82,
          99,
          120,
          130,
          145,
          177,
          188,
          200,
          42,
          49,
          21,
          33,
          42,
          49,
          33,
          42,
          49,
          33,
          42,
          49,
          33,
          42,
          49,
          100
         ]
        },
        {
         "marker": {
          "color": "rgb(255,0,0)",
          "size": 8,
          "symbol": "cross"
         },
         "mode": "markers",
         "name": "Detected Peaks",
         "type": "scatter",
         "x": [
          15,
          17,
          21,
          24,
          27
         ],
         "y": [
          200,
          49,
          49,
          49,
          49
         ]
        }
       ],
       "layout": {
        "template": {
         "data": {
          "bar": [
           {
            "error_x": {
             "color": "#2a3f5f"
            },
            "error_y": {
             "color": "#2a3f5f"
            },
            "marker": {
             "line": {
              "color": "#E5ECF6",
              "width": 0.5
             },
             "pattern": {
              "fillmode": "overlay",
              "size": 10,
              "solidity": 0.2
             }
            },
            "type": "bar"
           }
          ],
          "barpolar": [
           {
            "marker": {
             "line": {
              "color": "#E5ECF6",
              "width": 0.5
             },
             "pattern": {
              "fillmode": "overlay",
              "size": 10,
              "solidity": 0.2
             }
            },
            "type": "barpolar"
           }
          ],
          "carpet": [
           {
            "aaxis": {
             "endlinecolor": "#2a3f5f",
             "gridcolor": "white",
             "linecolor": "white",
             "minorgridcolor": "white",
             "startlinecolor": "#2a3f5f"
            },
            "baxis": {
             "endlinecolor": "#2a3f5f",
             "gridcolor": "white",
             "linecolor": "white",
             "minorgridcolor": "white",
             "startlinecolor": "#2a3f5f"
            },
            "type": "carpet"
           }
          ],
          "choropleth": [
           {
            "colorbar": {
             "outlinewidth": 0,
             "ticks": ""
            },
            "type": "choropleth"
           }
          ],
          "contour": [
           {
            "colorbar": {
             "outlinewidth": 0,
             "ticks": ""
            },
            "colorscale": [
             [
              0,
              "#0d0887"
             ],
             [
              0.1111111111111111,
              "#46039f"
             ],
             [
              0.2222222222222222,
              "#7201a8"
             ],
             [
              0.3333333333333333,
              "#9c179e"
             ],
             [
              0.4444444444444444,
              "#bd3786"
             ],
             [
              0.5555555555555556,
              "#d8576b"
             ],
             [
              0.6666666666666666,
              "#ed7953"
             ],
             [
              0.7777777777777778,
              "#fb9f3a"
             ],
             [
              0.8888888888888888,
              "#fdca26"
             ],
             [
              1,
              "#f0f921"
             ]
            ],
            "type": "contour"
           }
          ],
          "contourcarpet": [
           {
            "colorbar": {
             "outlinewidth": 0,
             "ticks": ""
            },
            "type": "contourcarpet"
           }
          ],
          "heatmap": [
           {
            "colorbar": {
             "outlinewidth": 0,
             "ticks": ""
            },
            "colorscale": [
             [
              0,
              "#0d0887"
             ],
             [
              0.1111111111111111,
              "#46039f"
             ],
             [
              0.2222222222222222,
              "#7201a8"
             ],
             [
              0.3333333333333333,
              "#9c179e"
             ],
             [
              0.4444444444444444,
              "#bd3786"
             ],
             [
              0.5555555555555556,
              "#d8576b"
             ],
             [
              0.6666666666666666,
              "#ed7953"
             ],
             [
              0.7777777777777778,
              "#fb9f3a"
             ],
             [
              0.8888888888888888,
              "#fdca26"
             ],
             [
              1,
              "#f0f921"
             ]
            ],
            "type": "heatmap"
           }
          ],
          "heatmapgl": [
           {
            "colorbar": {
             "outlinewidth": 0,
             "ticks": ""
            },
            "colorscale": [
             [
              0,
              "#0d0887"
             ],
             [
              0.1111111111111111,
              "#46039f"
             ],
             [
              0.2222222222222222,
              "#7201a8"
             ],
             [
              0.3333333333333333,
              "#9c179e"
             ],
             [
              0.4444444444444444,
              "#bd3786"
             ],
             [
              0.5555555555555556,
              "#d8576b"
             ],
             [
              0.6666666666666666,
              "#ed7953"
             ],
             [
              0.7777777777777778,
              "#fb9f3a"
             ],
             [
              0.8888888888888888,
              "#fdca26"
             ],
             [
              1,
              "#f0f921"
             ]
            ],
            "type": "heatmapgl"
           }
          ],
          "histogram": [
           {
            "marker": {
             "pattern": {
              "fillmode": "overlay",
              "size": 10,
              "solidity": 0.2
             }
            },
            "type": "histogram"
           }
          ],
          "histogram2d": [
           {
            "colorbar": {
             "outlinewidth": 0,
             "ticks": ""
            },
            "colorscale": [
             [
              0,
              "#0d0887"
             ],
             [
              0.1111111111111111,
              "#46039f"
             ],
             [
              0.2222222222222222,
              "#7201a8"
             ],
             [
              0.3333333333333333,
              "#9c179e"
             ],
             [
              0.4444444444444444,
              "#bd3786"
             ],
             [
              0.5555555555555556,
              "#d8576b"
             ],
             [
              0.6666666666666666,
              "#ed7953"
             ],
             [
              0.7777777777777778,
              "#fb9f3a"
             ],
             [
              0.8888888888888888,
              "#fdca26"
             ],
             [
              1,
              "#f0f921"
             ]
            ],
            "type": "histogram2d"
           }
          ],
          "histogram2dcontour": [
           {
            "colorbar": {
             "outlinewidth": 0,
             "ticks": ""
            },
            "colorscale": [
             [
              0,
              "#0d0887"
             ],
             [
              0.1111111111111111,
              "#46039f"
             ],
             [
              0.2222222222222222,
              "#7201a8"
             ],
             [
              0.3333333333333333,
              "#9c179e"
             ],
             [
              0.4444444444444444,
              "#bd3786"
             ],
             [
              0.5555555555555556,
              "#d8576b"
             ],
             [
              0.6666666666666666,
              "#ed7953"
             ],
             [
              0.7777777777777778,
              "#fb9f3a"
             ],
             [
              0.8888888888888888,
              "#fdca26"
             ],
             [
              1,
              "#f0f921"
             ]
            ],
            "type": "histogram2dcontour"
           }
          ],
          "mesh3d": [
           {
            "colorbar": {
             "outlinewidth": 0,
             "ticks": ""
            },
            "type": "mesh3d"
           }
          ],
          "parcoords": [
           {
            "line": {
             "colorbar": {
              "outlinewidth": 0,
              "ticks": ""
             }
            },
            "type": "parcoords"
           }
          ],
          "pie": [
           {
            "automargin": true,
            "type": "pie"
           }
          ],
          "scatter": [
           {
            "fillpattern": {
             "fillmode": "overlay",
             "size": 10,
             "solidity": 0.2
            },
            "type": "scatter"
           }
          ],
          "scatter3d": [
           {
            "line": {
             "colorbar": {
              "outlinewidth": 0,
              "ticks": ""
             }
            },
            "marker": {
             "colorbar": {
              "outlinewidth": 0,
              "ticks": ""
             }
            },
            "type": "scatter3d"
           }
          ],
          "scattercarpet": [
           {
            "marker": {
             "colorbar": {
              "outlinewidth": 0,
              "ticks": ""
             }
            },
            "type": "scattercarpet"
           }
          ],
          "scattergeo": [
           {
            "marker": {
             "colorbar": {
              "outlinewidth": 0,
              "ticks": ""
             }
            },
            "type": "scattergeo"
           }
          ],
          "scattergl": [
           {
            "marker": {
             "colorbar": {
              "outlinewidth": 0,
              "ticks": ""
             }
            },
            "type": "scattergl"
           }
          ],
          "scattermapbox": [
           {
            "marker": {
             "colorbar": {
              "outlinewidth": 0,
              "ticks": ""
             }
            },
            "type": "scattermapbox"
           }
          ],
          "scatterpolar": [
           {
            "marker": {
             "colorbar": {
              "outlinewidth": 0,
              "ticks": ""
             }
            },
            "type": "scatterpolar"
           }
          ],
          "scatterpolargl": [
           {
            "marker": {
             "colorbar": {
              "outlinewidth": 0,
              "ticks": ""
             }
            },
            "type": "scatterpolargl"
           }
          ],
          "scatterternary": [
           {
            "marker": {
             "colorbar": {
              "outlinewidth": 0,
              "ticks": ""
             }
            },
            "type": "scatterternary"
           }
          ],
          "surface": [
           {
            "colorbar": {
             "outlinewidth": 0,
             "ticks": ""
            },
            "colorscale": [
             [
              0,
              "#0d0887"
             ],
             [
              0.1111111111111111,
              "#46039f"
             ],
             [
              0.2222222222222222,
              "#7201a8"
             ],
             [
              0.3333333333333333,
              "#9c179e"
             ],
             [
              0.4444444444444444,
              "#bd3786"
             ],
             [
              0.5555555555555556,
              "#d8576b"
             ],
             [
              0.6666666666666666,
              "#ed7953"
             ],
             [
              0.7777777777777778,
              "#fb9f3a"
             ],
             [
              0.8888888888888888,
              "#fdca26"
             ],
             [
              1,
              "#f0f921"
             ]
            ],
            "type": "surface"
           }
          ],
          "table": [
           {
            "cells": {
             "fill": {
              "color": "#EBF0F8"
             },
             "line": {
              "color": "white"
             }
            },
            "header": {
             "fill": {
              "color": "#C8D4E3"
             },
             "line": {
              "color": "white"
             }
            },
            "type": "table"
           }
          ]
         },
         "layout": {
          "annotationdefaults": {
           "arrowcolor": "#2a3f5f",
           "arrowhead": 0,
           "arrowwidth": 1
          },
          "autotypenumbers": "strict",
          "coloraxis": {
           "colorbar": {
            "outlinewidth": 0,
            "ticks": ""
           }
          },
          "colorscale": {
           "diverging": [
            [
             0,
             "#8e0152"
            ],
            [
             0.1,
             "#c51b7d"
            ],
            [
             0.2,
             "#de77ae"
            ],
            [
             0.3,
             "#f1b6da"
            ],
            [
             0.4,
             "#fde0ef"
            ],
            [
             0.5,
             "#f7f7f7"
            ],
            [
             0.6,
             "#e6f5d0"
            ],
            [
             0.7,
             "#b8e186"
            ],
            [
             0.8,
             "#7fbc41"
            ],
            [
             0.9,
             "#4d9221"
            ],
            [
             1,
             "#276419"
            ]
           ],
           "sequential": [
            [
             0,
             "#0d0887"
            ],
            [
             0.1111111111111111,
             "#46039f"
            ],
            [
             0.2222222222222222,
             "#7201a8"
            ],
            [
             0.3333333333333333,
             "#9c179e"
            ],
            [
             0.4444444444444444,
             "#bd3786"
            ],
            [
             0.5555555555555556,
             "#d8576b"
            ],
            [
             0.6666666666666666,
             "#ed7953"
            ],
            [
             0.7777777777777778,
             "#fb9f3a"
            ],
            [
             0.8888888888888888,
             "#fdca26"
            ],
            [
             1,
             "#f0f921"
            ]
           ],
           "sequentialminus": [
            [
             0,
             "#0d0887"
            ],
            [
             0.1111111111111111,
             "#46039f"
            ],
            [
             0.2222222222222222,
             "#7201a8"
            ],
            [
             0.3333333333333333,
             "#9c179e"
            ],
            [
             0.4444444444444444,
             "#bd3786"
            ],
            [
             0.5555555555555556,
             "#d8576b"
            ],
            [
             0.6666666666666666,
             "#ed7953"
            ],
            [
             0.7777777777777778,
             "#fb9f3a"
            ],
            [
             0.8888888888888888,
             "#fdca26"
            ],
            [
             1,
             "#f0f921"
            ]
           ]
          },
          "colorway": [
           "#636efa",
           "#EF553B",
           "#00cc96",
           "#ab63fa",
           "#FFA15A",
           "#19d3f3",
           "#FF6692",
           "#B6E880",
           "#FF97FF",
           "#FECB52"
          ],
          "font": {
           "color": "#2a3f5f"
          },
          "geo": {
           "bgcolor": "white",
           "lakecolor": "white",
           "landcolor": "#E5ECF6",
           "showlakes": true,
           "showland": true,
           "subunitcolor": "white"
          },
          "hoverlabel": {
           "align": "left"
          },
          "hovermode": "closest",
          "mapbox": {
           "style": "light"
          },
          "paper_bgcolor": "white",
          "plot_bgcolor": "#E5ECF6",
          "polar": {
           "angularaxis": {
            "gridcolor": "white",
            "linecolor": "white",
            "ticks": ""
           },
           "bgcolor": "#E5ECF6",
           "radialaxis": {
            "gridcolor": "white",
            "linecolor": "white",
            "ticks": ""
           }
          },
          "scene": {
           "xaxis": {
            "backgroundcolor": "#E5ECF6",
            "gridcolor": "white",
            "gridwidth": 2,
            "linecolor": "white",
            "showbackground": true,
            "ticks": "",
            "zerolinecolor": "white"
           },
           "yaxis": {
            "backgroundcolor": "#E5ECF6",
            "gridcolor": "white",
            "gridwidth": 2,
            "linecolor": "white",
            "showbackground": true,
            "ticks": "",
            "zerolinecolor": "white"
           },
           "zaxis": {
            "backgroundcolor": "#E5ECF6",
            "gridcolor": "white",
            "gridwidth": 2,
            "linecolor": "white",
            "showbackground": true,
            "ticks": "",
            "zerolinecolor": "white"
           }
          },
          "shapedefaults": {
           "line": {
            "color": "#2a3f5f"
           }
          },
          "ternary": {
           "aaxis": {
            "gridcolor": "white",
            "linecolor": "white",
            "ticks": ""
           },
           "baxis": {
            "gridcolor": "white",
            "linecolor": "white",
            "ticks": ""
           },
           "bgcolor": "#E5ECF6",
           "caxis": {
            "gridcolor": "white",
            "linecolor": "white",
            "ticks": ""
           }
          },
          "title": {
           "x": 0.05
          },
          "xaxis": {
           "automargin": true,
           "gridcolor": "white",
           "linecolor": "white",
           "ticks": "",
           "title": {
            "standoff": 15
           },
           "zerolinecolor": "white",
           "zerolinewidth": 2
          },
          "yaxis": {
           "automargin": true,
           "gridcolor": "white",
           "linecolor": "white",
           "ticks": "",
           "title": {
            "standoff": 15
           },
           "zerolinecolor": "white",
           "zerolinewidth": 2
          }
         }
        },
        "title": {
         "text": "Pressures"
        },
        "xaxis": {
         "title": {
          "text": "x1"
         }
        },
        "yaxis": {
         "title": {
          "text": "x2"
         }
        }
       }
      },
      "text/html": [
       "<div>                            <div id=\"d5a13f77-0f9b-4a35-8c0a-4a1df1cd91ec\" class=\"plotly-graph-div\" style=\"height:525px; width:100%;\"></div>            <script type=\"text/javascript\">                require([\"plotly\"], function(Plotly) {                    window.PLOTLYENV=window.PLOTLYENV || {};                                    if (document.getElementById(\"d5a13f77-0f9b-4a35-8c0a-4a1df1cd91ec\")) {                    Plotly.newPlot(                        \"d5a13f77-0f9b-4a35-8c0a-4a1df1cd91ec\",                        [{\"mode\":\"lines\",\"name\":\"Original Plot\",\"x\":[0,1,2,3,4,5,6,7,8,9,10,11,12,13,14,15,16,17,18,19,20,21,22,23,24,25,26,27,28,29,30,31],\"y\":[0,12,21,33,42,59,66,73,82,99,120,130,145,177,188,200,42,49,21,33,42,49,33,42,49,33,42,49,33,42,49,100],\"type\":\"scatter\"},{\"marker\":{\"color\":\"rgb(255,0,0)\",\"size\":8,\"symbol\":\"cross\"},\"mode\":\"markers\",\"name\":\"Detected Peaks\",\"x\":[15,17,21,24,27],\"y\":[200,49,49,49,49],\"type\":\"scatter\"}],                        {\"template\":{\"data\":{\"barpolar\":[{\"marker\":{\"line\":{\"color\":\"#E5ECF6\",\"width\":0.5},\"pattern\":{\"fillmode\":\"overlay\",\"size\":10,\"solidity\":0.2}},\"type\":\"barpolar\"}],\"bar\":[{\"error_x\":{\"color\":\"#2a3f5f\"},\"error_y\":{\"color\":\"#2a3f5f\"},\"marker\":{\"line\":{\"color\":\"#E5ECF6\",\"width\":0.5},\"pattern\":{\"fillmode\":\"overlay\",\"size\":10,\"solidity\":0.2}},\"type\":\"bar\"}],\"carpet\":[{\"aaxis\":{\"endlinecolor\":\"#2a3f5f\",\"gridcolor\":\"white\",\"linecolor\":\"white\",\"minorgridcolor\":\"white\",\"startlinecolor\":\"#2a3f5f\"},\"baxis\":{\"endlinecolor\":\"#2a3f5f\",\"gridcolor\":\"white\",\"linecolor\":\"white\",\"minorgridcolor\":\"white\",\"startlinecolor\":\"#2a3f5f\"},\"type\":\"carpet\"}],\"choropleth\":[{\"colorbar\":{\"outlinewidth\":0,\"ticks\":\"\"},\"type\":\"choropleth\"}],\"contourcarpet\":[{\"colorbar\":{\"outlinewidth\":0,\"ticks\":\"\"},\"type\":\"contourcarpet\"}],\"contour\":[{\"colorbar\":{\"outlinewidth\":0,\"ticks\":\"\"},\"colorscale\":[[0.0,\"#0d0887\"],[0.1111111111111111,\"#46039f\"],[0.2222222222222222,\"#7201a8\"],[0.3333333333333333,\"#9c179e\"],[0.4444444444444444,\"#bd3786\"],[0.5555555555555556,\"#d8576b\"],[0.6666666666666666,\"#ed7953\"],[0.7777777777777778,\"#fb9f3a\"],[0.8888888888888888,\"#fdca26\"],[1.0,\"#f0f921\"]],\"type\":\"contour\"}],\"heatmapgl\":[{\"colorbar\":{\"outlinewidth\":0,\"ticks\":\"\"},\"colorscale\":[[0.0,\"#0d0887\"],[0.1111111111111111,\"#46039f\"],[0.2222222222222222,\"#7201a8\"],[0.3333333333333333,\"#9c179e\"],[0.4444444444444444,\"#bd3786\"],[0.5555555555555556,\"#d8576b\"],[0.6666666666666666,\"#ed7953\"],[0.7777777777777778,\"#fb9f3a\"],[0.8888888888888888,\"#fdca26\"],[1.0,\"#f0f921\"]],\"type\":\"heatmapgl\"}],\"heatmap\":[{\"colorbar\":{\"outlinewidth\":0,\"ticks\":\"\"},\"colorscale\":[[0.0,\"#0d0887\"],[0.1111111111111111,\"#46039f\"],[0.2222222222222222,\"#7201a8\"],[0.3333333333333333,\"#9c179e\"],[0.4444444444444444,\"#bd3786\"],[0.5555555555555556,\"#d8576b\"],[0.6666666666666666,\"#ed7953\"],[0.7777777777777778,\"#fb9f3a\"],[0.8888888888888888,\"#fdca26\"],[1.0,\"#f0f921\"]],\"type\":\"heatmap\"}],\"histogram2dcontour\":[{\"colorbar\":{\"outlinewidth\":0,\"ticks\":\"\"},\"colorscale\":[[0.0,\"#0d0887\"],[0.1111111111111111,\"#46039f\"],[0.2222222222222222,\"#7201a8\"],[0.3333333333333333,\"#9c179e\"],[0.4444444444444444,\"#bd3786\"],[0.5555555555555556,\"#d8576b\"],[0.6666666666666666,\"#ed7953\"],[0.7777777777777778,\"#fb9f3a\"],[0.8888888888888888,\"#fdca26\"],[1.0,\"#f0f921\"]],\"type\":\"histogram2dcontour\"}],\"histogram2d\":[{\"colorbar\":{\"outlinewidth\":0,\"ticks\":\"\"},\"colorscale\":[[0.0,\"#0d0887\"],[0.1111111111111111,\"#46039f\"],[0.2222222222222222,\"#7201a8\"],[0.3333333333333333,\"#9c179e\"],[0.4444444444444444,\"#bd3786\"],[0.5555555555555556,\"#d8576b\"],[0.6666666666666666,\"#ed7953\"],[0.7777777777777778,\"#fb9f3a\"],[0.8888888888888888,\"#fdca26\"],[1.0,\"#f0f921\"]],\"type\":\"histogram2d\"}],\"histogram\":[{\"marker\":{\"pattern\":{\"fillmode\":\"overlay\",\"size\":10,\"solidity\":0.2}},\"type\":\"histogram\"}],\"mesh3d\":[{\"colorbar\":{\"outlinewidth\":0,\"ticks\":\"\"},\"type\":\"mesh3d\"}],\"parcoords\":[{\"line\":{\"colorbar\":{\"outlinewidth\":0,\"ticks\":\"\"}},\"type\":\"parcoords\"}],\"pie\":[{\"automargin\":true,\"type\":\"pie\"}],\"scatter3d\":[{\"line\":{\"colorbar\":{\"outlinewidth\":0,\"ticks\":\"\"}},\"marker\":{\"colorbar\":{\"outlinewidth\":0,\"ticks\":\"\"}},\"type\":\"scatter3d\"}],\"scattercarpet\":[{\"marker\":{\"colorbar\":{\"outlinewidth\":0,\"ticks\":\"\"}},\"type\":\"scattercarpet\"}],\"scattergeo\":[{\"marker\":{\"colorbar\":{\"outlinewidth\":0,\"ticks\":\"\"}},\"type\":\"scattergeo\"}],\"scattergl\":[{\"marker\":{\"colorbar\":{\"outlinewidth\":0,\"ticks\":\"\"}},\"type\":\"scattergl\"}],\"scattermapbox\":[{\"marker\":{\"colorbar\":{\"outlinewidth\":0,\"ticks\":\"\"}},\"type\":\"scattermapbox\"}],\"scatterpolargl\":[{\"marker\":{\"colorbar\":{\"outlinewidth\":0,\"ticks\":\"\"}},\"type\":\"scatterpolargl\"}],\"scatterpolar\":[{\"marker\":{\"colorbar\":{\"outlinewidth\":0,\"ticks\":\"\"}},\"type\":\"scatterpolar\"}],\"scatter\":[{\"fillpattern\":{\"fillmode\":\"overlay\",\"size\":10,\"solidity\":0.2},\"type\":\"scatter\"}],\"scatterternary\":[{\"marker\":{\"colorbar\":{\"outlinewidth\":0,\"ticks\":\"\"}},\"type\":\"scatterternary\"}],\"surface\":[{\"colorbar\":{\"outlinewidth\":0,\"ticks\":\"\"},\"colorscale\":[[0.0,\"#0d0887\"],[0.1111111111111111,\"#46039f\"],[0.2222222222222222,\"#7201a8\"],[0.3333333333333333,\"#9c179e\"],[0.4444444444444444,\"#bd3786\"],[0.5555555555555556,\"#d8576b\"],[0.6666666666666666,\"#ed7953\"],[0.7777777777777778,\"#fb9f3a\"],[0.8888888888888888,\"#fdca26\"],[1.0,\"#f0f921\"]],\"type\":\"surface\"}],\"table\":[{\"cells\":{\"fill\":{\"color\":\"#EBF0F8\"},\"line\":{\"color\":\"white\"}},\"header\":{\"fill\":{\"color\":\"#C8D4E3\"},\"line\":{\"color\":\"white\"}},\"type\":\"table\"}]},\"layout\":{\"annotationdefaults\":{\"arrowcolor\":\"#2a3f5f\",\"arrowhead\":0,\"arrowwidth\":1},\"autotypenumbers\":\"strict\",\"coloraxis\":{\"colorbar\":{\"outlinewidth\":0,\"ticks\":\"\"}},\"colorscale\":{\"diverging\":[[0,\"#8e0152\"],[0.1,\"#c51b7d\"],[0.2,\"#de77ae\"],[0.3,\"#f1b6da\"],[0.4,\"#fde0ef\"],[0.5,\"#f7f7f7\"],[0.6,\"#e6f5d0\"],[0.7,\"#b8e186\"],[0.8,\"#7fbc41\"],[0.9,\"#4d9221\"],[1,\"#276419\"]],\"sequential\":[[0.0,\"#0d0887\"],[0.1111111111111111,\"#46039f\"],[0.2222222222222222,\"#7201a8\"],[0.3333333333333333,\"#9c179e\"],[0.4444444444444444,\"#bd3786\"],[0.5555555555555556,\"#d8576b\"],[0.6666666666666666,\"#ed7953\"],[0.7777777777777778,\"#fb9f3a\"],[0.8888888888888888,\"#fdca26\"],[1.0,\"#f0f921\"]],\"sequentialminus\":[[0.0,\"#0d0887\"],[0.1111111111111111,\"#46039f\"],[0.2222222222222222,\"#7201a8\"],[0.3333333333333333,\"#9c179e\"],[0.4444444444444444,\"#bd3786\"],[0.5555555555555556,\"#d8576b\"],[0.6666666666666666,\"#ed7953\"],[0.7777777777777778,\"#fb9f3a\"],[0.8888888888888888,\"#fdca26\"],[1.0,\"#f0f921\"]]},\"colorway\":[\"#636efa\",\"#EF553B\",\"#00cc96\",\"#ab63fa\",\"#FFA15A\",\"#19d3f3\",\"#FF6692\",\"#B6E880\",\"#FF97FF\",\"#FECB52\"],\"font\":{\"color\":\"#2a3f5f\"},\"geo\":{\"bgcolor\":\"white\",\"lakecolor\":\"white\",\"landcolor\":\"#E5ECF6\",\"showlakes\":true,\"showland\":true,\"subunitcolor\":\"white\"},\"hoverlabel\":{\"align\":\"left\"},\"hovermode\":\"closest\",\"mapbox\":{\"style\":\"light\"},\"paper_bgcolor\":\"white\",\"plot_bgcolor\":\"#E5ECF6\",\"polar\":{\"angularaxis\":{\"gridcolor\":\"white\",\"linecolor\":\"white\",\"ticks\":\"\"},\"bgcolor\":\"#E5ECF6\",\"radialaxis\":{\"gridcolor\":\"white\",\"linecolor\":\"white\",\"ticks\":\"\"}},\"scene\":{\"xaxis\":{\"backgroundcolor\":\"#E5ECF6\",\"gridcolor\":\"white\",\"gridwidth\":2,\"linecolor\":\"white\",\"showbackground\":true,\"ticks\":\"\",\"zerolinecolor\":\"white\"},\"yaxis\":{\"backgroundcolor\":\"#E5ECF6\",\"gridcolor\":\"white\",\"gridwidth\":2,\"linecolor\":\"white\",\"showbackground\":true,\"ticks\":\"\",\"zerolinecolor\":\"white\"},\"zaxis\":{\"backgroundcolor\":\"#E5ECF6\",\"gridcolor\":\"white\",\"gridwidth\":2,\"linecolor\":\"white\",\"showbackground\":true,\"ticks\":\"\",\"zerolinecolor\":\"white\"}},\"shapedefaults\":{\"line\":{\"color\":\"#2a3f5f\"}},\"ternary\":{\"aaxis\":{\"gridcolor\":\"white\",\"linecolor\":\"white\",\"ticks\":\"\"},\"baxis\":{\"gridcolor\":\"white\",\"linecolor\":\"white\",\"ticks\":\"\"},\"bgcolor\":\"#E5ECF6\",\"caxis\":{\"gridcolor\":\"white\",\"linecolor\":\"white\",\"ticks\":\"\"}},\"title\":{\"x\":0.05},\"xaxis\":{\"automargin\":true,\"gridcolor\":\"white\",\"linecolor\":\"white\",\"ticks\":\"\",\"title\":{\"standoff\":15},\"zerolinecolor\":\"white\",\"zerolinewidth\":2},\"yaxis\":{\"automargin\":true,\"gridcolor\":\"white\",\"linecolor\":\"white\",\"ticks\":\"\",\"title\":{\"standoff\":15},\"zerolinecolor\":\"white\",\"zerolinewidth\":2}}},\"title\":{\"text\":\"Pressures\"},\"xaxis\":{\"title\":{\"text\":\"x1\"}},\"yaxis\":{\"title\":{\"text\":\"x2\"}}},                        {\"responsive\": true}                    ).then(function(){\n",
       "                            \n",
       "var gd = document.getElementById('d5a13f77-0f9b-4a35-8c0a-4a1df1cd91ec');\n",
       "var x = new MutationObserver(function (mutations, observer) {{\n",
       "        var display = window.getComputedStyle(gd).display;\n",
       "        if (!display || display === 'none') {{\n",
       "            console.log([gd, 'removed!']);\n",
       "            Plotly.purge(gd);\n",
       "            observer.disconnect();\n",
       "        }}\n",
       "}});\n",
       "\n",
       "// Listen for the removal of the full notebook cells\n",
       "var notebookContainer = gd.closest('#notebook-container');\n",
       "if (notebookContainer) {{\n",
       "    x.observe(notebookContainer, {childList: true});\n",
       "}}\n",
       "\n",
       "// Listen for the clearing of the current output cell\n",
       "var outputEl = gd.closest('.output');\n",
       "if (outputEl) {{\n",
       "    x.observe(outputEl, {childList: true});\n",
       "}}\n",
       "\n",
       "                        })                };                });            </script>        </div>"
      ]
     },
     "metadata": {},
     "output_type": "display_data"
    }
   ],
   "source": [
    "\"\"\" Detecting peaks in the time series with  peakutils.indexes \"\"\"\n",
    "\n",
    "## Get the time series\n",
    "time_series = df2['time_passed']\n",
    "time_series = time_series.tolist()\n",
    "\n",
    "# Convert to numpy array to pass to indexes\n",
    "cb = np.array(time_series)\n",
    "indices = peakutils.indexes(cb, thres=0.02/max(cb), min_dist=0.1)\n",
    "\n",
    "# Create trace for original plot\n",
    "trace = go.Scatter(\n",
    "    x=[j for j in range(len(time_series))],\n",
    "    y=time_series,\n",
    "    mode='lines',\n",
    "    name='Original Plot'\n",
    ")\n",
    "# Create trace for peak markers\n",
    "trace2 = go.Scatter(\n",
    "    x=indices,\n",
    "    y=[time_series[j] for j in indices],\n",
    "    mode='markers',\n",
    "    marker=dict(\n",
    "        size=8,\n",
    "        color='rgb(255,0,0)',\n",
    "        symbol='cross'\n",
    "    ),\n",
    "    name='Detected Peaks'\n",
    ")\n",
    "# Combine traces\n",
    "data = [trace, trace2]\n",
    "# Create layout\n",
    "layout = go.Layout(title=\"Pressures\", xaxis={'title':'x1'}, yaxis={'title':'x2'})\n",
    "# Create figure\n",
    "fig_go = go.Figure(data, layout=layout)\n",
    "iplot(fig_go, filename='time_passed_pressures')\n",
    "#iplot(fig_go, filename='time_passed_pressures', layout=layout)"
   ]
  },
  {
   "cell_type": "code",
   "execution_count": 44,
   "metadata": {
    "scrolled": true
   },
   "outputs": [
    {
     "data": {
      "application/vnd.plotly.v1+json": {
       "config": {
        "linkText": "Export to plotly.com",
        "plotlyServerURL": "https://plotly.com",
        "showLink": false
       },
       "data": [
        {
         "line": {
          "color": "mediumvioletred"
         },
         "mode": "lines",
         "type": "scatter",
         "x": [
          0,
          0.20408163265306123,
          0.40816326530612246,
          0.6122448979591837,
          0.8163265306122449,
          1.0204081632653061,
          1.2244897959183674,
          1.4285714285714286,
          1.6326530612244898,
          1.836734693877551,
          2.0408163265306123,
          2.2448979591836737,
          2.4489795918367347,
          2.6530612244897958,
          2.857142857142857,
          3.0612244897959187,
          3.2653061224489797,
          3.4693877551020407,
          3.673469387755102,
          3.8775510204081636,
          4.081632653061225,
          4.285714285714286,
          4.4897959183673475,
          4.6938775510204085,
          4.8979591836734695,
          5.1020408163265305,
          5.3061224489795915,
          5.510204081632653,
          5.714285714285714,
          5.918367346938775,
          6.122448979591837,
          6.326530612244898,
          6.530612244897959,
          6.73469387755102,
          6.938775510204081,
          7.142857142857143,
          7.346938775510204,
          7.551020408163265,
          7.755102040816327,
          7.959183673469388,
          8.16326530612245,
          8.36734693877551,
          8.571428571428571,
          8.775510204081632,
          8.979591836734695,
          9.183673469387756,
          9.387755102040817,
          9.591836734693878,
          9.795918367346939,
          10
         ],
         "y": [
          0.11695184947390358,
          1.0342182886030045,
          3.070531657950081,
          1.591255085376401,
          1.1191656921836286,
          -1.8522217560256897,
          0.5137552183421872,
          0.31783208587446077,
          -0.9708103631994426,
          -0.4412432498222145,
          -0.5322135064615964,
          0.40324351708252915,
          2.4849602074633586,
          0.017669483582695822,
          0.9293880043051169,
          -0.7871627678472775,
          3.434434666184131,
          -0.21193632900749648,
          0.15173268526342465,
          -1.309739701996755,
          -1.1029811239937728,
          -1.1713380904686397,
          -2.2907444804332844,
          -1.5428146529283686,
          -2.4193132031949034,
          -0.8308058777499688,
          -3.034086293806481,
          0.2929011422622476,
          -0.04183936095740086,
          1.172280015960095,
          1.5472013912919942,
          2.043914929987197,
          1.7193505849087865,
          2.025604299592233,
          0.9313003979687711,
          0.9294754212338148,
          1.445132352286097,
          -0.49362917834377085,
          0.10457486479565686,
          -1.7703508197137081,
          -1.753499510534151,
          -2.616026741508141,
          0.46981994783222625,
          0.4198764554734846,
          0.8317928801705188,
          2.766007407265881,
          2.2581482159512998,
          0.2301756469172127,
          -0.9180819516960455,
          0.627001456497287
         ]
        }
       ],
       "layout": {
        "annotations": [
         {
          "arrowhead": 7,
          "ax": 20,
          "ay": -40,
          "showarrow": true,
          "text": "Maximum value",
          "x": 3.2653061224489797,
          "y": 3.434434666184131
         }
        ],
        "font": {
         "color": "olive",
         "family": "Arial",
         "size": 18
        },
        "height": 600,
        "legend": {
         "x": 0.8,
         "y": 0.1
        },
        "margin": {
         "b": 50,
         "l": 50,
         "r": 50,
         "t": 50
        },
        "template": {
         "data": {
          "bar": [
           {
            "error_x": {
             "color": "#2a3f5f"
            },
            "error_y": {
             "color": "#2a3f5f"
            },
            "marker": {
             "line": {
              "color": "#E5ECF6",
              "width": 0.5
             },
             "pattern": {
              "fillmode": "overlay",
              "size": 10,
              "solidity": 0.2
             }
            },
            "type": "bar"
           }
          ],
          "barpolar": [
           {
            "marker": {
             "line": {
              "color": "#E5ECF6",
              "width": 0.5
             },
             "pattern": {
              "fillmode": "overlay",
              "size": 10,
              "solidity": 0.2
             }
            },
            "type": "barpolar"
           }
          ],
          "carpet": [
           {
            "aaxis": {
             "endlinecolor": "#2a3f5f",
             "gridcolor": "white",
             "linecolor": "white",
             "minorgridcolor": "white",
             "startlinecolor": "#2a3f5f"
            },
            "baxis": {
             "endlinecolor": "#2a3f5f",
             "gridcolor": "white",
             "linecolor": "white",
             "minorgridcolor": "white",
             "startlinecolor": "#2a3f5f"
            },
            "type": "carpet"
           }
          ],
          "choropleth": [
           {
            "colorbar": {
             "outlinewidth": 0,
             "ticks": ""
            },
            "type": "choropleth"
           }
          ],
          "contour": [
           {
            "colorbar": {
             "outlinewidth": 0,
             "ticks": ""
            },
            "colorscale": [
             [
              0,
              "#0d0887"
             ],
             [
              0.1111111111111111,
              "#46039f"
             ],
             [
              0.2222222222222222,
              "#7201a8"
             ],
             [
              0.3333333333333333,
              "#9c179e"
             ],
             [
              0.4444444444444444,
              "#bd3786"
             ],
             [
              0.5555555555555556,
              "#d8576b"
             ],
             [
              0.6666666666666666,
              "#ed7953"
             ],
             [
              0.7777777777777778,
              "#fb9f3a"
             ],
             [
              0.8888888888888888,
              "#fdca26"
             ],
             [
              1,
              "#f0f921"
             ]
            ],
            "type": "contour"
           }
          ],
          "contourcarpet": [
           {
            "colorbar": {
             "outlinewidth": 0,
             "ticks": ""
            },
            "type": "contourcarpet"
           }
          ],
          "heatmap": [
           {
            "colorbar": {
             "outlinewidth": 0,
             "ticks": ""
            },
            "colorscale": [
             [
              0,
              "#0d0887"
             ],
             [
              0.1111111111111111,
              "#46039f"
             ],
             [
              0.2222222222222222,
              "#7201a8"
             ],
             [
              0.3333333333333333,
              "#9c179e"
             ],
             [
              0.4444444444444444,
              "#bd3786"
             ],
             [
              0.5555555555555556,
              "#d8576b"
             ],
             [
              0.6666666666666666,
              "#ed7953"
             ],
             [
              0.7777777777777778,
              "#fb9f3a"
             ],
             [
              0.8888888888888888,
              "#fdca26"
             ],
             [
              1,
              "#f0f921"
             ]
            ],
            "type": "heatmap"
           }
          ],
          "heatmapgl": [
           {
            "colorbar": {
             "outlinewidth": 0,
             "ticks": ""
            },
            "colorscale": [
             [
              0,
              "#0d0887"
             ],
             [
              0.1111111111111111,
              "#46039f"
             ],
             [
              0.2222222222222222,
              "#7201a8"
             ],
             [
              0.3333333333333333,
              "#9c179e"
             ],
             [
              0.4444444444444444,
              "#bd3786"
             ],
             [
              0.5555555555555556,
              "#d8576b"
             ],
             [
              0.6666666666666666,
              "#ed7953"
             ],
             [
              0.7777777777777778,
              "#fb9f3a"
             ],
             [
              0.8888888888888888,
              "#fdca26"
             ],
             [
              1,
              "#f0f921"
             ]
            ],
            "type": "heatmapgl"
           }
          ],
          "histogram": [
           {
            "marker": {
             "pattern": {
              "fillmode": "overlay",
              "size": 10,
              "solidity": 0.2
             }
            },
            "type": "histogram"
           }
          ],
          "histogram2d": [
           {
            "colorbar": {
             "outlinewidth": 0,
             "ticks": ""
            },
            "colorscale": [
             [
              0,
              "#0d0887"
             ],
             [
              0.1111111111111111,
              "#46039f"
             ],
             [
              0.2222222222222222,
              "#7201a8"
             ],
             [
              0.3333333333333333,
              "#9c179e"
             ],
             [
              0.4444444444444444,
              "#bd3786"
             ],
             [
              0.5555555555555556,
              "#d8576b"
             ],
             [
              0.6666666666666666,
              "#ed7953"
             ],
             [
              0.7777777777777778,
              "#fb9f3a"
             ],
             [
              0.8888888888888888,
              "#fdca26"
             ],
             [
              1,
              "#f0f921"
             ]
            ],
            "type": "histogram2d"
           }
          ],
          "histogram2dcontour": [
           {
            "colorbar": {
             "outlinewidth": 0,
             "ticks": ""
            },
            "colorscale": [
             [
              0,
              "#0d0887"
             ],
             [
              0.1111111111111111,
              "#46039f"
             ],
             [
              0.2222222222222222,
              "#7201a8"
             ],
             [
              0.3333333333333333,
              "#9c179e"
             ],
             [
              0.4444444444444444,
              "#bd3786"
             ],
             [
              0.5555555555555556,
              "#d8576b"
             ],
             [
              0.6666666666666666,
              "#ed7953"
             ],
             [
              0.7777777777777778,
              "#fb9f3a"
             ],
             [
              0.8888888888888888,
              "#fdca26"
             ],
             [
              1,
              "#f0f921"
             ]
            ],
            "type": "histogram2dcontour"
           }
          ],
          "mesh3d": [
           {
            "colorbar": {
             "outlinewidth": 0,
             "ticks": ""
            },
            "type": "mesh3d"
           }
          ],
          "parcoords": [
           {
            "line": {
             "colorbar": {
              "outlinewidth": 0,
              "ticks": ""
             }
            },
            "type": "parcoords"
           }
          ],
          "pie": [
           {
            "automargin": true,
            "type": "pie"
           }
          ],
          "scatter": [
           {
            "fillpattern": {
             "fillmode": "overlay",
             "size": 10,
             "solidity": 0.2
            },
            "type": "scatter"
           }
          ],
          "scatter3d": [
           {
            "line": {
             "colorbar": {
              "outlinewidth": 0,
              "ticks": ""
             }
            },
            "marker": {
             "colorbar": {
              "outlinewidth": 0,
              "ticks": ""
             }
            },
            "type": "scatter3d"
           }
          ],
          "scattercarpet": [
           {
            "marker": {
             "colorbar": {
              "outlinewidth": 0,
              "ticks": ""
             }
            },
            "type": "scattercarpet"
           }
          ],
          "scattergeo": [
           {
            "marker": {
             "colorbar": {
              "outlinewidth": 0,
              "ticks": ""
             }
            },
            "type": "scattergeo"
           }
          ],
          "scattergl": [
           {
            "marker": {
             "colorbar": {
              "outlinewidth": 0,
              "ticks": ""
             }
            },
            "type": "scattergl"
           }
          ],
          "scattermapbox": [
           {
            "marker": {
             "colorbar": {
              "outlinewidth": 0,
              "ticks": ""
             }
            },
            "type": "scattermapbox"
           }
          ],
          "scatterpolar": [
           {
            "marker": {
             "colorbar": {
              "outlinewidth": 0,
              "ticks": ""
             }
            },
            "type": "scatterpolar"
           }
          ],
          "scatterpolargl": [
           {
            "marker": {
             "colorbar": {
              "outlinewidth": 0,
              "ticks": ""
             }
            },
            "type": "scatterpolargl"
           }
          ],
          "scatterternary": [
           {
            "marker": {
             "colorbar": {
              "outlinewidth": 0,
              "ticks": ""
             }
            },
            "type": "scatterternary"
           }
          ],
          "surface": [
           {
            "colorbar": {
             "outlinewidth": 0,
             "ticks": ""
            },
            "colorscale": [
             [
              0,
              "#0d0887"
             ],
             [
              0.1111111111111111,
              "#46039f"
             ],
             [
              0.2222222222222222,
              "#7201a8"
             ],
             [
              0.3333333333333333,
              "#9c179e"
             ],
             [
              0.4444444444444444,
              "#bd3786"
             ],
             [
              0.5555555555555556,
              "#d8576b"
             ],
             [
              0.6666666666666666,
              "#ed7953"
             ],
             [
              0.7777777777777778,
              "#fb9f3a"
             ],
             [
              0.8888888888888888,
              "#fdca26"
             ],
             [
              1,
              "#f0f921"
             ]
            ],
            "type": "surface"
           }
          ],
          "table": [
           {
            "cells": {
             "fill": {
              "color": "#EBF0F8"
             },
             "line": {
              "color": "white"
             }
            },
            "header": {
             "fill": {
              "color": "#C8D4E3"
             },
             "line": {
              "color": "white"
             }
            },
            "type": "table"
           }
          ]
         },
         "layout": {
          "annotationdefaults": {
           "arrowcolor": "#2a3f5f",
           "arrowhead": 0,
           "arrowwidth": 1
          },
          "autotypenumbers": "strict",
          "coloraxis": {
           "colorbar": {
            "outlinewidth": 0,
            "ticks": ""
           }
          },
          "colorscale": {
           "diverging": [
            [
             0,
             "#8e0152"
            ],
            [
             0.1,
             "#c51b7d"
            ],
            [
             0.2,
             "#de77ae"
            ],
            [
             0.3,
             "#f1b6da"
            ],
            [
             0.4,
             "#fde0ef"
            ],
            [
             0.5,
             "#f7f7f7"
            ],
            [
             0.6,
             "#e6f5d0"
            ],
            [
             0.7,
             "#b8e186"
            ],
            [
             0.8,
             "#7fbc41"
            ],
            [
             0.9,
             "#4d9221"
            ],
            [
             1,
             "#276419"
            ]
           ],
           "sequential": [
            [
             0,
             "#0d0887"
            ],
            [
             0.1111111111111111,
             "#46039f"
            ],
            [
             0.2222222222222222,
             "#7201a8"
            ],
            [
             0.3333333333333333,
             "#9c179e"
            ],
            [
             0.4444444444444444,
             "#bd3786"
            ],
            [
             0.5555555555555556,
             "#d8576b"
            ],
            [
             0.6666666666666666,
             "#ed7953"
            ],
            [
             0.7777777777777778,
             "#fb9f3a"
            ],
            [
             0.8888888888888888,
             "#fdca26"
            ],
            [
             1,
             "#f0f921"
            ]
           ],
           "sequentialminus": [
            [
             0,
             "#0d0887"
            ],
            [
             0.1111111111111111,
             "#46039f"
            ],
            [
             0.2222222222222222,
             "#7201a8"
            ],
            [
             0.3333333333333333,
             "#9c179e"
            ],
            [
             0.4444444444444444,
             "#bd3786"
            ],
            [
             0.5555555555555556,
             "#d8576b"
            ],
            [
             0.6666666666666666,
             "#ed7953"
            ],
            [
             0.7777777777777778,
             "#fb9f3a"
            ],
            [
             0.8888888888888888,
             "#fdca26"
            ],
            [
             1,
             "#f0f921"
            ]
           ]
          },
          "colorway": [
           "#636efa",
           "#EF553B",
           "#00cc96",
           "#ab63fa",
           "#FFA15A",
           "#19d3f3",
           "#FF6692",
           "#B6E880",
           "#FF97FF",
           "#FECB52"
          ],
          "font": {
           "color": "#2a3f5f"
          },
          "geo": {
           "bgcolor": "white",
           "lakecolor": "white",
           "landcolor": "#E5ECF6",
           "showlakes": true,
           "showland": true,
           "subunitcolor": "white"
          },
          "hoverlabel": {
           "align": "left"
          },
          "hovermode": "closest",
          "mapbox": {
           "style": "light"
          },
          "paper_bgcolor": "white",
          "plot_bgcolor": "#E5ECF6",
          "polar": {
           "angularaxis": {
            "gridcolor": "white",
            "linecolor": "white",
            "ticks": ""
           },
           "bgcolor": "#E5ECF6",
           "radialaxis": {
            "gridcolor": "white",
            "linecolor": "white",
            "ticks": ""
           }
          },
          "scene": {
           "xaxis": {
            "backgroundcolor": "#E5ECF6",
            "gridcolor": "white",
            "gridwidth": 2,
            "linecolor": "white",
            "showbackground": true,
            "ticks": "",
            "zerolinecolor": "white"
           },
           "yaxis": {
            "backgroundcolor": "#E5ECF6",
            "gridcolor": "white",
            "gridwidth": 2,
            "linecolor": "white",
            "showbackground": true,
            "ticks": "",
            "zerolinecolor": "white"
           },
           "zaxis": {
            "backgroundcolor": "#E5ECF6",
            "gridcolor": "white",
            "gridwidth": 2,
            "linecolor": "white",
            "showbackground": true,
            "ticks": "",
            "zerolinecolor": "white"
           }
          },
          "shapedefaults": {
           "line": {
            "color": "#2a3f5f"
           }
          },
          "ternary": {
           "aaxis": {
            "gridcolor": "white",
            "linecolor": "white",
            "ticks": ""
           },
           "baxis": {
            "gridcolor": "white",
            "linecolor": "white",
            "ticks": ""
           },
           "bgcolor": "#E5ECF6",
           "caxis": {
            "gridcolor": "white",
            "linecolor": "white",
            "ticks": ""
           }
          },
          "title": {
           "x": 0.05
          },
          "xaxis": {
           "automargin": true,
           "gridcolor": "white",
           "linecolor": "white",
           "ticks": "",
           "title": {
            "standoff": 15
           },
           "zerolinecolor": "white",
           "zerolinewidth": 2
          },
          "yaxis": {
           "automargin": true,
           "gridcolor": "white",
           "linecolor": "white",
           "ticks": "",
           "title": {
            "standoff": 15
           },
           "zerolinecolor": "white",
           "zerolinewidth": 2
          }
         }
        },
        "title": {
         "text": "My Plot"
        },
        "width": 800,
        "xaxis": {
         "title": {
          "text": "X Axis"
         }
        },
        "yaxis": {
         "title": {
          "text": "Y Axis"
         }
        }
       }
      },
      "text/html": [
       "<div>                            <div id=\"66f8f19a-ea6d-4d07-9800-4b51ba12384e\" class=\"plotly-graph-div\" style=\"height:600px; width:800px;\"></div>            <script type=\"text/javascript\">                require([\"plotly\"], function(Plotly) {                    window.PLOTLYENV=window.PLOTLYENV || {};                                    if (document.getElementById(\"66f8f19a-ea6d-4d07-9800-4b51ba12384e\")) {                    Plotly.newPlot(                        \"66f8f19a-ea6d-4d07-9800-4b51ba12384e\",                        [{\"line\":{\"color\":\"mediumvioletred\"},\"mode\":\"lines\",\"x\":[0.0,0.20408163265306123,0.40816326530612246,0.6122448979591837,0.8163265306122449,1.0204081632653061,1.2244897959183674,1.4285714285714286,1.6326530612244898,1.836734693877551,2.0408163265306123,2.2448979591836737,2.4489795918367347,2.6530612244897958,2.857142857142857,3.0612244897959187,3.2653061224489797,3.4693877551020407,3.673469387755102,3.8775510204081636,4.081632653061225,4.285714285714286,4.4897959183673475,4.6938775510204085,4.8979591836734695,5.1020408163265305,5.3061224489795915,5.510204081632653,5.714285714285714,5.918367346938775,6.122448979591837,6.326530612244898,6.530612244897959,6.73469387755102,6.938775510204081,7.142857142857143,7.346938775510204,7.551020408163265,7.755102040816327,7.959183673469388,8.16326530612245,8.36734693877551,8.571428571428571,8.775510204081632,8.979591836734695,9.183673469387756,9.387755102040817,9.591836734693878,9.795918367346939,10.0],\"y\":[0.11695184947390358,1.0342182886030045,3.070531657950081,1.591255085376401,1.1191656921836286,-1.8522217560256897,0.5137552183421872,0.31783208587446077,-0.9708103631994426,-0.4412432498222145,-0.5322135064615964,0.40324351708252915,2.4849602074633586,0.017669483582695822,0.9293880043051169,-0.7871627678472775,3.434434666184131,-0.21193632900749648,0.15173268526342465,-1.309739701996755,-1.1029811239937728,-1.1713380904686397,-2.2907444804332844,-1.5428146529283686,-2.4193132031949034,-0.8308058777499688,-3.034086293806481,0.2929011422622476,-0.04183936095740086,1.172280015960095,1.5472013912919942,2.043914929987197,1.7193505849087865,2.025604299592233,0.9313003979687711,0.9294754212338148,1.445132352286097,-0.49362917834377085,0.10457486479565686,-1.7703508197137081,-1.753499510534151,-2.616026741508141,0.46981994783222625,0.4198764554734846,0.8317928801705188,2.766007407265881,2.2581482159512998,0.2301756469172127,-0.9180819516960455,0.627001456497287],\"type\":\"scatter\"}],                        {\"annotations\":[{\"arrowhead\":7,\"ax\":20,\"ay\":-40,\"showarrow\":true,\"text\":\"Maximum value\",\"x\":3.2653061224489797,\"y\":3.434434666184131}],\"font\":{\"color\":\"olive\",\"family\":\"Arial\",\"size\":18},\"height\":600,\"legend\":{\"x\":0.8,\"y\":0.1},\"margin\":{\"b\":50,\"l\":50,\"r\":50,\"t\":50},\"template\":{\"data\":{\"barpolar\":[{\"marker\":{\"line\":{\"color\":\"#E5ECF6\",\"width\":0.5},\"pattern\":{\"fillmode\":\"overlay\",\"size\":10,\"solidity\":0.2}},\"type\":\"barpolar\"}],\"bar\":[{\"error_x\":{\"color\":\"#2a3f5f\"},\"error_y\":{\"color\":\"#2a3f5f\"},\"marker\":{\"line\":{\"color\":\"#E5ECF6\",\"width\":0.5},\"pattern\":{\"fillmode\":\"overlay\",\"size\":10,\"solidity\":0.2}},\"type\":\"bar\"}],\"carpet\":[{\"aaxis\":{\"endlinecolor\":\"#2a3f5f\",\"gridcolor\":\"white\",\"linecolor\":\"white\",\"minorgridcolor\":\"white\",\"startlinecolor\":\"#2a3f5f\"},\"baxis\":{\"endlinecolor\":\"#2a3f5f\",\"gridcolor\":\"white\",\"linecolor\":\"white\",\"minorgridcolor\":\"white\",\"startlinecolor\":\"#2a3f5f\"},\"type\":\"carpet\"}],\"choropleth\":[{\"colorbar\":{\"outlinewidth\":0,\"ticks\":\"\"},\"type\":\"choropleth\"}],\"contourcarpet\":[{\"colorbar\":{\"outlinewidth\":0,\"ticks\":\"\"},\"type\":\"contourcarpet\"}],\"contour\":[{\"colorbar\":{\"outlinewidth\":0,\"ticks\":\"\"},\"colorscale\":[[0.0,\"#0d0887\"],[0.1111111111111111,\"#46039f\"],[0.2222222222222222,\"#7201a8\"],[0.3333333333333333,\"#9c179e\"],[0.4444444444444444,\"#bd3786\"],[0.5555555555555556,\"#d8576b\"],[0.6666666666666666,\"#ed7953\"],[0.7777777777777778,\"#fb9f3a\"],[0.8888888888888888,\"#fdca26\"],[1.0,\"#f0f921\"]],\"type\":\"contour\"}],\"heatmapgl\":[{\"colorbar\":{\"outlinewidth\":0,\"ticks\":\"\"},\"colorscale\":[[0.0,\"#0d0887\"],[0.1111111111111111,\"#46039f\"],[0.2222222222222222,\"#7201a8\"],[0.3333333333333333,\"#9c179e\"],[0.4444444444444444,\"#bd3786\"],[0.5555555555555556,\"#d8576b\"],[0.6666666666666666,\"#ed7953\"],[0.7777777777777778,\"#fb9f3a\"],[0.8888888888888888,\"#fdca26\"],[1.0,\"#f0f921\"]],\"type\":\"heatmapgl\"}],\"heatmap\":[{\"colorbar\":{\"outlinewidth\":0,\"ticks\":\"\"},\"colorscale\":[[0.0,\"#0d0887\"],[0.1111111111111111,\"#46039f\"],[0.2222222222222222,\"#7201a8\"],[0.3333333333333333,\"#9c179e\"],[0.4444444444444444,\"#bd3786\"],[0.5555555555555556,\"#d8576b\"],[0.6666666666666666,\"#ed7953\"],[0.7777777777777778,\"#fb9f3a\"],[0.8888888888888888,\"#fdca26\"],[1.0,\"#f0f921\"]],\"type\":\"heatmap\"}],\"histogram2dcontour\":[{\"colorbar\":{\"outlinewidth\":0,\"ticks\":\"\"},\"colorscale\":[[0.0,\"#0d0887\"],[0.1111111111111111,\"#46039f\"],[0.2222222222222222,\"#7201a8\"],[0.3333333333333333,\"#9c179e\"],[0.4444444444444444,\"#bd3786\"],[0.5555555555555556,\"#d8576b\"],[0.6666666666666666,\"#ed7953\"],[0.7777777777777778,\"#fb9f3a\"],[0.8888888888888888,\"#fdca26\"],[1.0,\"#f0f921\"]],\"type\":\"histogram2dcontour\"}],\"histogram2d\":[{\"colorbar\":{\"outlinewidth\":0,\"ticks\":\"\"},\"colorscale\":[[0.0,\"#0d0887\"],[0.1111111111111111,\"#46039f\"],[0.2222222222222222,\"#7201a8\"],[0.3333333333333333,\"#9c179e\"],[0.4444444444444444,\"#bd3786\"],[0.5555555555555556,\"#d8576b\"],[0.6666666666666666,\"#ed7953\"],[0.7777777777777778,\"#fb9f3a\"],[0.8888888888888888,\"#fdca26\"],[1.0,\"#f0f921\"]],\"type\":\"histogram2d\"}],\"histogram\":[{\"marker\":{\"pattern\":{\"fillmode\":\"overlay\",\"size\":10,\"solidity\":0.2}},\"type\":\"histogram\"}],\"mesh3d\":[{\"colorbar\":{\"outlinewidth\":0,\"ticks\":\"\"},\"type\":\"mesh3d\"}],\"parcoords\":[{\"line\":{\"colorbar\":{\"outlinewidth\":0,\"ticks\":\"\"}},\"type\":\"parcoords\"}],\"pie\":[{\"automargin\":true,\"type\":\"pie\"}],\"scatter3d\":[{\"line\":{\"colorbar\":{\"outlinewidth\":0,\"ticks\":\"\"}},\"marker\":{\"colorbar\":{\"outlinewidth\":0,\"ticks\":\"\"}},\"type\":\"scatter3d\"}],\"scattercarpet\":[{\"marker\":{\"colorbar\":{\"outlinewidth\":0,\"ticks\":\"\"}},\"type\":\"scattercarpet\"}],\"scattergeo\":[{\"marker\":{\"colorbar\":{\"outlinewidth\":0,\"ticks\":\"\"}},\"type\":\"scattergeo\"}],\"scattergl\":[{\"marker\":{\"colorbar\":{\"outlinewidth\":0,\"ticks\":\"\"}},\"type\":\"scattergl\"}],\"scattermapbox\":[{\"marker\":{\"colorbar\":{\"outlinewidth\":0,\"ticks\":\"\"}},\"type\":\"scattermapbox\"}],\"scatterpolargl\":[{\"marker\":{\"colorbar\":{\"outlinewidth\":0,\"ticks\":\"\"}},\"type\":\"scatterpolargl\"}],\"scatterpolar\":[{\"marker\":{\"colorbar\":{\"outlinewidth\":0,\"ticks\":\"\"}},\"type\":\"scatterpolar\"}],\"scatter\":[{\"fillpattern\":{\"fillmode\":\"overlay\",\"size\":10,\"solidity\":0.2},\"type\":\"scatter\"}],\"scatterternary\":[{\"marker\":{\"colorbar\":{\"outlinewidth\":0,\"ticks\":\"\"}},\"type\":\"scatterternary\"}],\"surface\":[{\"colorbar\":{\"outlinewidth\":0,\"ticks\":\"\"},\"colorscale\":[[0.0,\"#0d0887\"],[0.1111111111111111,\"#46039f\"],[0.2222222222222222,\"#7201a8\"],[0.3333333333333333,\"#9c179e\"],[0.4444444444444444,\"#bd3786\"],[0.5555555555555556,\"#d8576b\"],[0.6666666666666666,\"#ed7953\"],[0.7777777777777778,\"#fb9f3a\"],[0.8888888888888888,\"#fdca26\"],[1.0,\"#f0f921\"]],\"type\":\"surface\"}],\"table\":[{\"cells\":{\"fill\":{\"color\":\"#EBF0F8\"},\"line\":{\"color\":\"white\"}},\"header\":{\"fill\":{\"color\":\"#C8D4E3\"},\"line\":{\"color\":\"white\"}},\"type\":\"table\"}]},\"layout\":{\"annotationdefaults\":{\"arrowcolor\":\"#2a3f5f\",\"arrowhead\":0,\"arrowwidth\":1},\"autotypenumbers\":\"strict\",\"coloraxis\":{\"colorbar\":{\"outlinewidth\":0,\"ticks\":\"\"}},\"colorscale\":{\"diverging\":[[0,\"#8e0152\"],[0.1,\"#c51b7d\"],[0.2,\"#de77ae\"],[0.3,\"#f1b6da\"],[0.4,\"#fde0ef\"],[0.5,\"#f7f7f7\"],[0.6,\"#e6f5d0\"],[0.7,\"#b8e186\"],[0.8,\"#7fbc41\"],[0.9,\"#4d9221\"],[1,\"#276419\"]],\"sequential\":[[0.0,\"#0d0887\"],[0.1111111111111111,\"#46039f\"],[0.2222222222222222,\"#7201a8\"],[0.3333333333333333,\"#9c179e\"],[0.4444444444444444,\"#bd3786\"],[0.5555555555555556,\"#d8576b\"],[0.6666666666666666,\"#ed7953\"],[0.7777777777777778,\"#fb9f3a\"],[0.8888888888888888,\"#fdca26\"],[1.0,\"#f0f921\"]],\"sequentialminus\":[[0.0,\"#0d0887\"],[0.1111111111111111,\"#46039f\"],[0.2222222222222222,\"#7201a8\"],[0.3333333333333333,\"#9c179e\"],[0.4444444444444444,\"#bd3786\"],[0.5555555555555556,\"#d8576b\"],[0.6666666666666666,\"#ed7953\"],[0.7777777777777778,\"#fb9f3a\"],[0.8888888888888888,\"#fdca26\"],[1.0,\"#f0f921\"]]},\"colorway\":[\"#636efa\",\"#EF553B\",\"#00cc96\",\"#ab63fa\",\"#FFA15A\",\"#19d3f3\",\"#FF6692\",\"#B6E880\",\"#FF97FF\",\"#FECB52\"],\"font\":{\"color\":\"#2a3f5f\"},\"geo\":{\"bgcolor\":\"white\",\"lakecolor\":\"white\",\"landcolor\":\"#E5ECF6\",\"showlakes\":true,\"showland\":true,\"subunitcolor\":\"white\"},\"hoverlabel\":{\"align\":\"left\"},\"hovermode\":\"closest\",\"mapbox\":{\"style\":\"light\"},\"paper_bgcolor\":\"white\",\"plot_bgcolor\":\"#E5ECF6\",\"polar\":{\"angularaxis\":{\"gridcolor\":\"white\",\"linecolor\":\"white\",\"ticks\":\"\"},\"bgcolor\":\"#E5ECF6\",\"radialaxis\":{\"gridcolor\":\"white\",\"linecolor\":\"white\",\"ticks\":\"\"}},\"scene\":{\"xaxis\":{\"backgroundcolor\":\"#E5ECF6\",\"gridcolor\":\"white\",\"gridwidth\":2,\"linecolor\":\"white\",\"showbackground\":true,\"ticks\":\"\",\"zerolinecolor\":\"white\"},\"yaxis\":{\"backgroundcolor\":\"#E5ECF6\",\"gridcolor\":\"white\",\"gridwidth\":2,\"linecolor\":\"white\",\"showbackground\":true,\"ticks\":\"\",\"zerolinecolor\":\"white\"},\"zaxis\":{\"backgroundcolor\":\"#E5ECF6\",\"gridcolor\":\"white\",\"gridwidth\":2,\"linecolor\":\"white\",\"showbackground\":true,\"ticks\":\"\",\"zerolinecolor\":\"white\"}},\"shapedefaults\":{\"line\":{\"color\":\"#2a3f5f\"}},\"ternary\":{\"aaxis\":{\"gridcolor\":\"white\",\"linecolor\":\"white\",\"ticks\":\"\"},\"baxis\":{\"gridcolor\":\"white\",\"linecolor\":\"white\",\"ticks\":\"\"},\"bgcolor\":\"#E5ECF6\",\"caxis\":{\"gridcolor\":\"white\",\"linecolor\":\"white\",\"ticks\":\"\"}},\"title\":{\"x\":0.05},\"xaxis\":{\"automargin\":true,\"gridcolor\":\"white\",\"linecolor\":\"white\",\"ticks\":\"\",\"title\":{\"standoff\":15},\"zerolinecolor\":\"white\",\"zerolinewidth\":2},\"yaxis\":{\"automargin\":true,\"gridcolor\":\"white\",\"linecolor\":\"white\",\"ticks\":\"\",\"title\":{\"standoff\":15},\"zerolinecolor\":\"white\",\"zerolinewidth\":2}}},\"title\":{\"text\":\"My Plot\"},\"width\":800,\"xaxis\":{\"title\":{\"text\":\"X Axis\"}},\"yaxis\":{\"title\":{\"text\":\"Y Axis\"}}},                        {\"responsive\": true}                    ).then(function(){\n",
       "                            \n",
       "var gd = document.getElementById('66f8f19a-ea6d-4d07-9800-4b51ba12384e');\n",
       "var x = new MutationObserver(function (mutations, observer) {{\n",
       "        var display = window.getComputedStyle(gd).display;\n",
       "        if (!display || display === 'none') {{\n",
       "            console.log([gd, 'removed!']);\n",
       "            Plotly.purge(gd);\n",
       "            observer.disconnect();\n",
       "        }}\n",
       "}});\n",
       "\n",
       "// Listen for the removal of the full notebook cells\n",
       "var notebookContainer = gd.closest('#notebook-container');\n",
       "if (notebookContainer) {{\n",
       "    x.observe(notebookContainer, {childList: true});\n",
       "}}\n",
       "\n",
       "// Listen for the clearing of the current output cell\n",
       "var outputEl = gd.closest('.output');\n",
       "if (outputEl) {{\n",
       "    x.observe(outputEl, {childList: true});\n",
       "}}\n",
       "\n",
       "                        })                };                });            </script>        </div>"
      ]
     },
     "metadata": {},
     "output_type": "display_data"
    }
   ],
   "source": [
    "# Generate x data\n",
    "x = np.linspace(0, 10, 50) \n",
    "\n",
    "# Generate y data with peaks\n",
    "y = np.sin(x) + np.cos(2*x) + np.random.randn(len(x))\n",
    "\n",
    "# Create trace \n",
    "trace3 = go.Scatter(\n",
    "    x = x,\n",
    "    y = y,\n",
    "    mode = 'lines',\n",
    "    line = dict(color = 'mediumvioletred')\n",
    ")\n",
    "\n",
    "# Calculate max y value\n",
    "ymax = max(y)\n",
    "# Find index of max y value \n",
    "imax = np.argmax(y)\n",
    "# Get x value at same index\n",
    "xmax = x[imax]\n",
    "\n",
    "# Create layout\n",
    "layout3 = go.Layout(\n",
    "    title='My Plot',\n",
    "    xaxis={'title': 'X Axis'},\n",
    "    yaxis={'title': 'Y Axis'},\n",
    "    width=800,\n",
    "    height=600,\n",
    "    margin={'l': 50, 'r': 50, 't': 50, 'b': 50},\n",
    "    font={'family': 'Arial', 'size': 18, 'color': 'olive'},\n",
    "    legend={'x': 0.8, 'y': 0.1},\n",
    "    annotations=[\n",
    "        {\n",
    "            'x': xmax,\n",
    "            'y': ymax,\n",
    "            'text': 'Maximum value',\n",
    "            'showarrow': True,\n",
    "            'arrowhead': 7,\n",
    "            'ax': 20,\n",
    "            'ay': -40\n",
    "        }\n",
    "    ]\n",
    ")\n",
    "\n",
    "# Create a Plotly figure\n",
    "fig = go.Figure(data=[trace3], layout=layout3)\n",
    "# Display the plot using iplot()\n",
    "iplot(fig)"
   ]
  },
  {
   "cell_type": "code",
   "execution_count": 45,
   "metadata": {},
   "outputs": [
    {
     "data": {
      "text/plain": [
       "[Scatter({\n",
       "     'mode': 'lines',\n",
       "     'name': 'Original Plot',\n",
       "     'x': [0, 1, 2, 3, 4, 5, 6, 7, 8, 9, 10, 11, 12, 13, 14, 15, 16, 17, 18, 19,\n",
       "           20, 21, 22, 23, 24, 25, 26, 27, 28, 29, 30, 31],\n",
       "     'y': [0, 12, 21, 33, 42, 59, 66, 73, 82, 99, 120, 130, 145, 177, 188, 200, 42,\n",
       "           49, 21, 33, 42, 49, 33, 42, 49, 33, 42, 49, 33, 42, 49, 100]\n",
       " }),\n",
       " Scatter({\n",
       "     'marker': {'color': 'rgb(255,0,0)', 'size': 8, 'symbol': 'cross'},\n",
       "     'mode': 'markers',\n",
       "     'name': 'Detected Peaks',\n",
       "     'x': array([15, 17, 21, 24, 27]),\n",
       "     'y': [200, 49, 49, 49, 49]\n",
       " })]"
      ]
     },
     "execution_count": 45,
     "metadata": {},
     "output_type": "execute_result"
    }
   ],
   "source": [
    "data"
   ]
  },
  {
   "cell_type": "code",
   "execution_count": 46,
   "metadata": {},
   "outputs": [
    {
     "data": {
      "application/vnd.plotly.v1+json": {
       "config": {
        "linkText": "Export to plotly.com",
        "plotlyServerURL": "https://plotly.com",
        "showLink": false
       },
       "data": [
        {
         "mode": "markers",
         "name": "My Scatter Plot",
         "type": "scatter",
         "x": [
          "0,076",
          "0,086",
          "0,088",
          "0,099",
          "0,054",
          "0,077",
          "0,078",
          "0,076",
          "0,12",
          "0,13",
          "0,17",
          "0,18",
          "0,077",
          "0,076",
          "0,095",
          "0,15",
          "0,22",
          "0,27",
          "0,24",
          "0,076",
          "0,095",
          "0,247",
          "0,245",
          "0,455",
          "0,077",
          "0,295",
          "0,222",
          "0,244",
          "0,234",
          "0,266",
          "0,276",
          "0,243"
         ],
         "y": [
          0,
          12,
          21,
          33,
          42,
          59,
          66,
          73,
          82,
          99,
          120,
          130,
          145,
          177,
          188,
          200,
          42,
          49,
          21,
          33,
          42,
          49,
          33,
          42,
          49,
          33,
          42,
          49,
          33,
          42,
          49,
          100
         ]
        }
       ],
       "layout": {
        "template": {
         "data": {
          "bar": [
           {
            "error_x": {
             "color": "#2a3f5f"
            },
            "error_y": {
             "color": "#2a3f5f"
            },
            "marker": {
             "line": {
              "color": "#E5ECF6",
              "width": 0.5
             },
             "pattern": {
              "fillmode": "overlay",
              "size": 10,
              "solidity": 0.2
             }
            },
            "type": "bar"
           }
          ],
          "barpolar": [
           {
            "marker": {
             "line": {
              "color": "#E5ECF6",
              "width": 0.5
             },
             "pattern": {
              "fillmode": "overlay",
              "size": 10,
              "solidity": 0.2
             }
            },
            "type": "barpolar"
           }
          ],
          "carpet": [
           {
            "aaxis": {
             "endlinecolor": "#2a3f5f",
             "gridcolor": "white",
             "linecolor": "white",
             "minorgridcolor": "white",
             "startlinecolor": "#2a3f5f"
            },
            "baxis": {
             "endlinecolor": "#2a3f5f",
             "gridcolor": "white",
             "linecolor": "white",
             "minorgridcolor": "white",
             "startlinecolor": "#2a3f5f"
            },
            "type": "carpet"
           }
          ],
          "choropleth": [
           {
            "colorbar": {
             "outlinewidth": 0,
             "ticks": ""
            },
            "type": "choropleth"
           }
          ],
          "contour": [
           {
            "colorbar": {
             "outlinewidth": 0,
             "ticks": ""
            },
            "colorscale": [
             [
              0,
              "#0d0887"
             ],
             [
              0.1111111111111111,
              "#46039f"
             ],
             [
              0.2222222222222222,
              "#7201a8"
             ],
             [
              0.3333333333333333,
              "#9c179e"
             ],
             [
              0.4444444444444444,
              "#bd3786"
             ],
             [
              0.5555555555555556,
              "#d8576b"
             ],
             [
              0.6666666666666666,
              "#ed7953"
             ],
             [
              0.7777777777777778,
              "#fb9f3a"
             ],
             [
              0.8888888888888888,
              "#fdca26"
             ],
             [
              1,
              "#f0f921"
             ]
            ],
            "type": "contour"
           }
          ],
          "contourcarpet": [
           {
            "colorbar": {
             "outlinewidth": 0,
             "ticks": ""
            },
            "type": "contourcarpet"
           }
          ],
          "heatmap": [
           {
            "colorbar": {
             "outlinewidth": 0,
             "ticks": ""
            },
            "colorscale": [
             [
              0,
              "#0d0887"
             ],
             [
              0.1111111111111111,
              "#46039f"
             ],
             [
              0.2222222222222222,
              "#7201a8"
             ],
             [
              0.3333333333333333,
              "#9c179e"
             ],
             [
              0.4444444444444444,
              "#bd3786"
             ],
             [
              0.5555555555555556,
              "#d8576b"
             ],
             [
              0.6666666666666666,
              "#ed7953"
             ],
             [
              0.7777777777777778,
              "#fb9f3a"
             ],
             [
              0.8888888888888888,
              "#fdca26"
             ],
             [
              1,
              "#f0f921"
             ]
            ],
            "type": "heatmap"
           }
          ],
          "heatmapgl": [
           {
            "colorbar": {
             "outlinewidth": 0,
             "ticks": ""
            },
            "colorscale": [
             [
              0,
              "#0d0887"
             ],
             [
              0.1111111111111111,
              "#46039f"
             ],
             [
              0.2222222222222222,
              "#7201a8"
             ],
             [
              0.3333333333333333,
              "#9c179e"
             ],
             [
              0.4444444444444444,
              "#bd3786"
             ],
             [
              0.5555555555555556,
              "#d8576b"
             ],
             [
              0.6666666666666666,
              "#ed7953"
             ],
             [
              0.7777777777777778,
              "#fb9f3a"
             ],
             [
              0.8888888888888888,
              "#fdca26"
             ],
             [
              1,
              "#f0f921"
             ]
            ],
            "type": "heatmapgl"
           }
          ],
          "histogram": [
           {
            "marker": {
             "pattern": {
              "fillmode": "overlay",
              "size": 10,
              "solidity": 0.2
             }
            },
            "type": "histogram"
           }
          ],
          "histogram2d": [
           {
            "colorbar": {
             "outlinewidth": 0,
             "ticks": ""
            },
            "colorscale": [
             [
              0,
              "#0d0887"
             ],
             [
              0.1111111111111111,
              "#46039f"
             ],
             [
              0.2222222222222222,
              "#7201a8"
             ],
             [
              0.3333333333333333,
              "#9c179e"
             ],
             [
              0.4444444444444444,
              "#bd3786"
             ],
             [
              0.5555555555555556,
              "#d8576b"
             ],
             [
              0.6666666666666666,
              "#ed7953"
             ],
             [
              0.7777777777777778,
              "#fb9f3a"
             ],
             [
              0.8888888888888888,
              "#fdca26"
             ],
             [
              1,
              "#f0f921"
             ]
            ],
            "type": "histogram2d"
           }
          ],
          "histogram2dcontour": [
           {
            "colorbar": {
             "outlinewidth": 0,
             "ticks": ""
            },
            "colorscale": [
             [
              0,
              "#0d0887"
             ],
             [
              0.1111111111111111,
              "#46039f"
             ],
             [
              0.2222222222222222,
              "#7201a8"
             ],
             [
              0.3333333333333333,
              "#9c179e"
             ],
             [
              0.4444444444444444,
              "#bd3786"
             ],
             [
              0.5555555555555556,
              "#d8576b"
             ],
             [
              0.6666666666666666,
              "#ed7953"
             ],
             [
              0.7777777777777778,
              "#fb9f3a"
             ],
             [
              0.8888888888888888,
              "#fdca26"
             ],
             [
              1,
              "#f0f921"
             ]
            ],
            "type": "histogram2dcontour"
           }
          ],
          "mesh3d": [
           {
            "colorbar": {
             "outlinewidth": 0,
             "ticks": ""
            },
            "type": "mesh3d"
           }
          ],
          "parcoords": [
           {
            "line": {
             "colorbar": {
              "outlinewidth": 0,
              "ticks": ""
             }
            },
            "type": "parcoords"
           }
          ],
          "pie": [
           {
            "automargin": true,
            "type": "pie"
           }
          ],
          "scatter": [
           {
            "fillpattern": {
             "fillmode": "overlay",
             "size": 10,
             "solidity": 0.2
            },
            "type": "scatter"
           }
          ],
          "scatter3d": [
           {
            "line": {
             "colorbar": {
              "outlinewidth": 0,
              "ticks": ""
             }
            },
            "marker": {
             "colorbar": {
              "outlinewidth": 0,
              "ticks": ""
             }
            },
            "type": "scatter3d"
           }
          ],
          "scattercarpet": [
           {
            "marker": {
             "colorbar": {
              "outlinewidth": 0,
              "ticks": ""
             }
            },
            "type": "scattercarpet"
           }
          ],
          "scattergeo": [
           {
            "marker": {
             "colorbar": {
              "outlinewidth": 0,
              "ticks": ""
             }
            },
            "type": "scattergeo"
           }
          ],
          "scattergl": [
           {
            "marker": {
             "colorbar": {
              "outlinewidth": 0,
              "ticks": ""
             }
            },
            "type": "scattergl"
           }
          ],
          "scattermapbox": [
           {
            "marker": {
             "colorbar": {
              "outlinewidth": 0,
              "ticks": ""
             }
            },
            "type": "scattermapbox"
           }
          ],
          "scatterpolar": [
           {
            "marker": {
             "colorbar": {
              "outlinewidth": 0,
              "ticks": ""
             }
            },
            "type": "scatterpolar"
           }
          ],
          "scatterpolargl": [
           {
            "marker": {
             "colorbar": {
              "outlinewidth": 0,
              "ticks": ""
             }
            },
            "type": "scatterpolargl"
           }
          ],
          "scatterternary": [
           {
            "marker": {
             "colorbar": {
              "outlinewidth": 0,
              "ticks": ""
             }
            },
            "type": "scatterternary"
           }
          ],
          "surface": [
           {
            "colorbar": {
             "outlinewidth": 0,
             "ticks": ""
            },
            "colorscale": [
             [
              0,
              "#0d0887"
             ],
             [
              0.1111111111111111,
              "#46039f"
             ],
             [
              0.2222222222222222,
              "#7201a8"
             ],
             [
              0.3333333333333333,
              "#9c179e"
             ],
             [
              0.4444444444444444,
              "#bd3786"
             ],
             [
              0.5555555555555556,
              "#d8576b"
             ],
             [
              0.6666666666666666,
              "#ed7953"
             ],
             [
              0.7777777777777778,
              "#fb9f3a"
             ],
             [
              0.8888888888888888,
              "#fdca26"
             ],
             [
              1,
              "#f0f921"
             ]
            ],
            "type": "surface"
           }
          ],
          "table": [
           {
            "cells": {
             "fill": {
              "color": "#EBF0F8"
             },
             "line": {
              "color": "white"
             }
            },
            "header": {
             "fill": {
              "color": "#C8D4E3"
             },
             "line": {
              "color": "white"
             }
            },
            "type": "table"
           }
          ]
         },
         "layout": {
          "annotationdefaults": {
           "arrowcolor": "#2a3f5f",
           "arrowhead": 0,
           "arrowwidth": 1
          },
          "autotypenumbers": "strict",
          "coloraxis": {
           "colorbar": {
            "outlinewidth": 0,
            "ticks": ""
           }
          },
          "colorscale": {
           "diverging": [
            [
             0,
             "#8e0152"
            ],
            [
             0.1,
             "#c51b7d"
            ],
            [
             0.2,
             "#de77ae"
            ],
            [
             0.3,
             "#f1b6da"
            ],
            [
             0.4,
             "#fde0ef"
            ],
            [
             0.5,
             "#f7f7f7"
            ],
            [
             0.6,
             "#e6f5d0"
            ],
            [
             0.7,
             "#b8e186"
            ],
            [
             0.8,
             "#7fbc41"
            ],
            [
             0.9,
             "#4d9221"
            ],
            [
             1,
             "#276419"
            ]
           ],
           "sequential": [
            [
             0,
             "#0d0887"
            ],
            [
             0.1111111111111111,
             "#46039f"
            ],
            [
             0.2222222222222222,
             "#7201a8"
            ],
            [
             0.3333333333333333,
             "#9c179e"
            ],
            [
             0.4444444444444444,
             "#bd3786"
            ],
            [
             0.5555555555555556,
             "#d8576b"
            ],
            [
             0.6666666666666666,
             "#ed7953"
            ],
            [
             0.7777777777777778,
             "#fb9f3a"
            ],
            [
             0.8888888888888888,
             "#fdca26"
            ],
            [
             1,
             "#f0f921"
            ]
           ],
           "sequentialminus": [
            [
             0,
             "#0d0887"
            ],
            [
             0.1111111111111111,
             "#46039f"
            ],
            [
             0.2222222222222222,
             "#7201a8"
            ],
            [
             0.3333333333333333,
             "#9c179e"
            ],
            [
             0.4444444444444444,
             "#bd3786"
            ],
            [
             0.5555555555555556,
             "#d8576b"
            ],
            [
             0.6666666666666666,
             "#ed7953"
            ],
            [
             0.7777777777777778,
             "#fb9f3a"
            ],
            [
             0.8888888888888888,
             "#fdca26"
            ],
            [
             1,
             "#f0f921"
            ]
           ]
          },
          "colorway": [
           "#636efa",
           "#EF553B",
           "#00cc96",
           "#ab63fa",
           "#FFA15A",
           "#19d3f3",
           "#FF6692",
           "#B6E880",
           "#FF97FF",
           "#FECB52"
          ],
          "font": {
           "color": "#2a3f5f"
          },
          "geo": {
           "bgcolor": "white",
           "lakecolor": "white",
           "landcolor": "#E5ECF6",
           "showlakes": true,
           "showland": true,
           "subunitcolor": "white"
          },
          "hoverlabel": {
           "align": "left"
          },
          "hovermode": "closest",
          "mapbox": {
           "style": "light"
          },
          "paper_bgcolor": "white",
          "plot_bgcolor": "#E5ECF6",
          "polar": {
           "angularaxis": {
            "gridcolor": "white",
            "linecolor": "white",
            "ticks": ""
           },
           "bgcolor": "#E5ECF6",
           "radialaxis": {
            "gridcolor": "white",
            "linecolor": "white",
            "ticks": ""
           }
          },
          "scene": {
           "xaxis": {
            "backgroundcolor": "#E5ECF6",
            "gridcolor": "white",
            "gridwidth": 2,
            "linecolor": "white",
            "showbackground": true,
            "ticks": "",
            "zerolinecolor": "white"
           },
           "yaxis": {
            "backgroundcolor": "#E5ECF6",
            "gridcolor": "white",
            "gridwidth": 2,
            "linecolor": "white",
            "showbackground": true,
            "ticks": "",
            "zerolinecolor": "white"
           },
           "zaxis": {
            "backgroundcolor": "#E5ECF6",
            "gridcolor": "white",
            "gridwidth": 2,
            "linecolor": "white",
            "showbackground": true,
            "ticks": "",
            "zerolinecolor": "white"
           }
          },
          "shapedefaults": {
           "line": {
            "color": "#2a3f5f"
           }
          },
          "ternary": {
           "aaxis": {
            "gridcolor": "white",
            "linecolor": "white",
            "ticks": ""
           },
           "baxis": {
            "gridcolor": "white",
            "linecolor": "white",
            "ticks": ""
           },
           "bgcolor": "#E5ECF6",
           "caxis": {
            "gridcolor": "white",
            "linecolor": "white",
            "ticks": ""
           }
          },
          "title": {
           "x": 0.05
          },
          "xaxis": {
           "automargin": true,
           "gridcolor": "white",
           "linecolor": "white",
           "ticks": "",
           "title": {
            "standoff": 15
           },
           "zerolinecolor": "white",
           "zerolinewidth": 2
          },
          "yaxis": {
           "automargin": true,
           "gridcolor": "white",
           "linecolor": "white",
           "ticks": "",
           "title": {
            "standoff": 15
           },
           "zerolinecolor": "white",
           "zerolinewidth": 2
          }
         }
        },
        "title": {
         "text": "Pressures in Time"
        },
        "xaxis": {
         "title": {
          "text": "X Axis"
         }
        },
        "yaxis": {
         "title": {
          "text": "Y Axis"
         }
        }
       }
      },
      "text/html": [
       "<div>                            <div id=\"de53726f-a03a-4191-9748-dd9343048d1f\" class=\"plotly-graph-div\" style=\"height:525px; width:100%;\"></div>            <script type=\"text/javascript\">                require([\"plotly\"], function(Plotly) {                    window.PLOTLYENV=window.PLOTLYENV || {};                                    if (document.getElementById(\"de53726f-a03a-4191-9748-dd9343048d1f\")) {                    Plotly.newPlot(                        \"de53726f-a03a-4191-9748-dd9343048d1f\",                        [{\"mode\":\"markers\",\"name\":\"My Scatter Plot\",\"x\":[\"0,076\",\"0,086\",\"0,088\",\"0,099\",\"0,054\",\"0,077\",\"0,078\",\"0,076\",\"0,12\",\"0,13\",\"0,17\",\"0,18\",\"0,077\",\"0,076\",\"0,095\",\"0,15\",\"0,22\",\"0,27\",\"0,24\",\"0,076\",\"0,095\",\"0,247\",\"0,245\",\"0,455\",\"0,077\",\"0,295\",\"0,222\",\"0,244\",\"0,234\",\"0,266\",\"0,276\",\"0,243\"],\"y\":[0,12,21,33,42,59,66,73,82,99,120,130,145,177,188,200,42,49,21,33,42,49,33,42,49,33,42,49,33,42,49,100],\"type\":\"scatter\"}],                        {\"template\":{\"data\":{\"barpolar\":[{\"marker\":{\"line\":{\"color\":\"#E5ECF6\",\"width\":0.5},\"pattern\":{\"fillmode\":\"overlay\",\"size\":10,\"solidity\":0.2}},\"type\":\"barpolar\"}],\"bar\":[{\"error_x\":{\"color\":\"#2a3f5f\"},\"error_y\":{\"color\":\"#2a3f5f\"},\"marker\":{\"line\":{\"color\":\"#E5ECF6\",\"width\":0.5},\"pattern\":{\"fillmode\":\"overlay\",\"size\":10,\"solidity\":0.2}},\"type\":\"bar\"}],\"carpet\":[{\"aaxis\":{\"endlinecolor\":\"#2a3f5f\",\"gridcolor\":\"white\",\"linecolor\":\"white\",\"minorgridcolor\":\"white\",\"startlinecolor\":\"#2a3f5f\"},\"baxis\":{\"endlinecolor\":\"#2a3f5f\",\"gridcolor\":\"white\",\"linecolor\":\"white\",\"minorgridcolor\":\"white\",\"startlinecolor\":\"#2a3f5f\"},\"type\":\"carpet\"}],\"choropleth\":[{\"colorbar\":{\"outlinewidth\":0,\"ticks\":\"\"},\"type\":\"choropleth\"}],\"contourcarpet\":[{\"colorbar\":{\"outlinewidth\":0,\"ticks\":\"\"},\"type\":\"contourcarpet\"}],\"contour\":[{\"colorbar\":{\"outlinewidth\":0,\"ticks\":\"\"},\"colorscale\":[[0.0,\"#0d0887\"],[0.1111111111111111,\"#46039f\"],[0.2222222222222222,\"#7201a8\"],[0.3333333333333333,\"#9c179e\"],[0.4444444444444444,\"#bd3786\"],[0.5555555555555556,\"#d8576b\"],[0.6666666666666666,\"#ed7953\"],[0.7777777777777778,\"#fb9f3a\"],[0.8888888888888888,\"#fdca26\"],[1.0,\"#f0f921\"]],\"type\":\"contour\"}],\"heatmapgl\":[{\"colorbar\":{\"outlinewidth\":0,\"ticks\":\"\"},\"colorscale\":[[0.0,\"#0d0887\"],[0.1111111111111111,\"#46039f\"],[0.2222222222222222,\"#7201a8\"],[0.3333333333333333,\"#9c179e\"],[0.4444444444444444,\"#bd3786\"],[0.5555555555555556,\"#d8576b\"],[0.6666666666666666,\"#ed7953\"],[0.7777777777777778,\"#fb9f3a\"],[0.8888888888888888,\"#fdca26\"],[1.0,\"#f0f921\"]],\"type\":\"heatmapgl\"}],\"heatmap\":[{\"colorbar\":{\"outlinewidth\":0,\"ticks\":\"\"},\"colorscale\":[[0.0,\"#0d0887\"],[0.1111111111111111,\"#46039f\"],[0.2222222222222222,\"#7201a8\"],[0.3333333333333333,\"#9c179e\"],[0.4444444444444444,\"#bd3786\"],[0.5555555555555556,\"#d8576b\"],[0.6666666666666666,\"#ed7953\"],[0.7777777777777778,\"#fb9f3a\"],[0.8888888888888888,\"#fdca26\"],[1.0,\"#f0f921\"]],\"type\":\"heatmap\"}],\"histogram2dcontour\":[{\"colorbar\":{\"outlinewidth\":0,\"ticks\":\"\"},\"colorscale\":[[0.0,\"#0d0887\"],[0.1111111111111111,\"#46039f\"],[0.2222222222222222,\"#7201a8\"],[0.3333333333333333,\"#9c179e\"],[0.4444444444444444,\"#bd3786\"],[0.5555555555555556,\"#d8576b\"],[0.6666666666666666,\"#ed7953\"],[0.7777777777777778,\"#fb9f3a\"],[0.8888888888888888,\"#fdca26\"],[1.0,\"#f0f921\"]],\"type\":\"histogram2dcontour\"}],\"histogram2d\":[{\"colorbar\":{\"outlinewidth\":0,\"ticks\":\"\"},\"colorscale\":[[0.0,\"#0d0887\"],[0.1111111111111111,\"#46039f\"],[0.2222222222222222,\"#7201a8\"],[0.3333333333333333,\"#9c179e\"],[0.4444444444444444,\"#bd3786\"],[0.5555555555555556,\"#d8576b\"],[0.6666666666666666,\"#ed7953\"],[0.7777777777777778,\"#fb9f3a\"],[0.8888888888888888,\"#fdca26\"],[1.0,\"#f0f921\"]],\"type\":\"histogram2d\"}],\"histogram\":[{\"marker\":{\"pattern\":{\"fillmode\":\"overlay\",\"size\":10,\"solidity\":0.2}},\"type\":\"histogram\"}],\"mesh3d\":[{\"colorbar\":{\"outlinewidth\":0,\"ticks\":\"\"},\"type\":\"mesh3d\"}],\"parcoords\":[{\"line\":{\"colorbar\":{\"outlinewidth\":0,\"ticks\":\"\"}},\"type\":\"parcoords\"}],\"pie\":[{\"automargin\":true,\"type\":\"pie\"}],\"scatter3d\":[{\"line\":{\"colorbar\":{\"outlinewidth\":0,\"ticks\":\"\"}},\"marker\":{\"colorbar\":{\"outlinewidth\":0,\"ticks\":\"\"}},\"type\":\"scatter3d\"}],\"scattercarpet\":[{\"marker\":{\"colorbar\":{\"outlinewidth\":0,\"ticks\":\"\"}},\"type\":\"scattercarpet\"}],\"scattergeo\":[{\"marker\":{\"colorbar\":{\"outlinewidth\":0,\"ticks\":\"\"}},\"type\":\"scattergeo\"}],\"scattergl\":[{\"marker\":{\"colorbar\":{\"outlinewidth\":0,\"ticks\":\"\"}},\"type\":\"scattergl\"}],\"scattermapbox\":[{\"marker\":{\"colorbar\":{\"outlinewidth\":0,\"ticks\":\"\"}},\"type\":\"scattermapbox\"}],\"scatterpolargl\":[{\"marker\":{\"colorbar\":{\"outlinewidth\":0,\"ticks\":\"\"}},\"type\":\"scatterpolargl\"}],\"scatterpolar\":[{\"marker\":{\"colorbar\":{\"outlinewidth\":0,\"ticks\":\"\"}},\"type\":\"scatterpolar\"}],\"scatter\":[{\"fillpattern\":{\"fillmode\":\"overlay\",\"size\":10,\"solidity\":0.2},\"type\":\"scatter\"}],\"scatterternary\":[{\"marker\":{\"colorbar\":{\"outlinewidth\":0,\"ticks\":\"\"}},\"type\":\"scatterternary\"}],\"surface\":[{\"colorbar\":{\"outlinewidth\":0,\"ticks\":\"\"},\"colorscale\":[[0.0,\"#0d0887\"],[0.1111111111111111,\"#46039f\"],[0.2222222222222222,\"#7201a8\"],[0.3333333333333333,\"#9c179e\"],[0.4444444444444444,\"#bd3786\"],[0.5555555555555556,\"#d8576b\"],[0.6666666666666666,\"#ed7953\"],[0.7777777777777778,\"#fb9f3a\"],[0.8888888888888888,\"#fdca26\"],[1.0,\"#f0f921\"]],\"type\":\"surface\"}],\"table\":[{\"cells\":{\"fill\":{\"color\":\"#EBF0F8\"},\"line\":{\"color\":\"white\"}},\"header\":{\"fill\":{\"color\":\"#C8D4E3\"},\"line\":{\"color\":\"white\"}},\"type\":\"table\"}]},\"layout\":{\"annotationdefaults\":{\"arrowcolor\":\"#2a3f5f\",\"arrowhead\":0,\"arrowwidth\":1},\"autotypenumbers\":\"strict\",\"coloraxis\":{\"colorbar\":{\"outlinewidth\":0,\"ticks\":\"\"}},\"colorscale\":{\"diverging\":[[0,\"#8e0152\"],[0.1,\"#c51b7d\"],[0.2,\"#de77ae\"],[0.3,\"#f1b6da\"],[0.4,\"#fde0ef\"],[0.5,\"#f7f7f7\"],[0.6,\"#e6f5d0\"],[0.7,\"#b8e186\"],[0.8,\"#7fbc41\"],[0.9,\"#4d9221\"],[1,\"#276419\"]],\"sequential\":[[0.0,\"#0d0887\"],[0.1111111111111111,\"#46039f\"],[0.2222222222222222,\"#7201a8\"],[0.3333333333333333,\"#9c179e\"],[0.4444444444444444,\"#bd3786\"],[0.5555555555555556,\"#d8576b\"],[0.6666666666666666,\"#ed7953\"],[0.7777777777777778,\"#fb9f3a\"],[0.8888888888888888,\"#fdca26\"],[1.0,\"#f0f921\"]],\"sequentialminus\":[[0.0,\"#0d0887\"],[0.1111111111111111,\"#46039f\"],[0.2222222222222222,\"#7201a8\"],[0.3333333333333333,\"#9c179e\"],[0.4444444444444444,\"#bd3786\"],[0.5555555555555556,\"#d8576b\"],[0.6666666666666666,\"#ed7953\"],[0.7777777777777778,\"#fb9f3a\"],[0.8888888888888888,\"#fdca26\"],[1.0,\"#f0f921\"]]},\"colorway\":[\"#636efa\",\"#EF553B\",\"#00cc96\",\"#ab63fa\",\"#FFA15A\",\"#19d3f3\",\"#FF6692\",\"#B6E880\",\"#FF97FF\",\"#FECB52\"],\"font\":{\"color\":\"#2a3f5f\"},\"geo\":{\"bgcolor\":\"white\",\"lakecolor\":\"white\",\"landcolor\":\"#E5ECF6\",\"showlakes\":true,\"showland\":true,\"subunitcolor\":\"white\"},\"hoverlabel\":{\"align\":\"left\"},\"hovermode\":\"closest\",\"mapbox\":{\"style\":\"light\"},\"paper_bgcolor\":\"white\",\"plot_bgcolor\":\"#E5ECF6\",\"polar\":{\"angularaxis\":{\"gridcolor\":\"white\",\"linecolor\":\"white\",\"ticks\":\"\"},\"bgcolor\":\"#E5ECF6\",\"radialaxis\":{\"gridcolor\":\"white\",\"linecolor\":\"white\",\"ticks\":\"\"}},\"scene\":{\"xaxis\":{\"backgroundcolor\":\"#E5ECF6\",\"gridcolor\":\"white\",\"gridwidth\":2,\"linecolor\":\"white\",\"showbackground\":true,\"ticks\":\"\",\"zerolinecolor\":\"white\"},\"yaxis\":{\"backgroundcolor\":\"#E5ECF6\",\"gridcolor\":\"white\",\"gridwidth\":2,\"linecolor\":\"white\",\"showbackground\":true,\"ticks\":\"\",\"zerolinecolor\":\"white\"},\"zaxis\":{\"backgroundcolor\":\"#E5ECF6\",\"gridcolor\":\"white\",\"gridwidth\":2,\"linecolor\":\"white\",\"showbackground\":true,\"ticks\":\"\",\"zerolinecolor\":\"white\"}},\"shapedefaults\":{\"line\":{\"color\":\"#2a3f5f\"}},\"ternary\":{\"aaxis\":{\"gridcolor\":\"white\",\"linecolor\":\"white\",\"ticks\":\"\"},\"baxis\":{\"gridcolor\":\"white\",\"linecolor\":\"white\",\"ticks\":\"\"},\"bgcolor\":\"#E5ECF6\",\"caxis\":{\"gridcolor\":\"white\",\"linecolor\":\"white\",\"ticks\":\"\"}},\"title\":{\"x\":0.05},\"xaxis\":{\"automargin\":true,\"gridcolor\":\"white\",\"linecolor\":\"white\",\"ticks\":\"\",\"title\":{\"standoff\":15},\"zerolinecolor\":\"white\",\"zerolinewidth\":2},\"yaxis\":{\"automargin\":true,\"gridcolor\":\"white\",\"linecolor\":\"white\",\"ticks\":\"\",\"title\":{\"standoff\":15},\"zerolinecolor\":\"white\",\"zerolinewidth\":2}}},\"title\":{\"text\":\"Pressures in Time\"},\"xaxis\":{\"title\":{\"text\":\"X Axis\"}},\"yaxis\":{\"title\":{\"text\":\"Y Axis\"}}},                        {\"responsive\": true}                    ).then(function(){\n",
       "                            \n",
       "var gd = document.getElementById('de53726f-a03a-4191-9748-dd9343048d1f');\n",
       "var x = new MutationObserver(function (mutations, observer) {{\n",
       "        var display = window.getComputedStyle(gd).display;\n",
       "        if (!display || display === 'none') {{\n",
       "            console.log([gd, 'removed!']);\n",
       "            Plotly.purge(gd);\n",
       "            observer.disconnect();\n",
       "        }}\n",
       "}});\n",
       "\n",
       "// Listen for the removal of the full notebook cells\n",
       "var notebookContainer = gd.closest('#notebook-container');\n",
       "if (notebookContainer) {{\n",
       "    x.observe(notebookContainer, {childList: true});\n",
       "}}\n",
       "\n",
       "// Listen for the clearing of the current output cell\n",
       "var outputEl = gd.closest('.output');\n",
       "if (outputEl) {{\n",
       "    x.observe(outputEl, {childList: true});\n",
       "}}\n",
       "\n",
       "                        })                };                });            </script>        </div>"
      ]
     },
     "metadata": {},
     "output_type": "display_data"
    }
   ],
   "source": [
    "# Create some data for a scatter plot\n",
    "x = ips\n",
    "y = ics\n",
    "\n",
    "# Create a dictionary with the data\n",
    "scatter_data = {'x': x, 'y': y, 'mode': 'markers', 'name': 'My Scatter Plot'}\n",
    "\n",
    "# Create a dictionary with the layout options\n",
    "layout_data = {'title': 'Pressures in Time', 'xaxis': {'title': 'X Axis'}, 'yaxis': {'title': 'Y Axis'}}\n",
    "\n",
    "# Create a dictionary with the data and layout\n",
    "figure_data = {'data': [scatter_data], 'layout': layout_data}\n",
    "\n",
    "# Display the plot using iplot()\n",
    "iplot(figure_data)"
   ]
  },
  {
   "cell_type": "code",
   "execution_count": 47,
   "metadata": {},
   "outputs": [
    {
     "data": {
      "image/png": "[encoded data removed]",
      "text/plain": [
       "<Figure size 640x480 with 1 Axes>"
      ]
     },
     "metadata": {},
     "output_type": "display_data"
    }
   ],
   "source": [
    "x = df.copy()\n",
    "plt.plot(x);"
   ]
  },
  {
   "cell_type": "code",
   "execution_count": 51,
   "metadata": {},
   "outputs": [
    {
     "data": {
      "text/html": [
       "<div>\n",
       "<style scoped>\n",
       "    .dataframe tbody tr th:only-of-type {\n",
       "        vertical-align: middle;\n",
       "    }\n",
       "\n",
       "    .dataframe tbody tr th {\n",
       "        vertical-align: top;\n",
       "    }\n",
       "\n",
       "    .dataframe thead th {\n",
       "        text-align: right;\n",
       "    }\n",
       "</style>\n",
       "<table border=\"1\" class=\"dataframe\">\n",
       "  <thead>\n",
       "    <tr style=\"text-align: right;\">\n",
       "      <th></th>\n",
       "      <th>country</th>\n",
       "      <th>continent</th>\n",
       "      <th>year</th>\n",
       "      <th>lifeExp</th>\n",
       "      <th>pop</th>\n",
       "      <th>gdpPercap</th>\n",
       "      <th>iso_alpha</th>\n",
       "      <th>iso_num</th>\n",
       "    </tr>\n",
       "  </thead>\n",
       "  <tbody>\n",
       "    <tr>\n",
       "      <th>0</th>\n",
       "      <td>Afghanistan</td>\n",
       "      <td>Asia</td>\n",
       "      <td>1952</td>\n",
       "      <td>28.801</td>\n",
       "      <td>8425333</td>\n",
       "      <td>779.445314</td>\n",
       "      <td>AFG</td>\n",
       "      <td>4</td>\n",
       "    </tr>\n",
       "    <tr>\n",
       "      <th>1</th>\n",
       "      <td>Afghanistan</td>\n",
       "      <td>Asia</td>\n",
       "      <td>1957</td>\n",
       "      <td>30.332</td>\n",
       "      <td>9240934</td>\n",
       "      <td>820.853030</td>\n",
       "      <td>AFG</td>\n",
       "      <td>4</td>\n",
       "    </tr>\n",
       "    <tr>\n",
       "      <th>2</th>\n",
       "      <td>Afghanistan</td>\n",
       "      <td>Asia</td>\n",
       "      <td>1962</td>\n",
       "      <td>31.997</td>\n",
       "      <td>10267083</td>\n",
       "      <td>853.100710</td>\n",
       "      <td>AFG</td>\n",
       "      <td>4</td>\n",
       "    </tr>\n",
       "    <tr>\n",
       "      <th>3</th>\n",
       "      <td>Afghanistan</td>\n",
       "      <td>Asia</td>\n",
       "      <td>1967</td>\n",
       "      <td>34.020</td>\n",
       "      <td>11537966</td>\n",
       "      <td>836.197138</td>\n",
       "      <td>AFG</td>\n",
       "      <td>4</td>\n",
       "    </tr>\n",
       "    <tr>\n",
       "      <th>4</th>\n",
       "      <td>Afghanistan</td>\n",
       "      <td>Asia</td>\n",
       "      <td>1972</td>\n",
       "      <td>36.088</td>\n",
       "      <td>13079460</td>\n",
       "      <td>739.981106</td>\n",
       "      <td>AFG</td>\n",
       "      <td>4</td>\n",
       "    </tr>\n",
       "  </tbody>\n",
       "</table>\n",
       "</div>"
      ],
      "text/plain": [
       "       country continent  year  lifeExp       pop   gdpPercap iso_alpha  \\\n",
       "0  Afghanistan      Asia  1952   28.801   8425333  779.445314       AFG   \n",
       "1  Afghanistan      Asia  1957   30.332   9240934  820.853030       AFG   \n",
       "2  Afghanistan      Asia  1962   31.997  10267083  853.100710       AFG   \n",
       "3  Afghanistan      Asia  1967   34.020  11537966  836.197138       AFG   \n",
       "4  Afghanistan      Asia  1972   36.088  13079460  739.981106       AFG   \n",
       "\n",
       "   iso_num  \n",
       "0        4  \n",
       "1        4  \n",
       "2        4  \n",
       "3        4  \n",
       "4        4  "
      ]
     },
     "execution_count": 51,
     "metadata": {},
     "output_type": "execute_result"
    }
   ],
   "source": [
    "df.head()"
   ]
  },
  {
   "cell_type": "code",
   "execution_count": 58,
   "metadata": {},
   "outputs": [
    {
     "name": "stdout",
     "output_type": "stream",
     "text": [
      "My_max:\n",
      "year         2.007000e+03\n",
      "lifeExp      8.260300e+01\n",
      "pop          1.318683e+09\n",
      "gdpPercap    1.135231e+05\n",
      "iso_num      8.940000e+02\n",
      "dtype: float64\n",
      "My_min:\n",
      "country      Afghanistan\n",
      "continent         Africa\n",
      "year                1952\n",
      "lifeExp           23.599\n",
      "pop                60011\n",
      "gdpPercap     241.165876\n",
      "iso_alpha            AFG\n",
      "iso_num                4\n",
      "dtype: object\n",
      "My_mean:\n",
      "year         1.979500e+03\n",
      "lifeExp      5.947444e+01\n",
      "pop          2.960121e+07\n",
      "gdpPercap    7.215327e+03\n",
      "iso_num      4.258803e+02\n",
      "dtype: float64\n",
      "My_median:\n",
      "year         1.979500e+03\n",
      "lifeExp      6.071250e+01\n",
      "pop          7.023596e+06\n",
      "gdpPercap    3.531847e+03\n",
      "iso_num      4.100000e+02\n",
      "dtype: float64\n",
      "My_std:\n",
      "year         1.726533e+01\n",
      "lifeExp      1.291711e+01\n",
      "pop          1.061579e+08\n",
      "gdpPercap    9.857455e+03\n",
      "iso_num      2.483057e+02\n",
      "dtype: float64\n"
     ]
    },
    {
     "data": {
      "text/html": [
       "<div>\n",
       "<style scoped>\n",
       "    .dataframe tbody tr th:only-of-type {\n",
       "        vertical-align: middle;\n",
       "    }\n",
       "\n",
       "    .dataframe tbody tr th {\n",
       "        vertical-align: top;\n",
       "    }\n",
       "\n",
       "    .dataframe thead th {\n",
       "        text-align: right;\n",
       "    }\n",
       "</style>\n",
       "<table border=\"1\" class=\"dataframe\">\n",
       "  <thead>\n",
       "    <tr style=\"text-align: right;\">\n",
       "      <th></th>\n",
       "      <th>year</th>\n",
       "      <th>lifeExp</th>\n",
       "      <th>pop</th>\n",
       "      <th>gdpPercap</th>\n",
       "      <th>iso_num</th>\n",
       "    </tr>\n",
       "  </thead>\n",
       "  <tbody>\n",
       "    <tr>\n",
       "      <th>count</th>\n",
       "      <td>1704.00000</td>\n",
       "      <td>1704.000000</td>\n",
       "      <td>1.704000e+03</td>\n",
       "      <td>1704.000000</td>\n",
       "      <td>1704.000000</td>\n",
       "    </tr>\n",
       "    <tr>\n",
       "      <th>mean</th>\n",
       "      <td>1979.50000</td>\n",
       "      <td>59.474439</td>\n",
       "      <td>2.960121e+07</td>\n",
       "      <td>7215.327081</td>\n",
       "      <td>425.880282</td>\n",
       "    </tr>\n",
       "    <tr>\n",
       "      <th>std</th>\n",
       "      <td>17.26533</td>\n",
       "      <td>12.917107</td>\n",
       "      <td>1.061579e+08</td>\n",
       "      <td>9857.454543</td>\n",
       "      <td>248.305709</td>\n",
       "    </tr>\n",
       "    <tr>\n",
       "      <th>min</th>\n",
       "      <td>1952.00000</td>\n",
       "      <td>23.599000</td>\n",
       "      <td>6.001100e+04</td>\n",
       "      <td>241.165876</td>\n",
       "      <td>4.000000</td>\n",
       "    </tr>\n",
       "    <tr>\n",
       "      <th>25%</th>\n",
       "      <td>1965.75000</td>\n",
       "      <td>48.198000</td>\n",
       "      <td>2.793664e+06</td>\n",
       "      <td>1202.060309</td>\n",
       "      <td>208.000000</td>\n",
       "    </tr>\n",
       "    <tr>\n",
       "      <th>50%</th>\n",
       "      <td>1979.50000</td>\n",
       "      <td>60.712500</td>\n",
       "      <td>7.023596e+06</td>\n",
       "      <td>3531.846989</td>\n",
       "      <td>410.000000</td>\n",
       "    </tr>\n",
       "    <tr>\n",
       "      <th>75%</th>\n",
       "      <td>1993.25000</td>\n",
       "      <td>70.845500</td>\n",
       "      <td>1.958522e+07</td>\n",
       "      <td>9325.462346</td>\n",
       "      <td>638.000000</td>\n",
       "    </tr>\n",
       "    <tr>\n",
       "      <th>max</th>\n",
       "      <td>2007.00000</td>\n",
       "      <td>82.603000</td>\n",
       "      <td>1.318683e+09</td>\n",
       "      <td>113523.132900</td>\n",
       "      <td>894.000000</td>\n",
       "    </tr>\n",
       "  </tbody>\n",
       "</table>\n",
       "</div>"
      ],
      "text/plain": [
       "             year      lifeExp           pop      gdpPercap      iso_num\n",
       "count  1704.00000  1704.000000  1.704000e+03    1704.000000  1704.000000\n",
       "mean   1979.50000    59.474439  2.960121e+07    7215.327081   425.880282\n",
       "std      17.26533    12.917107  1.061579e+08    9857.454543   248.305709\n",
       "min    1952.00000    23.599000  6.001100e+04     241.165876     4.000000\n",
       "25%    1965.75000    48.198000  2.793664e+06    1202.060309   208.000000\n",
       "50%    1979.50000    60.712500  7.023596e+06    3531.846989   410.000000\n",
       "75%    1993.25000    70.845500  1.958522e+07    9325.462346   638.000000\n",
       "max    2007.00000    82.603000  1.318683e+09  113523.132900   894.000000"
      ]
     },
     "execution_count": 58,
     "metadata": {},
     "output_type": "execute_result"
    }
   ],
   "source": [
    "# Specifying 'numeric_only=True' to avoid FutureWarnings\n",
    "my_max = df.max(axis=0, numeric_only=True) \n",
    "my_min = df.min()\n",
    "my_mean = df.mean(numeric_only=True)\n",
    "my_median = df.median(numeric_only=True)\n",
    "my_std = df.std(numeric_only=True)\n",
    "dd = df.loc()\n",
    "\n",
    "#print(dd)\n",
    "print(\"My_max:\") \n",
    "print(my_max) \n",
    "print(\"My_min:\")  \n",
    "print(my_min)  \n",
    "print(\"My_mean:\") \n",
    "print(my_mean) \n",
    "print(\"My_median:\") \n",
    "print(my_median) \n",
    "print(\"My_std:\") \n",
    "print(my_std) \n",
    "\n",
    "df.describe()"
   ]
  },
  {
   "cell_type": "code",
   "execution_count": 60,
   "metadata": {},
   "outputs": [
    {
     "data": {
      "text/html": [
       "<div>\n",
       "<style scoped>\n",
       "    .dataframe tbody tr th:only-of-type {\n",
       "        vertical-align: middle;\n",
       "    }\n",
       "\n",
       "    .dataframe tbody tr th {\n",
       "        vertical-align: top;\n",
       "    }\n",
       "\n",
       "    .dataframe thead th {\n",
       "        text-align: right;\n",
       "    }\n",
       "</style>\n",
       "<table border=\"1\" class=\"dataframe\">\n",
       "  <thead>\n",
       "    <tr style=\"text-align: right;\">\n",
       "      <th></th>\n",
       "      <th>country</th>\n",
       "      <th>continent</th>\n",
       "      <th>year</th>\n",
       "      <th>lifeExp</th>\n",
       "      <th>pop</th>\n",
       "      <th>gdpPercap</th>\n",
       "      <th>iso_alpha</th>\n",
       "      <th>iso_num</th>\n",
       "      <th>here</th>\n",
       "    </tr>\n",
       "  </thead>\n",
       "  <tbody>\n",
       "    <tr>\n",
       "      <th>0</th>\n",
       "      <td>Afghanistan</td>\n",
       "      <td>Asia</td>\n",
       "      <td>1952</td>\n",
       "      <td>28.801</td>\n",
       "      <td>8425333</td>\n",
       "      <td>779.445314</td>\n",
       "      <td>AFG</td>\n",
       "      <td>4</td>\n",
       "      <td>1.778253</td>\n",
       "    </tr>\n",
       "    <tr>\n",
       "      <th>1</th>\n",
       "      <td>Afghanistan</td>\n",
       "      <td>Asia</td>\n",
       "      <td>1957</td>\n",
       "      <td>30.332</td>\n",
       "      <td>9240934</td>\n",
       "      <td>820.853030</td>\n",
       "      <td>AFG</td>\n",
       "      <td>4</td>\n",
       "      <td>-0.765835</td>\n",
       "    </tr>\n",
       "    <tr>\n",
       "      <th>2</th>\n",
       "      <td>Afghanistan</td>\n",
       "      <td>Asia</td>\n",
       "      <td>1962</td>\n",
       "      <td>31.997</td>\n",
       "      <td>10267083</td>\n",
       "      <td>853.100710</td>\n",
       "      <td>AFG</td>\n",
       "      <td>4</td>\n",
       "      <td>-2.085795</td>\n",
       "    </tr>\n",
       "    <tr>\n",
       "      <th>3</th>\n",
       "      <td>Afghanistan</td>\n",
       "      <td>Asia</td>\n",
       "      <td>1967</td>\n",
       "      <td>34.020</td>\n",
       "      <td>11537966</td>\n",
       "      <td>836.197138</td>\n",
       "      <td>AFG</td>\n",
       "      <td>4</td>\n",
       "      <td>2.426200</td>\n",
       "    </tr>\n",
       "    <tr>\n",
       "      <th>4</th>\n",
       "      <td>Afghanistan</td>\n",
       "      <td>Asia</td>\n",
       "      <td>1972</td>\n",
       "      <td>36.088</td>\n",
       "      <td>13079460</td>\n",
       "      <td>739.981106</td>\n",
       "      <td>AFG</td>\n",
       "      <td>4</td>\n",
       "      <td>-0.346839</td>\n",
       "    </tr>\n",
       "    <tr>\n",
       "      <th>...</th>\n",
       "      <td>...</td>\n",
       "      <td>...</td>\n",
       "      <td>...</td>\n",
       "      <td>...</td>\n",
       "      <td>...</td>\n",
       "      <td>...</td>\n",
       "      <td>...</td>\n",
       "      <td>...</td>\n",
       "      <td>...</td>\n",
       "    </tr>\n",
       "    <tr>\n",
       "      <th>1699</th>\n",
       "      <td>Zimbabwe</td>\n",
       "      <td>Africa</td>\n",
       "      <td>1987</td>\n",
       "      <td>62.351</td>\n",
       "      <td>9216418</td>\n",
       "      <td>706.157306</td>\n",
       "      <td>ZWE</td>\n",
       "      <td>716</td>\n",
       "      <td>-0.063513</td>\n",
       "    </tr>\n",
       "    <tr>\n",
       "      <th>1700</th>\n",
       "      <td>Zimbabwe</td>\n",
       "      <td>Africa</td>\n",
       "      <td>1992</td>\n",
       "      <td>60.377</td>\n",
       "      <td>10704340</td>\n",
       "      <td>693.420786</td>\n",
       "      <td>ZWE</td>\n",
       "      <td>716</td>\n",
       "      <td>0.501995</td>\n",
       "    </tr>\n",
       "    <tr>\n",
       "      <th>1701</th>\n",
       "      <td>Zimbabwe</td>\n",
       "      <td>Africa</td>\n",
       "      <td>1997</td>\n",
       "      <td>46.809</td>\n",
       "      <td>11404948</td>\n",
       "      <td>792.449960</td>\n",
       "      <td>ZWE</td>\n",
       "      <td>716</td>\n",
       "      <td>0.159983</td>\n",
       "    </tr>\n",
       "    <tr>\n",
       "      <th>1702</th>\n",
       "      <td>Zimbabwe</td>\n",
       "      <td>Africa</td>\n",
       "      <td>2002</td>\n",
       "      <td>39.989</td>\n",
       "      <td>11926563</td>\n",
       "      <td>672.038623</td>\n",
       "      <td>ZWE</td>\n",
       "      <td>716</td>\n",
       "      <td>-0.319601</td>\n",
       "    </tr>\n",
       "    <tr>\n",
       "      <th>1703</th>\n",
       "      <td>Zimbabwe</td>\n",
       "      <td>Africa</td>\n",
       "      <td>2007</td>\n",
       "      <td>43.487</td>\n",
       "      <td>12311143</td>\n",
       "      <td>469.709298</td>\n",
       "      <td>ZWE</td>\n",
       "      <td>716</td>\n",
       "      <td>-1.038659</td>\n",
       "    </tr>\n",
       "  </tbody>\n",
       "</table>\n",
       "<p>1704 rows × 9 columns</p>\n",
       "</div>"
      ],
      "text/plain": [
       "          country continent  year  lifeExp       pop   gdpPercap iso_alpha  \\\n",
       "0     Afghanistan      Asia  1952   28.801   8425333  779.445314       AFG   \n",
       "1     Afghanistan      Asia  1957   30.332   9240934  820.853030       AFG   \n",
       "2     Afghanistan      Asia  1962   31.997  10267083  853.100710       AFG   \n",
       "3     Afghanistan      Asia  1967   34.020  11537966  836.197138       AFG   \n",
       "4     Afghanistan      Asia  1972   36.088  13079460  739.981106       AFG   \n",
       "...           ...       ...   ...      ...       ...         ...       ...   \n",
       "1699     Zimbabwe    Africa  1987   62.351   9216418  706.157306       ZWE   \n",
       "1700     Zimbabwe    Africa  1992   60.377  10704340  693.420786       ZWE   \n",
       "1701     Zimbabwe    Africa  1997   46.809  11404948  792.449960       ZWE   \n",
       "1702     Zimbabwe    Africa  2002   39.989  11926563  672.038623       ZWE   \n",
       "1703     Zimbabwe    Africa  2007   43.487  12311143  469.709298       ZWE   \n",
       "\n",
       "      iso_num      here  \n",
       "0           4  1.778253  \n",
       "1           4 -0.765835  \n",
       "2           4 -2.085795  \n",
       "3           4  2.426200  \n",
       "4           4 -0.346839  \n",
       "...       ...       ...  \n",
       "1699      716 -0.063513  \n",
       "1700      716  0.501995  \n",
       "1701      716  0.159983  \n",
       "1702      716 -0.319601  \n",
       "1703      716 -1.038659  \n",
       "\n",
       "[1704 rows x 9 columns]"
      ]
     },
     "execution_count": 60,
     "metadata": {},
     "output_type": "execute_result"
    }
   ],
   "source": [
    "# Assing to a new column 'here' a one-dimensional ndarray with axis labels\n",
    "df3 = df.assign(here=pd.Series(np.random.randn(1704)).values)\n",
    "df3"
   ]
  },
  {
   "cell_type": "code",
   "execution_count": 66,
   "metadata": {},
   "outputs": [
    {
     "data": {
      "application/vnd.plotly.v1+json": {
       "config": {
        "plotlyServerURL": "https://plotly.com"
       },
       "data": [
        {
         "hovertemplate": "country=Afghanistan<br>iso_num=%{x}<br>pop=%{y}<extra></extra>",
         "legendgroup": "Afghanistan",
         "line": {
          "color": "#636efa",
          "dash": "solid"
         },
         "marker": {
          "symbol": "circle"
         },
         "mode": "lines",
         "name": "Afghanistan",
         "showlegend": true,
         "type": "scattergl",
         "x": [
          4,
          4,
          4,
          4,
          4,
          4,
          4,
          4,
          4,
          4,
          4,
          4
         ],
         "xaxis": "x",
         "y": [
          8425333,
          9240934,
          10267083,
          11537966,
          13079460,
          14880372,
          12881816,
          13867957,
          16317921,
          22227415,
          25268405,
          31889923
         ],
         "yaxis": "y"
        },
        {
         "hovertemplate": "country=Albania<br>iso_num=%{x}<br>pop=%{y}<extra></extra>",
         "legendgroup": "Albania",
         "line": {
          "color": "#EF553B",
          "dash": "solid"
         },
         "marker": {
          "symbol": "circle"
         },
         "mode": "lines",
         "name": "Albania",
         "showlegend": true,
         "type": "scattergl",
         "x": [
          8,
          8,
          8,
          8,
          8,
          8,
          8,
          8,
          8,
          8,
          8,
          8
         ],
         "xaxis": "x",
         "y": [
          1282697,
          1476505,
          1728137,
          1984060,
          2263554,
          2509048,
          2780097,
          3075321,
          3326498,
          3428038,
          3508512,
          3600523
         ],
         "yaxis": "y"
        },
        {
         "hovertemplate": "country=Algeria<br>iso_num=%{x}<br>pop=%{y}<extra></extra>",
         "legendgroup": "Algeria",
         "line": {
          "color": "#00cc96",
          "dash": "solid"
         },
         "marker": {
          "symbol": "circle"
         },
         "mode": "lines",
         "name": "Algeria",
         "showlegend": true,
         "type": "scattergl",
         "x": [
          12,
          12,
          12,
          12,
          12,
          12,
          12,
          12,
          12,
          12,
          12,
          12
         ],
         "xaxis": "x",
         "y": [
          9279525,
          10270856,
          11000948,
          12760499,
          14760787,
          17152804,
          20033753,
          23254956,
          26298373,
          29072015,
          31287142,
          33333216
         ],
         "yaxis": "y"
        },
        {
         "hovertemplate": "country=Angola<br>iso_num=%{x}<br>pop=%{y}<extra></extra>",
         "legendgroup": "Angola",
         "line": {
          "color": "#ab63fa",
          "dash": "solid"
         },
         "marker": {
          "symbol": "circle"
         },
         "mode": "lines",
         "name": "Angola",
         "showlegend": true,
         "type": "scattergl",
         "x": [
          24,
          24,
          24,
          24,
          24,
          24,
          24,
          24,
          24,
          24,
          24,
          24
         ],
         "xaxis": "x",
         "y": [
          4232095,
          4561361,
          4826015,
          5247469,
          5894858,
          6162675,
          7016384,
          7874230,
          8735988,
          9875024,
          10866106,
          12420476
         ],
         "yaxis": "y"
        },
        {
         "hovertemplate": "country=Argentina<br>iso_num=%{x}<br>pop=%{y}<extra></extra>",
         "legendgroup": "Argentina",
         "line": {
          "color": "#FFA15A",
          "dash": "solid"
         },
         "marker": {
          "symbol": "circle"
         },
         "mode": "lines",
         "name": "Argentina",
         "showlegend": true,
         "type": "scattergl",
         "x": [
          32,
          32,
          32,
          32,
          32,
          32,
          32,
          32,
          32,
          32,
          32,
          32
         ],
         "xaxis": "x",
         "y": [
          17876956,
          19610538,
          21283783,
          22934225,
          24779799,
          26983828,
          29341374,
          31620918,
          33958947,
          36203463,
          38331121,
          40301927
         ],
         "yaxis": "y"
        },
        {
         "hovertemplate": "country=Australia<br>iso_num=%{x}<br>pop=%{y}<extra></extra>",
         "legendgroup": "Australia",
         "line": {
          "color": "#19d3f3",
          "dash": "solid"
         },
         "marker": {
          "symbol": "circle"
         },
         "mode": "lines",
         "name": "Australia",
         "showlegend": true,
         "type": "scattergl",
         "x": [
          36,
          36,
          36,
          36,
          36,
          36,
          36,
          36,
          36,
          36,
          36,
          36
         ],
         "xaxis": "x",
         "y": [
          8691212,
          9712569,
          10794968,
          11872264,
          13177000,
          14074100,
          15184200,
          16257249,
          17481977,
          18565243,
          19546792,
          20434176
         ],
         "yaxis": "y"
        },
        {
         "hovertemplate": "country=Austria<br>iso_num=%{x}<br>pop=%{y}<extra></extra>",
         "legendgroup": "Austria",
         "line": {
          "color": "#FF6692",
          "dash": "solid"
         },
         "marker": {
          "symbol": "circle"
         },
         "mode": "lines",
         "name": "Austria",
         "showlegend": true,
         "type": "scattergl",
         "x": [
          40,
          40,
          40,
          40,
          40,
          40,
          40,
          40,
          40,
          40,
          40,
          40
         ],
         "xaxis": "x",
         "y": [
          6927772,
          6965860,
          7129864,
          7376998,
          7544201,
          7568430,
          7574613,
          7578903,
          7914969,
          8069876,
          8148312,
          8199783
         ],
         "yaxis": "y"
        },
        {
         "hovertemplate": "country=Bahrain<br>iso_num=%{x}<br>pop=%{y}<extra></extra>",
         "legendgroup": "Bahrain",
         "line": {
          "color": "#B6E880",
          "dash": "solid"
         },
         "marker": {
          "symbol": "circle"
         },
         "mode": "lines",
         "name": "Bahrain",
         "showlegend": true,
         "type": "scattergl",
         "x": [
          48,
          48,
          48,
          48,
          48,
          48,
          48,
          48,
          48,
          48,
          48,
          48
         ],
         "xaxis": "x",
         "y": [
          120447,
          138655,
          171863,
          202182,
          230800,
          297410,
          377967,
          454612,
          529491,
          598561,
          656397,
          708573
         ],
         "yaxis": "y"
        },
        {
         "hovertemplate": "country=Bangladesh<br>iso_num=%{x}<br>pop=%{y}<extra></extra>",
         "legendgroup": "Bangladesh",
         "line": {
          "color": "#FF97FF",
          "dash": "solid"
         },
         "marker": {
          "symbol": "circle"
         },
         "mode": "lines",
         "name": "Bangladesh",
         "showlegend": true,
         "type": "scattergl",
         "x": [
          50,
          50,
          50,
          50,
          50,
          50,
          50,
          50,
          50,
          50,
          50,
          50
         ],
         "xaxis": "x",
         "y": [
          46886859,
          51365468,
          56839289,
          62821884,
          70759295,
          80428306,
          93074406,
          103764241,
          113704579,
          123315288,
          135656790,
          150448339
         ],
         "yaxis": "y"
        },
        {
         "hovertemplate": "country=Belgium<br>iso_num=%{x}<br>pop=%{y}<extra></extra>",
         "legendgroup": "Belgium",
         "line": {
          "color": "#FECB52",
          "dash": "solid"
         },
         "marker": {
          "symbol": "circle"
         },
         "mode": "lines",
         "name": "Belgium",
         "showlegend": true,
         "type": "scattergl",
         "x": [
          56,
          56,
          56,
          56,
          56,
          56,
          56,
          56,
          56,
          56,
          56,
          56
         ],
         "xaxis": "x",
         "y": [
          8730405,
          8989111,
          9218400,
          9556500,
          9709100,
          9821800,
          9856303,
          9870200,
          10045622,
          10199787,
          10311970,
          10392226
         ],
         "yaxis": "y"
        },
        {
         "hovertemplate": "country=Benin<br>iso_num=%{x}<br>pop=%{y}<extra></extra>",
         "legendgroup": "Benin",
         "line": {
          "color": "#636efa",
          "dash": "solid"
         },
         "marker": {
          "symbol": "circle"
         },
         "mode": "lines",
         "name": "Benin",
         "showlegend": true,
         "type": "scattergl",
         "x": [
          204,
          204,
          204,
          204,
          204,
          204,
          204,
          204,
          204,
          204,
          204,
          204
         ],
         "xaxis": "x",
         "y": [
          1738315,
          1925173,
          2151895,
          2427334,
          2761407,
          3168267,
          3641603,
          4243788,
          4981671,
          6066080,
          7026113,
          8078314
         ],
         "yaxis": "y"
        },
        {
         "hovertemplate": "country=Bolivia<br>iso_num=%{x}<br>pop=%{y}<extra></extra>",
         "legendgroup": "Bolivia",
         "line": {
          "color": "#EF553B",
          "dash": "solid"
         },
         "marker": {
          "symbol": "circle"
         },
         "mode": "lines",
         "name": "Bolivia",
         "showlegend": true,
         "type": "scattergl",
         "x": [
          68,
          68,
          68,
          68,
          68,
          68,
          68,
          68,
          68,
          68,
          68,
          68
         ],
         "xaxis": "x",
         "y": [
          2883315,
          3211738,
          3593918,
          4040665,
          4565872,
          5079716,
          5642224,
          6156369,
          6893451,
          7693188,
          8445134,
          9119152
         ],
         "yaxis": "y"
        },
        {
         "hovertemplate": "country=Bosnia and Herzegovina<br>iso_num=%{x}<br>pop=%{y}<extra></extra>",
         "legendgroup": "Bosnia and Herzegovina",
         "line": {
          "color": "#00cc96",
          "dash": "solid"
         },
         "marker": {
          "symbol": "circle"
         },
         "mode": "lines",
         "name": "Bosnia and Herzegovina",
         "showlegend": true,
         "type": "scattergl",
         "x": [
          70,
          70,
          70,
          70,
          70,
          70,
          70,
          70,
          70,
          70,
          70,
          70
         ],
         "xaxis": "x",
         "y": [
          2791000,
          3076000,
          3349000,
          3585000,
          3819000,
          4086000,
          4172693,
          4338977,
          4256013,
          3607000,
          4165416,
          4552198
         ],
         "yaxis": "y"
        },
        {
         "hovertemplate": "country=Botswana<br>iso_num=%{x}<br>pop=%{y}<extra></extra>",
         "legendgroup": "Botswana",
         "line": {
          "color": "#ab63fa",
          "dash": "solid"
         },
         "marker": {
          "symbol": "circle"
         },
         "mode": "lines",
         "name": "Botswana",
         "showlegend": true,
         "type": "scattergl",
         "x": [
          72,
          72,
          72,
          72,
          72,
          72,
          72,
          72,
          72,
          72,
          72,
          72
         ],
         "xaxis": "x",
         "y": [
          442308,
          474639,
          512764,
          553541,
          619351,
          781472,
          970347,
          1151184,
          1342614,
          1536536,
          1630347,
          1639131
         ],
         "yaxis": "y"
        },
        {
         "hovertemplate": "country=Brazil<br>iso_num=%{x}<br>pop=%{y}<extra></extra>",
         "legendgroup": "Brazil",
         "line": {
          "color": "#FFA15A",
          "dash": "solid"
         },
         "marker": {
          "symbol": "circle"
         },
         "mode": "lines",
         "name": "Brazil",
         "showlegend": true,
         "type": "scattergl",
         "x": [
          76,
          76,
          76,
          76,
          76,
          76,
          76,
          76,
          76,
          76,
          76,
          76
         ],
         "xaxis": "x",
         "y": [
          56602560,
          65551171,
          76039390,
          88049823,
          100840058,
          114313951,
          128962939,
          142938076,
          155975974,
          168546719,
          179914212,
          190010647
         ],
         "yaxis": "y"
        },
        {
         "hovertemplate": "country=Bulgaria<br>iso_num=%{x}<br>pop=%{y}<extra></extra>",
         "legendgroup": "Bulgaria",
         "line": {
          "color": "#19d3f3",
          "dash": "solid"
         },
         "marker": {
          "symbol": "circle"
         },
         "mode": "lines",
         "name": "Bulgaria",
         "showlegend": true,
         "type": "scattergl",
         "x": [
          100,
          100,
          100,
          100,
          100,
          100,
          100,
          100,
          100,
          100,
          100,
          100
         ],
         "xaxis": "x",
         "y": [
          7274900,
          7651254,
          8012946,
          8310226,
          8576200,
          8797022,
          8892098,
          8971958,
          8658506,
          8066057,
          7661799,
          7322858
         ],
         "yaxis": "y"
        },
        {
         "hovertemplate": "country=Burkina Faso<br>iso_num=%{x}<br>pop=%{y}<extra></extra>",
         "legendgroup": "Burkina Faso",
         "line": {
          "color": "#FF6692",
          "dash": "solid"
         },
         "marker": {
          "symbol": "circle"
         },
         "mode": "lines",
         "name": "Burkina Faso",
         "showlegend": true,
         "type": "scattergl",
         "x": [
          854,
          854,
          854,
          854,
          854,
          854,
          854,
          854,
          854,
          854,
          854,
          854
         ],
         "xaxis": "x",
         "y": [
          4469979,
          4713416,
          4919632,
          5127935,
          5433886,
          5889574,
          6634596,
          7586551,
          8878303,
          10352843,
          12251209,
          14326203
         ],
         "yaxis": "y"
        },
        {
         "hovertemplate": "country=Burundi<br>iso_num=%{x}<br>pop=%{y}<extra></extra>",
         "legendgroup": "Burundi",
         "line": {
          "color": "#B6E880",
          "dash": "solid"
         },
         "marker": {
          "symbol": "circle"
         },
         "mode": "lines",
         "name": "Burundi",
         "showlegend": true,
         "type": "scattergl",
         "x": [
          108,
          108,
          108,
          108,
          108,
          108,
          108,
          108,
          108,
          108,
          108,
          108
         ],
         "xaxis": "x",
         "y": [
          2445618,
          2667518,
          2961915,
          3330989,
          3529983,
          3834415,
          4580410,
          5126023,
          5809236,
          6121610,
          7021078,
          8390505
         ],
         "yaxis": "y"
        },
        {
         "hovertemplate": "country=Cambodia<br>iso_num=%{x}<br>pop=%{y}<extra></extra>",
         "legendgroup": "Cambodia",
         "line": {
          "color": "#FF97FF",
          "dash": "solid"
         },
         "marker": {
          "symbol": "circle"
         },
         "mode": "lines",
         "name": "Cambodia",
         "showlegend": true,
         "type": "scattergl",
         "x": [
          116,
          116,
          116,
          116,
          116,
          116,
          116,
          116,
          116,
          116,
          116,
          116
         ],
         "xaxis": "x",
         "y": [
          4693836,
          5322536,
          6083619,
          6960067,
          7450606,
          6978607,
          7272485,
          8371791,
          10150094,
          11782962,
          12926707,
          14131858
         ],
         "yaxis": "y"
        },
        {
         "hovertemplate": "country=Cameroon<br>iso_num=%{x}<br>pop=%{y}<extra></extra>",
         "legendgroup": "Cameroon",
         "line": {
          "color": "#FECB52",
          "dash": "solid"
         },
         "marker": {
          "symbol": "circle"
         },
         "mode": "lines",
         "name": "Cameroon",
         "showlegend": true,
         "type": "scattergl",
         "x": [
          120,
          120,
          120,
          120,
          120,
          120,
          120,
          120,
          120,
          120,
          120,
          120
         ],
         "xaxis": "x",
         "y": [
          5009067,
          5359923,
          5793633,
          6335506,
          7021028,
          7959865,
          9250831,
          10780667,
          12467171,
          14195809,
          15929988,
          17696293
         ],
         "yaxis": "y"
        },
        {
         "hovertemplate": "country=Canada<br>iso_num=%{x}<br>pop=%{y}<extra></extra>",
         "legendgroup": "Canada",
         "line": {
          "color": "#636efa",
          "dash": "solid"
         },
         "marker": {
          "symbol": "circle"
         },
         "mode": "lines",
         "name": "Canada",
         "showlegend": true,
         "type": "scattergl",
         "x": [
          124,
          124,
          124,
          124,
          124,
          124,
          124,
          124,
          124,
          124,
          124,
          124
         ],
         "xaxis": "x",
         "y": [
          14785584,
          17010154,
          18985849,
          20819767,
          22284500,
          23796400,
          25201900,
          26549700,
          28523502,
          30305843,
          31902268,
          33390141
         ],
         "yaxis": "y"
        },
        {
         "hovertemplate": "country=Central African Republic<br>iso_num=%{x}<br>pop=%{y}<extra></extra>",
         "legendgroup": "Central African Republic",
         "line": {
          "color": "#EF553B",
          "dash": "solid"
         },
         "marker": {
          "symbol": "circle"
         },
         "mode": "lines",
         "name": "Central African Republic",
         "showlegend": true,
         "type": "scattergl",
         "x": [
          140,
          140,
          140,
          140,
          140,
          140,
          140,
          140,
          140,
          140,
          140,
          140
         ],
         "xaxis": "x",
         "y": [
          1291695,
          1392284,
          1523478,
          1733638,
          1927260,
          2167533,
          2476971,
          2840009,
          3265124,
          3696513,
          4048013,
          4369038
         ],
         "yaxis": "y"
        },
        {
         "hovertemplate": "country=Chad<br>iso_num=%{x}<br>pop=%{y}<extra></extra>",
         "legendgroup": "Chad",
         "line": {
          "color": "#00cc96",
          "dash": "solid"
         },
         "marker": {
          "symbol": "circle"
         },
         "mode": "lines",
         "name": "Chad",
         "showlegend": true,
         "type": "scattergl",
         "x": [
          148,
          148,
          148,
          148,
          148,
          148,
          148,
          148,
          148,
          148,
          148,
          148
         ],
         "xaxis": "x",
         "y": [
          2682462,
          2894855,
          3150417,
          3495967,
          3899068,
          4388260,
          4875118,
          5498955,
          6429417,
          7562011,
          8835739,
          10238807
         ],
         "yaxis": "y"
        },
        {
         "hovertemplate": "country=Chile<br>iso_num=%{x}<br>pop=%{y}<extra></extra>",
         "legendgroup": "Chile",
         "line": {
          "color": "#ab63fa",
          "dash": "solid"
         },
         "marker": {
          "symbol": "circle"
         },
         "mode": "lines",
         "name": "Chile",
         "showlegend": true,
         "type": "scattergl",
         "x": [
          152,
          152,
          152,
          152,
          152,
          152,
          152,
          152,
          152,
          152,
          152,
          152
         ],
         "xaxis": "x",
         "y": [
          6377619,
          7048426,
          7961258,
          8858908,
          9717524,
          10599793,
          11487112,
          12463354,
          13572994,
          14599929,
          15497046,
          16284741
         ],
         "yaxis": "y"
        },
        {
         "hovertemplate": "country=China<br>iso_num=%{x}<br>pop=%{y}<extra></extra>",
         "legendgroup": "China",
         "line": {
          "color": "#FFA15A",
          "dash": "solid"
         },
         "marker": {
          "symbol": "circle"
         },
         "mode": "lines",
         "name": "China",
         "showlegend": true,
         "type": "scattergl",
         "x": [
          156,
          156,
          156,
          156,
          156,
          156,
          156,
          156,
          156,
          156,
          156,
          156
         ],
         "xaxis": "x",
         "y": [
          556263527,
          637408000,
          665770000,
          754550000,
          862030000,
          943455000,
          1000281000,
          1084035000,
          1164970000,
          1230075000,
          1280400000,
          1318683096
         ],
         "yaxis": "y"
        },
        {
         "hovertemplate": "country=Colombia<br>iso_num=%{x}<br>pop=%{y}<extra></extra>",
         "legendgroup": "Colombia",
         "line": {
          "color": "#19d3f3",
          "dash": "solid"
         },
         "marker": {
          "symbol": "circle"
         },
         "mode": "lines",
         "name": "Colombia",
         "showlegend": true,
         "type": "scattergl",
         "x": [
          170,
          170,
          170,
          170,
          170,
          170,
          170,
          170,
          170,
          170,
          170,
          170
         ],
         "xaxis": "x",
         "y": [
          12350771,
          14485993,
          17009885,
          19764027,
          22542890,
          25094412,
          27764644,
          30964245,
          34202721,
          37657830,
          41008227,
          44227550
         ],
         "yaxis": "y"
        },
        {
         "hovertemplate": "country=Comoros<br>iso_num=%{x}<br>pop=%{y}<extra></extra>",
         "legendgroup": "Comoros",
         "line": {
          "color": "#FF6692",
          "dash": "solid"
         },
         "marker": {
          "symbol": "circle"
         },
         "mode": "lines",
         "name": "Comoros",
         "showlegend": true,
         "type": "scattergl",
         "x": [
          174,
          174,
          174,
          174,
          174,
          174,
          174,
          174,
          174,
          174,
          174,
          174
         ],
         "xaxis": "x",
         "y": [
          153936,
          170928,
          191689,
          217378,
          250027,
          304739,
          348643,
          395114,
          454429,
          527982,
          614382,
          710960
         ],
         "yaxis": "y"
        },
        {
         "hovertemplate": "country=Congo, Dem. Rep.<br>iso_num=%{x}<br>pop=%{y}<extra></extra>",
         "legendgroup": "Congo, Dem. Rep.",
         "line": {
          "color": "#B6E880",
          "dash": "solid"
         },
         "marker": {
          "symbol": "circle"
         },
         "mode": "lines",
         "name": "Congo, Dem. Rep.",
         "showlegend": true,
         "type": "scattergl",
         "x": [
          180,
          180,
          180,
          180,
          180,
          180,
          180,
          180,
          180,
          180,
          180,
          180
         ],
         "xaxis": "x",
         "y": [
          14100005,
          15577932,
          17486434,
          19941073,
          23007669,
          26480870,
          30646495,
          35481645,
          41672143,
          47798986,
          55379852,
          64606759
         ],
         "yaxis": "y"
        },
        {
         "hovertemplate": "country=Congo, Rep.<br>iso_num=%{x}<br>pop=%{y}<extra></extra>",
         "legendgroup": "Congo, Rep.",
         "line": {
          "color": "#FF97FF",
          "dash": "solid"
         },
         "marker": {
          "symbol": "circle"
         },
         "mode": "lines",
         "name": "Congo, Rep.",
         "showlegend": true,
         "type": "scattergl",
         "x": [
          178,
          178,
          178,
          178,
          178,
          178,
          178,
          178,
          178,
          178,
          178,
          178
         ],
         "xaxis": "x",
         "y": [
          854885,
          940458,
          1047924,
          1179760,
          1340458,
          1536769,
          1774735,
          2064095,
          2409073,
          2800947,
          3328795,
          3800610
         ],
         "yaxis": "y"
        },
        {
         "hovertemplate": "country=Costa Rica<br>iso_num=%{x}<br>pop=%{y}<extra></extra>",
         "legendgroup": "Costa Rica",
         "line": {
          "color": "#FECB52",
          "dash": "solid"
         },
         "marker": {
          "symbol": "circle"
         },
         "mode": "lines",
         "name": "Costa Rica",
         "showlegend": true,
         "type": "scattergl",
         "x": [
          188,
          188,
          188,
          188,
          188,
          188,
          188,
          188,
          188,
          188,
          188,
          188
         ],
         "xaxis": "x",
         "y": [
          926317,
          1112300,
          1345187,
          1588717,
          1834796,
          2108457,
          2424367,
          2799811,
          3173216,
          3518107,
          3834934,
          4133884
         ],
         "yaxis": "y"
        },
        {
         "hovertemplate": "country=Cote d'Ivoire<br>iso_num=%{x}<br>pop=%{y}<extra></extra>",
         "legendgroup": "Cote d'Ivoire",
         "line": {
          "color": "#636efa",
          "dash": "solid"
         },
         "marker": {
          "symbol": "circle"
         },
         "mode": "lines",
         "name": "Cote d'Ivoire",
         "showlegend": true,
         "type": "scattergl",
         "x": [
          384,
          384,
          384,
          384,
          384,
          384,
          384,
          384,
          384,
          384,
          384,
          384
         ],
         "xaxis": "x",
         "y": [
          2977019,
          3300000,
          3832408,
          4744870,
          6071696,
          7459574,
          9025951,
          10761098,
          12772596,
          14625967,
          16252726,
          18013409
         ],
         "yaxis": "y"
        },
        {
         "hovertemplate": "country=Croatia<br>iso_num=%{x}<br>pop=%{y}<extra></extra>",
         "legendgroup": "Croatia",
         "line": {
          "color": "#EF553B",
          "dash": "solid"
         },
         "marker": {
          "symbol": "circle"
         },
         "mode": "lines",
         "name": "Croatia",
         "showlegend": true,
         "type": "scattergl",
         "x": [
          191,
          191,
          191,
          191,
          191,
          191,
          191,
          191,
          191,
          191,
          191,
          191
         ],
         "xaxis": "x",
         "y": [
          3882229,
          3991242,
          4076557,
          4174366,
          4225310,
          4318673,
          4413368,
          4484310,
          4494013,
          4444595,
          4481020,
          4493312
         ],
         "yaxis": "y"
        },
        {
         "hovertemplate": "country=Cuba<br>iso_num=%{x}<br>pop=%{y}<extra></extra>",
         "legendgroup": "Cuba",
         "line": {
          "color": "#00cc96",
          "dash": "solid"
         },
         "marker": {
          "symbol": "circle"
         },
         "mode": "lines",
         "name": "Cuba",
         "showlegend": true,
         "type": "scattergl",
         "x": [
          192,
          192,
          192,
          192,
          192,
          192,
          192,
          192,
          192,
          192,
          192,
          192
         ],
         "xaxis": "x",
         "y": [
          6007797,
          6640752,
          7254373,
          8139332,
          8831348,
          9537988,
          9789224,
          10239839,
          10723260,
          10983007,
          11226999,
          11416987
         ],
         "yaxis": "y"
        },
        {
         "hovertemplate": "country=Czech Republic<br>iso_num=%{x}<br>pop=%{y}<extra></extra>",
         "legendgroup": "Czech Republic",
         "line": {
          "color": "#ab63fa",
          "dash": "solid"
         },
         "marker": {
          "symbol": "circle"
         },
         "mode": "lines",
         "name": "Czech Republic",
         "showlegend": true,
         "type": "scattergl",
         "x": [
          203,
          203,
          203,
          203,
          203,
          203,
          203,
          203,
          203,
          203,
          203,
          203
         ],
         "xaxis": "x",
         "y": [
          9125183,
          9513758,
          9620282,
          9835109,
          9862158,
          10161915,
          10303704,
          10311597,
          10315702,
          10300707,
          10256295,
          10228744
         ],
         "yaxis": "y"
        },
        {
         "hovertemplate": "country=Denmark<br>iso_num=%{x}<br>pop=%{y}<extra></extra>",
         "legendgroup": "Denmark",
         "line": {
          "color": "#FFA15A",
          "dash": "solid"
         },
         "marker": {
          "symbol": "circle"
         },
         "mode": "lines",
         "name": "Denmark",
         "showlegend": true,
         "type": "scattergl",
         "x": [
          208,
          208,
          208,
          208,
          208,
          208,
          208,
          208,
          208,
          208,
          208,
          208
         ],
         "xaxis": "x",
         "y": [
          4334000,
          4487831,
          4646899,
          4838800,
          4991596,
          5088419,
          5117810,
          5127024,
          5171393,
          5283663,
          5374693,
          5468120
         ],
         "yaxis": "y"
        },
        {
         "hovertemplate": "country=Djibouti<br>iso_num=%{x}<br>pop=%{y}<extra></extra>",
         "legendgroup": "Djibouti",
         "line": {
          "color": "#19d3f3",
          "dash": "solid"
         },
         "marker": {
          "symbol": "circle"
         },
         "mode": "lines",
         "name": "Djibouti",
         "showlegend": true,
         "type": "scattergl",
         "x": [
          262,
          262,
          262,
          262,
          262,
          262,
          262,
          262,
          262,
          262,
          262,
          262
         ],
         "xaxis": "x",
         "y": [
          63149,
          71851,
          89898,
          127617,
          178848,
          228694,
          305991,
          311025,
          384156,
          417908,
          447416,
          496374
         ],
         "yaxis": "y"
        },
        {
         "hovertemplate": "country=Dominican Republic<br>iso_num=%{x}<br>pop=%{y}<extra></extra>",
         "legendgroup": "Dominican Republic",
         "line": {
          "color": "#FF6692",
          "dash": "solid"
         },
         "marker": {
          "symbol": "circle"
         },
         "mode": "lines",
         "name": "Dominican Republic",
         "showlegend": true,
         "type": "scattergl",
         "x": [
          214,
          214,
          214,
          214,
          214,
          214,
          214,
          214,
          214,
          214,
          214,
          214
         ],
         "xaxis": "x",
         "y": [
          2491346,
          2923186,
          3453434,
          4049146,
          4671329,
          5302800,
          5968349,
          6655297,
          7351181,
          7992357,
          8650322,
          9319622
         ],
         "yaxis": "y"
        },
        {
         "hovertemplate": "country=Ecuador<br>iso_num=%{x}<br>pop=%{y}<extra></extra>",
         "legendgroup": "Ecuador",
         "line": {
          "color": "#B6E880",
          "dash": "solid"
         },
         "marker": {
          "symbol": "circle"
         },
         "mode": "lines",
         "name": "Ecuador",
         "showlegend": true,
         "type": "scattergl",
         "x": [
          218,
          218,
          218,
          218,
          218,
          218,
          218,
          218,
          218,
          218,
          218,
          218
         ],
         "xaxis": "x",
         "y": [
          3548753,
          4058385,
          4681707,
          5432424,
          6298651,
          7278866,
          8365850,
          9545158,
          10748394,
          11911819,
          12921234,
          13755680
         ],
         "yaxis": "y"
        },
        {
         "hovertemplate": "country=Egypt<br>iso_num=%{x}<br>pop=%{y}<extra></extra>",
         "legendgroup": "Egypt",
         "line": {
          "color": "#FF97FF",
          "dash": "solid"
         },
         "marker": {
          "symbol": "circle"
         },
         "mode": "lines",
         "name": "Egypt",
         "showlegend": true,
         "type": "scattergl",
         "x": [
          818,
          818,
          818,
          818,
          818,
          818,
          818,
          818,
          818,
          818,
          818,
          818
         ],
         "xaxis": "x",
         "y": [
          22223309,
          25009741,
          28173309,
          31681188,
          34807417,
          38783863,
          45681811,
          52799062,
          59402198,
          66134291,
          73312559,
          80264543
         ],
         "yaxis": "y"
        },
        {
         "hovertemplate": "country=El Salvador<br>iso_num=%{x}<br>pop=%{y}<extra></extra>",
         "legendgroup": "El Salvador",
         "line": {
          "color": "#FECB52",
          "dash": "solid"
         },
         "marker": {
          "symbol": "circle"
         },
         "mode": "lines",
         "name": "El Salvador",
         "showlegend": true,
         "type": "scattergl",
         "x": [
          222,
          222,
          222,
          222,
          222,
          222,
          222,
          222,
          222,
          222,
          222,
          222
         ],
         "xaxis": "x",
         "y": [
          2042865,
          2355805,
          2747687,
          3232927,
          3790903,
          4282586,
          4474873,
          4842194,
          5274649,
          5783439,
          6353681,
          6939688
         ],
         "yaxis": "y"
        },
        {
         "hovertemplate": "country=Equatorial Guinea<br>iso_num=%{x}<br>pop=%{y}<extra></extra>",
         "legendgroup": "Equatorial Guinea",
         "line": {
          "color": "#636efa",
          "dash": "solid"
         },
         "marker": {
          "symbol": "circle"
         },
         "mode": "lines",
         "name": "Equatorial Guinea",
         "showlegend": true,
         "type": "scattergl",
         "x": [
          226,
          226,
          226,
          226,
          226,
          226,
          226,
          226,
          226,
          226,
          226,
          226
         ],
         "xaxis": "x",
         "y": [
          216964,
          232922,
          249220,
          259864,
          277603,
          192675,
          285483,
          341244,
          387838,
          439971,
          495627,
          551201
         ],
         "yaxis": "y"
        },
        {
         "hovertemplate": "country=Eritrea<br>iso_num=%{x}<br>pop=%{y}<extra></extra>",
         "legendgroup": "Eritrea",
         "line": {
          "color": "#EF553B",
          "dash": "solid"
         },
         "marker": {
          "symbol": "circle"
         },
         "mode": "lines",
         "name": "Eritrea",
         "showlegend": true,
         "type": "scattergl",
         "x": [
          232,
          232,
          232,
          232,
          232,
          232,
          232,
          232,
          232,
          232,
          232,
          232
         ],
         "xaxis": "x",
         "y": [
          1438760,
          1542611,
          1666618,
          1820319,
          2260187,
          2512642,
          2637297,
          2915959,
          3668440,
          4058319,
          4414865,
          4906585
         ],
         "yaxis": "y"
        },
        {
         "hovertemplate": "country=Ethiopia<br>iso_num=%{x}<br>pop=%{y}<extra></extra>",
         "legendgroup": "Ethiopia",
         "line": {
          "color": "#00cc96",
          "dash": "solid"
         },
         "marker": {
          "symbol": "circle"
         },
         "mode": "lines",
         "name": "Ethiopia",
         "showlegend": true,
         "type": "scattergl",
         "x": [
          231,
          231,
          231,
          231,
          231,
          231,
          231,
          231,
          231,
          231,
          231,
          231
         ],
         "xaxis": "x",
         "y": [
          20860941,
          22815614,
          25145372,
          27860297,
          30770372,
          34617799,
          38111756,
          42999530,
          52088559,
          59861301,
          67946797,
          76511887
         ],
         "yaxis": "y"
        },
        {
         "hovertemplate": "country=Finland<br>iso_num=%{x}<br>pop=%{y}<extra></extra>",
         "legendgroup": "Finland",
         "line": {
          "color": "#ab63fa",
          "dash": "solid"
         },
         "marker": {
          "symbol": "circle"
         },
         "mode": "lines",
         "name": "Finland",
         "showlegend": true,
         "type": "scattergl",
         "x": [
          246,
          246,
          246,
          246,
          246,
          246,
          246,
          246,
          246,
          246,
          246,
          246
         ],
         "xaxis": "x",
         "y": [
          4090500,
          4324000,
          4491443,
          4605744,
          4639657,
          4738902,
          4826933,
          4931729,
          5041039,
          5134406,
          5193039,
          5238460
         ],
         "yaxis": "y"
        },
        {
         "hovertemplate": "country=France<br>iso_num=%{x}<br>pop=%{y}<extra></extra>",
         "legendgroup": "France",
         "line": {
          "color": "#FFA15A",
          "dash": "solid"
         },
         "marker": {
          "symbol": "circle"
         },
         "mode": "lines",
         "name": "France",
         "showlegend": true,
         "type": "scattergl",
         "x": [
          250,
          250,
          250,
          250,
          250,
          250,
          250,
          250,
          250,
          250,
          250,
          250
         ],
         "xaxis": "x",
         "y": [
          42459667,
          44310863,
          47124000,
          49569000,
          51732000,
          53165019,
          54433565,
          55630100,
          57374179,
          58623428,
          59925035,
          61083916
         ],
         "yaxis": "y"
        },
        {
         "hovertemplate": "country=Gabon<br>iso_num=%{x}<br>pop=%{y}<extra></extra>",
         "legendgroup": "Gabon",
         "line": {
          "color": "#19d3f3",
          "dash": "solid"
         },
         "marker": {
          "symbol": "circle"
         },
         "mode": "lines",
         "name": "Gabon",
         "showlegend": true,
         "type": "scattergl",
         "x": [
          266,
          266,
          266,
          266,
          266,
          266,
          266,
          266,
          266,
          266,
          266,
          266
         ],
         "xaxis": "x",
         "y": [
          420702,
          434904,
          455661,
          489004,
          537977,
          706367,
          753874,
          880397,
          985739,
          1126189,
          1299304,
          1454867
         ],
         "yaxis": "y"
        },
        {
         "hovertemplate": "country=Gambia<br>iso_num=%{x}<br>pop=%{y}<extra></extra>",
         "legendgroup": "Gambia",
         "line": {
          "color": "#FF6692",
          "dash": "solid"
         },
         "marker": {
          "symbol": "circle"
         },
         "mode": "lines",
         "name": "Gambia",
         "showlegend": true,
         "type": "scattergl",
         "x": [
          270,
          270,
          270,
          270,
          270,
          270,
          270,
          270,
          270,
          270,
          270,
          270
         ],
         "xaxis": "x",
         "y": [
          284320,
          323150,
          374020,
          439593,
          517101,
          608274,
          715523,
          848406,
          1025384,
          1235767,
          1457766,
          1688359
         ],
         "yaxis": "y"
        },
        {
         "hovertemplate": "country=Germany<br>iso_num=%{x}<br>pop=%{y}<extra></extra>",
         "legendgroup": "Germany",
         "line": {
          "color": "#B6E880",
          "dash": "solid"
         },
         "marker": {
          "symbol": "circle"
         },
         "mode": "lines",
         "name": "Germany",
         "showlegend": true,
         "type": "scattergl",
         "x": [
          276,
          276,
          276,
          276,
          276,
          276,
          276,
          276,
          276,
          276,
          276,
          276
         ],
         "xaxis": "x",
         "y": [
          69145952,
          71019069,
          73739117,
          76368453,
          78717088,
          78160773,
          78335266,
          77718298,
          80597764,
          82011073,
          82350671,
          82400996
         ],
         "yaxis": "y"
        },
        {
         "hovertemplate": "country=Ghana<br>iso_num=%{x}<br>pop=%{y}<extra></extra>",
         "legendgroup": "Ghana",
         "line": {
          "color": "#FF97FF",
          "dash": "solid"
         },
         "marker": {
          "symbol": "circle"
         },
         "mode": "lines",
         "name": "Ghana",
         "showlegend": true,
         "type": "scattergl",
         "x": [
          288,
          288,
          288,
          288,
          288,
          288,
          288,
          288,
          288,
          288,
          288,
          288
         ],
         "xaxis": "x",
         "y": [
          5581001,
          6391288,
          7355248,
          8490213,
          9354120,
          10538093,
          11400338,
          14168101,
          16278738,
          18418288,
          20550751,
          22873338
         ],
         "yaxis": "y"
        },
        {
         "hovertemplate": "country=Greece<br>iso_num=%{x}<br>pop=%{y}<extra></extra>",
         "legendgroup": "Greece",
         "line": {
          "color": "#FECB52",
          "dash": "solid"
         },
         "marker": {
          "symbol": "circle"
         },
         "mode": "lines",
         "name": "Greece",
         "showlegend": true,
         "type": "scattergl",
         "x": [
          300,
          300,
          300,
          300,
          300,
          300,
          300,
          300,
          300,
          300,
          300,
          300
         ],
         "xaxis": "x",
         "y": [
          7733250,
          8096218,
          8448233,
          8716441,
          8888628,
          9308479,
          9786480,
          9974490,
          10325429,
          10502372,
          10603863,
          10706290
         ],
         "yaxis": "y"
        },
        {
         "hovertemplate": "country=Guatemala<br>iso_num=%{x}<br>pop=%{y}<extra></extra>",
         "legendgroup": "Guatemala",
         "line": {
          "color": "#636efa",
          "dash": "solid"
         },
         "marker": {
          "symbol": "circle"
         },
         "mode": "lines",
         "name": "Guatemala",
         "showlegend": true,
         "type": "scattergl",
         "x": [
          320,
          320,
          320,
          320,
          320,
          320,
          320,
          320,
          320,
          320,
          320,
          320
         ],
         "xaxis": "x",
         "y": [
          3146381,
          3640876,
          4208858,
          4690773,
          5149581,
          5703430,
          6395630,
          7326406,
          8486949,
          9803875,
          11178650,
          12572928
         ],
         "yaxis": "y"
        },
        {
         "hovertemplate": "country=Guinea<br>iso_num=%{x}<br>pop=%{y}<extra></extra>",
         "legendgroup": "Guinea",
         "line": {
          "color": "#EF553B",
          "dash": "solid"
         },
         "marker": {
          "symbol": "circle"
         },
         "mode": "lines",
         "name": "Guinea",
         "showlegend": true,
         "type": "scattergl",
         "x": [
          324,
          324,
          324,
          324,
          324,
          324,
          324,
          324,
          324,
          324,
          324,
          324
         ],
         "xaxis": "x",
         "y": [
          2664249,
          2876726,
          3140003,
          3451418,
          3811387,
          4227026,
          4710497,
          5650262,
          6990574,
          8048834,
          8807818,
          9947814
         ],
         "yaxis": "y"
        },
        {
         "hovertemplate": "country=Guinea-Bissau<br>iso_num=%{x}<br>pop=%{y}<extra></extra>",
         "legendgroup": "Guinea-Bissau",
         "line": {
          "color": "#00cc96",
          "dash": "solid"
         },
         "marker": {
          "symbol": "circle"
         },
         "mode": "lines",
         "name": "Guinea-Bissau",
         "showlegend": true,
         "type": "scattergl",
         "x": [
          624,
          624,
          624,
          624,
          624,
          624,
          624,
          624,
          624,
          624,
          624,
          624
         ],
         "xaxis": "x",
         "y": [
          580653,
          601095,
          627820,
          601287,
          625361,
          745228,
          825987,
          927524,
          1050938,
          1193708,
          1332459,
          1472041
         ],
         "yaxis": "y"
        },
        {
         "hovertemplate": "country=Haiti<br>iso_num=%{x}<br>pop=%{y}<extra></extra>",
         "legendgroup": "Haiti",
         "line": {
          "color": "#ab63fa",
          "dash": "solid"
         },
         "marker": {
          "symbol": "circle"
         },
         "mode": "lines",
         "name": "Haiti",
         "showlegend": true,
         "type": "scattergl",
         "x": [
          332,
          332,
          332,
          332,
          332,
          332,
          332,
          332,
          332,
          332,
          332,
          332
         ],
         "xaxis": "x",
         "y": [
          3201488,
          3507701,
          3880130,
          4318137,
          4698301,
          4908554,
          5198399,
          5756203,
          6326682,
          6913545,
          7607651,
          8502814
         ],
         "yaxis": "y"
        },
        {
         "hovertemplate": "country=Honduras<br>iso_num=%{x}<br>pop=%{y}<extra></extra>",
         "legendgroup": "Honduras",
         "line": {
          "color": "#FFA15A",
          "dash": "solid"
         },
         "marker": {
          "symbol": "circle"
         },
         "mode": "lines",
         "name": "Honduras",
         "showlegend": true,
         "type": "scattergl",
         "x": [
          340,
          340,
          340,
          340,
          340,
          340,
          340,
          340,
          340,
          340,
          340,
          340
         ],
         "xaxis": "x",
         "y": [
          1517453,
          1770390,
          2090162,
          2500689,
          2965146,
          3055235,
          3669448,
          4372203,
          5077347,
          5867957,
          6677328,
          7483763
         ],
         "yaxis": "y"
        },
        {
         "hovertemplate": "country=Hong Kong, China<br>iso_num=%{x}<br>pop=%{y}<extra></extra>",
         "legendgroup": "Hong Kong, China",
         "line": {
          "color": "#19d3f3",
          "dash": "solid"
         },
         "marker": {
          "symbol": "circle"
         },
         "mode": "lines",
         "name": "Hong Kong, China",
         "showlegend": true,
         "type": "scattergl",
         "x": [
          344,
          344,
          344,
          344,
          344,
          344,
          344,
          344,
          344,
          344,
          344,
          344
         ],
         "xaxis": "x",
         "y": [
          2125900,
          2736300,
          3305200,
          3722800,
          4115700,
          4583700,
          5264500,
          5584510,
          5829696,
          6495918,
          6762476,
          6980412
         ],
         "yaxis": "y"
        },
        {
         "hovertemplate": "country=Hungary<br>iso_num=%{x}<br>pop=%{y}<extra></extra>",
         "legendgroup": "Hungary",
         "line": {
          "color": "#FF6692",
          "dash": "solid"
         },
         "marker": {
          "symbol": "circle"
         },
         "mode": "lines",
         "name": "Hungary",
         "showlegend": true,
         "type": "scattergl",
         "x": [
          348,
          348,
          348,
          348,
          348,
          348,
          348,
          348,
          348,
          348,
          348,
          348
         ],
         "xaxis": "x",
         "y": [
          9504000,
          9839000,
          10063000,
          10223422,
          10394091,
          10637171,
          10705535,
          10612740,
          10348684,
          10244684,
          10083313,
          9956108
         ],
         "yaxis": "y"
        },
        {
         "hovertemplate": "country=Iceland<br>iso_num=%{x}<br>pop=%{y}<extra></extra>",
         "legendgroup": "Iceland",
         "line": {
          "color": "#B6E880",
          "dash": "solid"
         },
         "marker": {
          "symbol": "circle"
         },
         "mode": "lines",
         "name": "Iceland",
         "showlegend": true,
         "type": "scattergl",
         "x": [
          352,
          352,
          352,
          352,
          352,
          352,
          352,
          352,
          352,
          352,
          352,
          352
         ],
         "xaxis": "x",
         "y": [
          147962,
          165110,
          182053,
          198676,
          209275,
          221823,
          233997,
          244676,
          259012,
          271192,
          288030,
          301931
         ],
         "yaxis": "y"
        },
        {
         "hovertemplate": "country=India<br>iso_num=%{x}<br>pop=%{y}<extra></extra>",
         "legendgroup": "India",
         "line": {
          "color": "#FF97FF",
          "dash": "solid"
         },
         "marker": {
          "symbol": "circle"
         },
         "mode": "lines",
         "name": "India",
         "showlegend": true,
         "type": "scattergl",
         "x": [
          356,
          356,
          356,
          356,
          356,
          356,
          356,
          356,
          356,
          356,
          356,
          356
         ],
         "xaxis": "x",
         "y": [
          372000000,
          409000000,
          454000000,
          506000000,
          567000000,
          634000000,
          708000000,
          788000000,
          872000000,
          959000000,
          1034172547,
          1110396331
         ],
         "yaxis": "y"
        },
        {
         "hovertemplate": "country=Indonesia<br>iso_num=%{x}<br>pop=%{y}<extra></extra>",
         "legendgroup": "Indonesia",
         "line": {
          "color": "#FECB52",
          "dash": "solid"
         },
         "marker": {
          "symbol": "circle"
         },
         "mode": "lines",
         "name": "Indonesia",
         "showlegend": true,
         "type": "scattergl",
         "x": [
          360,
          360,
          360,
          360,
          360,
          360,
          360,
          360,
          360,
          360,
          360,
          360
         ],
         "xaxis": "x",
         "y": [
          82052000,
          90124000,
          99028000,
          109343000,
          121282000,
          136725000,
          153343000,
          169276000,
          184816000,
          199278000,
          211060000,
          223547000
         ],
         "yaxis": "y"
        },
        {
         "hovertemplate": "country=Iran<br>iso_num=%{x}<br>pop=%{y}<extra></extra>",
         "legendgroup": "Iran",
         "line": {
          "color": "#636efa",
          "dash": "solid"
         },
         "marker": {
          "symbol": "circle"
         },
         "mode": "lines",
         "name": "Iran",
         "showlegend": true,
         "type": "scattergl",
         "x": [
          364,
          364,
          364,
          364,
          364,
          364,
          364,
          364,
          364,
          364,
          364,
          364
         ],
         "xaxis": "x",
         "y": [
          17272000,
          19792000,
          22874000,
          26538000,
          30614000,
          35480679,
          43072751,
          51889696,
          60397973,
          63327987,
          66907826,
          69453570
         ],
         "yaxis": "y"
        },
        {
         "hovertemplate": "country=Iraq<br>iso_num=%{x}<br>pop=%{y}<extra></extra>",
         "legendgroup": "Iraq",
         "line": {
          "color": "#EF553B",
          "dash": "solid"
         },
         "marker": {
          "symbol": "circle"
         },
         "mode": "lines",
         "name": "Iraq",
         "showlegend": true,
         "type": "scattergl",
         "x": [
          368,
          368,
          368,
          368,
          368,
          368,
          368,
          368,
          368,
          368,
          368,
          368
         ],
         "xaxis": "x",
         "y": [
          5441766,
          6248643,
          7240260,
          8519282,
          10061506,
          11882916,
          14173318,
          16543189,
          17861905,
          20775703,
          24001816,
          27499638
         ],
         "yaxis": "y"
        },
        {
         "hovertemplate": "country=Ireland<br>iso_num=%{x}<br>pop=%{y}<extra></extra>",
         "legendgroup": "Ireland",
         "line": {
          "color": "#00cc96",
          "dash": "solid"
         },
         "marker": {
          "symbol": "circle"
         },
         "mode": "lines",
         "name": "Ireland",
         "showlegend": true,
         "type": "scattergl",
         "x": [
          372,
          372,
          372,
          372,
          372,
          372,
          372,
          372,
          372,
          372,
          372,
          372
         ],
         "xaxis": "x",
         "y": [
          2952156,
          2878220,
          2830000,
          2900100,
          3024400,
          3271900,
          3480000,
          3539900,
          3557761,
          3667233,
          3879155,
          4109086
         ],
         "yaxis": "y"
        },
        {
         "hovertemplate": "country=Israel<br>iso_num=%{x}<br>pop=%{y}<extra></extra>",
         "legendgroup": "Israel",
         "line": {
          "color": "#ab63fa",
          "dash": "solid"
         },
         "marker": {
          "symbol": "circle"
         },
         "mode": "lines",
         "name": "Israel",
         "showlegend": true,
         "type": "scattergl",
         "x": [
          376,
          376,
          376,
          376,
          376,
          376,
          376,
          376,
          376,
          376,
          376,
          376
         ],
         "xaxis": "x",
         "y": [
          1620914,
          1944401,
          2310904,
          2693585,
          3095893,
          3495918,
          3858421,
          4203148,
          4936550,
          5531387,
          6029529,
          6426679
         ],
         "yaxis": "y"
        },
        {
         "hovertemplate": "country=Italy<br>iso_num=%{x}<br>pop=%{y}<extra></extra>",
         "legendgroup": "Italy",
         "line": {
          "color": "#FFA15A",
          "dash": "solid"
         },
         "marker": {
          "symbol": "circle"
         },
         "mode": "lines",
         "name": "Italy",
         "showlegend": true,
         "type": "scattergl",
         "x": [
          380,
          380,
          380,
          380,
          380,
          380,
          380,
          380,
          380,
          380,
          380,
          380
         ],
         "xaxis": "x",
         "y": [
          47666000,
          49182000,
          50843200,
          52667100,
          54365564,
          56059245,
          56535636,
          56729703,
          56840847,
          57479469,
          57926999,
          58147733
         ],
         "yaxis": "y"
        },
        {
         "hovertemplate": "country=Jamaica<br>iso_num=%{x}<br>pop=%{y}<extra></extra>",
         "legendgroup": "Jamaica",
         "line": {
          "color": "#19d3f3",
          "dash": "solid"
         },
         "marker": {
          "symbol": "circle"
         },
         "mode": "lines",
         "name": "Jamaica",
         "showlegend": true,
         "type": "scattergl",
         "x": [
          388,
          388,
          388,
          388,
          388,
          388,
          388,
          388,
          388,
          388,
          388,
          388
         ],
         "xaxis": "x",
         "y": [
          1426095,
          1535090,
          1665128,
          1861096,
          1997616,
          2156814,
          2298309,
          2326606,
          2378618,
          2531311,
          2664659,
          2780132
         ],
         "yaxis": "y"
        },
        {
         "hovertemplate": "country=Japan<br>iso_num=%{x}<br>pop=%{y}<extra></extra>",
         "legendgroup": "Japan",
         "line": {
          "color": "#FF6692",
          "dash": "solid"
         },
         "marker": {
          "symbol": "circle"
         },
         "mode": "lines",
         "name": "Japan",
         "showlegend": true,
         "type": "scattergl",
         "x": [
          392,
          392,
          392,
          392,
          392,
          392,
          392,
          392,
          392,
          392,
          392,
          392
         ],
         "xaxis": "x",
         "y": [
          86459025,
          91563009,
          95831757,
          100825279,
          107188273,
          113872473,
          118454974,
          122091325,
          124329269,
          125956499,
          127065841,
          127467972
         ],
         "yaxis": "y"
        },
        {
         "hovertemplate": "country=Jordan<br>iso_num=%{x}<br>pop=%{y}<extra></extra>",
         "legendgroup": "Jordan",
         "line": {
          "color": "#B6E880",
          "dash": "solid"
         },
         "marker": {
          "symbol": "circle"
         },
         "mode": "lines",
         "name": "Jordan",
         "showlegend": true,
         "type": "scattergl",
         "x": [
          400,
          400,
          400,
          400,
          400,
          400,
          400,
          400,
          400,
          400,
          400,
          400
         ],
         "xaxis": "x",
         "y": [
          607914,
          746559,
          933559,
          1255058,
          1613551,
          1937652,
          2347031,
          2820042,
          3867409,
          4526235,
          5307470,
          6053193
         ],
         "yaxis": "y"
        },
        {
         "hovertemplate": "country=Kenya<br>iso_num=%{x}<br>pop=%{y}<extra></extra>",
         "legendgroup": "Kenya",
         "line": {
          "color": "#FF97FF",
          "dash": "solid"
         },
         "marker": {
          "symbol": "circle"
         },
         "mode": "lines",
         "name": "Kenya",
         "showlegend": true,
         "type": "scattergl",
         "x": [
          404,
          404,
          404,
          404,
          404,
          404,
          404,
          404,
          404,
          404,
          404,
          404
         ],
         "xaxis": "x",
         "y": [
          6464046,
          7454779,
          8678557,
          10191512,
          12044785,
          14500404,
          17661452,
          21198082,
          25020539,
          28263827,
          31386842,
          35610177
         ],
         "yaxis": "y"
        },
        {
         "hovertemplate": "country=Korea, Dem. Rep.<br>iso_num=%{x}<br>pop=%{y}<extra></extra>",
         "legendgroup": "Korea, Dem. Rep.",
         "line": {
          "color": "#FECB52",
          "dash": "solid"
         },
         "marker": {
          "symbol": "circle"
         },
         "mode": "lines",
         "name": "Korea, Dem. Rep.",
         "showlegend": true,
         "type": "scattergl",
         "x": [
          410,
          410,
          410,
          410,
          410,
          410,
          410,
          410,
          410,
          410,
          410,
          410
         ],
         "xaxis": "x",
         "y": [
          8865488,
          9411381,
          10917494,
          12617009,
          14781241,
          16325320,
          17647518,
          19067554,
          20711375,
          21585105,
          22215365,
          23301725
         ],
         "yaxis": "y"
        },
        {
         "hovertemplate": "country=Korea, Rep.<br>iso_num=%{x}<br>pop=%{y}<extra></extra>",
         "legendgroup": "Korea, Rep.",
         "line": {
          "color": "#636efa",
          "dash": "solid"
         },
         "marker": {
          "symbol": "circle"
         },
         "mode": "lines",
         "name": "Korea, Rep.",
         "showlegend": true,
         "type": "scattergl",
         "x": [
          410,
          410,
          410,
          410,
          410,
          410,
          410,
          410,
          410,
          410,
          410,
          410
         ],
         "xaxis": "x",
         "y": [
          20947571,
          22611552,
          26420307,
          30131000,
          33505000,
          36436000,
          39326000,
          41622000,
          43805450,
          46173816,
          47969150,
          49044790
         ],
         "yaxis": "y"
        },
        {
         "hovertemplate": "country=Kuwait<br>iso_num=%{x}<br>pop=%{y}<extra></extra>",
         "legendgroup": "Kuwait",
         "line": {
          "color": "#EF553B",
          "dash": "solid"
         },
         "marker": {
          "symbol": "circle"
         },
         "mode": "lines",
         "name": "Kuwait",
         "showlegend": true,
         "type": "scattergl",
         "x": [
          414,
          414,
          414,
          414,
          414,
          414,
          414,
          414,
          414,
          414,
          414,
          414
         ],
         "xaxis": "x",
         "y": [
          160000,
          212846,
          358266,
          575003,
          841934,
          1140357,
          1497494,
          1891487,
          1418095,
          1765345,
          2111561,
          2505559
         ],
         "yaxis": "y"
        },
        {
         "hovertemplate": "country=Lebanon<br>iso_num=%{x}<br>pop=%{y}<extra></extra>",
         "legendgroup": "Lebanon",
         "line": {
          "color": "#00cc96",
          "dash": "solid"
         },
         "marker": {
          "symbol": "circle"
         },
         "mode": "lines",
         "name": "Lebanon",
         "showlegend": true,
         "type": "scattergl",
         "x": [
          422,
          422,
          422,
          422,
          422,
          422,
          422,
          422,
          422,
          422,
          422,
          422
         ],
         "xaxis": "x",
         "y": [
          1439529,
          1647412,
          1886848,
          2186894,
          2680018,
          3115787,
          3086876,
          3089353,
          3219994,
          3430388,
          3677780,
          3921278
         ],
         "yaxis": "y"
        },
        {
         "hovertemplate": "country=Lesotho<br>iso_num=%{x}<br>pop=%{y}<extra></extra>",
         "legendgroup": "Lesotho",
         "line": {
          "color": "#ab63fa",
          "dash": "solid"
         },
         "marker": {
          "symbol": "circle"
         },
         "mode": "lines",
         "name": "Lesotho",
         "showlegend": true,
         "type": "scattergl",
         "x": [
          426,
          426,
          426,
          426,
          426,
          426,
          426,
          426,
          426,
          426,
          426,
          426
         ],
         "xaxis": "x",
         "y": [
          748747,
          813338,
          893143,
          996380,
          1116779,
          1251524,
          1411807,
          1599200,
          1803195,
          1982823,
          2046772,
          2012649
         ],
         "yaxis": "y"
        },
        {
         "hovertemplate": "country=Liberia<br>iso_num=%{x}<br>pop=%{y}<extra></extra>",
         "legendgroup": "Liberia",
         "line": {
          "color": "#FFA15A",
          "dash": "solid"
         },
         "marker": {
          "symbol": "circle"
         },
         "mode": "lines",
         "name": "Liberia",
         "showlegend": true,
         "type": "scattergl",
         "x": [
          430,
          430,
          430,
          430,
          430,
          430,
          430,
          430,
          430,
          430,
          430,
          430
         ],
         "xaxis": "x",
         "y": [
          863308,
          975950,
          1112796,
          1279406,
          1482628,
          1703617,
          1956875,
          2269414,
          1912974,
          2200725,
          2814651,
          3193942
         ],
         "yaxis": "y"
        },
        {
         "hovertemplate": "country=Libya<br>iso_num=%{x}<br>pop=%{y}<extra></extra>",
         "legendgroup": "Libya",
         "line": {
          "color": "#19d3f3",
          "dash": "solid"
         },
         "marker": {
          "symbol": "circle"
         },
         "mode": "lines",
         "name": "Libya",
         "showlegend": true,
         "type": "scattergl",
         "x": [
          434,
          434,
          434,
          434,
          434,
          434,
          434,
          434,
          434,
          434,
          434,
          434
         ],
         "xaxis": "x",
         "y": [
          1019729,
          1201578,
          1441863,
          1759224,
          2183877,
          2721783,
          3344074,
          3799845,
          4364501,
          4759670,
          5368585,
          6036914
         ],
         "yaxis": "y"
        },
        {
         "hovertemplate": "country=Madagascar<br>iso_num=%{x}<br>pop=%{y}<extra></extra>",
         "legendgroup": "Madagascar",
         "line": {
          "color": "#FF6692",
          "dash": "solid"
         },
         "marker": {
          "symbol": "circle"
         },
         "mode": "lines",
         "name": "Madagascar",
         "showlegend": true,
         "type": "scattergl",
         "x": [
          450,
          450,
          450,
          450,
          450,
          450,
          450,
          450,
          450,
          450,
          450,
          450
         ],
         "xaxis": "x",
         "y": [
          4762912,
          5181679,
          5703324,
          6334556,
          7082430,
          8007166,
          9171477,
          10568642,
          12210395,
          14165114,
          16473477,
          19167654
         ],
         "yaxis": "y"
        },
        {
         "hovertemplate": "country=Malawi<br>iso_num=%{x}<br>pop=%{y}<extra></extra>",
         "legendgroup": "Malawi",
         "line": {
          "color": "#B6E880",
          "dash": "solid"
         },
         "marker": {
          "symbol": "circle"
         },
         "mode": "lines",
         "name": "Malawi",
         "showlegend": true,
         "type": "scattergl",
         "x": [
          454,
          454,
          454,
          454,
          454,
          454,
          454,
          454,
          454,
          454,
          454,
          454
         ],
         "xaxis": "x",
         "y": [
          2917802,
          3221238,
          3628608,
          4147252,
          4730997,
          5637246,
          6502825,
          7824747,
          10014249,
          10419991,
          11824495,
          13327079
         ],
         "yaxis": "y"
        },
        {
         "hovertemplate": "country=Malaysia<br>iso_num=%{x}<br>pop=%{y}<extra></extra>",
         "legendgroup": "Malaysia",
         "line": {
          "color": "#FF97FF",
          "dash": "solid"
         },
         "marker": {
          "symbol": "circle"
         },
         "mode": "lines",
         "name": "Malaysia",
         "showlegend": true,
         "type": "scattergl",
         "x": [
          458,
          458,
          458,
          458,
          458,
          458,
          458,
          458,
          458,
          458,
          458,
          458
         ],
         "xaxis": "x",
         "y": [
          6748378,
          7739235,
          8906385,
          10154878,
          11441462,
          12845381,
          14441916,
          16331785,
          18319502,
          20476091,
          22662365,
          24821286
         ],
         "yaxis": "y"
        },
        {
         "hovertemplate": "country=Mali<br>iso_num=%{x}<br>pop=%{y}<extra></extra>",
         "legendgroup": "Mali",
         "line": {
          "color": "#FECB52",
          "dash": "solid"
         },
         "marker": {
          "symbol": "circle"
         },
         "mode": "lines",
         "name": "Mali",
         "showlegend": true,
         "type": "scattergl",
         "x": [
          466,
          466,
          466,
          466,
          466,
          466,
          466,
          466,
          466,
          466,
          466,
          466
         ],
         "xaxis": "x",
         "y": [
          3838168,
          4241884,
          4690372,
          5212416,
          5828158,
          6491649,
          6998256,
          7634008,
          8416215,
          9384984,
          10580176,
          12031795
         ],
         "yaxis": "y"
        },
        {
         "hovertemplate": "country=Mauritania<br>iso_num=%{x}<br>pop=%{y}<extra></extra>",
         "legendgroup": "Mauritania",
         "line": {
          "color": "#636efa",
          "dash": "solid"
         },
         "marker": {
          "symbol": "circle"
         },
         "mode": "lines",
         "name": "Mauritania",
         "showlegend": true,
         "type": "scattergl",
         "x": [
          478,
          478,
          478,
          478,
          478,
          478,
          478,
          478,
          478,
          478,
          478,
          478
         ],
         "xaxis": "x",
         "y": [
          1022556,
          1076852,
          1146757,
          1230542,
          1332786,
          1456688,
          1622136,
          1841240,
          2119465,
          2444741,
          2828858,
          3270065
         ],
         "yaxis": "y"
        },
        {
         "hovertemplate": "country=Mauritius<br>iso_num=%{x}<br>pop=%{y}<extra></extra>",
         "legendgroup": "Mauritius",
         "line": {
          "color": "#EF553B",
          "dash": "solid"
         },
         "marker": {
          "symbol": "circle"
         },
         "mode": "lines",
         "name": "Mauritius",
         "showlegend": true,
         "type": "scattergl",
         "x": [
          480,
          480,
          480,
          480,
          480,
          480,
          480,
          480,
          480,
          480,
          480,
          480
         ],
         "xaxis": "x",
         "y": [
          516556,
          609816,
          701016,
          789309,
          851334,
          913025,
          992040,
          1042663,
          1096202,
          1149818,
          1200206,
          1250882
         ],
         "yaxis": "y"
        },
        {
         "hovertemplate": "country=Mexico<br>iso_num=%{x}<br>pop=%{y}<extra></extra>",
         "legendgroup": "Mexico",
         "line": {
          "color": "#00cc96",
          "dash": "solid"
         },
         "marker": {
          "symbol": "circle"
         },
         "mode": "lines",
         "name": "Mexico",
         "showlegend": true,
         "type": "scattergl",
         "x": [
          484,
          484,
          484,
          484,
          484,
          484,
          484,
          484,
          484,
          484,
          484,
          484
         ],
         "xaxis": "x",
         "y": [
          30144317,
          35015548,
          41121485,
          47995559,
          55984294,
          63759976,
          71640904,
          80122492,
          88111030,
          95895146,
          102479927,
          108700891
         ],
         "yaxis": "y"
        },
        {
         "hovertemplate": "country=Mongolia<br>iso_num=%{x}<br>pop=%{y}<extra></extra>",
         "legendgroup": "Mongolia",
         "line": {
          "color": "#ab63fa",
          "dash": "solid"
         },
         "marker": {
          "symbol": "circle"
         },
         "mode": "lines",
         "name": "Mongolia",
         "showlegend": true,
         "type": "scattergl",
         "x": [
          496,
          496,
          496,
          496,
          496,
          496,
          496,
          496,
          496,
          496,
          496,
          496
         ],
         "xaxis": "x",
         "y": [
          800663,
          882134,
          1010280,
          1149500,
          1320500,
          1528000,
          1756032,
          2015133,
          2312802,
          2494803,
          2674234,
          2874127
         ],
         "yaxis": "y"
        },
        {
         "hovertemplate": "country=Montenegro<br>iso_num=%{x}<br>pop=%{y}<extra></extra>",
         "legendgroup": "Montenegro",
         "line": {
          "color": "#FFA15A",
          "dash": "solid"
         },
         "marker": {
          "symbol": "circle"
         },
         "mode": "lines",
         "name": "Montenegro",
         "showlegend": true,
         "type": "scattergl",
         "x": [
          499,
          499,
          499,
          499,
          499,
          499,
          499,
          499,
          499,
          499,
          499,
          499
         ],
         "xaxis": "x",
         "y": [
          413834,
          442829,
          474528,
          501035,
          527678,
          560073,
          562548,
          569473,
          621621,
          692651,
          720230,
          684736
         ],
         "yaxis": "y"
        },
        {
         "hovertemplate": "country=Morocco<br>iso_num=%{x}<br>pop=%{y}<extra></extra>",
         "legendgroup": "Morocco",
         "line": {
          "color": "#19d3f3",
          "dash": "solid"
         },
         "marker": {
          "symbol": "circle"
         },
         "mode": "lines",
         "name": "Morocco",
         "showlegend": true,
         "type": "scattergl",
         "x": [
          504,
          504,
          504,
          504,
          504,
          504,
          504,
          504,
          504,
          504,
          504,
          504
         ],
         "xaxis": "x",
         "y": [
          9939217,
          11406350,
          13056604,
          14770296,
          16660670,
          18396941,
          20198730,
          22987397,
          25798239,
          28529501,
          31167783,
          33757175
         ],
         "yaxis": "y"
        },
        {
         "hovertemplate": "country=Mozambique<br>iso_num=%{x}<br>pop=%{y}<extra></extra>",
         "legendgroup": "Mozambique",
         "line": {
          "color": "#FF6692",
          "dash": "solid"
         },
         "marker": {
          "symbol": "circle"
         },
         "mode": "lines",
         "name": "Mozambique",
         "showlegend": true,
         "type": "scattergl",
         "x": [
          508,
          508,
          508,
          508,
          508,
          508,
          508,
          508,
          508,
          508,
          508,
          508
         ],
         "xaxis": "x",
         "y": [
          6446316,
          7038035,
          7788944,
          8680909,
          9809596,
          11127868,
          12587223,
          12891952,
          13160731,
          16603334,
          18473780,
          19951656
         ],
         "yaxis": "y"
        },
        {
         "hovertemplate": "country=Myanmar<br>iso_num=%{x}<br>pop=%{y}<extra></extra>",
         "legendgroup": "Myanmar",
         "line": {
          "color": "#B6E880",
          "dash": "solid"
         },
         "marker": {
          "symbol": "circle"
         },
         "mode": "lines",
         "name": "Myanmar",
         "showlegend": true,
         "type": "scattergl",
         "x": [
          104,
          104,
          104,
          104,
          104,
          104,
          104,
          104,
          104,
          104,
          104,
          104
         ],
         "xaxis": "x",
         "y": [
          20092996,
          21731844,
          23634436,
          25870271,
          28466390,
          31528087,
          34680442,
          38028578,
          40546538,
          43247867,
          45598081,
          47761980
         ],
         "yaxis": "y"
        },
        {
         "hovertemplate": "country=Namibia<br>iso_num=%{x}<br>pop=%{y}<extra></extra>",
         "legendgroup": "Namibia",
         "line": {
          "color": "#FF97FF",
          "dash": "solid"
         },
         "marker": {
          "symbol": "circle"
         },
         "mode": "lines",
         "name": "Namibia",
         "showlegend": true,
         "type": "scattergl",
         "x": [
          516,
          516,
          516,
          516,
          516,
          516,
          516,
          516,
          516,
          516,
          516,
          516
         ],
         "xaxis": "x",
         "y": [
          485831,
          548080,
          621392,
          706640,
          821782,
          977026,
          1099010,
          1278184,
          1554253,
          1774766,
          1972153,
          2055080
         ],
         "yaxis": "y"
        },
        {
         "hovertemplate": "country=Nepal<br>iso_num=%{x}<br>pop=%{y}<extra></extra>",
         "legendgroup": "Nepal",
         "line": {
          "color": "#FECB52",
          "dash": "solid"
         },
         "marker": {
          "symbol": "circle"
         },
         "mode": "lines",
         "name": "Nepal",
         "showlegend": true,
         "type": "scattergl",
         "x": [
          524,
          524,
          524,
          524,
          524,
          524,
          524,
          524,
          524,
          524,
          524,
          524
         ],
         "xaxis": "x",
         "y": [
          9182536,
          9682338,
          10332057,
          11261690,
          12412593,
          13933198,
          15796314,
          17917180,
          20326209,
          23001113,
          25873917,
          28901790
         ],
         "yaxis": "y"
        },
        {
         "hovertemplate": "country=Netherlands<br>iso_num=%{x}<br>pop=%{y}<extra></extra>",
         "legendgroup": "Netherlands",
         "line": {
          "color": "#636efa",
          "dash": "solid"
         },
         "marker": {
          "symbol": "circle"
         },
         "mode": "lines",
         "name": "Netherlands",
         "showlegend": true,
         "type": "scattergl",
         "x": [
          528,
          528,
          528,
          528,
          528,
          528,
          528,
          528,
          528,
          528,
          528,
          528
         ],
         "xaxis": "x",
         "y": [
          10381988,
          11026383,
          11805689,
          12596822,
          13329874,
          13852989,
          14310401,
          14665278,
          15174244,
          15604464,
          16122830,
          16570613
         ],
         "yaxis": "y"
        },
        {
         "hovertemplate": "country=New Zealand<br>iso_num=%{x}<br>pop=%{y}<extra></extra>",
         "legendgroup": "New Zealand",
         "line": {
          "color": "#EF553B",
          "dash": "solid"
         },
         "marker": {
          "symbol": "circle"
         },
         "mode": "lines",
         "name": "New Zealand",
         "showlegend": true,
         "type": "scattergl",
         "x": [
          554,
          554,
          554,
          554,
          554,
          554,
          554,
          554,
          554,
          554,
          554,
          554
         ],
         "xaxis": "x",
         "y": [
          1994794,
          2229407,
          2488550,
          2728150,
          2929100,
          3164900,
          3210650,
          3317166,
          3437674,
          3676187,
          3908037,
          4115771
         ],
         "yaxis": "y"
        },
        {
         "hovertemplate": "country=Nicaragua<br>iso_num=%{x}<br>pop=%{y}<extra></extra>",
         "legendgroup": "Nicaragua",
         "line": {
          "color": "#00cc96",
          "dash": "solid"
         },
         "marker": {
          "symbol": "circle"
         },
         "mode": "lines",
         "name": "Nicaragua",
         "showlegend": true,
         "type": "scattergl",
         "x": [
          558,
          558,
          558,
          558,
          558,
          558,
          558,
          558,
          558,
          558,
          558,
          558
         ],
         "xaxis": "x",
         "y": [
          1165790,
          1358828,
          1590597,
          1865490,
          2182908,
          2554598,
          2979423,
          3344353,
          4017939,
          4609572,
          5146848,
          5675356
         ],
         "yaxis": "y"
        },
        {
         "hovertemplate": "country=Niger<br>iso_num=%{x}<br>pop=%{y}<extra></extra>",
         "legendgroup": "Niger",
         "line": {
          "color": "#ab63fa",
          "dash": "solid"
         },
         "marker": {
          "symbol": "circle"
         },
         "mode": "lines",
         "name": "Niger",
         "showlegend": true,
         "type": "scattergl",
         "x": [
          562,
          562,
          562,
          562,
          562,
          562,
          562,
          562,
          562,
          562,
          562,
          562
         ],
         "xaxis": "x",
         "y": [
          3379468,
          3692184,
          4076008,
          4534062,
          5060262,
          5682086,
          6437188,
          7332638,
          8392818,
          9666252,
          11140655,
          12894865
         ],
         "yaxis": "y"
        },
        {
         "hovertemplate": "country=Nigeria<br>iso_num=%{x}<br>pop=%{y}<extra></extra>",
         "legendgroup": "Nigeria",
         "line": {
          "color": "#FFA15A",
          "dash": "solid"
         },
         "marker": {
          "symbol": "circle"
         },
         "mode": "lines",
         "name": "Nigeria",
         "showlegend": true,
         "type": "scattergl",
         "x": [
          566,
          566,
          566,
          566,
          566,
          566,
          566,
          566,
          566,
          566,
          566,
          566
         ],
         "xaxis": "x",
         "y": [
          33119096,
          37173340,
          41871351,
          47287752,
          53740085,
          62209173,
          73039376,
          81551520,
          93364244,
          106207839,
          119901274,
          135031164
         ],
         "yaxis": "y"
        },
        {
         "hovertemplate": "country=Norway<br>iso_num=%{x}<br>pop=%{y}<extra></extra>",
         "legendgroup": "Norway",
         "line": {
          "color": "#19d3f3",
          "dash": "solid"
         },
         "marker": {
          "symbol": "circle"
         },
         "mode": "lines",
         "name": "Norway",
         "showlegend": true,
         "type": "scattergl",
         "x": [
          578,
          578,
          578,
          578,
          578,
          578,
          578,
          578,
          578,
          578,
          578,
          578
         ],
         "xaxis": "x",
         "y": [
          3327728,
          3491938,
          3638919,
          3786019,
          3933004,
          4043205,
          4114787,
          4186147,
          4286357,
          4405672,
          4535591,
          4627926
         ],
         "yaxis": "y"
        },
        {
         "hovertemplate": "country=Oman<br>iso_num=%{x}<br>pop=%{y}<extra></extra>",
         "legendgroup": "Oman",
         "line": {
          "color": "#FF6692",
          "dash": "solid"
         },
         "marker": {
          "symbol": "circle"
         },
         "mode": "lines",
         "name": "Oman",
         "showlegend": true,
         "type": "scattergl",
         "x": [
          512,
          512,
          512,
          512,
          512,
          512,
          512,
          512,
          512,
          512,
          512,
          512
         ],
         "xaxis": "x",
         "y": [
          507833,
          561977,
          628164,
          714775,
          829050,
          1004533,
          1301048,
          1593882,
          1915208,
          2283635,
          2713462,
          3204897
         ],
         "yaxis": "y"
        },
        {
         "hovertemplate": "country=Pakistan<br>iso_num=%{x}<br>pop=%{y}<extra></extra>",
         "legendgroup": "Pakistan",
         "line": {
          "color": "#B6E880",
          "dash": "solid"
         },
         "marker": {
          "symbol": "circle"
         },
         "mode": "lines",
         "name": "Pakistan",
         "showlegend": true,
         "type": "scattergl",
         "x": [
          586,
          586,
          586,
          586,
          586,
          586,
          586,
          586,
          586,
          586,
          586,
          586
         ],
         "xaxis": "x",
         "y": [
          41346560,
          46679944,
          53100671,
          60641899,
          69325921,
          78152686,
          91462088,
          105186881,
          120065004,
          135564834,
          153403524,
          169270617
         ],
         "yaxis": "y"
        },
        {
         "hovertemplate": "country=Panama<br>iso_num=%{x}<br>pop=%{y}<extra></extra>",
         "legendgroup": "Panama",
         "line": {
          "color": "#FF97FF",
          "dash": "solid"
         },
         "marker": {
          "symbol": "circle"
         },
         "mode": "lines",
         "name": "Panama",
         "showlegend": true,
         "type": "scattergl",
         "x": [
          591,
          591,
          591,
          591,
          591,
          591,
          591,
          591,
          591,
          591,
          591,
          591
         ],
         "xaxis": "x",
         "y": [
          940080,
          1063506,
          1215725,
          1405486,
          1616384,
          1839782,
          2036305,
          2253639,
          2484997,
          2734531,
          2990875,
          3242173
         ],
         "yaxis": "y"
        },
        {
         "hovertemplate": "country=Paraguay<br>iso_num=%{x}<br>pop=%{y}<extra></extra>",
         "legendgroup": "Paraguay",
         "line": {
          "color": "#FECB52",
          "dash": "solid"
         },
         "marker": {
          "symbol": "circle"
         },
         "mode": "lines",
         "name": "Paraguay",
         "showlegend": true,
         "type": "scattergl",
         "x": [
          600,
          600,
          600,
          600,
          600,
          600,
          600,
          600,
          600,
          600,
          600,
          600
         ],
         "xaxis": "x",
         "y": [
          1555876,
          1770902,
          2009813,
          2287985,
          2614104,
          2984494,
          3366439,
          3886512,
          4483945,
          5154123,
          5884491,
          6667147
         ],
         "yaxis": "y"
        },
        {
         "hovertemplate": "country=Peru<br>iso_num=%{x}<br>pop=%{y}<extra></extra>",
         "legendgroup": "Peru",
         "line": {
          "color": "#636efa",
          "dash": "solid"
         },
         "marker": {
          "symbol": "circle"
         },
         "mode": "lines",
         "name": "Peru",
         "showlegend": true,
         "type": "scattergl",
         "x": [
          604,
          604,
          604,
          604,
          604,
          604,
          604,
          604,
          604,
          604,
          604,
          604
         ],
         "xaxis": "x",
         "y": [
          8025700,
          9146100,
          10516500,
          12132200,
          13954700,
          15990099,
          18125129,
          20195924,
          22430449,
          24748122,
          26769436,
          28674757
         ],
         "yaxis": "y"
        },
        {
         "hovertemplate": "country=Philippines<br>iso_num=%{x}<br>pop=%{y}<extra></extra>",
         "legendgroup": "Philippines",
         "line": {
          "color": "#EF553B",
          "dash": "solid"
         },
         "marker": {
          "symbol": "circle"
         },
         "mode": "lines",
         "name": "Philippines",
         "showlegend": true,
         "type": "scattergl",
         "x": [
          608,
          608,
          608,
          608,
          608,
          608,
          608,
          608,
          608,
          608,
          608,
          608
         ],
         "xaxis": "x",
         "y": [
          22438691,
          26072194,
          30325264,
          35356600,
          40850141,
          46850962,
          53456774,
          60017788,
          67185766,
          75012988,
          82995088,
          91077287
         ],
         "yaxis": "y"
        },
        {
         "hovertemplate": "country=Poland<br>iso_num=%{x}<br>pop=%{y}<extra></extra>",
         "legendgroup": "Poland",
         "line": {
          "color": "#00cc96",
          "dash": "solid"
         },
         "marker": {
          "symbol": "circle"
         },
         "mode": "lines",
         "name": "Poland",
         "showlegend": true,
         "type": "scattergl",
         "x": [
          616,
          616,
          616,
          616,
          616,
          616,
          616,
          616,
          616,
          616,
          616,
          616
         ],
         "xaxis": "x",
         "y": [
          25730551,
          28235346,
          30329617,
          31785378,
          33039545,
          34621254,
          36227381,
          37740710,
          38370697,
          38654957,
          38625976,
          38518241
         ],
         "yaxis": "y"
        },
        {
         "hovertemplate": "country=Portugal<br>iso_num=%{x}<br>pop=%{y}<extra></extra>",
         "legendgroup": "Portugal",
         "line": {
          "color": "#ab63fa",
          "dash": "solid"
         },
         "marker": {
          "symbol": "circle"
         },
         "mode": "lines",
         "name": "Portugal",
         "showlegend": true,
         "type": "scattergl",
         "x": [
          620,
          620,
          620,
          620,
          620,
          620,
          620,
          620,
          620,
          620,
          620,
          620
         ],
         "xaxis": "x",
         "y": [
          8526050,
          8817650,
          9019800,
          9103000,
          8970450,
          9662600,
          9859650,
          9915289,
          9927680,
          10156415,
          10433867,
          10642836
         ],
         "yaxis": "y"
        },
        {
         "hovertemplate": "country=Puerto Rico<br>iso_num=%{x}<br>pop=%{y}<extra></extra>",
         "legendgroup": "Puerto Rico",
         "line": {
          "color": "#FFA15A",
          "dash": "solid"
         },
         "marker": {
          "symbol": "circle"
         },
         "mode": "lines",
         "name": "Puerto Rico",
         "showlegend": true,
         "type": "scattergl",
         "x": [
          630,
          630,
          630,
          630,
          630,
          630,
          630,
          630,
          630,
          630,
          630,
          630
         ],
         "xaxis": "x",
         "y": [
          2227000,
          2260000,
          2448046,
          2648961,
          2847132,
          3080828,
          3279001,
          3444468,
          3585176,
          3759430,
          3859606,
          3942491
         ],
         "yaxis": "y"
        },
        {
         "hovertemplate": "country=Reunion<br>iso_num=%{x}<br>pop=%{y}<extra></extra>",
         "legendgroup": "Reunion",
         "line": {
          "color": "#19d3f3",
          "dash": "solid"
         },
         "marker": {
          "symbol": "circle"
         },
         "mode": "lines",
         "name": "Reunion",
         "showlegend": true,
         "type": "scattergl",
         "x": [
          638,
          638,
          638,
          638,
          638,
          638,
          638,
          638,
          638,
          638,
          638,
          638
         ],
         "xaxis": "x",
         "y": [
          257700,
          308700,
          358900,
          414024,
          461633,
          492095,
          517810,
          562035,
          622191,
          684810,
          743981,
          798094
         ],
         "yaxis": "y"
        },
        {
         "hovertemplate": "country=Romania<br>iso_num=%{x}<br>pop=%{y}<extra></extra>",
         "legendgroup": "Romania",
         "line": {
          "color": "#FF6692",
          "dash": "solid"
         },
         "marker": {
          "symbol": "circle"
         },
         "mode": "lines",
         "name": "Romania",
         "showlegend": true,
         "type": "scattergl",
         "x": [
          642,
          642,
          642,
          642,
          642,
          642,
          642,
          642,
          642,
          642,
          642,
          642
         ],
         "xaxis": "x",
         "y": [
          16630000,
          17829327,
          18680721,
          19284814,
          20662648,
          21658597,
          22356726,
          22686371,
          22797027,
          22562458,
          22404337,
          22276056
         ],
         "yaxis": "y"
        },
        {
         "hovertemplate": "country=Rwanda<br>iso_num=%{x}<br>pop=%{y}<extra></extra>",
         "legendgroup": "Rwanda",
         "line": {
          "color": "#B6E880",
          "dash": "solid"
         },
         "marker": {
          "symbol": "circle"
         },
         "mode": "lines",
         "name": "Rwanda",
         "showlegend": true,
         "type": "scattergl",
         "x": [
          646,
          646,
          646,
          646,
          646,
          646,
          646,
          646,
          646,
          646,
          646,
          646
         ],
         "xaxis": "x",
         "y": [
          2534927,
          2822082,
          3051242,
          3451079,
          3992121,
          4657072,
          5507565,
          6349365,
          7290203,
          7212583,
          7852401,
          8860588
         ],
         "yaxis": "y"
        },
        {
         "hovertemplate": "country=Sao Tome and Principe<br>iso_num=%{x}<br>pop=%{y}<extra></extra>",
         "legendgroup": "Sao Tome and Principe",
         "line": {
          "color": "#FF97FF",
          "dash": "solid"
         },
         "marker": {
          "symbol": "circle"
         },
         "mode": "lines",
         "name": "Sao Tome and Principe",
         "showlegend": true,
         "type": "scattergl",
         "x": [
          678,
          678,
          678,
          678,
          678,
          678,
          678,
          678,
          678,
          678,
          678,
          678
         ],
         "xaxis": "x",
         "y": [
          60011,
          61325,
          65345,
          70787,
          76595,
          86796,
          98593,
          110812,
          125911,
          145608,
          170372,
          199579
         ],
         "yaxis": "y"
        },
        {
         "hovertemplate": "country=Saudi Arabia<br>iso_num=%{x}<br>pop=%{y}<extra></extra>",
         "legendgroup": "Saudi Arabia",
         "line": {
          "color": "#FECB52",
          "dash": "solid"
         },
         "marker": {
          "symbol": "circle"
         },
         "mode": "lines",
         "name": "Saudi Arabia",
         "showlegend": true,
         "type": "scattergl",
         "x": [
          682,
          682,
          682,
          682,
          682,
          682,
          682,
          682,
          682,
          682,
          682,
          682
         ],
         "xaxis": "x",
         "y": [
          4005677,
          4419650,
          4943029,
          5618198,
          6472756,
          8128505,
          11254672,
          14619745,
          16945857,
          21229759,
          24501530,
          27601038
         ],
         "yaxis": "y"
        },
        {
         "hovertemplate": "country=Senegal<br>iso_num=%{x}<br>pop=%{y}<extra></extra>",
         "legendgroup": "Senegal",
         "line": {
          "color": "#636efa",
          "dash": "solid"
         },
         "marker": {
          "symbol": "circle"
         },
         "mode": "lines",
         "name": "Senegal",
         "showlegend": true,
         "type": "scattergl",
         "x": [
          686,
          686,
          686,
          686,
          686,
          686,
          686,
          686,
          686,
          686,
          686,
          686
         ],
         "xaxis": "x",
         "y": [
          2755589,
          3054547,
          3430243,
          3965841,
          4588696,
          5260855,
          6147783,
          7171347,
          8307920,
          9535314,
          10870037,
          12267493
         ],
         "yaxis": "y"
        },
        {
         "hovertemplate": "country=Serbia<br>iso_num=%{x}<br>pop=%{y}<extra></extra>",
         "legendgroup": "Serbia",
         "line": {
          "color": "#EF553B",
          "dash": "solid"
         },
         "marker": {
          "symbol": "circle"
         },
         "mode": "lines",
         "name": "Serbia",
         "showlegend": true,
         "type": "scattergl",
         "x": [
          688,
          688,
          688,
          688,
          688,
          688,
          688,
          688,
          688,
          688,
          688,
          688
         ],
         "xaxis": "x",
         "y": [
          6860147,
          7271135,
          7616060,
          7971222,
          8313288,
          8686367,
          9032824,
          9230783,
          9826397,
          10336594,
          10111559,
          10150265
         ],
         "yaxis": "y"
        },
        {
         "hovertemplate": "country=Sierra Leone<br>iso_num=%{x}<br>pop=%{y}<extra></extra>",
         "legendgroup": "Sierra Leone",
         "line": {
          "color": "#00cc96",
          "dash": "solid"
         },
         "marker": {
          "symbol": "circle"
         },
         "mode": "lines",
         "name": "Sierra Leone",
         "showlegend": true,
         "type": "scattergl",
         "x": [
          694,
          694,
          694,
          694,
          694,
          694,
          694,
          694,
          694,
          694,
          694,
          694
         ],
         "xaxis": "x",
         "y": [
          2143249,
          2295678,
          2467895,
          2662190,
          2879013,
          3140897,
          3464522,
          3868905,
          4260884,
          4578212,
          5359092,
          6144562
         ],
         "yaxis": "y"
        },
        {
         "hovertemplate": "country=Singapore<br>iso_num=%{x}<br>pop=%{y}<extra></extra>",
         "legendgroup": "Singapore",
         "line": {
          "color": "#ab63fa",
          "dash": "solid"
         },
         "marker": {
          "symbol": "circle"
         },
         "mode": "lines",
         "name": "Singapore",
         "showlegend": true,
         "type": "scattergl",
         "x": [
          702,
          702,
          702,
          702,
          702,
          702,
          702,
          702,
          702,
          702,
          702,
          702
         ],
         "xaxis": "x",
         "y": [
          1127000,
          1445929,
          1750200,
          1977600,
          2152400,
          2325300,
          2651869,
          2794552,
          3235865,
          3802309,
          4197776,
          4553009
         ],
         "yaxis": "y"
        },
        {
         "hovertemplate": "country=Slovak Republic<br>iso_num=%{x}<br>pop=%{y}<extra></extra>",
         "legendgroup": "Slovak Republic",
         "line": {
          "color": "#FFA15A",
          "dash": "solid"
         },
         "marker": {
          "symbol": "circle"
         },
         "mode": "lines",
         "name": "Slovak Republic",
         "showlegend": true,
         "type": "scattergl",
         "x": [
          703,
          703,
          703,
          703,
          703,
          703,
          703,
          703,
          703,
          703,
          703,
          703
         ],
         "xaxis": "x",
         "y": [
          3558137,
          3844277,
          4237384,
          4442238,
          4593433,
          4827803,
          5048043,
          5199318,
          5302888,
          5383010,
          5410052,
          5447502
         ],
         "yaxis": "y"
        },
        {
         "hovertemplate": "country=Slovenia<br>iso_num=%{x}<br>pop=%{y}<extra></extra>",
         "legendgroup": "Slovenia",
         "line": {
          "color": "#19d3f3",
          "dash": "solid"
         },
         "marker": {
          "symbol": "circle"
         },
         "mode": "lines",
         "name": "Slovenia",
         "showlegend": true,
         "type": "scattergl",
         "x": [
          705,
          705,
          705,
          705,
          705,
          705,
          705,
          705,
          705,
          705,
          705,
          705
         ],
         "xaxis": "x",
         "y": [
          1489518,
          1533070,
          1582962,
          1646912,
          1694510,
          1746919,
          1861252,
          1945870,
          1999210,
          2011612,
          2011497,
          2009245
         ],
         "yaxis": "y"
        },
        {
         "hovertemplate": "country=Somalia<br>iso_num=%{x}<br>pop=%{y}<extra></extra>",
         "legendgroup": "Somalia",
         "line": {
          "color": "#FF6692",
          "dash": "solid"
         },
         "marker": {
          "symbol": "circle"
         },
         "mode": "lines",
         "name": "Somalia",
         "showlegend": true,
         "type": "scattergl",
         "x": [
          706,
          706,
          706,
          706,
          706,
          706,
          706,
          706,
          706,
          706,
          706,
          706
         ],
         "xaxis": "x",
         "y": [
          2526994,
          2780415,
          3080153,
          3428839,
          3840161,
          4353666,
          5828892,
          6921858,
          6099799,
          6633514,
          7753310,
          9118773
         ],
         "yaxis": "y"
        },
        {
         "hovertemplate": "country=South Africa<br>iso_num=%{x}<br>pop=%{y}<extra></extra>",
         "legendgroup": "South Africa",
         "line": {
          "color": "#B6E880",
          "dash": "solid"
         },
         "marker": {
          "symbol": "circle"
         },
         "mode": "lines",
         "name": "South Africa",
         "showlegend": true,
         "type": "scattergl",
         "x": [
          710,
          710,
          710,
          710,
          710,
          710,
          710,
          710,
          710,
          710,
          710,
          710
         ],
         "xaxis": "x",
         "y": [
          14264935,
          16151549,
          18356657,
          20997321,
          23935810,
          27129932,
          31140029,
          35933379,
          39964159,
          42835005,
          44433622,
          43997828
         ],
         "yaxis": "y"
        },
        {
         "hovertemplate": "country=Spain<br>iso_num=%{x}<br>pop=%{y}<extra></extra>",
         "legendgroup": "Spain",
         "line": {
          "color": "#FF97FF",
          "dash": "solid"
         },
         "marker": {
          "symbol": "circle"
         },
         "mode": "lines",
         "name": "Spain",
         "showlegend": true,
         "type": "scattergl",
         "x": [
          724,
          724,
          724,
          724,
          724,
          724,
          724,
          724,
          724,
          724,
          724,
          724
         ],
         "xaxis": "x",
         "y": [
          28549870,
          29841614,
          31158061,
          32850275,
          34513161,
          36439000,
          37983310,
          38880702,
          39549438,
          39855442,
          40152517,
          40448191
         ],
         "yaxis": "y"
        },
        {
         "hovertemplate": "country=Sri Lanka<br>iso_num=%{x}<br>pop=%{y}<extra></extra>",
         "legendgroup": "Sri Lanka",
         "line": {
          "color": "#FECB52",
          "dash": "solid"
         },
         "marker": {
          "symbol": "circle"
         },
         "mode": "lines",
         "name": "Sri Lanka",
         "showlegend": true,
         "type": "scattergl",
         "x": [
          144,
          144,
          144,
          144,
          144,
          144,
          144,
          144,
          144,
          144,
          144,
          144
         ],
         "xaxis": "x",
         "y": [
          7982342,
          9128546,
          10421936,
          11737396,
          13016733,
          14116836,
          15410151,
          16495304,
          17587060,
          18698655,
          19576783,
          20378239
         ],
         "yaxis": "y"
        },
        {
         "hovertemplate": "country=Sudan<br>iso_num=%{x}<br>pop=%{y}<extra></extra>",
         "legendgroup": "Sudan",
         "line": {
          "color": "#636efa",
          "dash": "solid"
         },
         "marker": {
          "symbol": "circle"
         },
         "mode": "lines",
         "name": "Sudan",
         "showlegend": true,
         "type": "scattergl",
         "x": [
          736,
          736,
          736,
          736,
          736,
          736,
          736,
          736,
          736,
          736,
          736,
          736
         ],
         "xaxis": "x",
         "y": [
          8504667,
          9753392,
          11183227,
          12716129,
          14597019,
          17104986,
          20367053,
          24725960,
          28227588,
          32160729,
          37090298,
          42292929
         ],
         "yaxis": "y"
        },
        {
         "hovertemplate": "country=Swaziland<br>iso_num=%{x}<br>pop=%{y}<extra></extra>",
         "legendgroup": "Swaziland",
         "line": {
          "color": "#EF553B",
          "dash": "solid"
         },
         "marker": {
          "symbol": "circle"
         },
         "mode": "lines",
         "name": "Swaziland",
         "showlegend": true,
         "type": "scattergl",
         "x": [
          748,
          748,
          748,
          748,
          748,
          748,
          748,
          748,
          748,
          748,
          748,
          748
         ],
         "xaxis": "x",
         "y": [
          290243,
          326741,
          370006,
          420690,
          480105,
          551425,
          649901,
          779348,
          962344,
          1054486,
          1130269,
          1133066
         ],
         "yaxis": "y"
        },
        {
         "hovertemplate": "country=Sweden<br>iso_num=%{x}<br>pop=%{y}<extra></extra>",
         "legendgroup": "Sweden",
         "line": {
          "color": "#00cc96",
          "dash": "solid"
         },
         "marker": {
          "symbol": "circle"
         },
         "mode": "lines",
         "name": "Sweden",
         "showlegend": true,
         "type": "scattergl",
         "x": [
          752,
          752,
          752,
          752,
          752,
          752,
          752,
          752,
          752,
          752,
          752,
          752
         ],
         "xaxis": "x",
         "y": [
          7124673,
          7363802,
          7561588,
          7867931,
          8122293,
          8251648,
          8325260,
          8421403,
          8718867,
          8897619,
          8954175,
          9031088
         ],
         "yaxis": "y"
        },
        {
         "hovertemplate": "country=Switzerland<br>iso_num=%{x}<br>pop=%{y}<extra></extra>",
         "legendgroup": "Switzerland",
         "line": {
          "color": "#ab63fa",
          "dash": "solid"
         },
         "marker": {
          "symbol": "circle"
         },
         "mode": "lines",
         "name": "Switzerland",
         "showlegend": true,
         "type": "scattergl",
         "x": [
          756,
          756,
          756,
          756,
          756,
          756,
          756,
          756,
          756,
          756,
          756,
          756
         ],
         "xaxis": "x",
         "y": [
          4815000,
          5126000,
          5666000,
          6063000,
          6401400,
          6316424,
          6468126,
          6649942,
          6995447,
          7193761,
          7361757,
          7554661
         ],
         "yaxis": "y"
        },
        {
         "hovertemplate": "country=Syria<br>iso_num=%{x}<br>pop=%{y}<extra></extra>",
         "legendgroup": "Syria",
         "line": {
          "color": "#FFA15A",
          "dash": "solid"
         },
         "marker": {
          "symbol": "circle"
         },
         "mode": "lines",
         "name": "Syria",
         "showlegend": true,
         "type": "scattergl",
         "x": [
          760,
          760,
          760,
          760,
          760,
          760,
          760,
          760,
          760,
          760,
          760,
          760
         ],
         "xaxis": "x",
         "y": [
          3661549,
          4149908,
          4834621,
          5680812,
          6701172,
          7932503,
          9410494,
          11242847,
          13219062,
          15081016,
          17155814,
          19314747
         ],
         "yaxis": "y"
        },
        {
         "hovertemplate": "country=Taiwan<br>iso_num=%{x}<br>pop=%{y}<extra></extra>",
         "legendgroup": "Taiwan",
         "line": {
          "color": "#19d3f3",
          "dash": "solid"
         },
         "marker": {
          "symbol": "circle"
         },
         "mode": "lines",
         "name": "Taiwan",
         "showlegend": true,
         "type": "scattergl",
         "x": [
          158,
          158,
          158,
          158,
          158,
          158,
          158,
          158,
          158,
          158,
          158,
          158
         ],
         "xaxis": "x",
         "y": [
          8550362,
          10164215,
          11918938,
          13648692,
          15226039,
          16785196,
          18501390,
          19757799,
          20686918,
          21628605,
          22454239,
          23174294
         ],
         "yaxis": "y"
        },
        {
         "hovertemplate": "country=Tanzania<br>iso_num=%{x}<br>pop=%{y}<extra></extra>",
         "legendgroup": "Tanzania",
         "line": {
          "color": "#FF6692",
          "dash": "solid"
         },
         "marker": {
          "symbol": "circle"
         },
         "mode": "lines",
         "name": "Tanzania",
         "showlegend": true,
         "type": "scattergl",
         "x": [
          834,
          834,
          834,
          834,
          834,
          834,
          834,
          834,
          834,
          834,
          834,
          834
         ],
         "xaxis": "x",
         "y": [
          8322925,
          9452826,
          10863958,
          12607312,
          14706593,
          17129565,
          19844382,
          23040630,
          26605473,
          30686889,
          34593779,
          38139640
         ],
         "yaxis": "y"
        },
        {
         "hovertemplate": "country=Thailand<br>iso_num=%{x}<br>pop=%{y}<extra></extra>",
         "legendgroup": "Thailand",
         "line": {
          "color": "#B6E880",
          "dash": "solid"
         },
         "marker": {
          "symbol": "circle"
         },
         "mode": "lines",
         "name": "Thailand",
         "showlegend": true,
         "type": "scattergl",
         "x": [
          764,
          764,
          764,
          764,
          764,
          764,
          764,
          764,
          764,
          764,
          764,
          764
         ],
         "xaxis": "x",
         "y": [
          21289402,
          25041917,
          29263397,
          34024249,
          39276153,
          44148285,
          48827160,
          52910342,
          56667095,
          60216677,
          62806748,
          65068149
         ],
         "yaxis": "y"
        },
        {
         "hovertemplate": "country=Togo<br>iso_num=%{x}<br>pop=%{y}<extra></extra>",
         "legendgroup": "Togo",
         "line": {
          "color": "#FF97FF",
          "dash": "solid"
         },
         "marker": {
          "symbol": "circle"
         },
         "mode": "lines",
         "name": "Togo",
         "showlegend": true,
         "type": "scattergl",
         "x": [
          768,
          768,
          768,
          768,
          768,
          768,
          768,
          768,
          768,
          768,
          768,
          768
         ],
         "xaxis": "x",
         "y": [
          1219113,
          1357445,
          1528098,
          1735550,
          2056351,
          2308582,
          2644765,
          3154264,
          3747553,
          4320890,
          4977378,
          5701579
         ],
         "yaxis": "y"
        },
        {
         "hovertemplate": "country=Trinidad and Tobago<br>iso_num=%{x}<br>pop=%{y}<extra></extra>",
         "legendgroup": "Trinidad and Tobago",
         "line": {
          "color": "#FECB52",
          "dash": "solid"
         },
         "marker": {
          "symbol": "circle"
         },
         "mode": "lines",
         "name": "Trinidad and Tobago",
         "showlegend": true,
         "type": "scattergl",
         "x": [
          780,
          780,
          780,
          780,
          780,
          780,
          780,
          780,
          780,
          780,
          780,
          780
         ],
         "xaxis": "x",
         "y": [
          662850,
          764900,
          887498,
          960155,
          975199,
          1039009,
          1116479,
          1191336,
          1183669,
          1138101,
          1101832,
          1056608
         ],
         "yaxis": "y"
        },
        {
         "hovertemplate": "country=Tunisia<br>iso_num=%{x}<br>pop=%{y}<extra></extra>",
         "legendgroup": "Tunisia",
         "line": {
          "color": "#636efa",
          "dash": "solid"
         },
         "marker": {
          "symbol": "circle"
         },
         "mode": "lines",
         "name": "Tunisia",
         "showlegend": true,
         "type": "scattergl",
         "x": [
          788,
          788,
          788,
          788,
          788,
          788,
          788,
          788,
          788,
          788,
          788,
          788
         ],
         "xaxis": "x",
         "y": [
          3647735,
          3950849,
          4286552,
          4786986,
          5303507,
          6005061,
          6734098,
          7724976,
          8523077,
          9231669,
          9770575,
          10276158
         ],
         "yaxis": "y"
        },
        {
         "hovertemplate": "country=Turkey<br>iso_num=%{x}<br>pop=%{y}<extra></extra>",
         "legendgroup": "Turkey",
         "line": {
          "color": "#EF553B",
          "dash": "solid"
         },
         "marker": {
          "symbol": "circle"
         },
         "mode": "lines",
         "name": "Turkey",
         "showlegend": true,
         "type": "scattergl",
         "x": [
          792,
          792,
          792,
          792,
          792,
          792,
          792,
          792,
          792,
          792,
          792,
          792
         ],
         "xaxis": "x",
         "y": [
          22235677,
          25670939,
          29788695,
          33411317,
          37492953,
          42404033,
          47328791,
          52881328,
          58179144,
          63047647,
          67308928,
          71158647
         ],
         "yaxis": "y"
        },
        {
         "hovertemplate": "country=Uganda<br>iso_num=%{x}<br>pop=%{y}<extra></extra>",
         "legendgroup": "Uganda",
         "line": {
          "color": "#00cc96",
          "dash": "solid"
         },
         "marker": {
          "symbol": "circle"
         },
         "mode": "lines",
         "name": "Uganda",
         "showlegend": true,
         "type": "scattergl",
         "x": [
          800,
          800,
          800,
          800,
          800,
          800,
          800,
          800,
          800,
          800,
          800,
          800
         ],
         "xaxis": "x",
         "y": [
          5824797,
          6675501,
          7688797,
          8900294,
          10190285,
          11457758,
          12939400,
          15283050,
          18252190,
          21210254,
          24739869,
          29170398
         ],
         "yaxis": "y"
        },
        {
         "hovertemplate": "country=United Kingdom<br>iso_num=%{x}<br>pop=%{y}<extra></extra>",
         "legendgroup": "United Kingdom",
         "line": {
          "color": "#ab63fa",
          "dash": "solid"
         },
         "marker": {
          "symbol": "circle"
         },
         "mode": "lines",
         "name": "United Kingdom",
         "showlegend": true,
         "type": "scattergl",
         "x": [
          826,
          826,
          826,
          826,
          826,
          826,
          826,
          826,
          826,
          826,
          826,
          826
         ],
         "xaxis": "x",
         "y": [
          50430000,
          51430000,
          53292000,
          54959000,
          56079000,
          56179000,
          56339704,
          56981620,
          57866349,
          58808266,
          59912431,
          60776238
         ],
         "yaxis": "y"
        },
        {
         "hovertemplate": "country=United States<br>iso_num=%{x}<br>pop=%{y}<extra></extra>",
         "legendgroup": "United States",
         "line": {
          "color": "#FFA15A",
          "dash": "solid"
         },
         "marker": {
          "symbol": "circle"
         },
         "mode": "lines",
         "name": "United States",
         "showlegend": true,
         "type": "scattergl",
         "x": [
          840,
          840,
          840,
          840,
          840,
          840,
          840,
          840,
          840,
          840,
          840,
          840
         ],
         "xaxis": "x",
         "y": [
          157553000,
          171984000,
          186538000,
          198712000,
          209896000,
          220239000,
          232187835,
          242803533,
          256894189,
          272911760,
          287675526,
          301139947
         ],
         "yaxis": "y"
        },
        {
         "hovertemplate": "country=Uruguay<br>iso_num=%{x}<br>pop=%{y}<extra></extra>",
         "legendgroup": "Uruguay",
         "line": {
          "color": "#19d3f3",
          "dash": "solid"
         },
         "marker": {
          "symbol": "circle"
         },
         "mode": "lines",
         "name": "Uruguay",
         "showlegend": true,
         "type": "scattergl",
         "x": [
          858,
          858,
          858,
          858,
          858,
          858,
          858,
          858,
          858,
          858,
          858,
          858
         ],
         "xaxis": "x",
         "y": [
          2252965,
          2424959,
          2598466,
          2748579,
          2829526,
          2873520,
          2953997,
          3045153,
          3149262,
          3262838,
          3363085,
          3447496
         ],
         "yaxis": "y"
        },
        {
         "hovertemplate": "country=Venezuela<br>iso_num=%{x}<br>pop=%{y}<extra></extra>",
         "legendgroup": "Venezuela",
         "line": {
          "color": "#FF6692",
          "dash": "solid"
         },
         "marker": {
          "symbol": "circle"
         },
         "mode": "lines",
         "name": "Venezuela",
         "showlegend": true,
         "type": "scattergl",
         "x": [
          862,
          862,
          862,
          862,
          862,
          862,
          862,
          862,
          862,
          862,
          862,
          862
         ],
         "xaxis": "x",
         "y": [
          5439568,
          6702668,
          8143375,
          9709552,
          11515649,
          13503563,
          15620766,
          17910182,
          20265563,
          22374398,
          24287670,
          26084662
         ],
         "yaxis": "y"
        },
        {
         "hovertemplate": "country=Vietnam<br>iso_num=%{x}<br>pop=%{y}<extra></extra>",
         "legendgroup": "Vietnam",
         "line": {
          "color": "#B6E880",
          "dash": "solid"
         },
         "marker": {
          "symbol": "circle"
         },
         "mode": "lines",
         "name": "Vietnam",
         "showlegend": true,
         "type": "scattergl",
         "x": [
          704,
          704,
          704,
          704,
          704,
          704,
          704,
          704,
          704,
          704,
          704,
          704
         ],
         "xaxis": "x",
         "y": [
          26246839,
          28998543,
          33796140,
          39463910,
          44655014,
          50533506,
          56142181,
          62826491,
          69940728,
          76048996,
          80908147,
          85262356
         ],
         "yaxis": "y"
        },
        {
         "hovertemplate": "country=West Bank and Gaza<br>iso_num=%{x}<br>pop=%{y}<extra></extra>",
         "legendgroup": "West Bank and Gaza",
         "line": {
          "color": "#FF97FF",
          "dash": "solid"
         },
         "marker": {
          "symbol": "circle"
         },
         "mode": "lines",
         "name": "West Bank and Gaza",
         "showlegend": true,
         "type": "scattergl",
         "x": [
          275,
          275,
          275,
          275,
          275,
          275,
          275,
          275,
          275,
          275,
          275,
          275
         ],
         "xaxis": "x",
         "y": [
          1030585,
          1070439,
          1133134,
          1142636,
          1089572,
          1261091,
          1425876,
          1691210,
          2104779,
          2826046,
          3389578,
          4018332
         ],
         "yaxis": "y"
        },
        {
         "hovertemplate": "country=Yemen, Rep.<br>iso_num=%{x}<br>pop=%{y}<extra></extra>",
         "legendgroup": "Yemen, Rep.",
         "line": {
          "color": "#FECB52",
          "dash": "solid"
         },
         "marker": {
          "symbol": "circle"
         },
         "mode": "lines",
         "name": "Yemen, Rep.",
         "showlegend": true,
         "type": "scattergl",
         "x": [
          887,
          887,
          887,
          887,
          887,
          887,
          887,
          887,
          887,
          887,
          887,
          887
         ],
         "xaxis": "x",
         "y": [
          4963829,
          5498090,
          6120081,
          6740785,
          7407075,
          8403990,
          9657618,
          11219340,
          13367997,
          15826497,
          18701257,
          22211743
         ],
         "yaxis": "y"
        },
        {
         "hovertemplate": "country=Zambia<br>iso_num=%{x}<br>pop=%{y}<extra></extra>",
         "legendgroup": "Zambia",
         "line": {
          "color": "#636efa",
          "dash": "solid"
         },
         "marker": {
          "symbol": "circle"
         },
         "mode": "lines",
         "name": "Zambia",
         "showlegend": true,
         "type": "scattergl",
         "x": [
          894,
          894,
          894,
          894,
          894,
          894,
          894,
          894,
          894,
          894,
          894,
          894
         ],
         "xaxis": "x",
         "y": [
          2672000,
          3016000,
          3421000,
          3900000,
          4506497,
          5216550,
          6100407,
          7272406,
          8381163,
          9417789,
          10595811,
          11746035
         ],
         "yaxis": "y"
        },
        {
         "hovertemplate": "country=Zimbabwe<br>iso_num=%{x}<br>pop=%{y}<extra></extra>",
         "legendgroup": "Zimbabwe",
         "line": {
          "color": "#EF553B",
          "dash": "solid"
         },
         "marker": {
          "symbol": "circle"
         },
         "mode": "lines",
         "name": "Zimbabwe",
         "showlegend": true,
         "type": "scattergl",
         "x": [
          716,
          716,
          716,
          716,
          716,
          716,
          716,
          716,
          716,
          716,
          716,
          716
         ],
         "xaxis": "x",
         "y": [
          3080907,
          3646340,
          4277736,
          4995432,
          5861135,
          6642107,
          7636524,
          9216418,
          10704340,
          11404948,
          11926563,
          12311143
         ],
         "yaxis": "y"
        }
       ],
       "layout": {
        "legend": {
         "title": {
          "text": "country"
         },
         "tracegroupgap": 0
        },
        "margin": {
         "t": 60
        },
        "template": {
         "data": {
          "bar": [
           {
            "error_x": {
             "color": "#2a3f5f"
            },
            "error_y": {
             "color": "#2a3f5f"
            },
            "marker": {
             "line": {
              "color": "#E5ECF6",
              "width": 0.5
             },
             "pattern": {
              "fillmode": "overlay",
              "size": 10,
              "solidity": 0.2
             }
            },
            "type": "bar"
           }
          ],
          "barpolar": [
           {
            "marker": {
             "line": {
              "color": "#E5ECF6",
              "width": 0.5
             },
             "pattern": {
              "fillmode": "overlay",
              "size": 10,
              "solidity": 0.2
             }
            },
            "type": "barpolar"
           }
          ],
          "carpet": [
           {
            "aaxis": {
             "endlinecolor": "#2a3f5f",
             "gridcolor": "white",
             "linecolor": "white",
             "minorgridcolor": "white",
             "startlinecolor": "#2a3f5f"
            },
            "baxis": {
             "endlinecolor": "#2a3f5f",
             "gridcolor": "white",
             "linecolor": "white",
             "minorgridcolor": "white",
             "startlinecolor": "#2a3f5f"
            },
            "type": "carpet"
           }
          ],
          "choropleth": [
           {
            "colorbar": {
             "outlinewidth": 0,
             "ticks": ""
            },
            "type": "choropleth"
           }
          ],
          "contour": [
           {
            "colorbar": {
             "outlinewidth": 0,
             "ticks": ""
            },
            "colorscale": [
             [
              0,
              "#0d0887"
             ],
             [
              0.1111111111111111,
              "#46039f"
             ],
             [
              0.2222222222222222,
              "#7201a8"
             ],
             [
              0.3333333333333333,
              "#9c179e"
             ],
             [
              0.4444444444444444,
              "#bd3786"
             ],
             [
              0.5555555555555556,
              "#d8576b"
             ],
             [
              0.6666666666666666,
              "#ed7953"
             ],
             [
              0.7777777777777778,
              "#fb9f3a"
             ],
             [
              0.8888888888888888,
              "#fdca26"
             ],
             [
              1,
              "#f0f921"
             ]
            ],
            "type": "contour"
           }
          ],
          "contourcarpet": [
           {
            "colorbar": {
             "outlinewidth": 0,
             "ticks": ""
            },
            "type": "contourcarpet"
           }
          ],
          "heatmap": [
           {
            "colorbar": {
             "outlinewidth": 0,
             "ticks": ""
            },
            "colorscale": [
             [
              0,
              "#0d0887"
             ],
             [
              0.1111111111111111,
              "#46039f"
             ],
             [
              0.2222222222222222,
              "#7201a8"
             ],
             [
              0.3333333333333333,
              "#9c179e"
             ],
             [
              0.4444444444444444,
              "#bd3786"
             ],
             [
              0.5555555555555556,
              "#d8576b"
             ],
             [
              0.6666666666666666,
              "#ed7953"
             ],
             [
              0.7777777777777778,
              "#fb9f3a"
             ],
             [
              0.8888888888888888,
              "#fdca26"
             ],
             [
              1,
              "#f0f921"
             ]
            ],
            "type": "heatmap"
           }
          ],
          "heatmapgl": [
           {
            "colorbar": {
             "outlinewidth": 0,
             "ticks": ""
            },
            "colorscale": [
             [
              0,
              "#0d0887"
             ],
             [
              0.1111111111111111,
              "#46039f"
             ],
             [
              0.2222222222222222,
              "#7201a8"
             ],
             [
              0.3333333333333333,
              "#9c179e"
             ],
             [
              0.4444444444444444,
              "#bd3786"
             ],
             [
              0.5555555555555556,
              "#d8576b"
             ],
             [
              0.6666666666666666,
              "#ed7953"
             ],
             [
              0.7777777777777778,
              "#fb9f3a"
             ],
             [
              0.8888888888888888,
              "#fdca26"
             ],
             [
              1,
              "#f0f921"
             ]
            ],
            "type": "heatmapgl"
           }
          ],
          "histogram": [
           {
            "marker": {
             "pattern": {
              "fillmode": "overlay",
              "size": 10,
              "solidity": 0.2
             }
            },
            "type": "histogram"
           }
          ],
          "histogram2d": [
           {
            "colorbar": {
             "outlinewidth": 0,
             "ticks": ""
            },
            "colorscale": [
             [
              0,
              "#0d0887"
             ],
             [
              0.1111111111111111,
              "#46039f"
             ],
             [
              0.2222222222222222,
              "#7201a8"
             ],
             [
              0.3333333333333333,
              "#9c179e"
             ],
             [
              0.4444444444444444,
              "#bd3786"
             ],
             [
              0.5555555555555556,
              "#d8576b"
             ],
             [
              0.6666666666666666,
              "#ed7953"
             ],
             [
              0.7777777777777778,
              "#fb9f3a"
             ],
             [
              0.8888888888888888,
              "#fdca26"
             ],
             [
              1,
              "#f0f921"
             ]
            ],
            "type": "histogram2d"
           }
          ],
          "histogram2dcontour": [
           {
            "colorbar": {
             "outlinewidth": 0,
             "ticks": ""
            },
            "colorscale": [
             [
              0,
              "#0d0887"
             ],
             [
              0.1111111111111111,
              "#46039f"
             ],
             [
              0.2222222222222222,
              "#7201a8"
             ],
             [
              0.3333333333333333,
              "#9c179e"
             ],
             [
              0.4444444444444444,
              "#bd3786"
             ],
             [
              0.5555555555555556,
              "#d8576b"
             ],
             [
              0.6666666666666666,
              "#ed7953"
             ],
             [
              0.7777777777777778,
              "#fb9f3a"
             ],
             [
              0.8888888888888888,
              "#fdca26"
             ],
             [
              1,
              "#f0f921"
             ]
            ],
            "type": "histogram2dcontour"
           }
          ],
          "mesh3d": [
           {
            "colorbar": {
             "outlinewidth": 0,
             "ticks": ""
            },
            "type": "mesh3d"
           }
          ],
          "parcoords": [
           {
            "line": {
             "colorbar": {
              "outlinewidth": 0,
              "ticks": ""
             }
            },
            "type": "parcoords"
           }
          ],
          "pie": [
           {
            "automargin": true,
            "type": "pie"
           }
          ],
          "scatter": [
           {
            "fillpattern": {
             "fillmode": "overlay",
             "size": 10,
             "solidity": 0.2
            },
            "type": "scatter"
           }
          ],
          "scatter3d": [
           {
            "line": {
             "colorbar": {
              "outlinewidth": 0,
              "ticks": ""
             }
            },
            "marker": {
             "colorbar": {
              "outlinewidth": 0,
              "ticks": ""
             }
            },
            "type": "scatter3d"
           }
          ],
          "scattercarpet": [
           {
            "marker": {
             "colorbar": {
              "outlinewidth": 0,
              "ticks": ""
             }
            },
            "type": "scattercarpet"
           }
          ],
          "scattergeo": [
           {
            "marker": {
             "colorbar": {
              "outlinewidth": 0,
              "ticks": ""
             }
            },
            "type": "scattergeo"
           }
          ],
          "scattergl": [
           {
            "marker": {
             "colorbar": {
              "outlinewidth": 0,
              "ticks": ""
             }
            },
            "type": "scattergl"
           }
          ],
          "scattermapbox": [
           {
            "marker": {
             "colorbar": {
              "outlinewidth": 0,
              "ticks": ""
             }
            },
            "type": "scattermapbox"
           }
          ],
          "scatterpolar": [
           {
            "marker": {
             "colorbar": {
              "outlinewidth": 0,
              "ticks": ""
             }
            },
            "type": "scatterpolar"
           }
          ],
          "scatterpolargl": [
           {
            "marker": {
             "colorbar": {
              "outlinewidth": 0,
              "ticks": ""
             }
            },
            "type": "scatterpolargl"
           }
          ],
          "scatterternary": [
           {
            "marker": {
             "colorbar": {
              "outlinewidth": 0,
              "ticks": ""
             }
            },
            "type": "scatterternary"
           }
          ],
          "surface": [
           {
            "colorbar": {
             "outlinewidth": 0,
             "ticks": ""
            },
            "colorscale": [
             [
              0,
              "#0d0887"
             ],
             [
              0.1111111111111111,
              "#46039f"
             ],
             [
              0.2222222222222222,
              "#7201a8"
             ],
             [
              0.3333333333333333,
              "#9c179e"
             ],
             [
              0.4444444444444444,
              "#bd3786"
             ],
             [
              0.5555555555555556,
              "#d8576b"
             ],
             [
              0.6666666666666666,
              "#ed7953"
             ],
             [
              0.7777777777777778,
              "#fb9f3a"
             ],
             [
              0.8888888888888888,
              "#fdca26"
             ],
             [
              1,
              "#f0f921"
             ]
            ],
            "type": "surface"
           }
          ],
          "table": [
           {
            "cells": {
             "fill": {
              "color": "#EBF0F8"
             },
             "line": {
              "color": "white"
             }
            },
            "header": {
             "fill": {
              "color": "#C8D4E3"
             },
             "line": {
              "color": "white"
             }
            },
            "type": "table"
           }
          ]
         },
         "layout": {
          "annotationdefaults": {
           "arrowcolor": "#2a3f5f",
           "arrowhead": 0,
           "arrowwidth": 1
          },
          "autotypenumbers": "strict",
          "coloraxis": {
           "colorbar": {
            "outlinewidth": 0,
            "ticks": ""
           }
          },
          "colorscale": {
           "diverging": [
            [
             0,
             "#8e0152"
            ],
            [
             0.1,
             "#c51b7d"
            ],
            [
             0.2,
             "#de77ae"
            ],
            [
             0.3,
             "#f1b6da"
            ],
            [
             0.4,
             "#fde0ef"
            ],
            [
             0.5,
             "#f7f7f7"
            ],
            [
             0.6,
             "#e6f5d0"
            ],
            [
             0.7,
             "#b8e186"
            ],
            [
             0.8,
             "#7fbc41"
            ],
            [
             0.9,
             "#4d9221"
            ],
            [
             1,
             "#276419"
            ]
           ],
           "sequential": [
            [
             0,
             "#0d0887"
            ],
            [
             0.1111111111111111,
             "#46039f"
            ],
            [
             0.2222222222222222,
             "#7201a8"
            ],
            [
             0.3333333333333333,
             "#9c179e"
            ],
            [
             0.4444444444444444,
             "#bd3786"
            ],
            [
             0.5555555555555556,
             "#d8576b"
            ],
            [
             0.6666666666666666,
             "#ed7953"
            ],
            [
             0.7777777777777778,
             "#fb9f3a"
            ],
            [
             0.8888888888888888,
             "#fdca26"
            ],
            [
             1,
             "#f0f921"
            ]
           ],
           "sequentialminus": [
            [
             0,
             "#0d0887"
            ],
            [
             0.1111111111111111,
             "#46039f"
            ],
            [
             0.2222222222222222,
             "#7201a8"
            ],
            [
             0.3333333333333333,
             "#9c179e"
            ],
            [
             0.4444444444444444,
             "#bd3786"
            ],
            [
             0.5555555555555556,
             "#d8576b"
            ],
            [
             0.6666666666666666,
             "#ed7953"
            ],
            [
             0.7777777777777778,
             "#fb9f3a"
            ],
            [
             0.8888888888888888,
             "#fdca26"
            ],
            [
             1,
             "#f0f921"
            ]
           ]
          },
          "colorway": [
           "#636efa",
           "#EF553B",
           "#00cc96",
           "#ab63fa",
           "#FFA15A",
           "#19d3f3",
           "#FF6692",
           "#B6E880",
           "#FF97FF",
           "#FECB52"
          ],
          "font": {
           "color": "#2a3f5f"
          },
          "geo": {
           "bgcolor": "white",
           "lakecolor": "white",
           "landcolor": "#E5ECF6",
           "showlakes": true,
           "showland": true,
           "subunitcolor": "white"
          },
          "hoverlabel": {
           "align": "left"
          },
          "hovermode": "closest",
          "mapbox": {
           "style": "light"
          },
          "paper_bgcolor": "white",
          "plot_bgcolor": "#E5ECF6",
          "polar": {
           "angularaxis": {
            "gridcolor": "white",
            "linecolor": "white",
            "ticks": ""
           },
           "bgcolor": "#E5ECF6",
           "radialaxis": {
            "gridcolor": "white",
            "linecolor": "white",
            "ticks": ""
           }
          },
          "scene": {
           "xaxis": {
            "backgroundcolor": "#E5ECF6",
            "gridcolor": "white",
            "gridwidth": 2,
            "linecolor": "white",
            "showbackground": true,
            "ticks": "",
            "zerolinecolor": "white"
           },
           "yaxis": {
            "backgroundcolor": "#E5ECF6",
            "gridcolor": "white",
            "gridwidth": 2,
            "linecolor": "white",
            "showbackground": true,
            "ticks": "",
            "zerolinecolor": "white"
           },
           "zaxis": {
            "backgroundcolor": "#E5ECF6",
            "gridcolor": "white",
            "gridwidth": 2,
            "linecolor": "white",
            "showbackground": true,
            "ticks": "",
            "zerolinecolor": "white"
           }
          },
          "shapedefaults": {
           "line": {
            "color": "#2a3f5f"
           }
          },
          "ternary": {
           "aaxis": {
            "gridcolor": "white",
            "linecolor": "white",
            "ticks": ""
           },
           "baxis": {
            "gridcolor": "white",
            "linecolor": "white",
            "ticks": ""
           },
           "bgcolor": "#E5ECF6",
           "caxis": {
            "gridcolor": "white",
            "linecolor": "white",
            "ticks": ""
           }
          },
          "title": {
           "x": 0.05
          },
          "xaxis": {
           "automargin": true,
           "gridcolor": "white",
           "linecolor": "white",
           "ticks": "",
           "title": {
            "standoff": 15
           },
           "zerolinecolor": "white",
           "zerolinewidth": 2
          },
          "yaxis": {
           "automargin": true,
           "gridcolor": "white",
           "linecolor": "white",
           "ticks": "",
           "title": {
            "standoff": 15
           },
           "zerolinecolor": "white",
           "zerolinewidth": 2
          }
         }
        },
        "xaxis": {
         "anchor": "y",
         "domain": [
          0,
          1
         ],
         "title": {
          "text": "iso_num"
         }
        },
        "yaxis": {
         "anchor": "x",
         "domain": [
          0,
          1
         ],
         "title": {
          "text": "pop"
         }
        }
       }
      },
      "text/html": [
       "<div>                            <div id=\"d2927f18-98ce-4d8c-af7d-55f908dfb71c\" class=\"plotly-graph-div\" style=\"height:525px; width:100%;\"></div>            <script type=\"text/javascript\">                require([\"plotly\"], function(Plotly) {                    window.PLOTLYENV=window.PLOTLYENV || {};                                    if (document.getElementById(\"d2927f18-98ce-4d8c-af7d-55f908dfb71c\")) {                    Plotly.newPlot(                        \"d2927f18-98ce-4d8c-af7d-55f908dfb71c\",                        [{\"hovertemplate\":\"country=Afghanistan<br>iso_num=%{x}<br>pop=%{y}<extra></extra>\",\"legendgroup\":\"Afghanistan\",\"line\":{\"color\":\"#636efa\",\"dash\":\"solid\"},\"marker\":{\"symbol\":\"circle\"},\"mode\":\"lines\",\"name\":\"Afghanistan\",\"showlegend\":true,\"x\":[4,4,4,4,4,4,4,4,4,4,4,4],\"xaxis\":\"x\",\"y\":[8425333,9240934,10267083,11537966,13079460,14880372,12881816,13867957,16317921,22227415,25268405,31889923],\"yaxis\":\"y\",\"type\":\"scattergl\"},{\"hovertemplate\":\"country=Albania<br>iso_num=%{x}<br>pop=%{y}<extra></extra>\",\"legendgroup\":\"Albania\",\"line\":{\"color\":\"#EF553B\",\"dash\":\"solid\"},\"marker\":{\"symbol\":\"circle\"},\"mode\":\"lines\",\"name\":\"Albania\",\"showlegend\":true,\"x\":[8,8,8,8,8,8,8,8,8,8,8,8],\"xaxis\":\"x\",\"y\":[1282697,1476505,1728137,1984060,2263554,2509048,2780097,3075321,3326498,3428038,3508512,3600523],\"yaxis\":\"y\",\"type\":\"scattergl\"},{\"hovertemplate\":\"country=Algeria<br>iso_num=%{x}<br>pop=%{y}<extra></extra>\",\"legendgroup\":\"Algeria\",\"line\":{\"color\":\"#00cc96\",\"dash\":\"solid\"},\"marker\":{\"symbol\":\"circle\"},\"mode\":\"lines\",\"name\":\"Algeria\",\"showlegend\":true,\"x\":[12,12,12,12,12,12,12,12,12,12,12,12],\"xaxis\":\"x\",\"y\":[9279525,10270856,11000948,12760499,14760787,17152804,20033753,23254956,26298373,29072015,31287142,33333216],\"yaxis\":\"y\",\"type\":\"scattergl\"},{\"hovertemplate\":\"country=Angola<br>iso_num=%{x}<br>pop=%{y}<extra></extra>\",\"legendgroup\":\"Angola\",\"line\":{\"color\":\"#ab63fa\",\"dash\":\"solid\"},\"marker\":{\"symbol\":\"circle\"},\"mode\":\"lines\",\"name\":\"Angola\",\"showlegend\":true,\"x\":[24,24,24,24,24,24,24,24,24,24,24,24],\"xaxis\":\"x\",\"y\":[4232095,4561361,4826015,5247469,5894858,6162675,7016384,7874230,8735988,9875024,10866106,12420476],\"yaxis\":\"y\",\"type\":\"scattergl\"},{\"hovertemplate\":\"country=Argentina<br>iso_num=%{x}<br>pop=%{y}<extra></extra>\",\"legendgroup\":\"Argentina\",\"line\":{\"color\":\"#FFA15A\",\"dash\":\"solid\"},\"marker\":{\"symbol\":\"circle\"},\"mode\":\"lines\",\"name\":\"Argentina\",\"showlegend\":true,\"x\":[32,32,32,32,32,32,32,32,32,32,32,32],\"xaxis\":\"x\",\"y\":[17876956,19610538,21283783,22934225,24779799,26983828,29341374,31620918,33958947,36203463,38331121,40301927],\"yaxis\":\"y\",\"type\":\"scattergl\"},{\"hovertemplate\":\"country=Australia<br>iso_num=%{x}<br>pop=%{y}<extra></extra>\",\"legendgroup\":\"Australia\",\"line\":{\"color\":\"#19d3f3\",\"dash\":\"solid\"},\"marker\":{\"symbol\":\"circle\"},\"mode\":\"lines\",\"name\":\"Australia\",\"showlegend\":true,\"x\":[36,36,36,36,36,36,36,36,36,36,36,36],\"xaxis\":\"x\",\"y\":[8691212,9712569,10794968,11872264,13177000,14074100,15184200,16257249,17481977,18565243,19546792,20434176],\"yaxis\":\"y\",\"type\":\"scattergl\"},{\"hovertemplate\":\"country=Austria<br>iso_num=%{x}<br>pop=%{y}<extra></extra>\",\"legendgroup\":\"Austria\",\"line\":{\"color\":\"#FF6692\",\"dash\":\"solid\"},\"marker\":{\"symbol\":\"circle\"},\"mode\":\"lines\",\"name\":\"Austria\",\"showlegend\":true,\"x\":[40,40,40,40,40,40,40,40,40,40,40,40],\"xaxis\":\"x\",\"y\":[6927772,6965860,7129864,7376998,7544201,7568430,7574613,7578903,7914969,8069876,8148312,8199783],\"yaxis\":\"y\",\"type\":\"scattergl\"},{\"hovertemplate\":\"country=Bahrain<br>iso_num=%{x}<br>pop=%{y}<extra></extra>\",\"legendgroup\":\"Bahrain\",\"line\":{\"color\":\"#B6E880\",\"dash\":\"solid\"},\"marker\":{\"symbol\":\"circle\"},\"mode\":\"lines\",\"name\":\"Bahrain\",\"showlegend\":true,\"x\":[48,48,48,48,48,48,48,48,48,48,48,48],\"xaxis\":\"x\",\"y\":[120447,138655,171863,202182,230800,297410,377967,454612,529491,598561,656397,708573],\"yaxis\":\"y\",\"type\":\"scattergl\"},{\"hovertemplate\":\"country=Bangladesh<br>iso_num=%{x}<br>pop=%{y}<extra></extra>\",\"legendgroup\":\"Bangladesh\",\"line\":{\"color\":\"#FF97FF\",\"dash\":\"solid\"},\"marker\":{\"symbol\":\"circle\"},\"mode\":\"lines\",\"name\":\"Bangladesh\",\"showlegend\":true,\"x\":[50,50,50,50,50,50,50,50,50,50,50,50],\"xaxis\":\"x\",\"y\":[46886859,51365468,56839289,62821884,70759295,80428306,93074406,103764241,113704579,123315288,135656790,150448339],\"yaxis\":\"y\",\"type\":\"scattergl\"},{\"hovertemplate\":\"country=Belgium<br>iso_num=%{x}<br>pop=%{y}<extra></extra>\",\"legendgroup\":\"Belgium\",\"line\":{\"color\":\"#FECB52\",\"dash\":\"solid\"},\"marker\":{\"symbol\":\"circle\"},\"mode\":\"lines\",\"name\":\"Belgium\",\"showlegend\":true,\"x\":[56,56,56,56,56,56,56,56,56,56,56,56],\"xaxis\":\"x\",\"y\":[8730405,8989111,9218400,9556500,9709100,9821800,9856303,9870200,10045622,10199787,10311970,10392226],\"yaxis\":\"y\",\"type\":\"scattergl\"},{\"hovertemplate\":\"country=Benin<br>iso_num=%{x}<br>pop=%{y}<extra></extra>\",\"legendgroup\":\"Benin\",\"line\":{\"color\":\"#636efa\",\"dash\":\"solid\"},\"marker\":{\"symbol\":\"circle\"},\"mode\":\"lines\",\"name\":\"Benin\",\"showlegend\":true,\"x\":[204,204,204,204,204,204,204,204,204,204,204,204],\"xaxis\":\"x\",\"y\":[1738315,1925173,2151895,2427334,2761407,3168267,3641603,4243788,4981671,6066080,7026113,8078314],\"yaxis\":\"y\",\"type\":\"scattergl\"},{\"hovertemplate\":\"country=Bolivia<br>iso_num=%{x}<br>pop=%{y}<extra></extra>\",\"legendgroup\":\"Bolivia\",\"line\":{\"color\":\"#EF553B\",\"dash\":\"solid\"},\"marker\":{\"symbol\":\"circle\"},\"mode\":\"lines\",\"name\":\"Bolivia\",\"showlegend\":true,\"x\":[68,68,68,68,68,68,68,68,68,68,68,68],\"xaxis\":\"x\",\"y\":[2883315,3211738,3593918,4040665,4565872,5079716,5642224,6156369,6893451,7693188,8445134,9119152],\"yaxis\":\"y\",\"type\":\"scattergl\"},{\"hovertemplate\":\"country=Bosnia and Herzegovina<br>iso_num=%{x}<br>pop=%{y}<extra></extra>\",\"legendgroup\":\"Bosnia and Herzegovina\",\"line\":{\"color\":\"#00cc96\",\"dash\":\"solid\"},\"marker\":{\"symbol\":\"circle\"},\"mode\":\"lines\",\"name\":\"Bosnia and Herzegovina\",\"showlegend\":true,\"x\":[70,70,70,70,70,70,70,70,70,70,70,70],\"xaxis\":\"x\",\"y\":[2791000,3076000,3349000,3585000,3819000,4086000,4172693,4338977,4256013,3607000,4165416,4552198],\"yaxis\":\"y\",\"type\":\"scattergl\"},{\"hovertemplate\":\"country=Botswana<br>iso_num=%{x}<br>pop=%{y}<extra></extra>\",\"legendgroup\":\"Botswana\",\"line\":{\"color\":\"#ab63fa\",\"dash\":\"solid\"},\"marker\":{\"symbol\":\"circle\"},\"mode\":\"lines\",\"name\":\"Botswana\",\"showlegend\":true,\"x\":[72,72,72,72,72,72,72,72,72,72,72,72],\"xaxis\":\"x\",\"y\":[442308,474639,512764,553541,619351,781472,970347,1151184,1342614,1536536,1630347,1639131],\"yaxis\":\"y\",\"type\":\"scattergl\"},{\"hovertemplate\":\"country=Brazil<br>iso_num=%{x}<br>pop=%{y}<extra></extra>\",\"legendgroup\":\"Brazil\",\"line\":{\"color\":\"#FFA15A\",\"dash\":\"solid\"},\"marker\":{\"symbol\":\"circle\"},\"mode\":\"lines\",\"name\":\"Brazil\",\"showlegend\":true,\"x\":[76,76,76,76,76,76,76,76,76,76,76,76],\"xaxis\":\"x\",\"y\":[56602560,65551171,76039390,88049823,100840058,114313951,128962939,142938076,155975974,168546719,179914212,190010647],\"yaxis\":\"y\",\"type\":\"scattergl\"},{\"hovertemplate\":\"country=Bulgaria<br>iso_num=%{x}<br>pop=%{y}<extra></extra>\",\"legendgroup\":\"Bulgaria\",\"line\":{\"color\":\"#19d3f3\",\"dash\":\"solid\"},\"marker\":{\"symbol\":\"circle\"},\"mode\":\"lines\",\"name\":\"Bulgaria\",\"showlegend\":true,\"x\":[100,100,100,100,100,100,100,100,100,100,100,100],\"xaxis\":\"x\",\"y\":[7274900,7651254,8012946,8310226,8576200,8797022,8892098,8971958,8658506,8066057,7661799,7322858],\"yaxis\":\"y\",\"type\":\"scattergl\"},{\"hovertemplate\":\"country=Burkina Faso<br>iso_num=%{x}<br>pop=%{y}<extra></extra>\",\"legendgroup\":\"Burkina Faso\",\"line\":{\"color\":\"#FF6692\",\"dash\":\"solid\"},\"marker\":{\"symbol\":\"circle\"},\"mode\":\"lines\",\"name\":\"Burkina Faso\",\"showlegend\":true,\"x\":[854,854,854,854,854,854,854,854,854,854,854,854],\"xaxis\":\"x\",\"y\":[4469979,4713416,4919632,5127935,5433886,5889574,6634596,7586551,8878303,10352843,12251209,14326203],\"yaxis\":\"y\",\"type\":\"scattergl\"},{\"hovertemplate\":\"country=Burundi<br>iso_num=%{x}<br>pop=%{y}<extra></extra>\",\"legendgroup\":\"Burundi\",\"line\":{\"color\":\"#B6E880\",\"dash\":\"solid\"},\"marker\":{\"symbol\":\"circle\"},\"mode\":\"lines\",\"name\":\"Burundi\",\"showlegend\":true,\"x\":[108,108,108,108,108,108,108,108,108,108,108,108],\"xaxis\":\"x\",\"y\":[2445618,2667518,2961915,3330989,3529983,3834415,4580410,5126023,5809236,6121610,7021078,8390505],\"yaxis\":\"y\",\"type\":\"scattergl\"},{\"hovertemplate\":\"country=Cambodia<br>iso_num=%{x}<br>pop=%{y}<extra></extra>\",\"legendgroup\":\"Cambodia\",\"line\":{\"color\":\"#FF97FF\",\"dash\":\"solid\"},\"marker\":{\"symbol\":\"circle\"},\"mode\":\"lines\",\"name\":\"Cambodia\",\"showlegend\":true,\"x\":[116,116,116,116,116,116,116,116,116,116,116,116],\"xaxis\":\"x\",\"y\":[4693836,5322536,6083619,6960067,7450606,6978607,7272485,8371791,10150094,11782962,12926707,14131858],\"yaxis\":\"y\",\"type\":\"scattergl\"},{\"hovertemplate\":\"country=Cameroon<br>iso_num=%{x}<br>pop=%{y}<extra></extra>\",\"legendgroup\":\"Cameroon\",\"line\":{\"color\":\"#FECB52\",\"dash\":\"solid\"},\"marker\":{\"symbol\":\"circle\"},\"mode\":\"lines\",\"name\":\"Cameroon\",\"showlegend\":true,\"x\":[120,120,120,120,120,120,120,120,120,120,120,120],\"xaxis\":\"x\",\"y\":[5009067,5359923,5793633,6335506,7021028,7959865,9250831,10780667,12467171,14195809,15929988,17696293],\"yaxis\":\"y\",\"type\":\"scattergl\"},{\"hovertemplate\":\"country=Canada<br>iso_num=%{x}<br>pop=%{y}<extra></extra>\",\"legendgroup\":\"Canada\",\"line\":{\"color\":\"#636efa\",\"dash\":\"solid\"},\"marker\":{\"symbol\":\"circle\"},\"mode\":\"lines\",\"name\":\"Canada\",\"showlegend\":true,\"x\":[124,124,124,124,124,124,124,124,124,124,124,124],\"xaxis\":\"x\",\"y\":[14785584,17010154,18985849,20819767,22284500,23796400,25201900,26549700,28523502,30305843,31902268,33390141],\"yaxis\":\"y\",\"type\":\"scattergl\"},{\"hovertemplate\":\"country=Central African Republic<br>iso_num=%{x}<br>pop=%{y}<extra></extra>\",\"legendgroup\":\"Central African Republic\",\"line\":{\"color\":\"#EF553B\",\"dash\":\"solid\"},\"marker\":{\"symbol\":\"circle\"},\"mode\":\"lines\",\"name\":\"Central African Republic\",\"showlegend\":true,\"x\":[140,140,140,140,140,140,140,140,140,140,140,140],\"xaxis\":\"x\",\"y\":[1291695,1392284,1523478,1733638,1927260,2167533,2476971,2840009,3265124,3696513,4048013,4369038],\"yaxis\":\"y\",\"type\":\"scattergl\"},{\"hovertemplate\":\"country=Chad<br>iso_num=%{x}<br>pop=%{y}<extra></extra>\",\"legendgroup\":\"Chad\",\"line\":{\"color\":\"#00cc96\",\"dash\":\"solid\"},\"marker\":{\"symbol\":\"circle\"},\"mode\":\"lines\",\"name\":\"Chad\",\"showlegend\":true,\"x\":[148,148,148,148,148,148,148,148,148,148,148,148],\"xaxis\":\"x\",\"y\":[2682462,2894855,3150417,3495967,3899068,4388260,4875118,5498955,6429417,7562011,8835739,10238807],\"yaxis\":\"y\",\"type\":\"scattergl\"},{\"hovertemplate\":\"country=Chile<br>iso_num=%{x}<br>pop=%{y}<extra></extra>\",\"legendgroup\":\"Chile\",\"line\":{\"color\":\"#ab63fa\",\"dash\":\"solid\"},\"marker\":{\"symbol\":\"circle\"},\"mode\":\"lines\",\"name\":\"Chile\",\"showlegend\":true,\"x\":[152,152,152,152,152,152,152,152,152,152,152,152],\"xaxis\":\"x\",\"y\":[6377619,7048426,7961258,8858908,9717524,10599793,11487112,12463354,13572994,14599929,15497046,16284741],\"yaxis\":\"y\",\"type\":\"scattergl\"},{\"hovertemplate\":\"country=China<br>iso_num=%{x}<br>pop=%{y}<extra></extra>\",\"legendgroup\":\"China\",\"line\":{\"color\":\"#FFA15A\",\"dash\":\"solid\"},\"marker\":{\"symbol\":\"circle\"},\"mode\":\"lines\",\"name\":\"China\",\"showlegend\":true,\"x\":[156,156,156,156,156,156,156,156,156,156,156,156],\"xaxis\":\"x\",\"y\":[556263527,637408000,665770000,754550000,862030000,943455000,1000281000,1084035000,1164970000,1230075000,1280400000,1318683096],\"yaxis\":\"y\",\"type\":\"scattergl\"},{\"hovertemplate\":\"country=Colombia<br>iso_num=%{x}<br>pop=%{y}<extra></extra>\",\"legendgroup\":\"Colombia\",\"line\":{\"color\":\"#19d3f3\",\"dash\":\"solid\"},\"marker\":{\"symbol\":\"circle\"},\"mode\":\"lines\",\"name\":\"Colombia\",\"showlegend\":true,\"x\":[170,170,170,170,170,170,170,170,170,170,170,170],\"xaxis\":\"x\",\"y\":[12350771,14485993,17009885,19764027,22542890,25094412,27764644,30964245,34202721,37657830,41008227,44227550],\"yaxis\":\"y\",\"type\":\"scattergl\"},{\"hovertemplate\":\"country=Comoros<br>iso_num=%{x}<br>pop=%{y}<extra></extra>\",\"legendgroup\":\"Comoros\",\"line\":{\"color\":\"#FF6692\",\"dash\":\"solid\"},\"marker\":{\"symbol\":\"circle\"},\"mode\":\"lines\",\"name\":\"Comoros\",\"showlegend\":true,\"x\":[174,174,174,174,174,174,174,174,174,174,174,174],\"xaxis\":\"x\",\"y\":[153936,170928,191689,217378,250027,304739,348643,395114,454429,527982,614382,710960],\"yaxis\":\"y\",\"type\":\"scattergl\"},{\"hovertemplate\":\"country=Congo, Dem. Rep.<br>iso_num=%{x}<br>pop=%{y}<extra></extra>\",\"legendgroup\":\"Congo, Dem. Rep.\",\"line\":{\"color\":\"#B6E880\",\"dash\":\"solid\"},\"marker\":{\"symbol\":\"circle\"},\"mode\":\"lines\",\"name\":\"Congo, Dem. Rep.\",\"showlegend\":true,\"x\":[180,180,180,180,180,180,180,180,180,180,180,180],\"xaxis\":\"x\",\"y\":[14100005,15577932,17486434,19941073,23007669,26480870,30646495,35481645,41672143,47798986,55379852,64606759],\"yaxis\":\"y\",\"type\":\"scattergl\"},{\"hovertemplate\":\"country=Congo, Rep.<br>iso_num=%{x}<br>pop=%{y}<extra></extra>\",\"legendgroup\":\"Congo, Rep.\",\"line\":{\"color\":\"#FF97FF\",\"dash\":\"solid\"},\"marker\":{\"symbol\":\"circle\"},\"mode\":\"lines\",\"name\":\"Congo, Rep.\",\"showlegend\":true,\"x\":[178,178,178,178,178,178,178,178,178,178,178,178],\"xaxis\":\"x\",\"y\":[854885,940458,1047924,1179760,1340458,1536769,1774735,2064095,2409073,2800947,3328795,3800610],\"yaxis\":\"y\",\"type\":\"scattergl\"},{\"hovertemplate\":\"country=Costa Rica<br>iso_num=%{x}<br>pop=%{y}<extra></extra>\",\"legendgroup\":\"Costa Rica\",\"line\":{\"color\":\"#FECB52\",\"dash\":\"solid\"},\"marker\":{\"symbol\":\"circle\"},\"mode\":\"lines\",\"name\":\"Costa Rica\",\"showlegend\":true,\"x\":[188,188,188,188,188,188,188,188,188,188,188,188],\"xaxis\":\"x\",\"y\":[926317,1112300,1345187,1588717,1834796,2108457,2424367,2799811,3173216,3518107,3834934,4133884],\"yaxis\":\"y\",\"type\":\"scattergl\"},{\"hovertemplate\":\"country=Cote d'Ivoire<br>iso_num=%{x}<br>pop=%{y}<extra></extra>\",\"legendgroup\":\"Cote d'Ivoire\",\"line\":{\"color\":\"#636efa\",\"dash\":\"solid\"},\"marker\":{\"symbol\":\"circle\"},\"mode\":\"lines\",\"name\":\"Cote d'Ivoire\",\"showlegend\":true,\"x\":[384,384,384,384,384,384,384,384,384,384,384,384],\"xaxis\":\"x\",\"y\":[2977019,3300000,3832408,4744870,6071696,7459574,9025951,10761098,12772596,14625967,16252726,18013409],\"yaxis\":\"y\",\"type\":\"scattergl\"},{\"hovertemplate\":\"country=Croatia<br>iso_num=%{x}<br>pop=%{y}<extra></extra>\",\"legendgroup\":\"Croatia\",\"line\":{\"color\":\"#EF553B\",\"dash\":\"solid\"},\"marker\":{\"symbol\":\"circle\"},\"mode\":\"lines\",\"name\":\"Croatia\",\"showlegend\":true,\"x\":[191,191,191,191,191,191,191,191,191,191,191,191],\"xaxis\":\"x\",\"y\":[3882229,3991242,4076557,4174366,4225310,4318673,4413368,4484310,4494013,4444595,4481020,4493312],\"yaxis\":\"y\",\"type\":\"scattergl\"},{\"hovertemplate\":\"country=Cuba<br>iso_num=%{x}<br>pop=%{y}<extra></extra>\",\"legendgroup\":\"Cuba\",\"line\":{\"color\":\"#00cc96\",\"dash\":\"solid\"},\"marker\":{\"symbol\":\"circle\"},\"mode\":\"lines\",\"name\":\"Cuba\",\"showlegend\":true,\"x\":[192,192,192,192,192,192,192,192,192,192,192,192],\"xaxis\":\"x\",\"y\":[6007797,6640752,7254373,8139332,8831348,9537988,9789224,10239839,10723260,10983007,11226999,11416987],\"yaxis\":\"y\",\"type\":\"scattergl\"},{\"hovertemplate\":\"country=Czech Republic<br>iso_num=%{x}<br>pop=%{y}<extra></extra>\",\"legendgroup\":\"Czech Republic\",\"line\":{\"color\":\"#ab63fa\",\"dash\":\"solid\"},\"marker\":{\"symbol\":\"circle\"},\"mode\":\"lines\",\"name\":\"Czech Republic\",\"showlegend\":true,\"x\":[203,203,203,203,203,203,203,203,203,203,203,203],\"xaxis\":\"x\",\"y\":[9125183,9513758,9620282,9835109,9862158,10161915,10303704,10311597,10315702,10300707,10256295,10228744],\"yaxis\":\"y\",\"type\":\"scattergl\"},{\"hovertemplate\":\"country=Denmark<br>iso_num=%{x}<br>pop=%{y}<extra></extra>\",\"legendgroup\":\"Denmark\",\"line\":{\"color\":\"#FFA15A\",\"dash\":\"solid\"},\"marker\":{\"symbol\":\"circle\"},\"mode\":\"lines\",\"name\":\"Denmark\",\"showlegend\":true,\"x\":[208,208,208,208,208,208,208,208,208,208,208,208],\"xaxis\":\"x\",\"y\":[4334000,4487831,4646899,4838800,4991596,5088419,5117810,5127024,5171393,5283663,5374693,5468120],\"yaxis\":\"y\",\"type\":\"scattergl\"},{\"hovertemplate\":\"country=Djibouti<br>iso_num=%{x}<br>pop=%{y}<extra></extra>\",\"legendgroup\":\"Djibouti\",\"line\":{\"color\":\"#19d3f3\",\"dash\":\"solid\"},\"marker\":{\"symbol\":\"circle\"},\"mode\":\"lines\",\"name\":\"Djibouti\",\"showlegend\":true,\"x\":[262,262,262,262,262,262,262,262,262,262,262,262],\"xaxis\":\"x\",\"y\":[63149,71851,89898,127617,178848,228694,305991,311025,384156,417908,447416,496374],\"yaxis\":\"y\",\"type\":\"scattergl\"},{\"hovertemplate\":\"country=Dominican Republic<br>iso_num=%{x}<br>pop=%{y}<extra></extra>\",\"legendgroup\":\"Dominican Republic\",\"line\":{\"color\":\"#FF6692\",\"dash\":\"solid\"},\"marker\":{\"symbol\":\"circle\"},\"mode\":\"lines\",\"name\":\"Dominican Republic\",\"showlegend\":true,\"x\":[214,214,214,214,214,214,214,214,214,214,214,214],\"xaxis\":\"x\",\"y\":[2491346,2923186,3453434,4049146,4671329,5302800,5968349,6655297,7351181,7992357,8650322,9319622],\"yaxis\":\"y\",\"type\":\"scattergl\"},{\"hovertemplate\":\"country=Ecuador<br>iso_num=%{x}<br>pop=%{y}<extra></extra>\",\"legendgroup\":\"Ecuador\",\"line\":{\"color\":\"#B6E880\",\"dash\":\"solid\"},\"marker\":{\"symbol\":\"circle\"},\"mode\":\"lines\",\"name\":\"Ecuador\",\"showlegend\":true,\"x\":[218,218,218,218,218,218,218,218,218,218,218,218],\"xaxis\":\"x\",\"y\":[3548753,4058385,4681707,5432424,6298651,7278866,8365850,9545158,10748394,11911819,12921234,13755680],\"yaxis\":\"y\",\"type\":\"scattergl\"},{\"hovertemplate\":\"country=Egypt<br>iso_num=%{x}<br>pop=%{y}<extra></extra>\",\"legendgroup\":\"Egypt\",\"line\":{\"color\":\"#FF97FF\",\"dash\":\"solid\"},\"marker\":{\"symbol\":\"circle\"},\"mode\":\"lines\",\"name\":\"Egypt\",\"showlegend\":true,\"x\":[818,818,818,818,818,818,818,818,818,818,818,818],\"xaxis\":\"x\",\"y\":[22223309,25009741,28173309,31681188,34807417,38783863,45681811,52799062,59402198,66134291,73312559,80264543],\"yaxis\":\"y\",\"type\":\"scattergl\"},{\"hovertemplate\":\"country=El Salvador<br>iso_num=%{x}<br>pop=%{y}<extra></extra>\",\"legendgroup\":\"El Salvador\",\"line\":{\"color\":\"#FECB52\",\"dash\":\"solid\"},\"marker\":{\"symbol\":\"circle\"},\"mode\":\"lines\",\"name\":\"El Salvador\",\"showlegend\":true,\"x\":[222,222,222,222,222,222,222,222,222,222,222,222],\"xaxis\":\"x\",\"y\":[2042865,2355805,2747687,3232927,3790903,4282586,4474873,4842194,5274649,5783439,6353681,6939688],\"yaxis\":\"y\",\"type\":\"scattergl\"},{\"hovertemplate\":\"country=Equatorial Guinea<br>iso_num=%{x}<br>pop=%{y}<extra></extra>\",\"legendgroup\":\"Equatorial Guinea\",\"line\":{\"color\":\"#636efa\",\"dash\":\"solid\"},\"marker\":{\"symbol\":\"circle\"},\"mode\":\"lines\",\"name\":\"Equatorial Guinea\",\"showlegend\":true,\"x\":[226,226,226,226,226,226,226,226,226,226,226,226],\"xaxis\":\"x\",\"y\":[216964,232922,249220,259864,277603,192675,285483,341244,387838,439971,495627,551201],\"yaxis\":\"y\",\"type\":\"scattergl\"},{\"hovertemplate\":\"country=Eritrea<br>iso_num=%{x}<br>pop=%{y}<extra></extra>\",\"legendgroup\":\"Eritrea\",\"line\":{\"color\":\"#EF553B\",\"dash\":\"solid\"},\"marker\":{\"symbol\":\"circle\"},\"mode\":\"lines\",\"name\":\"Eritrea\",\"showlegend\":true,\"x\":[232,232,232,232,232,232,232,232,232,232,232,232],\"xaxis\":\"x\",\"y\":[1438760,1542611,1666618,1820319,2260187,2512642,2637297,2915959,3668440,4058319,4414865,4906585],\"yaxis\":\"y\",\"type\":\"scattergl\"},{\"hovertemplate\":\"country=Ethiopia<br>iso_num=%{x}<br>pop=%{y}<extra></extra>\",\"legendgroup\":\"Ethiopia\",\"line\":{\"color\":\"#00cc96\",\"dash\":\"solid\"},\"marker\":{\"symbol\":\"circle\"},\"mode\":\"lines\",\"name\":\"Ethiopia\",\"showlegend\":true,\"x\":[231,231,231,231,231,231,231,231,231,231,231,231],\"xaxis\":\"x\",\"y\":[20860941,22815614,25145372,27860297,30770372,34617799,38111756,42999530,52088559,59861301,67946797,76511887],\"yaxis\":\"y\",\"type\":\"scattergl\"},{\"hovertemplate\":\"country=Finland<br>iso_num=%{x}<br>pop=%{y}<extra></extra>\",\"legendgroup\":\"Finland\",\"line\":{\"color\":\"#ab63fa\",\"dash\":\"solid\"},\"marker\":{\"symbol\":\"circle\"},\"mode\":\"lines\",\"name\":\"Finland\",\"showlegend\":true,\"x\":[246,246,246,246,246,246,246,246,246,246,246,246],\"xaxis\":\"x\",\"y\":[4090500,4324000,4491443,4605744,4639657,4738902,4826933,4931729,5041039,5134406,5193039,5238460],\"yaxis\":\"y\",\"type\":\"scattergl\"},{\"hovertemplate\":\"country=France<br>iso_num=%{x}<br>pop=%{y}<extra></extra>\",\"legendgroup\":\"France\",\"line\":{\"color\":\"#FFA15A\",\"dash\":\"solid\"},\"marker\":{\"symbol\":\"circle\"},\"mode\":\"lines\",\"name\":\"France\",\"showlegend\":true,\"x\":[250,250,250,250,250,250,250,250,250,250,250,250],\"xaxis\":\"x\",\"y\":[42459667,44310863,47124000,49569000,51732000,53165019,54433565,55630100,57374179,58623428,59925035,61083916],\"yaxis\":\"y\",\"type\":\"scattergl\"},{\"hovertemplate\":\"country=Gabon<br>iso_num=%{x}<br>pop=%{y}<extra></extra>\",\"legendgroup\":\"Gabon\",\"line\":{\"color\":\"#19d3f3\",\"dash\":\"solid\"},\"marker\":{\"symbol\":\"circle\"},\"mode\":\"lines\",\"name\":\"Gabon\",\"showlegend\":true,\"x\":[266,266,266,266,266,266,266,266,266,266,266,266],\"xaxis\":\"x\",\"y\":[420702,434904,455661,489004,537977,706367,753874,880397,985739,1126189,1299304,1454867],\"yaxis\":\"y\",\"type\":\"scattergl\"},{\"hovertemplate\":\"country=Gambia<br>iso_num=%{x}<br>pop=%{y}<extra></extra>\",\"legendgroup\":\"Gambia\",\"line\":{\"color\":\"#FF6692\",\"dash\":\"solid\"},\"marker\":{\"symbol\":\"circle\"},\"mode\":\"lines\",\"name\":\"Gambia\",\"showlegend\":true,\"x\":[270,270,270,270,270,270,270,270,270,270,270,270],\"xaxis\":\"x\",\"y\":[284320,323150,374020,439593,517101,608274,715523,848406,1025384,1235767,1457766,1688359],\"yaxis\":\"y\",\"type\":\"scattergl\"},{\"hovertemplate\":\"country=Germany<br>iso_num=%{x}<br>pop=%{y}<extra></extra>\",\"legendgroup\":\"Germany\",\"line\":{\"color\":\"#B6E880\",\"dash\":\"solid\"},\"marker\":{\"symbol\":\"circle\"},\"mode\":\"lines\",\"name\":\"Germany\",\"showlegend\":true,\"x\":[276,276,276,276,276,276,276,276,276,276,276,276],\"xaxis\":\"x\",\"y\":[69145952,71019069,73739117,76368453,78717088,78160773,78335266,77718298,80597764,82011073,82350671,82400996],\"yaxis\":\"y\",\"type\":\"scattergl\"},{\"hovertemplate\":\"country=Ghana<br>iso_num=%{x}<br>pop=%{y}<extra></extra>\",\"legendgroup\":\"Ghana\",\"line\":{\"color\":\"#FF97FF\",\"dash\":\"solid\"},\"marker\":{\"symbol\":\"circle\"},\"mode\":\"lines\",\"name\":\"Ghana\",\"showlegend\":true,\"x\":[288,288,288,288,288,288,288,288,288,288,288,288],\"xaxis\":\"x\",\"y\":[5581001,6391288,7355248,8490213,9354120,10538093,11400338,14168101,16278738,18418288,20550751,22873338],\"yaxis\":\"y\",\"type\":\"scattergl\"},{\"hovertemplate\":\"country=Greece<br>iso_num=%{x}<br>pop=%{y}<extra></extra>\",\"legendgroup\":\"Greece\",\"line\":{\"color\":\"#FECB52\",\"dash\":\"solid\"},\"marker\":{\"symbol\":\"circle\"},\"mode\":\"lines\",\"name\":\"Greece\",\"showlegend\":true,\"x\":[300,300,300,300,300,300,300,300,300,300,300,300],\"xaxis\":\"x\",\"y\":[7733250,8096218,8448233,8716441,8888628,9308479,9786480,9974490,10325429,10502372,10603863,10706290],\"yaxis\":\"y\",\"type\":\"scattergl\"},{\"hovertemplate\":\"country=Guatemala<br>iso_num=%{x}<br>pop=%{y}<extra></extra>\",\"legendgroup\":\"Guatemala\",\"line\":{\"color\":\"#636efa\",\"dash\":\"solid\"},\"marker\":{\"symbol\":\"circle\"},\"mode\":\"lines\",\"name\":\"Guatemala\",\"showlegend\":true,\"x\":[320,320,320,320,320,320,320,320,320,320,320,320],\"xaxis\":\"x\",\"y\":[3146381,3640876,4208858,4690773,5149581,5703430,6395630,7326406,8486949,9803875,11178650,12572928],\"yaxis\":\"y\",\"type\":\"scattergl\"},{\"hovertemplate\":\"country=Guinea<br>iso_num=%{x}<br>pop=%{y}<extra></extra>\",\"legendgroup\":\"Guinea\",\"line\":{\"color\":\"#EF553B\",\"dash\":\"solid\"},\"marker\":{\"symbol\":\"circle\"},\"mode\":\"lines\",\"name\":\"Guinea\",\"showlegend\":true,\"x\":[324,324,324,324,324,324,324,324,324,324,324,324],\"xaxis\":\"x\",\"y\":[2664249,2876726,3140003,3451418,3811387,4227026,4710497,5650262,6990574,8048834,8807818,9947814],\"yaxis\":\"y\",\"type\":\"scattergl\"},{\"hovertemplate\":\"country=Guinea-Bissau<br>iso_num=%{x}<br>pop=%{y}<extra></extra>\",\"legendgroup\":\"Guinea-Bissau\",\"line\":{\"color\":\"#00cc96\",\"dash\":\"solid\"},\"marker\":{\"symbol\":\"circle\"},\"mode\":\"lines\",\"name\":\"Guinea-Bissau\",\"showlegend\":true,\"x\":[624,624,624,624,624,624,624,624,624,624,624,624],\"xaxis\":\"x\",\"y\":[580653,601095,627820,601287,625361,745228,825987,927524,1050938,1193708,1332459,1472041],\"yaxis\":\"y\",\"type\":\"scattergl\"},{\"hovertemplate\":\"country=Haiti<br>iso_num=%{x}<br>pop=%{y}<extra></extra>\",\"legendgroup\":\"Haiti\",\"line\":{\"color\":\"#ab63fa\",\"dash\":\"solid\"},\"marker\":{\"symbol\":\"circle\"},\"mode\":\"lines\",\"name\":\"Haiti\",\"showlegend\":true,\"x\":[332,332,332,332,332,332,332,332,332,332,332,332],\"xaxis\":\"x\",\"y\":[3201488,3507701,3880130,4318137,4698301,4908554,5198399,5756203,6326682,6913545,7607651,8502814],\"yaxis\":\"y\",\"type\":\"scattergl\"},{\"hovertemplate\":\"country=Honduras<br>iso_num=%{x}<br>pop=%{y}<extra></extra>\",\"legendgroup\":\"Honduras\",\"line\":{\"color\":\"#FFA15A\",\"dash\":\"solid\"},\"marker\":{\"symbol\":\"circle\"},\"mode\":\"lines\",\"name\":\"Honduras\",\"showlegend\":true,\"x\":[340,340,340,340,340,340,340,340,340,340,340,340],\"xaxis\":\"x\",\"y\":[1517453,1770390,2090162,2500689,2965146,3055235,3669448,4372203,5077347,5867957,6677328,7483763],\"yaxis\":\"y\",\"type\":\"scattergl\"},{\"hovertemplate\":\"country=Hong Kong, China<br>iso_num=%{x}<br>pop=%{y}<extra></extra>\",\"legendgroup\":\"Hong Kong, China\",\"line\":{\"color\":\"#19d3f3\",\"dash\":\"solid\"},\"marker\":{\"symbol\":\"circle\"},\"mode\":\"lines\",\"name\":\"Hong Kong, China\",\"showlegend\":true,\"x\":[344,344,344,344,344,344,344,344,344,344,344,344],\"xaxis\":\"x\",\"y\":[2125900,2736300,3305200,3722800,4115700,4583700,5264500,5584510,5829696,6495918,6762476,6980412],\"yaxis\":\"y\",\"type\":\"scattergl\"},{\"hovertemplate\":\"country=Hungary<br>iso_num=%{x}<br>pop=%{y}<extra></extra>\",\"legendgroup\":\"Hungary\",\"line\":{\"color\":\"#FF6692\",\"dash\":\"solid\"},\"marker\":{\"symbol\":\"circle\"},\"mode\":\"lines\",\"name\":\"Hungary\",\"showlegend\":true,\"x\":[348,348,348,348,348,348,348,348,348,348,348,348],\"xaxis\":\"x\",\"y\":[9504000,9839000,10063000,10223422,10394091,10637171,10705535,10612740,10348684,10244684,10083313,9956108],\"yaxis\":\"y\",\"type\":\"scattergl\"},{\"hovertemplate\":\"country=Iceland<br>iso_num=%{x}<br>pop=%{y}<extra></extra>\",\"legendgroup\":\"Iceland\",\"line\":{\"color\":\"#B6E880\",\"dash\":\"solid\"},\"marker\":{\"symbol\":\"circle\"},\"mode\":\"lines\",\"name\":\"Iceland\",\"showlegend\":true,\"x\":[352,352,352,352,352,352,352,352,352,352,352,352],\"xaxis\":\"x\",\"y\":[147962,165110,182053,198676,209275,221823,233997,244676,259012,271192,288030,301931],\"yaxis\":\"y\",\"type\":\"scattergl\"},{\"hovertemplate\":\"country=India<br>iso_num=%{x}<br>pop=%{y}<extra></extra>\",\"legendgroup\":\"India\",\"line\":{\"color\":\"#FF97FF\",\"dash\":\"solid\"},\"marker\":{\"symbol\":\"circle\"},\"mode\":\"lines\",\"name\":\"India\",\"showlegend\":true,\"x\":[356,356,356,356,356,356,356,356,356,356,356,356],\"xaxis\":\"x\",\"y\":[372000000,409000000,454000000,506000000,567000000,634000000,708000000,788000000,872000000,959000000,1034172547,1110396331],\"yaxis\":\"y\",\"type\":\"scattergl\"},{\"hovertemplate\":\"country=Indonesia<br>iso_num=%{x}<br>pop=%{y}<extra></extra>\",\"legendgroup\":\"Indonesia\",\"line\":{\"color\":\"#FECB52\",\"dash\":\"solid\"},\"marker\":{\"symbol\":\"circle\"},\"mode\":\"lines\",\"name\":\"Indonesia\",\"showlegend\":true,\"x\":[360,360,360,360,360,360,360,360,360,360,360,360],\"xaxis\":\"x\",\"y\":[82052000,90124000,99028000,109343000,121282000,136725000,153343000,169276000,184816000,199278000,211060000,223547000],\"yaxis\":\"y\",\"type\":\"scattergl\"},{\"hovertemplate\":\"country=Iran<br>iso_num=%{x}<br>pop=%{y}<extra></extra>\",\"legendgroup\":\"Iran\",\"line\":{\"color\":\"#636efa\",\"dash\":\"solid\"},\"marker\":{\"symbol\":\"circle\"},\"mode\":\"lines\",\"name\":\"Iran\",\"showlegend\":true,\"x\":[364,364,364,364,364,364,364,364,364,364,364,364],\"xaxis\":\"x\",\"y\":[17272000,19792000,22874000,26538000,30614000,35480679,43072751,51889696,60397973,63327987,66907826,69453570],\"yaxis\":\"y\",\"type\":\"scattergl\"},{\"hovertemplate\":\"country=Iraq<br>iso_num=%{x}<br>pop=%{y}<extra></extra>\",\"legendgroup\":\"Iraq\",\"line\":{\"color\":\"#EF553B\",\"dash\":\"solid\"},\"marker\":{\"symbol\":\"circle\"},\"mode\":\"lines\",\"name\":\"Iraq\",\"showlegend\":true,\"x\":[368,368,368,368,368,368,368,368,368,368,368,368],\"xaxis\":\"x\",\"y\":[5441766,6248643,7240260,8519282,10061506,11882916,14173318,16543189,17861905,20775703,24001816,27499638],\"yaxis\":\"y\",\"type\":\"scattergl\"},{\"hovertemplate\":\"country=Ireland<br>iso_num=%{x}<br>pop=%{y}<extra></extra>\",\"legendgroup\":\"Ireland\",\"line\":{\"color\":\"#00cc96\",\"dash\":\"solid\"},\"marker\":{\"symbol\":\"circle\"},\"mode\":\"lines\",\"name\":\"Ireland\",\"showlegend\":true,\"x\":[372,372,372,372,372,372,372,372,372,372,372,372],\"xaxis\":\"x\",\"y\":[2952156,2878220,2830000,2900100,3024400,3271900,3480000,3539900,3557761,3667233,3879155,4109086],\"yaxis\":\"y\",\"type\":\"scattergl\"},{\"hovertemplate\":\"country=Israel<br>iso_num=%{x}<br>pop=%{y}<extra></extra>\",\"legendgroup\":\"Israel\",\"line\":{\"color\":\"#ab63fa\",\"dash\":\"solid\"},\"marker\":{\"symbol\":\"circle\"},\"mode\":\"lines\",\"name\":\"Israel\",\"showlegend\":true,\"x\":[376,376,376,376,376,376,376,376,376,376,376,376],\"xaxis\":\"x\",\"y\":[1620914,1944401,2310904,2693585,3095893,3495918,3858421,4203148,4936550,5531387,6029529,6426679],\"yaxis\":\"y\",\"type\":\"scattergl\"},{\"hovertemplate\":\"country=Italy<br>iso_num=%{x}<br>pop=%{y}<extra></extra>\",\"legendgroup\":\"Italy\",\"line\":{\"color\":\"#FFA15A\",\"dash\":\"solid\"},\"marker\":{\"symbol\":\"circle\"},\"mode\":\"lines\",\"name\":\"Italy\",\"showlegend\":true,\"x\":[380,380,380,380,380,380,380,380,380,380,380,380],\"xaxis\":\"x\",\"y\":[47666000,49182000,50843200,52667100,54365564,56059245,56535636,56729703,56840847,57479469,57926999,58147733],\"yaxis\":\"y\",\"type\":\"scattergl\"},{\"hovertemplate\":\"country=Jamaica<br>iso_num=%{x}<br>pop=%{y}<extra></extra>\",\"legendgroup\":\"Jamaica\",\"line\":{\"color\":\"#19d3f3\",\"dash\":\"solid\"},\"marker\":{\"symbol\":\"circle\"},\"mode\":\"lines\",\"name\":\"Jamaica\",\"showlegend\":true,\"x\":[388,388,388,388,388,388,388,388,388,388,388,388],\"xaxis\":\"x\",\"y\":[1426095,1535090,1665128,1861096,1997616,2156814,2298309,2326606,2378618,2531311,2664659,2780132],\"yaxis\":\"y\",\"type\":\"scattergl\"},{\"hovertemplate\":\"country=Japan<br>iso_num=%{x}<br>pop=%{y}<extra></extra>\",\"legendgroup\":\"Japan\",\"line\":{\"color\":\"#FF6692\",\"dash\":\"solid\"},\"marker\":{\"symbol\":\"circle\"},\"mode\":\"lines\",\"name\":\"Japan\",\"showlegend\":true,\"x\":[392,392,392,392,392,392,392,392,392,392,392,392],\"xaxis\":\"x\",\"y\":[86459025,91563009,95831757,100825279,107188273,113872473,118454974,122091325,124329269,125956499,127065841,127467972],\"yaxis\":\"y\",\"type\":\"scattergl\"},{\"hovertemplate\":\"country=Jordan<br>iso_num=%{x}<br>pop=%{y}<extra></extra>\",\"legendgroup\":\"Jordan\",\"line\":{\"color\":\"#B6E880\",\"dash\":\"solid\"},\"marker\":{\"symbol\":\"circle\"},\"mode\":\"lines\",\"name\":\"Jordan\",\"showlegend\":true,\"x\":[400,400,400,400,400,400,400,400,400,400,400,400],\"xaxis\":\"x\",\"y\":[607914,746559,933559,1255058,1613551,1937652,2347031,2820042,3867409,4526235,5307470,6053193],\"yaxis\":\"y\",\"type\":\"scattergl\"},{\"hovertemplate\":\"country=Kenya<br>iso_num=%{x}<br>pop=%{y}<extra></extra>\",\"legendgroup\":\"Kenya\",\"line\":{\"color\":\"#FF97FF\",\"dash\":\"solid\"},\"marker\":{\"symbol\":\"circle\"},\"mode\":\"lines\",\"name\":\"Kenya\",\"showlegend\":true,\"x\":[404,404,404,404,404,404,404,404,404,404,404,404],\"xaxis\":\"x\",\"y\":[6464046,7454779,8678557,10191512,12044785,14500404,17661452,21198082,25020539,28263827,31386842,35610177],\"yaxis\":\"y\",\"type\":\"scattergl\"},{\"hovertemplate\":\"country=Korea, Dem. Rep.<br>iso_num=%{x}<br>pop=%{y}<extra></extra>\",\"legendgroup\":\"Korea, Dem. Rep.\",\"line\":{\"color\":\"#FECB52\",\"dash\":\"solid\"},\"marker\":{\"symbol\":\"circle\"},\"mode\":\"lines\",\"name\":\"Korea, Dem. Rep.\",\"showlegend\":true,\"x\":[410,410,410,410,410,410,410,410,410,410,410,410],\"xaxis\":\"x\",\"y\":[8865488,9411381,10917494,12617009,14781241,16325320,17647518,19067554,20711375,21585105,22215365,23301725],\"yaxis\":\"y\",\"type\":\"scattergl\"},{\"hovertemplate\":\"country=Korea, Rep.<br>iso_num=%{x}<br>pop=%{y}<extra></extra>\",\"legendgroup\":\"Korea, Rep.\",\"line\":{\"color\":\"#636efa\",\"dash\":\"solid\"},\"marker\":{\"symbol\":\"circle\"},\"mode\":\"lines\",\"name\":\"Korea, Rep.\",\"showlegend\":true,\"x\":[410,410,410,410,410,410,410,410,410,410,410,410],\"xaxis\":\"x\",\"y\":[20947571,22611552,26420307,30131000,33505000,36436000,39326000,41622000,43805450,46173816,47969150,49044790],\"yaxis\":\"y\",\"type\":\"scattergl\"},{\"hovertemplate\":\"country=Kuwait<br>iso_num=%{x}<br>pop=%{y}<extra></extra>\",\"legendgroup\":\"Kuwait\",\"line\":{\"color\":\"#EF553B\",\"dash\":\"solid\"},\"marker\":{\"symbol\":\"circle\"},\"mode\":\"lines\",\"name\":\"Kuwait\",\"showlegend\":true,\"x\":[414,414,414,414,414,414,414,414,414,414,414,414],\"xaxis\":\"x\",\"y\":[160000,212846,358266,575003,841934,1140357,1497494,1891487,1418095,1765345,2111561,2505559],\"yaxis\":\"y\",\"type\":\"scattergl\"},{\"hovertemplate\":\"country=Lebanon<br>iso_num=%{x}<br>pop=%{y}<extra></extra>\",\"legendgroup\":\"Lebanon\",\"line\":{\"color\":\"#00cc96\",\"dash\":\"solid\"},\"marker\":{\"symbol\":\"circle\"},\"mode\":\"lines\",\"name\":\"Lebanon\",\"showlegend\":true,\"x\":[422,422,422,422,422,422,422,422,422,422,422,422],\"xaxis\":\"x\",\"y\":[1439529,1647412,1886848,2186894,2680018,3115787,3086876,3089353,3219994,3430388,3677780,3921278],\"yaxis\":\"y\",\"type\":\"scattergl\"},{\"hovertemplate\":\"country=Lesotho<br>iso_num=%{x}<br>pop=%{y}<extra></extra>\",\"legendgroup\":\"Lesotho\",\"line\":{\"color\":\"#ab63fa\",\"dash\":\"solid\"},\"marker\":{\"symbol\":\"circle\"},\"mode\":\"lines\",\"name\":\"Lesotho\",\"showlegend\":true,\"x\":[426,426,426,426,426,426,426,426,426,426,426,426],\"xaxis\":\"x\",\"y\":[748747,813338,893143,996380,1116779,1251524,1411807,1599200,1803195,1982823,2046772,2012649],\"yaxis\":\"y\",\"type\":\"scattergl\"},{\"hovertemplate\":\"country=Liberia<br>iso_num=%{x}<br>pop=%{y}<extra></extra>\",\"legendgroup\":\"Liberia\",\"line\":{\"color\":\"#FFA15A\",\"dash\":\"solid\"},\"marker\":{\"symbol\":\"circle\"},\"mode\":\"lines\",\"name\":\"Liberia\",\"showlegend\":true,\"x\":[430,430,430,430,430,430,430,430,430,430,430,430],\"xaxis\":\"x\",\"y\":[863308,975950,1112796,1279406,1482628,1703617,1956875,2269414,1912974,2200725,2814651,3193942],\"yaxis\":\"y\",\"type\":\"scattergl\"},{\"hovertemplate\":\"country=Libya<br>iso_num=%{x}<br>pop=%{y}<extra></extra>\",\"legendgroup\":\"Libya\",\"line\":{\"color\":\"#19d3f3\",\"dash\":\"solid\"},\"marker\":{\"symbol\":\"circle\"},\"mode\":\"lines\",\"name\":\"Libya\",\"showlegend\":true,\"x\":[434,434,434,434,434,434,434,434,434,434,434,434],\"xaxis\":\"x\",\"y\":[1019729,1201578,1441863,1759224,2183877,2721783,3344074,3799845,4364501,4759670,5368585,6036914],\"yaxis\":\"y\",\"type\":\"scattergl\"},{\"hovertemplate\":\"country=Madagascar<br>iso_num=%{x}<br>pop=%{y}<extra></extra>\",\"legendgroup\":\"Madagascar\",\"line\":{\"color\":\"#FF6692\",\"dash\":\"solid\"},\"marker\":{\"symbol\":\"circle\"},\"mode\":\"lines\",\"name\":\"Madagascar\",\"showlegend\":true,\"x\":[450,450,450,450,450,450,450,450,450,450,450,450],\"xaxis\":\"x\",\"y\":[4762912,5181679,5703324,6334556,7082430,8007166,9171477,10568642,12210395,14165114,16473477,19167654],\"yaxis\":\"y\",\"type\":\"scattergl\"},{\"hovertemplate\":\"country=Malawi<br>iso_num=%{x}<br>pop=%{y}<extra></extra>\",\"legendgroup\":\"Malawi\",\"line\":{\"color\":\"#B6E880\",\"dash\":\"solid\"},\"marker\":{\"symbol\":\"circle\"},\"mode\":\"lines\",\"name\":\"Malawi\",\"showlegend\":true,\"x\":[454,454,454,454,454,454,454,454,454,454,454,454],\"xaxis\":\"x\",\"y\":[2917802,3221238,3628608,4147252,4730997,5637246,6502825,7824747,10014249,10419991,11824495,13327079],\"yaxis\":\"y\",\"type\":\"scattergl\"},{\"hovertemplate\":\"country=Malaysia<br>iso_num=%{x}<br>pop=%{y}<extra></extra>\",\"legendgroup\":\"Malaysia\",\"line\":{\"color\":\"#FF97FF\",\"dash\":\"solid\"},\"marker\":{\"symbol\":\"circle\"},\"mode\":\"lines\",\"name\":\"Malaysia\",\"showlegend\":true,\"x\":[458,458,458,458,458,458,458,458,458,458,458,458],\"xaxis\":\"x\",\"y\":[6748378,7739235,8906385,10154878,11441462,12845381,14441916,16331785,18319502,20476091,22662365,24821286],\"yaxis\":\"y\",\"type\":\"scattergl\"},{\"hovertemplate\":\"country=Mali<br>iso_num=%{x}<br>pop=%{y}<extra></extra>\",\"legendgroup\":\"Mali\",\"line\":{\"color\":\"#FECB52\",\"dash\":\"solid\"},\"marker\":{\"symbol\":\"circle\"},\"mode\":\"lines\",\"name\":\"Mali\",\"showlegend\":true,\"x\":[466,466,466,466,466,466,466,466,466,466,466,466],\"xaxis\":\"x\",\"y\":[3838168,4241884,4690372,5212416,5828158,6491649,6998256,7634008,8416215,9384984,10580176,12031795],\"yaxis\":\"y\",\"type\":\"scattergl\"},{\"hovertemplate\":\"country=Mauritania<br>iso_num=%{x}<br>pop=%{y}<extra></extra>\",\"legendgroup\":\"Mauritania\",\"line\":{\"color\":\"#636efa\",\"dash\":\"solid\"},\"marker\":{\"symbol\":\"circle\"},\"mode\":\"lines\",\"name\":\"Mauritania\",\"showlegend\":true,\"x\":[478,478,478,478,478,478,478,478,478,478,478,478],\"xaxis\":\"x\",\"y\":[1022556,1076852,1146757,1230542,1332786,1456688,1622136,1841240,2119465,2444741,2828858,3270065],\"yaxis\":\"y\",\"type\":\"scattergl\"},{\"hovertemplate\":\"country=Mauritius<br>iso_num=%{x}<br>pop=%{y}<extra></extra>\",\"legendgroup\":\"Mauritius\",\"line\":{\"color\":\"#EF553B\",\"dash\":\"solid\"},\"marker\":{\"symbol\":\"circle\"},\"mode\":\"lines\",\"name\":\"Mauritius\",\"showlegend\":true,\"x\":[480,480,480,480,480,480,480,480,480,480,480,480],\"xaxis\":\"x\",\"y\":[516556,609816,701016,789309,851334,913025,992040,1042663,1096202,1149818,1200206,1250882],\"yaxis\":\"y\",\"type\":\"scattergl\"},{\"hovertemplate\":\"country=Mexico<br>iso_num=%{x}<br>pop=%{y}<extra></extra>\",\"legendgroup\":\"Mexico\",\"line\":{\"color\":\"#00cc96\",\"dash\":\"solid\"},\"marker\":{\"symbol\":\"circle\"},\"mode\":\"lines\",\"name\":\"Mexico\",\"showlegend\":true,\"x\":[484,484,484,484,484,484,484,484,484,484,484,484],\"xaxis\":\"x\",\"y\":[30144317,35015548,41121485,47995559,55984294,63759976,71640904,80122492,88111030,95895146,102479927,108700891],\"yaxis\":\"y\",\"type\":\"scattergl\"},{\"hovertemplate\":\"country=Mongolia<br>iso_num=%{x}<br>pop=%{y}<extra></extra>\",\"legendgroup\":\"Mongolia\",\"line\":{\"color\":\"#ab63fa\",\"dash\":\"solid\"},\"marker\":{\"symbol\":\"circle\"},\"mode\":\"lines\",\"name\":\"Mongolia\",\"showlegend\":true,\"x\":[496,496,496,496,496,496,496,496,496,496,496,496],\"xaxis\":\"x\",\"y\":[800663,882134,1010280,1149500,1320500,1528000,1756032,2015133,2312802,2494803,2674234,2874127],\"yaxis\":\"y\",\"type\":\"scattergl\"},{\"hovertemplate\":\"country=Montenegro<br>iso_num=%{x}<br>pop=%{y}<extra></extra>\",\"legendgroup\":\"Montenegro\",\"line\":{\"color\":\"#FFA15A\",\"dash\":\"solid\"},\"marker\":{\"symbol\":\"circle\"},\"mode\":\"lines\",\"name\":\"Montenegro\",\"showlegend\":true,\"x\":[499,499,499,499,499,499,499,499,499,499,499,499],\"xaxis\":\"x\",\"y\":[413834,442829,474528,501035,527678,560073,562548,569473,621621,692651,720230,684736],\"yaxis\":\"y\",\"type\":\"scattergl\"},{\"hovertemplate\":\"country=Morocco<br>iso_num=%{x}<br>pop=%{y}<extra></extra>\",\"legendgroup\":\"Morocco\",\"line\":{\"color\":\"#19d3f3\",\"dash\":\"solid\"},\"marker\":{\"symbol\":\"circle\"},\"mode\":\"lines\",\"name\":\"Morocco\",\"showlegend\":true,\"x\":[504,504,504,504,504,504,504,504,504,504,504,504],\"xaxis\":\"x\",\"y\":[9939217,11406350,13056604,14770296,16660670,18396941,20198730,22987397,25798239,28529501,31167783,33757175],\"yaxis\":\"y\",\"type\":\"scattergl\"},{\"hovertemplate\":\"country=Mozambique<br>iso_num=%{x}<br>pop=%{y}<extra></extra>\",\"legendgroup\":\"Mozambique\",\"line\":{\"color\":\"#FF6692\",\"dash\":\"solid\"},\"marker\":{\"symbol\":\"circle\"},\"mode\":\"lines\",\"name\":\"Mozambique\",\"showlegend\":true,\"x\":[508,508,508,508,508,508,508,508,508,508,508,508],\"xaxis\":\"x\",\"y\":[6446316,7038035,7788944,8680909,9809596,11127868,12587223,12891952,13160731,16603334,18473780,19951656],\"yaxis\":\"y\",\"type\":\"scattergl\"},{\"hovertemplate\":\"country=Myanmar<br>iso_num=%{x}<br>pop=%{y}<extra></extra>\",\"legendgroup\":\"Myanmar\",\"line\":{\"color\":\"#B6E880\",\"dash\":\"solid\"},\"marker\":{\"symbol\":\"circle\"},\"mode\":\"lines\",\"name\":\"Myanmar\",\"showlegend\":true,\"x\":[104,104,104,104,104,104,104,104,104,104,104,104],\"xaxis\":\"x\",\"y\":[20092996,21731844,23634436,25870271,28466390,31528087,34680442,38028578,40546538,43247867,45598081,47761980],\"yaxis\":\"y\",\"type\":\"scattergl\"},{\"hovertemplate\":\"country=Namibia<br>iso_num=%{x}<br>pop=%{y}<extra></extra>\",\"legendgroup\":\"Namibia\",\"line\":{\"color\":\"#FF97FF\",\"dash\":\"solid\"},\"marker\":{\"symbol\":\"circle\"},\"mode\":\"lines\",\"name\":\"Namibia\",\"showlegend\":true,\"x\":[516,516,516,516,516,516,516,516,516,516,516,516],\"xaxis\":\"x\",\"y\":[485831,548080,621392,706640,821782,977026,1099010,1278184,1554253,1774766,1972153,2055080],\"yaxis\":\"y\",\"type\":\"scattergl\"},{\"hovertemplate\":\"country=Nepal<br>iso_num=%{x}<br>pop=%{y}<extra></extra>\",\"legendgroup\":\"Nepal\",\"line\":{\"color\":\"#FECB52\",\"dash\":\"solid\"},\"marker\":{\"symbol\":\"circle\"},\"mode\":\"lines\",\"name\":\"Nepal\",\"showlegend\":true,\"x\":[524,524,524,524,524,524,524,524,524,524,524,524],\"xaxis\":\"x\",\"y\":[9182536,9682338,10332057,11261690,12412593,13933198,15796314,17917180,20326209,23001113,25873917,28901790],\"yaxis\":\"y\",\"type\":\"scattergl\"},{\"hovertemplate\":\"country=Netherlands<br>iso_num=%{x}<br>pop=%{y}<extra></extra>\",\"legendgroup\":\"Netherlands\",\"line\":{\"color\":\"#636efa\",\"dash\":\"solid\"},\"marker\":{\"symbol\":\"circle\"},\"mode\":\"lines\",\"name\":\"Netherlands\",\"showlegend\":true,\"x\":[528,528,528,528,528,528,528,528,528,528,528,528],\"xaxis\":\"x\",\"y\":[10381988,11026383,11805689,12596822,13329874,13852989,14310401,14665278,15174244,15604464,16122830,16570613],\"yaxis\":\"y\",\"type\":\"scattergl\"},{\"hovertemplate\":\"country=New Zealand<br>iso_num=%{x}<br>pop=%{y}<extra></extra>\",\"legendgroup\":\"New Zealand\",\"line\":{\"color\":\"#EF553B\",\"dash\":\"solid\"},\"marker\":{\"symbol\":\"circle\"},\"mode\":\"lines\",\"name\":\"New Zealand\",\"showlegend\":true,\"x\":[554,554,554,554,554,554,554,554,554,554,554,554],\"xaxis\":\"x\",\"y\":[1994794,2229407,2488550,2728150,2929100,3164900,3210650,3317166,3437674,3676187,3908037,4115771],\"yaxis\":\"y\",\"type\":\"scattergl\"},{\"hovertemplate\":\"country=Nicaragua<br>iso_num=%{x}<br>pop=%{y}<extra></extra>\",\"legendgroup\":\"Nicaragua\",\"line\":{\"color\":\"#00cc96\",\"dash\":\"solid\"},\"marker\":{\"symbol\":\"circle\"},\"mode\":\"lines\",\"name\":\"Nicaragua\",\"showlegend\":true,\"x\":[558,558,558,558,558,558,558,558,558,558,558,558],\"xaxis\":\"x\",\"y\":[1165790,1358828,1590597,1865490,2182908,2554598,2979423,3344353,4017939,4609572,5146848,5675356],\"yaxis\":\"y\",\"type\":\"scattergl\"},{\"hovertemplate\":\"country=Niger<br>iso_num=%{x}<br>pop=%{y}<extra></extra>\",\"legendgroup\":\"Niger\",\"line\":{\"color\":\"#ab63fa\",\"dash\":\"solid\"},\"marker\":{\"symbol\":\"circle\"},\"mode\":\"lines\",\"name\":\"Niger\",\"showlegend\":true,\"x\":[562,562,562,562,562,562,562,562,562,562,562,562],\"xaxis\":\"x\",\"y\":[3379468,3692184,4076008,4534062,5060262,5682086,6437188,7332638,8392818,9666252,11140655,12894865],\"yaxis\":\"y\",\"type\":\"scattergl\"},{\"hovertemplate\":\"country=Nigeria<br>iso_num=%{x}<br>pop=%{y}<extra></extra>\",\"legendgroup\":\"Nigeria\",\"line\":{\"color\":\"#FFA15A\",\"dash\":\"solid\"},\"marker\":{\"symbol\":\"circle\"},\"mode\":\"lines\",\"name\":\"Nigeria\",\"showlegend\":true,\"x\":[566,566,566,566,566,566,566,566,566,566,566,566],\"xaxis\":\"x\",\"y\":[33119096,37173340,41871351,47287752,53740085,62209173,73039376,81551520,93364244,106207839,119901274,135031164],\"yaxis\":\"y\",\"type\":\"scattergl\"},{\"hovertemplate\":\"country=Norway<br>iso_num=%{x}<br>pop=%{y}<extra></extra>\",\"legendgroup\":\"Norway\",\"line\":{\"color\":\"#19d3f3\",\"dash\":\"solid\"},\"marker\":{\"symbol\":\"circle\"},\"mode\":\"lines\",\"name\":\"Norway\",\"showlegend\":true,\"x\":[578,578,578,578,578,578,578,578,578,578,578,578],\"xaxis\":\"x\",\"y\":[3327728,3491938,3638919,3786019,3933004,4043205,4114787,4186147,4286357,4405672,4535591,4627926],\"yaxis\":\"y\",\"type\":\"scattergl\"},{\"hovertemplate\":\"country=Oman<br>iso_num=%{x}<br>pop=%{y}<extra></extra>\",\"legendgroup\":\"Oman\",\"line\":{\"color\":\"#FF6692\",\"dash\":\"solid\"},\"marker\":{\"symbol\":\"circle\"},\"mode\":\"lines\",\"name\":\"Oman\",\"showlegend\":true,\"x\":[512,512,512,512,512,512,512,512,512,512,512,512],\"xaxis\":\"x\",\"y\":[507833,561977,628164,714775,829050,1004533,1301048,1593882,1915208,2283635,2713462,3204897],\"yaxis\":\"y\",\"type\":\"scattergl\"},{\"hovertemplate\":\"country=Pakistan<br>iso_num=%{x}<br>pop=%{y}<extra></extra>\",\"legendgroup\":\"Pakistan\",\"line\":{\"color\":\"#B6E880\",\"dash\":\"solid\"},\"marker\":{\"symbol\":\"circle\"},\"mode\":\"lines\",\"name\":\"Pakistan\",\"showlegend\":true,\"x\":[586,586,586,586,586,586,586,586,586,586,586,586],\"xaxis\":\"x\",\"y\":[41346560,46679944,53100671,60641899,69325921,78152686,91462088,105186881,120065004,135564834,153403524,169270617],\"yaxis\":\"y\",\"type\":\"scattergl\"},{\"hovertemplate\":\"country=Panama<br>iso_num=%{x}<br>pop=%{y}<extra></extra>\",\"legendgroup\":\"Panama\",\"line\":{\"color\":\"#FF97FF\",\"dash\":\"solid\"},\"marker\":{\"symbol\":\"circle\"},\"mode\":\"lines\",\"name\":\"Panama\",\"showlegend\":true,\"x\":[591,591,591,591,591,591,591,591,591,591,591,591],\"xaxis\":\"x\",\"y\":[940080,1063506,1215725,1405486,1616384,1839782,2036305,2253639,2484997,2734531,2990875,3242173],\"yaxis\":\"y\",\"type\":\"scattergl\"},{\"hovertemplate\":\"country=Paraguay<br>iso_num=%{x}<br>pop=%{y}<extra></extra>\",\"legendgroup\":\"Paraguay\",\"line\":{\"color\":\"#FECB52\",\"dash\":\"solid\"},\"marker\":{\"symbol\":\"circle\"},\"mode\":\"lines\",\"name\":\"Paraguay\",\"showlegend\":true,\"x\":[600,600,600,600,600,600,600,600,600,600,600,600],\"xaxis\":\"x\",\"y\":[1555876,1770902,2009813,2287985,2614104,2984494,3366439,3886512,4483945,5154123,5884491,6667147],\"yaxis\":\"y\",\"type\":\"scattergl\"},{\"hovertemplate\":\"country=Peru<br>iso_num=%{x}<br>pop=%{y}<extra></extra>\",\"legendgroup\":\"Peru\",\"line\":{\"color\":\"#636efa\",\"dash\":\"solid\"},\"marker\":{\"symbol\":\"circle\"},\"mode\":\"lines\",\"name\":\"Peru\",\"showlegend\":true,\"x\":[604,604,604,604,604,604,604,604,604,604,604,604],\"xaxis\":\"x\",\"y\":[8025700,9146100,10516500,12132200,13954700,15990099,18125129,20195924,22430449,24748122,26769436,28674757],\"yaxis\":\"y\",\"type\":\"scattergl\"},{\"hovertemplate\":\"country=Philippines<br>iso_num=%{x}<br>pop=%{y}<extra></extra>\",\"legendgroup\":\"Philippines\",\"line\":{\"color\":\"#EF553B\",\"dash\":\"solid\"},\"marker\":{\"symbol\":\"circle\"},\"mode\":\"lines\",\"name\":\"Philippines\",\"showlegend\":true,\"x\":[608,608,608,608,608,608,608,608,608,608,608,608],\"xaxis\":\"x\",\"y\":[22438691,26072194,30325264,35356600,40850141,46850962,53456774,60017788,67185766,75012988,82995088,91077287],\"yaxis\":\"y\",\"type\":\"scattergl\"},{\"hovertemplate\":\"country=Poland<br>iso_num=%{x}<br>pop=%{y}<extra></extra>\",\"legendgroup\":\"Poland\",\"line\":{\"color\":\"#00cc96\",\"dash\":\"solid\"},\"marker\":{\"symbol\":\"circle\"},\"mode\":\"lines\",\"name\":\"Poland\",\"showlegend\":true,\"x\":[616,616,616,616,616,616,616,616,616,616,616,616],\"xaxis\":\"x\",\"y\":[25730551,28235346,30329617,31785378,33039545,34621254,36227381,37740710,38370697,38654957,38625976,38518241],\"yaxis\":\"y\",\"type\":\"scattergl\"},{\"hovertemplate\":\"country=Portugal<br>iso_num=%{x}<br>pop=%{y}<extra></extra>\",\"legendgroup\":\"Portugal\",\"line\":{\"color\":\"#ab63fa\",\"dash\":\"solid\"},\"marker\":{\"symbol\":\"circle\"},\"mode\":\"lines\",\"name\":\"Portugal\",\"showlegend\":true,\"x\":[620,620,620,620,620,620,620,620,620,620,620,620],\"xaxis\":\"x\",\"y\":[8526050,8817650,9019800,9103000,8970450,9662600,9859650,9915289,9927680,10156415,10433867,10642836],\"yaxis\":\"y\",\"type\":\"scattergl\"},{\"hovertemplate\":\"country=Puerto Rico<br>iso_num=%{x}<br>pop=%{y}<extra></extra>\",\"legendgroup\":\"Puerto Rico\",\"line\":{\"color\":\"#FFA15A\",\"dash\":\"solid\"},\"marker\":{\"symbol\":\"circle\"},\"mode\":\"lines\",\"name\":\"Puerto Rico\",\"showlegend\":true,\"x\":[630,630,630,630,630,630,630,630,630,630,630,630],\"xaxis\":\"x\",\"y\":[2227000,2260000,2448046,2648961,2847132,3080828,3279001,3444468,3585176,3759430,3859606,3942491],\"yaxis\":\"y\",\"type\":\"scattergl\"},{\"hovertemplate\":\"country=Reunion<br>iso_num=%{x}<br>pop=%{y}<extra></extra>\",\"legendgroup\":\"Reunion\",\"line\":{\"color\":\"#19d3f3\",\"dash\":\"solid\"},\"marker\":{\"symbol\":\"circle\"},\"mode\":\"lines\",\"name\":\"Reunion\",\"showlegend\":true,\"x\":[638,638,638,638,638,638,638,638,638,638,638,638],\"xaxis\":\"x\",\"y\":[257700,308700,358900,414024,461633,492095,517810,562035,622191,684810,743981,798094],\"yaxis\":\"y\",\"type\":\"scattergl\"},{\"hovertemplate\":\"country=Romania<br>iso_num=%{x}<br>pop=%{y}<extra></extra>\",\"legendgroup\":\"Romania\",\"line\":{\"color\":\"#FF6692\",\"dash\":\"solid\"},\"marker\":{\"symbol\":\"circle\"},\"mode\":\"lines\",\"name\":\"Romania\",\"showlegend\":true,\"x\":[642,642,642,642,642,642,642,642,642,642,642,642],\"xaxis\":\"x\",\"y\":[16630000,17829327,18680721,19284814,20662648,21658597,22356726,22686371,22797027,22562458,22404337,22276056],\"yaxis\":\"y\",\"type\":\"scattergl\"},{\"hovertemplate\":\"country=Rwanda<br>iso_num=%{x}<br>pop=%{y}<extra></extra>\",\"legendgroup\":\"Rwanda\",\"line\":{\"color\":\"#B6E880\",\"dash\":\"solid\"},\"marker\":{\"symbol\":\"circle\"},\"mode\":\"lines\",\"name\":\"Rwanda\",\"showlegend\":true,\"x\":[646,646,646,646,646,646,646,646,646,646,646,646],\"xaxis\":\"x\",\"y\":[2534927,2822082,3051242,3451079,3992121,4657072,5507565,6349365,7290203,7212583,7852401,8860588],\"yaxis\":\"y\",\"type\":\"scattergl\"},{\"hovertemplate\":\"country=Sao Tome and Principe<br>iso_num=%{x}<br>pop=%{y}<extra></extra>\",\"legendgroup\":\"Sao Tome and Principe\",\"line\":{\"color\":\"#FF97FF\",\"dash\":\"solid\"},\"marker\":{\"symbol\":\"circle\"},\"mode\":\"lines\",\"name\":\"Sao Tome and Principe\",\"showlegend\":true,\"x\":[678,678,678,678,678,678,678,678,678,678,678,678],\"xaxis\":\"x\",\"y\":[60011,61325,65345,70787,76595,86796,98593,110812,125911,145608,170372,199579],\"yaxis\":\"y\",\"type\":\"scattergl\"},{\"hovertemplate\":\"country=Saudi Arabia<br>iso_num=%{x}<br>pop=%{y}<extra></extra>\",\"legendgroup\":\"Saudi Arabia\",\"line\":{\"color\":\"#FECB52\",\"dash\":\"solid\"},\"marker\":{\"symbol\":\"circle\"},\"mode\":\"lines\",\"name\":\"Saudi Arabia\",\"showlegend\":true,\"x\":[682,682,682,682,682,682,682,682,682,682,682,682],\"xaxis\":\"x\",\"y\":[4005677,4419650,4943029,5618198,6472756,8128505,11254672,14619745,16945857,21229759,24501530,27601038],\"yaxis\":\"y\",\"type\":\"scattergl\"},{\"hovertemplate\":\"country=Senegal<br>iso_num=%{x}<br>pop=%{y}<extra></extra>\",\"legendgroup\":\"Senegal\",\"line\":{\"color\":\"#636efa\",\"dash\":\"solid\"},\"marker\":{\"symbol\":\"circle\"},\"mode\":\"lines\",\"name\":\"Senegal\",\"showlegend\":true,\"x\":[686,686,686,686,686,686,686,686,686,686,686,686],\"xaxis\":\"x\",\"y\":[2755589,3054547,3430243,3965841,4588696,5260855,6147783,7171347,8307920,9535314,10870037,12267493],\"yaxis\":\"y\",\"type\":\"scattergl\"},{\"hovertemplate\":\"country=Serbia<br>iso_num=%{x}<br>pop=%{y}<extra></extra>\",\"legendgroup\":\"Serbia\",\"line\":{\"color\":\"#EF553B\",\"dash\":\"solid\"},\"marker\":{\"symbol\":\"circle\"},\"mode\":\"lines\",\"name\":\"Serbia\",\"showlegend\":true,\"x\":[688,688,688,688,688,688,688,688,688,688,688,688],\"xaxis\":\"x\",\"y\":[6860147,7271135,7616060,7971222,8313288,8686367,9032824,9230783,9826397,10336594,10111559,10150265],\"yaxis\":\"y\",\"type\":\"scattergl\"},{\"hovertemplate\":\"country=Sierra Leone<br>iso_num=%{x}<br>pop=%{y}<extra></extra>\",\"legendgroup\":\"Sierra Leone\",\"line\":{\"color\":\"#00cc96\",\"dash\":\"solid\"},\"marker\":{\"symbol\":\"circle\"},\"mode\":\"lines\",\"name\":\"Sierra Leone\",\"showlegend\":true,\"x\":[694,694,694,694,694,694,694,694,694,694,694,694],\"xaxis\":\"x\",\"y\":[2143249,2295678,2467895,2662190,2879013,3140897,3464522,3868905,4260884,4578212,5359092,6144562],\"yaxis\":\"y\",\"type\":\"scattergl\"},{\"hovertemplate\":\"country=Singapore<br>iso_num=%{x}<br>pop=%{y}<extra></extra>\",\"legendgroup\":\"Singapore\",\"line\":{\"color\":\"#ab63fa\",\"dash\":\"solid\"},\"marker\":{\"symbol\":\"circle\"},\"mode\":\"lines\",\"name\":\"Singapore\",\"showlegend\":true,\"x\":[702,702,702,702,702,702,702,702,702,702,702,702],\"xaxis\":\"x\",\"y\":[1127000,1445929,1750200,1977600,2152400,2325300,2651869,2794552,3235865,3802309,4197776,4553009],\"yaxis\":\"y\",\"type\":\"scattergl\"},{\"hovertemplate\":\"country=Slovak Republic<br>iso_num=%{x}<br>pop=%{y}<extra></extra>\",\"legendgroup\":\"Slovak Republic\",\"line\":{\"color\":\"#FFA15A\",\"dash\":\"solid\"},\"marker\":{\"symbol\":\"circle\"},\"mode\":\"lines\",\"name\":\"Slovak Republic\",\"showlegend\":true,\"x\":[703,703,703,703,703,703,703,703,703,703,703,703],\"xaxis\":\"x\",\"y\":[3558137,3844277,4237384,4442238,4593433,4827803,5048043,5199318,5302888,5383010,5410052,5447502],\"yaxis\":\"y\",\"type\":\"scattergl\"},{\"hovertemplate\":\"country=Slovenia<br>iso_num=%{x}<br>pop=%{y}<extra></extra>\",\"legendgroup\":\"Slovenia\",\"line\":{\"color\":\"#19d3f3\",\"dash\":\"solid\"},\"marker\":{\"symbol\":\"circle\"},\"mode\":\"lines\",\"name\":\"Slovenia\",\"showlegend\":true,\"x\":[705,705,705,705,705,705,705,705,705,705,705,705],\"xaxis\":\"x\",\"y\":[1489518,1533070,1582962,1646912,1694510,1746919,1861252,1945870,1999210,2011612,2011497,2009245],\"yaxis\":\"y\",\"type\":\"scattergl\"},{\"hovertemplate\":\"country=Somalia<br>iso_num=%{x}<br>pop=%{y}<extra></extra>\",\"legendgroup\":\"Somalia\",\"line\":{\"color\":\"#FF6692\",\"dash\":\"solid\"},\"marker\":{\"symbol\":\"circle\"},\"mode\":\"lines\",\"name\":\"Somalia\",\"showlegend\":true,\"x\":[706,706,706,706,706,706,706,706,706,706,706,706],\"xaxis\":\"x\",\"y\":[2526994,2780415,3080153,3428839,3840161,4353666,5828892,6921858,6099799,6633514,7753310,9118773],\"yaxis\":\"y\",\"type\":\"scattergl\"},{\"hovertemplate\":\"country=South Africa<br>iso_num=%{x}<br>pop=%{y}<extra></extra>\",\"legendgroup\":\"South Africa\",\"line\":{\"color\":\"#B6E880\",\"dash\":\"solid\"},\"marker\":{\"symbol\":\"circle\"},\"mode\":\"lines\",\"name\":\"South Africa\",\"showlegend\":true,\"x\":[710,710,710,710,710,710,710,710,710,710,710,710],\"xaxis\":\"x\",\"y\":[14264935,16151549,18356657,20997321,23935810,27129932,31140029,35933379,39964159,42835005,44433622,43997828],\"yaxis\":\"y\",\"type\":\"scattergl\"},{\"hovertemplate\":\"country=Spain<br>iso_num=%{x}<br>pop=%{y}<extra></extra>\",\"legendgroup\":\"Spain\",\"line\":{\"color\":\"#FF97FF\",\"dash\":\"solid\"},\"marker\":{\"symbol\":\"circle\"},\"mode\":\"lines\",\"name\":\"Spain\",\"showlegend\":true,\"x\":[724,724,724,724,724,724,724,724,724,724,724,724],\"xaxis\":\"x\",\"y\":[28549870,29841614,31158061,32850275,34513161,36439000,37983310,38880702,39549438,39855442,40152517,40448191],\"yaxis\":\"y\",\"type\":\"scattergl\"},{\"hovertemplate\":\"country=Sri Lanka<br>iso_num=%{x}<br>pop=%{y}<extra></extra>\",\"legendgroup\":\"Sri Lanka\",\"line\":{\"color\":\"#FECB52\",\"dash\":\"solid\"},\"marker\":{\"symbol\":\"circle\"},\"mode\":\"lines\",\"name\":\"Sri Lanka\",\"showlegend\":true,\"x\":[144,144,144,144,144,144,144,144,144,144,144,144],\"xaxis\":\"x\",\"y\":[7982342,9128546,10421936,11737396,13016733,14116836,15410151,16495304,17587060,18698655,19576783,20378239],\"yaxis\":\"y\",\"type\":\"scattergl\"},{\"hovertemplate\":\"country=Sudan<br>iso_num=%{x}<br>pop=%{y}<extra></extra>\",\"legendgroup\":\"Sudan\",\"line\":{\"color\":\"#636efa\",\"dash\":\"solid\"},\"marker\":{\"symbol\":\"circle\"},\"mode\":\"lines\",\"name\":\"Sudan\",\"showlegend\":true,\"x\":[736,736,736,736,736,736,736,736,736,736,736,736],\"xaxis\":\"x\",\"y\":[8504667,9753392,11183227,12716129,14597019,17104986,20367053,24725960,28227588,32160729,37090298,42292929],\"yaxis\":\"y\",\"type\":\"scattergl\"},{\"hovertemplate\":\"country=Swaziland<br>iso_num=%{x}<br>pop=%{y}<extra></extra>\",\"legendgroup\":\"Swaziland\",\"line\":{\"color\":\"#EF553B\",\"dash\":\"solid\"},\"marker\":{\"symbol\":\"circle\"},\"mode\":\"lines\",\"name\":\"Swaziland\",\"showlegend\":true,\"x\":[748,748,748,748,748,748,748,748,748,748,748,748],\"xaxis\":\"x\",\"y\":[290243,326741,370006,420690,480105,551425,649901,779348,962344,1054486,1130269,1133066],\"yaxis\":\"y\",\"type\":\"scattergl\"},{\"hovertemplate\":\"country=Sweden<br>iso_num=%{x}<br>pop=%{y}<extra></extra>\",\"legendgroup\":\"Sweden\",\"line\":{\"color\":\"#00cc96\",\"dash\":\"solid\"},\"marker\":{\"symbol\":\"circle\"},\"mode\":\"lines\",\"name\":\"Sweden\",\"showlegend\":true,\"x\":[752,752,752,752,752,752,752,752,752,752,752,752],\"xaxis\":\"x\",\"y\":[7124673,7363802,7561588,7867931,8122293,8251648,8325260,8421403,8718867,8897619,8954175,9031088],\"yaxis\":\"y\",\"type\":\"scattergl\"},{\"hovertemplate\":\"country=Switzerland<br>iso_num=%{x}<br>pop=%{y}<extra></extra>\",\"legendgroup\":\"Switzerland\",\"line\":{\"color\":\"#ab63fa\",\"dash\":\"solid\"},\"marker\":{\"symbol\":\"circle\"},\"mode\":\"lines\",\"name\":\"Switzerland\",\"showlegend\":true,\"x\":[756,756,756,756,756,756,756,756,756,756,756,756],\"xaxis\":\"x\",\"y\":[4815000,5126000,5666000,6063000,6401400,6316424,6468126,6649942,6995447,7193761,7361757,7554661],\"yaxis\":\"y\",\"type\":\"scattergl\"},{\"hovertemplate\":\"country=Syria<br>iso_num=%{x}<br>pop=%{y}<extra></extra>\",\"legendgroup\":\"Syria\",\"line\":{\"color\":\"#FFA15A\",\"dash\":\"solid\"},\"marker\":{\"symbol\":\"circle\"},\"mode\":\"lines\",\"name\":\"Syria\",\"showlegend\":true,\"x\":[760,760,760,760,760,760,760,760,760,760,760,760],\"xaxis\":\"x\",\"y\":[3661549,4149908,4834621,5680812,6701172,7932503,9410494,11242847,13219062,15081016,17155814,19314747],\"yaxis\":\"y\",\"type\":\"scattergl\"},{\"hovertemplate\":\"country=Taiwan<br>iso_num=%{x}<br>pop=%{y}<extra></extra>\",\"legendgroup\":\"Taiwan\",\"line\":{\"color\":\"#19d3f3\",\"dash\":\"solid\"},\"marker\":{\"symbol\":\"circle\"},\"mode\":\"lines\",\"name\":\"Taiwan\",\"showlegend\":true,\"x\":[158,158,158,158,158,158,158,158,158,158,158,158],\"xaxis\":\"x\",\"y\":[8550362,10164215,11918938,13648692,15226039,16785196,18501390,19757799,20686918,21628605,22454239,23174294],\"yaxis\":\"y\",\"type\":\"scattergl\"},{\"hovertemplate\":\"country=Tanzania<br>iso_num=%{x}<br>pop=%{y}<extra></extra>\",\"legendgroup\":\"Tanzania\",\"line\":{\"color\":\"#FF6692\",\"dash\":\"solid\"},\"marker\":{\"symbol\":\"circle\"},\"mode\":\"lines\",\"name\":\"Tanzania\",\"showlegend\":true,\"x\":[834,834,834,834,834,834,834,834,834,834,834,834],\"xaxis\":\"x\",\"y\":[8322925,9452826,10863958,12607312,14706593,17129565,19844382,23040630,26605473,30686889,34593779,38139640],\"yaxis\":\"y\",\"type\":\"scattergl\"},{\"hovertemplate\":\"country=Thailand<br>iso_num=%{x}<br>pop=%{y}<extra></extra>\",\"legendgroup\":\"Thailand\",\"line\":{\"color\":\"#B6E880\",\"dash\":\"solid\"},\"marker\":{\"symbol\":\"circle\"},\"mode\":\"lines\",\"name\":\"Thailand\",\"showlegend\":true,\"x\":[764,764,764,764,764,764,764,764,764,764,764,764],\"xaxis\":\"x\",\"y\":[21289402,25041917,29263397,34024249,39276153,44148285,48827160,52910342,56667095,60216677,62806748,65068149],\"yaxis\":\"y\",\"type\":\"scattergl\"},{\"hovertemplate\":\"country=Togo<br>iso_num=%{x}<br>pop=%{y}<extra></extra>\",\"legendgroup\":\"Togo\",\"line\":{\"color\":\"#FF97FF\",\"dash\":\"solid\"},\"marker\":{\"symbol\":\"circle\"},\"mode\":\"lines\",\"name\":\"Togo\",\"showlegend\":true,\"x\":[768,768,768,768,768,768,768,768,768,768,768,768],\"xaxis\":\"x\",\"y\":[1219113,1357445,1528098,1735550,2056351,2308582,2644765,3154264,3747553,4320890,4977378,5701579],\"yaxis\":\"y\",\"type\":\"scattergl\"},{\"hovertemplate\":\"country=Trinidad and Tobago<br>iso_num=%{x}<br>pop=%{y}<extra></extra>\",\"legendgroup\":\"Trinidad and Tobago\",\"line\":{\"color\":\"#FECB52\",\"dash\":\"solid\"},\"marker\":{\"symbol\":\"circle\"},\"mode\":\"lines\",\"name\":\"Trinidad and Tobago\",\"showlegend\":true,\"x\":[780,780,780,780,780,780,780,780,780,780,780,780],\"xaxis\":\"x\",\"y\":[662850,764900,887498,960155,975199,1039009,1116479,1191336,1183669,1138101,1101832,1056608],\"yaxis\":\"y\",\"type\":\"scattergl\"},{\"hovertemplate\":\"country=Tunisia<br>iso_num=%{x}<br>pop=%{y}<extra></extra>\",\"legendgroup\":\"Tunisia\",\"line\":{\"color\":\"#636efa\",\"dash\":\"solid\"},\"marker\":{\"symbol\":\"circle\"},\"mode\":\"lines\",\"name\":\"Tunisia\",\"showlegend\":true,\"x\":[788,788,788,788,788,788,788,788,788,788,788,788],\"xaxis\":\"x\",\"y\":[3647735,3950849,4286552,4786986,5303507,6005061,6734098,7724976,8523077,9231669,9770575,10276158],\"yaxis\":\"y\",\"type\":\"scattergl\"},{\"hovertemplate\":\"country=Turkey<br>iso_num=%{x}<br>pop=%{y}<extra></extra>\",\"legendgroup\":\"Turkey\",\"line\":{\"color\":\"#EF553B\",\"dash\":\"solid\"},\"marker\":{\"symbol\":\"circle\"},\"mode\":\"lines\",\"name\":\"Turkey\",\"showlegend\":true,\"x\":[792,792,792,792,792,792,792,792,792,792,792,792],\"xaxis\":\"x\",\"y\":[22235677,25670939,29788695,33411317,37492953,42404033,47328791,52881328,58179144,63047647,67308928,71158647],\"yaxis\":\"y\",\"type\":\"scattergl\"},{\"hovertemplate\":\"country=Uganda<br>iso_num=%{x}<br>pop=%{y}<extra></extra>\",\"legendgroup\":\"Uganda\",\"line\":{\"color\":\"#00cc96\",\"dash\":\"solid\"},\"marker\":{\"symbol\":\"circle\"},\"mode\":\"lines\",\"name\":\"Uganda\",\"showlegend\":true,\"x\":[800,800,800,800,800,800,800,800,800,800,800,800],\"xaxis\":\"x\",\"y\":[5824797,6675501,7688797,8900294,10190285,11457758,12939400,15283050,18252190,21210254,24739869,29170398],\"yaxis\":\"y\",\"type\":\"scattergl\"},{\"hovertemplate\":\"country=United Kingdom<br>iso_num=%{x}<br>pop=%{y}<extra></extra>\",\"legendgroup\":\"United Kingdom\",\"line\":{\"color\":\"#ab63fa\",\"dash\":\"solid\"},\"marker\":{\"symbol\":\"circle\"},\"mode\":\"lines\",\"name\":\"United Kingdom\",\"showlegend\":true,\"x\":[826,826,826,826,826,826,826,826,826,826,826,826],\"xaxis\":\"x\",\"y\":[50430000,51430000,53292000,54959000,56079000,56179000,56339704,56981620,57866349,58808266,59912431,60776238],\"yaxis\":\"y\",\"type\":\"scattergl\"},{\"hovertemplate\":\"country=United States<br>iso_num=%{x}<br>pop=%{y}<extra></extra>\",\"legendgroup\":\"United States\",\"line\":{\"color\":\"#FFA15A\",\"dash\":\"solid\"},\"marker\":{\"symbol\":\"circle\"},\"mode\":\"lines\",\"name\":\"United States\",\"showlegend\":true,\"x\":[840,840,840,840,840,840,840,840,840,840,840,840],\"xaxis\":\"x\",\"y\":[157553000,171984000,186538000,198712000,209896000,220239000,232187835,242803533,256894189,272911760,287675526,301139947],\"yaxis\":\"y\",\"type\":\"scattergl\"},{\"hovertemplate\":\"country=Uruguay<br>iso_num=%{x}<br>pop=%{y}<extra></extra>\",\"legendgroup\":\"Uruguay\",\"line\":{\"color\":\"#19d3f3\",\"dash\":\"solid\"},\"marker\":{\"symbol\":\"circle\"},\"mode\":\"lines\",\"name\":\"Uruguay\",\"showlegend\":true,\"x\":[858,858,858,858,858,858,858,858,858,858,858,858],\"xaxis\":\"x\",\"y\":[2252965,2424959,2598466,2748579,2829526,2873520,2953997,3045153,3149262,3262838,3363085,3447496],\"yaxis\":\"y\",\"type\":\"scattergl\"},{\"hovertemplate\":\"country=Venezuela<br>iso_num=%{x}<br>pop=%{y}<extra></extra>\",\"legendgroup\":\"Venezuela\",\"line\":{\"color\":\"#FF6692\",\"dash\":\"solid\"},\"marker\":{\"symbol\":\"circle\"},\"mode\":\"lines\",\"name\":\"Venezuela\",\"showlegend\":true,\"x\":[862,862,862,862,862,862,862,862,862,862,862,862],\"xaxis\":\"x\",\"y\":[5439568,6702668,8143375,9709552,11515649,13503563,15620766,17910182,20265563,22374398,24287670,26084662],\"yaxis\":\"y\",\"type\":\"scattergl\"},{\"hovertemplate\":\"country=Vietnam<br>iso_num=%{x}<br>pop=%{y}<extra></extra>\",\"legendgroup\":\"Vietnam\",\"line\":{\"color\":\"#B6E880\",\"dash\":\"solid\"},\"marker\":{\"symbol\":\"circle\"},\"mode\":\"lines\",\"name\":\"Vietnam\",\"showlegend\":true,\"x\":[704,704,704,704,704,704,704,704,704,704,704,704],\"xaxis\":\"x\",\"y\":[26246839,28998543,33796140,39463910,44655014,50533506,56142181,62826491,69940728,76048996,80908147,85262356],\"yaxis\":\"y\",\"type\":\"scattergl\"},{\"hovertemplate\":\"country=West Bank and Gaza<br>iso_num=%{x}<br>pop=%{y}<extra></extra>\",\"legendgroup\":\"West Bank and Gaza\",\"line\":{\"color\":\"#FF97FF\",\"dash\":\"solid\"},\"marker\":{\"symbol\":\"circle\"},\"mode\":\"lines\",\"name\":\"West Bank and Gaza\",\"showlegend\":true,\"x\":[275,275,275,275,275,275,275,275,275,275,275,275],\"xaxis\":\"x\",\"y\":[1030585,1070439,1133134,1142636,1089572,1261091,1425876,1691210,2104779,2826046,3389578,4018332],\"yaxis\":\"y\",\"type\":\"scattergl\"},{\"hovertemplate\":\"country=Yemen, Rep.<br>iso_num=%{x}<br>pop=%{y}<extra></extra>\",\"legendgroup\":\"Yemen, Rep.\",\"line\":{\"color\":\"#FECB52\",\"dash\":\"solid\"},\"marker\":{\"symbol\":\"circle\"},\"mode\":\"lines\",\"name\":\"Yemen, Rep.\",\"showlegend\":true,\"x\":[887,887,887,887,887,887,887,887,887,887,887,887],\"xaxis\":\"x\",\"y\":[4963829,5498090,6120081,6740785,7407075,8403990,9657618,11219340,13367997,15826497,18701257,22211743],\"yaxis\":\"y\",\"type\":\"scattergl\"},{\"hovertemplate\":\"country=Zambia<br>iso_num=%{x}<br>pop=%{y}<extra></extra>\",\"legendgroup\":\"Zambia\",\"line\":{\"color\":\"#636efa\",\"dash\":\"solid\"},\"marker\":{\"symbol\":\"circle\"},\"mode\":\"lines\",\"name\":\"Zambia\",\"showlegend\":true,\"x\":[894,894,894,894,894,894,894,894,894,894,894,894],\"xaxis\":\"x\",\"y\":[2672000,3016000,3421000,3900000,4506497,5216550,6100407,7272406,8381163,9417789,10595811,11746035],\"yaxis\":\"y\",\"type\":\"scattergl\"},{\"hovertemplate\":\"country=Zimbabwe<br>iso_num=%{x}<br>pop=%{y}<extra></extra>\",\"legendgroup\":\"Zimbabwe\",\"line\":{\"color\":\"#EF553B\",\"dash\":\"solid\"},\"marker\":{\"symbol\":\"circle\"},\"mode\":\"lines\",\"name\":\"Zimbabwe\",\"showlegend\":true,\"x\":[716,716,716,716,716,716,716,716,716,716,716,716],\"xaxis\":\"x\",\"y\":[3080907,3646340,4277736,4995432,5861135,6642107,7636524,9216418,10704340,11404948,11926563,12311143],\"yaxis\":\"y\",\"type\":\"scattergl\"}],                        {\"template\":{\"data\":{\"histogram2dcontour\":[{\"type\":\"histogram2dcontour\",\"colorbar\":{\"outlinewidth\":0,\"ticks\":\"\"},\"colorscale\":[[0.0,\"#0d0887\"],[0.1111111111111111,\"#46039f\"],[0.2222222222222222,\"#7201a8\"],[0.3333333333333333,\"#9c179e\"],[0.4444444444444444,\"#bd3786\"],[0.5555555555555556,\"#d8576b\"],[0.6666666666666666,\"#ed7953\"],[0.7777777777777778,\"#fb9f3a\"],[0.8888888888888888,\"#fdca26\"],[1.0,\"#f0f921\"]]}],\"choropleth\":[{\"type\":\"choropleth\",\"colorbar\":{\"outlinewidth\":0,\"ticks\":\"\"}}],\"histogram2d\":[{\"type\":\"histogram2d\",\"colorbar\":{\"outlinewidth\":0,\"ticks\":\"\"},\"colorscale\":[[0.0,\"#0d0887\"],[0.1111111111111111,\"#46039f\"],[0.2222222222222222,\"#7201a8\"],[0.3333333333333333,\"#9c179e\"],[0.4444444444444444,\"#bd3786\"],[0.5555555555555556,\"#d8576b\"],[0.6666666666666666,\"#ed7953\"],[0.7777777777777778,\"#fb9f3a\"],[0.8888888888888888,\"#fdca26\"],[1.0,\"#f0f921\"]]}],\"heatmap\":[{\"type\":\"heatmap\",\"colorbar\":{\"outlinewidth\":0,\"ticks\":\"\"},\"colorscale\":[[0.0,\"#0d0887\"],[0.1111111111111111,\"#46039f\"],[0.2222222222222222,\"#7201a8\"],[0.3333333333333333,\"#9c179e\"],[0.4444444444444444,\"#bd3786\"],[0.5555555555555556,\"#d8576b\"],[0.6666666666666666,\"#ed7953\"],[0.7777777777777778,\"#fb9f3a\"],[0.8888888888888888,\"#fdca26\"],[1.0,\"#f0f921\"]]}],\"heatmapgl\":[{\"type\":\"heatmapgl\",\"colorbar\":{\"outlinewidth\":0,\"ticks\":\"\"},\"colorscale\":[[0.0,\"#0d0887\"],[0.1111111111111111,\"#46039f\"],[0.2222222222222222,\"#7201a8\"],[0.3333333333333333,\"#9c179e\"],[0.4444444444444444,\"#bd3786\"],[0.5555555555555556,\"#d8576b\"],[0.6666666666666666,\"#ed7953\"],[0.7777777777777778,\"#fb9f3a\"],[0.8888888888888888,\"#fdca26\"],[1.0,\"#f0f921\"]]}],\"contourcarpet\":[{\"type\":\"contourcarpet\",\"colorbar\":{\"outlinewidth\":0,\"ticks\":\"\"}}],\"contour\":[{\"type\":\"contour\",\"colorbar\":{\"outlinewidth\":0,\"ticks\":\"\"},\"colorscale\":[[0.0,\"#0d0887\"],[0.1111111111111111,\"#46039f\"],[0.2222222222222222,\"#7201a8\"],[0.3333333333333333,\"#9c179e\"],[0.4444444444444444,\"#bd3786\"],[0.5555555555555556,\"#d8576b\"],[0.6666666666666666,\"#ed7953\"],[0.7777777777777778,\"#fb9f3a\"],[0.8888888888888888,\"#fdca26\"],[1.0,\"#f0f921\"]]}],\"surface\":[{\"type\":\"surface\",\"colorbar\":{\"outlinewidth\":0,\"ticks\":\"\"},\"colorscale\":[[0.0,\"#0d0887\"],[0.1111111111111111,\"#46039f\"],[0.2222222222222222,\"#7201a8\"],[0.3333333333333333,\"#9c179e\"],[0.4444444444444444,\"#bd3786\"],[0.5555555555555556,\"#d8576b\"],[0.6666666666666666,\"#ed7953\"],[0.7777777777777778,\"#fb9f3a\"],[0.8888888888888888,\"#fdca26\"],[1.0,\"#f0f921\"]]}],\"mesh3d\":[{\"type\":\"mesh3d\",\"colorbar\":{\"outlinewidth\":0,\"ticks\":\"\"}}],\"scatter\":[{\"fillpattern\":{\"fillmode\":\"overlay\",\"size\":10,\"solidity\":0.2},\"type\":\"scatter\"}],\"parcoords\":[{\"type\":\"parcoords\",\"line\":{\"colorbar\":{\"outlinewidth\":0,\"ticks\":\"\"}}}],\"scatterpolargl\":[{\"type\":\"scatterpolargl\",\"marker\":{\"colorbar\":{\"outlinewidth\":0,\"ticks\":\"\"}}}],\"bar\":[{\"error_x\":{\"color\":\"#2a3f5f\"},\"error_y\":{\"color\":\"#2a3f5f\"},\"marker\":{\"line\":{\"color\":\"#E5ECF6\",\"width\":0.5},\"pattern\":{\"fillmode\":\"overlay\",\"size\":10,\"solidity\":0.2}},\"type\":\"bar\"}],\"scattergeo\":[{\"type\":\"scattergeo\",\"marker\":{\"colorbar\":{\"outlinewidth\":0,\"ticks\":\"\"}}}],\"scatterpolar\":[{\"type\":\"scatterpolar\",\"marker\":{\"colorbar\":{\"outlinewidth\":0,\"ticks\":\"\"}}}],\"histogram\":[{\"marker\":{\"pattern\":{\"fillmode\":\"overlay\",\"size\":10,\"solidity\":0.2}},\"type\":\"histogram\"}],\"scattergl\":[{\"type\":\"scattergl\",\"marker\":{\"colorbar\":{\"outlinewidth\":0,\"ticks\":\"\"}}}],\"scatter3d\":[{\"type\":\"scatter3d\",\"line\":{\"colorbar\":{\"outlinewidth\":0,\"ticks\":\"\"}},\"marker\":{\"colorbar\":{\"outlinewidth\":0,\"ticks\":\"\"}}}],\"scattermapbox\":[{\"type\":\"scattermapbox\",\"marker\":{\"colorbar\":{\"outlinewidth\":0,\"ticks\":\"\"}}}],\"scatterternary\":[{\"type\":\"scatterternary\",\"marker\":{\"colorbar\":{\"outlinewidth\":0,\"ticks\":\"\"}}}],\"scattercarpet\":[{\"type\":\"scattercarpet\",\"marker\":{\"colorbar\":{\"outlinewidth\":0,\"ticks\":\"\"}}}],\"carpet\":[{\"aaxis\":{\"endlinecolor\":\"#2a3f5f\",\"gridcolor\":\"white\",\"linecolor\":\"white\",\"minorgridcolor\":\"white\",\"startlinecolor\":\"#2a3f5f\"},\"baxis\":{\"endlinecolor\":\"#2a3f5f\",\"gridcolor\":\"white\",\"linecolor\":\"white\",\"minorgridcolor\":\"white\",\"startlinecolor\":\"#2a3f5f\"},\"type\":\"carpet\"}],\"table\":[{\"cells\":{\"fill\":{\"color\":\"#EBF0F8\"},\"line\":{\"color\":\"white\"}},\"header\":{\"fill\":{\"color\":\"#C8D4E3\"},\"line\":{\"color\":\"white\"}},\"type\":\"table\"}],\"barpolar\":[{\"marker\":{\"line\":{\"color\":\"#E5ECF6\",\"width\":0.5},\"pattern\":{\"fillmode\":\"overlay\",\"size\":10,\"solidity\":0.2}},\"type\":\"barpolar\"}],\"pie\":[{\"automargin\":true,\"type\":\"pie\"}]},\"layout\":{\"autotypenumbers\":\"strict\",\"colorway\":[\"#636efa\",\"#EF553B\",\"#00cc96\",\"#ab63fa\",\"#FFA15A\",\"#19d3f3\",\"#FF6692\",\"#B6E880\",\"#FF97FF\",\"#FECB52\"],\"font\":{\"color\":\"#2a3f5f\"},\"hovermode\":\"closest\",\"hoverlabel\":{\"align\":\"left\"},\"paper_bgcolor\":\"white\",\"plot_bgcolor\":\"#E5ECF6\",\"polar\":{\"bgcolor\":\"#E5ECF6\",\"angularaxis\":{\"gridcolor\":\"white\",\"linecolor\":\"white\",\"ticks\":\"\"},\"radialaxis\":{\"gridcolor\":\"white\",\"linecolor\":\"white\",\"ticks\":\"\"}},\"ternary\":{\"bgcolor\":\"#E5ECF6\",\"aaxis\":{\"gridcolor\":\"white\",\"linecolor\":\"white\",\"ticks\":\"\"},\"baxis\":{\"gridcolor\":\"white\",\"linecolor\":\"white\",\"ticks\":\"\"},\"caxis\":{\"gridcolor\":\"white\",\"linecolor\":\"white\",\"ticks\":\"\"}},\"coloraxis\":{\"colorbar\":{\"outlinewidth\":0,\"ticks\":\"\"}},\"colorscale\":{\"sequential\":[[0.0,\"#0d0887\"],[0.1111111111111111,\"#46039f\"],[0.2222222222222222,\"#7201a8\"],[0.3333333333333333,\"#9c179e\"],[0.4444444444444444,\"#bd3786\"],[0.5555555555555556,\"#d8576b\"],[0.6666666666666666,\"#ed7953\"],[0.7777777777777778,\"#fb9f3a\"],[0.8888888888888888,\"#fdca26\"],[1.0,\"#f0f921\"]],\"sequentialminus\":[[0.0,\"#0d0887\"],[0.1111111111111111,\"#46039f\"],[0.2222222222222222,\"#7201a8\"],[0.3333333333333333,\"#9c179e\"],[0.4444444444444444,\"#bd3786\"],[0.5555555555555556,\"#d8576b\"],[0.6666666666666666,\"#ed7953\"],[0.7777777777777778,\"#fb9f3a\"],[0.8888888888888888,\"#fdca26\"],[1.0,\"#f0f921\"]],\"diverging\":[[0,\"#8e0152\"],[0.1,\"#c51b7d\"],[0.2,\"#de77ae\"],[0.3,\"#f1b6da\"],[0.4,\"#fde0ef\"],[0.5,\"#f7f7f7\"],[0.6,\"#e6f5d0\"],[0.7,\"#b8e186\"],[0.8,\"#7fbc41\"],[0.9,\"#4d9221\"],[1,\"#276419\"]]},\"xaxis\":{\"gridcolor\":\"white\",\"linecolor\":\"white\",\"ticks\":\"\",\"title\":{\"standoff\":15},\"zerolinecolor\":\"white\",\"automargin\":true,\"zerolinewidth\":2},\"yaxis\":{\"gridcolor\":\"white\",\"linecolor\":\"white\",\"ticks\":\"\",\"title\":{\"standoff\":15},\"zerolinecolor\":\"white\",\"automargin\":true,\"zerolinewidth\":2},\"scene\":{\"xaxis\":{\"backgroundcolor\":\"#E5ECF6\",\"gridcolor\":\"white\",\"linecolor\":\"white\",\"showbackground\":true,\"ticks\":\"\",\"zerolinecolor\":\"white\",\"gridwidth\":2},\"yaxis\":{\"backgroundcolor\":\"#E5ECF6\",\"gridcolor\":\"white\",\"linecolor\":\"white\",\"showbackground\":true,\"ticks\":\"\",\"zerolinecolor\":\"white\",\"gridwidth\":2},\"zaxis\":{\"backgroundcolor\":\"#E5ECF6\",\"gridcolor\":\"white\",\"linecolor\":\"white\",\"showbackground\":true,\"ticks\":\"\",\"zerolinecolor\":\"white\",\"gridwidth\":2}},\"shapedefaults\":{\"line\":{\"color\":\"#2a3f5f\"}},\"annotationdefaults\":{\"arrowcolor\":\"#2a3f5f\",\"arrowhead\":0,\"arrowwidth\":1},\"geo\":{\"bgcolor\":\"white\",\"landcolor\":\"#E5ECF6\",\"subunitcolor\":\"white\",\"showland\":true,\"showlakes\":true,\"lakecolor\":\"white\"},\"title\":{\"x\":0.05},\"mapbox\":{\"style\":\"light\"}}},\"xaxis\":{\"anchor\":\"y\",\"domain\":[0.0,1.0],\"title\":{\"text\":\"iso_num\"}},\"yaxis\":{\"anchor\":\"x\",\"domain\":[0.0,1.0],\"title\":{\"text\":\"pop\"}},\"legend\":{\"title\":{\"text\":\"country\"},\"tracegroupgap\":0},\"margin\":{\"t\":60}},                        {\"responsive\": true}                    ).then(function(){\n",
       "                            \n",
       "var gd = document.getElementById('d2927f18-98ce-4d8c-af7d-55f908dfb71c');\n",
       "var x = new MutationObserver(function (mutations, observer) {{\n",
       "        var display = window.getComputedStyle(gd).display;\n",
       "        if (!display || display === 'none') {{\n",
       "            console.log([gd, 'removed!']);\n",
       "            Plotly.purge(gd);\n",
       "            observer.disconnect();\n",
       "        }}\n",
       "}});\n",
       "\n",
       "// Listen for the removal of the full notebook cells\n",
       "var notebookContainer = gd.closest('#notebook-container');\n",
       "if (notebookContainer) {{\n",
       "    x.observe(notebookContainer, {childList: true});\n",
       "}}\n",
       "\n",
       "// Listen for the clearing of the current output cell\n",
       "var outputEl = gd.closest('.output');\n",
       "if (outputEl) {{\n",
       "    x.observe(outputEl, {childList: true});\n",
       "}}\n",
       "\n",
       "                        })                };                });            </script>        </div>"
      ]
     },
     "metadata": {},
     "output_type": "display_data"
    }
   ],
   "source": [
    "\"\"\" Line Plots \"\"\"\n",
    "df = px.data.gapminder()\n",
    "\n",
    "fig = px.line(df3, x=\"iso_num\", y=\"pop\", color=\"country\")\n",
    "fig.show()"
   ]
  },
  {
   "cell_type": "code",
   "execution_count": 62,
   "metadata": {},
   "outputs": [
    {
     "data": {
      "application/vnd.plotly.v1+json": {
       "config": {
        "plotlyServerURL": "https://plotly.com"
       },
       "data": [
        {
         "alignmentgroup": "True",
         "hovertemplate": "continent=Africa<br>year=%{x}<br>pop=%{y}<extra></extra>",
         "legendgroup": "Africa",
         "marker": {
          "color": "#636efa",
          "pattern": {
           "shape": ""
          }
         },
         "name": "Africa",
         "offsetgroup": "Africa",
         "orientation": "v",
         "showlegend": true,
         "textposition": "auto",
         "type": "bar",
         "x": [
          1952,
          1957,
          1962,
          1967,
          1972,
          1977,
          1982,
          1987,
          1992,
          1997,
          2002,
          2007
         ],
         "xaxis": "x",
         "y": [
          237640501,
          264837738,
          296516865,
          335289489,
          379879541,
          433061021,
          499348587,
          574834110,
          659081517,
          743832984,
          833723916,
          929539692
         ],
         "yaxis": "y"
        },
        {
         "alignmentgroup": "True",
         "hovertemplate": "continent=Americas<br>year=%{x}<br>pop=%{y}<extra></extra>",
         "legendgroup": "Americas",
         "marker": {
          "color": "#EF553B",
          "pattern": {
           "shape": ""
          }
         },
         "name": "Americas",
         "offsetgroup": "Americas",
         "orientation": "v",
         "showlegend": true,
         "textposition": "auto",
         "type": "bar",
         "x": [
          1952,
          1957,
          1962,
          1967,
          1972,
          1977,
          1982,
          1987,
          1992,
          1997,
          2002,
          2007
         ],
         "xaxis": "x",
         "y": [
          345152446,
          386953916,
          433270254,
          480746623,
          529384210,
          578067699,
          630290920,
          682753971,
          739274104,
          796900410,
          849772762,
          898871184
         ],
         "yaxis": "y"
        },
        {
         "alignmentgroup": "True",
         "hovertemplate": "continent=Asia<br>year=%{x}<br>pop=%{y}<extra></extra>",
         "legendgroup": "Asia",
         "marker": {
          "color": "#00cc96",
          "pattern": {
           "shape": ""
          }
         },
         "name": "Asia",
         "offsetgroup": "Asia",
         "orientation": "v",
         "showlegend": true,
         "textposition": "auto",
         "type": "bar",
         "x": [
          1952,
          1957,
          1962,
          1967,
          1972,
          1977,
          1982,
          1987,
          1992,
          1997,
          2002,
          2007
         ],
         "xaxis": "x",
         "y": [
          1395357351,
          1562780599,
          1696357182,
          1905662900,
          2150972248,
          2384513556,
          2610135582,
          2871220762,
          3133292191,
          3383285500,
          3601802203,
          3811953827
         ],
         "yaxis": "y"
        },
        {
         "alignmentgroup": "True",
         "hovertemplate": "continent=Europe<br>year=%{x}<br>pop=%{y}<extra></extra>",
         "legendgroup": "Europe",
         "marker": {
          "color": "#ab63fa",
          "pattern": {
           "shape": ""
          }
         },
         "name": "Europe",
         "offsetgroup": "Europe",
         "orientation": "v",
         "showlegend": true,
         "textposition": "auto",
         "type": "bar",
         "x": [
          1952,
          1957,
          1962,
          1967,
          1972,
          1977,
          1982,
          1987,
          1992,
          1997,
          2002,
          2007
         ],
         "xaxis": "x",
         "y": [
          418120846,
          437890351,
          460355155,
          481178958,
          500635059,
          517164531,
          531266901,
          543094160,
          558142797,
          568944148,
          578223869,
          586098529
         ],
         "yaxis": "y"
        },
        {
         "alignmentgroup": "True",
         "hovertemplate": "continent=Oceania<br>year=%{x}<br>pop=%{y}<extra></extra>",
         "legendgroup": "Oceania",
         "marker": {
          "color": "#FFA15A",
          "pattern": {
           "shape": ""
          }
         },
         "name": "Oceania",
         "offsetgroup": "Oceania",
         "orientation": "v",
         "showlegend": true,
         "textposition": "auto",
         "type": "bar",
         "x": [
          1952,
          1957,
          1962,
          1967,
          1972,
          1977,
          1982,
          1987,
          1992,
          1997,
          2002,
          2007
         ],
         "xaxis": "x",
         "y": [
          10686006,
          11941976,
          13283518,
          14600414,
          16106100,
          17239000,
          18394850,
          19574415,
          20919651,
          22241430,
          23454829,
          24549947
         ],
         "yaxis": "y"
        }
       ],
       "layout": {
        "barmode": "relative",
        "legend": {
         "title": {
          "text": "continent"
         },
         "tracegroupgap": 0
        },
        "margin": {
         "t": 60
        },
        "template": {
         "data": {
          "bar": [
           {
            "error_x": {
             "color": "#2a3f5f"
            },
            "error_y": {
             "color": "#2a3f5f"
            },
            "marker": {
             "line": {
              "color": "#E5ECF6",
              "width": 0.5
             },
             "pattern": {
              "fillmode": "overlay",
              "size": 10,
              "solidity": 0.2
             }
            },
            "type": "bar"
           }
          ],
          "barpolar": [
           {
            "marker": {
             "line": {
              "color": "#E5ECF6",
              "width": 0.5
             },
             "pattern": {
              "fillmode": "overlay",
              "size": 10,
              "solidity": 0.2
             }
            },
            "type": "barpolar"
           }
          ],
          "carpet": [
           {
            "aaxis": {
             "endlinecolor": "#2a3f5f",
             "gridcolor": "white",
             "linecolor": "white",
             "minorgridcolor": "white",
             "startlinecolor": "#2a3f5f"
            },
            "baxis": {
             "endlinecolor": "#2a3f5f",
             "gridcolor": "white",
             "linecolor": "white",
             "minorgridcolor": "white",
             "startlinecolor": "#2a3f5f"
            },
            "type": "carpet"
           }
          ],
          "choropleth": [
           {
            "colorbar": {
             "outlinewidth": 0,
             "ticks": ""
            },
            "type": "choropleth"
           }
          ],
          "contour": [
           {
            "colorbar": {
             "outlinewidth": 0,
             "ticks": ""
            },
            "colorscale": [
             [
              0,
              "#0d0887"
             ],
             [
              0.1111111111111111,
              "#46039f"
             ],
             [
              0.2222222222222222,
              "#7201a8"
             ],
             [
              0.3333333333333333,
              "#9c179e"
             ],
             [
              0.4444444444444444,
              "#bd3786"
             ],
             [
              0.5555555555555556,
              "#d8576b"
             ],
             [
              0.6666666666666666,
              "#ed7953"
             ],
             [
              0.7777777777777778,
              "#fb9f3a"
             ],
             [
              0.8888888888888888,
              "#fdca26"
             ],
             [
              1,
              "#f0f921"
             ]
            ],
            "type": "contour"
           }
          ],
          "contourcarpet": [
           {
            "colorbar": {
             "outlinewidth": 0,
             "ticks": ""
            },
            "type": "contourcarpet"
           }
          ],
          "heatmap": [
           {
            "colorbar": {
             "outlinewidth": 0,
             "ticks": ""
            },
            "colorscale": [
             [
              0,
              "#0d0887"
             ],
             [
              0.1111111111111111,
              "#46039f"
             ],
             [
              0.2222222222222222,
              "#7201a8"
             ],
             [
              0.3333333333333333,
              "#9c179e"
             ],
             [
              0.4444444444444444,
              "#bd3786"
             ],
             [
              0.5555555555555556,
              "#d8576b"
             ],
             [
              0.6666666666666666,
              "#ed7953"
             ],
             [
              0.7777777777777778,
              "#fb9f3a"
             ],
             [
              0.8888888888888888,
              "#fdca26"
             ],
             [
              1,
              "#f0f921"
             ]
            ],
            "type": "heatmap"
           }
          ],
          "heatmapgl": [
           {
            "colorbar": {
             "outlinewidth": 0,
             "ticks": ""
            },
            "colorscale": [
             [
              0,
              "#0d0887"
             ],
             [
              0.1111111111111111,
              "#46039f"
             ],
             [
              0.2222222222222222,
              "#7201a8"
             ],
             [
              0.3333333333333333,
              "#9c179e"
             ],
             [
              0.4444444444444444,
              "#bd3786"
             ],
             [
              0.5555555555555556,
              "#d8576b"
             ],
             [
              0.6666666666666666,
              "#ed7953"
             ],
             [
              0.7777777777777778,
              "#fb9f3a"
             ],
             [
              0.8888888888888888,
              "#fdca26"
             ],
             [
              1,
              "#f0f921"
             ]
            ],
            "type": "heatmapgl"
           }
          ],
          "histogram": [
           {
            "marker": {
             "pattern": {
              "fillmode": "overlay",
              "size": 10,
              "solidity": 0.2
             }
            },
            "type": "histogram"
           }
          ],
          "histogram2d": [
           {
            "colorbar": {
             "outlinewidth": 0,
             "ticks": ""
            },
            "colorscale": [
             [
              0,
              "#0d0887"
             ],
             [
              0.1111111111111111,
              "#46039f"
             ],
             [
              0.2222222222222222,
              "#7201a8"
             ],
             [
              0.3333333333333333,
              "#9c179e"
             ],
             [
              0.4444444444444444,
              "#bd3786"
             ],
             [
              0.5555555555555556,
              "#d8576b"
             ],
             [
              0.6666666666666666,
              "#ed7953"
             ],
             [
              0.7777777777777778,
              "#fb9f3a"
             ],
             [
              0.8888888888888888,
              "#fdca26"
             ],
             [
              1,
              "#f0f921"
             ]
            ],
            "type": "histogram2d"
           }
          ],
          "histogram2dcontour": [
           {
            "colorbar": {
             "outlinewidth": 0,
             "ticks": ""
            },
            "colorscale": [
             [
              0,
              "#0d0887"
             ],
             [
              0.1111111111111111,
              "#46039f"
             ],
             [
              0.2222222222222222,
              "#7201a8"
             ],
             [
              0.3333333333333333,
              "#9c179e"
             ],
             [
              0.4444444444444444,
              "#bd3786"
             ],
             [
              0.5555555555555556,
              "#d8576b"
             ],
             [
              0.6666666666666666,
              "#ed7953"
             ],
             [
              0.7777777777777778,
              "#fb9f3a"
             ],
             [
              0.8888888888888888,
              "#fdca26"
             ],
             [
              1,
              "#f0f921"
             ]
            ],
            "type": "histogram2dcontour"
           }
          ],
          "mesh3d": [
           {
            "colorbar": {
             "outlinewidth": 0,
             "ticks": ""
            },
            "type": "mesh3d"
           }
          ],
          "parcoords": [
           {
            "line": {
             "colorbar": {
              "outlinewidth": 0,
              "ticks": ""
             }
            },
            "type": "parcoords"
           }
          ],
          "pie": [
           {
            "automargin": true,
            "type": "pie"
           }
          ],
          "scatter": [
           {
            "fillpattern": {
             "fillmode": "overlay",
             "size": 10,
             "solidity": 0.2
            },
            "type": "scatter"
           }
          ],
          "scatter3d": [
           {
            "line": {
             "colorbar": {
              "outlinewidth": 0,
              "ticks": ""
             }
            },
            "marker": {
             "colorbar": {
              "outlinewidth": 0,
              "ticks": ""
             }
            },
            "type": "scatter3d"
           }
          ],
          "scattercarpet": [
           {
            "marker": {
             "colorbar": {
              "outlinewidth": 0,
              "ticks": ""
             }
            },
            "type": "scattercarpet"
           }
          ],
          "scattergeo": [
           {
            "marker": {
             "colorbar": {
              "outlinewidth": 0,
              "ticks": ""
             }
            },
            "type": "scattergeo"
           }
          ],
          "scattergl": [
           {
            "marker": {
             "colorbar": {
              "outlinewidth": 0,
              "ticks": ""
             }
            },
            "type": "scattergl"
           }
          ],
          "scattermapbox": [
           {
            "marker": {
             "colorbar": {
              "outlinewidth": 0,
              "ticks": ""
             }
            },
            "type": "scattermapbox"
           }
          ],
          "scatterpolar": [
           {
            "marker": {
             "colorbar": {
              "outlinewidth": 0,
              "ticks": ""
             }
            },
            "type": "scatterpolar"
           }
          ],
          "scatterpolargl": [
           {
            "marker": {
             "colorbar": {
              "outlinewidth": 0,
              "ticks": ""
             }
            },
            "type": "scatterpolargl"
           }
          ],
          "scatterternary": [
           {
            "marker": {
             "colorbar": {
              "outlinewidth": 0,
              "ticks": ""
             }
            },
            "type": "scatterternary"
           }
          ],
          "surface": [
           {
            "colorbar": {
             "outlinewidth": 0,
             "ticks": ""
            },
            "colorscale": [
             [
              0,
              "#0d0887"
             ],
             [
              0.1111111111111111,
              "#46039f"
             ],
             [
              0.2222222222222222,
              "#7201a8"
             ],
             [
              0.3333333333333333,
              "#9c179e"
             ],
             [
              0.4444444444444444,
              "#bd3786"
             ],
             [
              0.5555555555555556,
              "#d8576b"
             ],
             [
              0.6666666666666666,
              "#ed7953"
             ],
             [
              0.7777777777777778,
              "#fb9f3a"
             ],
             [
              0.8888888888888888,
              "#fdca26"
             ],
             [
              1,
              "#f0f921"
             ]
            ],
            "type": "surface"
           }
          ],
          "table": [
           {
            "cells": {
             "fill": {
              "color": "#EBF0F8"
             },
             "line": {
              "color": "white"
             }
            },
            "header": {
             "fill": {
              "color": "#C8D4E3"
             },
             "line": {
              "color": "white"
             }
            },
            "type": "table"
           }
          ]
         },
         "layout": {
          "annotationdefaults": {
           "arrowcolor": "#2a3f5f",
           "arrowhead": 0,
           "arrowwidth": 1
          },
          "autotypenumbers": "strict",
          "coloraxis": {
           "colorbar": {
            "outlinewidth": 0,
            "ticks": ""
           }
          },
          "colorscale": {
           "diverging": [
            [
             0,
             "#8e0152"
            ],
            [
             0.1,
             "#c51b7d"
            ],
            [
             0.2,
             "#de77ae"
            ],
            [
             0.3,
             "#f1b6da"
            ],
            [
             0.4,
             "#fde0ef"
            ],
            [
             0.5,
             "#f7f7f7"
            ],
            [
             0.6,
             "#e6f5d0"
            ],
            [
             0.7,
             "#b8e186"
            ],
            [
             0.8,
             "#7fbc41"
            ],
            [
             0.9,
             "#4d9221"
            ],
            [
             1,
             "#276419"
            ]
           ],
           "sequential": [
            [
             0,
             "#0d0887"
            ],
            [
             0.1111111111111111,
             "#46039f"
            ],
            [
             0.2222222222222222,
             "#7201a8"
            ],
            [
             0.3333333333333333,
             "#9c179e"
            ],
            [
             0.4444444444444444,
             "#bd3786"
            ],
            [
             0.5555555555555556,
             "#d8576b"
            ],
            [
             0.6666666666666666,
             "#ed7953"
            ],
            [
             0.7777777777777778,
             "#fb9f3a"
            ],
            [
             0.8888888888888888,
             "#fdca26"
            ],
            [
             1,
             "#f0f921"
            ]
           ],
           "sequentialminus": [
            [
             0,
             "#0d0887"
            ],
            [
             0.1111111111111111,
             "#46039f"
            ],
            [
             0.2222222222222222,
             "#7201a8"
            ],
            [
             0.3333333333333333,
             "#9c179e"
            ],
            [
             0.4444444444444444,
             "#bd3786"
            ],
            [
             0.5555555555555556,
             "#d8576b"
            ],
            [
             0.6666666666666666,
             "#ed7953"
            ],
            [
             0.7777777777777778,
             "#fb9f3a"
            ],
            [
             0.8888888888888888,
             "#fdca26"
            ],
            [
             1,
             "#f0f921"
            ]
           ]
          },
          "colorway": [
           "#636efa",
           "#EF553B",
           "#00cc96",
           "#ab63fa",
           "#FFA15A",
           "#19d3f3",
           "#FF6692",
           "#B6E880",
           "#FF97FF",
           "#FECB52"
          ],
          "font": {
           "color": "#2a3f5f"
          },
          "geo": {
           "bgcolor": "white",
           "lakecolor": "white",
           "landcolor": "#E5ECF6",
           "showlakes": true,
           "showland": true,
           "subunitcolor": "white"
          },
          "hoverlabel": {
           "align": "left"
          },
          "hovermode": "closest",
          "mapbox": {
           "style": "light"
          },
          "paper_bgcolor": "white",
          "plot_bgcolor": "#E5ECF6",
          "polar": {
           "angularaxis": {
            "gridcolor": "white",
            "linecolor": "white",
            "ticks": ""
           },
           "bgcolor": "#E5ECF6",
           "radialaxis": {
            "gridcolor": "white",
            "linecolor": "white",
            "ticks": ""
           }
          },
          "scene": {
           "xaxis": {
            "backgroundcolor": "#E5ECF6",
            "gridcolor": "white",
            "gridwidth": 2,
            "linecolor": "white",
            "showbackground": true,
            "ticks": "",
            "zerolinecolor": "white"
           },
           "yaxis": {
            "backgroundcolor": "#E5ECF6",
            "gridcolor": "white",
            "gridwidth": 2,
            "linecolor": "white",
            "showbackground": true,
            "ticks": "",
            "zerolinecolor": "white"
           },
           "zaxis": {
            "backgroundcolor": "#E5ECF6",
            "gridcolor": "white",
            "gridwidth": 2,
            "linecolor": "white",
            "showbackground": true,
            "ticks": "",
            "zerolinecolor": "white"
           }
          },
          "shapedefaults": {
           "line": {
            "color": "#2a3f5f"
           }
          },
          "ternary": {
           "aaxis": {
            "gridcolor": "white",
            "linecolor": "white",
            "ticks": ""
           },
           "baxis": {
            "gridcolor": "white",
            "linecolor": "white",
            "ticks": ""
           },
           "bgcolor": "#E5ECF6",
           "caxis": {
            "gridcolor": "white",
            "linecolor": "white",
            "ticks": ""
           }
          },
          "title": {
           "x": 0.05
          },
          "xaxis": {
           "automargin": true,
           "gridcolor": "white",
           "linecolor": "white",
           "ticks": "",
           "title": {
            "standoff": 15
           },
           "zerolinecolor": "white",
           "zerolinewidth": 2
          },
          "yaxis": {
           "automargin": true,
           "gridcolor": "white",
           "linecolor": "white",
           "ticks": "",
           "title": {
            "standoff": 15
           },
           "zerolinecolor": "white",
           "zerolinewidth": 2
          }
         }
        },
        "xaxis": {
         "anchor": "y",
         "domain": [
          0,
          1
         ],
         "title": {
          "text": "year"
         }
        },
        "yaxis": {
         "anchor": "x",
         "domain": [
          0,
          1
         ],
         "title": {
          "text": "pop"
         }
        }
       }
      },
      "text/html": [
       "<div>                            <div id=\"4c4016cd-0df3-4220-a946-c1c41c75b734\" class=\"plotly-graph-div\" style=\"height:525px; width:100%;\"></div>            <script type=\"text/javascript\">                require([\"plotly\"], function(Plotly) {                    window.PLOTLYENV=window.PLOTLYENV || {};                                    if (document.getElementById(\"4c4016cd-0df3-4220-a946-c1c41c75b734\")) {                    Plotly.newPlot(                        \"4c4016cd-0df3-4220-a946-c1c41c75b734\",                        [{\"alignmentgroup\":\"True\",\"hovertemplate\":\"continent=Africa<br>year=%{x}<br>pop=%{y}<extra></extra>\",\"legendgroup\":\"Africa\",\"marker\":{\"color\":\"#636efa\",\"pattern\":{\"shape\":\"\"}},\"name\":\"Africa\",\"offsetgroup\":\"Africa\",\"orientation\":\"v\",\"showlegend\":true,\"textposition\":\"auto\",\"x\":[1952,1957,1962,1967,1972,1977,1982,1987,1992,1997,2002,2007],\"xaxis\":\"x\",\"y\":[237640501,264837738,296516865,335289489,379879541,433061021,499348587,574834110,659081517,743832984,833723916,929539692],\"yaxis\":\"y\",\"type\":\"bar\"},{\"alignmentgroup\":\"True\",\"hovertemplate\":\"continent=Americas<br>year=%{x}<br>pop=%{y}<extra></extra>\",\"legendgroup\":\"Americas\",\"marker\":{\"color\":\"#EF553B\",\"pattern\":{\"shape\":\"\"}},\"name\":\"Americas\",\"offsetgroup\":\"Americas\",\"orientation\":\"v\",\"showlegend\":true,\"textposition\":\"auto\",\"x\":[1952,1957,1962,1967,1972,1977,1982,1987,1992,1997,2002,2007],\"xaxis\":\"x\",\"y\":[345152446,386953916,433270254,480746623,529384210,578067699,630290920,682753971,739274104,796900410,849772762,898871184],\"yaxis\":\"y\",\"type\":\"bar\"},{\"alignmentgroup\":\"True\",\"hovertemplate\":\"continent=Asia<br>year=%{x}<br>pop=%{y}<extra></extra>\",\"legendgroup\":\"Asia\",\"marker\":{\"color\":\"#00cc96\",\"pattern\":{\"shape\":\"\"}},\"name\":\"Asia\",\"offsetgroup\":\"Asia\",\"orientation\":\"v\",\"showlegend\":true,\"textposition\":\"auto\",\"x\":[1952,1957,1962,1967,1972,1977,1982,1987,1992,1997,2002,2007],\"xaxis\":\"x\",\"y\":[1395357351,1562780599,1696357182,1905662900,2150972248,2384513556,2610135582,2871220762,3133292191,3383285500,3601802203,3811953827],\"yaxis\":\"y\",\"type\":\"bar\"},{\"alignmentgroup\":\"True\",\"hovertemplate\":\"continent=Europe<br>year=%{x}<br>pop=%{y}<extra></extra>\",\"legendgroup\":\"Europe\",\"marker\":{\"color\":\"#ab63fa\",\"pattern\":{\"shape\":\"\"}},\"name\":\"Europe\",\"offsetgroup\":\"Europe\",\"orientation\":\"v\",\"showlegend\":true,\"textposition\":\"auto\",\"x\":[1952,1957,1962,1967,1972,1977,1982,1987,1992,1997,2002,2007],\"xaxis\":\"x\",\"y\":[418120846,437890351,460355155,481178958,500635059,517164531,531266901,543094160,558142797,568944148,578223869,586098529],\"yaxis\":\"y\",\"type\":\"bar\"},{\"alignmentgroup\":\"True\",\"hovertemplate\":\"continent=Oceania<br>year=%{x}<br>pop=%{y}<extra></extra>\",\"legendgroup\":\"Oceania\",\"marker\":{\"color\":\"#FFA15A\",\"pattern\":{\"shape\":\"\"}},\"name\":\"Oceania\",\"offsetgroup\":\"Oceania\",\"orientation\":\"v\",\"showlegend\":true,\"textposition\":\"auto\",\"x\":[1952,1957,1962,1967,1972,1977,1982,1987,1992,1997,2002,2007],\"xaxis\":\"x\",\"y\":[10686006,11941976,13283518,14600414,16106100,17239000,18394850,19574415,20919651,22241430,23454829,24549947],\"yaxis\":\"y\",\"type\":\"bar\"}],                        {\"template\":{\"data\":{\"histogram2dcontour\":[{\"type\":\"histogram2dcontour\",\"colorbar\":{\"outlinewidth\":0,\"ticks\":\"\"},\"colorscale\":[[0.0,\"#0d0887\"],[0.1111111111111111,\"#46039f\"],[0.2222222222222222,\"#7201a8\"],[0.3333333333333333,\"#9c179e\"],[0.4444444444444444,\"#bd3786\"],[0.5555555555555556,\"#d8576b\"],[0.6666666666666666,\"#ed7953\"],[0.7777777777777778,\"#fb9f3a\"],[0.8888888888888888,\"#fdca26\"],[1.0,\"#f0f921\"]]}],\"choropleth\":[{\"type\":\"choropleth\",\"colorbar\":{\"outlinewidth\":0,\"ticks\":\"\"}}],\"histogram2d\":[{\"type\":\"histogram2d\",\"colorbar\":{\"outlinewidth\":0,\"ticks\":\"\"},\"colorscale\":[[0.0,\"#0d0887\"],[0.1111111111111111,\"#46039f\"],[0.2222222222222222,\"#7201a8\"],[0.3333333333333333,\"#9c179e\"],[0.4444444444444444,\"#bd3786\"],[0.5555555555555556,\"#d8576b\"],[0.6666666666666666,\"#ed7953\"],[0.7777777777777778,\"#fb9f3a\"],[0.8888888888888888,\"#fdca26\"],[1.0,\"#f0f921\"]]}],\"heatmap\":[{\"type\":\"heatmap\",\"colorbar\":{\"outlinewidth\":0,\"ticks\":\"\"},\"colorscale\":[[0.0,\"#0d0887\"],[0.1111111111111111,\"#46039f\"],[0.2222222222222222,\"#7201a8\"],[0.3333333333333333,\"#9c179e\"],[0.4444444444444444,\"#bd3786\"],[0.5555555555555556,\"#d8576b\"],[0.6666666666666666,\"#ed7953\"],[0.7777777777777778,\"#fb9f3a\"],[0.8888888888888888,\"#fdca26\"],[1.0,\"#f0f921\"]]}],\"heatmapgl\":[{\"type\":\"heatmapgl\",\"colorbar\":{\"outlinewidth\":0,\"ticks\":\"\"},\"colorscale\":[[0.0,\"#0d0887\"],[0.1111111111111111,\"#46039f\"],[0.2222222222222222,\"#7201a8\"],[0.3333333333333333,\"#9c179e\"],[0.4444444444444444,\"#bd3786\"],[0.5555555555555556,\"#d8576b\"],[0.6666666666666666,\"#ed7953\"],[0.7777777777777778,\"#fb9f3a\"],[0.8888888888888888,\"#fdca26\"],[1.0,\"#f0f921\"]]}],\"contourcarpet\":[{\"type\":\"contourcarpet\",\"colorbar\":{\"outlinewidth\":0,\"ticks\":\"\"}}],\"contour\":[{\"type\":\"contour\",\"colorbar\":{\"outlinewidth\":0,\"ticks\":\"\"},\"colorscale\":[[0.0,\"#0d0887\"],[0.1111111111111111,\"#46039f\"],[0.2222222222222222,\"#7201a8\"],[0.3333333333333333,\"#9c179e\"],[0.4444444444444444,\"#bd3786\"],[0.5555555555555556,\"#d8576b\"],[0.6666666666666666,\"#ed7953\"],[0.7777777777777778,\"#fb9f3a\"],[0.8888888888888888,\"#fdca26\"],[1.0,\"#f0f921\"]]}],\"surface\":[{\"type\":\"surface\",\"colorbar\":{\"outlinewidth\":0,\"ticks\":\"\"},\"colorscale\":[[0.0,\"#0d0887\"],[0.1111111111111111,\"#46039f\"],[0.2222222222222222,\"#7201a8\"],[0.3333333333333333,\"#9c179e\"],[0.4444444444444444,\"#bd3786\"],[0.5555555555555556,\"#d8576b\"],[0.6666666666666666,\"#ed7953\"],[0.7777777777777778,\"#fb9f3a\"],[0.8888888888888888,\"#fdca26\"],[1.0,\"#f0f921\"]]}],\"mesh3d\":[{\"type\":\"mesh3d\",\"colorbar\":{\"outlinewidth\":0,\"ticks\":\"\"}}],\"scatter\":[{\"fillpattern\":{\"fillmode\":\"overlay\",\"size\":10,\"solidity\":0.2},\"type\":\"scatter\"}],\"parcoords\":[{\"type\":\"parcoords\",\"line\":{\"colorbar\":{\"outlinewidth\":0,\"ticks\":\"\"}}}],\"scatterpolargl\":[{\"type\":\"scatterpolargl\",\"marker\":{\"colorbar\":{\"outlinewidth\":0,\"ticks\":\"\"}}}],\"bar\":[{\"error_x\":{\"color\":\"#2a3f5f\"},\"error_y\":{\"color\":\"#2a3f5f\"},\"marker\":{\"line\":{\"color\":\"#E5ECF6\",\"width\":0.5},\"pattern\":{\"fillmode\":\"overlay\",\"size\":10,\"solidity\":0.2}},\"type\":\"bar\"}],\"scattergeo\":[{\"type\":\"scattergeo\",\"marker\":{\"colorbar\":{\"outlinewidth\":0,\"ticks\":\"\"}}}],\"scatterpolar\":[{\"type\":\"scatterpolar\",\"marker\":{\"colorbar\":{\"outlinewidth\":0,\"ticks\":\"\"}}}],\"histogram\":[{\"marker\":{\"pattern\":{\"fillmode\":\"overlay\",\"size\":10,\"solidity\":0.2}},\"type\":\"histogram\"}],\"scattergl\":[{\"type\":\"scattergl\",\"marker\":{\"colorbar\":{\"outlinewidth\":0,\"ticks\":\"\"}}}],\"scatter3d\":[{\"type\":\"scatter3d\",\"line\":{\"colorbar\":{\"outlinewidth\":0,\"ticks\":\"\"}},\"marker\":{\"colorbar\":{\"outlinewidth\":0,\"ticks\":\"\"}}}],\"scattermapbox\":[{\"type\":\"scattermapbox\",\"marker\":{\"colorbar\":{\"outlinewidth\":0,\"ticks\":\"\"}}}],\"scatterternary\":[{\"type\":\"scatterternary\",\"marker\":{\"colorbar\":{\"outlinewidth\":0,\"ticks\":\"\"}}}],\"scattercarpet\":[{\"type\":\"scattercarpet\",\"marker\":{\"colorbar\":{\"outlinewidth\":0,\"ticks\":\"\"}}}],\"carpet\":[{\"aaxis\":{\"endlinecolor\":\"#2a3f5f\",\"gridcolor\":\"white\",\"linecolor\":\"white\",\"minorgridcolor\":\"white\",\"startlinecolor\":\"#2a3f5f\"},\"baxis\":{\"endlinecolor\":\"#2a3f5f\",\"gridcolor\":\"white\",\"linecolor\":\"white\",\"minorgridcolor\":\"white\",\"startlinecolor\":\"#2a3f5f\"},\"type\":\"carpet\"}],\"table\":[{\"cells\":{\"fill\":{\"color\":\"#EBF0F8\"},\"line\":{\"color\":\"white\"}},\"header\":{\"fill\":{\"color\":\"#C8D4E3\"},\"line\":{\"color\":\"white\"}},\"type\":\"table\"}],\"barpolar\":[{\"marker\":{\"line\":{\"color\":\"#E5ECF6\",\"width\":0.5},\"pattern\":{\"fillmode\":\"overlay\",\"size\":10,\"solidity\":0.2}},\"type\":\"barpolar\"}],\"pie\":[{\"automargin\":true,\"type\":\"pie\"}]},\"layout\":{\"autotypenumbers\":\"strict\",\"colorway\":[\"#636efa\",\"#EF553B\",\"#00cc96\",\"#ab63fa\",\"#FFA15A\",\"#19d3f3\",\"#FF6692\",\"#B6E880\",\"#FF97FF\",\"#FECB52\"],\"font\":{\"color\":\"#2a3f5f\"},\"hovermode\":\"closest\",\"hoverlabel\":{\"align\":\"left\"},\"paper_bgcolor\":\"white\",\"plot_bgcolor\":\"#E5ECF6\",\"polar\":{\"bgcolor\":\"#E5ECF6\",\"angularaxis\":{\"gridcolor\":\"white\",\"linecolor\":\"white\",\"ticks\":\"\"},\"radialaxis\":{\"gridcolor\":\"white\",\"linecolor\":\"white\",\"ticks\":\"\"}},\"ternary\":{\"bgcolor\":\"#E5ECF6\",\"aaxis\":{\"gridcolor\":\"white\",\"linecolor\":\"white\",\"ticks\":\"\"},\"baxis\":{\"gridcolor\":\"white\",\"linecolor\":\"white\",\"ticks\":\"\"},\"caxis\":{\"gridcolor\":\"white\",\"linecolor\":\"white\",\"ticks\":\"\"}},\"coloraxis\":{\"colorbar\":{\"outlinewidth\":0,\"ticks\":\"\"}},\"colorscale\":{\"sequential\":[[0.0,\"#0d0887\"],[0.1111111111111111,\"#46039f\"],[0.2222222222222222,\"#7201a8\"],[0.3333333333333333,\"#9c179e\"],[0.4444444444444444,\"#bd3786\"],[0.5555555555555556,\"#d8576b\"],[0.6666666666666666,\"#ed7953\"],[0.7777777777777778,\"#fb9f3a\"],[0.8888888888888888,\"#fdca26\"],[1.0,\"#f0f921\"]],\"sequentialminus\":[[0.0,\"#0d0887\"],[0.1111111111111111,\"#46039f\"],[0.2222222222222222,\"#7201a8\"],[0.3333333333333333,\"#9c179e\"],[0.4444444444444444,\"#bd3786\"],[0.5555555555555556,\"#d8576b\"],[0.6666666666666666,\"#ed7953\"],[0.7777777777777778,\"#fb9f3a\"],[0.8888888888888888,\"#fdca26\"],[1.0,\"#f0f921\"]],\"diverging\":[[0,\"#8e0152\"],[0.1,\"#c51b7d\"],[0.2,\"#de77ae\"],[0.3,\"#f1b6da\"],[0.4,\"#fde0ef\"],[0.5,\"#f7f7f7\"],[0.6,\"#e6f5d0\"],[0.7,\"#b8e186\"],[0.8,\"#7fbc41\"],[0.9,\"#4d9221\"],[1,\"#276419\"]]},\"xaxis\":{\"gridcolor\":\"white\",\"linecolor\":\"white\",\"ticks\":\"\",\"title\":{\"standoff\":15},\"zerolinecolor\":\"white\",\"automargin\":true,\"zerolinewidth\":2},\"yaxis\":{\"gridcolor\":\"white\",\"linecolor\":\"white\",\"ticks\":\"\",\"title\":{\"standoff\":15},\"zerolinecolor\":\"white\",\"automargin\":true,\"zerolinewidth\":2},\"scene\":{\"xaxis\":{\"backgroundcolor\":\"#E5ECF6\",\"gridcolor\":\"white\",\"linecolor\":\"white\",\"showbackground\":true,\"ticks\":\"\",\"zerolinecolor\":\"white\",\"gridwidth\":2},\"yaxis\":{\"backgroundcolor\":\"#E5ECF6\",\"gridcolor\":\"white\",\"linecolor\":\"white\",\"showbackground\":true,\"ticks\":\"\",\"zerolinecolor\":\"white\",\"gridwidth\":2},\"zaxis\":{\"backgroundcolor\":\"#E5ECF6\",\"gridcolor\":\"white\",\"linecolor\":\"white\",\"showbackground\":true,\"ticks\":\"\",\"zerolinecolor\":\"white\",\"gridwidth\":2}},\"shapedefaults\":{\"line\":{\"color\":\"#2a3f5f\"}},\"annotationdefaults\":{\"arrowcolor\":\"#2a3f5f\",\"arrowhead\":0,\"arrowwidth\":1},\"geo\":{\"bgcolor\":\"white\",\"landcolor\":\"#E5ECF6\",\"subunitcolor\":\"white\",\"showland\":true,\"showlakes\":true,\"lakecolor\":\"white\"},\"title\":{\"x\":0.05},\"mapbox\":{\"style\":\"light\"}}},\"xaxis\":{\"anchor\":\"y\",\"domain\":[0.0,1.0],\"title\":{\"text\":\"year\"}},\"yaxis\":{\"anchor\":\"x\",\"domain\":[0.0,1.0],\"title\":{\"text\":\"pop\"}},\"legend\":{\"title\":{\"text\":\"continent\"},\"tracegroupgap\":0},\"margin\":{\"t\":60},\"barmode\":\"relative\"},                        {\"responsive\": true}                    ).then(function(){\n",
       "                            \n",
       "var gd = document.getElementById('4c4016cd-0df3-4220-a946-c1c41c75b734');\n",
       "var x = new MutationObserver(function (mutations, observer) {{\n",
       "        var display = window.getComputedStyle(gd).display;\n",
       "        if (!display || display === 'none') {{\n",
       "            console.log([gd, 'removed!']);\n",
       "            Plotly.purge(gd);\n",
       "            observer.disconnect();\n",
       "        }}\n",
       "}});\n",
       "\n",
       "// Listen for the removal of the full notebook cells\n",
       "var notebookContainer = gd.closest('#notebook-container');\n",
       "if (notebookContainer) {{\n",
       "    x.observe(notebookContainer, {childList: true});\n",
       "}}\n",
       "\n",
       "// Listen for the clearing of the current output cell\n",
       "var outputEl = gd.closest('.output');\n",
       "if (outputEl) {{\n",
       "    x.observe(outputEl, {childList: true});\n",
       "}}\n",
       "\n",
       "                        })                };                });            </script>        </div>"
      ]
     },
     "metadata": {},
     "output_type": "display_data"
    }
   ],
   "source": [
    "\"\"\" Bars \"\"\"\n",
    "df = px.data.gapminder().groupby(['year','continent'])['pop'].sum().reset_index()\n",
    "fig = px.bar(df, x=\"year\", y=\"pop\", color=\"continent\")\n",
    "fig.show()"
   ]
  },
  {
   "cell_type": "code",
   "execution_count": 63,
   "metadata": {},
   "outputs": [
    {
     "data": {
      "application/vnd.plotly.v1+json": {
       "config": {
        "plotlyServerURL": "https://plotly.com"
       },
       "data": [
        {
         "alignmentgroup": "True",
         "bingroup": "x",
         "hovertemplate": "petal_length=%{x}<br>count=%{y}<extra></extra>",
         "legendgroup": "",
         "marker": {
          "color": "#636efa",
          "pattern": {
           "shape": ""
          }
         },
         "name": "",
         "offsetgroup": "",
         "orientation": "v",
         "showlegend": false,
         "type": "histogram",
         "x": [
          1.4,
          1.4,
          1.3,
          1.5,
          1.4,
          1.7,
          1.4,
          1.5,
          1.4,
          1.5,
          1.5,
          1.6,
          1.4,
          1.1,
          1.2,
          1.5,
          1.3,
          1.4,
          1.7,
          1.5,
          1.7,
          1.5,
          1,
          1.7,
          1.9,
          1.6,
          1.6,
          1.5,
          1.4,
          1.6,
          1.6,
          1.5,
          1.5,
          1.4,
          1.5,
          1.2,
          1.3,
          1.5,
          1.3,
          1.5,
          1.3,
          1.3,
          1.3,
          1.6,
          1.9,
          1.4,
          1.6,
          1.4,
          1.5,
          1.4,
          4.7,
          4.5,
          4.9,
          4,
          4.6,
          4.5,
          4.7,
          3.3,
          4.6,
          3.9,
          3.5,
          4.2,
          4,
          4.7,
          3.6,
          4.4,
          4.5,
          4.1,
          4.5,
          3.9,
          4.8,
          4,
          4.9,
          4.7,
          4.3,
          4.4,
          4.8,
          5,
          4.5,
          3.5,
          3.8,
          3.7,
          3.9,
          5.1,
          4.5,
          4.5,
          4.7,
          4.4,
          4.1,
          4,
          4.4,
          4.6,
          4,
          3.3,
          4.2,
          4.2,
          4.2,
          4.3,
          3,
          4.1,
          6,
          5.1,
          5.9,
          5.6,
          5.8,
          6.6,
          4.5,
          6.3,
          5.8,
          6.1,
          5.1,
          5.3,
          5.5,
          5,
          5.1,
          5.3,
          5.5,
          6.7,
          6.9,
          5,
          5.7,
          4.9,
          6.7,
          4.9,
          5.7,
          6,
          4.8,
          4.9,
          5.6,
          5.8,
          6.1,
          6.4,
          5.6,
          5.1,
          5.6,
          6.1,
          5.6,
          5.5,
          4.8,
          5.4,
          5.6,
          5.1,
          5.1,
          5.9,
          5.7,
          5.2,
          5,
          5.2,
          5.4,
          5.1
         ],
         "xaxis": "x",
         "yaxis": "y"
        }
       ],
       "layout": {
        "barmode": "relative",
        "legend": {
         "tracegroupgap": 0
        },
        "margin": {
         "t": 60
        },
        "template": {
         "data": {
          "bar": [
           {
            "error_x": {
             "color": "#2a3f5f"
            },
            "error_y": {
             "color": "#2a3f5f"
            },
            "marker": {
             "line": {
              "color": "#E5ECF6",
              "width": 0.5
             },
             "pattern": {
              "fillmode": "overlay",
              "size": 10,
              "solidity": 0.2
             }
            },
            "type": "bar"
           }
          ],
          "barpolar": [
           {
            "marker": {
             "line": {
              "color": "#E5ECF6",
              "width": 0.5
             },
             "pattern": {
              "fillmode": "overlay",
              "size": 10,
              "solidity": 0.2
             }
            },
            "type": "barpolar"
           }
          ],
          "carpet": [
           {
            "aaxis": {
             "endlinecolor": "#2a3f5f",
             "gridcolor": "white",
             "linecolor": "white",
             "minorgridcolor": "white",
             "startlinecolor": "#2a3f5f"
            },
            "baxis": {
             "endlinecolor": "#2a3f5f",
             "gridcolor": "white",
             "linecolor": "white",
             "minorgridcolor": "white",
             "startlinecolor": "#2a3f5f"
            },
            "type": "carpet"
           }
          ],
          "choropleth": [
           {
            "colorbar": {
             "outlinewidth": 0,
             "ticks": ""
            },
            "type": "choropleth"
           }
          ],
          "contour": [
           {
            "colorbar": {
             "outlinewidth": 0,
             "ticks": ""
            },
            "colorscale": [
             [
              0,
              "#0d0887"
             ],
             [
              0.1111111111111111,
              "#46039f"
             ],
             [
              0.2222222222222222,
              "#7201a8"
             ],
             [
              0.3333333333333333,
              "#9c179e"
             ],
             [
              0.4444444444444444,
              "#bd3786"
             ],
             [
              0.5555555555555556,
              "#d8576b"
             ],
             [
              0.6666666666666666,
              "#ed7953"
             ],
             [
              0.7777777777777778,
              "#fb9f3a"
             ],
             [
              0.8888888888888888,
              "#fdca26"
             ],
             [
              1,
              "#f0f921"
             ]
            ],
            "type": "contour"
           }
          ],
          "contourcarpet": [
           {
            "colorbar": {
             "outlinewidth": 0,
             "ticks": ""
            },
            "type": "contourcarpet"
           }
          ],
          "heatmap": [
           {
            "colorbar": {
             "outlinewidth": 0,
             "ticks": ""
            },
            "colorscale": [
             [
              0,
              "#0d0887"
             ],
             [
              0.1111111111111111,
              "#46039f"
             ],
             [
              0.2222222222222222,
              "#7201a8"
             ],
             [
              0.3333333333333333,
              "#9c179e"
             ],
             [
              0.4444444444444444,
              "#bd3786"
             ],
             [
              0.5555555555555556,
              "#d8576b"
             ],
             [
              0.6666666666666666,
              "#ed7953"
             ],
             [
              0.7777777777777778,
              "#fb9f3a"
             ],
             [
              0.8888888888888888,
              "#fdca26"
             ],
             [
              1,
              "#f0f921"
             ]
            ],
            "type": "heatmap"
           }
          ],
          "heatmapgl": [
           {
            "colorbar": {
             "outlinewidth": 0,
             "ticks": ""
            },
            "colorscale": [
             [
              0,
              "#0d0887"
             ],
             [
              0.1111111111111111,
              "#46039f"
             ],
             [
              0.2222222222222222,
              "#7201a8"
             ],
             [
              0.3333333333333333,
              "#9c179e"
             ],
             [
              0.4444444444444444,
              "#bd3786"
             ],
             [
              0.5555555555555556,
              "#d8576b"
             ],
             [
              0.6666666666666666,
              "#ed7953"
             ],
             [
              0.7777777777777778,
              "#fb9f3a"
             ],
             [
              0.8888888888888888,
              "#fdca26"
             ],
             [
              1,
              "#f0f921"
             ]
            ],
            "type": "heatmapgl"
           }
          ],
          "histogram": [
           {
            "marker": {
             "pattern": {
              "fillmode": "overlay",
              "size": 10,
              "solidity": 0.2
             }
            },
            "type": "histogram"
           }
          ],
          "histogram2d": [
           {
            "colorbar": {
             "outlinewidth": 0,
             "ticks": ""
            },
            "colorscale": [
             [
              0,
              "#0d0887"
             ],
             [
              0.1111111111111111,
              "#46039f"
             ],
             [
              0.2222222222222222,
              "#7201a8"
             ],
             [
              0.3333333333333333,
              "#9c179e"
             ],
             [
              0.4444444444444444,
              "#bd3786"
             ],
             [
              0.5555555555555556,
              "#d8576b"
             ],
             [
              0.6666666666666666,
              "#ed7953"
             ],
             [
              0.7777777777777778,
              "#fb9f3a"
             ],
             [
              0.8888888888888888,
              "#fdca26"
             ],
             [
              1,
              "#f0f921"
             ]
            ],
            "type": "histogram2d"
           }
          ],
          "histogram2dcontour": [
           {
            "colorbar": {
             "outlinewidth": 0,
             "ticks": ""
            },
            "colorscale": [
             [
              0,
              "#0d0887"
             ],
             [
              0.1111111111111111,
              "#46039f"
             ],
             [
              0.2222222222222222,
              "#7201a8"
             ],
             [
              0.3333333333333333,
              "#9c179e"
             ],
             [
              0.4444444444444444,
              "#bd3786"
             ],
             [
              0.5555555555555556,
              "#d8576b"
             ],
             [
              0.6666666666666666,
              "#ed7953"
             ],
             [
              0.7777777777777778,
              "#fb9f3a"
             ],
             [
              0.8888888888888888,
              "#fdca26"
             ],
             [
              1,
              "#f0f921"
             ]
            ],
            "type": "histogram2dcontour"
           }
          ],
          "mesh3d": [
           {
            "colorbar": {
             "outlinewidth": 0,
             "ticks": ""
            },
            "type": "mesh3d"
           }
          ],
          "parcoords": [
           {
            "line": {
             "colorbar": {
              "outlinewidth": 0,
              "ticks": ""
             }
            },
            "type": "parcoords"
           }
          ],
          "pie": [
           {
            "automargin": true,
            "type": "pie"
           }
          ],
          "scatter": [
           {
            "fillpattern": {
             "fillmode": "overlay",
             "size": 10,
             "solidity": 0.2
            },
            "type": "scatter"
           }
          ],
          "scatter3d": [
           {
            "line": {
             "colorbar": {
              "outlinewidth": 0,
              "ticks": ""
             }
            },
            "marker": {
             "colorbar": {
              "outlinewidth": 0,
              "ticks": ""
             }
            },
            "type": "scatter3d"
           }
          ],
          "scattercarpet": [
           {
            "marker": {
             "colorbar": {
              "outlinewidth": 0,
              "ticks": ""
             }
            },
            "type": "scattercarpet"
           }
          ],
          "scattergeo": [
           {
            "marker": {
             "colorbar": {
              "outlinewidth": 0,
              "ticks": ""
             }
            },
            "type": "scattergeo"
           }
          ],
          "scattergl": [
           {
            "marker": {
             "colorbar": {
              "outlinewidth": 0,
              "ticks": ""
             }
            },
            "type": "scattergl"
           }
          ],
          "scattermapbox": [
           {
            "marker": {
             "colorbar": {
              "outlinewidth": 0,
              "ticks": ""
             }
            },
            "type": "scattermapbox"
           }
          ],
          "scatterpolar": [
           {
            "marker": {
             "colorbar": {
              "outlinewidth": 0,
              "ticks": ""
             }
            },
            "type": "scatterpolar"
           }
          ],
          "scatterpolargl": [
           {
            "marker": {
             "colorbar": {
              "outlinewidth": 0,
              "ticks": ""
             }
            },
            "type": "scatterpolargl"
           }
          ],
          "scatterternary": [
           {
            "marker": {
             "colorbar": {
              "outlinewidth": 0,
              "ticks": ""
             }
            },
            "type": "scatterternary"
           }
          ],
          "surface": [
           {
            "colorbar": {
             "outlinewidth": 0,
             "ticks": ""
            },
            "colorscale": [
             [
              0,
              "#0d0887"
             ],
             [
              0.1111111111111111,
              "#46039f"
             ],
             [
              0.2222222222222222,
              "#7201a8"
             ],
             [
              0.3333333333333333,
              "#9c179e"
             ],
             [
              0.4444444444444444,
              "#bd3786"
             ],
             [
              0.5555555555555556,
              "#d8576b"
             ],
             [
              0.6666666666666666,
              "#ed7953"
             ],
             [
              0.7777777777777778,
              "#fb9f3a"
             ],
             [
              0.8888888888888888,
              "#fdca26"
             ],
             [
              1,
              "#f0f921"
             ]
            ],
            "type": "surface"
           }
          ],
          "table": [
           {
            "cells": {
             "fill": {
              "color": "#EBF0F8"
             },
             "line": {
              "color": "white"
             }
            },
            "header": {
             "fill": {
              "color": "#C8D4E3"
             },
             "line": {
              "color": "white"
             }
            },
            "type": "table"
           }
          ]
         },
         "layout": {
          "annotationdefaults": {
           "arrowcolor": "#2a3f5f",
           "arrowhead": 0,
           "arrowwidth": 1
          },
          "autotypenumbers": "strict",
          "coloraxis": {
           "colorbar": {
            "outlinewidth": 0,
            "ticks": ""
           }
          },
          "colorscale": {
           "diverging": [
            [
             0,
             "#8e0152"
            ],
            [
             0.1,
             "#c51b7d"
            ],
            [
             0.2,
             "#de77ae"
            ],
            [
             0.3,
             "#f1b6da"
            ],
            [
             0.4,
             "#fde0ef"
            ],
            [
             0.5,
             "#f7f7f7"
            ],
            [
             0.6,
             "#e6f5d0"
            ],
            [
             0.7,
             "#b8e186"
            ],
            [
             0.8,
             "#7fbc41"
            ],
            [
             0.9,
             "#4d9221"
            ],
            [
             1,
             "#276419"
            ]
           ],
           "sequential": [
            [
             0,
             "#0d0887"
            ],
            [
             0.1111111111111111,
             "#46039f"
            ],
            [
             0.2222222222222222,
             "#7201a8"
            ],
            [
             0.3333333333333333,
             "#9c179e"
            ],
            [
             0.4444444444444444,
             "#bd3786"
            ],
            [
             0.5555555555555556,
             "#d8576b"
            ],
            [
             0.6666666666666666,
             "#ed7953"
            ],
            [
             0.7777777777777778,
             "#fb9f3a"
            ],
            [
             0.8888888888888888,
             "#fdca26"
            ],
            [
             1,
             "#f0f921"
            ]
           ],
           "sequentialminus": [
            [
             0,
             "#0d0887"
            ],
            [
             0.1111111111111111,
             "#46039f"
            ],
            [
             0.2222222222222222,
             "#7201a8"
            ],
            [
             0.3333333333333333,
             "#9c179e"
            ],
            [
             0.4444444444444444,
             "#bd3786"
            ],
            [
             0.5555555555555556,
             "#d8576b"
            ],
            [
             0.6666666666666666,
             "#ed7953"
            ],
            [
             0.7777777777777778,
             "#fb9f3a"
            ],
            [
             0.8888888888888888,
             "#fdca26"
            ],
            [
             1,
             "#f0f921"
            ]
           ]
          },
          "colorway": [
           "#636efa",
           "#EF553B",
           "#00cc96",
           "#ab63fa",
           "#FFA15A",
           "#19d3f3",
           "#FF6692",
           "#B6E880",
           "#FF97FF",
           "#FECB52"
          ],
          "font": {
           "color": "#2a3f5f"
          },
          "geo": {
           "bgcolor": "white",
           "lakecolor": "white",
           "landcolor": "#E5ECF6",
           "showlakes": true,
           "showland": true,
           "subunitcolor": "white"
          },
          "hoverlabel": {
           "align": "left"
          },
          "hovermode": "closest",
          "mapbox": {
           "style": "light"
          },
          "paper_bgcolor": "white",
          "plot_bgcolor": "#E5ECF6",
          "polar": {
           "angularaxis": {
            "gridcolor": "white",
            "linecolor": "white",
            "ticks": ""
           },
           "bgcolor": "#E5ECF6",
           "radialaxis": {
            "gridcolor": "white",
            "linecolor": "white",
            "ticks": ""
           }
          },
          "scene": {
           "xaxis": {
            "backgroundcolor": "#E5ECF6",
            "gridcolor": "white",
            "gridwidth": 2,
            "linecolor": "white",
            "showbackground": true,
            "ticks": "",
            "zerolinecolor": "white"
           },
           "yaxis": {
            "backgroundcolor": "#E5ECF6",
            "gridcolor": "white",
            "gridwidth": 2,
            "linecolor": "white",
            "showbackground": true,
            "ticks": "",
            "zerolinecolor": "white"
           },
           "zaxis": {
            "backgroundcolor": "#E5ECF6",
            "gridcolor": "white",
            "gridwidth": 2,
            "linecolor": "white",
            "showbackground": true,
            "ticks": "",
            "zerolinecolor": "white"
           }
          },
          "shapedefaults": {
           "line": {
            "color": "#2a3f5f"
           }
          },
          "ternary": {
           "aaxis": {
            "gridcolor": "white",
            "linecolor": "white",
            "ticks": ""
           },
           "baxis": {
            "gridcolor": "white",
            "linecolor": "white",
            "ticks": ""
           },
           "bgcolor": "#E5ECF6",
           "caxis": {
            "gridcolor": "white",
            "linecolor": "white",
            "ticks": ""
           }
          },
          "title": {
           "x": 0.05
          },
          "xaxis": {
           "automargin": true,
           "gridcolor": "white",
           "linecolor": "white",
           "ticks": "",
           "title": {
            "standoff": 15
           },
           "zerolinecolor": "white",
           "zerolinewidth": 2
          },
          "yaxis": {
           "automargin": true,
           "gridcolor": "white",
           "linecolor": "white",
           "ticks": "",
           "title": {
            "standoff": 15
           },
           "zerolinecolor": "white",
           "zerolinewidth": 2
          }
         }
        },
        "xaxis": {
         "anchor": "y",
         "domain": [
          0,
          1
         ],
         "title": {
          "text": "petal_length"
         }
        },
        "yaxis": {
         "anchor": "x",
         "domain": [
          0,
          1
         ],
         "title": {
          "text": "count"
         }
        }
       }
      },
      "text/html": [
       "<div>                            <div id=\"af0faf5c-0346-4e2b-9129-69494808482b\" class=\"plotly-graph-div\" style=\"height:525px; width:100%;\"></div>            <script type=\"text/javascript\">                require([\"plotly\"], function(Plotly) {                    window.PLOTLYENV=window.PLOTLYENV || {};                                    if (document.getElementById(\"af0faf5c-0346-4e2b-9129-69494808482b\")) {                    Plotly.newPlot(                        \"af0faf5c-0346-4e2b-9129-69494808482b\",                        [{\"alignmentgroup\":\"True\",\"bingroup\":\"x\",\"hovertemplate\":\"petal_length=%{x}<br>count=%{y}<extra></extra>\",\"legendgroup\":\"\",\"marker\":{\"color\":\"#636efa\",\"pattern\":{\"shape\":\"\"}},\"name\":\"\",\"offsetgroup\":\"\",\"orientation\":\"v\",\"showlegend\":false,\"x\":[1.4,1.4,1.3,1.5,1.4,1.7,1.4,1.5,1.4,1.5,1.5,1.6,1.4,1.1,1.2,1.5,1.3,1.4,1.7,1.5,1.7,1.5,1.0,1.7,1.9,1.6,1.6,1.5,1.4,1.6,1.6,1.5,1.5,1.4,1.5,1.2,1.3,1.5,1.3,1.5,1.3,1.3,1.3,1.6,1.9,1.4,1.6,1.4,1.5,1.4,4.7,4.5,4.9,4.0,4.6,4.5,4.7,3.3,4.6,3.9,3.5,4.2,4.0,4.7,3.6,4.4,4.5,4.1,4.5,3.9,4.8,4.0,4.9,4.7,4.3,4.4,4.8,5.0,4.5,3.5,3.8,3.7,3.9,5.1,4.5,4.5,4.7,4.4,4.1,4.0,4.4,4.6,4.0,3.3,4.2,4.2,4.2,4.3,3.0,4.1,6.0,5.1,5.9,5.6,5.8,6.6,4.5,6.3,5.8,6.1,5.1,5.3,5.5,5.0,5.1,5.3,5.5,6.7,6.9,5.0,5.7,4.9,6.7,4.9,5.7,6.0,4.8,4.9,5.6,5.8,6.1,6.4,5.6,5.1,5.6,6.1,5.6,5.5,4.8,5.4,5.6,5.1,5.1,5.9,5.7,5.2,5.0,5.2,5.4,5.1],\"xaxis\":\"x\",\"yaxis\":\"y\",\"type\":\"histogram\"}],                        {\"template\":{\"data\":{\"histogram2dcontour\":[{\"type\":\"histogram2dcontour\",\"colorbar\":{\"outlinewidth\":0,\"ticks\":\"\"},\"colorscale\":[[0.0,\"#0d0887\"],[0.1111111111111111,\"#46039f\"],[0.2222222222222222,\"#7201a8\"],[0.3333333333333333,\"#9c179e\"],[0.4444444444444444,\"#bd3786\"],[0.5555555555555556,\"#d8576b\"],[0.6666666666666666,\"#ed7953\"],[0.7777777777777778,\"#fb9f3a\"],[0.8888888888888888,\"#fdca26\"],[1.0,\"#f0f921\"]]}],\"choropleth\":[{\"type\":\"choropleth\",\"colorbar\":{\"outlinewidth\":0,\"ticks\":\"\"}}],\"histogram2d\":[{\"type\":\"histogram2d\",\"colorbar\":{\"outlinewidth\":0,\"ticks\":\"\"},\"colorscale\":[[0.0,\"#0d0887\"],[0.1111111111111111,\"#46039f\"],[0.2222222222222222,\"#7201a8\"],[0.3333333333333333,\"#9c179e\"],[0.4444444444444444,\"#bd3786\"],[0.5555555555555556,\"#d8576b\"],[0.6666666666666666,\"#ed7953\"],[0.7777777777777778,\"#fb9f3a\"],[0.8888888888888888,\"#fdca26\"],[1.0,\"#f0f921\"]]}],\"heatmap\":[{\"type\":\"heatmap\",\"colorbar\":{\"outlinewidth\":0,\"ticks\":\"\"},\"colorscale\":[[0.0,\"#0d0887\"],[0.1111111111111111,\"#46039f\"],[0.2222222222222222,\"#7201a8\"],[0.3333333333333333,\"#9c179e\"],[0.4444444444444444,\"#bd3786\"],[0.5555555555555556,\"#d8576b\"],[0.6666666666666666,\"#ed7953\"],[0.7777777777777778,\"#fb9f3a\"],[0.8888888888888888,\"#fdca26\"],[1.0,\"#f0f921\"]]}],\"heatmapgl\":[{\"type\":\"heatmapgl\",\"colorbar\":{\"outlinewidth\":0,\"ticks\":\"\"},\"colorscale\":[[0.0,\"#0d0887\"],[0.1111111111111111,\"#46039f\"],[0.2222222222222222,\"#7201a8\"],[0.3333333333333333,\"#9c179e\"],[0.4444444444444444,\"#bd3786\"],[0.5555555555555556,\"#d8576b\"],[0.6666666666666666,\"#ed7953\"],[0.7777777777777778,\"#fb9f3a\"],[0.8888888888888888,\"#fdca26\"],[1.0,\"#f0f921\"]]}],\"contourcarpet\":[{\"type\":\"contourcarpet\",\"colorbar\":{\"outlinewidth\":0,\"ticks\":\"\"}}],\"contour\":[{\"type\":\"contour\",\"colorbar\":{\"outlinewidth\":0,\"ticks\":\"\"},\"colorscale\":[[0.0,\"#0d0887\"],[0.1111111111111111,\"#46039f\"],[0.2222222222222222,\"#7201a8\"],[0.3333333333333333,\"#9c179e\"],[0.4444444444444444,\"#bd3786\"],[0.5555555555555556,\"#d8576b\"],[0.6666666666666666,\"#ed7953\"],[0.7777777777777778,\"#fb9f3a\"],[0.8888888888888888,\"#fdca26\"],[1.0,\"#f0f921\"]]}],\"surface\":[{\"type\":\"surface\",\"colorbar\":{\"outlinewidth\":0,\"ticks\":\"\"},\"colorscale\":[[0.0,\"#0d0887\"],[0.1111111111111111,\"#46039f\"],[0.2222222222222222,\"#7201a8\"],[0.3333333333333333,\"#9c179e\"],[0.4444444444444444,\"#bd3786\"],[0.5555555555555556,\"#d8576b\"],[0.6666666666666666,\"#ed7953\"],[0.7777777777777778,\"#fb9f3a\"],[0.8888888888888888,\"#fdca26\"],[1.0,\"#f0f921\"]]}],\"mesh3d\":[{\"type\":\"mesh3d\",\"colorbar\":{\"outlinewidth\":0,\"ticks\":\"\"}}],\"scatter\":[{\"fillpattern\":{\"fillmode\":\"overlay\",\"size\":10,\"solidity\":0.2},\"type\":\"scatter\"}],\"parcoords\":[{\"type\":\"parcoords\",\"line\":{\"colorbar\":{\"outlinewidth\":0,\"ticks\":\"\"}}}],\"scatterpolargl\":[{\"type\":\"scatterpolargl\",\"marker\":{\"colorbar\":{\"outlinewidth\":0,\"ticks\":\"\"}}}],\"bar\":[{\"error_x\":{\"color\":\"#2a3f5f\"},\"error_y\":{\"color\":\"#2a3f5f\"},\"marker\":{\"line\":{\"color\":\"#E5ECF6\",\"width\":0.5},\"pattern\":{\"fillmode\":\"overlay\",\"size\":10,\"solidity\":0.2}},\"type\":\"bar\"}],\"scattergeo\":[{\"type\":\"scattergeo\",\"marker\":{\"colorbar\":{\"outlinewidth\":0,\"ticks\":\"\"}}}],\"scatterpolar\":[{\"type\":\"scatterpolar\",\"marker\":{\"colorbar\":{\"outlinewidth\":0,\"ticks\":\"\"}}}],\"histogram\":[{\"marker\":{\"pattern\":{\"fillmode\":\"overlay\",\"size\":10,\"solidity\":0.2}},\"type\":\"histogram\"}],\"scattergl\":[{\"type\":\"scattergl\",\"marker\":{\"colorbar\":{\"outlinewidth\":0,\"ticks\":\"\"}}}],\"scatter3d\":[{\"type\":\"scatter3d\",\"line\":{\"colorbar\":{\"outlinewidth\":0,\"ticks\":\"\"}},\"marker\":{\"colorbar\":{\"outlinewidth\":0,\"ticks\":\"\"}}}],\"scattermapbox\":[{\"type\":\"scattermapbox\",\"marker\":{\"colorbar\":{\"outlinewidth\":0,\"ticks\":\"\"}}}],\"scatterternary\":[{\"type\":\"scatterternary\",\"marker\":{\"colorbar\":{\"outlinewidth\":0,\"ticks\":\"\"}}}],\"scattercarpet\":[{\"type\":\"scattercarpet\",\"marker\":{\"colorbar\":{\"outlinewidth\":0,\"ticks\":\"\"}}}],\"carpet\":[{\"aaxis\":{\"endlinecolor\":\"#2a3f5f\",\"gridcolor\":\"white\",\"linecolor\":\"white\",\"minorgridcolor\":\"white\",\"startlinecolor\":\"#2a3f5f\"},\"baxis\":{\"endlinecolor\":\"#2a3f5f\",\"gridcolor\":\"white\",\"linecolor\":\"white\",\"minorgridcolor\":\"white\",\"startlinecolor\":\"#2a3f5f\"},\"type\":\"carpet\"}],\"table\":[{\"cells\":{\"fill\":{\"color\":\"#EBF0F8\"},\"line\":{\"color\":\"white\"}},\"header\":{\"fill\":{\"color\":\"#C8D4E3\"},\"line\":{\"color\":\"white\"}},\"type\":\"table\"}],\"barpolar\":[{\"marker\":{\"line\":{\"color\":\"#E5ECF6\",\"width\":0.5},\"pattern\":{\"fillmode\":\"overlay\",\"size\":10,\"solidity\":0.2}},\"type\":\"barpolar\"}],\"pie\":[{\"automargin\":true,\"type\":\"pie\"}]},\"layout\":{\"autotypenumbers\":\"strict\",\"colorway\":[\"#636efa\",\"#EF553B\",\"#00cc96\",\"#ab63fa\",\"#FFA15A\",\"#19d3f3\",\"#FF6692\",\"#B6E880\",\"#FF97FF\",\"#FECB52\"],\"font\":{\"color\":\"#2a3f5f\"},\"hovermode\":\"closest\",\"hoverlabel\":{\"align\":\"left\"},\"paper_bgcolor\":\"white\",\"plot_bgcolor\":\"#E5ECF6\",\"polar\":{\"bgcolor\":\"#E5ECF6\",\"angularaxis\":{\"gridcolor\":\"white\",\"linecolor\":\"white\",\"ticks\":\"\"},\"radialaxis\":{\"gridcolor\":\"white\",\"linecolor\":\"white\",\"ticks\":\"\"}},\"ternary\":{\"bgcolor\":\"#E5ECF6\",\"aaxis\":{\"gridcolor\":\"white\",\"linecolor\":\"white\",\"ticks\":\"\"},\"baxis\":{\"gridcolor\":\"white\",\"linecolor\":\"white\",\"ticks\":\"\"},\"caxis\":{\"gridcolor\":\"white\",\"linecolor\":\"white\",\"ticks\":\"\"}},\"coloraxis\":{\"colorbar\":{\"outlinewidth\":0,\"ticks\":\"\"}},\"colorscale\":{\"sequential\":[[0.0,\"#0d0887\"],[0.1111111111111111,\"#46039f\"],[0.2222222222222222,\"#7201a8\"],[0.3333333333333333,\"#9c179e\"],[0.4444444444444444,\"#bd3786\"],[0.5555555555555556,\"#d8576b\"],[0.6666666666666666,\"#ed7953\"],[0.7777777777777778,\"#fb9f3a\"],[0.8888888888888888,\"#fdca26\"],[1.0,\"#f0f921\"]],\"sequentialminus\":[[0.0,\"#0d0887\"],[0.1111111111111111,\"#46039f\"],[0.2222222222222222,\"#7201a8\"],[0.3333333333333333,\"#9c179e\"],[0.4444444444444444,\"#bd3786\"],[0.5555555555555556,\"#d8576b\"],[0.6666666666666666,\"#ed7953\"],[0.7777777777777778,\"#fb9f3a\"],[0.8888888888888888,\"#fdca26\"],[1.0,\"#f0f921\"]],\"diverging\":[[0,\"#8e0152\"],[0.1,\"#c51b7d\"],[0.2,\"#de77ae\"],[0.3,\"#f1b6da\"],[0.4,\"#fde0ef\"],[0.5,\"#f7f7f7\"],[0.6,\"#e6f5d0\"],[0.7,\"#b8e186\"],[0.8,\"#7fbc41\"],[0.9,\"#4d9221\"],[1,\"#276419\"]]},\"xaxis\":{\"gridcolor\":\"white\",\"linecolor\":\"white\",\"ticks\":\"\",\"title\":{\"standoff\":15},\"zerolinecolor\":\"white\",\"automargin\":true,\"zerolinewidth\":2},\"yaxis\":{\"gridcolor\":\"white\",\"linecolor\":\"white\",\"ticks\":\"\",\"title\":{\"standoff\":15},\"zerolinecolor\":\"white\",\"automargin\":true,\"zerolinewidth\":2},\"scene\":{\"xaxis\":{\"backgroundcolor\":\"#E5ECF6\",\"gridcolor\":\"white\",\"linecolor\":\"white\",\"showbackground\":true,\"ticks\":\"\",\"zerolinecolor\":\"white\",\"gridwidth\":2},\"yaxis\":{\"backgroundcolor\":\"#E5ECF6\",\"gridcolor\":\"white\",\"linecolor\":\"white\",\"showbackground\":true,\"ticks\":\"\",\"zerolinecolor\":\"white\",\"gridwidth\":2},\"zaxis\":{\"backgroundcolor\":\"#E5ECF6\",\"gridcolor\":\"white\",\"linecolor\":\"white\",\"showbackground\":true,\"ticks\":\"\",\"zerolinecolor\":\"white\",\"gridwidth\":2}},\"shapedefaults\":{\"line\":{\"color\":\"#2a3f5f\"}},\"annotationdefaults\":{\"arrowcolor\":\"#2a3f5f\",\"arrowhead\":0,\"arrowwidth\":1},\"geo\":{\"bgcolor\":\"white\",\"landcolor\":\"#E5ECF6\",\"subunitcolor\":\"white\",\"showland\":true,\"showlakes\":true,\"lakecolor\":\"white\"},\"title\":{\"x\":0.05},\"mapbox\":{\"style\":\"light\"}}},\"xaxis\":{\"anchor\":\"y\",\"domain\":[0.0,1.0],\"title\":{\"text\":\"petal_length\"}},\"yaxis\":{\"anchor\":\"x\",\"domain\":[0.0,1.0],\"title\":{\"text\":\"count\"}},\"legend\":{\"tracegroupgap\":0},\"margin\":{\"t\":60},\"barmode\":\"relative\"},                        {\"responsive\": true}                    ).then(function(){\n",
       "                            \n",
       "var gd = document.getElementById('af0faf5c-0346-4e2b-9129-69494808482b');\n",
       "var x = new MutationObserver(function (mutations, observer) {{\n",
       "        var display = window.getComputedStyle(gd).display;\n",
       "        if (!display || display === 'none') {{\n",
       "            console.log([gd, 'removed!']);\n",
       "            Plotly.purge(gd);\n",
       "            observer.disconnect();\n",
       "        }}\n",
       "}});\n",
       "\n",
       "// Listen for the removal of the full notebook cells\n",
       "var notebookContainer = gd.closest('#notebook-container');\n",
       "if (notebookContainer) {{\n",
       "    x.observe(notebookContainer, {childList: true});\n",
       "}}\n",
       "\n",
       "// Listen for the clearing of the current output cell\n",
       "var outputEl = gd.closest('.output');\n",
       "if (outputEl) {{\n",
       "    x.observe(outputEl, {childList: true});\n",
       "}}\n",
       "\n",
       "                        })                };                });            </script>        </div>"
      ]
     },
     "metadata": {},
     "output_type": "display_data"
    }
   ],
   "source": [
    "\"\"\" Histograms \"\"\"\n",
    "df = px.data.iris()\n",
    "fig = px.histogram(df, x=\"petal_length\")\n",
    "fig.show()"
   ]
  },
  {
   "cell_type": "code",
   "execution_count": 67,
   "metadata": {},
   "outputs": [
    {
     "data": {
      "application/vnd.plotly.v1+json": {
       "config": {
        "plotlyServerURL": "https://plotly.com"
       },
       "data": [
        {
         "hovertemplate": "species=setosa<br>sepal_width=%{x}<br>sepal_length=%{y}<extra></extra>",
         "legendgroup": "setosa",
         "marker": {
          "color": "#636efa",
          "symbol": "circle"
         },
         "mode": "markers",
         "name": "setosa",
         "orientation": "v",
         "showlegend": true,
         "type": "scatter",
         "x": [
          3.5,
          3,
          3.2,
          3.1,
          3.6,
          3.9,
          3.4,
          3.4,
          2.9,
          3.1,
          3.7,
          3.4,
          3,
          3,
          4,
          4.4,
          3.9,
          3.5,
          3.8,
          3.8,
          3.4,
          3.7,
          3.6,
          3.3,
          3.4,
          3,
          3.4,
          3.5,
          3.4,
          3.2,
          3.1,
          3.4,
          4.1,
          4.2,
          3.1,
          3.2,
          3.5,
          3.1,
          3,
          3.4,
          3.5,
          2.3,
          3.2,
          3.5,
          3.8,
          3,
          3.8,
          3.2,
          3.7,
          3.3
         ],
         "xaxis": "x",
         "y": [
          5.1,
          4.9,
          4.7,
          4.6,
          5,
          5.4,
          4.6,
          5,
          4.4,
          4.9,
          5.4,
          4.8,
          4.8,
          4.3,
          5.8,
          5.7,
          5.4,
          5.1,
          5.7,
          5.1,
          5.4,
          5.1,
          4.6,
          5.1,
          4.8,
          5,
          5,
          5.2,
          5.2,
          4.7,
          4.8,
          5.4,
          5.2,
          5.5,
          4.9,
          5,
          5.5,
          4.9,
          4.4,
          5.1,
          5,
          4.5,
          4.4,
          5,
          5.1,
          4.8,
          5.1,
          4.6,
          5.3,
          5
         ],
         "yaxis": "y"
        },
        {
         "hovertemplate": "species=versicolor<br>sepal_width=%{x}<br>sepal_length=%{y}<extra></extra>",
         "legendgroup": "versicolor",
         "marker": {
          "color": "#EF553B",
          "symbol": "circle"
         },
         "mode": "markers",
         "name": "versicolor",
         "orientation": "v",
         "showlegend": true,
         "type": "scatter",
         "x": [
          3.2,
          3.2,
          3.1,
          2.3,
          2.8,
          2.8,
          3.3,
          2.4,
          2.9,
          2.7,
          2,
          3,
          2.2,
          2.9,
          2.9,
          3.1,
          3,
          2.7,
          2.2,
          2.5,
          3.2,
          2.8,
          2.5,
          2.8,
          2.9,
          3,
          2.8,
          3,
          2.9,
          2.6,
          2.4,
          2.4,
          2.7,
          2.7,
          3,
          3.4,
          3.1,
          2.3,
          3,
          2.5,
          2.6,
          3,
          2.6,
          2.3,
          2.7,
          3,
          2.9,
          2.9,
          2.5,
          2.8
         ],
         "xaxis": "x",
         "y": [
          7,
          6.4,
          6.9,
          5.5,
          6.5,
          5.7,
          6.3,
          4.9,
          6.6,
          5.2,
          5,
          5.9,
          6,
          6.1,
          5.6,
          6.7,
          5.6,
          5.8,
          6.2,
          5.6,
          5.9,
          6.1,
          6.3,
          6.1,
          6.4,
          6.6,
          6.8,
          6.7,
          6,
          5.7,
          5.5,
          5.5,
          5.8,
          6,
          5.4,
          6,
          6.7,
          6.3,
          5.6,
          5.5,
          5.5,
          6.1,
          5.8,
          5,
          5.6,
          5.7,
          5.7,
          6.2,
          5.1,
          5.7
         ],
         "yaxis": "y"
        },
        {
         "hovertemplate": "species=virginica<br>sepal_width=%{x}<br>sepal_length=%{y}<extra></extra>",
         "legendgroup": "virginica",
         "marker": {
          "color": "#00cc96",
          "symbol": "circle"
         },
         "mode": "markers",
         "name": "virginica",
         "orientation": "v",
         "showlegend": true,
         "type": "scatter",
         "x": [
          3.3,
          2.7,
          3,
          2.9,
          3,
          3,
          2.5,
          2.9,
          2.5,
          3.6,
          3.2,
          2.7,
          3,
          2.5,
          2.8,
          3.2,
          3,
          3.8,
          2.6,
          2.2,
          3.2,
          2.8,
          2.8,
          2.7,
          3.3,
          3.2,
          2.8,
          3,
          2.8,
          3,
          2.8,
          3.8,
          2.8,
          2.8,
          2.6,
          3,
          3.4,
          3.1,
          3,
          3.1,
          3.1,
          3.1,
          2.7,
          3.2,
          3.3,
          3,
          2.5,
          3,
          3.4,
          3
         ],
         "xaxis": "x",
         "y": [
          6.3,
          5.8,
          7.1,
          6.3,
          6.5,
          7.6,
          4.9,
          7.3,
          6.7,
          7.2,
          6.5,
          6.4,
          6.8,
          5.7,
          5.8,
          6.4,
          6.5,
          7.7,
          7.7,
          6,
          6.9,
          5.6,
          7.7,
          6.3,
          6.7,
          7.2,
          6.2,
          6.1,
          6.4,
          7.2,
          7.4,
          7.9,
          6.4,
          6.3,
          6.1,
          7.7,
          6.3,
          6.4,
          6,
          6.9,
          6.7,
          6.9,
          5.8,
          6.8,
          6.7,
          6.7,
          6.3,
          6.5,
          6.2,
          5.9
         ],
         "yaxis": "y"
        }
       ],
       "layout": {
        "legend": {
         "title": {
          "text": "species"
         },
         "tracegroupgap": 0
        },
        "margin": {
         "t": 60
        },
        "template": {
         "data": {
          "bar": [
           {
            "error_x": {
             "color": "#2a3f5f"
            },
            "error_y": {
             "color": "#2a3f5f"
            },
            "marker": {
             "line": {
              "color": "#E5ECF6",
              "width": 0.5
             },
             "pattern": {
              "fillmode": "overlay",
              "size": 10,
              "solidity": 0.2
             }
            },
            "type": "bar"
           }
          ],
          "barpolar": [
           {
            "marker": {
             "line": {
              "color": "#E5ECF6",
              "width": 0.5
             },
             "pattern": {
              "fillmode": "overlay",
              "size": 10,
              "solidity": 0.2
             }
            },
            "type": "barpolar"
           }
          ],
          "carpet": [
           {
            "aaxis": {
             "endlinecolor": "#2a3f5f",
             "gridcolor": "white",
             "linecolor": "white",
             "minorgridcolor": "white",
             "startlinecolor": "#2a3f5f"
            },
            "baxis": {
             "endlinecolor": "#2a3f5f",
             "gridcolor": "white",
             "linecolor": "white",
             "minorgridcolor": "white",
             "startlinecolor": "#2a3f5f"
            },
            "type": "carpet"
           }
          ],
          "choropleth": [
           {
            "colorbar": {
             "outlinewidth": 0,
             "ticks": ""
            },
            "type": "choropleth"
           }
          ],
          "contour": [
           {
            "colorbar": {
             "outlinewidth": 0,
             "ticks": ""
            },
            "colorscale": [
             [
              0,
              "#0d0887"
             ],
             [
              0.1111111111111111,
              "#46039f"
             ],
             [
              0.2222222222222222,
              "#7201a8"
             ],
             [
              0.3333333333333333,
              "#9c179e"
             ],
             [
              0.4444444444444444,
              "#bd3786"
             ],
             [
              0.5555555555555556,
              "#d8576b"
             ],
             [
              0.6666666666666666,
              "#ed7953"
             ],
             [
              0.7777777777777778,
              "#fb9f3a"
             ],
             [
              0.8888888888888888,
              "#fdca26"
             ],
             [
              1,
              "#f0f921"
             ]
            ],
            "type": "contour"
           }
          ],
          "contourcarpet": [
           {
            "colorbar": {
             "outlinewidth": 0,
             "ticks": ""
            },
            "type": "contourcarpet"
           }
          ],
          "heatmap": [
           {
            "colorbar": {
             "outlinewidth": 0,
             "ticks": ""
            },
            "colorscale": [
             [
              0,
              "#0d0887"
             ],
             [
              0.1111111111111111,
              "#46039f"
             ],
             [
              0.2222222222222222,
              "#7201a8"
             ],
             [
              0.3333333333333333,
              "#9c179e"
             ],
             [
              0.4444444444444444,
              "#bd3786"
             ],
             [
              0.5555555555555556,
              "#d8576b"
             ],
             [
              0.6666666666666666,
              "#ed7953"
             ],
             [
              0.7777777777777778,
              "#fb9f3a"
             ],
             [
              0.8888888888888888,
              "#fdca26"
             ],
             [
              1,
              "#f0f921"
             ]
            ],
            "type": "heatmap"
           }
          ],
          "heatmapgl": [
           {
            "colorbar": {
             "outlinewidth": 0,
             "ticks": ""
            },
            "colorscale": [
             [
              0,
              "#0d0887"
             ],
             [
              0.1111111111111111,
              "#46039f"
             ],
             [
              0.2222222222222222,
              "#7201a8"
             ],
             [
              0.3333333333333333,
              "#9c179e"
             ],
             [
              0.4444444444444444,
              "#bd3786"
             ],
             [
              0.5555555555555556,
              "#d8576b"
             ],
             [
              0.6666666666666666,
              "#ed7953"
             ],
             [
              0.7777777777777778,
              "#fb9f3a"
             ],
             [
              0.8888888888888888,
              "#fdca26"
             ],
             [
              1,
              "#f0f921"
             ]
            ],
            "type": "heatmapgl"
           }
          ],
          "histogram": [
           {
            "marker": {
             "pattern": {
              "fillmode": "overlay",
              "size": 10,
              "solidity": 0.2
             }
            },
            "type": "histogram"
           }
          ],
          "histogram2d": [
           {
            "colorbar": {
             "outlinewidth": 0,
             "ticks": ""
            },
            "colorscale": [
             [
              0,
              "#0d0887"
             ],
             [
              0.1111111111111111,
              "#46039f"
             ],
             [
              0.2222222222222222,
              "#7201a8"
             ],
             [
              0.3333333333333333,
              "#9c179e"
             ],
             [
              0.4444444444444444,
              "#bd3786"
             ],
             [
              0.5555555555555556,
              "#d8576b"
             ],
             [
              0.6666666666666666,
              "#ed7953"
             ],
             [
              0.7777777777777778,
              "#fb9f3a"
             ],
             [
              0.8888888888888888,
              "#fdca26"
             ],
             [
              1,
              "#f0f921"
             ]
            ],
            "type": "histogram2d"
           }
          ],
          "histogram2dcontour": [
           {
            "colorbar": {
             "outlinewidth": 0,
             "ticks": ""
            },
            "colorscale": [
             [
              0,
              "#0d0887"
             ],
             [
              0.1111111111111111,
              "#46039f"
             ],
             [
              0.2222222222222222,
              "#7201a8"
             ],
             [
              0.3333333333333333,
              "#9c179e"
             ],
             [
              0.4444444444444444,
              "#bd3786"
             ],
             [
              0.5555555555555556,
              "#d8576b"
             ],
             [
              0.6666666666666666,
              "#ed7953"
             ],
             [
              0.7777777777777778,
              "#fb9f3a"
             ],
             [
              0.8888888888888888,
              "#fdca26"
             ],
             [
              1,
              "#f0f921"
             ]
            ],
            "type": "histogram2dcontour"
           }
          ],
          "mesh3d": [
           {
            "colorbar": {
             "outlinewidth": 0,
             "ticks": ""
            },
            "type": "mesh3d"
           }
          ],
          "parcoords": [
           {
            "line": {
             "colorbar": {
              "outlinewidth": 0,
              "ticks": ""
             }
            },
            "type": "parcoords"
           }
          ],
          "pie": [
           {
            "automargin": true,
            "type": "pie"
           }
          ],
          "scatter": [
           {
            "fillpattern": {
             "fillmode": "overlay",
             "size": 10,
             "solidity": 0.2
            },
            "type": "scatter"
           }
          ],
          "scatter3d": [
           {
            "line": {
             "colorbar": {
              "outlinewidth": 0,
              "ticks": ""
             }
            },
            "marker": {
             "colorbar": {
              "outlinewidth": 0,
              "ticks": ""
             }
            },
            "type": "scatter3d"
           }
          ],
          "scattercarpet": [
           {
            "marker": {
             "colorbar": {
              "outlinewidth": 0,
              "ticks": ""
             }
            },
            "type": "scattercarpet"
           }
          ],
          "scattergeo": [
           {
            "marker": {
             "colorbar": {
              "outlinewidth": 0,
              "ticks": ""
             }
            },
            "type": "scattergeo"
           }
          ],
          "scattergl": [
           {
            "marker": {
             "colorbar": {
              "outlinewidth": 0,
              "ticks": ""
             }
            },
            "type": "scattergl"
           }
          ],
          "scattermapbox": [
           {
            "marker": {
             "colorbar": {
              "outlinewidth": 0,
              "ticks": ""
             }
            },
            "type": "scattermapbox"
           }
          ],
          "scatterpolar": [
           {
            "marker": {
             "colorbar": {
              "outlinewidth": 0,
              "ticks": ""
             }
            },
            "type": "scatterpolar"
           }
          ],
          "scatterpolargl": [
           {
            "marker": {
             "colorbar": {
              "outlinewidth": 0,
              "ticks": ""
             }
            },
            "type": "scatterpolargl"
           }
          ],
          "scatterternary": [
           {
            "marker": {
             "colorbar": {
              "outlinewidth": 0,
              "ticks": ""
             }
            },
            "type": "scatterternary"
           }
          ],
          "surface": [
           {
            "colorbar": {
             "outlinewidth": 0,
             "ticks": ""
            },
            "colorscale": [
             [
              0,
              "#0d0887"
             ],
             [
              0.1111111111111111,
              "#46039f"
             ],
             [
              0.2222222222222222,
              "#7201a8"
             ],
             [
              0.3333333333333333,
              "#9c179e"
             ],
             [
              0.4444444444444444,
              "#bd3786"
             ],
             [
              0.5555555555555556,
              "#d8576b"
             ],
             [
              0.6666666666666666,
              "#ed7953"
             ],
             [
              0.7777777777777778,
              "#fb9f3a"
             ],
             [
              0.8888888888888888,
              "#fdca26"
             ],
             [
              1,
              "#f0f921"
             ]
            ],
            "type": "surface"
           }
          ],
          "table": [
           {
            "cells": {
             "fill": {
              "color": "#EBF0F8"
             },
             "line": {
              "color": "white"
             }
            },
            "header": {
             "fill": {
              "color": "#C8D4E3"
             },
             "line": {
              "color": "white"
             }
            },
            "type": "table"
           }
          ]
         },
         "layout": {
          "annotationdefaults": {
           "arrowcolor": "#2a3f5f",
           "arrowhead": 0,
           "arrowwidth": 1
          },
          "autotypenumbers": "strict",
          "coloraxis": {
           "colorbar": {
            "outlinewidth": 0,
            "ticks": ""
           }
          },
          "colorscale": {
           "diverging": [
            [
             0,
             "#8e0152"
            ],
            [
             0.1,
             "#c51b7d"
            ],
            [
             0.2,
             "#de77ae"
            ],
            [
             0.3,
             "#f1b6da"
            ],
            [
             0.4,
             "#fde0ef"
            ],
            [
             0.5,
             "#f7f7f7"
            ],
            [
             0.6,
             "#e6f5d0"
            ],
            [
             0.7,
             "#b8e186"
            ],
            [
             0.8,
             "#7fbc41"
            ],
            [
             0.9,
             "#4d9221"
            ],
            [
             1,
             "#276419"
            ]
           ],
           "sequential": [
            [
             0,
             "#0d0887"
            ],
            [
             0.1111111111111111,
             "#46039f"
            ],
            [
             0.2222222222222222,
             "#7201a8"
            ],
            [
             0.3333333333333333,
             "#9c179e"
            ],
            [
             0.4444444444444444,
             "#bd3786"
            ],
            [
             0.5555555555555556,
             "#d8576b"
            ],
            [
             0.6666666666666666,
             "#ed7953"
            ],
            [
             0.7777777777777778,
             "#fb9f3a"
            ],
            [
             0.8888888888888888,
             "#fdca26"
            ],
            [
             1,
             "#f0f921"
            ]
           ],
           "sequentialminus": [
            [
             0,
             "#0d0887"
            ],
            [
             0.1111111111111111,
             "#46039f"
            ],
            [
             0.2222222222222222,
             "#7201a8"
            ],
            [
             0.3333333333333333,
             "#9c179e"
            ],
            [
             0.4444444444444444,
             "#bd3786"
            ],
            [
             0.5555555555555556,
             "#d8576b"
            ],
            [
             0.6666666666666666,
             "#ed7953"
            ],
            [
             0.7777777777777778,
             "#fb9f3a"
            ],
            [
             0.8888888888888888,
             "#fdca26"
            ],
            [
             1,
             "#f0f921"
            ]
           ]
          },
          "colorway": [
           "#636efa",
           "#EF553B",
           "#00cc96",
           "#ab63fa",
           "#FFA15A",
           "#19d3f3",
           "#FF6692",
           "#B6E880",
           "#FF97FF",
           "#FECB52"
          ],
          "font": {
           "color": "#2a3f5f"
          },
          "geo": {
           "bgcolor": "white",
           "lakecolor": "white",
           "landcolor": "#E5ECF6",
           "showlakes": true,
           "showland": true,
           "subunitcolor": "white"
          },
          "hoverlabel": {
           "align": "left"
          },
          "hovermode": "closest",
          "mapbox": {
           "style": "light"
          },
          "paper_bgcolor": "white",
          "plot_bgcolor": "#E5ECF6",
          "polar": {
           "angularaxis": {
            "gridcolor": "white",
            "linecolor": "white",
            "ticks": ""
           },
           "bgcolor": "#E5ECF6",
           "radialaxis": {
            "gridcolor": "white",
            "linecolor": "white",
            "ticks": ""
           }
          },
          "scene": {
           "xaxis": {
            "backgroundcolor": "#E5ECF6",
            "gridcolor": "white",
            "gridwidth": 2,
            "linecolor": "white",
            "showbackground": true,
            "ticks": "",
            "zerolinecolor": "white"
           },
           "yaxis": {
            "backgroundcolor": "#E5ECF6",
            "gridcolor": "white",
            "gridwidth": 2,
            "linecolor": "white",
            "showbackground": true,
            "ticks": "",
            "zerolinecolor": "white"
           },
           "zaxis": {
            "backgroundcolor": "#E5ECF6",
            "gridcolor": "white",
            "gridwidth": 2,
            "linecolor": "white",
            "showbackground": true,
            "ticks": "",
            "zerolinecolor": "white"
           }
          },
          "shapedefaults": {
           "line": {
            "color": "#2a3f5f"
           }
          },
          "ternary": {
           "aaxis": {
            "gridcolor": "white",
            "linecolor": "white",
            "ticks": ""
           },
           "baxis": {
            "gridcolor": "white",
            "linecolor": "white",
            "ticks": ""
           },
           "bgcolor": "#E5ECF6",
           "caxis": {
            "gridcolor": "white",
            "linecolor": "white",
            "ticks": ""
           }
          },
          "title": {
           "x": 0.05
          },
          "xaxis": {
           "automargin": true,
           "gridcolor": "white",
           "linecolor": "white",
           "ticks": "",
           "title": {
            "standoff": 15
           },
           "zerolinecolor": "white",
           "zerolinewidth": 2
          },
          "yaxis": {
           "automargin": true,
           "gridcolor": "white",
           "linecolor": "white",
           "ticks": "",
           "title": {
            "standoff": 15
           },
           "zerolinecolor": "white",
           "zerolinewidth": 2
          }
         }
        },
        "xaxis": {
         "anchor": "y",
         "domain": [
          0,
          1
         ],
         "title": {
          "text": "sepal_width"
         }
        },
        "yaxis": {
         "anchor": "x",
         "domain": [
          0,
          1
         ],
         "title": {
          "text": "sepal_length"
         }
        }
       }
      },
      "text/html": [
       "<div>                            <div id=\"938d2ea4-6f69-44af-8d55-2cd83505e18f\" class=\"plotly-graph-div\" style=\"height:525px; width:100%;\"></div>            <script type=\"text/javascript\">                require([\"plotly\"], function(Plotly) {                    window.PLOTLYENV=window.PLOTLYENV || {};                                    if (document.getElementById(\"938d2ea4-6f69-44af-8d55-2cd83505e18f\")) {                    Plotly.newPlot(                        \"938d2ea4-6f69-44af-8d55-2cd83505e18f\",                        [{\"hovertemplate\":\"species=setosa<br>sepal_width=%{x}<br>sepal_length=%{y}<extra></extra>\",\"legendgroup\":\"setosa\",\"marker\":{\"color\":\"#636efa\",\"symbol\":\"circle\"},\"mode\":\"markers\",\"name\":\"setosa\",\"orientation\":\"v\",\"showlegend\":true,\"x\":[3.5,3.0,3.2,3.1,3.6,3.9,3.4,3.4,2.9,3.1,3.7,3.4,3.0,3.0,4.0,4.4,3.9,3.5,3.8,3.8,3.4,3.7,3.6,3.3,3.4,3.0,3.4,3.5,3.4,3.2,3.1,3.4,4.1,4.2,3.1,3.2,3.5,3.1,3.0,3.4,3.5,2.3,3.2,3.5,3.8,3.0,3.8,3.2,3.7,3.3],\"xaxis\":\"x\",\"y\":[5.1,4.9,4.7,4.6,5.0,5.4,4.6,5.0,4.4,4.9,5.4,4.8,4.8,4.3,5.8,5.7,5.4,5.1,5.7,5.1,5.4,5.1,4.6,5.1,4.8,5.0,5.0,5.2,5.2,4.7,4.8,5.4,5.2,5.5,4.9,5.0,5.5,4.9,4.4,5.1,5.0,4.5,4.4,5.0,5.1,4.8,5.1,4.6,5.3,5.0],\"yaxis\":\"y\",\"type\":\"scatter\"},{\"hovertemplate\":\"species=versicolor<br>sepal_width=%{x}<br>sepal_length=%{y}<extra></extra>\",\"legendgroup\":\"versicolor\",\"marker\":{\"color\":\"#EF553B\",\"symbol\":\"circle\"},\"mode\":\"markers\",\"name\":\"versicolor\",\"orientation\":\"v\",\"showlegend\":true,\"x\":[3.2,3.2,3.1,2.3,2.8,2.8,3.3,2.4,2.9,2.7,2.0,3.0,2.2,2.9,2.9,3.1,3.0,2.7,2.2,2.5,3.2,2.8,2.5,2.8,2.9,3.0,2.8,3.0,2.9,2.6,2.4,2.4,2.7,2.7,3.0,3.4,3.1,2.3,3.0,2.5,2.6,3.0,2.6,2.3,2.7,3.0,2.9,2.9,2.5,2.8],\"xaxis\":\"x\",\"y\":[7.0,6.4,6.9,5.5,6.5,5.7,6.3,4.9,6.6,5.2,5.0,5.9,6.0,6.1,5.6,6.7,5.6,5.8,6.2,5.6,5.9,6.1,6.3,6.1,6.4,6.6,6.8,6.7,6.0,5.7,5.5,5.5,5.8,6.0,5.4,6.0,6.7,6.3,5.6,5.5,5.5,6.1,5.8,5.0,5.6,5.7,5.7,6.2,5.1,5.7],\"yaxis\":\"y\",\"type\":\"scatter\"},{\"hovertemplate\":\"species=virginica<br>sepal_width=%{x}<br>sepal_length=%{y}<extra></extra>\",\"legendgroup\":\"virginica\",\"marker\":{\"color\":\"#00cc96\",\"symbol\":\"circle\"},\"mode\":\"markers\",\"name\":\"virginica\",\"orientation\":\"v\",\"showlegend\":true,\"x\":[3.3,2.7,3.0,2.9,3.0,3.0,2.5,2.9,2.5,3.6,3.2,2.7,3.0,2.5,2.8,3.2,3.0,3.8,2.6,2.2,3.2,2.8,2.8,2.7,3.3,3.2,2.8,3.0,2.8,3.0,2.8,3.8,2.8,2.8,2.6,3.0,3.4,3.1,3.0,3.1,3.1,3.1,2.7,3.2,3.3,3.0,2.5,3.0,3.4,3.0],\"xaxis\":\"x\",\"y\":[6.3,5.8,7.1,6.3,6.5,7.6,4.9,7.3,6.7,7.2,6.5,6.4,6.8,5.7,5.8,6.4,6.5,7.7,7.7,6.0,6.9,5.6,7.7,6.3,6.7,7.2,6.2,6.1,6.4,7.2,7.4,7.9,6.4,6.3,6.1,7.7,6.3,6.4,6.0,6.9,6.7,6.9,5.8,6.8,6.7,6.7,6.3,6.5,6.2,5.9],\"yaxis\":\"y\",\"type\":\"scatter\"}],                        {\"template\":{\"data\":{\"histogram2dcontour\":[{\"type\":\"histogram2dcontour\",\"colorbar\":{\"outlinewidth\":0,\"ticks\":\"\"},\"colorscale\":[[0.0,\"#0d0887\"],[0.1111111111111111,\"#46039f\"],[0.2222222222222222,\"#7201a8\"],[0.3333333333333333,\"#9c179e\"],[0.4444444444444444,\"#bd3786\"],[0.5555555555555556,\"#d8576b\"],[0.6666666666666666,\"#ed7953\"],[0.7777777777777778,\"#fb9f3a\"],[0.8888888888888888,\"#fdca26\"],[1.0,\"#f0f921\"]]}],\"choropleth\":[{\"type\":\"choropleth\",\"colorbar\":{\"outlinewidth\":0,\"ticks\":\"\"}}],\"histogram2d\":[{\"type\":\"histogram2d\",\"colorbar\":{\"outlinewidth\":0,\"ticks\":\"\"},\"colorscale\":[[0.0,\"#0d0887\"],[0.1111111111111111,\"#46039f\"],[0.2222222222222222,\"#7201a8\"],[0.3333333333333333,\"#9c179e\"],[0.4444444444444444,\"#bd3786\"],[0.5555555555555556,\"#d8576b\"],[0.6666666666666666,\"#ed7953\"],[0.7777777777777778,\"#fb9f3a\"],[0.8888888888888888,\"#fdca26\"],[1.0,\"#f0f921\"]]}],\"heatmap\":[{\"type\":\"heatmap\",\"colorbar\":{\"outlinewidth\":0,\"ticks\":\"\"},\"colorscale\":[[0.0,\"#0d0887\"],[0.1111111111111111,\"#46039f\"],[0.2222222222222222,\"#7201a8\"],[0.3333333333333333,\"#9c179e\"],[0.4444444444444444,\"#bd3786\"],[0.5555555555555556,\"#d8576b\"],[0.6666666666666666,\"#ed7953\"],[0.7777777777777778,\"#fb9f3a\"],[0.8888888888888888,\"#fdca26\"],[1.0,\"#f0f921\"]]}],\"heatmapgl\":[{\"type\":\"heatmapgl\",\"colorbar\":{\"outlinewidth\":0,\"ticks\":\"\"},\"colorscale\":[[0.0,\"#0d0887\"],[0.1111111111111111,\"#46039f\"],[0.2222222222222222,\"#7201a8\"],[0.3333333333333333,\"#9c179e\"],[0.4444444444444444,\"#bd3786\"],[0.5555555555555556,\"#d8576b\"],[0.6666666666666666,\"#ed7953\"],[0.7777777777777778,\"#fb9f3a\"],[0.8888888888888888,\"#fdca26\"],[1.0,\"#f0f921\"]]}],\"contourcarpet\":[{\"type\":\"contourcarpet\",\"colorbar\":{\"outlinewidth\":0,\"ticks\":\"\"}}],\"contour\":[{\"type\":\"contour\",\"colorbar\":{\"outlinewidth\":0,\"ticks\":\"\"},\"colorscale\":[[0.0,\"#0d0887\"],[0.1111111111111111,\"#46039f\"],[0.2222222222222222,\"#7201a8\"],[0.3333333333333333,\"#9c179e\"],[0.4444444444444444,\"#bd3786\"],[0.5555555555555556,\"#d8576b\"],[0.6666666666666666,\"#ed7953\"],[0.7777777777777778,\"#fb9f3a\"],[0.8888888888888888,\"#fdca26\"],[1.0,\"#f0f921\"]]}],\"surface\":[{\"type\":\"surface\",\"colorbar\":{\"outlinewidth\":0,\"ticks\":\"\"},\"colorscale\":[[0.0,\"#0d0887\"],[0.1111111111111111,\"#46039f\"],[0.2222222222222222,\"#7201a8\"],[0.3333333333333333,\"#9c179e\"],[0.4444444444444444,\"#bd3786\"],[0.5555555555555556,\"#d8576b\"],[0.6666666666666666,\"#ed7953\"],[0.7777777777777778,\"#fb9f3a\"],[0.8888888888888888,\"#fdca26\"],[1.0,\"#f0f921\"]]}],\"mesh3d\":[{\"type\":\"mesh3d\",\"colorbar\":{\"outlinewidth\":0,\"ticks\":\"\"}}],\"scatter\":[{\"fillpattern\":{\"fillmode\":\"overlay\",\"size\":10,\"solidity\":0.2},\"type\":\"scatter\"}],\"parcoords\":[{\"type\":\"parcoords\",\"line\":{\"colorbar\":{\"outlinewidth\":0,\"ticks\":\"\"}}}],\"scatterpolargl\":[{\"type\":\"scatterpolargl\",\"marker\":{\"colorbar\":{\"outlinewidth\":0,\"ticks\":\"\"}}}],\"bar\":[{\"error_x\":{\"color\":\"#2a3f5f\"},\"error_y\":{\"color\":\"#2a3f5f\"},\"marker\":{\"line\":{\"color\":\"#E5ECF6\",\"width\":0.5},\"pattern\":{\"fillmode\":\"overlay\",\"size\":10,\"solidity\":0.2}},\"type\":\"bar\"}],\"scattergeo\":[{\"type\":\"scattergeo\",\"marker\":{\"colorbar\":{\"outlinewidth\":0,\"ticks\":\"\"}}}],\"scatterpolar\":[{\"type\":\"scatterpolar\",\"marker\":{\"colorbar\":{\"outlinewidth\":0,\"ticks\":\"\"}}}],\"histogram\":[{\"marker\":{\"pattern\":{\"fillmode\":\"overlay\",\"size\":10,\"solidity\":0.2}},\"type\":\"histogram\"}],\"scattergl\":[{\"type\":\"scattergl\",\"marker\":{\"colorbar\":{\"outlinewidth\":0,\"ticks\":\"\"}}}],\"scatter3d\":[{\"type\":\"scatter3d\",\"line\":{\"colorbar\":{\"outlinewidth\":0,\"ticks\":\"\"}},\"marker\":{\"colorbar\":{\"outlinewidth\":0,\"ticks\":\"\"}}}],\"scattermapbox\":[{\"type\":\"scattermapbox\",\"marker\":{\"colorbar\":{\"outlinewidth\":0,\"ticks\":\"\"}}}],\"scatterternary\":[{\"type\":\"scatterternary\",\"marker\":{\"colorbar\":{\"outlinewidth\":0,\"ticks\":\"\"}}}],\"scattercarpet\":[{\"type\":\"scattercarpet\",\"marker\":{\"colorbar\":{\"outlinewidth\":0,\"ticks\":\"\"}}}],\"carpet\":[{\"aaxis\":{\"endlinecolor\":\"#2a3f5f\",\"gridcolor\":\"white\",\"linecolor\":\"white\",\"minorgridcolor\":\"white\",\"startlinecolor\":\"#2a3f5f\"},\"baxis\":{\"endlinecolor\":\"#2a3f5f\",\"gridcolor\":\"white\",\"linecolor\":\"white\",\"minorgridcolor\":\"white\",\"startlinecolor\":\"#2a3f5f\"},\"type\":\"carpet\"}],\"table\":[{\"cells\":{\"fill\":{\"color\":\"#EBF0F8\"},\"line\":{\"color\":\"white\"}},\"header\":{\"fill\":{\"color\":\"#C8D4E3\"},\"line\":{\"color\":\"white\"}},\"type\":\"table\"}],\"barpolar\":[{\"marker\":{\"line\":{\"color\":\"#E5ECF6\",\"width\":0.5},\"pattern\":{\"fillmode\":\"overlay\",\"size\":10,\"solidity\":0.2}},\"type\":\"barpolar\"}],\"pie\":[{\"automargin\":true,\"type\":\"pie\"}]},\"layout\":{\"autotypenumbers\":\"strict\",\"colorway\":[\"#636efa\",\"#EF553B\",\"#00cc96\",\"#ab63fa\",\"#FFA15A\",\"#19d3f3\",\"#FF6692\",\"#B6E880\",\"#FF97FF\",\"#FECB52\"],\"font\":{\"color\":\"#2a3f5f\"},\"hovermode\":\"closest\",\"hoverlabel\":{\"align\":\"left\"},\"paper_bgcolor\":\"white\",\"plot_bgcolor\":\"#E5ECF6\",\"polar\":{\"bgcolor\":\"#E5ECF6\",\"angularaxis\":{\"gridcolor\":\"white\",\"linecolor\":\"white\",\"ticks\":\"\"},\"radialaxis\":{\"gridcolor\":\"white\",\"linecolor\":\"white\",\"ticks\":\"\"}},\"ternary\":{\"bgcolor\":\"#E5ECF6\",\"aaxis\":{\"gridcolor\":\"white\",\"linecolor\":\"white\",\"ticks\":\"\"},\"baxis\":{\"gridcolor\":\"white\",\"linecolor\":\"white\",\"ticks\":\"\"},\"caxis\":{\"gridcolor\":\"white\",\"linecolor\":\"white\",\"ticks\":\"\"}},\"coloraxis\":{\"colorbar\":{\"outlinewidth\":0,\"ticks\":\"\"}},\"colorscale\":{\"sequential\":[[0.0,\"#0d0887\"],[0.1111111111111111,\"#46039f\"],[0.2222222222222222,\"#7201a8\"],[0.3333333333333333,\"#9c179e\"],[0.4444444444444444,\"#bd3786\"],[0.5555555555555556,\"#d8576b\"],[0.6666666666666666,\"#ed7953\"],[0.7777777777777778,\"#fb9f3a\"],[0.8888888888888888,\"#fdca26\"],[1.0,\"#f0f921\"]],\"sequentialminus\":[[0.0,\"#0d0887\"],[0.1111111111111111,\"#46039f\"],[0.2222222222222222,\"#7201a8\"],[0.3333333333333333,\"#9c179e\"],[0.4444444444444444,\"#bd3786\"],[0.5555555555555556,\"#d8576b\"],[0.6666666666666666,\"#ed7953\"],[0.7777777777777778,\"#fb9f3a\"],[0.8888888888888888,\"#fdca26\"],[1.0,\"#f0f921\"]],\"diverging\":[[0,\"#8e0152\"],[0.1,\"#c51b7d\"],[0.2,\"#de77ae\"],[0.3,\"#f1b6da\"],[0.4,\"#fde0ef\"],[0.5,\"#f7f7f7\"],[0.6,\"#e6f5d0\"],[0.7,\"#b8e186\"],[0.8,\"#7fbc41\"],[0.9,\"#4d9221\"],[1,\"#276419\"]]},\"xaxis\":{\"gridcolor\":\"white\",\"linecolor\":\"white\",\"ticks\":\"\",\"title\":{\"standoff\":15},\"zerolinecolor\":\"white\",\"automargin\":true,\"zerolinewidth\":2},\"yaxis\":{\"gridcolor\":\"white\",\"linecolor\":\"white\",\"ticks\":\"\",\"title\":{\"standoff\":15},\"zerolinecolor\":\"white\",\"automargin\":true,\"zerolinewidth\":2},\"scene\":{\"xaxis\":{\"backgroundcolor\":\"#E5ECF6\",\"gridcolor\":\"white\",\"linecolor\":\"white\",\"showbackground\":true,\"ticks\":\"\",\"zerolinecolor\":\"white\",\"gridwidth\":2},\"yaxis\":{\"backgroundcolor\":\"#E5ECF6\",\"gridcolor\":\"white\",\"linecolor\":\"white\",\"showbackground\":true,\"ticks\":\"\",\"zerolinecolor\":\"white\",\"gridwidth\":2},\"zaxis\":{\"backgroundcolor\":\"#E5ECF6\",\"gridcolor\":\"white\",\"linecolor\":\"white\",\"showbackground\":true,\"ticks\":\"\",\"zerolinecolor\":\"white\",\"gridwidth\":2}},\"shapedefaults\":{\"line\":{\"color\":\"#2a3f5f\"}},\"annotationdefaults\":{\"arrowcolor\":\"#2a3f5f\",\"arrowhead\":0,\"arrowwidth\":1},\"geo\":{\"bgcolor\":\"white\",\"landcolor\":\"#E5ECF6\",\"subunitcolor\":\"white\",\"showland\":true,\"showlakes\":true,\"lakecolor\":\"white\"},\"title\":{\"x\":0.05},\"mapbox\":{\"style\":\"light\"}}},\"xaxis\":{\"anchor\":\"y\",\"domain\":[0.0,1.0],\"title\":{\"text\":\"sepal_width\"}},\"yaxis\":{\"anchor\":\"x\",\"domain\":[0.0,1.0],\"title\":{\"text\":\"sepal_length\"}},\"legend\":{\"title\":{\"text\":\"species\"},\"tracegroupgap\":0},\"margin\":{\"t\":60}},                        {\"responsive\": true}                    ).then(function(){\n",
       "                            \n",
       "var gd = document.getElementById('938d2ea4-6f69-44af-8d55-2cd83505e18f');\n",
       "var x = new MutationObserver(function (mutations, observer) {{\n",
       "        var display = window.getComputedStyle(gd).display;\n",
       "        if (!display || display === 'none') {{\n",
       "            console.log([gd, 'removed!']);\n",
       "            Plotly.purge(gd);\n",
       "            observer.disconnect();\n",
       "        }}\n",
       "}});\n",
       "\n",
       "// Listen for the removal of the full notebook cells\n",
       "var notebookContainer = gd.closest('#notebook-container');\n",
       "if (notebookContainer) {{\n",
       "    x.observe(notebookContainer, {childList: true});\n",
       "}}\n",
       "\n",
       "// Listen for the clearing of the current output cell\n",
       "var outputEl = gd.closest('.output');\n",
       "if (outputEl) {{\n",
       "    x.observe(outputEl, {childList: true});\n",
       "}}\n",
       "\n",
       "                        })                };                });            </script>        </div>"
      ]
     },
     "metadata": {},
     "output_type": "display_data"
    }
   ],
   "source": [
    "\"\"\" Scatters \"\"\"\n",
    "df = px.data.iris()\n",
    "fig = px.scatter(df, x=\"sepal_width\", y=\"sepal_length\", color=\"species\")\n",
    "fig.show()"
   ]
  },
  {
   "cell_type": "code",
   "execution_count": 69,
   "metadata": {},
   "outputs": [
    {
     "data": {
      "application/vnd.plotly.v1+json": {
       "config": {
        "plotlyServerURL": "https://plotly.com"
       },
       "data": [
        {
         "coloraxis": "coloraxis",
         "hovertemplate": "sepal_width=%{x}<br>sepal_length=%{y}<br>count=%{z}<extra></extra>",
         "name": "",
         "type": "histogram2d",
         "x": [
          3.5,
          3,
          3.2,
          3.1,
          3.6,
          3.9,
          3.4,
          3.4,
          2.9,
          3.1,
          3.7,
          3.4,
          3,
          3,
          4,
          4.4,
          3.9,
          3.5,
          3.8,
          3.8,
          3.4,
          3.7,
          3.6,
          3.3,
          3.4,
          3,
          3.4,
          3.5,
          3.4,
          3.2,
          3.1,
          3.4,
          4.1,
          4.2,
          3.1,
          3.2,
          3.5,
          3.1,
          3,
          3.4,
          3.5,
          2.3,
          3.2,
          3.5,
          3.8,
          3,
          3.8,
          3.2,
          3.7,
          3.3,
          3.2,
          3.2,
          3.1,
          2.3,
          2.8,
          2.8,
          3.3,
          2.4,
          2.9,
          2.7,
          2,
          3,
          2.2,
          2.9,
          2.9,
          3.1,
          3,
          2.7,
          2.2,
          2.5,
          3.2,
          2.8,
          2.5,
          2.8,
          2.9,
          3,
          2.8,
          3,
          2.9,
          2.6,
          2.4,
          2.4,
          2.7,
          2.7,
          3,
          3.4,
          3.1,
          2.3,
          3,
          2.5,
          2.6,
          3,
          2.6,
          2.3,
          2.7,
          3,
          2.9,
          2.9,
          2.5,
          2.8,
          3.3,
          2.7,
          3,
          2.9,
          3,
          3,
          2.5,
          2.9,
          2.5,
          3.6,
          3.2,
          2.7,
          3,
          2.5,
          2.8,
          3.2,
          3,
          3.8,
          2.6,
          2.2,
          3.2,
          2.8,
          2.8,
          2.7,
          3.3,
          3.2,
          2.8,
          3,
          2.8,
          3,
          2.8,
          3.8,
          2.8,
          2.8,
          2.6,
          3,
          3.4,
          3.1,
          3,
          3.1,
          3.1,
          3.1,
          2.7,
          3.2,
          3.3,
          3,
          2.5,
          3,
          3.4,
          3
         ],
         "xaxis": "x",
         "xbingroup": "x",
         "y": [
          5.1,
          4.9,
          4.7,
          4.6,
          5,
          5.4,
          4.6,
          5,
          4.4,
          4.9,
          5.4,
          4.8,
          4.8,
          4.3,
          5.8,
          5.7,
          5.4,
          5.1,
          5.7,
          5.1,
          5.4,
          5.1,
          4.6,
          5.1,
          4.8,
          5,
          5,
          5.2,
          5.2,
          4.7,
          4.8,
          5.4,
          5.2,
          5.5,
          4.9,
          5,
          5.5,
          4.9,
          4.4,
          5.1,
          5,
          4.5,
          4.4,
          5,
          5.1,
          4.8,
          5.1,
          4.6,
          5.3,
          5,
          7,
          6.4,
          6.9,
          5.5,
          6.5,
          5.7,
          6.3,
          4.9,
          6.6,
          5.2,
          5,
          5.9,
          6,
          6.1,
          5.6,
          6.7,
          5.6,
          5.8,
          6.2,
          5.6,
          5.9,
          6.1,
          6.3,
          6.1,
          6.4,
          6.6,
          6.8,
          6.7,
          6,
          5.7,
          5.5,
          5.5,
          5.8,
          6,
          5.4,
          6,
          6.7,
          6.3,
          5.6,
          5.5,
          5.5,
          6.1,
          5.8,
          5,
          5.6,
          5.7,
          5.7,
          6.2,
          5.1,
          5.7,
          6.3,
          5.8,
          7.1,
          6.3,
          6.5,
          7.6,
          4.9,
          7.3,
          6.7,
          7.2,
          6.5,
          6.4,
          6.8,
          5.7,
          5.8,
          6.4,
          6.5,
          7.7,
          7.7,
          6,
          6.9,
          5.6,
          7.7,
          6.3,
          6.7,
          7.2,
          6.2,
          6.1,
          6.4,
          7.2,
          7.4,
          7.9,
          6.4,
          6.3,
          6.1,
          7.7,
          6.3,
          6.4,
          6,
          6.9,
          6.7,
          6.9,
          5.8,
          6.8,
          6.7,
          6.7,
          6.3,
          6.5,
          6.2,
          5.9
         ],
         "yaxis": "y",
         "ybingroup": "y"
        }
       ],
       "layout": {
        "coloraxis": {
         "colorbar": {
          "title": {
           "text": "count"
          }
         },
         "colorscale": [
          [
           0,
           "#0d0887"
          ],
          [
           0.1111111111111111,
           "#46039f"
          ],
          [
           0.2222222222222222,
           "#7201a8"
          ],
          [
           0.3333333333333333,
           "#9c179e"
          ],
          [
           0.4444444444444444,
           "#bd3786"
          ],
          [
           0.5555555555555556,
           "#d8576b"
          ],
          [
           0.6666666666666666,
           "#ed7953"
          ],
          [
           0.7777777777777778,
           "#fb9f3a"
          ],
          [
           0.8888888888888888,
           "#fdca26"
          ],
          [
           1,
           "#f0f921"
          ]
         ]
        },
        "height": 500,
        "legend": {
         "tracegroupgap": 0
        },
        "margin": {
         "t": 60
        },
        "template": {
         "data": {
          "bar": [
           {
            "error_x": {
             "color": "#2a3f5f"
            },
            "error_y": {
             "color": "#2a3f5f"
            },
            "marker": {
             "line": {
              "color": "#E5ECF6",
              "width": 0.5
             },
             "pattern": {
              "fillmode": "overlay",
              "size": 10,
              "solidity": 0.2
             }
            },
            "type": "bar"
           }
          ],
          "barpolar": [
           {
            "marker": {
             "line": {
              "color": "#E5ECF6",
              "width": 0.5
             },
             "pattern": {
              "fillmode": "overlay",
              "size": 10,
              "solidity": 0.2
             }
            },
            "type": "barpolar"
           }
          ],
          "carpet": [
           {
            "aaxis": {
             "endlinecolor": "#2a3f5f",
             "gridcolor": "white",
             "linecolor": "white",
             "minorgridcolor": "white",
             "startlinecolor": "#2a3f5f"
            },
            "baxis": {
             "endlinecolor": "#2a3f5f",
             "gridcolor": "white",
             "linecolor": "white",
             "minorgridcolor": "white",
             "startlinecolor": "#2a3f5f"
            },
            "type": "carpet"
           }
          ],
          "choropleth": [
           {
            "colorbar": {
             "outlinewidth": 0,
             "ticks": ""
            },
            "type": "choropleth"
           }
          ],
          "contour": [
           {
            "colorbar": {
             "outlinewidth": 0,
             "ticks": ""
            },
            "colorscale": [
             [
              0,
              "#0d0887"
             ],
             [
              0.1111111111111111,
              "#46039f"
             ],
             [
              0.2222222222222222,
              "#7201a8"
             ],
             [
              0.3333333333333333,
              "#9c179e"
             ],
             [
              0.4444444444444444,
              "#bd3786"
             ],
             [
              0.5555555555555556,
              "#d8576b"
             ],
             [
              0.6666666666666666,
              "#ed7953"
             ],
             [
              0.7777777777777778,
              "#fb9f3a"
             ],
             [
              0.8888888888888888,
              "#fdca26"
             ],
             [
              1,
              "#f0f921"
             ]
            ],
            "type": "contour"
           }
          ],
          "contourcarpet": [
           {
            "colorbar": {
             "outlinewidth": 0,
             "ticks": ""
            },
            "type": "contourcarpet"
           }
          ],
          "heatmap": [
           {
            "colorbar": {
             "outlinewidth": 0,
             "ticks": ""
            },
            "colorscale": [
             [
              0,
              "#0d0887"
             ],
             [
              0.1111111111111111,
              "#46039f"
             ],
             [
              0.2222222222222222,
              "#7201a8"
             ],
             [
              0.3333333333333333,
              "#9c179e"
             ],
             [
              0.4444444444444444,
              "#bd3786"
             ],
             [
              0.5555555555555556,
              "#d8576b"
             ],
             [
              0.6666666666666666,
              "#ed7953"
             ],
             [
              0.7777777777777778,
              "#fb9f3a"
             ],
             [
              0.8888888888888888,
              "#fdca26"
             ],
             [
              1,
              "#f0f921"
             ]
            ],
            "type": "heatmap"
           }
          ],
          "heatmapgl": [
           {
            "colorbar": {
             "outlinewidth": 0,
             "ticks": ""
            },
            "colorscale": [
             [
              0,
              "#0d0887"
             ],
             [
              0.1111111111111111,
              "#46039f"
             ],
             [
              0.2222222222222222,
              "#7201a8"
             ],
             [
              0.3333333333333333,
              "#9c179e"
             ],
             [
              0.4444444444444444,
              "#bd3786"
             ],
             [
              0.5555555555555556,
              "#d8576b"
             ],
             [
              0.6666666666666666,
              "#ed7953"
             ],
             [
              0.7777777777777778,
              "#fb9f3a"
             ],
             [
              0.8888888888888888,
              "#fdca26"
             ],
             [
              1,
              "#f0f921"
             ]
            ],
            "type": "heatmapgl"
           }
          ],
          "histogram": [
           {
            "marker": {
             "pattern": {
              "fillmode": "overlay",
              "size": 10,
              "solidity": 0.2
             }
            },
            "type": "histogram"
           }
          ],
          "histogram2d": [
           {
            "colorbar": {
             "outlinewidth": 0,
             "ticks": ""
            },
            "colorscale": [
             [
              0,
              "#0d0887"
             ],
             [
              0.1111111111111111,
              "#46039f"
             ],
             [
              0.2222222222222222,
              "#7201a8"
             ],
             [
              0.3333333333333333,
              "#9c179e"
             ],
             [
              0.4444444444444444,
              "#bd3786"
             ],
             [
              0.5555555555555556,
              "#d8576b"
             ],
             [
              0.6666666666666666,
              "#ed7953"
             ],
             [
              0.7777777777777778,
              "#fb9f3a"
             ],
             [
              0.8888888888888888,
              "#fdca26"
             ],
             [
              1,
              "#f0f921"
             ]
            ],
            "type": "histogram2d"
           }
          ],
          "histogram2dcontour": [
           {
            "colorbar": {
             "outlinewidth": 0,
             "ticks": ""
            },
            "colorscale": [
             [
              0,
              "#0d0887"
             ],
             [
              0.1111111111111111,
              "#46039f"
             ],
             [
              0.2222222222222222,
              "#7201a8"
             ],
             [
              0.3333333333333333,
              "#9c179e"
             ],
             [
              0.4444444444444444,
              "#bd3786"
             ],
             [
              0.5555555555555556,
              "#d8576b"
             ],
             [
              0.6666666666666666,
              "#ed7953"
             ],
             [
              0.7777777777777778,
              "#fb9f3a"
             ],
             [
              0.8888888888888888,
              "#fdca26"
             ],
             [
              1,
              "#f0f921"
             ]
            ],
            "type": "histogram2dcontour"
           }
          ],
          "mesh3d": [
           {
            "colorbar": {
             "outlinewidth": 0,
             "ticks": ""
            },
            "type": "mesh3d"
           }
          ],
          "parcoords": [
           {
            "line": {
             "colorbar": {
              "outlinewidth": 0,
              "ticks": ""
             }
            },
            "type": "parcoords"
           }
          ],
          "pie": [
           {
            "automargin": true,
            "type": "pie"
           }
          ],
          "scatter": [
           {
            "fillpattern": {
             "fillmode": "overlay",
             "size": 10,
             "solidity": 0.2
            },
            "type": "scatter"
           }
          ],
          "scatter3d": [
           {
            "line": {
             "colorbar": {
              "outlinewidth": 0,
              "ticks": ""
             }
            },
            "marker": {
             "colorbar": {
              "outlinewidth": 0,
              "ticks": ""
             }
            },
            "type": "scatter3d"
           }
          ],
          "scattercarpet": [
           {
            "marker": {
             "colorbar": {
              "outlinewidth": 0,
              "ticks": ""
             }
            },
            "type": "scattercarpet"
           }
          ],
          "scattergeo": [
           {
            "marker": {
             "colorbar": {
              "outlinewidth": 0,
              "ticks": ""
             }
            },
            "type": "scattergeo"
           }
          ],
          "scattergl": [
           {
            "marker": {
             "colorbar": {
              "outlinewidth": 0,
              "ticks": ""
             }
            },
            "type": "scattergl"
           }
          ],
          "scattermapbox": [
           {
            "marker": {
             "colorbar": {
              "outlinewidth": 0,
              "ticks": ""
             }
            },
            "type": "scattermapbox"
           }
          ],
          "scatterpolar": [
           {
            "marker": {
             "colorbar": {
              "outlinewidth": 0,
              "ticks": ""
             }
            },
            "type": "scatterpolar"
           }
          ],
          "scatterpolargl": [
           {
            "marker": {
             "colorbar": {
              "outlinewidth": 0,
              "ticks": ""
             }
            },
            "type": "scatterpolargl"
           }
          ],
          "scatterternary": [
           {
            "marker": {
             "colorbar": {
              "outlinewidth": 0,
              "ticks": ""
             }
            },
            "type": "scatterternary"
           }
          ],
          "surface": [
           {
            "colorbar": {
             "outlinewidth": 0,
             "ticks": ""
            },
            "colorscale": [
             [
              0,
              "#0d0887"
             ],
             [
              0.1111111111111111,
              "#46039f"
             ],
             [
              0.2222222222222222,
              "#7201a8"
             ],
             [
              0.3333333333333333,
              "#9c179e"
             ],
             [
              0.4444444444444444,
              "#bd3786"
             ],
             [
              0.5555555555555556,
              "#d8576b"
             ],
             [
              0.6666666666666666,
              "#ed7953"
             ],
             [
              0.7777777777777778,
              "#fb9f3a"
             ],
             [
              0.8888888888888888,
              "#fdca26"
             ],
             [
              1,
              "#f0f921"
             ]
            ],
            "type": "surface"
           }
          ],
          "table": [
           {
            "cells": {
             "fill": {
              "color": "#EBF0F8"
             },
             "line": {
              "color": "white"
             }
            },
            "header": {
             "fill": {
              "color": "#C8D4E3"
             },
             "line": {
              "color": "white"
             }
            },
            "type": "table"
           }
          ]
         },
         "layout": {
          "annotationdefaults": {
           "arrowcolor": "#2a3f5f",
           "arrowhead": 0,
           "arrowwidth": 1
          },
          "autotypenumbers": "strict",
          "coloraxis": {
           "colorbar": {
            "outlinewidth": 0,
            "ticks": ""
           }
          },
          "colorscale": {
           "diverging": [
            [
             0,
             "#8e0152"
            ],
            [
             0.1,
             "#c51b7d"
            ],
            [
             0.2,
             "#de77ae"
            ],
            [
             0.3,
             "#f1b6da"
            ],
            [
             0.4,
             "#fde0ef"
            ],
            [
             0.5,
             "#f7f7f7"
            ],
            [
             0.6,
             "#e6f5d0"
            ],
            [
             0.7,
             "#b8e186"
            ],
            [
             0.8,
             "#7fbc41"
            ],
            [
             0.9,
             "#4d9221"
            ],
            [
             1,
             "#276419"
            ]
           ],
           "sequential": [
            [
             0,
             "#0d0887"
            ],
            [
             0.1111111111111111,
             "#46039f"
            ],
            [
             0.2222222222222222,
             "#7201a8"
            ],
            [
             0.3333333333333333,
             "#9c179e"
            ],
            [
             0.4444444444444444,
             "#bd3786"
            ],
            [
             0.5555555555555556,
             "#d8576b"
            ],
            [
             0.6666666666666666,
             "#ed7953"
            ],
            [
             0.7777777777777778,
             "#fb9f3a"
            ],
            [
             0.8888888888888888,
             "#fdca26"
            ],
            [
             1,
             "#f0f921"
            ]
           ],
           "sequentialminus": [
            [
             0,
             "#0d0887"
            ],
            [
             0.1111111111111111,
             "#46039f"
            ],
            [
             0.2222222222222222,
             "#7201a8"
            ],
            [
             0.3333333333333333,
             "#9c179e"
            ],
            [
             0.4444444444444444,
             "#bd3786"
            ],
            [
             0.5555555555555556,
             "#d8576b"
            ],
            [
             0.6666666666666666,
             "#ed7953"
            ],
            [
             0.7777777777777778,
             "#fb9f3a"
            ],
            [
             0.8888888888888888,
             "#fdca26"
            ],
            [
             1,
             "#f0f921"
            ]
           ]
          },
          "colorway": [
           "#636efa",
           "#EF553B",
           "#00cc96",
           "#ab63fa",
           "#FFA15A",
           "#19d3f3",
           "#FF6692",
           "#B6E880",
           "#FF97FF",
           "#FECB52"
          ],
          "font": {
           "color": "#2a3f5f"
          },
          "geo": {
           "bgcolor": "white",
           "lakecolor": "white",
           "landcolor": "#E5ECF6",
           "showlakes": true,
           "showland": true,
           "subunitcolor": "white"
          },
          "hoverlabel": {
           "align": "left"
          },
          "hovermode": "closest",
          "mapbox": {
           "style": "light"
          },
          "paper_bgcolor": "white",
          "plot_bgcolor": "#E5ECF6",
          "polar": {
           "angularaxis": {
            "gridcolor": "white",
            "linecolor": "white",
            "ticks": ""
           },
           "bgcolor": "#E5ECF6",
           "radialaxis": {
            "gridcolor": "white",
            "linecolor": "white",
            "ticks": ""
           }
          },
          "scene": {
           "xaxis": {
            "backgroundcolor": "#E5ECF6",
            "gridcolor": "white",
            "gridwidth": 2,
            "linecolor": "white",
            "showbackground": true,
            "ticks": "",
            "zerolinecolor": "white"
           },
           "yaxis": {
            "backgroundcolor": "#E5ECF6",
            "gridcolor": "white",
            "gridwidth": 2,
            "linecolor": "white",
            "showbackground": true,
            "ticks": "",
            "zerolinecolor": "white"
           },
           "zaxis": {
            "backgroundcolor": "#E5ECF6",
            "gridcolor": "white",
            "gridwidth": 2,
            "linecolor": "white",
            "showbackground": true,
            "ticks": "",
            "zerolinecolor": "white"
           }
          },
          "shapedefaults": {
           "line": {
            "color": "#2a3f5f"
           }
          },
          "ternary": {
           "aaxis": {
            "gridcolor": "white",
            "linecolor": "white",
            "ticks": ""
           },
           "baxis": {
            "gridcolor": "white",
            "linecolor": "white",
            "ticks": ""
           },
           "bgcolor": "#E5ECF6",
           "caxis": {
            "gridcolor": "white",
            "linecolor": "white",
            "ticks": ""
           }
          },
          "title": {
           "x": 0.05
          },
          "xaxis": {
           "automargin": true,
           "gridcolor": "white",
           "linecolor": "white",
           "ticks": "",
           "title": {
            "standoff": 15
           },
           "zerolinecolor": "white",
           "zerolinewidth": 2
          },
          "yaxis": {
           "automargin": true,
           "gridcolor": "white",
           "linecolor": "white",
           "ticks": "",
           "title": {
            "standoff": 15
           },
           "zerolinecolor": "white",
           "zerolinewidth": 2
          }
         }
        },
        "width": 500,
        "xaxis": {
         "anchor": "y",
         "domain": [
          0,
          1
         ],
         "title": {
          "text": "sepal_width"
         }
        },
        "yaxis": {
         "anchor": "x",
         "domain": [
          0,
          1
         ],
         "title": {
          "text": "sepal_length"
         }
        }
       }
      },
      "text/html": [
       "<div>                            <div id=\"8c431386-bff4-47da-94ff-685f5cea6072\" class=\"plotly-graph-div\" style=\"height:500px; width:500px;\"></div>            <script type=\"text/javascript\">                require([\"plotly\"], function(Plotly) {                    window.PLOTLYENV=window.PLOTLYENV || {};                                    if (document.getElementById(\"8c431386-bff4-47da-94ff-685f5cea6072\")) {                    Plotly.newPlot(                        \"8c431386-bff4-47da-94ff-685f5cea6072\",                        [{\"coloraxis\":\"coloraxis\",\"hovertemplate\":\"sepal_width=%{x}<br>sepal_length=%{y}<br>count=%{z}<extra></extra>\",\"name\":\"\",\"x\":[3.5,3.0,3.2,3.1,3.6,3.9,3.4,3.4,2.9,3.1,3.7,3.4,3.0,3.0,4.0,4.4,3.9,3.5,3.8,3.8,3.4,3.7,3.6,3.3,3.4,3.0,3.4,3.5,3.4,3.2,3.1,3.4,4.1,4.2,3.1,3.2,3.5,3.1,3.0,3.4,3.5,2.3,3.2,3.5,3.8,3.0,3.8,3.2,3.7,3.3,3.2,3.2,3.1,2.3,2.8,2.8,3.3,2.4,2.9,2.7,2.0,3.0,2.2,2.9,2.9,3.1,3.0,2.7,2.2,2.5,3.2,2.8,2.5,2.8,2.9,3.0,2.8,3.0,2.9,2.6,2.4,2.4,2.7,2.7,3.0,3.4,3.1,2.3,3.0,2.5,2.6,3.0,2.6,2.3,2.7,3.0,2.9,2.9,2.5,2.8,3.3,2.7,3.0,2.9,3.0,3.0,2.5,2.9,2.5,3.6,3.2,2.7,3.0,2.5,2.8,3.2,3.0,3.8,2.6,2.2,3.2,2.8,2.8,2.7,3.3,3.2,2.8,3.0,2.8,3.0,2.8,3.8,2.8,2.8,2.6,3.0,3.4,3.1,3.0,3.1,3.1,3.1,2.7,3.2,3.3,3.0,2.5,3.0,3.4,3.0],\"xaxis\":\"x\",\"xbingroup\":\"x\",\"y\":[5.1,4.9,4.7,4.6,5.0,5.4,4.6,5.0,4.4,4.9,5.4,4.8,4.8,4.3,5.8,5.7,5.4,5.1,5.7,5.1,5.4,5.1,4.6,5.1,4.8,5.0,5.0,5.2,5.2,4.7,4.8,5.4,5.2,5.5,4.9,5.0,5.5,4.9,4.4,5.1,5.0,4.5,4.4,5.0,5.1,4.8,5.1,4.6,5.3,5.0,7.0,6.4,6.9,5.5,6.5,5.7,6.3,4.9,6.6,5.2,5.0,5.9,6.0,6.1,5.6,6.7,5.6,5.8,6.2,5.6,5.9,6.1,6.3,6.1,6.4,6.6,6.8,6.7,6.0,5.7,5.5,5.5,5.8,6.0,5.4,6.0,6.7,6.3,5.6,5.5,5.5,6.1,5.8,5.0,5.6,5.7,5.7,6.2,5.1,5.7,6.3,5.8,7.1,6.3,6.5,7.6,4.9,7.3,6.7,7.2,6.5,6.4,6.8,5.7,5.8,6.4,6.5,7.7,7.7,6.0,6.9,5.6,7.7,6.3,6.7,7.2,6.2,6.1,6.4,7.2,7.4,7.9,6.4,6.3,6.1,7.7,6.3,6.4,6.0,6.9,6.7,6.9,5.8,6.8,6.7,6.7,6.3,6.5,6.2,5.9],\"yaxis\":\"y\",\"ybingroup\":\"y\",\"type\":\"histogram2d\"}],                        {\"template\":{\"data\":{\"histogram2dcontour\":[{\"type\":\"histogram2dcontour\",\"colorbar\":{\"outlinewidth\":0,\"ticks\":\"\"},\"colorscale\":[[0.0,\"#0d0887\"],[0.1111111111111111,\"#46039f\"],[0.2222222222222222,\"#7201a8\"],[0.3333333333333333,\"#9c179e\"],[0.4444444444444444,\"#bd3786\"],[0.5555555555555556,\"#d8576b\"],[0.6666666666666666,\"#ed7953\"],[0.7777777777777778,\"#fb9f3a\"],[0.8888888888888888,\"#fdca26\"],[1.0,\"#f0f921\"]]}],\"choropleth\":[{\"type\":\"choropleth\",\"colorbar\":{\"outlinewidth\":0,\"ticks\":\"\"}}],\"histogram2d\":[{\"type\":\"histogram2d\",\"colorbar\":{\"outlinewidth\":0,\"ticks\":\"\"},\"colorscale\":[[0.0,\"#0d0887\"],[0.1111111111111111,\"#46039f\"],[0.2222222222222222,\"#7201a8\"],[0.3333333333333333,\"#9c179e\"],[0.4444444444444444,\"#bd3786\"],[0.5555555555555556,\"#d8576b\"],[0.6666666666666666,\"#ed7953\"],[0.7777777777777778,\"#fb9f3a\"],[0.8888888888888888,\"#fdca26\"],[1.0,\"#f0f921\"]]}],\"heatmap\":[{\"type\":\"heatmap\",\"colorbar\":{\"outlinewidth\":0,\"ticks\":\"\"},\"colorscale\":[[0.0,\"#0d0887\"],[0.1111111111111111,\"#46039f\"],[0.2222222222222222,\"#7201a8\"],[0.3333333333333333,\"#9c179e\"],[0.4444444444444444,\"#bd3786\"],[0.5555555555555556,\"#d8576b\"],[0.6666666666666666,\"#ed7953\"],[0.7777777777777778,\"#fb9f3a\"],[0.8888888888888888,\"#fdca26\"],[1.0,\"#f0f921\"]]}],\"heatmapgl\":[{\"type\":\"heatmapgl\",\"colorbar\":{\"outlinewidth\":0,\"ticks\":\"\"},\"colorscale\":[[0.0,\"#0d0887\"],[0.1111111111111111,\"#46039f\"],[0.2222222222222222,\"#7201a8\"],[0.3333333333333333,\"#9c179e\"],[0.4444444444444444,\"#bd3786\"],[0.5555555555555556,\"#d8576b\"],[0.6666666666666666,\"#ed7953\"],[0.7777777777777778,\"#fb9f3a\"],[0.8888888888888888,\"#fdca26\"],[1.0,\"#f0f921\"]]}],\"contourcarpet\":[{\"type\":\"contourcarpet\",\"colorbar\":{\"outlinewidth\":0,\"ticks\":\"\"}}],\"contour\":[{\"type\":\"contour\",\"colorbar\":{\"outlinewidth\":0,\"ticks\":\"\"},\"colorscale\":[[0.0,\"#0d0887\"],[0.1111111111111111,\"#46039f\"],[0.2222222222222222,\"#7201a8\"],[0.3333333333333333,\"#9c179e\"],[0.4444444444444444,\"#bd3786\"],[0.5555555555555556,\"#d8576b\"],[0.6666666666666666,\"#ed7953\"],[0.7777777777777778,\"#fb9f3a\"],[0.8888888888888888,\"#fdca26\"],[1.0,\"#f0f921\"]]}],\"surface\":[{\"type\":\"surface\",\"colorbar\":{\"outlinewidth\":0,\"ticks\":\"\"},\"colorscale\":[[0.0,\"#0d0887\"],[0.1111111111111111,\"#46039f\"],[0.2222222222222222,\"#7201a8\"],[0.3333333333333333,\"#9c179e\"],[0.4444444444444444,\"#bd3786\"],[0.5555555555555556,\"#d8576b\"],[0.6666666666666666,\"#ed7953\"],[0.7777777777777778,\"#fb9f3a\"],[0.8888888888888888,\"#fdca26\"],[1.0,\"#f0f921\"]]}],\"mesh3d\":[{\"type\":\"mesh3d\",\"colorbar\":{\"outlinewidth\":0,\"ticks\":\"\"}}],\"scatter\":[{\"fillpattern\":{\"fillmode\":\"overlay\",\"size\":10,\"solidity\":0.2},\"type\":\"scatter\"}],\"parcoords\":[{\"type\":\"parcoords\",\"line\":{\"colorbar\":{\"outlinewidth\":0,\"ticks\":\"\"}}}],\"scatterpolargl\":[{\"type\":\"scatterpolargl\",\"marker\":{\"colorbar\":{\"outlinewidth\":0,\"ticks\":\"\"}}}],\"bar\":[{\"error_x\":{\"color\":\"#2a3f5f\"},\"error_y\":{\"color\":\"#2a3f5f\"},\"marker\":{\"line\":{\"color\":\"#E5ECF6\",\"width\":0.5},\"pattern\":{\"fillmode\":\"overlay\",\"size\":10,\"solidity\":0.2}},\"type\":\"bar\"}],\"scattergeo\":[{\"type\":\"scattergeo\",\"marker\":{\"colorbar\":{\"outlinewidth\":0,\"ticks\":\"\"}}}],\"scatterpolar\":[{\"type\":\"scatterpolar\",\"marker\":{\"colorbar\":{\"outlinewidth\":0,\"ticks\":\"\"}}}],\"histogram\":[{\"marker\":{\"pattern\":{\"fillmode\":\"overlay\",\"size\":10,\"solidity\":0.2}},\"type\":\"histogram\"}],\"scattergl\":[{\"type\":\"scattergl\",\"marker\":{\"colorbar\":{\"outlinewidth\":0,\"ticks\":\"\"}}}],\"scatter3d\":[{\"type\":\"scatter3d\",\"line\":{\"colorbar\":{\"outlinewidth\":0,\"ticks\":\"\"}},\"marker\":{\"colorbar\":{\"outlinewidth\":0,\"ticks\":\"\"}}}],\"scattermapbox\":[{\"type\":\"scattermapbox\",\"marker\":{\"colorbar\":{\"outlinewidth\":0,\"ticks\":\"\"}}}],\"scatterternary\":[{\"type\":\"scatterternary\",\"marker\":{\"colorbar\":{\"outlinewidth\":0,\"ticks\":\"\"}}}],\"scattercarpet\":[{\"type\":\"scattercarpet\",\"marker\":{\"colorbar\":{\"outlinewidth\":0,\"ticks\":\"\"}}}],\"carpet\":[{\"aaxis\":{\"endlinecolor\":\"#2a3f5f\",\"gridcolor\":\"white\",\"linecolor\":\"white\",\"minorgridcolor\":\"white\",\"startlinecolor\":\"#2a3f5f\"},\"baxis\":{\"endlinecolor\":\"#2a3f5f\",\"gridcolor\":\"white\",\"linecolor\":\"white\",\"minorgridcolor\":\"white\",\"startlinecolor\":\"#2a3f5f\"},\"type\":\"carpet\"}],\"table\":[{\"cells\":{\"fill\":{\"color\":\"#EBF0F8\"},\"line\":{\"color\":\"white\"}},\"header\":{\"fill\":{\"color\":\"#C8D4E3\"},\"line\":{\"color\":\"white\"}},\"type\":\"table\"}],\"barpolar\":[{\"marker\":{\"line\":{\"color\":\"#E5ECF6\",\"width\":0.5},\"pattern\":{\"fillmode\":\"overlay\",\"size\":10,\"solidity\":0.2}},\"type\":\"barpolar\"}],\"pie\":[{\"automargin\":true,\"type\":\"pie\"}]},\"layout\":{\"autotypenumbers\":\"strict\",\"colorway\":[\"#636efa\",\"#EF553B\",\"#00cc96\",\"#ab63fa\",\"#FFA15A\",\"#19d3f3\",\"#FF6692\",\"#B6E880\",\"#FF97FF\",\"#FECB52\"],\"font\":{\"color\":\"#2a3f5f\"},\"hovermode\":\"closest\",\"hoverlabel\":{\"align\":\"left\"},\"paper_bgcolor\":\"white\",\"plot_bgcolor\":\"#E5ECF6\",\"polar\":{\"bgcolor\":\"#E5ECF6\",\"angularaxis\":{\"gridcolor\":\"white\",\"linecolor\":\"white\",\"ticks\":\"\"},\"radialaxis\":{\"gridcolor\":\"white\",\"linecolor\":\"white\",\"ticks\":\"\"}},\"ternary\":{\"bgcolor\":\"#E5ECF6\",\"aaxis\":{\"gridcolor\":\"white\",\"linecolor\":\"white\",\"ticks\":\"\"},\"baxis\":{\"gridcolor\":\"white\",\"linecolor\":\"white\",\"ticks\":\"\"},\"caxis\":{\"gridcolor\":\"white\",\"linecolor\":\"white\",\"ticks\":\"\"}},\"coloraxis\":{\"colorbar\":{\"outlinewidth\":0,\"ticks\":\"\"}},\"colorscale\":{\"sequential\":[[0.0,\"#0d0887\"],[0.1111111111111111,\"#46039f\"],[0.2222222222222222,\"#7201a8\"],[0.3333333333333333,\"#9c179e\"],[0.4444444444444444,\"#bd3786\"],[0.5555555555555556,\"#d8576b\"],[0.6666666666666666,\"#ed7953\"],[0.7777777777777778,\"#fb9f3a\"],[0.8888888888888888,\"#fdca26\"],[1.0,\"#f0f921\"]],\"sequentialminus\":[[0.0,\"#0d0887\"],[0.1111111111111111,\"#46039f\"],[0.2222222222222222,\"#7201a8\"],[0.3333333333333333,\"#9c179e\"],[0.4444444444444444,\"#bd3786\"],[0.5555555555555556,\"#d8576b\"],[0.6666666666666666,\"#ed7953\"],[0.7777777777777778,\"#fb9f3a\"],[0.8888888888888888,\"#fdca26\"],[1.0,\"#f0f921\"]],\"diverging\":[[0,\"#8e0152\"],[0.1,\"#c51b7d\"],[0.2,\"#de77ae\"],[0.3,\"#f1b6da\"],[0.4,\"#fde0ef\"],[0.5,\"#f7f7f7\"],[0.6,\"#e6f5d0\"],[0.7,\"#b8e186\"],[0.8,\"#7fbc41\"],[0.9,\"#4d9221\"],[1,\"#276419\"]]},\"xaxis\":{\"gridcolor\":\"white\",\"linecolor\":\"white\",\"ticks\":\"\",\"title\":{\"standoff\":15},\"zerolinecolor\":\"white\",\"automargin\":true,\"zerolinewidth\":2},\"yaxis\":{\"gridcolor\":\"white\",\"linecolor\":\"white\",\"ticks\":\"\",\"title\":{\"standoff\":15},\"zerolinecolor\":\"white\",\"automargin\":true,\"zerolinewidth\":2},\"scene\":{\"xaxis\":{\"backgroundcolor\":\"#E5ECF6\",\"gridcolor\":\"white\",\"linecolor\":\"white\",\"showbackground\":true,\"ticks\":\"\",\"zerolinecolor\":\"white\",\"gridwidth\":2},\"yaxis\":{\"backgroundcolor\":\"#E5ECF6\",\"gridcolor\":\"white\",\"linecolor\":\"white\",\"showbackground\":true,\"ticks\":\"\",\"zerolinecolor\":\"white\",\"gridwidth\":2},\"zaxis\":{\"backgroundcolor\":\"#E5ECF6\",\"gridcolor\":\"white\",\"linecolor\":\"white\",\"showbackground\":true,\"ticks\":\"\",\"zerolinecolor\":\"white\",\"gridwidth\":2}},\"shapedefaults\":{\"line\":{\"color\":\"#2a3f5f\"}},\"annotationdefaults\":{\"arrowcolor\":\"#2a3f5f\",\"arrowhead\":0,\"arrowwidth\":1},\"geo\":{\"bgcolor\":\"white\",\"landcolor\":\"#E5ECF6\",\"subunitcolor\":\"white\",\"showland\":true,\"showlakes\":true,\"lakecolor\":\"white\"},\"title\":{\"x\":0.05},\"mapbox\":{\"style\":\"light\"}}},\"xaxis\":{\"anchor\":\"y\",\"domain\":[0.0,1.0],\"title\":{\"text\":\"sepal_width\"}},\"yaxis\":{\"anchor\":\"x\",\"domain\":[0.0,1.0],\"title\":{\"text\":\"sepal_length\"}},\"coloraxis\":{\"colorbar\":{\"title\":{\"text\":\"count\"}},\"colorscale\":[[0.0,\"#0d0887\"],[0.1111111111111111,\"#46039f\"],[0.2222222222222222,\"#7201a8\"],[0.3333333333333333,\"#9c179e\"],[0.4444444444444444,\"#bd3786\"],[0.5555555555555556,\"#d8576b\"],[0.6666666666666666,\"#ed7953\"],[0.7777777777777778,\"#fb9f3a\"],[0.8888888888888888,\"#fdca26\"],[1.0,\"#f0f921\"]]},\"legend\":{\"tracegroupgap\":0},\"margin\":{\"t\":60},\"width\":500,\"height\":500},                        {\"responsive\": true}                    ).then(function(){\n",
       "                            \n",
       "var gd = document.getElementById('8c431386-bff4-47da-94ff-685f5cea6072');\n",
       "var x = new MutationObserver(function (mutations, observer) {{\n",
       "        var display = window.getComputedStyle(gd).display;\n",
       "        if (!display || display === 'none') {{\n",
       "            console.log([gd, 'removed!']);\n",
       "            Plotly.purge(gd);\n",
       "            observer.disconnect();\n",
       "        }}\n",
       "}});\n",
       "\n",
       "// Listen for the removal of the full notebook cells\n",
       "var notebookContainer = gd.closest('#notebook-container');\n",
       "if (notebookContainer) {{\n",
       "    x.observe(notebookContainer, {childList: true});\n",
       "}}\n",
       "\n",
       "// Listen for the clearing of the current output cell\n",
       "var outputEl = gd.closest('.output');\n",
       "if (outputEl) {{\n",
       "    x.observe(outputEl, {childList: true});\n",
       "}}\n",
       "\n",
       "                        })                };                });            </script>        </div>"
      ]
     },
     "metadata": {},
     "output_type": "display_data"
    }
   ],
   "source": [
    "\"\"\" Heatmaps \"\"\"\n",
    "fig = px.density_heatmap(df, x=\"sepal_width\", y=\"sepal_length\")\n",
    "# Reduce image\n",
    "fig.update_layout(width=500,height=500)\n",
    "fig.show()"
   ]
  },
  {
   "cell_type": "code",
   "execution_count": null,
   "metadata": {},
   "outputs": [],
   "source": []
  }
 ],
 "metadata": {
  "kernelspec": {
   "display_name": "MLearning",
   "language": "python",
   "name": "python3"
  },
  "language_info": {
   "codemirror_mode": {
    "name": "ipython",
    "version": 3
   },
   "file_extension": ".py",
   "mimetype": "text/x-python",
   "name": "python",
   "nbconvert_exporter": "python",
   "pygments_lexer": "ipython3",
   "version": "3.10.9"
  }
 },
 "nbformat": 4,
 "nbformat_minor": 2
}
