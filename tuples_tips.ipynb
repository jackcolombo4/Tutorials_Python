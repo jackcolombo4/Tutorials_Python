{
 "cells": [
  {
   "cell_type": "markdown",
   "metadata": {},
   "source": [
    "<h1 style=\"color:sienna\"> Tuples in Python </h1>"
   ]
  },
  {
   "cell_type": "code",
   "execution_count": 25,
   "metadata": {},
   "outputs": [],
   "source": [
    "from collections import namedtuple"
   ]
  },
  {
   "cell_type": "code",
   "execution_count": 11,
   "metadata": {},
   "outputs": [
    {
     "data": {
      "text/plain": [
       "(13, 4)"
      ]
     },
     "execution_count": 11,
     "metadata": {},
     "output_type": "execute_result"
    }
   ],
   "source": [
    "a_point = (13, 4)\n",
    "a_point"
   ]
  },
  {
   "cell_type": "code",
   "execution_count": 14,
   "metadata": {},
   "outputs": [
    {
     "data": {
      "text/plain": [
       "('height', 'shade', 'size')"
      ]
     },
     "execution_count": 14,
     "metadata": {},
     "output_type": "execute_result"
    }
   ],
   "source": [
    "\"\"\" Tuple constructor \"\"\"\n",
    "features = tuple([\"height\", \"shade\", \"size\"])\n",
    "features"
   ]
  },
  {
   "cell_type": "code",
   "execution_count": 16,
   "metadata": {},
   "outputs": [
    {
     "data": {
      "text/plain": [
       "('shade',)"
      ]
     },
     "execution_count": 16,
     "metadata": {},
     "output_type": "execute_result"
    }
   ],
   "source": [
    "\"\"\" Slicing \"\"\"\n",
    "subset = features[1:2]\n",
    "subset"
   ]
  },
  {
   "cell_type": "code",
   "execution_count": 21,
   "metadata": {},
   "outputs": [
    {
     "name": "stdout",
     "output_type": "stream",
     "text": [
      "('Num of rows is:', 25)\n",
      "<class 'tuple'>\n"
     ]
    }
   ],
   "source": [
    "\"\"\" Multiple returns \"\"\"\n",
    "def return_something():\n",
    "    return \"Num of rows is:\", 25\n",
    "\n",
    "stri, numb = return_something()\n",
    "retu = return_something()\n",
    "print(retu)\n",
    "print(type(retu))"
   ]
  },
  {
   "cell_type": "code",
   "execution_count": 24,
   "metadata": {},
   "outputs": [
    {
     "data": {
      "text/plain": [
       "Points(x=1, y=2)"
      ]
     },
     "execution_count": 24,
     "metadata": {},
     "output_type": "execute_result"
    }
   ],
   "source": [
    "\"\"\" Collection \"\"\"\n",
    "coordinat = namedtuple(\"Points\", [\"x\", \"y\"])\n",
    "c = coordinat(1, 2)\n",
    "c"
   ]
  },
  {
   "cell_type": "code",
   "execution_count": 27,
   "metadata": {},
   "outputs": [
    {
     "data": {
      "text/plain": [
       "('con', 'cate', 'nate', 1, 2, 3, 4, 5)"
      ]
     },
     "execution_count": 27,
     "metadata": {},
     "output_type": "execute_result"
    }
   ],
   "source": [
    "\"\"\" Concatenation \"\"\"\n",
    "tu_num = (1, 2, 3, 4, 5)\n",
    "tu_wor = ('con','cate','nate')\n",
    "combined = tu_wor + tu_num\n",
    "combined"
   ]
  },
  {
   "cell_type": "code",
   "execution_count": 28,
   "metadata": {},
   "outputs": [
    {
     "data": {
      "text/plain": [
       "(1, 2, 3, 4, 5)"
      ]
     },
     "execution_count": 28,
     "metadata": {},
     "output_type": "execute_result"
    }
   ],
   "source": [
    "\"\"\" Tuple comprehension \"\"\"\n",
    "numbers = (x for x in range(1, 6))\n",
    "tuple_from_generator = tuple(numbers)\n",
    "tuple_from_generator"
   ]
  },
  {
   "cell_type": "code",
   "execution_count": 2,
   "metadata": {},
   "outputs": [
    {
     "data": {
      "text/plain": [
       "43543"
      ]
     },
     "execution_count": 2,
     "metadata": {},
     "output_type": "execute_result"
    }
   ],
   "source": [
    "tupatupa = (32,43543,234,2,5,754,143654,\"ciao\", \"we\")\n",
    "tupatupa[1]"
   ]
  },
  {
   "cell_type": "code",
   "execution_count": 3,
   "metadata": {},
   "outputs": [
    {
     "name": "stdout",
     "output_type": "stream",
     "text": [
      "'tuple' object does not support item assignment\n",
      "Error!! tuples are immutable\n"
     ]
    }
   ],
   "source": [
    "try:\n",
    "    tupatupa[1] = 23\n",
    "except Exception as e:\n",
    "    print(e)\n",
    "    print(\"Error!! tuples are immutable\")"
   ]
  },
  {
   "cell_type": "markdown",
   "metadata": {},
   "source": [
    "<h3 style=\"color:sienna\"> Unpacking tuples </h3>"
   ]
  },
  {
   "cell_type": "code",
   "execution_count": 4,
   "metadata": {},
   "outputs": [
    {
     "name": "stdout",
     "output_type": "stream",
     "text": [
      "1\n",
      "1\n",
      "1\n",
      "1\n",
      "1\n",
      "[3, 4, 5]\n",
      "5\n"
     ]
    }
   ],
   "source": [
    "a, _ = (1,2)\n",
    "print(a)\n",
    "a,b, c = (1,2,3)\n",
    "print(a)\n",
    "a,b, *c = (1,2,3,4,5)\n",
    "print(a)\n",
    "a,b, *_ = (1,2,3,4,5)\n",
    "print(a)\n",
    "a,b, *_, d = (1,2,3,4,5)\n",
    "print(a)\n",
    "print(c)\n",
    "print(d)"
   ]
  },
  {
   "cell_type": "code",
   "execution_count": 5,
   "metadata": {},
   "outputs": [
    {
     "name": "stdout",
     "output_type": "stream",
     "text": [
      "a b\n",
      "('a', 1)\n",
      "1\n",
      "<built-in method index of tuple object at 0x7fb9cc409a00>\n"
     ]
    }
   ],
   "source": [
    "tup = (1,2,3,4,5,6)\n",
    "lst = [1,2,3,4,5,6]\n",
    "string = \"iceberg\"\n",
    "dic = {\"a\":1,\"b\":2,\"c\":3,\"d\":4,\"e\":5,\"f\":6}\n",
    "coord = [1,2,3,4,5,6]\n",
    "\n",
    "a,b,c,d,e,f = dic\n",
    "a, b"
   ]
  },
  {
   "cell_type": "code",
   "execution_count": 6,
   "metadata": {},
   "outputs": [
    {
     "data": {
      "text/plain": [
       "('a', 1)"
      ]
     },
     "execution_count": 6,
     "metadata": {},
     "output_type": "execute_result"
    }
   ],
   "source": [
    "a, *rest = dic.items()\n",
    "a"
   ]
  },
  {
   "cell_type": "code",
   "execution_count": 10,
   "metadata": {},
   "outputs": [
    {
     "name": "stdout",
     "output_type": "stream",
     "text": [
      "1\n",
      "<built-in method index of tuple object at 0x7fb9cc4099c0>\n"
     ]
    }
   ],
   "source": [
    "print(a[1])\n",
    "print(a.index)"
   ]
  }
 ],
 "metadata": {
  "kernelspec": {
   "display_name": "MLearning",
   "language": "python",
   "name": "python3"
  },
  "language_info": {
   "codemirror_mode": {
    "name": "ipython",
    "version": 3
   },
   "file_extension": ".py",
   "mimetype": "text/x-python",
   "name": "python",
   "nbconvert_exporter": "python",
   "pygments_lexer": "ipython3",
   "version": "3.10.9"
  },
  "orig_nbformat": 4
 },
 "nbformat": 4,
 "nbformat_minor": 2
}
