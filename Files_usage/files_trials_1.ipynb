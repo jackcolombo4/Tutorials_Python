{
 "cells": [
  {
   "cell_type": "markdown",
   "metadata": {},
   "source": [
    "<h1 style=\"color:mediumvioletred\"> Deal with files 1 </h1>"
   ]
  },
  {
   "cell_type": "code",
   "execution_count": 16,
   "metadata": {},
   "outputs": [],
   "source": [
    "import os\n",
    "from pathlib import Path"
   ]
  },
  {
   "cell_type": "markdown",
   "metadata": {},
   "source": [
    "<h3 style=\"color:mediumvioletred\"> Check file existance </h3>"
   ]
  },
  {
   "cell_type": "code",
   "execution_count": 5,
   "metadata": {},
   "outputs": [
    {
     "name": "stdout",
     "output_type": "stream",
     "text": [
      "The File does not exist!\n"
     ]
    }
   ],
   "source": [
    "file_name = 'useless_file_for_trial_1.txt'\n",
    "if os.path.exists(file_name):\n",
    "    print('The File exists!')\n",
    "else: \n",
    "    print(\"The File does not exist!\")"
   ]
  },
  {
   "cell_type": "code",
   "execution_count": 10,
   "metadata": {},
   "outputs": [
    {
     "name": "stdout",
     "output_type": "stream",
     "text": [
      "The file `useless_file_for_trial_1.txt` does not exist\n"
     ]
    }
   ],
   "source": [
    "if not os.path.exists(file_name):\n",
    "    print(f\"The file `{file_name}` does not exist\")\n",
    "else:\n",
    "    print(f\"{file_name} exists!\")"
   ]
  },
  {
   "cell_type": "code",
   "execution_count": 17,
   "metadata": {},
   "outputs": [
    {
     "name": "stdout",
     "output_type": "stream",
     "text": [
      "The file `useless_file_for_trial_1.txt` does not exist\n"
     ]
    }
   ],
   "source": [
    "try:\n",
    "    with open(file_name):\n",
    "        print(f\"{file_name} exists!\")\n",
    "        \n",
    "except FileNotFoundError:\n",
    "    print(f\"The file `{file_name}` does not exist\")"
   ]
  },
  {
   "cell_type": "code",
   "execution_count": 18,
   "metadata": {},
   "outputs": [
    {
     "name": "stdout",
     "output_type": "stream",
     "text": [
      "The file `useless_file_for_trial_1.txt` does not exist\n"
     ]
    }
   ],
   "source": [
    "messages = {\n",
    "    True: f\"{file_name} exists!\",\n",
    "    False: f\"The file `{file_name}` does not exist\"}\n",
    "\n",
    "print(messages.get(os.path.exists(file_name), messages[False]))"
   ]
  },
  {
   "cell_type": "code",
   "execution_count": 19,
   "metadata": {},
   "outputs": [
    {
     "name": "stdout",
     "output_type": "stream",
     "text": [
      "The file `useless_file_for_trial_1.txt` does not exist\n"
     ]
    }
   ],
   "source": [
    "print(f\"{file_name} exists!\" if os.path.exists(file_name) else f\"The file `{file_name}` does not exist\")"
   ]
  },
  {
   "cell_type": "markdown",
   "metadata": {},
   "source": [
    "<h3 style=\"color:mediumvioletred\"> Create a new file </h3>"
   ]
  },
  {
   "cell_type": "code",
   "execution_count": 26,
   "metadata": {},
   "outputs": [],
   "source": [
    "f = open(file_name, 'w')\n",
    "f.close()"
   ]
  },
  {
   "cell_type": "code",
   "execution_count": 25,
   "metadata": {},
   "outputs": [],
   "source": [
    "with open('./data/useless_file_for_trial_1.txt', 'w') as f:\n",
    "    f.write('')"
   ]
  },
  {
   "cell_type": "code",
   "execution_count": 23,
   "metadata": {},
   "outputs": [
    {
     "name": "stdout",
     "output_type": "stream",
     "text": [
      "Skipping: works only if file does not exist.\n"
     ]
    }
   ],
   "source": [
    "%%script echo Skipping: works only if file does not exist.\n",
    "os.mknod('./data/useless_file_for_trial_1.txt')"
   ]
  },
  {
   "cell_type": "code",
   "execution_count": 24,
   "metadata": {},
   "outputs": [],
   "source": [
    "Path('useless_file_for_trial_1.txt').touch()"
   ]
  },
  {
   "cell_type": "markdown",
   "metadata": {},
   "source": [
    "<h2 style=\"color:mediumvioletred\"> <u> Operations: </u></h2>"
   ]
  },
  {
   "cell_type": "code",
   "execution_count": 29,
   "metadata": {},
   "outputs": [],
   "source": [
    "\"\"\" Write \"\"\"\n",
    "with open(file_name, 'w') as f:\n",
    "    f.write('Hello there! This is just some meaningless content.')"
   ]
  },
  {
   "cell_type": "code",
   "execution_count": 30,
   "metadata": {},
   "outputs": [
    {
     "name": "stdout",
     "output_type": "stream",
     "text": [
      "Hello there! This is just some meaningless content.\n"
     ]
    }
   ],
   "source": [
    "\"\"\" Read \"\"\"\n",
    "with open(file_name) as f:\n",
    "    contents = f.read()\n",
    "\n",
    "print(contents)"
   ]
  },
  {
   "cell_type": "code",
   "execution_count": 32,
   "metadata": {},
   "outputs": [],
   "source": [
    "\"\"\" Append \"\"\"\n",
    "with open(file_name, 'a') as f:\n",
    "    f.write('I have appended this line') "
   ]
  },
  {
   "cell_type": "code",
   "execution_count": 33,
   "metadata": {},
   "outputs": [
    {
     "name": "stdout",
     "output_type": "stream",
     "text": [
      "Hello there! This is just some meaningless content.I have appended this file\n"
     ]
    }
   ],
   "source": [
    "\"\"\" Read and print lines \"\"\"\n",
    "with open(file_name) as f:\n",
    "    for line in f:\n",
    "        print(line)"
   ]
  },
  {
   "cell_type": "code",
   "execution_count": 1,
   "metadata": {},
   "outputs": [],
   "source": [
    "input_file = './data/file_dummy_input.txt'\n",
    "output_file = './data/file_dummy_output.txt'\n",
    "with open(input_file, 'r') as input, \\\n",
    "    open(output_file, 'w') as output:\n",
    "    text = input.readlines()\n",
    "    uppercase = [t.upper() for t in text]\n",
    "    output.writelines(uppercase)"
   ]
  }
 ],
 "metadata": {
  "kernelspec": {
   "display_name": "MLearning",
   "language": "python",
   "name": "python3"
  },
  "language_info": {
   "codemirror_mode": {
    "name": "ipython",
    "version": 3
   },
   "file_extension": ".py",
   "mimetype": "text/x-python",
   "name": "python",
   "nbconvert_exporter": "python",
   "pygments_lexer": "ipython3",
   "version": "3.10.9"
  },
  "orig_nbformat": 4
 },
 "nbformat": 4,
 "nbformat_minor": 2
}
