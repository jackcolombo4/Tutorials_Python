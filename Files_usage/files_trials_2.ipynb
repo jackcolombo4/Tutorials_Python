{
 "cells": [
  {
   "attachments": {},
   "cell_type": "markdown",
   "metadata": {},
   "source": [
    "<h1 style=\"color:mediumvioletred\"> Deal with files 2 </h1>"
   ]
  },
  {
   "cell_type": "code",
   "execution_count": 6,
   "metadata": {},
   "outputs": [],
   "source": [
    "import os\n",
    "import csv\n",
    "import sys\n",
    "import random\n",
    "import fileinput\n",
    "from itertools import islice"
   ]
  },
  {
   "cell_type": "markdown",
   "metadata": {},
   "source": [
    "<h3 style=\"color:mediumvioletred\"> Remove words from file </h3>"
   ]
  },
  {
   "cell_type": "code",
   "execution_count": null,
   "metadata": {},
   "outputs": [],
   "source": [
    "def reservoir_sample(iterable, k, randrange=random.randrange, shuffle=random.shuffle):\n",
    "    \"\"\"Select *k* random elements from *iterable*. If number of items less then *k* then return all items in random order. \"\"\"\n",
    "    it = iter(iterable)\n",
    "    if not (k > 0):\n",
    "        raise ValueError(\"sample size must be positive\")\n",
    "\n",
    "    # Fill the reservoir\n",
    "    sample = list(islice(it, k)) \n",
    "    shuffle(sample)\n",
    "    for i, item in enumerate(it, start=k+1):\n",
    "        j = randrange(i) # random [0..i)\n",
    "        if j < k:\n",
    "            # Replace item with gradually decreasing probability\n",
    "            sample[j] = item \n",
    "    return sample\n",
    "\n",
    "def delete_lines(filename, lines):\n",
    "    \"\"\"Delete *lines* from *filename*.\"\"\"\n",
    "    lines = set(lines) # for amortized O(1) lookup\n",
    "    with fileinput.FileInput(filename, inplace=True, backup='.bak') as file:\n",
    "        for line in file:\n",
    "            if line not in lines:\n",
    "                print(line, end='')\n",
    "    # Remove backup if there is no exception\n",
    "    os.unlink(filename + '.bak') \n"
   ]
  },
  {
   "cell_type": "code",
   "execution_count": null,
   "metadata": {},
   "outputs": [],
   "source": [
    "k, filename = 10, './data/a_text.txt'\n",
    "\n",
    "# Read the lines from the file into a list\n",
    "with open(filename) as file:\n",
    "    #lines1 = file.readlines()\n",
    "    lines = [line.strip() for line in file]"
   ]
  },
  {
   "cell_type": "code",
   "execution_count": 22,
   "metadata": {},
   "outputs": [
    {
     "name": "stdout",
     "output_type": "stream",
     "text": [
      "lines: ['This is line 1.', 'Hello, world!', 'Python is awesome.', 'Line number 4.', 'I love programming.', 'Another line here.', 'Sample text.', 'Line number 8.', 'Testing the file.', 'Final line in the file.', '']\n",
      "lines ['This is line 1.', 'Hello, world!', 'Python is awesome.', 'Line number 4.', 'I love programming.', 'Another line here.', 'Sample text.', 'Line number 8.', 'Testing the file.', 'Final line in the file.', '']\n",
      "random_lines ['', 'Line number 4.', 'Sample text.', 'Another line here.', 'Hello, world!', 'Testing the file.', 'Python is awesome.', 'I love programming.', 'Line number 8.', 'Final line in the file.']\n",
      "\n",
      "Line number 4.\n",
      "Sample text.\n",
      "Another line here.\n",
      "Hello, world!\n",
      "Testing the file.\n",
      "Python is awesome.\n",
      "I love programming.\n",
      "Line number 8.\n",
      "Final line in the file.\n"
     ]
    }
   ],
   "source": [
    "print(\"lines:\", lines)\n",
    "# Get k random lines\n",
    "random_lines = reservoir_sample(lines, k) \n",
    "print(\"random_lines\", random_lines)\n",
    "\n",
    "# If file is empty\n",
    "#if not random_lines: \n",
    "    #sys.exit() # do nothing, exit immediately\n",
    "\n",
    "if not random_lines: # file is empty\n",
    "    print(\"File is empty. Nothing to delete.\")\n",
    "else:\n",
    "    # Print random lines\n",
    "    print(\"\\n\".join(map(str.strip, random_lines))) \n",
    "    # Delete them from the file\n",
    "    delete_lines(filename, random_lines) "
   ]
  },
  {
   "cell_type": "markdown",
   "metadata": {},
   "source": [
    "<h3 style=\"color:mediumvioletred\"> Count occurrances in a file </h3>"
   ]
  },
  {
   "cell_type": "code",
   "execution_count": 23,
   "metadata": {},
   "outputs": [
    {
     "name": "stdout",
     "output_type": "stream",
     "text": [
      "['the big bang\\n', 'the pillow feels soft\\n', 'odd one out\\n', 'press conference\\n', 'show me the money\\n', 'time to go home\\n', 'that was easy\\n', 'hangman is cool\\n', 'zoologist\\n', 'quadruplets\\n', 'the sky is blue']\n",
      "['the big bang', 'the pillow feels soft', 'odd one out', 'press conference', 'show me the money', 'time to go home', 'that was easy', 'hangman is cool', 'zoologist', 'quadruplets', 'the sky is blue']\n",
      "['press conference', 'zoologist', 'the big bang', 'odd one out', 'hangman is cool', 'time to go home', 'the sky is blue', 'that was easy', 'the pillow feels soft', 'show me the money', 'quadruplets']\n",
      "Occurrences of press conference : 1\n",
      "Occurrences of zoologist : 1\n",
      "Occurrences of the big bang : 1\n",
      "Occurrences of odd one out : 1\n",
      "Occurrences of hangman is cool : 1\n",
      "Occurrences of time to go home : 1\n",
      "Occurrences of the sky is blue : 1\n",
      "Occurrences of that was easy : 1\n",
      "Occurrences of the pillow feels soft : 1\n",
      "Occurrences of show me the money : 1\n",
      "Occurrences of quadruplets : 1\n"
     ]
    }
   ],
   "source": [
    "count = 0\n",
    "word_list = []\n",
    "counters = []\n",
    "with open(\"./data/some_words.txt\", 'r') as fp:\n",
    "    lines = fp.readlines()\n",
    "    print(lines)\n",
    "    lines_1 = [element.strip() for element in lines]\n",
    "    print(lines_1)\n",
    "    lines_2 = list(set(lines_1))\n",
    "    print(lines_2)\n",
    "    for w in lines_2:\n",
    "        for l in lines_1:\n",
    "            if(l==w):\n",
    "                count=count+1\n",
    "        print(\"Occurrences of {} : {}\".format(w,count))\n",
    "        count = 0        "
   ]
  },
  {
   "cell_type": "markdown",
   "metadata": {},
   "source": [
    "<h3 style=\"color:mediumvioletred\"> Write on a file </h3>"
   ]
  },
  {
   "cell_type": "code",
   "execution_count": 5,
   "metadata": {},
   "outputs": [
    {
     "data": {
      "text/plain": [
       "4"
      ]
     },
     "execution_count": 5,
     "metadata": {},
     "output_type": "execute_result"
    }
   ],
   "source": [
    "\"\"\" Write \"\"\"\n",
    "\n",
    "f = open(\"./test_to_writein.txt\", \"w+\")\n",
    "f.write(\"testing 0\\n\")\n",
    "f.write(\"testing 1\\n\")\n",
    "pos = f.tell()\n",
    "f.write(\"testing 2\\n\")\n",
    "\n",
    "f.seek(pos, os.SEEK_SET)\n",
    "f.truncate(pos)\n",
    "#f.write(\"foo\\n\")"
   ]
  },
  {
   "attachments": {},
   "cell_type": "markdown",
   "metadata": {},
   "source": [
    "<h3 style=\"color:mediumvioletred\"> Notes: </h3>\n",
    "<div style=\"margin-top: -28px;\">\n",
    "\n",
    "Use the \"with\" statement!    \n",
    "It ensures that the file is properly closed after its suite is executed, even if an exception occurs during the execution.     \n",
    "Concept of Context manager => implemented by the file object returned by the open() function.    \n",
    "\n",
    "Opening a file using the \"with\" statement, Python creates a context manager that takes care of opening and closing the file automatically.       \n",
    "When the block of code inside the \"with\" statement finishes executing, the context manager is responsible for closing the file,\n",
    "regardless of whether the code finishes successfully or an exception is raised.    \n",
    "</div>"
   ]
  },
  {
   "cell_type": "markdown",
   "metadata": {},
   "source": [
    "<h3 style=\"color:mediumvioletred\"> Append more data </h3>"
   ]
  },
  {
   "cell_type": "code",
   "execution_count": 6,
   "metadata": {},
   "outputs": [],
   "source": [
    "with open(\"./data/test_to_writein.txt\", \"a\") as f:\n",
    "    f.write(\"testing 2\\n\")"
   ]
  },
  {
   "attachments": {},
   "cell_type": "markdown",
   "metadata": {},
   "source": [
    "<h2 style=\"color:mediumvioletred\"> <u> CSV </u></h2>"
   ]
  },
  {
   "cell_type": "code",
   "execution_count": 5,
   "metadata": {},
   "outputs": [],
   "source": [
    "\"\"\" From text to csv \"\"\"\n",
    "with open('./data/text_use_ex.txt', 'r') as in_file:\n",
    "    stripped = (line.strip() for line in in_file)\n",
    "    lines = (line.split(\",\") for line in stripped if line)\n",
    "    with open('./data/def_list_questions.csv', 'w') as out_file:\n",
    "        writer = csv.writer(out_file)\n",
    "        writer.writerows(lines)"
   ]
  },
  {
   "cell_type": "code",
   "execution_count": 27,
   "metadata": {},
   "outputs": [
    {
     "name": "stdout",
     "output_type": "stream",
     "text": [
      "['1', 'Michael', 'Smith', 'michael.smith@example.com', '555-1234', '30', 'New York', 'Engineer', '80000']\n",
      "['2', 'Emily', 'Johnson', 'emily.johnson@example.com', '555-5678', '25', 'Los Angeles', 'Teacher', '50000']\n",
      "['3', 'Andrew', 'Williams', 'andrew.williams@example.com', '555-9012', '35', 'Chicago', 'Doctor', '120000']\n",
      "['4', 'Olivia', 'Brown', 'olivia.brown@example.com', '555-3456', '28', 'San Francisco', 'Designer', '60000']\n",
      "['5', 'William', 'Davis', 'william.davis@example.com', '555-7890', '32', 'Miami', 'Developer', '90000']\n",
      "['6', 'Sophia', 'Jones', 'sophia.jones@example.com', '555-1111', '27', 'Houston', 'Marketing Manager', '75000']\n",
      "['7', 'Benjamin', 'Miller', 'benjamin.miller@example.com', '555-2222', '31', 'Dallas', 'Accountant', '65000']\n",
      "['8', 'Ava', 'Taylor', 'ava.taylor@example.com', '555-3333', '29', 'Seattle', 'Software Engineer', '85000']\n",
      "['9', 'Alexander', 'Anderson', 'alexander.anderson@example.com', '555-4444', '33', 'Austin', 'Data Analyst', '55000']\n",
      "['10', 'Mia', 'Thomas', 'mia.thomas@example.com', '555-5555', '26', 'Phoenix', 'HR Manager', '70000']\n",
      "['11', 'Liam', 'Harris', 'liam.harris@example.com', '555-6666', '34', 'Denver', 'Project Manager', '95000']\n",
      "['12', 'Charlotte', 'Martin', 'charlotte.martin@example.com', '555-7777', '28', 'Boston', 'Consultant', '72000']\n",
      "['13', 'Ethan', 'Thompson', 'ethan.thompson@example.com', '555-8888', '30', 'San Diego', 'Financial Analyst', '62000']\n",
      "['14', 'Isabella', 'Garcia', 'isabella.garcia@example.com', '555-9999', '27', 'Philadelphia', 'Product Manager', '87000']\n",
      "['15', 'James', 'Clark', 'james.clark@example.com', '555-0000', '29', 'Atlanta', 'Marketing Coordinator', '50000']\n",
      "['16', 'Sophia', 'Lewis', 'sophia.lewis@example.com', '555-1010', '32', 'Miami', 'Software Developer', '92000']\n",
      "['17', 'Logan', 'Hall', 'logan.hall@example.com', '555-2020', '26', 'New York', 'Graphic Designer', '55000']\n",
      "['18', 'Olivia', 'Young', 'olivia.young@example.com', '555-3030', '31', 'Los Angeles', 'IT Specialist', '76000']\n",
      "['19', 'Mason', 'Wright', 'mason.wright@example.com', '555-4040', '33', 'Chicago', 'Sales Representative', '68000']\n",
      "['20', 'Amelia', 'Lopez', 'amelia.lopez@example.com', '555-5050', '29', 'San Francisco', 'Research Scientist', '89000']\n",
      "['21', 'Lucas', 'Hill', 'lucas.hill@example.com', '555-6060', '27', 'Seattle', 'Engineer', '80000']\n",
      "['22', 'Emma', 'Scott', 'emma.scott@example.com', '555-7070', '30', 'Austin', 'Teacher', '50000']\n",
      "['23', 'Henry', 'Green', 'henry.green@example.com', '555-8080', '35', 'Boston', 'Doctor', '120000']\n",
      "['24', 'Chloe', 'Hall', 'chloe.hall@example.com', '555-9090', '28', 'Denver', 'Designer', '60000']\n",
      "['25', 'Sebastian', 'Campbell', 'sebastian.campbell@example.com', '555-1212', '32', 'Phoenix', 'Developer', '90000']\n",
      "['26', 'Harper', 'Young', 'harper.young@example.com', '555-2323', '27', 'New York', 'Engineer', '80000']\n",
      "['27', 'David', 'Rivera', 'david.rivera@example.com', '555-3434', '31', 'Los Angeles', 'Teacher', '50000']\n",
      "['28', 'Abigail', 'Ward', 'abigail.ward@example.com', '555-4545', '33', 'Chicago', 'Doctor', '120000']\n",
      "['29', 'Samuel', 'Bell', 'samuel.bell@example.com', '555-5656', '28', 'San Francisco', 'Designer', '60000']\n",
      "['30', 'Sofia', 'Turner', 'sofia.turner@example.com', '555-6767', '32', 'Miami', 'Developer', '90000']\n",
      "['31', 'Joseph', 'Murphy', 'joseph.murphy@example.com', '555-7878', '27', 'Houston', 'Marketing Manager', '75000']\n",
      "['32', 'Scarlett', 'Hughes', 'scarlett.hughes@example.com', '555-8989', '29', 'Dallas', 'Accountant', '65000']\n",
      "['33', 'Lincoln', 'Reed', 'lincoln.reed@example.com', '555-9091', '33', 'Seattle', 'Software Engineer', '85000']\n",
      "['34', 'Ella', 'Cook', 'ella.cook@example.com', '555-0202', '26', 'Austin', 'Data Analyst', '55000']\n",
      "['35', 'Nathan', 'Price', 'nathan.price@example.com', '555-1313', '34', 'Phoenix', 'HR Manager', '70000']\n",
      "['36', 'Grace', 'Bailey', 'grace.bailey@example.com', '555-2424', '28', 'Boston', 'Consultant', '72000']\n",
      "['37', 'Julian', 'Flores', 'julian.flores@example.com', '555-3535', '30', 'San Diego', 'Financial Analyst', '62000']\n",
      "['38', 'Avery', 'Hayes', 'avery.hayes@example.com', '555-4646', '27', 'Philadelphia', 'Product Manager', '87000']\n",
      "['39', 'Levi', 'Ross', 'levi.ross@example.com', '555-5757', '29', 'Atlanta', 'Marketing Coordinator', '50000']\n",
      "['40', 'Evelyn', 'Wood', 'evelyn.wood@example.com', '555-6868', '32', 'Miami', 'Software Developer', '92000']\n",
      "['41', 'Hannah', 'Rogers', 'hannah.rogers@example.com', '555-7979', '26', 'New York', 'Graphic Designer', '55000']\n",
      "['42', 'Dylan', 'James', 'dylan.james@example.com', '555-8081', '31', 'Los Angeles', 'IT Specialist', '76000']\n",
      "['43', 'Layla', 'Brooks', 'layla.brooks@example.com', '555-9191', '33', 'Chicago', 'Sales Representative', '68000']\n",
      "['44', 'Connor', 'Watson', 'connor.watson@example.com', '555-0303', '29', 'San Francisco', 'Research Scientist', '89000']\n",
      "['45', 'Eleanor', 'Collins', 'eleanor.collins@example.com', '555-1414', '27', 'Seattle', 'Engineer', '80000']\n",
      "['46', 'Noah', 'Perry', 'noah.perry@example.com', '555-2525', '30', 'Austin', 'Teacher', '50000']\n",
      "['47', 'Victoria', 'Henderson', 'victoria.henderson@example.com', '555-3636', '35', 'Boston', 'Doctor', '120000']\n",
      "['48', 'Madison', 'Carter', 'madison.carter@example.com', '555-4747', '28', 'Denver', 'Designer', '60000']\n",
      "['49', 'Gabriel', 'Simmons', 'gabriel.simmons@example.com', '555-5858', '32', 'Phoenix', 'Developer', '90000']\n",
      "['50', 'Audrey', 'Foster', 'audrey.foster@example.com', '555-6969', '27', 'Houston', 'Marketing Manager', '75000']\n",
      "[]\n"
     ]
    }
   ],
   "source": [
    "\"\"\" Open the CSV file using a file object.\n",
    "N.B. \n",
    "Use csv not pandas! \n",
    "\"\"\"\n",
    "with open('./data/names_jobs.csv', 'r') as file:\n",
    "    # Create a CSV reader object\n",
    "    reader = csv.reader(file)   \n",
    "    # Skip the first row, let's say that the csv file it is not a header row, otherwise comment\n",
    "    next(reader, None)           \n",
    "    \n",
    "    for row in reader:\n",
    "        print(row)"
   ]
  },
  {
   "cell_type": "code",
   "execution_count": 3,
   "metadata": {},
   "outputs": [
    {
     "name": "stdout",
     "output_type": "stream",
     "text": [
      "Skipping, to not show the path.\n"
     ]
    }
   ],
   "source": [
    "%%script echo Skipping, to not show the path.\n",
    "\"\"\" Build a file path relative to the current working directory. \"\"\"\n",
    "current_dir = os.getcwd()                                   \n",
    "file_path = os.path.join(current_dir, 'MNIST_train.txt')   \n",
    "print(current_dir)\n",
    "print(file_path)"
   ]
  }
 ],
 "metadata": {
  "kernelspec": {
   "display_name": "just_for_test",
   "language": "python",
   "name": "python3"
  },
  "language_info": {
   "codemirror_mode": {
    "name": "ipython",
    "version": 3
   },
   "file_extension": ".py",
   "mimetype": "text/x-python",
   "name": "python",
   "nbconvert_exporter": "python",
   "pygments_lexer": "ipython3",
   "version": "3.10.9"
  },
  "orig_nbformat": 4
 },
 "nbformat": 4,
 "nbformat_minor": 2
}
