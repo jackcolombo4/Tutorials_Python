{
 "cells": [
  {
   "cell_type": "markdown",
   "metadata": {},
   "source": [
    "<div style=\"line-height:0.5\">\n",
    "<h1 style=\"color:#2C5C0E\"> Mongodb basics 1 </h1>\n",
    "<h4> Setting the localhost connection and performing simple operations. </h4>\n",
    "<span style=\"display: inline-block;\">\n",
    "    <h3 style=\"color: lightblue; display: inline;\">Keywords:</h3> pymongo + json file\n",
    "</span>\n",
    "</div>\n",
    "<br>\n",
    "</div>"
   ]
  },
  {
   "cell_type": "code",
   "execution_count": 14,
   "metadata": {},
   "outputs": [],
   "source": [
    "import json\n",
    "import pymongo\n",
    "from datetime import datetime\n",
    "from bson.objectid import ObjectId"
   ]
  },
  {
   "cell_type": "markdown",
   "metadata": {},
   "source": [
    "<h3 style=\"color:#2C5C0E  \"> Recap: </h3>\n",
    "<div style=\"margin-top: -8px;\">\n",
    "\n",
    "In MongoDB, a collection is a database component used to store multiple documents. <br>\n",
    "Documents in a collection can be thought of as similar to rows or records in a traditional relational database. <br>\n",
    "\n",
    "MongoDB is: <br>\n",
    "=> schema-less, meaning that each document in a collection can have a different structure. <br> \n",
    "=> flexible; It is possible to store data with varying fields and data types within the same collection. <br>\n",
    "=> without fixed keys! (unlike dictionaries). <br>\n",
    "=> horizontal scaling \n",
    "</div>"
   ]
  },
  {
   "cell_type": "markdown",
   "metadata": {},
   "source": [
    "<h3 style=\"color:#2C5C0E  \"> Instructions (Linux debian): </h3>"
   ]
  },
  {
   "cell_type": "code",
   "execution_count": 116,
   "metadata": {},
   "outputs": [
    {
     "name": "stdout",
     "output_type": "stream",
     "text": [
      "Skipping, since already extracted.\n"
     ]
    }
   ],
   "source": [
    "%%script echo Skipping, since already extracted.\n",
    "# Install MongoBD GUI program (deb package)\n",
    "sudo dpkg -i mongodb-compass_1.40.4_amd64.deb"
   ]
  },
  {
   "cell_type": "code",
   "execution_count": 117,
   "metadata": {},
   "outputs": [
    {
     "name": "stdout",
     "output_type": "stream",
     "text": [
      "Skipping, since already extracted.\n"
     ]
    }
   ],
   "source": [
    "%%script echo Skipping, since already extracted.\n",
    "## Extract downloaded archive and make the program globally executable\n",
    "!tar -zxvf mongodb-linux-x86_64-ubuntu2204-7.0.2.tgz\n",
    "!sudo mv mongodb-linux-x86_64-ubuntu2204-7.0.2/bin/mongod /usr/local/bin/"
   ]
  },
  {
   "cell_type": "code",
   "execution_count": 118,
   "metadata": {},
   "outputs": [
    {
     "name": "stdout",
     "output_type": "stream",
     "text": [
      "Skipping. Should be done only the first time, after installation\n"
     ]
    }
   ],
   "source": [
    "%%script echo Skipping. Should be done only the first time, after installation\n",
    "## Create a database directory and grant permissions\n",
    "!sudo mkdir -p /data/db/\n",
    "!sudo chown -R $USER /data/db/"
   ]
  },
  {
   "cell_type": "code",
   "execution_count": 119,
   "metadata": {},
   "outputs": [
    {
     "name": "stdout",
     "output_type": "stream",
     "text": [
      "Skipping. Clearly, the server must be run in an external terminal and not here, to avoid stalling the notebook execution.\n"
     ]
    }
   ],
   "source": [
    "%%script echo Skipping. Clearly, the server must be run in an external terminal and not here, to avoid stalling the notebook execution. \n",
    "# Start a MongoDB server on localhost (it can be specified a different path with: \"$mongod --dbpath /path/to/db)\"\n",
    "!mongod"
   ]
  },
  {
   "cell_type": "markdown",
   "metadata": {},
   "source": [
    "Before starting, delete the old database from MongoDB Compass application or via terminal launching both '$mongod' and '$mongosh' in 2 separated terminals. <br>\n",
    "\n",
    "mongosh shell commands:\n",
    "<div style=\"margin-top: -10px;\">\n",
    "\n",
    "- test > show dbs\n",
    "- test > use music_management\n",
    "- music_management> db.dropDatabase()\n",
    "- music_management> show dbs\n",
    "- music_management> exit\n",
    "</div>\n",
    "\n",
    "Note that the directory associated with the removed db may not be immediately removed from the file system. music_management>"
   ]
  },
  {
   "cell_type": "code",
   "execution_count": 120,
   "metadata": {},
   "outputs": [],
   "source": [
    "\"\"\" Connect to the MongoDB server.\n",
    "N.B.\n",
    "Run locally on the default port (27017)\n",
    "#client = pymongo.MongoClient(\"mongodb://localhost:27017/\")\n",
    "\"\"\"\n",
    "client = pymongo.MongoClient(\"mongodb://127.0.0.1:27017/\")"
   ]
  },
  {
   "cell_type": "code",
   "execution_count": 121,
   "metadata": {},
   "outputs": [],
   "source": [
    "# Create or switch to a database for the music management system\n",
    "db = client[\"music_archive_management\"]"
   ]
  },
  {
   "cell_type": "code",
   "execution_count": 4,
   "metadata": {},
   "outputs": [],
   "source": [
    "##### Create collections\n",
    "bands_collection = db[\"bands\"]\n",
    "venues_collection = db[\"venues\"]\n",
    "contracts_collection = db[\"contracts\"]\n",
    "sponsors_collection = db[\"sponsors\"]\n",
    "albums_collection = db[\"albums\"]"
   ]
  },
  {
   "cell_type": "markdown",
   "metadata": {},
   "source": [
    "<h3 style=\"color:#2C5C0E  \"> Document definitions </h3>"
   ]
  },
  {
   "cell_type": "code",
   "execution_count": 123,
   "metadata": {},
   "outputs": [
    {
     "data": {
      "text/plain": [
       "dict"
      ]
     },
     "execution_count": 123,
     "metadata": {},
     "output_type": "execute_result"
    }
   ],
   "source": [
    "\"\"\" Documents for bands 1 \"\"\"\n",
    "girlschool = {\n",
    "    \"name\": \"Girlschool\",\n",
    "    \"members\": [\n",
    "        {\"name\": \"Denise\", \"role\": \"drums\"},\n",
    "        {\"name\": \"Kim\", \"role\": \"lead vocals, guitars\"},\n",
    "        {\"name\": \"Jackie\", \"role\": \"guitars\"},\n",
    "        {\"name\": \"Tracey\", \"role\": \"bass\"}\n",
    "    ],\n",
    "    \"genres\": [\"Heavy metal\", \"Hard rock\", \"NWOBHM\"],\n",
    "    \"origin\": \"London\",\n",
    "    \"num_released_lp\": 14,\n",
    "    \"studio_albums\": [\n",
    "        {\"year\": 1980, \"title\": \"Demolition\"},\n",
    "        {\"year\": 1981, \"title\": \"Hit and Run\"},\n",
    "        {\"year\": 1982, \"title\": \"Screaming Blue Murder\"},\n",
    "        {\"year\": 1983, \"title\": \"Play Dirty\"},\n",
    "        {\"year\": 1985, \"title\": \"Running Wild\"},\n",
    "        {\"year\": 1986, \"title\": \"Nightmare at Maple Cross\"},\n",
    "        {\"year\": 1988, \"title\": \"Take a Bite\"},\n",
    "        {\"year\": 1993, \"title\": \"Girlschool\"},\n",
    "        {\"year\": 2002, \"title\": \"21st Anniversary: Not That Innocent\"},\n",
    "        {\"year\": 2004, \"title\": \"Believe\"},\n",
    "        {\"year\": 2008, \"title\": \"Legacy\"},\n",
    "        {\"year\": 2011, \"title\": \"Hit and Run - Revisited\"},\n",
    "        {\"year\": 2015, \"title\": \"Guilty as Sin\"},\n",
    "        {\"year\": 2023, \"title\": \"WTFortyfive?\"}\n",
    "    ],\n",
    "    \"labels\": [\"City\", \"Bronze\", \"Mercury\"], \n",
    "    \"founded_year\": 1977,\n",
    "}\n",
    "type(girlschool)"
   ]
  },
  {
   "cell_type": "code",
   "execution_count": 124,
   "metadata": {},
   "outputs": [],
   "source": [
    "\"\"\" Documents for bands 2 \n",
    "N.B \n",
    "The attributes can be different even if they are going to be collected in the same collection!!!\n",
    "\"\"\"\n",
    "l7 = {\n",
    "    \"name\": \"L7\",\n",
    "    \"members\": [\n",
    "        {\"name\": \"Donita\", \"role\": \"lead vocals, guitars\"},\n",
    "        {\"name\": \"Suzi\", \"role\": \"guitars, vocals\"},\n",
    "        {\"name\": \"Jennifer\", \"role\": \"guitars, vocals\"},\n",
    "        {\"name\": \"Demetra\", \"role\": \"bass, vocals\"}\n",
    "    ],\n",
    "    \"genres\": [\"Grunge\", \"Punk Rock\"],\n",
    "    \"origin\": \"Los Angeles\",\n",
    "    \"num_released_lp\": 12,\n",
    "    \"studio_albums\": [\n",
    "        {\"year\": 1988, \"title\": \"L7\"},\n",
    "        {\"year\": 1988, \"title\": \"Smell the magic\"},\n",
    "        {\"year\": 1991, \"title\": \"Bricks are Heavy\"},\n",
    "        {\"year\": 1994, \"title\": \"Hungry for Stink\"},\n",
    "        {\"year\": 1996, \"title\": \"The Beauty Process: Triple Platinum\"},\n",
    "        {\"year\": 1999, \"title\": \"Slap-Happy\"},\n",
    "        {\"year\": 2016, \"title\": \"Wireless\"},\n",
    "        {\"year\": 2018, \"title\": \"Detroit\"},\n",
    "        {\"year\": 2019, \"title\": \"Scatter the Rats\"},\n",
    "    ],\n",
    "    \"labels\": [\"Epitaph\", \"Sub Pop\", \"Reprise\"], \n",
    "    \"foundation_year\": 1985,    \n",
    "}\n",
    "\n",
    "lunachicks = {\n",
    "    \"name\": \"Lunachicks\",\n",
    "    \"members\": [\n",
    "        {\"name\": \"Theoi\", \"role\": \"lead vocals\"},\n",
    "        {\"name\": \"Gina\", \"role\": \"guitar, vocals\"},\n",
    "        {\"name\": \"Sydney\", \"role\": \"bass, vocals\"},\n",
    "        {\"name\": \"Sindi\", \"role\": \"guitar\"},\n",
    "        {\"name\": \"Chip\", \"role\": \"drums\"}\n",
    "    ],\n",
    "    \"genres\": [\"Punk rock\", \"Indie rock\"],\n",
    "    \"origin\": \"New York\",\n",
    "    \"num_released_lp\": 6,\n",
    "    \"labels\": [\"Blast First\", \"Safe House\", \"Go Kart\"], \n",
    "    \"foundation_yearear\": 1988,\n",
    "}\n",
    "\n",
    "novatwins = {\n",
    "    \"name\": \"Nova Twins\",\n",
    "    \"members\": [\n",
    "        {\"name\": \"Amy\", \"role\": \"vocals, guitar\"},\n",
    "        {\"name\": \"Georgia\", \"role\": \"vocals, bass\"},\n",
    "    ],\n",
    "    \"genres\": [\"Rap Instrumental\", \"Alternative rock\", \"Nu Metal\"],\n",
    "    \"origin\": \"London\",\n",
    "    \"num_released_lp\": 2,\n",
    "    \"studio_albums\": [\n",
    "        {\"year\": 2020, \"title\": \"Who are the girls?\"},\n",
    "        {\"year\": 2022, \"title\": \"Supernova\"},\n",
    "    ],\n",
    "    \"labels\": [\"Marshall\"], \n",
    "    \"foundation_year\": 2014,\n",
    "}\n",
    "\n",
    "scowl = {\n",
    "    \"name\": \"Nova Twins\",\n",
    "    \"members\": [\n",
    "        {\"name\": \"Kat\", \"role\": \"vocals\"},\n",
    "        {\"name\": \"Malachi\", \"role\": \"guitars\"},\n",
    "        {\"name\": \"Mikey\", \"role\": \"guitars\"},\n",
    "        {\"name\": \"Bailey\", \"role\": \"bass\"},\n",
    "        {\"name\": \"Cole\", \"role\": \"drums\"},\n",
    "    ],\n",
    "    \"genres\": [\"Hardcore punk\"],\n",
    "    \"origin\": \"Santa Cruz\",\n",
    "    \"num_released_lp\": 1,\n",
    "    \"labels\": [\"Flatspot\"], \n",
    "    \"foundation_year\": 2019,\n",
    "}\n",
    "\n",
    "nodoubt = {\n",
    "    \"name\": \"No Doubt\",\n",
    "    \"members\": [\n",
    "        {\"name\": \"Gnew\", \"role\": \"vocals\"},\n",
    "        {\"name\": \"Tony\", \"role\": \"bass\"},\n",
    "        {\"name\": \"Tom\", \"role\": \"guitars, keyboards\"},\n",
    "        {\"name\": \"Adrian\", \"role\": \"drums, percussions\"},\n",
    "        {\"name\": \"Stephen\", \"role\": \"Trombone\"},\n",
    "        {\"name\": \"Gabrial\", \"role\": \"Trumpet, keyboards\"},\n",
    "    ],\n",
    "    \"genres\": [\"Pop rock\", \"Ska\"],\n",
    "    \"origin\": \"Anaheim\",\n",
    "    \"num_released_lp\": 6,\n",
    "    \"labels\": [\"Interscope\"], \n",
    "    \"foundation_year\": 1987,\n",
    "}"
   ]
  },
  {
   "cell_type": "code",
   "execution_count": 125,
   "metadata": {},
   "outputs": [],
   "source": [
    "\"\"\" venues\"\"\"\n",
    "stadium_1_venue = {\n",
    "    \"name\": \"Metropolitain 2\",\n",
    "    \"location\": \"Lyon\",\n",
    "    \"capacity\": 36000,\n",
    "    \"sold_out\": \"yes\",    \n",
    "}\n",
    "stadium_2_venue = {\n",
    "    \"name\": \"Angel Park\",\n",
    "    \"location\": \"Glasgow\",\n",
    "    \"capacity\": 31000,\n",
    "    \"sold_out\": \"yes\",    \n",
    "}\n",
    "stadium_3_venue = {\n",
    "    \"name\": \"Invincibles\",\n",
    "    \"location\": \"Toronto\",\n",
    "    \"capacity\": 40000,\n",
    "    \"sold_out\": \"yes\",    \n",
    "}\n",
    "music_arena_1_venue = {\n",
    "    \"name\": \"TheMusic Bay\",\n",
    "    \"location\": \"San Francisco\",\n",
    "    \"capacity\": 22000,\n",
    "    \"sold_out\": \"yes\",    \n",
    "}\n",
    "music_arena_2_venue = {\n",
    "    \"name\": \"gute Musik\",\n",
    "    \"location\": \"Berlin\",\n",
    "    \"capacity\": 13000,\n",
    "    \"sold_out\": \"yes\",    \n",
    "}\n",
    "music_arena_3_venue = {\n",
    "    \"name\": \"Festival only_the_best\",\n",
    "    \"location\": \"Rotterdam\",\n",
    "    \"capacity\": 9800,\n",
    "    \"sold_out\": \"yes\",    \n",
    "}\n",
    "music_arena_4_venue = {\n",
    "    \"name\": \"Champions stars\",\n",
    "    \"location\": \"Liverpool\",\n",
    "    \"capacity\": 5044,\n",
    "    \"sold_out\": \"yes\",    \n",
    "}"
   ]
  },
  {
   "cell_type": "code",
   "execution_count": 126,
   "metadata": {},
   "outputs": [],
   "source": [
    "\"\"\" Albums \"\"\"\n",
    "album_afi_4 = {\n",
    "    \"title\": \"Black Sails In The Sunset\",\n",
    "    \"artist\": \"Afi\",\n",
    "    \"label\": \"Nitro\",\n",
    "    \"year\": 2000,\n",
    "}\n",
    "album_rhcp_9 = {\n",
    "    \"title\": \"Stadium Arcadium\",\n",
    "    \"artist\": \"Red Hot Chili Peppers\",\n",
    "    \"label\": \"Warner\",\n",
    "    \"year\": 2006,\n",
    "}\n",
    "album_billy_2 = {\n",
    "    \"title\": \"Billy Talent 2\",\n",
    "    \"artist\": \"Billy Talent\",\n",
    "    \"label\": \"Atlantic\",\n",
    "    \"year\": 2005,\n",
    "}\n",
    "album_cigar_1 = {\n",
    "    \"title\": \"Speed is relative\",\n",
    "    \"artist\": \"Cigar\",\n",
    "    \"label\": \"Warner\",\n",
    "    \"year\": 1999,\n",
    "}\n",
    "album_nodoubt_3 = {\n",
    "    \"title\": \"Tragic Kingdom\",\n",
    "    \"artist\": \"No doubt\",\n",
    "    \"label\": \"Interscope\",\n",
    "    \"year\": 1995,\n",
    "}\n",
    "album_teenidols_3 = {\n",
    "    \"title\": \"Full Leather Jacket\",\n",
    "    \"artist\": \"Teen idols\",\n",
    "    \"label\": \"Warner\",\n",
    "    \"year\": 2000,\n",
    "}"
   ]
  },
  {
   "cell_type": "code",
   "execution_count": 127,
   "metadata": {},
   "outputs": [],
   "source": [
    "\"\"\" sponsors \"\"\"\n",
    "sponsor_docs = [\n",
    "    {\n",
    "        \"name\": \"Acme Guitars\",\n",
    "        \"industry\": \"Musical Instruments\",\n",
    "        \"type\": \"for bassist only\",\n",
    "        \"combined offer\": \"strings\",\n",
    "    },\n",
    "    {\n",
    "        \"name\": \"Batti Pedals\",\n",
    "        \"industry\": \"Musical Instruments\",\n",
    "        \"contract\": \"Ongoing\",\n",
    "    },\n",
    "    {\n",
    "        \"name\": \"Green park\",\n",
    "        \"industry\": \"Clothing\",\n",
    "    },\n",
    "    {\n",
    "        \"name\": \"San Pat\",\n",
    "        \"category\": \"Beer\",\n",
    "        \"covered_years\": 3,\n",
    "    },\n",
    "]"
   ]
  },
  {
   "cell_type": "code",
   "execution_count": 128,
   "metadata": {},
   "outputs": [],
   "source": [
    "\"\"\" contracts\"\"\"\n",
    "contract_1 = {\n",
    "    \"code\": \"con_1\",\n",
    "    \"band_id\": None,            \n",
    "    \"venue_id\": None,  \n",
    "    \"start_date\": datetime(2023, 12, 1),\n",
    "    \"end_date\": datetime(2023, 12, 31),\n",
    "    \"payment\": 2200013,\n",
    "}\n",
    "contract_2 = {\n",
    "    \"code\": \"con_2\",\n",
    "    \"band_id\": None,            \n",
    "    \"venue_id\": None,  \n",
    "    \"start_date\": datetime(2020, 3, 1),\n",
    "    \"end_date\": datetime(2020, 3, 4),\n",
    "    \"payment\": 6790,\n",
    "}\n",
    "contract_3 = {\n",
    "    \"code\": \"con_3\",\n",
    "    \"band_id\": 321,            \n",
    "    \"venue_id\": 44,  \n",
    "    \"start_date\": datetime(199, 8, 12),\n",
    "    \"end_date\": datetime(1999, 8, 13),\n",
    "    \"payment\": 31000,\n",
    "}\n",
    "contract_4 = {\n",
    "    \"code\": \"con_4\",\n",
    "    \"band_id\": 103,            \n",
    "    \"venue_id\": \"1AA87K43\",  \n",
    "    \"start_date\": datetime(2021, 3, 1),\n",
    "    \"end_date\": datetime(2021, 5, 2),\n",
    "    \"payment\": 52000,\n",
    "}"
   ]
  },
  {
   "cell_type": "code",
   "execution_count": 129,
   "metadata": {},
   "outputs": [
    {
     "name": "stdout",
     "output_type": "stream",
     "text": [
      "['admin', 'config', 'local']\n"
     ]
    }
   ],
   "source": [
    "# Note that the database isn't actually created until data are insert into it! (check also in mongosh typing: 'show dbs')\n",
    "print(client.list_database_names())"
   ]
  },
  {
   "cell_type": "markdown",
   "metadata": {},
   "source": [
    "<h3 style=\"color:#2C5C0E  \"> Data insertion </h3>"
   ]
  },
  {
   "cell_type": "code",
   "execution_count": 130,
   "metadata": {},
   "outputs": [
    {
     "name": "stdout",
     "output_type": "stream",
     "text": [
      "Inserted 3 band documents with IDs: [ObjectId('653c1744a62e95c90d145ffe'), ObjectId('653c1744a62e95c90d145fff'), ObjectId('653c1744a62e95c90d146000')]\n"
     ]
    }
   ],
   "source": [
    "## Insert bands into respective collection\n",
    "# \"inserted_id\" returns the inserted IDs that are unique identifiers generated by MongoDB\n",
    "band_id1 = bands_collection.insert_one(girlschool).inserted_id\n",
    "bands_collection.insert_one(nodoubt).inserted_id\n",
    "\n",
    "## Insert many bands\n",
    "band_documents = [lunachicks, l7, novatwins]\n",
    "inserted_ids = []\n",
    "for doc in band_documents:\n",
    "    result = bands_collection.insert_one(doc)\n",
    "    inserted_ids.append(result.inserted_id)\n",
    "\n",
    "# Show the IDs of the last inserted docs\n",
    "print(f\"Inserted {len(inserted_ids)} band documents with IDs: {inserted_ids}\")"
   ]
  },
  {
   "cell_type": "code",
   "execution_count": 131,
   "metadata": {},
   "outputs": [
    {
     "name": "stdout",
     "output_type": "stream",
     "text": [
      "['admin', 'config', 'local', 'music_archive_management']\n"
     ]
    }
   ],
   "source": [
    "print(client.list_database_names())"
   ]
  },
  {
   "cell_type": "code",
   "execution_count": 132,
   "metadata": {},
   "outputs": [
    {
     "data": {
      "text/plain": [
       "Collection(Database(MongoClient(host=['127.0.0.1:27017'], document_class=dict, tz_aware=False, connect=True), 'music_archive_management'), 'bands')"
      ]
     },
     "execution_count": 132,
     "metadata": {},
     "output_type": "execute_result"
    }
   ],
   "source": [
    "bands_collection"
   ]
  },
  {
   "cell_type": "code",
   "execution_count": 133,
   "metadata": {},
   "outputs": [
    {
     "data": {
      "text/plain": [
       "5"
      ]
     },
     "execution_count": 133,
     "metadata": {},
     "output_type": "execute_result"
    }
   ],
   "source": [
    "b_count = bands_collection.count_documents({})\n",
    "b_count"
   ]
  },
  {
   "cell_type": "markdown",
   "metadata": {},
   "source": [
    "For each document in a collection, an \"_id\" field for the identifier is automatically generated by MongoDB, unless another _id value is specified."
   ]
  },
  {
   "cell_type": "code",
   "execution_count": 134,
   "metadata": {},
   "outputs": [],
   "source": [
    "band_with_custom_id = {\n",
    "    \"name\": \"LNRipley\",\n",
    "    \"genre\": \"Drum n bass\", \n",
    "    \"_id\": \"AAA001\",\n",
    "    \"origin\": \"Torino\",\n",
    "}\n",
    "result = bands_collection.insert_one(band_with_custom_id)"
   ]
  },
  {
   "cell_type": "markdown",
   "metadata": {},
   "source": [
    "<h3 style=\"color:#2C5C0E  \"> Recap: </h3>\n",
    "<div style=\"margin-top: -10px;\">\n",
    "\n",
    "A collection can be filled wih or without assignment. <br>\n",
    "Without assigning the inserted IDs to a variable, IDs will be still generated and returned by the 'inserted_id' attr, <br>\n",
    "but they are not stored, and hence not accessible later. <br>\n",
    "When there is no need to access to the inserted IDs in the code, it is possible to simply insert documents without calling 'insert_id' / 'insert_ids'.  <br> \n",
    "Pay attention that if a specific ID is not stored at the moment of the insertion the ID is lost, since not automatically stored! <br>\n",
    "</div>"
   ]
  },
  {
   "cell_type": "code",
   "execution_count": 135,
   "metadata": {},
   "outputs": [],
   "source": [
    "album_id_1a = albums_collection.insert_one(album_cigar_1).inserted_id"
   ]
  },
  {
   "cell_type": "code",
   "execution_count": 136,
   "metadata": {},
   "outputs": [],
   "source": [
    "\"\"\" Note that launching again:\n",
    "\"album_id_1a = albums_collection.insert_one(album_cigar_1).insterted_id\" will not work, \n",
    "since MongoDB is aware that there is another doc with same ID. \n",
    "The DuplicateKeyError will be triggered: \"E11000 duplicate key error collection: music_archive_management.albums index: _id_ dup key ...\"\n",
    "\"\"\";"
   ]
  },
  {
   "cell_type": "code",
   "execution_count": 137,
   "metadata": {},
   "outputs": [],
   "source": [
    "albums_collection.insert_one(album_afi_4).inserted_id\n",
    "albums_collection.insert_one(album_rhcp_9)\n",
    "albums_collection.insert_one(album_billy_2)\n",
    "album_id_5a = albums_collection.insert_one(album_nodoubt_3).inserted_id\n",
    "album_id_6a = albums_collection.insert_one(album_teenidols_3).inserted_id"
   ]
  },
  {
   "cell_type": "code",
   "execution_count": 138,
   "metadata": {},
   "outputs": [
    {
     "data": {
      "text/plain": [
       "(ObjectId('653c174da62e95c90d146001'), ObjectId('653c174fa62e95c90d146005'))"
      ]
     },
     "execution_count": 138,
     "metadata": {},
     "output_type": "execute_result"
    }
   ],
   "source": [
    "album_id_1a, album_id_5a"
   ]
  },
  {
   "cell_type": "code",
   "execution_count": 139,
   "metadata": {},
   "outputs": [],
   "source": [
    "\"\"\" Insert venues\"\"\"\n",
    "venue_id_s_1 = venues_collection.insert_one(stadium_1_venue).inserted_id"
   ]
  },
  {
   "cell_type": "code",
   "execution_count": 140,
   "metadata": {},
   "outputs": [],
   "source": [
    "\"\"\" Insert venues all together \"\"\"\n",
    "new_venues_club = [\n",
    "    {\n",
    "    \"name\": \"BFFriends\",\n",
    "    \"location\": \"Glasgow\",\n",
    "    \"capacity\": 670,\n",
    "    \"sold_out\": \"yes\",  \n",
    "    },\n",
    "    {\n",
    "    \"name\": \"The ring pub\",\n",
    "    \"location\": \"Manchester\",\n",
    "    \"capacity\": 230,\n",
    "    \"sold_out\": \"yes\",\n",
    "    },\n",
    "    {\n",
    "    \"name\": \"Musicorium\",\n",
    "    \"location\": \"Rome\",\n",
    "    \"capacity\": 340,\n",
    "    \"sold_out\": \"yes\",\n",
    "    },\n",
    "    {\n",
    "    \"name\": \"GBNA\",\n",
    "    \"location\": \"New York\",\n",
    "    \"capacity\": 100,\n",
    "    \"sold_out\": \"yes\", \n",
    "    },\n",
    "]\n",
    "# Retrieve the existing venues from the collection\n",
    "existing_venues = list(venues_collection.find())"
   ]
  },
  {
   "cell_type": "code",
   "execution_count": 141,
   "metadata": {},
   "outputs": [
    {
     "data": {
      "text/plain": [
       "[{'_id': ObjectId('653c1750a62e95c90d146007'),\n",
       "  'name': 'Metropolitain 2',\n",
       "  'location': 'Lyon',\n",
       "  'capacity': 36000,\n",
       "  'sold_out': 'yes'}]"
      ]
     },
     "execution_count": 141,
     "metadata": {},
     "output_type": "execute_result"
    }
   ],
   "source": [
    "existing_venues"
   ]
  },
  {
   "cell_type": "code",
   "execution_count": 142,
   "metadata": {},
   "outputs": [
    {
     "data": {
      "text/plain": [
       "[{'_id': ObjectId('653c1750a62e95c90d146007'),\n",
       "  'name': 'Metropolitain 2',\n",
       "  'location': 'Lyon',\n",
       "  'capacity': 36000,\n",
       "  'sold_out': 'yes'},\n",
       " {'name': 'BFFriends',\n",
       "  'location': 'Glasgow',\n",
       "  'capacity': 670,\n",
       "  'sold_out': 'yes'},\n",
       " {'name': 'The ring pub',\n",
       "  'location': 'Manchester',\n",
       "  'capacity': 230,\n",
       "  'sold_out': 'yes'},\n",
       " {'name': 'Musicorium',\n",
       "  'location': 'Rome',\n",
       "  'capacity': 340,\n",
       "  'sold_out': 'yes'},\n",
       " {'name': 'GBNA', 'location': 'New York', 'capacity': 100, 'sold_out': 'yes'}]"
      ]
     },
     "execution_count": 142,
     "metadata": {},
     "output_type": "execute_result"
    }
   ],
   "source": [
    "# Combine the existing and new venue documents into a single list\n",
    "all_venues = existing_venues + new_venues_club\n",
    "all_venues"
   ]
  },
  {
   "cell_type": "code",
   "execution_count": 143,
   "metadata": {},
   "outputs": [
    {
     "data": {
      "text/plain": [
       "[{'name': 'BFFriends',\n",
       "  'location': 'Glasgow',\n",
       "  'capacity': 670,\n",
       "  'sold_out': 'yes'},\n",
       " {'name': 'The ring pub',\n",
       "  'location': 'Manchester',\n",
       "  'capacity': 230,\n",
       "  'sold_out': 'yes'},\n",
       " {'name': 'Musicorium',\n",
       "  'location': 'Rome',\n",
       "  'capacity': 340,\n",
       "  'sold_out': 'yes'},\n",
       " {'name': 'GBNA', 'location': 'New York', 'capacity': 100, 'sold_out': 'yes'}]"
      ]
     },
     "execution_count": 143,
     "metadata": {},
     "output_type": "execute_result"
    }
   ],
   "source": [
    "venues = all_venues[1:]\n",
    "venues"
   ]
  },
  {
   "cell_type": "code",
   "execution_count": 144,
   "metadata": {},
   "outputs": [
    {
     "data": {
      "text/plain": [
       "<pymongo.results.InsertManyResult at 0x7f2a362d6fe0>"
      ]
     },
     "execution_count": 144,
     "metadata": {},
     "output_type": "execute_result"
    }
   ],
   "source": [
    "# Insert all venue documents into the venues_collection\n",
    "venues_alls_ids = venues_collection.insert_many(venues)\n",
    "venues_alls_ids"
   ]
  },
  {
   "cell_type": "code",
   "execution_count": 145,
   "metadata": {},
   "outputs": [],
   "source": [
    "## Update a contract\n",
    "contract_1[\"band_id\"] = band_id1\n",
    "contract_1[\"venue_id\"] = venue_id_s_1"
   ]
  },
  {
   "cell_type": "code",
   "execution_count": 146,
   "metadata": {},
   "outputs": [
    {
     "name": "stdout",
     "output_type": "stream",
     "text": [
      "653c1756a62e95c90d14600f\n",
      "\n",
      "[ObjectId('653c1756a62e95c90d14600c'), ObjectId('653c1756a62e95c90d14600d'), ObjectId('653c1756a62e95c90d14600e'), ObjectId('653c1756a62e95c90d14600f')]\n"
     ]
    }
   ],
   "source": [
    "############ Insert contract and store their ID\n",
    "all_contracts = []\n",
    "contract_id_1 = contracts_collection.insert_one(contract_1).inserted_id\n",
    "contract_id_2 = contracts_collection.insert_one(contract_2).inserted_id\n",
    "contract_id_3 = contracts_collection.insert_one(contract_3).inserted_id\n",
    "contract_id_4 = contracts_collection.insert_one(contract_4).inserted_id\n",
    "all_contracts.append(contract_id_1)\n",
    "all_contracts.append(contract_id_2)\n",
    "all_contracts.append(contract_id_3)\n",
    "all_contracts.append(contract_id_4)\n",
    "\n",
    "print(contract_id_4)\n",
    "print()\n",
    "print(all_contracts)"
   ]
  },
  {
   "cell_type": "code",
   "execution_count": 147,
   "metadata": {},
   "outputs": [
    {
     "data": {
      "text/plain": [
       "<pymongo.results.InsertManyResult at 0x7f2a58cd97e0>"
      ]
     },
     "execution_count": 147,
     "metadata": {},
     "output_type": "execute_result"
    }
   ],
   "source": [
    "# Insert many at the time\n",
    "sponsors_collection.insert_many(sponsor_docs)"
   ]
  },
  {
   "cell_type": "code",
   "execution_count": 148,
   "metadata": {},
   "outputs": [
    {
     "data": {
      "text/plain": [
       "<pymongo.results.UpdateResult at 0x7f2a35f7d7b0>"
      ]
     },
     "execution_count": 148,
     "metadata": {},
     "output_type": "execute_result"
    }
   ],
   "source": [
    "### Update a document and the relative collection\n",
    "update_query = {\"name\": \"Musicorium\"}\n",
    "the_new_values = {\"$set\": {\"capacity\": 500}}\n",
    "venues_collection.update_one(update_query, the_new_values)"
   ]
  },
  {
   "cell_type": "code",
   "execution_count": 149,
   "metadata": {},
   "outputs": [],
   "source": [
    "####### Add new attributes\n",
    "add_query = {\"code\": \"con_4\"}\n",
    "new_values = {\n",
    "    \"$set\": {\n",
    "        \"people_involved\": 10,\n",
    "        \"typology\": \"temporary\" \n",
    "    }\n",
    "}\n",
    "contracts_collection.update_one(update_query, new_values);  # avoid printing the output!"
   ]
  },
  {
   "cell_type": "markdown",
   "metadata": {},
   "source": [
    "<h3 style=\"color:#2C5C0E  \"> Query </h3>"
   ]
  },
  {
   "cell_type": "code",
   "execution_count": 150,
   "metadata": {},
   "outputs": [
    {
     "name": "stdout",
     "output_type": "stream",
     "text": [
      "{'_id': ObjectId('653c1744a62e95c90d145ffc'), 'name': 'Girlschool', 'members': [{'name': 'Denise', 'role': 'drums'}, {'name': 'Kim', 'role': 'lead vocals, guitars'}, {'name': 'Jackie', 'role': 'guitars'}, {'name': 'Tracey', 'role': 'bass'}], 'genres': ['Heavy metal', 'Hard rock', 'NWOBHM'], 'origin': 'London', 'num_released_lp': 14, 'studio_albums': [{'year': 1980, 'title': 'Demolition'}, {'year': 1981, 'title': 'Hit and Run'}, {'year': 1982, 'title': 'Screaming Blue Murder'}, {'year': 1983, 'title': 'Play Dirty'}, {'year': 1985, 'title': 'Running Wild'}, {'year': 1986, 'title': 'Nightmare at Maple Cross'}, {'year': 1988, 'title': 'Take a Bite'}, {'year': 1993, 'title': 'Girlschool'}, {'year': 2002, 'title': '21st Anniversary: Not That Innocent'}, {'year': 2004, 'title': 'Believe'}, {'year': 2008, 'title': 'Legacy'}, {'year': 2011, 'title': 'Hit and Run - Revisited'}, {'year': 2015, 'title': 'Guilty as Sin'}, {'year': 2023, 'title': 'WTFortyfive?'}], 'labels': ['City', 'Bronze', 'Mercury'], 'founded_year': 1977}\n",
      "{'_id': ObjectId('653c1744a62e95c90d145ffd'), 'name': 'No Doubt', 'members': [{'name': 'Gnew', 'role': 'vocals'}, {'name': 'Tony', 'role': 'bass'}, {'name': 'Tom', 'role': 'guitars, keyboards'}, {'name': 'Adrian', 'role': 'drums, percussions'}, {'name': 'Stephen', 'role': 'Trombone'}, {'name': 'Gabrial', 'role': 'Trumpet, keyboards'}], 'genres': ['Pop rock', 'Ska'], 'origin': 'Anaheim', 'num_released_lp': 6, 'labels': ['Interscope'], 'foundation_year': 1987}\n",
      "{'_id': ObjectId('653c1744a62e95c90d145ffe'), 'name': 'Lunachicks', 'members': [{'name': 'Theoi', 'role': 'lead vocals'}, {'name': 'Gina', 'role': 'guitar, vocals'}, {'name': 'Sydney', 'role': 'bass, vocals'}, {'name': 'Sindi', 'role': 'guitar'}, {'name': 'Chip', 'role': 'drums'}], 'genres': ['Punk rock', 'Indie rock'], 'origin': 'New York', 'num_released_lp': 6, 'labels': ['Blast First', 'Safe House', 'Go Kart'], 'foundation_yearear': 1988}\n",
      "{'_id': ObjectId('653c1744a62e95c90d145fff'), 'name': 'L7', 'members': [{'name': 'Donita', 'role': 'lead vocals, guitars'}, {'name': 'Suzi', 'role': 'guitars, vocals'}, {'name': 'Jennifer', 'role': 'guitars, vocals'}, {'name': 'Demetra', 'role': 'bass, vocals'}], 'genres': ['Grunge', 'Punk Rock'], 'origin': 'Los Angeles', 'num_released_lp': 12, 'studio_albums': [{'year': 1988, 'title': 'L7'}, {'year': 1988, 'title': 'Smell the magic'}, {'year': 1991, 'title': 'Bricks are Heavy'}, {'year': 1994, 'title': 'Hungry for Stink'}, {'year': 1996, 'title': 'The Beauty Process: Triple Platinum'}, {'year': 1999, 'title': 'Slap-Happy'}, {'year': 2016, 'title': 'Wireless'}, {'year': 2018, 'title': 'Detroit'}, {'year': 2019, 'title': 'Scatter the Rats'}], 'labels': ['Epitaph', 'Sub Pop', 'Reprise'], 'foundation_year': 1985}\n",
      "{'_id': ObjectId('653c1744a62e95c90d146000'), 'name': 'Nova Twins', 'members': [{'name': 'Amy', 'role': 'vocals, guitar'}, {'name': 'Georgia', 'role': 'vocals, bass'}], 'genres': ['Rap Instrumental', 'Alternative rock', 'Nu Metal'], 'origin': 'London', 'num_released_lp': 2, 'studio_albums': [{'year': 2020, 'title': 'Who are the girls?'}, {'year': 2022, 'title': 'Supernova'}], 'labels': ['Marshall'], 'foundation_year': 2014}\n",
      "{'_id': 'AAA001', 'name': 'LNRipley', 'genre': 'Drum n bass', 'origin': 'Torino'}\n"
     ]
    }
   ],
   "source": [
    "cur = bands_collection.find()\n",
    "for doc in cur:\n",
    "    print(doc)"
   ]
  },
  {
   "cell_type": "code",
   "execution_count": 151,
   "metadata": {},
   "outputs": [
    {
     "name": "stdout",
     "output_type": "stream",
     "text": [
      "{'_id': ObjectId('653c1756a62e95c90d14600c'), 'code': 'con_1', 'band_id': ObjectId('653c1744a62e95c90d145ffc'), 'venue_id': ObjectId('653c1750a62e95c90d146007'), 'start_date': datetime.datetime(2023, 12, 1, 0, 0), 'end_date': datetime.datetime(2023, 12, 31, 0, 0), 'payment': 2200013}\n",
      "{'_id': ObjectId('653c1756a62e95c90d14600d'), 'code': 'con_2', 'band_id': None, 'venue_id': None, 'start_date': datetime.datetime(2020, 3, 1, 0, 0), 'end_date': datetime.datetime(2020, 3, 4, 0, 0), 'payment': 6790}\n",
      "{'_id': ObjectId('653c1756a62e95c90d14600e'), 'code': 'con_3', 'band_id': 321, 'venue_id': 44, 'start_date': datetime.datetime(199, 8, 12, 0, 0), 'end_date': datetime.datetime(1999, 8, 13, 0, 0), 'payment': 31000}\n",
      "{'_id': ObjectId('653c1756a62e95c90d14600f'), 'code': 'con_4', 'band_id': 103, 'venue_id': '1AA87K43', 'start_date': datetime.datetime(2021, 3, 1, 0, 0), 'end_date': datetime.datetime(2021, 5, 2, 0, 0), 'payment': 52000}\n"
     ]
    }
   ],
   "source": [
    "cur = contracts_collection.find()\n",
    "for doc in cur:\n",
    "    print(doc)"
   ]
  },
  {
   "cell_type": "code",
   "execution_count": 152,
   "metadata": {},
   "outputs": [
    {
     "name": "stdout",
     "output_type": "stream",
     "text": [
      "{'_id': ObjectId('653c1750a62e95c90d146007'), 'name': 'Metropolitain 2', 'location': 'Lyon', 'capacity': 36000, 'sold_out': 'yes'}\n",
      "{'_id': ObjectId('653c1755a62e95c90d146008'), 'name': 'BFFriends', 'location': 'Glasgow', 'capacity': 670, 'sold_out': 'yes'}\n",
      "{'_id': ObjectId('653c1755a62e95c90d146009'), 'name': 'The ring pub', 'location': 'Manchester', 'capacity': 230, 'sold_out': 'yes'}\n",
      "{'_id': ObjectId('653c1755a62e95c90d14600a'), 'name': 'Musicorium', 'location': 'Rome', 'capacity': 500, 'sold_out': 'yes'}\n",
      "{'_id': ObjectId('653c1755a62e95c90d14600b'), 'name': 'GBNA', 'location': 'New York', 'capacity': 100, 'sold_out': 'yes'}\n"
     ]
    }
   ],
   "source": [
    "cur = venues_collection.find()\n",
    "for doc in cur:\n",
    "    print(doc)"
   ]
  },
  {
   "cell_type": "code",
   "execution_count": 153,
   "metadata": {},
   "outputs": [
    {
     "name": "stdout",
     "output_type": "stream",
     "text": [
      "{'_id': ObjectId('653c174da62e95c90d146001'), 'title': 'Speed is relative', 'artist': 'Cigar', 'label': 'Warner', 'year': 1999}\n",
      "{'_id': ObjectId('653c174fa62e95c90d146002'), 'title': 'Black Sails In The Sunset', 'artist': 'Afi', 'label': 'Nitro', 'year': 2000}\n",
      "{'_id': ObjectId('653c174fa62e95c90d146003'), 'title': 'Stadium Arcadium', 'artist': 'Red Hot Chili Peppers', 'label': 'Warner', 'year': 2006}\n",
      "{'_id': ObjectId('653c174fa62e95c90d146004'), 'title': 'Billy Talent 2', 'artist': 'Billy Talent', 'label': 'Atlantic', 'year': 2005}\n",
      "{'_id': ObjectId('653c174fa62e95c90d146005'), 'title': 'Tragic Kingdom', 'artist': 'No doubt', 'label': 'Interscope', 'year': 1995}\n",
      "{'_id': ObjectId('653c174fa62e95c90d146006'), 'title': 'Full Leather Jacket', 'artist': 'Teen idols', 'label': 'Warner', 'year': 2000}\n"
     ]
    }
   ],
   "source": [
    "cur = albums_collection.find()\n",
    "for doc in cur:\n",
    "    print(doc)"
   ]
  },
  {
   "cell_type": "code",
   "execution_count": 154,
   "metadata": {},
   "outputs": [
    {
     "name": "stdout",
     "output_type": "stream",
     "text": [
      "{'_id': ObjectId('653c1757a62e95c90d146010'), 'name': 'Acme Guitars', 'industry': 'Musical Instruments', 'type': 'for bassist only', 'combined offer': 'strings'}\n",
      "{'_id': ObjectId('653c1757a62e95c90d146011'), 'name': 'Batti Pedals', 'industry': 'Musical Instruments', 'contract': 'Ongoing'}\n",
      "{'_id': ObjectId('653c1757a62e95c90d146012'), 'name': 'Green park', 'industry': 'Clothing'}\n",
      "{'_id': ObjectId('653c1757a62e95c90d146013'), 'name': 'San Pat', 'category': 'Beer', 'covered_years': 3}\n"
     ]
    }
   ],
   "source": [
    "cur = sponsors_collection.find()\n",
    "for doc in cur:\n",
    "    print(doc)"
   ]
  },
  {
   "cell_type": "code",
   "execution_count": 155,
   "metadata": {},
   "outputs": [
    {
     "name": "stdout",
     "output_type": "stream",
     "text": [
      "Bands:\n",
      "{'_id': ObjectId('653c1744a62e95c90d145ffc'), 'name': 'Girlschool', 'members': [{'name': 'Denise', 'role': 'drums'}, {'name': 'Kim', 'role': 'lead vocals, guitars'}, {'name': 'Jackie', 'role': 'guitars'}, {'name': 'Tracey', 'role': 'bass'}], 'genres': ['Heavy metal', 'Hard rock', 'NWOBHM'], 'origin': 'London', 'num_released_lp': 14, 'studio_albums': [{'year': 1980, 'title': 'Demolition'}, {'year': 1981, 'title': 'Hit and Run'}, {'year': 1982, 'title': 'Screaming Blue Murder'}, {'year': 1983, 'title': 'Play Dirty'}, {'year': 1985, 'title': 'Running Wild'}, {'year': 1986, 'title': 'Nightmare at Maple Cross'}, {'year': 1988, 'title': 'Take a Bite'}, {'year': 1993, 'title': 'Girlschool'}, {'year': 2002, 'title': '21st Anniversary: Not That Innocent'}, {'year': 2004, 'title': 'Believe'}, {'year': 2008, 'title': 'Legacy'}, {'year': 2011, 'title': 'Hit and Run - Revisited'}, {'year': 2015, 'title': 'Guilty as Sin'}, {'year': 2023, 'title': 'WTFortyfive?'}], 'labels': ['City', 'Bronze', 'Mercury'], 'founded_year': 1977}\n",
      "{'_id': ObjectId('653c1744a62e95c90d145ffd'), 'name': 'No Doubt', 'members': [{'name': 'Gnew', 'role': 'vocals'}, {'name': 'Tony', 'role': 'bass'}, {'name': 'Tom', 'role': 'guitars, keyboards'}, {'name': 'Adrian', 'role': 'drums, percussions'}, {'name': 'Stephen', 'role': 'Trombone'}, {'name': 'Gabrial', 'role': 'Trumpet, keyboards'}], 'genres': ['Pop rock', 'Ska'], 'origin': 'Anaheim', 'num_released_lp': 6, 'labels': ['Interscope'], 'foundation_year': 1987}\n",
      "{'_id': ObjectId('653c1744a62e95c90d145ffe'), 'name': 'Lunachicks', 'members': [{'name': 'Theoi', 'role': 'lead vocals'}, {'name': 'Gina', 'role': 'guitar, vocals'}, {'name': 'Sydney', 'role': 'bass, vocals'}, {'name': 'Sindi', 'role': 'guitar'}, {'name': 'Chip', 'role': 'drums'}], 'genres': ['Punk rock', 'Indie rock'], 'origin': 'New York', 'num_released_lp': 6, 'labels': ['Blast First', 'Safe House', 'Go Kart'], 'foundation_yearear': 1988}\n",
      "{'_id': ObjectId('653c1744a62e95c90d145fff'), 'name': 'L7', 'members': [{'name': 'Donita', 'role': 'lead vocals, guitars'}, {'name': 'Suzi', 'role': 'guitars, vocals'}, {'name': 'Jennifer', 'role': 'guitars, vocals'}, {'name': 'Demetra', 'role': 'bass, vocals'}], 'genres': ['Grunge', 'Punk Rock'], 'origin': 'Los Angeles', 'num_released_lp': 12, 'studio_albums': [{'year': 1988, 'title': 'L7'}, {'year': 1988, 'title': 'Smell the magic'}, {'year': 1991, 'title': 'Bricks are Heavy'}, {'year': 1994, 'title': 'Hungry for Stink'}, {'year': 1996, 'title': 'The Beauty Process: Triple Platinum'}, {'year': 1999, 'title': 'Slap-Happy'}, {'year': 2016, 'title': 'Wireless'}, {'year': 2018, 'title': 'Detroit'}, {'year': 2019, 'title': 'Scatter the Rats'}], 'labels': ['Epitaph', 'Sub Pop', 'Reprise'], 'foundation_year': 1985}\n",
      "{'_id': ObjectId('653c1744a62e95c90d146000'), 'name': 'Nova Twins', 'members': [{'name': 'Amy', 'role': 'vocals, guitar'}, {'name': 'Georgia', 'role': 'vocals, bass'}], 'genres': ['Rap Instrumental', 'Alternative rock', 'Nu Metal'], 'origin': 'London', 'num_released_lp': 2, 'studio_albums': [{'year': 2020, 'title': 'Who are the girls?'}, {'year': 2022, 'title': 'Supernova'}], 'labels': ['Marshall'], 'foundation_year': 2014}\n",
      "{'_id': 'AAA001', 'name': 'LNRipley', 'genre': 'Drum n bass', 'origin': 'Torino'}\n",
      "\n",
      "Albums:\n",
      "{'_id': ObjectId('653c174da62e95c90d146001'), 'title': 'Speed is relative', 'artist': 'Cigar', 'label': 'Warner', 'year': 1999}\n",
      "{'_id': ObjectId('653c174fa62e95c90d146002'), 'title': 'Black Sails In The Sunset', 'artist': 'Afi', 'label': 'Nitro', 'year': 2000}\n",
      "{'_id': ObjectId('653c174fa62e95c90d146003'), 'title': 'Stadium Arcadium', 'artist': 'Red Hot Chili Peppers', 'label': 'Warner', 'year': 2006}\n",
      "{'_id': ObjectId('653c174fa62e95c90d146004'), 'title': 'Billy Talent 2', 'artist': 'Billy Talent', 'label': 'Atlantic', 'year': 2005}\n",
      "{'_id': ObjectId('653c174fa62e95c90d146005'), 'title': 'Tragic Kingdom', 'artist': 'No doubt', 'label': 'Interscope', 'year': 1995}\n",
      "{'_id': ObjectId('653c174fa62e95c90d146006'), 'title': 'Full Leather Jacket', 'artist': 'Teen idols', 'label': 'Warner', 'year': 2000}\n",
      "\n",
      "Venues:\n",
      "{'_id': ObjectId('653c1750a62e95c90d146007'), 'name': 'Metropolitain 2', 'location': 'Lyon', 'capacity': 36000, 'sold_out': 'yes'}\n",
      "{'_id': ObjectId('653c1755a62e95c90d146008'), 'name': 'BFFriends', 'location': 'Glasgow', 'capacity': 670, 'sold_out': 'yes'}\n",
      "{'_id': ObjectId('653c1755a62e95c90d146009'), 'name': 'The ring pub', 'location': 'Manchester', 'capacity': 230, 'sold_out': 'yes'}\n",
      "{'_id': ObjectId('653c1755a62e95c90d14600a'), 'name': 'Musicorium', 'location': 'Rome', 'capacity': 500, 'sold_out': 'yes'}\n",
      "{'_id': ObjectId('653c1755a62e95c90d14600b'), 'name': 'GBNA', 'location': 'New York', 'capacity': 100, 'sold_out': 'yes'}\n",
      "\n",
      "Contracts:\n",
      "{'_id': ObjectId('653c1756a62e95c90d14600c'), 'code': 'con_1', 'band_id': ObjectId('653c1744a62e95c90d145ffc'), 'venue_id': ObjectId('653c1750a62e95c90d146007'), 'start_date': datetime.datetime(2023, 12, 1, 0, 0), 'end_date': datetime.datetime(2023, 12, 31, 0, 0), 'payment': 2200013}\n",
      "{'_id': ObjectId('653c1756a62e95c90d14600d'), 'code': 'con_2', 'band_id': None, 'venue_id': None, 'start_date': datetime.datetime(2020, 3, 1, 0, 0), 'end_date': datetime.datetime(2020, 3, 4, 0, 0), 'payment': 6790}\n",
      "{'_id': ObjectId('653c1756a62e95c90d14600e'), 'code': 'con_3', 'band_id': 321, 'venue_id': 44, 'start_date': datetime.datetime(199, 8, 12, 0, 0), 'end_date': datetime.datetime(1999, 8, 13, 0, 0), 'payment': 31000}\n",
      "{'_id': ObjectId('653c1756a62e95c90d14600f'), 'code': 'con_4', 'band_id': 103, 'venue_id': '1AA87K43', 'start_date': datetime.datetime(2021, 3, 1, 0, 0), 'end_date': datetime.datetime(2021, 5, 2, 0, 0), 'payment': 52000}\n",
      "\n",
      "Sponsors:\n",
      "{'_id': ObjectId('653c1757a62e95c90d146010'), 'name': 'Acme Guitars', 'industry': 'Musical Instruments', 'type': 'for bassist only', 'combined offer': 'strings'}\n",
      "{'_id': ObjectId('653c1757a62e95c90d146011'), 'name': 'Batti Pedals', 'industry': 'Musical Instruments', 'contract': 'Ongoing'}\n",
      "{'_id': ObjectId('653c1757a62e95c90d146012'), 'name': 'Green park', 'industry': 'Clothing'}\n",
      "{'_id': ObjectId('653c1757a62e95c90d146013'), 'name': 'San Pat', 'category': 'Beer', 'covered_years': 3}\n"
     ]
    }
   ],
   "source": [
    "\"\"\" Show all collections \"\"\"\n",
    "print(\"Bands:\")\n",
    "for band in bands_collection.find():\n",
    "    print(band)\n",
    "print(\"\\nAlbums:\")\n",
    "for alb in albums_collection.find():\n",
    "    print(alb)    \n",
    "print(\"\\nVenues:\")\n",
    "for ven in venues_collection.find():\n",
    "    print(ven)\n",
    "print(\"\\nContracts:\")\n",
    "for cont in contracts_collection.find():\n",
    "    print(cont)\n",
    "print(\"\\nSponsors:\")\n",
    "for spon in sponsors_collection.find():\n",
    "    print(spon)"
   ]
  },
  {
   "cell_type": "markdown",
   "metadata": {},
   "source": [
    "<h3 style=\"color:#2C5C0E  \"> => Searching </h3>"
   ]
  },
  {
   "cell_type": "code",
   "execution_count": 156,
   "metadata": {},
   "outputs": [
    {
     "name": "stdout",
     "output_type": "stream",
     "text": [
      "Find a band by name:\n",
      "{'_id': ObjectId('653c1744a62e95c90d145fff'), 'name': 'L7', 'members': [{'name': 'Donita', 'role': 'lead vocals, guitars'}, {'name': 'Suzi', 'role': 'guitars, vocals'}, {'name': 'Jennifer', 'role': 'guitars, vocals'}, {'name': 'Demetra', 'role': 'bass, vocals'}], 'genres': ['Grunge', 'Punk Rock'], 'origin': 'Los Angeles', 'num_released_lp': 12, 'studio_albums': [{'year': 1988, 'title': 'L7'}, {'year': 1988, 'title': 'Smell the magic'}, {'year': 1991, 'title': 'Bricks are Heavy'}, {'year': 1994, 'title': 'Hungry for Stink'}, {'year': 1996, 'title': 'The Beauty Process: Triple Platinum'}, {'year': 1999, 'title': 'Slap-Happy'}, {'year': 2016, 'title': 'Wireless'}, {'year': 2018, 'title': 'Detroit'}, {'year': 2019, 'title': 'Scatter the Rats'}], 'labels': ['Epitaph', 'Sub Pop', 'Reprise'], 'foundation_year': 1985}\n"
     ]
    }
   ],
   "source": [
    "# Find a document by a field value\n",
    "print(\"Find a band by name:\")\n",
    "found_band = bands_collection.find_one({\"name\": \"L7\"})\n",
    "print(found_band)"
   ]
  },
  {
   "cell_type": "code",
   "execution_count": 157,
   "metadata": {},
   "outputs": [
    {
     "data": {
      "text/plain": [
       "<pymongo.cursor.Cursor at 0x7f2a358d59c0>"
      ]
     },
     "execution_count": 157,
     "metadata": {},
     "output_type": "execute_result"
    }
   ],
   "source": [
    "db.venues_collection.find({\"capacity\": 500})"
   ]
  },
  {
   "cell_type": "code",
   "execution_count": 158,
   "metadata": {},
   "outputs": [
    {
     "data": {
      "text/plain": [
       "<pymongo.cursor.Cursor at 0x7f2a358d4250>"
      ]
     },
     "execution_count": 158,
     "metadata": {},
     "output_type": "execute_result"
    }
   ],
   "source": [
    "#To retrieve specific fields from the result of a MongoDB query, using .find() it is not enough\n",
    "db.venues_collection.find({ \"capacity\": 500 }, { \"_id\": 0, \"name\": 1 })"
   ]
  },
  {
   "cell_type": "code",
   "execution_count": 159,
   "metadata": {},
   "outputs": [
    {
     "name": "stdout",
     "output_type": "stream",
     "text": [
      "Nitro\n",
      "Warner\n"
     ]
    }
   ],
   "source": [
    "cursor_0 = db.albums.find({ \"year\": 2000 })\n",
    "for doc in cursor_0:\n",
    "    print(doc[\"label\"])"
   ]
  },
  {
   "cell_type": "code",
   "execution_count": 160,
   "metadata": {},
   "outputs": [
    {
     "name": "stdout",
     "output_type": "stream",
     "text": [
      "Black\n",
      "Black\n"
     ]
    },
    {
     "data": {
      "text/plain": [
       "<pymongo.cursor.Cursor at 0x7f2a358d63e0>"
      ]
     },
     "execution_count": 160,
     "metadata": {},
     "output_type": "execute_result"
    }
   ],
   "source": [
    "\"\"\" Get a partial match for title.\n",
    "N.B.\n",
    "the field \" _id\": 0 is used to exclude the _id field from the query result. \n",
    "\"\"\"\n",
    "cursor_1 = db.albums.find({ \"year\": 2000 }, { \"_id\": 0, \"title\": 'Black' }) \n",
    "for document in cursor_1:\n",
    "    print(document[\"title\"])\n",
    "\n",
    "cursor_1"
   ]
  },
  {
   "cell_type": "code",
   "execution_count": 161,
   "metadata": {},
   "outputs": [
    {
     "name": "stdout",
     "output_type": "stream",
     "text": [
      "Black Sails In The Sunset\n"
     ]
    }
   ],
   "source": [
    "cursor_2 = db.albums.find({ \"year\": 2000, \"title\": 'Black Sails In The Sunset' }, { \"_id\": 0, \"title\": 1 })\n",
    "for document in cursor_2:\n",
    "    print(document[\"title\"])"
   ]
  },
  {
   "cell_type": "code",
   "execution_count": 162,
   "metadata": {},
   "outputs": [
    {
     "data": {
      "text/plain": [
       "Collection(Database(MongoClient(host=['127.0.0.1:27017'], document_class=dict, tz_aware=False, connect=True), 'music_archive_management'), 'sponsors')"
      ]
     },
     "execution_count": 162,
     "metadata": {},
     "output_type": "execute_result"
    }
   ],
   "source": [
    "sponsors_collection"
   ]
  },
  {
   "cell_type": "markdown",
   "metadata": {},
   "source": [
    "<h3 style=\"color:#2C5C0E  \"> => Cancel </h3>"
   ]
  },
  {
   "cell_type": "code",
   "execution_count": 163,
   "metadata": {},
   "outputs": [
    {
     "data": {
      "text/plain": [
       "<pymongo.results.DeleteResult at 0x7f2a58cd8310>"
      ]
     },
     "execution_count": 163,
     "metadata": {},
     "output_type": "execute_result"
    }
   ],
   "source": [
    "# Delete a document\n",
    "delete_query = {\"name\": \"Acme Guitars\"}\n",
    "sponsors_collection.delete_one(delete_query)"
   ]
  },
  {
   "cell_type": "code",
   "execution_count": 165,
   "metadata": {},
   "outputs": [
    {
     "name": "stdout",
     "output_type": "stream",
     "text": [
      "{'_id': ObjectId('653c1757a62e95c90d146011'), 'name': 'Batti Pedals', 'industry': 'Musical Instruments', 'contract': 'Ongoing'}\n",
      "{'_id': ObjectId('653c1757a62e95c90d146012'), 'name': 'Green park', 'industry': 'Clothing'}\n",
      "{'_id': ObjectId('653c1757a62e95c90d146013'), 'name': 'San Pat', 'category': 'Beer', 'covered_years': 3}\n"
     ]
    }
   ],
   "source": [
    "cur = sponsors_collection.find()\n",
    "for doc in cur:\n",
    "    print(doc)"
   ]
  },
  {
   "cell_type": "code",
   "execution_count": 166,
   "metadata": {},
   "outputs": [
    {
     "data": {
      "text/plain": [
       "<pymongo.results.DeleteResult at 0x7f2a58cda5f0>"
      ]
     },
     "execution_count": 166,
     "metadata": {},
     "output_type": "execute_result"
    }
   ],
   "source": [
    "# Empty a collection (equivalent of mongosh => db.venues_collection.deleteMany({}))\n",
    "venues_collection.delete_many({})"
   ]
  },
  {
   "cell_type": "code",
   "execution_count": 167,
   "metadata": {},
   "outputs": [],
   "source": [
    "# Check that the venues_collection does not exist anymore\n",
    "cursor = venues_collection.find()\n",
    "for doc in cursor:\n",
    "    print(doc)"
   ]
  },
  {
   "cell_type": "code",
   "execution_count": 168,
   "metadata": {},
   "outputs": [],
   "source": [
    "# Delete the entire collection (equivalent of mongosh => db.venues_collection.drop())\n",
    "venues_collection.drop()"
   ]
  },
  {
   "cell_type": "code",
   "execution_count": 169,
   "metadata": {},
   "outputs": [
    {
     "data": {
      "text/plain": [
       "Collection(Database(MongoClient(host=['127.0.0.1:27017'], document_class=dict, tz_aware=False, connect=True), 'music_archive_management'), 'venues')"
      ]
     },
     "execution_count": 169,
     "metadata": {},
     "output_type": "execute_result"
    }
   ],
   "source": [
    "venues_collection"
   ]
  },
  {
   "cell_type": "code",
   "execution_count": 170,
   "metadata": {},
   "outputs": [],
   "source": [
    "# Close the MongoDB connection\n",
    "client.close()"
   ]
  },
  {
   "cell_type": "code",
   "execution_count": 2,
   "metadata": {},
   "outputs": [],
   "source": [
    "# Reopen \n",
    "client = pymongo.MongoClient(\"mongodb://localhost:27017/\")\n",
    "db = client[\"music_archive_management\"]"
   ]
  },
  {
   "cell_type": "code",
   "execution_count": 5,
   "metadata": {},
   "outputs": [
    {
     "data": {
      "text/plain": [
       "<pymongo.results.InsertOneResult at 0x7f3840b60d00>"
      ]
     },
     "execution_count": 5,
     "metadata": {},
     "output_type": "execute_result"
    }
   ],
   "source": [
    "the_who_document = {\n",
    "    \"name\": \"The Who\",\n",
    "    \"formed\": datetime(1964, 1, 1),\n",
    "    \"origin\": \"London, England\",\n",
    "    \"genres\": [\"Rock\", \"Hard Rock\", \"Power Pop\"],\n",
    "    \"members\": [\n",
    "        {\n",
    "            \"name\": \"Roger Daltrey\",\n",
    "            \"role\": \"lead vocals\",\n",
    "            \"details\": {\n",
    "                \"born\": datetime(1944, 3, 1),\n",
    "                \"instruments\": [\"Vocals\", \"Harmonica\", \"Tambourine\"]\n",
    "            }\n",
    "        },\n",
    "        {\n",
    "            \"name\": \"Pete Townshend\",\n",
    "            \"role\": \"guitar\",\n",
    "            \"details\": {\n",
    "                \"born\": datetime(1945, 5, 19),\n",
    "                \"instruments\": [\"Guitar\", \"Vocals\", \"Keyboards\"]\n",
    "            }\n",
    "        },\n",
    "        {\n",
    "            \"name\": \"John Entwistle\",\n",
    "            \"role\": \"bass\",\n",
    "            \"details\": {\n",
    "                \"born\": datetime(1944, 10, 9),\n",
    "                \"instruments\": [\"Bass Guitar\", \"Brass\", \"Vocals\"]\n",
    "            }\n",
    "        },\n",
    "        {\n",
    "            \"name\": \"Keith Moon\",\n",
    "            \"role\": \"drums\",\n",
    "            \"details\": {\n",
    "                \"born\": datetime(1946, 8, 23),\n",
    "                \"instruments\": [\"Drums\", \"Percussion\"]\n",
    "            }\n",
    "        }\n",
    "    ],\n",
    "    \"discography\": [\n",
    "        {\"album\": \"My Generation\", \"released\": datetime(1965, 1, 1)},\n",
    "        {\"album\": \"A Quick One\", \"released\": datetime(1966, 1, 1)},\n",
    "        {\"album\": \"The Who Sell Out\", \"released\": datetime(1967, 1, 1)},\n",
    "        {\"album\": \"Tommy\", \"released\": datetime(1969, 1, 1)},\n",
    "        {\"album\": \"Who's Next\", \"released\": datetime(1971, 1, 1)},\n",
    "        {\"album\": \"Quadrophenia\", \"released\": datetime(1973, 1, 1)},\n",
    "        {\"album\": \"The Who by Numbers\", \"released\": datetime(1975, 1, 1)},\n",
    "        {\"album\": \"Who Are You\", \"released\": datetime(1978, 1, 1)},\n",
    "        {\"album\": \"Face Dances\", \"released\": datetime(1981, 1, 1)},\n",
    "        {\"album\": \"It's Hard\", \"released\": datetime(1982, 1, 1)}\n",
    "    ]\n",
    "}\n",
    "\n",
    "# Insert finally the doc into the right collection\n",
    "bands_collection.insert_one(the_who_document)"
   ]
  },
  {
   "cell_type": "code",
   "execution_count": 6,
   "metadata": {},
   "outputs": [
    {
     "name": "stdout",
     "output_type": "stream",
     "text": [
      "The ObjectId of 'The Who' is: 65ba12d0bb6e81da898d51cf\n"
     ]
    }
   ],
   "source": [
    "\"\"\" Retrieve the ObjectId of a document \"\"\"\n",
    "\n",
    "band_name = \"The Who\"  \n",
    "query_who = {\"name\": band_name}\n",
    "band_document = bands_collection.find_one(query_who)\n",
    "\n",
    "##### Extract the ObjectId\n",
    "if band_document:\n",
    "    band_id = band_document[\"_id\"]\n",
    "    print(f\"The ObjectId of '{band_name}' is: {band_id}\")\n",
    "else:\n",
    "    print(f\"No band found with the name '{band_name}'\")"
   ]
  },
  {
   "cell_type": "code",
   "execution_count": 8,
   "metadata": {},
   "outputs": [
    {
     "data": {
      "text/plain": [
       "<pymongo.results.InsertOneResult at 0x7f38409f0d60>"
      ]
     },
     "execution_count": 8,
     "metadata": {},
     "output_type": "execute_result"
    }
   ],
   "source": [
    "\"\"\" How to simply reference other documents ? Here a sort of relation is introduced! \n",
    "\n",
    "#new_id = ObjectId()\n",
    "Create a new ObjectId to use an existing mongoDB ObjectId string \n",
    "existing_id = ObjectId(\"65ba12d0bb6e81da898d51cf\")\n",
    "OR...\n",
    "\"\"\"\n",
    "existing_id = ObjectId(band_id)\n",
    "\n",
    "# Create and insert together directly \n",
    "venues_collection.insert_one(\n",
    "{\n",
    "    \"timestamp\": datetime.now(),\n",
    "    \"band\": existing_id,\n",
    "    \"event\": \"Live Concert\",\n",
    "    \"location\": \"New York\"\n",
    "}\n",
    ")"
   ]
  },
  {
   "cell_type": "markdown",
   "metadata": {},
   "source": [
    "<h3 style=\"color:#2C5C0E  \"> Notes: </h3>\n",
    "<div style=\"margin-top: -8px;\">\n",
    "MongoDB itself does not enforce referential integrity or automatic linking like relational databases do with foreign keys. <br>\n",
    "When looking at a document with an ObjectId reference In MongoDB Compass, it will appear as just an ID string. <br>\n",
    "</div> \n"
   ]
  },
  {
   "cell_type": "code",
   "execution_count": 10,
   "metadata": {},
   "outputs": [
    {
     "data": {
      "text/plain": [
       "<pymongo.results.InsertOneResult at 0x7f38409f14b0>"
      ]
     },
     "execution_count": 10,
     "metadata": {},
     "output_type": "execute_result"
    }
   ],
   "source": [
    "live_stadium_tours_2000 = {\n",
    "    \"name\": \"No Doubt\",\n",
    "    \"date\": datetime(1999, 3, 6),\n",
    "    \"location\": \"Milano\",\n",
    "    \"stadium\": \"San Siro\",\n",
    "    \"Organizator\": \"Flip Music Factory\"\n",
    "}\n",
    "venues_collection.insert_one(live_stadium_tours_2000)"
   ]
  },
  {
   "cell_type": "code",
   "execution_count": 11,
   "metadata": {},
   "outputs": [],
   "source": [
    "\"\"\" Aggregation Pipeline: A way to create a \"fake\" reference in MongoDB is using the aggregation framework.\n",
    "The $lookup stage, which allows you to perform a join-like operation.\n",
    "\"\"\"\n",
    "pipeline = [\n",
    "    {\n",
    "        \"$lookup\": {\n",
    "            \"from\": \"bands_collection\",         # The other collection to join\n",
    "            \"localField\": \"name\",               # Field that contain the band name in the venues\n",
    "            \"foreignField\": \"name\",             # Field from the bands collection to match\n",
    "            \"as\": \"band_info_array_field\"       # The output array field\n",
    "        }\n",
    "    }\n",
    "]\n",
    "\n",
    "results = db.venues_collection.aggregate(pipeline)\n",
    "\n",
    "for doc in results:\n",
    "    print(doc)"
   ]
  },
  {
   "cell_type": "code",
   "execution_count": 12,
   "metadata": {},
   "outputs": [
    {
     "name": "stdout",
     "output_type": "stream",
     "text": [
      "The _id of the last document created: 65ba1986bb6e81da898d51d1\n"
     ]
    }
   ],
   "source": [
    "\"\"\" Retrieve the last document created in a collection\n",
    "N.B.\n",
    "Sorting by \"_id\" in descending order effectively sorts documents by their creation time, \n",
    "since MongoDB's default ObjectId generation strategy incorporates a timestamp\n",
    "\"\"\"\n",
    "last_document = venues_collection.find().sort(\"_id\", -1).limit(1).next()\n",
    "# Extract the ObjectId\n",
    "last_venue_doc = last_document.get(\"_id\")\n",
    "print(\"The _id of the last document created:\", last_venue_doc)"
   ]
  },
  {
   "cell_type": "code",
   "execution_count": 13,
   "metadata": {},
   "outputs": [
    {
     "name": "stdout",
     "output_type": "stream",
     "text": [
      "The document was successfully updated.\n"
     ]
    }
   ],
   "source": [
    "\"\"\" Update a document \"\"\"\n",
    "venues_collection.update_one(\n",
    "    {\"_id\": last_venue_doc},\n",
    "    {\n",
    "        # Rename field\n",
    "        \"$rename\": {\"name\": \"bandName\"},        \n",
    "        # Add a new field\n",
    "        \"$set\": {\"status\": \"Sold out\"}       \n",
    "    }\n",
    ")\n",
    "print(\"The document was successfully updated.\")"
   ]
  },
  {
   "cell_type": "code",
   "execution_count": 17,
   "metadata": {},
   "outputs": [
    {
     "name": "stdout",
     "output_type": "stream",
     "text": [
      "Your rigs were inserted\n"
     ]
    }
   ],
   "source": [
    "rigs_collection = db[\"rigs\"]\n",
    "with open('rigs.json', 'r') as file:\n",
    "    rigs_data = json.load(file)\n",
    "\n",
    "rigs_collection.insert_many(rigs_data)\n",
    "print(\"Your rigs were inserted\")"
   ]
  }
 ],
 "metadata": {
  "kernelspec": {
   "display_name": "MLearning",
   "language": "python",
   "name": "python3"
  },
  "language_info": {
   "codemirror_mode": {
    "name": "ipython",
    "version": 3
   },
   "file_extension": ".py",
   "mimetype": "text/x-python",
   "name": "python",
   "nbconvert_exporter": "python",
   "pygments_lexer": "ipython3",
   "version": "3.10.9"
  },
  "orig_nbformat": 4
 },
 "nbformat": 4,
 "nbformat_minor": 2
}
