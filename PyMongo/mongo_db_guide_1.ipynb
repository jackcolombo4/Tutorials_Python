{
 "cells": [
  {
   "cell_type": "markdown",
   "metadata": {},
   "source": [
    "<div style=\"line-height:0.5\">\n",
    "<h1 style=\"color:#2C5C0E\"> Mongodb basics 1 </h1>\n",
    "<h4> Setting the localhost connection and performing simple operations. </h4>\n",
    "<span style=\"display: inline-block;\">\n",
    "    <h3 style=\"color: lightblue; display: inline;\">Keywords:</h3> pymongo + json file + unwind\n",
    "</span>\n",
    "</div>\n",
    "<br>\n",
    "</div>"
   ]
  },
  {
   "cell_type": "code",
   "execution_count": 43,
   "metadata": {},
   "outputs": [],
   "source": [
    "import re\n",
    "import json\n",
    "import pymongo\n",
    "from datetime import datetime\n",
    "from bson.objectid import ObjectId"
   ]
  },
  {
   "cell_type": "markdown",
   "metadata": {},
   "source": [
    "<h3 style=\"color:#2C5C0E  \"> Recap: </h3>\n",
    "<div style=\"margin-top: -8px;\">\n",
    "\n",
    "In MongoDB, a collection is a database component used to store multiple documents. <br>\n",
    "Documents in a collection can be thought of as similar to rows or records in a traditional relational database. <br>\n",
    "\n",
    "MongoDB is: <br>\n",
    "=> schema-less, meaning that each document in a collection can have a different structure. <br> \n",
    "=> flexible; It is possible to store data with varying fields and data types within the same collection. <br>\n",
    "=> without fixed keys! (unlike dictionaries). <br>\n",
    "=> horizontal scaling \n",
    "</div>"
   ]
  },
  {
   "cell_type": "markdown",
   "metadata": {},
   "source": [
    "<h3 style=\"color:#2C5C0E  \"> Instructions (Linux debian): </h3>"
   ]
  },
  {
   "cell_type": "code",
   "execution_count": 116,
   "metadata": {},
   "outputs": [
    {
     "name": "stdout",
     "output_type": "stream",
     "text": [
      "Skipping, since already extracted.\n"
     ]
    }
   ],
   "source": [
    "%%script echo Skipping, since already extracted.\n",
    "# Install MongoBD GUI program (deb package)\n",
    "sudo dpkg -i mongodb-compass_1.40.4_amd64.deb"
   ]
  },
  {
   "cell_type": "code",
   "execution_count": 117,
   "metadata": {},
   "outputs": [
    {
     "name": "stdout",
     "output_type": "stream",
     "text": [
      "Skipping, since already extracted.\n"
     ]
    }
   ],
   "source": [
    "%%script echo Skipping, since already extracted.\n",
    "## Extract downloaded archive and make the program globally executable\n",
    "!tar -zxvf mongodb-linux-x86_64-ubuntu2204-7.0.2.tgz\n",
    "!sudo mv mongodb-linux-x86_64-ubuntu2204-7.0.2/bin/mongod /usr/local/bin/"
   ]
  },
  {
   "cell_type": "code",
   "execution_count": 118,
   "metadata": {},
   "outputs": [
    {
     "name": "stdout",
     "output_type": "stream",
     "text": [
      "Skipping. Should be done only the first time, after installation\n"
     ]
    }
   ],
   "source": [
    "%%script echo Skipping. Should be done only the first time, after installation\n",
    "## Create a database directory and grant permissions\n",
    "!sudo mkdir -p /data/db/\n",
    "!sudo chown -R $USER /data/db/"
   ]
  },
  {
   "cell_type": "code",
   "execution_count": 119,
   "metadata": {},
   "outputs": [
    {
     "name": "stdout",
     "output_type": "stream",
     "text": [
      "Skipping. Clearly, the server must be run in an external terminal and not here, to avoid stalling the notebook execution.\n"
     ]
    }
   ],
   "source": [
    "%%script echo Skipping. Clearly, the server must be run in an external terminal and not here, to avoid stalling the notebook execution. \n",
    "# Start a MongoDB server on localhost (it can be specified a different path with: \"$mongod --dbpath /path/to/db)\"\n",
    "!mongod"
   ]
  },
  {
   "cell_type": "markdown",
   "metadata": {},
   "source": [
    "Before starting, delete the old database from MongoDB Compass application or via terminal launching both '$mongod' and '$mongosh' in 2 separated terminals. <br>\n",
    "\n",
    "mongosh shell commands:\n",
    "<div style=\"margin-top: -10px;\">\n",
    "\n",
    "- test > show dbs\n",
    "- test > use music_management\n",
    "- music_management> db.dropDatabase()\n",
    "- music_management> show dbs\n",
    "- music_management> exit\n",
    "</div>\n",
    "\n",
    "Note that the directory associated with the removed db may not be immediately removed from the file system. music_management>"
   ]
  },
  {
   "cell_type": "code",
   "execution_count": 120,
   "metadata": {},
   "outputs": [],
   "source": [
    "\"\"\" Connect to the MongoDB server.\n",
    "N.B.\n",
    "Run locally on the default port (27017)\n",
    "#client = pymongo.MongoClient(\"mongodb://localhost:27017/\")\n",
    "\"\"\"\n",
    "client = pymongo.MongoClient(\"mongodb://127.0.0.1:27017/\")"
   ]
  },
  {
   "cell_type": "code",
   "execution_count": 33,
   "metadata": {},
   "outputs": [],
   "source": [
    "# Create or switch to a database for the music management system\n",
    "db = client[\"music_archive_management\"]"
   ]
  },
  {
   "cell_type": "code",
   "execution_count": 31,
   "metadata": {},
   "outputs": [],
   "source": [
    "##### Create collections\n",
    "bands_collection = db[\"bands\"]\n",
    "venues_collection = db[\"venues\"]\n",
    "contracts_collection = db[\"contracts\"]\n",
    "sponsors_collection = db[\"sponsors\"]\n",
    "albums_collection = db[\"albums\"]"
   ]
  },
  {
   "cell_type": "markdown",
   "metadata": {},
   "source": [
    "<h3 style=\"color:#2C5C0E  \"> Document definitions </h3>"
   ]
  },
  {
   "cell_type": "code",
   "execution_count": 123,
   "metadata": {},
   "outputs": [
    {
     "data": {
      "text/plain": [
       "dict"
      ]
     },
     "execution_count": 123,
     "metadata": {},
     "output_type": "execute_result"
    }
   ],
   "source": [
    "\"\"\" Documents for bands 1 \"\"\"\n",
    "girlschool = {\n",
    "    \"name\": \"Girlschool\",\n",
    "    \"members\": [\n",
    "        {\"name\": \"Denise\", \"role\": \"drums\"},\n",
    "        {\"name\": \"Kim\", \"role\": \"lead vocals, guitars\"},\n",
    "        {\"name\": \"Jackie\", \"role\": \"guitars\"},\n",
    "        {\"name\": \"Tracey\", \"role\": \"bass\"}\n",
    "    ],\n",
    "    \"genres\": [\"Heavy metal\", \"Hard rock\", \"NWOBHM\"],\n",
    "    \"origin\": \"London\",\n",
    "    \"num_released_lp\": 14,\n",
    "    \"studio_albums\": [\n",
    "        {\"year\": 1980, \"title\": \"Demolition\"},\n",
    "        {\"year\": 1981, \"title\": \"Hit and Run\"},\n",
    "        {\"year\": 1982, \"title\": \"Screaming Blue Murder\"},\n",
    "        {\"year\": 1983, \"title\": \"Play Dirty\"},\n",
    "        {\"year\": 1985, \"title\": \"Running Wild\"},\n",
    "        {\"year\": 1986, \"title\": \"Nightmare at Maple Cross\"},\n",
    "        {\"year\": 1988, \"title\": \"Take a Bite\"},\n",
    "        {\"year\": 1993, \"title\": \"Girlschool\"},\n",
    "        {\"year\": 2002, \"title\": \"21st Anniversary: Not That Innocent\"},\n",
    "        {\"year\": 2004, \"title\": \"Believe\"},\n",
    "        {\"year\": 2008, \"title\": \"Legacy\"},\n",
    "        {\"year\": 2011, \"title\": \"Hit and Run - Revisited\"},\n",
    "        {\"year\": 2015, \"title\": \"Guilty as Sin\"},\n",
    "        {\"year\": 2023, \"title\": \"WTFortyfive?\"}\n",
    "    ],\n",
    "    \"labels\": [\"City\", \"Bronze\", \"Mercury\"], \n",
    "    \"founded_year\": 1977,\n",
    "}\n",
    "type(girlschool)"
   ]
  },
  {
   "cell_type": "code",
   "execution_count": 124,
   "metadata": {},
   "outputs": [],
   "source": [
    "\"\"\" Documents for bands 2 \n",
    "N.B \n",
    "The attributes can be different even if they are going to be collected in the same collection!!!\n",
    "\"\"\"\n",
    "l7 = {\n",
    "    \"name\": \"L7\",\n",
    "    \"members\": [\n",
    "        {\"name\": \"Donita\", \"role\": \"lead vocals, guitars\"},\n",
    "        {\"name\": \"Suzi\", \"role\": \"guitars, vocals\"},\n",
    "        {\"name\": \"Jennifer\", \"role\": \"guitars, vocals\"},\n",
    "        {\"name\": \"Demetra\", \"role\": \"bass, vocals\"}\n",
    "    ],\n",
    "    \"genres\": [\"Grunge\", \"Punk Rock\"],\n",
    "    \"origin\": \"Los Angeles\",\n",
    "    \"num_released_lp\": 12,\n",
    "    \"studio_albums\": [\n",
    "        {\"year\": 1988, \"title\": \"L7\"},\n",
    "        {\"year\": 1988, \"title\": \"Smell the magic\"},\n",
    "        {\"year\": 1991, \"title\": \"Bricks are Heavy\"},\n",
    "        {\"year\": 1994, \"title\": \"Hungry for Stink\"},\n",
    "        {\"year\": 1996, \"title\": \"The Beauty Process: Triple Platinum\"},\n",
    "        {\"year\": 1999, \"title\": \"Slap-Happy\"},\n",
    "        {\"year\": 2016, \"title\": \"Wireless\"},\n",
    "        {\"year\": 2018, \"title\": \"Detroit\"},\n",
    "        {\"year\": 2019, \"title\": \"Scatter the Rats\"},\n",
    "    ],\n",
    "    \"labels\": [\"Epitaph\", \"Sub Pop\", \"Reprise\"], \n",
    "    \"foundation_year\": 1985,    \n",
    "}\n",
    "\n",
    "lunachicks = {\n",
    "    \"name\": \"Lunachicks\",\n",
    "    \"members\": [\n",
    "        {\"name\": \"Theoi\", \"role\": \"lead vocals\"},\n",
    "        {\"name\": \"Gina\", \"role\": \"guitar, vocals\"},\n",
    "        {\"name\": \"Sydney\", \"role\": \"bass, vocals\"},\n",
    "        {\"name\": \"Sindi\", \"role\": \"guitar\"},\n",
    "        {\"name\": \"Chip\", \"role\": \"drums\"}\n",
    "    ],\n",
    "    \"genres\": [\"Punk rock\", \"Indie rock\"],\n",
    "    \"origin\": \"New York\",\n",
    "    \"num_released_lp\": 6,\n",
    "    \"labels\": [\"Blast First\", \"Safe House\", \"Go Kart\"], \n",
    "    \"foundation_yearear\": 1988,\n",
    "}\n",
    "\n",
    "novatwins = {\n",
    "    \"name\": \"Nova Twins\",\n",
    "    \"members\": [\n",
    "        {\"name\": \"Amy\", \"role\": \"vocals, guitar\"},\n",
    "        {\"name\": \"Georgia\", \"role\": \"vocals, bass\"},\n",
    "    ],\n",
    "    \"genres\": [\"Rap Instrumental\", \"Alternative rock\", \"Nu Metal\"],\n",
    "    \"origin\": \"London\",\n",
    "    \"num_released_lp\": 2,\n",
    "    \"studio_albums\": [\n",
    "        {\"year\": 2020, \"title\": \"Who are the girls?\"},\n",
    "        {\"year\": 2022, \"title\": \"Supernova\"},\n",
    "    ],\n",
    "    \"labels\": [\"Marshall\"], \n",
    "    \"foundation_year\": 2014,\n",
    "}\n",
    "\n",
    "scowl = {\n",
    "    \"name\": \"Nova Twins\",\n",
    "    \"members\": [\n",
    "        {\"name\": \"Kat\", \"role\": \"vocals\"},\n",
    "        {\"name\": \"Malachi\", \"role\": \"guitars\"},\n",
    "        {\"name\": \"Mikey\", \"role\": \"guitars\"},\n",
    "        {\"name\": \"Bailey\", \"role\": \"bass\"},\n",
    "        {\"name\": \"Cole\", \"role\": \"drums\"},\n",
    "    ],\n",
    "    \"genres\": [\"Hardcore punk\"],\n",
    "    \"origin\": \"Santa Cruz\",\n",
    "    \"num_released_lp\": 1,\n",
    "    \"labels\": [\"Flatspot\"], \n",
    "    \"foundation_year\": 2019,\n",
    "}\n",
    "\n",
    "nodoubt = {\n",
    "    \"name\": \"No Doubt\",\n",
    "    \"members\": [\n",
    "        {\"name\": \"Gnew\", \"role\": \"vocals\"},\n",
    "        {\"name\": \"Tony\", \"role\": \"bass\"},\n",
    "        {\"name\": \"Tom\", \"role\": \"guitars, keyboards\"},\n",
    "        {\"name\": \"Adrian\", \"role\": \"drums, percussions\"},\n",
    "        {\"name\": \"Stephen\", \"role\": \"Trombone\"},\n",
    "        {\"name\": \"Gabrial\", \"role\": \"Trumpet, keyboards\"},\n",
    "    ],\n",
    "    \"genres\": [\"Pop rock\", \"Ska\"],\n",
    "    \"origin\": \"Anaheim\",\n",
    "    \"num_released_lp\": 6,\n",
    "    \"labels\": [\"Interscope\"], \n",
    "    \"foundation_year\": 1987,\n",
    "}"
   ]
  },
  {
   "cell_type": "code",
   "execution_count": 125,
   "metadata": {},
   "outputs": [],
   "source": [
    "\"\"\" venues\"\"\"\n",
    "stadium_1_venue = {\n",
    "    \"name\": \"Metropolitain 2\",\n",
    "    \"location\": \"Lyon\",\n",
    "    \"capacity\": 36000,\n",
    "    \"sold_out\": \"yes\",    \n",
    "}\n",
    "stadium_2_venue = {\n",
    "    \"name\": \"Angel Park\",\n",
    "    \"location\": \"Glasgow\",\n",
    "    \"capacity\": 31000,\n",
    "    \"sold_out\": \"yes\",    \n",
    "}\n",
    "stadium_3_venue = {\n",
    "    \"name\": \"Invincibles\",\n",
    "    \"location\": \"Toronto\",\n",
    "    \"capacity\": 40000,\n",
    "    \"sold_out\": \"yes\",    \n",
    "}\n",
    "music_arena_1_venue = {\n",
    "    \"name\": \"TheMusic Bay\",\n",
    "    \"location\": \"San Francisco\",\n",
    "    \"capacity\": 22000,\n",
    "    \"sold_out\": \"yes\",    \n",
    "}\n",
    "music_arena_2_venue = {\n",
    "    \"name\": \"gute Musik\",\n",
    "    \"location\": \"Berlin\",\n",
    "    \"capacity\": 13000,\n",
    "    \"sold_out\": \"yes\",    \n",
    "}\n",
    "music_arena_3_venue = {\n",
    "    \"name\": \"Festival only_the_best\",\n",
    "    \"location\": \"Rotterdam\",\n",
    "    \"capacity\": 9800,\n",
    "    \"sold_out\": \"yes\",    \n",
    "}\n",
    "music_arena_4_venue = {\n",
    "    \"name\": \"Champions stars\",\n",
    "    \"location\": \"Liverpool\",\n",
    "    \"capacity\": 5044,\n",
    "    \"sold_out\": \"yes\",    \n",
    "}"
   ]
  },
  {
   "cell_type": "code",
   "execution_count": 126,
   "metadata": {},
   "outputs": [],
   "source": [
    "\"\"\" Albums \"\"\"\n",
    "album_afi_4 = {\n",
    "    \"title\": \"Black Sails In The Sunset\",\n",
    "    \"artist\": \"Afi\",\n",
    "    \"label\": \"Nitro\",\n",
    "    \"year\": 2000,\n",
    "}\n",
    "album_rhcp_9 = {\n",
    "    \"title\": \"Stadium Arcadium\",\n",
    "    \"artist\": \"Red Hot Chili Peppers\",\n",
    "    \"label\": \"Warner\",\n",
    "    \"year\": 2006,\n",
    "}\n",
    "album_billy_2 = {\n",
    "    \"title\": \"Billy Talent 2\",\n",
    "    \"artist\": \"Billy Talent\",\n",
    "    \"label\": \"Atlantic\",\n",
    "    \"year\": 2005,\n",
    "}\n",
    "album_cigar_1 = {\n",
    "    \"title\": \"Speed is relative\",\n",
    "    \"artist\": \"Cigar\",\n",
    "    \"label\": \"Warner\",\n",
    "    \"year\": 1999,\n",
    "}\n",
    "album_nodoubt_3 = {\n",
    "    \"title\": \"Tragic Kingdom\",\n",
    "    \"artist\": \"No doubt\",\n",
    "    \"label\": \"Interscope\",\n",
    "    \"year\": 1995,\n",
    "}\n",
    "album_teenidols_3 = {\n",
    "    \"title\": \"Full Leather Jacket\",\n",
    "    \"artist\": \"Teen idols\",\n",
    "    \"label\": \"Warner\",\n",
    "    \"year\": 2000,\n",
    "}"
   ]
  },
  {
   "cell_type": "code",
   "execution_count": 127,
   "metadata": {},
   "outputs": [],
   "source": [
    "\"\"\" sponsors all together \"\"\"\n",
    "sponsor_docs = [\n",
    "    {\n",
    "        \"name\": \"Acme Guitars\",\n",
    "        \"industry\": \"Musical Instruments\",\n",
    "        \"type\": \"for bassist only\",\n",
    "        \"combined offer\": \"strings\",\n",
    "    },\n",
    "    {\n",
    "        \"name\": \"Batti Pedals\",\n",
    "        \"industry\": \"Musical Instruments\",\n",
    "        \"contract\": \"Ongoing\",\n",
    "    },\n",
    "    {\n",
    "        \"name\": \"Green park\",\n",
    "        \"industry\": \"Clothing\",\n",
    "    },\n",
    "    {\n",
    "        \"name\": \"San Pat\",\n",
    "        \"category\": \"Beer\",\n",
    "        \"covered_years\": 3,\n",
    "    },\n",
    "]"
   ]
  },
  {
   "cell_type": "code",
   "execution_count": 128,
   "metadata": {},
   "outputs": [],
   "source": [
    "\"\"\" contracts\"\"\"\n",
    "contract_1 = {\n",
    "    \"code\": \"con_1\",\n",
    "    \"band_id\": None,            \n",
    "    \"venue_id\": None,  \n",
    "    \"start_date\": datetime(2023, 12, 1),\n",
    "    \"end_date\": datetime(2023, 12, 31),\n",
    "    \"payment\": 2200013,\n",
    "}\n",
    "contract_2 = {\n",
    "    \"code\": \"con_2\",\n",
    "    \"band_id\": None,            \n",
    "    \"venue_id\": None,  \n",
    "    \"start_date\": datetime(2020, 3, 1),\n",
    "    \"end_date\": datetime(2020, 3, 4),\n",
    "    \"payment\": 6790,\n",
    "}\n",
    "contract_3 = {\n",
    "    \"code\": \"con_3\",\n",
    "    \"band_id\": 321,            \n",
    "    \"venue_id\": 44,  \n",
    "    \"start_date\": datetime(199, 8, 12),\n",
    "    \"end_date\": datetime(1999, 8, 13),\n",
    "    \"payment\": 31000,\n",
    "}\n",
    "contract_4 = {\n",
    "    \"code\": \"con_4\",\n",
    "    \"band_id\": 103,            \n",
    "    \"venue_id\": \"1AA87K43\",  \n",
    "    \"start_date\": datetime(2021, 3, 1),\n",
    "    \"end_date\": datetime(2021, 5, 2),\n",
    "    \"payment\": 52000,\n",
    "}"
   ]
  },
  {
   "cell_type": "code",
   "execution_count": 129,
   "metadata": {},
   "outputs": [
    {
     "name": "stdout",
     "output_type": "stream",
     "text": [
      "['admin', 'config', 'local']\n"
     ]
    }
   ],
   "source": [
    "# Note that the database isn't actually created until data are insert into it! (check also in mongosh typing: 'show dbs')\n",
    "print(client.list_database_names())"
   ]
  },
  {
   "cell_type": "markdown",
   "metadata": {},
   "source": [
    "<h3 style=\"color:#2C5C0E  \"> Data insertion </h3>"
   ]
  },
  {
   "cell_type": "code",
   "execution_count": 130,
   "metadata": {},
   "outputs": [
    {
     "name": "stdout",
     "output_type": "stream",
     "text": [
      "Inserted 3 band documents with IDs: [ObjectId('653c1744a62e95c90d145ffe'), ObjectId('653c1744a62e95c90d145fff'), ObjectId('653c1744a62e95c90d146000')]\n"
     ]
    }
   ],
   "source": [
    "## Insert bands into respective collection\n",
    "# \"inserted_id\" returns the inserted IDs that are unique identifiers generated by MongoDB\n",
    "band_id1 = bands_collection.insert_one(girlschool).inserted_id\n",
    "bands_collection.insert_one(nodoubt).inserted_id\n",
    "\n",
    "## Insert many bands\n",
    "band_documents = [lunachicks, l7, novatwins]\n",
    "inserted_ids = []\n",
    "for doc in band_documents:\n",
    "    result = bands_collection.insert_one(doc)\n",
    "    inserted_ids.append(result.inserted_id)\n",
    "\n",
    "# Show the IDs of the last inserted docs\n",
    "print(f\"Inserted {len(inserted_ids)} band documents with IDs: {inserted_ids}\")"
   ]
  },
  {
   "cell_type": "code",
   "execution_count": 131,
   "metadata": {},
   "outputs": [
    {
     "name": "stdout",
     "output_type": "stream",
     "text": [
      "['admin', 'config', 'local', 'music_archive_management']\n"
     ]
    }
   ],
   "source": [
    "print(client.list_database_names())"
   ]
  },
  {
   "cell_type": "code",
   "execution_count": 29,
   "metadata": {},
   "outputs": [
    {
     "data": {
      "text/plain": [
       "Collection(Database(MongoClient(host=['localhost:27017'], document_class=dict, tz_aware=False, connect=True), 'music_archive_management'), 'bands')"
      ]
     },
     "execution_count": 29,
     "metadata": {},
     "output_type": "execute_result"
    }
   ],
   "source": [
    "bands_collection"
   ]
  },
  {
   "cell_type": "code",
   "execution_count": 133,
   "metadata": {},
   "outputs": [
    {
     "data": {
      "text/plain": [
       "5"
      ]
     },
     "execution_count": 133,
     "metadata": {},
     "output_type": "execute_result"
    }
   ],
   "source": [
    "b_count = bands_collection.count_documents({})\n",
    "b_count"
   ]
  },
  {
   "cell_type": "code",
   "execution_count": 20,
   "metadata": {},
   "outputs": [],
   "source": [
    "u2_band = {\n",
    "    \"name\": \"U2\",\n",
    "    \"members\": [\n",
    "        {\"name\": \"Bono\", \"role\": \"lead vocals\"},\n",
    "        {\"name\": \"The Edge\", \"role\": \"guitar, keyboards, backing vocals\"},\n",
    "        {\"name\": \"Adam Clayton\", \"role\": \"bass guitar\"},\n",
    "        {\"name\": \"Larry Mullen Jr.\", \"role\": \"drums, percussion\"}\n",
    "    ],\n",
    "    \"genres\": [\"Rock\", \"Alternative Rock\"],\n",
    "    \"origin\": \"Dublin, Ireland\",\n",
    "    \"num_released_lp\": 14,\n",
    "    \"studio_albums\": [\n",
    "        {\"year\": 1980, \"title\": \"Boy\"},\n",
    "        {\"year\": 1981, \"title\": \"October\"},\n",
    "        {\"year\": 1983, \"title\": \"War\"},\n",
    "        {\"year\": 1984, \"title\": \"The Unforgettable Fire\"},\n",
    "        {\"year\": 1987, \"title\": \"The Joshua Tree\"},\n",
    "        {\"year\": 1991, \"title\": \"Achtung Baby\"},\n",
    "        {\"year\": 2000, \"title\": \"All That You Can't Leave Behind\"},\n",
    "        {\"year\": 2004, \"title\": \"How to Dismantle an Atomic Bomb\"},\n",
    "        {\"year\": 2009, \"title\": \"No Line on the Horizon\"},\n",
    "        {\"year\": 2014, \"title\": \"Songs of Innocence\"}\n",
    "    ],\n",
    "    \"labels\": [\"Island\", \"Interscope\"],\n",
    "    \"foundation_year\": 1976,\n",
    "    \"significant_awards\": [\"22 Grammy Awards\", \"Rock and Roll Hall of Fame\"],\n",
    "    \"best_selling_album\": \"The Joshua Tree\",\n",
    "    \"first_hit_single\": \"New Year's Day\",\n",
    "    \"notable_collaborations\": [\"Brian Eno\", \"Daniel Lanois\", \"Steve Lillywhite\"],\n",
    "    \"tour_name\": \"The Joshua Tree Tour 2017\",\n",
    "    \"charity_work\": [\"Product Red\", \"Amnesty International\"]\n",
    "}\n"
   ]
  },
  {
   "cell_type": "code",
   "execution_count": 21,
   "metadata": {},
   "outputs": [],
   "source": [
    "zz_top_band = {\n",
    "    \"name\": \"ZZ Top\",\n",
    "    \"members\": [\n",
    "        {\"name\": \"Billy Gibbons\", \"role\": \"lead vocals, guitar\"},\n",
    "        {\"name\": \"Dusty Hill\", \"role\": \"bass guitar, keyboards, backing vocals\"},\n",
    "        {\"name\": \"Frank Beard\", \"role\": \"drums, percussion\"}\n",
    "    ],\n",
    "    \"genres\": [\"Blues Rock\", \"Boogie Rock\"],\n",
    "    \"origin\": \"Houston, Texas, United States\",\n",
    "    \"num_released_lp\": 15,\n",
    "    \"studio_albums\": [\n",
    "        {\"year\": 1971, \"title\": \"ZZ Top's First Album\"},\n",
    "        {\"year\": 1972, \"title\": \"Rio Grande Mud\"},\n",
    "        {\"year\": 1973, \"title\": \"Tres Hombres\"},\n",
    "        {\"year\": 1975, \"title\": \"Fandango!\"},\n",
    "        {\"year\": 1976, \"title\": \"Tejas\"},\n",
    "        {\"year\": 1979, \"title\": \"Degüello\"},\n",
    "        {\"year\": 1981, \"title\": \"El Loco\"},\n",
    "        {\"year\": 1983, \"title\": \"Eliminator\"},\n",
    "        {\"year\": 1985, \"title\": \"Afterburner\"},\n",
    "        {\"year\": 1990, \"title\": \"Recycler\"}\n",
    "    ],\n",
    "    \"labels\": [\"London\", \"Warner Bros.\", \"RCA\"],\n",
    "    \"foundation_year\": 1969,\n",
    "    \"signature_song\": \"La Grange\",\n",
    "    \"hall_of_fame_induction_year\": 2004,\n",
    "    \"most_streamed_song\": \"Sharp Dressed Man\",\n",
    "    \"film_appearances\": [\"Back to the Future Part III\", \"Deadwood\"],\n",
    "    \"known_for\": [\"Long Beards\", \"Sunglasses\", \"Fur-covered guitars\"],\n",
    "    \"band_logo\": \"Keychain and Buffalo\"\n",
    "}\n"
   ]
  },
  {
   "cell_type": "code",
   "execution_count": 22,
   "metadata": {},
   "outputs": [
    {
     "data": {
      "text/plain": [
       "9"
      ]
     },
     "execution_count": 22,
     "metadata": {},
     "output_type": "execute_result"
    }
   ],
   "source": [
    "bands_collection.insert_many([u2_band, zz_top_band])\n",
    "b_count = bands_collection.count_documents({})\n",
    "b_count"
   ]
  },
  {
   "cell_type": "markdown",
   "metadata": {},
   "source": [
    "For each document in a collection, an \"_id\" field for the identifier is automatically generated by MongoDB, unless another _id value is specified."
   ]
  },
  {
   "cell_type": "code",
   "execution_count": 134,
   "metadata": {},
   "outputs": [],
   "source": [
    "band_with_custom_id = {\n",
    "    \"name\": \"LNRipley\",\n",
    "    \"genre\": \"Drum n bass\", \n",
    "    \"_id\": \"AAA001\",\n",
    "    \"origin\": \"Torino\",\n",
    "}\n",
    "result = bands_collection.insert_one(band_with_custom_id)"
   ]
  },
  {
   "cell_type": "markdown",
   "metadata": {},
   "source": [
    "<h3 style=\"color:#2C5C0E  \"> Recap: </h3>\n",
    "<div style=\"margin-top: -10px;\">\n",
    "\n",
    "A collection can be filled wih or without assignment. <br>\n",
    "Without assigning the inserted IDs to a variable, IDs will be still generated and returned by the 'inserted_id' attr, <br>\n",
    "but they are not stored, and hence not accessible later. <br>\n",
    "When there is no need to access to the inserted IDs in the code, it is possible to simply insert documents without calling 'insert_id' / 'insert_ids'.  <br> \n",
    "Pay attention that if a specific ID is not stored at the moment of the insertion the ID is lost, since not automatically stored! <br>\n",
    "</div>"
   ]
  },
  {
   "cell_type": "code",
   "execution_count": 135,
   "metadata": {},
   "outputs": [],
   "source": [
    "album_id_1a = albums_collection.insert_one(album_cigar_1).inserted_id"
   ]
  },
  {
   "cell_type": "code",
   "execution_count": 136,
   "metadata": {},
   "outputs": [],
   "source": [
    "\"\"\" Note that launching again:\n",
    "\"album_id_1a = albums_collection.insert_one(album_cigar_1).insterted_id\" will not work, \n",
    "since MongoDB is aware that there is another doc with same ID. \n",
    "The DuplicateKeyError will be triggered: \"E11000 duplicate key error collection: music_archive_management.albums index: _id_ dup key ...\"\n",
    "\"\"\";"
   ]
  },
  {
   "cell_type": "code",
   "execution_count": 137,
   "metadata": {},
   "outputs": [],
   "source": [
    "albums_collection.insert_one(album_afi_4).inserted_id\n",
    "albums_collection.insert_one(album_rhcp_9)\n",
    "albums_collection.insert_one(album_billy_2)\n",
    "album_id_5a = albums_collection.insert_one(album_nodoubt_3).inserted_id\n",
    "album_id_6a = albums_collection.insert_one(album_teenidols_3).inserted_id"
   ]
  },
  {
   "cell_type": "code",
   "execution_count": 138,
   "metadata": {},
   "outputs": [
    {
     "data": {
      "text/plain": [
       "(ObjectId('653c174da62e95c90d146001'), ObjectId('653c174fa62e95c90d146005'))"
      ]
     },
     "execution_count": 138,
     "metadata": {},
     "output_type": "execute_result"
    }
   ],
   "source": [
    "album_id_1a, album_id_5a"
   ]
  },
  {
   "cell_type": "code",
   "execution_count": 139,
   "metadata": {},
   "outputs": [],
   "source": [
    "\"\"\" Insert venues\"\"\"\n",
    "venue_id_s_1 = venues_collection.insert_one(stadium_1_venue).inserted_id"
   ]
  },
  {
   "cell_type": "code",
   "execution_count": 72,
   "metadata": {},
   "outputs": [
    {
     "data": {
      "text/plain": [
       "[{'_id': ObjectId('65ba1761bb6e81da898d51d0'),\n",
       "  'timestamp': datetime.datetime(2024, 1, 31, 10, 48, 17, 696000),\n",
       "  'band': ObjectId('65ba12d0bb6e81da898d51cf'),\n",
       "  'event': 'Live Concert',\n",
       "  'location': 'New York'},\n",
       " {'_id': ObjectId('65ba1986bb6e81da898d51d1'),\n",
       "  'date': datetime.datetime(1999, 3, 6, 0, 0),\n",
       "  'location': 'Milano',\n",
       "  'stadium': 'San Siro',\n",
       "  'Organizator': 'Flip Music Factory',\n",
       "  'bandName': 'No Doubt',\n",
       "  'status': 'Sold out'}]"
      ]
     },
     "execution_count": 72,
     "metadata": {},
     "output_type": "execute_result"
    }
   ],
   "source": [
    "\"\"\" Insert venues all together \"\"\"\n",
    "new_venues_club = [\n",
    "    {\n",
    "    \"name\": \"BFFriends\",\n",
    "    \"location\": \"Glasgow\",\n",
    "    \"capacity\": 670,\n",
    "    \"sold_out\": \"yes\",  \n",
    "    },\n",
    "    {\n",
    "    \"name\": \"The ring pub\",\n",
    "    \"location\": \"Manchester\",\n",
    "    \"capacity\": 230,\n",
    "    \"sold_out\": \"yes\",\n",
    "    },\n",
    "    {\n",
    "    \"name\": \"Musicorium\",\n",
    "    \"location\": \"Rome\",\n",
    "    \"capacity\": 340,\n",
    "    \"sold_out\": \"yes\",\n",
    "    },\n",
    "    {\n",
    "    \"name\": \"GBNA\",\n",
    "    \"location\": \"New York\",\n",
    "    \"capacity\": 100,\n",
    "    \"sold_out\": \"yes\", \n",
    "    },\n",
    "]\n",
    "# Retrieve the existing venues from the collection\n",
    "existing_venues = list(venues_collection.find())\n",
    "existing_venues"
   ]
  },
  {
   "cell_type": "code",
   "execution_count": 73,
   "metadata": {},
   "outputs": [
    {
     "data": {
      "text/plain": [
       "[{'_id': ObjectId('65ba1761bb6e81da898d51d0'),\n",
       "  'timestamp': datetime.datetime(2024, 1, 31, 10, 48, 17, 696000),\n",
       "  'band': ObjectId('65ba12d0bb6e81da898d51cf'),\n",
       "  'event': 'Live Concert',\n",
       "  'location': 'New York'},\n",
       " {'_id': ObjectId('65ba1986bb6e81da898d51d1'),\n",
       "  'date': datetime.datetime(1999, 3, 6, 0, 0),\n",
       "  'location': 'Milano',\n",
       "  'stadium': 'San Siro',\n",
       "  'Organizator': 'Flip Music Factory',\n",
       "  'bandName': 'No Doubt',\n",
       "  'status': 'Sold out'},\n",
       " {'name': 'BFFriends',\n",
       "  'location': 'Glasgow',\n",
       "  'capacity': 670,\n",
       "  'sold_out': 'yes'},\n",
       " {'name': 'The ring pub',\n",
       "  'location': 'Manchester',\n",
       "  'capacity': 230,\n",
       "  'sold_out': 'yes'},\n",
       " {'name': 'Musicorium',\n",
       "  'location': 'Rome',\n",
       "  'capacity': 340,\n",
       "  'sold_out': 'yes'},\n",
       " {'name': 'GBNA', 'location': 'New York', 'capacity': 100, 'sold_out': 'yes'}]"
      ]
     },
     "execution_count": 73,
     "metadata": {},
     "output_type": "execute_result"
    }
   ],
   "source": [
    "# Combine the existing and new venue documents into a single list\n",
    "all_venues = existing_venues + new_venues_club\n",
    "all_venues"
   ]
  },
  {
   "cell_type": "code",
   "execution_count": 74,
   "metadata": {},
   "outputs": [
    {
     "data": {
      "text/plain": [
       "[{'_id': ObjectId('65ba1986bb6e81da898d51d1'),\n",
       "  'date': datetime.datetime(1999, 3, 6, 0, 0),\n",
       "  'location': 'Milano',\n",
       "  'stadium': 'San Siro',\n",
       "  'Organizator': 'Flip Music Factory',\n",
       "  'bandName': 'No Doubt',\n",
       "  'status': 'Sold out'},\n",
       " {'name': 'BFFriends',\n",
       "  'location': 'Glasgow',\n",
       "  'capacity': 670,\n",
       "  'sold_out': 'yes'},\n",
       " {'name': 'The ring pub',\n",
       "  'location': 'Manchester',\n",
       "  'capacity': 230,\n",
       "  'sold_out': 'yes'},\n",
       " {'name': 'Musicorium',\n",
       "  'location': 'Rome',\n",
       "  'capacity': 340,\n",
       "  'sold_out': 'yes'},\n",
       " {'name': 'GBNA', 'location': 'New York', 'capacity': 100, 'sold_out': 'yes'}]"
      ]
     },
     "execution_count": 74,
     "metadata": {},
     "output_type": "execute_result"
    }
   ],
   "source": [
    "venues = all_venues[1:]\n",
    "venues"
   ]
  },
  {
   "cell_type": "code",
   "execution_count": 75,
   "metadata": {},
   "outputs": [
    {
     "ename": "BulkWriteError",
     "evalue": "batch op errors occurred, full error: {'writeErrors': [{'index': 0, 'code': 11000, 'errmsg': \"E11000 duplicate key error collection: music_archive_management.venues index: _id_ dup key: { _id: ObjectId('65ba1986bb6e81da898d51d1') }\", 'keyPattern': {'_id': 1}, 'keyValue': {'_id': ObjectId('65ba1986bb6e81da898d51d1')}, 'op': {'_id': ObjectId('65ba1986bb6e81da898d51d1'), 'date': datetime.datetime(1999, 3, 6, 0, 0), 'location': 'Milano', 'stadium': 'San Siro', 'Organizator': 'Flip Music Factory', 'bandName': 'No Doubt', 'status': 'Sold out'}}], 'writeConcernErrors': [], 'nInserted': 0, 'nUpserted': 0, 'nMatched': 0, 'nModified': 0, 'nRemoved': 0, 'upserted': []}",
     "output_type": "error",
     "traceback": [
      "\u001b[0;31m---------------------------------------------------------------------------\u001b[0m",
      "\u001b[0;31mBulkWriteError\u001b[0m                            Traceback (most recent call last)",
      "Cell \u001b[0;32mIn[75], line 2\u001b[0m\n\u001b[1;32m      1\u001b[0m \u001b[39m# Insert all venue documents into the venues_collection\u001b[39;00m\n\u001b[0;32m----> 2\u001b[0m venues_alls_ids \u001b[39m=\u001b[39m venues_collection\u001b[39m.\u001b[39;49minsert_many(venues)\n\u001b[1;32m      3\u001b[0m venues_alls_ids\n",
      "File \u001b[0;32m~/anaconda3/envs/MLearning/lib/python3.10/site-packages/pymongo/_csot.py:108\u001b[0m, in \u001b[0;36mapply.<locals>.csot_wrapper\u001b[0;34m(self, *args, **kwargs)\u001b[0m\n\u001b[1;32m    106\u001b[0m         \u001b[39mwith\u001b[39;00m _TimeoutContext(timeout):\n\u001b[1;32m    107\u001b[0m             \u001b[39mreturn\u001b[39;00m func(\u001b[39mself\u001b[39m, \u001b[39m*\u001b[39margs, \u001b[39m*\u001b[39m\u001b[39m*\u001b[39mkwargs)\n\u001b[0;32m--> 108\u001b[0m \u001b[39mreturn\u001b[39;00m func(\u001b[39mself\u001b[39;49m, \u001b[39m*\u001b[39;49margs, \u001b[39m*\u001b[39;49m\u001b[39m*\u001b[39;49mkwargs)\n",
      "File \u001b[0;32m~/anaconda3/envs/MLearning/lib/python3.10/site-packages/pymongo/collection.py:757\u001b[0m, in \u001b[0;36mCollection.insert_many\u001b[0;34m(self, documents, ordered, bypass_document_validation, session, comment)\u001b[0m\n\u001b[1;32m    755\u001b[0m blk \u001b[39m=\u001b[39m _Bulk(\u001b[39mself\u001b[39m, ordered, bypass_document_validation, comment\u001b[39m=\u001b[39mcomment)\n\u001b[1;32m    756\u001b[0m blk\u001b[39m.\u001b[39mops \u001b[39m=\u001b[39m \u001b[39mlist\u001b[39m(gen())\n\u001b[0;32m--> 757\u001b[0m blk\u001b[39m.\u001b[39;49mexecute(write_concern, session\u001b[39m=\u001b[39;49msession)\n\u001b[1;32m    758\u001b[0m \u001b[39mreturn\u001b[39;00m InsertManyResult(inserted_ids, write_concern\u001b[39m.\u001b[39macknowledged)\n",
      "File \u001b[0;32m~/anaconda3/envs/MLearning/lib/python3.10/site-packages/pymongo/bulk.py:580\u001b[0m, in \u001b[0;36m_Bulk.execute\u001b[0;34m(self, write_concern, session)\u001b[0m\n\u001b[1;32m    578\u001b[0m         \u001b[39mreturn\u001b[39;00m \u001b[39mNone\u001b[39;00m\n\u001b[1;32m    579\u001b[0m \u001b[39melse\u001b[39;00m:\n\u001b[0;32m--> 580\u001b[0m     \u001b[39mreturn\u001b[39;00m \u001b[39mself\u001b[39;49m\u001b[39m.\u001b[39;49mexecute_command(generator, write_concern, session)\n",
      "File \u001b[0;32m~/anaconda3/envs/MLearning/lib/python3.10/site-packages/pymongo/bulk.py:450\u001b[0m, in \u001b[0;36m_Bulk.execute_command\u001b[0;34m(self, generator, write_concern, session)\u001b[0m\n\u001b[1;32m    447\u001b[0m     client\u001b[39m.\u001b[39m_retry_with_session(\u001b[39mself\u001b[39m\u001b[39m.\u001b[39mis_retryable, retryable_bulk, s, \u001b[39mself\u001b[39m)\n\u001b[1;32m    449\u001b[0m \u001b[39mif\u001b[39;00m full_result[\u001b[39m\"\u001b[39m\u001b[39mwriteErrors\u001b[39m\u001b[39m\"\u001b[39m] \u001b[39mor\u001b[39;00m full_result[\u001b[39m\"\u001b[39m\u001b[39mwriteConcernErrors\u001b[39m\u001b[39m\"\u001b[39m]:\n\u001b[0;32m--> 450\u001b[0m     _raise_bulk_write_error(full_result)\n\u001b[1;32m    451\u001b[0m \u001b[39mreturn\u001b[39;00m full_result\n",
      "File \u001b[0;32m~/anaconda3/envs/MLearning/lib/python3.10/site-packages/pymongo/bulk.py:160\u001b[0m, in \u001b[0;36m_raise_bulk_write_error\u001b[0;34m(full_result)\u001b[0m\n\u001b[1;32m    158\u001b[0m \u001b[39mif\u001b[39;00m full_result[\u001b[39m\"\u001b[39m\u001b[39mwriteErrors\u001b[39m\u001b[39m\"\u001b[39m]:\n\u001b[1;32m    159\u001b[0m     full_result[\u001b[39m\"\u001b[39m\u001b[39mwriteErrors\u001b[39m\u001b[39m\"\u001b[39m]\u001b[39m.\u001b[39msort(key\u001b[39m=\u001b[39m\u001b[39mlambda\u001b[39;00m error: error[\u001b[39m\"\u001b[39m\u001b[39mindex\u001b[39m\u001b[39m\"\u001b[39m])\n\u001b[0;32m--> 160\u001b[0m \u001b[39mraise\u001b[39;00m BulkWriteError(full_result)\n",
      "\u001b[0;31mBulkWriteError\u001b[0m: batch op errors occurred, full error: {'writeErrors': [{'index': 0, 'code': 11000, 'errmsg': \"E11000 duplicate key error collection: music_archive_management.venues index: _id_ dup key: { _id: ObjectId('65ba1986bb6e81da898d51d1') }\", 'keyPattern': {'_id': 1}, 'keyValue': {'_id': ObjectId('65ba1986bb6e81da898d51d1')}, 'op': {'_id': ObjectId('65ba1986bb6e81da898d51d1'), 'date': datetime.datetime(1999, 3, 6, 0, 0), 'location': 'Milano', 'stadium': 'San Siro', 'Organizator': 'Flip Music Factory', 'bandName': 'No Doubt', 'status': 'Sold out'}}], 'writeConcernErrors': [], 'nInserted': 0, 'nUpserted': 0, 'nMatched': 0, 'nModified': 0, 'nRemoved': 0, 'upserted': []}"
     ]
    }
   ],
   "source": [
    "# Insert all venue documents into the venues_collection\n",
    "venues_alls_ids = venues_collection.insert_many(venues)\n",
    "venues_alls_ids"
   ]
  },
  {
   "cell_type": "code",
   "execution_count": 145,
   "metadata": {},
   "outputs": [],
   "source": [
    "## Update a contract\n",
    "contract_1[\"band_id\"] = band_id1\n",
    "contract_1[\"venue_id\"] = venue_id_s_1"
   ]
  },
  {
   "cell_type": "code",
   "execution_count": 146,
   "metadata": {},
   "outputs": [
    {
     "name": "stdout",
     "output_type": "stream",
     "text": [
      "653c1756a62e95c90d14600f\n",
      "\n",
      "[ObjectId('653c1756a62e95c90d14600c'), ObjectId('653c1756a62e95c90d14600d'), ObjectId('653c1756a62e95c90d14600e'), ObjectId('653c1756a62e95c90d14600f')]\n"
     ]
    }
   ],
   "source": [
    "############ Insert contract and store their ID\n",
    "all_contracts = []\n",
    "contract_id_1 = contracts_collection.insert_one(contract_1).inserted_id\n",
    "contract_id_2 = contracts_collection.insert_one(contract_2).inserted_id\n",
    "contract_id_3 = contracts_collection.insert_one(contract_3).inserted_id\n",
    "contract_id_4 = contracts_collection.insert_one(contract_4).inserted_id\n",
    "all_contracts.append(contract_id_1)\n",
    "all_contracts.append(contract_id_2)\n",
    "all_contracts.append(contract_id_3)\n",
    "all_contracts.append(contract_id_4)\n",
    "\n",
    "print(contract_id_4)\n",
    "print()\n",
    "print(all_contracts)"
   ]
  },
  {
   "cell_type": "code",
   "execution_count": 147,
   "metadata": {},
   "outputs": [
    {
     "data": {
      "text/plain": [
       "<pymongo.results.InsertManyResult at 0x7f2a58cd97e0>"
      ]
     },
     "execution_count": 147,
     "metadata": {},
     "output_type": "execute_result"
    }
   ],
   "source": [
    "# Insert many at the time\n",
    "sponsors_collection.insert_many(sponsor_docs)"
   ]
  },
  {
   "cell_type": "code",
   "execution_count": 148,
   "metadata": {},
   "outputs": [
    {
     "data": {
      "text/plain": [
       "<pymongo.results.UpdateResult at 0x7f2a35f7d7b0>"
      ]
     },
     "execution_count": 148,
     "metadata": {},
     "output_type": "execute_result"
    }
   ],
   "source": [
    "### Update a document and the relative collection\n",
    "update_query = {\"name\": \"Musicorium\"}\n",
    "the_new_values = {\"$set\": {\"capacity\": 500}}\n",
    "venues_collection.update_one(update_query, the_new_values)"
   ]
  },
  {
   "cell_type": "code",
   "execution_count": 149,
   "metadata": {},
   "outputs": [],
   "source": [
    "####### Add new attributes\n",
    "add_query = {\"code\": \"con_4\"}\n",
    "new_values = {\n",
    "    \"$set\": {\n",
    "        \"people_involved\": 10,\n",
    "        \"typology\": \"temporary\" \n",
    "    }\n",
    "}\n",
    "contracts_collection.update_one(update_query, new_values);  # avoid printing the output!"
   ]
  },
  {
   "cell_type": "markdown",
   "metadata": {},
   "source": [
    "<h3 style=\"color:#2C5C0E  \"> Query </h3>"
   ]
  },
  {
   "cell_type": "code",
   "execution_count": 150,
   "metadata": {},
   "outputs": [
    {
     "name": "stdout",
     "output_type": "stream",
     "text": [
      "{'_id': ObjectId('653c1744a62e95c90d145ffc'), 'name': 'Girlschool', 'members': [{'name': 'Denise', 'role': 'drums'}, {'name': 'Kim', 'role': 'lead vocals, guitars'}, {'name': 'Jackie', 'role': 'guitars'}, {'name': 'Tracey', 'role': 'bass'}], 'genres': ['Heavy metal', 'Hard rock', 'NWOBHM'], 'origin': 'London', 'num_released_lp': 14, 'studio_albums': [{'year': 1980, 'title': 'Demolition'}, {'year': 1981, 'title': 'Hit and Run'}, {'year': 1982, 'title': 'Screaming Blue Murder'}, {'year': 1983, 'title': 'Play Dirty'}, {'year': 1985, 'title': 'Running Wild'}, {'year': 1986, 'title': 'Nightmare at Maple Cross'}, {'year': 1988, 'title': 'Take a Bite'}, {'year': 1993, 'title': 'Girlschool'}, {'year': 2002, 'title': '21st Anniversary: Not That Innocent'}, {'year': 2004, 'title': 'Believe'}, {'year': 2008, 'title': 'Legacy'}, {'year': 2011, 'title': 'Hit and Run - Revisited'}, {'year': 2015, 'title': 'Guilty as Sin'}, {'year': 2023, 'title': 'WTFortyfive?'}], 'labels': ['City', 'Bronze', 'Mercury'], 'founded_year': 1977}\n",
      "{'_id': ObjectId('653c1744a62e95c90d145ffd'), 'name': 'No Doubt', 'members': [{'name': 'Gnew', 'role': 'vocals'}, {'name': 'Tony', 'role': 'bass'}, {'name': 'Tom', 'role': 'guitars, keyboards'}, {'name': 'Adrian', 'role': 'drums, percussions'}, {'name': 'Stephen', 'role': 'Trombone'}, {'name': 'Gabrial', 'role': 'Trumpet, keyboards'}], 'genres': ['Pop rock', 'Ska'], 'origin': 'Anaheim', 'num_released_lp': 6, 'labels': ['Interscope'], 'foundation_year': 1987}\n",
      "{'_id': ObjectId('653c1744a62e95c90d145ffe'), 'name': 'Lunachicks', 'members': [{'name': 'Theoi', 'role': 'lead vocals'}, {'name': 'Gina', 'role': 'guitar, vocals'}, {'name': 'Sydney', 'role': 'bass, vocals'}, {'name': 'Sindi', 'role': 'guitar'}, {'name': 'Chip', 'role': 'drums'}], 'genres': ['Punk rock', 'Indie rock'], 'origin': 'New York', 'num_released_lp': 6, 'labels': ['Blast First', 'Safe House', 'Go Kart'], 'foundation_yearear': 1988}\n",
      "{'_id': ObjectId('653c1744a62e95c90d145fff'), 'name': 'L7', 'members': [{'name': 'Donita', 'role': 'lead vocals, guitars'}, {'name': 'Suzi', 'role': 'guitars, vocals'}, {'name': 'Jennifer', 'role': 'guitars, vocals'}, {'name': 'Demetra', 'role': 'bass, vocals'}], 'genres': ['Grunge', 'Punk Rock'], 'origin': 'Los Angeles', 'num_released_lp': 12, 'studio_albums': [{'year': 1988, 'title': 'L7'}, {'year': 1988, 'title': 'Smell the magic'}, {'year': 1991, 'title': 'Bricks are Heavy'}, {'year': 1994, 'title': 'Hungry for Stink'}, {'year': 1996, 'title': 'The Beauty Process: Triple Platinum'}, {'year': 1999, 'title': 'Slap-Happy'}, {'year': 2016, 'title': 'Wireless'}, {'year': 2018, 'title': 'Detroit'}, {'year': 2019, 'title': 'Scatter the Rats'}], 'labels': ['Epitaph', 'Sub Pop', 'Reprise'], 'foundation_year': 1985}\n",
      "{'_id': ObjectId('653c1744a62e95c90d146000'), 'name': 'Nova Twins', 'members': [{'name': 'Amy', 'role': 'vocals, guitar'}, {'name': 'Georgia', 'role': 'vocals, bass'}], 'genres': ['Rap Instrumental', 'Alternative rock', 'Nu Metal'], 'origin': 'London', 'num_released_lp': 2, 'studio_albums': [{'year': 2020, 'title': 'Who are the girls?'}, {'year': 2022, 'title': 'Supernova'}], 'labels': ['Marshall'], 'foundation_year': 2014}\n",
      "{'_id': 'AAA001', 'name': 'LNRipley', 'genre': 'Drum n bass', 'origin': 'Torino'}\n"
     ]
    }
   ],
   "source": [
    "cur = bands_collection.find()\n",
    "for doc in cur:\n",
    "    print(doc)"
   ]
  },
  {
   "cell_type": "code",
   "execution_count": 151,
   "metadata": {},
   "outputs": [
    {
     "name": "stdout",
     "output_type": "stream",
     "text": [
      "{'_id': ObjectId('653c1756a62e95c90d14600c'), 'code': 'con_1', 'band_id': ObjectId('653c1744a62e95c90d145ffc'), 'venue_id': ObjectId('653c1750a62e95c90d146007'), 'start_date': datetime.datetime(2023, 12, 1, 0, 0), 'end_date': datetime.datetime(2023, 12, 31, 0, 0), 'payment': 2200013}\n",
      "{'_id': ObjectId('653c1756a62e95c90d14600d'), 'code': 'con_2', 'band_id': None, 'venue_id': None, 'start_date': datetime.datetime(2020, 3, 1, 0, 0), 'end_date': datetime.datetime(2020, 3, 4, 0, 0), 'payment': 6790}\n",
      "{'_id': ObjectId('653c1756a62e95c90d14600e'), 'code': 'con_3', 'band_id': 321, 'venue_id': 44, 'start_date': datetime.datetime(199, 8, 12, 0, 0), 'end_date': datetime.datetime(1999, 8, 13, 0, 0), 'payment': 31000}\n",
      "{'_id': ObjectId('653c1756a62e95c90d14600f'), 'code': 'con_4', 'band_id': 103, 'venue_id': '1AA87K43', 'start_date': datetime.datetime(2021, 3, 1, 0, 0), 'end_date': datetime.datetime(2021, 5, 2, 0, 0), 'payment': 52000}\n"
     ]
    }
   ],
   "source": [
    "cur = contracts_collection.find()\n",
    "for doc in cur:\n",
    "    print(doc)"
   ]
  },
  {
   "cell_type": "code",
   "execution_count": 152,
   "metadata": {},
   "outputs": [
    {
     "name": "stdout",
     "output_type": "stream",
     "text": [
      "{'_id': ObjectId('653c1750a62e95c90d146007'), 'name': 'Metropolitain 2', 'location': 'Lyon', 'capacity': 36000, 'sold_out': 'yes'}\n",
      "{'_id': ObjectId('653c1755a62e95c90d146008'), 'name': 'BFFriends', 'location': 'Glasgow', 'capacity': 670, 'sold_out': 'yes'}\n",
      "{'_id': ObjectId('653c1755a62e95c90d146009'), 'name': 'The ring pub', 'location': 'Manchester', 'capacity': 230, 'sold_out': 'yes'}\n",
      "{'_id': ObjectId('653c1755a62e95c90d14600a'), 'name': 'Musicorium', 'location': 'Rome', 'capacity': 500, 'sold_out': 'yes'}\n",
      "{'_id': ObjectId('653c1755a62e95c90d14600b'), 'name': 'GBNA', 'location': 'New York', 'capacity': 100, 'sold_out': 'yes'}\n"
     ]
    }
   ],
   "source": [
    "cur = venues_collection.find()\n",
    "for doc in cur:\n",
    "    print(doc)"
   ]
  },
  {
   "cell_type": "code",
   "execution_count": 153,
   "metadata": {},
   "outputs": [
    {
     "name": "stdout",
     "output_type": "stream",
     "text": [
      "{'_id': ObjectId('653c174da62e95c90d146001'), 'title': 'Speed is relative', 'artist': 'Cigar', 'label': 'Warner', 'year': 1999}\n",
      "{'_id': ObjectId('653c174fa62e95c90d146002'), 'title': 'Black Sails In The Sunset', 'artist': 'Afi', 'label': 'Nitro', 'year': 2000}\n",
      "{'_id': ObjectId('653c174fa62e95c90d146003'), 'title': 'Stadium Arcadium', 'artist': 'Red Hot Chili Peppers', 'label': 'Warner', 'year': 2006}\n",
      "{'_id': ObjectId('653c174fa62e95c90d146004'), 'title': 'Billy Talent 2', 'artist': 'Billy Talent', 'label': 'Atlantic', 'year': 2005}\n",
      "{'_id': ObjectId('653c174fa62e95c90d146005'), 'title': 'Tragic Kingdom', 'artist': 'No doubt', 'label': 'Interscope', 'year': 1995}\n",
      "{'_id': ObjectId('653c174fa62e95c90d146006'), 'title': 'Full Leather Jacket', 'artist': 'Teen idols', 'label': 'Warner', 'year': 2000}\n"
     ]
    }
   ],
   "source": [
    "cur = albums_collection.find()\n",
    "for doc in cur:\n",
    "    print(doc)"
   ]
  },
  {
   "cell_type": "code",
   "execution_count": 154,
   "metadata": {},
   "outputs": [
    {
     "name": "stdout",
     "output_type": "stream",
     "text": [
      "{'_id': ObjectId('653c1757a62e95c90d146010'), 'name': 'Acme Guitars', 'industry': 'Musical Instruments', 'type': 'for bassist only', 'combined offer': 'strings'}\n",
      "{'_id': ObjectId('653c1757a62e95c90d146011'), 'name': 'Batti Pedals', 'industry': 'Musical Instruments', 'contract': 'Ongoing'}\n",
      "{'_id': ObjectId('653c1757a62e95c90d146012'), 'name': 'Green park', 'industry': 'Clothing'}\n",
      "{'_id': ObjectId('653c1757a62e95c90d146013'), 'name': 'San Pat', 'category': 'Beer', 'covered_years': 3}\n"
     ]
    }
   ],
   "source": [
    "cur = sponsors_collection.find()\n",
    "for doc in cur:\n",
    "    print(doc)"
   ]
  },
  {
   "cell_type": "code",
   "execution_count": 155,
   "metadata": {},
   "outputs": [
    {
     "name": "stdout",
     "output_type": "stream",
     "text": [
      "Bands:\n",
      "{'_id': ObjectId('653c1744a62e95c90d145ffc'), 'name': 'Girlschool', 'members': [{'name': 'Denise', 'role': 'drums'}, {'name': 'Kim', 'role': 'lead vocals, guitars'}, {'name': 'Jackie', 'role': 'guitars'}, {'name': 'Tracey', 'role': 'bass'}], 'genres': ['Heavy metal', 'Hard rock', 'NWOBHM'], 'origin': 'London', 'num_released_lp': 14, 'studio_albums': [{'year': 1980, 'title': 'Demolition'}, {'year': 1981, 'title': 'Hit and Run'}, {'year': 1982, 'title': 'Screaming Blue Murder'}, {'year': 1983, 'title': 'Play Dirty'}, {'year': 1985, 'title': 'Running Wild'}, {'year': 1986, 'title': 'Nightmare at Maple Cross'}, {'year': 1988, 'title': 'Take a Bite'}, {'year': 1993, 'title': 'Girlschool'}, {'year': 2002, 'title': '21st Anniversary: Not That Innocent'}, {'year': 2004, 'title': 'Believe'}, {'year': 2008, 'title': 'Legacy'}, {'year': 2011, 'title': 'Hit and Run - Revisited'}, {'year': 2015, 'title': 'Guilty as Sin'}, {'year': 2023, 'title': 'WTFortyfive?'}], 'labels': ['City', 'Bronze', 'Mercury'], 'founded_year': 1977}\n",
      "{'_id': ObjectId('653c1744a62e95c90d145ffd'), 'name': 'No Doubt', 'members': [{'name': 'Gnew', 'role': 'vocals'}, {'name': 'Tony', 'role': 'bass'}, {'name': 'Tom', 'role': 'guitars, keyboards'}, {'name': 'Adrian', 'role': 'drums, percussions'}, {'name': 'Stephen', 'role': 'Trombone'}, {'name': 'Gabrial', 'role': 'Trumpet, keyboards'}], 'genres': ['Pop rock', 'Ska'], 'origin': 'Anaheim', 'num_released_lp': 6, 'labels': ['Interscope'], 'foundation_year': 1987}\n",
      "{'_id': ObjectId('653c1744a62e95c90d145ffe'), 'name': 'Lunachicks', 'members': [{'name': 'Theoi', 'role': 'lead vocals'}, {'name': 'Gina', 'role': 'guitar, vocals'}, {'name': 'Sydney', 'role': 'bass, vocals'}, {'name': 'Sindi', 'role': 'guitar'}, {'name': 'Chip', 'role': 'drums'}], 'genres': ['Punk rock', 'Indie rock'], 'origin': 'New York', 'num_released_lp': 6, 'labels': ['Blast First', 'Safe House', 'Go Kart'], 'foundation_yearear': 1988}\n",
      "{'_id': ObjectId('653c1744a62e95c90d145fff'), 'name': 'L7', 'members': [{'name': 'Donita', 'role': 'lead vocals, guitars'}, {'name': 'Suzi', 'role': 'guitars, vocals'}, {'name': 'Jennifer', 'role': 'guitars, vocals'}, {'name': 'Demetra', 'role': 'bass, vocals'}], 'genres': ['Grunge', 'Punk Rock'], 'origin': 'Los Angeles', 'num_released_lp': 12, 'studio_albums': [{'year': 1988, 'title': 'L7'}, {'year': 1988, 'title': 'Smell the magic'}, {'year': 1991, 'title': 'Bricks are Heavy'}, {'year': 1994, 'title': 'Hungry for Stink'}, {'year': 1996, 'title': 'The Beauty Process: Triple Platinum'}, {'year': 1999, 'title': 'Slap-Happy'}, {'year': 2016, 'title': 'Wireless'}, {'year': 2018, 'title': 'Detroit'}, {'year': 2019, 'title': 'Scatter the Rats'}], 'labels': ['Epitaph', 'Sub Pop', 'Reprise'], 'foundation_year': 1985}\n",
      "{'_id': ObjectId('653c1744a62e95c90d146000'), 'name': 'Nova Twins', 'members': [{'name': 'Amy', 'role': 'vocals, guitar'}, {'name': 'Georgia', 'role': 'vocals, bass'}], 'genres': ['Rap Instrumental', 'Alternative rock', 'Nu Metal'], 'origin': 'London', 'num_released_lp': 2, 'studio_albums': [{'year': 2020, 'title': 'Who are the girls?'}, {'year': 2022, 'title': 'Supernova'}], 'labels': ['Marshall'], 'foundation_year': 2014}\n",
      "{'_id': 'AAA001', 'name': 'LNRipley', 'genre': 'Drum n bass', 'origin': 'Torino'}\n",
      "\n",
      "Albums:\n",
      "{'_id': ObjectId('653c174da62e95c90d146001'), 'title': 'Speed is relative', 'artist': 'Cigar', 'label': 'Warner', 'year': 1999}\n",
      "{'_id': ObjectId('653c174fa62e95c90d146002'), 'title': 'Black Sails In The Sunset', 'artist': 'Afi', 'label': 'Nitro', 'year': 2000}\n",
      "{'_id': ObjectId('653c174fa62e95c90d146003'), 'title': 'Stadium Arcadium', 'artist': 'Red Hot Chili Peppers', 'label': 'Warner', 'year': 2006}\n",
      "{'_id': ObjectId('653c174fa62e95c90d146004'), 'title': 'Billy Talent 2', 'artist': 'Billy Talent', 'label': 'Atlantic', 'year': 2005}\n",
      "{'_id': ObjectId('653c174fa62e95c90d146005'), 'title': 'Tragic Kingdom', 'artist': 'No doubt', 'label': 'Interscope', 'year': 1995}\n",
      "{'_id': ObjectId('653c174fa62e95c90d146006'), 'title': 'Full Leather Jacket', 'artist': 'Teen idols', 'label': 'Warner', 'year': 2000}\n",
      "\n",
      "Venues:\n",
      "{'_id': ObjectId('653c1750a62e95c90d146007'), 'name': 'Metropolitain 2', 'location': 'Lyon', 'capacity': 36000, 'sold_out': 'yes'}\n",
      "{'_id': ObjectId('653c1755a62e95c90d146008'), 'name': 'BFFriends', 'location': 'Glasgow', 'capacity': 670, 'sold_out': 'yes'}\n",
      "{'_id': ObjectId('653c1755a62e95c90d146009'), 'name': 'The ring pub', 'location': 'Manchester', 'capacity': 230, 'sold_out': 'yes'}\n",
      "{'_id': ObjectId('653c1755a62e95c90d14600a'), 'name': 'Musicorium', 'location': 'Rome', 'capacity': 500, 'sold_out': 'yes'}\n",
      "{'_id': ObjectId('653c1755a62e95c90d14600b'), 'name': 'GBNA', 'location': 'New York', 'capacity': 100, 'sold_out': 'yes'}\n",
      "\n",
      "Contracts:\n",
      "{'_id': ObjectId('653c1756a62e95c90d14600c'), 'code': 'con_1', 'band_id': ObjectId('653c1744a62e95c90d145ffc'), 'venue_id': ObjectId('653c1750a62e95c90d146007'), 'start_date': datetime.datetime(2023, 12, 1, 0, 0), 'end_date': datetime.datetime(2023, 12, 31, 0, 0), 'payment': 2200013}\n",
      "{'_id': ObjectId('653c1756a62e95c90d14600d'), 'code': 'con_2', 'band_id': None, 'venue_id': None, 'start_date': datetime.datetime(2020, 3, 1, 0, 0), 'end_date': datetime.datetime(2020, 3, 4, 0, 0), 'payment': 6790}\n",
      "{'_id': ObjectId('653c1756a62e95c90d14600e'), 'code': 'con_3', 'band_id': 321, 'venue_id': 44, 'start_date': datetime.datetime(199, 8, 12, 0, 0), 'end_date': datetime.datetime(1999, 8, 13, 0, 0), 'payment': 31000}\n",
      "{'_id': ObjectId('653c1756a62e95c90d14600f'), 'code': 'con_4', 'band_id': 103, 'venue_id': '1AA87K43', 'start_date': datetime.datetime(2021, 3, 1, 0, 0), 'end_date': datetime.datetime(2021, 5, 2, 0, 0), 'payment': 52000}\n",
      "\n",
      "Sponsors:\n",
      "{'_id': ObjectId('653c1757a62e95c90d146010'), 'name': 'Acme Guitars', 'industry': 'Musical Instruments', 'type': 'for bassist only', 'combined offer': 'strings'}\n",
      "{'_id': ObjectId('653c1757a62e95c90d146011'), 'name': 'Batti Pedals', 'industry': 'Musical Instruments', 'contract': 'Ongoing'}\n",
      "{'_id': ObjectId('653c1757a62e95c90d146012'), 'name': 'Green park', 'industry': 'Clothing'}\n",
      "{'_id': ObjectId('653c1757a62e95c90d146013'), 'name': 'San Pat', 'category': 'Beer', 'covered_years': 3}\n"
     ]
    }
   ],
   "source": [
    "\"\"\" Show all collections \"\"\"\n",
    "print(\"Bands:\")\n",
    "for band in bands_collection.find():\n",
    "    print(band)\n",
    "print(\"\\nAlbums:\")\n",
    "for alb in albums_collection.find():\n",
    "    print(alb)    \n",
    "print(\"\\nVenues:\")\n",
    "for ven in venues_collection.find():\n",
    "    print(ven)\n",
    "print(\"\\nContracts:\")\n",
    "for cont in contracts_collection.find():\n",
    "    print(cont)\n",
    "print(\"\\nSponsors:\")\n",
    "for spon in sponsors_collection.find():\n",
    "    print(spon)"
   ]
  },
  {
   "cell_type": "markdown",
   "metadata": {},
   "source": [
    "<h3 style=\"color:#2C5C0E  \"> => Searching </h3>"
   ]
  },
  {
   "cell_type": "code",
   "execution_count": 156,
   "metadata": {},
   "outputs": [
    {
     "name": "stdout",
     "output_type": "stream",
     "text": [
      "Find a band by name:\n",
      "{'_id': ObjectId('653c1744a62e95c90d145fff'), 'name': 'L7', 'members': [{'name': 'Donita', 'role': 'lead vocals, guitars'}, {'name': 'Suzi', 'role': 'guitars, vocals'}, {'name': 'Jennifer', 'role': 'guitars, vocals'}, {'name': 'Demetra', 'role': 'bass, vocals'}], 'genres': ['Grunge', 'Punk Rock'], 'origin': 'Los Angeles', 'num_released_lp': 12, 'studio_albums': [{'year': 1988, 'title': 'L7'}, {'year': 1988, 'title': 'Smell the magic'}, {'year': 1991, 'title': 'Bricks are Heavy'}, {'year': 1994, 'title': 'Hungry for Stink'}, {'year': 1996, 'title': 'The Beauty Process: Triple Platinum'}, {'year': 1999, 'title': 'Slap-Happy'}, {'year': 2016, 'title': 'Wireless'}, {'year': 2018, 'title': 'Detroit'}, {'year': 2019, 'title': 'Scatter the Rats'}], 'labels': ['Epitaph', 'Sub Pop', 'Reprise'], 'foundation_year': 1985}\n"
     ]
    }
   ],
   "source": [
    "# Find a document by a field value\n",
    "print(\"Find a band by name:\")\n",
    "found_band = bands_collection.find_one({\"name\": \"L7\"})\n",
    "print(found_band)"
   ]
  },
  {
   "cell_type": "code",
   "execution_count": 157,
   "metadata": {},
   "outputs": [
    {
     "data": {
      "text/plain": [
       "<pymongo.cursor.Cursor at 0x7f2a358d59c0>"
      ]
     },
     "execution_count": 157,
     "metadata": {},
     "output_type": "execute_result"
    }
   ],
   "source": [
    "db.venues_collection.find({\"capacity\": 500})"
   ]
  },
  {
   "cell_type": "code",
   "execution_count": 158,
   "metadata": {},
   "outputs": [
    {
     "data": {
      "text/plain": [
       "<pymongo.cursor.Cursor at 0x7f2a358d4250>"
      ]
     },
     "execution_count": 158,
     "metadata": {},
     "output_type": "execute_result"
    }
   ],
   "source": [
    "#To retrieve specific fields from the result of a MongoDB query, using .find() it is not enough\n",
    "db.venues_collection.find({ \"capacity\": 500 }, { \"_id\": 0, \"name\": 1 })"
   ]
  },
  {
   "cell_type": "code",
   "execution_count": 159,
   "metadata": {},
   "outputs": [
    {
     "name": "stdout",
     "output_type": "stream",
     "text": [
      "Nitro\n",
      "Warner\n"
     ]
    }
   ],
   "source": [
    "cursor_0 = db.albums.find({ \"year\": 2000 })\n",
    "for doc in cursor_0:\n",
    "    print(doc[\"label\"])"
   ]
  },
  {
   "cell_type": "code",
   "execution_count": 160,
   "metadata": {},
   "outputs": [
    {
     "name": "stdout",
     "output_type": "stream",
     "text": [
      "Black\n",
      "Black\n"
     ]
    },
    {
     "data": {
      "text/plain": [
       "<pymongo.cursor.Cursor at 0x7f2a358d63e0>"
      ]
     },
     "execution_count": 160,
     "metadata": {},
     "output_type": "execute_result"
    }
   ],
   "source": [
    "\"\"\" Get a partial match for title.\n",
    "N.B.\n",
    "the field \" _id\": 0 is used to exclude the _id field from the query result. \n",
    "\"\"\"\n",
    "cursor_1 = db.albums.find({ \"year\": 2000 }, { \"_id\": 0, \"title\": 'Black' }) \n",
    "for document in cursor_1:\n",
    "    print(document[\"title\"])\n",
    "\n",
    "cursor_1"
   ]
  },
  {
   "cell_type": "code",
   "execution_count": 161,
   "metadata": {},
   "outputs": [
    {
     "name": "stdout",
     "output_type": "stream",
     "text": [
      "Black Sails In The Sunset\n"
     ]
    }
   ],
   "source": [
    "cursor_2 = db.albums.find({ \"year\": 2000, \"title\": 'Black Sails In The Sunset' }, { \"_id\": 0, \"title\": 1 })\n",
    "for document in cursor_2:\n",
    "    print(document[\"title\"])"
   ]
  },
  {
   "cell_type": "code",
   "execution_count": 162,
   "metadata": {},
   "outputs": [
    {
     "data": {
      "text/plain": [
       "Collection(Database(MongoClient(host=['127.0.0.1:27017'], document_class=dict, tz_aware=False, connect=True), 'music_archive_management'), 'sponsors')"
      ]
     },
     "execution_count": 162,
     "metadata": {},
     "output_type": "execute_result"
    }
   ],
   "source": [
    "sponsors_collection"
   ]
  },
  {
   "cell_type": "markdown",
   "metadata": {},
   "source": [
    "<h3 style=\"color:#2C5C0E  \"> => Cancel </h3>"
   ]
  },
  {
   "cell_type": "code",
   "execution_count": 163,
   "metadata": {},
   "outputs": [
    {
     "data": {
      "text/plain": [
       "<pymongo.results.DeleteResult at 0x7f2a58cd8310>"
      ]
     },
     "execution_count": 163,
     "metadata": {},
     "output_type": "execute_result"
    }
   ],
   "source": [
    "# Delete a document => like a single instance\n",
    "delete_query = {\"name\": \"Acme Guitars\"}\n",
    "sponsors_collection.delete_one(delete_query)"
   ]
  },
  {
   "cell_type": "code",
   "execution_count": 165,
   "metadata": {},
   "outputs": [
    {
     "name": "stdout",
     "output_type": "stream",
     "text": [
      "{'_id': ObjectId('653c1757a62e95c90d146011'), 'name': 'Batti Pedals', 'industry': 'Musical Instruments', 'contract': 'Ongoing'}\n",
      "{'_id': ObjectId('653c1757a62e95c90d146012'), 'name': 'Green park', 'industry': 'Clothing'}\n",
      "{'_id': ObjectId('653c1757a62e95c90d146013'), 'name': 'San Pat', 'category': 'Beer', 'covered_years': 3}\n"
     ]
    }
   ],
   "source": [
    "cur = sponsors_collection.find()\n",
    "for doc in cur:\n",
    "    print(doc)"
   ]
  },
  {
   "cell_type": "code",
   "execution_count": 166,
   "metadata": {},
   "outputs": [
    {
     "data": {
      "text/plain": [
       "<pymongo.results.DeleteResult at 0x7f2a58cda5f0>"
      ]
     },
     "execution_count": 166,
     "metadata": {},
     "output_type": "execute_result"
    }
   ],
   "source": [
    "# Empty a collection (equivalent of mongosh => db.venues_collection.deleteMany({}))\n",
    "venues_collection.delete_many({})"
   ]
  },
  {
   "cell_type": "code",
   "execution_count": 167,
   "metadata": {},
   "outputs": [],
   "source": [
    "# Check that the venues_collection does not exist anymore\n",
    "cursor = venues_collection.find()\n",
    "for doc in cursor:\n",
    "    print(doc)"
   ]
  },
  {
   "cell_type": "code",
   "execution_count": 168,
   "metadata": {},
   "outputs": [],
   "source": [
    "# Delete the entire collection (equivalent of mongosh => db.venues_collection.drop())\n",
    "venues_collection.drop()"
   ]
  },
  {
   "cell_type": "code",
   "execution_count": 169,
   "metadata": {},
   "outputs": [
    {
     "data": {
      "text/plain": [
       "Collection(Database(MongoClient(host=['127.0.0.1:27017'], document_class=dict, tz_aware=False, connect=True), 'music_archive_management'), 'venues')"
      ]
     },
     "execution_count": 169,
     "metadata": {},
     "output_type": "execute_result"
    }
   ],
   "source": [
    "venues_collection"
   ]
  },
  {
   "cell_type": "code",
   "execution_count": 170,
   "metadata": {},
   "outputs": [],
   "source": [
    "# Close the MongoDB connection\n",
    "client.close()"
   ]
  },
  {
   "cell_type": "code",
   "execution_count": 3,
   "metadata": {},
   "outputs": [],
   "source": [
    "# Reopen - reconnect\n",
    "client = pymongo.MongoClient(\"mongodb://localhost:27017/\")\n",
    "db = client[\"music_archive_management\"]"
   ]
  },
  {
   "cell_type": "code",
   "execution_count": 5,
   "metadata": {},
   "outputs": [
    {
     "data": {
      "text/plain": [
       "<pymongo.results.InsertOneResult at 0x7f3840b60d00>"
      ]
     },
     "execution_count": 5,
     "metadata": {},
     "output_type": "execute_result"
    }
   ],
   "source": [
    "the_who_document = {\n",
    "    \"name\": \"The Who\",\n",
    "    \"formed\": datetime(1964, 1, 1),\n",
    "    \"origin\": \"London, England\",\n",
    "    \"genres\": [\"Rock\", \"Hard Rock\", \"Power Pop\"],\n",
    "    \"members\": [\n",
    "        {\n",
    "            \"name\": \"Roger Daltrey\",\n",
    "            \"role\": \"lead vocals\",\n",
    "            \"details\": {\n",
    "                \"born\": datetime(1944, 3, 1),\n",
    "                \"instruments\": [\"Vocals\", \"Harmonica\", \"Tambourine\"]\n",
    "            }\n",
    "        },\n",
    "        {\n",
    "            \"name\": \"Pete Townshend\",\n",
    "            \"role\": \"guitar\",\n",
    "            \"details\": {\n",
    "                \"born\": datetime(1945, 5, 19),\n",
    "                \"instruments\": [\"Guitar\", \"Vocals\", \"Keyboards\"]\n",
    "            }\n",
    "        },\n",
    "        {\n",
    "            \"name\": \"John Entwistle\",\n",
    "            \"role\": \"bass\",\n",
    "            \"details\": {\n",
    "                \"born\": datetime(1944, 10, 9),\n",
    "                \"instruments\": [\"Bass Guitar\", \"Brass\", \"Vocals\"]\n",
    "            }\n",
    "        },\n",
    "        {\n",
    "            \"name\": \"Keith Moon\",\n",
    "            \"role\": \"drums\",\n",
    "            \"details\": {\n",
    "                \"born\": datetime(1946, 8, 23),\n",
    "                \"instruments\": [\"Drums\", \"Percussion\"]\n",
    "            }\n",
    "        }\n",
    "    ],\n",
    "    \"discography\": [\n",
    "        {\"album\": \"My Generation\", \"released\": datetime(1965, 1, 1)},\n",
    "        {\"album\": \"A Quick One\", \"released\": datetime(1966, 1, 1)},\n",
    "        {\"album\": \"The Who Sell Out\", \"released\": datetime(1967, 1, 1)},\n",
    "        {\"album\": \"Tommy\", \"released\": datetime(1969, 1, 1)},\n",
    "        {\"album\": \"Who's Next\", \"released\": datetime(1971, 1, 1)},\n",
    "        {\"album\": \"Quadrophenia\", \"released\": datetime(1973, 1, 1)},\n",
    "        {\"album\": \"The Who by Numbers\", \"released\": datetime(1975, 1, 1)},\n",
    "        {\"album\": \"Who Are You\", \"released\": datetime(1978, 1, 1)},\n",
    "        {\"album\": \"Face Dances\", \"released\": datetime(1981, 1, 1)},\n",
    "        {\"album\": \"It's Hard\", \"released\": datetime(1982, 1, 1)}\n",
    "    ]\n",
    "}\n",
    "\n",
    "# Insert finally the doc into the right collection\n",
    "bands_collection.insert_one(the_who_document)"
   ]
  },
  {
   "cell_type": "code",
   "execution_count": null,
   "metadata": {},
   "outputs": [],
   "source": [
    "\"\"\" Find a Specific Band's Information \"\"\"\n",
    "band_name = \"The Electric Waves\"\n",
    "band_info = list(db.bands_collection.find({\"name\": band_name}))\n"
   ]
  },
  {
   "cell_type": "code",
   "execution_count": 12,
   "metadata": {},
   "outputs": [
    {
     "name": "stdout",
     "output_type": "stream",
     "text": [
      "The ObjectId of 'The Who' is: 65ba12d0bb6e81da898d51cf\n"
     ]
    }
   ],
   "source": [
    "\"\"\" Retrieve the ObjectId of a document \"\"\"\n",
    "\n",
    "band_name = \"The Who\"  \n",
    "query_who = {\"name\": band_name}\n",
    "band_document = bands_collection.find_one(query_who)\n",
    "\n",
    "##### Extract the ObjectId\n",
    "if band_document:\n",
    "    band_id = band_document[\"_id\"]\n",
    "    print(f\"The ObjectId of '{band_name}' is: {band_id}\")\n",
    "else:\n",
    "    print(f\"No band found with the name '{band_name}'\")"
   ]
  },
  {
   "cell_type": "code",
   "execution_count": 8,
   "metadata": {},
   "outputs": [
    {
     "data": {
      "text/plain": [
       "<pymongo.results.InsertOneResult at 0x7f38409f0d60>"
      ]
     },
     "execution_count": 8,
     "metadata": {},
     "output_type": "execute_result"
    }
   ],
   "source": [
    "\"\"\" How to simply reference other documents ? Here a sort of relation is introduced! \n",
    "\n",
    "#new_id = ObjectId()\n",
    "Create a new ObjectId to use an existing mongoDB ObjectId string \n",
    "existing_id = ObjectId(\"65ba12d0bb6e81da898d51cf\")\n",
    "OR...\n",
    "\"\"\"\n",
    "existing_id = ObjectId(band_id)\n",
    "\n",
    "# Create and insert together directly \n",
    "venues_collection.insert_one(\n",
    "{\n",
    "    \"timestamp\": datetime.now(),\n",
    "    \"band\": existing_id,\n",
    "    \"event\": \"Live Concert\",\n",
    "    \"location\": \"New York\"\n",
    "}\n",
    ")"
   ]
  },
  {
   "cell_type": "markdown",
   "metadata": {},
   "source": [
    "<h3 style=\"color:#2C5C0E  \"> Notes: </h3>\n",
    "<div style=\"margin-top: -8px;\">\n",
    "MongoDB itself does not enforce referential integrity or automatic linking like relational databases do with foreign keys. <br>\n",
    "When looking at a document with an ObjectId reference In MongoDB Compass, it will appear as just an ID string. <br>\n",
    "</div> \n"
   ]
  },
  {
   "cell_type": "code",
   "execution_count": 10,
   "metadata": {},
   "outputs": [
    {
     "data": {
      "text/plain": [
       "<pymongo.results.InsertOneResult at 0x7f38409f14b0>"
      ]
     },
     "execution_count": 10,
     "metadata": {},
     "output_type": "execute_result"
    }
   ],
   "source": [
    "live_stadium_tours_2000 = {\n",
    "    \"name\": \"No Doubt\",\n",
    "    \"date\": datetime(1999, 3, 6),\n",
    "    \"location\": \"Milano\",\n",
    "    \"stadium\": \"San Siro\",\n",
    "    \"Organizator\": \"Flip Music Factory\"\n",
    "}\n",
    "venues_collection.insert_one(live_stadium_tours_2000)"
   ]
  },
  {
   "cell_type": "code",
   "execution_count": 11,
   "metadata": {},
   "outputs": [],
   "source": [
    "\"\"\" Aggregation Pipeline: A way to create a \"fake\" reference in MongoDB is using the aggregation framework.\n",
    "The $lookup stage, which allows you to perform a join-like operation.\n",
    "\"\"\"\n",
    "pipeline = [\n",
    "    {\n",
    "        \"$lookup\": {\n",
    "            \"from\": \"bands_collection\",         # The other collection to join\n",
    "            \"localField\": \"name\",               # Field that contain the band name in the venues\n",
    "            \"foreignField\": \"name\",             # Field from the bands collection to match\n",
    "            \"as\": \"band_info_array_field\"       # The output array field\n",
    "        }\n",
    "    }\n",
    "]\n",
    "\n",
    "results = db.venues_collection.aggregate(pipeline)\n",
    "\n",
    "for doc in results:\n",
    "    print(doc)"
   ]
  },
  {
   "cell_type": "code",
   "execution_count": 12,
   "metadata": {},
   "outputs": [
    {
     "name": "stdout",
     "output_type": "stream",
     "text": [
      "The _id of the last document created: 65ba1986bb6e81da898d51d1\n"
     ]
    }
   ],
   "source": [
    "\"\"\" Retrieve the last document created in a collection\n",
    "N.B.\n",
    "Sorting by \"_id\" in descending order effectively sorts documents by their creation time, \n",
    "since MongoDB's default ObjectId generation strategy incorporates a timestamp\n",
    "\"\"\"\n",
    "last_document = venues_collection.find().sort(\"_id\", -1).limit(1).next()\n",
    "# Extract the ObjectId\n",
    "last_venue_doc = last_document.get(\"_id\")\n",
    "print(\"The _id of the last document created:\", last_venue_doc)"
   ]
  },
  {
   "cell_type": "code",
   "execution_count": 13,
   "metadata": {},
   "outputs": [
    {
     "name": "stdout",
     "output_type": "stream",
     "text": [
      "The document was successfully updated.\n"
     ]
    }
   ],
   "source": [
    "\"\"\" Update a document \"\"\"\n",
    "venues_collection.update_one(\n",
    "    {\"_id\": last_venue_doc},\n",
    "    {\n",
    "        # Rename field\n",
    "        \"$rename\": {\"name\": \"bandName\"},        \n",
    "        # Add a new field\n",
    "        \"$set\": {\"status\": \"Sold out\"}       \n",
    "    }\n",
    ")\n",
    "print(\"The document was successfully updated.\")"
   ]
  },
  {
   "cell_type": "code",
   "execution_count": null,
   "metadata": {},
   "outputs": [],
   "source": [
    "\"\"\" Update a Band's Info \"\"\"\n",
    "db.bands_collection.update_one(\n",
    "    {\"name\": band_name},  # Query: find the band by name\n",
    "    {\"$set\": {\"num_released_lp\": 7}}  # Update: set the number of released LPs to 7\n",
    ")"
   ]
  },
  {
   "cell_type": "code",
   "execution_count": null,
   "metadata": {},
   "outputs": [],
   "source": [
    "#### Add a band member\n",
    "new_member = {\"name\": \"Paul Grey\", \"role\": \"Keyboard\"}\n",
    "db.bands_collection.update_one(\n",
    "    {\"name\": band_name},\n",
    "    {\"$push\": {\"members\": new_member}}\n",
    ")"
   ]
  },
  {
   "cell_type": "code",
   "execution_count": 17,
   "metadata": {},
   "outputs": [
    {
     "name": "stdout",
     "output_type": "stream",
     "text": [
      "Your rigs were inserted\n"
     ]
    }
   ],
   "source": [
    "rigs_collection = db[\"rigs\"]\n",
    "with open('rigs.json', 'r') as file:\n",
    "    rigs_data = json.load(file)\n",
    "\n",
    "rigs_collection.insert_many(rigs_data)\n",
    "print(\"Your rigs were inserted\")"
   ]
  },
  {
   "cell_type": "code",
   "execution_count": 15,
   "metadata": {},
   "outputs": [
    {
     "data": {
      "text/plain": [
       "<pymongo.results.InsertManyResult at 0x7ff8754453f0>"
      ]
     },
     "execution_count": 15,
     "metadata": {},
     "output_type": "execute_result"
    }
   ],
   "source": [
    "u2_rig_1 = {\n",
    "    \"band\": \"U2\",\n",
    "    \"guitarist\": \"The Edge\",\n",
    "    \"rig\": {\n",
    "        \"amplifiers\": [\"Vox AC30\", \"Fender Deluxe Reverb\"],\n",
    "        \"pedals\": [\n",
    "            \"Electro-Harmonix Memory Man\", \n",
    "            \"Ibanez Tube Screamer\", \n",
    "            \"Korg SDD-3000 Digital Delay\", \n",
    "            \"Dallas Arbiter Fuzz Face\"\n",
    "        ],\n",
    "        \"guitars\": [\"Gibson Explorer\", \"Fender Stratocaster\"],\n",
    "        \"cables\": [\"Evidence Audio Cables\"],\n",
    "        \"power_supply\": \"Voodoo Lab Pedal Power\",\n",
    "        \"pedalboard\": \"Custom Pedalboard\",\n",
    "        \"speaker_cabinets\": [\"Vox 2x12\", \"Fender 2x12\"],\n",
    "        \"microphones\": [\"Shure SM57\", \"AKG C414\"]\n",
    "    }\n",
    "}\n",
    "zz_top_rig_1 = {\n",
    "    \"band\": \"ZZ Top\",\n",
    "    \"guitarist\": \"Billy Gibbons\",\n",
    "    \"rig\": {\n",
    "        \"amplifiers\": [\"Marshall JCM800\", \"Mesa Boogie Mark I\"],\n",
    "        \"pedals\": [\n",
    "            \"Dunlop Cry Baby Wah\", \n",
    "            \"Boss CE-2 Chorus\", \n",
    "            \"MXR Phase 90\", \n",
    "            \"Maestro Ring Modulator\"\n",
    "        ],\n",
    "        \"guitars\": [\"Gibson Les Paul\", \"Gretsch Billy-Bo Jupiter Thunderbird\"],\n",
    "        \"cables\": [\"Monster Rock Cables\"],\n",
    "        \"power_supply\": \"Cioks DC8\",\n",
    "        \"pedalboard\": \"Custom Pedalboard\",\n",
    "        \"speaker_cabinets\": [\"Marshall 4x12\", \"Mesa Boogie 1x12\"],\n",
    "        \"microphones\": [\"Sennheiser MD421\", \"Royer R-121\"]\n",
    "    }\n",
    "}\n",
    "zz_top_rig_2 = {\n",
    "    \"band\": \"ZZ Top\",\n",
    "    \"bassist\": \"Dusty Hill\",\n",
    "    \"rig\": {\n",
    "        \"amplifiers\": [\"Marshall Super Bass\", \"Ampeg SVT\"],\n",
    "        \"pedals\": [\n",
    "            \"MXR Bass DI+\", \n",
    "            \"Tech 21 SansAmp Bass Driver DI\", \n",
    "            \"Dunlop Cry Baby Bass Wah\"\n",
    "        ],\n",
    "        \"basses\": [\"Fender Precision Bass\", \"Gibson Thunderbird\"],\n",
    "        \"cables\": [\"Mogami Gold Bass Cable\"],\n",
    "        \"power_supply\": \"Voodoo Lab Pedal Power\",\n",
    "        \"pedalboard\": \"Custom Pedalboard\",\n",
    "        \"speaker_cabinets\": [\"Marshall 4x10\", \"Ampeg 8x10\"],\n",
    "        \"microphones\": [\"Shure Beta 52A\", \"AKG D112\"]\n",
    "    }\n",
    "}\n",
    "\n",
    "rigs_collection = db[\"rigs\"]\n",
    "rigs_collection.insert_many([u2_rig_1, zz_top_rig_1, zz_top_rig_2])"
   ]
  },
  {
   "cell_type": "code",
   "execution_count": 8,
   "metadata": {},
   "outputs": [
    {
     "data": {
      "text/plain": [
       "<pymongo.results.InsertOneResult at 0x7ff875445cf0>"
      ]
     },
     "execution_count": 8,
     "metadata": {},
     "output_type": "execute_result"
    }
   ],
   "source": [
    "# Use functions to insert data \n",
    "def add_sponsor_to_band(band_name, sponsorship_amount, sponsor_contact, sponsor_name, sponsor_email, sponsors_collection):\n",
    "    document = {\n",
    "        'Band Name': band_name,\n",
    "        'Sponsorship Amount': sponsorship_amount,\n",
    "        'Sponsor Name': sponsor_name,\n",
    "        'Sponsor Contact': sponsor_contact,\n",
    "        'Sponsor Email': sponsor_email,\n",
    "        'Date Sponsored': datetime.utcnow()    #time in utc timestamp\n",
    "    }\n",
    "    return sponsors_collection.insert_one(document)\n",
    "\n",
    "add_sponsor_to_band('u2', 200, 'Emporio1', 'John', 'example_john@mail.net', sponsors_collection)"
   ]
  },
  {
   "cell_type": "markdown",
   "metadata": {},
   "source": [
    "<h3 style=\"color:#2C5C0E  \"> Notes: Attribute Access vs. Dictionary Access </h3>\n",
    "<div style=\"margin-top: -8px;\">\n",
    "In PyMongo, you collections can be accessed either as attributes of the database object (with db.bands_collection) or as keys in a dictionary (with db[\"bands_collection\"]). <br>\n",
    "These methods are usually interchangeable, but in some cases, attribute access might not work as expected, <br>\n",
    "especially if the collection name conflicts with an existing attribute or method of the db object. => When using notebooks in practice! <br>\n",
    "Sometimes the state of the db....collection of reference might have been unintentionally altered at some point. <br>\n",
    "<div>"
   ]
  },
  {
   "cell_type": "code",
   "execution_count": 37,
   "metadata": {},
   "outputs": [
    {
     "name": "stdout",
     "output_type": "stream",
     "text": [
      "[]\n"
     ]
    }
   ],
   "source": [
    "\"\"\" In fact, this is not working now, I will have to restart the kernel to fix. \"\"\"\n",
    "print(list(db.bands_collection.find()))"
   ]
  },
  {
   "cell_type": "code",
   "execution_count": 35,
   "metadata": {},
   "outputs": [
    {
     "name": "stdout",
     "output_type": "stream",
     "text": [
      "{'_id': ObjectId('653c1744a62e95c90d145ffc'), 'name': 'Girlschool', 'members': [{'name': 'Denise', 'role': 'drums'}, {'name': 'Kim', 'role': 'lead vocals, guitars'}, {'name': 'Jackie', 'role': 'guitars'}, {'name': 'Tracey', 'role': 'bass'}], 'genres': ['Heavy metal', 'Hard rock', 'NWOBHM'], 'origin': 'London', 'num_released_lp': 14, 'studio_albums': [{'year': 1980, 'title': 'Demolition'}, {'year': 1981, 'title': 'Hit and Run'}, {'year': 1982, 'title': 'Screaming Blue Murder'}, {'year': 1983, 'title': 'Play Dirty'}, {'year': 1985, 'title': 'Running Wild'}, {'year': 1986, 'title': 'Nightmare at Maple Cross'}, {'year': 1988, 'title': 'Take a Bite'}, {'year': 1993, 'title': 'Girlschool'}, {'year': 2002, 'title': '21st Anniversary: Not That Innocent'}, {'year': 2004, 'title': 'Believe'}, {'year': 2008, 'title': 'Legacy'}, {'year': 2011, 'title': 'Hit and Run - Revisited'}, {'year': 2015, 'title': 'Guilty as Sin'}, {'year': 2023, 'title': 'WTFortyfive?'}], 'labels': ['City', 'Bronze', 'Mercury'], 'founded_year': 1977}\n",
      "{'_id': ObjectId('653c1744a62e95c90d145ffd'), 'name': 'No Doubt', 'members': [{'name': 'Gnew', 'role': 'vocals'}, {'name': 'Tony', 'role': 'bass'}, {'name': 'Tom', 'role': 'guitars, keyboards'}, {'name': 'Adrian', 'role': 'drums, percussions'}, {'name': 'Stephen', 'role': 'Trombone'}, {'name': 'Gabrial', 'role': 'Trumpet, keyboards'}], 'genres': ['Pop rock', 'Ska'], 'origin': 'Anaheim', 'num_released_lp': 6, 'labels': ['Interscope'], 'foundation_year': 1987}\n",
      "{'_id': ObjectId('653c1744a62e95c90d145ffe'), 'name': 'Lunachicks', 'members': [{'name': 'Theoi', 'role': 'lead vocals'}, {'name': 'Gina', 'role': 'guitar, vocals'}, {'name': 'Sydney', 'role': 'bass, vocals'}, {'name': 'Sindi', 'role': 'guitar'}, {'name': 'Chip', 'role': 'drums'}], 'genres': ['Punk rock', 'Indie rock'], 'origin': 'New York', 'num_released_lp': 6, 'labels': ['Blast First', 'Safe House', 'Go Kart'], 'foundation_yearear': 1988}\n",
      "{'_id': ObjectId('653c1744a62e95c90d145fff'), 'name': 'L7', 'members': [{'name': 'Donita', 'role': 'lead vocals, guitars'}, {'name': 'Suzi', 'role': 'guitars, vocals'}, {'name': 'Jennifer', 'role': 'guitars, vocals'}, {'name': 'Demetra', 'role': 'bass, vocals'}], 'genres': ['Grunge', 'Punk Rock'], 'origin': 'Los Angeles', 'num_released_lp': 12, 'studio_albums': [{'year': 1988, 'title': 'L7'}, {'year': 1988, 'title': 'Smell the magic'}, {'year': 1991, 'title': 'Bricks are Heavy'}, {'year': 1994, 'title': 'Hungry for Stink'}, {'year': 1996, 'title': 'The Beauty Process: Triple Platinum'}, {'year': 1999, 'title': 'Slap-Happy'}, {'year': 2016, 'title': 'Wireless'}, {'year': 2018, 'title': 'Detroit'}, {'year': 2019, 'title': 'Scatter the Rats'}], 'labels': ['Epitaph', 'Sub Pop', 'Reprise'], 'foundation_year': 1985}\n",
      "{'_id': ObjectId('653c1744a62e95c90d146000'), 'name': 'Nova Twins', 'members': [{'name': 'Amy', 'role': 'vocals, guitar'}, {'name': 'Georgia', 'role': 'vocals, bass'}], 'genres': ['Rap Instrumental', 'Alternative rock', 'Nu Metal'], 'origin': 'London', 'num_released_lp': 2, 'studio_albums': [{'year': 2020, 'title': 'Who are the girls?'}, {'year': 2022, 'title': 'Supernova'}], 'labels': ['Marshall'], 'foundation_year': 2014}\n",
      "{'_id': 'AAA001', 'name': 'LNRipley', 'genre': 'Drum n bass', 'origin': 'Torino'}\n",
      "{'_id': ObjectId('65ba12d0bb6e81da898d51cf'), 'name': 'The Who', 'formed': datetime.datetime(1964, 1, 1, 0, 0), 'origin': 'London, England', 'genres': ['Rock', 'Hard Rock', 'Power Pop'], 'members': [{'name': 'Roger Daltrey', 'role': 'lead vocals', 'details': {'born': datetime.datetime(1944, 3, 1, 0, 0), 'instruments': ['Vocals', 'Harmonica', 'Tambourine']}}, {'name': 'Pete Townshend', 'role': 'guitar', 'details': {'born': datetime.datetime(1945, 5, 19, 0, 0), 'instruments': ['Guitar', 'Vocals', 'Keyboards']}}, {'name': 'John Entwistle', 'role': 'bass', 'details': {'born': datetime.datetime(1944, 10, 9, 0, 0), 'instruments': ['Bass Guitar', 'Brass', 'Vocals']}}, {'name': 'Keith Moon', 'role': 'drums', 'details': {'born': datetime.datetime(1946, 8, 23, 0, 0), 'instruments': ['Drums', 'Percussion']}}], 'discography': [{'album': 'My Generation', 'released': datetime.datetime(1965, 1, 1, 0, 0)}, {'album': 'A Quick One', 'released': datetime.datetime(1966, 1, 1, 0, 0)}, {'album': 'The Who Sell Out', 'released': datetime.datetime(1967, 1, 1, 0, 0)}, {'album': 'Tommy', 'released': datetime.datetime(1969, 1, 1, 0, 0)}, {'album': \"Who's Next\", 'released': datetime.datetime(1971, 1, 1, 0, 0)}, {'album': 'Quadrophenia', 'released': datetime.datetime(1973, 1, 1, 0, 0)}, {'album': 'The Who by Numbers', 'released': datetime.datetime(1975, 1, 1, 0, 0)}, {'album': 'Who Are You', 'released': datetime.datetime(1978, 1, 1, 0, 0)}, {'album': 'Face Dances', 'released': datetime.datetime(1981, 1, 1, 0, 0)}, {'album': \"It's Hard\", 'released': datetime.datetime(1982, 1, 1, 0, 0)}]}\n",
      "{'_id': ObjectId('65bb6277a3a77201e121b2c1'), 'name': 'U2', 'members': [{'name': 'Bono', 'role': 'lead vocals'}, {'name': 'The Edge', 'role': 'guitar, keyboards, backing vocals'}, {'name': 'Adam Clayton', 'role': 'bass guitar'}, {'name': 'Larry Mullen Jr.', 'role': 'drums, percussion'}], 'genres': ['Rock', 'Alternative Rock'], 'origin': 'Dublin, Ireland', 'num_released_lp': 14, 'studio_albums': [{'year': 1980, 'title': 'Boy'}, {'year': 1981, 'title': 'October'}, {'year': 1983, 'title': 'War'}, {'year': 1984, 'title': 'The Unforgettable Fire'}, {'year': 1987, 'title': 'The Joshua Tree'}, {'year': 1991, 'title': 'Achtung Baby'}, {'year': 2000, 'title': \"All That You Can't Leave Behind\"}, {'year': 2004, 'title': 'How to Dismantle an Atomic Bomb'}, {'year': 2009, 'title': 'No Line on the Horizon'}, {'year': 2014, 'title': 'Songs of Innocence'}], 'labels': ['Island', 'Interscope'], 'foundation_year': 1976, 'significant_awards': ['22 Grammy Awards', 'Rock and Roll Hall of Fame'], 'best_selling_album': 'The Joshua Tree', 'first_hit_single': \"New Year's Day\", 'notable_collaborations': ['Brian Eno', 'Daniel Lanois', 'Steve Lillywhite'], 'tour_name': 'The Joshua Tree Tour 2017', 'charity_work': ['Product Red', 'Amnesty International']}\n",
      "{'_id': ObjectId('65bb6277a3a77201e121b2c2'), 'name': 'ZZ Top', 'members': [{'name': 'Billy Gibbons', 'role': 'lead vocals, guitar'}, {'name': 'Dusty Hill', 'role': 'bass guitar, keyboards, backing vocals'}, {'name': 'Frank Beard', 'role': 'drums, percussion'}], 'genres': ['Blues Rock', 'Boogie Rock'], 'origin': 'Houston, Texas, United States', 'num_released_lp': 15, 'studio_albums': [{'year': 1971, 'title': \"ZZ Top's First Album\"}, {'year': 1972, 'title': 'Rio Grande Mud'}, {'year': 1973, 'title': 'Tres Hombres'}, {'year': 1975, 'title': 'Fandango!'}, {'year': 1976, 'title': 'Tejas'}, {'year': 1979, 'title': 'Degüello'}, {'year': 1981, 'title': 'El Loco'}, {'year': 1983, 'title': 'Eliminator'}, {'year': 1985, 'title': 'Afterburner'}, {'year': 1990, 'title': 'Recycler'}], 'labels': ['London', 'Warner Bros.', 'RCA'], 'foundation_year': 1969, 'signature_song': 'La Grange', 'hall_of_fame_induction_year': 2004, 'most_streamed_song': 'Sharp Dressed Man', 'film_appearances': ['Back to the Future Part III', 'Deadwood'], 'known_for': ['Long Beards', 'Sunglasses', 'Fur-covered guitars'], 'band_logo': 'Keychain and Buffalo'}\n"
     ]
    }
   ],
   "source": [
    "\"\"\" This clearly works \"\"\"\n",
    "all_bands = bands_collection.find()\n",
    "for band in all_bands:\n",
    "    print(band)"
   ]
  },
  {
   "cell_type": "code",
   "execution_count": 36,
   "metadata": {},
   "outputs": [
    {
     "name": "stdout",
     "output_type": "stream",
     "text": [
      "[{'_id': ObjectId('65ba2bfabb6e81da898d51d2'), 'band': 'The Electric Waves', 'guitarist': 'Johnny Blaze', 'rig': {'amplifiers': ['Marshall JCM800', 'Fender Twin Reverb'], 'pedals': ['Boss DD-7 Digital Delay', 'Ibanez TS9 Tube Screamer', 'MXR M234 Analog Chorus'], 'guitars': ['Fender Stratocaster', 'Gibson Les Paul'], 'cables': ['Mogami Gold Instrument Cable', 'Planet Waves Classic Series'], 'power_supply': 'Voodoo Lab Pedal Power 2 Plus', 'pedalboard': 'Pedaltrain PT-2', 'speaker_cabinets': ['Orange PPC212', 'Mesa Boogie Rectifier 2x12'], 'microphones': ['Shure SM57', 'Sennheiser e906']}}, {'_id': ObjectId('65ba2bfabb6e81da898d51d3'), 'band': 'The Electric Waves', 'bassist': 'Laura Thunder', 'rig': {'amplifiers': ['Ampeg SVT-CL', 'Fender Bassman 500'], 'pedals': ['Electro-Harmonix Bass Big Muff Pi', 'MXR M82 Bass Envelope Filter'], 'guitars': ['Fender Precision Bass', 'Rickenbacker 4003'], 'cables': ['Monster Bass Cable', 'Ernie Ball Braided Cable'], 'power_supply': 'Cioks DC10', 'pedalboard': 'SKB PS-8', 'speaker_cabinets': ['Hartke HyDrive 410', 'Gallien-Krueger Neo 412'], 'microphones': ['AKG D112 MkII', 'Audix D6']}}, {'_id': ObjectId('65bb5deba3a77201e121b2be'), 'band': 'U2', 'guitarist': 'The Edge', 'rig': {'amplifiers': ['Vox AC30', 'Fender Deluxe Reverb'], 'pedals': ['Electro-Harmonix Memory Man', 'Ibanez Tube Screamer', 'Korg SDD-3000 Digital Delay', 'Dallas Arbiter Fuzz Face'], 'guitars': ['Gibson Explorer', 'Fender Stratocaster'], 'cables': ['Evidence Audio Cables'], 'power_supply': 'Voodoo Lab Pedal Power', 'pedalboard': 'Custom Pedalboard', 'speaker_cabinets': ['Vox 2x12', 'Fender 2x12'], 'microphones': ['Shure SM57', 'AKG C414']}}, {'_id': ObjectId('65bb5deba3a77201e121b2bf'), 'band': 'ZZ Top', 'guitarist': 'Billy Gibbons', 'rig': {'amplifiers': ['Marshall JCM800', 'Mesa Boogie Mark I'], 'pedals': ['Dunlop Cry Baby Wah', 'Boss CE-2 Chorus', 'MXR Phase 90', 'Maestro Ring Modulator'], 'guitars': ['Gibson Les Paul', 'Gretsch Billy-Bo Jupiter Thunderbird'], 'cables': ['Monster Rock Cables'], 'power_supply': 'Cioks DC8', 'pedalboard': 'Custom Pedalboard', 'speaker_cabinets': ['Marshall 4x12', 'Mesa Boogie 1x12'], 'microphones': ['Sennheiser MD421', 'Royer R-121']}}, {'_id': ObjectId('65bb5deba3a77201e121b2c0'), 'band': 'ZZ Top', 'bassist': 'Dusty Hill', 'rig': {'amplifiers': ['Marshall Super Bass', 'Ampeg SVT'], 'pedals': ['MXR Bass DI+', 'Tech 21 SansAmp Bass Driver DI', 'Dunlop Cry Baby Bass Wah'], 'basses': ['Fender Precision Bass', 'Gibson Thunderbird'], 'cables': ['Mogami Gold Bass Cable'], 'power_supply': 'Voodoo Lab Pedal Power', 'pedalboard': 'Custom Pedalboard', 'speaker_cabinets': ['Marshall 4x10', 'Ampeg 8x10'], 'microphones': ['Shure Beta 52A', 'AKG D112']}}]\n"
     ]
    }
   ],
   "source": [
    "print(list(db.rigs.find()))"
   ]
  },
  {
   "cell_type": "code",
   "execution_count": 39,
   "metadata": {},
   "outputs": [
    {
     "data": {
      "text/plain": [
       "[{'_id': ObjectId('65bb6277a3a77201e121b2c2'),\n",
       "  'name': 'ZZ Top',\n",
       "  'members': [{'name': 'Billy Gibbons', 'role': 'lead vocals, guitar'},\n",
       "   {'name': 'Dusty Hill', 'role': 'bass guitar, keyboards, backing vocals'},\n",
       "   {'name': 'Frank Beard', 'role': 'drums, percussion'}],\n",
       "  'genres': ['Blues Rock', 'Boogie Rock'],\n",
       "  'origin': 'Houston, Texas, United States',\n",
       "  'num_released_lp': 15,\n",
       "  'studio_albums': [{'year': 1971, 'title': \"ZZ Top's First Album\"},\n",
       "   {'year': 1972, 'title': 'Rio Grande Mud'},\n",
       "   {'year': 1973, 'title': 'Tres Hombres'},\n",
       "   {'year': 1975, 'title': 'Fandango!'},\n",
       "   {'year': 1976, 'title': 'Tejas'},\n",
       "   {'year': 1979, 'title': 'Degüello'},\n",
       "   {'year': 1981, 'title': 'El Loco'},\n",
       "   {'year': 1983, 'title': 'Eliminator'},\n",
       "   {'year': 1985, 'title': 'Afterburner'},\n",
       "   {'year': 1990, 'title': 'Recycler'}],\n",
       "  'labels': ['London', 'Warner Bros.', 'RCA'],\n",
       "  'foundation_year': 1969,\n",
       "  'signature_song': 'La Grange',\n",
       "  'hall_of_fame_induction_year': 2004,\n",
       "  'most_streamed_song': 'Sharp Dressed Man',\n",
       "  'film_appearances': ['Back to the Future Part III', 'Deadwood'],\n",
       "  'known_for': ['Long Beards', 'Sunglasses', 'Fur-covered guitars'],\n",
       "  'band_logo': 'Keychain and Buffalo',\n",
       "  'RigDetails': []}]"
      ]
     },
     "execution_count": 39,
     "metadata": {},
     "output_type": "execute_result"
    }
   ],
   "source": [
    "\"\"\" Aggregate Band Information with Their Rigs. \n",
    "N.B.\n",
    "In order to work, for the reasons explained above, I cannot use here => 'db.bands_collection.aggregate'\n",
    "\"\"\"\n",
    "search_this = 'ZZ Top'\n",
    "band_and_rig = list(bands_collection.aggregate([\n",
    "    {\n",
    "        '$lookup': {\n",
    "            'from': 'rigs_collection',\n",
    "            'localField': 'name',\n",
    "            'foreignField': 'band',\n",
    "            'as': 'RigDetails'\n",
    "        }\n",
    "    },\n",
    "    {\n",
    "        '$match': {'name': search_this} \n",
    "    }\n",
    "]))\n",
    "band_and_rig"
   ]
  },
  {
   "cell_type": "code",
   "execution_count": 42,
   "metadata": {},
   "outputs": [
    {
     "name": "stdout",
     "output_type": "stream",
     "text": [
      "[{'_id': ObjectId('65ba12d0bb6e81da898d51cf'), 'name': 'The Who', 'formed': datetime.datetime(1964, 1, 1, 0, 0), 'origin': 'London, England', 'genres': ['Rock', 'Hard Rock', 'Power Pop'], 'members': [{'name': 'Roger Daltrey', 'role': 'lead vocals', 'details': {'born': datetime.datetime(1944, 3, 1, 0, 0), 'instruments': ['Vocals', 'Harmonica', 'Tambourine']}}, {'name': 'Pete Townshend', 'role': 'guitar', 'details': {'born': datetime.datetime(1945, 5, 19, 0, 0), 'instruments': ['Guitar', 'Vocals', 'Keyboards']}}, {'name': 'John Entwistle', 'role': 'bass', 'details': {'born': datetime.datetime(1944, 10, 9, 0, 0), 'instruments': ['Bass Guitar', 'Brass', 'Vocals']}}, {'name': 'Keith Moon', 'role': 'drums', 'details': {'born': datetime.datetime(1946, 8, 23, 0, 0), 'instruments': ['Drums', 'Percussion']}}], 'discography': [{'album': 'My Generation', 'released': datetime.datetime(1965, 1, 1, 0, 0)}, {'album': 'A Quick One', 'released': datetime.datetime(1966, 1, 1, 0, 0)}, {'album': 'The Who Sell Out', 'released': datetime.datetime(1967, 1, 1, 0, 0)}, {'album': 'Tommy', 'released': datetime.datetime(1969, 1, 1, 0, 0)}, {'album': \"Who's Next\", 'released': datetime.datetime(1971, 1, 1, 0, 0)}, {'album': 'Quadrophenia', 'released': datetime.datetime(1973, 1, 1, 0, 0)}, {'album': 'The Who by Numbers', 'released': datetime.datetime(1975, 1, 1, 0, 0)}, {'album': 'Who Are You', 'released': datetime.datetime(1978, 1, 1, 0, 0)}, {'album': 'Face Dances', 'released': datetime.datetime(1981, 1, 1, 0, 0)}, {'album': \"It's Hard\", 'released': datetime.datetime(1982, 1, 1, 0, 0)}]}, {'_id': ObjectId('65bb6277a3a77201e121b2c1'), 'name': 'U2', 'members': [{'name': 'Bono', 'role': 'lead vocals'}, {'name': 'The Edge', 'role': 'guitar, keyboards, backing vocals'}, {'name': 'Adam Clayton', 'role': 'bass guitar'}, {'name': 'Larry Mullen Jr.', 'role': 'drums, percussion'}], 'genres': ['Rock', 'Alternative Rock'], 'origin': 'Dublin, Ireland', 'num_released_lp': 14, 'studio_albums': [{'year': 1980, 'title': 'Boy'}, {'year': 1981, 'title': 'October'}, {'year': 1983, 'title': 'War'}, {'year': 1984, 'title': 'The Unforgettable Fire'}, {'year': 1987, 'title': 'The Joshua Tree'}, {'year': 1991, 'title': 'Achtung Baby'}, {'year': 2000, 'title': \"All That You Can't Leave Behind\"}, {'year': 2004, 'title': 'How to Dismantle an Atomic Bomb'}, {'year': 2009, 'title': 'No Line on the Horizon'}, {'year': 2014, 'title': 'Songs of Innocence'}], 'labels': ['Island', 'Interscope'], 'foundation_year': 1976, 'significant_awards': ['22 Grammy Awards', 'Rock and Roll Hall of Fame'], 'best_selling_album': 'The Joshua Tree', 'first_hit_single': \"New Year's Day\", 'notable_collaborations': ['Brian Eno', 'Daniel Lanois', 'Steve Lillywhite'], 'tour_name': 'The Joshua Tree Tour 2017', 'charity_work': ['Product Red', 'Amnesty International']}]\n",
      "\n",
      "2\n"
     ]
    }
   ],
   "source": [
    "# Find All Bands with a Specific Genre\n",
    "genre_search = \"Rock\"  \n",
    "bands_in_genre = list(bands_collection.find({\"genres\": genre_search}))\n",
    "genre_count = bands_collection.count_documents({\"genres\": genre_search})\n",
    "\n",
    "print(bands_in_genre)\n",
    "print()\n",
    "print(genre_count)"
   ]
  },
  {
   "cell_type": "markdown",
   "metadata": {},
   "source": [
    "<h3 style=\"color:#2C5C0E  \"> Recap: % wildcard like in MongoDB </h3>\n",
    "<div style=\"margin-top: -8px;\">\n",
    "It is possible to use regular expressions to search for patterns within string fields, for instance to retrieve all genres attribute containing a subgenre of \"Rock\" \n",
    "such as \"Hard Rock\" or \"Alternative Rock\". \n",
    "<div>"
   ]
  },
  {
   "cell_type": "code",
   "execution_count": 47,
   "metadata": {},
   "outputs": [
    {
     "name": "stdout",
     "output_type": "stream",
     "text": [
      "{'name': 'Girlschool', 'genres': ['Heavy metal', 'Hard rock', 'NWOBHM']}\n",
      "{'name': 'No Doubt', 'genres': ['Pop rock', 'Ska']}\n",
      "{'name': 'Lunachicks', 'genres': ['Punk rock', 'Indie rock']}\n",
      "{'name': 'L7', 'genres': ['Grunge', 'Punk Rock']}\n",
      "{'name': 'Nova Twins', 'genres': ['Rap Instrumental', 'Alternative rock', 'Nu Metal']}\n",
      "{'name': 'The Who', 'genres': ['Rock', 'Hard Rock', 'Power Pop']}\n",
      "{'name': 'U2', 'genres': ['Rock', 'Alternative Rock']}\n",
      "{'name': 'ZZ Top', 'genres': ['Blues Rock', 'Boogie Rock']}\n"
     ]
    }
   ],
   "source": [
    "\"\"\" Get the Rock bands\n",
    "_Create a regular expression for 'Rock' ('re.IGNORECASE' makes it case-insensitive)\n",
    "_Query for bands with 'Rock' in any genre, projecting only name and genres\n",
    "_The find method in PyMongo (and MongoDB in general) takes two main arguments: the query and the projection\n",
    "\"\"\"\n",
    "# Regexp \n",
    "rock_regex = re.compile(\"Rock\", re.IGNORECASE)  \n",
    "# Query\n",
    "bands_with_rock = list(bands_collection.find(\n",
    "    {\"genres\": rock_regex},\n",
    "    # Projection: 0 to exclude, 1 to include\n",
    "    {\"_id\": 0, \"name\": 1, \"genres\": 1}  \n",
    "))\n",
    "\n",
    "for band in bands_with_rock:\n",
    "    print(band)"
   ]
  },
  {
   "cell_type": "code",
   "execution_count": 52,
   "metadata": {},
   "outputs": [
    {
     "data": {
      "text/plain": [
       "[{'name': 'Girlschool'},\n",
       " {'name': 'Lunachicks'},\n",
       " {'name': 'LNRipley'},\n",
       " {'name': 'The Who'},\n",
       " {'name': 'ZZ Top'},\n",
       " {'name': 'U2'},\n",
       " {'name': 'L7'},\n",
       " {'name': 'No Doubt'},\n",
       " {'name': 'Nova Twins'}]"
      ]
     },
     "execution_count": 52,
     "metadata": {},
     "output_type": "execute_result"
    }
   ],
   "source": [
    "\"\"\" Sort bands for foundation year.\n",
    "1. Empty query, which means \"match all documents\n",
    "2. Projection: exclude _id, include name\n",
    "3. For ascending order => pass 1 ; For descending order => pass -1\n",
    "\"\"\"\n",
    "sorted_bands = list(bands_collection.find(\n",
    "    {},                             \n",
    "    {\"_id\": 0, \"name\": 1}           \n",
    ").sort(\"foundation_year\", 1))       \n",
    "sorted_bands"
   ]
  },
  {
   "cell_type": "code",
   "execution_count": 53,
   "metadata": {},
   "outputs": [
    {
     "data": {
      "text/plain": [
       "['albums', 'sponsors', 'contracts', 'rigs', 'bands', 'venues']"
      ]
     },
     "execution_count": 53,
     "metadata": {},
     "output_type": "execute_result"
    }
   ],
   "source": [
    "collections = db.list_collection_names()\n",
    "collections"
   ]
  },
  {
   "cell_type": "code",
   "execution_count": 58,
   "metadata": {},
   "outputs": [
    {
     "data": {
      "text/plain": [
       "[{'_id': ObjectId('65bb6277a3a77201e121b2c2'),\n",
       "  'name': 'ZZ Top',\n",
       "  'studio_albums': {'year': 1971, 'title': \"ZZ Top's First Album\"}},\n",
       " {'_id': ObjectId('65bb6277a3a77201e121b2c2'),\n",
       "  'name': 'ZZ Top',\n",
       "  'studio_albums': {'year': 1972, 'title': 'Rio Grande Mud'}},\n",
       " {'_id': ObjectId('65bb6277a3a77201e121b2c2'),\n",
       "  'name': 'ZZ Top',\n",
       "  'studio_albums': {'year': 1973, 'title': 'Tres Hombres'}},\n",
       " {'_id': ObjectId('65bb6277a3a77201e121b2c2'),\n",
       "  'name': 'ZZ Top',\n",
       "  'studio_albums': {'year': 1975, 'title': 'Fandango!'}},\n",
       " {'_id': ObjectId('65bb6277a3a77201e121b2c2'),\n",
       "  'name': 'ZZ Top',\n",
       "  'studio_albums': {'year': 1976, 'title': 'Tejas'}},\n",
       " {'_id': ObjectId('65bb6277a3a77201e121b2c2'),\n",
       "  'name': 'ZZ Top',\n",
       "  'studio_albums': {'year': 1979, 'title': 'Degüello'}},\n",
       " {'_id': ObjectId('653c1744a62e95c90d145ffc'),\n",
       "  'name': 'Girlschool',\n",
       "  'studio_albums': {'year': 1980, 'title': 'Demolition'}},\n",
       " {'_id': ObjectId('65bb6277a3a77201e121b2c1'),\n",
       "  'name': 'U2',\n",
       "  'studio_albums': {'year': 1980, 'title': 'Boy'}},\n",
       " {'_id': ObjectId('653c1744a62e95c90d145ffc'),\n",
       "  'name': 'Girlschool',\n",
       "  'studio_albums': {'year': 1981, 'title': 'Hit and Run'}},\n",
       " {'_id': ObjectId('65bb6277a3a77201e121b2c1'),\n",
       "  'name': 'U2',\n",
       "  'studio_albums': {'year': 1981, 'title': 'October'}},\n",
       " {'_id': ObjectId('65bb6277a3a77201e121b2c2'),\n",
       "  'name': 'ZZ Top',\n",
       "  'studio_albums': {'year': 1981, 'title': 'El Loco'}},\n",
       " {'_id': ObjectId('653c1744a62e95c90d145ffc'),\n",
       "  'name': 'Girlschool',\n",
       "  'studio_albums': {'year': 1982, 'title': 'Screaming Blue Murder'}},\n",
       " {'_id': ObjectId('653c1744a62e95c90d145ffc'),\n",
       "  'name': 'Girlschool',\n",
       "  'studio_albums': {'year': 1983, 'title': 'Play Dirty'}},\n",
       " {'_id': ObjectId('65bb6277a3a77201e121b2c1'),\n",
       "  'name': 'U2',\n",
       "  'studio_albums': {'year': 1983, 'title': 'War'}},\n",
       " {'_id': ObjectId('65bb6277a3a77201e121b2c2'),\n",
       "  'name': 'ZZ Top',\n",
       "  'studio_albums': {'year': 1983, 'title': 'Eliminator'}},\n",
       " {'_id': ObjectId('65bb6277a3a77201e121b2c1'),\n",
       "  'name': 'U2',\n",
       "  'studio_albums': {'year': 1984, 'title': 'The Unforgettable Fire'}},\n",
       " {'_id': ObjectId('653c1744a62e95c90d145ffc'),\n",
       "  'name': 'Girlschool',\n",
       "  'studio_albums': {'year': 1985, 'title': 'Running Wild'}},\n",
       " {'_id': ObjectId('65bb6277a3a77201e121b2c2'),\n",
       "  'name': 'ZZ Top',\n",
       "  'studio_albums': {'year': 1985, 'title': 'Afterburner'}},\n",
       " {'_id': ObjectId('653c1744a62e95c90d145ffc'),\n",
       "  'name': 'Girlschool',\n",
       "  'studio_albums': {'year': 1986, 'title': 'Nightmare at Maple Cross'}},\n",
       " {'_id': ObjectId('65bb6277a3a77201e121b2c1'),\n",
       "  'name': 'U2',\n",
       "  'studio_albums': {'year': 1987, 'title': 'The Joshua Tree'}},\n",
       " {'_id': ObjectId('653c1744a62e95c90d145ffc'),\n",
       "  'name': 'Girlschool',\n",
       "  'studio_albums': {'year': 1988, 'title': 'Take a Bite'}},\n",
       " {'_id': ObjectId('653c1744a62e95c90d145fff'),\n",
       "  'name': 'L7',\n",
       "  'studio_albums': {'year': 1988, 'title': 'L7'}},\n",
       " {'_id': ObjectId('653c1744a62e95c90d145fff'),\n",
       "  'name': 'L7',\n",
       "  'studio_albums': {'year': 1988, 'title': 'Smell the magic'}},\n",
       " {'_id': ObjectId('65bb6277a3a77201e121b2c2'),\n",
       "  'name': 'ZZ Top',\n",
       "  'studio_albums': {'year': 1990, 'title': 'Recycler'}},\n",
       " {'_id': ObjectId('653c1744a62e95c90d145fff'),\n",
       "  'name': 'L7',\n",
       "  'studio_albums': {'year': 1991, 'title': 'Bricks are Heavy'}},\n",
       " {'_id': ObjectId('65bb6277a3a77201e121b2c1'),\n",
       "  'name': 'U2',\n",
       "  'studio_albums': {'year': 1991, 'title': 'Achtung Baby'}},\n",
       " {'_id': ObjectId('653c1744a62e95c90d145ffc'),\n",
       "  'name': 'Girlschool',\n",
       "  'studio_albums': {'year': 1993, 'title': 'Girlschool'}},\n",
       " {'_id': ObjectId('653c1744a62e95c90d145fff'),\n",
       "  'name': 'L7',\n",
       "  'studio_albums': {'year': 1994, 'title': 'Hungry for Stink'}},\n",
       " {'_id': ObjectId('653c1744a62e95c90d145fff'),\n",
       "  'name': 'L7',\n",
       "  'studio_albums': {'year': 1996,\n",
       "   'title': 'The Beauty Process: Triple Platinum'}},\n",
       " {'_id': ObjectId('653c1744a62e95c90d145fff'),\n",
       "  'name': 'L7',\n",
       "  'studio_albums': {'year': 1999, 'title': 'Slap-Happy'}},\n",
       " {'_id': ObjectId('65bb6277a3a77201e121b2c1'),\n",
       "  'name': 'U2',\n",
       "  'studio_albums': {'year': 2000, 'title': \"All That You Can't Leave Behind\"}},\n",
       " {'_id': ObjectId('653c1744a62e95c90d145ffc'),\n",
       "  'name': 'Girlschool',\n",
       "  'studio_albums': {'year': 2002,\n",
       "   'title': '21st Anniversary: Not That Innocent'}},\n",
       " {'_id': ObjectId('653c1744a62e95c90d145ffc'),\n",
       "  'name': 'Girlschool',\n",
       "  'studio_albums': {'year': 2004, 'title': 'Believe'}},\n",
       " {'_id': ObjectId('65bb6277a3a77201e121b2c1'),\n",
       "  'name': 'U2',\n",
       "  'studio_albums': {'year': 2004, 'title': 'How to Dismantle an Atomic Bomb'}},\n",
       " {'_id': ObjectId('653c1744a62e95c90d145ffc'),\n",
       "  'name': 'Girlschool',\n",
       "  'studio_albums': {'year': 2008, 'title': 'Legacy'}},\n",
       " {'_id': ObjectId('65bb6277a3a77201e121b2c1'),\n",
       "  'name': 'U2',\n",
       "  'studio_albums': {'year': 2009, 'title': 'No Line on the Horizon'}},\n",
       " {'_id': ObjectId('653c1744a62e95c90d145ffc'),\n",
       "  'name': 'Girlschool',\n",
       "  'studio_albums': {'year': 2011, 'title': 'Hit and Run - Revisited'}},\n",
       " {'_id': ObjectId('65bb6277a3a77201e121b2c1'),\n",
       "  'name': 'U2',\n",
       "  'studio_albums': {'year': 2014, 'title': 'Songs of Innocence'}},\n",
       " {'_id': ObjectId('653c1744a62e95c90d145ffc'),\n",
       "  'name': 'Girlschool',\n",
       "  'studio_albums': {'year': 2015, 'title': 'Guilty as Sin'}},\n",
       " {'_id': ObjectId('653c1744a62e95c90d145fff'),\n",
       "  'name': 'L7',\n",
       "  'studio_albums': {'year': 2016, 'title': 'Wireless'}},\n",
       " {'_id': ObjectId('653c1744a62e95c90d145fff'),\n",
       "  'name': 'L7',\n",
       "  'studio_albums': {'year': 2018, 'title': 'Detroit'}},\n",
       " {'_id': ObjectId('653c1744a62e95c90d145fff'),\n",
       "  'name': 'L7',\n",
       "  'studio_albums': {'year': 2019, 'title': 'Scatter the Rats'}},\n",
       " {'_id': ObjectId('653c1744a62e95c90d146000'),\n",
       "  'name': 'Nova Twins',\n",
       "  'studio_albums': {'year': 2020, 'title': 'Who are the girls?'}},\n",
       " {'_id': ObjectId('653c1744a62e95c90d146000'),\n",
       "  'name': 'Nova Twins',\n",
       "  'studio_albums': {'year': 2022, 'title': 'Supernova'}},\n",
       " {'_id': ObjectId('653c1744a62e95c90d145ffc'),\n",
       "  'name': 'Girlschool',\n",
       "  'studio_albums': {'year': 2023, 'title': 'WTFortyfive?'}}]"
      ]
     },
     "execution_count": 58,
     "metadata": {},
     "output_type": "execute_result"
    }
   ],
   "source": [
    "\"\"\"Join Bands with Their Albums and Sort by Album Release Year \"\"\"\n",
    "query1 = list(bands_collection.aggregate([\n",
    "    {\n",
    "        \"$lookup\": {\n",
    "            \"from\": \"albums\",\n",
    "            \"localField\": \"name\",\n",
    "            \"foreignField\": \"band\",\n",
    "            \"as\": \"band_albums\"\n",
    "        }\n",
    "    },\n",
    "    {\"$unwind\": \"$studio_albums\"},\n",
    "    {\"$sort\": {\"studio_albums.year\": 1}},\n",
    "    {\"$project\": {\"name\": 1, \"studio_albums.title\": 1, \"studio_albums.year\": 1}}\n",
    "]))\n",
    "query1"
   ]
  },
  {
   "cell_type": "code",
   "execution_count": 80,
   "metadata": {},
   "outputs": [
    {
     "data": {
      "text/plain": [
       "<pymongo.results.UpdateResult at 0x7ff85b723d00>"
      ]
     },
     "execution_count": 80,
     "metadata": {},
     "output_type": "execute_result"
    }
   ],
   "source": [
    "# Specify the document you want to update and the new field\n",
    "query = {\"_id\": ObjectId(\"65ba1761bb6e81da898d51d0\")} \n",
    "new_field = {\"$set\": {\"ShowName\": \"SlamDunk\"}} \n",
    "\n",
    "# Update the document\n",
    "venues_collection.update_one(query, new_field)"
   ]
  },
  {
   "cell_type": "code",
   "execution_count": 81,
   "metadata": {},
   "outputs": [
    {
     "data": {
      "text/plain": [
       "<pymongo.results.UpdateResult at 0x7ff85b71d540>"
      ]
     },
     "execution_count": 81,
     "metadata": {},
     "output_type": "execute_result"
    }
   ],
   "source": [
    "query = {\"_id\": ObjectId(\"65ba1986bb6e81da898d51d1\")} \n",
    "new_field = {\"$set\": {\"ShowName\": \"ComeInPoltrona\"}} \n",
    "\n",
    "# Update the document\n",
    "venues_collection.update_one(query, new_field)"
   ]
  },
  {
   "cell_type": "code",
   "execution_count": 78,
   "metadata": {},
   "outputs": [
    {
     "data": {
      "text/plain": [
       "<pymongo.results.InsertManyResult at 0x7ff874105330>"
      ]
     },
     "execution_count": 78,
     "metadata": {},
     "output_type": "execute_result"
    }
   ],
   "source": [
    "other_sponsors_2 = [\n",
    "    {\n",
    "        \"name\": \"StarSound Audio\",\n",
    "        \"industry\": \"Audio Equipment Manufacturing\",\n",
    "        \"Headquarters\": \"Los Angeles, California, USA\",\n",
    "        \"Founded\": 1982,\n",
    "        \"CEO\": \"Emily Mouse\",\n",
    "        \"Popular Products\": \"Professional studio microphones, mixing consoles\",\n",
    "        \"Annual Revenue\": \"$450 million\",\n",
    "        \"Employees\": 1200,\n",
    "        \"Market Regions\": \"Worldwide\",\n",
    "        \"Corporate Social Responsibility Focus\": \"Environmental sustainability in production\"\n",
    "    },\n",
    "    {\n",
    "        \"Name\": \"BrightLightsCO Management\",\n",
    "        \"Industry\": \"Event Planning and Management\",\n",
    "        \"Headquarters\": \"London, UK\",\n",
    "        \"Founded\": 1996,\n",
    "        \"CEO\": \"Rendy Marsh\",\n",
    "        \"Signature Events\": \"International music festivals, corporate conferences\",\n",
    "        \"Annual Revenue\": \"£200 million\",\n",
    "        \"Number of Employees\": 832,\n",
    "        \"Market Regions\": ['Europe', 'Asia'],\n",
    "        \"Corporate Social Responsibility Focus\": \"Promoting cultural diversity in events\"\n",
    "    },\n",
    "    {\n",
    "        \"Name\": \"Apex Sport\",\n",
    "        \"Industry\": \"Athletic Apparel and Footwear\",\n",
    "        \"Headquarters\": \"Berlin, Germany\",\n",
    "        \"Founded\": 1994,\n",
    "        \"CEO\": \"Mike Ness\",\n",
    "        \"Endorsement Deals\": \"Top athletes in soccer, tennis, athletics\",\n",
    "        \"Annual Revenue\": 380,\n",
    "        \"Number of Employees\": 1500,\n",
    "        \"Market Regions\": \"Europe, North America\",\n",
    "        \"Corporate Social Responsibility Focus\": \"Supporting youth sports programs\",\n",
    "    },\n",
    "    {\n",
    "        \"Name\": \"Velocity Always Motors\",\n",
    "        \"Industry\": \"Automobile Manufacturing\",\n",
    "        \"Headquarters\": \"Detroit, Michigan, USA\",\n",
    "        \"Founded\": 1950,\n",
    "        \"CEO\": \"Alan Smith\",\n",
    "        \"Flagship Models\": \"Sports cars, electric vehicles\",\n",
    "        \"Annual Revenue\": \"$2 billion\",\n",
    "        \"Number of Employees\": 4300,\n",
    "        \"Market Regions\": \"Worldwide\",\n",
    "        \"Corporate Social Responsibility Focus\": \"Advancements in eco-friendly transportation\",\n",
    "    },\n",
    "    {\n",
    "        \"Name\": \"SomeTech Electronics\",\n",
    "        \"Industry\": \"Consumer Electronics\",\n",
    "        \"Headquarters\": \"Tokyo, Japan\",\n",
    "        \"Founded\": 1975,\n",
    "        \"CEO\": \"Hiroshi Tantan\",\n",
    "        \"Innovations\": \"Smart home devices, wearable technology\",\n",
    "        \"Annual Revenue\": \"¥500 billion\",\n",
    "        \"Number of Employees\": 5100,\n",
    "        \"Market Regions\": \"Worldwide\",\n",
    "        \"Corporate Social Responsibility Focus\": \"Bridging the digital divide in education\",\n",
    "    },\n",
    "]\n",
    "sponsors_collection.insert_many(other_sponsors_2)"
   ]
  },
  {
   "cell_type": "markdown",
   "metadata": {},
   "source": [
    "<h3 style=\"color:#2C5C0E  \"> Notes: </h3>\n",
    "<div style=\"margin-top: -8px;\">\n",
    "The \"$unwind\" stage is an operator used in MongoDB's aggregation framework, particularly useful when dealing with array fields in documents. <br>\n",
    "Essentially, \"$unwind\" deconstructs an array field from the input documents to output a document for each element in the array. <br>\n",
    "Each output document is the input document with the value of the array field replaced by one of the elements of the array. <br>\n",
    "</div> \n"
   ]
  },
  {
   "cell_type": "code",
   "execution_count": 67,
   "metadata": {},
   "outputs": [
    {
     "data": {
      "text/plain": [
       "[{'_id': 'NWOBHM', 'total_albums': 14},\n",
       " {'_id': 'Heavy metal', 'total_albums': 14},\n",
       " {'_id': 'Hard rock', 'total_albums': 14},\n",
       " {'_id': 'Blues Rock', 'total_albums': 10},\n",
       " {'_id': 'Rock', 'total_albums': 10},\n",
       " {'_id': 'Alternative Rock', 'total_albums': 10},\n",
       " {'_id': 'Boogie Rock', 'total_albums': 10},\n",
       " {'_id': 'Punk Rock', 'total_albums': 9},\n",
       " {'_id': 'Grunge', 'total_albums': 9},\n",
       " {'_id': 'Rap Instrumental', 'total_albums': 2},\n",
       " {'_id': 'Nu Metal', 'total_albums': 2},\n",
       " {'_id': 'Alternative rock', 'total_albums': 2}]"
      ]
     },
     "execution_count": 67,
     "metadata": {},
     "output_type": "execute_result"
    }
   ],
   "source": [
    "\"\"\" Aggregate Total Number of Albums Released by Genre \"\"\"\n",
    "query3 = list(db.bands.aggregate([\n",
    "    {\"$unwind\": \"$genres\"},         \n",
    "    {\"$unwind\": \"$studio_albums\"},  \n",
    "    {\"$group\": {\n",
    "        \"_id\": \"$genres\", \n",
    "        \"total_albums\": {\"$sum\": 1}   #change the name to 'total_albums'\n",
    "    }},\n",
    "    {\"$sort\": {\"total_albums\": -1}}    \n",
    "]))\n",
    "query3"
   ]
  },
  {
   "cell_type": "code",
   "execution_count": null,
   "metadata": {},
   "outputs": [],
   "source": [
    "# Add new venues"
   ]
  },
  {
   "cell_type": "code",
   "execution_count": 90,
   "metadata": {},
   "outputs": [
    {
     "data": {
      "text/plain": [
       "' result = db.venues_collection.update_many(\\n    {\"your_criteria_here\": \"your_value_here\"},\\n    {\"$addToSet\": {\"bandName\": {\"$each\": [\"No Doubt\", \"The Who\"]}}}\\n)\\n\\nprint(f\"Matched {result.matched_count} document(s) and modified {result.modified_count} document(s).\") '"
      ]
     },
     "execution_count": 90,
     "metadata": {},
     "output_type": "execute_result"
    }
   ],
   "source": [
    "\"\"\" Update a venue changing a string field with an array of values.\n",
    "N.B.\n",
    "To avoid the 'WriteError: Cannot apply $addToSet to non-array field, use $addToSet directly to convert a string into an array must be avoided\n",
    "\"\"\"\n",
    "\n",
    "documents_to_update = venues_collection.find({\"_id\": ObjectId(\"65ba1986bb6e81da898d51d1\")})\n",
    "\n",
    "for doc in documents_to_update:\n",
    "    old_band_name = doc[\"bandName\"]\n",
    "    new_band_name_list = [old_band_name]\n",
    "\n",
    "    # Update the document with the new list\n",
    "    venues_collection.update_one(\n",
    "        {\"_id\": doc[\"_id\"]},\n",
    "        {\"$set\": {\"bandName\": new_band_name_list}}\n",
    "    )"
   ]
  },
  {
   "cell_type": "code",
   "execution_count": 91,
   "metadata": {},
   "outputs": [],
   "source": [
    "result = venues_collection.update_one(\n",
    "    { \"_id\": ObjectId(\"65ba1986bb6e81da898d51d1\") },\n",
    "    { \"$addToSet\": { \"bandName\": { \"$each\": [\"No Doubt\", \"The Who\"]\n",
    "}}}\n",
    ")"
   ]
  },
  {
   "cell_type": "code",
   "execution_count": 92,
   "metadata": {},
   "outputs": [
    {
     "data": {
      "text/plain": [
       "[{'_id': ObjectId('65ba1986bb6e81da898d51d1'),\n",
       "  'bands_playing': {'name': 'No Doubt'}},\n",
       " {'_id': ObjectId('65ba1986bb6e81da898d51d1'),\n",
       "  'bands_playing': {'name': 'The Who'}}]"
      ]
     },
     "execution_count": 92,
     "metadata": {},
     "output_type": "execute_result"
    }
   ],
   "source": [
    "\"\"\" List Bands Performing at a Specific Venue \"\"\"\n",
    "venue_name = \"ComeInPoltrona\" \n",
    "query4 = list(venues_collection.aggregate([\n",
    "    {\"$match\": {\"ShowName\": venue_name}},\n",
    "    {\n",
    "        \"$lookup\": {\n",
    "            \"from\": \"bands\",\n",
    "            \"localField\": \"bandName\",\n",
    "            \"foreignField\": \"name\",\n",
    "            \"as\": \"bands_playing\"\n",
    "        }\n",
    "    },\n",
    "    {\"$unwind\": \"$bands_playing\"},\n",
    "    {\"$project\": {\"bands_playing.name\": 1}}\n",
    "]))\n",
    "query4"
   ]
  }
 ],
 "metadata": {
  "kernelspec": {
   "display_name": "MLearning",
   "language": "python",
   "name": "python3"
  },
  "language_info": {
   "codemirror_mode": {
    "name": "ipython",
    "version": 3
   },
   "file_extension": ".py",
   "mimetype": "text/x-python",
   "name": "python",
   "nbconvert_exporter": "python",
   "pygments_lexer": "ipython3",
   "version": "3.10.9"
  },
  "orig_nbformat": 4
 },
 "nbformat": 4,
 "nbformat_minor": 2
}
