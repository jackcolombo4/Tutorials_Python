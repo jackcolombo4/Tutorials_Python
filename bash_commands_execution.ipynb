{
 "cells": [
  {
   "attachments": {},
   "cell_type": "markdown",
   "metadata": {},
   "source": [
    "<h1 style=\"color:darkgreen\"> Execute bash commands directly from py code </h1>"
   ]
  },
  {
   "cell_type": "code",
   "execution_count": 34,
   "metadata": {},
   "outputs": [],
   "source": [
    "import os\n",
    "import re\n",
    "import sh\n",
    "import shlex\n",
    "import subprocess\n",
    "from datetime import datetime"
   ]
  },
  {
   "cell_type": "code",
   "execution_count": null,
   "metadata": {},
   "outputs": [],
   "source": [
    "# Create a command as string \n",
    "now = datetime.now()\n",
    "data_ok = (now.strftime(\"%Y-%m-%d__%H:%M:%S\"))\n",
    "print(data_ok)\n",
    "\n",
    "string_comm = \"\"\"cp ./files_and_data/file_dummy_input.txt\n",
    "./files_and_data/file_dummy_input_{}.txt\"\"\".format(data_ok)"
   ]
  },
  {
   "cell_type": "code",
   "execution_count": 27,
   "metadata": {},
   "outputs": [
    {
     "name": "stdout",
     "output_type": "stream",
     "text": [
      "2023-09-05__16:40:11\n",
      "original str:  cp ./files_and_data/file_dummy_input.txt\n",
      "./files_and_data/file_dummy_input_2023-09-05__16:40:11.txt\n",
      "final command str:  cp ./files_and_data/file_dummy_input.txt ./files_and_data/file_dummy_input_2023-09-05__16:40:11.txt\n"
     ]
    }
   ],
   "source": [
    "\"\"\" Replace one or more consecutive whitespace characters (string manipulation with re).\n",
    "Details:\n",
    "- 1. \"re.sub\" => Replace patterns in strings.\n",
    "- 2. `'\\s+'`: Regular expression pattern that matches one or more whitespace characters (spaces, tabs, etc.)\n",
    "- 3. `' '`: The replacement string => a single space\n",
    "\"\"\" \n",
    "command = re.sub('\\s+', ' ', string_comm)\n",
    "\n",
    "print(\"original str: \", string_comm)\n",
    "print(\"final command str: \", command)"
   ]
  },
  {
   "cell_type": "markdown",
   "metadata": {},
   "source": [
    "<h3 style=\"color:darkgreen\"> Example #1 </h3>\n",
    "Launch command using subprocess Popen."
   ]
  },
  {
   "cell_type": "code",
   "execution_count": 3,
   "metadata": {},
   "outputs": [],
   "source": [
    "proc = subprocess.Popen(command, shell=True, preexec_fn=os.setsid)"
   ]
  },
  {
   "cell_type": "markdown",
   "metadata": {},
   "source": [
    "<h3 style=\"color:darkgreen\"> Example #2 </h3>\n",
    "Launch command using os.system(). It returns 0 if command is correctly executed."
   ]
  },
  {
   "cell_type": "code",
   "execution_count": 4,
   "metadata": {},
   "outputs": [
    {
     "data": {
      "text/plain": [
       "0"
      ]
     },
     "execution_count": 4,
     "metadata": {},
     "output_type": "execute_result"
    }
   ],
   "source": [
    "os.system(command)"
   ]
  },
  {
   "cell_type": "markdown",
   "metadata": {},
   "source": [
    "<h3 style=\"color:darkgreen\"> Example #3 </h3>\n",
    "Launch command using os.popen()."
   ]
  },
  {
   "cell_type": "code",
   "execution_count": 12,
   "metadata": {},
   "outputs": [
    {
     "name": "stdout",
     "output_type": "stream",
     "text": [
      "\n"
     ]
    }
   ],
   "source": [
    "output = os.popen(command).read()\n",
    "print(output)"
   ]
  },
  {
   "cell_type": "markdown",
   "metadata": {},
   "source": [
    "<h3 style=\"color:darkgreen\"> Example #4 </h3>\n",
    "Launch command using subprocess.run. It runs the command and waits for completion."
   ]
  },
  {
   "cell_type": "code",
   "execution_count": 11,
   "metadata": {},
   "outputs": [
    {
     "data": {
      "text/plain": [
       "'cp ./files_and_data/file_dummy_input.txt ./files_and_data/file_dummy_input_2023-09-05__16:18:52.txt'"
      ]
     },
     "execution_count": 11,
     "metadata": {},
     "output_type": "execute_result"
    }
   ],
   "source": [
    "command"
   ]
  },
  {
   "cell_type": "code",
   "execution_count": 14,
   "metadata": {},
   "outputs": [
    {
     "name": "stdout",
     "output_type": "stream",
     "text": [
      "Command executed successfully\n",
      "\n"
     ]
    }
   ],
   "source": [
    "result = subprocess.run(command, stdout=subprocess.PIPE, stderr=subprocess.PIPE, shell=True)\n",
    "\n",
    "if result.returncode == 0:\n",
    "    print(\"Command executed successfully\")\n",
    "    print(result.stdout.decode())\n",
    "else:\n",
    "    print(\"Command failed\")\n",
    "    print(result.stderr.decode())\n"
   ]
  },
  {
   "cell_type": "markdown",
   "metadata": {},
   "source": [
    "<h3 style=\"color:darkgreen\"> Example #5 </h3>\n",
    "Launch command using subprocess.check_output. It raises an error if the command fails."
   ]
  },
  {
   "cell_type": "code",
   "execution_count": 16,
   "metadata": {},
   "outputs": [
    {
     "name": "stdout",
     "output_type": "stream",
     "text": [
      "\n"
     ]
    }
   ],
   "source": [
    "command_ok = [command]\n",
    "output = subprocess.check_output(command, shell=True)\n",
    "print(output.decode())"
   ]
  },
  {
   "cell_type": "markdown",
   "metadata": {},
   "source": [
    "<div style=\"line-height:0.3\">\n",
    "<h3 style=\"color:darkgreen\"> Example #6 </h3>\n",
    "<div style=\"line-height:1.2\">\n",
    "Examples at point 4 and 5 need \"shell=True\" to work! <br>\n",
    "However, this habit is not recommended, since when using shell=True, the command is executed within a shell process, <br> \n",
    "introducing security risks. <br>\n",
    "Therefore, it is necessary to provide the desired command and its arguments as a list of strings, as shown in next cells.\n",
    "</div>\n",
    "</div>"
   ]
  },
  {
   "cell_type": "code",
   "execution_count": 28,
   "metadata": {},
   "outputs": [
    {
     "name": "stdout",
     "output_type": "stream",
     "text": [
      "Command executed successfully\n",
      "\n"
     ]
    }
   ],
   "source": [
    "\"\"\" Specify the command and its arguments as a list of strings, \n",
    "creating the command in as a list of strings, to obtain:\n",
    "[\"cp\", \"./files_and_data/file_dummy_input.txt\", \"./files_and_data/file_dummy_input_2023-09-05__16:18:52.txt\"]\n",
    "\"\"\"\n",
    "command_newform = command.split()\n",
    "\n",
    "# Run the command and capture the result\n",
    "result = subprocess.run(command_newform, stdout=subprocess.PIPE, stderr=subprocess.PIPE)\n",
    "\n",
    "# Check the return code to determine if the command succeeded\n",
    "if result.returncode == 0:\n",
    "    print(\"Command executed successfully\")\n",
    "    print(result.stdout.decode())\n",
    "else:\n",
    "    print(\"Command failed\")\n",
    "    print(result.stderr.decode())\n"
   ]
  },
  {
   "cell_type": "code",
   "execution_count": 35,
   "metadata": {},
   "outputs": [
    {
     "name": "stdout",
     "output_type": "stream",
     "text": [
      "['cp', './files_and_data/file_dummy_input.txt', './files_and_data/file_dummy_input_2023-09-05__16:40:11.txt']\n",
      "\n"
     ]
    }
   ],
   "source": [
    "command_shlex=shlex.split(command)\n",
    "print(command_shlex)\n",
    "output = subprocess.check_output(command_shlex)     #clearly it works with command_newform as well!\n",
    "print(output.decode())"
   ]
  },
  {
   "cell_type": "markdown",
   "metadata": {},
   "source": [
    "<h3 style=\"color:darkgreen\"> Example #7 </h3>\n",
    "Launch command using Using 'sh' module."
   ]
  },
  {
   "cell_type": "code",
   "execution_count": 30,
   "metadata": {},
   "outputs": [],
   "source": [
    "# Define the source and destination paths as strings\n",
    "source_path = \"./files_and_data/file_dummy_input.txt\"\n",
    "destination_path = \"./files_and_data/file_dummy_input_2023-09-05__16:18:52.txt\"\n",
    "\n",
    "# Use the sh module to run the cp command\n",
    "sh.cp(source_path, destination_path);"
   ]
  }
 ],
 "metadata": {
  "kernelspec": {
   "display_name": "MLearning",
   "language": "python",
   "name": "python3"
  },
  "language_info": {
   "codemirror_mode": {
    "name": "ipython",
    "version": 3
   },
   "file_extension": ".py",
   "mimetype": "text/x-python",
   "name": "python",
   "nbconvert_exporter": "python",
   "pygments_lexer": "ipython3",
   "version": "3.10.9"
  },
  "orig_nbformat": 4
 },
 "nbformat": 4,
 "nbformat_minor": 2
}
