{
 "cells": [
  {
   "cell_type": "markdown",
   "metadata": {},
   "source": [
    "<div style=\"line-height:0.5\">\n",
    "<h1 style=\"color:hotpink\"> Matrices tips and questions </h1>\n",
    "<span style=\"display: inline-block;\">\n",
    "    <h3 style=\"color: lightblue; display: inline;\">Keywords:</h3> \n",
    "</span>\n",
    "</div>"
   ]
  },
  {
   "cell_type": "markdown",
   "metadata": {},
   "source": [
    "<h3 style=\"color:hotpink\"> <u> Question #1 </u> </h3>"
   ]
  },
  {
   "cell_type": "code",
   "execution_count": 1,
   "metadata": {},
   "outputs": [
    {
     "name": "stdout",
     "output_type": "stream",
     "text": [
      "True\n",
      "True\n",
      "False\n"
     ]
    }
   ],
   "source": [
    "def is_matrix_empty(matrix):\n",
    "    return not matrix or not matrix[0]\n",
    "\n",
    "empty_matrix1 = []\n",
    "empty_matrix2 = [[]]\n",
    "non_empty_matrix = [[1, 2, 3], [4, 5, 6]]\n",
    "\n",
    "print(is_matrix_empty(empty_matrix1)) \n",
    "print(is_matrix_empty(empty_matrix2)) \n",
    "print(is_matrix_empty(non_empty_matrix)) "
   ]
  },
  {
   "cell_type": "markdown",
   "metadata": {},
   "source": [
    "<h3 style=\"color:hotpink\"> <u> Question #2 </u> \n",
    "</h3>\n",
    "Find the largest square containing only 1's and return its area, given a (m x n) matrix of strings [0s or 1s]"
   ]
  },
  {
   "cell_type": "code",
   "execution_count": 51,
   "metadata": {},
   "outputs": [
    {
     "data": {
      "text/plain": [
       "(4, 5)"
      ]
     },
     "execution_count": 51,
     "metadata": {},
     "output_type": "execute_result"
    }
   ],
   "source": [
    "matrix = [[\"1\",\"1\",\"1\",\"0\",\"0\"],[\"1\",\"1\",\"1\",\"1\",\"1\"],[\"1\",\"1\",\"1\",\"1\",\"1\"],[\"1\",\"0\",\"0\",\"1\",\"0\"]]\n",
    "len(matrix), len(matrix[0])"
   ]
  },
  {
   "cell_type": "code",
   "execution_count": 52,
   "metadata": {},
   "outputs": [
    {
     "name": "stdout",
     "output_type": "stream",
     "text": [
      "1 1 1 0 0\n",
      "1 1 1 1 1\n",
      "1 1 1 1 1\n",
      "1 0 0 1 0\n"
     ]
    }
   ],
   "source": [
    "def print_formatted_matrix(matrix):\n",
    "    max_width = max(len(str(item)) for row in matrix for item in row)\n",
    "    for row in matrix:\n",
    "        print(\" \".join(f\"{item:>{max_width}}\" for item in row))\n",
    "\n",
    "print_formatted_matrix(matrix)"
   ]
  },
  {
   "cell_type": "code",
   "execution_count": 53,
   "metadata": {},
   "outputs": [
    {
     "data": {
      "text/plain": [
       "9"
      ]
     },
     "execution_count": 53,
     "metadata": {},
     "output_type": "execute_result"
    }
   ],
   "source": [
    "def maximalSquare_naive(matrix):\n",
    "    \"\"\" \n",
    "    Solution 1: overall complexity is O((m*n)*min(m,n)*(m+n)) => O(m^2 * n^2) => so basically it is O(N^2) in best case but O(N^3) in worst case! \n",
    "    1) If the cell contains a '1', the function considers it as the potential top-left corner of a square \\\\\n",
    "    It then tries to expand this square by increasing square_size, initially set to 1 (representing a 1x1 square). \\\\\n",
    "    2) The expansion continues as long as the bottom right corner of the current square is within the bounds of the matrix \\\\\n",
    "    (square_size + i < m and square_size + j < n) and all '1's are found within the square. \\\\\n",
    "    3) Check elements under (same column) the bottom of the square \\\\\n",
    "        and on the right (same row)  the edge of the square \\\\ \n",
    "    \n",
    "    4) Return the area => follow the series => 1,4,9,16,25...n^2 \\\\\n",
    "    \"\"\"\n",
    "    cont, largest = 0, 0\n",
    "    ############### solution 1: nested loops => quadratic complexity\n",
    "    #for row in matrix: \n",
    "    #    for elem in row:\n",
    "\n",
    "    for i in range(len(matrix)):\n",
    "        for j in range(len(matrix[i])):\n",
    "            if matrix[i][j] == '1':\n",
    "                cont = 1\n",
    "                found_larger = True\n",
    "                while cont + i < len(matrix) and cont + j < len(matrix[0]) and found_larger:\n",
    "                    for k in range(i, i + cont + 1):\n",
    "                        if matrix[k][j + cont] == '0':\n",
    "                            found_larger = False\n",
    "                            break\n",
    "\n",
    "                    for k in range(j, j + cont + 1):\n",
    "                        if matrix[i + cont][k] == '0':\n",
    "                            found_larger = False\n",
    "                            break\n",
    "                    \n",
    "                    if found_larger:\n",
    "                        cont += 1\n",
    "                \n",
    "                largest = max(largest, cont)\n",
    "\n",
    "    return largest**2\n",
    "\n",
    "\n",
    "res = maximalSquare_naive(matrix)\n",
    "res"
   ]
  },
  {
   "cell_type": "code",
   "execution_count": 68,
   "metadata": {},
   "outputs": [
    {
     "name": "stdout",
     "output_type": "stream",
     "text": [
      "1 1 1 0 0\n",
      "1 1 1 1 1\n",
      "1 1 1 1 1\n",
      "1 0 0 1 0\n",
      "external loop num  0\n",
      "internal loop num  0\n",
      "[[1, 0, 0, 0, 0], [0, 0, 0, 0, 0], [0, 0, 0, 0, 0], [0, 0, 0, 0, 0]]\n",
      "\n",
      "internal loop num  1\n",
      "[[1, 1, 0, 0, 0], [0, 0, 0, 0, 0], [0, 0, 0, 0, 0], [0, 0, 0, 0, 0]]\n",
      "\n",
      "internal loop num  2\n",
      "[[1, 1, 1, 0, 0], [0, 0, 0, 0, 0], [0, 0, 0, 0, 0], [0, 0, 0, 0, 0]]\n",
      "\n",
      "external loop num  1\n",
      "internal loop num  0\n",
      "[[1, 1, 1, 0, 0], [1, 0, 0, 0, 0], [0, 0, 0, 0, 0], [0, 0, 0, 0, 0]]\n",
      "\n",
      "internal loop num  1\n",
      "[[1, 1, 1, 0, 0], [1, 1, 0, 0, 0], [0, 0, 0, 0, 0], [0, 0, 0, 0, 0]]\n",
      "\n",
      "So the comparison is between:\n",
      "dp_storage[i-1][j] ==  1\n",
      "dp_storage[i][j-1] ==  1\n",
      "dp_storage[i-1][j-1] ==  1\n",
      "\n",
      "[[1, 1, 1, 0, 0], [1, 2, 0, 0, 0], [0, 0, 0, 0, 0], [0, 0, 0, 0, 0]]\n",
      "\n",
      "internal loop num  2\n",
      "[[1, 1, 1, 0, 0], [1, 2, 1, 0, 0], [0, 0, 0, 0, 0], [0, 0, 0, 0, 0]]\n",
      "\n",
      "So the comparison is between:\n",
      "dp_storage[i-1][j] ==  1\n",
      "dp_storage[i][j-1] ==  2\n",
      "dp_storage[i-1][j-1] ==  1\n",
      "\n",
      "[[1, 1, 1, 0, 0], [1, 2, 2, 0, 0], [0, 0, 0, 0, 0], [0, 0, 0, 0, 0]]\n",
      "\n",
      "internal loop num  3\n",
      "[[1, 1, 1, 0, 0], [1, 2, 2, 1, 0], [0, 0, 0, 0, 0], [0, 0, 0, 0, 0]]\n",
      "\n",
      "So the comparison is between:\n",
      "dp_storage[i-1][j] ==  0\n",
      "dp_storage[i][j-1] ==  2\n",
      "dp_storage[i-1][j-1] ==  1\n",
      "\n",
      "[[1, 1, 1, 0, 0], [1, 2, 2, 1, 0], [0, 0, 0, 0, 0], [0, 0, 0, 0, 0]]\n",
      "\n",
      "internal loop num  4\n",
      "[[1, 1, 1, 0, 0], [1, 2, 2, 1, 1], [0, 0, 0, 0, 0], [0, 0, 0, 0, 0]]\n",
      "\n",
      "So the comparison is between:\n",
      "dp_storage[i-1][j] ==  0\n",
      "dp_storage[i][j-1] ==  1\n",
      "dp_storage[i-1][j-1] ==  0\n",
      "\n",
      "[[1, 1, 1, 0, 0], [1, 2, 2, 1, 1], [0, 0, 0, 0, 0], [0, 0, 0, 0, 0]]\n",
      "\n",
      "external loop num  2\n",
      "internal loop num  0\n",
      "[[1, 1, 1, 0, 0], [1, 2, 2, 1, 1], [1, 0, 0, 0, 0], [0, 0, 0, 0, 0]]\n",
      "\n",
      "internal loop num  1\n",
      "[[1, 1, 1, 0, 0], [1, 2, 2, 1, 1], [1, 1, 0, 0, 0], [0, 0, 0, 0, 0]]\n",
      "\n",
      "So the comparison is between:\n",
      "dp_storage[i-1][j] ==  2\n",
      "dp_storage[i][j-1] ==  1\n",
      "dp_storage[i-1][j-1] ==  1\n",
      "\n",
      "[[1, 1, 1, 0, 0], [1, 2, 2, 1, 1], [1, 2, 0, 0, 0], [0, 0, 0, 0, 0]]\n",
      "\n",
      "internal loop num  2\n",
      "[[1, 1, 1, 0, 0], [1, 2, 2, 1, 1], [1, 2, 1, 0, 0], [0, 0, 0, 0, 0]]\n",
      "\n",
      "So the comparison is between:\n",
      "dp_storage[i-1][j] ==  2\n",
      "dp_storage[i][j-1] ==  2\n",
      "dp_storage[i-1][j-1] ==  2\n",
      "\n",
      "[[1, 1, 1, 0, 0], [1, 2, 2, 1, 1], [1, 2, 3, 0, 0], [0, 0, 0, 0, 0]]\n",
      "\n",
      "internal loop num  3\n",
      "[[1, 1, 1, 0, 0], [1, 2, 2, 1, 1], [1, 2, 3, 1, 0], [0, 0, 0, 0, 0]]\n",
      "\n",
      "So the comparison is between:\n",
      "dp_storage[i-1][j] ==  1\n",
      "dp_storage[i][j-1] ==  3\n",
      "dp_storage[i-1][j-1] ==  2\n",
      "\n",
      "[[1, 1, 1, 0, 0], [1, 2, 2, 1, 1], [1, 2, 3, 2, 0], [0, 0, 0, 0, 0]]\n",
      "\n",
      "internal loop num  4\n",
      "[[1, 1, 1, 0, 0], [1, 2, 2, 1, 1], [1, 2, 3, 2, 1], [0, 0, 0, 0, 0]]\n",
      "\n",
      "So the comparison is between:\n",
      "dp_storage[i-1][j] ==  1\n",
      "dp_storage[i][j-1] ==  2\n",
      "dp_storage[i-1][j-1] ==  1\n",
      "\n",
      "[[1, 1, 1, 0, 0], [1, 2, 2, 1, 1], [1, 2, 3, 2, 2], [0, 0, 0, 0, 0]]\n",
      "\n",
      "external loop num  3\n",
      "internal loop num  0\n",
      "[[1, 1, 1, 0, 0], [1, 2, 2, 1, 1], [1, 2, 3, 2, 2], [1, 0, 0, 0, 0]]\n",
      "\n",
      "internal loop num  3\n",
      "[[1, 1, 1, 0, 0], [1, 2, 2, 1, 1], [1, 2, 3, 2, 2], [1, 0, 0, 1, 0]]\n",
      "\n",
      "So the comparison is between:\n",
      "dp_storage[i-1][j] ==  2\n",
      "dp_storage[i][j-1] ==  0\n",
      "dp_storage[i-1][j-1] ==  3\n",
      "\n",
      "[[1, 1, 1, 0, 0], [1, 2, 2, 1, 1], [1, 2, 3, 2, 2], [1, 0, 0, 1, 0]]\n",
      "\n"
     ]
    },
    {
     "data": {
      "text/plain": [
       "9"
      ]
     },
     "execution_count": 68,
     "metadata": {},
     "output_type": "execute_result"
    }
   ],
   "source": [
    "def maximalSquare_ok(matrix):\n",
    "    \"\"\" Using dynamic programming\n",
    "    Solution 2: overall complexity is quadratic O(m*n)\n",
    "    1) Create a 2D list Initialized with zeros (the dynamic programming table) with the same dimensions as matrix. \n",
    "        This table stores the size of the largest square ending at each cell\n",
    "        (the minimum of the three adjacent squares (left, above, diagonal left-above) plus 1.)\n",
    "    2) Update max_side to the maximum value between the current max_side and dp[i][j]. \n",
    "        This step keeps track of the largest square size found so far.\n",
    "    \"\"\"\n",
    "\n",
    "    m, n = len(matrix), len(matrix[0])\n",
    "    dp_storage = [[0] * n for _ in range(m)] # list of list with len n * m \n",
    "    max_side = 0\n",
    "    for i in range(m):\n",
    "        print(\"external loop num \", i)\n",
    "        for j in range(n):\n",
    "            if matrix[i][j] == '1':\n",
    "                dp_storage[i][j] = 1\n",
    "                print(\"internal loop num \", j)\n",
    "                print(dp_storage)\n",
    "                print()\n",
    "                if i > 0 and j > 0:\n",
    "                    dp_storage[i][j] += min(dp_storage[i-1][j], dp_storage[i][j-1], dp_storage[i-1][j-1])\n",
    "                    print(\"So the comparison is between:\")\n",
    "                    print(\"dp_storage[i-1][j] == \", dp_storage[i-1][j])\n",
    "                    print(\"dp_storage[i][j-1] == \", dp_storage[i][j-1])\n",
    "                    print(\"dp_storage[i-1][j-1] == \", dp_storage[i-1][j-1])\n",
    "                    print()\n",
    "                    print(dp_storage)\n",
    "                    print()\n",
    "                max_side = max(max_side, dp_storage[i][j]) \n",
    "    return max_side**2\n",
    "\n",
    "print_formatted_matrix(matrix)\n",
    "res = maximalSquare_ok(matrix)\n",
    "res"
   ]
  },
  {
   "cell_type": "markdown",
   "metadata": {},
   "source": [
    "<h3 style=\"color:hotpink\"> <u> Question #3 </u> </h3>\n",
    "Knapsack problem 0/1"
   ]
  },
  {
   "cell_type": "code",
   "execution_count": 89,
   "metadata": {},
   "outputs": [
    {
     "name": "stdout",
     "output_type": "stream",
     "text": [
      "Maximum value in knapsack (bottom-up)= 220\n"
     ]
    }
   ],
   "source": [
    "def knapsack(values, weights, capacity):\n",
    "    \"\"\" Solve the 0/1 Knapsack problem using dynamic programming.\n",
    "    Return the maximum value that can be achieved within the given weight limit.\n",
    "    \n",
    "    Example: \n",
    "        - 3 items where w = [10, 20, 30] and v = [60, 100, 120], and a knapsack capacity W = 50.\n",
    "    Attrs:\n",
    "        - param values: List of values of the items\n",
    "        - param weights: List of weights of the items\n",
    "        - param capacity: Maximum weight capacity of the knapsack\n",
    "    \"\"\"\n",
    "    n = len(values)\n",
    "    # Create the storage matrix with 4 rows and 51 columns, initially filled with zeros\n",
    "    dp = [[0 for _ in range(capacity + 1)] for _ in range(n + 1)] #add one more cell in the memo storage, as usual dynamic programming\n",
    "\n",
    "    # Build table dp[][] in a bottom-up manner\n",
    "    for i in range(1, n + 1):\n",
    "        for w in range(1, capacity + 1):\n",
    "            if weights[i-1] <= w: # if weight for item i-1 is less or equal than the current index column \n",
    "                # Include the current item if max, otherwise copy the one in the position: row above ; same column\n",
    "                dp[i][w] = max(dp[i-1][w], dp[i-1][w-weights[i-1]] + values[i-1])\n",
    "                #dp[2][20] = \n",
    "            else:\n",
    "                # Cannot include the current item, so copy the one UP in same column \n",
    "                dp[i][w] = dp[i-1][w]\n",
    "\n",
    "    # Return the last on the right corner\n",
    "    return dp[n][capacity]\n",
    "\n",
    "# Example usage\n",
    "values = [60, 100, 120]\n",
    "weights = [10, 20, 30]\n",
    "capacity = 50\n",
    "\n",
    "max_value = knapsack(values, weights, capacity)\n",
    "print(\"Maximum value in knapsack (bottom-up) =\", max_value)"
   ]
  },
  {
   "cell_type": "code",
   "execution_count": 88,
   "metadata": {},
   "outputs": [
    {
     "name": "stdout",
     "output_type": "stream",
     "text": [
      "Maximum value in knapsack (top-down) = 220\n"
     ]
    }
   ],
   "source": [
    "def knapsack_recursive(values, weights, capacity, n, dp):\n",
    "    \"\"\" Solve the 0/1 Knapsack problem in a recursive way, using top-down approach (with memoization).\n",
    "    Return the maximum value that can be achieved with current capacity and n items.\n",
    "    \n",
    "    Attrs:\n",
    "        - values: List of values of the items\n",
    "        - weights: List of weights of the items\n",
    "        - capacity: Maximum weight capacity of the knapsack\n",
    "        - n: Current number of items considered\n",
    "        - dp: A memoization table to store results of subproblems\n",
    "    \"\"\"\n",
    "    # Base case: no items or no capacity\n",
    "    if n == 0 or capacity == 0:\n",
    "        return 0\n",
    "\n",
    "    # Check if the value is already computed\n",
    "    if dp[n][capacity] != -1:\n",
    "        return dp[n][capacity]\n",
    "\n",
    "    # If weight of the nth item is more than the capacity, it cannot be included\n",
    "    if weights[n-1] > capacity:\n",
    "        dp[n][capacity] = knapsack_recursive(values, weights, capacity, n-1, dp)\n",
    "    else:\n",
    "        # Maximum of two cases: \n",
    "        # 1. nth item included \n",
    "        # 2. not included\n",
    "        dp[n][capacity] = max(knapsack_recursive(values, weights, capacity, n-1, dp),\n",
    "                            values[n-1] + knapsack_recursive(values, weights, capacity-weights[n-1], n-1, dp))\n",
    "    return dp[n][capacity]\n",
    "\n",
    "def knapsack_top_down(values, weights, capacity):\n",
    "    n = len(values)\n",
    "    dp = [[-1 for _ in range(capacity + 1)] for _ in range(n + 1)]\n",
    "    return knapsack_recursive(values, weights, capacity, n, dp)\n",
    "\n",
    "values = [60, 100, 120]\n",
    "weights = [10, 20, 30]\n",
    "capacity = 50\n",
    "\n",
    "max_value = knapsack_top_down(values, weights, capacity)\n",
    "print(\"Maximum value in knapsack (top-down) =\", max_value)"
   ]
  },
  {
   "cell_type": "code",
   "execution_count": null,
   "metadata": {},
   "outputs": [],
   "source": []
  },
  {
   "cell_type": "code",
   "execution_count": null,
   "metadata": {},
   "outputs": [],
   "source": []
  }
 ],
 "metadata": {
  "kernelspec": {
   "display_name": "MLearning",
   "language": "python",
   "name": "python3"
  },
  "language_info": {
   "codemirror_mode": {
    "name": "ipython",
    "version": 3
   },
   "file_extension": ".py",
   "mimetype": "text/x-python",
   "name": "python",
   "nbconvert_exporter": "python",
   "pygments_lexer": "ipython3",
   "version": "3.10.9"
  },
  "orig_nbformat": 4
 },
 "nbformat": 4,
 "nbformat_minor": 2
}
