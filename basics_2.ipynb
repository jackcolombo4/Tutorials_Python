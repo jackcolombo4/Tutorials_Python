{
 "cells": [
  {
   "cell_type": "markdown",
   "metadata": {},
   "source": [
    "<div style=\"line-height:0.5\">\n",
    "<h1 style=\"color:darkorange\"> Python tips 2 </h1>\n",
    "<span style=\"display: inline-block;\">\n",
    "    <h3 style=\"color: lightblue; display: inline;\">Keywords:</h3> @update_class() + lambda + functools + decorators + pprint\n",
    "</span>\n",
    "</div>"
   ]
  },
  {
   "cell_type": "code",
   "execution_count": 31,
   "metadata": {},
   "outputs": [],
   "source": [
    "import csv\n",
    "import functools\n",
    "import pprint\n",
    "from abc import ABC, abstractmethod"
   ]
  },
  {
   "cell_type": "markdown",
   "metadata": {},
   "source": [
    "<h2 style=\"color:darkorange\"> <u> Print </u> </h2>"
   ]
  },
  {
   "cell_type": "code",
   "execution_count": 32,
   "metadata": {},
   "outputs": [
    {
     "name": "stdout",
     "output_type": "stream",
     "text": [
      "{'audio': 'audio_1',\n",
      " 'description': 'Tocca il bottone rosso',\n",
      " 'kind': '1F',\n",
      " 'type': '1FSUS',\n",
      " 'value': '2'}\n",
      "'1FSUS'\n",
      "<class 'str'>\n",
      "{'audio': 'audio_2',\n",
      " 'description': 'Tocca il bottone verde',\n",
      " 'kind': '1F',\n",
      " 'type': '1FSUS',\n",
      " 'value': '2'}\n",
      "'1FSUS'\n",
      "<class 'str'>\n",
      "{'audio': 'audio_3',\n",
      " 'description': 'Tocca il bottone giallo',\n",
      " 'kind': '1F',\n",
      " 'type': '1FSUS',\n",
      " 'value': '2'}\n",
      "'1FSUS'\n",
      "<class 'str'>\n",
      "{'audio': 'audio_4',\n",
      " 'description': 'Tocca il bottone blu',\n",
      " 'kind': '1F',\n",
      " 'type': '1FSUS',\n",
      " 'value': '2'}\n",
      "'1FSUS'\n",
      "<class 'str'>\n",
      "{'audio': 'audio_5',\n",
      " 'description': 'Tocca le scimmie',\n",
      " 'kind': '1F',\n",
      " 'type': '1FSUS',\n",
      " 'value': '1'}\n",
      "'1FSUS'\n",
      "<class 'str'>\n",
      "{'audio': 'audio_6',\n",
      " 'description': 'Tocca i leoni',\n",
      " 'kind': '1F',\n",
      " 'type': '1FSUS',\n",
      " 'value': '1'}\n",
      "'1FSUS'\n",
      "<class 'str'>\n",
      "{'audio': 'audio_7',\n",
      " 'description': 'Tocca i pappagalli',\n",
      " 'kind': '1F',\n",
      " 'type': '1FSUS',\n",
      " 'value': '1'}\n",
      "'1FSUS'\n",
      "<class 'str'>\n",
      "{'audio': 'audio_8',\n",
      " 'description': 'Tocca i polipi',\n",
      " 'kind': '1F',\n",
      " 'type': '1FSUS',\n",
      " 'value': '1'}\n",
      "'1FSUS'\n",
      "<class 'str'>\n",
      "{'audio': 'audio_9',\n",
      " 'description': 'Tocca i gelati',\n",
      " 'kind': '1F',\n",
      " 'type': '1FSUS',\n",
      " 'value': '1'}\n",
      "'1FSUS'\n",
      "<class 'str'>\n",
      "{'audio': 'audio_10',\n",
      " 'description': 'Tocca i paia di occhiali da sole',\n",
      " 'kind': '1F',\n",
      " 'type': '1FSUS',\n",
      " 'value': '1'}\n",
      "'1FSUS'\n",
      "<class 'str'>\n",
      "{'audio': 'audio_11',\n",
      " 'description': 'Tocca le biciclette',\n",
      " 'kind': '1F',\n",
      " 'type': '1FSUS',\n",
      " 'value': '1'}\n",
      "'1FSUS'\n",
      "<class 'str'>\n",
      "{'audio': 'audio_12',\n",
      " 'description': 'Tocca i monopattini',\n",
      " 'kind': '1F',\n",
      " 'type': '1FSUS',\n",
      " 'value': '1'}\n",
      "'1FSUS'\n",
      "<class 'str'>\n",
      "{'audio': 'audio_13',\n",
      " 'description': 'Tocca gli ombrelli',\n",
      " 'kind': '1F',\n",
      " 'type': '1FSUS',\n",
      " 'value': '1'}\n",
      "'1FSUS'\n",
      "<class 'str'>\n",
      "{'audio': 'audio_14',\n",
      " 'description': 'Tocca le bambine',\n",
      " 'kind': '1F',\n",
      " 'type': '1FSUS',\n",
      " 'value': '1'}\n",
      "'1FSUS'\n",
      "<class 'str'>\n",
      "{'audio': 'audio_15',\n",
      " 'description': 'Tocca il bottone rosso e il bottone verde',\n",
      " 'kind': '1F',\n",
      " 'type': '1FSUD',\n",
      " 'value': '3'}\n",
      "'1FSUD'\n",
      "<class 'str'>\n",
      "{'audio': 'audio_16',\n",
      " 'description': 'Tocca il bottone rosso e il bottone giallo',\n",
      " 'kind': '1F',\n",
      " 'type': '1FSUD',\n",
      " 'value': '3'}\n",
      "'1FSUD'\n",
      "<class 'str'>\n",
      "{'audio': 'audio_17',\n",
      " 'description': 'Tocca il bottone rosso e il bottone blu',\n",
      " 'kind': '1F',\n",
      " 'type': '1FSUD',\n",
      " 'value': '3'}\n",
      "'1FSUD'\n",
      "<class 'str'>\n",
      "{'audio': 'audio_18',\n",
      " 'description': 'Tocca il bottone verde e il bottone blu',\n",
      " 'kind': '1F',\n",
      " 'type': '1FSUD',\n",
      " 'value': '3'}\n",
      "'1FSUD'\n",
      "<class 'str'>\n",
      "{'audio': 'audio_19',\n",
      " 'description': 'Tocca il bottone verde e il bottone giallo',\n",
      " 'kind': '1F',\n",
      " 'type': '1FSUD',\n",
      " 'value': '3'}\n",
      "'1FSUD'\n",
      "<class 'str'>\n",
      "{'audio': 'audio_20',\n",
      " 'description': 'Tocca il bottone gialloe il bottone blu',\n",
      " 'kind': '1F',\n",
      " 'type': '1FSUD',\n",
      " 'value': '3'}\n",
      "'1FSUD'\n",
      "<class 'str'>\n",
      "{'audio': 'audio_21',\n",
      " 'description': 'Tocca i leoni e le scimmie',\n",
      " 'kind': '1F',\n",
      " 'type': '1FSUD',\n",
      " 'value': '2'}\n",
      "'1FSUD'\n",
      "<class 'str'>\n"
     ]
    }
   ],
   "source": [
    "with open('./data/all_quests_pprint.csv','r') as fin:\n",
    "    dr = csv.DictReader(fin) # comma is default delimiter\n",
    "    row = next(dr)\n",
    "    pprint.pprint(row)\n",
    "    pprint.pprint(row['type'])\n",
    "    pprint.pprint(type(row['type']))\n",
    "\n",
    "    # First 20 rows\n",
    "    for i, row in enumerate(dr, 1):\n",
    "        pprint.pprint(row)\n",
    "        pprint.pprint(row['type'])\n",
    "        pprint.pprint(type(row['type']))\n",
    "        \n",
    "        if i >= 20:\n",
    "            break\n"
   ]
  },
  {
   "cell_type": "code",
   "execution_count": 33,
   "metadata": {},
   "outputs": [
    {
     "name": "stdout",
     "output_type": "stream",
     "text": [
      "('Joseph', 'Smith', 20, 'jjsmith@example.com')\n"
     ]
    }
   ],
   "source": [
    "\"\"\" Create PrettyPrinter object to print a tuple \"\"\"\n",
    "pretty_printer = pprint.PrettyPrinter()\n",
    "a_person = ('Joseph', 'Smith', 20, 'jjsmith@example.com')\n",
    "pretty_printer.pprint(a_person)"
   ]
  },
  {
   "cell_type": "markdown",
   "metadata": {},
   "source": [
    "<h2 style=\"color:darkorange\"> <u> Classes </u></h2>"
   ]
  },
  {
   "cell_type": "markdown",
   "metadata": {},
   "source": [
    "<h3 style=\"color:darkorange\"> Example #1 <u> </h3>"
   ]
  },
  {
   "cell_type": "code",
   "execution_count": 34,
   "metadata": {},
   "outputs": [],
   "source": [
    "def update_class(\n",
    "    main_class=None, exclude=(\"__module__\", \"__name__\", \"__dict__\", \"__weakref__\")):\n",
    "    \"\"\" Class decorator. Adds all methods and members from the wrapped class to main_class\n",
    "    \n",
    "    Parameters:\n",
    "        - main_class: class to which to append members. Defaults to the class with the same name as the wrapped class\n",
    "        - exclude: black-list of members which should not be copied\n",
    "    \"\"\"\n",
    "    def decorates(main_class, exclude, appended_class):\n",
    "        if main_class is None:\n",
    "            main_class = globals()[appended_class.__name__]\n",
    "        for k, v in appended_class.__dict__.items():\n",
    "            if k not in exclude:\n",
    "                setattr(main_class, k, v)\n",
    "        return main_class\n",
    "\n",
    "    return functools.partial(decorates, main_class, exclude)"
   ]
  },
  {
   "cell_type": "code",
   "execution_count": 35,
   "metadata": {},
   "outputs": [],
   "source": [
    "class Animal:\n",
    "    def __init__(self, name, age):\n",
    "        self.name = name\n",
    "        self.age = age\n",
    "\n",
    "    def __repr__(self):\n",
    "        return f\"My Animal name is  ('{self.name}', {self.age})\"\n",
    "\n",
    "    def __str__(self):\n",
    "        return f\"{self.name} ({self.age} years old)\"\n",
    "\n",
    "    def __lt__(self, other):\n",
    "        return self.age < other.age\n",
    "\n",
    "    def __le__(self, other):\n",
    "        return self.age <= other.age\n",
    "\n",
    "    def __gt__(self, other):\n",
    "        return self.age > other.age\n",
    "\n"
   ]
  },
  {
   "cell_type": "code",
   "execution_count": 36,
   "metadata": {},
   "outputs": [
    {
     "name": "stdout",
     "output_type": "stream",
     "text": [
      "Fuffy is eating.\n"
     ]
    }
   ],
   "source": [
    "@update_class(Animal)\n",
    "class Animal:\n",
    "    def __ge__(self, other):\n",
    "        return self.age >= other.age\n",
    "\n",
    "    def eat(self):\n",
    "        print(f\"{self.name} is eating.\")\n",
    "\n",
    "        \n",
    "dog1 = Animal(\"Fuffy\",5)\n",
    "dog1.eat()"
   ]
  },
  {
   "cell_type": "markdown",
   "metadata": {},
   "source": [
    "<h3 style=\"color:darkorange\"> Magic methods </h3>"
   ]
  },
  {
   "cell_type": "code",
   "execution_count": 37,
   "metadata": {},
   "outputs": [
    {
     "name": "stdout",
     "output_type": "stream",
     "text": [
      "Fuffy (5 years old)\n",
      "My Animal name is  ('Fuffy', 5)\n"
     ]
    }
   ],
   "source": [
    "# Exploiting __repr__ it is not possible if also __str__ is defined,\n",
    "# since Python will prioritize the __str__ method over the __repr__ method.\n",
    "print(dog1) \n",
    "print(repr(dog1)) "
   ]
  },
  {
   "cell_type": "markdown",
   "metadata": {},
   "source": [
    "Magic (dunder) methods are typically named with double underscores at the beginning and end, to make them distinct <br> from regular methods and to indicate their special purpose in the language. <br>\n",
    "1. **Convention with Python's Special Methods** \n",
    "2. **Prevent Name Clashes** \n",
    "3. **Consistency** \n",
    "4. **Readability** \n"
   ]
  },
  {
   "cell_type": "code",
   "execution_count": 38,
   "metadata": {},
   "outputs": [
    {
     "name": "stdout",
     "output_type": "stream",
     "text": [
      "Lion < Tiger: False\n",
      "Lion < Cheetah: True\n",
      "Tiger <= Cheetah: True\n",
      "Cheetah <= Lion: False\n",
      "Tiger > Cheetah: True\n",
      "Cheetah > Lion: False\n",
      "Tiger >= Cheetah: True\n",
      "Cheetah >= Lion: False\n"
     ]
    }
   ],
   "source": [
    "\"\"\" Comparing ages \"\"\"\n",
    "lion = Animal(\"Lion\", 5)\n",
    "tiger = Animal(\"Tiger\", 4)\n",
    "cheetah = Animal(\"Cheetah\", 6)\n",
    "\n",
    "# Using the __lt__ method for \"less than\" \n",
    "print(f\"{lion.name} < {tiger.name}: {lion < tiger}\") \n",
    "print(f\"{lion.name} < {cheetah.name}: {lion < cheetah}\")  \n",
    "\n",
    "# Using the __le__ method for \"less than or equal to\"\n",
    "print(f\"{tiger.name} <= {cheetah.name}: {tiger <= cheetah}\")\n",
    "print(f\"{cheetah.name} <= {lion.name}: {cheetah <= lion}\")\n",
    "\n",
    "# Using the __gt__ method for \"greater than\"\n",
    "print(f\"{tiger.name} > {cheetah.name}: {tiger <= cheetah}\")\n",
    "print(f\"{cheetah.name} > {lion.name}: {cheetah <= lion}\")\n",
    "\n",
    "# Using the __ge__ method for \"greater than or equal to\"\n",
    "print(f\"{tiger.name} >= {cheetah.name}: {tiger <= cheetah}\")\n",
    "print(f\"{cheetah.name} >= {lion.name}: {cheetah <= lion}\")"
   ]
  },
  {
   "cell_type": "code",
   "execution_count": 39,
   "metadata": {},
   "outputs": [],
   "source": [
    "\"\"\" Class inheritance \"\"\"\n",
    "class Dog(Animal):\n",
    "    def __init__(self, name, age, breed):\n",
    "        super().__init__(name, age)\n",
    "        self.breed = breed\n",
    "\n",
    "    def __str__(self):\n",
    "        \"\"\" magic method \"\"\"\n",
    "        return f\"{self.name} is a {self.breed} dog.\"\n",
    "\n",
    "    def description(self):\n",
    "        return f\"{self.name} is {self.age} years old and is a {self.breed}.\"\n",
    "\n",
    "    def speak(self, sound):\n",
    "        return f\"{self.name} says {sound}\""
   ]
  },
  {
   "cell_type": "code",
   "execution_count": 40,
   "metadata": {},
   "outputs": [],
   "source": [
    "@update_class(Dog)\n",
    "class Dog(Animal):\n",
    "    def move(self, speed):\n",
    "        return f\"{self.name} moves at {speed} mph.\"\n",
    "\n",
    "    def bark(self):\n",
    "        print(\"Woof woof!\")"
   ]
  },
  {
   "cell_type": "code",
   "execution_count": 41,
   "metadata": {},
   "outputs": [
    {
     "name": "stdout",
     "output_type": "stream",
     "text": [
      "Rex is a Labrador dog.\n",
      "Woof woof!\n",
      "Rex is eating.\n",
      "Rex is 5 years old and is a Labrador.\n",
      "Rex says Woof Woof\n",
      "Rex moves at 15 mph.\n"
     ]
    }
   ],
   "source": [
    "my_dog = Dog(\"Rex\", 5, \"Labrador\")\n",
    "\n",
    "# Calling __str__()\n",
    "print(my_dog)       \n",
    "my_dog.bark()\n",
    "\n",
    "# Calling inherited method\n",
    "my_dog.eat()        \n",
    "\n",
    "print(my_dog.description())\n",
    "print(my_dog.speak(\"Woof Woof\"))  \n",
    "print(my_dog.move(\"15\"))"
   ]
  },
  {
   "cell_type": "code",
   "execution_count": 42,
   "metadata": {},
   "outputs": [],
   "source": [
    "class PetDog(Dog):\n",
    "    def __init__(self, name, age, breed, owner):\n",
    "        super().__init__(name, age, breed)\n",
    "        self.owner = owner\n",
    "\n",
    "    def __format__(self, format_spec):\n",
    "        return f\"{self.owner}'s dog is named {self.name}\"\n",
    "\n",
    "my_dog = PetDog(\"Rex\", 10, \"Poodle\", \"Julio\")"
   ]
  },
  {
   "cell_type": "code",
   "execution_count": 43,
   "metadata": {},
   "outputs": [
    {
     "name": "stdout",
     "output_type": "stream",
     "text": [
      "Rex is a Poodle dog.\n"
     ]
    }
   ],
   "source": [
    "\"\"\" Decorator \"\"\"\n",
    "def printable(cls):\n",
    "    cls.print = lambda self: print(self)\n",
    "    return cls\n",
    "\n",
    "@printable\n",
    "class PetDog(Dog):\n",
    "    def __init__(self, name, age, breed, owner):\n",
    "        super().__init__(name, age, breed)\n",
    "        self.owner = owner\n",
    "\n",
    "    def __format__(self, format_spec):\n",
    "        return f\"{self.owner}'s dog is named {self.name}\"\n",
    "\n",
    "my_dog = PetDog(\"Rex\", 10, \"Poodle\", \"Julio\")\n",
    "my_dog.print()\n"
   ]
  },
  {
   "cell_type": "code",
   "execution_count": 44,
   "metadata": {},
   "outputs": [
    {
     "name": "stdout",
     "output_type": "stream",
     "text": [
      "This is a loud bark!\n"
     ]
    }
   ],
   "source": [
    "class Dog2(ABC):\n",
    "    @abstractmethod\n",
    "    def bark(self):\n",
    "      pass\n",
    "\n",
    "class GermanShepherd(Dog2):\n",
    "    def bark(self):\n",
    "      print(\"This is a loud bark!\")\n",
    "\n",
    "my_dog = GermanShepherd()\n",
    "my_dog.bark()"
   ]
  },
  {
   "cell_type": "code",
   "execution_count": 50,
   "metadata": {},
   "outputs": [
    {
     "name": "stdout",
     "output_type": "stream",
     "text": [
      "Linzi\n",
      "Jessica\n",
      "All puppies are cute\n"
     ]
    }
   ],
   "source": [
    "\"\"\" Properties \"\"\"\n",
    "\n",
    "class Puppy(PetDog):\n",
    "    def __init__(self, name, age, breed, owner, nature):\n",
    "        super().__init__(name, age, breed, owner)\n",
    "        self.nature = nature\n",
    "    \n",
    "    @property\n",
    "    def nature(self):\n",
    "      return self._nature\n",
    "    @nature.setter\n",
    "    def nature(self, value):\n",
    "      self._nature = value\n",
    "    @staticmethod\n",
    "    def info():\n",
    "        print(\"All puppies are cute\") \n",
    "\n",
    "your_dog = Puppy(\"Linzi\", 1, \"Bulldog\", \"Clare\", 'tame')\n",
    "\n",
    "print(your_dog.name)\n",
    "your_dog.name = \"Jessica\"\n",
    "print(your_dog.name)\n",
    "your_dog.info()"
   ]
  },
  {
   "cell_type": "code",
   "execution_count": 51,
   "metadata": {},
   "outputs": [
    {
     "name": "stdout",
     "output_type": "stream",
     "text": [
      "Jessica is now sleeping.\n"
     ]
    }
   ],
   "source": [
    "\"\"\" Modify a class without subclassing or changing the original definition \"\"\"\n",
    "\n",
    "# Define a function that adds a new method to the existing class Puppy\n",
    "def sleep(self):\n",
    "    return f\"{self.name} is now sleeping.\"\n",
    "\n",
    "# Add the new method to Puppy\n",
    "Puppy.sleep = sleep\n",
    "\n",
    "print(your_dog.sleep())"
   ]
  },
  {
   "cell_type": "code",
   "execution_count": 52,
   "metadata": {},
   "outputs": [
    {
     "name": "stdout",
     "output_type": "stream",
     "text": [
      "Hyena\n",
      "5\n"
     ]
    }
   ],
   "source": [
    "\"\"\" Add attributes => dynamically! \"\"\"\n",
    "class Animal:\n",
    "    pass\n",
    "\n",
    "# Create an instance of the Animal class\n",
    "animal = Animal()\n",
    "animal.name = \"Hyena\"\n",
    "animal.age = 5\n",
    "\n",
    "print(animal.name)  \n",
    "print(animal.age)   "
   ]
  },
  {
   "cell_type": "markdown",
   "metadata": {},
   "source": [
    "<h3 style=\"color:darkorange\"> Example #2 </h3>"
   ]
  },
  {
   "cell_type": "code",
   "execution_count": 53,
   "metadata": {},
   "outputs": [],
   "source": [
    "class Car:\n",
    "    def __init__(self, make, model, year, **kwargs):\n",
    "        self.make = make\n",
    "        self.model = model\n",
    "        self.year = year\n",
    "        self.options = kwargs\n",
    "        self.mileage = 0  \n",
    "        self.is_running = False \n",
    "    \n",
    "    def get_info(self):\n",
    "        info = f\"{self.year} {self.make} {self.model}\"\n",
    "        if self.options:\n",
    "            info += \" with the following options:\\n\"\n",
    "            for option, value in self.options.items():\n",
    "                info += f\"- {option}: {value}\\n\"\n",
    "        else:\n",
    "            info += \" with no options.\"\n",
    "        return info\n",
    "\n",
    "    def start(self):\n",
    "        if not self.is_running:\n",
    "            print(f\"{self.make} {self.model} of {self.year} is starting.\")\n",
    "            self.is_running = True\n",
    "        else:\n",
    "            print(f\"{self.make} {self.model} of {self.year} is already running.\")\n",
    "\n",
    "    def stop(self):\n",
    "        if self.is_running:\n",
    "            print(f\"{self.make} {self.model} is stopping.\")\n",
    "            self.is_running = False\n",
    "        else:\n",
    "            print(f\"{self.make} {self.model} is already stopped.\")\n",
    "\n",
    "    def drive(self, miles):\n",
    "        if self.is_running:\n",
    "            self.mileage += miles\n",
    "            print(f\"{self.year} {self.make} {self.model} has been driven for {miles} miles.\")\n",
    "        else:\n",
    "            print(f\"{self.year} {self.make} {self.model} cannot be driven because it's not running.\")\n"
   ]
  },
  {
   "cell_type": "code",
   "execution_count": 54,
   "metadata": {},
   "outputs": [
    {
     "name": "stdout",
     "output_type": "stream",
     "text": [
      "2010 Ford Fiesta with no options.\n",
      "2022 Toyota Corolla with the following options:\n",
      "- color: red\n",
      "- transmission: automatic\n",
      "- sunroof: True\n",
      "\n",
      "Ford Fiesta of 2010 is starting.\n",
      "2010 Ford Fiesta has been driven for 50 miles.\n",
      "Ford Fiesta is stopping.\n",
      "Toyota Corolla of 2022 is starting.\n",
      "2022 Toyota Corolla has been driven for 100 miles.\n",
      "Toyota Corolla is stopping.\n",
      "2010 Ford Fiesta mileage so far: 50 miles\n",
      "2022 Toyota Corolla mileage so far: 100 miles\n"
     ]
    }
   ],
   "source": [
    "my_car1 = Car(\"Ford\", \"Fiesta\", 2010)\n",
    "my_car2 = Car(\"Toyota\", \"Corolla\", 2022, color=\"red\", transmission=\"automatic\", sunroof=True)\n",
    "print(my_car1.get_info())\n",
    "print(my_car2.get_info())\n",
    "\n",
    "my_car1.start()\n",
    "my_car1.drive(50)\n",
    "my_car1.stop()\n",
    "\n",
    "my_car2.start()\n",
    "my_car2.drive(100)\n",
    "my_car2.stop()\n",
    "\n",
    "# Check mileage\n",
    "print(f\"{my_car1.year} {my_car1.make} {my_car1.model} mileage so far: {my_car1.mileage} miles\")\n",
    "print(f\"{my_car2.year} {my_car2.make} {my_car2.model} mileage so far: {my_car2.mileage} miles\")\n"
   ]
  },
  {
   "cell_type": "markdown",
   "metadata": {},
   "source": [
    "<h2 style=\"color:darkorange\"> <u> Lambda functions </u> </h2>"
   ]
  },
  {
   "cell_type": "code",
   "execution_count": 55,
   "metadata": {},
   "outputs": [
    {
     "data": {
      "text/plain": [
       "5"
      ]
     },
     "execution_count": 55,
     "metadata": {},
     "output_type": "execute_result"
    }
   ],
   "source": [
    "add = lambda x, y: x + y\n",
    "add(2, 3)"
   ]
  },
  {
   "cell_type": "code",
   "execution_count": 56,
   "metadata": {},
   "outputs": [
    {
     "name": "stdout",
     "output_type": "stream",
     "text": [
      "13\n"
     ]
    }
   ],
   "source": [
    "x = 10\n",
    "func = lambda y: x + y \n",
    "print(func(3))"
   ]
  },
  {
   "cell_type": "code",
   "execution_count": 57,
   "metadata": {},
   "outputs": [
    {
     "name": "stdout",
     "output_type": "stream",
     "text": [
      "[4, 8, 12, 16]\n"
     ]
    }
   ],
   "source": [
    "## Map list\n",
    "nums = [2, 4, 6, 8]\n",
    "doubled = map(lambda x: x*2, nums)\n",
    "print(list(doubled))"
   ]
  },
  {
   "cell_type": "code",
   "execution_count": 58,
   "metadata": {},
   "outputs": [
    {
     "name": "stdout",
     "output_type": "stream",
     "text": [
      "[1, 2]\n"
     ]
    }
   ],
   "source": [
    "## Map dict\n",
    "d = {'a': 1, 'b': 2} \n",
    "vals = map(lambda x: x[1], d.items())\n",
    "print(list(vals))"
   ]
  },
  {
   "cell_type": "code",
   "execution_count": 59,
   "metadata": {},
   "outputs": [
    {
     "name": "stdout",
     "output_type": "stream",
     "text": [
      "[92, 84, 56]\n"
     ]
    }
   ],
   "source": [
    "## Filter\n",
    "to_filter = [61, 92, 73, 84, 5, 56]\n",
    "evens = filter(lambda x: x%2 == 0, to_filter)\n",
    "print(list(evens))"
   ]
  },
  {
   "cell_type": "code",
   "execution_count": 60,
   "metadata": {},
   "outputs": [
    {
     "data": {
      "text/plain": [
       "[22, 44, 66]"
      ]
     },
     "execution_count": 60,
     "metadata": {},
     "output_type": "execute_result"
    }
   ],
   "source": [
    "## Double\n",
    "to_double = [11, 22, 33]\n",
    "doubled = map(lambda x: x*2, to_double) \n",
    "list(doubled)"
   ]
  },
  {
   "cell_type": "code",
   "execution_count": 61,
   "metadata": {},
   "outputs": [
    {
     "name": "stdout",
     "output_type": "stream",
     "text": [
      "6\n"
     ]
    }
   ],
   "source": [
    "# Multivariate\n",
    "f = lambda x, y, z: x + y + z\n",
    "print(f(1, 2, 3))"
   ]
  },
  {
   "cell_type": "code",
   "execution_count": 62,
   "metadata": {},
   "outputs": [
    {
     "data": {
      "text/plain": [
       "(True, True)"
      ]
     },
     "execution_count": 62,
     "metadata": {},
     "output_type": "execute_result"
    }
   ],
   "source": [
    "nn = [1, 2, 3]\n",
    "an = any(x > 2 for x in nn)\n",
    "al = all(x > 0 for x in nn)\n",
    "an, al"
   ]
  },
  {
   "cell_type": "code",
   "execution_count": 63,
   "metadata": {},
   "outputs": [
    {
     "name": "stdout",
     "output_type": "stream",
     "text": [
      "[(2, 1), (1, 2), (3, 4)]\n",
      "[(1, 'b'), (2, 'a'), (4, 'c')]\n"
     ]
    }
   ],
   "source": [
    "\"\"\" Sorting \"\"\"\n",
    "p1 = [(1, 2), (3, 4), (2, 1)]\n",
    "p2 = [(2, 'a'), (1, 'b'), (4, 'c')]\n",
    "\n",
    "p1.sort(key=lambda x: x[1]) \n",
    "p2.sort(key=lambda x: x[0])\n",
    "\n",
    "print(p1)\n",
    "print(p2)"
   ]
  },
  {
   "cell_type": "code",
   "execution_count": 64,
   "metadata": {},
   "outputs": [
    {
     "data": {
      "text/plain": [
       "(27, 32)"
      ]
     },
     "execution_count": 64,
     "metadata": {},
     "output_type": "execute_result"
    }
   ],
   "source": [
    "\"\"\" Lambda Inside functions \"\"\"\n",
    "def do_multip(x):\n",
    "  return lambda y: x * y\n",
    "\n",
    "def do_power(n, p):\n",
    "    return lambda x: x**p\n",
    "\n",
    "x = 12\n",
    "cube = do_power(2, 3)\n",
    "mult = do_multip(4) \n",
    "cube(3), mult(8)"
   ]
  },
  {
   "cell_type": "code",
   "execution_count": 65,
   "metadata": {},
   "outputs": [
    {
     "data": {
      "text/plain": [
       "'Low'"
      ]
     },
     "execution_count": 65,
     "metadata": {},
     "output_type": "execute_result"
    }
   ],
   "source": [
    "f = lambda x: \"High\" if x > 100 else \"Low\"\n",
    "f(5)"
   ]
  },
  {
   "cell_type": "code",
   "execution_count": 66,
   "metadata": {},
   "outputs": [
    {
     "name": "stdout",
     "output_type": "stream",
     "text": [
      "6\n"
     ]
    }
   ],
   "source": [
    "\"\"\" List comprehension \"\"\"\n",
    "values = [1, 2, 3, 4]\n",
    "doubled = [lambda x: x*2 for x in values]\n",
    "print(doubled[0](3))"
   ]
  },
  {
   "cell_type": "code",
   "execution_count": 67,
   "metadata": {},
   "outputs": [
    {
     "data": {
      "text/plain": [
       "81.2"
      ]
     },
     "execution_count": 67,
     "metadata": {},
     "output_type": "execute_result"
    }
   ],
   "source": [
    "\"\"\" Reduce \"\"\"\n",
    "nums = [3.1, 3.7, 5.4, 69]  \n",
    "sum_is = functools.reduce(lambda x, y: x+y, nums)\n",
    "sum_is"
   ]
  },
  {
   "cell_type": "code",
   "execution_count": 68,
   "metadata": {},
   "outputs": [
    {
     "name": "stdout",
     "output_type": "stream",
     "text": [
      "2160\n"
     ]
    }
   ],
   "source": [
    "\"\"\" Callbacks \"\"\" \n",
    "def a_proc(callback):\n",
    "    print(callback(432))\n",
    "\n",
    "f = lambda x: x * 5\n",
    "a_proc(f)"
   ]
  },
  {
   "cell_type": "code",
   "execution_count": 69,
   "metadata": {},
   "outputs": [
    {
     "name": "stdout",
     "output_type": "stream",
     "text": [
      "8\n"
     ]
    }
   ],
   "source": [
    "\"\"\" Recursion \"\"\" \n",
    "fib = lambda n: n if n <= 1 else fib(n-1) + fib(n-2)\n",
    "print(fib(6))"
   ]
  },
  {
   "cell_type": "code",
   "execution_count": 70,
   "metadata": {},
   "outputs": [
    {
     "name": "stdout",
     "output_type": "stream",
     "text": [
      "4\n"
     ]
    }
   ],
   "source": [
    "\"\"\" Nested lambdas \"\"\"\n",
    "f = lambda x: lambda: x * x\n",
    "sq = f(2)\n",
    "print(sq())"
   ]
  },
  {
   "cell_type": "code",
   "execution_count": 71,
   "metadata": {},
   "outputs": [
    {
     "name": "stdout",
     "output_type": "stream",
     "text": [
      "Are you human?\n"
     ]
    }
   ],
   "source": [
    "\"\"\" Use lambda as function argument \"\"\"\n",
    "def exec(func):\n",
    "    print(func())\n",
    "exec(lambda: \"Are you human?\")"
   ]
  },
  {
   "cell_type": "markdown",
   "metadata": {},
   "source": [
    "<h2 style=\"color:darkorange\"> <u> Functools </u> </h2>"
   ]
  },
  {
   "cell_type": "code",
   "execution_count": 72,
   "metadata": {},
   "outputs": [
    {
     "data": {
      "text/plain": [
       "6"
      ]
     },
     "execution_count": 72,
     "metadata": {},
     "output_type": "execute_result"
    }
   ],
   "source": [
    "def func(a, b, c):\n",
    "  return a + b + c\n",
    "\n",
    "part_func = functools.partial(func, 1, 2)\n",
    "part_func(3)"
   ]
  },
  {
   "cell_type": "code",
   "execution_count": 73,
   "metadata": {},
   "outputs": [
    {
     "data": {
      "text/plain": [
       "55"
      ]
     },
     "execution_count": 73,
     "metadata": {},
     "output_type": "execute_result"
    }
   ],
   "source": [
    "\"\"\" Last recently used decorator \"\"\"\n",
    "@functools.lru_cache(maxsize=None)\n",
    "def fibo(n):\n",
    "    if n < 2:\n",
    "        return n\n",
    "    return fibo(n-1) + fibo(n-2)\n",
    "\n",
    "fibo(10)"
   ]
  },
  {
   "cell_type": "code",
   "execution_count": 74,
   "metadata": {},
   "outputs": [
    {
     "name": "stdout",
     "output_type": "stream",
     "text": [
      "['Paolo', 'Stefano', 'Luca']\n"
     ]
    }
   ],
   "source": [
    "\"\"\" Compare. \n",
    "N.B.\n",
    "cmp to key() => converts a key function from an old-style comparison any callable with 2 parameters.\n",
    "It compares the inputs and returns a negative number for less-than zero for equality, \n",
    "or a positive number for greater-than is referred to as a comparison function. \n",
    "\"\"\"\n",
    "class Person:\n",
    "    def __init__(self, name, age):\n",
    "        self.name = name\n",
    "        self.age = age\n",
    "\n",
    "def compare_persons(p1, p2):\n",
    "    if p1.age < p2.age:\n",
    "        return -1\n",
    "    elif p1.age > p2.age:\n",
    "        return 1\n",
    "    else:\n",
    "        return 0\n",
    "\n",
    "p1 = Person(\"Stefano\", 20)\n",
    "p2 = Person(\"Paolo\", 18)\n",
    "p3 = Person(\"Luca\", 22)\n",
    "\n",
    "persons = [p1, p2, p3]\n",
    "\n",
    "sorted_persons = sorted(persons, key=functools.cmp_to_key(compare_persons)) \n",
    "\n",
    "print([p.name for p in sorted_persons])"
   ]
  },
  {
   "cell_type": "code",
   "execution_count": 75,
   "metadata": {},
   "outputs": [
    {
     "name": "stdout",
     "output_type": "stream",
     "text": [
      "Function fibonacci took 0.004904031753540039 seconds\n",
      "6765\n",
      "wrapper  Profile execution time \n",
      "fibonacci  Returns nth Fibonacci number \n"
     ]
    }
   ],
   "source": [
    "\"\"\" Update wrapper.\n",
    "It makes a wrapper function's metadata look like the wrapped function. \n",
    "N.B.\n",
    "import time inside function!\n",
    "\"\"\"\n",
    "\n",
    "def profile(func):\n",
    "    \"\"\" Define profile decorator \"\"\"\n",
    "    def wrapper(*args, **kwargs):\n",
    "        \"\"\" Profile execution time \"\"\"\n",
    "        import time\n",
    "        \n",
    "        start = time.time()\n",
    "        # Call original function\n",
    "        result = func(*args, **kwargs)\n",
    "        end = time.time()\n",
    "        print(f\"Function {func.__name__} took {end-start} seconds\")\n",
    "        return result\n",
    "    return wrapper\n",
    "\n",
    "def fibonacci(n):\n",
    "    \"\"\" Returns nth Fibonacci number \"\"\"\n",
    "    if n < 2: \n",
    "        return n\n",
    "    return fibonacci(n-1) + fibonacci(n-2)\n",
    "\n",
    "# Decorate fibonacci with profile  \n",
    "decorated = profile(fibonacci)\n",
    "print(decorated(20))\n",
    "# Name and docstring of wrapper\n",
    "print(decorated.__name__, decorated.__doc__)\n",
    "# Update wrapper function metadata \n",
    "functools.update_wrapper(decorated, fibonacci)\n",
    "# Original function's metadata\n",
    "print(decorated.__name__, decorated.__doc__)"
   ]
  },
  {
   "cell_type": "code",
   "execution_count": 76,
   "metadata": {},
   "outputs": [
    {
     "name": "stdout",
     "output_type": "stream",
     "text": [
      "Calling add\n",
      "15\n",
      "add\n"
     ]
    }
   ],
   "source": [
    "\"\"\" Wrap\n",
    "=> same as calling partial(update wrapper, wrapped=wrapped, assigned=assigned, updated=updated, wrapped=wrapped).\n",
    "\"\"\"\n",
    "def log_call(func):\n",
    "  @functools.wraps(func)\n",
    "  def wrapper(*args, **kwargs):\n",
    "    print(f\"Calling {func.__name__}\")  \n",
    "    return func(*args, **kwargs)\n",
    "  return wrapper\n",
    "\n",
    "@log_call\n",
    "def add(x, y):\n",
    "  return x + y\n",
    "\n",
    "add5 = functools.partial(add, 5)\n",
    "\n",
    "print(add5(10)) \n",
    "print(add5.func.__name__)"
   ]
  }
 ],
 "metadata": {
  "kernelspec": {
   "display_name": "MLearning",
   "language": "python",
   "name": "python3"
  },
  "language_info": {
   "codemirror_mode": {
    "name": "ipython",
    "version": 3
   },
   "file_extension": ".py",
   "mimetype": "text/x-python",
   "name": "python",
   "nbconvert_exporter": "python",
   "pygments_lexer": "ipython3",
   "version": "3.10.9"
  },
  "orig_nbformat": 4
 },
 "nbformat": 4,
 "nbformat_minor": 2
}
