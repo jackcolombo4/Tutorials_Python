{
 "cells": [
  {
   "attachments": {},
   "cell_type": "markdown",
   "metadata": {},
   "source": [
    "<div style=\"line-height:0.3\">\n",
    "<h1 style=\"color:purple\"> Sort list  </h1>\n",
    "<h4> Various sorting algorithms in Python </h4>\n",
    "</div>"
   ]
  },
  {
   "cell_type": "code",
   "execution_count": 2,
   "metadata": {},
   "outputs": [],
   "source": [
    "import timeit"
   ]
  },
  {
   "cell_type": "code",
   "execution_count": 3,
   "metadata": {},
   "outputs": [
    {
     "name": "stdout",
     "output_type": "stream",
     "text": [
      "[[1, 21], [3, 53], [3, 665], [6, 42], [7, 3], [8, 3], [23, 45], [54, 13], [65, 43]]\n"
     ]
    }
   ],
   "source": [
    "lst = [[1,21],[7,3],[54,13],[23,45],[65,43],[3,665],[3,53],[6,42],[8,3]]\n",
    "lst.sort()\n",
    "s1 = sorted(lst)\n",
    "print(s1)"
   ]
  },
  {
   "cell_type": "code",
   "execution_count": 4,
   "metadata": {},
   "outputs": [
    {
     "name": "stdout",
     "output_type": "stream",
     "text": [
      "[[7, 3], [8, 3], [1, 21], [6, 42], [3, 53], [54, 13], [23, 45], [65, 43], [3, 665]]\n"
     ]
    }
   ],
   "source": [
    "lst.sort(key=lambda x: x[1] + x[0])\n",
    "print(lst)"
   ]
  },
  {
   "cell_type": "code",
   "execution_count": 5,
   "metadata": {},
   "outputs": [
    {
     "name": "stdout",
     "output_type": "stream",
     "text": [
      "[[7, 3], [8, 3], [1, 21], [6, 42], [3, 53], [54, 13], [23, 45], [65, 43], [3, 665]]\n"
     ]
    }
   ],
   "source": [
    "def sort_new(x):\n",
    "    return x[1] + x[0]\n",
    "\n",
    "lst.sort(key=sort_new)\n",
    "print(lst)"
   ]
  },
  {
   "cell_type": "code",
   "execution_count": 6,
   "metadata": {},
   "outputs": [],
   "source": [
    "def bubblesort(elements, aa):\n",
    "\t\"\"\" Bubblesort implementation. \"\"\"\n",
    "\t# Loop from size of array from last index[-1] to index [0]\n",
    "\tfor n in range(len(elements)-1, 0, -1):\n",
    "\t\tfor i in range(n):\n",
    "\t\t\tif elements[i] > elements[i + 1]:\n",
    "\t\t\t\t# Swap data if the element is less than next element in the array\n",
    "\t\t\t\telements[i], elements[i + 1] = elements[i + 1], elements[i]\n",
    "\t\t\t\taa[i], aa[i + 1] = aa[i + 1], aa[i]\n",
    "\t\t\n",
    "def bubblesort_inv(elements, aa):\n",
    "\t\"\"\" Inverse Bubblesort implementation. \"\"\"\n",
    "\t# Loop from size of array from last index[-1] to index [0]\n",
    "\tfor n in range(len(elements)-1, 0, -1):\n",
    "\t\tfor i in range(n):\n",
    "\t\t\tif elements[i] < elements[i + 1]:\n",
    "\t\t\t\t# Swap data if the element is less than next element in the array\n",
    "\t\t\t\telements[i], elements[i + 1] = elements[i + 1], elements[i]\n",
    "\t\t\t\taa[i], aa[i + 1] = aa[i + 1], aa[i]"
   ]
  },
  {
   "cell_type": "code",
   "execution_count": 7,
   "metadata": {},
   "outputs": [
    {
     "name": "stdout",
     "output_type": "stream",
     "text": [
      "['e', 'd', 'c', 'b', 'a']\n",
      "Unsorted list is,\n",
      "[1, 3, 52, 2, 34]\n",
      "Sorted Array is, \n",
      "[52, 34, 3, 2, 1]\n",
      "['c', 'e', 'b', 'd', 'a']\n"
     ]
    }
   ],
   "source": [
    "audio_q = ['a','b','c','d','e']\n",
    "values_q = [1,3,52,2,34]\n",
    "aa = sorted(audio_q, reverse=True)\n",
    "print(aa)\n",
    "\n",
    "print(\"Unsorted list is,\") \n",
    "print(values_q)\n",
    "bubblesort_inv(values_q, audio_q)\n",
    "print(\"Sorted Array is, \")\n",
    "print(values_q)\n",
    "print(audio_q)"
   ]
  },
  {
   "cell_type": "code",
   "execution_count": 8,
   "metadata": {},
   "outputs": [],
   "source": [
    "\"\"\" Strings \"\"\"\n",
    "def sort_string(string):\n",
    "    sorted_string = ''.join(sorted(string))\n",
    "    return sorted_string\n",
    "\n",
    "def sort_string2(string):\n",
    "    sorted_string = ''.join(sorted(string, key=lambda x: ord(x)))\n",
    "    return sorted_string\n",
    "\n",
    "def sort_string3(string):\n",
    "    char_list = list(string)\n",
    "    char_list.sort()\n",
    "    sorted_string = ''.join(char_list)\n",
    "    return sorted_string"
   ]
  },
  {
   "cell_type": "code",
   "execution_count": 9,
   "metadata": {},
   "outputs": [
    {
     "data": {
      "text/plain": [
       "'_dehiorrst'"
      ]
     },
     "execution_count": 9,
     "metadata": {},
     "output_type": "execute_result"
    }
   ],
   "source": [
    "input_string = \"order_this\"\n",
    "sorted_string = sort_string(input_string)\n",
    "sorted_string"
   ]
  },
  {
   "cell_type": "code",
   "execution_count": 10,
   "metadata": {},
   "outputs": [
    {
     "data": {
      "text/plain": [
       "'!_cdeginnorsst'"
      ]
     },
     "execution_count": 10,
     "metadata": {},
     "output_type": "execute_result"
    }
   ],
   "source": [
    "input_string = \"second_string!\"\n",
    "sorted_string = sort_string2(input_string)\n",
    "sorted_string"
   ]
  },
  {
   "cell_type": "code",
   "execution_count": 11,
   "metadata": {},
   "outputs": [
    {
     "data": {
      "text/plain": [
       "'_dhikort'"
      ]
     },
     "execution_count": 11,
     "metadata": {},
     "output_type": "execute_result"
    }
   ],
   "source": [
    "input_string = \"third_ok\"\n",
    "sorted_string = sort_string3(input_string)\n",
    "sorted_string"
   ]
  },
  {
   "cell_type": "code",
   "execution_count": 12,
   "metadata": {},
   "outputs": [],
   "source": [
    "def selection_sort_int(arr):\n",
    "    n = len(arr)\n",
    "    for i in range(n):\n",
    "        min_idx = i\n",
    "        for j in range(i+1, n):\n",
    "            if arr[j] < arr[min_idx]:\n",
    "                min_idx = j\n",
    "        arr[i], arr[min_idx] = arr[min_idx], arr[i]"
   ]
  },
  {
   "cell_type": "code",
   "execution_count": 13,
   "metadata": {},
   "outputs": [],
   "source": [
    "def bubble_sort_int(arr):\n",
    "    n = len(arr)\n",
    "    for i in range(n):\n",
    "        for j in range(0, n-i-1):\n",
    "            if arr[j] > arr[j+1]:\n",
    "                arr[j], arr[j+1] = arr[j+1], arr[j]"
   ]
  },
  {
   "cell_type": "code",
   "execution_count": 14,
   "metadata": {},
   "outputs": [],
   "source": [
    "def insertion_sort_int(arr):\n",
    "    for i in range(1, len(arr)):\n",
    "        key = arr[i]\n",
    "        j = i - 1\n",
    "        while j >= 0 and arr[j] > key:\n",
    "            arr[j + 1] = arr[j]\n",
    "            j -= 1\n",
    "        arr[j + 1] = key"
   ]
  },
  {
   "cell_type": "code",
   "execution_count": 15,
   "metadata": {},
   "outputs": [],
   "source": [
    "def merge_sort_int(arr):\n",
    "    if len(arr) > 1:\n",
    "        mid = len(arr) // 2\n",
    "        left_half = arr[:mid]\n",
    "        right_half = arr[mid:]\n",
    "\n",
    "        merge_sort_int(left_half)\n",
    "        merge_sort_int(right_half)\n",
    "\n",
    "        i = j = k = 0\n",
    "\n",
    "        while i < len(left_half) and j < len(right_half):\n",
    "            if left_half[i] < right_half[j]:\n",
    "                arr[k] = left_half[i]\n",
    "                i += 1\n",
    "            else:\n",
    "                arr[k] = right_half[j]\n",
    "                j += 1\n",
    "            k += 1\n",
    "\n",
    "        while i < len(left_half):\n",
    "            arr[k] = left_half[i]\n",
    "            i += 1\n",
    "            k += 1\n",
    "\n",
    "        while j < len(right_half):\n",
    "            arr[k] = right_half[j]\n",
    "            j += 1\n",
    "            k += 1"
   ]
  },
  {
   "cell_type": "code",
   "execution_count": 16,
   "metadata": {},
   "outputs": [],
   "source": [
    "def quick_sort_int(arr):\n",
    "    if len(arr) <= 1:\n",
    "        return arr\n",
    "\n",
    "    pivot = arr[len(arr) // 2]\n",
    "    left = [x for x in arr if x < pivot]\n",
    "    middle = [x for x in arr if x == pivot]\n",
    "    right = [x for x in arr if x > pivot]\n",
    "\n",
    "    return quick_sort_int(left) + middle + quick_sort_int(right)"
   ]
  },
  {
   "cell_type": "code",
   "execution_count": null,
   "metadata": {},
   "outputs": [],
   "source": [
    "def heapify(arr, n, i):\n",
    "    largest = i\n",
    "    left = 2 * i + 1\n",
    "    right = 2 * i + 2\n",
    "\n",
    "    if left < n and arr[i] < arr[left]:\n",
    "        largest = left\n",
    "\n",
    "    if right < n and arr[largest] < arr[right]:\n",
    "        largest = right\n",
    "\n",
    "    if largest != i:\n",
    "        arr[i], arr[largest] = arr[largest], arr[i]\n",
    "        heapify(arr, n, largest)"
   ]
  },
  {
   "cell_type": "code",
   "execution_count": 17,
   "metadata": {},
   "outputs": [],
   "source": [
    "def heap_sort(arr):\n",
    "    n = len(arr)\n",
    "\n",
    "    for i in range(n // 2 - 1, -1, -1):\n",
    "        heapify(arr, n, i)\n",
    "\n",
    "    for i in range(n - 1, 0, -1):\n",
    "        arr[i], arr[0] = arr[0], arr[i]\n",
    "        heapify(arr, i, 0)"
   ]
  },
  {
   "cell_type": "code",
   "execution_count": 18,
   "metadata": {},
   "outputs": [],
   "source": [
    "def shell_sort_int(arr):\n",
    "    n = len(arr)\n",
    "    gap = n // 2\n",
    "\n",
    "    while gap > 0:\n",
    "        for i in range(gap, n):\n",
    "            temp = arr[i]\n",
    "            j = i\n",
    "            while j >= gap and arr[j - gap] > temp:\n",
    "                arr[j] = arr[j - gap]\n",
    "                j -= gap\n",
    "            arr[j] = temp\n",
    "        gap //= 2"
   ]
  },
  {
   "cell_type": "code",
   "execution_count": 19,
   "metadata": {},
   "outputs": [],
   "source": [
    "def counting_sort_int(arr):\n",
    "    max_val = max(arr)\n",
    "    min_val = min(arr)\n",
    "    counting_range = max_val - min_val + 1\n",
    "    counting_array = [0] * counting_range\n",
    "\n",
    "    for num in arr:\n",
    "        counting_array[num - min_val] += 1\n",
    "\n",
    "    index = 0\n",
    "    for i in range(counting_range):\n",
    "        while counting_array[i] > 0:\n",
    "            arr[index] = i + min_val\n",
    "            index += 1\n",
    "            counting_array[i] -= 1"
   ]
  },
  {
   "cell_type": "code",
   "execution_count": 20,
   "metadata": {},
   "outputs": [],
   "source": [
    "def counting_sort_radix_int(arr, exp):\n",
    "    n = len(arr)\n",
    "    output = [0] * n\n",
    "    counting_array = [0] * 10\n",
    "\n",
    "    for i in range(n):\n",
    "        index = arr[i] // exp\n",
    "        counting_array[index % 10] += 1\n",
    "\n",
    "    for i in range(1, 10):\n",
    "        counting_array[i] += counting_array[i - 1]\n",
    "\n",
    "    i = n - 1\n",
    "    while i >= 0:\n",
    "        index = arr[i] // exp\n",
    "        output[counting_array[index % 10] - 1] = arr[i]\n",
    "        counting_array[index % 10] -= 1\n",
    "        i -= 1\n",
    "\n",
    "    for i in range(n):\n",
    "        arr[i] = output[i]\n",
    "\n",
    "def radix_sort_int(arr):\n",
    "    max_val = max(arr)\n",
    "    exp = 1\n",
    "    while max_val // exp > 0:\n",
    "        counting_sort_radix_int(arr, exp)\n",
    "        exp *= 10"
   ]
  },
  {
   "cell_type": "markdown",
   "metadata": {},
   "source": [
    "<h2 style=\"color:purple\"> Main #1 </h2>"
   ]
  },
  {
   "cell_type": "code",
   "execution_count": 33,
   "metadata": {},
   "outputs": [
    {
     "name": "stdout",
     "output_type": "stream",
     "text": [
      "Bubble Sort: [1, 5, 11, 12, 14, 22, 22, 25, 32, 32, 34, 34, 64, 65, 78, 80, 90, 92, 231]\n",
      "Selection Sort: [1, 5, 11, 12, 14, 22, 22, 25, 32, 32, 34, 34, 64, 65, 78, 80, 90, 92, 231]\n",
      "Insertion Sort: [1, 5, 11, 12, 14, 22, 22, 25, 32, 32, 34, 34, 64, 65, 78, 80, 90, 92, 231]\n",
      "Merge Sort: [1, 5, 11, 12, 14, 22, 22, 25, 32, 32, 34, 34, 64, 65, 78, 80, 90, 92, 231]\n",
      "Quick Sort: [64, 34, 25, 12, 22, 11, 90, 14, 231, 22, 32, 5, 80, 92, 32, 34, 1, 65, 78]\n",
      "Heap Sort: [1, 5, 11, 12, 14, 22, 22, 25, 32, 32, 34, 34, 64, 65, 78, 80, 90, 92, 231]\n",
      "Shell Sort: [1, 5, 11, 12, 14, 22, 22, 25, 32, 32, 34, 34, 64, 65, 78, 80, 90, 92, 231]\n",
      "Counting Sort: [1, 5, 11, 12, 14, 22, 22, 25, 32, 32, 34, 34, 64, 65, 78, 80, 90, 92, 231]\n",
      "Radix Sort: [1, 5, 11, 12, 14, 22, 22, 25, 32, 32, 34, 34, 64, 65, 78, 80, 90, 92, 231]\n"
     ]
    }
   ],
   "source": [
    "arr = [64, 34, 25, 12, 22, 11, 90, 14, 231, 22, 32, 5, 80, 92, 32, 34, 1, 65, 78]\n",
    "\n",
    "### Bubble Sort\n",
    "bubble_sorted = list(arr)\n",
    "bubble_sort_int(bubble_sorted)\n",
    "print(\"Bubble Sort:\", bubble_sorted)\n",
    "\n",
    "### Selection Sort\n",
    "selection_sorted = list(arr)\n",
    "selection_sort_int(selection_sorted)\n",
    "print(\"Selection Sort:\", selection_sorted)\n",
    "\n",
    "### Insertion Sort\n",
    "insertion_sorted = list(arr)\n",
    "insertion_sort_int(insertion_sorted)\n",
    "print(\"Insertion Sort:\", insertion_sorted)\n",
    "\n",
    "### Merge Sort\n",
    "merge_sorted = list(arr)\n",
    "merge_sort_int(merge_sorted)\n",
    "print(\"Merge Sort:\", merge_sorted)\n",
    "\n",
    "### Quick Sort\n",
    "quick_sorted = list(arr)\n",
    "quick_sort_int(quick_sorted)\n",
    "print(\"Quick Sort:\", quick_sorted)\n",
    "\n",
    "### Heap Sort\n",
    "heap_sorted = list(arr)\n",
    "heap_sort(heap_sorted)\n",
    "print(\"Heap Sort:\", heap_sorted)\n",
    "\n",
    "### Shell Sort\n",
    "shell_sorted = list(arr)\n",
    "shell_sort_int(shell_sorted)\n",
    "print(\"Shell Sort:\", shell_sorted)\n",
    "\n",
    "### Counting Sort\n",
    "counting_sorted = list(arr)\n",
    "counting_sort_int(counting_sorted)\n",
    "print(\"Counting Sort:\", counting_sorted)\n",
    "\n",
    "### Radix Sort\n",
    "radix_sorted = list(arr)\n",
    "radix_sort_int(radix_sorted)\n",
    "print(\"Radix Sort:\", radix_sorted)"
   ]
  },
  {
   "cell_type": "markdown",
   "metadata": {},
   "source": [
    "<h2 style=\"color:purple\"> Main #2 </h2>"
   ]
  },
  {
   "cell_type": "code",
   "execution_count": 34,
   "metadata": {},
   "outputs": [
    {
     "name": "stdout",
     "output_type": "stream",
     "text": [
      "Insertion Sort Average Execution Time (over 1000 runs): 2.7503813034854828e-05 seconds\n",
      "Selection Sort Average Execution Time (over 1000 runs): 2.7503813034854828e-05 seconds\n",
      "Bubble Sort Average Execution Time (over 1000 runs): 4.58997170208022e-05 seconds\n",
      "Merge Sort Average Execution Time (over 1000 runs): 4.465890408027917e-05 seconds\n",
      "Quick Sort Average Execution Time (over 1000 runs): 2.798279095441103e-05 seconds\n",
      "Heap Sort Average Execution Time (over 1000 runs): 4.4151254929602145e-05 seconds\n",
      "Shell Sort Average Execution Time (over 1000 runs): 2.059670304879546e-05 seconds\n",
      "Counting Sort Average Execution Time (over 1000 runs): 2.4930692045018076e-05 seconds\n",
      "Radix Sort Average Execution Time (over 1000 runs): 5.582368199247867e-05 seconds\n"
     ]
    }
   ],
   "source": [
    "setup_code = \"\"\"\n",
    "from __main__ import insertion_sort_int, bubble_sort_int, selection_sort_int, merge_sort_int, heap_sort, quick_sort_int, shell_sort_int, counting_sort_int, radix_sort_int\n",
    "arr = [64, 34, 25, 12, 22, 11, 90, 14, 231, 22, 32, 5, 80, 92, 32, 34, 1, 65, 78]\n",
    "\"\"\"\n",
    "\n",
    "selection_sort_stmt = \"\"\"\n",
    "selection_sorted = list(arr)\n",
    "selection_sort_int(selection_sorted)\n",
    "\"\"\"\n",
    "insertion_sort_stmt = \"\"\"\n",
    "insertion_sorted = list(arr)\n",
    "insertion_sort_int(insertion_sorted)\n",
    "\"\"\"\n",
    "bubble_sort_stmt = \"\"\"\n",
    "bubble_sorted = list(arr)\n",
    "bubble_sort_int(bubble_sorted)\n",
    "\"\"\"\n",
    "merge_sort_stmt = \"\"\"\n",
    "merge_sorted = list(arr)\n",
    "merge_sort_int(merge_sorted)\n",
    "\"\"\"\n",
    "quick_sort_stmt = \"\"\"\n",
    "quick_sorted = list(arr)\n",
    "quick_sort_int(quick_sorted)\n",
    "\"\"\"\n",
    "heap_sort_stmt = \"\"\"\n",
    "heap_sorted = list(arr)\n",
    "heap_sort(heap_sorted)\n",
    "\"\"\"\n",
    "shell_sort_stmt = \"\"\"\n",
    "shell_sorted = list(arr)\n",
    "shell_sort_int(shell_sorted)\n",
    "\"\"\"\n",
    "counting_sort_stmt = \"\"\"\n",
    "counting_sorted = list(arr)\n",
    "counting_sort_int(counting_sorted)\n",
    "\"\"\"\n",
    "radix_sort_stmt = \"\"\"\n",
    "radix_sorted = list(arr)\n",
    "radix_sort_int(radix_sorted)\n",
    "\"\"\"\n",
    "\n",
    "insertion_time = timeit.timeit(setup=setup_code, stmt=insertion_sort_stmt, number=1000)\n",
    "selection_time = timeit.timeit(setup=setup_code, stmt=selection_sort_stmt, number=1000)\n",
    "bubble_time = timeit.timeit(setup=setup_code, stmt=bubble_sort_stmt, number=1000)\n",
    "merge_time = timeit.timeit(setup=setup_code, stmt=merge_sort_stmt, number=1000)\n",
    "quick_time = timeit.timeit(setup=setup_code, stmt=quick_sort_stmt, number=1000)\n",
    "heap_time = timeit.timeit(setup=setup_code, stmt=heap_sort_stmt, number=1000)\n",
    "shell_time = timeit.timeit(setup=setup_code, stmt=shell_sort_stmt, number=1000)\n",
    "counting_time = timeit.timeit(setup=setup_code, stmt=counting_sort_stmt, number=1000)\n",
    "radix_time = timeit.timeit(setup=setup_code, stmt=radix_sort_stmt, number=1000)\n",
    "\n",
    "print(f\"Insertion Sort Average Execution Time (over 1000 runs): {insertion_time/1000} seconds\")\n",
    "print(f\"Selection Sort Average Execution Time (over 1000 runs): {insertion_time/1000} seconds\")\n",
    "print(f\"Bubble Sort Average Execution Time (over 1000 runs): {bubble_time/1000} seconds\")\n",
    "print(f\"Merge Sort Average Execution Time (over 1000 runs): {merge_time/1000} seconds\")\n",
    "print(f\"Quick Sort Average Execution Time (over 1000 runs): {quick_time/1000} seconds\")\n",
    "print(f\"Heap Sort Average Execution Time (over 1000 runs): {heap_time/1000} seconds\")\n",
    "print(f\"Shell Sort Average Execution Time (over 1000 runs): {shell_time/1000} seconds\")\n",
    "print(f\"Counting Sort Average Execution Time (over 1000 runs): {counting_time/1000} seconds\")\n",
    "print(f\"Radix Sort Average Execution Time (over 1000 runs): {radix_time/1000} seconds\")"
   ]
  }
 ],
 "metadata": {
  "kernelspec": {
   "display_name": "just_for_test",
   "language": "python",
   "name": "python3"
  },
  "language_info": {
   "codemirror_mode": {
    "name": "ipython",
    "version": 3
   },
   "file_extension": ".py",
   "mimetype": "text/x-python",
   "name": "python",
   "nbconvert_exporter": "python",
   "pygments_lexer": "ipython3",
   "version": "3.10.9"
  },
  "orig_nbformat": 4
 },
 "nbformat": 4,
 "nbformat_minor": 2
}
