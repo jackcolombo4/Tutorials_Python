{
 "cells": [
  {
   "attachments": {},
   "cell_type": "markdown",
   "metadata": {},
   "source": [
    "<div style=\"line-height:0.5\">\n",
    "<h1 style=\"color:crimson\"> Lists trials 3 </h1>\n",
    "<span style=\"display: inline-block;\">\n",
    "    <h3 style=\"color: lightblue; display: inline;\">Keywords:</h3> slicing + iterate + sorting\n",
    "</span>\n",
    "</div>"
   ]
  },
  {
   "cell_type": "code",
   "execution_count": 1,
   "metadata": {},
   "outputs": [],
   "source": [
    "import re\n",
    "import copy\n",
    "import sys\n",
    "import random\n",
    "import functools\n",
    "import collections\n",
    "import numpy as np"
   ]
  },
  {
   "cell_type": "code",
   "execution_count": 2,
   "metadata": {},
   "outputs": [
    {
     "data": {
      "text/plain": [
       "6"
      ]
     },
     "execution_count": 2,
     "metadata": {},
     "output_type": "execute_result"
    }
   ],
   "source": [
    "# Get last elem\n",
    "arra = [1,2,3,4,5,6]\n",
    "arra[-1]"
   ]
  },
  {
   "attachments": {},
   "cell_type": "markdown",
   "metadata": {},
   "source": [
    "<h2 style=\"color:crimson\"> 12) Slicing </h2>"
   ]
  },
  {
   "cell_type": "code",
   "execution_count": 3,
   "metadata": {},
   "outputs": [
    {
     "name": "stdout",
     "output_type": "stream",
     "text": [
      "14\n",
      "44\n",
      "[16]\n",
      "[14, 16, 27]\n",
      "[16, 27, 85, 34, 98, 23, 44]\n",
      "[14, 16, 27, 85, 34, 98, 23]\n",
      "[14, 16, 27, 85, 34, 98]\n"
     ]
    }
   ],
   "source": [
    "nums = [14,16,27,85,34,98,23,44]\n",
    "print(nums[0])\n",
    "print(nums[-1])\n",
    "print(nums[1:2])\n",
    "print(nums[0:3])\n",
    "print(nums[1:])\n",
    "print(nums[:-1])\n",
    "print(nums[:-2])"
   ]
  },
  {
   "cell_type": "code",
   "execution_count": 4,
   "metadata": {},
   "outputs": [
    {
     "name": "stdout",
     "output_type": "stream",
     "text": [
      "The length of mylist is:  8\n",
      "The sorted list is:  [14, 16, 23, 27, 34, 44, 85, 98]\n",
      "The reversed nums list is:  [44, 23, 98, 34, 85, 27, 16, 14]\n",
      "The number of occurrances with count of 44 in my list is:  1\n",
      "The index of the element 98 in nums is:  5\n"
     ]
    }
   ],
   "source": [
    "print(\"The length of mylist is: \", len(nums))\n",
    "sorted_list = sorted(nums)\n",
    "print(\"The sorted list is: \", sorted_list)\n",
    "reversed_list = list(reversed(nums))\n",
    "print(\"The reversed nums list is: \", reversed_list)\n",
    "count_of_44 = nums.count(44)\n",
    "print(\"The number of occurrances with count of 44 in my list is: \", count_of_44)\n",
    "index_of_98 = nums.index(98)\n",
    "print(\"The index of the element 98 in nums is: \", index_of_98)"
   ]
  },
  {
   "attachments": {},
   "cell_type": "markdown",
   "metadata": {},
   "source": [
    "<h2 style=\"color:crimson\"> 13) Manipulations </h2>"
   ]
  },
  {
   "cell_type": "code",
   "execution_count": 5,
   "metadata": {},
   "outputs": [
    {
     "data": {
      "text/plain": [
       "[[1, 2, 3], [1, 2, 3], [1, 2, 3], [1, 2, 3], [1, 2, 3]]"
      ]
     },
     "execution_count": 5,
     "metadata": {},
     "output_type": "execute_result"
    }
   ],
   "source": [
    "\"\"\" Duplicate \"\"\"\n",
    "arr = [[1,2,3]] * 5\n",
    "arr"
   ]
  },
  {
   "cell_type": "code",
   "execution_count": 6,
   "metadata": {},
   "outputs": [],
   "source": [
    "\"\"\" Insert \"\"\"\n",
    "# Insert value 99 in first pos\n",
    "nums.insert(0,99)   \n",
    "# Insert value 89 in fourth position\n",
    "nums.insert(3,89)   \n",
    "# Insert value 0 at 100th position\n",
    "nums.insert(100,0) "
   ]
  },
  {
   "cell_type": "code",
   "execution_count": 7,
   "metadata": {},
   "outputs": [
    {
     "name": "stdout",
     "output_type": "stream",
     "text": [
      "- new list after append [98, 'name1', 13, 42, 32.87, None, ['new_new', 'new_Added2']]\n"
     ]
    }
   ],
   "source": [
    "\"\"\" Append (insert to the end) \"\"\"\n",
    "list_trial = [98, 'name1', 13, 42, 32.87]\n",
    "new_elements = [\"new_new\", \"new_Added2\"]\n",
    "\n",
    "list_trial.append(None)\n",
    "list_trial.append(new_elements)\n",
    "print(f\"- new list after append {list_trial}\")"
   ]
  },
  {
   "cell_type": "code",
   "execution_count": 8,
   "metadata": {},
   "outputs": [
    {
     "name": "stdout",
     "output_type": "stream",
     "text": [
      "- new list after insertion with slicing [2:2]\n",
      "  [98, 'name1', 'hello', 'james', 'yeah', 'bye', 13, 42, 32.87, None, ['new_new', 'new_Added2']]\n"
     ]
    }
   ],
   "source": [
    "\"\"\" Insert inside \"\"\"\n",
    "list_trial[2:2] = [\"hello\", \"james\", \"yeah\", \"bye\"] \n",
    "print(f\"- new list after insertion with slicing [2:2]\\n  {list_trial}\")\n"
   ]
  },
  {
   "cell_type": "code",
   "execution_count": 9,
   "metadata": {},
   "outputs": [
    {
     "name": "stdout",
     "output_type": "stream",
     "text": [
      "my list using extend is:\n",
      " [98, 'name1', 'hello', 'james', 'yeah', 'bye', 13, 42, 32.87, None, ['new_new', 'new_Added2'], 'extend_1', 'extend_2']\n"
     ]
    }
   ],
   "source": [
    "\"\"\" Extend (add multiple elements) \"\"\"\n",
    "list_trial.extend([\"extend_1\", \"extend_2\"])\n",
    "print(f\"my list using extend is:\\n {list_trial}\")"
   ]
  },
  {
   "cell_type": "code",
   "execution_count": 10,
   "metadata": {},
   "outputs": [
    {
     "name": "stdout",
     "output_type": "stream",
     "text": [
      "- the new list obtained \n",
      " [98, 'name1', 'oki', 'doki', 'hello', 'james', 'yeah', 'bye', 13, 42, 32.87, None, ['new_new', 'new_Added2'], 'extend_1', 'extend_2']\n"
     ]
    }
   ],
   "source": [
    "\"\"\" Concatenate sublists to insert \"\"\"\n",
    "other_elems = [\"oki\", \"doki\"]\n",
    "new_list_trial = list_trial[:2] + other_elems + list_trial[2:]\n",
    "print(f\"- the new list obtained \\n {new_list_trial}\")"
   ]
  },
  {
   "cell_type": "code",
   "execution_count": 11,
   "metadata": {},
   "outputs": [
    {
     "name": "stdout",
     "output_type": "stream",
     "text": [
      "- new_list replacing with slicing [0:3]:\n",
      " ['angle', 7.6, 'james', 'yeah', 'bye', 13, 42, 32.87, None, ['new_new', 'new_Added2'], 'extend_1', 'extend_2']\n"
     ]
    }
   ],
   "source": [
    "\"\"\" Replace existing values in range \"\"\"\n",
    "# Remove last elements if the provided array is shorter\n",
    "list_trial[0:3] = [\"angle\", 7.6]  \n",
    "print(f\"- new_list replacing with slicing [0:3]:\\n {list_trial}\")"
   ]
  },
  {
   "attachments": {},
   "cell_type": "markdown",
   "metadata": {},
   "source": [
    "<h2 style=\"color:crimson\"> 14) List comprehension </h2>"
   ]
  },
  {
   "cell_type": "code",
   "execution_count": 12,
   "metadata": {},
   "outputs": [
    {
     "name": "stdout",
     "output_type": "stream",
     "text": [
      "oldist was: \n",
      "[98, 'name1', 13, 42, 32.87]\n",
      "newlist now is: \n",
      "['add1', 98, 'add2', 'name1', 13, 13, 42]\n"
     ]
    }
   ],
   "source": [
    "\"\"\" For each index i in the range 0 to len(mylist) + len(new_elements) - 1, \n",
    "the list comprehension checks if i is an even number and if it's less than len(new_elements)*2. \n",
    "\n",
    "N.B.1\n",
    "If both conditions are true, then new_elements[i//2] is added as the i-th element of the new list, \n",
    "otherwise mylist[i//2] is added as the i-th element of the new list.\n",
    "\n",
    "N.B.2\n",
    "i//2 is used to map the index of the new list to the corresponding index in either new_elements or mylist. \n",
    "* When i is even, \"i//2\" maps the i-th position of the new list to the \"i//2-th\" position of new_elements, \n",
    "* When i is odd, \"i//2\" maps the i-th position of the new list to the i//2-th position of mylist.\n",
    "\n",
    "N.B.3\n",
    "=> newlist contains all the elements of mylist and new_elements, with the elements of new_elements inserted in \n",
    "the desired positions of the list according to their original order.\n",
    "\"\"\"\n",
    "list_compr = [98, 'name1', 13, 42, 32.87]\n",
    "new_elements = [\"add1\", \"add2\"]\n",
    "newlist = [new_elements[i//2] if i%2==0 and i<len(new_elements)*2 else list_compr[i//2] \\\n",
    "        for i in range(len(list_compr) + len(new_elements))]\n",
    "\n",
    "print(f\"oldist was: \")\n",
    "print(list_compr)\n",
    "print(f\"newlist now is: \")\n",
    "print(newlist)"
   ]
  },
  {
   "cell_type": "code",
   "execution_count": 13,
   "metadata": {},
   "outputs": [
    {
     "data": {
      "text/plain": [
       "['add1', 'add2', 98, 'name1', 13, 42, 32.87]"
      ]
     },
     "execution_count": 13,
     "metadata": {},
     "output_type": "execute_result"
    }
   ],
   "source": [
    "\"\"\" \n",
    "Create a new list containing elements interleaved from 2 lists with list_coprehension, even when the two lists have different lengths.\n",
    "N.B.\n",
    "=> Loop through all the elements from both lists.\n",
    "    * new_elements[i] is used when i is within the index range of new_elements. \n",
    "    * list_compr[i - len(new_elements)] is used when i is greater than or equal to the length of new_elements. \n",
    "        - It calculates the correct index within list_compr by subtracting the length of new_elements from i. \n",
    "\"\"\"\n",
    "list_compr = [98, 'name1', 13, 42, 32.87]\n",
    "new_elements = [\"add1\", \"add2\"]\n",
    "\n",
    "new_list = [\n",
    "    (new_elements[i] if i < len(new_elements) else list_compr[i - len(new_elements)])\n",
    "    for i in range(len(new_elements) + len(list_compr))\n",
    "]\n",
    "new_list"
   ]
  },
  {
   "cell_type": "code",
   "execution_count": 14,
   "metadata": {},
   "outputs": [
    {
     "data": {
      "text/plain": [
       "([[1, 2], [3, 4], [54, 5], [6, 7]],\n",
       " [[[1, 2], [3, 4], [54, 5]], [[6, 7]]],\n",
       " [[[[1, 2], [3, 4], [54, 5]], [[6, 7]]]])"
      ]
     },
     "execution_count": 14,
     "metadata": {},
     "output_type": "execute_result"
    }
   ],
   "source": [
    "\"\"\" Adding levels \"\"\"\n",
    "matri = [[1,2],[3,4],[54,5],[6,7]]\n",
    "list_size = 3\n",
    "li1 = [matri[i:i+list_size] for i in range(0, len(matri), list_size)]\n",
    "\n",
    "li2 = [li1[i:i+list_size] for i in range(0, len(li1), list_size)]\n",
    "\n",
    "matri, li1, li2"
   ]
  },
  {
   "cell_type": "code",
   "execution_count": 15,
   "metadata": {},
   "outputs": [
    {
     "name": "stdout",
     "output_type": "stream",
     "text": [
      "ae3a3533\n"
     ]
    },
    {
     "data": {
      "text/plain": [
       "'ae3a3533'"
      ]
     },
     "execution_count": 15,
     "metadata": {},
     "output_type": "execute_result"
    }
   ],
   "source": [
    "\"\"\" Get first element from a list of list \"\"\"\n",
    "aarraayy = [['ae3a3533'],['ff3ae587'],['as3a35l3'],['pl4a2588']]\n",
    "\n",
    "token = [item for sublist in aarraayy for item in sublist]\n",
    "token = token[0]\n",
    "print(token)\n",
    "\n",
    "aarraayy[0][0]"
   ]
  },
  {
   "cell_type": "code",
   "execution_count": 16,
   "metadata": {},
   "outputs": [
    {
     "name": "stdout",
     "output_type": "stream",
     "text": [
      "original_list: [1, 'two', 3.0, 4, 5.5, 6, 'seven', 8.8, 9, 10] \n",
      "squared_numbers: [1, 9.0, 16, 30.25, 36, 77.44000000000001, 81, 100] \n"
     ]
    }
   ],
   "source": [
    "\"\"\" Square only numbers \"\"\"\n",
    "record = [1, 'two', 3.0, 4, 5.5, 6, 'seven', 8.8, 9, 10]\n",
    "squared_numbers = [x**2 for x in record if isinstance(x, (int, float))]\n",
    "\n",
    "print(\"original_list: {} \".format(record))\n",
    "print(\"squared_numbers: {} \".format(squared_numbers))"
   ]
  },
  {
   "cell_type": "code",
   "execution_count": 17,
   "metadata": {},
   "outputs": [
    {
     "data": {
      "text/plain": [
       "(['fork', 'blender', 'knife', 'grater', 'colander'],\n",
       " [10, 20, 30, 40, 50],\n",
       " [1, 33, 55, 77, 99])"
      ]
     },
     "execution_count": 17,
     "metadata": {},
     "output_type": "execute_result"
    }
   ],
   "source": [
    "\"\"\" Filter \"\"\"\n",
    "origi1 = ['fork', 42, 'blender', 7, 'knife', 13, 'grater', 20, 'colander', 25]\n",
    "strings_only = [x for x in origi1 if isinstance(x, str)]\n",
    "\n",
    "origi2 = [1, 22, 33, 44, 55, 66, 77, 88, 99, 100]\n",
    "odd_numbers = [x for x in origi2 if x % 2 != 0]\n",
    "\n",
    "origi3 = [10, -5, 20, -15, 30, -25, 40, -35, 50, -45]\n",
    "positive_numbers = [x for x in origi3 if x > 0]\n",
    "\n",
    "strings_only, positive_numbers, odd_numbers,"
   ]
  },
  {
   "cell_type": "code",
   "execution_count": 18,
   "metadata": {},
   "outputs": [
    {
     "data": {
      "text/plain": [
       "['spot 1',\n",
       " 'spot 2',\n",
       " 'spot 3',\n",
       " 'appointment 1',\n",
       " 'appointment 2',\n",
       " 'appointment 3',\n",
       " 'therapy 1',\n",
       " 'therapy 2',\n",
       " 'therapy 3',\n",
       " 'reservation 1',\n",
       " 'reservation 2',\n",
       " 'reservation 3']"
      ]
     },
     "execution_count": 18,
     "metadata": {},
     "output_type": "execute_result"
    }
   ],
   "source": [
    "\"\"\" Combine elements \"\"\"\n",
    "list1 = ['spot', 'appointment', 'therapy', 'reservation']\n",
    "list2 = [1, 2, 3]\n",
    "combined_list = [f\"{x} {y}\" for x in list1 for y in list2]\n",
    "combined_list"
   ]
  },
  {
   "cell_type": "code",
   "execution_count": 19,
   "metadata": {},
   "outputs": [
    {
     "name": "stdout",
     "output_type": "stream",
     "text": [
      "ca\n",
      "[3]\n",
      "[3]\n"
     ]
    }
   ],
   "source": [
    "\"\"\" Check if None in list \"\"\"\n",
    "array_none = [1, 2, 'ciao', None]\n",
    "if None in array_none:\n",
    "    print('ca')\n",
    "\n",
    "listone1 = [i for i in range(len(array_none)) if array_none[i] == None]\n",
    "listone2 = np.where(np.array(array_none) == None)[0].tolist()\n",
    "print(listone1)\n",
    "print(listone2)"
   ]
  },
  {
   "cell_type": "code",
   "execution_count": 20,
   "metadata": {},
   "outputs": [
    {
     "name": "stdout",
     "output_type": "stream",
     "text": [
      " Uniques are [1, 2, 3, 4, 5, 6, 7, 8]\n"
     ]
    }
   ],
   "source": [
    "numss = [1, 2, 3, 2, 4, 5, 3, 6, 7, 8]\n",
    "uniques = [x for i, x in enumerate(numss) if x not in numss[:i]]\n",
    "print(f\" Uniques are {uniques}\")"
   ]
  },
  {
   "cell_type": "code",
   "execution_count": 21,
   "metadata": {},
   "outputs": [
    {
     "name": "stdout",
     "output_type": "stream",
     "text": [
      " Duplicates here!\n"
     ]
    },
    {
     "data": {
      "text/plain": [
       "['audio_108', 'audio_94']"
      ]
     },
     "execution_count": 21,
     "metadata": {},
     "output_type": "execute_result"
    }
   ],
   "source": [
    "\"\"\" Check duplicates with list comprehension, by iterating over each unique 'item' and 'count' of its occurrences \n",
    "obtained from the 'collections.Counter' function.\n",
    "\n",
    "=> Create a Counter object that counts the occurrences of each unique item in the 'aa' list.\n",
    "=> \".items()\" converts the Counter object into a list of tuples, where each tuple contains an item and its count.\n",
    "\"\"\"\n",
    "aa = [\n",
    "    \"audio_108\", \"audio_1\", \"audio_2\", \"audio_3\", \"audio_4\", \"audio_5\", \"audio_6\", \"audio_7\", \"audio_8\", \"audio_9\", \"audio_10\", \n",
    "    \"audio_11\", \"audio_12\", \"audio_108\", \"audio_14\", \"audio_15\", \"audio_16\", \"audio_108\", \"audio_88\", \"audio_89\", \"audio_90\",  \n",
    "    \"audio_91\", \"audio_92\",  \"audio_93\", \"audio_94\", \"audio_95\", \"audio_96\", \"audio_108\", \"audio_98\", \"audio_99\", \"audio_100\", \n",
    "    \"audio_101\", \"audio_102\", \"audio_103\", \"audio_104\", \"audio_105\", \"audio_94\", \"audio_107\", \"audio_108\"\n",
    "]\n",
    "\n",
    "duplicates2 = [item for item, count in collections.Counter(aa).items() if count > 1]\n",
    "print(\" Duplicates here!\")\n",
    "duplicates2"
   ]
  },
  {
   "cell_type": "code",
   "execution_count": 22,
   "metadata": {},
   "outputs": [
    {
     "data": {
      "text/plain": [
       "['Hello',\n",
       " 'World',\n",
       " 'Python',\n",
       " 'Programming',\n",
       " 'Language',\n",
       " 'List',\n",
       " 'Comprehension']"
      ]
     },
     "execution_count": 22,
     "metadata": {},
     "output_type": "execute_result"
    }
   ],
   "source": [
    "\"\"\" Capitalize \"\"\"\n",
    "terms_numbs = ['hello', 'world', 123, 'Python', 'programming', 456, 'language', 'list', 'comprehension', 789]\n",
    "capitalized_strings = [str(x).capitalize() for x in terms_numbs if isinstance(x, str)]\n",
    "capitalized_strings"
   ]
  },
  {
   "cell_type": "code",
   "execution_count": 23,
   "metadata": {},
   "outputs": [
    {
     "data": {
      "text/plain": [
       "[4, 5, 6, 7, 1, 2]"
      ]
     },
     "execution_count": 23,
     "metadata": {},
     "output_type": "execute_result"
    }
   ],
   "source": [
    "\"\"\" Extract digit from strings \"\"\"\n",
    "ran_list = [123, '45', '67', 'eight', 9, 'ten', 11, '12', 13, 'fourteen']\n",
    "digits_only = [int(char) for x in ran_list if isinstance(x, str) for char in str(x) if char.isdigit()]\n",
    "digits_only"
   ]
  },
  {
   "cell_type": "code",
   "execution_count": 24,
   "metadata": {},
   "outputs": [
    {
     "data": {
      "text/plain": [
       "[2, 2, 2, 1, 3, 2, 3, 1, 3, 3]"
      ]
     },
     "execution_count": 24,
     "metadata": {},
     "output_type": "execute_result"
    }
   ],
   "source": [
    "\"\"\" Count vowels \"\"\"\n",
    "fornitures = ['chair', 'table', 'sofa', 'lamp', 'bookshelf', 'couch', 'armchair', 'bed', 'cabinet', 'ottoman']\n",
    "vowel_counts = [sum(1 for char in x if char in 'aeiouAEIOU') for x in fornitures if isinstance(x, str)]\n",
    "vowel_counts"
   ]
  },
  {
   "cell_type": "code",
   "execution_count": 25,
   "metadata": {},
   "outputs": [
    {
     "name": "stdout",
     "output_type": "stream",
     "text": [
      "[4, 4, 5, 5]\n",
      "{'Jack': 4, 'John': 4, 'Jacob': 5, 'Jerry': 5}\n"
     ]
    }
   ],
   "source": [
    "\"\"\" List comprehension VS Dictionary comprehension \"\"\"\n",
    "names = ['Jack', 'John', 'Jacob', 'Jerry']\n",
    "my_length = [len(x) for x in names]\n",
    "my_le = {x:len(x) for x in names}\n",
    "print(my_length)\n",
    "print(my_le)"
   ]
  },
  {
   "attachments": {},
   "cell_type": "markdown",
   "metadata": {},
   "source": [
    "<h2 style=\"color:crimson\"> 16) Delete </h2>"
   ]
  },
  {
   "cell_type": "code",
   "execution_count": 26,
   "metadata": {},
   "outputs": [
    {
     "name": "stdout",
     "output_type": "stream",
     "text": [
      "[14, 16, 27, 85, 34, 98, 23, 44]\n",
      "[99, 14, 16, 99, 27, 85, 34, 98, 23, 44, 99]\n",
      "\n",
      "[14, 16, 99, 27, 85, 34, 98, 23, 44, 99]\n",
      "[14, 16, 99, 27, 85, 99, 34, 98, 23, 44, 99]\n"
     ]
    }
   ],
   "source": [
    "numb = [14, 16, 27, 85, 34, 98, 23, 44]\n",
    "print(numb) \n",
    "numb.insert(12332, 99) \n",
    "numb.insert(0, 99) \n",
    "numb.insert(3, 99) \n",
    "print(numb) \n",
    "print()\n",
    "# Delete first occurance of a num \n",
    "numb.remove(99) \n",
    "print(numb)\n",
    "numb.insert(5, 99) \n",
    "print(numb)"
   ]
  },
  {
   "cell_type": "code",
   "execution_count": 27,
   "metadata": {},
   "outputs": [
    {
     "name": "stdout",
     "output_type": "stream",
     "text": [
      "old was:\n",
      " [14, 16, 99, 27, 85, 99, 34, 98, 23, 44, 99]\n",
      "new is:\n",
      " [14, 16, 99, 27, 85, 99, 34, 98, 44, 99]\n"
     ]
    }
   ],
   "source": [
    "# Delete last occurrance of a num\n",
    "print(f\"old was:\\n {numb}\")\n",
    "numb.pop(len(numb) - numb[::-1].index(23) - 1) \n",
    "print(f\"new is:\\n {numb}\")"
   ]
  },
  {
   "cell_type": "code",
   "execution_count": 28,
   "metadata": {},
   "outputs": [
    {
     "name": "stdout",
     "output_type": "stream",
     "text": [
      "['first', 'second_next', 'middle', 'penultimate']\n",
      "['second_next', 'middle', 'penultimate']\n"
     ]
    },
    {
     "data": {
      "text/plain": [
       "['second_next', 'middle']"
      ]
     },
     "execution_count": 28,
     "metadata": {},
     "output_type": "execute_result"
    }
   ],
   "source": [
    "remove_me = ['first', 'second_next', 'middle', 'penultimate', 'latter']\n",
    "# Delete last \n",
    "remove_me.pop()      \n",
    "print(remove_me)\n",
    "# Delete first\n",
    "remove_me.pop(0)     \n",
    "print(remove_me)\n",
    "# Delete third\n",
    "remove_me.pop(2)     \n",
    "\n",
    "remove_me"
   ]
  },
  {
   "cell_type": "code",
   "execution_count": 29,
   "metadata": {},
   "outputs": [
    {
     "name": "stdout",
     "output_type": "stream",
     "text": [
      "['1', 2, 3, 4.444, 'another']\n",
      "['1', 2]\n"
     ]
    }
   ],
   "source": [
    "canc_me = ['1', 2, 3, 4.444, 'another', 'lastone']\n",
    "# Remove last \n",
    "del canc_me[-1]\n",
    "print(canc_me)\n",
    "# Remove all from third to end\n",
    "del canc_me[2:]\n",
    "print(canc_me)"
   ]
  },
  {
   "cell_type": "code",
   "execution_count": 30,
   "metadata": {},
   "outputs": [
    {
     "name": "stdout",
     "output_type": "stream",
     "text": [
      "\n",
      "3\n",
      "['123', '321312', '4rwertwer']\n"
     ]
    }
   ],
   "source": [
    "# Remove from index\n",
    "aarrayy = ['123', '321312', '4rwertwer','']\n",
    "random_ch = random.choice(aarrayy)\n",
    "print(random_ch)\n",
    "b = aarrayy.index(random_ch)\n",
    "print(b)\n",
    "aarrayy.pop(b)\n",
    "print(aarrayy)"
   ]
  },
  {
   "attachments": {},
   "cell_type": "markdown",
   "metadata": {},
   "source": [
    "<h2 style=\"color:crimson\"> 17) Min, Max, Sum </h2>"
   ]
  },
  {
   "cell_type": "code",
   "execution_count": 31,
   "metadata": {},
   "outputs": [
    {
     "name": "stdout",
     "output_type": "stream",
     "text": [
      "The min is 1\n",
      "The max is 10\n",
      "The sum is 55\n"
     ]
    }
   ],
   "source": [
    "find_here = [1,2,3,4,5,6,7,8,9,10]\n",
    "\n",
    "print(f\"The min is {min(find_here)}\")\n",
    "print(f\"The max is {max(find_here)}\")\n",
    "print(f\"The sum is {sum(find_here)}\")"
   ]
  },
  {
   "cell_type": "markdown",
   "metadata": {},
   "source": [
    "<h2 style=\"color:crimson\"> 18) Join + Split </h2>"
   ]
  },
  {
   "cell_type": "code",
   "execution_count": 32,
   "metadata": {},
   "outputs": [
    {
     "name": "stdout",
     "output_type": "stream",
     "text": [
      "A, B, C, D\n",
      "ABCD\n"
     ]
    }
   ],
   "source": [
    "\"\"\" Join \"\"\"\n",
    "lette = ['A','B','C','D']\n",
    "joined_let1 = ', '.join(lette)\n",
    "joined_let2 = ''.join(lette)\n",
    "print(joined_let1)\n",
    "print(joined_let2)"
   ]
  },
  {
   "cell_type": "code",
   "execution_count": 33,
   "metadata": {},
   "outputs": [
    {
     "name": "stdout",
     "output_type": "stream",
     "text": [
      "['a', 'e', '3', 'a', '3', '5', '3', '3']\n",
      "a\n"
     ]
    }
   ],
   "source": [
    "\"\"\" Split string\"\"\" \n",
    "string_in_list = ['ae3a3533']\n",
    "\n",
    "takethis = [item for sublist in string_in_list for item in sublist]\n",
    "token = takethis[0]\n",
    "print(takethis)\n",
    "print(string_in_list[0][0])"
   ]
  },
  {
   "cell_type": "markdown",
   "metadata": {},
   "source": [
    "<h2 style=\"color:crimson\"> 19) Flatten + Filter + Transpose </h2>"
   ]
  },
  {
   "cell_type": "code",
   "execution_count": 34,
   "metadata": {},
   "outputs": [
    {
     "name": "stdout",
     "output_type": "stream",
     "text": [
      "list_of_lists was => [[1, 2], [3, 4], [5, 6]]\n",
      "flattened_list => [1, 2, 3, 4, 5, 6]\n",
      "filtered_list => [[3, 4], [5, 6]]\n",
      "transposed_list => [[1, 3, 5], [2, 4, 6]]\n",
      "new_list_of_lists => [[1, 2], [0, 4], [5, 6]]\n"
     ]
    }
   ],
   "source": [
    "list_of_lists = [[1, 2], [3, 4], [5, 6]]\n",
    "\n",
    "flattened_list = [item for sublist in list_of_lists for item in sublist]\n",
    "\n",
    "filtered_list = [sublist for sublist in list_of_lists if sum(sublist) > 5]\n",
    "\n",
    "transposed_list = [[row[i] for row in list_of_lists] for i in range(len(list_of_lists[0]))]\n",
    "\n",
    "new_list_of_lists = [[0 if item == 3 else item for item in sublist] for sublist in list_of_lists]\n",
    "\n",
    "\n",
    "print(f\"list_of_lists was => {list_of_lists}\")\n",
    "print(f\"flattened_list => {flattened_list}\")\n",
    "print(f\"filtered_list => {filtered_list}\")\n",
    "print(f\"transposed_list => {transposed_list}\")\n",
    "print(f\"new_list_of_lists => {new_list_of_lists}\")"
   ]
  },
  {
   "attachments": {},
   "cell_type": "markdown",
   "metadata": {},
   "source": [
    "<h2 style=\"color:crimson\"> 20) Zip </h2>"
   ]
  },
  {
   "cell_type": "code",
   "execution_count": 35,
   "metadata": {},
   "outputs": [
    {
     "name": "stdout",
     "output_type": "stream",
     "text": [
      "3 rew\n",
      "4 uyt\n",
      "5 cds\n",
      "6 ads\n",
      "7 bdas\n",
      "Peter Parker is actually Spiderman\n",
      "Clark Kent is actually Superman\n",
      "Wade Wilson is actually Deadpool\n",
      "Bruce Wayne is actually Batman\n",
      "\n",
      "Peter Parker is actually Spiderman\n",
      "Clark Kent is actually Superman\n",
      "Wade Wilson is actually Deadpool\n",
      "Bruce Wayne is actually Batman\n"
     ]
    }
   ],
   "source": [
    "names = ['rew','uyt','cds','ads','bdas']\n",
    "for i,n in enumerate(names, start=3):\n",
    "    print(i,n)\n",
    "\n",
    "names = ['Peter Parker', 'Clark Kent', 'Wade Wilson', 'Bruce Wayne']\n",
    "heroes = ['Spiderman', 'Superman', 'Deadpool', 'Batman']\n",
    "\n",
    "for index, name in enumerate(names):\n",
    "    hero = heroes[index]\n",
    "    print(f\"{name} is actually {hero}\")\n",
    "print()\n",
    "for name, hero in zip(names, heroes):\n",
    "    print(f\"{name} is actually {hero}\")    "
   ]
  },
  {
   "cell_type": "code",
   "execution_count": 36,
   "metadata": {},
   "outputs": [
    {
     "name": "stdout",
     "output_type": "stream",
     "text": [
      "[('apple', 'carrot', 'red'), ('banana', 'broccoli', 'orange'), ('orange', 'spinach', 'yellow'), ('kiwi', 'tomato', 'green'), ('grape', 'cucumber', 'blue'), ('mango', 'lettuce', 'purple'), ('pear', 'zucchini', 'pink'), ('pineapple', 'bell pepper', 'brown'), ('watermelon', 'cauliflower', 'gray'), ('peach', 'celery', 'black')]\n",
      "\n",
      "\n",
      "The apple is a fruit, the carrot is a vegetable, and red is a color.\n",
      "The banana is a fruit, the broccoli is a vegetable, and orange is a color.\n",
      "The orange is a fruit, the spinach is a vegetable, and yellow is a color.\n",
      "The kiwi is a fruit, the tomato is a vegetable, and green is a color.\n",
      "The grape is a fruit, the cucumber is a vegetable, and blue is a color.\n",
      "The mango is a fruit, the lettuce is a vegetable, and purple is a color.\n",
      "The pear is a fruit, the zucchini is a vegetable, and pink is a color.\n",
      "The pineapple is a fruit, the bell pepper is a vegetable, and brown is a color.\n",
      "The watermelon is a fruit, the cauliflower is a vegetable, and gray is a color.\n",
      "The peach is a fruit, the celery is a vegetable, and black is a color.\n"
     ]
    }
   ],
   "source": [
    "fruits = [\"apple\", \"banana\", \"orange\", \"kiwi\", \"grape\", \"mango\", \"pear\", \"pineapple\", \"watermelon\", \"peach\"]\n",
    "vegetables = [\"carrot\", \"broccoli\", \"spinach\", \"tomato\", \"cucumber\", \"lettuce\", \"zucchini\", \"bell pepper\", \"cauliflower\", \"celery\"]\n",
    "colors = [\"red\", \"orange\", \"yellow\", \"green\", \"blue\", \"purple\", \"pink\", \"brown\", \"gray\", \"black\"]\n",
    "\n",
    "print(list(zip(fruits, vegetables, colors)))\n",
    "print()\n",
    "print()\n",
    "\n",
    "for fruit, vegetable, color in zip(fruits, vegetables, colors):\n",
    "    print(f\"The {fruit} is a fruit, the {vegetable} is a vegetable, and {color} is a color.\")"
   ]
  },
  {
   "cell_type": "code",
   "execution_count": 37,
   "metadata": {},
   "outputs": [
    {
     "name": "stdout",
     "output_type": "stream",
     "text": [
      "1\n",
      "i  0\n",
      "Easy_1\n",
      "i  1\n",
      "0.56\n",
      "\n",
      "['Easy_1']\n",
      "[0.56]\n",
      "[]\n",
      "[]\n"
     ]
    }
   ],
   "source": [
    "zipped_inputs_3 = [('Easy_1', 0.56)]\n",
    "zipped_inputs_4 = [('Easy_1', 'Easy_2'),(0.56, 1.56,)]\n",
    "zipped_inputs_5 = [('Easy_1', 'Easy_2','Normal_2',),(0.56, 1.56,2,56)]\n",
    "\n",
    "first_to_take = []\n",
    "second_to_take = []\n",
    "third_to_take = []\n",
    "fourth_to_take = []\n",
    "\n",
    "print(len(zipped_inputs_3))\n",
    "\n",
    "for h in range(len(zipped_inputs_3)):\n",
    "\tfor i in range(len(zipped_inputs_3[h])):\n",
    "\t\tprint(\"i \",i)\n",
    "\t\tprint(zipped_inputs_3[h][i])\n",
    "\t\ttry:\n",
    "\t\t\tif i==0:\n",
    "\t\t\t\tfirst_to_take.append(zipped_inputs_3[h][i])\n",
    "\t\texcept:\n",
    "\t\t\tpass\n",
    "\t\ttry:\n",
    "\t\t\tif i==1:\n",
    "\t\t\t\tsecond_to_take.append(zipped_inputs_3[h][i])\n",
    "\t\texcept:\n",
    "\t\t\tpass\n",
    "\t\ttry:\n",
    "\t\t\tif i==2:\n",
    "\t\t\t\tthird_to_take.append(zipped_inputs_3[h][i])\n",
    "\t\texcept:\n",
    "\t\t\tpass\n",
    "\t\ttry:\n",
    "\t\t\tif i==3:\n",
    "\t\t\t\tfourth_to_take.append(zipped_inputs_3[h][i])\n",
    "\t\texcept:\n",
    "\t\t\tpass\n",
    "\n",
    "print()\n",
    "print(first_to_take)\n",
    "print(second_to_take)\n",
    "print(third_to_take)\n",
    "print(fourth_to_take)"
   ]
  },
  {
   "attachments": {},
   "cell_type": "markdown",
   "metadata": {},
   "source": [
    "<h2 style=\"color:crimson\"> 21) Iterate </h2>"
   ]
  },
  {
   "cell_type": "code",
   "execution_count": 38,
   "metadata": {},
   "outputs": [
    {
     "name": "stdout",
     "output_type": "stream",
     "text": [
      "[0, 1, 2, 3, 4, 5, 6, 7, 8, 9, 1, 2, 3, 4, 5, 6, 7, 8, 9, 10, 2, 3, 4, 5, 6, 7, 8, 9, 10, 11, 3, 4, 5, 6, 7, 8, 9, 10, 11, 12, 4, 5, 6, 7, 8, 9, 10, 11, 12, 13]\n",
      "[[0, 1, 2], [0, 1, 2], [0, 1, 2], [0, 1, 2], [0, 1, 2]]\n"
     ]
    }
   ],
   "source": [
    "x = [i+j for i in range(5) for j in range(10)]\n",
    "print(x)\n",
    "\n",
    "x1 = [[_ for _ in range(3)] for j in range(5)]\n",
    "print(x1)"
   ]
  },
  {
   "cell_type": "code",
   "execution_count": 39,
   "metadata": {},
   "outputs": [
    {
     "name": "stdout",
     "output_type": "stream",
     "text": [
      "zipped_inputs_3 1\n",
      "i  0\n",
      "Easy_1\n",
      "i  1\n",
      "0.56\n",
      "\n",
      "['Easy_1']\n",
      "[0.56]\n",
      "[]\n",
      "[]\n"
     ]
    }
   ],
   "source": [
    "zipped_inputs_3 = [('Easy_1', 0.56)]\n",
    "#zipped_inputs_3 = [('Easy_1', 'Easy_2'),(0.56, 1.56,)]\n",
    "#zipped_inputs_3 = [('Easy_1', 'Easy_2','Normal_2',),(0.56, 1.56,2,56)]\n",
    "\n",
    "first_to_take = []\n",
    "second_to_take = []\n",
    "third_to_take = []\n",
    "fourth_to_take = []\n",
    "\n",
    "print(\"zipped_inputs_3 {}\".format(len(zipped_inputs_3)))\n",
    "\n",
    "for h in range(len(zipped_inputs_3)):\n",
    "\tfor i in range(len(zipped_inputs_3[h])):\n",
    "\t\tprint(\"i \",i)\n",
    "\t\tprint(zipped_inputs_3[h][i])\n",
    "\t\ttry:\n",
    "\t\t\tif i==0:\n",
    "\t\t\t\tfirst_to_take.append(zipped_inputs_3[h][i])\n",
    "\t\texcept:\n",
    "\t\t\tpass\n",
    "\t\ttry:\n",
    "\t\t\tif i==1:\n",
    "\t\t\t\tsecond_to_take.append(zipped_inputs_3[h][i])\n",
    "\t\texcept:\n",
    "\t\t\tpass\n",
    "\t\ttry:\n",
    "\t\t\tif i==2:\n",
    "\t\t\t\tthird_to_take.append(zipped_inputs_3[h][i])\n",
    "\t\texcept:\n",
    "\t\t\tpass\n",
    "\t\ttry:\n",
    "\t\t\tif i==3:\n",
    "\t\t\t\tfourth_to_take.append(zipped_inputs_3[h][i])\n",
    "\t\texcept:\n",
    "\t\t\tpass\n",
    "\n",
    "print()\n",
    "print(first_to_take)\n",
    "print(second_to_take)\n",
    "print(third_to_take)\n",
    "print(fourth_to_take)"
   ]
  },
  {
   "cell_type": "code",
   "execution_count": 40,
   "metadata": {},
   "outputs": [
    {
     "name": "stdout",
     "output_type": "stream",
     "text": [
      "selected_matches_diff ['Easy_1']\n",
      "selected_time_perc_matches [0.56]\n",
      "final !!\n",
      "res is 5\n",
      "fres is 2\n",
      "conc is 4\n",
      "final_grade_3\n",
      "[[5, 2, 4]]\n"
     ]
    }
   ],
   "source": [
    "res_part_3 = []\n",
    "selected_matches_diff = []\n",
    "final_grade_3 = []\n",
    "\n",
    "if len(first_to_take)==1:\n",
    "\tselected_matches_diff = first_to_take\n",
    "\tselected_time_perc_matches = second_to_take\n",
    "\tprint(\"selected_matches_diff\", selected_matches_diff)\n",
    "\tprint(\"selected_time_perc_matches\", selected_time_perc_matches)\n",
    "\tres = random.randint(1,5)\n",
    "\tfres = random.randint(1,5)\n",
    "\tconc = random.randint(1,5) \n",
    "\tprint(\"final !!\")\n",
    "\tprint(f\"res is {res}\")\n",
    "\tprint(f\"fres is {fres}\")\n",
    "\tprint(f\"conc is {conc}\")\n",
    "\n",
    "\tres_part_3.append(res)\n",
    "\tres_part_3.append(fres)\n",
    "\tres_part_3.append(conc)\n",
    "\n",
    "\tfinal_grade_3.append(res_part_3)\n",
    "\tres_part_3 = []\n",
    "\t\n",
    "else:\n",
    "\tif len(first_to_take)>0:\n",
    "\t\tfor z in range(len(first_to_take)-1):\n",
    "\t\t\tprint(\"first_to_take\", first_to_take[z])\n",
    "\t\t\tselected_matches_diff = first_to_take[z]\n",
    "\t\t\tselected_time_perc_matches = first_to_take[z+1]\n",
    "\t\t\tprint(\"round num z \",z)\n",
    "\t\t\tprint(\"selected_matches_diff\", selected_matches_diff)\n",
    "\t\t\tprint(\"selected_time_perc_matches\", selected_time_perc_matches)\n",
    "\t\t\tres = random.randint(1,5)\n",
    "\t\t\tfres = random.randint(1,5)\n",
    "\t\t\tconc = random.randint(1,5) \n",
    "\t\t\tprint(\"####round num \", z)\n",
    "\t\t\tprint(f\"res is {res}\")\n",
    "\t\t\tprint(f\"fres is {fres}\")\n",
    "\t\t\tprint(f\"conc is {conc}\")\n",
    "\n",
    "\t\t\tres_part_3.append(res)\n",
    "\t\t\tres_part_3.append(fres)\n",
    "\t\t\tres_part_3.append(conc)\n",
    "\t\t\tfinal_grade_3.append(res_part_3)\n",
    "\t\t\tres_part_3 = []\n",
    "\n",
    "\tif len(second_to_take)>0:\n",
    "\t\tfor z in range(len(second_to_take)-1):\n",
    "\t\t\tprint(\"second_to_take\", second_to_take[z])\n",
    "\t\t\tselected_matches_diff = second_to_take[z]\n",
    "\t\t\tselected_time_perc_matches = second_to_take[z+1]\n",
    "\t\t\tprint(\"round num z \",z)\n",
    "\t\t\tprint(\"selected_matches_diff\", selected_matches_diff)\n",
    "\t\t\tprint(\"selected_time_perc_matches\", selected_time_perc_matches)\n",
    "\t\t\tres = random.randint(1,5)\n",
    "\t\t\tfres = random.randint(1,5)\n",
    "\t\t\tconc = random.randint(1,5) \n",
    "\t\t\tprint(\"round num \", z)\n",
    "\t\t\tprint(f\"res {res}\")\n",
    "\t\t\tprint(f\"fres {fres}\")\n",
    "\t\t\tprint(f\"conc {conc}\")\n",
    "\n",
    "\t\t\tres_part_3.append(res)\n",
    "\t\t\tres_part_3.append(fres)\n",
    "\t\t\tres_part_3.append(conc)\n",
    "\n",
    "\t\t\tfinal_grade_3.append(res_part_3)\n",
    "\t\t\tres_part_3 = []\t\n",
    "\tif len(third_to_take)>0:\n",
    "\t\tfor z in range(len(third_to_take)-1):\n",
    "\t\t\tprint(third_to_take[z])\n",
    "\t\t\tselected_matches_diff = third_to_take[z]\n",
    "\t\t\tselected_time_perc_matches = third_to_take[z+1]\n",
    "\t\t\tprint(\"round num z \", z)\n",
    "\t\t\tprint(\"selected_matches_diff\", selected_matches_diff)\n",
    "\t\t\tprint(\"selected_time_perc_matches\", selected_time_perc_matches)\n",
    "\t\t\tres = random.randint(1,5)\n",
    "\t\t\tfres = random.randint(1,5)\n",
    "\t\t\tconc = random.randint(1,5) \n",
    "\t\t\tprint(f\"res {res}\")\n",
    "\t\t\tprint(f\"fres {fres}\")\n",
    "\t\t\tprint(f\"conc {conc}\")\n",
    "\n",
    "\t\t\tres_part_3.append(res)\n",
    "\t\t\tres_part_3.append(fres)\n",
    "\t\t\tres_part_3.append(conc)\n",
    "\n",
    "\t\t\tfinal_grade_3.append(res_part_3)\n",
    "\t\t\tres_part_3 = []\n",
    "\tif len(fourth_to_take)>0:\n",
    "\t\tfor z in range(len(fourth_to_take)-1):\n",
    "\t\t\tprint(fourth_to_take[z])\n",
    "\t\t\tselected_matches_diff = fourth_to_take[z]\n",
    "\t\t\tselected_time_perc_matches = fourth_to_take[z+1]\n",
    "\t\t\tprint(\"selected_matches_diff\", selected_matches_diff)\n",
    "\t\t\tprint(\"selected_time_perc_matches\", selected_time_perc_matches)\n",
    "\t\t\tres = random.randint(1,5)\n",
    "\t\t\tfres = random.randint(1,5)\n",
    "\t\t\tconc = random.randint(1,5) \n",
    "\t\t\tprint(f\"res is {res}\")\n",
    "\t\t\tprint(f\"fres is {fres}\")\n",
    "\t\t\tprint(f\"conc is {conc}\")\n",
    "\n",
    "\t\t\tres_part_3.append(res)\n",
    "\t\t\tres_part_3.append(fres)\n",
    "\t\t\tres_part_3.append(conc)\n",
    "\n",
    "\t\t\tfinal_grade_3.append(res_part_3)\n",
    "\t\t\tres_part_3 = []\n",
    "\n",
    "print(\"final_grade_3\")\t\n",
    "print(final_grade_3)\t"
   ]
  },
  {
   "attachments": {},
   "cell_type": "markdown",
   "metadata": {},
   "source": [
    "<h2 style=\"color:crimson\"> 22) Convert </h2>"
   ]
  },
  {
   "cell_type": "code",
   "execution_count": 41,
   "metadata": {},
   "outputs": [
    {
     "data": {
      "text/plain": [
       "{'A': [100, 88, 45, 59, 73, 89],\n",
       " 'B': [90, 99, 56, 61, 79, 97],\n",
       " 'C': [80, 111, 67, 67, 83, 101]}"
      ]
     },
     "execution_count": 41,
     "metadata": {},
     "output_type": "execute_result"
    }
   ],
   "source": [
    "\"\"\" Convert list to dict \"\"\"\n",
    "x = [['A', 'B', 'C'],\n",
    "    [100, 90, 80],\n",
    "    [88, 99, 111],\n",
    "    [45, 56, 67],\n",
    "    [59, 61, 67],\n",
    "    [73, 79, 83],\n",
    "    [89, 97, 101]]\n",
    "\n",
    "wanted = {k: v for k, *v in zip(*x)}\n",
    "wanted"
   ]
  },
  {
   "cell_type": "code",
   "execution_count": 42,
   "metadata": {},
   "outputs": [
    {
     "name": "stdout",
     "output_type": "stream",
     "text": [
      "b'<gr>'\n"
     ]
    }
   ],
   "source": [
    "lista = [b'<re>',b'<gr>',b'<bl>',b'<ye>']\n",
    "ch = random.choices(lista, k=1)\n",
    "ch0 = ch[0]\n",
    "print(ch0)\n",
    "\n",
    "if ch0==b'<re>':\n",
    "    print(\"RED RED\")"
   ]
  },
  {
   "attachments": {},
   "cell_type": "markdown",
   "metadata": {},
   "source": [
    "<h2 style=\"color:crimson\"> 23) Sorting </h2>"
   ]
  },
  {
   "cell_type": "code",
   "execution_count": 43,
   "metadata": {},
   "outputs": [],
   "source": [
    "ele = [4, 2, 1, 3, 5]\n",
    "sorted_ele = sorted(ele)\n",
    "sorlist = copy.copy(ele)"
   ]
  },
  {
   "cell_type": "code",
   "execution_count": 44,
   "metadata": {},
   "outputs": [
    {
     "name": "stdout",
     "output_type": "stream",
     "text": [
      "140510328405312\n",
      "140510328429824\n"
     ]
    }
   ],
   "source": [
    "# \"id\" returns the unique identifier for an object. It represents the memory address of the object.\n",
    "print(id(ele))\n",
    "print(id(sorted_ele))"
   ]
  },
  {
   "cell_type": "code",
   "execution_count": 45,
   "metadata": {},
   "outputs": [
    {
     "name": "stdout",
     "output_type": "stream",
     "text": [
      "[4, 2, 1, 3, 5]\n",
      "[1, 2, 3, 4, 5]\n",
      "[1, 2, 3, 4, 5]\n",
      "[5, 4, 3, 2, 1]\n",
      "[5, 4, 3, 2, 1]\n",
      "[5, 4, 3, 2, 1]\n"
     ]
    }
   ],
   "source": [
    "# Ascending order\n",
    "sorlist.sort()\n",
    "# Descending order\n",
    "elelist = copy.copy(ele)\n",
    "elelist.sort(key=lambda x: -x)  \n",
    "sorted_elem = sorted(ele, key=lambda x: -x)\n",
    "\n",
    "sor_ele = sorted(ele, key=functools.cmp_to_key(lambda x, y: y - x))  # Sort in descending order\n",
    "\n",
    "print(ele)\n",
    "print(sorted_ele)\n",
    "print(sorlist)\n",
    "print(elelist)\n",
    "print(sorted_elem)\n",
    "print(sor_ele)"
   ]
  },
  {
   "cell_type": "code",
   "execution_count": 46,
   "metadata": {},
   "outputs": [
    {
     "name": "stdout",
     "output_type": "stream",
     "text": [
      "Unsorted list is are\n",
      "[1, 3, 52, 2, 34]\n",
      "['a', 'b', 'c', 'd', 'e']\n",
      "\n",
      "Sorted Array are: \n",
      "[52, 34, 3, 2, 1]\n",
      "['a', 'b', 'c', 'd', 'e']\n",
      "Sorted Inverted: \n",
      "[52, 34, 3, 2, 1]\n",
      "['a', 'b', 'c', 'd', 'e']\n"
     ]
    }
   ],
   "source": [
    "\"\"\" Sort \"\"\" \n",
    "audio_q = ['a','b','c','d','e']\n",
    "values_q = [1, 3, 52, 2, 34]\n",
    "#aa = sorted(aa, reverse=True)\n",
    "#print(aa)\n",
    "\n",
    "def bubblesort(elements):\n",
    "    #Looping from size of array from last index[-1] to index [0]\n",
    "    for n in range(len(elements)-1, 0, -1):\n",
    "        for i in range(n):\n",
    "            if elements[i] > elements[i + 1]:\n",
    "                # swapping data if the element is less than next element in the array\n",
    "                elements[i], elements[i + 1] = elements[i + 1], elements[i]\n",
    "        \n",
    "def bubblesort_inv(elements):\n",
    "    # Looping from size of array from last index[-1] to index [0]\n",
    "    for n in range(len(elements)-1, 0, -1):\n",
    "        for i in range(n):\n",
    "            if elements[i] < elements[i + 1]:\n",
    "                # swapping data if the element is less than next element in the array\n",
    "                elements[i], elements[i + 1] = elements[i + 1], elements[i]\n",
    "\n",
    "print(\"Unsorted list is are\") \n",
    "print(values_q)\n",
    "print(audio_q)\n",
    "bubblesort_inv(values_q)\n",
    "bubblesort(audio_q)\n",
    "print()\n",
    "print(\"Sorted Array are: \")\n",
    "print(values_q)\n",
    "print(audio_q)\n",
    "print(\"Sorted Inverted: \")\n",
    "print(values_q)\n",
    "print(audio_q)"
   ]
  },
  {
   "cell_type": "markdown",
   "metadata": {},
   "source": [
    "<h2 style=\"color:crimson\"> 24) Missing values </h2>"
   ]
  },
  {
   "cell_type": "code",
   "execution_count": 47,
   "metadata": {},
   "outputs": [
    {
     "name": "stdout",
     "output_type": "stream",
     "text": [
      "[\"'quest_1',\", \"'quest_2',\", \"'quest_3',\", \"'quest_4',\", \"'quest_5',\", \"'quest_5',\", \"'quest_5',\", \"'quest_6',\", \"'quest_6',\", \"'quest_6',\"]\n",
      "<class 'str'>\n"
     ]
    }
   ],
   "source": [
    "def find_missing(lst):\n",
    "    \"\"\" To avoid the ValueError: invalid literal for int() with base 10. \"\"\"\n",
    "    #return [x for x in range(lst[0], lst[-1]+1) if x not in lst]\n",
    "    #cleaned_lst = [int(x.strip(\"'\").split('_')[-1]) for x in lst]\n",
    "    #print(cleaned_lst)\n",
    "    #return [x for x in range(cleaned_lst[0], cleaned_lst[-1] + 1) if x not in cleaned_lst]\n",
    "\n",
    "    cleaned_lst = [int(''.join(filter(str.isdigit, x))) for x in lst]\n",
    "    return [x for x in range(cleaned_lst[0], cleaned_lst[-1] + 1) if x not in cleaned_lst]\n",
    "\n",
    "\n",
    "listone = open(\"./files_and_data/text_lists0.txt\",\"r\").read().splitlines()\n",
    "\n",
    "print(listone[0:10])\n",
    "print(type(listone[1]))\n"
   ]
  },
  {
   "cell_type": "code",
   "execution_count": 48,
   "metadata": {},
   "outputs": [
    {
     "name": "stdout",
     "output_type": "stream",
     "text": [
      "Some of the missing values:\n"
     ]
    },
    {
     "data": {
      "text/plain": [
       "[9, 19, 20, 24, 32, 39, 45, 51, 52, 53, 54, 55, 56, 57, 58, 59, 60, 61, 62, 63]"
      ]
     },
     "execution_count": 48,
     "metadata": {},
     "output_type": "execute_result"
    }
   ],
   "source": [
    "missing_values = find_missing(listone)\n",
    "\n",
    "print(\"Some missing values:\")\n",
    "missing_values[:20]"
   ]
  }
 ],
 "metadata": {
  "kernelspec": {
   "display_name": "MLearning",
   "language": "python",
   "name": "python3"
  },
  "language_info": {
   "codemirror_mode": {
    "name": "ipython",
    "version": 3
   },
   "file_extension": ".py",
   "mimetype": "text/x-python",
   "name": "python",
   "nbconvert_exporter": "python",
   "pygments_lexer": "ipython3",
   "version": "3.10.9"
  },
  "orig_nbformat": 4
 },
 "nbformat": 4,
 "nbformat_minor": 2
}
