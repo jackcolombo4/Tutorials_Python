{
 "cells": [
  {
   "cell_type": "markdown",
   "metadata": {},
   "source": [
    "<div style=\"line-height:1.2;\">\n",
    "\n",
    "<h1 style=\"color:#0FCBC6; margin-bottom: 0.2em;\"> PySpark 0: Dataframes and Queries </h1>\n",
    "</div>\n",
    "\n",
    "<div style=\"margin-top: 10px;\">\n",
    "<span style=\"display: inline-block;\">\n",
    "    <h3 style=\"color: lightblue; display: inline; margin-bottom: 0;\">Keywords:</h3>  SparkSession + spark.createDataFrame() + globals + IntegerType + withColumn()\n",
    "</span>\n",
    "</div>\n",
    "<br>\n",
    "<div style=\"margin-top: -10px;\\\">\n",
    "<div style=\"line-height:1.2\\\">\n",
    "<span style=\"display: inline-block;\\\">\n",
    "    <h3 style=\"color: red; display: inline;\\\">Notes:</h3> Check \"../Tutorials_Machine_Learning/Machine_Learning_guide/PySpark_tutorials/\" for other PySpark scripts.\n",
    "</span>\n",
    "</div>\n",
    "</div>"
   ]
  },
  {
   "cell_type": "code",
   "execution_count": 40,
   "metadata": {},
   "outputs": [],
   "source": [
    "from pyspark.sql import SparkSession\n",
    "from pyspark.sql.functions import col, sum, expr, lit, when, udf\n",
    "from pyspark.sql.functions import collect_list\n",
    "from pyspark.sql.types import IntegerType"
   ]
  },
  {
   "cell_type": "code",
   "execution_count": 2,
   "metadata": {},
   "outputs": [
    {
     "name": "stderr",
     "output_type": "stream",
     "text": [
      "23/08/28 11:24:49 WARN Utils: Your hostname, hpmint resolves to a loopback address: 127.0.1.1; using 192.168.1.81 instead (on interface eno1)\n",
      "23/08/28 11:24:49 WARN Utils: Set SPARK_LOCAL_IP if you need to bind to another address\n",
      "Setting default log level to \"WARN\".\n",
      "To adjust logging level use sc.setLogLevel(newLevel). For SparkR, use setLogLevel(newLevel).\n",
      "23/08/28 11:24:50 WARN NativeCodeLoader: Unable to load native-hadoop library for your platform... using builtin-java classes where applicable\n",
      "                                                                                \r"
     ]
    },
    {
     "name": "stdout",
     "output_type": "stream",
     "text": [
      "+--------+-----------+\n",
      "|store_id|   location|\n",
      "+--------+-----------+\n",
      "| store_1|   New York|\n",
      "| store_2|Los Angeles|\n",
      "| store_3|    Chicago|\n",
      "+--------+-----------+\n",
      "\n"
     ]
    }
   ],
   "source": [
    "# create SparkSession\n",
    "spark = SparkSession.builder.appName('store').getOrCreate()\n",
    "\n",
    "# create store dataframe\n",
    "store_data = [('store_1', 'New York'), ('store_2', 'Los Angeles'), ('store_3', 'Chicago')]\n",
    "\n",
    "store_schema = ['store_id', 'location']\n",
    "\n",
    "store = spark.createDataFrame(store_data, store_schema)\n",
    "store.show()"
   ]
  },
  {
   "cell_type": "code",
   "execution_count": 3,
   "metadata": {},
   "outputs": [
    {
     "name": "stdout",
     "output_type": "stream",
     "text": [
      "+----------+--------+--------+\n",
      "|product_id|store_id|quantity|\n",
      "+----------+--------+--------+\n",
      "| product_1| store_1|      10|\n",
      "| product_2| store_1|       5|\n",
      "| product_1| store_2|      20|\n",
      "| product_2| store_2|      15|\n",
      "| product_3| store_3|       8|\n",
      "+----------+--------+--------+\n",
      "\n"
     ]
    }
   ],
   "source": [
    "# create inventory dataframe\n",
    "inventory_data = [('product_1', 'store_1', 10),\n",
    "                    ('product_2', 'store_1', 5),\n",
    "                    ('product_1', 'store_2', 20),\n",
    "                    ('product_2', 'store_2', 15),\n",
    "                    ('product_3', 'store_3', 8)]\n",
    "\n",
    "inventory_schema = ['product_id', 'store_id', 'quantity']\n",
    "\n",
    "inventory = spark.createDataFrame(inventory_data, inventory_schema)\n",
    "inventory.show()"
   ]
  },
  {
   "cell_type": "code",
   "execution_count": 4,
   "metadata": {},
   "outputs": [
    {
     "name": "stdout",
     "output_type": "stream",
     "text": [
      "+----------+--------+\n",
      "|product_id|location|\n",
      "+----------+--------+\n",
      "| product_1|      A1|\n",
      "| product_2|      A1|\n",
      "| product_1|      B1|\n",
      "| product_2|      B1|\n",
      "| product_3|      B2|\n",
      "+----------+--------+\n",
      "\n"
     ]
    }
   ],
   "source": [
    "# create storage dataframe\n",
    "storage_data = [('product_1', 'A1'),\n",
    "                ('product_2', 'A1'),\n",
    "                ('product_1', 'B1'),\n",
    "                ('product_2', 'B1'),\n",
    "                ('product_3', 'B2')]\n",
    "\n",
    "storage_schema = ['product_id', 'location']\n",
    "\n",
    "storage = spark.createDataFrame(storage_data, storage_schema)\n",
    "storage.show()"
   ]
  },
  {
   "cell_type": "code",
   "execution_count": 5,
   "metadata": {},
   "outputs": [
    {
     "name": "stdout",
     "output_type": "stream",
     "text": [
      "DataFrame[store_id: string, location: string]\n",
      "DataFrame[product_id: string, store_id: string, quantity: bigint]\n",
      "DataFrame[product_id: string, location: string]\n"
     ]
    }
   ],
   "source": [
    "# df_list = [store, inventory, storage]\n",
    "df_list = [\"store\", \"inventory\", \"storage\"]\n",
    "\n",
    "for d in df_list:\n",
    "    df = globals()[d]\n",
    "    df.createOrReplaceTempView(d)\n",
    "    #print(d)\n",
    "    print(df)\n",
    "\n",
    "#df"
   ]
  },
  {
   "attachments": {},
   "cell_type": "markdown",
   "metadata": {},
   "source": [
    "<h3 style=\"color:#0FCBC6\"> Queries </h3>"
   ]
  },
  {
   "cell_type": "code",
   "execution_count": 6,
   "metadata": {},
   "outputs": [
    {
     "name": "stderr",
     "output_type": "stream",
     "text": [
      "[Stage 7:============================================>              (3 + 1) / 4]\r"
     ]
    },
    {
     "name": "stdout",
     "output_type": "stream",
     "text": [
      "+-----------+----------+--------------+\n",
      "|   location|product_id|total_quantity|\n",
      "+-----------+----------+--------------+\n",
      "|Los Angeles| product_1|            20|\n",
      "|Los Angeles| product_2|            15|\n",
      "|   New York| product_2|             5|\n",
      "|    Chicago| product_3|             8|\n",
      "|   New York| product_1|            10|\n",
      "+-----------+----------+--------------+\n",
      "\n"
     ]
    },
    {
     "name": "stderr",
     "output_type": "stream",
     "text": [
      "                                                                                \r"
     ]
    }
   ],
   "source": [
    "# Get the total quantity of each product in each store\n",
    "result = spark.sql(\"SELECT s.location, i.product_id, SUM(i.quantity) as total_quantity FROM store s JOIN inventory i ON s.store_id = i.store_id GROUP BY s.location, i.product_id\")\n",
    "result.show()"
   ]
  },
  {
   "cell_type": "code",
   "execution_count": 7,
   "metadata": {},
   "outputs": [
    {
     "name": "stderr",
     "output_type": "stream",
     "text": [
      "[Stage 16:===========================================>              (3 + 1) / 4]\r"
     ]
    },
    {
     "name": "stdout",
     "output_type": "stream",
     "text": [
      "+-----------+----------+--------------+\n",
      "|   location|product_id|total_quantity|\n",
      "+-----------+----------+--------------+\n",
      "|Los Angeles| product_1|            20|\n",
      "|Los Angeles| product_2|            15|\n",
      "|   New York| product_2|             5|\n",
      "|    Chicago| product_3|             8|\n",
      "|   New York| product_1|            10|\n",
      "+-----------+----------+--------------+\n",
      "\n"
     ]
    },
    {
     "name": "stderr",
     "output_type": "stream",
     "text": [
      "                                                                                \r"
     ]
    }
   ],
   "source": [
    "\"\"\" Get the total quantity of each product in each store using DataFrame operations. \"\"\"\n",
    "result_df = store.join(inventory, store.store_id == inventory.store_id).groupBy(store.location, inventory.product_id).agg(sum(inventory.quantity).alias(\"total_quantity\"))\n",
    "result_df.show()"
   ]
  },
  {
   "attachments": {},
   "cell_type": "markdown",
   "metadata": {},
   "source": [
    "<h3 style=\"color:#0FCBC6\"> Add new columns </h3>"
   ]
  },
  {
   "attachments": {},
   "cell_type": "markdown",
   "metadata": {},
   "source": [
    "#### => Create a new table"
   ]
  },
  {
   "cell_type": "code",
   "execution_count": 23,
   "metadata": {},
   "outputs": [
    {
     "data": {
      "text/plain": [
       "[('product_1', 15),\n",
       " ('product_2', 25),\n",
       " ('product_1', 10),\n",
       " ('product_2', 30),\n",
       " ('product_3', 8)]"
      ]
     },
     "execution_count": 23,
     "metadata": {},
     "output_type": "execute_result"
    }
   ],
   "source": [
    "costs_list = [15, 25, 10, 30, 8]\n",
    "\n",
    "# Create a DataFrame with product_id and cost columns\n",
    "costs_data = list(zip([item[0] for item in inventory_data], costs_list))\n",
    "costs_data"
   ]
  },
  {
   "cell_type": "code",
   "execution_count": 21,
   "metadata": {},
   "outputs": [
    {
     "name": "stderr",
     "output_type": "stream",
     "text": [
      "                                                                                \r"
     ]
    },
    {
     "name": "stdout",
     "output_type": "stream",
     "text": [
      "+----------+--------+--------+----+\n",
      "|product_id|store_id|quantity|cost|\n",
      "+----------+--------+--------+----+\n",
      "| product_1| store_1|      10|  15|\n",
      "| product_2| store_1|       5|  25|\n",
      "| product_1| store_2|      20|  15|\n",
      "| product_2| store_2|      15|  25|\n",
      "| product_3| store_3|       8|  10|\n",
      "+----------+--------+--------+----+\n",
      "\n"
     ]
    },
    {
     "name": "stderr",
     "output_type": "stream",
     "text": [
      "                                                                                \r"
     ]
    }
   ],
   "source": [
    "# Create a dictionary of costs for each product, instead of a list\n",
    "costs = {\"product_1\": 15, \"product_2\": 25, \"product_3\": 10, \"product_4\": 30, \"product_5\": 8}\n",
    "\n",
    "# Define a UDF to map product_id to cost\n",
    "def map_cost(product_id):\n",
    "    return costs.get(product_id, None)\n",
    "\n",
    "# Register the UDF\n",
    "map_cost_udf = udf(map_cost, IntegerType())\n",
    "\n",
    "# Add the \"cost\" column using the UDF\n",
    "inventory_with_costs = inventory.withColumn(\"cost\", map_cost_udf(col(\"product_id\")))\n",
    "\n",
    "inventory_with_costs.show()"
   ]
  },
  {
   "cell_type": "code",
   "execution_count": 20,
   "metadata": {},
   "outputs": [
    {
     "name": "stdout",
     "output_type": "stream",
     "text": [
      "+----------+--------+--------+----+\n",
      "|product_id|store_id|quantity|cost|\n",
      "+----------+--------+--------+----+\n",
      "| product_1| store_1|      10|  15|\n",
      "| product_2| store_1|       5|  25|\n",
      "| product_1| store_2|      20|  15|\n",
      "| product_2| store_2|      15|  25|\n",
      "| product_3| store_3|       8|  10|\n",
      "+----------+--------+--------+----+\n",
      "\n"
     ]
    }
   ],
   "source": [
    "\"\"\" another solution \"\"\"\n",
    "# Add the \"cost\" column based on the product IDs using 'when'\n",
    "inventory_with_costs = inventory.withColumn(\"cost\",\n",
    "    when(col(\"product_id\") == \"product_1\", costs_list[0])\n",
    "    .when(col(\"product_id\") == \"product_2\", costs_list[1])\n",
    "    .when(col(\"product_id\") == \"product_3\", costs_list[2])\n",
    "    .when(col(\"product_id\") == \"product_4\", costs_list[3])\n",
    "    .when(col(\"product_id\") == \"product_5\", costs_list[4])\n",
    "    .otherwise(None)\n",
    ")\n",
    "\n",
    "inventory_with_costs.show()"
   ]
  },
  {
   "attachments": {},
   "cell_type": "markdown",
   "metadata": {},
   "source": [
    "#### => Add new column in place"
   ]
  },
  {
   "cell_type": "code",
   "execution_count": 12,
   "metadata": {},
   "outputs": [
    {
     "name": "stdout",
     "output_type": "stream",
     "text": [
      "+----------+--------+--------+----+\n",
      "|product_id|store_id|quantity|cost|\n",
      "+----------+--------+--------+----+\n",
      "| product_1| store_1|      10|  15|\n",
      "| product_2| store_1|       5|  25|\n",
      "| product_1| store_2|      20|  15|\n",
      "| product_2| store_2|      15|  25|\n",
      "| product_3| store_3|       8|   8|\n",
      "+----------+--------+--------+----+\n",
      "\n"
     ]
    }
   ],
   "source": [
    "# Create a list of conditions and corresponding costs using the 'when' function\n",
    "conditions = [col(\"product_id\") == item[0] for item in inventory_data]\n",
    "cost_expr = [(cond, cost) for cond, cost in zip(conditions, costs_list)]\n",
    "\n",
    "# Add the \"cost\" column to the inventory DataFrame\n",
    "inventory = inventory.withColumn(\"cost\", \n",
    "    when(cost_expr[0][0], cost_expr[0][1])\n",
    "    .when(cost_expr[1][0], cost_expr[1][1])\n",
    "    .when(cost_expr[2][0], cost_expr[2][1])\n",
    "    .when(cost_expr[3][0], cost_expr[3][1])\n",
    "    .when(cost_expr[4][0], cost_expr[4][1])\n",
    "    .otherwise(None)\n",
    ")\n",
    "\n",
    "inventory.show()"
   ]
  },
  {
   "cell_type": "code",
   "execution_count": 25,
   "metadata": {},
   "outputs": [
    {
     "name": "stdout",
     "output_type": "stream",
     "text": [
      "+----------+--------+--------+----+-----+\n",
      "|product_id|store_id|quantity|cost|value|\n",
      "+----------+--------+--------+----+-----+\n",
      "| product_1| store_1|      10|  15|  150|\n",
      "| product_2| store_1|       5|  25|  125|\n",
      "| product_1| store_2|      20|  15|  300|\n",
      "| product_2| store_2|      15|  25|  375|\n",
      "| product_3| store_3|       8|   8|   64|\n",
      "+----------+--------+--------+----+-----+\n",
      "\n"
     ]
    }
   ],
   "source": [
    "# Add a column to the inventory DataFrame to calculate the value of store related to each product\n",
    "result_inventory = inventory.withColumn(\"value\", inventory.quantity * inventory.cost)  \n",
    "result_inventory.show()"
   ]
  },
  {
   "cell_type": "code",
   "execution_count": 30,
   "metadata": {},
   "outputs": [
    {
     "name": "stdout",
     "output_type": "stream",
     "text": [
      "+--------+---------------------+\n",
      "|store_id|total_amount_of_value|\n",
      "+--------+---------------------+\n",
      "| store_1|                  275|\n",
      "| store_2|                  675|\n",
      "| store_3|                   64|\n",
      "+--------+---------------------+\n",
      "\n"
     ]
    }
   ],
   "source": [
    "# Total asset of each store\n",
    "inventory_with_value = inventory.withColumn(\"value\", expr(\"quantity * cost\"))  \n",
    "total_inventory_value = inventory_with_value.groupBy(\"store_id\").agg(expr(\"sum(value) as total_amount_of_value\"))\n",
    "total_inventory_value.show()"
   ]
  },
  {
   "cell_type": "code",
   "execution_count": 15,
   "metadata": {},
   "outputs": [
    {
     "name": "stderr",
     "output_type": "stream",
     "text": [
      "[Stage 37:==============>                                           (1 + 3) / 4]\r"
     ]
    },
    {
     "name": "stdout",
     "output_type": "stream",
     "text": [
      "+--------+--------------------+\n",
      "|location|            products|\n",
      "+--------+--------------------+\n",
      "|      B2|         [product_3]|\n",
      "|      B1|[product_1, produ...|\n",
      "|      A1|[product_1, produ...|\n",
      "+--------+--------------------+\n",
      "\n"
     ]
    },
    {
     "name": "stderr",
     "output_type": "stream",
     "text": [
      "                                                                                \r"
     ]
    }
   ],
   "source": [
    "# List Products in Each Storage Location\n",
    "storage_products = storage.join(inventory, \"product_id\").groupBy(\"location\").agg(expr(\"collect_list(product_id) as products\"))\n",
    "storage_products.show()"
   ]
  },
  {
   "cell_type": "code",
   "execution_count": 16,
   "metadata": {},
   "outputs": [
    {
     "name": "stdout",
     "output_type": "stream",
     "text": [
      "+--------+----------+--------+\n",
      "|store_id|product_id|quantity|\n",
      "+--------+----------+--------+\n",
      "| store_1| product_2|       5|\n",
      "| store_3| product_3|       8|\n",
      "+--------+----------+--------+\n",
      "\n"
     ]
    }
   ],
   "source": [
    "# Find Stores with Low Inventory\n",
    "low_inventory_stores = inventory.filter(col(\"quantity\") < 10).select(\"store_id\", \"product_id\", \"quantity\")\n",
    "low_inventory_stores.show()"
   ]
  },
  {
   "cell_type": "code",
   "execution_count": 17,
   "metadata": {},
   "outputs": [
    {
     "name": "stdout",
     "output_type": "stream",
     "text": [
      "+--------+------------+\n",
      "|store_id|num_products|\n",
      "+--------+------------+\n",
      "| store_2|           2|\n",
      "| store_3|           1|\n",
      "| store_1|           2|\n",
      "+--------+------------+\n",
      "\n"
     ]
    }
   ],
   "source": [
    "# Count Products in Each Store\n",
    "products_per_store = inventory.groupBy(\"store_id\").agg(expr(\"count(distinct product_id) as num_products\"))\n",
    "products_per_store.show()"
   ]
  },
  {
   "cell_type": "code",
   "execution_count": 39,
   "metadata": {},
   "outputs": [
    {
     "name": "stdout",
     "output_type": "stream",
     "text": [
      "+----------+------------+\n",
      "|product_id|avg_quantity|\n",
      "+----------+------------+\n",
      "| product_1|        15.0|\n",
      "| product_2|        10.0|\n",
      "| product_3|         8.0|\n",
      "+----------+------------+\n",
      "\n"
     ]
    }
   ],
   "source": [
    "# Calculate Average Inventory Quantity\n",
    "avg_inventory_per_product = inventory.groupBy(\"product_id\").agg(expr(\"avg(quantity) as avg_quantity\"))\n",
    "avg_inventory_per_product.show()"
   ]
  },
  {
   "cell_type": "code",
   "execution_count": 38,
   "metadata": {},
   "outputs": [
    {
     "name": "stderr",
     "output_type": "stream",
     "text": [
      "[Stage 72:>                                                         (0 + 4) / 4]\r"
     ]
    },
    {
     "name": "stdout",
     "output_type": "stream",
     "text": [
      "+----------+-----------------+\n",
      "|product_id|storage_locations|\n",
      "+----------+-----------------+\n",
      "| product_1| [A1, A1, B1, B1]|\n",
      "| product_2| [A1, A1, B1, B1]|\n",
      "| product_3|             [B2]|\n",
      "+----------+-----------------+\n",
      "\n"
     ]
    },
    {
     "name": "stderr",
     "output_type": "stream",
     "text": [
      "                                                                                \r"
     ]
    }
   ],
   "source": [
    "# Storage location\n",
    "storage_products_info = storage.join(inventory, \"product_id\") \\\n",
    "    .groupBy(\"product_id\") \\\n",
    "    .agg(collect_list(\"location\").alias(\"storage_locations\"))\n",
    "\n",
    "storage_products_info.show()"
   ]
  }
 ],
 "metadata": {
  "kernelspec": {
   "display_name": "MLearning",
   "language": "python",
   "name": "python3"
  },
  "language_info": {
   "codemirror_mode": {
    "name": "ipython",
    "version": 3
   },
   "file_extension": ".py",
   "mimetype": "text/x-python",
   "name": "python",
   "nbconvert_exporter": "python",
   "pygments_lexer": "ipython3",
   "version": "3.10.9"
  },
  "orig_nbformat": 4
 },
 "nbformat": 4,
 "nbformat_minor": 2
}
