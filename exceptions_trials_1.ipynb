{
 "cells": [
  {
   "attachments": {},
   "cell_type": "markdown",
   "metadata": {},
   "source": [
    "<h1 style=\"color:lightcoral\"> Exceptions handling in Python 1 </h1>"
   ]
  },
  {
   "cell_type": "code",
   "execution_count": 31,
   "metadata": {},
   "outputs": [],
   "source": [
    "import os\n",
    "import re\n",
    "import sys\n",
    "import socket\n",
    "import traceback\n",
    "import threading"
   ]
  },
  {
   "cell_type": "code",
   "execution_count": 3,
   "metadata": {},
   "outputs": [],
   "source": [
    "# Enable the faulthandler, to handle expections and retrieve the causes of diagnosing crashes or faults\n",
    "import faulthandler; faulthandler.enable()"
   ]
  },
  {
   "cell_type": "markdown",
   "metadata": {},
   "source": [
    "Set the maximum depth of recursion bypassing the the default depth limit used to prevent excessive memory usage, <br>\n",
    "due to recursive function calls => [10 millions].    \n",
    "\n",
    "Set the stack (memory used for function call management and local variables) size for Python threads [2^27 bytes => 128 MB]."
   ]
  },
  {
   "cell_type": "code",
   "execution_count": 4,
   "metadata": {},
   "outputs": [
    {
     "data": {
      "text/plain": [
       "0"
      ]
     },
     "execution_count": 4,
     "metadata": {},
     "output_type": "execute_result"
    }
   ],
   "source": [
    "sys.setrecursionlimit(10**7)\n",
    "threading.stack_size(2**27)"
   ]
  },
  {
   "cell_type": "markdown",
   "metadata": {},
   "source": [
    "<h3 style=\"color:lightcoral\"> <u> Example #1 </u> </h3>"
   ]
  },
  {
   "cell_type": "code",
   "execution_count": 5,
   "metadata": {},
   "outputs": [
    {
     "name": "stdout",
     "output_type": "stream",
     "text": [
      "##################################################\n",
      "Error! An Exception of type TypeError occurred.\n",
      "Namely the exception is: \n",
      "(\"unsupported operand type(s) for +: 'int' and 'str'\",)\n",
      "The detected bug is at line 3 of file: 3373730586.py\n",
      "The culprit is: q=number_five+\"ecco\"\n",
      "##################################################\n"
     ]
    }
   ],
   "source": [
    "\"\"\" Custom exception to know the exact nature of the error and its exact origin.\n",
    "Useful for nested calls in different modules.\n",
    "\"\"\"\n",
    "number_five = 5\n",
    "try:\n",
    "    q = number_five + \"ciao\"\n",
    "    \n",
    "except Exception as e:\n",
    "    print(\"##################################################\")\n",
    "    exc_type, exc_obj, exc_tb = sys.exc_info()\n",
    "    fname = os.path.split(exc_tb.tb_frame.f_code.co_filename)[1]\n",
    "    msg = \"Error! An Exception of type {0} occurred.\\nNamely the exception is: \\n{1!r}\"\n",
    "    message1 = msg.format(type(e).__name__, e.args)\n",
    "    print(message1)\n",
    "    print(\"The detected bug is at line {} of file: {}\".format(exc_tb.tb_lineno,fname))\n",
    "    error_is = traceback.format_exc().splitlines()\n",
    "    bb = ''.join(error_is[2].split())\n",
    "    print(\"The culprit is: {}\".format(bb))\n",
    "    print(\"##################################################\")"
   ]
  },
  {
   "cell_type": "markdown",
   "metadata": {},
   "source": [
    "<h3 style=\"color:lightcoral\"> <u> Example #2 </u> </h3>"
   ]
  },
  {
   "cell_type": "code",
   "execution_count": 30,
   "metadata": {},
   "outputs": [
    {
     "name": "stdout",
     "output_type": "stream",
     "text": [
      "An error occurred while processing the file: [Errno 2] No such file or directory: 'inexistent_file.txt'\n"
     ]
    }
   ],
   "source": [
    "\"\"\" Generic Exception to catch all exceptions \"\"\"\n",
    "try:\n",
    "    with open(\"inexistent_file.txt\", \"r\") as file:\n",
    "        content = file.read()\n",
    "except Exception as e:\n",
    "    print(f\"An error occurred while processing the file: {e}\")"
   ]
  },
  {
   "cell_type": "code",
   "execution_count": 26,
   "metadata": {},
   "outputs": [
    {
     "name": "stdout",
     "output_type": "stream",
     "text": [
      "99999\n"
     ]
    }
   ],
   "source": [
    "\"\"\" Generic Exception to just continue the execution in another branch.\n",
    "regexp:\n",
    "- r: \"raw string\" prefix as always to treat backslashes as literal characters \n",
    "- \\d: digits (0-9)\n",
    "- +: quantifier to indicate that one or more occurrences of the desired pattern are considered\n",
    "\"\"\"\n",
    "#customized = 'ask_quest_111'\n",
    "customized = 'ask_quest'\n",
    "try:\t\n",
    "    if 'ask_quest' in customized: \n",
    "        plus_one_game = 1\n",
    "        one_quest_id = int(re.search(r'\\d+', customized).group())\n",
    "except Exception as e:\n",
    "    one_quest_id = 99999\n",
    "    plus_one_game = 0\n",
    "\n",
    "print(one_quest_id)"
   ]
  },
  {
   "cell_type": "markdown",
   "metadata": {},
   "source": [
    "<h3 style=\"color:lightcoral\"> <u> Example #3 </u> </h3>"
   ]
  },
  {
   "cell_type": "code",
   "execution_count": 7,
   "metadata": {},
   "outputs": [
    {
     "name": "stdout",
     "output_type": "stream",
     "text": [
      "Caught exception: division by zero\n"
     ]
    }
   ],
   "source": [
    "\"\"\" ZeroDivisionError \"\"\"\n",
    "try:\n",
    "    # Code that may raise multiple exceptions\n",
    "    result = 10 / 0\n",
    "except (ZeroDivisionError, TypeError) as e:\n",
    "    print(\"Caught exception:\", str(e))"
   ]
  },
  {
   "cell_type": "markdown",
   "metadata": {},
   "source": [
    "<h3 style=\"color:lightcoral\"> <u> Example #4 </u> </h3>"
   ]
  },
  {
   "cell_type": "code",
   "execution_count": 29,
   "metadata": {},
   "outputs": [
    {
     "name": "stdout",
     "output_type": "stream",
     "text": [
      "ok result is  1\n"
     ]
    }
   ],
   "source": [
    "# Raise different exceptions\n",
    "try:\n",
    "    #result = int(1.3)\n",
    "    #result = int(\"this_is_a_string\")\n",
    "    #result = int(\"this_is_a_string\")\n",
    "    print(\"ok result is \", result)\n",
    "except ValueError:\n",
    "    print(\"Caught ValueError: Unable to convert to int.\")\n",
    "except ZeroDivisionError:\n",
    "    print(\"Caught ZeroDivisionError: Cannot divide by zero.\")\n",
    "except Exception as e:\n",
    "    print(\"Caught general exception:\", str(e))"
   ]
  },
  {
   "cell_type": "markdown",
   "metadata": {},
   "source": [
    "<h3 style=\"color:lightcoral\"> <u> Example #5 </u> </h3>"
   ]
  },
  {
   "cell_type": "code",
   "execution_count": 9,
   "metadata": {},
   "outputs": [
    {
     "name": "stdout",
     "output_type": "stream",
     "text": [
      "Caught ZeroDivisionError: Cannot divide by zero.\n",
      "Finally block executed.\n"
     ]
    }
   ],
   "source": [
    "try:\n",
    "    # Code that may raise an exception\n",
    "    result = 10 / 0\n",
    "except ZeroDivisionError:\n",
    "    print(\"Caught ZeroDivisionError: Cannot divide by zero.\")\n",
    "finally:\n",
    "    print(\"Finally block executed.\")"
   ]
  },
  {
   "cell_type": "markdown",
   "metadata": {},
   "source": [
    "<h3 style=\"color:lightcoral\"> <u> Example #6 </u> </h3>"
   ]
  },
  {
   "cell_type": "code",
   "execution_count": 10,
   "metadata": {},
   "outputs": [
    {
     "name": "stdout",
     "output_type": "stream",
     "text": [
      "Caught ValueError: Cannot divide by zero.\n"
     ]
    }
   ],
   "source": [
    "def divide(a, b):\n",
    "    if b == 0:\n",
    "        raise ValueError(\"Cannot divide by zero.\")\n",
    "    return a / b\n",
    "\n",
    "try:\n",
    "    # Call the function that may raise an exception\n",
    "    result = divide(10, 0)\n",
    "except ValueError as e:\n",
    "    print(\"Caught ValueError:\", str(e))"
   ]
  },
  {
   "cell_type": "markdown",
   "metadata": {},
   "source": [
    "<h3 style=\"color:lightcoral\"> <u> Example #7 </u> </h3>"
   ]
  },
  {
   "cell_type": "code",
   "execution_count": 80,
   "metadata": {},
   "outputs": [],
   "source": [
    "def connect_to_server(server_ip, port, timeout=4, normal_way=True, tim=False):\n",
    "    \"\"\" Attempt to establish a connection to a remote server using a socket.\n",
    "    Just used as example to raise various exceptions. \n",
    "\n",
    "    Parameters:\n",
    "        - IP address or hostname of the remote server [str]\n",
    "        - port number to connect to on the remote server [int]\n",
    "\n",
    "    Raises:\n",
    "        ConnectionError: If the connection to the server cannot be established\n",
    "        TimeoutError: If the connection to the server times out\n",
    "        PermissionError: If connecting to a privileged port without sufficient permissions\n",
    "        socket.error: If an unexpected socket-related error occurs\n",
    "\n",
    "    Details: \n",
    "        # sock.settimeout(timeout) will raise TimeoutError before other specific errors (like PermissionError).\n",
    "        Added to test purpose.\n",
    "\n",
    "    Usage: connect_to_server(\"example.com\", 80)\n",
    "    \"\"\"\n",
    "    try:\n",
    "        with socket.socket(socket.AF_INET, socket.SOCK_STREAM) as sock:\n",
    "            sock.settimeout(timeout)\n",
    "            sock.connect((server_ip, port))\n",
    "            if not normal_way:\n",
    "                raise ConnectionError(\"A deliberate connection error. Deliberate simulation\")\n",
    "            if tim:\n",
    "                raise TimeoutError(\"A deliberate timeout error. for deliberate simulation\")\n",
    "    except ConnectionError as connerr:\n",
    "        print(f\"ConnectionError: Failed to connect to the server: {connerr}\")\n",
    "    except TimeoutError as timerr:\n",
    "        print(f\"TimeoutError: Connection to the server timed out: {timerr}\")\n",
    "    except PermissionError as pe:\n",
    "        print(f\"PermissionError: Insufficient permissions to connect to port {port}: {pe}\")\n",
    "    except socket.error as sockerr:\n",
    "        print(f\"SocketError: An unexpected socket error occurred: {sockerr}\")\n",
    "    except Exception as e:\n",
    "        print(f\"An unexpected error occurred: {e}\")\n",
    "        "
   ]
  },
  {
   "cell_type": "code",
   "execution_count": 78,
   "metadata": {},
   "outputs": [],
   "source": [
    "# Working \n",
    "try:\n",
    "    connect_to_server(\"example.com\", 80)\n",
    "except KeyboardInterrupt:\n",
    "    print(\"Connection attempt interrupted by the user.\")\n",
    "except Exception as e:\n",
    "    print(f\"An error occurred: {e}\")"
   ]
  },
  {
   "cell_type": "code",
   "execution_count": 74,
   "metadata": {},
   "outputs": [
    {
     "name": "stdout",
     "output_type": "stream",
     "text": [
      "An unexpected error occurred: [Errno -2] Name or service not known\n"
     ]
    }
   ],
   "source": [
    "connect_to_server(\"invalid_ip_address\", 80)"
   ]
  },
  {
   "cell_type": "code",
   "execution_count": 81,
   "metadata": {},
   "outputs": [
    {
     "name": "stdout",
     "output_type": "stream",
     "text": [
      "TimeoutError: Connection to the server timed out: timed out\n"
     ]
    }
   ],
   "source": [
    "connect_to_server(\"example.com\", 9999)"
   ]
  },
  {
   "cell_type": "code",
   "execution_count": 68,
   "metadata": {},
   "outputs": [
    {
     "name": "stdout",
     "output_type": "stream",
     "text": [
      "An unexpected error occurred: str, bytes or bytearray expected, not int\n"
     ]
    }
   ],
   "source": [
    "connect_to_server(11, 80)"
   ]
  },
  {
   "cell_type": "code",
   "execution_count": 69,
   "metadata": {},
   "outputs": [
    {
     "name": "stdout",
     "output_type": "stream",
     "text": [
      "ConnectionError: Failed to connect to the server: A deliberate connection error. Deliberate simulation\n"
     ]
    }
   ],
   "source": [
    "connect_to_server(\"example.com\", 80, normal_way=False)"
   ]
  },
  {
   "cell_type": "code",
   "execution_count": 70,
   "metadata": {},
   "outputs": [
    {
     "name": "stdout",
     "output_type": "stream",
     "text": [
      "TimeoutError: Connection to the server timed out: A deliberate timeout error. for deliberate simulation\n"
     ]
    }
   ],
   "source": [
    "connect_to_server(\"example.com\", 80, tim=True)"
   ]
  },
  {
   "cell_type": "code",
   "execution_count": 83,
   "metadata": {},
   "outputs": [
    {
     "name": "stdout",
     "output_type": "stream",
     "text": [
      "TimeoutError: Connection to the server timed out: timed out\n"
     ]
    }
   ],
   "source": [
    "connect_to_server(\"example.com\", 8080)"
   ]
  }
 ],
 "metadata": {
  "kernelspec": {
   "display_name": "just_for_test",
   "language": "python",
   "name": "python3"
  },
  "language_info": {
   "codemirror_mode": {
    "name": "ipython",
    "version": 3
   },
   "file_extension": ".py",
   "mimetype": "text/x-python",
   "name": "python",
   "nbconvert_exporter": "python",
   "pygments_lexer": "ipython3",
   "version": "3.10.9"
  },
  "orig_nbformat": 4
 },
 "nbformat": 4,
 "nbformat_minor": 2
}
