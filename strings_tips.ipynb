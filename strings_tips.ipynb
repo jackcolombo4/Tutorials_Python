{
 "cells": [
  {
   "attachments": {},
   "cell_type": "markdown",
   "metadata": {},
   "source": [
    "<div style=\"line-height:0.5\">\n",
    "<h1 style=\"color:thistle\"> Strings in Python </h1>\n",
    "<span style=\"display: inline-block;\">\n",
    "    <h3 style=\"color: lightblue; display: inline;\">Keywords:</h3> Counter + strip + split + __add__ + join\n",
    "</span>\n",
    "</div>"
   ]
  },
  {
   "cell_type": "code",
   "execution_count": 16,
   "metadata": {},
   "outputs": [],
   "source": [
    "import re\n",
    "import random\n",
    "from collections import Counter"
   ]
  },
  {
   "cell_type": "code",
   "execution_count": 2,
   "metadata": {},
   "outputs": [
    {
     "name": "stdout",
     "output_type": "stream",
     "text": [
      "True\n",
      "['__add__', '__class__', '__contains__', '__delattr__', '__dir__', '__doc__', '__eq__', '__format__', '__ge__', '__getattribute__', '__getitem__', '__getnewargs__', '__gt__', '__hash__', '__init__', '__init_subclass__', '__iter__', '__le__', '__len__', '__lt__', '__mod__', '__mul__', '__ne__', '__new__', '__reduce__', '__reduce_ex__', '__repr__', '__rmod__', '__rmul__', '__setattr__', '__sizeof__', '__str__', '__subclasshook__', 'capitalize', 'casefold', 'center', 'count', 'encode', 'endswith', 'expandtabs', 'find', 'format', 'format_map', 'index', 'isalnum', 'isalpha', 'isascii', 'isdecimal', 'isdigit', 'isidentifier', 'islower', 'isnumeric', 'isprintable', 'isspace', 'istitle', 'isupper', 'join', 'ljust', 'lower', 'lstrip', 'maketrans', 'partition', 'removeprefix', 'removesuffix', 'replace', 'rfind', 'rindex', 'rjust', 'rpartition', 'rsplit', 'rstrip', 'split', 'splitlines', 'startswith', 'strip', 'swapcase', 'title', 'translate', 'upper', 'zfill']\n"
     ]
    }
   ],
   "source": [
    "string_x = \"mr_Robot\"\n",
    "print(isinstance(string_x, str))  \n",
    "print(dir(string_x)) "
   ]
  },
  {
   "cell_type": "code",
   "execution_count": 3,
   "metadata": {},
   "outputs": [
    {
     "data": {
      "text/plain": [
       "'Mr_robot'"
      ]
     },
     "execution_count": 3,
     "metadata": {},
     "output_type": "execute_result"
    }
   ],
   "source": [
    "string_x.capitalize()"
   ]
  },
  {
   "cell_type": "code",
   "execution_count": 1,
   "metadata": {},
   "outputs": [],
   "source": [
    "def my_capitalizer(stri: str) -> str:\n",
    "    return stri.upper()\n",
    "\n",
    "to_capi = \"i am a name\"\n",
    "capita = [my_capitalizer(stri) for stri in to_capi]"
   ]
  },
  {
   "cell_type": "code",
   "execution_count": null,
   "metadata": {},
   "outputs": [
    {
     "data": {
      "text/plain": [
       "'mr_robot'"
      ]
     },
     "execution_count": 7,
     "metadata": {},
     "output_type": "execute_result"
    }
   ],
   "source": [
    "string_x.casefold()"
   ]
  },
  {
   "cell_type": "code",
   "execution_count": null,
   "metadata": {},
   "outputs": [
    {
     "data": {
      "text/plain": [
       "True"
      ]
     },
     "execution_count": 10,
     "metadata": {},
     "output_type": "execute_result"
    }
   ],
   "source": [
    "string_x.endswith('t')"
   ]
  },
  {
   "cell_type": "code",
   "execution_count": null,
   "metadata": {},
   "outputs": [
    {
     "data": {
      "text/plain": [
       "False"
      ]
     },
     "execution_count": 11,
     "metadata": {},
     "output_type": "execute_result"
    }
   ],
   "source": [
    "string_x.startswith('M')    #case sensitive!"
   ]
  },
  {
   "cell_type": "code",
   "execution_count": null,
   "metadata": {},
   "outputs": [
    {
     "data": {
      "text/plain": [
       "5"
      ]
     },
     "execution_count": 12,
     "metadata": {},
     "output_type": "execute_result"
    }
   ],
   "source": [
    "# Get the lowest index of the substring if found in the string (otherwise returns -1)\n",
    "string_x.find('bo')"
   ]
  },
  {
   "cell_type": "code",
   "execution_count": null,
   "metadata": {},
   "outputs": [
    {
     "data": {
      "text/plain": [
       "'mr_robot'"
      ]
     },
     "execution_count": 13,
     "metadata": {},
     "output_type": "execute_result"
    }
   ],
   "source": [
    "string_x.format()"
   ]
  },
  {
   "cell_type": "code",
   "execution_count": null,
   "metadata": {},
   "outputs": [
    {
     "data": {
      "text/plain": [
       "\"Ciao Mister, how are you? Everything's good?\""
      ]
     },
     "execution_count": 54,
     "metadata": {},
     "output_type": "execute_result"
    }
   ],
   "source": [
    "# Format using key pairs in a mapping object\n",
    "st_is = \"Ciao {name}, how are you? Everything's {mood}?\"\n",
    "mapping = {'name': 'Mister', 'mood': 'good'}\n",
    "st_is.format_map(mapping)"
   ]
  },
  {
   "cell_type": "code",
   "execution_count": null,
   "metadata": {},
   "outputs": [
    {
     "data": {
      "text/plain": [
       "(1, 3)"
      ]
     },
     "execution_count": 14,
     "metadata": {},
     "output_type": "execute_result"
    }
   ],
   "source": [
    "string_x.index('r'), string_x.index('ro')"
   ]
  },
  {
   "cell_type": "markdown",
   "metadata": {},
   "source": [
    "<h3 style=\"color:thistle\"> => Investigate </h3>"
   ]
  },
  {
   "cell_type": "code",
   "execution_count": null,
   "metadata": {},
   "outputs": [],
   "source": [
    "# Check if it is a valid identifier in Python\n",
    "string_x.isidentifier()"
   ]
  },
  {
   "cell_type": "code",
   "execution_count": null,
   "metadata": {},
   "outputs": [
    {
     "name": "stdout",
     "output_type": "stream",
     "text": [
      "True\n"
     ]
    }
   ],
   "source": [
    "\"\"\" Check if it contains only alphanumeric characters \"\"\"\n",
    "android = \"R2D2\"\n",
    "is_alphanumeric = android.isalnum()\n",
    "print(is_alphanumeric)  "
   ]
  },
  {
   "cell_type": "code",
   "execution_count": null,
   "metadata": {},
   "outputs": [
    {
     "data": {
      "text/plain": [
       "True"
      ]
     },
     "execution_count": 58,
     "metadata": {},
     "output_type": "execute_result"
    }
   ],
   "source": [
    "# Check if all char are ASCII characters (code [0-127])\n",
    "android.isascii()"
   ]
  },
  {
   "cell_type": "code",
   "execution_count": null,
   "metadata": {},
   "outputs": [
    {
     "data": {
      "text/plain": [
       "False"
      ]
     },
     "execution_count": 59,
     "metadata": {},
     "output_type": "execute_result"
    }
   ],
   "source": [
    "\"\"\" Check if all characters are digits \"\"\"\n",
    "android.isdecimal()"
   ]
  },
  {
   "cell_type": "code",
   "execution_count": null,
   "metadata": {},
   "outputs": [
    {
     "data": {
      "text/plain": [
       "(True, False)"
      ]
     },
     "execution_count": 62,
     "metadata": {},
     "output_type": "execute_result"
    }
   ],
   "source": [
    "# Check if all characters are numeric (i.e. digits, or characters that can be represented as a unicode number)\n",
    "numeric = \"343\"\n",
    "numeric.isnumeric(), android.isnumeric()"
   ]
  },
  {
   "cell_type": "code",
   "execution_count": null,
   "metadata": {},
   "outputs": [
    {
     "data": {
      "text/plain": [
       "(True, False)"
      ]
     },
     "execution_count": 67,
     "metadata": {},
     "output_type": "execute_result"
    }
   ],
   "source": [
    "non_printa = \"My\\nLife\"\n",
    "string_x.isprintable(), non_printa.isprintable()"
   ]
  },
  {
   "cell_type": "code",
   "execution_count": null,
   "metadata": {},
   "outputs": [
    {
     "data": {
      "text/plain": [
       "(False, True)"
      ]
     },
     "execution_count": 15,
     "metadata": {},
     "output_type": "execute_result"
    }
   ],
   "source": [
    "# Check if ALL characters in the string are alphabetic\n",
    "string_x.isalpha(), string_y.isalpha()"
   ]
  },
  {
   "cell_type": "code",
   "execution_count": null,
   "metadata": {},
   "outputs": [
    {
     "data": {
      "text/plain": [
       "False"
      ]
     },
     "execution_count": 16,
     "metadata": {},
     "output_type": "execute_result"
    }
   ],
   "source": [
    "string_x.isdigit()"
   ]
  },
  {
   "cell_type": "code",
   "execution_count": null,
   "metadata": {},
   "outputs": [
    {
     "name": "stdout",
     "output_type": "stream",
     "text": [
      "At least one decimal exists!\n"
     ]
    }
   ],
   "source": [
    "print(\"At least one decimal exists!\" if re.search(r'\\d', numeric) else \"No digits found.\")"
   ]
  },
  {
   "cell_type": "code",
   "execution_count": null,
   "metadata": {},
   "outputs": [
    {
     "data": {
      "text/plain": [
       "(True, False)"
      ]
     },
     "execution_count": 17,
     "metadata": {},
     "output_type": "execute_result"
    }
   ],
   "source": [
    "# Check if all cased characters in the string are lowercase or uppercase\n",
    "string_x.islower(), string_x.isupper()"
   ]
  },
  {
   "cell_type": "code",
   "execution_count": null,
   "metadata": {},
   "outputs": [
    {
     "data": {
      "text/plain": [
       "(False, True)"
      ]
     },
     "execution_count": 71,
     "metadata": {},
     "output_type": "execute_result"
    }
   ],
   "source": [
    "\"\"\" Check if the string is titlecased \"\"\"\n",
    "ticas = \"Good Riddance!\"\n",
    "string_x.istitle(), ticas.istitle()"
   ]
  },
  {
   "cell_type": "code",
   "execution_count": null,
   "metadata": {},
   "outputs": [
    {
     "data": {
      "text/plain": [
       "False"
      ]
     },
     "execution_count": 18,
     "metadata": {},
     "output_type": "execute_result"
    }
   ],
   "source": [
    "# Check if all characters in the string are whitespace\n",
    "string_x.isspace()"
   ]
  },
  {
   "cell_type": "code",
   "execution_count": null,
   "metadata": {},
   "outputs": [
    {
     "name": "stdout",
     "output_type": "stream",
     "text": [
      "False\n",
      "True\n"
     ]
    }
   ],
   "source": [
    "\"\"\" Check specific prefix in string \"\"\"\n",
    "string = \"May the Force be with you!\"\n",
    "prefix1 = \"Cinema\"\n",
    "prefix2 = \"May\"\n",
    "starts_with_prefix1 = string.startswith(prefix1)\n",
    "print(starts_with_prefix1)\n",
    "starts_with_prefix2 = string.startswith(prefix2)\n",
    "print(starts_with_prefix2)"
   ]
  },
  {
   "cell_type": "code",
   "execution_count": null,
   "metadata": {},
   "outputs": [
    {
     "name": "stdout",
     "output_type": "stream",
     "text": [
      "False\n"
     ]
    }
   ],
   "source": [
    "# Check specific suffix in string\n",
    "string = \"May the Force be with you!\"\n",
    "suffix = \"World!\"\n",
    "ends_with_suffix = string.endswith(suffix)\n",
    "print(ends_with_suffix) "
   ]
  },
  {
   "cell_type": "markdown",
   "metadata": {},
   "source": [
    "<h3 style=\"color:thistle\"> => Concatenation </h3>"
   ]
  },
  {
   "cell_type": "code",
   "execution_count": null,
   "metadata": {},
   "outputs": [],
   "source": [
    "string_q = \"_society\"\n",
    "concatenated = string_x + string_q\n",
    "concatenated"
   ]
  },
  {
   "cell_type": "code",
   "execution_count": null,
   "metadata": {},
   "outputs": [],
   "source": [
    "co = f\"{string_x}{string_q}\"\n",
    "co"
   ]
  },
  {
   "cell_type": "code",
   "execution_count": null,
   "metadata": {},
   "outputs": [],
   "source": [
    "conca = \"{}{}\".format(string_x, string_q)\n",
    "conca"
   ]
  },
  {
   "cell_type": "code",
   "execution_count": null,
   "metadata": {},
   "outputs": [],
   "source": [
    "strings_to_conc = [string_x, string_q]\n",
    "concate = ''.join(strings_to_conc)\n",
    "concate"
   ]
  },
  {
   "cell_type": "code",
   "execution_count": null,
   "metadata": {},
   "outputs": [],
   "source": [
    "concat_st = \"%s%s\" % (string_x, string_q)\n",
    "concat_st "
   ]
  },
  {
   "cell_type": "code",
   "execution_count": null,
   "metadata": {},
   "outputs": [],
   "source": [
    "conc = \"\"\n",
    "\n",
    "for s in strings_to_conc:\n",
    "    conc += s\n",
    "conc"
   ]
  },
  {
   "cell_type": "code",
   "execution_count": null,
   "metadata": {},
   "outputs": [],
   "source": [
    "\"\"\" Join a list of strings into a single string \"\"\"\n",
    "heroe = [\"Luke\", \"Skywalker!\"]\n",
    "full_heroe = \" \".join(heroe)\n",
    "print(full_heroe)  "
   ]
  },
  {
   "cell_type": "code",
   "execution_count": null,
   "metadata": {},
   "outputs": [],
   "source": [
    "\"\"\" Concatenate a sequence of strings with the string as a separator and returns the resulting string.\n",
    "N.B.\n",
    "does not work in place\n",
    " \"\"\"\n",
    "a_string = \"AAAA\"\n",
    "b_string = a_string.join('bbbb')\n",
    "b_string"
   ]
  },
  {
   "cell_type": "code",
   "execution_count": null,
   "metadata": {},
   "outputs": [],
   "source": [
    "\"\"\" Concatenation summary \"\"\"\n",
    "\n",
    "strin_exa = 'Giacomo'\n",
    "\n",
    "st_1 = 'I\\'m' + ' ' +strin_exa\n",
    "st_2 = \"I'm \" + strin_exa\n",
    "st_3 = \"I'm %s\" % strin_exa\n",
    "st_4 = \"I'm {}\".format(strin_exa)\n",
    "st_5 = f\"I'm {strin_exa}\"\n",
    "st_6 = \" \".join([\"I'm\", strin_exa])\n",
    "st_7 = \"I'm {str}\".format_map({'str': strin_exa})\n",
    "st_8 = \"I'm \" + (strin_exa + ' ') * 1\n",
    "st_9 = re.sub(r'(\\b\\w+\\b)', r\"I'm \\1\", strin_exa)\n",
    "st_10 = bytearray(\"I'm \", 'utf-8') + bytearray(strin_exa, 'utf-8')\n",
    "st_10 = st_10.decode('utf-8')\n",
    "\n",
    "print(st_1)\n",
    "print(st_2)\n",
    "print(st_3)\n",
    "print(st_4)\n",
    "print(st_5)\n",
    "print(st_6)\n",
    "print(st_7)\n",
    "print(st_8)\n",
    "print(st_9)\n",
    "print(st_10)\n",
    "print()\n",
    "\n",
    "x = strin_exa.__add__(\" Ciao\")\n",
    "print(x)"
   ]
  },
  {
   "cell_type": "markdown",
   "metadata": {},
   "source": [
    "<h3 style=\"color:thistle\"> => Strip / Remove </h3>"
   ]
  },
  {
   "cell_type": "code",
   "execution_count": null,
   "metadata": {},
   "outputs": [],
   "source": [
    "st_s11 = 'What   a great experience!  r'\n",
    "st_s21 = \"  Show me what you got!\"\n",
    "st_s31 = \"Do it yourself!  \""
   ]
  },
  {
   "cell_type": "code",
   "execution_count": null,
   "metadata": {},
   "outputs": [
    {
     "data": {
      "text/plain": [
       "'What   a great experience!  '"
      ]
     },
     "execution_count": 154,
     "metadata": {},
     "output_type": "execute_result"
    }
   ],
   "source": [
    "# Remove leading and trailing \"r\" (one or more consecutive \"r\")\n",
    "st_s12 = st_s11.strip('r')\n",
    "st_s12"
   ]
  },
  {
   "cell_type": "code",
   "execution_count": null,
   "metadata": {},
   "outputs": [
    {
     "data": {
      "text/plain": [
       "'What   a great experience!'"
      ]
     },
     "execution_count": 155,
     "metadata": {},
     "output_type": "execute_result"
    }
   ],
   "source": [
    "# Remove leading and trailing spaces (start + end)\n",
    "st_s13 = st_s12.strip()\n",
    "st_s13"
   ]
  },
  {
   "cell_type": "code",
   "execution_count": null,
   "metadata": {},
   "outputs": [
    {
     "data": {
      "text/plain": [
       "'What a great experience!'"
      ]
     },
     "execution_count": 159,
     "metadata": {},
     "output_type": "execute_result"
    }
   ],
   "source": [
    "# Remove empty words created by consecutive space\n",
    "st_s14 = st_s13.split()\n",
    "st_s15 = ' '.join(st_s14)\n",
    "st_s15"
   ]
  },
  {
   "cell_type": "code",
   "execution_count": null,
   "metadata": {},
   "outputs": [
    {
     "data": {
      "text/plain": [
       "'Show me what you got!'"
      ]
     },
     "execution_count": 131,
     "metadata": {},
     "output_type": "execute_result"
    }
   ],
   "source": [
    "# Remove leading spaces\n",
    "st_s21.lstrip()"
   ]
  },
  {
   "cell_type": "code",
   "execution_count": null,
   "metadata": {},
   "outputs": [
    {
     "data": {
      "text/plain": [
       "'Show me what you got!'"
      ]
     },
     "execution_count": 87,
     "metadata": {},
     "output_type": "execute_result"
    }
   ],
   "source": [
    "# Remove trailing spaces\n",
    "st_s31.rstrip()"
   ]
  },
  {
   "cell_type": "code",
   "execution_count": null,
   "metadata": {},
   "outputs": [
    {
     "data": {
      "text/plain": [
       "' me why'"
      ]
     },
     "execution_count": 140,
     "metadata": {},
     "output_type": "execute_result"
    }
   ],
   "source": [
    "# Remove specific characters\n",
    "tell = \"Tell me why\"\n",
    "tell.strip(\"Tell\")"
   ]
  },
  {
   "cell_type": "code",
   "execution_count": null,
   "metadata": {},
   "outputs": [
    {
     "name": "stdout",
     "output_type": "stream",
     "text": [
      "This make change\n",
      "\t\tonly\t\tat the beginning and at the end.\n"
     ]
    },
    {
     "data": {
      "text/plain": [
       "'This make change\\n\\t\\tonly\\t\\tat the beginning and at the end.'"
      ]
     },
     "execution_count": 126,
     "metadata": {},
     "output_type": "execute_result"
    }
   ],
   "source": [
    "a_text = \"\\n\\tThis make change\\n\\t\\tonly\\t\\tat the beginning and at the end.\\n\\t\"\n",
    "a_text_stripped = a_text.strip(\"\\n\\t\")\n",
    "print(a_text_stripped)\n",
    "a_text_stripped"
   ]
  },
  {
   "cell_type": "markdown",
   "metadata": {},
   "source": [
    "<h3 style=\"color:thistle\"> => Replace </h3>"
   ]
  },
  {
   "cell_type": "code",
   "execution_count": null,
   "metadata": {},
   "outputs": [
    {
     "name": "stdout",
     "output_type": "stream",
     "text": [
      "The translation_table is {97: 49, 98: 50, 99: 51, 100: 52, 120: None}\n",
      "The translated_string is 1234efyz\n"
     ]
    }
   ],
   "source": [
    "\"\"\" Replace characters is a string according to a Translation table. \n",
    "N.B.\n",
    "- The first two maketrans arguments (x,y) must have equal length! \n",
    "- z = elements to remove from original\n",
    "\"\"\"\n",
    "x = \"abcd\"\n",
    "y = \"1234\"\n",
    "z = \"x\"\n",
    "trans_tab = str.maketrans(x, y, z)\n",
    "the_str = \"abcdefxyz\"\n",
    "the_str_trans = the_str.translate(trans_tab)\n",
    "print(f\"The translation_table is {trans_tab}\")\n",
    "print(f\"The translated_string is {the_str_trans}\")"
   ]
  },
  {
   "cell_type": "markdown",
   "metadata": {},
   "source": [
    "<h3 style=\"color:thistle\"> => Clean / Remove </h3>"
   ]
  },
  {
   "cell_type": "code",
   "execution_count": null,
   "metadata": {},
   "outputs": [
    {
     "data": {
      "text/plain": [
       "('m', 'r', '_robot')"
      ]
     },
     "execution_count": 174,
     "metadata": {},
     "output_type": "execute_result"
    }
   ],
   "source": [
    "\"\"\" Clean string \"\"\"\n",
    "my_books = [\"       Interrobang. By Aishwarya Henriette \", \"      Parking And Going. By      Karl Gautier\", \" Today Is The night. By            Jarek Prakash \"]\n",
    "\n",
    "# Replace all white spaces\n",
    "strip_white = [stri.replace(\" \", \"\") for stri in my_books] \n",
    "# Remove only leading and trailing white space from each string\n",
    "strip_white1 = [stri.strip() for stri in my_books] \n",
    "# Replace extra spaces \n",
    "strip_white2 = [re.sub('\\s+', ' ', stri).strip() for stri in my_books] \n",
    "\n",
    "print(strip_white)\n",
    "print(strip_white1)\n",
    "print(strip_white2)"
   ]
  },
  {
   "cell_type": "code",
   "execution_count": null,
   "metadata": {},
   "outputs": [],
   "source": [
    "remove_periods = [stri.replace(\".\",\"\") for stri in strip_white2]\n",
    "remove_periods"
   ]
  },
  {
   "cell_type": "markdown",
   "metadata": {},
   "source": [
    "<h3 style=\"color:thistle\"> => Replace </h3>"
   ]
  },
  {
   "cell_type": "code",
   "execution_count": null,
   "metadata": {},
   "outputs": [
    {
     "data": {
      "text/plain": [
       "'mp_pobot'"
      ]
     },
     "execution_count": 27,
     "metadata": {},
     "output_type": "execute_result"
    }
   ],
   "source": [
    "string_x.replace('r','p')"
   ]
  },
  {
   "cell_type": "code",
   "execution_count": null,
   "metadata": {},
   "outputs": [
    {
     "data": {
      "text/plain": [
       "['mr', 'robot']"
      ]
     },
     "execution_count": 28,
     "metadata": {},
     "output_type": "execute_result"
    }
   ],
   "source": [
    "# Split the string into a list of substrings based on a specified separator (returns a list)\n",
    "string_x.split('_')"
   ]
  },
  {
   "cell_type": "code",
   "execution_count": 2,
   "metadata": {},
   "outputs": [
    {
     "name": "stdout",
     "output_type": "stream",
     "text": [
      "<class 'list'>\n"
     ]
    },
    {
     "data": {
      "text/plain": [
       "['light_body2_3sec + light_base2_3sec + output_speech_1 + output_movement_1',\n",
       " ' light_body2_3sec + light_base2_3sec + output_speech_1 + output_movement_1']"
      ]
     },
     "execution_count": 2,
     "metadata": {},
     "output_type": "execute_result"
    }
   ],
   "source": [
    "long_st = \"light_body2_3sec + \\\n",
    "light_base2_3sec + output_speech_1 + output_movement_1; \\\n",
    "light_body2_3sec + light_base2_3sec + output_speech_1 + output_movement_1\"\n",
    "\n",
    "separator = ';'\n",
    "list_str = long_st.split(separator)\n",
    "print(type(list_str))\n",
    "list_str"
   ]
  },
  {
   "cell_type": "code",
   "execution_count": 12,
   "metadata": {},
   "outputs": [
    {
     "data": {
      "text/plain": [
       "('walk', 'march')"
      ]
     },
     "execution_count": 12,
     "metadata": {},
     "output_type": "execute_result"
    }
   ],
   "source": [
    "# Split with string compr\n",
    "moves = [\"walk_down\", \"climb_up\", \"march_on\"]\n",
    "list_of_lists_move = [movement.split(\"_\") for movement in moves]\n",
    "list_of_lists_move\n",
    "\n",
    "first_one = list_of_lists_move[-3][-2]\n",
    "third_one = list_of_lists_all[-1][-2]\n",
    "first_one, third_one"
   ]
  },
  {
   "cell_type": "code",
   "execution_count": null,
   "metadata": {},
   "outputs": [],
   "source": [
    "# Split the string into three parts based on the first occurrence of sep\n",
    "sep = 'r' \n",
    "string_x.partition(sep)"
   ]
  },
  {
   "cell_type": "code",
   "execution_count": null,
   "metadata": {},
   "outputs": [
    {
     "data": {
      "text/plain": [
       "'******mr_robot******'"
      ]
     },
     "execution_count": 29,
     "metadata": {},
     "output_type": "execute_result"
    }
   ],
   "source": [
    "width = 20\n",
    "fillchar = \"*\"\n",
    "# Returns a centered string of length \"width\" padded with \"fillchar\" on both sides\n",
    "string_x.center(width, fillchar)"
   ]
  },
  {
   "cell_type": "code",
   "execution_count": null,
   "metadata": {},
   "outputs": [
    {
     "data": {
      "text/plain": [
       "b'mr_robot'"
      ]
     },
     "execution_count": 30,
     "metadata": {},
     "output_type": "execute_result"
    }
   ],
   "source": [
    "# Encode\n",
    "enc_st = string_x.encode(encoding='utf-8', errors='strict')\n",
    "enc_st"
   ]
  },
  {
   "cell_type": "code",
   "execution_count": null,
   "metadata": {},
   "outputs": [
    {
     "data": {
      "text/plain": [
       "'mr_robot'"
      ]
     },
     "execution_count": 31,
     "metadata": {},
     "output_type": "execute_result"
    }
   ],
   "source": [
    "enc_st.decode()"
   ]
  },
  {
   "cell_type": "code",
   "execution_count": null,
   "metadata": {},
   "outputs": [],
   "source": [
    "\"\"\" Replace substrings in a string \"\"\" \n",
    "string = \"May the Force be with you!\"\n",
    "new_string = string.replace(\"may\", \"Must\")\n",
    "print(new_string)  \n",
    "print(\"##################################################\")  \n",
    "\n",
    "def replace_substrings2(string, old_substring, new_substring):\n",
    "    try:\n",
    "        if not string:\n",
    "            raise ValueError(\"String is empty.\")\n",
    "        lowercase_string = string.lower()\n",
    "        lowercase_old_substring = old_substring.lower()\n",
    "        new_string = lowercase_string.replace(lowercase_old_substring, new_substring)\n",
    "        return new_string\n",
    "    \n",
    "    except Exception as e:\n",
    "        print(\"An error occurred:\", str(e))\n",
    "        return \"\"\n",
    "    \n",
    "stt2 = \"May the Force be with you!\"\n",
    "old_subst = \"may\"\n",
    "new_subst = \"Must\"\n",
    "\n",
    "new_string = replace_substrings2(stt2, old_subst, new_subst)\n",
    "print(new_string)"
   ]
  },
  {
   "cell_type": "code",
   "execution_count": null,
   "metadata": {},
   "outputs": [
    {
     "data": {
      "text/plain": [
       "['X', 'X', 'X', '1', '0']"
      ]
     },
     "execution_count": 189,
     "metadata": {},
     "output_type": "execute_result"
    }
   ],
   "source": [
    "def replace_letter_with_X_regular(stri: str) -> str:\n",
    "    return re.sub(r\"[a-zA-Z]\", \"X\", stri)\n",
    "\n",
    "a_code = \"sei10\"\n",
    "repla = [replace_letter_with_X_regular(strii) for strii in a_code]\n",
    "repla"
   ]
  },
  {
   "cell_type": "code",
   "execution_count": 18,
   "metadata": {},
   "outputs": [
    {
     "name": "stdout",
     "output_type": "stream",
     "text": [
      "a1 ==> CDABCABA\n"
     ]
    }
   ],
   "source": [
    "arra = ['A','B','C','D']\n",
    "\n",
    "######## Chose characters Randomly from arra\n",
    "aa1 = random.choice(arra)\n",
    "aa2 = random.choice(arra)\n",
    "aa3 = random.choice(arra)\n",
    "aa4 = random.choice(arra)\n",
    "aa5 = random.choice(arra)\n",
    "aa6 = random.choice(arra)\n",
    "aa7 = random.choice(arra)\n",
    "aa8 = random.choice(arra)\n",
    "\n",
    "### Create strings \n",
    "a1 =\"{}{}{}{}{}{}{}{}\".format(aa1,aa2,aa3,aa4,aa5,aa6,aa7,aa8)\n",
    "a2 =\"{}{}{}{}\".format(aa1,aa2,aa3,aa4)\n",
    "a3 = \"BAAA\"\n",
    "print(\"a1 ==> {}\".format(a1))"
   ]
  },
  {
   "cell_type": "code",
   "execution_count": 19,
   "metadata": {},
   "outputs": [
    {
     "data": {
      "text/plain": [
       "'CDMBCMBM'"
      ]
     },
     "execution_count": 19,
     "metadata": {},
     "output_type": "execute_result"
    }
   ],
   "source": [
    "reple = a1.replace('A','M')\n",
    "reple"
   ]
  },
  {
   "cell_type": "code",
   "execution_count": 20,
   "metadata": {},
   "outputs": [
    {
     "name": "stdout",
     "output_type": "stream",
     "text": [
      "<class 'str'>\n",
      "CCAA\n"
     ]
    }
   ],
   "source": [
    "\"\"\" From list To string  \"\"\"\n",
    "strlst = list(\"CCAA\")\n",
    "strlst[0], strlst[1] = strlst[1], strlst[0]\n",
    "# Concatenate a list of characters (strlst) into a single string\n",
    "strlst = \"\".join(strlst)\n",
    "\n",
    "print(type(strlst))\n",
    "print(strlst)"
   ]
  },
  {
   "cell_type": "code",
   "execution_count": 21,
   "metadata": {},
   "outputs": [
    {
     "name": "stdout",
     "output_type": "stream",
     "text": [
      "CCABCABA\n",
      "CCAACAAA\n",
      "CCAACAAA\n",
      "BCAACAAA\n",
      "BBAACAAA\n",
      "BBAABAAA\n",
      "AAAABAAA\n",
      "AAAABAAA\n",
      "place is 4\n",
      "pos is 2\n",
      "a1 NEW => AABAAAAA\n",
      "AABAAAAA\n",
      "place is 2\n",
      "pos is 0\n",
      "a1 NEW => BAAAAAAA\n"
     ]
    }
   ],
   "source": [
    "\"\"\" Change letters until element 'a1' is in 'verify_me' list \"\"\"\n",
    "\n",
    "verify_me = ['AAAAAAAA','BAAAAAAA','ABAAAAAA','BBAAAAAA','BBBBAAAA','BBBBBAAA','BBBBBBAA','BBBBBBBA','BBBBBBBB','CCBBBBBB','CCCBBBBB', \n",
    "            'CCCBBBBB','CCCCBBBB','CCCCCBBB','CCCCCBBB','CCCCCBBB','CCCCCCBB','CCCCCCCB','CCCCCCCC']\n",
    "\n",
    "while a1 not in verify_me:\n",
    "    where = random.randint(0,3)\n",
    "    depend = random.randint(0,1)\n",
    "    if a1.find('D')!=-1:                    \n",
    "        a1 = a1.replace('D','C')\n",
    "        print(a1)\n",
    "        continue\n",
    "    elif a1.find('C')!=-1 and depend==1:\n",
    "        a1 = a1.replace('C','B',where)\n",
    "        print(a1)\n",
    "        continue\n",
    "    elif a1.find('B')!=-1 and depend==0:\n",
    "        a1 = a1.replace('B','A',where)\n",
    "        print(a1)\n",
    "        continue\n",
    "    \n",
    "    else:    \n",
    "        print(a1)\n",
    "        pos = random.randint(0,3)\n",
    "        place = a1.find('D')\n",
    "        # If 'D' is not found, find the position of 'C'\n",
    "        if place==-1:\n",
    "            place = a1.find('C')\n",
    "        # If 'C' is not found, find the position of 'B'\n",
    "        if place==-1:\n",
    "            place = a1.find('B')\n",
    "        strli = list(a1)\n",
    "        print(\"place is {}\".format(place))\n",
    "        print(\"pos is {}\".format(pos))\n",
    "        \n",
    "        # Swap characters at 'pos' and 'place' positions\n",
    "        strli[pos], strli[place] = strli[place], strli[pos]\n",
    "        # Convert a list of characters (strli) into a single string (a1) by concatenating elements\n",
    "        a1 = \"\".join(strli)\n",
    "        print(\"a1 NEW => {}\".format(a1))"
   ]
  },
  {
   "cell_type": "markdown",
   "metadata": {},
   "source": [
    "<h3 style=\"color:thistle\"> => Slice </h3>"
   ]
  },
  {
   "cell_type": "code",
   "execution_count": null,
   "metadata": {},
   "outputs": [],
   "source": [
    "strin_exa = 'Boba Fett'\n",
    "\n",
    "print(strin_exa[-1])\n",
    "print(strin_exa[-2])\n",
    "print(strin_exa[-3])\n",
    "print(strin_exa[1:3])\n",
    "print(strin_exa[1:])\n",
    "print(strin_exa[:1])"
   ]
  },
  {
   "cell_type": "markdown",
   "metadata": {},
   "source": [
    "<h3 style=\"color:thistle\"> => Reverse</h3>"
   ]
  },
  {
   "cell_type": "code",
   "execution_count": null,
   "metadata": {},
   "outputs": [
    {
     "name": "stdout",
     "output_type": "stream",
     "text": [
      "!uoy htiw eb ecroF eht yaM\n",
      "!uoy htiw eb ecroF eht yaM\n",
      "!uoy htiw eb ecroF eht yaM\n"
     ]
    }
   ],
   "source": [
    "claim = \"May the Force be with you!\"\n",
    "rever_1 = claim[::-1]\n",
    "rever_2 = ''.join(reversed(claim))\n",
    "rever_3 = ''.join(list(claim)[::-1])\n",
    "\n",
    "print(rever_1)\n",
    "print(rever_2)\n",
    "print(rever_3)"
   ]
  },
  {
   "cell_type": "markdown",
   "metadata": {},
   "source": [
    "<h3 style=\"color:thistle\"> => Count</h3>"
   ]
  },
  {
   "cell_type": "code",
   "execution_count": null,
   "metadata": {},
   "outputs": [
    {
     "name": "stdout",
     "output_type": "stream",
     "text": [
      "count (sensitive case) is: 0\n",
      "Correct count of words is: 2\n"
     ]
    }
   ],
   "source": [
    "\"\"\" Counting occurrances. \"\"\"\n",
    "string = \"Now I don't have time for you, sorry! I am bvery busy Now!\"\n",
    "substring = \"now\"\n",
    "count1 = string.count(substring)\n",
    "print(\"count (sensitive case) is:\", count1)\n",
    "\n",
    "count2 = string.lower().count(substring.lower())\n",
    "print(\"Correct count of words is:\", count2)\n"
   ]
  },
  {
   "cell_type": "code",
   "execution_count": null,
   "metadata": {},
   "outputs": [],
   "source": [
    "# Count occurrences with re to fix the issue\n",
    "string_x = 'mr_robot'\n",
    "character_to_count = 'r'\n",
    "pattern = re.escape(character_to_count)\n",
    "# Use re.findall to find all occurrences of the character\n",
    "occurrences = re.findall(pattern, string_x)\n",
    "len(occurrences)"
   ]
  },
  {
   "cell_type": "code",
   "execution_count": null,
   "metadata": {},
   "outputs": [],
   "source": [
    "\"\"\" Count the number of non-overlapping occurrences of a substring in the string \n",
    "N.B. => problems with the _ underscore!!\n",
    "\"\"\"\n",
    "occurrences_wrong = string_x.count('r') \n",
    "string_y = 'mrrobot'\n",
    "occurrences_right = string_y.count('r')\n",
    "\n",
    "occurrences_wrong, occurrences_right"
   ]
  },
  {
   "cell_type": "code",
   "execution_count": null,
   "metadata": {},
   "outputs": [
    {
     "name": "stdout",
     "output_type": "stream",
     "text": [
      "Count is 2\n"
     ]
    }
   ],
   "source": [
    "def count_occurrences2(string, substring):\n",
    "    try:\n",
    "        if not string:\n",
    "            raise ValueError(\"String is empty.\")\n",
    "        \n",
    "        count = string.lower().count(substring.lower())\n",
    "        return count\n",
    "    except Exception as e:\n",
    "        print(\"An error occurred:\", str(e))\n",
    "        return 0\n",
    "\n",
    "st2 = \"Now I don't have time for you, sorry! I am very busy Now!\"\n",
    "subst2 = \"now\"\n",
    "\n",
    "count = count_occurrences2(st2, subst2)\n",
    "print(\"Count is\", count)"
   ]
  },
  {
   "cell_type": "code",
   "execution_count": null,
   "metadata": {},
   "outputs": [
    {
     "name": "stdout",
     "output_type": "stream",
     "text": [
      "\"(ASD),\" is repeated 1 time.\n",
      "\"Autism\" is repeated 1 time.\n",
      "\"Disorder\" is repeated 1 time.\n",
      "\"In\" is repeated 1 time.\n",
      "\"Robots\" is repeated 1 time.\n",
      "\"Social\" is repeated 1 time.\n",
      "\"Spectrum\" is repeated 1 time.\n",
      "\"a\" is repeated 1 time.\n",
      "\"addressed\" is repeated 1 time.\n",
      "\"affected\" is repeated 1 time.\n",
      "\"and\" is repeated 1 time.\n",
      "\"as\" is repeated 1 time.\n",
      "\"between\" is repeated 1 time.\n",
      "\"by\" is repeated 1 time.\n",
      "\"children\" is repeated 1 time.\n",
      "\"in\" is repeated 1 time.\n",
      "\"mediators\" is repeated 1 time.\n",
      "\"modern\" is repeated 1 time.\n",
      "\"patients\" is repeated 1 time.\n",
      "\"played\" is repeated 1 time.\n",
      "\"recent\" is repeated 1 time.\n",
      "\"role\" is repeated 1 time.\n",
      "\"significant\" is repeated 1 time.\n",
      "\"therapists.\" is repeated 1 time.\n",
      "\"to\" is repeated 1 time.\n",
      "\"treatments\" is repeated 1 time.\n",
      "\"years,\" is repeated 1 time.\n"
     ]
    }
   ],
   "source": [
    "\"\"\" Get occurrences of words in a text with Counter.\n",
    "Counter is used for counting hashable items, it is called a bag or multiset.  \n",
    "Elements are stored as dictionary keys and their counts are stored as dictionary values.\n",
    "\"\"\"\n",
    "mysentence = \"\"\"\n",
    "In recent years, Social Robots played a significant role in modern treatments addressed to children \n",
    "affected by Autism Spectrum Disorder (ASD), as mediators between patients and therapists.\"\"\"\n",
    "\n",
    "mysentence = dict(Counter(mysentence.split()))\n",
    "for i in sorted(mysentence.keys()):\n",
    "    print ('\"'+i+'\" is repeated '+ str(mysentence[i]) + ' time.')"
   ]
  },
  {
   "cell_type": "markdown",
   "metadata": {},
   "source": [
    "<h3 style=\"color:thistle\"> => Substrings</h3>"
   ]
  },
  {
   "cell_type": "code",
   "execution_count": null,
   "metadata": {},
   "outputs": [],
   "source": [
    "string = \"Pressure + biometric ; ultrasonic + gas ; Humidity + photodetector23\"\n",
    "substrings = []\n",
    "while \";\" in string:\n",
    "    substring, string = string.split(\";\", 1)\n",
    "    substring = substring.strip()\n",
    "    substrings.append(substring)\n",
    "substrings.append(string.strip())\n",
    "\n",
    "print(substrings)\n",
    "print(\"Len of Substring length\", len(substrings))\n",
    "print(type(substrings))\n",
    "print(\"First substring:\", substrings[0])"
   ]
  },
  {
   "cell_type": "code",
   "execution_count": 15,
   "metadata": {},
   "outputs": [
    {
     "name": "stdout",
     "output_type": "stream",
     "text": [
      "['Digital Boombox', 'Analog', 'Noise']\n",
      "The first one is :  Digital Boombox\n",
      "['', 'Walkman', 'Phonograph']\n"
     ]
    }
   ],
   "source": [
    "string1 = \"Digital Boombox + ; Analog + Walkman; Noise + Phonograph\"\n",
    "the_sound = []\n",
    "the_device = []\n",
    "substrings1 = string1.split(\";\")\n",
    "for substring in substrings1:\n",
    "    audio, movement = substring.strip().split(\"+\")\n",
    "    the_sound.append(audio.strip())\n",
    "    the_device.append(movement.strip())\n",
    "\n",
    "print(the_sound)\n",
    "print(\"The first one is : \", the_sound[0])\n",
    "print(the_device)"
   ]
  }
 ],
 "metadata": {
  "kernelspec": {
   "display_name": "MLearning",
   "language": "python",
   "name": "python3"
  },
  "language_info": {
   "codemirror_mode": {
    "name": "ipython",
    "version": 3
   },
   "file_extension": ".py",
   "mimetype": "text/x-python",
   "name": "python",
   "nbconvert_exporter": "python",
   "pygments_lexer": "ipython3",
   "version": "3.10.9"
  },
  "orig_nbformat": 4
 },
 "nbformat": 4,
 "nbformat_minor": 2
}
