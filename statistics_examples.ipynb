{
 "cells": [
  {
   "cell_type": "markdown",
   "metadata": {},
   "source": [
    "<h1 style=\"color:tan\"> Statistics in Python </h1>"
   ]
  },
  {
   "cell_type": "code",
   "execution_count": 1,
   "metadata": {},
   "outputs": [],
   "source": [
    "import random\n",
    "import statistics\n",
    "import numpy as np\n",
    "from pprint import pprint\n",
    "import scipy.stats as stats\n",
    "import matplotlib.pyplot as plt"
   ]
  },
  {
   "cell_type": "markdown",
   "metadata": {},
   "source": [
    "==================  ================================================== <br>\n",
    "Function&nbsp;&nbsp;&nbsp;&nbsp;&nbsp;&nbsp;&nbsp;&nbsp;&nbsp;&nbsp;&nbsp;&nbsp;&nbsp;&nbsp;&nbsp;&nbsp;&nbsp;&nbsp;&nbsp;&nbsp;&nbsp;&nbsp;&nbsp;&nbsp;&nbsp;&nbsp;Description <br>\n",
    "==================  ================================================== <br>\n",
    "mean&nbsp;&nbsp;&nbsp;&nbsp;&nbsp;&nbsp;&nbsp;&nbsp;&nbsp;&nbsp;&nbsp;&nbsp;&nbsp;&nbsp;&nbsp;&nbsp;&nbsp;&nbsp;&nbsp;&nbsp;&nbsp;&nbsp;&nbsp;&nbsp;&nbsp;&nbsp;&nbsp;&nbsp;&nbsp;&nbsp;&nbsp;&nbsp;&nbsp;                Arithmetic mean (average) of data. <br>\n",
    "fmean&nbsp;&nbsp;&nbsp;&nbsp;&nbsp;&nbsp;&nbsp;&nbsp;&nbsp;&nbsp;&nbsp;&nbsp;&nbsp;&nbsp;&nbsp;&nbsp;&nbsp;&nbsp;&nbsp;&nbsp;&nbsp;&nbsp;&nbsp;&nbsp;&nbsp;&nbsp;&nbsp;&nbsp;&nbsp;&nbsp;&nbsp;&nbsp;               Fast, floating point arithmetic mean. <br>\n",
    "geometric_mean&nbsp;&nbsp;&nbsp;&nbsp;&nbsp;&nbsp;&nbsp;&nbsp;&nbsp;&nbsp;&nbsp;&nbsp;&nbsp;      Geometric mean of data. <br>\n",
    "harmonic_mean&nbsp;&nbsp;&nbsp;&nbsp;&nbsp;&nbsp;&nbsp;&nbsp;&nbsp;&nbsp;&nbsp;&nbsp;&nbsp;&nbsp;       Harmonic mean of data. <br>\n",
    "median&nbsp;&nbsp;&nbsp;&nbsp;&nbsp;&nbsp;&nbsp;&nbsp;&nbsp;&nbsp;&nbsp;&nbsp;&nbsp;&nbsp;&nbsp;&nbsp;&nbsp;&nbsp;&nbsp;&nbsp;&nbsp;&nbsp;&nbsp;&nbsp;&nbsp;&nbsp;&nbsp;&nbsp;&nbsp;              Median (middle value) of data. <br>\n",
    "median_low&nbsp;&nbsp;&nbsp;&nbsp;&nbsp;&nbsp;&nbsp;&nbsp;&nbsp;&nbsp;&nbsp;&nbsp;&nbsp;&nbsp;&nbsp;&nbsp;&nbsp;&nbsp;&nbsp;&nbsp;&nbsp;&nbsp;Low median of data. <br>\n",
    "median_high&nbsp;&nbsp;&nbsp;&nbsp;&nbsp;&nbsp;&nbsp;&nbsp;&nbsp;&nbsp;&nbsp;&nbsp;&nbsp;&nbsp;&nbsp;&nbsp;&nbsp;&nbsp;&nbsp;&nbsp; High median of data. <br>\n",
    "median_grouped&nbsp;&nbsp;&nbsp;&nbsp;&nbsp;&nbsp;&nbsp;&nbsp;&nbsp;&nbsp;&nbsp;&nbsp;      Median, or 50th percentile, of grouped data. <br>\n",
    "mode&nbsp;&nbsp;&nbsp;&nbsp;&nbsp;&nbsp;&nbsp;&nbsp;&nbsp;&nbsp;&nbsp;&nbsp;&nbsp;&nbsp;&nbsp;&nbsp;&nbsp;&nbsp;&nbsp;&nbsp;&nbsp;&nbsp;&nbsp;&nbsp;&nbsp;&nbsp;&nbsp;&nbsp;&nbsp;&nbsp;&nbsp;&nbsp;                Mode (most common value) of data. <br>\n",
    "multimode&nbsp;&nbsp;&nbsp;&nbsp;&nbsp;&nbsp;&nbsp;&nbsp;&nbsp;&nbsp;&nbsp;&nbsp;&nbsp;&nbsp;&nbsp;&nbsp;&nbsp;&nbsp;&nbsp;&nbsp;&nbsp;&nbsp;&nbsp;          List of modes (most common values of data). <br>\n",
    "quantiles&nbsp;&nbsp;&nbsp;&nbsp;&nbsp;&nbsp;&nbsp;&nbsp;&nbsp;&nbsp;&nbsp;&nbsp;&nbsp;&nbsp;&nbsp;&nbsp;&nbsp;&nbsp;&nbsp;&nbsp;&nbsp;&nbsp;&nbsp;&nbsp;&nbsp;&nbsp;           Divide data into intervals with equal probability. <br>\n",
    "==================  ================================================== <br>\n",
    "==================  ============================================= <br>\n",
    "Function            Description <br>\n",
    "==================  ============================================= <br>\n",
    "pvariance&nbsp;&nbsp;&nbsp;&nbsp;&nbsp;&nbsp;&nbsp;&nbsp;&nbsp;&nbsp;&nbsp;&nbsp;&nbsp;&nbsp;&nbsp;&nbsp;&nbsp;&nbsp;&nbsp;&nbsp;&nbsp;&nbsp;&nbsp;&nbsp;&nbsp;&nbsp;           Population variance of data. <br>\n",
    "variance&nbsp;&nbsp;&nbsp;&nbsp;&nbsp;&nbsp;&nbsp;&nbsp;&nbsp;&nbsp;&nbsp;&nbsp;&nbsp;&nbsp;&nbsp;&nbsp;&nbsp;&nbsp;&nbsp;&nbsp;&nbsp;&nbsp;&nbsp;&nbsp;   &nbsp;&nbsp;&nbsp;         Sample variance of data. <br>\n",
    "pstdev&nbsp;&nbsp;&nbsp;&nbsp;&nbsp;&nbsp;&nbsp;&nbsp;&nbsp;&nbsp;&nbsp;&nbsp;&nbsp;&nbsp;&nbsp;&nbsp;&nbsp;&nbsp;&nbsp;&nbsp;&nbsp;&nbsp;&nbsp;&nbsp;&nbsp;&nbsp;&nbsp;&nbsp;&nbsp;&nbsp;&nbsp;              Population standard deviation of data. <br>\n",
    "stdev&nbsp;&nbsp;&nbsp;&nbsp;&nbsp;&nbsp;&nbsp;&nbsp;&nbsp;&nbsp;&nbsp;&nbsp;&nbsp;&nbsp;&nbsp;&nbsp;&nbsp;&nbsp;&nbsp;&nbsp;&nbsp;&nbsp;&nbsp;&nbsp;&nbsp;&nbsp;&nbsp;&nbsp;&nbsp;&nbsp;&nbsp;&nbsp;&nbsp;&nbsp;               Sample standard deviation of data. <br>\n",
    "==================  ============================================= <br>"
   ]
  },
  {
   "cell_type": "code",
   "execution_count": 2,
   "metadata": {},
   "outputs": [
    {
     "data": {
      "text/plain": [
       "array([ 1,  2,  3,  4,  5,  6,  7,  8,  9, 10, 11, 12, 13, 14, 15, 16, 17,\n",
       "       18, 19, 20, 21, 22, 23, 24, 25, 26, 27, 28, 29])"
      ]
     },
     "execution_count": 2,
     "metadata": {},
     "output_type": "execute_result"
    }
   ],
   "source": [
    "some_data = np.arange(1,30,1)\n",
    "some_data"
   ]
  },
  {
   "cell_type": "code",
   "execution_count": 3,
   "metadata": {},
   "outputs": [
    {
     "name": "stdout",
     "output_type": "stream",
     "text": [
      "mean:  15\n",
      "median:  15\n",
      "mode:  1\n"
     ]
    }
   ],
   "source": [
    "mea = statistics.mean(some_data)\n",
    "med = statistics.median(some_data)\n",
    "mod = statistics.mode(some_data)\n",
    "print(\"mean: \", mea)\n",
    "print(\"median: \", med)\n",
    "print(\"mode: \", mod)"
   ]
  },
  {
   "cell_type": "code",
   "execution_count": 4,
   "metadata": {},
   "outputs": [
    {
     "name": "stdout",
     "output_type": "stream",
     "text": [
      "harmonic mean is:  7.32017523026953\n",
      "geometric mean is:  11.671375138808852\n"
     ]
    }
   ],
   "source": [
    "harmonic = statistics.harmonic_mean(some_data)\n",
    "geometric = statistics.geometric_mean(some_data)\n",
    "\n",
    "print(\"harmonic mean is: \", harmonic)\n",
    "print(\"geometric mean is: \", geometric)"
   ]
  },
  {
   "cell_type": "code",
   "execution_count": 5,
   "metadata": {},
   "outputs": [
    {
     "name": "stdout",
     "output_type": "stream",
     "text": [
      "Weighted Mean: 14.42469551965393\n"
     ]
    }
   ],
   "source": [
    "some_weights = [random.uniform(0, 1) for _ in some_data]\n",
    "weighted_mean = np.average(some_data, weights=some_weights)\n",
    "print(\"Weighted Mean:\", weighted_mean)"
   ]
  },
  {
   "cell_type": "code",
   "execution_count": 6,
   "metadata": {},
   "outputs": [
    {
     "data": {
      "text/plain": [
       "[7.5, 15.0, 22.5]"
      ]
     },
     "execution_count": 6,
     "metadata": {},
     "output_type": "execute_result"
    }
   ],
   "source": [
    "# Divide into quartiles\n",
    "quant = statistics.quantiles(some_data, n=4) \n",
    "quant"
   ]
  },
  {
   "cell_type": "markdown",
   "metadata": {},
   "source": [
    "<div style=\"line-height:0.1\">\n",
    "<h3 style=\"color:tan\"> Interquartile range (IQR)</h3> \n",
    "<div style=\"line-height:1.2\">\n",
    "Measure of statistical dispersion (spread) <br>\n",
    "It is the range between the first quartile (Q1) and the third quartile (Q3) of a dataset.  <br>\n",
    "It is less sensitive to outliers in a dataset compared to other measures of spread (stdev) <br>\n",
    "</div>\n",
    "</div>"
   ]
  },
  {
   "cell_type": "code",
   "execution_count": 7,
   "metadata": {},
   "outputs": [
    {
     "name": "stdout",
     "output_type": "stream",
     "text": [
      "Interquartile Range (IQR): 1\n"
     ]
    }
   ],
   "source": [
    "num_data = [1, 2, 3, 4, 5, 6, 7, 8, 9, 10]\n",
    "iqr = statistics.median_high(num_data) - statistics.median_low(num_data)\n",
    "print(\"Interquartile Range (IQR):\", iqr)"
   ]
  },
  {
   "cell_type": "code",
   "execution_count": 8,
   "metadata": {},
   "outputs": [
    {
     "name": "stdout",
     "output_type": "stream",
     "text": [
      "Variance: 72\n",
      "stdev:  8.48528137423857\n",
      "Population Standard Deviation: 8.366600265340756\n"
     ]
    }
   ],
   "source": [
    "var = statistics.variance(some_data)\n",
    "stdv = statistics.stdev(some_data)\n",
    "pop_std = statistics.pstdev(some_data)\n",
    "print(\"Variance:\", var)\n",
    "print(\"stdev: \", stdv)\n",
    "print(\"Population Standard Deviation:\", pop_std)"
   ]
  },
  {
   "cell_type": "markdown",
   "metadata": {},
   "source": [
    "<h3 style=\"color:tan\"> Correlation </h3>"
   ]
  },
  {
   "cell_type": "code",
   "execution_count": 9,
   "metadata": {},
   "outputs": [
    {
     "name": "stdout",
     "output_type": "stream",
     "text": [
      "0.726095457052883\n"
     ]
    },
    {
     "data": {
      "text/plain": [
       "0.7260954570528828"
      ]
     },
     "execution_count": 9,
     "metadata": {},
     "output_type": "execute_result"
    }
   ],
   "source": [
    "data1 = [13, 21, 32, 14, 53]\n",
    "data2 = [22, 32, 44, 52, 64]\n",
    "correlation_coeff = statistics.correlation(data1, data2)\n",
    "print(correlation_coeff)\n",
    "# Same as numpy corrcoef\n",
    "correlation_coeff2 = np.corrcoef(data1, data2)[0, 1]\n",
    "correlation_coeff2"
   ]
  },
  {
   "cell_type": "markdown",
   "metadata": {},
   "source": [
    "<div style=\"line-height:0.1\">\n",
    "<h3 style=\"color:tan\"> Skewness and Kurtosis </h3>\n",
    "Statistical measures about shape, symmetry, and tails of the probability distribution of a dataset.  <br>\n",
    "</div>"
   ]
  },
  {
   "cell_type": "code",
   "execution_count": 10,
   "metadata": {},
   "outputs": [
    {
     "name": "stdout",
     "output_type": "stream",
     "text": [
      "Skewness: -0.2353310703188506\n",
      "Kurtosis: -1.1799415590536337\n"
     ]
    }
   ],
   "source": [
    "other_data = [1, 2, 2, 3, 4, 4, 4, 5]\n",
    "\n",
    "skewness = stats.skew(other_data)\n",
    "kurtosis = stats.kurtosis(other_data)\n",
    "\n",
    "print(\"Skewness:\", skewness)\n",
    "print(\"Kurtosis:\", kurtosis)"
   ]
  },
  {
   "cell_type": "markdown",
   "metadata": {},
   "source": [
    "<h3 style=\"color:tan\"> Cumulative Distribution Function (CDF)  </h3>"
   ]
  },
  {
   "cell_type": "code",
   "execution_count": 11,
   "metadata": {},
   "outputs": [
    {
     "name": "stdout",
     "output_type": "stream",
     "text": [
      "Cumulative Distribution Function:\n",
      "[0.034482758620689655,\n",
      " 0.06896551724137931,\n",
      " 0.10344827586206896,\n",
      " 0.13793103448275862,\n",
      " 0.1724137931034483,\n",
      " 0.20689655172413793,\n",
      " 0.2413793103448276,\n",
      " 0.27586206896551724,\n",
      " 0.3103448275862069,\n",
      " 0.3448275862068966,\n",
      " 0.3793103448275862,\n",
      " 0.41379310344827586,\n",
      " 0.4482758620689655,\n",
      " 0.4827586206896552,\n",
      " 0.5172413793103449,\n",
      " 0.5517241379310345,\n",
      " 0.5862068965517241,\n",
      " 0.6206896551724138,\n",
      " 0.6551724137931034,\n",
      " 0.6896551724137931,\n",
      " 0.7241379310344828,\n",
      " 0.7586206896551724,\n",
      " 0.7931034482758621,\n",
      " 0.8275862068965517,\n",
      " 0.8620689655172413,\n",
      " 0.896551724137931,\n",
      " 0.9310344827586207,\n",
      " 0.9655172413793104,\n",
      " 1.0]\n"
     ]
    }
   ],
   "source": [
    "\"\"\"Calculate the cumulative distribution function (CDF) of a dataset.\n",
    "N.B.\n",
    "Need that data are sorted.\n",
    "\"\"\"\n",
    "sor_data = some_data\n",
    "sor_data.sort()\n",
    "n = len(sor_data)\n",
    "\n",
    "cdf = [i / n for i in range(1, n+1)]\n",
    "print(\"Cumulative Distribution Function:\")\n",
    "pprint(cdf)"
   ]
  },
  {
   "cell_type": "markdown",
   "metadata": {},
   "source": [
    "<h2 style=\"color:tan\"> Statistic Tests </h2>"
   ]
  },
  {
   "cell_type": "code",
   "execution_count": 12,
   "metadata": {},
   "outputs": [
    {
     "name": "stdout",
     "output_type": "stream",
     "text": [
      "t-statistic: -1.6329931618554505\n",
      "p-value: 0.1778078083562215\n"
     ]
    }
   ],
   "source": [
    "\"\"\" Student's t-test 1 sample \"\"\"\n",
    "sample = [82, 85, 89, 88, 92]\n",
    "population_mean = 90\n",
    "t_statistic, p_value = stats.ttest_1samp(sample, population_mean)\n",
    "\n",
    "print(\"t-statistic:\", t_statistic)\n",
    "print(\"p-value:\", p_value)"
   ]
  },
  {
   "cell_type": "code",
   "execution_count": 13,
   "metadata": {},
   "outputs": [
    {
     "name": "stdout",
     "output_type": "stream",
     "text": [
      "t-statistic: 2.5411412993257603\n",
      "p-value: 0.034649161560397046\n"
     ]
    }
   ],
   "source": [
    "\"\"\" Student's t-test \"\"\"\n",
    "group1 = [78, 82, 88, 92, 95]\n",
    "group2 = [65, 70, 75, 80, 85]\n",
    "t_statistic, p_value = stats.ttest_ind(group1, group2)\n",
    "print(\"t-statistic:\", t_statistic)\n",
    "print(\"p-value:\", p_value)"
   ]
  },
  {
   "cell_type": "code",
   "execution_count": 14,
   "metadata": {},
   "outputs": [
    {
     "name": "stdout",
     "output_type": "stream",
     "text": [
      "Chi-squared statistic: 20.645271942110174\n",
      "p-value: 5.527351330288787e-06\n"
     ]
    }
   ],
   "source": [
    "\"\"\" Chi-squared test \"\"\"\n",
    "observed = [[45, 30], [15, 55]]\n",
    "chi2, p, _, _ = stats.chi2_contingency(observed)\n",
    "print(\"Chi-squared statistic:\", chi2)\n",
    "print(\"p-value:\", p)"
   ]
  },
  {
   "cell_type": "code",
   "execution_count": 15,
   "metadata": {},
   "outputs": [
    {
     "name": "stdout",
     "output_type": "stream",
     "text": [
      "F-statistic: 64.6170212765959\n",
      "p-value: 3.7622801868441716e-07\n"
     ]
    }
   ],
   "source": [
    "\"\"\" Analysis of Variance (ANOVA) \"\"\"\n",
    "group1 = [28, 34, 36, 30, 32]\n",
    "group2 = [42, 38, 40, 45, 44]\n",
    "group3 = [56, 50, 54, 52, 58]\n",
    "\n",
    "f_statistic, p_value = stats.f_oneway(group1, group2, group3)\n",
    "print(\"F-statistic:\", f_statistic)\n",
    "print(\"p-value:\", p_value)\n"
   ]
  },
  {
   "cell_type": "code",
   "execution_count": 16,
   "metadata": {},
   "outputs": [
    {
     "name": "stdout",
     "output_type": "stream",
     "text": [
      "Test statistic: 1.0\n",
      "p-value: 0.125\n"
     ]
    }
   ],
   "source": [
    "before = [28, 34, 36, 30, 32]\n",
    "after = [22, 30, 34, 28, 33]\n",
    "\n",
    "stat, p_value = stats.wilcoxon(before, after)\n",
    "print(\"Test statistic:\", stat)\n",
    "print(\"p-value:\", p_value)"
   ]
  },
  {
   "cell_type": "code",
   "execution_count": 17,
   "metadata": {},
   "outputs": [
    {
     "name": "stdout",
     "output_type": "stream",
     "text": [
      "U statistic: 24.0\n",
      "p-value: 0.015873015873015872\n"
     ]
    }
   ],
   "source": [
    "\"\"\" Mann-Whitney U test \"\"\"\n",
    "group1 = [82, 85, 89, 88, 92]\n",
    "group2 = [75, 78, 80, 83, 79]\n",
    "\n",
    "stat, p_value = stats.mannwhitneyu(group1, group2)\n",
    "print(\"U statistic:\", stat)\n",
    "print(\"p-value:\", p_value)"
   ]
  },
  {
   "cell_type": "code",
   "execution_count": 18,
   "metadata": {},
   "outputs": [
    {
     "name": "stdout",
     "output_type": "stream",
     "text": [
      "Kruskal-Wallis statistic: 12.5\n",
      "p-value: 0.0019304541362277095\n"
     ]
    }
   ],
   "source": [
    "\"\"\" Kruskal-Wallis test \"\"\"\n",
    "group1 = [28, 34, 36, 30, 32]\n",
    "group2 = [42, 38, 40, 45, 44]\n",
    "group3 = [56, 50, 54, 52, 58]\n",
    "\n",
    "stat, p_value = stats.kruskal(group1, group2, group3)\n",
    "print(\"Kruskal-Wallis statistic:\", stat)\n",
    "print(\"p-value:\", p_value)"
   ]
  },
  {
   "cell_type": "code",
   "execution_count": 19,
   "metadata": {},
   "outputs": [
    {
     "name": "stdout",
     "output_type": "stream",
     "text": [
      "KS statistic: 0.07185906936591957\n",
      "p-value: 0.653290350241911\n"
     ]
    }
   ],
   "source": [
    "\"\"\" Kolmogorov-Smirnov test \"\"\"\n",
    "data = np.random.normal(0, 1, 100)\n",
    "ks_statistic, p_value = stats.kstest(data, 'norm')\n",
    "print(\"KS statistic:\", ks_statistic)\n",
    "print(\"p-value:\", p_value)"
   ]
  },
  {
   "cell_type": "code",
   "execution_count": 20,
   "metadata": {},
   "outputs": [
    {
     "name": "stdout",
     "output_type": "stream",
     "text": [
      "Shapiro-Wilk statistic: 0.9780017733573914\n",
      "p-value: 0.9492893815040588\n"
     ]
    }
   ],
   "source": [
    "\"\"\" Shapiro-Wilk test \"\"\"\n",
    "data = [0.8, 0.9, 1.0, 1.1, 1.2, 1.3, 1.4]\n",
    "stat, p_value = stats.shapiro(data)\n",
    "print(\"Shapiro-Wilk statistic:\", stat)\n",
    "print(\"p-value:\", p_value)"
   ]
  },
  {
   "cell_type": "code",
   "execution_count": 21,
   "metadata": {},
   "outputs": [
    {
     "name": "stdout",
     "output_type": "stream",
     "text": [
      "Pearson Correlation Coefficient: 1.0\n",
      "p-value: 0.0\n"
     ]
    }
   ],
   "source": [
    "\"\"\" Pearson correlation coefficient \"\"\"\n",
    "x = [1, 2, 3, 4, 5]\n",
    "y = [2, 4, 6, 8, 10]\n",
    "\n",
    "corr_coefficient, p_value = stats.pearsonr(x, y)\n",
    "print(\"Pearson Correlation Coefficient:\", corr_coefficient)\n",
    "print(\"p-value:\", p_value)"
   ]
  },
  {
   "cell_type": "code",
   "execution_count": 22,
   "metadata": {},
   "outputs": [
    {
     "name": "stdout",
     "output_type": "stream",
     "text": [
      "Spearman's Rank Correlation Coefficient: 0.9999999999999999\n",
      "p-value: 1.4042654220543672e-24\n"
     ]
    }
   ],
   "source": [
    "\"\"\" Spearman's rank correlation coefficient \"\"\"\n",
    "x = [1, 2, 3, 4, 5]\n",
    "y = [2, 4, 6, 8, 10]\n",
    "\n",
    "corr_coefficient, p_value = stats.spearmanr(x, y)\n",
    "print(\"Spearman's Rank Correlation Coefficient:\", corr_coefficient)\n",
    "print(\"p-value:\", p_value)"
   ]
  },
  {
   "cell_type": "markdown",
   "metadata": {},
   "source": [
    "<h2 style=\"color:tan\"> Hypothesis Testing example => Z test </h2>"
   ]
  },
  {
   "cell_type": "code",
   "execution_count": 23,
   "metadata": {},
   "outputs": [
    {
     "name": "stdout",
     "output_type": "stream",
     "text": [
      "Z-score: 0.7378647873726248\n",
      "p-value: 0.4605966187047694\n"
     ]
    }
   ],
   "source": [
    "# Sample data\n",
    "sample = [68, 72, 74, 70, 68, 71, 73, 69, 72, 70]\n",
    "\n",
    "population_mean = 70\n",
    "population_stddev = 3\n",
    "# Calculate the Z-score\n",
    "sample_mean = sum(sample) / len(sample)\n",
    "sample_size = len(sample)\n",
    "\n",
    "z_score = (sample_mean - population_mean) / (population_stddev / (sample_size**0.5))\n",
    "\n",
    "# Set the significance level (alpha)\n",
    "alpha = 0.05\n",
    "# Calculate the p-value\n",
    "p_value = 2 * (1 - stats.norm.cdf(abs(z_score)))\n",
    "\n",
    "print(\"Z-score:\", z_score)\n",
    "print(\"p-value:\", p_value)"
   ]
  },
  {
   "cell_type": "code",
   "execution_count": 24,
   "metadata": {},
   "outputs": [
    {
     "name": "stdout",
     "output_type": "stream",
     "text": [
      "Fail to reject the null hypothesis\n"
     ]
    }
   ],
   "source": [
    "# Perform a two-tailed Z-test\n",
    "if p_value < alpha:\n",
    "    print(\"Reject the null hypothesis\")\n",
    "else:\n",
    "    print(\"Fail to reject the null hypothesis\")"
   ]
  },
  {
   "cell_type": "code",
   "execution_count": 27,
   "metadata": {},
   "outputs": [
    {
     "name": "stdout",
     "output_type": "stream",
     "text": [
      "Confidence Interval: (68.84061490308632, 72.55938509691369)\n"
     ]
    }
   ],
   "source": [
    "\"\"\" Calculate the margin of error and confidence interval \"\"\"\n",
    "\n",
    "confidence_level = 1 - alpha\n",
    "# Z critical value for a two-tailed test\n",
    "z_critical = stats.norm.ppf(1 - alpha / 2)  \n",
    "margin_of_error = z_critical * (population_stddev / np.sqrt(sample_size))\n",
    "confidence_interval = (sample_mean - margin_of_error, sample_mean + margin_of_error)\n",
    "print(\"Confidence Interval:\", confidence_interval)"
   ]
  },
  {
   "cell_type": "code",
   "execution_count": 26,
   "metadata": {},
   "outputs": [
    {
     "data": {
      "image/png": "[encoded data removed]",
      "text/plain": [
       "<Figure size 800x400 with 1 Axes>"
      ]
     },
     "metadata": {},
     "output_type": "display_data"
    }
   ],
   "source": [
    "# Dsplay the confidence interval\n",
    "plt.figure(figsize=(8, 4))\n",
    "plt.plot([sample_mean, sample_mean], [0, 1], 'k-', lw=2, label=\"Sample Mean\")\n",
    "plt.axvline(x=confidence_interval[0], color='blue', linestyle='--', label=\"Lower Confidence Bound\")\n",
    "plt.axvline(x=confidence_interval[1], color='red', linestyle='--', label=\"Upper Confidence Bound\")\n",
    "plt.fill_between([confidence_interval[0], confidence_interval[1]], [0, 0], [1, 1], color='gray', alpha=0.2)\n",
    "plt.legend()\n",
    "plt.title(\"Confidence Interval for Population Mean\")\n",
    "plt.xlabel(\"Value\")\n",
    "plt.ylabel(\"Density\")\n",
    "plt.show()"
   ]
  },
  {
   "cell_type": "code",
   "execution_count": 36,
   "metadata": {},
   "outputs": [
    {
     "data": {
      "image/png": "[encoded data removed]",
      "text/plain": [
       "<Figure size 1000x500 with 1 Axes>"
      ]
     },
     "metadata": {},
     "output_type": "display_data"
    }
   ],
   "source": [
    "# Visualize the Z-score Gaussian bell curve\n",
    "x = np.linspace(sample_mean - 3 * (population_stddev / np.sqrt(sample_size)),\n",
    "                sample_mean + 3 * (population_stddev / np.sqrt(sample_size)), 1000)\n",
    "plt.figure(figsize=(10, 5))\n",
    "plt.plot(x, stats.norm.pdf(x, sample_mean, population_stddev / np.sqrt(sample_size)), 'k-', lw=2, label=\"Z-score Gaussian Bell Curve\")\n",
    "\n",
    "# Display the confidence interval\n",
    "plt.axvline(x=sample_mean, color='green', linestyle='--', lw=2, label=\"Sample Mean\")\n",
    "plt.axvline(x=confidence_interval[0], color='blue', linestyle='--', label=\"Lower Confidence Bound\")\n",
    "plt.axvline(x=confidence_interval[1], color='red', linestyle='--', label=\"Upper Confidence Bound\")\n",
    "plt.fill_between(x, 0, stats.norm.pdf(x, sample_mean, population_stddev / np.sqrt(sample_size)),\n",
    "                where=(x >= confidence_interval[0]) & (x <= confidence_interval[1]), color='gray', alpha=0.2)\n",
    "\n",
    "plt.title(\"Z-score Bell curve and confidence Intervals\")\n",
    "plt.xlabel(\"Value\")\n",
    "plt.ylabel(\"Density\")\n",
    "plt.legend(loc='upper left', bbox_to_anchor=(1, 1))\n",
    "plt.show()"
   ]
  }
 ],
 "metadata": {
  "kernelspec": {
   "display_name": "MLearning",
   "language": "python",
   "name": "python3"
  },
  "language_info": {
   "codemirror_mode": {
    "name": "ipython",
    "version": 3
   },
   "file_extension": ".py",
   "mimetype": "text/x-python",
   "name": "python",
   "nbconvert_exporter": "python",
   "pygments_lexer": "ipython3",
   "version": "3.10.9"
  },
  "orig_nbformat": 4
 },
 "nbformat": 4,
 "nbformat_minor": 2
}
