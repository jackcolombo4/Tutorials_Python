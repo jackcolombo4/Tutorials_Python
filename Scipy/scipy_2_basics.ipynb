{
 "cells": [
  {
   "cell_type": "markdown",
   "metadata": {},
   "source": [
    "<div style=\"line-height:1.2;\">\n",
    "\n",
    "<h1 style=\"color:#D68910; margin-bottom: 0.2em;\">Scipy basics 2</h1>\n",
    "<h4 style=\"margin-top: 0.2em;\">Example of Statistics.</h4>\n",
    "\n",
    "</div>\n",
    "\n",
    "<div style=\"margin-top: 10px;\">\n",
    "<span style=\"display: inline-block;\">\n",
    "    <h3 style=\"color: lightblue; display: inline; margin-bottom: 0;\">Keywords:</h3> ne-sample t-test + Two-sample t-test + Pearson correlation coefficient + Spearman rank-order correlation coefficient +  p-value + Kendall rank correlation coefficient \n",
    "</span>\n",
    "</div>"
   ]
  },
  {
   "cell_type": "code",
   "execution_count": 6,
   "metadata": {},
   "outputs": [],
   "source": [
    "import numpy as np\n",
    "import pandas as pd\n",
    "from scipy import stats"
   ]
  },
  {
   "cell_type": "code",
   "execution_count": 7,
   "metadata": {},
   "outputs": [
    {
     "name": "stdout",
     "output_type": "stream",
     "text": [
      "int64\n"
     ]
    },
    {
     "data": {
      "text/html": [
       "<div>\n",
       "<style scoped>\n",
       "    .dataframe tbody tr th:only-of-type {\n",
       "        vertical-align: middle;\n",
       "    }\n",
       "\n",
       "    .dataframe tbody tr th {\n",
       "        vertical-align: top;\n",
       "    }\n",
       "\n",
       "    .dataframe thead th {\n",
       "        text-align: right;\n",
       "    }\n",
       "</style>\n",
       "<table border=\"1\" class=\"dataframe\">\n",
       "  <thead>\n",
       "    <tr style=\"text-align: right;\">\n",
       "      <th></th>\n",
       "      <th>front_left_pressure_voltage</th>\n",
       "      <th>front_right_pressure_voltage</th>\n",
       "      <th>right_pressure_voltage</th>\n",
       "      <th>back_pressure_voltage</th>\n",
       "      <th>left_pressure_voltage</th>\n",
       "      <th>gyroscope_1_voltage</th>\n",
       "      <th>gyroscope_2_voltage</th>\n",
       "    </tr>\n",
       "  </thead>\n",
       "  <tbody>\n",
       "    <tr>\n",
       "      <th>0</th>\n",
       "      <td>0.42</td>\n",
       "      <td>0.43</td>\n",
       "      <td>0.38</td>\n",
       "      <td>0.28</td>\n",
       "      <td>0.30</td>\n",
       "      <td>35</td>\n",
       "      <td>-136</td>\n",
       "    </tr>\n",
       "    <tr>\n",
       "      <th>1</th>\n",
       "      <td>0.49</td>\n",
       "      <td>0.16</td>\n",
       "      <td>0.47</td>\n",
       "      <td>0.07</td>\n",
       "      <td>0.38</td>\n",
       "      <td>243</td>\n",
       "      <td>151</td>\n",
       "    </tr>\n",
       "    <tr>\n",
       "      <th>2</th>\n",
       "      <td>0.26</td>\n",
       "      <td>0.21</td>\n",
       "      <td>0.25</td>\n",
       "      <td>0.38</td>\n",
       "      <td>0.45</td>\n",
       "      <td>-62</td>\n",
       "      <td>-206</td>\n",
       "    </tr>\n",
       "    <tr>\n",
       "      <th>3</th>\n",
       "      <td>0.58</td>\n",
       "      <td>0.23</td>\n",
       "      <td>0.29</td>\n",
       "      <td>0.04</td>\n",
       "      <td>0.54</td>\n",
       "      <td>78</td>\n",
       "      <td>29</td>\n",
       "    </tr>\n",
       "    <tr>\n",
       "      <th>4</th>\n",
       "      <td>0.22</td>\n",
       "      <td>0.18</td>\n",
       "      <td>0.61</td>\n",
       "      <td>0.03</td>\n",
       "      <td>0.48</td>\n",
       "      <td>52</td>\n",
       "      <td>-153</td>\n",
       "    </tr>\n",
       "  </tbody>\n",
       "</table>\n",
       "</div>"
      ],
      "text/plain": [
       "   front_left_pressure_voltage  front_right_pressure_voltage  \\\n",
       "0                         0.42                          0.43   \n",
       "1                         0.49                          0.16   \n",
       "2                         0.26                          0.21   \n",
       "3                         0.58                          0.23   \n",
       "4                         0.22                          0.18   \n",
       "\n",
       "   right_pressure_voltage  back_pressure_voltage  left_pressure_voltage  \\\n",
       "0                    0.38                   0.28                   0.30   \n",
       "1                    0.47                   0.07                   0.38   \n",
       "2                    0.25                   0.38                   0.45   \n",
       "3                    0.29                   0.04                   0.54   \n",
       "4                    0.61                   0.03                   0.48   \n",
       "\n",
       "   gyroscope_1_voltage  gyroscope_2_voltage  \n",
       "0                   35                 -136  \n",
       "1                  243                  151  \n",
       "2                  -62                 -206  \n",
       "3                   78                   29  \n",
       "4                   52                 -153  "
      ]
     },
     "execution_count": 7,
     "metadata": {},
     "output_type": "execute_result"
    }
   ],
   "source": [
    "\"\"\" Read csv \"\"\"\n",
    "df_squeeze = pd.read_csv(\"./data/squeeze_acquisitions.csv\", header=None, skiprows=None, sep=';')\n",
    "df_squeeze.head()\n",
    "df_squeeze.columns = ['front_left_pressure_voltage', 'front_right_pressure_voltage', 'right_pressure_voltage', 'back_pressure_voltage', 'left_pressure_voltage', \n",
    "                'gyroscope_1_voltage', 'gyroscope_2_voltage']\n",
    "\n",
    "df_squeeze.iloc[:, :5] = df_squeeze.iloc[:, :5].astype(float)\n",
    "\n",
    "col_dtype = df_squeeze['gyroscope_1_voltage'].dtype\n",
    "\n",
    "print(col_dtype)\n",
    "df_squeeze.head()"
   ]
  },
  {
   "cell_type": "code",
   "execution_count": 8,
   "metadata": {},
   "outputs": [
    {
     "name": "stdout",
     "output_type": "stream",
     "text": [
      "   numerical\n",
      "0         59\n",
      "1         86\n",
      "2         55\n",
      "3         29\n",
      "4         13\n",
      "5          0\n",
      "6        100\n",
      "7         65\n",
      "8          5\n",
      "9          4\n"
     ]
    }
   ],
   "source": [
    "random_numbers = np.random.randint(low=0, high=101, size=len(df_hug)) #array of 1370 random integers between 0 and 100\n",
    "df_temp = pd.DataFrame({'numerical': random_numbers})\n",
    "print(df_temp.head(10))"
   ]
  },
  {
   "cell_type": "code",
   "execution_count": 9,
   "metadata": {},
   "outputs": [
    {
     "name": "stdout",
     "output_type": "stream",
     "text": [
      "df_squeeze.columns ==> Index(['front_left_pressure_voltage', 'front_right_pressure_voltage',\n",
      "       'right_pressure_voltage', 'back_pressure_voltage',\n",
      "       'left_pressure_voltage', 'gyroscope_1_voltage', 'gyroscope_2_voltage'],\n",
      "      dtype='object')\n",
      "\n",
      "X.columns ==> Index(['pressure_mean', 'gyroscope_sum', 'category'], dtype='object')\n",
      "   pressure_mean  gyroscope_sum   category\n",
      "0          0.362           -101       high\n",
      "1          0.314            394  very high\n",
      "2          0.310           -268       high\n",
      "3          0.336            107     medium\n",
      "4          0.304           -101        low\n",
      "5          0.326            551        NaN\n",
      "6          0.282            -89  very high\n",
      "7          0.300            537       high\n",
      "8          0.298            -91        low\n",
      "9          0.296            252        low\n"
     ]
    }
   ],
   "source": [
    "X = pd.DataFrame()\n",
    "\n",
    "X['pressure_mean'] = df_squeeze[['front_left_pressure_voltage', 'front_right_pressure_voltage', \n",
    "                            'right_pressure_voltage', 'back_pressure_voltage', 'left_pressure_voltage']].mean(axis=1)\n",
    "\n",
    "X['gyroscope_sum'] = df_squeeze['gyroscope_1_voltage'] + df_squeeze['gyroscope_2_voltage']\n",
    "\n",
    "# Create a new \"category\" column based on a numerical column\n",
    "X['category'] = pd.cut(df_temp['numerical'], bins=[0, 25, 50, 75, 100], labels=['low', 'medium', 'high', 'very high'])\n",
    "\n",
    "print(\"df_squeeze.columns ==> {}\".format(df_squeeze.columns))\n",
    "print()\n",
    "print(\"X.columns ==> {}\".format(X.columns))\n",
    "print(X.head(10))"
   ]
  },
  {
   "cell_type": "code",
   "execution_count": 10,
   "metadata": {},
   "outputs": [
    {
     "name": "stdout",
     "output_type": "stream",
     "text": [
      "       pressure_mean  gyroscope_sum\n",
      "count    1370.000000    1370.000000\n",
      "mean        0.210266      54.925547\n",
      "std         0.038589     222.339175\n",
      "min         0.086000    -405.000000\n",
      "25%         0.182000     -97.000000\n",
      "50%         0.208000     -91.000000\n",
      "75%         0.240000     268.750000\n",
      "max         0.362000     609.000000\n",
      "\n",
      "One-sample t-test: t = -181.986, p = 0.000\n",
      "Two-sample t-test: t = -0.131, p = 0.896\n",
      "Pearson correlation: r = -0.005, p = 0.864\n",
      "Spearman correlation: rho = -0.043, p = 0.111\n",
      "Kendall correlation: tau = -0.031, p = 0.094\n"
     ]
    }
   ],
   "source": [
    "# Get a descriptive statistics of the dataset\n",
    "desc_stats = X.describe()\n",
    "print(desc_stats)\n",
    "print()\n",
    "\n",
    "# One-sample t-test to test if the population mean of 'pressure_mean' is equal to 0.4\n",
    "t_stat, p_value = stats.ttest_1samp(X['pressure_mean'], 0.4)\n",
    "print('One-sample t-test: t = {:.3f}, p = {:.3f}'.format(t_stat, p_value))\n",
    "\n",
    "### Calc the (two-sampled) t-test to check if the population means of 'gyroscope_sum' are equal for 'high' and 'very high' categories\n",
    "high_gyro = X.loc[X['category'] == 'high', 'gyroscope_sum']\n",
    "very_high_gyro = X.loc[X['category'] == 'very high', 'gyroscope_sum']\n",
    "t_stat, p_value = stats.ttest_ind(high_gyro, very_high_gyro)\n",
    "print('Two-sample t-test: t = {:.3f}, p = {:.3f}'.format(t_stat, p_value))\n",
    "\n",
    "# Calc the Pearson correlation coefficient and p-value between 'pressure_mean' and 'gyroscope_sum'\n",
    "corr_coef, p_value = stats.pearsonr(X['pressure_mean'], X['gyroscope_sum'])\n",
    "print('Pearson correlation: r = {:.3f}, p = {:.3f}'.format(corr_coef, p_value))\n",
    "\n",
    "# Calc the Spearman rank-order correlation coefficient and p-value between 'pressure_mean' and 'gyroscope_sum'\n",
    "corr_coef, p_value = stats.spearmanr(X['pressure_mean'], X['gyroscope_sum'])\n",
    "print('Spearman correlation: rho = {:.3f}, p = {:.3f}'.format(corr_coef, p_value))\n",
    "\n",
    "# Compute the Kendall rank correlation coefficient and p-value between 'pressure_mean' and 'gyroscope_sum'\n",
    "corr_coef, p_value = stats.kendalltau(X['pressure_mean'], X['gyroscope_sum'])\n",
    "print('Kendall correlation: tau = {:.3f}, p = {:.3f}'.format(corr_coef, p_value))"
   ]
  },
  {
   "cell_type": "code",
   "execution_count": 11,
   "metadata": {},
   "outputs": [
    {
     "data": {
      "text/plain": [
       "very high    368\n",
       "high         343\n",
       "low          333\n",
       "medium       317\n",
       "Name: category, dtype: int64"
      ]
     },
     "execution_count": 11,
     "metadata": {},
     "output_type": "execute_result"
    }
   ],
   "source": [
    "X['category'].value_counts()"
   ]
  },
  {
   "cell_type": "code",
   "execution_count": 12,
   "metadata": {},
   "outputs": [
    {
     "name": "stdout",
     "output_type": "stream",
     "text": [
      "Missing values: 9\n"
     ]
    }
   ],
   "source": [
    "missing_values = X['category'].isnull().sum()\n",
    "print('Missing values:', missing_values)"
   ]
  },
  {
   "cell_type": "code",
   "execution_count": 13,
   "metadata": {},
   "outputs": [],
   "source": [
    "\"\"\" Fill the missing values with a random category \"\"\"\n",
    "available_categories = X['category'].dropna().unique()"
   ]
  },
  {
   "cell_type": "code",
   "execution_count": 14,
   "metadata": {},
   "outputs": [
    {
     "name": "stdout",
     "output_type": "stream",
     "text": [
      "Observed total: 1361\n",
      "Expected total: 1370.0\n"
     ]
    }
   ],
   "source": [
    "observed_total = X['category'].value_counts().sum()\n",
    "expected_freqs = pd.Series({'low': 1370/4, 'medium': 1370/4, 'high': 1370/4, 'very high': 1370/4})\n",
    "expected_total = expected_freqs.sum()\n",
    "\n",
    "print('Observed total:', observed_total)\n",
    "print('Expected total:', expected_total)"
   ]
  }
 ],
 "metadata": {
  "kernelspec": {
   "display_name": "MLearning",
   "language": "python",
   "name": "python3"
  },
  "language_info": {
   "codemirror_mode": {
    "name": "ipython",
    "version": 3
   },
   "file_extension": ".py",
   "mimetype": "text/x-python",
   "name": "python",
   "nbconvert_exporter": "python",
   "pygments_lexer": "ipython3",
   "version": "3.10.9"
  },
  "orig_nbformat": 4
 },
 "nbformat": 4,
 "nbformat_minor": 2
}
