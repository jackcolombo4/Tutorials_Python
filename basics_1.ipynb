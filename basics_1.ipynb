{
 "cells": [
  {
   "cell_type": "markdown",
   "metadata": {},
   "source": [
    "<div style=\"line-height:0.5\">\n",
    "<h1 style=\"color:darkorange\"> Python tips 1 </h1>\n",
    "<span style=\"display: inline-block;\">\n",
    "    <h3 style=\"color: lightblue; display: inline;\">Keywords:</h3> math + global vars + random + bytes\n",
    "</span>\n",
    "</div>"
   ]
  },
  {
   "cell_type": "code",
   "execution_count": 1,
   "metadata": {},
   "outputs": [],
   "source": [
    "import math\n",
    "import random\n",
    "import string\n",
    "import numpy as np\n",
    "from contextlib import redirect_stdout"
   ]
  },
  {
   "cell_type": "markdown",
   "metadata": {},
   "source": [
    "<h3 style=\"color:darkorange\"> Variables </h3>"
   ]
  },
  {
   "cell_type": "code",
   "execution_count": 2,
   "metadata": {},
   "outputs": [
    {
     "data": {
      "text/plain": [
       "(True, False)"
      ]
     },
     "execution_count": 2,
     "metadata": {},
     "output_type": "execute_result"
    }
   ],
   "source": [
    "# Booleans\n",
    "t = True\n",
    "f = False\n",
    "t,f"
   ]
  },
  {
   "cell_type": "markdown",
   "metadata": {},
   "source": [
    "<h4 style=\"color:darkorange\"> Note: </h4>\n",
    "<div style=\"margin-top: -8px;\"> \n",
    "When the Python interpreter encounters a comment, it recognizes that everything following the '#' on that line is not meant to be executed as code. <br>\n",
    "Therefore, the interpreter skips over comments and does not execute any instructions in them, nor does it export them to a .pyc file or any other form of output. <br>\n",
    "On the contrary triple-quoted strings are considered by the Python interpreter, since these strings are actually string literals, not traditional comments. \n",
    "</div>"
   ]
  },
  {
   "cell_type": "code",
   "execution_count": 3,
   "metadata": {},
   "outputs": [
    {
     "data": {
      "text/plain": [
       "True"
      ]
     },
     "execution_count": 3,
     "metadata": {},
     "output_type": "execute_result"
    }
   ],
   "source": [
    "age = 18\n",
    "can_vote = (age >= 18) \n",
    "can_vote"
   ]
  },
  {
   "cell_type": "code",
   "execution_count": 4,
   "metadata": {},
   "outputs": [
    {
     "name": "stdout",
     "output_type": "stream",
     "text": [
      "<class 'int'>\n",
      "140310243640848\n",
      "True\n"
     ]
    }
   ],
   "source": [
    "x = 42\n",
    "print(type(x))\n",
    "print(id(x))\n",
    "print(isinstance(x, int)) "
   ]
  },
  {
   "cell_type": "code",
   "execution_count": 5,
   "metadata": {},
   "outputs": [],
   "source": [
    "x = 42\n",
    "y = \"hello\""
   ]
  },
  {
   "cell_type": "code",
   "execution_count": 6,
   "metadata": {},
   "outputs": [
    {
     "name": "stdout",
     "output_type": "stream",
     "text": [
      "Skipping\n"
     ]
    }
   ],
   "source": [
    "%%script echo Skipping\n",
    "print(locals())  \n",
    "# Result is :\n",
    "# {'__name__': '__main__', '__doc__': 'Automatically created module for IPython interactive environment', '__package__': None, '__loader__': None, '__spec__': None, '__builtin__': <module 'builtins' (built-in)>, '__builtins__': <module 'builtins' ..........."
   ]
  },
  {
   "cell_type": "code",
   "execution_count": 3,
   "metadata": {},
   "outputs": [
    {
     "name": "stdout",
     "output_type": "stream",
     "text": [
      "[1, 2, 3, 4]\n",
      "[1, 2, 3, 4]\n"
     ]
    }
   ],
   "source": [
    "\"\"\" \n",
    "N.B.\n",
    "When assign a variable, you're actually assigning a reference to the object, not a copy of the list. \n",
    "Therefore, if you modify the original variable is modified, changes will be visible through all references to that list. \n",
    "However, reassigning a variable to a new list does not change the original list but creates a new list and changes the reference.\n",
    "\"\"\"\n",
    "a_1 = [1, 2, 3]\n",
    "a_2 = a_1\n",
    "a_1.append(4)\n",
    "print(a_2)\n",
    "a_1 = [4,5,6]\n",
    "print(a_2)"
   ]
  },
  {
   "cell_type": "code",
   "execution_count": 7,
   "metadata": {},
   "outputs": [
    {
     "name": "stdout",
     "output_type": "stream",
     "text": [
      "10\n"
     ]
    }
   ],
   "source": [
    "global a\n",
    "a = 10\n",
    "def fun():\n",
    "    print(a)\n",
    "fun()"
   ]
  },
  {
   "cell_type": "code",
   "execution_count": 8,
   "metadata": {},
   "outputs": [
    {
     "name": "stdout",
     "output_type": "stream",
     "text": [
      "10\n"
     ]
    },
    {
     "data": {
      "text/plain": [
       "10"
      ]
     },
     "execution_count": 8,
     "metadata": {},
     "output_type": "execute_result"
    }
   ],
   "source": [
    "def fun():\n",
    "    global gdfds\n",
    "    gdfds = 10\n",
    "    print(gdfds)\n",
    "\n",
    "fun()\n",
    "gdfds"
   ]
  },
  {
   "cell_type": "code",
   "execution_count": 9,
   "metadata": {},
   "outputs": [
    {
     "data": {
      "text/plain": [
       "11"
      ]
     },
     "execution_count": 9,
     "metadata": {},
     "output_type": "execute_result"
    }
   ],
   "source": [
    "co = 10\n",
    "def inc():\n",
    "    global co\n",
    "    co += 1\n",
    "\n",
    "inc()\n",
    "co"
   ]
  },
  {
   "cell_type": "code",
   "execution_count": 10,
   "metadata": {},
   "outputs": [
    {
     "data": {
      "text/plain": [
       "1"
      ]
     },
     "execution_count": 10,
     "metadata": {},
     "output_type": "execute_result"
    }
   ],
   "source": [
    "\"\"\" Global vars and redirect output. \"\"\"\n",
    "def ff():\n",
    "    global bar \n",
    "    global finished\n",
    "    if not finished:\n",
    "        bar +=1\n",
    "        return bar \n",
    "    if finished:\n",
    "        with open('./data/the_output_is_printed_here.txt', 'w') as f:\n",
    "            with redirect_stdout(f):\n",
    "                print(bar)\n",
    "        return 1\n",
    "\n",
    "finished = 1\n",
    "bar = 10\n",
    "res =  ff()\n",
    "res"
   ]
  },
  {
   "cell_type": "markdown",
   "metadata": {},
   "source": [
    "<h3 style=\"color:darkorange\"> Data Types </h3>"
   ]
  },
  {
   "cell_type": "code",
   "execution_count": 11,
   "metadata": {},
   "outputs": [
    {
     "name": "stdout",
     "output_type": "stream",
     "text": [
      "<class 'complex'>\n"
     ]
    },
    {
     "data": {
      "text/plain": [
       "(51+51j)"
      ]
     },
     "execution_count": 11,
     "metadata": {},
     "output_type": "execute_result"
    }
   ],
   "source": [
    "a = 51.3\n",
    "b = int(a)\n",
    "k = float(b)\n",
    "c = complex(b,k)\n",
    "print(type(c))\n",
    "c"
   ]
  },
  {
   "cell_type": "code",
   "execution_count": 12,
   "metadata": {},
   "outputs": [
    {
     "name": "stdout",
     "output_type": "stream",
     "text": [
      "<class 'bool'>\n"
     ]
    },
    {
     "data": {
      "text/plain": [
       "False"
      ]
     },
     "execution_count": 12,
     "metadata": {},
     "output_type": "execute_result"
    }
   ],
   "source": [
    "boole = b < k\n",
    "print(type(boole))\n",
    "boole"
   ]
  },
  {
   "cell_type": "code",
   "execution_count": 13,
   "metadata": {},
   "outputs": [
    {
     "data": {
      "text/plain": [
       "dict"
      ]
     },
     "execution_count": 13,
     "metadata": {},
     "output_type": "execute_result"
    }
   ],
   "source": [
    "pers = {\"name\": \"Hector\", \"age\": 30} \n",
    "type(pers)"
   ]
  },
  {
   "cell_type": "code",
   "execution_count": 14,
   "metadata": {},
   "outputs": [
    {
     "data": {
      "text/plain": [
       "tuple"
      ]
     },
     "execution_count": 14,
     "metadata": {},
     "output_type": "execute_result"
    }
   ],
   "source": [
    "goals = (\"header\", \"penalty\", \"volley\")  \n",
    "type(goals)"
   ]
  },
  {
   "cell_type": "code",
   "execution_count": 15,
   "metadata": {},
   "outputs": [
    {
     "data": {
      "text/plain": [
       "(False, True)"
      ]
     },
     "execution_count": 15,
     "metadata": {},
     "output_type": "execute_result"
    }
   ],
   "source": [
    "isinstance(goals, list), isinstance(goals, tuple)"
   ]
  },
  {
   "cell_type": "code",
   "execution_count": 16,
   "metadata": {},
   "outputs": [
    {
     "data": {
      "text/plain": [
       "str"
      ]
     },
     "execution_count": 16,
     "metadata": {},
     "output_type": "execute_result"
    }
   ],
   "source": [
    "type(str(1))"
   ]
  },
  {
   "cell_type": "code",
   "execution_count": 17,
   "metadata": {},
   "outputs": [
    {
     "data": {
      "text/plain": [
       "list"
      ]
     },
     "execution_count": 17,
     "metadata": {},
     "output_type": "execute_result"
    }
   ],
   "source": [
    "type([99, 105, 97, 111])"
   ]
  },
  {
   "cell_type": "code",
   "execution_count": 18,
   "metadata": {},
   "outputs": [
    {
     "data": {
      "text/plain": [
       "([str, int, int, str, float, numpy.float64], {float, int, numpy.float64, str})"
      ]
     },
     "execution_count": 18,
     "metadata": {},
     "output_type": "execute_result"
    }
   ],
   "source": [
    "mix_lis = ['3231',44, 32, 'b\\'ewq',1.332, np.exp(2)]\n",
    "element_types = list(type(x) for x in mix_lis)\n",
    "unique_types = set(type(x) for x in mix_lis)\n",
    "element_types, unique_types"
   ]
  },
  {
   "cell_type": "code",
   "execution_count": 19,
   "metadata": {},
   "outputs": [
    {
     "data": {
      "text/plain": [
       "b'ciao'"
      ]
     },
     "execution_count": 19,
     "metadata": {},
     "output_type": "execute_result"
    }
   ],
   "source": [
    "st = bytes([ord(c) for c in \"ciao\"])\n",
    "st"
   ]
  },
  {
   "cell_type": "code",
   "execution_count": 20,
   "metadata": {},
   "outputs": [
    {
     "data": {
      "text/plain": [
       "(bytes, bytes, bytes, bytes)"
      ]
     },
     "execution_count": 20,
     "metadata": {},
     "output_type": "execute_result"
    }
   ],
   "source": [
    "by_st1 = b'ciao'\n",
    "by_st2 = \"ciao\".encode()\n",
    "\n",
    "## Define two constructors for bytes() \n",
    "by_li1 = bytes([99, 105, 97, 111])\n",
    "by_st3 = bytes([ord(c) for c in \"ciao\"])\n",
    "\n",
    "type(by_st1),type(by_st2), type(by_li1), type(by_st3)"
   ]
  },
  {
   "cell_type": "code",
   "execution_count": 21,
   "metadata": {},
   "outputs": [
    {
     "data": {
      "text/plain": [
       "(b'ciao', bytes)"
      ]
     },
     "execution_count": 21,
     "metadata": {},
     "output_type": "execute_result"
    }
   ],
   "source": [
    "\"\"\" Converting a bytearray to bytes \"\"\"\n",
    "arr = bytearray(b'ciao')\n",
    "st = bytes(arr)\n",
    "st, type(st)"
   ]
  },
  {
   "cell_type": "code",
   "execution_count": 22,
   "metadata": {},
   "outputs": [
    {
     "name": "stdout",
     "output_type": "stream",
     "text": [
      "type ot strr 'b'ciao'' is <class 'bytes'>\n",
      "type ot addt 'b'\\\\n'' is <class 'bytes'>\n",
      "b'ciao\\\\n'\n"
     ]
    }
   ],
   "source": [
    "# Encode unicode escape\n",
    "strr = b'ciao'\n",
    "addt = '\\n'.encode('unicode_escape')\n",
    "\n",
    "print(\"type ot strr '{}' is {}\".format(strr, type(strr)))\n",
    "print(\"type ot addt '{}' is {}\".format(addt, type(addt)))\n",
    "\n",
    "sttr_addt = strr + addt \n",
    "print(sttr_addt)"
   ]
  },
  {
   "cell_type": "markdown",
   "metadata": {},
   "source": [
    "<h3 style=\"color:darkorange\"> Boolean logic </h3>"
   ]
  },
  {
   "cell_type": "code",
   "execution_count": 23,
   "metadata": {},
   "outputs": [
    {
     "data": {
      "text/plain": [
       "True"
      ]
     },
     "execution_count": 23,
     "metadata": {},
     "output_type": "execute_result"
    }
   ],
   "source": [
    "x, y, z = 4, 8, 16\n",
    "result = (x < y) and (z > x) \n",
    "result"
   ]
  },
  {
   "cell_type": "code",
   "execution_count": 24,
   "metadata": {},
   "outputs": [
    {
     "data": {
      "text/plain": [
       "True"
      ]
     },
     "execution_count": 24,
     "metadata": {},
     "output_type": "execute_result"
    }
   ],
   "source": [
    "# Negating bools\n",
    "is_admin = False\n",
    "not_admin = not is_admin\n",
    "not_admin"
   ]
  },
  {
   "cell_type": "code",
   "execution_count": 25,
   "metadata": {},
   "outputs": [],
   "source": [
    "is_friend = True\n",
    "can_message = is_friend"
   ]
  },
  {
   "cell_type": "code",
   "execution_count": 26,
   "metadata": {},
   "outputs": [
    {
     "name": "stdout",
     "output_type": "stream",
     "text": [
      "Sending message\n"
     ]
    }
   ],
   "source": [
    "if can_message:\n",
    "    print(\"Sending message\")"
   ]
  },
  {
   "cell_type": "code",
   "execution_count": 27,
   "metadata": {},
   "outputs": [
    {
     "data": {
      "text/plain": [
       "True"
      ]
     },
     "execution_count": 27,
     "metadata": {},
     "output_type": "execute_result"
    }
   ],
   "source": [
    "friends = ['a','b','c']\n",
    "name = \"b\"\n",
    "is_friend = (name in friends) \n",
    "is_friend"
   ]
  },
  {
   "cell_type": "markdown",
   "metadata": {},
   "source": [
    " <h3 style=\"color:darkorange\"> Functions </h3>"
   ]
  },
  {
   "cell_type": "code",
   "execution_count": 28,
   "metadata": {},
   "outputs": [
    {
     "data": {
      "text/plain": [
       "625"
      ]
     },
     "execution_count": 28,
     "metadata": {},
     "output_type": "execute_result"
    }
   ],
   "source": [
    "def my_square(x):\n",
    "    return x * x\n",
    "my_square(25)"
   ]
  },
  {
   "cell_type": "code",
   "execution_count": 28,
   "metadata": {},
   "outputs": [
    {
     "name": "stdout",
     "output_type": "stream",
     "text": [
      "info: System starting\n",
      "error: Error!\n"
     ]
    }
   ],
   "source": [
    "def a_log(message, type='info'):\n",
    "    print(type + \": \" + message)\n",
    "\n",
    "a_log(\"System starting\") \n",
    "a_log(\"Error!\", 'error')"
   ]
  },
  {
   "cell_type": "code",
   "execution_count": 29,
   "metadata": {},
   "outputs": [
    {
     "data": {
      "text/plain": [
       "15"
      ]
     },
     "execution_count": 29,
     "metadata": {},
     "output_type": "execute_result"
    }
   ],
   "source": [
    "# Nested \n",
    "def addi(x, y):\n",
    "    return x + y\n",
    "def oper(x, y):\n",
    "    return addi(x * 3, y + 5) \n",
    "oper(2, 4)"
   ]
  },
  {
   "cell_type": "markdown",
   "metadata": {},
   "source": [
    "<h3 style=\"color:#FF7C00 \"> Recap: Overloading </h3>\n",
    "<div style=\"margin-top: -8px;\">\n",
    "Python provide native support for function overloading => Polymorphism, but not in the same way as statically typed languages like C++ or Java! <br>\n",
    "Then, if two methods are defined with same name but different parameters, the interpreter will always consider the last definition as the valid one, (like when dealing with variables). \n",
    "Therefore, defining a function with a different signature with parameters that are not the ones of the last function, it will raise a TypeError!"
   ]
  },
  {
   "cell_type": "code",
   "execution_count": 34,
   "metadata": {},
   "outputs": [
    {
     "name": "stdout",
     "output_type": "stream",
     "text": [
      "Skipping, just an example\n"
     ]
    }
   ],
   "source": [
    "%%script echo Skipping, just an example\n",
    "\"\"\" Overloading.\n",
    "N.B. TypeError ! \n",
    "\"\"\"\n",
    "def same_name(first, second):\n",
    "    return first +1, second + 2\n",
    "\n",
    "def same_name(first, second, third):\n",
    "    return first +1, second + 2, third + 3\n",
    "\n",
    "same_name(1,2)\n",
    "\n",
    "=> (same_name() missing 1 required positional argument: 'third')\n"
   ]
  },
  {
   "cell_type": "code",
   "execution_count": 45,
   "metadata": {},
   "outputs": [
    {
     "data": {
      "text/plain": [
       "(2, 6, 12)"
      ]
     },
     "execution_count": 45,
     "metadata": {},
     "output_type": "execute_result"
    }
   ],
   "source": [
    "\"\"\" Solution 1: Default Arguments.\n",
    "N.B. \n",
    "Not so smart, especially when params are mutable objects. \"\"\"\n",
    "def same_name1(first, second=None, third=None):\n",
    "    if third is None and second is None:\n",
    "        return first + 1\n",
    "    elif third is None and second is not None:\n",
    "        return first + 1 + second + 2 \n",
    "    elif third is not None and second is not None:\n",
    "        return first + 1 + second + 2 + third + 3\n",
    "\n",
    "res11 = same_name1(1)\n",
    "res12 = same_name1(1,2)\n",
    "res13 = same_name1(1,2,3)\n",
    "res11, res12, res13"
   ]
  },
  {
   "cell_type": "code",
   "execution_count": 57,
   "metadata": {},
   "outputs": [
    {
     "data": {
      "text/plain": [
       "((2, 4), (2, 4, 6))"
      ]
     },
     "execution_count": 57,
     "metadata": {},
     "output_type": "execute_result"
    }
   ],
   "source": [
    "\"\"\" Solution 2: Type Checking passing arguments (type must be known). \"\"\"\n",
    "def same_name2(*args):\n",
    "    num_args = len(args)\n",
    "    \n",
    "    if num_args == 2 and all(isinstance(arg, int) for arg in args):\n",
    "        first, second = args\n",
    "        return first + 1, second + 2\n",
    "    elif num_args == 3 and all(isinstance(arg, int) for arg in args):\n",
    "        first, second, third = args\n",
    "        return first + 1, second + 2, third + 3\n",
    "    else:\n",
    "        raise TypeError(\"Invalid arguments for same_name\")\n",
    "\n",
    "same_name2(1, 2), same_name2(1, 2, 3)"
   ]
  },
  {
   "cell_type": "code",
   "execution_count": 58,
   "metadata": {},
   "outputs": [
    {
     "data": {
      "text/plain": [
       "((2, 4), (2, 4, 6))"
      ]
     },
     "execution_count": 58,
     "metadata": {},
     "output_type": "execute_result"
    }
   ],
   "source": [
    "\"\"\" Solution 3: **kwargs!\n",
    "In this case the function accepts any number of keyword arguments, all possible names of parameters should be known. \n",
    "\"\"\"\n",
    "def same_name3(**kwargs):\n",
    "    keys = kwargs.keys()    \n",
    "    if 'first' in keys and 'second' in keys and len(keys) == 2:\n",
    "        if isinstance(kwargs['first'], int) and isinstance(kwargs['second'], int):\n",
    "            return kwargs['first'] + 1, kwargs['second'] + 2\n",
    "        else:\n",
    "            raise TypeError(\"first and second must be integers\")\n",
    "\n",
    "    elif 'first' in keys and 'second' in keys and 'third' in keys and len(keys) == 3:\n",
    "        if isinstance(kwargs['first'], int) and isinstance(kwargs['second'], int) and isinstance(kwargs['third'], int):\n",
    "            return kwargs['first'] + 1, kwargs['second'] + 2, kwargs['third'] + 3\n",
    "        else:\n",
    "            raise TypeError(\"first, second, and third must be integers\")\n",
    "\n",
    "    else:\n",
    "        # In case of unknown keywords not handled here, like \"sixth=6\"  \n",
    "        raise TypeError(\"Invalid keyword!\")     \n",
    "\n",
    "same_name3(first=1, second=2), same_name3(first=1, second=2, third=3)"
   ]
  },
  {
   "cell_type": "code",
   "execution_count": 55,
   "metadata": {},
   "outputs": [
    {
     "data": {
      "text/plain": [
       "((2, 4), (2, 4, 6))"
      ]
     },
     "execution_count": 55,
     "metadata": {},
     "output_type": "execute_result"
    }
   ],
   "source": [
    "\"\"\" Solution 4: @dispatch decorator! \n",
    "The type of the parameters must be known! '@dispatch' requires the types for that particular function signature, \n",
    "so that multipledispatch can determine which implementation to use based on the types of the arguments passed at runtime. => @dispatch(*args) cannot be used here.\n",
    "\"\"\"\n",
    "from multipledispatch import dispatch\n",
    "\n",
    "@dispatch(int, int)\n",
    "def same_name4(first, second):\n",
    "    return first +1, second + 2\n",
    "\n",
    "@dispatch(int, int, int)\n",
    "def same_name4(first, second, third):\n",
    "    return first +1, second + 2, third + 3\n",
    "\n",
    "same_name4(1,2), same_name4(1,2,3)"
   ]
  },
  {
   "cell_type": "markdown",
   "metadata": {},
   "source": [
    "<h3 style=\"color:darkorange\"> Built-in functions </h3>"
   ]
  },
  {
   "cell_type": "code",
   "execution_count": 30,
   "metadata": {},
   "outputs": [
    {
     "data": {
      "text/plain": [
       "7624704"
      ]
     },
     "execution_count": 30,
     "metadata": {},
     "output_type": "execute_result"
    }
   ],
   "source": [
    "# Object's memory address\n",
    "id(object)"
   ]
  },
  {
   "cell_type": "code",
   "execution_count": 31,
   "metadata": {},
   "outputs": [
    {
     "data": {
      "text/plain": [
       "4"
      ]
     },
     "execution_count": 31,
     "metadata": {},
     "output_type": "execute_result"
    }
   ],
   "source": [
    "arra = [13, 2.2, '3', 4]\n",
    "len(arra)"
   ]
  },
  {
   "cell_type": "code",
   "execution_count": 32,
   "metadata": {},
   "outputs": [
    {
     "data": {
      "text/plain": [
       "10"
      ]
     },
     "execution_count": 32,
     "metadata": {},
     "output_type": "execute_result"
    }
   ],
   "source": [
    "sum([1, 2, 3, 4])"
   ]
  },
  {
   "cell_type": "code",
   "execution_count": 33,
   "metadata": {},
   "outputs": [
    {
     "data": {
      "text/plain": [
       "True"
      ]
     },
     "execution_count": 33,
     "metadata": {},
     "output_type": "execute_result"
    }
   ],
   "source": [
    "any([False, False, True])"
   ]
  },
  {
   "cell_type": "code",
   "execution_count": 34,
   "metadata": {},
   "outputs": [
    {
     "data": {
      "text/plain": [
       "True"
      ]
     },
     "execution_count": 34,
     "metadata": {},
     "output_type": "execute_result"
    }
   ],
   "source": [
    "all([True, 1, -2])"
   ]
  },
  {
   "cell_type": "code",
   "execution_count": 35,
   "metadata": {},
   "outputs": [
    {
     "data": {
      "text/plain": [
       "[0, 1, 2, 3, 4, 5, 6, 7, 8, 9, 10, 11, 12, 13, 14]"
      ]
     },
     "execution_count": 35,
     "metadata": {},
     "output_type": "execute_result"
    }
   ],
   "source": [
    "list(range(15)) "
   ]
  },
  {
   "cell_type": "code",
   "execution_count": 36,
   "metadata": {},
   "outputs": [
    {
     "data": {
      "text/plain": [
       "(3.14159, 3)"
      ]
     },
     "execution_count": 36,
     "metadata": {},
     "output_type": "execute_result"
    }
   ],
   "source": [
    "a = abs(3.14159)\n",
    "r = round(3.14159) \n",
    "a,r"
   ]
  },
  {
   "cell_type": "code",
   "execution_count": 37,
   "metadata": {},
   "outputs": [
    {
     "data": {
      "text/plain": [
       "(3, 2)"
      ]
     },
     "execution_count": 37,
     "metadata": {},
     "output_type": "execute_result"
    }
   ],
   "source": [
    "# Quotient and remainder\n",
    "divmod(11, 3)"
   ]
  },
  {
   "cell_type": "code",
   "execution_count": 38,
   "metadata": {},
   "outputs": [
    {
     "data": {
      "text/plain": [
       "729"
      ]
     },
     "execution_count": 38,
     "metadata": {},
     "output_type": "execute_result"
    }
   ],
   "source": [
    "pow(9, 3)"
   ]
  },
  {
   "cell_type": "code",
   "execution_count": 39,
   "metadata": {},
   "outputs": [
    {
     "data": {
      "text/plain": [
       "(743.2, 32.2, 96.3)"
      ]
     },
     "execution_count": 39,
     "metadata": {},
     "output_type": "execute_result"
    }
   ],
   "source": [
    "tuple([743.2, 32.2, 96.3])"
   ]
  },
  {
   "cell_type": "code",
   "execution_count": 40,
   "metadata": {},
   "outputs": [
    {
     "name": "stdout",
     "output_type": "stream",
     "text": [
      "0 uno\n",
      "1 dos\n",
      "2 tres\n"
     ]
    }
   ],
   "source": [
    "for i, v in enumerate(['uno', 'dos', 'tres']):\n",
    "    print(i, v)"
   ]
  },
  {
   "cell_type": "code",
   "execution_count": 41,
   "metadata": {},
   "outputs": [
    {
     "data": {
      "text/plain": [
       "[1, 2, 3]"
      ]
     },
     "execution_count": 41,
     "metadata": {},
     "output_type": "execute_result"
    }
   ],
   "source": [
    "sorted([3, 1, 2])"
   ]
  },
  {
   "cell_type": "code",
   "execution_count": 42,
   "metadata": {},
   "outputs": [
    {
     "data": {
      "text/plain": [
       "True"
      ]
     },
     "execution_count": 42,
     "metadata": {},
     "output_type": "execute_result"
    }
   ],
   "source": [
    "# Check if callable\n",
    "callable(len) "
   ]
  },
  {
   "cell_type": "code",
   "execution_count": 43,
   "metadata": {},
   "outputs": [
    {
     "name": "stdout",
     "output_type": "stream",
     "text": [
      "Quasar SR-71 launching into space!\n",
      "Quasar SR-71 engaging warp drive at 15!\n",
      "Selene EZ-1 launching into space!\n",
      "Selene EZ-1 touching down on the moon!\n"
     ]
    }
   ],
   "source": [
    "class Spacecraft:\n",
    "    def __init__(self, name, max_speed):\n",
    "        self.name = name\n",
    "        self.max_speed = max_speed\n",
    "\n",
    "    def launch(self):\n",
    "        print(f\"{self.name} launching into space!\")\n",
    "\n",
    "class StarSkimmer(Spacecraft):\n",
    "    def __init__(self, name):\n",
    "        super().__init__(name, max_speed=15)\n",
    "    \n",
    "    def ram_speed(self):\n",
    "        print(f\"{self.name} engaging warp drive at {self.max_speed}!\")\n",
    "\n",
    "class MoonHopper(Spacecraft):\n",
    "    def __init__(self, name):\n",
    "        super().__init__(name, max_speed=5)\n",
    "\n",
    "    def land(self):\n",
    "        print(f\"{self.name} touching down on the moon!\") \n",
    "\n",
    "skimmer = StarSkimmer(\"Quasar SR-71\")\n",
    "skimmer.launch()\n",
    "skimmer.ram_speed()\n",
    "\n",
    "hopper = MoonHopper(\"Selene EZ-1\") \n",
    "hopper.launch()\n",
    "hopper.land()"
   ]
  },
  {
   "cell_type": "code",
   "execution_count": 44,
   "metadata": {},
   "outputs": [
    {
     "name": "stdout",
     "output_type": "stream",
     "text": [
      "Selene EZ-1\n",
      "False\n",
      "<__main__.StarSkimmer object at 0x7fe55035f910>\n"
     ]
    }
   ],
   "source": [
    "print(getattr(hopper, 'name'))\n",
    "print(hasattr(skimmer, 'land') )\n",
    "print(repr(skimmer))"
   ]
  },
  {
   "cell_type": "code",
   "execution_count": 45,
   "metadata": {},
   "outputs": [
    {
     "data": {
      "text/plain": [
       "3"
      ]
     },
     "execution_count": 45,
     "metadata": {},
     "output_type": "execute_result"
    }
   ],
   "source": [
    "eval('1 + 2')"
   ]
  },
  {
   "cell_type": "code",
   "execution_count": 46,
   "metadata": {},
   "outputs": [
    {
     "data": {
      "text/plain": [
       "[(1, 3), (2, 4)]"
      ]
     },
     "execution_count": 46,
     "metadata": {},
     "output_type": "execute_result"
    }
   ],
   "source": [
    "\"\"\" Zip \"\"\"\n",
    "list(zip([1, 2], [3, 4]))"
   ]
  },
  {
   "cell_type": "code",
   "execution_count": 47,
   "metadata": {},
   "outputs": [
    {
     "data": {
      "text/plain": [
       "'a'"
      ]
     },
     "execution_count": 47,
     "metadata": {},
     "output_type": "execute_result"
    }
   ],
   "source": [
    "\"\"\" chr() is used to get the character string from an integer Unicode code point. \"\"\"\n",
    "chr(97)"
   ]
  },
  {
   "cell_type": "code",
   "execution_count": 48,
   "metadata": {},
   "outputs": [
    {
     "data": {
      "text/plain": [
       "(51, 119, 113, 114, 33)"
      ]
     },
     "execution_count": 48,
     "metadata": {},
     "output_type": "execute_result"
    }
   ],
   "source": [
    "\"\"\" ord() => the inverse of chr().\n",
    "It returns the integer Unicode code point value of a single character string. \n",
    "N.B.1\n",
    "- It only works on single character strings, not multiple character strings.\n",
    "- The return value corresponds to the Unicode standard, which defines numeric code values for each character.\n",
    "N.B.2\n",
    "- ASCII characters have code values [0-127]\n",
    "- ASCII letters a-z have code values [97-122]\n",
    "- Numeric characters 0-9 have code values [48-57]\n",
    "\"\"\"\n",
    "o1 = ord('3')\n",
    "o2 = ord('w')\n",
    "o3 = ord('q')\n",
    "o4 = ord('r')\n",
    "o5 = ord('!')\n",
    "o1, o2, o3, o4, o5"
   ]
  },
  {
   "cell_type": "markdown",
   "metadata": {},
   "source": [
    "<h3 style=\"color:darkorange\"> Comparisons </h3>"
   ]
  },
  {
   "cell_type": "code",
   "execution_count": 49,
   "metadata": {},
   "outputs": [
    {
     "data": {
      "text/plain": [
       "(False, True, False, True, False, True)"
      ]
     },
     "execution_count": 49,
     "metadata": {},
     "output_type": "execute_result"
    }
   ],
   "source": [
    "x, y = 10, 20\n",
    "\n",
    "res1 = x == y\n",
    "res2 = x != y\n",
    "res3 = x > y\n",
    "res4 = x < y\n",
    "res5 = x >= y\n",
    "res6 = x <= y\n",
    "\n",
    "res1, res2, res3, res4, res5, res6"
   ]
  },
  {
   "cell_type": "code",
   "execution_count": 50,
   "metadata": {},
   "outputs": [
    {
     "data": {
      "text/plain": [
       "False"
      ]
     },
     "execution_count": 50,
     "metadata": {},
     "output_type": "execute_result"
    }
   ],
   "source": [
    "1 < x < 10 "
   ]
  },
  {
   "cell_type": "code",
   "execution_count": 51,
   "metadata": {},
   "outputs": [
    {
     "data": {
      "text/plain": [
       "False"
      ]
     },
     "execution_count": 51,
     "metadata": {},
     "output_type": "execute_result"
    }
   ],
   "source": [
    "0 < x < 5 < y < 10"
   ]
  },
  {
   "cell_type": "code",
   "execution_count": 52,
   "metadata": {},
   "outputs": [
    {
     "data": {
      "text/plain": [
       "(False, False)"
      ]
     },
     "execution_count": 52,
     "metadata": {},
     "output_type": "execute_result"
    }
   ],
   "source": [
    "name1 = \"Gianluca\"\n",
    "name2 = \"Ezio\"\n",
    "\n",
    "name1 == name2, name1 < name2 "
   ]
  },
  {
   "cell_type": "code",
   "execution_count": 53,
   "metadata": {},
   "outputs": [
    {
     "data": {
      "text/plain": [
       "True"
      ]
     },
     "execution_count": 53,
     "metadata": {},
     "output_type": "execute_result"
    }
   ],
   "source": [
    "[1, 2] == [1, 2]"
   ]
  },
  {
   "cell_type": "code",
   "execution_count": 54,
   "metadata": {},
   "outputs": [
    {
     "data": {
      "text/plain": [
       "True"
      ]
     },
     "execution_count": 54,
     "metadata": {},
     "output_type": "execute_result"
    }
   ],
   "source": [
    "[1, 2] < [2, 1]"
   ]
  },
  {
   "cell_type": "code",
   "execution_count": 55,
   "metadata": {},
   "outputs": [
    {
     "data": {
      "text/plain": [
       "True"
      ]
     },
     "execution_count": 55,
     "metadata": {},
     "output_type": "execute_result"
    }
   ],
   "source": [
    "dict1 = {'a': 1, 'b': 2}\n",
    "dict2 = {'b': 2, 'a': 1} \n",
    "\n",
    "dict1 == dict2"
   ]
  },
  {
   "cell_type": "code",
   "execution_count": 56,
   "metadata": {},
   "outputs": [
    {
     "data": {
      "text/plain": [
       "True"
      ]
     },
     "execution_count": 56,
     "metadata": {},
     "output_type": "execute_result"
    }
   ],
   "source": [
    "class Person:\n",
    "  def __init__(self, name, age):\n",
    "    self.name = name\n",
    "    self.age = age\n",
    "\n",
    "p1 = Person('First', 30)\n",
    "p2 = Person('Second', 25)\n",
    "\n",
    "p1.age > p2.age"
   ]
  },
  {
   "cell_type": "markdown",
   "metadata": {},
   "source": [
    "<h3 style=\"color:darkorange\"> Control flow </h3>"
   ]
  },
  {
   "cell_type": "code",
   "execution_count": 57,
   "metadata": {},
   "outputs": [
    {
     "name": "stdout",
     "output_type": "stream",
     "text": [
      "x is less than or equal to 5\n"
     ]
    }
   ],
   "source": [
    "x = 3\n",
    "if x > 5:\n",
    "    print(\"x is greater than 5\")\n",
    "else:\n",
    "    print(\"x is less than or equal to 5\")"
   ]
  },
  {
   "cell_type": "code",
   "execution_count": 1,
   "metadata": {},
   "outputs": [
    {
     "name": "stdout",
     "output_type": "stream",
     "text": [
      "Condition met.\n"
     ]
    }
   ],
   "source": [
    "nums = [1, 2, 3, 4, 5]\n",
    "\n",
    "if 0 <= len(nums) <= 6:\n",
    "    print(\"Condition met.\")\n",
    "else:\n",
    "    print(\"Condition not met.\")"
   ]
  },
  {
   "cell_type": "code",
   "execution_count": 58,
   "metadata": {},
   "outputs": [
    {
     "name": "stdout",
     "output_type": "stream",
     "text": [
      "0\n",
      "1\n",
      "2\n",
      "3\n",
      "4\n"
     ]
    }
   ],
   "source": [
    "count = 0\n",
    "while count < 5:\n",
    "    print(count)\n",
    "    count += 1"
   ]
  },
  {
   "cell_type": "code",
   "execution_count": 59,
   "metadata": {},
   "outputs": [
    {
     "name": "stdout",
     "output_type": "stream",
     "text": [
      "4\n"
     ]
    }
   ],
   "source": [
    "for i in range(6):\n",
    "    if i==4:\n",
    "        print(i)"
   ]
  },
  {
   "cell_type": "code",
   "execution_count": 60,
   "metadata": {},
   "outputs": [
    {
     "name": "stdout",
     "output_type": "stream",
     "text": [
      "1\n",
      "3\n",
      "5\n",
      "7\n",
      "9\n"
     ]
    }
   ],
   "source": [
    "for i in range(10):\n",
    "    if i % 2 == 0:\n",
    "        continue\n",
    "    print(i) "
   ]
  },
  {
   "cell_type": "code",
   "execution_count": 61,
   "metadata": {},
   "outputs": [
    {
     "name": "stdout",
     "output_type": "stream",
     "text": [
      "x is between 10 and 20\n"
     ]
    }
   ],
   "source": [
    "x = 15\n",
    "if x > 10:\n",
    "    if x < 20:\n",
    "        print(\"x is between 10 and 20\")"
   ]
  },
  {
   "cell_type": "markdown",
   "metadata": {},
   "source": [
    "<div style=\"line-height:0.5\">\n",
    "<h3 style=\"color:darkorange\"> Math </h3>\n",
    "Follows PEMDAS order!\n",
    "</div>"
   ]
  },
  {
   "cell_type": "code",
   "execution_count": 62,
   "metadata": {},
   "outputs": [
    {
     "data": {
      "text/plain": [
       "(8, 125, 144, 4096, 1)"
      ]
     },
     "execution_count": 62,
     "metadata": {},
     "output_type": "execute_result"
    }
   ],
   "source": [
    "\"\"\" Exponent \"\"\"\n",
    "a = 2 ** 3\n",
    "b = 5 ** 3\n",
    "c = 12 ** 2\n",
    "d = a ** 4\n",
    "e = 1 ** b\n",
    "a,b,c,d,e"
   ]
  },
  {
   "cell_type": "code",
   "execution_count": 63,
   "metadata": {},
   "outputs": [
    {
     "data": {
      "text/plain": [
       "64"
      ]
     },
     "execution_count": 63,
     "metadata": {},
     "output_type": "execute_result"
    }
   ],
   "source": [
    "a = 2 ** 2\n",
    "a = a ** 3\n",
    "a"
   ]
  },
  {
   "cell_type": "code",
   "execution_count": 64,
   "metadata": {},
   "outputs": [
    {
     "data": {
      "text/plain": [
       "(2.5, 2, 2, -3, -3, -2)"
      ]
     },
     "execution_count": 64,
     "metadata": {},
     "output_type": "execute_result"
    }
   ],
   "source": [
    "\"\"\" Floor division (always rounds towards zero) \"\"\"\n",
    "a = 10 / 4\n",
    "b = 10 // 4\n",
    "c = -10 // -4\n",
    "# With (one) negative divider or divisor (that is is not divisible!) the result is still rounded towards zero \n",
    "d = 10 // -4\n",
    "e = -10 // 4\n",
    "# While if the num is a proper divider it just works as std division\n",
    "f = 10 // -5\n",
    "\n",
    "a, b, c, d, e, f"
   ]
  },
  {
   "cell_type": "code",
   "execution_count": 3,
   "metadata": {},
   "outputs": [
    {
     "data": {
      "text/plain": [
       "(4, 6, 76)"
      ]
     },
     "execution_count": 3,
     "metadata": {},
     "output_type": "execute_result"
    }
   ],
   "source": [
    "\"\"\" Modulo 1 \"\"\"\n",
    "n1 = 16 % 12\n",
    "n2 = 3476 % 10 \n",
    "n3 = 3476 % 100 \n",
    "n1,n2,n3"
   ]
  },
  {
   "cell_type": "code",
   "execution_count": 66,
   "metadata": {},
   "outputs": [
    {
     "data": {
      "text/plain": [
       "(0, 1, 1, 4, 0, 4, 4)"
      ]
     },
     "execution_count": 66,
     "metadata": {},
     "output_type": "execute_result"
    }
   ],
   "source": [
    "\"\"\" Modulo 2 \"\"\"\n",
    "a = 32 % 2 \n",
    "b = 33 % 4\n",
    "c = 10 % 3\n",
    "d = 16 % 12\n",
    "e = 413 % 7\n",
    "f = 4 % 5\n",
    "g = 4 % 55353\n",
    "\n",
    "a,b,c,d,e,f,g"
   ]
  },
  {
   "cell_type": "code",
   "execution_count": 67,
   "metadata": {},
   "outputs": [
    {
     "data": {
      "text/plain": [
       "(1, 4)"
      ]
     },
     "execution_count": 67,
     "metadata": {},
     "output_type": "execute_result"
    }
   ],
   "source": [
    "\"\"\" Left-associativity. \n",
    "When operators have the same precedence, they are evaluated from left to right. \n",
    "\"\"\"\n",
    "a = 3 * 2 // 6 \n",
    "b = 6 // 3 * 2\n",
    "a,b"
   ]
  },
  {
   "cell_type": "code",
   "execution_count": 68,
   "metadata": {},
   "outputs": [
    {
     "data": {
      "text/plain": [
       "10.0"
      ]
     },
     "execution_count": 68,
     "metadata": {},
     "output_type": "execute_result"
    }
   ],
   "source": [
    "op = 4 + 6 // 3 * 2 + 1 % 2 + 1 * 2 / 2\n",
    "op "
   ]
  },
  {
   "cell_type": "code",
   "execution_count": 69,
   "metadata": {},
   "outputs": [
    {
     "data": {
      "text/plain": [
       "(3, -1)"
      ]
     },
     "execution_count": 69,
     "metadata": {},
     "output_type": "execute_result"
    }
   ],
   "source": [
    "m1 = max(1,2,3)\n",
    "m2 = min(-1,0,1)\n",
    "m1,m2"
   ]
  },
  {
   "cell_type": "markdown",
   "metadata": {},
   "source": [
    "<h4 style=\"color:darkorange\"> => Bitwise operators </h4>"
   ]
  },
  {
   "cell_type": "code",
   "execution_count": 70,
   "metadata": {},
   "outputs": [
    {
     "data": {
      "text/plain": [
       "(-544, -178, -4)"
      ]
     },
     "execution_count": 70,
     "metadata": {},
     "output_type": "execute_result"
    }
   ],
   "source": [
    "#  bitwise NOT\n",
    "\n",
    "#543 in binary is 000000101000111\n",
    "#Taking the bitwise NOT with ~ flips all the bits: 1111110111001000\n",
    "#This evaluates to -544 in decimal\n",
    "\n",
    "a = ~543\n",
    "b = ~177\n",
    "c = ~3 \n",
    "a, b, c"
   ]
  },
  {
   "cell_type": "code",
   "execution_count": 71,
   "metadata": {},
   "outputs": [
    {
     "data": {
      "text/plain": [
       "(0, 35, 32)"
      ]
     },
     "execution_count": 71,
     "metadata": {},
     "output_type": "execute_result"
    }
   ],
   "source": [
    "#  bitwise AND \n",
    "a = 2 & 33 # 0b10 & 0b100001 = 0b000010 & 0b100001 = 0b0 !\n",
    "b = 43 & -13\n",
    "c = 35 & 32\n",
    "a, b, c"
   ]
  },
  {
   "cell_type": "code",
   "execution_count": 72,
   "metadata": {},
   "outputs": [
    {
     "data": {
      "text/plain": [
       "(55, 767, 54)"
      ]
     },
     "execution_count": 72,
     "metadata": {},
     "output_type": "execute_result"
    }
   ],
   "source": [
    "# bitwise OR\n",
    "a = 34 | 23\n",
    "b = 43 | 765\n",
    "c = 52 | 2\n",
    "a, b, c"
   ]
  },
  {
   "cell_type": "code",
   "execution_count": 73,
   "metadata": {},
   "outputs": [
    {
     "data": {
      "text/plain": [
       "(25, 10, 16)"
      ]
     },
     "execution_count": 73,
     "metadata": {},
     "output_type": "execute_result"
    }
   ],
   "source": [
    "# XOR\n",
    "a = 24 ^ 1\n",
    "b = 9 ^ 3\n",
    "c = 7 ^ 23\n",
    "a, b, c"
   ]
  },
  {
   "cell_type": "code",
   "execution_count": 74,
   "metadata": {},
   "outputs": [
    {
     "data": {
      "text/plain": [
       "2"
      ]
     },
     "execution_count": 74,
     "metadata": {},
     "output_type": "execute_result"
    }
   ],
   "source": [
    "# XAND\n",
    "\"\"\" There is no dedicated \"exclusive and\" operator. \n",
    "Workaround:\n",
    "=> Performs a & ~b (bitwise AND with inverted b)\n",
    "\"\"\"\n",
    "a = 0b1011 \n",
    "b = 0b1101\n",
    "res = a & ~b\n",
    "res"
   ]
  },
  {
   "cell_type": "code",
   "execution_count": 75,
   "metadata": {},
   "outputs": [
    {
     "data": {
      "text/plain": [
       "(16, 32, 4, 2)"
      ]
     },
     "execution_count": 75,
     "metadata": {},
     "output_type": "execute_result"
    }
   ],
   "source": [
    "\"\"\" Shift 8 => Binary 1000 \"\"\"\n",
    "\n",
    "num = 8  \n",
    "# Shift one to left\n",
    "a = num << 1 #=> 10000\n",
    "# Shift twice to left\n",
    "b = num << 2 #=> 100000\n",
    "\n",
    "# Shift one to right\n",
    "c = num >> 1 #=> 100\n",
    "# Shift twice to right\n",
    "d = num >> 2 #=> 10\n",
    "\n",
    "a, b, c, d"
   ]
  },
  {
   "cell_type": "markdown",
   "metadata": {},
   "source": [
    "<h4 style=\"color:darkorange\"> => math module </h4>"
   ]
  },
  {
   "cell_type": "code",
   "execution_count": 76,
   "metadata": {},
   "outputs": [
    {
     "data": {
      "text/plain": [
       "(6.0, 1, 2, 44)"
      ]
     },
     "execution_count": 76,
     "metadata": {},
     "output_type": "execute_result"
    }
   ],
   "source": [
    "summ = math.fsum([1, 2, 3])\n",
    "rdown = math.floor(1.5)\n",
    "rup = math.ceil(1.5)\n",
    "pro = math.prod([22, 1, 2])\n",
    "summ, rdown, rup, pro"
   ]
  },
  {
   "cell_type": "code",
   "execution_count": 77,
   "metadata": {},
   "outputs": [
    {
     "data": {
      "text/plain": [
       "8.0"
      ]
     },
     "execution_count": 77,
     "metadata": {},
     "output_type": "execute_result"
    }
   ],
   "source": [
    "# Powers\n",
    "math.pow(2,3) "
   ]
  },
  {
   "cell_type": "code",
   "execution_count": 78,
   "metadata": {},
   "outputs": [
    {
     "data": {
      "text/plain": [
       "(5.0, 5.0)"
      ]
     },
     "execution_count": 78,
     "metadata": {},
     "output_type": "execute_result"
    }
   ],
   "source": [
    "# Absolute value\n",
    "a = math.fabs(-5)\n",
    "b = math.fabs(5 - 10)\n",
    "a,b"
   ]
  },
  {
   "cell_type": "code",
   "execution_count": 79,
   "metadata": {},
   "outputs": [
    {
     "data": {
      "text/plain": [
       "8.0"
      ]
     },
     "execution_count": 79,
     "metadata": {},
     "output_type": "execute_result"
    }
   ],
   "source": [
    "# Square root\n",
    "math.sqrt(64)"
   ]
  },
  {
   "cell_type": "code",
   "execution_count": 80,
   "metadata": {},
   "outputs": [
    {
     "data": {
      "text/plain": [
       "(1.0, 2.0)"
      ]
     },
     "execution_count": 80,
     "metadata": {},
     "output_type": "execute_result"
    }
   ],
   "source": [
    "# Logarithms\n",
    "l1 = math.log(math.e)\n",
    "l2 = math.log10(100) \n",
    "l1,l2"
   ]
  },
  {
   "cell_type": "code",
   "execution_count": 81,
   "metadata": {},
   "outputs": [
    {
     "data": {
      "text/plain": [
       "False"
      ]
     },
     "execution_count": 81,
     "metadata": {},
     "output_type": "execute_result"
    }
   ],
   "source": [
    "# Check if a number is even:\n",
    "math.isfinite(6) % 2 == 0"
   ]
  },
  {
   "cell_type": "code",
   "execution_count": 82,
   "metadata": {},
   "outputs": [
    {
     "data": {
      "text/plain": [
       "3.141592653589793"
      ]
     },
     "execution_count": 82,
     "metadata": {},
     "output_type": "execute_result"
    }
   ],
   "source": [
    "# Pi value\n",
    "math.pi"
   ]
  },
  {
   "cell_type": "code",
   "execution_count": 83,
   "metadata": {},
   "outputs": [
    {
     "data": {
      "text/plain": [
       "2.718281828459045"
      ]
     },
     "execution_count": 83,
     "metadata": {},
     "output_type": "execute_result"
    }
   ],
   "source": [
    "# Exponential\n",
    "math.exp(1)"
   ]
  },
  {
   "cell_type": "code",
   "execution_count": 84,
   "metadata": {},
   "outputs": [
    {
     "data": {
      "text/plain": [
       "True"
      ]
     },
     "execution_count": 84,
     "metadata": {},
     "output_type": "execute_result"
    }
   ],
   "source": [
    "# Check if a number is a power of 2\n",
    "math.log2(8) == 3"
   ]
  },
  {
   "cell_type": "code",
   "execution_count": 85,
   "metadata": {},
   "outputs": [
    {
     "data": {
      "text/plain": [
       "False"
      ]
     },
     "execution_count": 85,
     "metadata": {},
     "output_type": "execute_result"
    }
   ],
   "source": [
    "# Check positivity\n",
    "num = -32\n",
    "math.copysign(1, num) == 1"
   ]
  },
  {
   "cell_type": "code",
   "execution_count": 86,
   "metadata": {},
   "outputs": [
    {
     "data": {
      "text/plain": [
       "(1.0, 0.5403023058681398, 1.6197751905438615)"
      ]
     },
     "execution_count": 86,
     "metadata": {},
     "output_type": "execute_result"
    }
   ],
   "source": [
    "# Trigonometric functions\n",
    "s = math.sin(math.pi/2)\n",
    "c = math.cos(1)\n",
    "t = math.tan(45)\n",
    "s,c,t"
   ]
  },
  {
   "cell_type": "code",
   "execution_count": 87,
   "metadata": {},
   "outputs": [
    {
     "data": {
      "text/plain": [
       "(1.1752011936438014, 1.0, 0.7615941559557649)"
      ]
     },
     "execution_count": 87,
     "metadata": {},
     "output_type": "execute_result"
    }
   ],
   "source": [
    "# Hyperbolic functions\n",
    "sh = math.sinh(1)\n",
    "ch = math.cosh(0)\n",
    "th = math.tanh(1) \n",
    "sh,ch,th"
   ]
  },
  {
   "cell_type": "code",
   "execution_count": 88,
   "metadata": {},
   "outputs": [
    {
     "data": {
      "text/plain": [
       "4"
      ]
     },
     "execution_count": 88,
     "metadata": {},
     "output_type": "execute_result"
    }
   ],
   "source": [
    "# Greatest common divisor\n",
    "math.gcd(8,12)"
   ]
  },
  {
   "cell_type": "code",
   "execution_count": 89,
   "metadata": {},
   "outputs": [
    {
     "data": {
      "text/plain": [
       "720"
      ]
     },
     "execution_count": 89,
     "metadata": {},
     "output_type": "execute_result"
    }
   ],
   "source": [
    "# Factorial\n",
    "math.factorial(6)"
   ]
  },
  {
   "cell_type": "code",
   "execution_count": 90,
   "metadata": {},
   "outputs": [
    {
     "data": {
      "text/plain": [
       "0.15729920705028513"
      ]
     },
     "execution_count": 90,
     "metadata": {},
     "output_type": "execute_result"
    }
   ],
   "source": [
    "\"\"\" Calculate erf/erfc => Gaussian error functions\n",
    "Recap:\n",
    "    erf(x) = 2/√π * ∫ from 0 to x of e^-t^2 dt\n",
    "    erfc(x) = 1 - erf(x) #complementary\n",
    "\n",
    "- erf(0) = 0\n",
    "- erf(∞) = 1\n",
    "- erfc(0) = 1\n",
    "- erfc(∞) = 0\n",
    "\"\"\"\n",
    "math.erf(1)\n",
    "math.erfc(1) \n"
   ]
  },
  {
   "cell_type": "code",
   "execution_count": 91,
   "metadata": {},
   "outputs": [
    {
     "data": {
      "text/plain": [
       "(180.0, 3.141592653589793)"
      ]
     },
     "execution_count": 91,
     "metadata": {},
     "output_type": "execute_result"
    }
   ],
   "source": [
    "# Degree/radians:\n",
    "d = math.degrees(math.pi)\n",
    "r = math.radians(180)\n",
    "d,r"
   ]
  },
  {
   "cell_type": "code",
   "execution_count": 92,
   "metadata": {},
   "outputs": [
    {
     "data": {
      "text/plain": [
       "1.7724538509055159"
      ]
     },
     "execution_count": 92,
     "metadata": {},
     "output_type": "execute_result"
    }
   ],
   "source": [
    "# Gamma function\n",
    "math.gamma(0.5)"
   ]
  },
  {
   "cell_type": "code",
   "execution_count": 93,
   "metadata": {},
   "outputs": [
    {
     "data": {
      "text/plain": [
       "17"
      ]
     },
     "execution_count": 93,
     "metadata": {},
     "output_type": "execute_result"
    }
   ],
   "source": [
    "\"\"\" Polynomial evaluation \n",
    "equivalent to p = np.poly1d([1,2,3]) \n",
    "\"\"\"\n",
    "\n",
    "def poly_eval(coeffs, x):\n",
    "    result = 0\n",
    "    for i, c in enumerate(coeffs):\n",
    "        result += c * (x**i)\n",
    "    return result\n",
    "\n",
    "poly_eval([1,2,3], 2)"
   ]
  },
  {
   "cell_type": "code",
   "execution_count": 94,
   "metadata": {},
   "outputs": [],
   "source": [
    "a = True\n",
    "x = 100_000 if a else 0"
   ]
  },
  {
   "cell_type": "markdown",
   "metadata": {},
   "source": [
    "<h3 style=\"color:darkorange\"> Swapping </h3>"
   ]
  },
  {
   "cell_type": "code",
   "execution_count": 95,
   "metadata": {},
   "outputs": [
    {
     "name": "stdout",
     "output_type": "stream",
     "text": [
      "name and level are : 4 Jack\n"
     ]
    }
   ],
   "source": [
    "\"\"\" Swap 1 \"\"\"\n",
    "level = 4\n",
    "name = 'Jack'\n",
    "level, name = name, level\n",
    "print(f\"name and level are : {name} {level}\")"
   ]
  },
  {
   "cell_type": "code",
   "execution_count": 96,
   "metadata": {},
   "outputs": [
    {
     "data": {
      "text/plain": [
       "(15, 5, 20, 10)"
      ]
     },
     "execution_count": 96,
     "metadata": {},
     "output_type": "execute_result"
    }
   ],
   "source": [
    "a, b, c, d = 5, 10, 15, 20\n",
    "a, b, c, d = c, a, d, b\n",
    "a, b, c, d"
   ]
  },
  {
   "cell_type": "code",
   "execution_count": 97,
   "metadata": {},
   "outputs": [
    {
     "data": {
      "text/plain": [
       "(42, 31, 42, 11)"
      ]
     },
     "execution_count": 97,
     "metadata": {},
     "output_type": "execute_result"
    }
   ],
   "source": [
    "def dummy_swap(a, b, c, d):\n",
    "    a = a + b\n",
    "    b = a - b\n",
    "    a = a - b \n",
    "    b = b + c\n",
    "    c = b - c\n",
    "    b = b - c\n",
    "    c = c + d\n",
    "    d = c - d\n",
    "    c = c - d\n",
    "    return a, b, c, d \n",
    "\n",
    "x = 11\n",
    "y = 42\n",
    "z = 31 \n",
    "q = 42 \n",
    "\n",
    "x, y, z, q = dummy_swap(x,y,z,q)\n",
    "x, y, z, q"
   ]
  },
  {
   "cell_type": "markdown",
   "metadata": {},
   "source": [
    "<h3 style=\"color:darkorange\"> Base conversion</h3>"
   ]
  },
  {
   "cell_type": "code",
   "execution_count": 98,
   "metadata": {},
   "outputs": [
    {
     "data": {
      "text/plain": [
       "('0b10', str)"
      ]
     },
     "execution_count": 98,
     "metadata": {},
     "output_type": "execute_result"
    }
   ],
   "source": [
    "# Binary \n",
    "bin(2), type(bin(2))"
   ]
  },
  {
   "cell_type": "code",
   "execution_count": 99,
   "metadata": {},
   "outputs": [
    {
     "data": {
      "text/plain": [
       "('0b10111', '10111')"
      ]
     },
     "execution_count": 99,
     "metadata": {},
     "output_type": "execute_result"
    }
   ],
   "source": [
    "# Binary \n",
    "a = bin(23)\n",
    "# or \n",
    "b = format(23, 'b')\n",
    "a, b"
   ]
  },
  {
   "cell_type": "code",
   "execution_count": 100,
   "metadata": {},
   "outputs": [
    {
     "data": {
      "text/plain": [
       "'0o27'"
      ]
     },
     "execution_count": 100,
     "metadata": {},
     "output_type": "execute_result"
    }
   ],
   "source": [
    "# Octal\n",
    "oct(23)"
   ]
  },
  {
   "cell_type": "code",
   "execution_count": 101,
   "metadata": {},
   "outputs": [
    {
     "data": {
      "text/plain": [
       "23"
      ]
     },
     "execution_count": 101,
     "metadata": {},
     "output_type": "execute_result"
    }
   ],
   "source": [
    "# Octal\n",
    "oct = 0o27\n",
    "dec = int(oct)\n",
    "dec"
   ]
  },
  {
   "cell_type": "code",
   "execution_count": 102,
   "metadata": {},
   "outputs": [
    {
     "data": {
      "text/plain": [
       "'0x17'"
      ]
     },
     "execution_count": 102,
     "metadata": {},
     "output_type": "execute_result"
    }
   ],
   "source": [
    "# Hexadecimal\n",
    "hex(23)"
   ]
  },
  {
   "cell_type": "code",
   "execution_count": 103,
   "metadata": {},
   "outputs": [
    {
     "data": {
      "text/plain": [
       "15"
      ]
     },
     "execution_count": 103,
     "metadata": {},
     "output_type": "execute_result"
    }
   ],
   "source": [
    "# Hexadecimal with 0x prefix\n",
    "0xf"
   ]
  },
  {
   "cell_type": "markdown",
   "metadata": {},
   "source": [
    "<h3 style=\"color:darkorange\"> Randomness </h3>"
   ]
  },
  {
   "cell_type": "code",
   "execution_count": 104,
   "metadata": {},
   "outputs": [
    {
     "name": "stdout",
     "output_type": "stream",
     "text": [
      "Random Integer: 16\n",
      "Shuffled List: ['mouse', 'keyboard', 'headphones', 'monitor']\n",
      "Random Choice: keyboard\n",
      "Random part fixed len [(1764, 'audio_1764', '1F', '1FCACO', 'Tocca un animale verde', 2)]\n"
     ]
    }
   ],
   "source": [
    "randin = random.randint(1, 100)\n",
    "\n",
    "my_list = [1, 2, 3, 4, 5]\n",
    "random.shuffle(my_list)\n",
    "\n",
    "my_list = [\"mouse\", \"keyboard\", \"headphones\", \"monitor\"]\n",
    "ranf = random.choice(my_list)\n",
    "\n",
    "f1 = [(1763, 'audio_1763', '1F', '1FCACO', 'Tocca un animale rosso', 2), \n",
    "    (1764, 'audio_1764', '1F', '1FCACO', 'Tocca un animale verde', 2),\n",
    "    (1766, 'audio_1766', '1F', '1FCACO', 'Tocca un animale blu', 2)]\n",
    "f2 = random.sample(f1, 1) #len(f1))\n",
    "\n",
    "print(\"Random Integer:\", randin)\n",
    "print(\"Shuffled List:\", my_list)\n",
    "print(\"Random Choice:\", ranf)\n",
    "print(\"Random part fixed len\", f2)"
   ]
  },
  {
   "cell_type": "code",
   "execution_count": 105,
   "metadata": {},
   "outputs": [
    {
     "name": "stdout",
     "output_type": "stream",
     "text": [
      "Random Float: 0.15417383391602013\n",
      "Random Float within Range: 6.779270515074668\n"
     ]
    }
   ],
   "source": [
    "random_float = random.random()\n",
    "\n",
    "start_range = 5.0\n",
    "end_range = 10.0\n",
    "random_float_range = random.uniform(start_range, end_range)\n",
    "\n",
    "print(\"Random Float:\", random_float)\n",
    "print(\"Random Float within Range:\", random_float_range)"
   ]
  },
  {
   "cell_type": "code",
   "execution_count": 20,
   "metadata": {},
   "outputs": [
    {
     "name": "stdout",
     "output_type": "stream",
     "text": [
      "Random Elements:\n"
     ]
    },
    {
     "data": {
      "text/plain": [
       "([5, 2], [5, 1, 3])"
      ]
     },
     "execution_count": 20,
     "metadata": {},
     "output_type": "execute_result"
    }
   ],
   "source": [
    "##### Sample with No replacements \n",
    "a_list = [1, 2, 3, 4, 5]\n",
    "random_ele1 = random.sample(a_list, 2)\n",
    "random_ele2 = random.sample(a_list, 3)\n",
    "print(\"Random Elements:\")\n",
    "random_ele1, random_ele2 "
   ]
  },
  {
   "cell_type": "code",
   "execution_count": 107,
   "metadata": {},
   "outputs": [
    {
     "name": "stdout",
     "output_type": "stream",
     "text": [
      "Random Character: d\n"
     ]
    }
   ],
   "source": [
    "random_char = random.choice(string.ascii_lowercase)\n",
    "print(\"Random Character:\", random_char)"
   ]
  },
  {
   "cell_type": "code",
   "execution_count": 108,
   "metadata": {},
   "outputs": [
    {
     "name": "stdout",
     "output_type": "stream",
     "text": [
      "Random Password: K12lx9M,f_\n"
     ]
    }
   ],
   "source": [
    "### Choice => random.choices(sequence)\n",
    "password_length = 10\n",
    "characters = string.ascii_letters + string.digits + string.punctuation\n",
    "random_password = ''.join(random.choice(characters) for _ in range(password_length))\n",
    "print(\"Random Password:\", random_password)"
   ]
  },
  {
   "cell_type": "code",
   "execution_count": 21,
   "metadata": {},
   "outputs": [
    {
     "name": "stdout",
     "output_type": "stream",
     "text": [
      "One random color is: blue\n"
     ]
    }
   ],
   "source": [
    "### ChoiceS! => random.choices(population, weights, k)\n",
    "col = [\"red\", \"green\", \"blue\"]\n",
    "proba = [0.3, 0.5, 0.2]\n",
    "random_color = random.choices(col, proba, k=1)      # k is the num of elem to choose\n",
    "print(\"One random color is:\", random_color[0])"
   ]
  },
  {
   "cell_type": "code",
   "execution_count": 110,
   "metadata": {},
   "outputs": [
    {
     "name": "stdout",
     "output_type": "stream",
     "text": [
      "Reproducible 1: 82\n",
      "Reproducible 2: 15\n"
     ]
    }
   ],
   "source": [
    "\"\"\" Seeding the random number generator for reproducibility. \"\"\"\n",
    "seed_value = 42\n",
    "random.seed(seed_value)\n",
    "random_integer_reproducible1 = random.randint(1, 100)\n",
    "random_integer_reproducible2 = random.randint(1, 100)\n",
    "print(\"Reproducible 1:\", random_integer_reproducible1)\n",
    "print(\"Reproducible 2:\", random_integer_reproducible2)"
   ]
  },
  {
   "cell_type": "code",
   "execution_count": 13,
   "metadata": {},
   "outputs": [
    {
     "data": {
      "text/plain": [
       "114"
      ]
     },
     "execution_count": 13,
     "metadata": {},
     "output_type": "execute_result"
    }
   ],
   "source": [
    "\"\"\" Generate a random number included in a range \"\"\"\n",
    "beginnig, end, step = 100, 120, 2\n",
    "ran = random.randint(beginnig, end)\n",
    "ran"
   ]
  },
  {
   "cell_type": "code",
   "execution_count": 19,
   "metadata": {},
   "outputs": [
    {
     "data": {
      "text/plain": [
       "108"
      ]
     },
     "execution_count": 19,
     "metadata": {},
     "output_type": "execute_result"
    }
   ],
   "source": [
    "\"\"\" Generate a random number defining the step \n",
    "N.B.\n",
    "need integers values! => TypeErorr with 'ran_num = random.randrange(100.3, 104.5, 0.4)'\n",
    "\"\"\"\n",
    "ran_num1 = random.randrange(beginnig, end, step)\n",
    "ran_num1"
   ]
  },
  {
   "cell_type": "code",
   "execution_count": 17,
   "metadata": {},
   "outputs": [
    {
     "data": {
      "text/plain": [
       "0.25025133859731274"
      ]
     },
     "execution_count": 17,
     "metadata": {},
     "output_type": "execute_result"
    }
   ],
   "source": [
    "\"\"\" Generate a random float \"\"\"\n",
    "ran_num = random.random()\n",
    "ran_num"
   ]
  },
  {
   "cell_type": "code",
   "execution_count": 33,
   "metadata": {},
   "outputs": [
    {
     "data": {
      "text/plain": [
       "(0, 3, 3, 3, 36, 50)"
      ]
     },
     "execution_count": 33,
     "metadata": {},
     "output_type": "execute_result"
    }
   ],
   "source": [
    "\"\"\" Return a bits sized integer, given the size \"\"\"\n",
    "random.getrandbits(1), random.getrandbits(2), random.getrandbits(3), random.getrandbits(4), random.getrandbits(6), random.getrandbits(8)"
   ]
  },
  {
   "cell_type": "code",
   "execution_count": 37,
   "metadata": {},
   "outputs": [
    {
     "name": "stdout",
     "output_type": "stream",
     "text": [
      "0.5714025946899135\n",
      "0.4288890546751146\n",
      "0.5714025946899135\n",
      "0.4288890546751146\n"
     ]
    }
   ],
   "source": [
    "\"\"\" When the program is run multiple times, the FIRST CALL to random.random() will always return the same number. \"\"\"\n",
    "random.seed(10)\n",
    "print(random.random())\n",
    "print(random.random())\n",
    "\n",
    "random.seed(10)\n",
    "print(random.random())\n",
    "print(random.random())"
   ]
  },
  {
   "cell_type": "code",
   "execution_count": 45,
   "metadata": {},
   "outputs": [
    {
     "data": {
      "text/plain": [
       "(2.818113875121905, 6.175528549076751, 5.056054389217429)"
      ]
     },
     "execution_count": 45,
     "metadata": {},
     "output_type": "execute_result"
    }
   ],
   "source": [
    "\"\"\" Return a random float number between two given parameters, \n",
    "you can also set a mode parameter to specify the midpoint between the two other parameters. \"\"\"\n",
    "random.triangular(1, 10, 2), random.triangular(1, 10, 5), random.triangular(1, 10, 5)"
   ]
  },
  {
   "cell_type": "code",
   "execution_count": 47,
   "metadata": {},
   "outputs": [
    {
     "data": {
      "text/plain": [
       "(-1.3546184641104817, 1.1463673025034868, 1.2674699819756847)"
      ]
     },
     "execution_count": 47,
     "metadata": {},
     "output_type": "execute_result"
    }
   ],
   "source": [
    "\"\"\" Return a random float number based on the Gaussian distribution. \"\"\"\n",
    "random.gauss(0,1), random.gauss(0,1), random.gauss(0,1)"
   ]
  },
  {
   "cell_type": "code",
   "execution_count": 51,
   "metadata": {},
   "outputs": [
    {
     "data": {
      "text/plain": [
       "(132.39718690475493, -275.18606013565727, -86.1442994980025)"
      ]
     },
     "execution_count": 51,
     "metadata": {},
     "output_type": "execute_result"
    }
   ],
   "source": [
    "\"\"\" Return a random float number based on the normal distribution.  \"\"\"\n",
    "random.normalvariate(0, 122), random.normalvariate(0, 122), random.normalvariate(0, 122)"
   ]
  },
  {
   "cell_type": "code",
   "execution_count": 52,
   "metadata": {},
   "outputs": [
    {
     "data": {
      "text/plain": [
       "(0.5727559183950287, 0.0051694246901163275, 0.21959598101732603)"
      ]
     },
     "execution_count": 52,
     "metadata": {},
     "output_type": "execute_result"
    }
   ],
   "source": [
    "\"\"\" Return a random float number based on the Exponential distribution. \"\"\"\n",
    "random.expovariate(1), random.expovariate(13), random.expovariate(4)"
   ]
  },
  {
   "cell_type": "code",
   "execution_count": 55,
   "metadata": {},
   "outputs": [
    {
     "data": {
      "text/plain": [
       "(0.8158887511015103, 0.7379788222746413, 0.8495189861337259)"
      ]
     },
     "execution_count": 55,
     "metadata": {},
     "output_type": "execute_result"
    }
   ],
   "source": [
    "\"\"\" Return a random float number based on the Beta distribution. \"\"\"\n",
    "random.betavariate(10, 3), random.betavariate(10, 3), random.betavariate(10, 3)"
   ]
  },
  {
   "cell_type": "code",
   "execution_count": 54,
   "metadata": {},
   "outputs": [
    {
     "data": {
      "text/plain": [
       "(0.532509372377194, 0.037623852634940017, 0.6863771462783508)"
      ]
     },
     "execution_count": 54,
     "metadata": {},
     "output_type": "execute_result"
    }
   ],
   "source": [
    "\"\"\" Return a random float number based on the Gamma distribution. \"\"\"\n",
    "random.gammavariate(1, 2), random.gammavariate(1, 2), random.gammavariate(1, 2)"
   ]
  },
  {
   "cell_type": "code",
   "execution_count": 53,
   "metadata": {},
   "outputs": [
    {
     "data": {
      "text/plain": [
       "(1.85833460790009, 0.17009925640826593, 0.2539881019593695)"
      ]
     },
     "execution_count": 53,
     "metadata": {},
     "output_type": "execute_result"
    }
   ],
   "source": [
    "\"\"\" Return a random float number based on the Weibull distribution. \"\"\"\n",
    "random.weibullvariate(1, 1), random.weibullvariate(1, 1), random.weibullvariate(1, 1)"
   ]
  },
  {
   "cell_type": "code",
   "execution_count": 65,
   "metadata": {},
   "outputs": [
    {
     "name": "stdout",
     "output_type": "stream",
     "text": [
      "[20, 66, 83, 90, 51, 13, 16, 31, 14, 55]\n",
      "[73, 32, 29, 65, 90, 35, 91, 62, 61, 54]\n",
      "\n",
      "None\n",
      "None\n",
      "[55, 90, 66, 16, 83, 31, 51, 13, 20, 14]\n",
      "[73, 90, 65, 32, 29, 54, 62, 35, 91, 61]\n",
      "\n",
      "[14, 20, 51, 13, 83, 55, 90, 31, 66, 16]\n",
      "[73, 65, 90, 54, 32, 61, 29, 91, 35, 62]\n",
      "\n",
      "None\n",
      "None\n",
      "[16, 14, 20, 13, 55, 90, 31, 51, 83, 66]\n",
      "[73, 61, 62, 91, 90, 65, 29, 35, 54, 32]\n"
     ]
    }
   ],
   "source": [
    "\"\"\" Shuffle list of random elements and change their order \"\"\"\n",
    "# Get a list without repetitions\n",
    "r_elements1 = random.sample(range(1, 101), 10)\n",
    "# Get a list with possible repetitions\n",
    "r_elements2 = random.choices(range(1, 101), k=10)\n",
    "\n",
    "print(r_elements1)\n",
    "print(r_elements2)\n",
    "\n",
    "######## It returns None, it should be done in place with no assignment\n",
    "print()\n",
    "shuffled_11 = random.shuffle(r_elements1)\n",
    "shuffled_12 = random.shuffle(r_elements2)\n",
    "print(shuffled_11)\n",
    "print(shuffled_12)\n",
    "random.shuffle(r_elements1)\n",
    "random.shuffle(r_elements2)\n",
    "print(r_elements1)\n",
    "print(r_elements2)\n",
    "\n",
    "######## OK, sample from the original list\n",
    "print()\n",
    "shuffled_21 = random.sample(r_elements1, len(r_elements1))\n",
    "shuffled_22 = random.sample(r_elements2, len(r_elements2))\n",
    "print(shuffled_21)\n",
    "print(shuffled_22)\n",
    "\n",
    "######## It returns None, it should be done in place with no assignment\n",
    "print()\n",
    "shuffled_31 = np.random.shuffle(r_elements1)\n",
    "shuffled_32 = np.random.shuffle(r_elements2)\n",
    "print(shuffled_31)\n",
    "print(shuffled_32)\n",
    "np.random.shuffle(r_elements1)\n",
    "np.random.shuffle(r_elements2)\n",
    "print(r_elements1)\n",
    "print(r_elements2)"
   ]
  }
 ],
 "metadata": {
  "kernelspec": {
   "display_name": "MLearning",
   "language": "python",
   "name": "python3"
  },
  "language_info": {
   "codemirror_mode": {
    "name": "ipython",
    "version": 3
   },
   "file_extension": ".py",
   "mimetype": "text/x-python",
   "name": "python",
   "nbconvert_exporter": "python",
   "pygments_lexer": "ipython3",
   "version": "3.10.9"
  },
  "orig_nbformat": 4
 },
 "nbformat": 4,
 "nbformat_minor": 2
}
