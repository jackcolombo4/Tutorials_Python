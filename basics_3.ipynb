{
 "cells": [
  {
   "cell_type": "markdown",
   "metadata": {},
   "source": [
    "<div style=\"line-height:0.5\">\n",
    "<h1 style=\"color:darkorange\"> Python tips 3 </h1>\n",
    "<span style=\"display: inline-block;\">\n",
    "    <h3 style=\"color: lightblue; display: inline;\">Keywords:</h3> lists => sorting + merging + looping \n",
    "</span>\n",
    "</div>"
   ]
  },
  {
   "cell_type": "markdown",
   "metadata": {
    "vscode": {
     "languageId": "plaintext"
    }
   },
   "source": [
    "<h2 style=\"color:darkorange\"> <u> Question #1 </u> </h2>"
   ]
  },
  {
   "cell_type": "code",
   "execution_count": 10,
   "metadata": {},
   "outputs": [],
   "source": [
    "def merge1(nums1, m, nums2, n):\n",
    "    \"\"\" Merge nums1 and nums2 lists into a single array sorted in non-decreasing order,\\\\\n",
    "    given two sorted int arrays and their number of elements to merge.\\n\n",
    "    The final sorted array should not be returned by the function, but instead be stored inside the array nums1. \n",
    "\n",
    "    Notes:\n",
    "        - nums1 has a length of m + n, where the first m elements denote the elements that should be merged,\\n \n",
    "            the last n elements can be set to 0 and should be ignored\n",
    "        - Do not return anything, modify nums1 should be done in-place\n",
    "        - The complexity is linear => O(m + n), since each element in both list is seen only m(n) times at max\n",
    "\n",
    "\n",
    "    Attrs:\n",
    "        - nums1: [List of int]\n",
    "        - m: max num of element to considerate for nums1 [int]\n",
    "        - nums2: [List of int]\n",
    "        - n: max num of element to considerate for nums2 [int]\n",
    "    \"\"\"\n",
    "    # Define Pointers for nums1 and nums2\n",
    "    p1 = m - 1  \n",
    "    p2 = n - 1  \n",
    "    # Get Pointer for the end of nums1\n",
    "    p = m + n - 1  \n",
    "    \n",
    "    # Merge nums2 into nums1\n",
    "    while p1 >= 0 and p2 >= 0:\n",
    "        if nums1[p1] > nums2[p2]:\n",
    "            nums1[p] = nums1[p1]\n",
    "            p1 -= 1\n",
    "        else:\n",
    "            nums1[p] = nums2[p2]\n",
    "            p2 -= 1\n",
    "        p -= 1\n",
    "    # Any remaining elements in nums2, must be added to nums1\n",
    "    while p2 >= 0:\n",
    "        nums1[p] = nums2[p2]\n",
    "        p2 -= 1\n",
    "        p -= 1       "
   ]
  },
  {
   "cell_type": "code",
   "execution_count": 6,
   "metadata": {},
   "outputs": [
    {
     "data": {
      "text/plain": [
       "[1, 2, 2, 3, 5, 6]"
      ]
     },
     "execution_count": 6,
     "metadata": {},
     "output_type": "execute_result"
    }
   ],
   "source": [
    "numbers_1 = [1, 2, 3] + [0] * 3\n",
    "numbers_2 = [2,5,6]\n",
    "m_par, n_par = 3, 3\n",
    "\n",
    "merge1(numbers_1, m_par, numbers_2, n_par)\n",
    "numbers_1"
   ]
  },
  {
   "cell_type": "markdown",
   "metadata": {},
   "source": [
    "<h2 style=\"color:darkorange\"> <u> Question #2 </u> </h2>"
   ]
  },
  {
   "cell_type": "code",
   "execution_count": null,
   "metadata": {},
   "outputs": [],
   "source": [
    "def majorityElement(self, nums):\n",
    "    \"\"\" Find the majority element in an array (the element that appears more than n/2 times).\\\\\n",
    "    Use the Boyer-Moore Voting Algorithm.\n",
    "    \"\"\"\n",
    "    ##################### solution 0 => quadratic time complexity\n",
    "    '''\n",
    "    majority_count = len(nums) // 2\n",
    "    for i in range(len(nums)):\n",
    "        count = 0\n",
    "        for j in range(len(nums)):\n",
    "            if nums[j] == nums[i]:\n",
    "                count += 1\n",
    "        if count > majority_count:\n",
    "            return nums[i]        \n",
    "    '''\n",
    "    ##################### solution 1 => linear time complexity\n",
    "    count, candidate = 0, None\n",
    "\n",
    "    for num in nums:\n",
    "        if count == 0:\n",
    "            candidate = num\n",
    "        count += (1 if num == candidate else -1)\n",
    "        #print(count, candidate)\n",
    "    return candidate"
   ]
  },
  {
   "cell_type": "markdown",
   "metadata": {},
   "source": [
    "<h2 style=\"color:darkorange\"> <u> Question #3 </u> </h2>"
   ]
  },
  {
   "cell_type": "code",
   "execution_count": 2,
   "metadata": {},
   "outputs": [
    {
     "data": {
      "text/plain": [
       "True"
      ]
     },
     "execution_count": 2,
     "metadata": {},
     "output_type": "execute_result"
    }
   ],
   "source": [
    "def containsNearbyDuplicate(nums, k):\n",
    "        \"\"\"Return true if there are two distinct indices i and j in the array, given an integer array nums and an integer k,\\\\\n",
    "        such that nums[i] == nums[j] and abs(i - j) <= k.\n",
    "        \n",
    "        Examples:\n",
    "            - 1) Input: nums = [1,2,3,1], k = 3 => Output: true\n",
    "            - 2) Input: nums = [1,0,1,1], k = 1 => Output: true\n",
    "            - 3) Input: nums = [1,2,3,1,2,3], k = 2 => Output: false\n",
    "        \"\"\"\n",
    "        ############ solution 1: quadratic complexity\n",
    "        '''\n",
    "        for i in range(len(nums)):\n",
    "            for j in range(i+1, len(nums)):\n",
    "                if nums[i] == nums[j] and abs(i - j) <= k:\n",
    "                    return True\n",
    "        return False\n",
    "        '''\n",
    "        ############ solution 2: using a dict but with keys as numbers!! and values as index!!! => linear complexity\n",
    "        '''\n",
    "        nums_dict = {}\n",
    "        for i, x in enumerate(nums):\n",
    "            if x in nums_dict and i - nums_dict[x] <= k:\n",
    "                return True\n",
    "            nums_dict[x] = i\n",
    "        return False\n",
    "        '''\n",
    "        ########## solution 3: with sliding window => linear complexity\n",
    "        \"\"\"\n",
    "        In this approach a set of elements is maintained within the current window of size k. \n",
    "        While iterating through nums, elements are added to the set and removed as they fall out of the window.\n",
    "        If the size of the set is greater than k and the duplicate is not already found, the element with i-k position is removed from the set, \n",
    "        since even if a duplicate exists later in the cycle, \n",
    "        the oldest element in the window are no longer within the k distance from the current  element, so the second condition fails.\n",
    "        When the current element already in the set, it means there's a duplicate within k distance.\n",
    "        \"\"\"\n",
    "        if k==0:\n",
    "            return False\n",
    "\n",
    "        window = set()\n",
    "        for i in range(len(nums)):\n",
    "            if nums[i] in window:\n",
    "                return True\n",
    "            window.add(nums[i])\n",
    "            if len(window) > k:\n",
    "                window.remove(nums[i-k])\n",
    "        \n",
    "        return False\n",
    "\n",
    "arr = [1,2,3,1]\n",
    "containsNearbyDuplicate(arr, 3)"
   ]
  },
  {
   "cell_type": "markdown",
   "metadata": {},
   "source": [
    "<h2 style=\"color:darkorange\"> <u> Question #4 </u> </h2>\n",
    "Longest Increasing Subsequence\" (LIS) problem. <br>\n",
    "The Longest Increasing Subsequence (LIS) doesn't necessarily consist of consecutive elements from the original array. <br>\n",
    "It can be formed by selecting non-consecutive elements as long as they are in increasing order."
   ]
  },
  {
   "cell_type": "code",
   "execution_count": 8,
   "metadata": {},
   "outputs": [
    {
     "data": {
      "text/plain": [
       "(5, [1, 2, 1, 2, 2, 3, 4, 5, 4, 5])"
      ]
     },
     "execution_count": 8,
     "metadata": {},
     "output_type": "execute_result"
    }
   ],
   "source": [
    "def lengthOfLIS_1(nums):\n",
    "    \"\"\" Calculate the length of the longest increasing subsequence with dynamic programming approach.\n",
    "        Bottom up approach: the problem is solved by first finding solutions to the smallest subproblems,\n",
    "        to combine later these solutions to construct solutions for larger subproblems.\n",
    "\n",
    "        The dp auxiliary list contains the maxlength so far. Each cell i is updated checking the max between all previous elements from j to i.\n",
    "        (only if the element i in nums is a potential candidate)\n",
    "    Details:\n",
    "        - Time complexity is quadratic => n * (n + 1) / 2 loops => O(n^2)\n",
    "        - Space complexity is clearly linear => O(n)\n",
    "    \"\"\"\n",
    "    if not nums:\n",
    "        return 0\n",
    "\n",
    "    dp = [1] * len(nums)\n",
    "    for i in range(len(nums)):\n",
    "        for j in range(i):\n",
    "            if nums[j] < nums[i]:\n",
    "                dp[i] = max(dp[i], dp[j] + 1)\n",
    "\n",
    "    return max(dp), dp\n",
    "\n",
    "\n",
    "nums = [10, 91, 2, 4, 3, 7, 18, 101, 15, 21]\n",
    "lengthOfLIS_1(nums) # => There are multiple LIS sequences of length 5!"
   ]
  },
  {
   "cell_type": "code",
   "execution_count": 9,
   "metadata": {},
   "outputs": [
    {
     "data": {
      "text/plain": [
       "(5, [-1, 2, 2, 2, 3, 4, 1, 3, 4, 3, 5, 4])"
      ]
     },
     "execution_count": 9,
     "metadata": {},
     "output_type": "execute_result"
    }
   ],
   "source": [
    "def lengthOfLIS_2(nums):\n",
    "    \"\"\" Calculate the length of the longest increasing subsequence with dynamic programming approach.\n",
    "    Top down approach: Use a helper function (passing also the index!) to recursively compute the length of the longest increasing subsequence\n",
    "    ending at each position,\n",
    "    along with memoization to store and reuse the results of these subproblems.\n",
    "    Each element calls the recursive function for all previous elements.\n",
    "    \n",
    "    By using memoization, each subproblem is computed only once, and subsequent requests for the same subproblem's result can be answered quickly\n",
    "    by retrieving the stored value, reducing the overall time complexity to a polynomial scale.\n",
    "    Details:\n",
    "        - Time complexity is quadratic => n * (n + 1) / 2 loops => O(n^2)\n",
    "        - Space complexity is clearly linear => O(n)\n",
    "    \"\"\"\n",
    "    def lis_ending_at(i, memo):\n",
    "        # Define the base case \n",
    "        if i == 0:\n",
    "            return 1\n",
    "        # Memoization Check:\n",
    "            # Check whether the result for the subproblem at index i has already been computed and stored in memo\n",
    "            # The \"-1\" in the memo array indicates that the result for that subproblem has not been computed yet\n",
    "        if memo[i] != -1:\n",
    "            return memo[i]\n",
    "\n",
    "        maxLength = 1\n",
    "        for j in range(i):\n",
    "            if nums[j] < nums[i]:\n",
    "                maxLength = max(maxLength, lis_ending_at(j, memo) + 1)\n",
    "\n",
    "        memo[i] = maxLength\n",
    "        return maxLength\n",
    "\n",
    "    if not nums:\n",
    "        return 0\n",
    "\n",
    "    ## Initializations\n",
    "    memo = [-1] * len(nums)\n",
    "    maxLength = 0\n",
    "    ## Start the LSI search\n",
    "    for i in range(len(nums)):\n",
    "        maxLength = max(maxLength, lis_ending_at(i, memo))\n",
    "\n",
    "    return maxLength, memo\n",
    "\n",
    "\n",
    "nums = [1, 13, 12, 3, 34, 71, 1, 19, 40, 4, 62, 8]\n",
    "lengthOfLIS_2(nums)"
   ]
  }
 ],
 "metadata": {
  "kernelspec": {
   "display_name": "MLearning",
   "language": "python",
   "name": "python3"
  },
  "language_info": {
   "codemirror_mode": {
    "name": "ipython",
    "version": 3
   },
   "file_extension": ".py",
   "mimetype": "text/x-python",
   "name": "python",
   "nbconvert_exporter": "python",
   "pygments_lexer": "ipython3",
   "version": "3.10.9"
  },
  "orig_nbformat": 4
 },
 "nbformat": 4,
 "nbformat_minor": 2
}
