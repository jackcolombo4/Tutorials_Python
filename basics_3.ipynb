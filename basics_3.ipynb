{
 "cells": [
  {
   "cell_type": "markdown",
   "metadata": {},
   "source": [
    "<div style=\"line-height:0.5\">\n",
    "<h1 style=\"color:darkorange\"> Python tips 3 </h1>\n",
    "<span style=\"display: inline-block;\">\n",
    "    <h3 style=\"color: lightblue; display: inline;\">Keywords:</h3> lists => sorting + merging + looping \n",
    "</span>\n",
    "</div>"
   ]
  },
  {
   "cell_type": "markdown",
   "metadata": {
    "vscode": {
     "languageId": "plaintext"
    }
   },
   "source": [
    "<h2 style=\"color:darkorange\"> <u> Question #1 </u> </h2>"
   ]
  },
  {
   "cell_type": "code",
   "execution_count": 10,
   "metadata": {},
   "outputs": [],
   "source": [
    "def merge1(nums1, m, nums2, n):\n",
    "    \"\"\" Merge nums1 and nums2 lists into a single array sorted in non-decreasing order,\\\\\n",
    "    given two sorted int arrays and their number of elements to merge.\\n\n",
    "    The final sorted array should not be returned by the function, but instead be stored inside the array nums1. \n",
    "\n",
    "    Notes:\n",
    "        - nums1 has a length of m + n, where the first m elements denote the elements that should be merged,\\n \n",
    "            the last n elements can be set to 0 and should be ignored\n",
    "        - Do not return anything, modify nums1 should be done in-place\n",
    "        - The complexity is linear => O(m + n), since each element in both list is seen only m(n) times at max\n",
    "\n",
    "\n",
    "    Attrs:\n",
    "        - nums1: [List of int]\n",
    "        - m: max num of element to considerate for nums1 [int]\n",
    "        - nums2: [List of int]\n",
    "        - n: max num of element to considerate for nums2 [int]\n",
    "    \"\"\"\n",
    "    # Define Pointers for nums1 and nums2\n",
    "    p1 = m - 1  \n",
    "    p2 = n - 1  \n",
    "    # Get Pointer for the end of nums1\n",
    "    p = m + n - 1  \n",
    "    \n",
    "    # Merge nums2 into nums1\n",
    "    while p1 >= 0 and p2 >= 0:\n",
    "        if nums1[p1] > nums2[p2]:\n",
    "            nums1[p] = nums1[p1]\n",
    "            p1 -= 1\n",
    "        else:\n",
    "            nums1[p] = nums2[p2]\n",
    "            p2 -= 1\n",
    "        p -= 1\n",
    "    # Any remaining elements in nums2, must be added to nums1\n",
    "    while p2 >= 0:\n",
    "        nums1[p] = nums2[p2]\n",
    "        p2 -= 1\n",
    "        p -= 1       "
   ]
  },
  {
   "cell_type": "code",
   "execution_count": 6,
   "metadata": {},
   "outputs": [
    {
     "data": {
      "text/plain": [
       "[1, 2, 2, 3, 5, 6]"
      ]
     },
     "execution_count": 6,
     "metadata": {},
     "output_type": "execute_result"
    }
   ],
   "source": [
    "numbers_1 = [1, 2, 3] + [0] * 3\n",
    "numbers_2 = [2,5,6]\n",
    "m_par, n_par = 3, 3\n",
    "\n",
    "merge1(numbers_1, m_par, numbers_2, n_par)\n",
    "numbers_1"
   ]
  },
  {
   "cell_type": "markdown",
   "metadata": {},
   "source": [
    "<h2 style=\"color:darkorange\"> <u> Question #2 </u> </h2>"
   ]
  },
  {
   "cell_type": "code",
   "execution_count": null,
   "metadata": {},
   "outputs": [],
   "source": [
    "def majorityElement(self, nums):\n",
    "    \"\"\" Find the majority element in an array (the element that appears more than n/2 times).\\\\\n",
    "    Use the Boyer-Moore Voting Algorithm.\n",
    "    \"\"\"\n",
    "    ##################### solution 0 => quadratic time complexity\n",
    "    '''\n",
    "    majority_count = len(nums) // 2\n",
    "    for i in range(len(nums)):\n",
    "        count = 0\n",
    "        for j in range(len(nums)):\n",
    "            if nums[j] == nums[i]:\n",
    "                count += 1\n",
    "        if count > majority_count:\n",
    "            return nums[i]        \n",
    "    '''\n",
    "    ##################### solution 1 => linear time complexity\n",
    "    count, candidate = 0, None\n",
    "\n",
    "    for num in nums:\n",
    "        if count == 0:\n",
    "            candidate = num\n",
    "        count += (1 if num == candidate else -1)\n",
    "        #print(count, candidate)\n",
    "    return candidate"
   ]
  },
  {
   "cell_type": "markdown",
   "metadata": {},
   "source": [
    "<h2 style=\"color:darkorange\"> <u> Question #3 </u> </h2>"
   ]
  },
  {
   "cell_type": "code",
   "execution_count": 2,
   "metadata": {},
   "outputs": [
    {
     "data": {
      "text/plain": [
       "True"
      ]
     },
     "execution_count": 2,
     "metadata": {},
     "output_type": "execute_result"
    }
   ],
   "source": [
    "def containsNearbyDuplicate(nums, k):\n",
    "        \"\"\"Return true if there are two distinct indices i and j in the array, given an integer array nums and an integer k,\\\\\n",
    "        such that nums[i] == nums[j] and abs(i - j) <= k.\n",
    "        \n",
    "        Examples:\n",
    "            - 1) Input: nums = [1,2,3,1], k = 3 => Output: true\n",
    "            - 2) Input: nums = [1,0,1,1], k = 1 => Output: true\n",
    "            - 3) Input: nums = [1,2,3,1,2,3], k = 2 => Output: false\n",
    "        \"\"\"\n",
    "        ############ solution 1: quadratic complexity\n",
    "        '''\n",
    "        for i in range(len(nums)):\n",
    "            for j in range(i+1, len(nums)):\n",
    "                if nums[i] == nums[j] and abs(i - j) <= k:\n",
    "                    return True\n",
    "        return False\n",
    "        '''\n",
    "        ############ solution 2: using a dict but with keys as numbers!! and values as index!!! => linear complexity\n",
    "        '''\n",
    "        nums_dict = {}\n",
    "        for i, x in enumerate(nums):\n",
    "            if x in nums_dict and i - nums_dict[x] <= k:\n",
    "                return True\n",
    "            nums_dict[x] = i\n",
    "        return False\n",
    "        '''\n",
    "        ########## solution 3: with sliding window => linear complexity\n",
    "        \"\"\"\n",
    "        In this approach a set of elements is maintained within the current window of size k. \n",
    "        While iterating through nums, elements are added to the set and removed as they fall out of the window.\n",
    "        If the size of the set is greater than k and the duplicate is not already found, the element with i-k position is removed from the set, \n",
    "        since even if a duplicate exists later in the cycle, \n",
    "        the oldest element in the window are no longer within the k distance from the current  element, so the second condition fails.\n",
    "        When the current element already in the set, it means there's a duplicate within k distance.\n",
    "        \"\"\"\n",
    "        if k==0:\n",
    "            return False\n",
    "\n",
    "        window = set()\n",
    "        for i in range(len(nums)):\n",
    "            if nums[i] in window:\n",
    "                return True\n",
    "            window.add(nums[i])\n",
    "            if len(window) > k:\n",
    "                window.remove(nums[i-k])\n",
    "        \n",
    "        return False\n",
    "\n",
    "arr = [1,2,3,1]\n",
    "containsNearbyDuplicate(arr, 3)"
   ]
  },
  {
   "cell_type": "markdown",
   "metadata": {},
   "source": [
    "<h2 style=\"color:darkorange\"> <u> Question #4 </u> </h2>\n",
    "Longest Increasing Subsequence\" (LIS) problem. <br>\n",
    "The Longest Increasing Subsequence (LIS) doesn't necessarily consist of consecutive elements from the original array. <br>\n",
    "It can be formed by selecting non-consecutive elements as long as they are in increasing order."
   ]
  },
  {
   "cell_type": "code",
   "execution_count": 8,
   "metadata": {},
   "outputs": [
    {
     "data": {
      "text/plain": [
       "(5, [1, 2, 1, 2, 2, 3, 4, 5, 4, 5])"
      ]
     },
     "execution_count": 8,
     "metadata": {},
     "output_type": "execute_result"
    }
   ],
   "source": [
    "def lengthOfLIS_1(nums):\n",
    "    \"\"\" Calculate the length of the longest increasing subsequence with dynamic programming approach.\n",
    "        Bottom up approach: the problem is solved by first finding solutions to the smallest subproblems,\n",
    "        to combine later these solutions to construct solutions for larger subproblems.\n",
    "\n",
    "        The dp auxiliary list contains the maxlength so far. Each cell i is updated checking the max between all previous elements from j to i.\n",
    "        (only if the element i in nums is a potential candidate)\n",
    "    Details:\n",
    "        - Time complexity is quadratic => n * (n + 1) / 2 loops => O(n^2)\n",
    "        - Space complexity is clearly linear => O(n)\n",
    "    \"\"\"\n",
    "    if not nums:\n",
    "        return 0\n",
    "\n",
    "    dp = [1] * len(nums)\n",
    "    for i in range(len(nums)):\n",
    "        for j in range(i):\n",
    "            if nums[j] < nums[i]:\n",
    "                dp[i] = max(dp[i], dp[j] + 1)\n",
    "\n",
    "    return max(dp), dp\n",
    "\n",
    "\n",
    "nums = [10, 91, 2, 4, 3, 7, 18, 101, 15, 21]\n",
    "lengthOfLIS_1(nums) # => There are multiple LIS sequences of length 5!"
   ]
  },
  {
   "cell_type": "code",
   "execution_count": 9,
   "metadata": {},
   "outputs": [
    {
     "data": {
      "text/plain": [
       "(5, [-1, 2, 2, 2, 3, 4, 1, 3, 4, 3, 5, 4])"
      ]
     },
     "execution_count": 9,
     "metadata": {},
     "output_type": "execute_result"
    }
   ],
   "source": [
    "def lengthOfLIS_2(nums):\n",
    "    \"\"\" Calculate the length of the longest increasing subsequence with dynamic programming approach.\n",
    "    Top down approach: Use a helper function (passing also the index!) to recursively compute the length of the longest increasing subsequence\n",
    "    ending at each position,\n",
    "    along with memoization to store and reuse the results of these subproblems.\n",
    "    Each element calls the recursive function for all previous elements.\n",
    "    \n",
    "    By using memoization, each subproblem is computed only once, and subsequent requests for the same subproblem's result can be answered quickly\n",
    "    by retrieving the stored value, reducing the overall time complexity to a polynomial scale.\n",
    "    Details:\n",
    "        - Time complexity is quadratic => n * (n + 1) / 2 loops => O(n^2)\n",
    "        - Space complexity is clearly linear => O(n)\n",
    "    \"\"\"\n",
    "    def lis_ending_at(i, memo):\n",
    "        # Define the base case \n",
    "        if i == 0:\n",
    "            return 1\n",
    "        # Memoization Check:\n",
    "            # Check whether the result for the subproblem at index i has already been computed and stored in memo\n",
    "            # The \"-1\" in the memo array indicates that the result for that subproblem has not been computed yet\n",
    "        if memo[i] != -1:\n",
    "            return memo[i]\n",
    "\n",
    "        maxLength = 1\n",
    "        for j in range(i):\n",
    "            if nums[j] < nums[i]:\n",
    "                maxLength = max(maxLength, lis_ending_at(j, memo) + 1)\n",
    "\n",
    "        memo[i] = maxLength\n",
    "        return maxLength\n",
    "\n",
    "    if not nums:\n",
    "        return 0\n",
    "\n",
    "    ## Initializations\n",
    "    memo = [-1] * len(nums)\n",
    "    maxLength = 0\n",
    "    ## Start the LSI search\n",
    "    for i in range(len(nums)):\n",
    "        maxLength = max(maxLength, lis_ending_at(i, memo))\n",
    "\n",
    "    return maxLength, memo\n",
    "\n",
    "\n",
    "nums = [1, 13, 12, 3, 34, 71, 1, 19, 40, 4, 62, 8]\n",
    "lengthOfLIS_2(nums)"
   ]
  },
  {
   "cell_type": "markdown",
   "metadata": {},
   "source": [
    "<h2 style=\"color:darkorange\"> <u> Question #5 </u> </h2>\n",
    "Check if an array a of positive integers there are i and j such that a[j] = 2*a[i]\""
   ]
  },
  {
   "cell_type": "code",
   "execution_count": 3,
   "metadata": {},
   "outputs": [
    {
     "data": {
      "text/plain": [
       "(0, 1, True)"
      ]
     },
     "execution_count": 3,
     "metadata": {},
     "output_type": "execute_result"
    }
   ],
   "source": [
    "def check_double_exist_naive(a): \n",
    "    for i in range(len(a)):\n",
    "        for j in range(i+1, len(a)):\n",
    "            if a[j] == 2*a[i]:\n",
    "                return i,j,True\n",
    "            else:\n",
    "                return False\n",
    "            \n",
    "a = [1,2,3,4,5,6]\n",
    "check_double_exist_naive(a)"
   ]
  },
  {
   "cell_type": "code",
   "execution_count": null,
   "metadata": {},
   "outputs": [],
   "source": [
    "def check_double_exist(array):\n",
    "    \"\"\" Complexity is linear and not quadratic! \"\"\"\n",
    "    # Use a set to store elements (hash map) => O(1) Average Time Complexity for Add, Remove, and Check Operations:\n",
    "    seen = set()\n",
    "    for num in array:\n",
    "        if 2 * num in seen or (num % 2 == 0 and num // 2 in seen):\n",
    "            return True\n",
    "        seen.add(num)\n",
    "    return False"
   ]
  },
  {
   "cell_type": "markdown",
   "metadata": {},
   "source": [
    "<h2 style=\"color:darkorange\"> <u> Question #6 </u> </h2>\n",
    "Design an efficient divide-and-conquer algorithm to check if an array of characters contains the sequence ‘a’ followed by ‘b’ in adjacent positions"
   ]
  },
  {
   "cell_type": "code",
   "execution_count": 5,
   "metadata": {},
   "outputs": [
    {
     "data": {
      "text/plain": [
       "True"
      ]
     },
     "execution_count": 5,
     "metadata": {},
     "output_type": "execute_result"
    }
   ],
   "source": [
    "def contains_ab_sequence_1(arr, start, end):\n",
    "    \"\"\"\n",
    "    - The time complexity is O(n), since every recursive call check 2 elements, so each element must be checked exactly 1 time\n",
    "    - The space complexity is O(log n) => division / 2 multiple times \n",
    "    \"\"\"\n",
    "    # Base case of recursion\n",
    "    if end - start <= 1:  \n",
    "        return False\n",
    "\n",
    "    mid = (start + end) // 2\n",
    "\n",
    "    # Check both halves\n",
    "    if contains_ab_sequence_1(arr, start, mid) or contains_ab_sequence_1(arr, mid, end):\n",
    "        return True\n",
    "\n",
    "    # Check the boundaries\n",
    "    if arr[mid - 1] == 'a' and arr[mid] == 'b':\n",
    "        return True\n",
    "\n",
    "    return False\n",
    "\n",
    "array = ['x', 'y', 'a', 'b', 'z']\n",
    "contains_ab_sequence_1(array, 0, len(array))"
   ]
  },
  {
   "cell_type": "code",
   "execution_count": 10,
   "metadata": {},
   "outputs": [
    {
     "data": {
      "text/plain": [
       "True"
      ]
     },
     "execution_count": 10,
     "metadata": {},
     "output_type": "execute_result"
    }
   ],
   "source": [
    "def contains_ab_sequence(a_list):\n",
    "    \"\"\"\n",
    "    Notes: \n",
    "        - The time complexity is O(n)\n",
    "        - A recursive approach, due to slicing the array in each call, has a higher space complexity (O(n^2)) compared to an iterative solution.\n",
    "    \"\"\"\n",
    "    # Base case: if the string length is less than 2, it cannot contain 'ab'\n",
    "    if len(a_list) < 2:\n",
    "        return False\n",
    "\n",
    "    # Check if the first two characters are 'a' and 'b'\n",
    "    if a_list[0] == 'a' and a_list[1] == 'b':\n",
    "        return True\n",
    "\n",
    "    # Recursive call on the substring excluding the first character\n",
    "    return contains_ab_sequence(a_list[1:])\n",
    "\n",
    "contains_ab_sequence(array)"
   ]
  },
  {
   "cell_type": "markdown",
   "metadata": {},
   "source": [
    "<h2 style=\"color:darkorange\"> <u> Question #7 </u> </h2>\n",
    "Design a divide-and-conquer algorithm to calculate an with O(log n) multiplications. Hint: a^n = a^(n/2)^2 for even n, and an = a(a^(n/2)^2) for odd n."
   ]
  },
  {
   "cell_type": "code",
   "execution_count": 12,
   "metadata": {},
   "outputs": [
    {
     "name": "stdout",
     "output_type": "stream",
     "text": [
      "2^10 = 1024\n"
     ]
    }
   ],
   "source": [
    "def fast_exponentiation(a, n):\n",
    "    \"\"\" Time complexity => O(log n), since at each resursive call the value of n is reduced of a (circa) 1/2 factor \"\"\"\n",
    "    # Basis cases \n",
    "    if n == 0:\n",
    "        return 1\n",
    "    elif n == 1:\n",
    "        return a\n",
    "    else:\n",
    "        half_power = fast_exponentiation(a, n // 2)\n",
    "        if n % 2 == 0:\n",
    "            return half_power * half_power\n",
    "        else:\n",
    "            return a * half_power * half_power\n",
    "\n",
    "a, n = 2, 10\n",
    "result = fast_exponentiation(a, n)\n",
    "print(f\"{a}^{n} = {result}\")"
   ]
  },
  {
   "cell_type": "markdown",
   "metadata": {},
   "source": [
    "<h2 style=\"color:darkorange\"> <u> Question #8 </u> </h2>\n",
    "Design a divide-and-conquer algorithm to count the number of even elements in an array of integers, and analyze its complexity."
   ]
  },
  {
   "cell_type": "code",
   "execution_count": 21,
   "metadata": {},
   "outputs": [
    {
     "data": {
      "text/plain": [
       "3"
      ]
     },
     "execution_count": 21,
     "metadata": {},
     "output_type": "execute_result"
    }
   ],
   "source": [
    "def count_even_numbers(arr):\n",
    "    \"\"\" \n",
    "    1) Time Complexity: O(n log n).\n",
    "    The array is divided into two equal parts at each step, so the depth of the recursion is O(log n). \n",
    "    However, at each level of the recursion each subarray is passed as a copy and all n elements of the array are visited.\n",
    "\n",
    "    2) Space Complexity: O(n log n).\n",
    "    Copies of the array created in each recursive call. \n",
    "    However, this complexity could be reduced to O(log n) by expliciting the start and end indices of the original array, instead of passing copies of the array.\n",
    "    \"\"\"\n",
    "    if len(arr) == 0:\n",
    "        return 0\n",
    "    if len(arr) == 1:\n",
    "        return 1 if arr[0] % 2 == 0 else 0\n",
    "\n",
    "    mid = len(arr) // 2\n",
    "    left_count = count_even_numbers(arr[:mid])\n",
    "    right_count = count_even_numbers(arr[mid:])\n",
    "\n",
    "    return left_count + right_count\n",
    "\n",
    "\n",
    "\"\"\" \n",
    "N.B. => A simple iterative approach will be less expensive, with a linear complexity!\n",
    "\"\"\"\n",
    "useme = [1, 2, 3, 4, 5, 6]\n",
    "count_even_numbers(useme)\n"
   ]
  },
  {
   "cell_type": "markdown",
   "metadata": {},
   "source": [
    "<h2 style=\"color:darkorange\"> <u> Question #9 </u> </h2>\n",
    "Given an array of n positive integers, verify if there exist two elements in the array whose sum is k"
   ]
  },
  {
   "cell_type": "code",
   "execution_count": 23,
   "metadata": {},
   "outputs": [],
   "source": [
    "def has_pair_with_sum(arr, k):\n",
    "    ######## solution 1 => naive => Quadratic complexity (but spatial is constant ! no space requested in addition to input list)\n",
    "    '''\n",
    "    n = len(arr)\n",
    "    for i in range(n):\n",
    "        for j in range(i + 1, n):\n",
    "            if arr[i] + arr[j] == k:\n",
    "                return True\n",
    "    return False\n",
    "    '''\n",
    "    ######## solution 2 => with sets (hash) => Linear complexity for both T and S \n",
    "    seen = set()\n",
    "    for num in arr:\n",
    "        if k - num in seen:\n",
    "            return True\n",
    "        seen.add(num)\n",
    "    return False\n",
    "\n",
    "example_9 = [1, 4, 45, 6, 10, -8]\n",
    "k = 16\n",
    "result = has_pair_with_sum(example_9, k)"
   ]
  },
  {
   "cell_type": "markdown",
   "metadata": {},
   "source": [
    "<h2 style=\"color:darkorange\"> <u> Question #10 </u> </h2>\n",
    "Given a sorted array a of distinct integers (even negative), verifies if there exists an index i such that a[i] = i"
   ]
  },
  {
   "cell_type": "code",
   "execution_count": 43,
   "metadata": {},
   "outputs": [],
   "source": [
    "def find_fixed_point_naive(arr):\n",
    "    ######## solution 1) naive => t: O(n) ; s: O(1)\n",
    "    for i in range(len(arr)):\n",
    "        if arr[i] == i:\n",
    "            return True\n",
    "    return False\n",
    "\n",
    "def find_fixed_point_recursive_1(arr):\n",
    "    ######## solution 2) divide-et-impera approach 1 => t: O(N log n) ; s: O(N log n) => overhead!\n",
    "    if not arr:\n",
    "        return False\n",
    "\n",
    "    mid = len(arr) // 2\n",
    "\n",
    "    if arr[mid] == mid:\n",
    "        return True\n",
    "    \n",
    "    elif arr[mid] > mid:\n",
    "        return find_fixed_point_recursive_1(arr[:mid])\n",
    "    else:\n",
    "        # Fix indexes for right subtree\n",
    "        return find_fixed_point_recursive_1([arr[i] - mid - 1 for i in range(mid + 1, len(arr))])        \n",
    "\n",
    "def find_fixed_point_recursive_2(arr, start, end):    \n",
    "    ######## solution 3) divide-et-impera approach 2 => t: O(log n) ; s: O(log n)\n",
    "    if start > end:\n",
    "        return False\n",
    "    mid = start + (end - start) // 2\n",
    "\n",
    "    if arr[mid] == mid:\n",
    "        return True\n",
    "    elif arr[mid] > mid:\n",
    "        return find_fixed_point_recursive_2(arr, start, mid - 1)\n",
    "    else:\n",
    "        return find_fixed_point_recursive_2(arr, mid + 1, end)\n",
    "    '''\n",
    "    def helper(start, end):\n",
    "        if start > end:\n",
    "            return False\n",
    "        mid = start + (end - start) // 2\n",
    "\n",
    "        if arr[mid] == mid:\n",
    "            return True\n",
    "        elif arr[mid] > mid:\n",
    "            return helper(start, mid - 1)\n",
    "        else:\n",
    "            return helper(mid + 1, end)\n",
    "\n",
    "    return helper(0, len(arr) - 1)\n",
    "    '''\n",
    "\n",
    "def find_fixed_point_recursive_4(arr):\n",
    "    ######## solution 4) divide-et-impera approach 3 => t: O(N log n) ; s: O(N)\n",
    "    def helper_3(sub_arr, offset):\n",
    "        if not sub_arr:\n",
    "            return False\n",
    "\n",
    "        mid = len(sub_arr) // 2\n",
    "\n",
    "        if sub_arr[mid] == mid + offset:\n",
    "            return True\n",
    "        elif sub_arr[mid] > mid + offset:\n",
    "            return helper_3(sub_arr[:mid], offset)\n",
    "        else:\n",
    "            return helper_3(sub_arr[mid + 1:], offset + mid + 1)\n",
    "\n",
    "    return helper_3(arr, 0)"
   ]
  },
  {
   "cell_type": "code",
   "execution_count": 44,
   "metadata": {},
   "outputs": [
    {
     "data": {
      "text/plain": [
       "True"
      ]
     },
     "execution_count": 44,
     "metadata": {},
     "output_type": "execute_result"
    }
   ],
   "source": [
    "example_10 = [-10, -5, 0, 3, 7, 9, 12, 17]\n",
    "find_fixed_point_naive(example_10)"
   ]
  },
  {
   "cell_type": "code",
   "execution_count": 45,
   "metadata": {},
   "outputs": [
    {
     "data": {
      "text/plain": [
       "True"
      ]
     },
     "execution_count": 45,
     "metadata": {},
     "output_type": "execute_result"
    }
   ],
   "source": [
    "find_fixed_point_recursive_1(example_10)"
   ]
  },
  {
   "cell_type": "code",
   "execution_count": 46,
   "metadata": {},
   "outputs": [
    {
     "data": {
      "text/plain": [
       "True"
      ]
     },
     "execution_count": 46,
     "metadata": {},
     "output_type": "execute_result"
    }
   ],
   "source": [
    "find_fixed_point_recursive_2(example_10, 0, len(example_10) - 1)"
   ]
  },
  {
   "cell_type": "code",
   "execution_count": 47,
   "metadata": {},
   "outputs": [
    {
     "data": {
      "text/plain": [
       "True"
      ]
     },
     "execution_count": 47,
     "metadata": {},
     "output_type": "execute_result"
    }
   ],
   "source": [
    "find_fixed_point_recursive_4(example_10)"
   ]
  },
  {
   "cell_type": "markdown",
   "metadata": {},
   "source": [
    "<h2 style=\"color:darkorange\"> <u> Question #11 </u> </h2>\n",
    "Let \"a\" be an array of n distinct integers, such that there exists a position j, 0 ≤ j < n, such that: <br>\n",
    "\n",
    "- The elements in the segment a[0, j] are in increasing order; <br>\n",
    "- The elements in a[j+1, n-1] are in decreasing order; <br>\n",
    "- a[j] > a[j+1], if j < n - 1. <br>"
   ]
  },
  {
   "cell_type": "code",
   "execution_count": 57,
   "metadata": {},
   "outputs": [],
   "source": [
    "def find_peak_linear(arr):\n",
    "    \"\"\" Complexity => t: O(n) ; s:O(1) \"\"\"\n",
    "    for i in range(len(arr) - 1):\n",
    "        if arr[i] > arr[i + 1]:\n",
    "            return i\n",
    "    return len(arr) - 1"
   ]
  },
  {
   "cell_type": "code",
   "execution_count": 58,
   "metadata": {},
   "outputs": [],
   "source": [
    "def find_peak_divide_and_conquer(arr, low, high):\n",
    "    \"\"\" Like a binary search => temporal complexity is O(log n) ; the spatial complexity is => O(log n) := len of the stack of ricorsive call\n",
    "    \"\"\"\n",
    "    if low == high:\n",
    "        return low\n",
    "\n",
    "    mid = (low + high) // 2\n",
    "\n",
    "    if arr[mid] > arr[mid + 1]:\n",
    "        return find_peak_divide_and_conquer(arr, low, mid)\n",
    "    else:\n",
    "        return find_peak_divide_and_conquer(arr, mid + 1, high)\n",
    "\n",
    "# Wrapper function\n",
    "def find_peak_recursive(arr):\n",
    "    return find_peak_divide_and_conquer(arr, 0, len(arr) - 1)"
   ]
  },
  {
   "cell_type": "code",
   "execution_count": 59,
   "metadata": {},
   "outputs": [
    {
     "name": "stdout",
     "output_type": "stream",
     "text": [
      " The Peak position is 6\n",
      " The Peak position is 6\n"
     ]
    }
   ],
   "source": [
    "example_11 = [1, 3, 5, 7, 8, 10, 12, 11, 9, 6, 4, 2]\n",
    "res1 = find_peak_linear(example_11)\n",
    "res2 = find_peak_recursive(example_11)\n",
    "print(f\" The Peak position is {res1}\")\n",
    "print(f\" The Peak position is {res2}\")"
   ]
  },
  {
   "cell_type": "markdown",
   "metadata": {},
   "source": [
    "<h2 style=\"color:darkorange\"> <u> Question #12 </u> </h2>\n",
    "An array a of n distinct integers is defined as cyclically ordered if there exists an index i, 0 ≤ i < n, <br>\n",
    "such that the sequence a[i], a[i+1], …, a[n-1], a[0], …, a[i-1] is ordered in increasing order. <br>\n",
    "For example, the array a = [12, 14, 20, 1, 3, 7, 10, 11] is cyclically ordered for i = 3. <br>\n",
    "Consider the problem of finding the position i. <br>"
   ]
  },
  {
   "cell_type": "code",
   "execution_count": 62,
   "metadata": {},
   "outputs": [],
   "source": [
    "def find_rotation_point_linear(arr):\n",
    "    for i in range(len(arr) - 1):\n",
    "        if arr[i] > arr[i + 1]:\n",
    "            return i + 1\n",
    "    return 0"
   ]
  },
  {
   "cell_type": "code",
   "execution_count": 63,
   "metadata": {},
   "outputs": [],
   "source": [
    "def find_i_position(arr, low, high):\n",
    "    # Base cases\n",
    "    if high < low:\n",
    "        return 0\n",
    "    if high == low:\n",
    "        return low\n",
    "\n",
    "    mid = low + (high - low) // 2\n",
    "\n",
    "    if mid < high and arr[mid] > arr[mid + 1]:\n",
    "        return mid + 1\n",
    "\n",
    "    if mid > low and arr[mid] < arr[mid - 1]:\n",
    "        return mid\n",
    "\n",
    "    if arr[low] >= arr[mid]:\n",
    "        return find_i_position(arr, low, mid - 1)\n",
    "    else:\n",
    "        return find_i_position(arr, mid + 1, high)\n",
    "\n",
    "def find_rotation_point_recursive(arr):\n",
    "    return find_i_position(arr, 0, len(arr) - 1)"
   ]
  },
  {
   "cell_type": "code",
   "execution_count": 70,
   "metadata": {},
   "outputs": [
    {
     "name": "stdout",
     "output_type": "stream",
     "text": [
      "First solution => Linear: 4\n",
      "Second solution => Recursive: 4\n"
     ]
    }
   ],
   "source": [
    "array = [2, 3, 19, 22, 1, 2, 5, 3, 111, 15, 29, 30]\n",
    "print(\"First solution => Linear:\", find_rotation_point_linear(array))\n",
    "print(\"Second solution => Recursive:\", find_rotation_point_recursive(array))"
   ]
  },
  {
   "cell_type": "markdown",
   "metadata": {},
   "source": [
    "<h2 style=\"color:darkorange\"> <u> Question #13 </u> </h2>\n",
    "Longest common subsequence => typical Dynamic Programming problem\n"
   ]
  },
  {
   "cell_type": "code",
   "execution_count": 75,
   "metadata": {},
   "outputs": [
    {
     "name": "stdout",
     "output_type": "stream",
     "text": [
      "The Longest Common Subsequence is: AGTAGG\n"
     ]
    }
   ],
   "source": [
    "def all_subsequences(seq):\n",
    "    \"\"\" Find the lcs given 2 lists => Iterative \"brute force\" solution. Complexity => O(2^n * 2^m) \"\"\"\n",
    "    subsequences = ['']\n",
    "    for element in seq:\n",
    "        subsequences += [sub + element for sub in subsequences]\n",
    "    return subsequences\n",
    "\n",
    "def longest_common_subsequence_brute_force(seq1, seq2):\n",
    "    subsequences_seq1 = all_subsequences(seq1)\n",
    "    subsequences_seq2 = set(all_subsequences(seq2))\n",
    "    lcs = ''\n",
    "    for subseq in subsequences_seq1:\n",
    "        if subseq in subsequences_seq2 and len(subseq) > len(lcs):\n",
    "            lcs = subseq\n",
    "    return lcs\n",
    "\n",
    "seq1 = \"AGTTAGGGAA\"\n",
    "seq2 = \"GTCAGTAGG\"\n",
    "print(\"The Longest Common Subsequence is:\", longest_common_subsequence_brute_force(seq1, seq2))"
   ]
  },
  {
   "cell_type": "code",
   "execution_count": 73,
   "metadata": {},
   "outputs": [
    {
     "name": "stdout",
     "output_type": "stream",
     "text": [
      "The Longest Common Subsequence is: GTAB\n"
     ]
    }
   ],
   "source": [
    "def longest_common_subsequence(seq1, seq2):\n",
    "    \"\"\" Find the lcs given 2 lists => Dynamic Programming solution. Complexity => O(mn)\n",
    "    \"\"\"\n",
    "    m, n = len(seq1), len(seq2)\n",
    "    # Create a matrix of zeros\n",
    "    dp = [[0] * (n + 1) for _ in range(m + 1)]\n",
    "\n",
    "    ###### Fill auxiliary matrix dp => each cell contains the length of the LCS between the first i characters of seq1 and the first j characters of seq2\n",
    "    for i in range(1, m + 1):\n",
    "        for j in range(1, n + 1):\n",
    "            if seq1[i - 1] == seq2[j - 1]:\n",
    "                dp[i][j] = dp[i - 1][j - 1] + 1\n",
    "            else:\n",
    "                dp[i][j] = max(dp[i - 1][j], dp[i][j - 1])\n",
    "\n",
    "    ############ Reconstract the longest shared subsequence \n",
    "    lcs = []\n",
    "    i, j = m, n\n",
    "    while i > 0 and j > 0: # move backward through the matrix\n",
    "        if seq1[i - 1] == seq2[j - 1]:\n",
    "            lcs.append(seq1[i - 1])\n",
    "            i -= 1\n",
    "            j -= 1\n",
    "        # If not equal move in the direction of the larger of the two adjacent cells\n",
    "        elif dp[i - 1][j] > dp[i][j - 1]:\n",
    "            i -= 1\n",
    "        else:\n",
    "            j -= 1\n",
    "\n",
    "    return ''.join(reversed(lcs))\n",
    "\n",
    "seq1 = \"AGGTAB\"\n",
    "seq2 = \"GXTXAYB\"\n",
    "print(\"The Longest Common Subsequence is:\", longest_common_subsequence(seq1, seq2))"
   ]
  }
 ],
 "metadata": {
  "kernelspec": {
   "display_name": "MLearning",
   "language": "python",
   "name": "python3"
  },
  "language_info": {
   "codemirror_mode": {
    "name": "ipython",
    "version": 3
   },
   "file_extension": ".py",
   "mimetype": "text/x-python",
   "name": "python",
   "nbconvert_exporter": "python",
   "pygments_lexer": "ipython3",
   "version": "3.10.9"
  },
  "orig_nbformat": 4
 },
 "nbformat": 4,
 "nbformat_minor": 2
}
