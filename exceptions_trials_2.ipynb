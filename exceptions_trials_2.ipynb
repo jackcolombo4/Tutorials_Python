{
 "cells": [
  {
   "cell_type": "markdown",
   "metadata": {},
   "source": [
    "<h1 style=\"color:lightcoral\"> Exceptions handling in Python 2 </h1>"
   ]
  },
  {
   "cell_type": "code",
   "execution_count": 6,
   "metadata": {},
   "outputs": [],
   "source": [
    "import os"
   ]
  },
  {
   "cell_type": "markdown",
   "metadata": {},
   "source": [
    "<h3 style=\"color:lightcoral\"> <u> Example #8 </u> </h3>"
   ]
  },
  {
   "cell_type": "code",
   "execution_count": 5,
   "metadata": {},
   "outputs": [],
   "source": [
    "\"\"\" Custom exception class \"\"\"\n",
    "class InvalidOperationError(Exception):\n",
    "    pass\n",
    "\n",
    "class BankAccount:\n",
    "    def __init__(self, balance=0):\n",
    "        self.balance = balance\n",
    "        \n",
    "    def withdraw(self, amount):\n",
    "        if amount > self.balance:\n",
    "            raise InvalidOperationError(\"No way Jose, insufficient funds!\")\n",
    "        self.balance -= amount\n",
    "        \n",
    "    def deposit(self, amount):\n",
    "        self.balance += amount\n",
    "\n",
    "account = BankAccount(100)        "
   ]
  },
  {
   "cell_type": "code",
   "execution_count": 31,
   "metadata": {},
   "outputs": [
    {
     "name": "stdout",
     "output_type": "stream",
     "text": [
      "Skipping: Without calling the method in a try except block, it will block the execution.\n"
     ]
    }
   ],
   "source": [
    "%%script echo Skipping: Without calling the method in a try except block, it will block the execution.\n",
    "\"\"\" Without calling the method in a try except block, it will raise the custom error, blocking the exection! \"\"\"\n",
    "account.withdraw(200)"
   ]
  },
  {
   "cell_type": "code",
   "execution_count": 7,
   "metadata": {},
   "outputs": [
    {
     "name": "stdout",
     "output_type": "stream",
     "text": [
      "No way Jose, insufficient funds!\n"
     ]
    }
   ],
   "source": [
    "try:\n",
    "    account.withdraw(200) \n",
    "except InvalidOperationError as e:\n",
    "    print(e)"
   ]
  },
  {
   "cell_type": "code",
   "execution_count": 33,
   "metadata": {},
   "outputs": [
    {
     "name": "stdout",
     "output_type": "stream",
     "text": [
      "Transaction completed successfully\n",
      "Thank you ! See u next time!\n"
     ]
    }
   ],
   "source": [
    "try:\n",
    "    account.withdraw(50)\n",
    "    account.deposit(30)\n",
    "except Exception as e:\n",
    "    print(\"An unexpected error occurred:\", e)\n",
    "else:\n",
    "    print(\"Transaction completed successfully\")\n",
    "finally:\n",
    "    print(\"Thank you ! See u next time!\")"
   ]
  },
  {
   "cell_type": "markdown",
   "metadata": {},
   "source": [
    "<h3 style=\"color:lightcoral\"> <u> Example #9 </u> </h3>"
   ]
  },
  {
   "cell_type": "code",
   "execution_count": 35,
   "metadata": {},
   "outputs": [
    {
     "name": "stdout",
     "output_type": "stream",
     "text": [
      "Index out of range: list index out of range\n"
     ]
    }
   ],
   "source": [
    "try:\n",
    "    list = [1, 2, 3]\n",
    "    print(list[5])\n",
    "except IndexError as e:\n",
    "    print(\"Index out of range:\", e)"
   ]
  },
  {
   "cell_type": "code",
   "execution_count": 36,
   "metadata": {},
   "outputs": [
    {
     "name": "stdout",
     "output_type": "stream",
     "text": [
      "Key not found: 'invalid_key'\n"
     ]
    }
   ],
   "source": [
    "try:\n",
    "    dict = {}\n",
    "    value = dict[\"invalid_key\"]\n",
    "except KeyError as e:\n",
    "    print(\"Key not found:\", e)"
   ]
  },
  {
   "cell_type": "markdown",
   "metadata": {},
   "source": [
    "<h3 style=\"color:lightcoral\"> <u> Example #10 </u> </h3>"
   ]
  },
  {
   "cell_type": "code",
   "execution_count": 3,
   "metadata": {},
   "outputs": [
    {
     "name": "stdout",
     "output_type": "stream",
     "text": [
      "OSError: [Errno 2] No such file or directory: 'file_that_does_not_exist'\n"
     ]
    }
   ],
   "source": [
    "try:\n",
    "    os.remove(\"file_that_does_not_exist\")\n",
    "except OSError as e:\n",
    "    print(\"OSError:\", e)"
   ]
  },
  {
   "cell_type": "code",
   "execution_count": 5,
   "metadata": {},
   "outputs": [
    {
     "name": "stdout",
     "output_type": "stream",
     "text": [
      "Unicode decode error: 'ascii' codec can't decode byte 0x80 in position 0: ordinal not in range(128)\n"
     ]
    }
   ],
   "source": [
    "try:\n",
    "    b'\\x80'.decode('ascii')\n",
    "except UnicodeDecodeError as e:\n",
    "    print(\"Unicode decode error:\", e)"
   ]
  }
 ],
 "metadata": {
  "kernelspec": {
   "display_name": "MLearning",
   "language": "python",
   "name": "python3"
  },
  "language_info": {
   "codemirror_mode": {
    "name": "ipython",
    "version": 3
   },
   "file_extension": ".py",
   "mimetype": "text/x-python",
   "name": "python",
   "nbconvert_exporter": "python",
   "pygments_lexer": "ipython3",
   "version": "3.10.9"
  },
  "orig_nbformat": 4
 },
 "nbformat": 4,
 "nbformat_minor": 2
}
