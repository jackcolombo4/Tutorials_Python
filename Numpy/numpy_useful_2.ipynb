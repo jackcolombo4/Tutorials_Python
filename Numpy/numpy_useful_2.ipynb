{
 "cells": [
  {
   "attachments": {},
   "cell_type": "markdown",
   "metadata": {},
   "source": [
    "<div style=\"line-height:0.5\">\n",
    "<h1 style=\"color:#d6a042 \"> Numpy useful methods and tricks 2 </h1>\n",
    "</div>\n",
    "<div style=\"line-height:1.5\">\n",
    "<div style=\"margin-top: -8px;\">\n",
    "<span style=\"display: inline-block;\">\n",
    "    <h3 style=\"color: lightblue; display: inline;\">Keywords:</h3> functions + dot product + views\n",
    "</span>\n",
    "</div>\n",
    "</div>"
   ]
  },
  {
   "cell_type": "code",
   "execution_count": 2,
   "metadata": {},
   "outputs": [],
   "source": [
    "import random \n",
    "import numpy as np\n",
    "from numpy.lib.stride_tricks import as_strided"
   ]
  },
  {
   "cell_type": "code",
   "execution_count": 15,
   "metadata": {},
   "outputs": [
    {
     "name": "stdout",
     "output_type": "stream",
     "text": [
      "[ 0  4  8 12 16 20 24 28 32 36 40 44 48]\n"
     ]
    }
   ],
   "source": [
    "arr0 = np.arange(0,50,4)\n",
    "print(arr0)"
   ]
  },
  {
   "cell_type": "code",
   "execution_count": 16,
   "metadata": {},
   "outputs": [
    {
     "data": {
      "text/plain": [
       "array([0.25      , 0.125     , 0.08333333, 0.0625    , 0.05      ,\n",
       "       0.04166667, 0.03571429, 0.03125   , 0.02777778, 0.025     ,\n",
       "       0.02272727, 0.02083333])"
      ]
     },
     "execution_count": 16,
     "metadata": {},
     "output_type": "execute_result"
    }
   ],
   "source": [
    "1/arr0[1:]"
   ]
  },
  {
   "cell_type": "code",
   "execution_count": 17,
   "metadata": {},
   "outputs": [
    {
     "data": {
      "text/plain": [
       "array([ 1.        ,  1.47368421,  1.94736842,  2.42105263,  2.89473684,\n",
       "        3.36842105,  3.84210526,  4.31578947,  4.78947368,  5.26315789,\n",
       "        5.73684211,  6.21052632,  6.68421053,  7.15789474,  7.63157895,\n",
       "        8.10526316,  8.57894737,  9.05263158,  9.52631579, 10.        ])"
      ]
     },
     "execution_count": 17,
     "metadata": {},
     "output_type": "execute_result"
    }
   ],
   "source": [
    "arr1 = np.linspace(1,10,20)\n",
    "arr1"
   ]
  },
  {
   "cell_type": "code",
   "execution_count": 18,
   "metadata": {},
   "outputs": [
    {
     "data": {
      "text/plain": [
       "array([ 1.        ,  1.47368421,  1.94736842,  2.42105263,  2.89473684,\n",
       "        3.36842105,  3.84210526,  4.31578947,  4.78947368,  5.26315789,\n",
       "       10.        , 10.        , 10.        , 10.        , 10.        ,\n",
       "       10.        , 10.        , 10.        , 10.        , 10.        ])"
      ]
     },
     "execution_count": 18,
     "metadata": {},
     "output_type": "execute_result"
    }
   ],
   "source": [
    "arr2=arr1.copy()\n",
    "arr2[10:]=10  \n",
    "arr2"
   ]
  },
  {
   "cell_type": "code",
   "execution_count": 19,
   "metadata": {},
   "outputs": [
    {
     "data": {
      "text/plain": [
       "array([False, False, False, False, False, False, False, False, False,\n",
       "       False,  True,  True,  True,  True,  True,  True,  True,  True,\n",
       "        True,  True])"
      ]
     },
     "execution_count": 19,
     "metadata": {},
     "output_type": "execute_result"
    }
   ],
   "source": [
    "## Check vals \n",
    "val=10\n",
    "arr2==val"
   ]
  },
  {
   "cell_type": "code",
   "execution_count": 21,
   "metadata": {},
   "outputs": [
    {
     "data": {
      "text/plain": [
       "array([1.        , 1.47368421, 1.94736842, 2.42105263, 2.89473684,\n",
       "       3.36842105, 3.84210526, 4.31578947, 4.78947368])"
      ]
     },
     "execution_count": 21,
     "metadata": {},
     "output_type": "execute_result"
    }
   ],
   "source": [
    "arr2[arr2<5]"
   ]
  },
  {
   "cell_type": "code",
   "execution_count": 33,
   "metadata": {},
   "outputs": [
    {
     "data": {
      "text/plain": [
       "array([[ 0,  1,  2,  3],\n",
       "       [ 4,  5,  6,  7],\n",
       "       [ 8,  9, 10, 11],\n",
       "       [12, 13, 14, 15],\n",
       "       [16, 17, 18, 19]])"
      ]
     },
     "execution_count": 33,
     "metadata": {},
     "output_type": "execute_result"
    }
   ],
   "source": [
    "# Reshape directly to 2dimension\n",
    "arr3 = np.arange(0, 20).reshape(5,4)\n",
    "arr3"
   ]
  },
  {
   "cell_type": "code",
   "execution_count": 6,
   "metadata": {},
   "outputs": [
    {
     "data": {
      "text/plain": [
       "array([1, 3, 2, 0])"
      ]
     },
     "execution_count": 6,
     "metadata": {},
     "output_type": "execute_result"
    }
   ],
   "source": [
    "#numpy.argsort(a, axis=-1, kind=None, order=None)\n",
    "\"\"\" Return an array of indices of the same shape as a that index data along the given axis in sorted order. \"\"\"\n",
    "array_4 = np.array([100, 10, 50, 30])\n",
    "array_4.argsort()"
   ]
  },
  {
   "cell_type": "code",
   "execution_count": 10,
   "metadata": {},
   "outputs": [
    {
     "data": {
      "text/plain": [
       "array([2, 3, 1, 0])"
      ]
     },
     "execution_count": 10,
     "metadata": {},
     "output_type": "execute_result"
    }
   ],
   "source": [
    "a = np.array(list('asdf'))\n",
    "b = [3,2,0,1]\n",
    "np.argsort(b)"
   ]
  },
  {
   "cell_type": "code",
   "execution_count": 11,
   "metadata": {},
   "outputs": [
    {
     "data": {
      "text/plain": [
       "array(['d', 'f', 's', 'a'], dtype='<U1')"
      ]
     },
     "execution_count": 11,
     "metadata": {},
     "output_type": "execute_result"
    }
   ],
   "source": [
    "a[np.argsort(b)]"
   ]
  },
  {
   "cell_type": "code",
   "execution_count": 20,
   "metadata": {},
   "outputs": [
    {
     "name": "stdout",
     "output_type": "stream",
     "text": [
      "[[11  2 13]\n",
      " [ 0  5  2]\n",
      " [ 2  3  4]]\n",
      "[2 5 3]\n",
      "[0 2]\n"
     ]
    },
    {
     "data": {
      "text/plain": [
       "array([[11,  2, 13],\n",
       "       [ 2,  3,  4],\n",
       "       [ 0,  5,  2]])"
      ]
     },
     "execution_count": 20,
     "metadata": {},
     "output_type": "execute_result"
    }
   ],
   "source": [
    "x = np.array([[11,2,13],[0,5,2],[2,3,4]])\n",
    "print(x)\n",
    "print(x[:,1])\n",
    "print(x[1:,0])\n",
    "x[x[:,1].argsort()]"
   ]
  },
  {
   "attachments": {},
   "cell_type": "markdown",
   "metadata": {},
   "source": [
    "<h2 style=\"color:#d6a042 \"> Operations </h2>"
   ]
  },
  {
   "cell_type": "code",
   "execution_count": null,
   "metadata": {},
   "outputs": [],
   "source": [
    "# Element-wise Addition\n",
    "x = np.array([[1,2],[3,4]])\n",
    "y = np.array([[5,6],[7,8]])\n",
    "\n",
    "print(x + y)\n",
    "print()\n",
    "print(np.add(x,y))\n",
    "print()\n",
    "print(x - y)\n",
    "print()\n",
    "print(np.subtract(x,y))"
   ]
  },
  {
   "cell_type": "code",
   "execution_count": 40,
   "metadata": {},
   "outputs": [
    {
     "name": "stdout",
     "output_type": "stream",
     "text": [
      "[[  0  21  44  69]\n",
      " [ 96 125 156 189]\n",
      " [224 261 300 341]\n",
      " [384 429 476 525]\n",
      " [576 629 684 741]]\n",
      "\n",
      "[[  0  21  44  69]\n",
      " [ 96 125 156 189]\n",
      " [224 261 300 341]\n",
      " [384 429 476 525]\n",
      " [576 629 684 741]]\n"
     ]
    }
   ],
   "source": [
    "# Element-wise multiplication \n",
    "arr4 = np.arange(20, 40).reshape(5,4)\n",
    "print(arr3 * arr4)\n",
    "print()\n",
    "print(np.multiply(arr3, arr4))"
   ]
  },
  {
   "cell_type": "code",
   "execution_count": 39,
   "metadata": {},
   "outputs": [
    {
     "name": "stdout",
     "output_type": "stream",
     "text": [
      "[[0.         0.04761905 0.09090909 0.13043478]\n",
      " [0.16666667 0.2        0.23076923 0.25925926]\n",
      " [0.28571429 0.31034483 0.33333333 0.35483871]\n",
      " [0.375      0.39393939 0.41176471 0.42857143]\n",
      " [0.44444444 0.45945946 0.47368421 0.48717949]]\n",
      "\n",
      "[[0.         0.04761905 0.09090909 0.13043478]\n",
      " [0.16666667 0.2        0.23076923 0.25925926]\n",
      " [0.28571429 0.31034483 0.33333333 0.35483871]\n",
      " [0.375      0.39393939 0.41176471 0.42857143]\n",
      " [0.44444444 0.45945946 0.47368421 0.48717949]]\n",
      "\n",
      "[[0.         1.         1.41421356 1.73205081]\n",
      " [2.         2.23606798 2.44948974 2.64575131]\n",
      " [2.82842712 3.         3.16227766 3.31662479]\n",
      " [3.46410162 3.60555128 3.74165739 3.87298335]\n",
      " [4.         4.12310563 4.24264069 4.35889894]]\n"
     ]
    }
   ],
   "source": [
    "# Element-wise division\n",
    "print(arr3/arr4)\n",
    "print()\n",
    "print(np.divide(arr3, arr4))\n",
    "print()\n",
    "print(np.sqrt(arr3))"
   ]
  },
  {
   "cell_type": "code",
   "execution_count": 53,
   "metadata": {},
   "outputs": [
    {
     "name": "stdout",
     "output_type": "stream",
     "text": [
      "[[99 93 53 60 89]\n",
      " [36  3 52 87 35]\n",
      " [52  1 70 95  5]\n",
      " [33 87 17 90 60]\n",
      " [94 64 53 76 12]\n",
      " [53 66 96 12 49]\n",
      " [38 33 82 52  7]\n",
      " [47 36 29 78 29]\n",
      " [27 84 72 78 16]\n",
      " [ 3  8 62 99 56]\n",
      " [93 71 88 56 96]\n",
      " [ 8 24 56 46 38]\n",
      " [ 6 89 72 80 97]\n",
      " [ 5 35 38  1 30]\n",
      " [91 84  4 93 37]]\n",
      "\n",
      "[[60 83 97 43 11 37 15 74 44 54 64 99 51 27 77]\n",
      " [87 83 89 94 36 22 20  7 97 77 23 27 98 37 83]\n",
      " [84 45 30  0 63 37 82  7 39 16 92 91 13  5 86]\n",
      " [ 9 71 44 97 50 43 73  8 60  5 52 27 85 96 99]\n",
      " [45  7 15 50 61 22 98 45  6  3  5  4 41 47 94]]\n"
     ]
    }
   ],
   "source": [
    "x = np.random.randint(0, 100, size=(15, 5))\n",
    "y = np.random.randint(0, 100, size=(5, 15))\n",
    "\n",
    "print(x)\n",
    "print()\n",
    "print(y)"
   ]
  },
  {
   "cell_type": "code",
   "execution_count": 54,
   "metadata": {},
   "outputs": [
    {
     "name": "stdout",
     "output_type": "stream",
     "text": [
      "[[23028 23204 23445 23269 16205 12208 20793 12833 19578 13922 16916 19111\n",
      "  23601 16322 34206]\n",
      " [ 9147 11999  9672 12019 10265  7833 14645  5320  9333  3547 11856 10866\n",
      "  11636 11340 19396]\n",
      " [10167 14329 11488 11795 10073  8731 13965  5330 10845  4495 14756 14130\n",
      "  11940 11146 19982]\n",
      " [14487 17535 16314 21327 12726  8954 16079  6590 16314  9383 10657  9833\n",
      "  20540 15655 25774]\n",
      " [16884 20979 19928 18030 11209 10379 13760  8923 17043 11268 16376 17957\n",
      "  18707 13031 25760]\n",
      " [19299 15392 15158 12097 12596  8559 15665  7357 13492  9687 14611 16285\n",
      "  13448  7808 23609]\n",
      " [12822 13324 11476 10130  9799  7556 12436  4348 11233  6186 13474 13547\n",
      "  10945  7978 18523]\n",
      " [10395 13935 12500 14421  9309  7596 12339  5862 11545  6251 10705 10486\n",
      "  14121 11597 19549]\n",
      " [16398 18103 15927 17423 12733  9217 15251  4434 16920  9516 14420 13663\n",
      "  17831 12437 24469]\n",
      " [ 9495 11124  8059 13284 12593  8070 18004  4024  9602  2433 11508  9052\n",
      "  12454 12823 21292]\n",
      " [23973 22220 21884 20905 17779 12779 23527 12763 18347 12465 19073 21028\n",
      "  21541 15466 35190]\n",
      " [ 9396  8708  7186  8962  9098  5710 12274  3230  7852  3520  8798  7930\n",
      "   8956  7586 15550]\n",
      " [19236 17484 15638 21234 17723 10418 23120  6576 17087  9020 13700 12097\n",
      "  20741 16054 31079]\n",
      " [ 7896  5311  5234  5102  5589  3064  6904  2239  5337  3668  4823  5045\n",
      "   5494  3126  9477]\n",
      " [15606 21567 21070 22680 11184 10176 13788  9759 18110 12022 13145 14300\n",
      "  22347 16252 27008]]\n",
      "\n",
      "[[23028 23204 23445 23269 16205 12208 20793 12833 19578 13922 16916 19111\n",
      "  23601 16322 34206]\n",
      " [ 9147 11999  9672 12019 10265  7833 14645  5320  9333  3547 11856 10866\n",
      "  11636 11340 19396]\n",
      " [10167 14329 11488 11795 10073  8731 13965  5330 10845  4495 14756 14130\n",
      "  11940 11146 19982]\n",
      " [14487 17535 16314 21327 12726  8954 16079  6590 16314  9383 10657  9833\n",
      "  20540 15655 25774]\n",
      " [16884 20979 19928 18030 11209 10379 13760  8923 17043 11268 16376 17957\n",
      "  18707 13031 25760]\n",
      " [19299 15392 15158 12097 12596  8559 15665  7357 13492  9687 14611 16285\n",
      "  13448  7808 23609]\n",
      " [12822 13324 11476 10130  9799  7556 12436  4348 11233  6186 13474 13547\n",
      "  10945  7978 18523]\n",
      " [10395 13935 12500 14421  9309  7596 12339  5862 11545  6251 10705 10486\n",
      "  14121 11597 19549]\n",
      " [16398 18103 15927 17423 12733  9217 15251  4434 16920  9516 14420 13663\n",
      "  17831 12437 24469]\n",
      " [ 9495 11124  8059 13284 12593  8070 18004  4024  9602  2433 11508  9052\n",
      "  12454 12823 21292]\n",
      " [23973 22220 21884 20905 17779 12779 23527 12763 18347 12465 19073 21028\n",
      "  21541 15466 35190]\n",
      " [ 9396  8708  7186  8962  9098  5710 12274  3230  7852  3520  8798  7930\n",
      "   8956  7586 15550]\n",
      " [19236 17484 15638 21234 17723 10418 23120  6576 17087  9020 13700 12097\n",
      "  20741 16054 31079]\n",
      " [ 7896  5311  5234  5102  5589  3064  6904  2239  5337  3668  4823  5045\n",
      "   5494  3126  9477]\n",
      " [15606 21567 21070 22680 11184 10176 13788  9759 18110 12022 13145 14300\n",
      "  22347 16252 27008]]\n"
     ]
    }
   ],
   "source": [
    "# Matrix Multiplication (Dot Product)\n",
    "print(x.dot(y))\n",
    "print()\n",
    "print(np.dot(x,y))"
   ]
  },
  {
   "cell_type": "code",
   "execution_count": 4,
   "metadata": {},
   "outputs": [
    {
     "name": "stdout",
     "output_type": "stream",
     "text": [
      "[[10 20 30 40]\n",
      " [10 20 30 40]]\n"
     ]
    }
   ],
   "source": [
    "# Dot product\n",
    "a = np.array([[1,2,3,4], [1,2,3,4]])\n",
    "b = np.array([[1,2,3,4], [1,2,3,4], [1,2,3,4], [1,2,3,4]])\n",
    "print(a.dot(b))"
   ]
  },
  {
   "cell_type": "code",
   "execution_count": 58,
   "metadata": {},
   "outputs": [
    {
     "name": "stdout",
     "output_type": "stream",
     "text": [
      "--> Sum all\n",
      "3966\n",
      "--> Sum column\n",
      "[ 685  778  844 1003  656]\n",
      "--> Sum row\n",
      "[394 213 223 287 299 276 212 219 277 228 404 172 344 109 309]\n"
     ]
    }
   ],
   "source": [
    "\"\"\" Summations \"\"\"\n",
    "# All number sum\n",
    "print(\"--> Sum all\")\n",
    "print(np.sum(x)) \n",
    "# Column-wise sum\n",
    "print(\"--> Sum column\")\n",
    "print(np.sum(x,axis=0))  \n",
    "# Row-wise sum\n",
    "print(\"--> Sum row\")\n",
    "print(np.sum(x,axis=1))  "
   ]
  },
  {
   "cell_type": "code",
   "execution_count": 5,
   "metadata": {},
   "outputs": [
    {
     "data": {
      "text/plain": [
       "(array([1, 2, 3, 4]), array([1, 1]))"
      ]
     },
     "execution_count": 5,
     "metadata": {},
     "output_type": "execute_result"
    }
   ],
   "source": [
    "# Min in columns, Min in rows\n",
    "np.min(a,axis=0), np.min(a,axis=1)"
   ]
  },
  {
   "cell_type": "code",
   "execution_count": 63,
   "metadata": {},
   "outputs": [
    {
     "name": "stdout",
     "output_type": "stream",
     "text": [
      "Mean of x is: 52.88\n",
      "Mean of x (rows) is: [45.66666667 51.86666667 56.26666667 66.86666667 43.73333333]\n",
      "Mean of x (columns) is: [78.8 42.6 44.6 57.4 59.8 55.2 42.4 43.8 55.4 45.6 80.8 34.4 68.8 21.8\n",
      " 61.8]\n"
     ]
    }
   ],
   "source": [
    "### Mean\n",
    "print(\"Mean of x is: {}\".format(np.mean(x)))\n",
    "print(\"Mean of x (rows) is: {}\".format(np.mean(x, axis=0)))\n",
    "print(\"Mean of x (columns) is: {}\".format(np.mean(x, axis=1)))"
   ]
  },
  {
   "cell_type": "code",
   "execution_count": 67,
   "metadata": {},
   "outputs": [
    {
     "name": "stdout",
     "output_type": "stream",
     "text": [
      "41.5\n"
     ]
    }
   ],
   "source": [
    "# Median\n",
    "tmp_list = [random.randint(0, 100) for _ in range(30)]\n",
    "arr5 = np.array(tmp_list)\n",
    "print(np.median(arr5))"
   ]
  },
  {
   "cell_type": "code",
   "execution_count": 68,
   "metadata": {},
   "outputs": [
    {
     "data": {
      "text/plain": [
       "40.05289139633286"
      ]
     },
     "execution_count": 68,
     "metadata": {},
     "output_type": "execute_result"
    }
   ],
   "source": [
    "# Weights \n",
    "w = [random.randint(0, 100) for _ in range(30)]\n",
    "\n",
    "np.average(arr5, weights=w)"
   ]
  },
  {
   "cell_type": "code",
   "execution_count": 70,
   "metadata": {},
   "outputs": [
    {
     "data": {
      "text/plain": [
       "27.990097455270778"
      ]
     },
     "execution_count": 70,
     "metadata": {},
     "output_type": "execute_result"
    }
   ],
   "source": [
    "# Variance \n",
    "dev= np.std(arr5)\n",
    "dev"
   ]
  },
  {
   "cell_type": "code",
   "execution_count": 71,
   "metadata": {},
   "outputs": [
    {
     "data": {
      "text/plain": [
       "array([[30, 37],\n",
       "       [32, 17],\n",
       "       [27,  1],\n",
       "       [96, 46]])"
      ]
     },
     "execution_count": 71,
     "metadata": {},
     "output_type": "execute_result"
    }
   ],
   "source": [
    "np.random.randint(0, 100, 8).reshape(4,2)"
   ]
  },
  {
   "cell_type": "code",
   "execution_count": 72,
   "metadata": {},
   "outputs": [
    {
     "data": {
      "text/plain": [
       "array([[0.6941225 , 0.14893967, 0.75306765, 0.78099498, 0.5657737 ]])"
      ]
     },
     "execution_count": 72,
     "metadata": {},
     "output_type": "execute_result"
    }
   ],
   "source": [
    "np.random.random_sample((1, 5))"
   ]
  },
  {
   "cell_type": "code",
   "execution_count": 73,
   "metadata": {},
   "outputs": [
    {
     "data": {
      "text/plain": [
       "array([1, 2, 3, 4, 5, 6, 7, 8, 9, 2, 3, 4, 5, 6, 7, 8, 1, 2, 3, 7, 8, 9])"
      ]
     },
     "execution_count": 73,
     "metadata": {},
     "output_type": "execute_result"
    }
   ],
   "source": [
    "new_a = np.array([1,2,3,4,5,6,7,8,9,2,3,4,5,6,7,8,1,2,3,7,8,9])\n",
    "new_a"
   ]
  },
  {
   "cell_type": "code",
   "execution_count": 74,
   "metadata": {},
   "outputs": [
    {
     "data": {
      "text/plain": [
       "array([1, 2, 3, 4, 5, 6, 7, 8, 9, 2, 3, 4, 5, 6, 7, 8, 1, 2, 3, 7, 8, 9])"
      ]
     },
     "execution_count": 74,
     "metadata": {},
     "output_type": "execute_result"
    }
   ],
   "source": [
    "new_a.argsort() \n",
    "new_a"
   ]
  },
  {
   "attachments": {},
   "cell_type": "markdown",
   "metadata": {},
   "source": [
    "<h2 style=\"color:#d6a042 \"> Functions </h2>"
   ]
  },
  {
   "cell_type": "code",
   "execution_count": 5,
   "metadata": {},
   "outputs": [
    {
     "name": "stdout",
     "output_type": "stream",
     "text": [
      "[0.         0.78539816 1.57079633 2.35619449 3.14159265]\n",
      "sin => [0.00000000e+00 7.07106781e-01 1.00000000e+00 7.07106781e-01\n",
      " 1.22464680e-16]\n",
      "cos => [ 1.00000000e+00  7.07106781e-01  6.12323400e-17 -7.07106781e-01\n",
      " -1.00000000e+00]\n",
      "tan => [ 0.00000000e+00  1.00000000e+00  1.63312394e+16 -1.00000000e+00\n",
      " -1.22464680e-16]\n"
     ]
    }
   ],
   "source": [
    "\"\"\" Trigonometric functions \"\"\"\n",
    "theta = np.linspace(0, np.pi, 5)\n",
    "print(theta)\n",
    "sin = np.sin(theta)\n",
    "cos = np.cos(theta)\n",
    "tan = np.tan(theta)\n",
    "\n",
    "print(f\"sin => {sin}\")\n",
    "print(f\"cos => {cos}\")\n",
    "print(f\"tan => {tan}\")"
   ]
  },
  {
   "cell_type": "code",
   "execution_count": 6,
   "metadata": {},
   "outputs": [
    {
     "name": "stdout",
     "output_type": "stream",
     "text": [
      "arcsin = [-1.57079633  0.          1.57079633]\n",
      "arccos = [3.14159265 1.57079633 0.        ]\n",
      "arctan = [-0.78539816  0.          0.78539816]\n"
     ]
    }
   ],
   "source": [
    "\"\"\" Exponential functions \"\"\"\n",
    "x = np.array([-1, 0, 1])\n",
    "print(f\"arcsin = {np.arcsin(x)}\")\n",
    "print(f\"arccos = {np.arccos(x)}\")\n",
    "print(f\"arctan = {np.arctan(x)}\")"
   ]
  },
  {
   "cell_type": "code",
   "execution_count": 7,
   "metadata": {},
   "outputs": [
    {
     "name": "stdout",
     "output_type": "stream",
     "text": [
      "e^x => = [   2.71828183    7.3890561    20.08553692   54.59815003  148.4131591\n",
      "  403.42879349 1096.63315843]\n",
      "2^x => = [  2.   4.   8.  16.  32.  64. 128.]\n",
      "3^x => = [   3    9   27   81  243  729 2187]\n"
     ]
    }
   ],
   "source": [
    "\"\"\" Inverse trigonometric function \"\"\"\n",
    "x = np.arange(1, 8)\n",
    "print(f\"function e^x => = {np.exp(x)}\")\n",
    "print(f\"function 2^x => = {np.exp2(x)}\")\n",
    "print(f\"function 3^x => = {np.power(3, x)}\")"
   ]
  },
  {
   "cell_type": "code",
   "execution_count": 8,
   "metadata": {},
   "outputs": [
    {
     "name": "stdout",
     "output_type": "stream",
     "text": [
      "ln = [1.38629436 0.69314718 0.69314718 1.38629436]\n",
      "log2 = [2. 1. 1. 2.]\n",
      "log10 = [0.60205999 0.30103    0.30103    0.60205999]\n"
     ]
    }
   ],
   "source": [
    "\"\"\" Logarithms \"\"\"\n",
    "x = np.random.randint(1, 5, size=4)\n",
    "print(f\"ln = {np.log(x)}\")\n",
    "print(f\"log2 = {np.log2(x)}\")\n",
    "print(f\"log10 = {np.log10(x)}\")"
   ]
  },
  {
   "cell_type": "code",
   "execution_count": 12,
   "metadata": {},
   "outputs": [
    {
     "name": "stdout",
     "output_type": "stream",
     "text": [
      "[[64 67 73 20 23 79]\n",
      " [23 59 29 39 41 70]\n",
      " [56 43 26 44 44 32]\n",
      " [78 21 58 59 43 66]]\n",
      "\n",
      " mini = [23 21 26 20 23 32]\n",
      " maxi = [78 67 73 59 44 79]\n",
      " sumi = [326 261 245 325]\n"
     ]
    }
   ],
   "source": [
    "np.random.seed(0)\n",
    "marks = np.random.randint(20, 80, size=(4,6))\n",
    "mini = marks.min(axis=0)\n",
    "maxi = marks.max(axis=0)\n",
    "sumi = marks.sum(axis=1)\n",
    "\n",
    "print(marks)\n",
    "print()\n",
    "print(f\" mini = {mini}\")\n",
    "print(f\" maxi = {maxi}\")\n",
    "print(f\" sumi = {sumi}\")"
   ]
  },
  {
   "cell_type": "code",
   "execution_count": 22,
   "metadata": {},
   "outputs": [
    {
     "data": {
      "text/plain": [
       "array([0, 1, 2])"
      ]
     },
     "execution_count": 22,
     "metadata": {},
     "output_type": "execute_result"
    }
   ],
   "source": [
    "a = np.arange(3)\n",
    "a"
   ]
  },
  {
   "cell_type": "code",
   "execution_count": 23,
   "metadata": {},
   "outputs": [
    {
     "data": {
      "text/plain": [
       "array([[1.],\n",
       "       [1.],\n",
       "       [1.]])"
      ]
     },
     "execution_count": 23,
     "metadata": {},
     "output_type": "execute_result"
    }
   ],
   "source": [
    "b = np.ones((3,1)) \n",
    "b"
   ]
  },
  {
   "cell_type": "code",
   "execution_count": 24,
   "metadata": {},
   "outputs": [
    {
     "data": {
      "text/plain": [
       "array([[1., 2., 3.],\n",
       "       [1., 2., 3.],\n",
       "       [1., 2., 3.]])"
      ]
     },
     "execution_count": 24,
     "metadata": {},
     "output_type": "execute_result"
    }
   ],
   "source": [
    "a + b "
   ]
  },
  {
   "attachments": {},
   "cell_type": "markdown",
   "metadata": {},
   "source": [
    "<h3 style=\"color:#d6a042 \"> => Masking </h3>"
   ]
  },
  {
   "cell_type": "code",
   "execution_count": 34,
   "metadata": {},
   "outputs": [
    {
     "name": "stdout",
     "output_type": "stream",
     "text": [
      "[[ 47 117  67 103]\n",
      " [  9  21  36  87]\n",
      " [ 70  88 140  58]]\n",
      "\n",
      "[array([[ True, False,  True, False],\n",
      "       [ True,  True,  True,  True],\n",
      "       [ True,  True, False,  True]])]\n",
      "\n",
      "[47 67  9 21 36 87 70 88 58]\n",
      "\n"
     ]
    }
   ],
   "source": [
    "np.random.seed(0)\n",
    "x = np.random.randint(150, size=(3,4))\n",
    "print(x)\n",
    "print()\n",
    "print([x<100])\n",
    "print()\n",
    "print(x[x<100])\n",
    "print()"
   ]
  },
  {
   "attachments": {},
   "cell_type": "markdown",
   "metadata": {},
   "source": [
    "<h2 style=\"color:#d6a042 \"> Fancy indexing </h2>"
   ]
  },
  {
   "cell_type": "code",
   "execution_count": 36,
   "metadata": {},
   "outputs": [
    {
     "name": "stdout",
     "output_type": "stream",
     "text": [
      "[99 88 49 29 19 19 14 39 32 65]\n",
      "\n",
      "[49 19 65]\n"
     ]
    }
   ],
   "source": [
    "x = np.random.randint(100, size=10)\n",
    "print(x)\n",
    "print()\n",
    "print(x[[2,5,9]])"
   ]
  },
  {
   "cell_type": "code",
   "execution_count": 46,
   "metadata": {},
   "outputs": [
    {
     "name": "stdout",
     "output_type": "stream",
     "text": [
      "[[87 12 14 81 36 50 73]\n",
      " [ 6 64 58 34 55 62 59]\n",
      " [15 95 42 52 22 17 77]\n",
      " [49 16 92 30 57 66  0]]\n",
      "\n",
      "[55  0 50]\n",
      "\n",
      "[95 52 77]\n"
     ]
    }
   ],
   "source": [
    "# Avoid repeatition of numbers, \n",
    "#x = np.random.randint(100, size=(4, 7), replace=False) \n",
    "x = np.random.choice(100, size=(4, 7), replace=False) \n",
    "\n",
    "print(x)\n",
    "# Index must be in bounds => <4 for x and <7 for y\n",
    "row = [1, 3, 0]\n",
    "col = [4, 6, 5]\n",
    "print()\n",
    "print(x[row, col])\n",
    "print()\n",
    "print(x[2,[1, 3, 6]])"
   ]
  },
  {
   "cell_type": "code",
   "execution_count": 47,
   "metadata": {},
   "outputs": [
    {
     "data": {
      "text/plain": [
       "array([[1, 2, 4, 5, 6, 3, 0],\n",
       "       [0, 3, 4, 2, 6, 5, 1],\n",
       "       [0, 5, 4, 2, 3, 6, 1],\n",
       "       [6, 1, 3, 0, 4, 5, 2]])"
      ]
     },
     "execution_count": 47,
     "metadata": {},
     "output_type": "execute_result"
    }
   ],
   "source": [
    "# Return the indices that would sort an array in acending order\n",
    "np.argsort(x)"
   ]
  },
  {
   "attachments": {},
   "cell_type": "markdown",
   "metadata": {},
   "source": [
    "<h2 style=\"color:#d6a042 \"> Reshape </h2>"
   ]
  },
  {
   "attachments": {},
   "cell_type": "markdown",
   "metadata": {},
   "source": [
    "The \"strides\" attribute contains for each dimension,the number of bytes (not array indexes)"
   ]
  },
  {
   "cell_type": "code",
   "execution_count": 48,
   "metadata": {},
   "outputs": [
    {
     "name": "stdout",
     "output_type": "stream",
     "text": [
      "a.strides=(80000, 8)\n",
      "b.strides=(40000, 8)\n",
      "c.strides=(80000, 16, 8)\n"
     ]
    }
   ],
   "source": [
    "a = np.random.rand(20_000, 10_000)\n",
    "print(f'{a.strides=}')  # (80000, 8)\n",
    "b = a.reshape(40_000, 5_000)\n",
    "print(f'{b.strides=}')  # (40000, 8)\n",
    "c = a.reshape(20_000, 5_000, 2)\n",
    "print(f'{c.strides=}')  # (80000, 16, 8)"
   ]
  },
  {
   "cell_type": "code",
   "execution_count": 51,
   "metadata": {},
   "outputs": [
    {
     "name": "stdout",
     "output_type": "stream",
     "text": [
      "Before transpose:\n",
      "[[1 2 3]\n",
      " [4 5 6]]\n",
      "After transpose:\n",
      "[[1 4]\n",
      " [2 5]\n",
      " [3 6]]\n"
     ]
    }
   ],
   "source": [
    "def transpose(a):\n",
    "    return as_strided(a, shape=a.shape[::-1], strides=a.strides[::-1])\n",
    "\n",
    "# Test the function on a small matrix\n",
    "a = np.array([[1, 2, 3], [4, 5, 6]])\n",
    "\n",
    "print('Before transpose:')\n",
    "print(a)\n",
    "print('After transpose:')\n",
    "print(transpose(a))"
   ]
  },
  {
   "attachments": {},
   "cell_type": "markdown",
   "metadata": {},
   "source": [
    "<h2 style=\"color:#d6a042 \"> View </h2>\n",
    "<div style=\"margin-top: -34px;\">\n",
    "\n",
    "Key properties of views created by these methods:\n",
    "\n",
    "+ No data copying, they reference the source array\n",
    "+ Changes are reflected in both view and source\n",
    "+ Faster than copies but take up similar memory\n",
    "</div>"
   ]
  },
  {
   "cell_type": "code",
   "execution_count": 54,
   "metadata": {},
   "outputs": [
    {
     "name": "stdout",
     "output_type": "stream",
     "text": [
      "None\n",
      "(5, 5)\n"
     ]
    }
   ],
   "source": [
    "\"\"\" Base attribute refers to the original array that a view was created from. \"\"\"\n",
    "a = np.zeros((5, 5))\n",
    "print(a.base)\n",
    "# Create a view by slicing\n",
    "b = a[:2, :2]\n",
    "print(b.base.shape)"
   ]
  },
  {
   "cell_type": "code",
   "execution_count": 53,
   "metadata": {},
   "outputs": [
    {
     "name": "stdout",
     "output_type": "stream",
     "text": [
      "(40524752, False)\n",
      "(40524752, False)\n"
     ]
    }
   ],
   "source": [
    "print(a.__array_interface__['data'])\n",
    "print(b.__array_interface__['data'])"
   ]
  },
  {
   "cell_type": "code",
   "execution_count": 55,
   "metadata": {},
   "outputs": [
    {
     "data": {
      "text/plain": [
       "array([[0., 0., 0., 0., 0.],\n",
       "       [0., 0., 0., 0., 0.]])"
      ]
     },
     "execution_count": 55,
     "metadata": {},
     "output_type": "execute_result"
    }
   ],
   "source": [
    "# View of rows 0 and 1\n",
    "b = a[[0,1], :] \n",
    "b"
   ]
  },
  {
   "cell_type": "code",
   "execution_count": 56,
   "metadata": {},
   "outputs": [],
   "source": [
    "# View with specific indices\n",
    "indices = [0,2,4]  \n",
    "b = a[indices] "
   ]
  },
  {
   "cell_type": "code",
   "execution_count": null,
   "metadata": {},
   "outputs": [],
   "source": [
    "# View with every second element\n",
    "b = a[::2] "
   ]
  },
  {
   "cell_type": "code",
   "execution_count": null,
   "metadata": {},
   "outputs": [],
   "source": [
    "# View with mask  \n",
    "mask = [True, False, True]\n",
    "b = a[mask]"
   ]
  },
  {
   "cell_type": "code",
   "execution_count": null,
   "metadata": {},
   "outputs": [],
   "source": [
    "# View returned from numpy\n",
    "b = np.sqrt(a)"
   ]
  },
  {
   "cell_type": "code",
   "execution_count": null,
   "metadata": {},
   "outputs": [],
   "source": [
    "# View from a transposed \n",
    "b = a.T"
   ]
  },
  {
   "attachments": {},
   "cell_type": "markdown",
   "metadata": {},
   "source": [
    "<h2 style=\"color:#d6a042 \"> Data Type Hierarchy</h2>"
   ]
  },
  {
   "cell_type": "code",
   "execution_count": 57,
   "metadata": {},
   "outputs": [
    {
     "data": {
      "text/plain": [
       "[numpy.float64,\n",
       " numpy.floating,\n",
       " numpy.inexact,\n",
       " numpy.number,\n",
       " numpy.generic,\n",
       " float,\n",
       " object]"
      ]
     },
     "execution_count": 57,
     "metadata": {},
     "output_type": "execute_result"
    }
   ],
   "source": [
    "# Parent classes of a specific data type\n",
    "np.float64.mro()"
   ]
  },
  {
   "cell_type": "code",
   "execution_count": 63,
   "metadata": {},
   "outputs": [
    {
     "name": "stdout",
     "output_type": "stream",
     "text": [
      "True\n",
      "True\n",
      "True\n",
      "False\n"
     ]
    }
   ],
   "source": [
    "ints = np.ones(10, dtype=np.uint16)\n",
    "floats = np.ones(10, dtype=np.float32)\n",
    "print(np.issubdtype(ints.dtype, np.integer))\n",
    "print(np.issubdtype(floats.dtype, np.floating))\n",
    "print(np.issubdtype(ints.dtype, np.number))\n",
    "print(np.issubdtype(ints.dtype, np.floating))"
   ]
  },
  {
   "attachments": {},
   "cell_type": "markdown",
   "metadata": {},
   "source": [
    "<h2 style=\"color:#d6a042 \"> Reshaping </h2>"
   ]
  },
  {
   "cell_type": "code",
   "execution_count": 65,
   "metadata": {},
   "outputs": [
    {
     "data": {
      "text/plain": [
       "array([[0, 1],\n",
       "       [2, 3],\n",
       "       [4, 5],\n",
       "       [6, 7]])"
      ]
     },
     "execution_count": 65,
     "metadata": {},
     "output_type": "execute_result"
    }
   ],
   "source": [
    "arr = np.arange(8)\n",
    "arr.reshape((4, 2))"
   ]
  },
  {
   "cell_type": "code",
   "execution_count": 66,
   "metadata": {},
   "outputs": [
    {
     "data": {
      "text/plain": [
       "array([[0, 1, 2, 3],\n",
       "       [4, 5, 6, 7]])"
      ]
     },
     "execution_count": 66,
     "metadata": {},
     "output_type": "execute_result"
    }
   ],
   "source": [
    "# Double reshaping\n",
    "arr.reshape((4, 2)).reshape((2, 4))"
   ]
  },
  {
   "cell_type": "code",
   "execution_count": 72,
   "metadata": {},
   "outputs": [
    {
     "data": {
      "text/plain": [
       "(array([[1., 1., 1., 1., 1.],\n",
       "        [1., 1., 1., 1., 1.],\n",
       "        [1., 1., 1., 1., 1.]]),\n",
       " (3, 5))"
      ]
     },
     "execution_count": 72,
     "metadata": {},
     "output_type": "execute_result"
    }
   ],
   "source": [
    "other_arr = np.ones((3, 5))\n",
    "other_arr, other_arr.shape"
   ]
  },
  {
   "cell_type": "code",
   "execution_count": 73,
   "metadata": {},
   "outputs": [
    {
     "data": {
      "text/plain": [
       "array([1., 1., 1., 1., 1., 1., 1., 1., 1., 1., 1., 1., 1., 1., 1.])"
      ]
     },
     "execution_count": 73,
     "metadata": {},
     "output_type": "execute_result"
    }
   ],
   "source": [
    "oa = other_arr.ravel()\n",
    "oa"
   ]
  },
  {
   "cell_type": "code",
   "execution_count": 74,
   "metadata": {},
   "outputs": [
    {
     "data": {
      "text/plain": [
       "array([0, 1, 2, 3, 4, 5, 6, 7])"
      ]
     },
     "execution_count": 74,
     "metadata": {},
     "output_type": "execute_result"
    }
   ],
   "source": [
    "fla = arr.flatten()\n",
    "fla"
   ]
  },
  {
   "attachments": {},
   "cell_type": "markdown",
   "metadata": {},
   "source": [
    "<h2 style=\"color:#d6a042 \"> Repeat elements </h2>"
   ]
  },
  {
   "cell_type": "code",
   "execution_count": 75,
   "metadata": {},
   "outputs": [
    {
     "data": {
      "text/plain": [
       "array([0, 0, 0, 1, 1, 1, 2, 2, 2, 3, 3, 3, 4, 4, 4, 5, 5, 5, 6, 6, 6, 7,\n",
       "       7, 7])"
      ]
     },
     "execution_count": 75,
     "metadata": {},
     "output_type": "execute_result"
    }
   ],
   "source": [
    "repe = arr.repeat(3)\n",
    "repe"
   ]
  },
  {
   "cell_type": "code",
   "execution_count": 78,
   "metadata": {},
   "outputs": [
    {
     "data": {
      "text/plain": [
       "array([0, 0, 1, 1, 2, 2, 3, 3, 4, 4, 5, 5, 6, 6, 7, 7])"
      ]
     },
     "execution_count": 78,
     "metadata": {},
     "output_type": "execute_result"
    }
   ],
   "source": [
    "rape2 = arr.repeat(2, axis=0)\n",
    "rape2"
   ]
  },
  {
   "cell_type": "code",
   "execution_count": 83,
   "metadata": {},
   "outputs": [
    {
     "data": {
      "text/plain": [
       "array([0, 0, 1, 1, 1, 2, 3, 3, 4, 5, 5, 6, 6, 6, 7])"
      ]
     },
     "execution_count": 83,
     "metadata": {},
     "output_type": "execute_result"
    }
   ],
   "source": [
    "\"\"\" Broadcast the repeat arguments to the array length Repeat each elements of the list according to the times indicated by another list. \"\"\"\n",
    "\n",
    "# AxisError: axis 1 (second dimension) is out of bounds for array of dimension 1\n",
    "#arr.repeat([2, 3], axis=1)\n",
    "# Error: Incompatible shapes: arr has length 8, the repeat list [2,3] only has length 2\n",
    "#arr.repeat([2, 3], axis=0)\n",
    "repe = [2, 3, 1, 2, 1, 2, 3, 1] \n",
    "arr.repeat(repe, axis=0)"
   ]
  }
 ],
 "metadata": {
  "kernelspec": {
   "display_name": "MLearning",
   "language": "python",
   "name": "python3"
  },
  "language_info": {
   "codemirror_mode": {
    "name": "ipython",
    "version": 3
   },
   "file_extension": ".py",
   "mimetype": "text/x-python",
   "name": "python",
   "nbconvert_exporter": "python",
   "pygments_lexer": "ipython3",
   "version": "3.10.9"
  },
  "orig_nbformat": 4
 },
 "nbformat": 4,
 "nbformat_minor": 2
}
