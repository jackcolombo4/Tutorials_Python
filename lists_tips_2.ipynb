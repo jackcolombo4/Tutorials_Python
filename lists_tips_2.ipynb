{
 "cells": [
  {
   "cell_type": "markdown",
   "metadata": {},
   "source": [
    "<div style=\"line-height:0.5\">\n",
    "<h1 style=\"color:crimson\"> Lists trials 2 </h1>\n",
    "<span style=\"display: inline-block;\">\n",
    "    <h3 style=\"color: lightblue; display: inline;\">Keywords:</h3> set recursion depth  + level depth and shape + uuid + deque + Counter + zip + PrettyPrinter + StringIO\n",
    "</span>\n",
    "<br>\n",
    "<div style=\"margin-top: 5px;\">\n",
    "\n",
    "<div style=\"line-height:1.9\">\n",
    "<span style=\"display: inline-block;\">\n",
    "    <h3 style=\"color: red; display: inline;\">Notes:</h3> \n",
    "    Example #11 is not reproducible. In fact, due to its large size, the txt file was not uploaded.\n",
    "</span>\n",
    "</div>\n",
    "</div>\n",
    "</div>"
   ]
  },
  {
   "cell_type": "code",
   "execution_count": 94,
   "metadata": {},
   "outputs": [],
   "source": [
    "import io\n",
    "import re\n",
    "import sys\n",
    "import csv\n",
    "import random\n",
    "import operator\n",
    "import uuid\n",
    "import string\n",
    "import itertools\n",
    "import collections\n",
    "import pandas as pd\n",
    "import pprint as otherpprint\n",
    "from pprint import pprint\n",
    "from collections import defaultdict, deque, Counter"
   ]
  },
  {
   "cell_type": "code",
   "execution_count": 3,
   "metadata": {},
   "outputs": [],
   "source": [
    "import threading\n",
    "# Max recursion depth\n",
    "sys.setrecursionlimit(10**7)\n",
    "threading.stack_size(2**27)\n",
    "import faulthandler; faulthandler.enable()"
   ]
  },
  {
   "cell_type": "markdown",
   "metadata": {},
   "source": [
    "<h2 style=\"color:crimson\"> 7) Check + Search </h2>"
   ]
  },
  {
   "cell_type": "code",
   "execution_count": 4,
   "metadata": {},
   "outputs": [
    {
     "name": "stdout",
     "output_type": "stream",
     "text": [
      "True\n"
     ]
    }
   ],
   "source": [
    "name_output = ['Awful']\n",
    "name_1 = ['Awful', 'Bad']\n",
    "resp1 = all(x in ['Awful', 'Bad'] for x in name_output)\n",
    "\n",
    "print(resp1)"
   ]
  },
  {
   "cell_type": "code",
   "execution_count": 5,
   "metadata": {},
   "outputs": [
    {
     "name": "stdout",
     "output_type": "stream",
     "text": [
      "False\n"
     ]
    }
   ],
   "source": [
    "print(all(x in name_output for x in name_1))"
   ]
  },
  {
   "cell_type": "code",
   "execution_count": 6,
   "metadata": {},
   "outputs": [
    {
     "name": "stdout",
     "output_type": "stream",
     "text": [
      "460c11c\n",
      "t460c11c\n",
      "\n",
      "b2628c7\n",
      "tb2628c7\n",
      "\n",
      "5b255e5\n",
      "t5b255e5\n",
      "\n",
      "33734c1\n",
      "t33734c1\n",
      "\n"
     ]
    }
   ],
   "source": [
    "for i in range(4):\n",
    "\tecco = uuid.uuid4().hex[:7]\n",
    "\tprint(ecco)\n",
    "\tid_ok = ''.join(('t', ecco))\n",
    "\tprint(id_ok)\n",
    "\tprint()"
   ]
  },
  {
   "cell_type": "markdown",
   "metadata": {},
   "source": [
    "<h2 style=\"color:crimson\"> 8) Randomness </h2>"
   ]
  },
  {
   "cell_type": "code",
   "execution_count": 7,
   "metadata": {},
   "outputs": [
    {
     "name": "stdout",
     "output_type": "stream",
     "text": [
      "[8, 6, 4, 9, 7]\n"
     ]
    }
   ],
   "source": [
    "random_list = random.sample(range(1, 11), 5)\n",
    "print(random_list)"
   ]
  },
  {
   "cell_type": "code",
   "execution_count": 8,
   "metadata": {},
   "outputs": [
    {
     "data": {
      "text/plain": [
       "[71, 79, 69, 34, 24, 58, 30, 45, 20, 66]"
      ]
     },
     "execution_count": 8,
     "metadata": {},
     "output_type": "execute_result"
    }
   ],
   "source": [
    "arra_ints = [random.randint(15,89) for _ in range(10)]\n",
    "arra_ints"
   ]
  },
  {
   "cell_type": "code",
   "execution_count": 9,
   "metadata": {},
   "outputs": [
    {
     "data": {
      "text/plain": [
       "[0.13533996553027017,\n",
       " 0.950329607527374,\n",
       " 0.22062532981291316,\n",
       " 0.5039748444224729,\n",
       " 0.4765396554300546]"
      ]
     },
     "execution_count": 9,
     "metadata": {},
     "output_type": "execute_result"
    }
   ],
   "source": [
    "arra_floats = [random.uniform(0.0, 1.0) for _ in range(5)]\n",
    "arra_floats"
   ]
  },
  {
   "cell_type": "code",
   "execution_count": 10,
   "metadata": {},
   "outputs": [
    {
     "data": {
      "text/plain": [
       "['Insertion Sort', 'Quick Sort', 'Quick Sort', 'Quick Sort']"
      ]
     },
     "execution_count": 10,
     "metadata": {},
     "output_type": "execute_result"
    }
   ],
   "source": [
    "algorithm_list = ['Bubble Sort', 'Quick Sort', 'Merge Sort', 'Insertion Sort', 'Selection Sort']\n",
    "random_elem = [random.choice(algorithm_list) for _ in range(4)]\n",
    "random_elem"
   ]
  },
  {
   "cell_type": "code",
   "execution_count": 11,
   "metadata": {},
   "outputs": [
    {
     "data": {
      "text/plain": [
       "[True, False, True, False, False, False, True]"
      ]
     },
     "execution_count": 11,
     "metadata": {},
     "output_type": "execute_result"
    }
   ],
   "source": [
    "random_booleans = [random.choice([True, False]) for _ in range(7)]  # Generates 7 random True/False values.\n",
    "random_booleans"
   ]
  },
  {
   "cell_type": "code",
   "execution_count": 12,
   "metadata": {},
   "outputs": [
    {
     "data": {
      "text/plain": [
       "['blue', 'yellow', 'green', 'yellow', 'yellow', 'yellow']"
      ]
     },
     "execution_count": 12,
     "metadata": {},
     "output_type": "execute_result"
    }
   ],
   "source": [
    "colors = ['red', 'green', 'blue', 'yellow', 'purple']\n",
    "random_colors = [random.choice(colors) for _ in range(6)]\n",
    "random_colors"
   ]
  },
  {
   "cell_type": "code",
   "execution_count": 13,
   "metadata": {},
   "outputs": [
    {
     "data": {
      "text/plain": [
       "['l', 'k', 'u', 'k', 'x', 'd', 'u', 'm']"
      ]
     },
     "execution_count": 13,
     "metadata": {},
     "output_type": "execute_result"
    }
   ],
   "source": [
    "# Generates 8 random letters from the list of all lowercase letters\n",
    "letters = string.ascii_lowercase\n",
    "random_letters = [random.choice(letters) for _ in range(8)]  \n",
    "random_letters"
   ]
  },
  {
   "cell_type": "code",
   "execution_count": 14,
   "metadata": {},
   "outputs": [
    {
     "data": {
      "text/plain": [
       "[2, 3, 8, 1, 5, 4, 9, 10, 7, 6]"
      ]
     },
     "execution_count": 14,
     "metadata": {},
     "output_type": "execute_result"
    }
   ],
   "source": [
    "range_of_numbers = list(range(1, 11))  \n",
    "random.shuffle(range_of_numbers)\n",
    "range_of_numbers"
   ]
  },
  {
   "cell_type": "markdown",
   "metadata": {},
   "source": [
    "<h2 style=\"color:crimson\"> 9) Looping </h2>"
   ]
  },
  {
   "cell_type": "code",
   "execution_count": 15,
   "metadata": {},
   "outputs": [
    {
     "name": "stdout",
     "output_type": "stream",
     "text": [
      "543\n",
      "45\n",
      "745\n",
      "87\n",
      "23\n",
      "8\n",
      "4\n"
     ]
    }
   ],
   "source": [
    "my_list = [543,45,745,87,23,8,4]\n",
    "\n",
    "for item in my_list:\n",
    "    print(item)"
   ]
  },
  {
   "cell_type": "code",
   "execution_count": 16,
   "metadata": {},
   "outputs": [
    {
     "name": "stdout",
     "output_type": "stream",
     "text": [
      "543\n",
      "45\n",
      "745\n",
      "87\n",
      "23\n",
      "8\n",
      "4\n"
     ]
    }
   ],
   "source": [
    "index = 0\n",
    "while index < len(my_list):\n",
    "    print(my_list[index])\n",
    "    index += 1"
   ]
  },
  {
   "cell_type": "code",
   "execution_count": 17,
   "metadata": {},
   "outputs": [
    {
     "data": {
      "text/plain": [
       "[294849, 2025, 555025, 7569, 529, 64, 16]"
      ]
     },
     "execution_count": 17,
     "metadata": {},
     "output_type": "execute_result"
    }
   ],
   "source": [
    "# List comprehension\n",
    "squared_list = [item ** 2 for item in my_list]\n",
    "squared_list"
   ]
  },
  {
   "cell_type": "code",
   "execution_count": 18,
   "metadata": {},
   "outputs": [
    {
     "name": "stdout",
     "output_type": "stream",
     "text": [
      "son i : 0\n",
      "son j : 1\n",
      "son i : 0\n",
      "son j : 2\n",
      "son i : 0\n",
      "son j : 3\n",
      "son i : 1\n",
      "son j : 2\n",
      "son i : 1\n",
      "son j : 3\n",
      "son i : 2\n",
      "son j : 3\n"
     ]
    }
   ],
   "source": [
    "search = [1,2,3,4]\n",
    "for i in range(len(search)):\n",
    "\tfor j in range(i+1, len(search)): \n",
    "\t\tprint(\"son i : {}\".format(i))\n",
    "\t\tprint(\"son j : {}\".format(j))"
   ]
  },
  {
   "cell_type": "code",
   "execution_count": 19,
   "metadata": {},
   "outputs": [
    {
     "name": "stdout",
     "output_type": "stream",
     "text": [
      "1\n",
      "2\n",
      "3\n",
      "4\n",
      "5\n",
      "1\n",
      "2\n",
      "3\n",
      "4\n",
      "5\n"
     ]
    }
   ],
   "source": [
    "my_list = [1, 2, 3, 4, 5]\n",
    "n = len(my_list)\n",
    "\n",
    "for i in range(10):\n",
    "    item = my_list[i % n]       #1 % 5 = 1 ... 7 % 5 = 2 ....\n",
    "    print(item)"
   ]
  },
  {
   "cell_type": "markdown",
   "metadata": {},
   "source": [
    "<h3 style=\"color:#A4ED8E; margin-bottom: 0;\"> Recap: deque </h3>\n",
    "<div style=\"margin-top: 4px;\">\n",
    "Stands for \"double-ended queue\". It is a specialized data structure provided by the collections module,\n",
    "with complexity near O(1) time for its operations. <br>\n",
    "It faster appends and pops from the left side (the beginning of the sequence)."
   ]
  },
  {
   "cell_type": "code",
   "execution_count": 20,
   "metadata": {},
   "outputs": [
    {
     "name": "stdout",
     "output_type": "stream",
     "text": [
      "deque([1, 2, 3, 4, 5])\n",
      "1\n",
      "2\n",
      "3\n",
      "4\n",
      "5\n",
      "1\n",
      "2\n",
      "3\n",
      "4\n",
      "5\n"
     ]
    }
   ],
   "source": [
    "\"\"\" Deque \"\"\"\n",
    "my_list = [1, 2, 3, 4, 5]\n",
    "rotated_list = deque(my_list)\n",
    "print(rotated_list)\n",
    "\n",
    "for _ in range(10):\n",
    "    item = rotated_list.popleft()\n",
    "    print(item)\n",
    "    rotated_list.append(item)"
   ]
  },
  {
   "cell_type": "code",
   "execution_count": 21,
   "metadata": {},
   "outputs": [
    {
     "name": "stdout",
     "output_type": "stream",
     "text": [
      "deque([10, 20, 30, 40, 50, 60.5])\n",
      "deque([0.03, 10, 20, 30, 40, 50, 60.5])\n",
      "60.5\n",
      "deque([0.03, 10, 20, 30, 40, 50])\n",
      "0.03\n",
      "deque([10, 20, 30, 40, 50])\n"
     ]
    }
   ],
   "source": [
    "d = deque([10, 20, 30, 40, 50])\n",
    "# Regular list append\n",
    "d.append(60.5)\n",
    "print(d)\n",
    "# Append to the left\n",
    "d.appendleft(0.03)\n",
    "print(d)\n",
    "\n",
    "# Regular list pop\n",
    "last = d.pop()\n",
    "print(last)  \n",
    "print(d)     \n",
    "# Pop from the left\n",
    "first = d.popleft()\n",
    "print(first)  \n",
    "print(d)      "
   ]
  },
  {
   "cell_type": "code",
   "execution_count": 22,
   "metadata": {},
   "outputs": [
    {
     "name": "stdout",
     "output_type": "stream",
     "text": [
      "i  0\n",
      "j  0\n",
      "k  0\n",
      "[568, 1743, 1762, 1785]\n",
      "i  0\n",
      "j  1\n",
      "k  1\n",
      "[119]\n",
      "i  0\n",
      "j  2\n",
      "k  2\n",
      "[121, 134, 257]\n",
      "i  0\n",
      "j  3\n",
      "k  3\n",
      "[37, 1759]\n",
      "stop\n",
      "i  1\n",
      "j  0\n",
      "k  4\n",
      "[2255, 2284, 2314]\n",
      "i  1\n",
      "j  1\n",
      "k  5\n",
      "[1866, 1893]\n",
      "i  1\n",
      "j  2\n",
      "k  6\n",
      "[2480, 2774, 2952]\n",
      "stop\n",
      "i  2\n",
      "j  0\n",
      "k  7\n",
      "[2419, 2422]\n",
      "i  2\n",
      "j  1\n",
      "k  8\n",
      "[2353, 2402, 2412]\n",
      "i  2\n",
      "j  2\n",
      "k  9\n",
      "[1905, 1993]\n",
      "stop\n",
      "[[[568, 1743, 1762, 1785], [119], [121, 134, 257], [37, 1759]], [[2255, 2284, 2314], [1866, 1893], [2480, 2774, 2952]], [[2419, 2422], [2353, 2402, 2412], [1905, 1993]]]\n"
     ]
    }
   ],
   "source": [
    "\"\"\" While for list of list. \"\"\"\n",
    "aa = [[568, 1743, 1762, 1785], [119], [121, 134, 257], [37, 1759], [2255, 2284, 2314], \n",
    "    [1866, 1893], [2480, 2774, 2952], [2419, 2422], [2353, 2402, 2412], [1905, 1993]]\n",
    "bb = [[1,2,3,4],[1,2,3],[1,2,3]]\n",
    "cc, dd = [], []\n",
    "j, k = 0, 0\n",
    "\n",
    "for i in range(len(bb)):\n",
    "    while j < len(bb[i]):\n",
    "        print(\"i \",i)\n",
    "        print(\"j \",j)\n",
    "        print(\"k \",k)\n",
    "        print(aa[k])\n",
    "        cc.append(aa[k])\n",
    "        j+=1\n",
    "        k+=1\n",
    "    j=0\n",
    "    #del(aa[j])    \n",
    "    print(\"stop\")\n",
    "    dd.append(cc)\n",
    "    cc = []\n",
    "\n",
    "print(dd)"
   ]
  },
  {
   "cell_type": "code",
   "execution_count": 23,
   "metadata": {},
   "outputs": [
    {
     "name": "stdout",
     "output_type": "stream",
     "text": [
      "1\n",
      "2\n",
      "3\n",
      "4\n",
      "5\n",
      "6\n",
      "7\n",
      "8\n",
      "9\n"
     ]
    }
   ],
   "source": [
    "nested_list = [[1, 2, 3], [4, 5, 6], [7, 8, 9]]\n",
    "\n",
    "for sublist in nested_list:\n",
    "    for item in sublist:\n",
    "        print(item)"
   ]
  },
  {
   "cell_type": "code",
   "execution_count": 24,
   "metadata": {},
   "outputs": [
    {
     "name": "stdout",
     "output_type": "stream",
     "text": [
      "1\n",
      "2\n",
      "3\n",
      "4\n",
      "5\n",
      "6\n",
      "7\n",
      "8\n"
     ]
    }
   ],
   "source": [
    "deeply_nested_list = [[[1, 2], [3, 4]], [[5, 6], [7, 8]]]\n",
    "\n",
    "for outer_list in deeply_nested_list:\n",
    "    for middle_list in outer_list:\n",
    "        for item in middle_list:\n",
    "            print(item)"
   ]
  },
  {
   "cell_type": "markdown",
   "metadata": {},
   "source": [
    "<h2 style=\"color:crimson\"> 10) Duplicate </h2>"
   ]
  },
  {
   "cell_type": "code",
   "execution_count": 25,
   "metadata": {},
   "outputs": [],
   "source": [
    "def list_duplicates(seq):\n",
    "    tally = defaultdict(list)\n",
    "    for i, item in enumerate(seq):\n",
    "        tally[item].append(i)\n",
    "    return ((key,locs) for key,locs in tally.items()) #if len(locs)>1)"
   ]
  },
  {
   "cell_type": "code",
   "execution_count": 26,
   "metadata": {},
   "outputs": [
    {
     "name": "stdout",
     "output_type": "stream",
     "text": [
      "len of listone: 4\n",
      "listone[2][0] is 5K\n",
      "type(dup) is <class 'tuple'>\n"
     ]
    }
   ],
   "source": [
    "source = ['3S','1F', '1F', '1F', '1F', '1F', '1F', '1F', '1F', '1F', '1F', '1F', '1F', '1F', '1F', '1F', '1F', '1F', '1F',\n",
    "        '1F', '1F', '1F', '1F', \n",
    "        '1F', '1F', '1F', '1F', '1F', '1F', '1F', '1F', '1F', '1F', '1F', '1F', '1F', '1F', '1F', '1F', '1F', '1F', '1F', \n",
    "        '1F', '1F', '1F', '1F', '1F', \n",
    "        '1F', '1F', '1F', '1F', '5K', '5K', '5K', '5K', '5K', '5K', '5K', '9C', '9C', '9C', '9C', '9C', '9C', '9C', '9C', \n",
    "        '9C', '9C', '9C', '9C', '9C', '9C', '9C']\n",
    "\n",
    "source_type = ['1FSUS', '1FSUS', '1FSUS', '1FSUS', '1FSUD', '1FSUD', '1FSUD', '1FSUD', '1FSUD', '1FSUD', '1FSUDT', \n",
    "            '1FSUDT', '1FSUDT', '1FSUDT', '1FSUDT', '1FCOS', '1FCOS', '1FCOS', '1FCOD', '1FCOD', '1FCOD', '1FCODT', \n",
    "            '1FCODT', '1FCODT', '1FSUCOS', '1FSUCOS', '1FSUCOS', '1FSUCOS', '1FSUCOD', '1FSUCOD', '1FSUCOD', '1FSUCOD', \n",
    "            '1FSUCOD', '1FSUCOD', '1FSUCODT', '1FSUCODT', '1FSUCODT', '1FSUCODT', '1FSUCODT', '1FSUCODT', '1FGCA', '1FGCA', \n",
    "            '1FCACO', '1FCACO', '1FCACO', '1FCACO', '1FCACOA', '1FCACOA', '1FCACOA', '1FCACOA', \n",
    "            '5KS', '5KS', '5KS', '5KS', '5KS', '5KS', '5KS', '9CNSU', '9CNSU', '9CNSU', '9CNSU', '9CNCO', '9CNSSU',\n",
    "            '9CNSSU', '9CNSSU', '9CNSSU', '9CNSSU', '9CNSSU', '9CNSSU', '9CNSSU', '9CNSSU', '9CNSSU']\n",
    "\n",
    "listone = []\n",
    "for dup in sorted(list_duplicates(source)):\n",
    "    listone.append(dup)\n",
    "\n",
    "\n",
    "print(f\"len of listone: {len(listone)}\")\n",
    "\n",
    "print(\"listone[2][0] is {}\".format(listone[2][0]))\n",
    "print(f\"type(dup) is {type(dup)}\")"
   ]
  },
  {
   "cell_type": "code",
   "execution_count": 27,
   "metadata": {},
   "outputs": [
    {
     "name": "stdout",
     "output_type": "stream",
     "text": [
      "('1F', [1, 2, 3, 4, 5, 6, 7, 8, 9, 10, 11, 12, 13, 14, 15, 16, 17, 18, 19, 20, 21, 22, 23, 24, 25, 26, 27, 28, 29, 30, 31, 32, 33, 34, 35, 36, 37, 38, 39, 40, 41, 42, 43, 44, 45, 46, 47, 48, 49, 50])\n",
      "('3S', [0])\n",
      "('5K', [51, 52, 53, 54, 55, 56, 57])\n",
      "('9C', [58, 59, 60, 61, 62, 63, 64, 65, 66, 67, 68, 69, 70, 71, 72])\n"
     ]
    }
   ],
   "source": [
    "for sublist in listone:\n",
    "    print(sublist)"
   ]
  },
  {
   "cell_type": "code",
   "execution_count": 28,
   "metadata": {},
   "outputs": [
    {
     "name": "stdout",
     "output_type": "stream",
     "text": [
      "[1F, [1, 2, 3, 4, 5, 6, 7, 8, 9, 10, 11, 12, 13, 14, 15, 16, 17, 18, 19, 20, 21, 22, 23, 24, 25, 26, 27, 28, 29, 30, 31, 32, 33, 34, 35, 36, 37, 38, 39, 40, 41, 42, 43, 44, 45, 46, 47, 48, 49, 50]]\n",
      "[3S, [0]]\n",
      "[5K, [51, 52, 53, 54, 55, 56, 57]]\n",
      "[9C, [58, 59, 60, 61, 62, 63, 64, 65, 66, 67, 68, 69, 70, 71, 72]]\n"
     ]
    }
   ],
   "source": [
    "for sublist in listone:\n",
    "    formatted = ', '.join(map(str, sublist))\n",
    "    print(f\"[{formatted}]\")"
   ]
  },
  {
   "cell_type": "code",
   "execution_count": 29,
   "metadata": {},
   "outputs": [
    {
     "data": {
      "text/plain": [
       "['1F', '5K', '3S', '9C']"
      ]
     },
     "execution_count": 29,
     "metadata": {},
     "output_type": "execute_result"
    }
   ],
   "source": [
    "s = list(set(source))\n",
    "s"
   ]
  },
  {
   "cell_type": "code",
   "execution_count": 30,
   "metadata": {},
   "outputs": [
    {
     "name": "stdout",
     "output_type": "stream",
     "text": [
      "choose_kind_type ==> 2\n",
      "kind_game is: 3S\n",
      "bb is:  [51, 52, 53, 54, 55, 56, 57]\n",
      "bb[0] ==>  51\n",
      "bb[len(bb)-1] ==>  57\n"
     ]
    }
   ],
   "source": [
    "choose_kind_type = random.randint(0, len(s)-1)\n",
    "print(\"choose_kind_type ==> {}\".format(choose_kind_type))\n",
    "kind_game = s[choose_kind_type]\n",
    "print(f\"kind_game is: {kind_game}\")\n",
    "\n",
    "bb = listone[choose_kind_type][1]\n",
    "print(\"bb is: \", bb)\n",
    "print(\"bb[0] ==> \", bb[0])\n",
    "print(\"bb[len(bb)-1] ==> \", bb[len(bb)-1])"
   ]
  },
  {
   "cell_type": "code",
   "execution_count": 31,
   "metadata": {},
   "outputs": [
    {
     "data": {
      "text/plain": [
       "['5KS', '5KS', '5KS', '5KS', '5KS', '5KS', '9CNSU']"
      ]
     },
     "execution_count": 31,
     "metadata": {},
     "output_type": "execute_result"
    }
   ],
   "source": [
    "typtype = source_type[bb[0]:bb[len(bb)-1]+1]\n",
    "typtype"
   ]
  },
  {
   "cell_type": "code",
   "execution_count": 32,
   "metadata": {},
   "outputs": [
    {
     "name": "stdout",
     "output_type": "stream",
     "text": [
      "[]\n",
      "[7, 4]\n"
     ]
    }
   ],
   "source": [
    "\"\"\" Duplicate single list with collections. \"\"\"\n",
    "a1 = [1,2,3,4]\n",
    "a2 = [1,2,3,6,7,7,4,4,4]\n",
    "b1 = [item for item, count in Counter(a1).items() if count > 1]\n",
    "b2 = [item for item, count in Counter(a2).items() if count > 1]\n",
    "print(b1)\n",
    "print(b2)"
   ]
  },
  {
   "cell_type": "markdown",
   "metadata": {},
   "source": [
    "<h2 style=\"color:crimson\"> 11) zip + map + strip + list_comprehension + insert </h2>"
   ]
  },
  {
   "cell_type": "code",
   "execution_count": 33,
   "metadata": {},
   "outputs": [],
   "source": [
    "def createList(r1, r2):\n",
    "    return [item for item in range(r1, r2+1)]\n",
    "\n",
    "with open('./data/all_questions_tuesday.txt', 'r') as f:\n",
    "    all_q = [line.strip() for line in f]\n",
    "\n",
    "r1, r2 = 1, len(all_q) \n",
    "audios = createList(r1, r2)\n",
    "audios_str = [str(i) for i in audios]"
   ]
  },
  {
   "cell_type": "code",
   "execution_count": 34,
   "metadata": {},
   "outputs": [
    {
     "data": {
      "text/plain": [
       "['Tocca insieme il pappagallo blu e il gelato giallo',\n",
       " \"Tocca nel seguente ordine l'ombrello il polipo il pappagallo il leone\",\n",
       " 'Tocca nel seguente ordine la scimmia il monopattino il gelato il polipo',\n",
       " 'Tocca insieme il monopattino blu e la bambina vestita in verde',\n",
       " \"Tocca tutti gli occhiali da sole se c'è un leone altrimenti tocca le scimmie\",\n",
       " 'Tocca le biciclette se ci sono due bambine e un paio di occhiali da sole',\n",
       " 'Tocca nel seguente ordine il leone il polipo la scimmia la bambina',\n",
       " \"Tocca tutti gli occhiali da sole se c'è un gelato altrimenti tocca i pappagalli\",\n",
       " \"Tocca in ordine il pappagallo poi il polipo poi l'ombrello\",\n",
       " 'Toccami la testa se la luce è blu altrimenti tocca la bicicletta',\n",
       " \"Tocca in ordine la bambina poi il polipo poi l'ombrello\",\n",
       " \"Tocca gli ombrelli se c'è un gelato altrimenti tocca le biciclette\",\n",
       " 'Tocca il polipo giallo e la bicicletta gialla',\n",
       " 'Tocca nel seguente ordine il monopattino il pappagallo il leone il polipo',\n",
       " \"Tocca nel seguente ordine il gelato il pappagallo l'ombrello la bicicletta\",\n",
       " \"Tocca nel seguente ordine il gelato il leone l'ombrello gli occhiali da sole\",\n",
       " \"Tocca nel seguente ordine il gelato l'ombrello gli occhiali da sole il leone\",\n",
       " 'Toccami la testa se la luce è rossa altrimenti tocca la bicicletta',\n",
       " \"Tocca i gelati se c'è un paio di occhiali da sole altrimenti tocca le scimmie\",\n",
       " 'Tocca gli ombrelli se ci sono un disegno verde e un disegno rosso']"
      ]
     },
     "execution_count": 34,
     "metadata": {},
     "output_type": "execute_result"
    }
   ],
   "source": [
    "all_q_elements = random.sample(all_q, 20)\n",
    "all_q_elements"
   ]
  },
  {
   "cell_type": "code",
   "execution_count": 35,
   "metadata": {},
   "outputs": [
    {
     "name": "stdout",
     "output_type": "stream",
     "text": [
      "['(2', '(3', '(4']\n"
     ]
    }
   ],
   "source": [
    "for i in range(len(audios_str)):\n",
    "    audios_str[i] = \"(%s\" % audios_str[i]\n",
    "\n",
    "start_index, end_index = 1, 3\n",
    "# Display only elements at index 1 and 2 (inclusive)\n",
    "pprint(audios_str[start_index:end_index + 1]) "
   ]
  },
  {
   "cell_type": "code",
   "execution_count": 76,
   "metadata": {},
   "outputs": [],
   "source": [
    "all_q_1FSUS = all_q\n",
    "\n",
    "qq1 = [a_ + \", \" + b_ for a_, b_ in zip(audios_str, all_q_1FSUS)]\n",
    "qq2 = [a + \", \" + b for a, b in zip(audios_str, all_q_1FSUS)]\n",
    "qq3 = [a + \", \" + b for a, b in zip(audios_str, all_q_1FSUS)] \n",
    "qq4 = list(map(operator.add, audios_str, all_q_1FSUS))\n",
    "qq5 = [[i] for i in audios_str]"
   ]
  },
  {
   "cell_type": "code",
   "execution_count": 79,
   "metadata": {},
   "outputs": [
    {
     "data": {
      "text/plain": [
       "['(1, Tocca il bottone rosso',\n",
       " '(2, Tocca il bottone verde',\n",
       " '(3, Tocca il bottone giallo',\n",
       " '(4, Tocca il bottone blu']"
      ]
     },
     "execution_count": 79,
     "metadata": {},
     "output_type": "execute_result"
    }
   ],
   "source": [
    "def concatenate_with_comma(a, b):\n",
    "    return f\"{a}, {b}\"\n",
    "\n",
    "qq4 = list(map(concatenate_with_comma, audios_str, all_q_1FSUS))\n",
    "qq4[:4]"
   ]
  },
  {
   "cell_type": "code",
   "execution_count": 78,
   "metadata": {},
   "outputs": [
    {
     "name": "stdout",
     "output_type": "stream",
     "text": [
      "['(1, Tocca il bottone rosso', '(2, Tocca il bottone verde', '(3, Tocca il bottone giallo', '(4, Tocca il bottone blu', '(5, Tocca le scimmie']\n",
      "\n",
      "['(11, Tocca le biciclette', '(12, Tocca i monopattini', '(13, Tocca gli ombrelli', '(14, Tocca le bambine', '(15, Tocca il bottone rosso e il bottoni verdi']\n",
      "\n",
      "['(16, Tocca il bottone rosso e il bottoni gialli', '(17, Tocca il bottone rosso e il bottoni blu', '(18, Tocca il bottone verde e il bottoni blu', '(19, Tocca il bottone verde e il bottoni gialli', '(20, Tocca il bottone gialloe il bottoni blu']\n",
      "\n",
      "['(21, Tocca i leoni e le scimmie', '(22, Tocca i leoni e i polipi', '(23, Tocca i leoni e i pappagalli', '(24, Tocca i leoni e i gelati', '(25, Tocca i leoni e tutti gli occhiali da sole']\n",
      "\n",
      "[['(26'], ['(27'], ['(28'], ['(29'], ['(30']]\n",
      "\n"
     ]
    }
   ],
   "source": [
    "\"\"\" Print part of lists exploiting the unpacking technique to avoid repetitive \"print()\"s. \"\"\"\n",
    "\n",
    "lists_and_slices = [\n",
    "    (qq1, slice(0,5)),\n",
    "    (qq2, slice(10,15)),\n",
    "    (qq3, slice(15,20)),\n",
    "    (qq4, slice(20,25)),\n",
    "    (qq5, slice(25,30))\n",
    "]\n",
    "for lst, s in lists_and_slices:\n",
    "    print(lst[s])\n",
    "    print()"
   ]
  },
  {
   "cell_type": "code",
   "execution_count": 80,
   "metadata": {},
   "outputs": [],
   "source": [
    "partial_qq1 = qq1[160:170]"
   ]
  },
  {
   "cell_type": "code",
   "execution_count": 81,
   "metadata": {},
   "outputs": [
    {
     "name": "stdout",
     "output_type": "stream",
     "text": [
      "[    '(161, Tocca il monopattino verde', '(162, Tocca il monopattino giallo',\n",
      "     '(163, Tocca il monopattino blu', \"(164, Tocca l'ombrello rosso\",\n",
      "     \"(165, Tocca l'ombrello verde\", \"(166, Tocca l'ombrello giallo\",\n",
      "     \"(167, Tocca l'ombrello blu\", '(168, Tocca la bambina vestita in rosso',\n",
      "     '(169, Tocca la bambina vestita in verde',\n",
      "     '(170, Tocca la bambina vestita in giallo']\n"
     ]
    }
   ],
   "source": [
    "pp1 = otherpprint.PrettyPrinter(indent=5, depth=2, stream=None, compact=True)\n",
    "pp1.pprint(partial_qq1)"
   ]
  },
  {
   "cell_type": "code",
   "execution_count": 82,
   "metadata": {},
   "outputs": [
    {
     "name": "stdout",
     "output_type": "stream",
     "text": [
      "['(161, Tocca il monopattino verde',\n",
      "'(162, Tocca il monopattino giallo',\n",
      "'(163, Tocca il monopattino blu',\n",
      "\"(164, Tocca l'ombrello rosso\",\n",
      "\"(165, Tocca l'ombrello verde\",\n",
      "\"(166, Tocca l'ombrello giallo\",\n",
      "\"(167, Tocca l'ombrello blu\",\n",
      "'(168, Tocca la bambina vestita in rosso',\n",
      "'(169, Tocca la bambina vestita in verde',\n",
      "'(170, Tocca la bambina vestita in giallo']\n"
     ]
    }
   ],
   "source": [
    "pp2 = otherpprint.PrettyPrinter(indent=0, depth=2, width=100)\n",
    "pp2.pprint(partial_qq1)"
   ]
  },
  {
   "cell_type": "code",
   "execution_count": 83,
   "metadata": {},
   "outputs": [
    {
     "name": "stdout",
     "output_type": "stream",
     "text": [
      "['(161, Tocca il monopattino verde', '(162, Tocca il monopattino giallo', '(163, Tocca il monopattino blu', \"(164, Tocca l'ombrello rosso\",\n",
      "\"(165, Tocca l'ombrello verde\", \"(166, Tocca l'ombrello giallo\", \"(167, Tocca l'ombrello blu\", '(168, Tocca la bambina vestita in rosso',\n",
      "'(169, Tocca la bambina vestita in verde', '(170, Tocca la bambina vestita in giallo']\n"
     ]
    }
   ],
   "source": [
    "pp3 = otherpprint.PrettyPrinter(indent=0, depth=2, compact=True, width=150)\n",
    "pp3.pprint(partial_qq1)"
   ]
  },
  {
   "cell_type": "code",
   "execution_count": 84,
   "metadata": {},
   "outputs": [
    {
     "name": "stdout",
     "output_type": "stream",
     "text": [
      "{    (    '(', '1', '6', '1', ',', ' ', 'T', 'o', 'c', 'c', 'a', ' ', 'i', 'l',\n",
      "          ' ', 'm', 'o', 'n', 'o', 'p', 'a', 't', 't', 'i', 'n', 'o', ' ', 'v',\n",
      "          'e', 'r', 'd', 'e'),\n",
      "     (    '(', '1', '6', '2', ',', ' ', 'T', 'o', 'c', 'c', 'a', ' ', 'i', 'l',\n",
      "          ' ', 'm', 'o', 'n', 'o', 'p', 'a', 't', 't', 'i', 'n', 'o', ' ', 'g',\n",
      "          'i', 'a', 'l', 'l', 'o'),\n",
      "     (    '(', '1', '6', '3', ',', ' ', 'T', 'o', 'c', 'c', 'a', ' ', 'i', 'l',\n",
      "          ' ', 'm', 'o', 'n', 'o', 'p', 'a', 't', 't', 'i', 'n', 'o', ' ', 'b',\n",
      "          'l', 'u'),\n",
      "     (    '(', '1', '6', '4', ',', ' ', 'T', 'o', 'c', 'c', 'a', ' ', 'l', \"'\",\n",
      "          'o', 'm', 'b', 'r', 'e', 'l', 'l', 'o', ' ', 'r', 'o', 's', 's',\n",
      "          'o'),\n",
      "     (    '(', '1', '6', '5', ',', ' ', 'T', 'o', 'c', 'c', 'a', ' ', 'l', \"'\",\n",
      "          'o', 'm', 'b', 'r', 'e', 'l', 'l', 'o', ' ', 'v', 'e', 'r', 'd',\n",
      "          'e'),\n",
      "     (    '(', '1', '6', '6', ',', ' ', 'T', 'o', 'c', 'c', 'a', ' ', 'l', \"'\",\n",
      "          'o', 'm', 'b', 'r', 'e', 'l', 'l', 'o', ' ', 'g', 'i', 'a', 'l', 'l',\n",
      "          'o'),\n",
      "     (    '(', '1', '6', '7', ',', ' ', 'T', 'o', 'c', 'c', 'a', ' ', 'l', \"'\",\n",
      "          'o', 'm', 'b', 'r', 'e', 'l', 'l', 'o', ' ', 'b', 'l', 'u'),\n",
      "     (    '(', '1', '6', '8', ',', ' ', 'T', 'o', 'c', 'c', 'a', ' ', 'l', 'a',\n",
      "          ' ', 'b', 'a', 'm', 'b', 'i', 'n', 'a', ' ', 'v', 'e', 's', 't', 'i',\n",
      "          't', 'a', ' ', 'i', 'n', ' ', 'r', 'o', 's', 's', 'o'),\n",
      "     (    '(', '1', '6', '9', ',', ' ', 'T', 'o', 'c', 'c', 'a', ' ', 'l', 'a',\n",
      "          ' ', 'b', 'a', 'm', 'b', 'i', 'n', 'a', ' ', 'v', 'e', 's', 't', 'i',\n",
      "          't', 'a', ' ', 'i', 'n', ' ', 'v', 'e', 'r', 'd', 'e'),\n",
      "     (    '(', '1', '7', '0', ',', ' ', 'T', 'o', 'c', 'c', 'a', ' ', 'l', 'a',\n",
      "          ' ', 'b', 'a', 'm', 'b', 'i', 'n', 'a', ' ', 'v', 'e', 's', 't', 'i',\n",
      "          't', 'a', ' ', 'i', 'n', ' ', 'g', 'i', 'a', 'l', 'l', 'o')}\n"
     ]
    }
   ],
   "source": [
    "fin = set(tuple(x) for x in partial_qq1)\n",
    "pp1.pprint(fin)"
   ]
  },
  {
   "cell_type": "markdown",
   "metadata": {},
   "source": [
    "#### => Append to each line elements from another list"
   ]
  },
  {
   "cell_type": "code",
   "execution_count": 85,
   "metadata": {},
   "outputs": [],
   "source": [
    "for i in range(len(all_q)):\n",
    "    qq5[i].append(all_q[i])\n",
    "\n",
    "for j in range(14):\n",
    "    qq5[j].insert(0, '1FSUS')\n",
    "    qq5[j].insert(0, '1F')\n",
    "\n",
    "b = 0\n",
    "for j in range(b+14, 64):\n",
    "    qq5[j].insert(0, '1FSUD')\n",
    "    qq5[j].insert(0, '1F')\n",
    "for j in range(b+64, 114):\n",
    "    qq5[j].insert(0, '1FSUDT')\n",
    "    qq5[j].insert(0, '1F')\n",
    "for j in range(b+114, 118):\n",
    "    qq5[j].insert(0, '1FCOS')\n",
    "    qq5[j].insert(0, '1F')\n",
    "for j in range(b+118, 124):\n",
    "    qq5[j].insert(0, '1FCOD')\n",
    "    qq5[j].insert(0, '1F')\n",
    "for j in range(b+124, 130):\n",
    "    qq5[j].insert(0, '1FCODT')\n",
    "    qq5[j].insert(0, '1F')\n",
    "for j in range(b+130, 170):\n",
    "    qq5[j].insert(0, '1FSUCOS')\n",
    "    qq5[j].insert(0, '1F')\n",
    "for j in range(b+170, 969):\n",
    "    qq5[j].insert(0, '1FSUCOD')\n",
    "    qq5[j].insert(0, '1F')\n",
    "for j in range(b+969, 975):\n",
    "    qq5[j].insert(0, '1FGCA')\n",
    "    qq5[j].insert(0, '1F')\n",
    "for j in range(b+975, 995):\n",
    "    qq5[j].insert(0, '1FCACO')\n",
    "    qq5[j].insert(0, '1F')\n",
    "\n",
    "for j in range(b+995, 996):\n",
    "    qq5[j].insert(0, '2LST')\n",
    "    qq5[j].insert(0, '2L')\n",
    "for j in range(b+996, 1006):\n",
    "    qq5[j].insert(0, '2LSU')\n",
    "    qq5[j].insert(0, '2L')\n",
    "for j in range(b+1006, 1007):\n",
    "    qq5[j].insert(0, '2LTWO1')\n",
    "    qq5[j].insert(0, '2L')\n",
    "for j in range(b+1007, 1008):\n",
    "    qq5[j].insert(0, '2LTWO2')\n",
    "    qq5[j].insert(0, '2L')\n",
    "for j in range(b+1008, 1048):\n",
    "    qq5[j].insert(0, '2LDSU')\n",
    "    qq5[j].insert(0, '2L')\n",
    "for j in range(b+1048, 1408):\n",
    "    qq5[j].insert(0, '2LDSUOC')\n",
    "    qq5[j].insert(0, '2L')\n",
    "for j in range(b+1408, 1488):\n",
    "    qq5[j].insert(0, '2LDBOC')\n",
    "    qq5[j].insert(0, '2L')\n",
    "for j in range(b+1488, 1568):\n",
    "    qq5[j].insert(0, '2LDSUOB')\n",
    "    qq5[j].insert(0, '2L')\n",
    "for j in range(b+1568, 1576):\n",
    "    qq5[j].insert(0, '2LDBOB')\n",
    "    qq5[j].insert(0, '2L')\n",
    "for j in range(b+1576, 2116):\n",
    "    qq5[j].insert(0, '2LDSU2')\n",
    "    qq5[j].insert(0, '2L')\n",
    "for j in range(b+2116, 2117):\n",
    "    qq5[j].insert(0, '3SSU')\n",
    "    qq5[j].insert(0, '3S')\n",
    "for j in range(b+2117, 2118):\n",
    "    qq5[j].insert(0, '3SCO')\n",
    "    qq5[j].insert(0, '3S')\n",
    "\n",
    "for j in range(b+2118, 2138):\n",
    "    qq5[j].insert(0, '4PSU')\n",
    "    qq5[j].insert(0, '4P')\n",
    "for j in range(b+2138, 2142):\n",
    "    qq5[j].insert(0, '4PCO')\n",
    "    qq5[j].insert(0, '4P')\n",
    "\n",
    "for j in range(b+2142, 2149):\n",
    "    qq5[j].insert(0, '5KS')\n",
    "    qq5[j].insert(0, '5K')\n",
    "for j in range(b+2149, 2172):\n",
    "    qq5[j].insert(0, '5KD')\n",
    "    qq5[j].insert(0, '5K')\n",
    "\n",
    "for j in range(b+2172, 2173):\n",
    "    qq5[j].insert(0, '6I')\n",
    "    qq5[j].insert(0, '6I')\n",
    "\n",
    "for j in range(b+2173, 2263):\n",
    "    qq5[j].insert(0, '7OSU2')\n",
    "    qq5[j].insert(0, '7O')\n",
    "for j in range(b+2263, 2983):\n",
    "    qq5[j].insert(0, '7OSU3')\n",
    "    qq5[j].insert(0, '7O')\n",
    "for j in range(b+2983, 8022):\n",
    "    qq5[j].insert(0, '7OSU4')\n",
    "    qq5[j].insert(0, '7O')\n",
    "for j in range(b+8022, 8034):\n",
    "    qq5[j].insert(0, '7OCO2')\n",
    "    qq5[j].insert(0, '7O')\n",
    "for j in range(b+8034, 8058):\n",
    "    qq5[j].insert(0, '7OCO3')\n",
    "    qq5[j].insert(0, '7O')\n",
    "for j in range(b+8058, 8082):\n",
    "    qq5[j].insert(0, '7OCO4')\n",
    "    qq5[j].insert(0, '7O')\n",
    "for j in range(b+8082, 8083):\n",
    "    qq5[j].insert(0, '7OL2')\n",
    "    qq5[j].insert(0, '7O')\n",
    "for j in range(b+8083, 8084):\n",
    "    qq5[j].insert(0, '7OL3')\n",
    "    qq5[j].insert(0, '7O')\n",
    "\n",
    "for j in range(b+8084, 8174):\n",
    "    qq5[j].insert(0, '8QTSUSC1')\n",
    "    qq5[j].insert(0, '8Q')\n",
    "for j in range(b+8174, 8264):\n",
    "    qq5[j].insert(0, '8QTSUSC2')\n",
    "    qq5[j].insert(0, '8Q')\n",
    "for j in range(b+8264, 8304):\n",
    "    qq5[j].insert(0, '8QTCOSC1')\n",
    "    qq5[j].insert(0, '8Q')\n",
    "for j in range(b+8304, 8344):\n",
    "    qq5[j].insert(0, '8QTCOSC2')\n",
    "    qq5[j].insert(0, '8Q')\n",
    "for j in range(b+8344, 8584):\n",
    "    qq5[j].insert(0, '8QTKNSC')\n",
    "    qq5[j].insert(0, '8Q')\n",
    "for j in range(b+8584, 8764):\n",
    "    qq5[j].insert(0, '8QTPRSC')\n",
    "    qq5[j].insert(0, '8Q')\n",
    "for j in range(b+8764, 9124):\n",
    "    qq5[j].insert(0, '8QTSUDC1')\n",
    "    qq5[j].insert(0, '8Q')\n",
    "for j in range(b+9124, 9844):\n",
    "    qq5[j].insert(0, '8QTSUDC2')\n",
    "    qq5[j].insert(0, '8Q')\n",
    "for j in range(b+9844, 9904):\n",
    "    qq5[j].insert(0, '8QTCODC1')\n",
    "    qq5[j].insert(0, '8Q')\n",
    "for j in range(b+9904, 9964):\n",
    "    qq5[j].insert(0, '8QTCODC2')\n",
    "    qq5[j].insert(0, '8Q')\n",
    "for j in range(b+9964, 9974):\n",
    "    qq5[j].insert(0, '8QTSUSB1')\n",
    "    qq5[j].insert(0, '8Q')\n",
    "for j in range(b+9974, 9984):\n",
    "    qq5[j].insert(0, '8QTSUSB2')\n",
    "    qq5[j].insert(0, '8Q')\n",
    "for j in range(b+9984, 9988):\n",
    "    qq5[j].insert(0, '8QTCOSB1')\n",
    "    qq5[j].insert(0, '8Q')\n",
    "for j in range(b+9988, 9992):\n",
    "    qq5[j].insert(0, '8QTCOSB2')\n",
    "    qq5[j].insert(0, '8Q')\n",
    "for j in range(b+9992, 10016):\n",
    "    qq5[j].insert(0, '8QTKNSB')\n",
    "    qq5[j].insert(0, '8Q')\n",
    "for j in range(b+10016, 10036):\n",
    "    qq5[j].insert(0, '8QTPRSB')\n",
    "    qq5[j].insert(0, '8Q')\n",
    "for j in range(b+10036, 10080):\n",
    "    qq5[j].insert(0, '8QTSUDB1')\n",
    "    qq5[j].insert(0, '8Q')\n",
    "for j in range(b+10080, 10161):\n",
    "    qq5[j].insert(0, '8QTSUDB2')\n",
    "    qq5[j].insert(0, '8Q')\n",
    "for j in range(b+10161, 10167):\n",
    "    qq5[j].insert(0, '8QTCODB1')\n",
    "    qq5[j].insert(0, '8Q')\n",
    "for j in range(b+10167, 10179):\n",
    "    qq5[j].insert(0, '8QTCODB2')\n",
    "    qq5[j].insert(0, '8Q')\n",
    "for j in range(b+10179, 10894):\n",
    "    qq5[j].insert(0, '8QTSUSCOC1')\n",
    "    qq5[j].insert(0, '8Q')\n",
    "\n",
    "for j in range(b+10894, 10946):\n",
    "    qq5[j].insert(0, '9CNSU')\n",
    "    qq5[j].insert(0, '9C')\n",
    "for j in range(b+10946, 11108):\n",
    "    qq5[j].insert(0, '9CNCO')\n",
    "    qq5[j].insert(0, '9C')\n",
    "for j in range(b+10958, 10988):\n",
    "    qq5[j].insert(0, '9CNSSU')\n",
    "    qq5[j].insert(0, '9C')\n",
    "for j in range(b+10988, 11108):\n",
    "    qq5[j].insert(0, '9CNSPA')\n",
    "    qq5[j].insert(0, '9C')\n",
    "for j in range(b+11108, 11124):\n",
    "    qq5[j].insert(0, '9CNSPX')\n",
    "    qq5[j].insert(0, '9C')"
   ]
  },
  {
   "cell_type": "code",
   "execution_count": 86,
   "metadata": {},
   "outputs": [
    {
     "name": "stdout",
     "output_type": "stream",
     "text": [
      "[['1F', '1FSUS', '(1', 'Tocca il bottone rosso'], ['1F', '1FSUS', '(2', 'Tocca il bottone verde'], ['1F', '1FSUS', '(3', 'Tocca il bottone giallo'], ['1F', '1FSUS', '(4', 'Tocca il bottone blu'], ['1F', '1FSUS', '(5', 'Tocca le scimmie'],\n",
      "['1F', '1FSUS', '(6', 'Tocca i leoni'], ['1F', '1FSUS', '(7', 'Tocca i pappagalli'], ['1F', '1FSUS', '(8', 'Tocca i polipi'], ['1F', '1FSUS', '(9', 'Tocca i gelati'], ['1F', '1FSUS', '(10', 'Tocca i paia di occhiali da sole'],\n",
      "['1F', '1FSUS', '(11', 'Tocca le biciclette'], ['1F', '1FSUS', '(12', 'Tocca i monopattini'], ['1F', '1FSUS', '(13', 'Tocca gli ombrelli'], ['1F', '1FSUS', '(14', 'Tocca le bambine'],\n",
      "['1F', '1FSUD', '(15', 'Tocca il bottone rosso e il bottoni verdi'], ['1F', '1FSUD', '(16', 'Tocca il bottone rosso e il bottoni gialli'], ['1F', '1FSUD', '(17', 'Tocca il bottone rosso e il bottoni blu'],\n",
      "['1F', '1FSUD', '(18', 'Tocca il bottone verde e il bottoni blu'], ['1F', '1FSUD', '(19', 'Tocca il bottone verde e il bottoni gialli'], ['1F', '1FSUD', '(20', 'Tocca il bottone gialloe il bottoni blu']]\n"
     ]
    }
   ],
   "source": [
    "pp5 = otherpprint.PrettyPrinter(indent=0, depth=4, compact=True, width=250)\n",
    "pp5.pprint(qq5[:20])"
   ]
  },
  {
   "cell_type": "code",
   "execution_count": 90,
   "metadata": {},
   "outputs": [],
   "source": [
    "# Write to csv (list)\n",
    "with open('output_test_1.csv', 'w', newline='') as file:\n",
    "    writer = csv.writer(file)\n",
    "    for item in qq1:\n",
    "        writer.writerow([item])"
   ]
  },
  {
   "cell_type": "code",
   "execution_count": 91,
   "metadata": {},
   "outputs": [],
   "source": [
    "# Write to csv (list of list)\n",
    "with open('output_test_2.csv', 'w', newline='') as file:\n",
    "    writer = csv.writer(file)\n",
    "    writer.writerows(nested_list)"
   ]
  },
  {
   "cell_type": "code",
   "execution_count": 93,
   "metadata": {},
   "outputs": [],
   "source": [
    "\"\"\" Write to csv (PrettyPrinter obj). \"\"\"\n",
    "# Capture the output of PrettyPrinter\n",
    "output = io.StringIO()\n",
    "pp5 = otherpprint.PrettyPrinter(indent=0, depth=4, compact=True, width=250, stream=output)\n",
    "# Print the content of qq5 using PrettyPrinter to the StringIO stream\n",
    "pp5.pprint(qq5[:20])\n",
    "\n",
    "# Reset the position of output stream to the beginning\n",
    "output.seek(0)\n",
    "\n",
    "# Open target CSV file in write mod\n",
    "with open('output_pprint_test.csv', 'w', newline='') as csvfile:\n",
    "    writer = csv.writer(csvfile)\n",
    "    # Write the single string as a single row\n",
    "    writer.writerow([output.read()])\n",
    "\n",
    "# Close the StringIO stream\n",
    "output.close()"
   ]
  }
 ],
 "metadata": {
  "kernelspec": {
   "display_name": "MLearning",
   "language": "python",
   "name": "python3"
  },
  "language_info": {
   "codemirror_mode": {
    "name": "ipython",
    "version": 3
   },
   "file_extension": ".py",
   "mimetype": "text/x-python",
   "name": "python",
   "nbconvert_exporter": "python",
   "pygments_lexer": "ipython3",
   "version": "3.10.9"
  },
  "orig_nbformat": 4
 },
 "nbformat": 4,
 "nbformat_minor": 2
}
