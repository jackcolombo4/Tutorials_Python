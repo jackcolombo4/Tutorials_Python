{
 "cells": [
  {
   "attachments": {},
   "cell_type": "markdown",
   "metadata": {},
   "source": [
    "<div style=\"line-height:0.5\">\n",
    "<h1 style=\"color:slateblue\"> Dictionaries in Python </h1>\n",
    "<span style=\"display: inline-block;\">\n",
    "    <h3 style=\"color: lightblue; display: inline;\">Keywords:</h3> dict comprehension + json dumps() + zip + print dict +  generator expression + pprint\n",
    "</span>\n",
    "</div>"
   ]
  },
  {
   "cell_type": "code",
   "execution_count": 95,
   "metadata": {},
   "outputs": [],
   "source": [
    "import re\n",
    "import sys\n",
    "import json \n",
    "import copy\n",
    "import random\n",
    "from pprint import pprint"
   ]
  },
  {
   "cell_type": "markdown",
   "metadata": {},
   "source": [
    "<h2 style=\"color:slateblue\"> <u> Example #0 </u> </h2>\n",
    "Various tips"
   ]
  },
  {
   "cell_type": "code",
   "execution_count": 96,
   "metadata": {},
   "outputs": [
    {
     "name": "stdout",
     "output_type": "stream",
     "text": [
      "{'ciao': 'happy', 'addio': 'angry', 'arrivederci': 'polite'}\n",
      "<class 'dict'>\n",
      "None\n",
      "dict_keys(['ciao', 'addio', 'arrivederci'])\n",
      "dict_values(['happy', 'angry', 'polite'])\n",
      "happy\n",
      "happy\n"
     ]
    }
   ],
   "source": [
    "ddd = {'ciao':'happy', 'addio':'angry', 'arrivederci':'polite'}\n",
    "print(ddd)\n",
    "print(print(type(ddd)))\n",
    "print(ddd.keys())\n",
    "print(ddd.values())\n",
    "print(ddd['ciao'])\n",
    "print(ddd.get('ciao'))"
   ]
  },
  {
   "cell_type": "code",
   "execution_count": 3,
   "metadata": {},
   "outputs": [
    {
     "data": {
      "text/plain": [
       "{'ciao': 'happy', 'addio': 'angry', 'arrivederci': 'polite', 'new': 1}"
      ]
     },
     "execution_count": 3,
     "metadata": {},
     "output_type": "execute_result"
    }
   ],
   "source": [
    "ddd['new'] = 1\n",
    "ddd"
   ]
  },
  {
   "cell_type": "code",
   "execution_count": 5,
   "metadata": {},
   "outputs": [
    {
     "data": {
      "text/plain": [
       "1"
      ]
     },
     "execution_count": 5,
     "metadata": {},
     "output_type": "execute_result"
    }
   ],
   "source": [
    "returned = ddd['new']\n",
    "returned"
   ]
  },
  {
   "cell_type": "code",
   "execution_count": 97,
   "metadata": {},
   "outputs": [
    {
     "name": "stdout",
     "output_type": "stream",
     "text": [
      "('b', 2)\n"
     ]
    }
   ],
   "source": [
    "my_dict = {'a': 1, 'b': 2, 'c': 3}\n",
    "items = list(my_dict.items())\n",
    "print(items[1])"
   ]
  },
  {
   "cell_type": "code",
   "execution_count": 98,
   "metadata": {},
   "outputs": [
    {
     "name": "stdout",
     "output_type": "stream",
     "text": [
      "{'k': 1, 'i': 1, 'y': 1, 'e': 2, 'n': 1, 's': 1, 'a': 2, 'l': 2, 'c': 1, 'o': 1, 'h': 1, ' ': 4, 'm': 2, 'J': 1}\n",
      "<class 'dict'>\n"
     ]
    }
   ],
   "source": [
    "sentence = \"hello my name is Jack\"\n",
    "x2 = {char: sentence.count(char) for char in set(sentence)}\n",
    "print(x2)\n",
    "print(x2.__class__)"
   ]
  },
  {
   "cell_type": "code",
   "execution_count": 99,
   "metadata": {},
   "outputs": [
    {
     "data": {
      "text/plain": [
       "dict"
      ]
     },
     "execution_count": 99,
     "metadata": {},
     "output_type": "execute_result"
    }
   ],
   "source": [
    "type(x2)"
   ]
  },
  {
   "cell_type": "code",
   "execution_count": 100,
   "metadata": {},
   "outputs": [
    {
     "name": "stdout",
     "output_type": "stream",
     "text": [
      "dict_keys(['k', 'i', 'y', 'e', 'n', 's', 'a', 'l', 'c', 'o', 'h', ' ', 'm', 'J'])\n",
      "dict_items([('k', 1), ('i', 1), ('y', 1), ('e', 2), ('n', 1), ('s', 1), ('a', 2), ('l', 2), ('c', 1), ('o', 1), ('h', 1), (' ', 4), ('m', 2), ('J', 1)])\n"
     ]
    }
   ],
   "source": [
    "print(x2.keys())\n",
    "print(x2.items())"
   ]
  },
  {
   "cell_type": "code",
   "execution_count": 101,
   "metadata": {},
   "outputs": [
    {
     "data": {
      "text/plain": [
       "(2, 1)"
      ]
     },
     "execution_count": 101,
     "metadata": {},
     "output_type": "execute_result"
    }
   ],
   "source": [
    "x2.get('l'), x2.get('k')"
   ]
  },
  {
   "cell_type": "code",
   "execution_count": 102,
   "metadata": {},
   "outputs": [
    {
     "name": "stdout",
     "output_type": "stream",
     "text": [
      "dict_values([1, 1, 1, 2, 1, 1, 2, 2, 1, 1, 1, 4, 2, 1])\n"
     ]
    }
   ],
   "source": [
    "print(x2.values())"
   ]
  },
  {
   "cell_type": "code",
   "execution_count": 103,
   "metadata": {},
   "outputs": [
    {
     "name": "stdout",
     "output_type": "stream",
     "text": [
      "{'k': 1, 'i': 1, 'y': 1, 'e': 2, 'n': 1, 's': 1, 'a': 2, 'l': 2, 'c': 1, 'o': 1, 'h': 1, ' ': 4, 'm': 6, 'J': 1}\n",
      "{}\n"
     ]
    }
   ],
   "source": [
    "x2.__setitem__('m',6)\n",
    "print(x2)\n",
    "x2.clear()\n",
    "print(x2)"
   ]
  },
  {
   "cell_type": "code",
   "execution_count": 104,
   "metadata": {},
   "outputs": [],
   "source": [
    "def fun1(*args):\n",
    "    print(args)\n",
    "    print(*args)\n",
    "\n",
    "def fun2(**kwargs):\n",
    "    print(kwargs)\n",
    "    for key, value in kwargs.items():\n",
    "        print(f\"{key}: {value}\")"
   ]
  },
  {
   "cell_type": "code",
   "execution_count": 105,
   "metadata": {},
   "outputs": [
    {
     "data": {
      "text/plain": [
       "([0, 1, 2, 3, 4, 5, 6, 7, 8, 9], {'primo': 1, 'secondo': 2, 'terzo': 3})"
      ]
     },
     "execution_count": 105,
     "metadata": {},
     "output_type": "execute_result"
    }
   ],
   "source": [
    "lis = [ _ for _ in range(10)]\n",
    "dica = {'primo':1,'secondo':2,'terzo':3}\n",
    "\n",
    "lis, dica"
   ]
  },
  {
   "cell_type": "code",
   "execution_count": 106,
   "metadata": {},
   "outputs": [
    {
     "name": "stdout",
     "output_type": "stream",
     "text": [
      "extern!\n",
      "([0, 1, 2, 3, 4, 5, 6, 7, 8, 9],)\n",
      "[0, 1, 2, 3, 4, 5, 6, 7, 8, 9]\n",
      "ok inside!\n",
      "(0, 1, 2, 3, 4, 5, 6, 7, 8, 9)\n",
      "0 1 2 3 4 5 6 7 8 9\n"
     ]
    }
   ],
   "source": [
    "print(\"extern!\")\n",
    "fun1(lis) \n",
    "print(\"ok inside!\")\n",
    "fun1(*lis)"
   ]
  },
  {
   "cell_type": "code",
   "execution_count": 107,
   "metadata": {},
   "outputs": [
    {
     "name": "stdout",
     "output_type": "stream",
     "text": [
      "{'primo': 1, 'secondo': 2, 'terzo': 3}\n",
      "primo: 1\n",
      "secondo: 2\n",
      "terzo: 3\n"
     ]
    }
   ],
   "source": [
    "fun2(**dica)"
   ]
  },
  {
   "cell_type": "markdown",
   "metadata": {},
   "source": [
    "<h2 style=\"color:slateblue\"> <u> Example #1 </u> </h2>"
   ]
  },
  {
   "cell_type": "code",
   "execution_count": 108,
   "metadata": {},
   "outputs": [
    {
     "name": "stdout",
     "output_type": "stream",
     "text": [
      "New York\n",
      "List of keys:\n",
      "['city',\n",
      " 'jam_level',\n",
      " 'road_name',\n",
      " 'cause',\n",
      " 'duration_minutes',\n",
      " 'detour_available',\n",
      " 'police_involved',\n",
      " 'reported_by',\n",
      " 'timestamp',\n",
      " 'comments']\n",
      "\n",
      "List of values:\n",
      "['New York', 'High', 'Broadway', 'Accident', 45, True, False, 'User123', '2023-09-11 14:30:00', ['Avoid this route!', 'Traffic is terrible.']]\n"
     ]
    }
   ],
   "source": [
    "traffic_info = {\n",
    "    \"city\": \"New York\",\n",
    "    \"jam_level\": \"High\",\n",
    "    \"road_name\": \"Broadway\",\n",
    "    \"cause\": \"Accident\",\n",
    "    \"duration_minutes\": 45,\n",
    "    \"detour_available\": True,\n",
    "    \"police_involved\": False,\n",
    "    \"reported_by\": \"User123\",\n",
    "    \"timestamp\": \"2023-09-11 14:30:00\",\n",
    "    \"comments\": [\"Avoid this route!\", \"Traffic is terrible.\"]\n",
    "}\n",
    "\n",
    "print(traffic_info[\"city\"])\n",
    "print(\"List of keys:\")\n",
    "pprint(list(traffic_info.keys()))\n",
    "print(\"\\nList of values:\")\n",
    "print(list(traffic_info.values()))"
   ]
  },
  {
   "cell_type": "code",
   "execution_count": 109,
   "metadata": {},
   "outputs": [
    {
     "data": {
      "text/plain": [
       "True"
      ]
     },
     "execution_count": 109,
     "metadata": {},
     "output_type": "execute_result"
    }
   ],
   "source": [
    "\"\"\" Check key existance \"\"\"\n",
    "\"cause\" in traffic_info"
   ]
  },
  {
   "cell_type": "code",
   "execution_count": 110,
   "metadata": {},
   "outputs": [
    {
     "name": "stdout",
     "output_type": "stream",
     "text": [
      "{'city': 'New York', 'jam_level': 'High', 'road_name': 'Broadway', 'cause': 'Accident', 'duration_minutes': 45, 'detour_available': True, 'police_involved': False, 'reported_by': 'User123', 'timestamp': '2023-09-11 14:30:00', 'comments': ['Avoid this route!', 'Traffic is terrible.'], 'weather': 'Rainy'}\n"
     ]
    }
   ],
   "source": [
    "# Add a new key-value pair\n",
    "traffic_info[\"weather\"] = \"Rainy\"\n",
    "print(traffic_info)"
   ]
  },
  {
   "cell_type": "code",
   "execution_count": 111,
   "metadata": {},
   "outputs": [
    {
     "name": "stdout",
     "output_type": "stream",
     "text": [
      "\n",
      "After removal:\n",
      "{\n",
      "    \"city\": \"New York\",\n",
      "    \"jam_level\": \"High\",\n",
      "    \"road_name\": \"Broadway\",\n",
      "    \"cause\": \"Accident\",\n",
      "    \"duration_minutes\": 45,\n",
      "    \"detour_available\": true,\n",
      "    \"reported_by\": \"User123\",\n",
      "    \"timestamp\": \"2023-09-11 14:30:00\",\n",
      "    \"comments\": [\n",
      "        \"Avoid this route!\",\n",
      "        \"Traffic is terrible.\"\n",
      "    ],\n",
      "    \"weather\": \"Rainy\"\n",
      "}\n",
      "Removed item: Accident\n",
      "{\n",
      "    \"city\": \"New York\",\n",
      "    \"jam_level\": \"High\",\n",
      "    \"road_name\": \"Broadway\",\n",
      "    \"duration_minutes\": 45,\n",
      "    \"detour_available\": true,\n",
      "    \"reported_by\": \"User123\",\n",
      "    \"timestamp\": \"2023-09-11 14:30:00\",\n",
      "    \"comments\": [\n",
      "        \"Avoid this route!\",\n",
      "        \"Traffic is terrible.\"\n",
      "    ],\n",
      "    \"weather\": \"Rainy\"\n",
      "}\n"
     ]
    }
   ],
   "source": [
    "# Remove a key-value pair\n",
    "del traffic_info[\"police_involved\"]\n",
    "print()\n",
    "print(\"After removal:\")\n",
    "print(json.dumps(traffic_info, indent=4))\n",
    "\n",
    "# Remove and return a key-value pair\n",
    "removed_item = traffic_info.pop(\"cause\")\n",
    "print(f\"Removed item: {removed_item}\")\n",
    "print(json.dumps(traffic_info, indent=4))\n"
   ]
  },
  {
   "cell_type": "code",
   "execution_count": 112,
   "metadata": {},
   "outputs": [
    {
     "name": "stdout",
     "output_type": "stream",
     "text": [
      "city: New York\n",
      "jam_level: High\n",
      "road_name: Broadway\n",
      "duration_minutes: 45\n",
      "detour_available: True\n",
      "reported_by: User123\n",
      "timestamp: 2023-09-11 14:30:00\n",
      "comments: ['Avoid this route!', 'Traffic is terrible.']\n",
      "weather: Rainy\n",
      "9\n",
      "{}\n"
     ]
    }
   ],
   "source": [
    "copy_traffic_info = traffic_info.copy()\n",
    "[print(f\"{key}: {value}\") for key, value in copy_traffic_info.items()]\n",
    "\n",
    "# Length of the dictionary (number of key-value pairs)\n",
    "print(len(copy_traffic_info))\n",
    "\n",
    "# Clear all key-value pairs from the dictionary\n",
    "copy_traffic_info.clear()\n",
    "print(copy_traffic_info)"
   ]
  },
  {
   "cell_type": "code",
   "execution_count": 113,
   "metadata": {},
   "outputs": [
    {
     "name": "stdout",
     "output_type": "stream",
     "text": [
      "Duration: 45 minutes\n"
     ]
    }
   ],
   "source": [
    "# Get a a key, specifying the default value if the key doesn't exist\n",
    "duration = traffic_info.get(\"duration_minutes\", 0)\n",
    "print(f\"Duration: {duration} minutes\")"
   ]
  },
  {
   "cell_type": "code",
   "execution_count": 114,
   "metadata": {},
   "outputs": [
    {
     "name": "stdout",
     "output_type": "stream",
     "text": [
      "Items:\n",
      "[('city', 'New York'),\n",
      " ('jam_level', 'High'),\n",
      " ('road_name', 'Broadway'),\n",
      " ('duration_minutes', 45),\n",
      " ('detour_available', True),\n",
      " ('reported_by', 'User123'),\n",
      " ('timestamp', '2023-09-11 14:30:00'),\n",
      " ('comments', ['Avoid this route!', 'Traffic is terrible.']),\n",
      " ('weather', 'Rainy')]\n",
      "Keys:\n",
      "['city',\n",
      " 'jam_level',\n",
      " 'road_name',\n",
      " 'duration_minutes',\n",
      " 'detour_available',\n",
      " 'reported_by',\n",
      " 'timestamp',\n",
      " 'comments',\n",
      " 'weather']\n",
      "Values:\n",
      "['New York',\n",
      " 'High',\n",
      " 'Broadway',\n",
      " 45,\n",
      " True,\n",
      " 'User123',\n",
      " '2023-09-11 14:30:00',\n",
      " ['Avoid this route!', 'Traffic is terrible.'],\n",
      " 'Rainy']\n"
     ]
    }
   ],
   "source": [
    "# List of key-value pairs as tuples\n",
    "items = traffic_info.items()\n",
    "print(\"Items:\")\n",
    "pprint(list(items))\n",
    "\n",
    "# List of keys as a view object\n",
    "keys = traffic_info.keys()\n",
    "print(\"Keys:\")\n",
    "pprint(list(keys))\n",
    "# List of values as a view object\n",
    "values = traffic_info.values()\n",
    "print(\"Values:\")\n",
    "pprint(list(values))"
   ]
  },
  {
   "cell_type": "code",
   "execution_count": 115,
   "metadata": {},
   "outputs": [
    {
     "name": "stdout",
     "output_type": "stream",
     "text": [
      "city: New York\n",
      "jam_level: High\n",
      "road_name: Broadway\n",
      "duration_minutes: 45\n",
      "detour_available: False\n",
      "reported_by: User123\n",
      "timestamp: 2023-09-11 14:30:00\n",
      "comments: ['Avoid this route!', 'Traffic is terrible.']\n",
      "weather: Rainy\n",
      "cause: Construction\n"
     ]
    }
   ],
   "source": [
    "# Update with another dictionary\n",
    "update_info = {\"detour_available\": False, \"cause\": \"Construction\"}\n",
    "traffic_info.update(update_info)\n",
    "\n",
    "for key, value in traffic_info.items():\n",
    "    print(f\"{key}: {value}\")"
   ]
  },
  {
   "cell_type": "markdown",
   "metadata": {},
   "source": [
    "<h2 style=\"color:slateblue\"> <u> Example #2 </u> </h2>\n",
    "Deal with a dictionary of lists"
   ]
  },
  {
   "cell_type": "code",
   "execution_count": 116,
   "metadata": {},
   "outputs": [
    {
     "name": "stdout",
     "output_type": "stream",
     "text": [
      "Specific value by key:\n",
      "New York\n",
      "List of keys:\n",
      "['city', 'jam_level', 'road_name', 'cause', 'duration_minutes', 'detour_available', 'police_involved', 'reported_by', 'timestamp', 'comments']\n",
      "List of values:\n",
      "['New York', 'Los Angeles', 'Chicago', 'Houston', 'Miami', 'San Francisco']\n"
     ]
    }
   ],
   "source": [
    "traffic_info_complete = {\n",
    "    \"city\": [\"New York\", \"Los Angeles\", \"Chicago\", \"Houston\", \"Miami\", \"San Francisco\"],\n",
    "    \"jam_level\": [\"High\", \"Medium\", \"Low\", \"High\", \"Medium\", \"Low\"],\n",
    "    \"road_name\": [\"Broadway\", \"Sunset Blvd\", \"Lake Shore Dr\", \"I-610\", \"Ocean Drive\", \"Market St\"],\n",
    "    \"cause\": [\"Accident\", \"Construction\", \"Heavy Rain\", \"Car Breakdown\", \"Road Closure\", \"Traffic Signal\"],\n",
    "    \"duration_minutes\": [45, 30, 15, 60, 25, 10],\n",
    "    \"detour_available\": [True, False, True, True, False, True],\n",
    "    \"police_involved\": [False, False, True, False, False, True],\n",
    "    \"reported_by\": [\"User123\", \"User456\", \"User789\", \"User101\", \"User202\", \"User303\"],\n",
    "    \"timestamp\": [\"2023-09-11 14:30:00\", \"2023-09-11 14:45:00\", \"2023-09-11 15:00:00\", \"2023-09-11 15:15:00\", \n",
    "                \"2023-09-11 15:30:00\", \"2023-09-11 15:45:00\"],\n",
    "    \"comments\": [[\"Avoid this route!\", \"Traffic is terrible.\"],\n",
    "                [\"Use alternate route.\", \"Expect delays.\"],\n",
    "                [\"Drive carefully in rain.\", \"Traffic is slow.\"],\n",
    "                [\"Check for updates.\", \"Expect delays.\"],\n",
    "                [\"Plan ahead.\", \"Avoid this area.\"],\n",
    "                [\"Obey traffic signals.\", \"Traffic is light.\"]]\n",
    "}\n",
    "\n",
    "print(\"Specific value by key:\")\n",
    "print(traffic_info_complete[\"city\"][0])\n",
    "print(\"List of keys:\")\n",
    "print(list(traffic_info_complete.keys()))\n",
    "print(\"List of values:\")\n",
    "print(list(traffic_info_complete.values())[0])"
   ]
  },
  {
   "cell_type": "code",
   "execution_count": 117,
   "metadata": {},
   "outputs": [
    {
     "data": {
      "text/plain": [
       "True"
      ]
     },
     "execution_count": 117,
     "metadata": {},
     "output_type": "execute_result"
    }
   ],
   "source": [
    "# Check key existance (same as before)\n",
    "\"cause\" in traffic_info_complete"
   ]
  },
  {
   "cell_type": "code",
   "execution_count": 118,
   "metadata": {},
   "outputs": [
    {
     "name": "stdout",
     "output_type": "stream",
     "text": [
      "city: ['New York', 'Los Angeles', 'Chicago', 'Houston', 'Miami', 'San Francisco']\n",
      "\n",
      "jam_level: ['High', 'Medium', 'Low', 'High', 'Medium', 'Low']\n",
      "\n",
      "road_name: ['Broadway', 'Sunset Blvd', 'Lake Shore Dr', 'I-610', 'Ocean Drive', 'Market St']\n",
      "\n",
      "cause: ['Accident', 'Construction', 'Heavy Rain', 'Car Breakdown', 'Road Closure', 'Traffic Signal']\n",
      "\n",
      "duration_minutes: [45, 30, 15, 60, 25, 10]\n",
      "\n",
      "detour_available: [True, False, True, True, False, True]\n",
      "\n",
      "police_involved: [False, False, True, False, False, True]\n",
      "\n",
      "reported_by: ['User123', 'User456', 'User789', 'User101', 'User202', 'User303']\n",
      "\n",
      "timestamp: ['2023-09-11 14:30:00', '2023-09-11 14:45:00', '2023-09-11 15:00:00', '2023-09-11 15:15:00', '2023-09-11 15:30:00', '2023-09-11 15:45:00']\n",
      "\n",
      "comments: [['Avoid this route!', 'Traffic is terrible.'], ['Use alternate route.', 'Expect delays.'], ['Drive carefully in rain.', 'Traffic is slow.'], ['Check for updates.', 'Expect delays.'], ['Plan ahead.', 'Avoid this area.'], ['Obey traffic signals.', 'Traffic is light.']]\n",
      "\n",
      "weather: ['Rainy', 'Sunny', 'Cloudy', 'Clear', 'Stormy', 'Foggy']\n",
      "\n"
     ]
    }
   ],
   "source": [
    "# Add a new value to a list\n",
    "traffic_info_complete[\"weather\"] = [\"Rainy\", \"Sunny\", \"Cloudy\", \"Clear\", \"Stormy\", \"Foggy\"]\n",
    "\n",
    "for key, value in traffic_info_complete.items():\n",
    "    print(f\"{key}: {value}\\n\")"
   ]
  },
  {
   "cell_type": "code",
   "execution_count": 119,
   "metadata": {},
   "outputs": [
    {
     "name": "stdout",
     "output_type": "stream",
     "text": [
      "city: ['New York', 'Los Angeles', 'Chicago', 'Houston', 'Miami', 'San Francisco']\n",
      "jam_level: ['High', 'Medium', 'Low', 'High', 'Medium', 'Low']\n",
      "road_name: ['Broadway', 'Sunset Blvd', 'Lake Shore Dr', 'I-610', 'Ocean Drive', 'Market St']\n",
      "cause: ['Accident', 'Construction', 'Heavy Rain', 'Car Breakdown', 'Road Closure', 'Traffic Signal']\n",
      "duration_minutes: [45, 30, 15, 60, 25, 10]\n",
      "detour_available: [True, False, True, True, False, True]\n",
      "police_involved: [False, False, False, False, True]\n",
      "reported_by: ['User123', 'User456', 'User789', 'User101', 'User202', 'User303']\n",
      "timestamp: ['2023-09-11 14:30:00', '2023-09-11 14:45:00', '2023-09-11 15:00:00', '2023-09-11 15:15:00', '2023-09-11 15:30:00', '2023-09-11 15:45:00']\n",
      "comments: [['Avoid this route!', 'Traffic is terrible.'], ['Use alternate route.', 'Expect delays.'], ['Drive carefully in rain.', 'Traffic is slow.'], ['Check for updates.', 'Expect delays.'], ['Plan ahead.', 'Avoid this area.'], ['Obey traffic signals.', 'Traffic is light.']]\n",
      "weather: ['Rainy', 'Sunny', 'Cloudy', 'Clear', 'Stormy', 'Foggy']\n"
     ]
    }
   ],
   "source": [
    "# Remove a value from a list\n",
    "del traffic_info_complete[\"police_involved\"][2]\n",
    "\n",
    "for key, value in traffic_info_complete.items():\n",
    "    print(f\"{key}: {value}\")"
   ]
  },
  {
   "cell_type": "code",
   "execution_count": 120,
   "metadata": {},
   "outputs": [
    {
     "name": "stdout",
     "output_type": "stream",
     "text": [
      "{'cause': ['Accident',\n",
      "           'Construction',\n",
      "           'Heavy Rain',\n",
      "           'Car Breakdown',\n",
      "           'Road Closure',\n",
      "           'Traffic Signal'],\n",
      " 'city': ['New York',\n",
      "          'Los Angeles',\n",
      "          'Chicago',\n",
      "          'Houston',\n",
      "          'Miami',\n",
      "          'San Francisco'],\n",
      " 'comments': [['Avoid this route!', 'Traffic is terrible.'],\n",
      "              ['Use alternate route.', 'Expect delays.'],\n",
      "              ['Drive carefully in rain.', 'Traffic is slow.'],\n",
      "              ['Check for updates.', 'Expect delays.'],\n",
      "              ['Plan ahead.', 'Avoid this area.'],\n",
      "              ['Obey traffic signals.', 'Traffic is light.']],\n",
      " 'detour_available': [True, False, True, True, False, True],\n",
      " 'duration_minutes': [45, 30, 15, 60, 25, 10],\n",
      " 'jam_level': ['High', 'Medium', 'Low', 'High', 'Medium', 'Low'],\n",
      " 'police_involved': [False, False, False, False, True],\n",
      " 'reported_by': ['User123',\n",
      "                 'User456',\n",
      "                 'User789',\n",
      "                 'User101',\n",
      "                 'User202',\n",
      "                 'User303'],\n",
      " 'road_name': ['Broadway',\n",
      "               'Sunset Blvd',\n",
      "               'Lake Shore Dr',\n",
      "               'I-610',\n",
      "               'Ocean Drive',\n",
      "               'Market St'],\n",
      " 'timestamp': ['2023-09-11 14:30:00',\n",
      "               '2023-09-11 14:45:00',\n",
      "               '2023-09-11 15:00:00',\n",
      "               '2023-09-11 15:15:00',\n",
      "               '2023-09-11 15:30:00',\n",
      "               '2023-09-11 15:45:00'],\n",
      " 'weather': ['Rainy', 'Sunny', 'Cloudy', 'Clear', 'Stormy', 'Foggy']}\n",
      "11\n",
      "{'cause': [],\n",
      " 'city': [],\n",
      " 'comments': [],\n",
      " 'detour_available': [],\n",
      " 'duration_minutes': [],\n",
      " 'jam_level': [],\n",
      " 'police_involved': [],\n",
      " 'reported_by': [],\n",
      " 'road_name': [],\n",
      " 'timestamp': [],\n",
      " 'weather': []}\n"
     ]
    }
   ],
   "source": [
    "copy_traffic_info_complete = {key: value.copy() for key, value in traffic_info_complete.items()}\n",
    "pprint(copy_traffic_info_complete)\n",
    "print(len(copy_traffic_info_complete))\n",
    "for key in copy_traffic_info_complete:\n",
    "    copy_traffic_info_complete[key] = []\n",
    "\n",
    "pprint(copy_traffic_info_complete)"
   ]
  },
  {
   "cell_type": "code",
   "execution_count": 121,
   "metadata": {},
   "outputs": [
    {
     "name": "stdout",
     "output_type": "stream",
     "text": [
      "Duration: 45 minutes\n",
      "\n",
      "[('city',\n",
      "  ['New York', 'Los Angeles', 'Chicago', 'Houston', 'Miami', 'San Francisco']),\n",
      " ('jam_level', ['High', 'Medium', 'Low', 'High', 'Medium', 'Low']),\n",
      " ('road_name',\n",
      "  ['Broadway',\n",
      "   'Sunset Blvd',\n",
      "   'Lake Shore Dr',\n",
      "   'I-610',\n",
      "   'Ocean Drive',\n",
      "   'Market St']),\n",
      " ('cause',\n",
      "  ['Accident',\n",
      "   'Construction',\n",
      "   'Heavy Rain',\n",
      "   'Car Breakdown',\n",
      "   'Road Closure',\n",
      "   'Traffic Signal']),\n",
      " ('duration_minutes', [45, 30, 15, 60, 25, 10]),\n",
      " ('detour_available', [True, False, True, True, False, True]),\n",
      " ('police_involved', [False, False, False, False, True]),\n",
      " ('reported_by',\n",
      "  ['User123', 'User456', 'User789', 'User101', 'User202', 'User303']),\n",
      " ('timestamp',\n",
      "  ['2023-09-11 14:30:00',\n",
      "   '2023-09-11 14:45:00',\n",
      "   '2023-09-11 15:00:00',\n",
      "   '2023-09-11 15:15:00',\n",
      "   '2023-09-11 15:30:00',\n",
      "   '2023-09-11 15:45:00']),\n",
      " ('comments',\n",
      "  [['Avoid this route!', 'Traffic is terrible.'],\n",
      "   ['Use alternate route.', 'Expect delays.'],\n",
      "   ['Drive carefully in rain.', 'Traffic is slow.'],\n",
      "   ['Check for updates.', 'Expect delays.'],\n",
      "   ['Plan ahead.', 'Avoid this area.'],\n",
      "   ['Obey traffic signals.', 'Traffic is light.']]),\n",
      " ('weather', ['Rainy', 'Sunny', 'Cloudy', 'Clear', 'Stormy', 'Foggy'])]\n"
     ]
    }
   ],
   "source": [
    "# Get the value for a key with a default value if it doesn't exist\n",
    "duration = traffic_info_complete.get(\"duration_minutes\", [0] * 6)\n",
    "print(f\"Duration: {duration[0]} minutes\\n\")\n",
    "\n",
    "# Get a list of key-value pairs as tuples\n",
    "items = traffic_info_complete.items()\n",
    "pprint(list(items))"
   ]
  },
  {
   "cell_type": "code",
   "execution_count": 122,
   "metadata": {},
   "outputs": [
    {
     "name": "stdout",
     "output_type": "stream",
     "text": [
      "city\n",
      "jam_level\n",
      "road_name\n",
      "cause\n",
      "duration_minutes\n",
      "detour_available\n",
      "police_involved\n",
      "reported_by\n",
      "timestamp\n",
      "comments\n",
      "weather\n",
      "\n",
      "['New York', 'Los Angeles', 'Chicago', 'Houston', 'Miami', 'San Francisco']\n"
     ]
    }
   ],
   "source": [
    "# Get a list of keys as a view object\n",
    "keys = traffic_info_complete.keys()\n",
    "[print(key) for key in keys]\n",
    "print()\n",
    "# Get a list of values as a view object\n",
    "values = list(traffic_info_complete.values())[0]\n",
    "print(values)"
   ]
  },
  {
   "cell_type": "code",
   "execution_count": 123,
   "metadata": {},
   "outputs": [
    {
     "name": "stdout",
     "output_type": "stream",
     "text": [
      "{'city': ['New York', 'Los Angeles', 'Chicago', 'Houston', 'Miami', 'San Francisco'], 'jam_level': ['High', 'Medium', 'Low', 'High', 'Medium', 'Low'], 'road_name': ['Broadway', 'Sunset Blvd', 'Lake Shore Dr', 'I-610', 'Ocean Drive', 'Market St'], 'cause': ['Construction', 'Accident', 'Road Closure', 'Heavy Rain', 'Car Breakdown', 'Traffic Signal'], 'duration_minutes': [45, 30, 15, 60, 25, 10], 'detour_available': [False, True, False, True, True, False], 'police_involved': [False, False, False, False, True], 'reported_by': ['User123', 'User456', 'User789', 'User101', 'User202', 'User303'], 'timestamp': ['2023-09-11 14:30:00', '2023-09-11 14:45:00', '2023-09-11 15:00:00', '2023-09-11 15:15:00', '2023-09-11 15:30:00', '2023-09-11 15:45:00'], 'comments': [['Avoid this route!', 'Traffic is terrible.'], ['Use alternate route.', 'Expect delays.'], ['Drive carefully in rain.', 'Traffic is slow.'], ['Check for updates.', 'Expect delays.'], ['Plan ahead.', 'Avoid this area.'], ['Obey traffic signals.', 'Traffic is light.']], 'weather': ['Rainy', 'Sunny', 'Cloudy', 'Clear', 'Stormy', 'Foggy']}\n"
     ]
    }
   ],
   "source": [
    "\"\"\" Update the dictionary with another dictionary. \"\"\"\n",
    "update_info = {\"detour_available\": [False, True, False, True, True, False], \n",
    "            \"cause\": [\"Construction\", \"Accident\", \"Road Closure\", \"Heavy Rain\", \"Car Breakdown\", \"Traffic Signal\"]}\n",
    "for key in update_info:\n",
    "    traffic_info_complete[key] = update_info[key]\n",
    "print(traffic_info_complete)"
   ]
  },
  {
   "cell_type": "code",
   "execution_count": 124,
   "metadata": {},
   "outputs": [
    {
     "name": "stdout",
     "output_type": "stream",
     "text": [
      "Removed item: Accident\n",
      "\n",
      "city: ['New York', 'Los Angeles', 'Chicago', 'Houston', 'Miami', 'San Francisco']\n",
      "jam_level: ['High', 'Medium', 'Low', 'High', 'Medium', 'Low']\n",
      "road_name: ['Broadway', 'Sunset Blvd', 'Lake Shore Dr', 'I-610', 'Ocean Drive', 'Market St']\n",
      "cause: ['Construction', 'Road Closure', 'Heavy Rain', 'Car Breakdown', 'Traffic Signal']\n",
      "duration_minutes: [45, 30, 15, 60, 25, 10]\n",
      "detour_available: [False, True, False, True, True, False]\n",
      "police_involved: [False, False, False, False, True]\n",
      "reported_by: ['User123', 'User456', 'User789', 'User101', 'User202', 'User303']\n",
      "timestamp: ['2023-09-11 14:30:00', '2023-09-11 14:45:00', '2023-09-11 15:00:00', '2023-09-11 15:15:00', '2023-09-11 15:30:00', '2023-09-11 15:45:00']\n",
      "comments: [['Avoid this route!', 'Traffic is terrible.'], ['Use alternate route.', 'Expect delays.'], ['Drive carefully in rain.', 'Traffic is slow.'], ['Check for updates.', 'Expect delays.'], ['Plan ahead.', 'Avoid this area.'], ['Obey traffic signals.', 'Traffic is light.']]\n",
      "weather: ['Rainy', 'Sunny', 'Cloudy', 'Clear', 'Stormy', 'Foggy']\n"
     ]
    }
   ],
   "source": [
    "\"\"\" Remove and return a value from a list. \"\"\"\n",
    "removed_item = traffic_info_complete[\"cause\"].pop(1)\n",
    "print(f\"Removed item: {removed_item}\")\n",
    "print()\n",
    "for key, value in traffic_info_complete.items():\n",
    "    print(f\"{key}: {value}\")"
   ]
  },
  {
   "cell_type": "markdown",
   "metadata": {},
   "source": [
    "<h2 style=\"color:slateblue\"> <u> Example #3 </u> </h2>\n",
    "Create dictionary from list "
   ]
  },
  {
   "cell_type": "code",
   "execution_count": 125,
   "metadata": {},
   "outputs": [
    {
     "data": {
      "text/plain": [
       "{'A': [100, 88, 45, 59, 73, 89],\n",
       " 'B': [90, 99, 56, 61, 79, 97],\n",
       " 'C': [80, 111, 67, 67, 83, 101]}"
      ]
     },
     "execution_count": 125,
     "metadata": {},
     "output_type": "execute_result"
    }
   ],
   "source": [
    "x = [['A', 'B', 'C'],\n",
    "    [100, 90, 80],\n",
    "    [88, 99, 111],\n",
    "    [45, 56, 67],\n",
    "    [59, 61, 67],\n",
    "    [73, 79, 83],\n",
    "    [89, 97, 101]]\n",
    "\n",
    "wanted = {k: v for k, *v in zip(*x)}\n",
    "wanted"
   ]
  },
  {
   "cell_type": "markdown",
   "metadata": {},
   "source": [
    "<h2 style=\"color:slateblue\"> <u> Example #4 </u> </h2>\n",
    "Merge dictionaries "
   ]
  },
  {
   "cell_type": "code",
   "execution_count": 126,
   "metadata": {},
   "outputs": [],
   "source": [
    "profile = {'name':'N/A', 'email':'N/A', 'phone':'N/A'}\n",
    "user_input = {'name':'Bob', 'phone':'34918775632'}"
   ]
  },
  {
   "cell_type": "code",
   "execution_count": 127,
   "metadata": {},
   "outputs": [
    {
     "name": "stdout",
     "output_type": "stream",
     "text": [
      "{'name': 'Bob', 'email': 'N/A', 'phone': '34918775632'}\n"
     ]
    }
   ],
   "source": [
    "\"\"\" Merge.\n",
    "N.B.\n",
    "# Wrong!\n",
    "try:\n",
    "    # if sys.version_info >= (3.9): # already checked with TypeError \n",
    "    res = profile |= user_input\n",
    "except Exception as e:\n",
    "    # If the syntax error occurs, merge the dictionaries using the update() method\n",
    "    res = profile.update(user_input)\n",
    "\n",
    "\"\"\"\n",
    "def merge_dicts(dict1, dict2):\n",
    "    \"\"\"inside the function the syntax error is avoided\"\"\"\n",
    "    if sys.version_info >= (3, 9):\n",
    "        # Use the |= operator in Python 3.9 or later\n",
    "        dict1 |= dict2          \n",
    "    else:\n",
    "        # Use the update() method in earlier versions of Python\n",
    "        dict1.update(dict2)     \n",
    "    return dict1\n",
    "\n",
    "# Merge the dictionaries using the merge_dicts() function\n",
    "merged_dict = merge_dicts(profile, user_input)\n",
    "print(merged_dict)"
   ]
  },
  {
   "cell_type": "markdown",
   "metadata": {},
   "source": [
    "<h2 style=\"color:slateblue\"> <u> Example #5 </u> </h2>\n",
    "any() and all()"
   ]
  },
  {
   "cell_type": "code",
   "execution_count": 128,
   "metadata": {},
   "outputs": [
    {
     "name": "stdout",
     "output_type": "stream",
     "text": [
      "battle not over\n"
     ]
    }
   ],
   "source": [
    "enemies = [\n",
    "    {'type':'Orc', 'health':0},\n",
    "    {'type':'Orc', 'health':0},\n",
    "    {'type':'Orc', 'health':4},\n",
    "    {'type':'Orc', 'health':5},\n",
    "]\n",
    "type(enemies)\n",
    "type(enemies[0])\n",
    "print(\"battle not over\") if any([enemy['health'] for enemy in enemies]) else print(\"battle finished\")"
   ]
  },
  {
   "cell_type": "code",
   "execution_count": 129,
   "metadata": {},
   "outputs": [
    {
     "name": "stdout",
     "output_type": "stream",
     "text": [
      "battle not over\n"
     ]
    }
   ],
   "source": [
    "if all(enemy['health'] == 0 for enemy in enemies):\n",
    "    print(\"battle finished\")\n",
    "else:\n",
    "    print(\"battle not over\")"
   ]
  },
  {
   "cell_type": "markdown",
   "metadata": {},
   "source": [
    "<h2 style=\"color:slateblue\"> <u> Example #6 </u> </h2>"
   ]
  },
  {
   "cell_type": "code",
   "execution_count": 130,
   "metadata": {},
   "outputs": [],
   "source": [
    "student_info = {\n",
    "    \"name\": \"Jennifer\",\n",
    "    \"age\": 20,\n",
    "    \"major\": \"Computer Science\",\n",
    "    \"grades\": {\"math\": 90, \"physics\": 85, \"history\": 78},\n",
    "    \"courses\": [\"Programming 101\", \"Physics Lab\", \"History of Science\"]\n",
    "}"
   ]
  },
  {
   "cell_type": "code",
   "execution_count": 131,
   "metadata": {},
   "outputs": [
    {
     "name": "stdout",
     "output_type": "stream",
     "text": [
      "{\n",
      "    \"name\": \"Jennifer\",\n",
      "    \"age\": 21,\n",
      "    \"major\": \"Computer Science\",\n",
      "    \"grades\": {\n",
      "        \"math\": 90,\n",
      "        \"physics\": 85,\n",
      "        \"history\": 78\n",
      "    },\n",
      "    \"courses\": [\n",
      "        \"Programming 101\",\n",
      "        \"Physics Lab\",\n",
      "        \"History of Science\"\n",
      "    ]\n",
      "}\n"
     ]
    }
   ],
   "source": [
    "# Update a specific key's value\n",
    "student_info[\"age\"] = 21\n",
    "print(json.dumps(student_info, indent=4))"
   ]
  },
  {
   "cell_type": "code",
   "execution_count": 132,
   "metadata": {},
   "outputs": [
    {
     "data": {
      "text/plain": [
       "{'name': 'Jennifer',\n",
       " 'age': 21,\n",
       " 'major': 'Computer Science',\n",
       " 'grades': {'math': 90, 'physics': 85, 'history': 78},\n",
       " 'courses': ['Programming 101', 'Physics Lab', 'History of Science']}"
      ]
     },
     "execution_count": 132,
     "metadata": {},
     "output_type": "execute_result"
    }
   ],
   "source": [
    "copy_student = student_info.copy()\n",
    "copy_student"
   ]
  },
  {
   "cell_type": "code",
   "execution_count": 133,
   "metadata": {},
   "outputs": [
    {
     "name": "stdout",
     "output_type": "stream",
     "text": [
      "Removed major: Computer Science\n",
      "name: Jennifer\n",
      "age: 21\n",
      "grades: {'math': 90, 'physics': 85, 'history': 78}\n",
      "courses: ['Programming 101', 'Physics Lab', 'History of Science']\n",
      "\n",
      "Last Course: ('courses', ['Programming 101', 'Physics Lab', 'History of Science'])\n",
      "\n",
      "name: Jennifer\n",
      "age: 21\n",
      "grades: {'math': 90, 'physics': 85, 'history': 78}\n"
     ]
    }
   ],
   "source": [
    "# Remove and return a key-value pair\n",
    "removed_major = copy_student.pop(\"major\")\n",
    "print(f\"Removed major: {removed_major}\")\n",
    "[print(f\"{key}: {value}\") for key, value in copy_student.items()]\n",
    "print()\n",
    "\n",
    "# Remove with popitem()\n",
    "last_course = copy_student.popitem()\n",
    "print(f\"Last Course: {last_course}\")\n",
    "print()\n",
    "for key, value in copy_student.items():\n",
    "    print(f\"{key}: {value}\")"
   ]
  },
  {
   "cell_type": "code",
   "execution_count": 134,
   "metadata": {},
   "outputs": [
    {
     "name": "stdout",
     "output_type": "stream",
     "text": [
      "Attendance: Present\n"
     ]
    }
   ],
   "source": [
    "\"\"\" Set a default value for a non-existing key using setdefault() \"\"\"\n",
    "attendance = student_info.setdefault(\"attendance\", \"Present\")\n",
    "print(f\"Attendance: {attendance}\")"
   ]
  },
  {
   "cell_type": "code",
   "execution_count": 135,
   "metadata": {},
   "outputs": [
    {
     "name": "stdout",
     "output_type": "stream",
     "text": [
      "{'age': 21,\n",
      " 'attendance': 'Present',\n",
      " 'courses': ['Programming 101', 'Physics Lab', 'History of Science'],\n",
      " 'gender': 'Female',\n",
      " 'grades': {'history': 78, 'math': 90, 'physics': 85},\n",
      " 'hometown': 'New York',\n",
      " 'major': 'Computer Science',\n",
      " 'name': 'Jennifer'}\n"
     ]
    }
   ],
   "source": [
    "\"\"\" Merge dicts using update() \"\"\"\n",
    "additional_info = {\"hometown\": \"New York\", \"gender\": \"Female\"}\n",
    "student_info.update(additional_info)\n",
    "pprint(student_info)"
   ]
  },
  {
   "cell_type": "code",
   "execution_count": 136,
   "metadata": {},
   "outputs": [
    {
     "name": "stdout",
     "output_type": "stream",
     "text": [
      "GPA: Not available\n",
      "{'hometown', 'courses', 'major', 'name', 'grades', 'gender', 'age', 'attendance'}\n",
      "('Jennifer', 21, 'Computer Science', {'math': 90, 'physics': 85, 'history': 78}, ['Programming 101', 'Physics Lab', 'History of Science'], 'Present', 'New York', 'Female')\n"
     ]
    }
   ],
   "source": [
    "# Get a value with a default value\n",
    "gpa = student_info.get(\"gpa\", \"Not available\")\n",
    "print(f\"GPA: {gpa}\")\n",
    "\n",
    "# Set of keys \n",
    "keys_set = set(student_info.keys())\n",
    "print(keys_set)\n",
    "\n",
    "# Tuple of values\n",
    "values_tuple = tuple(student_info.values())\n",
    "print(values_tuple)"
   ]
  },
  {
   "cell_type": "code",
   "execution_count": 137,
   "metadata": {},
   "outputs": [
    {
     "name": "stdout",
     "output_type": "stream",
     "text": [
      "{'name': 'Jennifer', 'age': 21, 'major': 'Computer Science', 'grades': {'math': 90, 'physics': 85, 'history': 78}, 'courses': ['Programming 101', 'Physics Lab', 'History of Science'], 'attendance': 'Present', 'hometown': 'New York', 'gender': 'Female'}\n"
     ]
    }
   ],
   "source": [
    "# Copy a dictionary with the dict() constructor\n",
    "copy_student_info = dict(student_info)\n",
    "print(copy_student_info)"
   ]
  },
  {
   "cell_type": "code",
   "execution_count": 138,
   "metadata": {},
   "outputs": [
    {
     "name": "stdout",
     "output_type": "stream",
     "text": [
      "name: Jennifer\n",
      "age: 21\n",
      "major: Computer Science\n",
      "grades: {'math': 90, 'physics': 85, 'history': 78}\n",
      "courses: ['Programming 101', 'Physics Lab', 'History of Science']\n",
      "attendance: Present\n",
      "hometown: New York\n",
      "gender: Female\n"
     ]
    }
   ],
   "source": [
    "\"\"\" Print dict with Generator. \n",
    "N.B.\n",
    "Trying to print the dict with list comprehension \n",
    "(e.g. => [print(f\"{key}: {value}\") for key, value in copy_student_info.items()])\n",
    "will print on output not only the dict but also a list of \"None\" values corresponding to the result of the print function.\n",
    "To avoid this behaviour use DOUBLE for!\n",
    "\"\"\"\n",
    "# Using a generator expression within a loop to print the dictionary items\n",
    "for _ in (print(f\"{key}: {value}\") for key, value in student_info.items()):\n",
    "    pass"
   ]
  }
 ],
 "metadata": {
  "kernelspec": {
   "display_name": "MLearning",
   "language": "python",
   "name": "python3"
  },
  "language_info": {
   "codemirror_mode": {
    "name": "ipython",
    "version": 3
   },
   "file_extension": ".py",
   "mimetype": "text/x-python",
   "name": "python",
   "nbconvert_exporter": "python",
   "pygments_lexer": "ipython3",
   "version": "3.10.9"
  },
  "orig_nbformat": 4
 },
 "nbformat": 4,
 "nbformat_minor": 2
}
