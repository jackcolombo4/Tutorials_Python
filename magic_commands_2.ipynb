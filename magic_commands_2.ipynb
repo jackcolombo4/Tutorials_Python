{
 "cells": [
  {
   "cell_type": "markdown",
   "metadata": {},
   "source": [
    "<div style=\"line-height:0.5\">\n",
    "<h1 style=\"color:#6706EA\"> Magic commands 2 </h1>\n",
    "<h4 style=\"margin-top: 0.2em;\">Exploit the built-in magic commands in Jupyter Notebook / Jupyter Lab.</h4>\n",
    "</div>"
   ]
  },
  {
   "cell_type": "code",
   "execution_count": 44,
   "metadata": {},
   "outputs": [],
   "source": [
    "import os\n",
    "import time\n",
    "from pprint import pprint\n",
    "from io import StringIO\n",
    "\n",
    "from IPython import get_ipython\n",
    "from IPython.core.magic import register_line_cell_magic, Magics, cell_magic, magics_class\n",
    "from IPython.core import magic_arguments\n",
    "\n",
    "from IPython.core.magic import register_line_magic"
   ]
  },
  {
   "cell_type": "code",
   "execution_count": 2,
   "metadata": {},
   "outputs": [
    {
     "data": {
      "application/json": {
       "cell": {
        "!": "OSMagics",
        "HTML": "Other",
        "SVG": "Other",
        "bash": "Other",
        "capture": "ExecutionMagics",
        "debug": "ExecutionMagics",
        "file": "Other",
        "html": "DisplayMagics",
        "javascript": "DisplayMagics",
        "js": "DisplayMagics",
        "latex": "DisplayMagics",
        "markdown": "DisplayMagics",
        "perl": "Other",
        "prun": "ExecutionMagics",
        "pypy": "Other",
        "python": "Other",
        "python2": "Other",
        "python3": "Other",
        "ruby": "Other",
        "script": "ScriptMagics",
        "sh": "Other",
        "svg": "DisplayMagics",
        "sx": "OSMagics",
        "system": "OSMagics",
        "time": "ExecutionMagics",
        "timeit": "ExecutionMagics",
        "writefile": "OSMagics"
       },
       "line": {
        "alias": "OSMagics",
        "alias_magic": "BasicMagics",
        "autoawait": "AsyncMagics",
        "autocall": "AutoMagics",
        "automagic": "AutoMagics",
        "autosave": "KernelMagics",
        "bookmark": "OSMagics",
        "cat": "Other",
        "cd": "OSMagics",
        "clear": "KernelMagics",
        "colors": "BasicMagics",
        "conda": "PackagingMagics",
        "config": "ConfigMagics",
        "connect_info": "KernelMagics",
        "cp": "Other",
        "debug": "ExecutionMagics",
        "dhist": "OSMagics",
        "dirs": "OSMagics",
        "doctest_mode": "BasicMagics",
        "ed": "Other",
        "edit": "KernelMagics",
        "env": "OSMagics",
        "gui": "BasicMagics",
        "hist": "Other",
        "history": "HistoryMagics",
        "killbgscripts": "ScriptMagics",
        "ldir": "Other",
        "less": "KernelMagics",
        "lf": "Other",
        "lk": "Other",
        "ll": "Other",
        "load": "CodeMagics",
        "load_ext": "ExtensionMagics",
        "loadpy": "CodeMagics",
        "logoff": "LoggingMagics",
        "logon": "LoggingMagics",
        "logstart": "LoggingMagics",
        "logstate": "LoggingMagics",
        "logstop": "LoggingMagics",
        "ls": "Other",
        "lsmagic": "BasicMagics",
        "lx": "Other",
        "macro": "ExecutionMagics",
        "magic": "BasicMagics",
        "man": "KernelMagics",
        "matplotlib": "PylabMagics",
        "mkdir": "Other",
        "more": "KernelMagics",
        "mv": "Other",
        "notebook": "BasicMagics",
        "page": "BasicMagics",
        "pastebin": "CodeMagics",
        "pdb": "ExecutionMagics",
        "pdef": "NamespaceMagics",
        "pdoc": "NamespaceMagics",
        "pfile": "NamespaceMagics",
        "pinfo": "NamespaceMagics",
        "pinfo2": "NamespaceMagics",
        "pip": "PackagingMagics",
        "popd": "OSMagics",
        "pprint": "BasicMagics",
        "precision": "BasicMagics",
        "prun": "ExecutionMagics",
        "psearch": "NamespaceMagics",
        "psource": "NamespaceMagics",
        "pushd": "OSMagics",
        "pwd": "OSMagics",
        "pycat": "OSMagics",
        "pylab": "PylabMagics",
        "qtconsole": "KernelMagics",
        "quickref": "BasicMagics",
        "recall": "HistoryMagics",
        "rehashx": "OSMagics",
        "reload_ext": "ExtensionMagics",
        "rep": "Other",
        "rerun": "HistoryMagics",
        "reset": "NamespaceMagics",
        "reset_selective": "NamespaceMagics",
        "rm": "Other",
        "rmdir": "Other",
        "run": "ExecutionMagics",
        "save": "CodeMagics",
        "sc": "OSMagics",
        "set_env": "OSMagics",
        "store": "StoreMagics",
        "sx": "OSMagics",
        "system": "OSMagics",
        "tb": "ExecutionMagics",
        "time": "ExecutionMagics",
        "timeit": "ExecutionMagics",
        "unalias": "OSMagics",
        "unload_ext": "ExtensionMagics",
        "who": "NamespaceMagics",
        "who_ls": "NamespaceMagics",
        "whos": "NamespaceMagics",
        "xdel": "NamespaceMagics",
        "xmode": "BasicMagics"
       }
      },
      "text/plain": [
       "Available line magics:\n",
       "%alias  %alias_magic  %autoawait  %autocall  %automagic  %autosave  %bookmark  %cat  %cd  %clear  %colors  %conda  %config  %connect_info  %cp  %debug  %dhist  %dirs  %doctest_mode  %ed  %edit  %env  %gui  %hist  %history  %killbgscripts  %ldir  %less  %lf  %lk  %ll  %load  %load_ext  %loadpy  %logoff  %logon  %logstart  %logstate  %logstop  %ls  %lsmagic  %lx  %macro  %magic  %man  %matplotlib  %mkdir  %more  %mv  %notebook  %page  %pastebin  %pdb  %pdef  %pdoc  %pfile  %pinfo  %pinfo2  %pip  %popd  %pprint  %precision  %prun  %psearch  %psource  %pushd  %pwd  %pycat  %pylab  %qtconsole  %quickref  %recall  %rehashx  %reload_ext  %rep  %rerun  %reset  %reset_selective  %rm  %rmdir  %run  %save  %sc  %set_env  %store  %sx  %system  %tb  %time  %timeit  %unalias  %unload_ext  %who  %who_ls  %whos  %xdel  %xmode\n",
       "\n",
       "Available cell magics:\n",
       "%%!  %%HTML  %%SVG  %%bash  %%capture  %%debug  %%file  %%html  %%javascript  %%js  %%latex  %%markdown  %%perl  %%prun  %%pypy  %%python  %%python2  %%python3  %%ruby  %%script  %%sh  %%svg  %%sx  %%system  %%time  %%timeit  %%writefile\n",
       "\n",
       "Automagic is ON, % prefix IS NOT needed for line magics."
      ]
     },
     "execution_count": 2,
     "metadata": {},
     "output_type": "execute_result"
    }
   ],
   "source": [
    "%lsmagic"
   ]
  },
  {
   "cell_type": "code",
   "execution_count": 3,
   "metadata": {},
   "outputs": [
    {
     "name": "stdout",
     "output_type": "stream",
     "text": [
      "Available line magics:\n",
      "%alias  %alias_magic  %autoawait  %autocall  %automagic  %autosave  %bookmark  %cat  %cd  %clear  %colors  %conda  %config  %connect_info  %cp  %debug  %dhist  %dirs  %doctest_mode  %ed  %edit  %env  %gui  %hist  %history  %killbgscripts  %ldir  %less  %lf  %lk  %ll  %load  %load_ext  %loadpy  %logoff  %logon  %logstart  %logstate  %logstop  %ls  %lsmagic  %lx  %macro  %magic  %man  %matplotlib  %mkdir  %more  %mv  %notebook  %page  %pastebin  %pdb  %pdef  %pdoc  %pfile  %pinfo  %pinfo2  %pip  %popd  %pprint  %precision  %prun  %psearch  %psource  %pushd  %pwd  %pycat  %pylab  %qtconsole  %quickref  %recall  %rehashx  %reload_ext  %rep  %rerun  %reset  %reset_selective  %rm  %rmdir  %run  %save  %sc  %set_env  %store  %sx  %system  %tb  %time  %timeit  %unalias  %unload_ext  %who  %who_ls  %whos  %xdel  %xmode\n",
      "\n",
      "Available cell magics:\n",
      "%%!  %%HTML  %%SVG  %%bash  %%capture  %%debug  %%file  %%html  %%javascript  %%js  %%latex  %%markdown  %%perl  %%prun  %%pypy  %%python  %%python2  %%python3  %%ruby  %%script  %%sh  %%svg  %%sx  %%system  %%time  %%timeit  %%writefile\n",
      "\n",
      "Automagic is ON, % prefix IS NOT needed for line magics.\n"
     ]
    }
   ],
   "source": [
    "magic_commands = %lsmagic\n",
    "\n",
    "# Print the magic commands one by one\n",
    "for line in str(magic_commands).split('\\n'):\n",
    "    print(line)\n"
   ]
  },
  {
   "cell_type": "code",
   "execution_count": 4,
   "metadata": {},
   "outputs": [
    {
     "data": {
      "application/json": {
       "cell": {
        "!": "OSMagics",
        "HTML": "Other",
        "SVG": "Other",
        "bash": "Other",
        "capture": "ExecutionMagics",
        "debug": "ExecutionMagics",
        "file": "Other",
        "html": "DisplayMagics",
        "javascript": "DisplayMagics",
        "js": "DisplayMagics",
        "latex": "DisplayMagics",
        "markdown": "DisplayMagics",
        "perl": "Other",
        "prun": "ExecutionMagics",
        "pypy": "Other",
        "python": "Other",
        "python2": "Other",
        "python3": "Other",
        "ruby": "Other",
        "script": "ScriptMagics",
        "sh": "Other",
        "svg": "DisplayMagics",
        "sx": "OSMagics",
        "system": "OSMagics",
        "time": "ExecutionMagics",
        "timeit": "ExecutionMagics",
        "writefile": "OSMagics"
       },
       "line": {
        "alias": "OSMagics",
        "alias_magic": "BasicMagics",
        "autoawait": "AsyncMagics",
        "autocall": "AutoMagics",
        "automagic": "AutoMagics",
        "autosave": "KernelMagics",
        "bookmark": "OSMagics",
        "cat": "Other",
        "cd": "OSMagics",
        "clear": "KernelMagics",
        "colors": "BasicMagics",
        "conda": "PackagingMagics",
        "config": "ConfigMagics",
        "connect_info": "KernelMagics",
        "cp": "Other",
        "debug": "ExecutionMagics",
        "dhist": "OSMagics",
        "dirs": "OSMagics",
        "doctest_mode": "BasicMagics",
        "ed": "Other",
        "edit": "KernelMagics",
        "env": "OSMagics",
        "gui": "BasicMagics",
        "hist": "Other",
        "history": "HistoryMagics",
        "killbgscripts": "ScriptMagics",
        "ldir": "Other",
        "less": "KernelMagics",
        "lf": "Other",
        "lk": "Other",
        "ll": "Other",
        "load": "CodeMagics",
        "load_ext": "ExtensionMagics",
        "loadpy": "CodeMagics",
        "logoff": "LoggingMagics",
        "logon": "LoggingMagics",
        "logstart": "LoggingMagics",
        "logstate": "LoggingMagics",
        "logstop": "LoggingMagics",
        "ls": "Other",
        "lsmagic": "BasicMagics",
        "lx": "Other",
        "macro": "ExecutionMagics",
        "magic": "BasicMagics",
        "man": "KernelMagics",
        "matplotlib": "PylabMagics",
        "mkdir": "Other",
        "more": "KernelMagics",
        "mv": "Other",
        "notebook": "BasicMagics",
        "page": "BasicMagics",
        "pastebin": "CodeMagics",
        "pdb": "ExecutionMagics",
        "pdef": "NamespaceMagics",
        "pdoc": "NamespaceMagics",
        "pfile": "NamespaceMagics",
        "pinfo": "NamespaceMagics",
        "pinfo2": "NamespaceMagics",
        "pip": "PackagingMagics",
        "popd": "OSMagics",
        "pprint": "BasicMagics",
        "precision": "BasicMagics",
        "prun": "ExecutionMagics",
        "psearch": "NamespaceMagics",
        "psource": "NamespaceMagics",
        "pushd": "OSMagics",
        "pwd": "OSMagics",
        "pycat": "OSMagics",
        "pylab": "PylabMagics",
        "qtconsole": "KernelMagics",
        "quickref": "BasicMagics",
        "recall": "HistoryMagics",
        "rehashx": "OSMagics",
        "reload_ext": "ExtensionMagics",
        "rep": "Other",
        "rerun": "HistoryMagics",
        "reset": "NamespaceMagics",
        "reset_selective": "NamespaceMagics",
        "rm": "Other",
        "rmdir": "Other",
        "run": "ExecutionMagics",
        "save": "CodeMagics",
        "sc": "OSMagics",
        "set_env": "OSMagics",
        "store": "StoreMagics",
        "sx": "OSMagics",
        "system": "OSMagics",
        "tb": "ExecutionMagics",
        "time": "ExecutionMagics",
        "timeit": "ExecutionMagics",
        "unalias": "OSMagics",
        "unload_ext": "ExtensionMagics",
        "who": "NamespaceMagics",
        "who_ls": "NamespaceMagics",
        "whos": "NamespaceMagics",
        "xdel": "NamespaceMagics",
        "xmode": "BasicMagics"
       }
      },
      "text/plain": [
       "Available line magics:\n",
       "%alias  %alias_magic  %autoawait  %autocall  %automagic  %autosave  %bookmark  %cat  %cd  %clear  %colors  %conda  %config  %connect_info  %cp  %debug  %dhist  %dirs  %doctest_mode  %ed  %edit  %env  %gui  %hist  %history  %killbgscripts  %ldir  %less  %lf  %lk  %ll  %load  %load_ext  %loadpy  %logoff  %logon  %logstart  %logstate  %logstop  %ls  %lsmagic  %lx  %macro  %magic  %man  %matplotlib  %mkdir  %more  %mv  %notebook  %page  %pastebin  %pdb  %pdef  %pdoc  %pfile  %pinfo  %pinfo2  %pip  %popd  %pprint  %precision  %prun  %psearch  %psource  %pushd  %pwd  %pycat  %pylab  %qtconsole  %quickref  %recall  %rehashx  %reload_ext  %rep  %rerun  %reset  %reset_selective  %rm  %rmdir  %run  %save  %sc  %set_env  %store  %sx  %system  %tb  %time  %timeit  %unalias  %unload_ext  %who  %who_ls  %whos  %xdel  %xmode\n",
       "\n",
       "Available cell magics:\n",
       "%%!  %%HTML  %%SVG  %%bash  %%capture  %%debug  %%file  %%html  %%javascript  %%js  %%latex  %%markdown  %%perl  %%prun  %%pypy  %%python  %%python2  %%python3  %%ruby  %%script  %%sh  %%svg  %%sx  %%system  %%time  %%timeit  %%writefile\n",
       "\n",
       "Automagic is ON, % prefix IS NOT needed for line magics."
      ]
     },
     "execution_count": 4,
     "metadata": {},
     "output_type": "execute_result"
    }
   ],
   "source": [
    "# Capture the output of %lsmagic into a Python variable\n",
    "magic_output = %lsmagic\n",
    "magic_output"
   ]
  },
  {
   "cell_type": "markdown",
   "metadata": {},
   "source": [
    "<div style=\"line-height:0.5\">\n",
    "<h2 style=\"color:#6706EA\"> Example 0:</h2>\n",
    "Save the magic_output to a file\n",
    "</div>"
   ]
  },
  {
   "cell_type": "code",
   "execution_count": 5,
   "metadata": {},
   "outputs": [
    {
     "name": "stdout",
     "output_type": "stream",
     "text": [
      "skipping\n"
     ]
    }
   ],
   "source": [
    "%%script echo skipping\n",
    "# Not working! \n",
    "with open('magic_commands.txt', 'w') as file:\n",
    "    file.write(magic_output)"
   ]
  },
  {
   "cell_type": "code",
   "execution_count": 6,
   "metadata": {},
   "outputs": [
    {
     "name": "stdout",
     "output_type": "stream",
     "text": [
      "Output saved to magic_commands.txt\n"
     ]
    }
   ],
   "source": [
    "\"\"\" Working example => Capture the output of %lsmagic into a Python variable. \"\"\"\n",
    "magic_output = %lsmagic\n",
    "\n",
    "#### Convert the output to a string\n",
    "# Wrong:\n",
    "#magic_output_str = '\\n'.join(magic_output) \n",
    "# Right:\n",
    "magic_output_str = str(magic_output)\n",
    "\n",
    "# Save to file\n",
    "with open('magic_commands.txt', 'w') as file:\n",
    "    file.write(magic_output_str)\n",
    "\n",
    "print(\"Output saved to magic_commands.txt\")"
   ]
  },
  {
   "cell_type": "code",
   "execution_count": 7,
   "metadata": {},
   "outputs": [
    {
     "name": "stdout",
     "output_type": "stream",
     "text": [
      "'Available line magics:'\n",
      "('%alias  %alias_magic  %autoawait  %autocall  %automagic  %autosave  '\n",
      " '%bookmark  %cat  %cd  %clear  %colors  %conda  %config  %connect_info  %cp  '\n",
      " '%debug  %dhist  %dirs  %doctest_mode  %ed  %edit  %env  %gui  %hist  '\n",
      " '%history  %killbgscripts  %ldir  %less  %lf  %lk  %ll  %load  %load_ext  '\n",
      " '%loadpy  %logoff  %logon  %logstart  %logstate  %logstop  %ls  %lsmagic  '\n",
      " '%lx  %macro  %magic  %man  %matplotlib  %mkdir  %more  %mv  %notebook  '\n",
      " '%page  %pastebin  %pdb  %pdef  %pdoc  %pfile  %pinfo  %pinfo2  %pip  %popd  '\n",
      " '%pprint  %precision  %prun  %psearch  %psource  %pushd  %pwd  %pycat  '\n",
      " '%pylab  %qtconsole  %quickref  %recall  %rehashx  %reload_ext  %rep  %rerun  '\n",
      " '%reset  %reset_selective  %rm  %rmdir  %run  %save  %sc  %set_env  %store  '\n",
      " '%sx  %system  %tb  %time  %timeit  %unalias  %unload_ext  %who  %who_ls  '\n",
      " '%whos  %xdel  %xmode')\n",
      "''\n",
      "'Available cell magics:'\n",
      "('%%!  %%HTML  %%SVG  %%bash  %%capture  %%debug  %%file  %%html  '\n",
      " '%%javascript  %%js  %%latex  %%markdown  %%perl  %%prun  %%pypy  %%python  '\n",
      " '%%python2  %%python3  %%ruby  %%script  %%sh  %%svg  %%sx  %%system  %%time  '\n",
      " '%%timeit  %%writefile')\n",
      "''\n",
      "'Automagic is ON, % prefix IS NOT needed for line magics.'\n"
     ]
    }
   ],
   "source": [
    "# Read the content of the file\n",
    "with open('magic_commands.txt', 'r') as file:\n",
    "    magic_commands = file.read()\n",
    "\n",
    "# Split the content by lines and pretty print each line\n",
    "for line in magic_commands.splitlines():\n",
    "    pprint(line)"
   ]
  },
  {
   "cell_type": "code",
   "execution_count": 8,
   "metadata": {},
   "outputs": [
    {
     "name": "stdout",
     "output_type": "stream",
     "text": [
      "The file ./magic_commands.txt has been deleted.\n"
     ]
    }
   ],
   "source": [
    "\"\"\" Delete (completely, no trashcan) the file created \"\"\"\n",
    "file_to_delete = './magic_commands.txt'\n",
    "# If the file exists, cancel it\n",
    "if os.path.exists(file_to_delete):\n",
    "    os.remove(file_to_delete)\n",
    "    print(f\"The file {file_to_delete} has been deleted.\")\n",
    "else:\n",
    "    print(f\"The file {file_to_delete} does not exist.\")\n"
   ]
  },
  {
   "cell_type": "markdown",
   "metadata": {},
   "source": [
    "<div style=\"line-height:0.5\">\n",
    "<h2 style=\"color:#6706EA\"> Example 1:</h2>\n",
    "Save the magic_output to a file\n",
    "</div>"
   ]
  },
  {
   "cell_type": "code",
   "execution_count": 9,
   "metadata": {},
   "outputs": [],
   "source": [
    "def a_task():\n",
    "    result = 0\n",
    "    for i in range(1, 1000001):\n",
    "        result += i * i\n",
    "    return result"
   ]
  },
  {
   "cell_type": "code",
   "execution_count": 10,
   "metadata": {},
   "outputs": [
    {
     "name": "stdout",
     "output_type": "stream",
     "text": [
      "CPU times: user 169 ms, sys: 343 µs, total: 170 ms\n",
      "Wall time: 175 ms\n"
     ]
    },
    {
     "data": {
      "text/plain": [
       "333333833333500000"
      ]
     },
     "execution_count": 10,
     "metadata": {},
     "output_type": "execute_result"
    }
   ],
   "source": [
    "%%time\n",
    "a_task()"
   ]
  },
  {
   "cell_type": "markdown",
   "metadata": {},
   "source": [
    "<div style=\"line-height:0.5\">\n",
    "<h2 style=\"color:#6706EA\"> Example 2:</h2>\n",
    "Debug code using the Python Debugger (PDB). <br>\n",
    "</div>\n",
    "<div style=\"line-height:1\"></div>\n",
    "When the exception occurs, the debugger start, executing the Pdb prompt where various debugger commands can be sent. <br>\n",
    "\n",
    "<h3>Common commands include:</h3>\n",
    "\n",
    "<div style=\"line-height:0.1\">\n",
    "* c : Continue the execution of the program until the next breakpoint or until the program finishes. </div>\n",
    "<div style=\"line-height:1\"></div>\n",
    "* n : Step to the next line of code in the current function or method, without entering into called functions.\n",
    "<div style=\"line-height:1\"></div>\n",
    "* s : Step into the next function or method call, allowing you to debug within the called function.\n",
    "<div style=\"line-height:1\"></div>\n",
    "* p : Print the value of a variable or expression.\n",
    "<div style=\"line-height:1\"></div>\n",
    "* h : Print the help for the debugger commands.* q : Quit the debugger and terminate the debugging session.\n",
    "<div style=\"line-height:1\"></div>\n",
    "* l (list): Display the source code around the current line.\n",
    "<div style=\"line-height:1\"></div>\n",
    "* p <expression> (print): Evaluate and print the value of an expression.\n",
    "<div style=\"line-height:1\"></div>\n",
    "* pp <expression> (pretty-print): Similar to p, but formats complex data structures more nicely.\n",
    "<div style=\"line-height:1\"></div>\n",
    "* a (args): Show the arguments of the current function.\n",
    "<div style=\"line-height:1\"></div>\n",
    "* w (where): Display a stack trace with the current function at the top.\n",
    "<div style=\"line-height:1\"></div>\n",
    "* u (up): Move up the call stack to a higher-level frame.\n",
    "<div style=\"line-height:1\"></div>\n",
    "* d (down): Move down the call stack to a lower-level frame.\n",
    "<div style=\"line-height:1\"></div>\n",
    "* b <line> (break): Set a breakpoint at the specified line number.\n",
    "<div style=\"line-height:1\"></div>\n",
    "* cl <bpnum> (clear): Clear a breakpoint by its breakpoint number.\n",
    "<div style=\"line-height:1\"></div>\n",
    "* tbreak <line> (temporary breakpoint): Set a breakpoint that's removed after it's hit once.\n",
    "<div style=\"line-height:1\"></div>\n",
    "* disable <bpnum>: Disable a breakpoint.\n",
    "<div style=\"line-height:1\"></div>\n",
    "* enable <bpnum>: Enable a disabled breakpoint.\n",
    "<div style=\"line-height:1\"></div>\n",
    "* condition <bpnum> <condition>: Set a breakpoint condition.\n",
    "<div style=\"line-height:1\"></div>\n",
    "* ignore <bpnum> <count>: Ignore a breakpoint for a specified number of hits.\n",
    "<div style=\"line-height:1\"></div>\n",
    "* j <line> (jump): Jump to a different line number in the code.\n",
    "<div style=\"line-height:1\"></div>\n",
    "* list <first>, <last>: List lines of code within a specified range.\n",
    "<div style=\"line-height:1\"></div>\n",
    "* h (help): Display a list of available commands or get help for a specific command."
   ]
  },
  {
   "cell_type": "code",
   "execution_count": 11,
   "metadata": {},
   "outputs": [
    {
     "name": "stdout",
     "output_type": "stream",
     "text": [
      "skipping to avoid debugging. Remove this line to reactivate it.\n"
     ]
    }
   ],
   "source": [
    "%%script echo skipping to avoid debugging. Remove this line to reactivate it.\n",
    "%pdb\n",
    "def one_function(x):\n",
    "    try:\n",
    "        result = x / 0\n",
    "    except ZeroDivisionError:\n",
    "        result = None  \n",
    "        # Re-raise the exception to activate the debugger\n",
    "        raise  \n",
    "    return result\n",
    "\n",
    "try:\n",
    "    one_function(5)\n",
    "except Exception as e:\n",
    "    print(e)"
   ]
  },
  {
   "cell_type": "markdown",
   "metadata": {},
   "source": [
    "<div style=\"line-height:0.5\">\n",
    "<h2 style=\"color:#6706EA\"> Example 3:</h2>\n",
    "List environment variables\n",
    "</div>"
   ]
  },
  {
   "cell_type": "code",
   "execution_count": 1,
   "metadata": {},
   "outputs": [],
   "source": [
    "#%env\n",
    "\n",
    "\"\"\" Commented for privacy reasons. Return this output \n",
    "{'CHROME_DESKTOP': 'code-url-handler.desktop',\n",
    "'DBUS_SESSION_BUS_ADDRESS': 'unix:path=/run/user/1000/bus',\n",
    "'DESKTOP_SESSION': 'plasma',\n",
    "'DISPLAY': ':0',\n",
    "'GDK_BACKEND': 'x11',\n",
    "'GDMSESSION': 'plasma',\n",
    "'GDM_LANG': 'en_US',\n",
    "'GPG_AGENT_INFO': '/run/user/1000/gnupg/S.gpg-agent:0:1',\n",
    ".....\n",
    "'XDG_SEAT_PATH': '/org/freedesktop/DisplayManager/Seat0',\n",
    "'XDG_SESSION_CLASS': 'user',\n",
    "'XDG_SESSION_DESKTOP': 'plasma',\n",
    "'XDG_SESSION_ID': 'c2',\n",
    "'XDG_SESSION_PATH': '/org/freedesktop/DisplayManager/Session0',\n",
    "'XDG_SESSION_TYPE': 'x11',\n",
    "'XDG_VTNR': '7',\n",
    "\"\"\";"
   ]
  },
  {
   "cell_type": "markdown",
   "metadata": {},
   "source": [
    "<div style=\"line-height:0.5\">\n",
    "<h2 style=\"color:#6706EA\"> Example 4:</h2>\n",
    "Run a script\n",
    "</div>"
   ]
  },
  {
   "cell_type": "code",
   "execution_count": 12,
   "metadata": {},
   "outputs": [
    {
     "name": "stdout",
     "output_type": "stream",
     "text": [
      "Hello there!\n"
     ]
    }
   ],
   "source": [
    "%run -i my_script_magic.py"
   ]
  },
  {
   "cell_type": "markdown",
   "metadata": {},
   "source": [
    "<div style=\"line-height:0.5\">\n",
    "<h2 style=\"color:#6706EA\"> Example 5:</h2>\n",
    "Prun: Profile code execution to identify performance bottlenecks\n",
    "</div>"
   ]
  },
  {
   "cell_type": "code",
   "execution_count": 13,
   "metadata": {},
   "outputs": [],
   "source": [
    "def calculate_primes(max_number):\n",
    "    primes = []\n",
    "    for i in range(2, max_number+1):\n",
    "        is_prime = True\n",
    "        for p in primes:\n",
    "            if i % p == 0:\n",
    "                is_prime = False\n",
    "                break\n",
    "        if is_prime:\n",
    "            primes.append(i)\n",
    "    time.sleep(2)\n",
    "    \n",
    "    print(len(primes), \"primes calculated\")"
   ]
  },
  {
   "cell_type": "code",
   "execution_count": 15,
   "metadata": {},
   "outputs": [
    {
     "name": "stdout",
     "output_type": "stream",
     "text": [
      "4 primes calculated\n",
      " "
     ]
    },
    {
     "name": "stdout",
     "output_type": "stream",
     "text": [
      "         51 function calls in 2.003 seconds\n",
      "\n",
      "   Ordered by: internal time\n",
      "\n",
      "   ncalls  tottime  percall  cumtime  percall filename:lineno(function)\n",
      "        1    2.002    2.002    2.002    2.002 {built-in method time.sleep}\n",
      "        4    0.000    0.000    0.000    0.000 iostream.py:526(write)\n",
      "        1    0.000    0.000    0.000    0.000 socket.py:613(send)\n",
      "        1    0.000    0.000    2.003    2.003 2449298603.py:3(calculate_primes)\n",
      "        1    0.000    0.000    2.003    2.003 {built-in method builtins.exec}\n",
      "        1    0.000    0.000    0.000    0.000 iostream.py:202(schedule)\n",
      "        4    0.000    0.000    0.000    0.000 iostream.py:437(_is_master_process)\n",
      "        4    0.000    0.000    0.000    0.000 {built-in method posix.getpid}\n",
      "        4    0.000    0.000    0.000    0.000 iostream.py:456(_schedule_flush)\n",
      "        1    0.000    0.000    0.000    0.000 {built-in method builtins.print}\n",
      "        1    0.000    0.000    0.000    0.000 threading.py:1169(is_alive)\n",
      "        1    0.000    0.000    0.000    0.000 threading.py:1102(_wait_for_tstate_lock)\n",
      "        1    0.000    0.000    0.000    0.000 iostream.py:90(_event_pipe)\n",
      "        4    0.000    0.000    0.000    0.000 {method '__exit__' of '_thread.RLock' objects}\n",
      "        5    0.000    0.000    0.000    0.000 {built-in method builtins.len}\n",
      "        1    0.000    0.000    2.003    2.003 <string>:1(<module>)\n",
      "        4    0.000    0.000    0.000    0.000 {method 'write' of '_io.StringIO' objects}\n",
      "        1    0.000    0.000    0.000    0.000 {method 'acquire' of '_thread.lock' objects}\n",
      "        4    0.000    0.000    0.000    0.000 {built-in method builtins.isinstance}\n",
      "        1    0.000    0.000    0.000    0.000 threading.py:553(is_set)\n",
      "        1    0.000    0.000    0.000    0.000 {method 'disable' of '_lsprof.Profiler' objects}\n",
      "        1    0.000    0.000    0.000    0.000 {method 'append' of 'collections.deque' objects}\n",
      "        4    0.000    0.000    0.000    0.000 {method 'append' of 'list' objects}"
     ]
    }
   ],
   "source": [
    "%prun calculate_primes(10)"
   ]
  },
  {
   "cell_type": "markdown",
   "metadata": {},
   "source": [
    "<div style=\"line-height:0.5\">\n",
    "<h2 style=\"color:#6706EA\"> Example 6</h2>\n",
    "Other magic commands\n",
    "</div>"
   ]
  },
  {
   "cell_type": "code",
   "execution_count": 22,
   "metadata": {},
   "outputs": [],
   "source": [
    "# Delete all variables/names defined in notebook\n",
    "%reset"
   ]
  },
  {
   "cell_type": "code",
   "execution_count": 25,
   "metadata": {},
   "outputs": [
    {
     "name": "stdout",
     "output_type": "stream",
     "text": [
      "{\n",
      "  \"shell_port\": 9027,\n",
      "  \"iopub_port\": 9034,\n",
      "  \"stdin_port\": 9033,\n",
      "  \"control_port\": 9026,\n",
      "  \"hb_port\": 9025,\n",
      "  \"ip\": \"127.0.0.1\",\n",
      "  \"key\": \"0adf0cb8-cdea-4ecc-953b-5fdde73c7d63\",\n",
      "  \"transport\": \"tcp\",\n",
      "  \"signature_scheme\": \"hmac-sha256\",\n",
      "  \"kernel_name\": \"\"\n",
      "}\n",
      "\n",
      "Paste the above JSON into a file, and connect with:\n",
      "    $> jupyter <app> --existing <file>\n",
      "or, if you are local, you can connect with just:\n",
      "    $> jupyter <app> --existing kernel-v2-122217mWcRndczgaE3.json\n",
      "or even just:\n",
      "    $> jupyter <app> --existing\n",
      "if this is the most recent Jupyter kernel you have started.\n"
     ]
    }
   ],
   "source": [
    "# Display information about the kernel connection\n",
    "%connect_info"
   ]
  },
  {
   "cell_type": "code",
   "execution_count": 26,
   "metadata": {},
   "outputs": [
    {
     "name": "stdout",
     "output_type": "stream",
     "text": [
      "Pretty printing has been turned OFF\n"
     ]
    }
   ],
   "source": [
    "# Turn on/off pretty print in notebook\n",
    "%pprint ['Hello', 'World!']"
   ]
  },
  {
   "cell_type": "code",
   "execution_count": 28,
   "metadata": {},
   "outputs": [],
   "source": [
    "# Recall and retrive a previous command by cell execution number (copied in next cell directly)\n",
    "%recall 26"
   ]
  },
  {
   "cell_type": "code",
   "execution_count": 31,
   "metadata": {},
   "outputs": [
    {
     "name": "stdout",
     "output_type": "stream",
     "text": [
      "Pretty printing has been turned ON\n"
     ]
    }
   ],
   "source": [
    "%pprint ['Hello', 'World!']"
   ]
  },
  {
   "cell_type": "code",
   "execution_count": 34,
   "metadata": {},
   "outputs": [
    {
     "name": "stderr",
     "output_type": "stream",
     "text": [
      "UsageError: Line magic function `%recall-1` not found.\n"
     ]
    }
   ],
   "source": [
    "%recall-1"
   ]
  },
  {
   "cell_type": "code",
   "execution_count": 35,
   "metadata": {},
   "outputs": [
    {
     "name": "stdout",
     "output_type": "stream",
     "text": [
      "Convert a py script to a notebook\n"
     ]
    }
   ],
   "source": [
    "%%script echo Convert a py script to a notebook\n",
    "%notebook myscript.py\n"
   ]
  },
  {
   "cell_type": "markdown",
   "metadata": {},
   "source": [
    "<div style=\"line-height:0.5\">\n",
    "<h2 style=\"color:#6706EA\"> Example 7</h2>\n",
    "Create magic commands\n",
    "</div>"
   ]
  },
  {
   "cell_type": "markdown",
   "metadata": {},
   "source": [
    "#### => Case 1:"
   ]
  },
  {
   "cell_type": "code",
   "execution_count": 23,
   "metadata": {},
   "outputs": [],
   "source": [
    "def print_wrapped(text):\n",
    "    \"\"\" Print text with word wrapping, where each line contains at most 10 words from the input text. \"\"\"\n",
    "\n",
    "    # Split the input text into individual words and return a list\n",
    "    words = text.split() \n",
    "    # Loop through the list of words in increments of 10\n",
    "    for i in range(0, len(words), 10):\n",
    "        # Create a new line by joining 10 words from the list \n",
    "        # (or fewer if the end of the text is reached) with spaces in between\n",
    "        curr_line = ' '.join(words[i:i+10])\n",
    "        print(curr_line)\n"
   ]
  },
  {
   "cell_type": "code",
   "execution_count": null,
   "metadata": {},
   "outputs": [],
   "source": [
    "@register_line_cell_magic\n",
    "def echomult(line, cell=None):\n",
    "    \"\"\" Print and return a wrapped version of the input cell, where each line contains at most 10 words from the input.\n",
    "    [IPython magic command]\n",
    "\n",
    "    Parameters:\n",
    "        - Input line to be wrapped and printed [str]\n",
    "        - Input cell [str, optional]\n",
    "\n",
    "    Details: \n",
    "        - Create a StringIO object to capture the printed output\n",
    "\n",
    "    Returns:\n",
    "        Input in wrapped version: The content of the StringIO object [str]\n",
    "    \"\"\"\n",
    "    output = StringIO()\n",
    "    print_wrapped(line)\n",
    "    return output.getvalue()\n"
   ]
  },
  {
   "cell_type": "code",
   "execution_count": null,
   "metadata": {},
   "outputs": [],
   "source": [
    "@register_line_cell_magic  \n",
    "def echomult(line, cell=None):\n",
    "    output = StringIO()\n",
    "    print_wrapped(line)\n",
    "    return output.getvalue()"
   ]
  },
  {
   "cell_type": "code",
   "execution_count": null,
   "metadata": {},
   "outputs": [],
   "source": [
    "%echomult Lorem ipsum dolor sit amet, consectetur adipiscing elit. Sed euismod ante sed justo efficitur, ac facilisis nulla tincidunt."
   ]
  },
  {
   "cell_type": "markdown",
   "metadata": {},
   "source": [
    "#### => Case 2:"
   ]
  },
  {
   "cell_type": "code",
   "execution_count": 38,
   "metadata": {},
   "outputs": [],
   "source": [
    "@magics_class\n",
    "class MyMagic(Magics):\n",
    "    @cell_magic\n",
    "    def my_magic(self, line, cell):\n",
    "        new_cell = cell + \"\\n\" + \"print('World')\"\n",
    "        self.shell.run_cell(new_cell)\n",
    "\n",
    "ipy = get_ipython()\n",
    "ipy.register_magics(MyMagic)"
   ]
  },
  {
   "cell_type": "code",
   "execution_count": 39,
   "metadata": {},
   "outputs": [
    {
     "name": "stdout",
     "output_type": "stream",
     "text": [
      "Hello\n",
      "World\n"
     ]
    }
   ],
   "source": [
    "%%my_magic\n",
    "print(\"Hello\")"
   ]
  },
  {
   "cell_type": "markdown",
   "metadata": {},
   "source": [
    "#### => Case 3:"
   ]
  },
  {
   "cell_type": "code",
   "execution_count": 42,
   "metadata": {},
   "outputs": [],
   "source": [
    "@register_line_magic\n",
    "def factorial_magic(line):\n",
    "    \"\"\" Custom magic command to calculate and prints the factorial of the specified number. \"\"\"\n",
    "    if not line:\n",
    "        print(\"Usage: %factorial_magic [number]\")\n",
    "        return\n",
    "    try:\n",
    "        n = int(line.strip())\n",
    "        result = factorial(n)\n",
    "        print(f\"{n}! = {result}\")\n",
    "    except ValueError:\n",
    "        print(\"Invalid input. Please provide a valid integer.\")\n",
    "\n",
    "def factorial(n):\n",
    "    if n == 0:\n",
    "        return 1\n",
    "    return n * factorial(n - 1)\n"
   ]
  },
  {
   "cell_type": "code",
   "execution_count": 43,
   "metadata": {},
   "outputs": [
    {
     "name": "stdout",
     "output_type": "stream",
     "text": [
      "5! = 120\n"
     ]
    }
   ],
   "source": [
    "%factorial_magic 5"
   ]
  }
 ],
 "metadata": {
  "kernelspec": {
   "display_name": "MLearning",
   "language": "python",
   "name": "python3"
  },
  "language_info": {
   "codemirror_mode": {
    "name": "ipython",
    "version": 3
   },
   "file_extension": ".py",
   "mimetype": "text/x-python",
   "name": "python",
   "nbconvert_exporter": "python",
   "pygments_lexer": "ipython3",
   "version": "3.10.9"
  },
  "orig_nbformat": 4
 },
 "nbformat": 4,
 "nbformat_minor": 2
}
