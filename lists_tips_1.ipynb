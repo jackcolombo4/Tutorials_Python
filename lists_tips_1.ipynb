{
 "cells": [
  {
   "cell_type": "markdown",
   "metadata": {},
   "source": [
    "<div style=\"line-height:0.5\">\n",
    "<h1 style=\"color:crimson\"> Lists trials 1 </h1>\n",
    "<span style=\"display: inline-block;\">\n",
    "    <h3 style=\"color: lightblue; display: inline;\">Keywords:</h3> threading + itertools.cycle + for loops + level depth and shape  + deque + pprint\n",
    "</span>\n",
    "</div>"
   ]
  },
  {
   "cell_type": "code",
   "execution_count": 33,
   "metadata": {},
   "outputs": [],
   "source": [
    "import sys\n",
    "import random\n",
    "import itertools\n",
    "from pprint import pprint\n",
    "from collections import deque\n",
    "from collections import defaultdict, deque, Counter #"
   ]
  },
  {
   "cell_type": "markdown",
   "metadata": {
    "vscode": {
     "languageId": "plaintext"
    }
   },
   "source": [
    "<h3 style=\"color:crimson \">  Recap: Threading module </h3>\n",
    "<div style=\"margin-top: -10px;\">\n",
    "\n",
    "\n",
    "1. The recursion depth refers to the maximum number of nested function calls that    \n",
    "can occur before reaching the maximum recursion limit.    \n",
    "It is set to avoid crashes due to excessive recursion.    \n",
    "\n",
    "2. The size of the stack for threads (created by the threading module) is set to 2**27 (134217728 bytes or 128 MB).       \n",
    "It specifies the amount of memory allocated for each call stack.     \n",
    "\n",
    "3.  Enable the faulthandler module for diagnosing errors and crashes and exceptions in Python programs.   \n",
    "</div>"
   ]
  },
  {
   "cell_type": "code",
   "execution_count": 34,
   "metadata": {},
   "outputs": [],
   "source": [
    "import threading\n",
    "# Max recursion depth\n",
    "sys.setrecursionlimit(10**7)\n",
    "threading.stack_size(2**27)\n",
    "import faulthandler; faulthandler.enable()"
   ]
  },
  {
   "cell_type": "markdown",
   "metadata": {
    "vscode": {
     "languageId": "plaintext"
    }
   },
   "source": [
    "<h2 style=\"color:crimson\"> 1) Create lists </h2>"
   ]
  },
  {
   "cell_type": "code",
   "execution_count": 35,
   "metadata": {},
   "outputs": [
    {
     "name": "stdout",
     "output_type": "stream",
     "text": [
      "[1, 2, 3, 4, 5]\n",
      "[1, 2, 3, 4, 5]\n",
      "[1, 2, 3, 4, 5]\n",
      "[1, 2, 3, 4, 5]\n"
     ]
    }
   ],
   "source": [
    "my_list1 = [1, 2, 3, 4, 5]\n",
    "my_list2 = list([1, 2, 3, 4, 5])\n",
    "my_list3 = [x for x in range(1, 6)]\n",
    "my_list4 = list(range(1, 6))\n",
    "\n",
    "\n",
    "print(my_list1)\n",
    "print(my_list2)\n",
    "print(my_list3)\n",
    "print(my_list4)"
   ]
  },
  {
   "cell_type": "code",
   "execution_count": 36,
   "metadata": {},
   "outputs": [
    {
     "data": {
      "text/plain": [
       "['1', '2', '3', '4', '5']"
      ]
     },
     "execution_count": 36,
     "metadata": {},
     "output_type": "execute_result"
    }
   ],
   "source": [
    "my_list5 = \"1 2 3 4 5\".split()\n",
    "my_list5"
   ]
  },
  {
   "cell_type": "code",
   "execution_count": 37,
   "metadata": {},
   "outputs": [
    {
     "data": {
      "text/plain": [
       "[1, 2, 3, 4, 5]"
      ]
     },
     "execution_count": 37,
     "metadata": {},
     "output_type": "execute_result"
    }
   ],
   "source": [
    "my_list = []\n",
    "for i in range(1, 6):\n",
    "    my_list.append(i)\n",
    "my_list"
   ]
  },
  {
   "cell_type": "code",
   "execution_count": 38,
   "metadata": {},
   "outputs": [
    {
     "data": {
      "text/plain": [
       "[1, 2, 3, 4, 5]"
      ]
     },
     "execution_count": 38,
     "metadata": {},
     "output_type": "execute_result"
    }
   ],
   "source": [
    "my_list = []\n",
    "my_list.extend([1, 2, 3, 4, 5])\n",
    "my_list"
   ]
  },
  {
   "cell_type": "code",
   "execution_count": 39,
   "metadata": {},
   "outputs": [
    {
     "data": {
      "text/plain": [
       "[0, 0, 0, 0, 0]"
      ]
     },
     "execution_count": 39,
     "metadata": {},
     "output_type": "execute_result"
    }
   ],
   "source": [
    "\"\"\" Asterisk * operator to repeat a value \"\"\"\n",
    "my_list = [0] * 5\n",
    "my_list"
   ]
  },
  {
   "cell_type": "code",
   "execution_count": 40,
   "metadata": {},
   "outputs": [
    {
     "data": {
      "text/plain": [
       "[1, 2, 3, 4, 5]"
      ]
     },
     "execution_count": 40,
     "metadata": {},
     "output_type": "execute_result"
    }
   ],
   "source": [
    "my_list = list(dict.fromkeys([1, 2, 3, 4, 5]))\n",
    "my_list"
   ]
  },
  {
   "cell_type": "code",
   "execution_count": 41,
   "metadata": {},
   "outputs": [],
   "source": [
    "\"\"\" Copy the reference to a list to another list. All changes in my_list affects also lst2 and viceversa. It is just like creating an Alias. \"\"\"\n",
    "lst2 = my_list"
   ]
  },
  {
   "cell_type": "code",
   "execution_count": 42,
   "metadata": {},
   "outputs": [
    {
     "data": {
      "text/plain": [
       "([1, 2, 3, 4], [1, 2, 3, 4], [1, 2, 3, 4])"
      ]
     },
     "execution_count": 42,
     "metadata": {},
     "output_type": "execute_result"
    }
   ],
   "source": [
    "\"\"\" Copy a list without passing just the reference, but create another separated object in memory \"\"\"\n",
    "the_list = [1, 2, 3, 4]\n",
    "# Create view\n",
    "the_copy1 = the_list[:]\n",
    "the_copy2 = list(the_list)\n",
    "the_copy3 = the_list.copy()     # using the COPY built-in method for lists, not the copy library!\n",
    "the_copy1, the_copy2, the_copy3"
   ]
  },
  {
   "cell_type": "code",
   "execution_count": 43,
   "metadata": {},
   "outputs": [
    {
     "data": {
      "text/plain": [
       "['changed', 2, 3]"
      ]
     },
     "execution_count": 43,
     "metadata": {},
     "output_type": "execute_result"
    }
   ],
   "source": [
    "def one_func(a_list):\n",
    "    \"\"\" Modify a value stored in the reference of the list passed. \"\"\"\n",
    "    a_list[0] = \"changed\"\n",
    "\n",
    "pass_this = [1, 2, 3]\n",
    "one_func(pass_this)\n",
    "pass_this"
   ]
  },
  {
   "cell_type": "code",
   "execution_count": 44,
   "metadata": {},
   "outputs": [
    {
     "data": {
      "text/plain": [
       "(['changed', 2, 3], ['changed', 2, 3])"
      ]
     },
     "execution_count": 44,
     "metadata": {},
     "output_type": "execute_result"
    }
   ],
   "source": [
    "def one_func(a_list):\n",
    "    \"\"\" Modify a value stored in the reference of the list passed. \"\"\"\n",
    "    a_list[0] = \"changed\"\n",
    "\n",
    "pass_this = [1, 2, 3]\n",
    "pass_this2 = pass_this\n",
    "one_func(pass_this)\n",
    "pass_this, pass_this2"
   ]
  },
  {
   "cell_type": "code",
   "execution_count": 45,
   "metadata": {},
   "outputs": [
    {
     "data": {
      "text/plain": [
       "([100, 200, 300, 'ciao', 'ciao', 'ciao'],\n",
       " [100, 200, 300, 'ciao', 'ciao', 'ciao'],\n",
       " [100, 200, 300, 'ciao', 'ciao', 'ciao'])"
      ]
     },
     "execution_count": 45,
     "metadata": {},
     "output_type": "execute_result"
    }
   ],
   "source": [
    "def append_func(param_lst = [100, 200, 300]):\n",
    "    \"\"\" A function with defaul parameter which is mutable. Everytime it is called, the number is append to the same list is referenced. \n",
    "    Bottom line => Don't use mutable objects as default parameter in functions!\n",
    "    \"\"\"\n",
    "    param_lst.append(\"ciao\")\n",
    "    return param_lst\n",
    "\n",
    "list_a = append_func()\n",
    "list_b = append_func()\n",
    "list_c = append_func()\n",
    "\n",
    "list_a, list_b, list_c "
   ]
  },
  {
   "cell_type": "code",
   "execution_count": 46,
   "metadata": {},
   "outputs": [
    {
     "data": {
      "text/plain": [
       "(['ciao'], ['ciao'], ['ciao'])"
      ]
     },
     "execution_count": 46,
     "metadata": {},
     "output_type": "execute_result"
    }
   ],
   "source": [
    "### Passing a new empty list, the default list is not used\n",
    "list_a = append_func([])\n",
    "list_b = append_func([])\n",
    "list_c = append_func([])\n",
    "list_a, list_b, list_c "
   ]
  },
  {
   "cell_type": "markdown",
   "metadata": {},
   "source": [
    "<h2 style=\"color:crimson\"> 2) Basic operations </h2>"
   ]
  },
  {
   "cell_type": "code",
   "execution_count": 47,
   "metadata": {},
   "outputs": [
    {
     "name": "stdout",
     "output_type": "stream",
     "text": [
      "1\n",
      "2\n",
      "3\n",
      "4\n",
      "5\n",
      "1\n",
      "2\n",
      "3\n",
      "4\n",
      "5\n"
     ]
    }
   ],
   "source": [
    "# with itertools\n",
    "my_list = [1, 2, 3, 4, 5]\n",
    "cycler = itertools.cycle(my_list)\n",
    "\n",
    "for _ in range(10):\n",
    "    item = next(cycler)\n",
    "    print(item)"
   ]
  },
  {
   "cell_type": "code",
   "execution_count": 48,
   "metadata": {},
   "outputs": [],
   "source": [
    "def get_list_depth_recursive(lst, current_depth=0):\n",
    "    \"\"\" Calculate the depth of a nested list (recursion version).\n",
    "\n",
    "    Parameters:\n",
    "        - Input (nested) list\n",
    "        - current depth level during recursion [int, optional (default is 0)]\n",
    "\n",
    "        \n",
    "    Details: \n",
    "        - The depth corresponds to the max number of nested levels within the list.\n",
    "        - If input it's not a list, return the current depth.\n",
    "        - If input is an empty list, return the current depth + 1. (Base condition!)\n",
    "        - Otherwise, calculate the depth for each item in the list and return the maximum depth\n",
    "        \n",
    "    Returns:\n",
    "        Depth of the nested list [int]\n",
    "    \"\"\"\n",
    "    if not isinstance(lst, list):\n",
    "        return current_depth\n",
    "    if not lst:\n",
    "        return current_depth + 1      \n",
    "\n",
    "    item_depths = [get_list_depth_recursive(item, current_depth + 1) for item in lst]\n",
    "    return max(item_depths)"
   ]
  },
  {
   "cell_type": "code",
   "execution_count": 49,
   "metadata": {},
   "outputs": [
    {
     "name": "stdout",
     "output_type": "stream",
     "text": [
      "[[[[23, 10, 55, 61, 3], [76, 14, 13, 3], [78, 49, 26], [62, 32, 85]], [[16, 89], [80, 32, 50, 84]]], [[[75, 95, 78, 7], [81, 39, 4], [4, 67, 75, 44], [7, 7, 28, 57]], [[11, 97, 49], [76, 18], [49, 50, 58], [43, 83, 57, 88]], [[15, 32, 98, 65, 91], [53, 69, 84], [92, 2, 49, 97], [10, 97], [81, 63, 52]]], [[[99, 93, 8, 20], [84, 4, 13, 27]], [[57, 23, 54], [89, 34]], [[84, 81, 78, 77], [9, 72, 23, 69, 88]], [[65, 43], [21, 56, 35, 79, 31], [37, 83], [19, 10, 100, 6, 67]], [[22, 46], [47, 15], [87, 44, 24]]], [[[70, 19, 9], [74, 37, 44, 56], [49, 32, 17, 69], [70, 93, 31], [8, 93, 88]], [[1, 100, 73], [62, 80, 42, 19, 61], [8, 19, 94, 28], [14, 58, 2, 76]]]]\n",
      "[[[[23, 10, 55, 61, 3], [76, 14, 13, 3], [78, 49, 26], [62, 32, 85]],\n",
      "  [[16, 89], [80, 32, 50, 84]]],\n",
      " [[[75, 95, 78, 7], [81, 39, 4], [4, 67, 75, 44], [7, 7, 28, 57]],\n",
      "  [[11, 97, 49], [76, 18], [49, 50, 58], [43, 83, 57, 88]],\n",
      "  [[15, 32, 98, 65, 91],\n",
      "   [53, 69, 84],\n",
      "   [92, 2, 49, 97],\n",
      "   [10, 97],\n",
      "   [81, 63, 52]]],\n",
      " [[[99, 93, 8, 20], [84, 4, 13, 27]],\n",
      "  [[57, 23, 54], [89, 34]],\n",
      "  [[84, 81, 78, 77], [9, 72, 23, 69, 88]],\n",
      "  [[65, 43], [21, 56, 35, 79, 31], [37, 83], [19, 10, 100, 6, 67]],\n",
      "  [[22, 46], [47, 15], [87, 44, 24]]],\n",
      " [[[70, 19, 9], [74, 37, 44, 56], [49, 32, 17, 69], [70, 93, 31], [8, 93, 88]],\n",
      "  [[1, 100, 73], [62, 80, 42, 19, 61], [8, 19, 94, 28], [14, 58, 2, 76]]]]\n"
     ]
    }
   ],
   "source": [
    "def create_nested_list(nesting_level):\n",
    "    if nesting_level == 0:\n",
    "        return random.randint(1, 100)\n",
    "    else:\n",
    "        return [create_nested_list(nesting_level - 1) for _ in range(random.randint(2, 5))]\n",
    "    \n",
    "nesting_level = 4\n",
    "nested_list = create_nested_list(nesting_level)\n",
    "print(nested_list)    \n",
    "pprint(nested_list)"
   ]
  },
  {
   "cell_type": "code",
   "execution_count": 50,
   "metadata": {},
   "outputs": [
    {
     "data": {
      "text/plain": [
       "4"
      ]
     },
     "execution_count": 50,
     "metadata": {},
     "output_type": "execute_result"
    }
   ],
   "source": [
    "get_list_depth_recursive(nested_list)"
   ]
  },
  {
   "cell_type": "code",
   "execution_count": 51,
   "metadata": {},
   "outputs": [
    {
     "data": {
      "text/plain": [
       "[4, 2, 4, 5]"
      ]
     },
     "execution_count": 51,
     "metadata": {},
     "output_type": "execute_result"
    }
   ],
   "source": [
    "def get_list_shape(input_list):\n",
    "    if isinstance(input_list, list):\n",
    "        return [len(input_list)] + get_list_shape(input_list[0])\n",
    "    else:\n",
    "        return []\n",
    "\n",
    "get_list_shape(nested_list) "
   ]
  },
  {
   "cell_type": "markdown",
   "metadata": {},
   "source": [
    "<h2 style=\"color:crimson\"> 3) Get the type of elements </h2>"
   ]
  },
  {
   "cell_type": "code",
   "execution_count": 52,
   "metadata": {},
   "outputs": [
    {
     "name": "stdout",
     "output_type": "stream",
     "text": [
      "<class 'int'>\n"
     ]
    }
   ],
   "source": [
    "element_type = type(my_list[0])\n",
    "print(element_type)"
   ]
  },
  {
   "cell_type": "code",
   "execution_count": 53,
   "metadata": {},
   "outputs": [
    {
     "name": "stdout",
     "output_type": "stream",
     "text": [
      "[<class 'int'>, <class 'int'>, <class 'int'>, <class 'int'>, <class 'int'>]\n"
     ]
    }
   ],
   "source": [
    "element_types = []\n",
    "for element in my_list:\n",
    "    element_types.append(type(element))\n",
    "print(element_types)"
   ]
  },
  {
   "cell_type": "markdown",
   "metadata": {},
   "source": [
    "<h2 style=\"color:crimson\"> 4) Add + Insert + Modify + Remove </h2>"
   ]
  },
  {
   "cell_type": "code",
   "execution_count": 54,
   "metadata": {},
   "outputs": [
    {
     "name": "stdout",
     "output_type": "stream",
     "text": [
      "[1, 2, 4, 5]\n",
      "[1, 2, 5]\n",
      "[1, 2]\n",
      "[]\n"
     ]
    }
   ],
   "source": [
    "\"\"\" Remove by value => REMOVE \"\"\"\n",
    "my_list = [1, 2, 3, 4, 5]\n",
    "my_list.remove(3)\n",
    "print(my_list)\n",
    "\n",
    "\"\"\" Remove by index => DEL \"\"\"\n",
    "del my_list[2]\n",
    "print(my_list)\n",
    "\n",
    "\"\"\" Remove last val => FROM INDEX \"\"\"\n",
    "my_list.pop()\n",
    "print(my_list)\n",
    "\n",
    "\"\"\" Remove all \"\"\"\n",
    "my_list.clear()\n",
    "print(my_list)"
   ]
  },
  {
   "cell_type": "code",
   "execution_count": 55,
   "metadata": {},
   "outputs": [
    {
     "name": "stdout",
     "output_type": "stream",
     "text": [
      "[59, 86, 52, 62, 67, 96, 68, 94, 40, 16]\n",
      "[59, 86, 62, 67, 96, 68, 94, 40, 16]\n",
      "[59, 96, 68, 94, 40, 16]\n"
     ]
    }
   ],
   "source": [
    "\"\"\" del (FROM INDEX) \"\"\"\n",
    "a_list = random.sample(range(1, 101), 10)\n",
    "print(a_list)\n",
    "del a_list[2]\n",
    "print(a_list)\n",
    "del a_list[1:4]\n",
    "print(a_list)"
   ]
  },
  {
   "cell_type": "code",
   "execution_count": 56,
   "metadata": {},
   "outputs": [
    {
     "name": "stdout",
     "output_type": "stream",
     "text": [
      "[133, 34, 56, 75, 65, 34, 87, 64, 2, 3, 17]\n",
      "[133, 34, 56, 65, 34, 87, 64, 2, 3, 17]\n",
      "[133, 34, 56, 65, 34, 87, 64, 2, 3]\n",
      "[133, 34, 56, 65, 34, 87, 2, 3]\n"
     ]
    }
   ],
   "source": [
    "\"\"\" Pop (FROM INDEX) \"\"\"\n",
    "numbers = [133,32,34,56,75,65,34,87,64,2,3,17]\n",
    "numbers.pop(1)\n",
    "print(numbers)\n",
    "numbers.pop(3)\n",
    "print(numbers)\n",
    "numbers.pop(-1)\n",
    "print(numbers)\n",
    "numbers.pop(-3)\n",
    "print(numbers)"
   ]
  },
  {
   "cell_type": "code",
   "execution_count": 57,
   "metadata": {},
   "outputs": [
    {
     "data": {
      "text/plain": [
       "[56, 65, 34, 87, 2, 3]"
      ]
     },
     "execution_count": 57,
     "metadata": {},
     "output_type": "execute_result"
    }
   ],
   "source": [
    "\"\"\" Delete multiple items \"\"\"\n",
    "del numbers[:2]\n",
    "numbers"
   ]
  },
  {
   "cell_type": "code",
   "execution_count": 58,
   "metadata": {},
   "outputs": [
    {
     "name": "stdout",
     "output_type": "stream",
     "text": [
      "[1, 2]\n"
     ]
    }
   ],
   "source": [
    "\"\"\" Remove NULL values \"\"\"\n",
    "list_qu = [None, None, 1, 2, None]\n",
    "list_qu = list(filter(None, list_qu))\n",
    "print(list_qu)"
   ]
  },
  {
   "cell_type": "code",
   "execution_count": 59,
   "metadata": {},
   "outputs": [
    {
     "name": "stdout",
     "output_type": "stream",
     "text": [
      "[1, 2, 3, 4]\n"
     ]
    }
   ],
   "source": [
    "\"\"\" Add an element \"\"\"\n",
    "my_list = [1, 2, 3]\n",
    "my_list.append(4)\n",
    "print(my_list)"
   ]
  },
  {
   "cell_type": "code",
   "execution_count": 60,
   "metadata": {},
   "outputs": [
    {
     "name": "stdout",
     "output_type": "stream",
     "text": [
      "[1, 2, 3, 4, 5, 6]\n"
     ]
    }
   ],
   "source": [
    "\"\"\" Extend list with another iterable \"\"\"\n",
    "my_list = [1, 2, 3]\n",
    "another_list = [4, 5, 6]\n",
    "my_list.extend(another_list)\n",
    "print(my_list)"
   ]
  },
  {
   "cell_type": "code",
   "execution_count": 61,
   "metadata": {},
   "outputs": [
    {
     "name": "stdout",
     "output_type": "stream",
     "text": [
      "[1, 4, 2, 3]\n"
     ]
    }
   ],
   "source": [
    "\"\"\" Insert at a specific index \"\"\"\n",
    "my_list = [1, 2, 3]\n",
    "my_list.insert(1, 4)\n",
    "print(my_list)"
   ]
  },
  {
   "cell_type": "code",
   "execution_count": 62,
   "metadata": {},
   "outputs": [
    {
     "name": "stdout",
     "output_type": "stream",
     "text": [
      "[[1, 2, 3, 4, 54], [5, 6, 7, 9, 19], [60, 432, 41]]\n",
      "[[[1, 2], [3, 4], [54, 5]], [[6, 7]]]\n",
      "[[[[1, 2], [3, 4], [54, 5], [6, 7]], [12, 132]]]\n"
     ]
    }
   ],
   "source": [
    "\"\"\" Add one more level to a list \"\"\"\n",
    "original_list0 = [1,2,3,4,54,5,6,7,9,19,60,432,41]\n",
    "original_list1 = [[1,2],[3,4],[54,5],[6,7]]\n",
    "original_list2 = [[[1,2],[3,4],[54,5],[6,7]],[12,132]]\n",
    "\n",
    "# Number of parts in which the list should be divided\n",
    "list_size0 = 5\n",
    "list_size1 = 3\n",
    "list_size2 = 3\n",
    "list_new0 = [original_list0[i:i+list_size0] for i in range(0, len(original_list0), list_size0)]\n",
    "list_new1 = [original_list1[i:i+list_size1] for i in range(0, len(original_list1), list_size1)]\n",
    "list_new2 = [original_list2[i:i+list_size2] for i in range(0, len(original_list2), list_size2)]\n",
    "\n",
    "print(list_new0)\n",
    "print(list_new1)\n",
    "print(list_new2)"
   ]
  },
  {
   "cell_type": "code",
   "execution_count": 63,
   "metadata": {},
   "outputs": [
    {
     "data": {
      "text/plain": [
       "(4, [2, 3, 4, 5, 5])"
      ]
     },
     "execution_count": 63,
     "metadata": {},
     "output_type": "execute_result"
    }
   ],
   "source": [
    "def removeDuplicates1(nums):\n",
    "    \"\"\" Remove the duplicates in the given sorted array in-place such that each unique element appears only once, \n",
    "    1) Change the array nums such that the first k elements of nums contain the unique elements in the order they were present in nums initially. \n",
    "    2) The remaining elements of nums are not important as well as the size of nums.\n",
    "    3) Return k.\n",
    "    \"\"\"\n",
    "    if not nums:\n",
    "        return 0\n",
    "\n",
    "    k = 1  # Start from 1 since the first element is always unique\n",
    "    for i in range(1, len(nums)):\n",
    "        if nums[i] != nums[i - 1]:\n",
    "            nums[k] = nums[i]\n",
    "            k += 1\n",
    "    return k\n",
    "\n",
    "numb1 = [2,3,3,4,5]\n",
    "res1 = removeDuplicates1(numb1)\n",
    "res1, numb1"
   ]
  },
  {
   "cell_type": "code",
   "execution_count": 64,
   "metadata": {},
   "outputs": [
    {
     "data": {
      "text/plain": [
       "(7, [0, 0, 1, 1, 2, 3, 3, 3, 3])"
      ]
     },
     "execution_count": 64,
     "metadata": {},
     "output_type": "execute_result"
    }
   ],
   "source": [
    "def removeDuplicates2(nums):\n",
    "    \"\"\" Remove some duplicates in-place in the given sorted array, such that each unique element appears at most twice. \n",
    "    Nothes:\n",
    "        - The relative order of the elements should be kept the same.\n",
    "        - The first k elements of nums should hold the final result. It does not matter what you leave beyond the first k elements.\n",
    "        - Do not allocate extra space for another array. You must do this by modifying the input array in-place with O(1) extra memory.\n",
    "        - It does not matter what you leave beyond the returned k.\n",
    "        - Return k after placing the final result in the first k slots of nums.\n",
    "    \"\"\"\n",
    "    if len(nums) < 3:\n",
    "        return len(nums)\n",
    "\n",
    "    k = 2  # Start from 2, the first two elements are always valid\n",
    "    for i in range(2, len(nums)):\n",
    "        if nums[i] != nums[k - 2]:\n",
    "            nums[k] = nums[i]\n",
    "            k += 1\n",
    "    return k\n",
    "\n",
    "#numb2 = [1,1,1,2,2,3]\n",
    "numb2 = [0,0,1,1,1,1,2,3,3]\n",
    "res2 = removeDuplicates2(numb2)\n",
    "res2, numb2"
   ]
  },
  {
   "cell_type": "code",
   "execution_count": 65,
   "metadata": {},
   "outputs": [
    {
     "data": {
      "text/plain": [
       "[-1, -646, -4, -2, -8, -71, -82, 3, 5, 7, 4, 45, 41, 6, 4, 3, 7, 9, 2]"
      ]
     },
     "execution_count": 65,
     "metadata": {},
     "output_type": "execute_result"
    }
   ],
   "source": [
    "def negative_in_front(my_list):\n",
    "    \"\"\" Given an array of n real numbers, design an efficient algorithm in terms of time and space,\\\\ \n",
    "    that positions all negative elements before all positive elements.\n",
    "    \"\"\"\n",
    "    ################################################ solution 0: just sort to get all negative before positive. Complexity => O(n * log(n))\n",
    "    '''\n",
    "    my_list.sort()\n",
    "    return my_list\n",
    "    '''\n",
    "    ################################################ solution 1: two passes through the array. Complexity => O(n) + O(n) = O(n) \n",
    "    '''\n",
    "    negatives = [x for x in my_list if x < 0]\n",
    "    positives = [x for x in my_list if x >= 0]\n",
    "    return negatives + positives\n",
    "    '''\n",
    "    ################################################ solution 2: use an extra array to add negatives and positive in right position. Complexity => O(n) \n",
    "    '''\n",
    "    return_me = [0] * len(my_list)\n",
    "    nega, posi = 0, len(my_list)-1\n",
    "    for i in range(len(my_list)-1):\n",
    "        print(\"round num {} elem {}\".format(i, my_list[i]))\n",
    "        if my_list[i] >= 0:\n",
    "            return_me[posi] = my_list[i]\n",
    "            nega += 1\n",
    "        else:\n",
    "            return_me[nega] = my_list[i]\n",
    "            posi -= 1\n",
    "    return return_me\n",
    "    '''    \n",
    "    ################################################ solution 3: just sort to get all negative before positive (REMOVE DUPLICATES!!!). Complexity => O(n * log(n)) [constant + linear * constant + sort]\n",
    "    ''' \n",
    "    store_in_a_set = set()\n",
    "    for i,num in enumerate(my_list):\n",
    "        if num not in store_in_a_set:\n",
    "            store_in_a_set.add(num)\n",
    "    res = sorted(to_return, reverse=False)\n",
    "    return res\n",
    "    '''\n",
    "    # Both 1 and 2 returns all positive numbers first! even if the set is printed with number in ascending order\n",
    "    # 1\n",
    "    # res = [x for x in to_return]\n",
    "    # return res\n",
    "    # 2 \n",
    "    # return list(to_return) \n",
    "    ################################################ solution 4: two-pointer approach! (similar to Quicksort). Complexity => O(n), but Space complexity is O(1)!!\n",
    "    left, right = 0, len(my_list)-1\n",
    "    \n",
    "    while left < right:\n",
    "        while left < right and my_list[left] < 0:\n",
    "            left += 1 \n",
    "        while left < right and my_list[right] >= 0:\n",
    "            right -= 1\n",
    "        # Swap the elements\n",
    "        if left < right:\n",
    "            my_list[left], my_list[right] = my_list[right], my_list[left]\n",
    "    \n",
    "    return my_list\n",
    "\n",
    "\n",
    "aaa = [-1, 3, -4, 6, 4, -71, -82, 3, 5, 7, -8, 45, 41, -2, 4, -646, 7, 9, 2]\n",
    "negative_in_front(aaa)\n"
   ]
  },
  {
   "cell_type": "code",
   "execution_count": 79,
   "metadata": {},
   "outputs": [
    {
     "name": "stdout",
     "output_type": "stream",
     "text": [
      "The min is : 1 The max is:  123\n"
     ]
    }
   ],
   "source": [
    "\"\"\" Given an array A of n integers, returns the maximum and minimum of A in time O(n). \"\"\"\n",
    "\n",
    "def find_max_min_naive(arr):\n",
    "    \"\"\" Iterative solution.\\\\\n",
    "    Complexities:\n",
    "        - Time: O(n). It iterates over each element of the array once.\n",
    "        - Space: O(1). It only uses a constant amount of additional space for the \"min_val\" and \"max_val\" vars.\n",
    "    \"\"\"\n",
    "    if not arr:\n",
    "        return None, None\n",
    "\n",
    "    min_val = max_val = arr[0]\n",
    "\n",
    "    for num in arr:\n",
    "        if num < min_val:\n",
    "            min_val = num\n",
    "        if num > max_val:\n",
    "            max_val = num\n",
    "\n",
    "    return min_val, max_val\n",
    "\n",
    "a_list = [12, 123, 45, 67, 1]\n",
    "minimo, massimo = find_max_min_naive(a_list)\n",
    "print(\"The min is :\", minimo, \"The max is: \", massimo)"
   ]
  },
  {
   "cell_type": "code",
   "execution_count": 80,
   "metadata": {},
   "outputs": [
    {
     "name": "stdout",
     "output_type": "stream",
     "text": [
      "The min is : 1 The max is:  123\n"
     ]
    }
   ],
   "source": [
    "def find_max_and_min(my_list, lower_i, higher_i):\n",
    "    \"\"\" Recursive solution, using the \"divide and conquer\" paradigm and passing the indices not the min and max values!\\\\\n",
    "    Complexities:\n",
    "        - Time: O(n) => Even though divide the array in two at each step (like Merge Sort), each element is only compared once when it is combined.\n",
    "        - Space: O(log n) => The depth of the recursive call stack.\n",
    "    \n",
    "    \"\"\"\n",
    "    if len(my_list) == 0:\n",
    "        return None\n",
    "    # Base cases\n",
    "    if lower_i == higher_i: #only 1 elem\n",
    "        return my_list[lower_i], my_list[higher_i]\n",
    "    if higher_i == lower_i + 1: #only 2 elems\n",
    "        if my_list[lower_i] < my_list[higher_i]:\n",
    "            return my_list[lower_i], my_list[higher_i]\n",
    "        else:\n",
    "            return my_list[higher_i], my_list[lower_i]\n",
    "        \n",
    "    mid = (lower_i + higher_i) // 2\n",
    "    min1, max1 = find_max_and_min(my_list, lower_i, mid)\n",
    "    min2, max2 = find_max_and_min(my_list, mid + 1, higher_i)\n",
    "\n",
    "    return min(min1, min2), max(max1, max2)\n",
    "\n",
    "# Wrapper method\n",
    "def max_min(arr):\n",
    "    return find_max_and_min(arr, 0, len(arr) - 1)\n",
    "\n",
    "a_list = [12, 123, 45, 67, 1]\n",
    "minimo, massimo = max_min(a_list)\n",
    "print(\"The min is :\", minimo, \"The max is: \", massimo)"
   ]
  },
  {
   "cell_type": "markdown",
   "metadata": {},
   "source": [
    "<h2 style=\"color:crimson\"> 5) Reverse  </h2>"
   ]
  },
  {
   "cell_type": "code",
   "execution_count": 67,
   "metadata": {},
   "outputs": [
    {
     "data": {
      "text/plain": [
       "[10, 9, 8, 7, 6]"
      ]
     },
     "execution_count": 67,
     "metadata": {},
     "output_type": "execute_result"
    }
   ],
   "source": [
    "reve_list = [6,7,8,9,10]\n",
    "reve_list.reverse()\n",
    "reve_list"
   ]
  },
  {
   "cell_type": "code",
   "execution_count": 68,
   "metadata": {},
   "outputs": [
    {
     "data": {
      "text/plain": [
       "[6, 7, 8, 9, 10]"
      ]
     },
     "execution_count": 68,
     "metadata": {},
     "output_type": "execute_result"
    }
   ],
   "source": [
    "# With slicing\n",
    "reversed_list = reve_list[::-1]\n",
    "reversed_list"
   ]
  },
  {
   "cell_type": "code",
   "execution_count": 69,
   "metadata": {},
   "outputs": [
    {
     "data": {
      "text/plain": [
       "[10, 9, 8, 7, 6]"
      ]
     },
     "execution_count": 69,
     "metadata": {},
     "output_type": "execute_result"
    }
   ],
   "source": [
    "# With reversed\n",
    "reversed_list = list(reversed(reversed_list))\n",
    "reversed_list"
   ]
  },
  {
   "cell_type": "code",
   "execution_count": 70,
   "metadata": {},
   "outputs": [
    {
     "data": {
      "text/plain": [
       "[10, 9, 8, 7, 6, 5, 4, 3, 2, 1]"
      ]
     },
     "execution_count": 70,
     "metadata": {},
     "output_type": "execute_result"
    }
   ],
   "source": [
    "# Create directly the list with range\n",
    "list(reversed(range(1,11)))"
   ]
  },
  {
   "cell_type": "code",
   "execution_count": 71,
   "metadata": {},
   "outputs": [
    {
     "data": {
      "text/plain": [
       "[10, 9, 8, 7, 6]"
      ]
     },
     "execution_count": 71,
     "metadata": {},
     "output_type": "execute_result"
    }
   ],
   "source": [
    "# With sorted \n",
    "li = [6,7,8,9,10]\n",
    "reversed_list = sorted(li, reverse=True)\n",
    "reversed_list"
   ]
  },
  {
   "cell_type": "code",
   "execution_count": 72,
   "metadata": {},
   "outputs": [
    {
     "data": {
      "text/plain": [
       "[10, 9, 8, 7, 6]"
      ]
     },
     "execution_count": 72,
     "metadata": {},
     "output_type": "execute_result"
    }
   ],
   "source": [
    "# With deque\n",
    "li = [6, 7, 8, 9, 10]\n",
    "deque_list = deque(li)\n",
    "deque_list.reverse()\n",
    "reversed_list = list(deque_list)\n",
    "reversed_list"
   ]
  },
  {
   "cell_type": "markdown",
   "metadata": {},
   "source": [
    "<h2 style=\"color:crimson\"> 6) Concatenation </h2>"
   ]
  },
  {
   "cell_type": "code",
   "execution_count": 73,
   "metadata": {},
   "outputs": [
    {
     "data": {
      "text/plain": [
       "[1, 2, 3, 4, 5, 6, 7, 8, 9, 10, 11, 12]"
      ]
     },
     "execution_count": 73,
     "metadata": {},
     "output_type": "execute_result"
    }
   ],
   "source": [
    "# Standard way\n",
    "list1 = [1, 2, 3, 4, 5, 6]\n",
    "list2 = [7, 8, 9, 10, 11, 12]\n",
    "\n",
    "concatenated_list = list1 + list2\n",
    "concatenated_list"
   ]
  },
  {
   "cell_type": "code",
   "execution_count": 74,
   "metadata": {},
   "outputs": [
    {
     "data": {
      "text/plain": [
       "[1, 2, 3, 4, 5, 6, 7, 8, 9, 10, 11, 12]"
      ]
     },
     "execution_count": 74,
     "metadata": {},
     "output_type": "execute_result"
    }
   ],
   "source": [
    "# Using extend\n",
    "list1.extend(list2)\n",
    "list1"
   ]
  },
  {
   "cell_type": "code",
   "execution_count": 75,
   "metadata": {},
   "outputs": [
    {
     "data": {
      "text/plain": [
       "[1, 2, 3, 4, 5, 6, 7, 8, 9, 10, 11, 12, 7, 8, 9, 10, 11, 12]"
      ]
     },
     "execution_count": 75,
     "metadata": {},
     "output_type": "execute_result"
    }
   ],
   "source": [
    "# Using list comprehension\n",
    "concatenated_list = [x for sublist in [list1, list2] for x in sublist]\n",
    "concatenated_list"
   ]
  },
  {
   "cell_type": "code",
   "execution_count": 76,
   "metadata": {},
   "outputs": [
    {
     "name": "stdout",
     "output_type": "stream",
     "text": [
      "[1, 2, 3, 4, 5, 6]\n"
     ]
    }
   ],
   "source": [
    "# Using append\n",
    "list1 = [1, 2, 3]\n",
    "list2 = [4, 5, 6]\n",
    "for item in list2:\n",
    "    list1.append(item)\n",
    "print(list1)"
   ]
  },
  {
   "cell_type": "code",
   "execution_count": 77,
   "metadata": {},
   "outputs": [
    {
     "data": {
      "text/plain": [
       "[1, 2, 3, 4, 5, 6, 1, 2, 3, 4, 5, 6]"
      ]
     },
     "execution_count": 77,
     "metadata": {},
     "output_type": "execute_result"
    }
   ],
   "source": [
    "# Repeat list twice\n",
    "repeated_list = list1 * 2 \n",
    "repeated_list"
   ]
  },
  {
   "cell_type": "code",
   "execution_count": 83,
   "metadata": {},
   "outputs": [
    {
     "data": {
      "text/plain": [
       "[3, 4]"
      ]
     },
     "execution_count": 83,
     "metadata": {},
     "output_type": "execute_result"
    }
   ],
   "source": [
    "def intersection_recursive(list1, list2):\n",
    "    \"\"\" Find the intersection of two sorted lists using a recursive approach. \n",
    "    \n",
    "    Parameters in the helper function:\n",
    "        - list1: The first sorted list [list]\n",
    "        - list2: The second sorted list [list]\n",
    "        - i: The current index in list1 being considered [int]\n",
    "        - j: The current index in list2 being considered [int]\n",
    "        - result: The list to store the intersection elements [list]\n",
    "\n",
    "    Notes:\n",
    "        - Recursion is done two times inside and outside the internal helper function\n",
    "        - Complexity => O(n log n) => More specifically:  O(m log m + n log n) => Sorting + Finding Intersection => O(m log m) and O(n log n) + O(m + n).\n",
    "    \"\"\"\n",
    "    def intersection_helper(sorted1, sorted2, i=0, j=0, result=None):\n",
    "        if result is None:\n",
    "            result = []\n",
    "        # Base case\n",
    "        if i >= len(sorted1) or j >= len(sorted2):\n",
    "            return result\n",
    "\n",
    "        if sorted1[i] == sorted2[j]:\n",
    "            result.append(sorted1[i])\n",
    "            return intersection_helper(sorted1, sorted2, i + 1, j + 1, result)\n",
    "        elif sorted1[i] < sorted2[j]:\n",
    "            return intersection_helper(sorted1, sorted2, i + 1, j, result)\n",
    "        else:\n",
    "            return intersection_helper(sorted1, sorted2, i, j + 1, result)\n",
    "\n",
    "    ## Sort both lists first\n",
    "    sorted_list1 = sorted(list1)\n",
    "    sorted_list2 = sorted(list2)\n",
    "\n",
    "    # Call with sorted lists\n",
    "    return intersection_helper(sorted_list1, sorted_list2)\n",
    "\n",
    "\n",
    "list1 = [3, 1, 4]\n",
    "list2 = [4, 5, 3, 2]\n",
    "intersection_recursive(list1, list2)"
   ]
  },
  {
   "cell_type": "code",
   "execution_count": 81,
   "metadata": {},
   "outputs": [
    {
     "name": "stdout",
     "output_type": "stream",
     "text": [
      "[3, 4, 5]\n"
     ]
    }
   ],
   "source": [
    "def intersection_recursive_2(list1, list2, i=0, j=0, result=None):\n",
    "    \"\"\" Find the intersection of two sorted lists using a recursive approach.\n",
    "    \n",
    "    Parameters:\n",
    "        - list1: The first sorted list [list]\n",
    "        - list2: The second sorted list [list]\n",
    "        - i: The current index in list1 being considered [int]\n",
    "        - j: The current index in list2 being considered [int]\n",
    "        - result: The list to store the intersection elements [list]\n",
    "\n",
    "    Notes:\n",
    "        Complexity => O(m + n) \n",
    "    \"\"\"\n",
    "\n",
    "    # Initialize the result list on the first call\n",
    "    if result is None:\n",
    "        result = []\n",
    "\n",
    "    # Base case: If either index is past the end of its list, return the result\n",
    "    if i >= len(list1) or j >= len(list2):\n",
    "        return result\n",
    "\n",
    "    # If the current elements are equal, add to the result\n",
    "    if list1[i] == list2[j]:\n",
    "        result.append(list1[i])\n",
    "        return intersection_recursive_2(list1, list2, i + 1, j + 1, result)\n",
    "    # If the current element in list1 is smaller, move to the next element in list1\n",
    "    elif list1[i] < list2[j]:\n",
    "        return intersection_recursive_2(list1, list2, i + 1, j, result)\n",
    "    # If the current element in list2 is smaller, move to the next element in list2\n",
    "    else:\n",
    "        return intersection_recursive_2(list1, list2, i, j + 1, result)\n",
    "\n",
    "\n",
    "list1 = [1, 2, 3, 4, 5]\n",
    "list2 = [3, 4, 5, 6, 7]\n",
    "print(intersection_recursive_2(list1, list2))"
   ]
  }
 ],
 "metadata": {
  "kernelspec": {
   "display_name": "MLearning",
   "language": "python",
   "name": "python3"
  },
  "language_info": {
   "codemirror_mode": {
    "name": "ipython",
    "version": 3
   },
   "file_extension": ".py",
   "mimetype": "text/x-python",
   "name": "python",
   "nbconvert_exporter": "python",
   "pygments_lexer": "ipython3",
   "version": "3.10.9"
  },
  "orig_nbformat": 4
 },
 "nbformat": 4,
 "nbformat_minor": 2
}
