{
 "cells": [
  {
   "cell_type": "markdown",
   "metadata": {},
   "source": [
    "<div style=\"line-height:0.5\">\n",
    "<h1 style=\"color:crimson\"> Lists trials 1 </h1>\n",
    "<span style=\"display: inline-block;\">\n",
    "    <h3 style=\"color: lightblue; display: inline;\">Keywords:</h3> threading + itertools.cycle + for loops + level depth and shape  + deque + pprint\n",
    "</span>\n",
    "</div>"
   ]
  },
  {
   "cell_type": "code",
   "execution_count": 2,
   "metadata": {},
   "outputs": [],
   "source": [
    "import sys\n",
    "import random\n",
    "import itertools\n",
    "from pprint import pprint\n",
    "from collections import deque\n",
    "from collections import defaultdict, deque, Counter #"
   ]
  },
  {
   "cell_type": "markdown",
   "metadata": {
    "vscode": {
     "languageId": "plaintext"
    }
   },
   "source": [
    "<h3 style=\"color:crimson \">  Recap: Threading module </h3>\n",
    "<div style=\"margin-top: -10px;\">\n",
    "\n",
    "\n",
    "1. The recursion depth refers to the maximum number of nested function calls that    \n",
    "can occur before reaching the maximum recursion limit.    \n",
    "It is set to avoid crashes due to excessive recursion.    \n",
    "\n",
    "2. The size of the stack for threads (created by the threading module) is set to 2**27 (134217728 bytes or 128 MB).       \n",
    "It specifies the amount of memory allocated for each call stack.     \n",
    "\n",
    "3.  Enable the faulthandler module for diagnosing errors and crashes and exceptions in Python programs.   \n",
    "</div>"
   ]
  },
  {
   "cell_type": "code",
   "execution_count": 3,
   "metadata": {},
   "outputs": [],
   "source": [
    "import threading\n",
    "# Max recursion depth\n",
    "sys.setrecursionlimit(10**7)\n",
    "threading.stack_size(2**27)\n",
    "import faulthandler; faulthandler.enable()"
   ]
  },
  {
   "cell_type": "markdown",
   "metadata": {
    "vscode": {
     "languageId": "plaintext"
    }
   },
   "source": [
    "<h2 style=\"color:crimson\"> 1) Create lists </h2>"
   ]
  },
  {
   "cell_type": "code",
   "execution_count": 4,
   "metadata": {},
   "outputs": [
    {
     "name": "stdout",
     "output_type": "stream",
     "text": [
      "[1, 2, 3, 4, 5]\n",
      "[1, 2, 3, 4, 5]\n",
      "[1, 2, 3, 4, 5]\n",
      "[1, 2, 3, 4, 5]\n"
     ]
    }
   ],
   "source": [
    "my_list1 = [1, 2, 3, 4, 5]\n",
    "my_list2 = list([1, 2, 3, 4, 5])\n",
    "my_list3 = [x for x in range(1, 6)]\n",
    "my_list4 = list(range(1, 6))\n",
    "\n",
    "\n",
    "print(my_list1)\n",
    "print(my_list2)\n",
    "print(my_list3)\n",
    "print(my_list4)"
   ]
  },
  {
   "cell_type": "code",
   "execution_count": 5,
   "metadata": {},
   "outputs": [
    {
     "data": {
      "text/plain": [
       "['1', '2', '3', '4', '5']"
      ]
     },
     "execution_count": 5,
     "metadata": {},
     "output_type": "execute_result"
    }
   ],
   "source": [
    "my_list5 = \"1 2 3 4 5\".split()\n",
    "my_list5"
   ]
  },
  {
   "cell_type": "code",
   "execution_count": 6,
   "metadata": {},
   "outputs": [
    {
     "data": {
      "text/plain": [
       "[1, 2, 3, 4, 5]"
      ]
     },
     "execution_count": 6,
     "metadata": {},
     "output_type": "execute_result"
    }
   ],
   "source": [
    "my_list = []\n",
    "for i in range(1, 6):\n",
    "    my_list.append(i)\n",
    "my_list"
   ]
  },
  {
   "cell_type": "code",
   "execution_count": 7,
   "metadata": {},
   "outputs": [
    {
     "data": {
      "text/plain": [
       "[1, 2, 3, 4, 5]"
      ]
     },
     "execution_count": 7,
     "metadata": {},
     "output_type": "execute_result"
    }
   ],
   "source": [
    "my_list = []\n",
    "my_list.extend([1, 2, 3, 4, 5])\n",
    "my_list"
   ]
  },
  {
   "cell_type": "code",
   "execution_count": 8,
   "metadata": {},
   "outputs": [
    {
     "data": {
      "text/plain": [
       "[0, 0, 0, 0, 0]"
      ]
     },
     "execution_count": 8,
     "metadata": {},
     "output_type": "execute_result"
    }
   ],
   "source": [
    "\"\"\" Asterisk * operator to repeat a value \"\"\"\n",
    "my_list = [0] * 5\n",
    "my_list"
   ]
  },
  {
   "cell_type": "code",
   "execution_count": 9,
   "metadata": {},
   "outputs": [
    {
     "data": {
      "text/plain": [
       "[1, 2, 3, 4, 5]"
      ]
     },
     "execution_count": 9,
     "metadata": {},
     "output_type": "execute_result"
    }
   ],
   "source": [
    "my_list = list(dict.fromkeys([1, 2, 3, 4, 5]))\n",
    "my_list"
   ]
  },
  {
   "cell_type": "code",
   "execution_count": 10,
   "metadata": {},
   "outputs": [],
   "source": [
    "\"\"\" Copy the reference to a list to another list. All changes in my_list affects also lst2 and viceversa. It is just like creating an Alias. \"\"\"\n",
    "lst2 = my_list"
   ]
  },
  {
   "cell_type": "code",
   "execution_count": 19,
   "metadata": {},
   "outputs": [
    {
     "data": {
      "text/plain": [
       "([1, 2, 3, 4], [1, 2, 3, 4], [1, 2, 3, 4])"
      ]
     },
     "execution_count": 19,
     "metadata": {},
     "output_type": "execute_result"
    }
   ],
   "source": [
    "\"\"\" Copy a list without passing just the reference, but create another separated object in memory \"\"\"\n",
    "the_list = [1, 2, 3, 4]\n",
    "the_copy1 = the_list[:]\n",
    "the_copy2 = list(the_list)\n",
    "the_copy3 = the_list.copy()     # using the built-in method for lists, not the copy library!\n",
    "the_copy1, the_copy2, the_copy3"
   ]
  },
  {
   "cell_type": "code",
   "execution_count": 11,
   "metadata": {},
   "outputs": [
    {
     "data": {
      "text/plain": [
       "['changed', 2, 3]"
      ]
     },
     "execution_count": 11,
     "metadata": {},
     "output_type": "execute_result"
    }
   ],
   "source": [
    "def one_func(a_list):\n",
    "    \"\"\" Modify a value stored in the reference of the list passed. \"\"\"\n",
    "    a_list[0] = \"changed\"\n",
    "\n",
    "pass_this = [1, 2, 3]\n",
    "one_func(pass_this)\n",
    "pass_this"
   ]
  },
  {
   "cell_type": "code",
   "execution_count": 13,
   "metadata": {},
   "outputs": [
    {
     "data": {
      "text/plain": [
       "(['changed', 2, 3], ['changed', 2, 3])"
      ]
     },
     "execution_count": 13,
     "metadata": {},
     "output_type": "execute_result"
    }
   ],
   "source": [
    "def one_func(a_list):\n",
    "    \"\"\" Modify a value stored in the reference of the list passed. \"\"\"\n",
    "    a_list[0] = \"changed\"\n",
    "\n",
    "pass_this = [1, 2, 3]\n",
    "pass_this2 = pass_this\n",
    "one_func(pass_this)\n",
    "pass_this, pass_this2"
   ]
  },
  {
   "cell_type": "code",
   "execution_count": 15,
   "metadata": {},
   "outputs": [
    {
     "data": {
      "text/plain": [
       "([100, 200, 300, 'ciao', 'ciao', 'ciao'],\n",
       " [100, 200, 300, 'ciao', 'ciao', 'ciao'],\n",
       " [100, 200, 300, 'ciao', 'ciao', 'ciao'])"
      ]
     },
     "execution_count": 15,
     "metadata": {},
     "output_type": "execute_result"
    }
   ],
   "source": [
    "def append_func(param_lst = [100, 200, 300]):\n",
    "    \"\"\" A function with defaul parameter which is mutable. Everytime it is called, the number is append to the same list is referenced. \n",
    "    Bottom line => Don't use mutable objects as default parameter in functions!\n",
    "    \"\"\"\n",
    "    param_lst.append(\"ciao\")\n",
    "    return param_lst\n",
    "\n",
    "list_a = append_func()\n",
    "list_b = append_func()\n",
    "list_c = append_func()\n",
    "\n",
    "list_a, list_b, list_c "
   ]
  },
  {
   "cell_type": "code",
   "execution_count": 17,
   "metadata": {},
   "outputs": [
    {
     "data": {
      "text/plain": [
       "(['ciao'], ['ciao'], ['ciao'])"
      ]
     },
     "execution_count": 17,
     "metadata": {},
     "output_type": "execute_result"
    }
   ],
   "source": [
    "### Passing a new empty list, the default list is not used\n",
    "list_a = append_func([])\n",
    "list_b = append_func([])\n",
    "list_c = append_func([])\n",
    "list_a, list_b, list_c "
   ]
  },
  {
   "cell_type": "markdown",
   "metadata": {},
   "source": [
    "<h2 style=\"color:crimson\"> 2) Basic operations </h2>"
   ]
  },
  {
   "cell_type": "code",
   "execution_count": 10,
   "metadata": {},
   "outputs": [
    {
     "name": "stdout",
     "output_type": "stream",
     "text": [
      "1\n",
      "2\n",
      "3\n",
      "4\n",
      "5\n",
      "1\n",
      "2\n",
      "3\n",
      "4\n",
      "5\n"
     ]
    }
   ],
   "source": [
    "# with itertools\n",
    "my_list = [1, 2, 3, 4, 5]\n",
    "cycler = itertools.cycle(my_list)\n",
    "\n",
    "for _ in range(10):\n",
    "    item = next(cycler)\n",
    "    print(item)"
   ]
  },
  {
   "cell_type": "code",
   "execution_count": 11,
   "metadata": {},
   "outputs": [],
   "source": [
    "def get_list_depth_recursive(lst, current_depth=0):\n",
    "    \"\"\" Calculate the depth of a nested list (recursion version).\n",
    "\n",
    "    Parameters:\n",
    "        - Input (nested) list\n",
    "        - current depth level during recursion [int, optional (default is 0)]\n",
    "\n",
    "        \n",
    "    Details: \n",
    "        - The depth corresponds to the max number of nested levels within the list.\n",
    "        - If input it's not a list, return the current depth.\n",
    "        - If input is an empty list, return the current depth + 1. (Base condition!)\n",
    "        - Otherwise, calculate the depth for each item in the list and return the maximum depth\n",
    "        \n",
    "    Returns:\n",
    "        Depth of the nested list [int]\n",
    "    \"\"\"\n",
    "    if not isinstance(lst, list):\n",
    "        return current_depth\n",
    "    if not lst:\n",
    "        return current_depth + 1      \n",
    "\n",
    "    item_depths = [get_list_depth_recursive(item, current_depth + 1) for item in lst]\n",
    "    return max(item_depths)"
   ]
  },
  {
   "cell_type": "code",
   "execution_count": 12,
   "metadata": {},
   "outputs": [
    {
     "name": "stdout",
     "output_type": "stream",
     "text": [
      "[[[[40, 49], [66, 32, 36, 69], [4, 57, 53, 42], [17, 47], [46, 46]], [[59, 57], [59, 89, 57, 15, 75], [27, 19, 64], [26, 11, 63]], [[16, 60, 67, 43], [40, 93], [71, 20, 61, 70]]], [[[78, 26], [100, 92, 74, 84, 90], [62, 59, 18], [12, 16, 13, 55, 25], [84, 100, 43]], [[88, 36, 58, 89], [94, 59, 97, 26], [89, 49, 92, 13], [68, 5, 66, 66, 91]], [[91, 77, 61, 93, 86], [37, 29], [48, 38, 2, 99, 2], [16, 43]], [[31, 61, 55, 18, 52], [67, 30, 16, 13], [77, 53, 82, 54, 5], [21, 1]], [[58, 93, 50, 40], [61, 85, 70], [51, 45], [41, 96, 54, 90, 39]]], [[[5, 77, 3, 51], [16, 42, 42, 95], [79, 62, 80]], [[8, 45], [72, 51], [68, 54, 39, 45], [12, 45, 53, 56, 92], [32, 79, 46, 8, 76]], [[93, 40], [84, 58, 99]], [[98, 20, 18], [33, 86, 82], [59, 85]]]]\n",
      "[[[[40, 49], [66, 32, 36, 69], [4, 57, 53, 42], [17, 47], [46, 46]],\n",
      "  [[59, 57], [59, 89, 57, 15, 75], [27, 19, 64], [26, 11, 63]],\n",
      "  [[16, 60, 67, 43], [40, 93], [71, 20, 61, 70]]],\n",
      " [[[78, 26],\n",
      "   [100, 92, 74, 84, 90],\n",
      "   [62, 59, 18],\n",
      "   [12, 16, 13, 55, 25],\n",
      "   [84, 100, 43]],\n",
      "  [[88, 36, 58, 89], [94, 59, 97, 26], [89, 49, 92, 13], [68, 5, 66, 66, 91]],\n",
      "  [[91, 77, 61, 93, 86], [37, 29], [48, 38, 2, 99, 2], [16, 43]],\n",
      "  [[31, 61, 55, 18, 52], [67, 30, 16, 13], [77, 53, 82, 54, 5], [21, 1]],\n",
      "  [[58, 93, 50, 40], [61, 85, 70], [51, 45], [41, 96, 54, 90, 39]]],\n",
      " [[[5, 77, 3, 51], [16, 42, 42, 95], [79, 62, 80]],\n",
      "  [[8, 45],\n",
      "   [72, 51],\n",
      "   [68, 54, 39, 45],\n",
      "   [12, 45, 53, 56, 92],\n",
      "   [32, 79, 46, 8, 76]],\n",
      "  [[93, 40], [84, 58, 99]],\n",
      "  [[98, 20, 18], [33, 86, 82], [59, 85]]]]\n"
     ]
    }
   ],
   "source": [
    "def create_nested_list(nesting_level):\n",
    "    if nesting_level == 0:\n",
    "        return random.randint(1, 100)\n",
    "    else:\n",
    "        return [create_nested_list(nesting_level - 1) for _ in range(random.randint(2, 5))]\n",
    "    \n",
    "nesting_level = 4\n",
    "nested_list = create_nested_list(nesting_level)\n",
    "print(nested_list)    \n",
    "pprint(nested_list)"
   ]
  },
  {
   "cell_type": "code",
   "execution_count": 13,
   "metadata": {},
   "outputs": [
    {
     "data": {
      "text/plain": [
       "4"
      ]
     },
     "execution_count": 13,
     "metadata": {},
     "output_type": "execute_result"
    }
   ],
   "source": [
    "get_list_depth_recursive(nested_list)"
   ]
  },
  {
   "cell_type": "code",
   "execution_count": 14,
   "metadata": {},
   "outputs": [
    {
     "data": {
      "text/plain": [
       "[3, 3, 5, 2]"
      ]
     },
     "execution_count": 14,
     "metadata": {},
     "output_type": "execute_result"
    }
   ],
   "source": [
    "def get_list_shape(input_list):\n",
    "    if isinstance(input_list, list):\n",
    "        return [len(input_list)] + get_list_shape(input_list[0])\n",
    "    else:\n",
    "        return []\n",
    "\n",
    "get_list_shape(nested_list) "
   ]
  },
  {
   "cell_type": "markdown",
   "metadata": {},
   "source": [
    "<h2 style=\"color:crimson\"> 3) Get the type of elements </h2>"
   ]
  },
  {
   "cell_type": "code",
   "execution_count": 15,
   "metadata": {},
   "outputs": [
    {
     "name": "stdout",
     "output_type": "stream",
     "text": [
      "<class 'int'>\n"
     ]
    }
   ],
   "source": [
    "element_type = type(my_list[0])\n",
    "print(element_type)"
   ]
  },
  {
   "cell_type": "code",
   "execution_count": 16,
   "metadata": {},
   "outputs": [
    {
     "name": "stdout",
     "output_type": "stream",
     "text": [
      "[<class 'int'>, <class 'int'>, <class 'int'>, <class 'int'>, <class 'int'>]\n"
     ]
    }
   ],
   "source": [
    "element_types = []\n",
    "for element in my_list:\n",
    "    element_types.append(type(element))\n",
    "print(element_types)"
   ]
  },
  {
   "cell_type": "markdown",
   "metadata": {},
   "source": [
    "<h2 style=\"color:crimson\"> 4) Add + Insert + Modify + Remove </h2>"
   ]
  },
  {
   "cell_type": "code",
   "execution_count": 17,
   "metadata": {},
   "outputs": [
    {
     "name": "stdout",
     "output_type": "stream",
     "text": [
      "[1, 2, 4, 5]\n",
      "[1, 2, 5]\n",
      "[1, 2]\n",
      "[]\n"
     ]
    }
   ],
   "source": [
    "\"\"\" Remove by value => REMOVE \"\"\"\n",
    "my_list = [1, 2, 3, 4, 5]\n",
    "my_list.remove(3)\n",
    "print(my_list)\n",
    "\n",
    "\"\"\" Remove by index => DEL \"\"\"\n",
    "del my_list[2]\n",
    "print(my_list)\n",
    "\n",
    "\"\"\" Remove last val => FROM INDEX \"\"\"\n",
    "my_list.pop()\n",
    "print(my_list)\n",
    "\n",
    "\"\"\" Remove all \"\"\"\n",
    "my_list.clear()\n",
    "print(my_list)"
   ]
  },
  {
   "cell_type": "code",
   "execution_count": 6,
   "metadata": {},
   "outputs": [
    {
     "name": "stdout",
     "output_type": "stream",
     "text": [
      "[19, 72, 20, 14, 17, 65, 45, 93, 58, 87]\n",
      "[19, 72, 14, 17, 65, 45, 93, 58, 87]\n",
      "[19, 65, 45, 93, 58, 87]\n"
     ]
    }
   ],
   "source": [
    "\"\"\" del (FROM INDEX) \"\"\"\n",
    "a_list = random.sample(range(1, 101), 10)\n",
    "print(a_list)\n",
    "del a_list[2]\n",
    "print(a_list)\n",
    "del a_list[1:4]\n",
    "print(a_list)"
   ]
  },
  {
   "cell_type": "code",
   "execution_count": 18,
   "metadata": {},
   "outputs": [
    {
     "name": "stdout",
     "output_type": "stream",
     "text": [
      "[133, 34, 56, 75, 65, 34, 87, 64, 2, 3, 17]\n",
      "[133, 34, 56, 65, 34, 87, 64, 2, 3, 17]\n",
      "[133, 34, 56, 65, 34, 87, 64, 2, 3]\n",
      "[133, 34, 56, 65, 34, 87, 2, 3]\n"
     ]
    }
   ],
   "source": [
    "\"\"\" Pop (FROM INDEX) \"\"\"\n",
    "numbers = [133,32,34,56,75,65,34,87,64,2,3,17]\n",
    "numbers.pop(1)\n",
    "print(numbers)\n",
    "numbers.pop(3)\n",
    "print(numbers)\n",
    "numbers.pop(-1)\n",
    "print(numbers)\n",
    "numbers.pop(-3)\n",
    "print(numbers)"
   ]
  },
  {
   "cell_type": "code",
   "execution_count": 19,
   "metadata": {},
   "outputs": [
    {
     "data": {
      "text/plain": [
       "[56, 65, 34, 87, 2, 3]"
      ]
     },
     "execution_count": 19,
     "metadata": {},
     "output_type": "execute_result"
    }
   ],
   "source": [
    "\"\"\" Delete multiple items \"\"\"\n",
    "del numbers[:2]\n",
    "numbers"
   ]
  },
  {
   "cell_type": "code",
   "execution_count": 20,
   "metadata": {},
   "outputs": [
    {
     "name": "stdout",
     "output_type": "stream",
     "text": [
      "[1, 2]\n"
     ]
    }
   ],
   "source": [
    "\"\"\" Remove NULL values \"\"\"\n",
    "list_qu = [None, None, 1, 2, None]\n",
    "list_qu = list(filter(None, list_qu))\n",
    "print(list_qu)"
   ]
  },
  {
   "cell_type": "code",
   "execution_count": 21,
   "metadata": {},
   "outputs": [
    {
     "name": "stdout",
     "output_type": "stream",
     "text": [
      "[1, 2, 3, 4]\n"
     ]
    }
   ],
   "source": [
    "\"\"\" Add an element \"\"\"\n",
    "my_list = [1, 2, 3]\n",
    "my_list.append(4)\n",
    "print(my_list)"
   ]
  },
  {
   "cell_type": "code",
   "execution_count": 22,
   "metadata": {},
   "outputs": [
    {
     "name": "stdout",
     "output_type": "stream",
     "text": [
      "[1, 2, 3, 4, 5, 6]\n"
     ]
    }
   ],
   "source": [
    "\"\"\" Extend list with another iterable \"\"\"\n",
    "my_list = [1, 2, 3]\n",
    "another_list = [4, 5, 6]\n",
    "my_list.extend(another_list)\n",
    "print(my_list)"
   ]
  },
  {
   "cell_type": "code",
   "execution_count": 23,
   "metadata": {},
   "outputs": [
    {
     "name": "stdout",
     "output_type": "stream",
     "text": [
      "[1, 4, 2, 3]\n"
     ]
    }
   ],
   "source": [
    "\"\"\" Insert at a specific index \"\"\"\n",
    "my_list = [1, 2, 3]\n",
    "my_list.insert(1, 4)\n",
    "print(my_list)"
   ]
  },
  {
   "cell_type": "code",
   "execution_count": 24,
   "metadata": {},
   "outputs": [
    {
     "name": "stdout",
     "output_type": "stream",
     "text": [
      "[[1, 2, 3, 4, 54], [5, 6, 7, 9, 19], [60, 432, 41]]\n",
      "[[[1, 2], [3, 4], [54, 5]], [[6, 7]]]\n",
      "[[[[1, 2], [3, 4], [54, 5], [6, 7]], [12, 132]]]\n"
     ]
    }
   ],
   "source": [
    "\"\"\" Add one more level to a list \"\"\"\n",
    "original_list0 = [1,2,3,4,54,5,6,7,9,19,60,432,41]\n",
    "original_list1 = [[1,2],[3,4],[54,5],[6,7]]\n",
    "original_list2 = [[[1,2],[3,4],[54,5],[6,7]],[12,132]]\n",
    "\n",
    "# Number of parts in which the list should be divided\n",
    "list_size0 = 5\n",
    "list_size1 = 3\n",
    "list_size2 = 3\n",
    "list_new0 = [original_list0[i:i+list_size0] for i in range(0, len(original_list0), list_size0)]\n",
    "list_new1 = [original_list1[i:i+list_size1] for i in range(0, len(original_list1), list_size1)]\n",
    "list_new2 = [original_list2[i:i+list_size2] for i in range(0, len(original_list2), list_size2)]\n",
    "\n",
    "print(list_new0)\n",
    "print(list_new1)\n",
    "print(list_new2)"
   ]
  },
  {
   "cell_type": "code",
   "execution_count": 2,
   "metadata": {},
   "outputs": [
    {
     "data": {
      "text/plain": [
       "(4, [2, 3, 4, 5, 5])"
      ]
     },
     "execution_count": 2,
     "metadata": {},
     "output_type": "execute_result"
    }
   ],
   "source": [
    "def removeDuplicates1(nums):\n",
    "    \"\"\" Remove the duplicates in the given sorted array in-place such that each unique element appears only once, \n",
    "    1) Change the array nums such that the first k elements of nums contain the unique elements in the order they were present in nums initially. \n",
    "    2) The remaining elements of nums are not important as well as the size of nums.\n",
    "    3) Return k.\n",
    "    \"\"\"\n",
    "    if not nums:\n",
    "        return 0\n",
    "\n",
    "    k = 1  # Start from 1 since the first element is always unique\n",
    "    for i in range(1, len(nums)):\n",
    "        if nums[i] != nums[i - 1]:\n",
    "            nums[k] = nums[i]\n",
    "            k += 1\n",
    "    return k\n",
    "\n",
    "numb1 = [2,3,3,4,5]\n",
    "res1 = removeDuplicates1(numb1)\n",
    "res1, numb1"
   ]
  },
  {
   "cell_type": "code",
   "execution_count": 7,
   "metadata": {},
   "outputs": [
    {
     "data": {
      "text/plain": [
       "(7, [0, 0, 1, 1, 2, 3, 3, 3, 3])"
      ]
     },
     "execution_count": 7,
     "metadata": {},
     "output_type": "execute_result"
    }
   ],
   "source": [
    "def removeDuplicates2(nums):\n",
    "    \"\"\" Remove some duplicates in-place in the given sorted array, such that each unique element appears at most twice. \n",
    "    Nothes:\n",
    "        - The relative order of the elements should be kept the same.\n",
    "        - The first k elements of nums should hold the final result. It does not matter what you leave beyond the first k elements.\n",
    "        - Do not allocate extra space for another array. You must do this by modifying the input array in-place with O(1) extra memory.\n",
    "        - It does not matter what you leave beyond the returned k.\n",
    "        - Return k after placing the final result in the first k slots of nums.\n",
    "    \"\"\"\n",
    "    if len(nums) < 3:\n",
    "        return len(nums)\n",
    "\n",
    "    k = 2  # Start from 2, the first two elements are always valid\n",
    "    for i in range(2, len(nums)):\n",
    "        if nums[i] != nums[k - 2]:\n",
    "            nums[k] = nums[i]\n",
    "            k += 1\n",
    "    return k\n",
    "\n",
    "#numb2 = [1,1,1,2,2,3]\n",
    "numb2 = [0,0,1,1,1,1,2,3,3]\n",
    "res2 = removeDuplicates2(numb2)\n",
    "res2, numb2"
   ]
  },
  {
   "cell_type": "markdown",
   "metadata": {},
   "source": [
    "<h2 style=\"color:crimson\"> 5) Reverse  </h2>"
   ]
  },
  {
   "cell_type": "code",
   "execution_count": 25,
   "metadata": {},
   "outputs": [
    {
     "data": {
      "text/plain": [
       "[10, 9, 8, 7, 6]"
      ]
     },
     "execution_count": 25,
     "metadata": {},
     "output_type": "execute_result"
    }
   ],
   "source": [
    "reve_list = [6,7,8,9,10]\n",
    "reve_list.reverse()\n",
    "reve_list"
   ]
  },
  {
   "cell_type": "code",
   "execution_count": 26,
   "metadata": {},
   "outputs": [
    {
     "data": {
      "text/plain": [
       "[6, 7, 8, 9, 10]"
      ]
     },
     "execution_count": 26,
     "metadata": {},
     "output_type": "execute_result"
    }
   ],
   "source": [
    "# With slicing\n",
    "reversed_list = reve_list[::-1]\n",
    "reversed_list"
   ]
  },
  {
   "cell_type": "code",
   "execution_count": 27,
   "metadata": {},
   "outputs": [
    {
     "data": {
      "text/plain": [
       "[10, 9, 8, 7, 6]"
      ]
     },
     "execution_count": 27,
     "metadata": {},
     "output_type": "execute_result"
    }
   ],
   "source": [
    "# With reversed\n",
    "reversed_list = list(reversed(reversed_list))\n",
    "reversed_list"
   ]
  },
  {
   "cell_type": "code",
   "execution_count": 1,
   "metadata": {},
   "outputs": [
    {
     "data": {
      "text/plain": [
       "[10, 9, 8, 7, 6, 5, 4, 3, 2, 1]"
      ]
     },
     "execution_count": 1,
     "metadata": {},
     "output_type": "execute_result"
    }
   ],
   "source": [
    "# Create directly the list with range\n",
    "list(reversed(range(1,11)))"
   ]
  },
  {
   "cell_type": "code",
   "execution_count": 28,
   "metadata": {},
   "outputs": [
    {
     "data": {
      "text/plain": [
       "[10, 9, 8, 7, 6]"
      ]
     },
     "execution_count": 28,
     "metadata": {},
     "output_type": "execute_result"
    }
   ],
   "source": [
    "# With sorted \n",
    "li = [6,7,8,9,10]\n",
    "reversed_list = sorted(li, reverse=True)\n",
    "reversed_list"
   ]
  },
  {
   "cell_type": "code",
   "execution_count": 29,
   "metadata": {},
   "outputs": [
    {
     "data": {
      "text/plain": [
       "[10, 9, 8, 7, 6]"
      ]
     },
     "execution_count": 29,
     "metadata": {},
     "output_type": "execute_result"
    }
   ],
   "source": [
    "# With deque\n",
    "li = [6, 7, 8, 9, 10]\n",
    "deque_list = deque(li)\n",
    "deque_list.reverse()\n",
    "reversed_list = list(deque_list)\n",
    "reversed_list"
   ]
  },
  {
   "cell_type": "markdown",
   "metadata": {},
   "source": [
    "<h2 style=\"color:crimson\"> 6) Concatenation </h2>"
   ]
  },
  {
   "cell_type": "code",
   "execution_count": 30,
   "metadata": {},
   "outputs": [
    {
     "data": {
      "text/plain": [
       "[1, 2, 3, 4, 5, 6, 7, 8, 9, 10, 11, 12]"
      ]
     },
     "execution_count": 30,
     "metadata": {},
     "output_type": "execute_result"
    }
   ],
   "source": [
    "# Standard way\n",
    "list1 = [1, 2, 3, 4, 5, 6]\n",
    "list2 = [7, 8, 9, 10, 11, 12]\n",
    "\n",
    "concatenated_list = list1 + list2\n",
    "concatenated_list"
   ]
  },
  {
   "cell_type": "code",
   "execution_count": 31,
   "metadata": {},
   "outputs": [
    {
     "data": {
      "text/plain": [
       "[1, 2, 3, 4, 5, 6, 7, 8, 9, 10, 11, 12]"
      ]
     },
     "execution_count": 31,
     "metadata": {},
     "output_type": "execute_result"
    }
   ],
   "source": [
    "# Using extend\n",
    "list1.extend(list2)\n",
    "list1"
   ]
  },
  {
   "cell_type": "code",
   "execution_count": 32,
   "metadata": {},
   "outputs": [
    {
     "data": {
      "text/plain": [
       "[1, 2, 3, 4, 5, 6, 7, 8, 9, 10, 11, 12, 7, 8, 9, 10, 11, 12]"
      ]
     },
     "execution_count": 32,
     "metadata": {},
     "output_type": "execute_result"
    }
   ],
   "source": [
    "# Using list comprehension\n",
    "concatenated_list = [x for sublist in [list1, list2] for x in sublist]\n",
    "concatenated_list"
   ]
  },
  {
   "cell_type": "code",
   "execution_count": 33,
   "metadata": {},
   "outputs": [
    {
     "name": "stdout",
     "output_type": "stream",
     "text": [
      "[1, 2, 3, 4, 5, 6]\n"
     ]
    }
   ],
   "source": [
    "# Using append\n",
    "list1 = [1, 2, 3]\n",
    "list2 = [4, 5, 6]\n",
    "for item in list2:\n",
    "    list1.append(item)\n",
    "print(list1)"
   ]
  },
  {
   "cell_type": "code",
   "execution_count": 34,
   "metadata": {},
   "outputs": [
    {
     "data": {
      "text/plain": [
       "[1, 2, 3, 4, 5, 6, 1, 2, 3, 4, 5, 6]"
      ]
     },
     "execution_count": 34,
     "metadata": {},
     "output_type": "execute_result"
    }
   ],
   "source": [
    "# Repeat list twice\n",
    "repeated_list = list1 * 2 \n",
    "repeated_list"
   ]
  }
 ],
 "metadata": {
  "kernelspec": {
   "display_name": "MLearning",
   "language": "python",
   "name": "python3"
  },
  "language_info": {
   "codemirror_mode": {
    "name": "ipython",
    "version": 3
   },
   "file_extension": ".py",
   "mimetype": "text/x-python",
   "name": "python",
   "nbconvert_exporter": "python",
   "pygments_lexer": "ipython3",
   "version": "3.10.9"
  },
  "orig_nbformat": 4
 },
 "nbformat": 4,
 "nbformat_minor": 2
}
