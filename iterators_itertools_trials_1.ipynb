{
 "cells": [
  {
   "cell_type": "markdown",
   "metadata": {},
   "source": [
    "<div style=\"line-height:0.5\">\n",
    "<h1 style=\"color:#5DDE46\"> Itertools trials 1 </h1>\n",
    "<span style=\"display: inline-block;\">\n",
    "    <h3 style=\"color: lightblue; display: inline;\">Keywords:</h3> print elegantly join and comprehension + zip + more itertools + tee\n",
    "</span>\n",
    "</div>"
   ]
  },
  {
   "cell_type": "code",
   "execution_count": 1,
   "metadata": {},
   "outputs": [],
   "source": [
    "import time\n",
    "import string\n",
    "import random\n",
    "import operator\n",
    "import itertools\n",
    "import functools\n",
    "import numpy as np\n",
    "import pandas as pd\n",
    "from copy import copy\n",
    "import more_itertools as mit\n",
    "from itertools import product\n",
    "from typing import Iterable, Tuple"
   ]
  },
  {
   "cell_type": "code",
   "execution_count": 2,
   "metadata": {},
   "outputs": [
    {
     "name": "stdout",
     "output_type": "stream",
     "text": [
      "[0, 1, 2, 3, 4, 5, 6, 7, 8, 9, 10, 11, 12, 13, 14, 15, 16, 17, 18, 19]\n",
      "\n",
      "Sum:\n",
      "[0, 1, 3, 6, 10, 15, 21, 28, 36, 45, 55, 66, 78, 91, 105, 120, 136, 153, 171, 190]\n",
      "Chain:\n",
      "[0, 1, 2, 3, 4, 5, 6, 7, 8, 9, 10, 11, 12, 13, 14, 15, 16, 17, 18, 19]\n",
      "Compressed:\n",
      "['dastim', 'cdf', 'gregre']\n"
     ]
    }
   ],
   "source": [
    "my_lst = [_ for _ in range(20)]\n",
    "sum_list = itertools.accumulate(my_lst)\n",
    "print(my_lst)\n",
    "print()\n",
    "print(\"Sum:\")\n",
    "print(list(sum_list))\n",
    "\n",
    "chain_list = itertools.chain(my_lst)\n",
    "print(\"Chain:\")\n",
    "print(list(chain_list))\n",
    "\n",
    "names = ['dastim','cioa','cdf','fewew','gregre']\n",
    "show = [1, 0, 3, 0, 5]\n",
    "compressed_list = itertools.compress(names, show)\n",
    "print(\"Compressed:\")\n",
    "print(list(compressed_list))"
   ]
  },
  {
   "cell_type": "code",
   "execution_count": 3,
   "metadata": {},
   "outputs": [
    {
     "name": "stdout",
     "output_type": "stream",
     "text": [
      "1\n",
      "2\n"
     ]
    }
   ],
   "source": [
    "\"\"\" Range \"\"\"\n",
    "r = range(1,10)\n",
    "i = iter(r)\n",
    "print(next(i))\n",
    "print(next(i))"
   ]
  },
  {
   "cell_type": "markdown",
   "metadata": {},
   "source": [
    "<h3 style=\"color:#5DDE46\"> Infinite iterators </h3>"
   ]
  },
  {
   "cell_type": "code",
   "execution_count": 4,
   "metadata": {},
   "outputs": [
    {
     "name": "stdout",
     "output_type": "stream",
     "text": [
      "10\n",
      "11\n",
      "12\n",
      "13\n",
      "14\n",
      "15\n",
      "0: A\n",
      "1: B\n",
      "2: C\n",
      "3: D\n",
      "4: A\n",
      "5: B\n",
      "6: C\n",
      "7: D\n",
      "8: A\n",
      "9: B\n",
      "10: C\n",
      "11: D\n",
      "12: A\n",
      "13: B\n",
      "14: C\n",
      "15: D\n",
      "ByeByeByeB"
     ]
    }
   ],
   "source": [
    "\"\"\" Infinite iterators # 1 \"\"\"\n",
    "# Create counter object (it starts from 10)\n",
    "counter = itertools.count(10) \n",
    "\n",
    "for i in counter:\n",
    "    print(i)\n",
    "    if i == 15:\n",
    "        break\n",
    "############################################################################################à\n",
    "li = ['A','B','C','D']\n",
    "cycler = itertools.cycle(li) #goes to infinite if it is not stopped\n",
    "for i,letter in enumerate(cycler):\n",
    "    print(i, letter, sep=': ')\n",
    "    if i == 15:\n",
    "        break\n",
    "############################################################################################à\n",
    "def cycle_example(elements):\n",
    "    i = 0\n",
    "    cycler = itertools.cycle(elements)\n",
    "    while i < 10:\n",
    "        print(next(cycler), end='')\n",
    "        i += 1\n",
    "\n",
    "#cycle_example(5) # int object is not iterable!!\n",
    "cycle_example(\"Bye\")"
   ]
  },
  {
   "cell_type": "code",
   "execution_count": 19,
   "metadata": {},
   "outputs": [
    {
     "name": "stdout",
     "output_type": "stream",
     "text": [
      "repeat('Eccolox4', 4)\n",
      "['Eccolox4', 'Eccolox4', 'Eccolox4', 'Eccolox4']\n",
      "hello\n",
      "hello\n",
      "hello\n",
      "hello\n",
      "hello\n",
      "hello\n"
     ]
    }
   ],
   "source": [
    "\"\"\" Infinite iterators # 1.\n",
    "N.B. \n",
    "If 'repeater' is printed once, it cannot be used again! \n",
    "\"\"\"\n",
    "stringa = 'Eccolox4'\n",
    "repeater = itertools.repeat(stringa, 4)\n",
    "print(repeater)\n",
    "print(list(repeater))\n",
    "\n",
    "def a(stringa):\n",
    "    for stringa in repeater:\n",
    "        print(stringa)\n",
    "a(stringa)\n",
    "\n",
    "def repeater_example(element, max_repeats):\n",
    "    repeater = itertools.repeat(element, max_repeats)\n",
    "    for val in repeater:\n",
    "        print(val)\n",
    "\n",
    "repeater_example(\"hello\", 6)"
   ]
  },
  {
   "cell_type": "markdown",
   "metadata": {},
   "source": [
    "<h3 style=\"color:#5DDE46\"> Accumulators </h3>"
   ]
  },
  {
   "cell_type": "code",
   "execution_count": 20,
   "metadata": {},
   "outputs": [
    {
     "name": "stdout",
     "output_type": "stream",
     "text": [
      "[1, 2, 3, 4, 5, 6, 7, 8, 9, 10, 11, 12, 13, 14, 15, 16, 17, 18, 19, 20, 21, 22, 23, 24]\n",
      "Accumulate list: \n",
      "[1, 3, 6, 10, 15, 21, 28, 36, 45, 55, 66, 78, 91, 105, 120, 136, 153, 171, 190, 210, 231, 253, 276, 300]\n",
      "1\n",
      "2\n",
      "6\n",
      "24\n",
      "120\n",
      "720\n",
      "5040\n",
      "40320\n",
      "362880\n",
      "3628800\n",
      "39916800\n",
      "479001600\n",
      "6227020800\n",
      "87178291200\n",
      "1307674368000\n",
      "20922789888000\n",
      "355687428096000\n",
      "6402373705728000\n",
      "121645100408832000\n",
      "2432902008176640000\n",
      "51090942171709440000\n",
      "1124000727777607680000\n",
      "25852016738884976640000\n",
      "620448401733239439360000\n"
     ]
    }
   ],
   "source": [
    "\"\"\" Accumulate iterator\n",
    "It takes two arguments: \n",
    "- Iterable target \n",
    "    (If the input iterable is empty, the output iterable will also be empty)\n",
    "- Function which would be followed at each iteration of value in target. \n",
    "    (If no function is passed, addition takes place by default) \n",
    "\"\"\"\n",
    "numbers = [_ for _ in range(1, np.random.randint(50))]      #random length\n",
    "print(numbers)\n",
    "accu1_no_operator = itertools.accumulate(numbers)\n",
    "accu2_mul_operator  = itertools.accumulate(numbers, operator.mul)\n",
    "print(\"Accumulate list: \")\n",
    "print(list(accu1_no_operator))\n",
    "list_accu2 = list(accu2_mul_operator)\n",
    "print('\\n'.join(str(e) for e in list_accu2))"
   ]
  },
  {
   "cell_type": "markdown",
   "metadata": {},
   "source": [
    "<h3 style=\"color:#5DDE46\"> Chain </h3>"
   ]
  },
  {
   "cell_type": "code",
   "execution_count": 22,
   "metadata": {},
   "outputs": [
    {
     "name": "stdout",
     "output_type": "stream",
     "text": [
      "['a', 'b', 'c']\n",
      "[1, 2, 3, 4, 5, 6, 7, 8, 9, 10, 11, 12, 13, 14, 15, 16, 17, 18, 19, 20, 21, 22, 23, 24, 'a', 'b', 'c', 'a', 'b', 'c']\n",
      "\n",
      "['A', 'B', 'C', 'D', 'E', 'F']\n"
     ]
    },
    {
     "data": {
      "text/plain": [
       "[1, 2, 3, 4, 5, 6, 'a', 'b', 'ba']"
      ]
     },
     "execution_count": 22,
     "metadata": {},
     "output_type": "execute_result"
    }
   ],
   "source": [
    "lett = ['a','b','c']\n",
    "combo = itertools.chain(numbers, lett, lett)\n",
    "print(lett)\n",
    "print(list(combo))\n",
    "print()\n",
    "#############################################################################\n",
    "chained = itertools.chain(\"ABC\",\"DEF\")\n",
    "print(list(chained))\n",
    "#############################################################################\n",
    "my_iterable = [[1,2,3],[4,5,6],['a','b','ba']]\n",
    "chained_from = itertools.chain.from_iterable(my_iterable)\n",
    "list(chained_from)"
   ]
  },
  {
   "cell_type": "markdown",
   "metadata": {},
   "source": [
    "<h2 style=\"color:#5DDE46\"> Cartesian product </h2>"
   ]
  },
  {
   "cell_type": "code",
   "execution_count": 24,
   "metadata": {},
   "outputs": [
    {
     "data": {
      "text/plain": [
       "[(1, '1'),\n",
       " (1, '2'),\n",
       " (1, '3'),\n",
       " (1, '4'),\n",
       " (2, '1'),\n",
       " (2, '2'),\n",
       " (2, '3'),\n",
       " (2, '4'),\n",
       " (3, '1'),\n",
       " (3, '2'),\n",
       " (3, '3'),\n",
       " (3, '4'),\n",
       " (4, '1'),\n",
       " (4, '2'),\n",
       " (4, '3'),\n",
       " (4, '4'),\n",
       " (5, '1'),\n",
       " (5, '2'),\n",
       " (5, '3'),\n",
       " (5, '4')]"
      ]
     },
     "execution_count": 24,
     "metadata": {},
     "output_type": "execute_result"
    }
   ],
   "source": [
    "\"\"\" Cartesian product #1 \n",
    "N.B.1\n",
    "The output is in lexicographic order.\n",
    "N.B.2\n",
    "'itertools.product(*iterables)' considers all the iterable provided as the argument \n",
    "\"\"\"\n",
    "iterab_1 = [1,2,3,4,5]\n",
    "iterab_2 = \"1234\"\n",
    "res = itertools.product(iterab_1, iterab_2)\n",
    "list(res)"
   ]
  },
  {
   "cell_type": "code",
   "execution_count": 29,
   "metadata": {},
   "outputs": [
    {
     "name": "stdout",
     "output_type": "stream",
     "text": [
      "(51,)\n",
      "(32,)\n",
      "(83,)\n",
      "(51, 51)\n",
      "(51, 32)\n",
      "(51, 83)\n",
      "(32, 51)\n",
      "(32, 32)\n",
      "(32, 83)\n",
      "(83, 51)\n",
      "(83, 32)\n",
      "(83, 83)\n"
     ]
    }
   ],
   "source": [
    "\"\"\" Cartesian product #2 \n",
    "N.B.\n",
    "'itertools.product(*iterables, repeat=1)' returns the cartesian product of the provided iterable \n",
    "with itself a num of times that depends on the optional keyword 'repeat'. \n",
    "\"\"\"\n",
    "arr1 = [51, 32, 83]\n",
    "iter_pro1 = itertools.product(arr1, repeat=1)\n",
    "iter_pro2 = itertools.product(arr1, repeat=2)\n",
    "\n",
    "for it in iter_pro1:\n",
    "    print(it)\n",
    "for it in iter_pro2:\n",
    "    print(it)    "
   ]
  },
  {
   "cell_type": "code",
   "execution_count": 55,
   "metadata": {},
   "outputs": [
    {
     "name": "stdout",
     "output_type": "stream",
     "text": [
      "[(8, 7), (8, 7), (8, 9), (8, 2), (8, 8), (8, 6), (8, 0), (8, 9), (8, 4), (8, 1), (6, 7), (6, 7), (6, 9), (6, 2), (6, 8), (6, 6), (6, 0), (6, 9), (6, 4), (6, 1), (6, 7), (6, 7), (6, 9), (6, 2), (6, 8), (6, 6), (6, 0), (6, 9), (6, 4), (6, 1), (7, 7), (7, 7), (7, 9), (7, 2), (7, 8), (7, 6), (7, 0), (7, 9), (7, 4), (7, 1), (8, 7), (8, 7), (8, 9), (8, 2), (8, 8), (8, 6), (8, 0), (8, 9), (8, 4), (8, 1), (0, 7), (0, 7), (0, 9), (0, 2), (0, 8), (0, 6), (0, 0), (0, 9), (0, 4), (0, 1), (1, 7), (1, 7), (1, 9), (1, 2), (1, 8), (1, 6), (1, 0), (1, 9), (1, 4), (1, 1), (0, 7), (0, 7), (0, 9), (0, 2), (0, 8), (0, 6), (0, 0), (0, 9), (0, 4), (0, 1), (1, 7), (1, 7), (1, 9), (1, 2), (1, 8), (1, 6), (1, 0), (1, 9), (1, 4), (1, 1), (2, 7), (2, 7), (2, 9), (2, 2), (2, 8), (2, 6), (2, 0), (2, 9), (2, 4), (2, 1), (6, 7), (6, 7), (6, 9), (6, 2), (6, 8), (6, 6), (6, 0), (6, 9), (6, 4), (6, 1), (6, 7), (6, 7), (6, 9), (6, 2), (6, 8), (6, 6), (6, 0), (6, 9), (6, 4), (6, 1), (2, 7), (2, 7), (2, 9), (2, 2), (2, 8), (2, 6), (2, 0), (2, 9), (2, 4), (2, 1), (4, 7), (4, 7), (4, 9), (4, 2), (4, 8), (4, 6), (4, 0), (4, 9), (4, 4), (4, 1), (4, 7), (4, 7), (4, 9), (4, 2), (4, 8), (4, 6), (4, 0), (4, 9), (4, 4), (4, 1), (0, 7), (0, 7), (0, 9), (0, 2), (0, 8), (0, 6), (0, 0), (0, 9), (0, 4), (0, 1), (0, 7), (0, 7), (0, 9), (0, 2), (0, 8), (0, 6), (0, 0), (0, 9), (0, 4), (0, 1), (2, 7), (2, 7), (2, 9), (2, 2), (2, 8), (2, 6), (2, 0), (2, 9), (2, 4), (2, 1), (6, 7), (6, 7), (6, 9), (6, 2), (6, 8), (6, 6), (6, 0), (6, 9), (6, 4), (6, 1), (5, 7), (5, 7), (5, 9), (5, 2), (5, 8), (5, 6), (5, 0), (5, 9), (5, 4), (5, 1), (6, 7), (6, 7), (6, 9), (6, 2), (6, 8), (6, 6), (6, 0), (6, 9), (6, 4), (6, 1), (2, 7), (2, 7), (2, 9), (2, 2), (2, 8), (2, 6), (2, 0), (2, 9), (2, 4), (2, 1), (6, 7), (6, 7), (6, 9), (6, 2), (6, 8), (6, 6), (6, 0), (6, 9), (6, 4), (6, 1), (9, 7), (9, 7), (9, 9), (9, 2), (9, 8), (9, 6), (9, 0), (9, 9), (9, 4), (9, 1), (7, 7), (7, 7), (7, 9), (7, 2), (7, 8), (7, 6), (7, 0), (7, 9), (7, 4), (7, 1), (8, 7), (8, 7), (8, 9), (8, 2), (8, 8), (8, 6), (8, 0), (8, 9), (8, 4), (8, 1), (5, 7), (5, 7), (5, 9), (5, 2), (5, 8), (5, 6), (5, 0), (5, 9), (5, 4), (5, 1), (9, 7), (9, 7), (9, 9), (9, 2), (9, 8), (9, 6), (9, 0), (9, 9), (9, 4), (9, 1), (3, 7), (3, 7), (3, 9), (3, 2), (3, 8), (3, 6), (3, 0), (3, 9), (3, 4), (3, 1), (6, 7), (6, 7), (6, 9), (6, 2), (6, 8), (6, 6), (6, 0), (6, 9), (6, 4), (6, 1), (3, 7), (3, 7), (3, 9), (3, 2), (3, 8), (3, 6), (3, 0), (3, 9), (3, 4), (3, 1), (6, 7), (6, 7), (6, 9), (6, 2), (6, 8), (6, 6), (6, 0), (6, 9), (6, 4), (6, 1), (3, 7), (3, 7), (3, 9), (3, 2), (3, 8), (3, 6), (3, 0), (3, 9), (3, 4), (3, 1), (2, 7), (2, 7), (2, 9), (2, 2), (2, 8), (2, 6), (2, 0), (2, 9), (2, 4), (2, 1), (3, 7), (3, 7), (3, 9), (3, 2), (3, 8), (3, 6), (3, 0), (3, 9), (3, 4), (3, 1), (3, 7), (3, 7), (3, 9), (3, 2), (3, 8), (3, 6), (3, 0), (3, 9), (3, 4), (3, 1), (1, 7), (1, 7), (1, 9), (1, 2), (1, 8), (1, 6), (1, 0), (1, 9), (1, 4), (1, 1), (2, 7), (2, 7), (2, 9), (2, 2), (2, 8), (2, 6), (2, 0), (2, 9), (2, 4), (2, 1), (1, 7), (1, 7), (1, 9), (1, 2), (1, 8), (1, 6), (1, 0), (1, 9), (1, 4), (1, 1), (0, 7), (0, 7), (0, 9), (0, 2), (0, 8), (0, 6), (0, 0), (0, 9), (0, 4), (0, 1), (0, 7), (0, 7), (0, 9), (0, 2), (0, 8), (0, 6), (0, 0), (0, 9), (0, 4), (0, 1), (7, 7), (7, 7), (7, 9), (7, 2), (7, 8), (7, 6), (7, 0), (7, 9), (7, 4), (7, 1), (7, 7), (7, 7), (7, 9), (7, 2), (7, 8), (7, 6), (7, 0), (7, 9), (7, 4), (7, 1), (9, 7), (9, 7), (9, 9), (9, 2), (9, 8), (9, 6), (9, 0), (9, 9), (9, 4), (9, 1), (4, 7), (4, 7), (4, 9), (4, 2), (4, 8), (4, 6), (4, 0), (4, 9), (4, 4), (4, 1), (5, 7), (5, 7), (5, 9), (5, 2), (5, 8), (5, 6), (5, 0), (5, 9), (5, 4), (5, 1), (3, 7), (3, 7), (3, 9), (3, 2), (3, 8), (3, 6), (3, 0), (3, 9), (3, 4), (3, 1), (5, 7), (5, 7), (5, 9), (5, 2), (5, 8), (5, 6), (5, 0), (5, 9), (5, 4), (5, 1), (1, 7), (1, 7), (1, 9), (1, 2), (1, 8), (1, 6), (1, 0), (1, 9), (1, 4), (1, 1), (9, 7), (9, 7), (9, 9), (9, 2), (9, 8), (9, 6), (9, 0), (9, 9), (9, 4), (9, 1)]\n"
     ]
    }
   ],
   "source": [
    "\"\"\" Cartedian product #3 \"\"\"\n",
    "def cartesian_product(arr1, arr2):\n",
    "\t\"\"\" Return the list of all the computed tuple, using the product() method. \"\"\"\n",
    "\treturn list(product(arr1, arr2))\n",
    "\n",
    "def play_long():\n",
    "\ttime.sleep(4)\n",
    "\tarr1 = [random.randrange(0,10) for i in range(50)]\n",
    "\tarr2 = [random.randrange(0,10) for i in range(10)]\n",
    "\tprint(cartesian_product(arr1, arr2))\n",
    "\n",
    "play_long()"
   ]
  },
  {
   "cell_type": "markdown",
   "metadata": {},
   "source": [
    "<h2 style=\"color:#5DDE46\"> Dot product  </h2>"
   ]
  },
  {
   "cell_type": "code",
   "execution_count": 62,
   "metadata": {},
   "outputs": [
    {
     "name": "stdout",
     "output_type": "stream",
     "text": [
      "1 : True : u\n",
      "2 : False : y\n",
      "3 : X : t\n",
      "4 : X : r\n",
      "5 : X : w\n",
      "X : X : t\n",
      "X : X : n\n",
      "X : X : f\n",
      "(1, 'u')\n",
      "(1, 'y')\n",
      "(1, 't')\n",
      "(1, 'r')\n",
      "(1, 'w')\n",
      "(1, 't')\n",
      "(1, 'n')\n",
      "(1, 'f')\n",
      "(2, 'u')\n",
      "(2, 'y')\n",
      "(2, 't')\n",
      "(2, 'r')\n",
      "(2, 'w')\n",
      "(2, 't')\n",
      "(2, 'n')\n",
      "(2, 'f')\n",
      "(3, 'u')\n",
      "(3, 'y')\n",
      "(3, 't')\n",
      "(3, 'r')\n",
      "(3, 'w')\n",
      "(3, 't')\n",
      "(3, 'n')\n",
      "(3, 'f')\n",
      "(4, 'u')\n",
      "(4, 'y')\n",
      "(4, 't')\n",
      "(4, 'r')\n",
      "(4, 'w')\n",
      "(4, 't')\n",
      "(4, 'n')\n",
      "(4, 'f')\n",
      "(5, 'u')\n",
      "(5, 'y')\n",
      "(5, 't')\n",
      "(5, 'r')\n",
      "(5, 'w')\n",
      "(5, 't')\n",
      "(5, 'n')\n",
      "(5, 'f')\n"
     ]
    }
   ],
   "source": [
    "a13 = [1,2,3,4,5]\n",
    "b13 = [True, False]\n",
    "c13 = ['u','y','t','r','w','t','n','f']\n",
    "zippe = itertools.zip_longest(a13, b13, c13, fillvalue='X')\n",
    "for a,b,c in zippe:\n",
    "    print(a,b,c, sep = ' : ')\n",
    "\n",
    "propro = itertools.product(a13,c13)\n",
    "for t in list(propro):\n",
    "    print(t)"
   ]
  },
  {
   "cell_type": "markdown",
   "metadata": {},
   "source": [
    "<h2 style=\"color:#5DDE46\"> Combinations (the order does not count) </h2>"
   ]
  },
  {
   "cell_type": "code",
   "execution_count": 57,
   "metadata": {},
   "outputs": [
    {
     "name": "stdout",
     "output_type": "stream",
     "text": [
      "[('A', 'B'), ('A', 'C'), ('A', 'd'), ('B', 'C'), ('B', 'd'), ('C', 'd')]\n",
      "[('A', 'B', 'C'), ('A', 'B', 'd'), ('A', 'C', 'd'), ('B', 'C', 'd')]\n"
     ]
    }
   ],
   "source": [
    "ite = \"ABCd\"\n",
    "siz = 2\n",
    "siza = 3\n",
    "comb1 = itertools.combinations(ite, siz) \n",
    "comb2 = itertools.combinations(ite, siza)\n",
    "print(list(comb1))\n",
    "print(list(comb2))"
   ]
  },
  {
   "cell_type": "code",
   "execution_count": 71,
   "metadata": {},
   "outputs": [
    {
     "name": "stdout",
     "output_type": "stream",
     "text": [
      "A B\n",
      "A C\n",
      "B C\n",
      "\n",
      "A A\n",
      "A B\n",
      "A C\n",
      "B B\n",
      "B C\n",
      "C C\n"
     ]
    }
   ],
   "source": [
    "# Create pairs\n",
    "combi = itertools.combinations(li,2)\n",
    "for g in list(combi):\n",
    "    print(*g)\n",
    "print()\n",
    "\n",
    "# Create all possible pairs\n",
    "combirep = itertools.combinations_with_replacement(li,2)\n",
    "for g in list(combirep):\n",
    "    print(*g)"
   ]
  },
  {
   "cell_type": "code",
   "execution_count": 65,
   "metadata": {},
   "outputs": [
    {
     "data": {
      "text/plain": [
       "[(1, 1),\n",
       " (1, 2),\n",
       " (1, 3),\n",
       " (1, 4),\n",
       " (1, 5),\n",
       " (1, 6),\n",
       " (1, 7),\n",
       " (1, 8),\n",
       " (2, 2),\n",
       " (2, 3),\n",
       " (2, 4),\n",
       " (2, 5),\n",
       " (2, 6),\n",
       " (2, 7),\n",
       " (2, 8),\n",
       " (3, 3),\n",
       " (3, 4),\n",
       " (3, 5),\n",
       " (3, 6),\n",
       " (3, 7),\n",
       " (3, 8),\n",
       " (4, 4),\n",
       " (4, 5),\n",
       " (4, 6),\n",
       " (4, 7),\n",
       " (4, 8),\n",
       " (5, 5),\n",
       " (5, 6),\n",
       " (5, 7),\n",
       " (5, 8),\n",
       " (6, 6),\n",
       " (6, 7),\n",
       " (6, 8),\n",
       " (7, 7),\n",
       " (7, 8),\n",
       " (8, 8)]"
      ]
     },
     "execution_count": 65,
     "metadata": {},
     "output_type": "execute_result"
    }
   ],
   "source": [
    "input_list = [1,2,3,4,5,6,7,8]\n",
    "combinations_with_replacement2 = list(itertools.combinations_with_replacement(input_list, 2))\n",
    "combinations_with_replacement2"
   ]
  },
  {
   "cell_type": "markdown",
   "metadata": {},
   "source": [
    "<h2 style=\"color:#5DDE46\"> Permutations </h2>"
   ]
  },
  {
   "cell_type": "code",
   "execution_count": 59,
   "metadata": {},
   "outputs": [
    {
     "name": "stdout",
     "output_type": "stream",
     "text": [
      "ABC\n",
      "ACB\n",
      "BAC\n",
      "BCA\n",
      "CAB\n",
      "CBA\n"
     ]
    }
   ],
   "source": [
    "li = ['A','B','C']\n",
    "permu = itertools.permutations(li)\n",
    "for g in list(permu):\n",
    "    print(*g, sep = '')"
   ]
  },
  {
   "cell_type": "code",
   "execution_count": 73,
   "metadata": {},
   "outputs": [
    {
     "data": {
      "text/plain": [
       "[('a', 'b', 'c'),\n",
       " ('a', 'c', 'b'),\n",
       " ('b', 'a', 'c'),\n",
       " ('b', 'c', 'a'),\n",
       " ('c', 'a', 'b'),\n",
       " ('c', 'b', 'a')]"
      ]
     },
     "execution_count": 73,
     "metadata": {},
     "output_type": "execute_result"
    }
   ],
   "source": [
    "my_string = \"abc\"\n",
    "permutations = list(itertools.permutations(my_string))\n",
    "permutations"
   ]
  },
  {
   "cell_type": "code",
   "execution_count": 76,
   "metadata": {},
   "outputs": [
    {
     "data": {
      "text/plain": [
       "[(1, 2, 3),\n",
       " (1, 2, 4),\n",
       " (1, 2, 5),\n",
       " (1, 3, 2),\n",
       " (1, 3, 4),\n",
       " (1, 3, 5),\n",
       " (1, 4, 2),\n",
       " (1, 4, 3),\n",
       " (1, 4, 5),\n",
       " (1, 5, 2),\n",
       " (1, 5, 3),\n",
       " (1, 5, 4),\n",
       " (2, 1, 3),\n",
       " (2, 1, 4),\n",
       " (2, 1, 5),\n",
       " (2, 3, 1),\n",
       " (2, 3, 4),\n",
       " (2, 3, 5),\n",
       " (2, 4, 1),\n",
       " (2, 4, 3),\n",
       " (2, 4, 5),\n",
       " (2, 5, 1),\n",
       " (2, 5, 3),\n",
       " (2, 5, 4),\n",
       " (3, 1, 2),\n",
       " (3, 1, 4),\n",
       " (3, 1, 5),\n",
       " (3, 2, 1),\n",
       " (3, 2, 4),\n",
       " (3, 2, 5),\n",
       " (3, 4, 1),\n",
       " (3, 4, 2),\n",
       " (3, 4, 5),\n",
       " (3, 5, 1),\n",
       " (3, 5, 2),\n",
       " (3, 5, 4),\n",
       " (4, 1, 2),\n",
       " (4, 1, 3),\n",
       " (4, 1, 5),\n",
       " (4, 2, 1),\n",
       " (4, 2, 3),\n",
       " (4, 2, 5),\n",
       " (4, 3, 1),\n",
       " (4, 3, 2),\n",
       " (4, 3, 5),\n",
       " (4, 5, 1),\n",
       " (4, 5, 2),\n",
       " (4, 5, 3),\n",
       " (5, 1, 2),\n",
       " (5, 1, 3),\n",
       " (5, 1, 4),\n",
       " (5, 2, 1),\n",
       " (5, 2, 3),\n",
       " (5, 2, 4),\n",
       " (5, 3, 1),\n",
       " (5, 3, 2),\n",
       " (5, 3, 4),\n",
       " (5, 4, 1),\n",
       " (5, 4, 2),\n",
       " (5, 4, 3)]"
      ]
     },
     "execution_count": 76,
     "metadata": {},
     "output_type": "execute_result"
    }
   ],
   "source": [
    "## Generate a permutation of a specific length\n",
    "my_list = [1, 2, 3, 4, 5]\n",
    "permutat = list(itertools.permutations(my_list, 3))\n",
    "permutat"
   ]
  },
  {
   "cell_type": "code",
   "execution_count": 80,
   "metadata": {},
   "outputs": [
    {
     "name": "stdout",
     "output_type": "stream",
     "text": [
      "[(1, 1, 2), (1, 2, 1), (1, 1, 2), (1, 2, 1), (2, 1, 1), (2, 1, 1)]\n"
     ]
    },
    {
     "data": {
      "text/plain": [
       "[(1, 1), (1, 2), (1, 1), (1, 2), (2, 1), (2, 1)]"
      ]
     },
     "execution_count": 80,
     "metadata": {},
     "output_type": "execute_result"
    }
   ],
   "source": [
    "# Handle repetitions\n",
    "a_list_repe = [1, 1, 2]\n",
    "perm_repet = list(itertools.permutations(a_list_repe))\n",
    "print(perm_repet)\n",
    "\n",
    "# To avoid repetitions...\n",
    "perm_repet2 = list(itertools.permutations(my_list, 2))\n",
    "perm_repet2"
   ]
  },
  {
   "cell_type": "markdown",
   "metadata": {},
   "source": [
    "<h3 style=\"color:#5DDE46\"> Compressing </h3>"
   ]
  },
  {
   "cell_type": "code",
   "execution_count": 81,
   "metadata": {},
   "outputs": [
    {
     "data": {
      "text/plain": [
       "[1, 3, 5]"
      ]
     },
     "execution_count": 81,
     "metadata": {},
     "output_type": "execute_result"
    }
   ],
   "source": [
    "data_1 = [1, 2, 3, 4, 5, 6]\n",
    "selectors = [True, False, True, False, True, False]\n",
    "filtered = list(itertools.compress(data_1, selectors))\n",
    "filtered"
   ]
  },
  {
   "cell_type": "code",
   "execution_count": 82,
   "metadata": {},
   "outputs": [
    {
     "data": {
      "text/plain": [
       "['Boeing 747', 'Embraer E190', 'Cessna Citation']"
      ]
     },
     "execution_count": 82,
     "metadata": {},
     "output_type": "execute_result"
    }
   ],
   "source": [
    "data_2 = ['Boeing 747', 'Airbus A380', 'Embraer E190', 'Bombardier CRJ900', 'Cessna Citation']\n",
    "selectors = [True, False, True, False, True]\n",
    "filtered2 = list(itertools.compress(data_2, selectors))\n",
    "filtered2"
   ]
  },
  {
   "cell_type": "code",
   "execution_count": 11,
   "metadata": {},
   "outputs": [
    {
     "name": "stdout",
     "output_type": "stream",
     "text": [
      "['a' 'z' 'b' 'r' 'g' 'y']\n",
      "['z', 'b', 'r', 'g']\n"
     ]
    }
   ],
   "source": [
    "\"\"\" Compress.\n",
    "N.B.\n",
    "'ord('a')' => gets the Unicode code point of the letter a.\n",
    "\"\"\"\n",
    "letters = [chr(i) for i in range(ord('a'), ord('z')+1)]\n",
    "random_array1 = np.random.choice(letters, size=6)\n",
    "# or \n",
    "random_array2 = np.array([chr(np.random.randint(ord('a'), ord('z')+1)) for i in range(6)]) \n",
    "# or \n",
    "random_array = np.array([random.choice(string.ascii_lowercase) for i in range(6)])\n",
    "print(random_array)\n",
    "\n",
    "selectors = [False, True, True, True, True, False]\n",
    "\n",
    "# Select all but not the first and last elements\n",
    "compressed = itertools.compress(random_array, selectors) \n",
    "print(list(compressed))"
   ]
  },
  {
   "cell_type": "markdown",
   "metadata": {},
   "source": [
    "<h3 style=\"color:#5DDE46\"> Filtering </h3>"
   ]
  },
  {
   "cell_type": "code",
   "execution_count": 72,
   "metadata": {},
   "outputs": [
    {
     "data": {
      "text/plain": [
       "[1, 3]"
      ]
     },
     "execution_count": 72,
     "metadata": {},
     "output_type": "execute_result"
    }
   ],
   "source": [
    "\"\"\" Filterfalse()\n",
    "It return values that don't meet a certain condition (that return 'False' for the passed function).\n",
    "\"\"\"\n",
    "input_list = [1, 2, 3]\n",
    "filtered_elements = list(itertools.filterfalse(lambda x: x % 2 == 0, input_list))\n",
    "filtered_elements"
   ]
  },
  {
   "cell_type": "code",
   "execution_count": null,
   "metadata": {},
   "outputs": [],
   "source": [
    "\"\"\" Filterfalse() #2 \"\"\"\n",
    "\n",
    "li_1 = range(100)\n",
    "li_2 = [random.randint(0, 1) for _ in range(10)]\n",
    "print(li_2)\n",
    "\n",
    "filtered_1 = itertools.filterfalse(lambda n:n % 10, li_1)\n",
    "filtered_2 = itertools.filterfalse(None, li_2)\n",
    "\n",
    "print()\n",
    "print(list(filtered_1))\n",
    "print(list(filtered_2))"
   ]
  },
  {
   "cell_type": "markdown",
   "metadata": {},
   "source": [
    "<h3 style=\"color:#5DDE46\"> Dropping </h3>"
   ]
  },
  {
   "cell_type": "code",
   "execution_count": 36,
   "metadata": {},
   "outputs": [
    {
     "name": "stdout",
     "output_type": "stream",
     "text": [
      "Case A:\n",
      "<class 'numpy.ndarray'>\n",
      "[51 88 81 19 69 32 19 90 18 13]\n",
      "[51, 88, 81, 19, 69, 32, 19, 90, 18, 13]\n",
      "--> remainings A:\n",
      "<class 'itertools.dropwhile'>\n",
      "[51, 88, 81, 19, 69, 32, 19, 90, 18, 13]\n",
      "Case B:\n",
      "<class 'numpy.ndarray'>\n",
      "[24, 97, 83, 46, 64, 49, 53, 80, 52, 91]\n",
      "[24 97 83 46 64 49 53 80 52 91]\n",
      "--> remainings B:\n",
      "<class 'itertools.dropwhile'>\n",
      "[97, 83, 46, 64, 49, 53, 80, 52, 91]\n",
      "\n",
      "[]\n"
     ]
    }
   ],
   "source": [
    "\"\"\" Cancel.\n",
    "N.B\n",
    "'dropwhile()' => drops elements from the input iterable. \n",
    "It returns an iterator only after the function in argument returns false for the first time.\n",
    "\"\"\"\n",
    "\n",
    "random_a = np.random.randint(1, 101, size=10)\n",
    "# or \n",
    "random_b = np.random.randint(1, 101, 10)\n",
    "\n",
    "remaining_1 = itertools.dropwhile(lambda n: n < 50, random_a)\n",
    "remaining_2 = itertools.dropwhile(lambda n: n < 50, random_b)\n",
    "\n",
    "print(\"Case A:\")\n",
    "print(type(random_a))\n",
    "print(random_a)\n",
    "print(list(random_a))\n",
    "print(\"--> remainings A:\")\n",
    "print(type(remaining_1))\n",
    "print(list(remaining_1))\n",
    "\n",
    "print(\"Case B:\")\n",
    "print(type(random_b))\n",
    "print(list(random_b))\n",
    "print(random_b)\n",
    "print(\"--> remainings B:\")\n",
    "print(type(remaining_2))\n",
    "print(list(remaining_2))"
   ]
  },
  {
   "cell_type": "code",
   "execution_count": 37,
   "metadata": {},
   "outputs": [
    {
     "name": "stdout",
     "output_type": "stream",
     "text": [
      "[]\n"
     ]
    }
   ],
   "source": [
    "\"\"\" dropwhile() #2\n",
    "Issue: It returns the empty list! \n",
    "In fact, trying to convert remaining_1 to a list and then to a NumPy array, \n",
    "but the iterator may be already consumed if printed before using list().\n",
    "\"\"\"\n",
    "remaining_nparray = np.array(list(remaining_1))\n",
    "print(remaining_nparray)"
   ]
  },
  {
   "cell_type": "code",
   "execution_count": 39,
   "metadata": {},
   "outputs": [
    {
     "name": "stdout",
     "output_type": "stream",
     "text": [
      "[3, 1, 5, 2, 6, 8, 4, 7, 5]\n",
      "[5 2 6 8 4 7 5]\n"
     ]
    }
   ],
   "source": [
    "\"\"\" dropwhile() #3 \"\"\"\n",
    "random_a = [3, 1, 5, 2, 6, 8, 4, 7]\n",
    "random_a.append(5)\n",
    "# Drop elements from the list until the first element >= 5\n",
    "remaining = itertools.dropwhile(lambda n: n < 5, random_a)\n",
    "# Convert the remaining elements to a NumPy array\n",
    "remaining_array = np.array(list(remaining)) \n",
    "\n",
    "print(random_a)\n",
    "print(remaining_array)"
   ]
  },
  {
   "cell_type": "code",
   "execution_count": 16,
   "metadata": {},
   "outputs": [
    {
     "name": "stdout",
     "output_type": "stream",
     "text": [
      "[82, 49, 76, 46, 48, 71, 46, 6, 62]\n",
      "[82 49 76 46 48 71 46  6 62]\n"
     ]
    }
   ],
   "source": [
    "\"\"\" dropwhile() #4 \n",
    "It drops elements as long as the lambda function (in this case, lambda n: n < 50) returns True. \n",
    "Once the lambda function returns False, it starts including elements in the iterator.\n",
    "\n",
    "N.B.\n",
    "To avoid the issue of the empty list described above, it is necessary to create a copy of the iterator using itertools.tee() \n",
    "before converting it to a list or a NumPy array.\n",
    "- tee() is used to create two independent iterators from a single input iterator (the returned one from dropwhile())\n",
    "Both contain the same elements from random_a, but each iterator can be consumed independently.\n",
    "\"\"\"\n",
    "random_a = np.random.randint(1, 101, size=10)\n",
    "# Copy the itertools object into a list before printing it\n",
    "remaining_1, remaining_2 = itertools.tee(itertools.dropwhile(lambda n: n < 50, random_a))\n",
    "remaining_list = list(remaining_1) \n",
    "remaining_nparray = np.array(remaining_list)\n",
    "\n",
    "print(remaining_list)\n",
    "print(remaining_nparray)"
   ]
  },
  {
   "cell_type": "markdown",
   "metadata": {},
   "source": [
    "<h3 style=\"color:#5DDE46\"> Pairing </h3>"
   ]
  },
  {
   "cell_type": "code",
   "execution_count": 40,
   "metadata": {},
   "outputs": [
    {
     "name": "stdout",
     "output_type": "stream",
     "text": [
      "[('z', 0), ('s', 1), ('f', 2), ('j', 3), ('q', 4), ('l', 5)]\n",
      "[('j', 0), ('p', 1), ('w', 2), ('t', 3), ('y', 4), ('i', 5)]\n"
     ]
    }
   ],
   "source": [
    "\"\"\" Pairs #1 \n",
    "Create a list of tuples using list comprehensions and enumerating characters from different sources. \n",
    "2 solutions:\n",
    "- Case a)\n",
    "ll1 => list of tuple with characters from \"chars\" and its index in the shuffled lowercase alphabet.\n",
    "It is obtained from the enumeratation of characters from a shuffled version of the lowercase alphabet.\n",
    "- Case b)\n",
    "Randomly samples 10 characters from the lowercase alphabet and then create the tuples by enumerating.\n",
    "\"\"\"\n",
    "chars = 'pacwdf'\n",
    "#ll1 = [(char, i) for i, char in enumerate(random.sample(chars, len(chars)))]\n",
    "ll1 = [(char, i) for i, char in enumerate(random.sample(string.ascii_lowercase, len(string.ascii_lowercase)))]\n",
    "\n",
    "# or \n",
    "chars = random.sample(string.ascii_lowercase, 10)\n",
    "ll3 = [(char, i) for i, char in enumerate(chars)]\n",
    "\n",
    "print(ll1[:6])\n",
    "print(ll3[:6])"
   ]
  },
  {
   "cell_type": "code",
   "execution_count": 41,
   "metadata": {},
   "outputs": [
    {
     "name": "stdout",
     "output_type": "stream",
     "text": [
      " List of integers\n",
      "[4, 17, 2, 19, 8, 18, 9, 13, 20, 25, 12, 14, 15, 22, 3, 6, 26, 1, 24, 23, 7, 21, 10, 16, 11, 5]\n",
      " List of lowercase alpha\n",
      "['a', 'b', 'c', 'd', 'e', 'f', 'g', 'h', 'i', 'j', 'k', 'l', 'm', 'n', 'o', 'p', 'q', 'r', 's', 't', 'u', 'v', 'w', 'x', 'y', 'z']\n",
      " A random sample\n",
      "['z', 'y', 'p', 'w', 'k', 't', 'a', 'n', 'v', 'j']\n",
      "[('m', 4), ('u', 17), ('z', 2), ('p', 19), ('r', 8), ('a', 18), ('j', 9), ('t', 13), ('w', 20), ('c', 25), ('o', 12), ('n', 14), ('i', 15), ('v', 22), ('q', 3), ('g', 6), ('l', 26), ('e', 1), ('s', 24), ('x', 23), ('k', 7), ('h', 21), ('b', 10), ('f', 16), ('d', 11), ('y', 5)]\n",
      "[('y', 4), ('m', 17), ('t', 2), ('b', 19), ('q', 8), ('x', 18), ('i', 9), ('w', 13), ('a', 20), ('u', 25)]\n"
     ]
    }
   ],
   "source": [
    "\"\"\" Pairs #2 \"\"\"\n",
    "\n",
    "integers = list(range(1, 27))\n",
    "random.shuffle(integers)\n",
    "reduced_alpa = [random.choice(_) for _ in string.ascii_lowercase]\n",
    "sample = random.sample(reduced_alpa, 10)\n",
    "ll1 = [(char, i) for i, char in zip(integers, random.sample(string.ascii_lowercase, len(string.ascii_lowercase)))]\n",
    "ll2 = [(char, i) for i, char in zip(integers, random.sample(string.ascii_lowercase, len(sample)))]\n",
    "\n",
    "print(\" List of integers\")\n",
    "print(integers)\n",
    "print(\" List of lowercase alpha\")\n",
    "print(reduced_alpa)\n",
    "print(\" A random sample\")\n",
    "print(sample)\n",
    "\n",
    "print(ll1)\n",
    "print(ll2)"
   ]
  },
  {
   "cell_type": "code",
   "execution_count": 44,
   "metadata": {},
   "outputs": [
    {
     "name": "stdout",
     "output_type": "stream",
     "text": [
      "Partial lists: \n",
      "[('r', 23), ('s', 24), ('r', 17), ('r', 16), ('r', 20)]\n",
      "[('s', 10), ('r', 21), ('g', 24), ('b', 25), ('r', 7)]\n",
      "[('r', 18), ('s', 2), ('j', 23), ('r', 22), ('t', 23)]\n"
     ]
    }
   ],
   "source": [
    "# Pais #3 with zip\n",
    "integers = list(range(1, 27))\n",
    "random.shuffle(integers)\n",
    "reduced_alpa = [random.choice(string.ascii_lowercase) for _ in range(len(integers))]\n",
    "sample = random.choices(reduced_alpa, k=10)\n",
    "ll2 = [(char, i) for i, char in zip(integers, random.choices(sample, k=len(integers)))]\n",
    "ll3 = [(char, i) for i, char in zip(random.choices(integers, k=len(sample)), sample)]\n",
    "ll4 = [(char, i) for i, char in zip(random.choices(integers, k=len(sample)), random.choices(sample, k=len(integers)))]\n",
    "print(\"Partial lists: \")\n",
    "print(ll2[:5])\n",
    "print(ll3[:5])\n",
    "print(ll4[:5])"
   ]
  },
  {
   "cell_type": "code",
   "execution_count": null,
   "metadata": {},
   "outputs": [],
   "source": [
    "\"\"\" Pairs # 4\n",
    "Divide in pairs \n",
    "N.B. => itertools.pairwise(random_string) does not exist in python's versions lower than 3.10.\n",
    "A custom method can be defined instead to simulate pairwise\n",
    "\"\"\"\n",
    "\n",
    "lenz = 10\n",
    "random_string = ''.join(random.choices(string.ascii_letters, k=lenz))\n",
    "print(f\"My random_string is: \\\"{random_string}\\\"\")\n",
    "\n",
    "def pairwise(iterable: Iterable) -> Iterable[Tuple]:\n",
    "    \"\"\"s -> (s0,s1), (s1,s2), (s2, s3), ..., (sn-1,sn)\"\"\"\n",
    "    a, b = iter(iterable), iter(iterable)\n",
    "    next(b, None)\n",
    "    return zip(a, b)\n",
    "\n",
    "for pair in pairwise(random_string):\n",
    "    print(pair)"
   ]
  },
  {
   "cell_type": "code",
   "execution_count": 70,
   "metadata": {},
   "outputs": [
    {
     "data": {
      "text/plain": [
       "[(1, 'a'), (2, 'b'), (3, 'c'), (4, 'N/A'), (5, 'N/A')]"
      ]
     },
     "execution_count": 70,
     "metadata": {},
     "output_type": "execute_result"
    }
   ],
   "source": [
    "# Zip-like iterator with fill values\n",
    "list_a = [1, 2, 3, 4, 5]\n",
    "list_b = ['a', 'b', 'c']\n",
    "zipped_with_fill = list(itertools.zip_longest(list_a, list_b, fillvalue='N/A'))\n",
    "zipped_with_fill"
   ]
  },
  {
   "cell_type": "markdown",
   "metadata": {},
   "source": [
    "<h3 style=\"color:#5DDE46\"> Grouping </h3>"
   ]
  },
  {
   "cell_type": "code",
   "execution_count": 67,
   "metadata": {},
   "outputs": [
    {
     "data": {
      "text/plain": [
       "{25: [{'name': 'Roger', 'age': 25}], 30: [{'name': 'Alfred', 'age': 30}]}"
      ]
     },
     "execution_count": 67,
     "metadata": {},
     "output_type": "execute_result"
    }
   ],
   "source": [
    "# Group elements in a list by a key function\n",
    "data = [{'name': 'Mortimer', 'age': 25}, {'name': 'Alfred', 'age': 30}, {'name': 'Roger', 'age': 25}]\n",
    "grouped_data = {key: list(group) for key, group in itertools.groupby(data, key=lambda x: x['age'])}\n",
    "grouped_data"
   ]
  },
  {
   "cell_type": "code",
   "execution_count": 45,
   "metadata": {},
   "outputs": [
    {
     "name": "stdout",
     "output_type": "stream",
     "text": [
      "r, [('r', 18)]\n",
      "s, [('s', 2)]\n",
      "j, [('j', 23)]\n",
      "r, [('r', 22)]\n",
      "t, [('t', 23)]\n",
      "r, [('r', 6)]\n",
      "j, [('j', 13)]\n",
      "r, [('r', 13), ('r', 7), ('r', 6)]\n"
     ]
    }
   ],
   "source": [
    "all_grouped = itertools.groupby(ll4, lambda x:x[0])\n",
    "for key, values in all_grouped:\n",
    "    print(key, list(values), sep=', ')"
   ]
  },
  {
   "cell_type": "code",
   "execution_count": 20,
   "metadata": {},
   "outputs": [
    {
     "name": "stdout",
     "output_type": "stream",
     "text": [
      "samp == [22, 12, 24, 10, 2, 6, 3, 26, 16, 15, 1, 18, 14, 7, 19, 23, 11, 13, 5, 20, 4, 9, 21, 8, 17, 25]\n",
      "sample == [3, 7, 26, 9, 20, 7, 22, 18, 15, 17, 14, 22, 8, 20, 25]\n",
      "inter == [ 3  7 26  9 20  7 22 18 15 17 14 22  8 20 25]\n",
      "\n",
      "[[3], [7], [26], [9], [20], [7], [22], [18], [15], [17], [14], [22], [8], [20], [25]]\n",
      "[[3], [7], [26], [9], [20], [7], [22], [18], [15], [17], [14], [22], [8], [20], [25]]\n"
     ]
    }
   ],
   "source": [
    "\"\"\" Groupby.\n",
    "N.B.\n",
    "Do not use: 'samp = random.shuffle(li_int)' since it shuffles a list in place and without returning a new list.\n",
    "\"\"\"\n",
    "\n",
    "li_int = list(range(1, 27))\n",
    "\n",
    "samp = li_int.copy()\n",
    "random.shuffle(samp)\n",
    "sample = random.choices(li_int, k=15)\n",
    "inter = np.array(sample, dtype=np.int8)\n",
    "print(\"samp ==> {}\".format(samp))\n",
    "print(\"sample ==> {}\".format(sample))\n",
    "print(\"inter ==> {}\".format(inter))\n",
    "\n",
    "example1 = [list(g) for k, g in itertools.groupby(sample)]\n",
    "example2 = [list(g) for k, g in itertools.groupby(inter)]       # works also with numpy arrays!\n",
    "print()\n",
    "print(example1)\n",
    "print(example2)\n"
   ]
  },
  {
   "cell_type": "markdown",
   "metadata": {},
   "source": [
    "<h3 style=\"color:#5DDE46\"> Slicing </h3>"
   ]
  },
  {
   "cell_type": "code",
   "execution_count": 49,
   "metadata": {},
   "outputs": [
    {
     "name": "stdout",
     "output_type": "stream",
     "text": [
      "original list of random letters\n",
      "['m', 'e', 'a', 'h', 'r', 'u', 'i', 'b', 's', 'l']\n",
      "sliced versions:\n",
      "['m', 'e', 'a', 'h', 'r', 'u', 'i']\n",
      "['m', 'e', 'a']\n"
     ]
    }
   ],
   "source": [
    "\"\"\" isslice()\n",
    "It works like std slice() on lists but returns an iterator.\n",
    "It returns selectively the values mentioned in given iterable container.\n",
    "If start is specified, will skip all preceding elements; otherwise, start defaults to zero.  \n",
    "\"\"\"\n",
    "\n",
    "reduced_alpa = [random.choice(_) for _ in string.ascii_lowercase]\n",
    "letters = random.sample(reduced_alpa, 10)\n",
    "sliced = itertools.islice(letters, 0, len(letters)-3)\n",
    "sliced2 = itertools.islice(letters, 3)\n",
    "print(\"original list of random letters\")\n",
    "print(letters)\n",
    "print(\"sliced versions:\")\n",
    "print(list(sliced))\n",
    "print(list(sliced2))"
   ]
  },
  {
   "attachments": {},
   "cell_type": "markdown",
   "metadata": {},
   "source": [
    "<h3 style=\"color:#5DDE46\"> Intersecting </h3>"
   ]
  },
  {
   "cell_type": "code",
   "execution_count": 22,
   "metadata": {},
   "outputs": [
    {
     "name": "stdout",
     "output_type": "stream",
     "text": [
      "result_22 [2006]\n",
      "[2006]\n",
      "[2000, 2001]\n"
     ]
    }
   ],
   "source": [
    "\"\"\" Reduce one dimension of [[ array ]] then return a new list with values shared by two lists. \"\"\"\n",
    "result_1 = [2001,2001,2000,2004,2006]\n",
    "result_2 = [[2006]]\n",
    "result_3 = [2001,2001,2000]\n",
    "\n",
    "\n",
    "result_22 = functools.reduce(operator.iconcat, result_2, [])\n",
    "print(\"result_22 {}\".format(result_22))\n",
    "\n",
    "result_sess = list(set(result_1) & set(result_22))\n",
    "print(result_sess)\n",
    "# or ....\n",
    "rs = list(set(result_1).intersection(result_3))\n",
    "print(rs)\n"
   ]
  },
  {
   "cell_type": "code",
   "execution_count": 60,
   "metadata": {},
   "outputs": [
    {
     "name": "stdout",
     "output_type": "stream",
     "text": [
      "intersection a and b is =  [2, 3]\n",
      "difference from a and b is =  [1, 8, 5, 6]\n",
      "intersect a,b,c,d all together = [2]\n"
     ]
    }
   ],
   "source": [
    "def do_difference(lis1, lis2):\n",
    "    return list(set(lis1) - set(lis2)) + list(set(lis2) - set(lis1))\n",
    "\n",
    "a = [1,2,3,1]\n",
    "b = [2,3,5,6,8]\n",
    "c = [32321,4,5,7,8,9,0,455,3242,9,2]\n",
    "d = [23,2,5,6,8,9,100,3]\n",
    "\n",
    "e = list(set(a).intersection(b))\n",
    "print(\"intersection a and b is = \", e)\n",
    "diffa = do_difference(a,b)\n",
    "print(\"difference from a and b is = \", diffa)\n",
    "\n",
    "ee = list(set(a).intersection(set(b).intersection(set(c).intersection(d))))\n",
    "print(f\"intersect a,b,c,d all together = {ee}\")"
   ]
  },
  {
   "cell_type": "code",
   "execution_count": 61,
   "metadata": {},
   "outputs": [
    {
     "name": "stdout",
     "output_type": "stream",
     "text": [
      "1FCOS\n",
      "list with uniques =  ['2e', '1e', '4e', '3e']\n",
      "resp is []\n",
      "cc is =  ['2e', '1e', '4e', '3e']\n"
     ]
    }
   ],
   "source": [
    "rece = 'type_game_1FCOS'\n",
    "room_num_dict = {'type_game_1FCOS': '1FCOS', 'type_game_1FSUCOD': '1FSUCOD'}\n",
    "print(room_num_dict[rece])\n",
    "\n",
    "lisa = ['1e','1e','2e','3e','4e']\n",
    "lisa2 = ['1e','1e','2e','3e','4e']\n",
    "setta = list(set(lisa))\n",
    "print(\"list with uniques = \",setta)\n",
    "resp = [x for x in lisa if x not in setta]\n",
    "print(\"resp is {}\".format(resp))\n",
    "cc = list(set(lisa) & set(lisa2))\n",
    "print(\"cc is = \", cc)\n"
   ]
  },
  {
   "cell_type": "markdown",
   "metadata": {},
   "source": [
    "<h3 style=\"color:#5DDE46\"> Mapping </h3>"
   ]
  },
  {
   "cell_type": "code",
   "execution_count": 25,
   "metadata": {},
   "outputs": [
    {
     "name": "stdout",
     "output_type": "stream",
     "text": [
      "[['1X', '2X', '3X', '4X'], ['4X', '5X', '6X'], ['6X', '7X']]\n"
     ]
    }
   ],
   "source": [
    "\"\"\" Map same function.\n",
    "N.B.\n",
    "'starmap()' is used when an iterable is contained within another iterable to apply on them a certain function.\n",
    "It considers each element of the iterable within another iterable as a separate item.\n",
    "\"\"\"\n",
    "\n",
    "l = [(1,2,3,4),(4,5,6),(6,7)]\n",
    "\n",
    "def example_fun(*args):\n",
    "    temp = []\n",
    "    for arg in args:\n",
    "        temp.append(f'{arg}X')\n",
    "    return temp\n",
    "\n",
    "star_mapped = itertools.starmap(example_fun, l)\n",
    "\n",
    "print(list(star_mapped))"
   ]
  },
  {
   "cell_type": "code",
   "execution_count": 53,
   "metadata": {},
   "outputs": [
    {
     "name": "stdout",
     "output_type": "stream",
     "text": [
      "[1, 2, 3]\n",
      "[<itertools._tee object at 0x7f740a063140>, <itertools._tee object at 0x7f740a061fc0>, <itertools._tee object at 0x7f740a062000>, <itertools._tee object at 0x7f740a0635c0>]\n",
      "[1, 2, 3, 4, 5, 6, 11, 23, 1, 1, 2, 7, 7, 8, 9, 10]\n",
      "[1, 2, 3, 4, 5, 6, 11, 23, 1, 1, 2, 7, 7, 8, 9, 10]\n",
      "[1, 2, 3, 4, 5, 6, 11, 23, 1, 1, 2, 7, 7, 8, 9, 10]\n",
      "[1, 2, 3, 4, 5, 6, 11, 23, 1, 1, 2, 7, 7, 8, 9, 10]\n"
     ]
    }
   ],
   "source": [
    "\"\"\" It return succesive entries from an iterable, as long as the predicate evaluates True for each entry. \"\"\"\n",
    "lili = [1, 2, 3, 4, 5, 6, 11, 23, 1, 1, 2, 7, 7, 8, 9, 10]\n",
    "take_only = itertools.takewhile(lambda a: a < 4, lili)\n",
    "tee = itertools.tee(lili, 4)\n",
    "print(list(take_only))\n",
    "print(list(tee)) \n",
    "\n",
    "for it in tee:\n",
    "    print(list(it))"
   ]
  },
  {
   "cell_type": "markdown",
   "metadata": {},
   "source": [
    "<h3 style=\"color:#5DDE46\"> Flattening </h3>"
   ]
  },
  {
   "cell_type": "code",
   "execution_count": 29,
   "metadata": {},
   "outputs": [
    {
     "name": "stdout",
     "output_type": "stream",
     "text": [
      "results_need TOTALE dopo flatten è [20, '', 2003, 2003]\n",
      "results_need TOTALE dopo flatten è [20, '', 2003, 2003]\n",
      "asas finale ['', 2003, 20]\n"
     ]
    }
   ],
   "source": [
    "def iterFlatten(root):\n",
    "    if isinstance(root, (list, tuple)):\n",
    "        for element in root:\n",
    "            for e in iterFlatten(element):\n",
    "                yield e\n",
    "    else:\n",
    "        yield root\n",
    "\n",
    "asa = [20, '', [2003, 2003]]\n",
    "\n",
    "try:\n",
    "    asa = list(itertools.chain.from_iterable(asa))\n",
    "    print(\"results_need TOTALE dopo itertools è {}\".format(asa))\n",
    "except Exception:\n",
    "    asa = list(iterFlatten(asa))\n",
    "    print(\"results_need TOTALE dopo flatten è {}\".format(asa))\n",
    "\n",
    "asa = list(iterFlatten(asa))\n",
    "print(\"results_need TOTALE dopo flatten è {}\".format(asa))\n",
    "\n",
    "asa = list(set(asa))\n",
    "\n",
    "print(\"asas finale {}\".format(asa))"
   ]
  },
  {
   "cell_type": "code",
   "execution_count": null,
   "metadata": {},
   "outputs": [],
   "source": [
    "def iterFlatten(root):\n",
    "    if isinstance(root, (list, tuple)):\n",
    "        for element in root:\n",
    "            for e in iterFlatten(element):\n",
    "                yield e\n",
    "    else:\n",
    "        yield root\n",
    "\n",
    "def iterFlatten2(root):\n",
    "    if isinstance(root, (list, tuple, set)):\n",
    "        for element in root:\n",
    "            yield from iterFlatten2(element)\n",
    "    elif isinstance(root, dict):\n",
    "        for key, value in root.items():\n",
    "            yield key\n",
    "            yield from iterFlatten2(value)\n",
    "    else:\n",
    "        yield root"
   ]
  },
  {
   "cell_type": "code",
   "execution_count": 31,
   "metadata": {},
   "outputs": [
    {
     "name": "stdout",
     "output_type": "stream",
     "text": [
      "[1, 3, 4, 2, 3]\n",
      "[[1, 3, 55, 55]]\n",
      "['a', 1, 'b', 2, 3, 'c', 'd', 4, 'e', 5, 6]\n",
      "[1, 2, 3, 4, 5, 6, 7, 8, 9]\n"
     ]
    }
   ],
   "source": [
    "tot = [[1,3],[4],[2,3]]\n",
    "flatten_tot = list(iterFlatten(tot))\n",
    "print(flatten_tot)\n",
    "l1 = []\n",
    "l1_tmp=[]\n",
    "l1_tmp.append(tot[0])\n",
    "l1_tmp.append(55)\n",
    "l1_tmp.append(55)\n",
    "l1_tmp = list(iterFlatten(l1_tmp))\n",
    "l1.append(l1_tmp)\n",
    "print(l1)\n",
    "\n",
    "mydict = {'a': 1, 'b': [2, 3], 'c': {'d': 4, 'e': [5, 6]}}\n",
    "\n",
    "# Do not use:\n",
    "# myset = {1, 2, 3, (4, 5), [6, 7, [8, 9]]} \n",
    "# TypeError: unhashable type: 'list'!!! cannot mix ! \n",
    "# lists are mutable objects in Python, and sets can only contain immutable objects.\n",
    "\n",
    "myset = {1, 2, 3, (4, 5), (6, 7, (8, 9))}\n",
    "flatten_dict = list(iterFlatten2(mydict))\n",
    "flatten_set = list(iterFlatten2(myset)) \n",
    "print(flatten_dict)\n",
    "print(flatten_set)\n"
   ]
  },
  {
   "cell_type": "markdown",
   "metadata": {},
   "source": [
    "<h2 style=\"color:#5DDE46\"> More itertools module </h2>"
   ]
  },
  {
   "cell_type": "markdown",
   "metadata": {},
   "source": [
    "The iterator disappers after printing it! It is temporary! Next calls will not work."
   ]
  },
  {
   "cell_type": "code",
   "execution_count": 32,
   "metadata": {},
   "outputs": [
    {
     "name": "stdout",
     "output_type": "stream",
     "text": [
      "next x \n",
      "(1, 2)\n",
      "(2, 3)\n",
      "next y \n",
      "(1, 2, 3)\n",
      "(2, 3, 4)\n",
      "[(3, 4), (4, 5)]\n",
      "[(3, 4, 5)]\n"
     ]
    }
   ],
   "source": [
    "x = mit.windowed([1,2,3,4,5],2)\n",
    "y = mit.windowed([1,2,3,4,5],3)\n",
    "\n",
    "#Do not use:\n",
    "# zx = x.copy() \n",
    "# It cannot copy a generator you should create two independent iterators that iterate over the same elements\n",
    "\n",
    "iterator1, iterator2 = itertools.tee(x)\n",
    "iterator3, iterator4 = itertools.tee(y)\n",
    "print(\"next x \")\n",
    "print(next(iterator1))\n",
    "print(next(iterator1))\n",
    "print(\"next y \")\n",
    "print(next(iterator3))\n",
    "print(next(iterator3))\n",
    "print(list(x))\n",
    "print(list(y)) \n"
   ]
  },
  {
   "cell_type": "code",
   "execution_count": 33,
   "metadata": {},
   "outputs": [
    {
     "data": {
      "text/plain": [
       "[(True, False, 'A'), (False, False, 'B'), (False, True, 'C')]"
      ]
     },
     "execution_count": 33,
     "metadata": {},
     "output_type": "execute_result"
    }
   ],
   "source": [
    "list(mit.mark_ends(\"ABC\"))"
   ]
  },
  {
   "cell_type": "markdown",
   "metadata": {},
   "source": [
    "<h3 style=\"color:#5DDE46\"> Repeating </h3>"
   ]
  },
  {
   "cell_type": "code",
   "execution_count": 34,
   "metadata": {},
   "outputs": [
    {
     "name": "stdout",
     "output_type": "stream",
     "text": [
      "[1, 1, 1, 1, 2, 2, 2, 2, 3, 3, 3, 3, 4, 4, 4, 4, 5, 5, 5, 5, 6, 6, 6, 6]\n",
      "1\n",
      "2\n",
      "3\n"
     ]
    },
    {
     "data": {
      "text/plain": [
       "[1, 1, 2, 3, 2]"
      ]
     },
     "execution_count": 34,
     "metadata": {},
     "output_type": "execute_result"
    }
   ],
   "source": [
    "\"\"\" Repeat \"\"\"\n",
    "print(list(mit.repeat_each([1,2,3,4,5,6],4)))\n",
    "\n",
    "# Do not use:\n",
    "# list(mit.repeat_last([1,2,3,4,5,6])) \n",
    "# => infinite execution!!\n",
    "\n",
    "x = mit.repeat_last([1,2,3,4,5])\n",
    "print(next(x))\n",
    "print(next(x))\n",
    "print(next(x))\n",
    "list(mit.collapse([[1],[[1,2,3],2]]))"
   ]
  },
  {
   "cell_type": "code",
   "execution_count": 35,
   "metadata": {},
   "outputs": [
    {
     "name": "stdout",
     "output_type": "stream",
     "text": [
      "(2, 1634)\n",
      "0\n",
      "1\n"
     ]
    }
   ],
   "source": [
    "print(mit.minmax([1634,2,13,44,53,123]))\n",
    "print(mit.quantify([1634,2,13,44,53,123], lambda x : x ==3))\n",
    "print(mit.quantify([1634,2,13,44,53,123], lambda x : x > 1003))"
   ]
  },
  {
   "cell_type": "code",
   "execution_count": 36,
   "metadata": {},
   "outputs": [
    {
     "name": "stdout",
     "output_type": "stream",
     "text": [
      "[0, 1, 2, 3, 4, 5]\n",
      "[0, 1, 2, 3, 4, 5, 6, 7, 8, 9, 10, 11, 12, 13, 14, 15, 16, 17, 18, 19, 20, 21, 22, 23, 24, 25, 26, 27, 28, 29, 30, 31, 32, 33, 34, 35, 36, 37, 38, 39, 40, 41, 42, 43, 44, 45, 46, 47, 48, 49, 50, 51, 52, 53, 54, 55, 56, 57, 58, 59, 60, 61, 62, 63, 64, 65, 66, 67, 68, 69, 70, 71, 72, 73, 74, 75, 76, 77, 78, 79, 80, 81, 82, 83, 84, 85, 86, 87, 88, 89, 90, 91, 92, 93, 94, 95, 96, 97, 98, 99, 100, 101, 102, 103, 104, 105, 106, 107, 108, 109, 110, 111, 112, 113, 114, 115, 116, 117, 118, 119, 120, 121, 122, 123, 124, 125, 126, 127, 128, 129, 130, 131, 132, 133, 134, 135, 136, 137, 138, 139, 140, 141, 142, 143, 144, 145, 146, 147, 148, 149, 150, 151, 152, 153, 154, 155, 156, 157, 158]\n"
     ]
    }
   ],
   "source": [
    "print(list(mit.time_limited(0.00001, range(1000))))\n",
    "print(list(mit.time_limited(0.0001, range(10000))))"
   ]
  }
 ],
 "metadata": {
  "kernelspec": {
   "display_name": "just_for_test",
   "language": "python",
   "name": "python3"
  },
  "language_info": {
   "codemirror_mode": {
    "name": "ipython",
    "version": 3
   },
   "file_extension": ".py",
   "mimetype": "text/x-python",
   "name": "python",
   "nbconvert_exporter": "python",
   "pygments_lexer": "ipython3",
   "version": "3.10.9"
  },
  "orig_nbformat": 4
 },
 "nbformat": 4,
 "nbformat_minor": 2
}
